{
 "cells": [
  {
   "cell_type": "markdown",
   "metadata": {},
   "source": [
    "#### Cohort Analysis on Regional Manager Activity\n",
    "<br>\n",
    "Key steps in the analysis:\n",
    "<br>\n",
    "1. Check for and remove bad data\n",
    "<br>\n",
    "2. Check for lead duplication"
   ]
  },
  {
   "cell_type": "code",
   "execution_count": 2,
   "metadata": {},
   "outputs": [],
   "source": [
    "import numpy as np\n",
    "import pandas as pd\n",
    "from datetime import datetime\n",
    "import matplotlib.pyplot as plt"
   ]
  },
  {
   "cell_type": "markdown",
   "metadata": {},
   "source": [
    "## Ingest data"
   ]
  },
  {
   "cell_type": "code",
   "execution_count": 3,
   "metadata": {},
   "outputs": [
    {
     "name": "stdout",
     "output_type": "stream",
     "text": [
      "(6353, 6)\n"
     ]
    },
    {
     "data": {
      "text/html": [
       "<div>\n",
       "<style scoped>\n",
       "    .dataframe tbody tr th:only-of-type {\n",
       "        vertical-align: middle;\n",
       "    }\n",
       "\n",
       "    .dataframe tbody tr th {\n",
       "        vertical-align: top;\n",
       "    }\n",
       "\n",
       "    .dataframe thead th {\n",
       "        text-align: right;\n",
       "    }\n",
       "</style>\n",
       "<table border=\"1\" class=\"dataframe\">\n",
       "  <thead>\n",
       "    <tr style=\"text-align: right;\">\n",
       "      <th></th>\n",
       "      <th>Lead Creation Date</th>\n",
       "      <th>Lead ID</th>\n",
       "      <th>RVP Region</th>\n",
       "      <th>Regional Manager</th>\n",
       "      <th>Date Activity</th>\n",
       "      <th>Move-ins Booked</th>\n",
       "    </tr>\n",
       "  </thead>\n",
       "  <tbody>\n",
       "    <tr>\n",
       "      <th>0</th>\n",
       "      <td>2021-05-05</td>\n",
       "      <td>20320836</td>\n",
       "      <td>RVP1</td>\n",
       "      <td>RM1</td>\n",
       "      <td>2021-06-01</td>\n",
       "      <td>1</td>\n",
       "    </tr>\n",
       "    <tr>\n",
       "      <th>1</th>\n",
       "      <td>2021-05-06</td>\n",
       "      <td>17483490</td>\n",
       "      <td>RVP1</td>\n",
       "      <td>RM2</td>\n",
       "      <td>2021-06-01</td>\n",
       "      <td>1</td>\n",
       "    </tr>\n",
       "  </tbody>\n",
       "</table>\n",
       "</div>"
      ],
      "text/plain": [
       "  Lead Creation Date   Lead ID RVP Region Regional Manager Date Activity  \\\n",
       "0         2021-05-05  20320836       RVP1              RM1    2021-06-01   \n",
       "1         2021-05-06  17483490       RVP1              RM2    2021-06-01   \n",
       "\n",
       "   Move-ins Booked  \n",
       "0                1  \n",
       "1                1  "
      ]
     },
     "execution_count": 3,
     "metadata": {},
     "output_type": "execute_result"
    }
   ],
   "source": [
    "## ingest excel sheet\n",
    "orig = pd.read_excel('ap_test.xlsx')\n",
    "print(orig.shape)\n",
    "orig.head(2)"
   ]
  },
  {
   "cell_type": "markdown",
   "metadata": {},
   "source": [
    "## Data exploration"
   ]
  },
  {
   "cell_type": "code",
   "execution_count": 4,
   "metadata": {},
   "outputs": [
    {
     "name": "stdout",
     "output_type": "stream",
     "text": [
      "<class 'pandas.core.frame.DataFrame'>\n",
      "RangeIndex: 6353 entries, 0 to 6352\n",
      "Data columns (total 6 columns):\n",
      " #   Column              Non-Null Count  Dtype         \n",
      "---  ------              --------------  -----         \n",
      " 0   Lead Creation Date  6353 non-null   datetime64[ns]\n",
      " 1   Lead ID             6353 non-null   object        \n",
      " 2   RVP Region          6353 non-null   object        \n",
      " 3   Regional Manager    6353 non-null   object        \n",
      " 4   Date Activity       6353 non-null   datetime64[ns]\n",
      " 5   Move-ins Booked     6353 non-null   int64         \n",
      "dtypes: datetime64[ns](2), int64(1), object(3)\n",
      "memory usage: 297.9+ KB\n"
     ]
    }
   ],
   "source": [
    "## info() to check for missing data + confirm datetime format for date columns\n",
    "orig.info()"
   ]
  },
  {
   "cell_type": "code",
   "execution_count": 5,
   "metadata": {},
   "outputs": [
    {
     "data": {
      "text/plain": [
       "6343"
      ]
     },
     "execution_count": 5,
     "metadata": {},
     "output_type": "execute_result"
    }
   ],
   "source": [
    "## not all leads ids are unique\n",
    "orig['Lead ID'].nunique()"
   ]
  },
  {
   "cell_type": "code",
   "execution_count": 6,
   "metadata": {},
   "outputs": [
    {
     "name": "stdout",
     "output_type": "stream",
     "text": [
      "6\n"
     ]
    },
    {
     "data": {
      "text/plain": [
       "RVP4    1741\n",
       "RVP1    1719\n",
       "RVP2    1460\n",
       "RVP6     710\n",
       "RVP5     637\n",
       "RVP3      86\n",
       "Name: RVP Region, dtype: int64"
      ]
     },
     "execution_count": 6,
     "metadata": {},
     "output_type": "execute_result"
    }
   ],
   "source": [
    "## explore data distribution of RVP Region\n",
    "print(orig['RVP Region'].nunique())\n",
    "orig['RVP Region'].value_counts()"
   ]
  },
  {
   "cell_type": "code",
   "execution_count": 7,
   "metadata": {},
   "outputs": [
    {
     "data": {
      "image/png": "[encoded data removed]",
      "text/plain": [
       "<Figure size 432x288 with 1 Axes>"
      ]
     },
     "metadata": {},
     "output_type": "display_data"
    }
   ],
   "source": [
    "## visualise data distribution of RVP Region\n",
    "fig1, ax1 = plt.subplots()\n",
    "ax1.pie(\n",
    "    x = orig['RVP Region'].value_counts().values,\n",
    "    labels = orig['RVP Region'].value_counts().index,\n",
    "    autopct='%1.1f%%',\n",
    "    counterclock=False,\n",
    "    startangle=90)\n",
    "\n",
    "plt.show()"
   ]
  },
  {
   "cell_type": "code",
   "execution_count": 8,
   "metadata": {},
   "outputs": [
    {
     "data": {
      "text/plain": [
       "RVP Region  Regional Manager\n",
       "RVP1        RM1                 425\n",
       "            RM2                 420\n",
       "            RM3                 313\n",
       "            RM4                 561\n",
       "RVP2        RM5                 503\n",
       "            RM6                 472\n",
       "            RM7                 485\n",
       "RVP3        RM8                  86\n",
       "RVP4        RM10                306\n",
       "            RM11                443\n",
       "            RM12                579\n",
       "            RM9                 413\n",
       "RVP5        RM13                217\n",
       "            RM14                326\n",
       "            RM17                 94\n",
       "RVP6        RM15                311\n",
       "            RM16                399\n",
       "Name: Regional Manager, dtype: int64"
      ]
     },
     "execution_count": 8,
     "metadata": {},
     "output_type": "execute_result"
    }
   ],
   "source": [
    "## double check if regional managers have activity over multiple regions; confirmed No\n",
    "orig.groupby(['RVP Region', 'Regional Manager'])['Regional Manager'].count()"
   ]
  },
  {
   "cell_type": "code",
   "execution_count": 9,
   "metadata": {},
   "outputs": [
    {
     "name": "stdout",
     "output_type": "stream",
     "text": [
      "Lead create date range between 2021-04-02 and 2021-05-11.\n",
      "Activity date range between 2021-06-01 and 2021-07-19.\n"
     ]
    }
   ],
   "source": [
    "## explore date ranges\n",
    "l_min = orig['Lead Creation Date'].min().date()\n",
    "l_max = orig['Lead Creation Date'].max().date()\n",
    "d_min = orig['Date Activity'].min().date()\n",
    "d_max = orig['Date Activity'].max().date()\n",
    "\n",
    "print(f\"Lead create date range between {l_min} and {l_max}.\")\n",
    "print(f\"Activity date range between {d_min} and {d_max}.\")"
   ]
  },
  {
   "cell_type": "code",
   "execution_count": 10,
   "metadata": {},
   "outputs": [
    {
     "data": {
      "text/plain": [
       "1    6350\n",
       "2       2\n",
       "3       1\n",
       "Name: Move-ins Booked, dtype: int64"
      ]
     },
     "execution_count": 10,
     "metadata": {},
     "output_type": "execute_result"
    }
   ],
   "source": [
    "## very few move-ins booked exceed 1\n",
    "orig['Move-ins Booked'].value_counts()"
   ]
  },
  {
   "cell_type": "code",
   "execution_count": 11,
   "metadata": {},
   "outputs": [
    {
     "data": {
      "text/html": [
       "<div>\n",
       "<style scoped>\n",
       "    .dataframe tbody tr th:only-of-type {\n",
       "        vertical-align: middle;\n",
       "    }\n",
       "\n",
       "    .dataframe tbody tr th {\n",
       "        vertical-align: top;\n",
       "    }\n",
       "\n",
       "    .dataframe thead th {\n",
       "        text-align: right;\n",
       "    }\n",
       "</style>\n",
       "<table border=\"1\" class=\"dataframe\">\n",
       "  <thead>\n",
       "    <tr style=\"text-align: right;\">\n",
       "      <th></th>\n",
       "      <th>Lead Creation Date</th>\n",
       "      <th>Lead ID</th>\n",
       "      <th>RVP Region</th>\n",
       "      <th>Regional Manager</th>\n",
       "      <th>Date Activity</th>\n",
       "      <th>Move-ins Booked</th>\n",
       "    </tr>\n",
       "  </thead>\n",
       "  <tbody>\n",
       "    <tr>\n",
       "      <th>1045</th>\n",
       "      <td>2021-04-09</td>\n",
       "      <td>No Value</td>\n",
       "      <td>RVP3</td>\n",
       "      <td>RM8</td>\n",
       "      <td>2021-06-11</td>\n",
       "      <td>2</td>\n",
       "    </tr>\n",
       "    <tr>\n",
       "      <th>2802</th>\n",
       "      <td>2021-04-05</td>\n",
       "      <td>No Value</td>\n",
       "      <td>RVP3</td>\n",
       "      <td>RM8</td>\n",
       "      <td>2021-06-25</td>\n",
       "      <td>2</td>\n",
       "    </tr>\n",
       "    <tr>\n",
       "      <th>4056</th>\n",
       "      <td>2021-04-08</td>\n",
       "      <td>No Value</td>\n",
       "      <td>RVP3</td>\n",
       "      <td>RM8</td>\n",
       "      <td>2021-06-30</td>\n",
       "      <td>3</td>\n",
       "    </tr>\n",
       "  </tbody>\n",
       "</table>\n",
       "</div>"
      ],
      "text/plain": [
       "     Lead Creation Date   Lead ID RVP Region Regional Manager Date Activity  \\\n",
       "1045         2021-04-09  No Value       RVP3              RM8    2021-06-11   \n",
       "2802         2021-04-05  No Value       RVP3              RM8    2021-06-25   \n",
       "4056         2021-04-08  No Value       RVP3              RM8    2021-06-30   \n",
       "\n",
       "      Move-ins Booked  \n",
       "1045                2  \n",
       "2802                2  \n",
       "4056                3  "
      ]
     },
     "execution_count": 11,
     "metadata": {},
     "output_type": "execute_result"
    }
   ],
   "source": [
    "## examine entries with move-ins books > 1\n",
    "## see that these only apply to managers RM8, and have no lead id\n",
    "orig[orig['Move-ins Booked'] != 1]"
   ]
  },
  {
   "cell_type": "code",
   "execution_count": 12,
   "metadata": {},
   "outputs": [
    {
     "data": {
      "text/html": [
       "<div>\n",
       "<style scoped>\n",
       "    .dataframe tbody tr th:only-of-type {\n",
       "        vertical-align: middle;\n",
       "    }\n",
       "\n",
       "    .dataframe tbody tr th {\n",
       "        vertical-align: top;\n",
       "    }\n",
       "\n",
       "    .dataframe thead th {\n",
       "        text-align: right;\n",
       "    }\n",
       "</style>\n",
       "<table border=\"1\" class=\"dataframe\">\n",
       "  <thead>\n",
       "    <tr style=\"text-align: right;\">\n",
       "      <th></th>\n",
       "      <th>Lead Creation Date</th>\n",
       "      <th>Lead ID</th>\n",
       "      <th>RVP Region</th>\n",
       "      <th>Regional Manager</th>\n",
       "      <th>Date Activity</th>\n",
       "      <th>Move-ins Booked</th>\n",
       "      <th>lead_id_checker</th>\n",
       "    </tr>\n",
       "  </thead>\n",
       "  <tbody>\n",
       "    <tr>\n",
       "      <th>48</th>\n",
       "      <td>2021-05-07</td>\n",
       "      <td>No Value</td>\n",
       "      <td>RVP3</td>\n",
       "      <td>RM8</td>\n",
       "      <td>2021-06-01</td>\n",
       "      <td>1</td>\n",
       "      <td>NaN</td>\n",
       "    </tr>\n",
       "    <tr>\n",
       "      <th>777</th>\n",
       "      <td>2021-05-04</td>\n",
       "      <td>No Value</td>\n",
       "      <td>RVP3</td>\n",
       "      <td>RM8</td>\n",
       "      <td>2021-06-09</td>\n",
       "      <td>1</td>\n",
       "      <td>NaN</td>\n",
       "    </tr>\n",
       "    <tr>\n",
       "      <th>917</th>\n",
       "      <td>2021-04-21</td>\n",
       "      <td>No Value</td>\n",
       "      <td>RVP3</td>\n",
       "      <td>RM8</td>\n",
       "      <td>2021-06-10</td>\n",
       "      <td>1</td>\n",
       "      <td>NaN</td>\n",
       "    </tr>\n",
       "    <tr>\n",
       "      <th>1045</th>\n",
       "      <td>2021-04-09</td>\n",
       "      <td>No Value</td>\n",
       "      <td>RVP3</td>\n",
       "      <td>RM8</td>\n",
       "      <td>2021-06-11</td>\n",
       "      <td>2</td>\n",
       "      <td>NaN</td>\n",
       "    </tr>\n",
       "    <tr>\n",
       "      <th>1732</th>\n",
       "      <td>2021-04-02</td>\n",
       "      <td>No Value</td>\n",
       "      <td>RVP3</td>\n",
       "      <td>RM8</td>\n",
       "      <td>2021-06-17</td>\n",
       "      <td>1</td>\n",
       "      <td>NaN</td>\n",
       "    </tr>\n",
       "    <tr>\n",
       "      <th>2111</th>\n",
       "      <td>2021-04-12</td>\n",
       "      <td>No Value</td>\n",
       "      <td>RVP3</td>\n",
       "      <td>RM8</td>\n",
       "      <td>2021-06-21</td>\n",
       "      <td>1</td>\n",
       "      <td>NaN</td>\n",
       "    </tr>\n",
       "    <tr>\n",
       "      <th>2592</th>\n",
       "      <td>2021-05-05</td>\n",
       "      <td>No Value</td>\n",
       "      <td>RVP3</td>\n",
       "      <td>RM8</td>\n",
       "      <td>2021-06-24</td>\n",
       "      <td>1</td>\n",
       "      <td>NaN</td>\n",
       "    </tr>\n",
       "    <tr>\n",
       "      <th>2802</th>\n",
       "      <td>2021-04-05</td>\n",
       "      <td>No Value</td>\n",
       "      <td>RVP3</td>\n",
       "      <td>RM8</td>\n",
       "      <td>2021-06-25</td>\n",
       "      <td>2</td>\n",
       "      <td>NaN</td>\n",
       "    </tr>\n",
       "    <tr>\n",
       "      <th>3387</th>\n",
       "      <td>2021-04-10</td>\n",
       "      <td>No Value</td>\n",
       "      <td>RVP3</td>\n",
       "      <td>RM8</td>\n",
       "      <td>2021-06-29</td>\n",
       "      <td>1</td>\n",
       "      <td>NaN</td>\n",
       "    </tr>\n",
       "    <tr>\n",
       "      <th>4056</th>\n",
       "      <td>2021-04-08</td>\n",
       "      <td>No Value</td>\n",
       "      <td>RVP3</td>\n",
       "      <td>RM8</td>\n",
       "      <td>2021-06-30</td>\n",
       "      <td>3</td>\n",
       "      <td>NaN</td>\n",
       "    </tr>\n",
       "    <tr>\n",
       "      <th>5763</th>\n",
       "      <td>2021-04-21</td>\n",
       "      <td>No Value</td>\n",
       "      <td>RVP3</td>\n",
       "      <td>RM8</td>\n",
       "      <td>2021-07-14</td>\n",
       "      <td>1</td>\n",
       "      <td>NaN</td>\n",
       "    </tr>\n",
       "  </tbody>\n",
       "</table>\n",
       "</div>"
      ],
      "text/plain": [
       "     Lead Creation Date   Lead ID RVP Region Regional Manager Date Activity  \\\n",
       "48           2021-05-07  No Value       RVP3              RM8    2021-06-01   \n",
       "777          2021-05-04  No Value       RVP3              RM8    2021-06-09   \n",
       "917          2021-04-21  No Value       RVP3              RM8    2021-06-10   \n",
       "1045         2021-04-09  No Value       RVP3              RM8    2021-06-11   \n",
       "1732         2021-04-02  No Value       RVP3              RM8    2021-06-17   \n",
       "2111         2021-04-12  No Value       RVP3              RM8    2021-06-21   \n",
       "2592         2021-05-05  No Value       RVP3              RM8    2021-06-24   \n",
       "2802         2021-04-05  No Value       RVP3              RM8    2021-06-25   \n",
       "3387         2021-04-10  No Value       RVP3              RM8    2021-06-29   \n",
       "4056         2021-04-08  No Value       RVP3              RM8    2021-06-30   \n",
       "5763         2021-04-21  No Value       RVP3              RM8    2021-07-14   \n",
       "\n",
       "      Move-ins Booked  lead_id_checker  \n",
       "48                  1              NaN  \n",
       "777                 1              NaN  \n",
       "917                 1              NaN  \n",
       "1045                2              NaN  \n",
       "1732                1              NaN  \n",
       "2111                1              NaN  \n",
       "2592                1              NaN  \n",
       "2802                2              NaN  \n",
       "3387                1              NaN  \n",
       "4056                3              NaN  \n",
       "5763                1              NaN  "
      ]
     },
     "execution_count": 12,
     "metadata": {},
     "output_type": "execute_result"
    }
   ],
   "source": [
    "## check which lead ids aren't in numeric format; a good indicator for potential bad data\n",
    "## see that 11 entries have no value\n",
    "orig['lead_id_checker'] = pd.to_numeric(orig['Lead ID'], errors='coerce')\n",
    "\n",
    "orig[orig['lead_id_checker'].isna()]"
   ]
  },
  {
   "cell_type": "markdown",
   "metadata": {},
   "source": [
    "#### Logic for dealing with bad data:\n",
    "<br>\n",
    "In a real scenario, I would examine valid reasons for lead ids having no value, potential reason may include system lag, i.e. a lead is valid, but the id is generated at a later time after a certain system event happens.\n",
    "\n",
    "If the lag assumption is incorrect, I would review these cases with manager RM8 to identify if this was a data entry error, and correct these entries if possible.\n",
    "\n",
    "In this simulated scenario, I will remove these entries with no lead ids as bad data. As an added bonus this also removes the entries with move-ins books > 1, which is likely also bad data."
   ]
  },
  {
   "cell_type": "code",
   "execution_count": 13,
   "metadata": {},
   "outputs": [
    {
     "name": "stdout",
     "output_type": "stream",
     "text": [
      "(6342, 7)\n",
      "6342\n"
     ]
    }
   ],
   "source": [
    "## drop rows where lead ids have no value\n",
    "## recheck that lead id column now only have unique ids\n",
    "orig = orig[orig['lead_id_checker'].notna()]\n",
    "\n",
    "print(orig.shape)\n",
    "print(orig['Lead ID'].nunique())"
   ]
  },
  {
   "cell_type": "code",
   "execution_count": 14,
   "metadata": {},
   "outputs": [
    {
     "data": {
      "text/html": [
       "<div>\n",
       "<style scoped>\n",
       "    .dataframe tbody tr th:only-of-type {\n",
       "        vertical-align: middle;\n",
       "    }\n",
       "\n",
       "    .dataframe tbody tr th {\n",
       "        vertical-align: top;\n",
       "    }\n",
       "\n",
       "    .dataframe thead th {\n",
       "        text-align: right;\n",
       "    }\n",
       "</style>\n",
       "<table border=\"1\" class=\"dataframe\">\n",
       "  <thead>\n",
       "    <tr style=\"text-align: right;\">\n",
       "      <th></th>\n",
       "      <th>Lead Creation Date</th>\n",
       "      <th>Lead ID</th>\n",
       "      <th>RVP Region</th>\n",
       "      <th>Regional Manager</th>\n",
       "      <th>Date Activity</th>\n",
       "      <th>Move-ins Booked</th>\n",
       "    </tr>\n",
       "  </thead>\n",
       "  <tbody>\n",
       "    <tr>\n",
       "      <th>0</th>\n",
       "      <td>2021-05-05</td>\n",
       "      <td>20320836</td>\n",
       "      <td>RVP1</td>\n",
       "      <td>RM1</td>\n",
       "      <td>2021-06-01</td>\n",
       "      <td>1</td>\n",
       "    </tr>\n",
       "    <tr>\n",
       "      <th>1</th>\n",
       "      <td>2021-05-06</td>\n",
       "      <td>17483490</td>\n",
       "      <td>RVP1</td>\n",
       "      <td>RM2</td>\n",
       "      <td>2021-06-01</td>\n",
       "      <td>1</td>\n",
       "    </tr>\n",
       "  </tbody>\n",
       "</table>\n",
       "</div>"
      ],
      "text/plain": [
       "  Lead Creation Date   Lead ID RVP Region Regional Manager Date Activity  \\\n",
       "0         2021-05-05  20320836       RVP1              RM1    2021-06-01   \n",
       "1         2021-05-06  17483490       RVP1              RM2    2021-06-01   \n",
       "\n",
       "   Move-ins Booked  \n",
       "0                1  \n",
       "1                1  "
      ]
     },
     "execution_count": 14,
     "metadata": {},
     "output_type": "execute_result"
    }
   ],
   "source": [
    "## drop column lead_id_checker as it is no longer needed\n",
    "orig.drop(columns=['lead_id_checker'], inplace=True)\n",
    "orig.head(2)"
   ]
  },
  {
   "cell_type": "code",
   "execution_count": 15,
   "metadata": {},
   "outputs": [
    {
     "name": "stdout",
     "output_type": "stream",
     "text": [
      "(1118, 6)\n"
     ]
    },
    {
     "data": {
      "text/html": [
       "<div>\n",
       "<style scoped>\n",
       "    .dataframe tbody tr th:only-of-type {\n",
       "        vertical-align: middle;\n",
       "    }\n",
       "\n",
       "    .dataframe tbody tr th {\n",
       "        vertical-align: top;\n",
       "    }\n",
       "\n",
       "    .dataframe thead th {\n",
       "        text-align: right;\n",
       "    }\n",
       "</style>\n",
       "<table border=\"1\" class=\"dataframe\">\n",
       "  <thead>\n",
       "    <tr style=\"text-align: right;\">\n",
       "      <th></th>\n",
       "      <th>Lead Creation Date</th>\n",
       "      <th>Lead ID</th>\n",
       "      <th>RVP Region</th>\n",
       "      <th>Regional Manager</th>\n",
       "      <th>Date Activity</th>\n",
       "      <th>Move-ins Booked</th>\n",
       "    </tr>\n",
       "  </thead>\n",
       "  <tbody>\n",
       "    <tr>\n",
       "      <th>22</th>\n",
       "      <td>2021-04-03</td>\n",
       "      <td>20342438</td>\n",
       "      <td>RVP1</td>\n",
       "      <td>RM4</td>\n",
       "      <td>2021-06-01</td>\n",
       "      <td>1</td>\n",
       "    </tr>\n",
       "    <tr>\n",
       "      <th>43</th>\n",
       "      <td>2021-05-10</td>\n",
       "      <td>20411887</td>\n",
       "      <td>RVP2</td>\n",
       "      <td>RM7</td>\n",
       "      <td>2021-06-01</td>\n",
       "      <td>1</td>\n",
       "    </tr>\n",
       "  </tbody>\n",
       "</table>\n",
       "</div>"
      ],
      "text/plain": [
       "   Lead Creation Date   Lead ID RVP Region Regional Manager Date Activity  \\\n",
       "22         2021-04-03  20342438       RVP1              RM4    2021-06-01   \n",
       "43         2021-05-10  20411887       RVP2              RM7    2021-06-01   \n",
       "\n",
       "    Move-ins Booked  \n",
       "22                1  \n",
       "43                1  "
      ]
     },
     "execution_count": 15,
     "metadata": {},
     "output_type": "execute_result"
    }
   ],
   "source": [
    "## explore the nature of duplication in the data\n",
    "## duplication is very common\n",
    "## a manager can have multiple leads that are created and booked on the same days\n",
    "check_col = ['Lead Creation Date', 'RVP Region', 'Regional Manager', 'Date Activity']\n",
    "print(orig[orig.duplicated(subset=check_col)].shape)\n",
    "orig[orig.duplicated(subset=check_col)].head(2)"
   ]
  },
  {
   "cell_type": "code",
   "execution_count": 16,
   "metadata": {},
   "outputs": [
    {
     "data": {
      "text/html": [
       "<div>\n",
       "<style scoped>\n",
       "    .dataframe tbody tr th:only-of-type {\n",
       "        vertical-align: middle;\n",
       "    }\n",
       "\n",
       "    .dataframe tbody tr th {\n",
       "        vertical-align: top;\n",
       "    }\n",
       "\n",
       "    .dataframe thead th {\n",
       "        text-align: right;\n",
       "    }\n",
       "</style>\n",
       "<table border=\"1\" class=\"dataframe\">\n",
       "  <thead>\n",
       "    <tr style=\"text-align: right;\">\n",
       "      <th></th>\n",
       "      <th>Lead Creation Date</th>\n",
       "      <th>Lead ID</th>\n",
       "      <th>RVP Region</th>\n",
       "      <th>Regional Manager</th>\n",
       "      <th>Date Activity</th>\n",
       "      <th>Move-ins Booked</th>\n",
       "    </tr>\n",
       "  </thead>\n",
       "  <tbody>\n",
       "    <tr>\n",
       "      <th>20</th>\n",
       "      <td>2021-04-03</td>\n",
       "      <td>20279350</td>\n",
       "      <td>RVP1</td>\n",
       "      <td>RM4</td>\n",
       "      <td>2021-06-01</td>\n",
       "      <td>1</td>\n",
       "    </tr>\n",
       "    <tr>\n",
       "      <th>22</th>\n",
       "      <td>2021-04-03</td>\n",
       "      <td>20342438</td>\n",
       "      <td>RVP1</td>\n",
       "      <td>RM4</td>\n",
       "      <td>2021-06-01</td>\n",
       "      <td>1</td>\n",
       "    </tr>\n",
       "  </tbody>\n",
       "</table>\n",
       "</div>"
      ],
      "text/plain": [
       "   Lead Creation Date   Lead ID RVP Region Regional Manager Date Activity  \\\n",
       "20         2021-04-03  20279350       RVP1              RM4    2021-06-01   \n",
       "22         2021-04-03  20342438       RVP1              RM4    2021-06-01   \n",
       "\n",
       "    Move-ins Booked  \n",
       "20                1  \n",
       "22                1  "
      ]
     },
     "execution_count": 16,
     "metadata": {},
     "output_type": "execute_result"
    }
   ],
   "source": [
    "## visualising a duplicated entry to verify the duplication check is working correctly\n",
    "orig[\n",
    "    (orig['Lead Creation Date'] == datetime(2021, 4, 3)) &\n",
    "    (orig['RVP Region'] == 'RVP1') &\n",
    "    (orig['Regional Manager'] == 'RM4') &\n",
    "    (orig['Date Activity'] == datetime(2021, 6, 1))\n",
    "]"
   ]
  },
  {
   "cell_type": "markdown",
   "metadata": {},
   "source": [
    "#### Logic for dealing with duplicated entries:\n",
    "<br>\n",
    "In a real scenario where there is more lead-specific info, I would use the additional info to look for actual duplication. It is not uncommon for sales people to sometime artificially inflate numbers using duplication.\n",
    "\n",
    "However in this simulated scenario with limited lead-specific info, the duplicated entries seem legit, as a manager can juggle multiple leads, with these leads being created and booked on the same days. Doing this duplication check also provides better intuition for the data scientist on the volumn of activity of a manager."
   ]
  },
  {
   "cell_type": "markdown",
   "metadata": {},
   "source": [
    "## Cohort Analysis"
   ]
  },
  {
   "cell_type": "code",
   "execution_count": null,
   "metadata": {},
   "outputs": [],
   "source": []
  },
  {
   "cell_type": "code",
   "execution_count": null,
   "metadata": {},
   "outputs": [],
   "source": []
  },
  {
   "cell_type": "code",
   "execution_count": null,
   "metadata": {},
   "outputs": [],
   "source": []
  },
  {
   "cell_type": "code",
   "execution_count": 17,
   "metadata": {},
   "outputs": [
    {
     "data": {
      "text/plain": [
       "Index(['Lead Creation Date', 'Lead ID', 'RVP Region', 'Regional Manager',\n",
       "       'Date Activity', 'Move-ins Booked'],\n",
       "      dtype='object')"
      ]
     },
     "execution_count": 17,
     "metadata": {},
     "output_type": "execute_result"
    }
   ],
   "source": [
    "orig.columns"
   ]
  },
  {
   "cell_type": "code",
   "execution_count": 18,
   "metadata": {},
   "outputs": [
    {
     "data": {
      "text/html": [
       "<div>\n",
       "<style scoped>\n",
       "    .dataframe tbody tr th:only-of-type {\n",
       "        vertical-align: middle;\n",
       "    }\n",
       "\n",
       "    .dataframe tbody tr th {\n",
       "        vertical-align: top;\n",
       "    }\n",
       "\n",
       "    .dataframe thead th {\n",
       "        text-align: right;\n",
       "    }\n",
       "</style>\n",
       "<table border=\"1\" class=\"dataframe\">\n",
       "  <thead>\n",
       "    <tr style=\"text-align: right;\">\n",
       "      <th></th>\n",
       "      <th>Lead Creation Date</th>\n",
       "      <th>Lead ID</th>\n",
       "      <th>RVP Region</th>\n",
       "      <th>Regional Manager</th>\n",
       "      <th>Date Activity</th>\n",
       "      <th>Move-ins Booked</th>\n",
       "    </tr>\n",
       "  </thead>\n",
       "  <tbody>\n",
       "    <tr>\n",
       "      <th>0</th>\n",
       "      <td>2021-05-05</td>\n",
       "      <td>20320836</td>\n",
       "      <td>RVP1</td>\n",
       "      <td>RM1</td>\n",
       "      <td>2021-06-01</td>\n",
       "      <td>1</td>\n",
       "    </tr>\n",
       "    <tr>\n",
       "      <th>1</th>\n",
       "      <td>2021-05-06</td>\n",
       "      <td>17483490</td>\n",
       "      <td>RVP1</td>\n",
       "      <td>RM2</td>\n",
       "      <td>2021-06-01</td>\n",
       "      <td>1</td>\n",
       "    </tr>\n",
       "    <tr>\n",
       "      <th>2</th>\n",
       "      <td>2021-04-11</td>\n",
       "      <td>18715633</td>\n",
       "      <td>RVP1</td>\n",
       "      <td>RM2</td>\n",
       "      <td>2021-06-01</td>\n",
       "      <td>1</td>\n",
       "    </tr>\n",
       "    <tr>\n",
       "      <th>3</th>\n",
       "      <td>2021-04-15</td>\n",
       "      <td>20180732</td>\n",
       "      <td>RVP1</td>\n",
       "      <td>RM2</td>\n",
       "      <td>2021-06-01</td>\n",
       "      <td>1</td>\n",
       "    </tr>\n",
       "    <tr>\n",
       "      <th>4</th>\n",
       "      <td>2021-04-17</td>\n",
       "      <td>20182098</td>\n",
       "      <td>RVP1</td>\n",
       "      <td>RM2</td>\n",
       "      <td>2021-06-01</td>\n",
       "      <td>1</td>\n",
       "    </tr>\n",
       "  </tbody>\n",
       "</table>\n",
       "</div>"
      ],
      "text/plain": [
       "  Lead Creation Date   Lead ID RVP Region Regional Manager Date Activity  \\\n",
       "0         2021-05-05  20320836       RVP1              RM1    2021-06-01   \n",
       "1         2021-05-06  17483490       RVP1              RM2    2021-06-01   \n",
       "2         2021-04-11  18715633       RVP1              RM2    2021-06-01   \n",
       "3         2021-04-15  20180732       RVP1              RM2    2021-06-01   \n",
       "4         2021-04-17  20182098       RVP1              RM2    2021-06-01   \n",
       "\n",
       "   Move-ins Booked  \n",
       "0                1  \n",
       "1                1  \n",
       "2                1  \n",
       "3                1  \n",
       "4                1  "
      ]
     },
     "execution_count": 18,
     "metadata": {},
     "output_type": "execute_result"
    }
   ],
   "source": [
    "orig.head()"
   ]
  },
  {
   "cell_type": "code",
   "execution_count": null,
   "metadata": {},
   "outputs": [],
   "source": []
  }
 ],
 "metadata": {
  "kernelspec": {
   "display_name": "Python 3",
   "language": "python",
   "name": "python3"
  },
  "language_info": {
   "codemirror_mode": {
    "name": "ipython",
    "version": 3
   },
   "file_extension": ".py",
   "mimetype": "text/x-python",
   "name": "python",
   "nbconvert_exporter": "python",
   "pygments_lexer": "ipython3",
   "version": "3.7.3"
  }
 },
 "nbformat": 4,
 "nbformat_minor": 2
}
