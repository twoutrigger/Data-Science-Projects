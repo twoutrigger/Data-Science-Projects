{
 "cells": [
  {
   "cell_type": "markdown",
   "metadata": {},
   "source": [
    "#### Cohort Analysis on Regional Manager Activity\n",
    "<br>\n",
    "Key steps in the analysis:\n",
    "<br>\n",
    "1. Check for and remove bad data\n",
    "<br>\n",
    "2. Check for lead duplication\n",
    "<br>\n",
    "3. Perform cohort analysis"
   ]
  },
  {
   "cell_type": "code",
   "execution_count": 1,
   "metadata": {},
   "outputs": [],
   "source": [
    "import numpy as np\n",
    "import pandas as pd\n",
    "from datetime import datetime\n",
    "import matplotlib.pyplot as plt\n",
    "import seaborn as sns"
   ]
  },
  {
   "cell_type": "markdown",
   "metadata": {},
   "source": [
    "## Ingest data"
   ]
  },
  {
   "cell_type": "code",
   "execution_count": 2,
   "metadata": {},
   "outputs": [
    {
     "name": "stdout",
     "output_type": "stream",
     "text": [
      "(6353, 6)\n"
     ]
    },
    {
     "data": {
      "text/html": [
       "<div>\n",
       "<style scoped>\n",
       "    .dataframe tbody tr th:only-of-type {\n",
       "        vertical-align: middle;\n",
       "    }\n",
       "\n",
       "    .dataframe tbody tr th {\n",
       "        vertical-align: top;\n",
       "    }\n",
       "\n",
       "    .dataframe thead th {\n",
       "        text-align: right;\n",
       "    }\n",
       "</style>\n",
       "<table border=\"1\" class=\"dataframe\">\n",
       "  <thead>\n",
       "    <tr style=\"text-align: right;\">\n",
       "      <th></th>\n",
       "      <th>Lead Creation Date</th>\n",
       "      <th>Lead ID</th>\n",
       "      <th>RVP Region</th>\n",
       "      <th>Regional Manager</th>\n",
       "      <th>Date Activity</th>\n",
       "      <th>Move-ins Booked</th>\n",
       "    </tr>\n",
       "  </thead>\n",
       "  <tbody>\n",
       "    <tr>\n",
       "      <th>0</th>\n",
       "      <td>2021-05-05</td>\n",
       "      <td>20320836</td>\n",
       "      <td>RVP1</td>\n",
       "      <td>RM1</td>\n",
       "      <td>2021-06-01</td>\n",
       "      <td>1</td>\n",
       "    </tr>\n",
       "    <tr>\n",
       "      <th>1</th>\n",
       "      <td>2021-05-06</td>\n",
       "      <td>17483490</td>\n",
       "      <td>RVP1</td>\n",
       "      <td>RM2</td>\n",
       "      <td>2021-06-01</td>\n",
       "      <td>1</td>\n",
       "    </tr>\n",
       "  </tbody>\n",
       "</table>\n",
       "</div>"
      ],
      "text/plain": [
       "  Lead Creation Date   Lead ID RVP Region Regional Manager Date Activity  \\\n",
       "0         2021-05-05  20320836       RVP1              RM1    2021-06-01   \n",
       "1         2021-05-06  17483490       RVP1              RM2    2021-06-01   \n",
       "\n",
       "   Move-ins Booked  \n",
       "0                1  \n",
       "1                1  "
      ]
     },
     "execution_count": 2,
     "metadata": {},
     "output_type": "execute_result"
    }
   ],
   "source": [
    "## ingest excel sheet\n",
    "orig = pd.read_excel('ap_test.xlsx')\n",
    "print(orig.shape)\n",
    "orig.head(2)"
   ]
  },
  {
   "cell_type": "markdown",
   "metadata": {},
   "source": [
    "## Data exploration"
   ]
  },
  {
   "cell_type": "code",
   "execution_count": 3,
   "metadata": {},
   "outputs": [
    {
     "name": "stdout",
     "output_type": "stream",
     "text": [
      "<class 'pandas.core.frame.DataFrame'>\n",
      "RangeIndex: 6353 entries, 0 to 6352\n",
      "Data columns (total 6 columns):\n",
      " #   Column              Non-Null Count  Dtype         \n",
      "---  ------              --------------  -----         \n",
      " 0   Lead Creation Date  6353 non-null   datetime64[ns]\n",
      " 1   Lead ID             6353 non-null   object        \n",
      " 2   RVP Region          6353 non-null   object        \n",
      " 3   Regional Manager    6353 non-null   object        \n",
      " 4   Date Activity       6353 non-null   datetime64[ns]\n",
      " 5   Move-ins Booked     6353 non-null   int64         \n",
      "dtypes: datetime64[ns](2), int64(1), object(3)\n",
      "memory usage: 297.9+ KB\n"
     ]
    }
   ],
   "source": [
    "## info() to check for missing data + confirm datetime format for date columns\n",
    "orig.info()"
   ]
  },
  {
   "cell_type": "code",
   "execution_count": 4,
   "metadata": {},
   "outputs": [
    {
     "data": {
      "text/plain": [
       "6343"
      ]
     },
     "execution_count": 4,
     "metadata": {},
     "output_type": "execute_result"
    }
   ],
   "source": [
    "## not all leads ids are unique\n",
    "orig['Lead ID'].nunique()"
   ]
  },
  {
   "cell_type": "code",
   "execution_count": 5,
   "metadata": {},
   "outputs": [
    {
     "name": "stdout",
     "output_type": "stream",
     "text": [
      "6\n"
     ]
    },
    {
     "data": {
      "text/plain": [
       "RVP4    1741\n",
       "RVP1    1719\n",
       "RVP2    1460\n",
       "RVP6     710\n",
       "RVP5     637\n",
       "RVP3      86\n",
       "Name: RVP Region, dtype: int64"
      ]
     },
     "execution_count": 5,
     "metadata": {},
     "output_type": "execute_result"
    }
   ],
   "source": [
    "## explore data distribution of RVP Region\n",
    "print(orig['RVP Region'].nunique())\n",
    "orig['RVP Region'].value_counts()"
   ]
  },
  {
   "cell_type": "code",
   "execution_count": 6,
   "metadata": {},
   "outputs": [
    {
     "data": {
      "image/png": "[encoded data removed]",
      "text/plain": [
       "<Figure size 432x288 with 1 Axes>"
      ]
     },
     "metadata": {},
     "output_type": "display_data"
    }
   ],
   "source": [
    "## visualise data distribution of RVP Region\n",
    "fig1, ax1 = plt.subplots()\n",
    "ax1.pie(\n",
    "    x = orig['RVP Region'].value_counts().values,\n",
    "    labels = orig['RVP Region'].value_counts().index,\n",
    "    autopct='%1.1f%%',\n",
    "    counterclock=False,\n",
    "    startangle=90)\n",
    "\n",
    "plt.show()"
   ]
  },
  {
   "cell_type": "code",
   "execution_count": 7,
   "metadata": {},
   "outputs": [
    {
     "data": {
      "text/plain": [
       "RVP Region  Regional Manager\n",
       "RVP1        RM1                 425\n",
       "            RM2                 420\n",
       "            RM3                 313\n",
       "            RM4                 561\n",
       "RVP2        RM5                 503\n",
       "            RM6                 472\n",
       "            RM7                 485\n",
       "RVP3        RM8                  86\n",
       "RVP4        RM10                306\n",
       "            RM11                443\n",
       "            RM12                579\n",
       "            RM9                 413\n",
       "RVP5        RM13                217\n",
       "            RM14                326\n",
       "            RM17                 94\n",
       "RVP6        RM15                311\n",
       "            RM16                399\n",
       "Name: Regional Manager, dtype: int64"
      ]
     },
     "execution_count": 7,
     "metadata": {},
     "output_type": "execute_result"
    }
   ],
   "source": [
    "## double check if regional managers have activity over multiple regions; confirmed No\n",
    "orig.groupby(['RVP Region', 'Regional Manager'])['Regional Manager'].count()"
   ]
  },
  {
   "cell_type": "code",
   "execution_count": 8,
   "metadata": {},
   "outputs": [
    {
     "name": "stdout",
     "output_type": "stream",
     "text": [
      "Lead create date range between 2021-04-02 and 2021-05-11.\n",
      "Activity date range between 2021-06-01 and 2021-07-19.\n"
     ]
    }
   ],
   "source": [
    "## explore date ranges\n",
    "l_min = orig['Lead Creation Date'].min().date()\n",
    "l_max = orig['Lead Creation Date'].max().date()\n",
    "d_min = orig['Date Activity'].min().date()\n",
    "d_max = orig['Date Activity'].max().date()\n",
    "\n",
    "print(f\"Lead create date range between {l_min} and {l_max}.\")\n",
    "print(f\"Activity date range between {d_min} and {d_max}.\")"
   ]
  },
  {
   "cell_type": "code",
   "execution_count": 9,
   "metadata": {},
   "outputs": [
    {
     "data": {
      "text/plain": [
       "1    6350\n",
       "2       2\n",
       "3       1\n",
       "Name: Move-ins Booked, dtype: int64"
      ]
     },
     "execution_count": 9,
     "metadata": {},
     "output_type": "execute_result"
    }
   ],
   "source": [
    "## very few move-ins booked exceed 1\n",
    "orig['Move-ins Booked'].value_counts()"
   ]
  },
  {
   "cell_type": "code",
   "execution_count": 10,
   "metadata": {},
   "outputs": [
    {
     "data": {
      "text/html": [
       "<div>\n",
       "<style scoped>\n",
       "    .dataframe tbody tr th:only-of-type {\n",
       "        vertical-align: middle;\n",
       "    }\n",
       "\n",
       "    .dataframe tbody tr th {\n",
       "        vertical-align: top;\n",
       "    }\n",
       "\n",
       "    .dataframe thead th {\n",
       "        text-align: right;\n",
       "    }\n",
       "</style>\n",
       "<table border=\"1\" class=\"dataframe\">\n",
       "  <thead>\n",
       "    <tr style=\"text-align: right;\">\n",
       "      <th></th>\n",
       "      <th>Lead Creation Date</th>\n",
       "      <th>Lead ID</th>\n",
       "      <th>RVP Region</th>\n",
       "      <th>Regional Manager</th>\n",
       "      <th>Date Activity</th>\n",
       "      <th>Move-ins Booked</th>\n",
       "    </tr>\n",
       "  </thead>\n",
       "  <tbody>\n",
       "    <tr>\n",
       "      <th>1045</th>\n",
       "      <td>2021-04-09</td>\n",
       "      <td>No Value</td>\n",
       "      <td>RVP3</td>\n",
       "      <td>RM8</td>\n",
       "      <td>2021-06-11</td>\n",
       "      <td>2</td>\n",
       "    </tr>\n",
       "    <tr>\n",
       "      <th>2802</th>\n",
       "      <td>2021-04-05</td>\n",
       "      <td>No Value</td>\n",
       "      <td>RVP3</td>\n",
       "      <td>RM8</td>\n",
       "      <td>2021-06-25</td>\n",
       "      <td>2</td>\n",
       "    </tr>\n",
       "    <tr>\n",
       "      <th>4056</th>\n",
       "      <td>2021-04-08</td>\n",
       "      <td>No Value</td>\n",
       "      <td>RVP3</td>\n",
       "      <td>RM8</td>\n",
       "      <td>2021-06-30</td>\n",
       "      <td>3</td>\n",
       "    </tr>\n",
       "  </tbody>\n",
       "</table>\n",
       "</div>"
      ],
      "text/plain": [
       "     Lead Creation Date   Lead ID RVP Region Regional Manager Date Activity  \\\n",
       "1045         2021-04-09  No Value       RVP3              RM8    2021-06-11   \n",
       "2802         2021-04-05  No Value       RVP3              RM8    2021-06-25   \n",
       "4056         2021-04-08  No Value       RVP3              RM8    2021-06-30   \n",
       "\n",
       "      Move-ins Booked  \n",
       "1045                2  \n",
       "2802                2  \n",
       "4056                3  "
      ]
     },
     "execution_count": 10,
     "metadata": {},
     "output_type": "execute_result"
    }
   ],
   "source": [
    "## examine entries with move-ins books > 1\n",
    "## see that these only apply to managers RM8, and have no lead id\n",
    "orig[orig['Move-ins Booked'] != 1]"
   ]
  },
  {
   "cell_type": "code",
   "execution_count": 11,
   "metadata": {},
   "outputs": [
    {
     "data": {
      "text/html": [
       "<div>\n",
       "<style scoped>\n",
       "    .dataframe tbody tr th:only-of-type {\n",
       "        vertical-align: middle;\n",
       "    }\n",
       "\n",
       "    .dataframe tbody tr th {\n",
       "        vertical-align: top;\n",
       "    }\n",
       "\n",
       "    .dataframe thead th {\n",
       "        text-align: right;\n",
       "    }\n",
       "</style>\n",
       "<table border=\"1\" class=\"dataframe\">\n",
       "  <thead>\n",
       "    <tr style=\"text-align: right;\">\n",
       "      <th></th>\n",
       "      <th>Lead Creation Date</th>\n",
       "      <th>Lead ID</th>\n",
       "      <th>RVP Region</th>\n",
       "      <th>Regional Manager</th>\n",
       "      <th>Date Activity</th>\n",
       "      <th>Move-ins Booked</th>\n",
       "      <th>lead_id_checker</th>\n",
       "    </tr>\n",
       "  </thead>\n",
       "  <tbody>\n",
       "    <tr>\n",
       "      <th>48</th>\n",
       "      <td>2021-05-07</td>\n",
       "      <td>No Value</td>\n",
       "      <td>RVP3</td>\n",
       "      <td>RM8</td>\n",
       "      <td>2021-06-01</td>\n",
       "      <td>1</td>\n",
       "      <td>NaN</td>\n",
       "    </tr>\n",
       "    <tr>\n",
       "      <th>777</th>\n",
       "      <td>2021-05-04</td>\n",
       "      <td>No Value</td>\n",
       "      <td>RVP3</td>\n",
       "      <td>RM8</td>\n",
       "      <td>2021-06-09</td>\n",
       "      <td>1</td>\n",
       "      <td>NaN</td>\n",
       "    </tr>\n",
       "    <tr>\n",
       "      <th>917</th>\n",
       "      <td>2021-04-21</td>\n",
       "      <td>No Value</td>\n",
       "      <td>RVP3</td>\n",
       "      <td>RM8</td>\n",
       "      <td>2021-06-10</td>\n",
       "      <td>1</td>\n",
       "      <td>NaN</td>\n",
       "    </tr>\n",
       "    <tr>\n",
       "      <th>1045</th>\n",
       "      <td>2021-04-09</td>\n",
       "      <td>No Value</td>\n",
       "      <td>RVP3</td>\n",
       "      <td>RM8</td>\n",
       "      <td>2021-06-11</td>\n",
       "      <td>2</td>\n",
       "      <td>NaN</td>\n",
       "    </tr>\n",
       "    <tr>\n",
       "      <th>1732</th>\n",
       "      <td>2021-04-02</td>\n",
       "      <td>No Value</td>\n",
       "      <td>RVP3</td>\n",
       "      <td>RM8</td>\n",
       "      <td>2021-06-17</td>\n",
       "      <td>1</td>\n",
       "      <td>NaN</td>\n",
       "    </tr>\n",
       "    <tr>\n",
       "      <th>2111</th>\n",
       "      <td>2021-04-12</td>\n",
       "      <td>No Value</td>\n",
       "      <td>RVP3</td>\n",
       "      <td>RM8</td>\n",
       "      <td>2021-06-21</td>\n",
       "      <td>1</td>\n",
       "      <td>NaN</td>\n",
       "    </tr>\n",
       "    <tr>\n",
       "      <th>2592</th>\n",
       "      <td>2021-05-05</td>\n",
       "      <td>No Value</td>\n",
       "      <td>RVP3</td>\n",
       "      <td>RM8</td>\n",
       "      <td>2021-06-24</td>\n",
       "      <td>1</td>\n",
       "      <td>NaN</td>\n",
       "    </tr>\n",
       "    <tr>\n",
       "      <th>2802</th>\n",
       "      <td>2021-04-05</td>\n",
       "      <td>No Value</td>\n",
       "      <td>RVP3</td>\n",
       "      <td>RM8</td>\n",
       "      <td>2021-06-25</td>\n",
       "      <td>2</td>\n",
       "      <td>NaN</td>\n",
       "    </tr>\n",
       "    <tr>\n",
       "      <th>3387</th>\n",
       "      <td>2021-04-10</td>\n",
       "      <td>No Value</td>\n",
       "      <td>RVP3</td>\n",
       "      <td>RM8</td>\n",
       "      <td>2021-06-29</td>\n",
       "      <td>1</td>\n",
       "      <td>NaN</td>\n",
       "    </tr>\n",
       "    <tr>\n",
       "      <th>4056</th>\n",
       "      <td>2021-04-08</td>\n",
       "      <td>No Value</td>\n",
       "      <td>RVP3</td>\n",
       "      <td>RM8</td>\n",
       "      <td>2021-06-30</td>\n",
       "      <td>3</td>\n",
       "      <td>NaN</td>\n",
       "    </tr>\n",
       "    <tr>\n",
       "      <th>5763</th>\n",
       "      <td>2021-04-21</td>\n",
       "      <td>No Value</td>\n",
       "      <td>RVP3</td>\n",
       "      <td>RM8</td>\n",
       "      <td>2021-07-14</td>\n",
       "      <td>1</td>\n",
       "      <td>NaN</td>\n",
       "    </tr>\n",
       "  </tbody>\n",
       "</table>\n",
       "</div>"
      ],
      "text/plain": [
       "     Lead Creation Date   Lead ID RVP Region Regional Manager Date Activity  \\\n",
       "48           2021-05-07  No Value       RVP3              RM8    2021-06-01   \n",
       "777          2021-05-04  No Value       RVP3              RM8    2021-06-09   \n",
       "917          2021-04-21  No Value       RVP3              RM8    2021-06-10   \n",
       "1045         2021-04-09  No Value       RVP3              RM8    2021-06-11   \n",
       "1732         2021-04-02  No Value       RVP3              RM8    2021-06-17   \n",
       "2111         2021-04-12  No Value       RVP3              RM8    2021-06-21   \n",
       "2592         2021-05-05  No Value       RVP3              RM8    2021-06-24   \n",
       "2802         2021-04-05  No Value       RVP3              RM8    2021-06-25   \n",
       "3387         2021-04-10  No Value       RVP3              RM8    2021-06-29   \n",
       "4056         2021-04-08  No Value       RVP3              RM8    2021-06-30   \n",
       "5763         2021-04-21  No Value       RVP3              RM8    2021-07-14   \n",
       "\n",
       "      Move-ins Booked  lead_id_checker  \n",
       "48                  1              NaN  \n",
       "777                 1              NaN  \n",
       "917                 1              NaN  \n",
       "1045                2              NaN  \n",
       "1732                1              NaN  \n",
       "2111                1              NaN  \n",
       "2592                1              NaN  \n",
       "2802                2              NaN  \n",
       "3387                1              NaN  \n",
       "4056                3              NaN  \n",
       "5763                1              NaN  "
      ]
     },
     "execution_count": 11,
     "metadata": {},
     "output_type": "execute_result"
    }
   ],
   "source": [
    "## check which lead ids aren't in numeric format; a good indicator for potential bad data\n",
    "## see that 11 entries have no value\n",
    "orig['lead_id_checker'] = pd.to_numeric(orig['Lead ID'], errors='coerce')\n",
    "\n",
    "orig[orig['lead_id_checker'].isna()]"
   ]
  },
  {
   "cell_type": "markdown",
   "metadata": {},
   "source": [
    "#### Logic for dealing with bad data:\n",
    "<br>\n",
    "In a real scenario, I would examine valid reasons for lead ids having no value, potential reason may include system lag, i.e. a lead is valid, but the id is generated at a later time after a certain system event happens.\n",
    "\n",
    "If the lag assumption is incorrect, I would review these cases with manager RM8 to identify if this was a data entry error, and correct these entries if possible.\n",
    "\n",
    "In this simulated scenario, I will remove these entries with no lead ids as bad data. As an added bonus this also removes the entries with move-ins books > 1, which is likely also bad data."
   ]
  },
  {
   "cell_type": "code",
   "execution_count": 12,
   "metadata": {},
   "outputs": [
    {
     "name": "stdout",
     "output_type": "stream",
     "text": [
      "(6342, 7)\n",
      "6342\n"
     ]
    }
   ],
   "source": [
    "## drop rows where lead ids have no value\n",
    "## recheck that lead id column now only have unique ids\n",
    "orig = orig[orig['lead_id_checker'].notna()]\n",
    "\n",
    "print(orig.shape)\n",
    "print(orig['Lead ID'].nunique())"
   ]
  },
  {
   "cell_type": "code",
   "execution_count": 13,
   "metadata": {},
   "outputs": [
    {
     "data": {
      "text/html": [
       "<div>\n",
       "<style scoped>\n",
       "    .dataframe tbody tr th:only-of-type {\n",
       "        vertical-align: middle;\n",
       "    }\n",
       "\n",
       "    .dataframe tbody tr th {\n",
       "        vertical-align: top;\n",
       "    }\n",
       "\n",
       "    .dataframe thead th {\n",
       "        text-align: right;\n",
       "    }\n",
       "</style>\n",
       "<table border=\"1\" class=\"dataframe\">\n",
       "  <thead>\n",
       "    <tr style=\"text-align: right;\">\n",
       "      <th></th>\n",
       "      <th>Lead Creation Date</th>\n",
       "      <th>Lead ID</th>\n",
       "      <th>RVP Region</th>\n",
       "      <th>Regional Manager</th>\n",
       "      <th>Date Activity</th>\n",
       "      <th>Move-ins Booked</th>\n",
       "    </tr>\n",
       "  </thead>\n",
       "  <tbody>\n",
       "    <tr>\n",
       "      <th>0</th>\n",
       "      <td>2021-05-05</td>\n",
       "      <td>20320836</td>\n",
       "      <td>RVP1</td>\n",
       "      <td>RM1</td>\n",
       "      <td>2021-06-01</td>\n",
       "      <td>1</td>\n",
       "    </tr>\n",
       "    <tr>\n",
       "      <th>1</th>\n",
       "      <td>2021-05-06</td>\n",
       "      <td>17483490</td>\n",
       "      <td>RVP1</td>\n",
       "      <td>RM2</td>\n",
       "      <td>2021-06-01</td>\n",
       "      <td>1</td>\n",
       "    </tr>\n",
       "  </tbody>\n",
       "</table>\n",
       "</div>"
      ],
      "text/plain": [
       "  Lead Creation Date   Lead ID RVP Region Regional Manager Date Activity  \\\n",
       "0         2021-05-05  20320836       RVP1              RM1    2021-06-01   \n",
       "1         2021-05-06  17483490       RVP1              RM2    2021-06-01   \n",
       "\n",
       "   Move-ins Booked  \n",
       "0                1  \n",
       "1                1  "
      ]
     },
     "execution_count": 13,
     "metadata": {},
     "output_type": "execute_result"
    }
   ],
   "source": [
    "## drop column lead_id_checker as it is no longer needed\n",
    "orig.drop(columns=['lead_id_checker'], inplace=True)\n",
    "orig.head(2)"
   ]
  },
  {
   "cell_type": "code",
   "execution_count": 14,
   "metadata": {},
   "outputs": [
    {
     "name": "stdout",
     "output_type": "stream",
     "text": [
      "(1118, 6)\n"
     ]
    },
    {
     "data": {
      "text/html": [
       "<div>\n",
       "<style scoped>\n",
       "    .dataframe tbody tr th:only-of-type {\n",
       "        vertical-align: middle;\n",
       "    }\n",
       "\n",
       "    .dataframe tbody tr th {\n",
       "        vertical-align: top;\n",
       "    }\n",
       "\n",
       "    .dataframe thead th {\n",
       "        text-align: right;\n",
       "    }\n",
       "</style>\n",
       "<table border=\"1\" class=\"dataframe\">\n",
       "  <thead>\n",
       "    <tr style=\"text-align: right;\">\n",
       "      <th></th>\n",
       "      <th>Lead Creation Date</th>\n",
       "      <th>Lead ID</th>\n",
       "      <th>RVP Region</th>\n",
       "      <th>Regional Manager</th>\n",
       "      <th>Date Activity</th>\n",
       "      <th>Move-ins Booked</th>\n",
       "    </tr>\n",
       "  </thead>\n",
       "  <tbody>\n",
       "    <tr>\n",
       "      <th>22</th>\n",
       "      <td>2021-04-03</td>\n",
       "      <td>20342438</td>\n",
       "      <td>RVP1</td>\n",
       "      <td>RM4</td>\n",
       "      <td>2021-06-01</td>\n",
       "      <td>1</td>\n",
       "    </tr>\n",
       "    <tr>\n",
       "      <th>43</th>\n",
       "      <td>2021-05-10</td>\n",
       "      <td>20411887</td>\n",
       "      <td>RVP2</td>\n",
       "      <td>RM7</td>\n",
       "      <td>2021-06-01</td>\n",
       "      <td>1</td>\n",
       "    </tr>\n",
       "  </tbody>\n",
       "</table>\n",
       "</div>"
      ],
      "text/plain": [
       "   Lead Creation Date   Lead ID RVP Region Regional Manager Date Activity  \\\n",
       "22         2021-04-03  20342438       RVP1              RM4    2021-06-01   \n",
       "43         2021-05-10  20411887       RVP2              RM7    2021-06-01   \n",
       "\n",
       "    Move-ins Booked  \n",
       "22                1  \n",
       "43                1  "
      ]
     },
     "execution_count": 14,
     "metadata": {},
     "output_type": "execute_result"
    }
   ],
   "source": [
    "## explore the nature of duplication in the data\n",
    "## duplication is very common\n",
    "## a manager can have multiple leads that are created and booked on the same days\n",
    "check_col = ['Lead Creation Date', 'RVP Region', 'Regional Manager', 'Date Activity']\n",
    "print(orig[orig.duplicated(subset=check_col)].shape)\n",
    "orig[orig.duplicated(subset=check_col)].head(2)"
   ]
  },
  {
   "cell_type": "code",
   "execution_count": 15,
   "metadata": {},
   "outputs": [
    {
     "data": {
      "text/html": [
       "<div>\n",
       "<style scoped>\n",
       "    .dataframe tbody tr th:only-of-type {\n",
       "        vertical-align: middle;\n",
       "    }\n",
       "\n",
       "    .dataframe tbody tr th {\n",
       "        vertical-align: top;\n",
       "    }\n",
       "\n",
       "    .dataframe thead th {\n",
       "        text-align: right;\n",
       "    }\n",
       "</style>\n",
       "<table border=\"1\" class=\"dataframe\">\n",
       "  <thead>\n",
       "    <tr style=\"text-align: right;\">\n",
       "      <th></th>\n",
       "      <th>Lead Creation Date</th>\n",
       "      <th>Lead ID</th>\n",
       "      <th>RVP Region</th>\n",
       "      <th>Regional Manager</th>\n",
       "      <th>Date Activity</th>\n",
       "      <th>Move-ins Booked</th>\n",
       "    </tr>\n",
       "  </thead>\n",
       "  <tbody>\n",
       "    <tr>\n",
       "      <th>20</th>\n",
       "      <td>2021-04-03</td>\n",
       "      <td>20279350</td>\n",
       "      <td>RVP1</td>\n",
       "      <td>RM4</td>\n",
       "      <td>2021-06-01</td>\n",
       "      <td>1</td>\n",
       "    </tr>\n",
       "    <tr>\n",
       "      <th>22</th>\n",
       "      <td>2021-04-03</td>\n",
       "      <td>20342438</td>\n",
       "      <td>RVP1</td>\n",
       "      <td>RM4</td>\n",
       "      <td>2021-06-01</td>\n",
       "      <td>1</td>\n",
       "    </tr>\n",
       "  </tbody>\n",
       "</table>\n",
       "</div>"
      ],
      "text/plain": [
       "   Lead Creation Date   Lead ID RVP Region Regional Manager Date Activity  \\\n",
       "20         2021-04-03  20279350       RVP1              RM4    2021-06-01   \n",
       "22         2021-04-03  20342438       RVP1              RM4    2021-06-01   \n",
       "\n",
       "    Move-ins Booked  \n",
       "20                1  \n",
       "22                1  "
      ]
     },
     "execution_count": 15,
     "metadata": {},
     "output_type": "execute_result"
    }
   ],
   "source": [
    "## visualising a duplicated entry to verify the duplication check is working correctly\n",
    "orig[\n",
    "    (orig['Lead Creation Date'] == datetime(2021, 4, 3)) &\n",
    "    (orig['RVP Region'] == 'RVP1') &\n",
    "    (orig['Regional Manager'] == 'RM4') &\n",
    "    (orig['Date Activity'] == datetime(2021, 6, 1))\n",
    "]"
   ]
  },
  {
   "cell_type": "markdown",
   "metadata": {},
   "source": [
    "#### Logic for dealing with duplicated entries:\n",
    "<br>\n",
    "In a real scenario where there is more lead-specific info, I would use the additional info to look for actual duplication. It is not uncommon for sales people to sometime artificially inflate numbers using duplication.\n",
    "\n",
    "However in this simulated scenario with limited lead-specific info, the duplicated entries seem legit, as a manager can juggle multiple leads, with these leads being created and booked on the same days. Doing this duplication check also provides better intuition for the data scientist on the volumn of activity of a manager."
   ]
  },
  {
   "cell_type": "markdown",
   "metadata": {},
   "source": [
    "## Cohort Analysis"
   ]
  },
  {
   "cell_type": "code",
   "execution_count": 16,
   "metadata": {},
   "outputs": [
    {
     "data": {
      "text/html": [
       "<div>\n",
       "<style scoped>\n",
       "    .dataframe tbody tr th:only-of-type {\n",
       "        vertical-align: middle;\n",
       "    }\n",
       "\n",
       "    .dataframe tbody tr th {\n",
       "        vertical-align: top;\n",
       "    }\n",
       "\n",
       "    .dataframe thead th {\n",
       "        text-align: right;\n",
       "    }\n",
       "</style>\n",
       "<table border=\"1\" class=\"dataframe\">\n",
       "  <thead>\n",
       "    <tr style=\"text-align: right;\">\n",
       "      <th></th>\n",
       "      <th>Lead Creation Date</th>\n",
       "      <th>Lead ID</th>\n",
       "      <th>RVP Region</th>\n",
       "      <th>Regional Manager</th>\n",
       "      <th>Date Activity</th>\n",
       "      <th>Move-ins Booked</th>\n",
       "    </tr>\n",
       "  </thead>\n",
       "  <tbody>\n",
       "    <tr>\n",
       "      <th>0</th>\n",
       "      <td>2021-05-05</td>\n",
       "      <td>20320836</td>\n",
       "      <td>RVP1</td>\n",
       "      <td>RM1</td>\n",
       "      <td>2021-06-01</td>\n",
       "      <td>1</td>\n",
       "    </tr>\n",
       "    <tr>\n",
       "      <th>118</th>\n",
       "      <td>2021-05-10</td>\n",
       "      <td>19999183</td>\n",
       "      <td>RVP1</td>\n",
       "      <td>RM1</td>\n",
       "      <td>2021-06-02</td>\n",
       "      <td>1</td>\n",
       "    </tr>\n",
       "  </tbody>\n",
       "</table>\n",
       "</div>"
      ],
      "text/plain": [
       "    Lead Creation Date   Lead ID RVP Region Regional Manager Date Activity  \\\n",
       "0           2021-05-05  20320836       RVP1              RM1    2021-06-01   \n",
       "118         2021-05-10  19999183       RVP1              RM1    2021-06-02   \n",
       "\n",
       "     Move-ins Booked  \n",
       "0                  1  \n",
       "118                1  "
      ]
     },
     "execution_count": 16,
     "metadata": {},
     "output_type": "execute_result"
    }
   ],
   "source": [
    "## creating dataframe df, in case additional changes are needed\n",
    "df = orig.copy()\n",
    "\n",
    "df.sort_values(by=['RVP Region', 'Regional Manager', 'Date Activity'], inplace=True)\n",
    "\n",
    "df.head(2)"
   ]
  },
  {
   "cell_type": "code",
   "execution_count": 17,
   "metadata": {},
   "outputs": [],
   "source": [
    "## Thoughts on what to explore:\n",
    "## overall activity\n",
    "## regional activity\n",
    "## best performing region\n",
    "## best performing manager\n",
    "## most improved region\n",
    "## most improved manager"
   ]
  },
  {
   "cell_type": "markdown",
   "metadata": {},
   "source": [
    "#### Logic for cohort analysis:\n",
    "<br>\n",
    "There are two date columns associated with regions / managers. I am making a <b>naive assumption</b>\n",
    "that managers do not have control over the creation of leads (i.e. leads are handed off to them), however managers do have control at an extent over the booking of leads.\n",
    "\n",
    "A key note too is the lack of visibility for unbooked leads, i.e. leads created but not (or not yet) booked. This prevents the analysis of common metrics such as % conversion rate."
   ]
  },
  {
   "cell_type": "code",
   "execution_count": 18,
   "metadata": {},
   "outputs": [
    {
     "data": {
      "text/html": [
       "<div>\n",
       "<style scoped>\n",
       "    .dataframe tbody tr th:only-of-type {\n",
       "        vertical-align: middle;\n",
       "    }\n",
       "\n",
       "    .dataframe tbody tr th {\n",
       "        vertical-align: top;\n",
       "    }\n",
       "\n",
       "    .dataframe thead th {\n",
       "        text-align: right;\n",
       "    }\n",
       "</style>\n",
       "<table border=\"1\" class=\"dataframe\">\n",
       "  <thead>\n",
       "    <tr style=\"text-align: right;\">\n",
       "      <th></th>\n",
       "      <th>Lead Creation Date</th>\n",
       "      <th>Lead ID</th>\n",
       "      <th>RVP Region</th>\n",
       "      <th>Regional Manager</th>\n",
       "      <th>Date Activity</th>\n",
       "      <th>Move-ins Booked</th>\n",
       "      <th>lead_to_booked_days</th>\n",
       "    </tr>\n",
       "  </thead>\n",
       "  <tbody>\n",
       "    <tr>\n",
       "      <th>0</th>\n",
       "      <td>2021-05-05</td>\n",
       "      <td>20320836</td>\n",
       "      <td>RVP1</td>\n",
       "      <td>RM1</td>\n",
       "      <td>2021-06-01</td>\n",
       "      <td>1</td>\n",
       "      <td>27</td>\n",
       "    </tr>\n",
       "    <tr>\n",
       "      <th>118</th>\n",
       "      <td>2021-05-10</td>\n",
       "      <td>19999183</td>\n",
       "      <td>RVP1</td>\n",
       "      <td>RM1</td>\n",
       "      <td>2021-06-02</td>\n",
       "      <td>1</td>\n",
       "      <td>23</td>\n",
       "    </tr>\n",
       "  </tbody>\n",
       "</table>\n",
       "</div>"
      ],
      "text/plain": [
       "    Lead Creation Date   Lead ID RVP Region Regional Manager Date Activity  \\\n",
       "0           2021-05-05  20320836       RVP1              RM1    2021-06-01   \n",
       "118         2021-05-10  19999183       RVP1              RM1    2021-06-02   \n",
       "\n",
       "     Move-ins Booked  lead_to_booked_days  \n",
       "0                  1                   27  \n",
       "118                1                   23  "
      ]
     },
     "execution_count": 18,
     "metadata": {},
     "output_type": "execute_result"
    }
   ],
   "source": [
    "df['lead_to_booked_days'] = df['Date Activity'] - df['Lead Creation Date']\n",
    "df['lead_to_booked_days'] = df.lead_to_booked_days.dt.days\n",
    "\n",
    "df.head(2)"
   ]
  },
  {
   "cell_type": "code",
   "execution_count": 19,
   "metadata": {},
   "outputs": [
    {
     "data": {
      "text/plain": [
       "RVP Region\n",
       "RVP1    1719\n",
       "RVP2    1460\n",
       "RVP3      75\n",
       "RVP4    1741\n",
       "RVP5     637\n",
       "RVP6     710\n",
       "Name: Move-ins Booked, dtype: int64"
      ]
     },
     "execution_count": 19,
     "metadata": {},
     "output_type": "execute_result"
    }
   ],
   "source": [
    "df.groupby(['RVP Region'])['Move-ins Booked'].sum()"
   ]
  },
  {
   "cell_type": "code",
   "execution_count": 20,
   "metadata": {},
   "outputs": [
    {
     "data": {
      "text/plain": [
       "RVP Region\n",
       "RVP1    65.146597\n",
       "RVP2    64.689726\n",
       "RVP3    62.506667\n",
       "RVP4    65.129236\n",
       "RVP5    64.759812\n",
       "RVP6    66.302817\n",
       "Name: lead_to_booked_days, dtype: float64"
      ]
     },
     "execution_count": 20,
     "metadata": {},
     "output_type": "execute_result"
    }
   ],
   "source": [
    "df.groupby(['RVP Region'])['lead_to_booked_days'].mean()"
   ]
  },
  {
   "cell_type": "code",
   "execution_count": 21,
   "metadata": {},
   "outputs": [
    {
     "data": {
      "text/plain": [
       "<seaborn.axisgrid.FacetGrid at 0x271d58a9358>"
      ]
     },
     "execution_count": 21,
     "metadata": {},
     "output_type": "execute_result"
    },
    {
     "data": {
      "image/png": "[encoded data removed]",
      "text/plain": [
       "<Figure size 1296x216 with 6 Axes>"
      ]
     },
     "metadata": {
      "needs_background": "light"
     },
     "output_type": "display_data"
    }
   ],
   "source": [
    "## conversion (in days) from lead creation to booked is normally distributed across regions\n",
    "grid = sns.FacetGrid(df, col=\"RVP Region\")\n",
    "grid.map(sns.histplot, \"lead_to_booked_days\")"
   ]
  },
  {
   "cell_type": "code",
   "execution_count": 22,
   "metadata": {},
   "outputs": [
    {
     "data": {
      "text/plain": [
       "<seaborn.axisgrid.FacetGrid at 0x271d7cbd2e8>"
      ]
     },
     "execution_count": 22,
     "metadata": {},
     "output_type": "execute_result"
    },
    {
     "data": {
      "image/png": "[encoded data removed]",
      "text/plain": [
       "<Figure size 1296x648 with 17 Axes>"
      ]
     },
     "metadata": {
      "needs_background": "light"
     },
     "output_type": "display_data"
    }
   ],
   "source": [
    "## also normally distributed across managers\n",
    "grid = sns.FacetGrid(df, col=\"Regional Manager\", col_wrap= 6)\n",
    "grid.map(sns.histplot, \"lead_to_booked_days\")"
   ]
  },
  {
   "cell_type": "markdown",
   "metadata": {},
   "source": [
    "## Regional leads booked cumulative sum"
   ]
  },
  {
   "cell_type": "code",
   "execution_count": 23,
   "metadata": {},
   "outputs": [],
   "source": [
    "df_region = df.copy()"
   ]
  },
  {
   "cell_type": "code",
   "execution_count": 34,
   "metadata": {},
   "outputs": [
    {
     "data": {
      "text/html": [
       "<div>\n",
       "<style scoped>\n",
       "    .dataframe tbody tr th:only-of-type {\n",
       "        vertical-align: middle;\n",
       "    }\n",
       "\n",
       "    .dataframe tbody tr th {\n",
       "        vertical-align: top;\n",
       "    }\n",
       "\n",
       "    .dataframe thead th {\n",
       "        text-align: right;\n",
       "    }\n",
       "</style>\n",
       "<table border=\"1\" class=\"dataframe\">\n",
       "  <thead>\n",
       "    <tr style=\"text-align: right;\">\n",
       "      <th></th>\n",
       "      <th>RVP Region</th>\n",
       "      <th>Date Activity</th>\n",
       "      <th>Move-ins Booked</th>\n",
       "    </tr>\n",
       "  </thead>\n",
       "  <tbody>\n",
       "    <tr>\n",
       "      <th>0</th>\n",
       "      <td>RVP1</td>\n",
       "      <td>2021-06-01</td>\n",
       "      <td>29</td>\n",
       "    </tr>\n",
       "    <tr>\n",
       "      <th>1</th>\n",
       "      <td>RVP1</td>\n",
       "      <td>2021-06-02</td>\n",
       "      <td>60</td>\n",
       "    </tr>\n",
       "    <tr>\n",
       "      <th>2</th>\n",
       "      <td>RVP1</td>\n",
       "      <td>2021-06-03</td>\n",
       "      <td>88</td>\n",
       "    </tr>\n",
       "    <tr>\n",
       "      <th>3</th>\n",
       "      <td>RVP1</td>\n",
       "      <td>2021-06-04</td>\n",
       "      <td>106</td>\n",
       "    </tr>\n",
       "    <tr>\n",
       "      <th>4</th>\n",
       "      <td>RVP1</td>\n",
       "      <td>2021-06-05</td>\n",
       "      <td>112</td>\n",
       "    </tr>\n",
       "  </tbody>\n",
       "</table>\n",
       "</div>"
      ],
      "text/plain": [
       "  RVP Region Date Activity  Move-ins Booked\n",
       "0       RVP1    2021-06-01               29\n",
       "1       RVP1    2021-06-02               60\n",
       "2       RVP1    2021-06-03               88\n",
       "3       RVP1    2021-06-04              106\n",
       "4       RVP1    2021-06-05              112"
      ]
     },
     "execution_count": 34,
     "metadata": {},
     "output_type": "execute_result"
    }
   ],
   "source": [
    "df_region = df.groupby(['RVP Region', 'Date Activity'])['Move-ins Booked'].sum().reset_index()\n",
    "\n",
    "df_region_cs = df_region.groupby(['RVP Region', 'Date Activity'])['Move-ins Booked'].sum() \\\n",
    "  .groupby(level=0).cumsum().reset_index()\n",
    "\n",
    "df_region_cs.head()"
   ]
  },
  {
   "cell_type": "code",
   "execution_count": 35,
   "metadata": {},
   "outputs": [],
   "source": [
    "# df_region_cs = df.groupby(['RVP Region', 'Date Activity'])['Move-ins Booked'].sum() \\\n",
    "#   .groupby(level=0).cumsum().reset_index()\n",
    "\n",
    "# ## snippet to check cumsum\n",
    "# # df[(df['RVP Region'] == 'RVP1') & (df['Date Activity'] == datetime(2021, 6, 1))].shape\n",
    "\n",
    "# df_region_cs.head(2)"
   ]
  },
  {
   "cell_type": "code",
   "execution_count": 36,
   "metadata": {},
   "outputs": [
    {
     "data": {
      "text/plain": [
       "<matplotlib.axes._subplots.AxesSubplot at 0x271d8f6d7f0>"
      ]
     },
     "execution_count": 36,
     "metadata": {},
     "output_type": "execute_result"
    },
    {
     "data": {
      "image/png": "[encoded data removed]",
      "text/plain": [
       "<Figure size 1080x576 with 1 Axes>"
      ]
     },
     "metadata": {
      "needs_background": "light"
     },
     "output_type": "display_data"
    }
   ],
   "source": [
    "## his plot shows potential seasonality / organisation growth regarding leads booked\n",
    "## equally likely is the possibility that leads tend to be booked towards month's end \n",
    "## across regions there is significant uptick in leads booked towards the end of June\n",
    "plt.figure(figsize = (15,8))\n",
    "sns.lineplot(data=df_region_cs, x=\"Date Activity\", y=\"Move-ins Booked\",\n",
    "             hue=\"RVP Region\")"
   ]
  },
  {
   "cell_type": "markdown",
   "metadata": {},
   "source": [
    "## Manager leads booked cumulative sum"
   ]
  },
  {
   "cell_type": "code",
   "execution_count": 37,
   "metadata": {},
   "outputs": [],
   "source": [
    "df_manager = df.groupby(['Regional Manager', 'Date Activity'])['Move-ins Booked'].sum().reset_index()\n",
    "\n",
    "df_manager_cs = df_manager.groupby(['Regional Manager', 'Date Activity'])['Move-ins Booked'].sum() \\\n",
    "  .groupby(level=0).cumsum().reset_index()"
   ]
  },
  {
   "cell_type": "code",
   "execution_count": 38,
   "metadata": {},
   "outputs": [],
   "source": [
    "# df_manager_cs = df.groupby(['RVP Region', 'Regional Manager', 'Date Activity'])['Move-ins Booked'].sum() \\\n",
    "#   .groupby(level=0).cumsum().reset_index()\n",
    "\n",
    "# ## snippet to check cumsum\n",
    "# # df[(df['Regional Manager'] == 'RM1') & (df['Date Activity'] == datetime(2021, 6, 1))].shape\n",
    "\n",
    "# df_manager_cs.head(2)"
   ]
  },
  {
   "cell_type": "code",
   "execution_count": 39,
   "metadata": {},
   "outputs": [
    {
     "data": {
      "text/plain": [
       "<matplotlib.axes._subplots.AxesSubplot at 0x271d8e3d7b8>"
      ]
     },
     "execution_count": 39,
     "metadata": {},
     "output_type": "execute_result"
    },
    {
     "data": {
      "image/png": "[encoded data removed]",
      "text/plain": [
       "<Figure size 1080x576 with 1 Axes>"
      ]
     },
     "metadata": {
      "needs_background": "light"
     },
     "output_type": "display_data"
    }
   ],
   "source": [
    "## similar effect seens for the individual managers\n",
    "plt.figure(figsize = (15,8))\n",
    "sns.lineplot(data=df_manager_cs, x=\"Date Activity\", y=\"Move-ins Booked\",\n",
    "             hue=\"Regional Manager\")"
   ]
  },
  {
   "cell_type": "code",
   "execution_count": 40,
   "metadata": {},
   "outputs": [
    {
     "data": {
      "text/plain": [
       "<matplotlib.axes._subplots.AxesSubplot at 0x271d8929be0>"
      ]
     },
     "execution_count": 40,
     "metadata": {},
     "output_type": "execute_result"
    },
    {
     "data": {
      "image/png": "[encoded data removed]",
      "text/plain": [
       "<Figure size 1080x576 with 1 Axes>"
      ]
     },
     "metadata": {
      "needs_background": "light"
     },
     "output_type": "display_data"
    }
   ],
   "source": [
    "## drilling down into specific regions, can compare peer managers of the same region\n",
    "## we do see differences in the rate of leads booked  for example\n",
    "plt.figure(figsize = (15,8))\n",
    "sns.lineplot(data=df_manager_cs[df_manager_cs['Regional Manager'].isin(['RM13', 'RM14', 'RM17'])],\n",
    "             x=\"Date Activity\", y=\"Move-ins Booked\",\n",
    "             hue=\"Regional Manager\")"
   ]
  },
  {
   "cell_type": "markdown",
   "metadata": {},
   "source": [
    "## Regional leads booked month-to-month comparison"
   ]
  },
  {
   "cell_type": "markdown",
   "metadata": {},
   "source": [
    "#### Note:\n",
    "<br>\n",
    "Discovered potential issue with multi-grouping cumulative sum, continuing to work on this due to time constraint, apologies!"
   ]
  },
  {
   "cell_type": "code",
   "execution_count": 51,
   "metadata": {},
   "outputs": [
    {
     "data": {
      "text/html": [
       "<div>\n",
       "<style scoped>\n",
       "    .dataframe tbody tr th:only-of-type {\n",
       "        vertical-align: middle;\n",
       "    }\n",
       "\n",
       "    .dataframe tbody tr th {\n",
       "        vertical-align: top;\n",
       "    }\n",
       "\n",
       "    .dataframe thead th {\n",
       "        text-align: right;\n",
       "    }\n",
       "</style>\n",
       "<table border=\"1\" class=\"dataframe\">\n",
       "  <thead>\n",
       "    <tr style=\"text-align: right;\">\n",
       "      <th></th>\n",
       "      <th>RVP Region</th>\n",
       "      <th>Date Activity</th>\n",
       "      <th>Move-ins Booked</th>\n",
       "    </tr>\n",
       "  </thead>\n",
       "  <tbody>\n",
       "    <tr>\n",
       "      <th>0</th>\n",
       "      <td>RVP1</td>\n",
       "      <td>2021-06-01</td>\n",
       "      <td>29</td>\n",
       "    </tr>\n",
       "    <tr>\n",
       "      <th>1</th>\n",
       "      <td>RVP1</td>\n",
       "      <td>2021-06-02</td>\n",
       "      <td>31</td>\n",
       "    </tr>\n",
       "    <tr>\n",
       "      <th>2</th>\n",
       "      <td>RVP1</td>\n",
       "      <td>2021-06-03</td>\n",
       "      <td>28</td>\n",
       "    </tr>\n",
       "    <tr>\n",
       "      <th>3</th>\n",
       "      <td>RVP1</td>\n",
       "      <td>2021-06-04</td>\n",
       "      <td>18</td>\n",
       "    </tr>\n",
       "    <tr>\n",
       "      <th>4</th>\n",
       "      <td>RVP1</td>\n",
       "      <td>2021-06-05</td>\n",
       "      <td>6</td>\n",
       "    </tr>\n",
       "    <tr>\n",
       "      <th>...</th>\n",
       "      <td>...</td>\n",
       "      <td>...</td>\n",
       "      <td>...</td>\n",
       "    </tr>\n",
       "    <tr>\n",
       "      <th>267</th>\n",
       "      <td>RVP6</td>\n",
       "      <td>2021-07-15</td>\n",
       "      <td>22</td>\n",
       "    </tr>\n",
       "    <tr>\n",
       "      <th>268</th>\n",
       "      <td>RVP6</td>\n",
       "      <td>2021-07-16</td>\n",
       "      <td>20</td>\n",
       "    </tr>\n",
       "    <tr>\n",
       "      <th>269</th>\n",
       "      <td>RVP6</td>\n",
       "      <td>2021-07-17</td>\n",
       "      <td>2</td>\n",
       "    </tr>\n",
       "    <tr>\n",
       "      <th>270</th>\n",
       "      <td>RVP6</td>\n",
       "      <td>2021-07-18</td>\n",
       "      <td>1</td>\n",
       "    </tr>\n",
       "    <tr>\n",
       "      <th>271</th>\n",
       "      <td>RVP6</td>\n",
       "      <td>2021-07-19</td>\n",
       "      <td>14</td>\n",
       "    </tr>\n",
       "  </tbody>\n",
       "</table>\n",
       "<p>272 rows × 3 columns</p>\n",
       "</div>"
      ],
      "text/plain": [
       "    RVP Region Date Activity  Move-ins Booked\n",
       "0         RVP1    2021-06-01               29\n",
       "1         RVP1    2021-06-02               31\n",
       "2         RVP1    2021-06-03               28\n",
       "3         RVP1    2021-06-04               18\n",
       "4         RVP1    2021-06-05                6\n",
       "..         ...           ...              ...\n",
       "267       RVP6    2021-07-15               22\n",
       "268       RVP6    2021-07-16               20\n",
       "269       RVP6    2021-07-17                2\n",
       "270       RVP6    2021-07-18                1\n",
       "271       RVP6    2021-07-19               14\n",
       "\n",
       "[272 rows x 3 columns]"
      ]
     },
     "execution_count": 51,
     "metadata": {},
     "output_type": "execute_result"
    }
   ],
   "source": [
    "df_region"
   ]
  },
  {
   "cell_type": "code",
   "execution_count": 60,
   "metadata": {},
   "outputs": [],
   "source": [
    "# df_region_mm = df_region.copy()\n",
    "# df_region_mm['booked_month'] = df_region_mm['Date Activity'].dt.month\n",
    "\n",
    "# df_region_mm = df_region_mm.groupby(['booked_month', 'RVP Region', 'Date Activity'])['Move-ins Booked'].sum() \\\n",
    "#   .groupby(level=0).cumsum().reset_index()\n",
    "\n",
    "# df_region_mm"
   ]
  },
  {
   "cell_type": "code",
   "execution_count": 61,
   "metadata": {},
   "outputs": [],
   "source": [
    "# df_region_mm[df_region_mm['RVP Region'] == 'RVP6']"
   ]
  },
  {
   "cell_type": "code",
   "execution_count": 70,
   "metadata": {},
   "outputs": [
    {
     "data": {
      "text/html": [
       "<div>\n",
       "<style scoped>\n",
       "    .dataframe tbody tr th:only-of-type {\n",
       "        vertical-align: middle;\n",
       "    }\n",
       "\n",
       "    .dataframe tbody tr th {\n",
       "        vertical-align: top;\n",
       "    }\n",
       "\n",
       "    .dataframe thead th {\n",
       "        text-align: right;\n",
       "    }\n",
       "</style>\n",
       "<table border=\"1\" class=\"dataframe\">\n",
       "  <thead>\n",
       "    <tr style=\"text-align: right;\">\n",
       "      <th></th>\n",
       "      <th>RVP Region</th>\n",
       "      <th>Date Activity</th>\n",
       "      <th>Move-ins Booked</th>\n",
       "      <th>booked_month</th>\n",
       "      <th>booked_day</th>\n",
       "    </tr>\n",
       "  </thead>\n",
       "  <tbody>\n",
       "    <tr>\n",
       "      <th>0</th>\n",
       "      <td>RVP1</td>\n",
       "      <td>2021-06-01</td>\n",
       "      <td>29</td>\n",
       "      <td>June</td>\n",
       "      <td>1</td>\n",
       "    </tr>\n",
       "    <tr>\n",
       "      <th>1</th>\n",
       "      <td>RVP1</td>\n",
       "      <td>2021-06-02</td>\n",
       "      <td>60</td>\n",
       "      <td>June</td>\n",
       "      <td>2</td>\n",
       "    </tr>\n",
       "    <tr>\n",
       "      <th>2</th>\n",
       "      <td>RVP1</td>\n",
       "      <td>2021-06-03</td>\n",
       "      <td>88</td>\n",
       "      <td>June</td>\n",
       "      <td>3</td>\n",
       "    </tr>\n",
       "    <tr>\n",
       "      <th>3</th>\n",
       "      <td>RVP1</td>\n",
       "      <td>2021-06-04</td>\n",
       "      <td>106</td>\n",
       "      <td>June</td>\n",
       "      <td>4</td>\n",
       "    </tr>\n",
       "    <tr>\n",
       "      <th>4</th>\n",
       "      <td>RVP1</td>\n",
       "      <td>2021-06-05</td>\n",
       "      <td>112</td>\n",
       "      <td>June</td>\n",
       "      <td>5</td>\n",
       "    </tr>\n",
       "  </tbody>\n",
       "</table>\n",
       "</div>"
      ],
      "text/plain": [
       "  RVP Region Date Activity  Move-ins Booked booked_month  booked_day\n",
       "0       RVP1    2021-06-01               29         June           1\n",
       "1       RVP1    2021-06-02               60         June           2\n",
       "2       RVP1    2021-06-03               88         June           3\n",
       "3       RVP1    2021-06-04              106         June           4\n",
       "4       RVP1    2021-06-05              112         June           5"
      ]
     },
     "execution_count": 70,
     "metadata": {},
     "output_type": "execute_result"
    }
   ],
   "source": [
    "## took this approach due to time constraint\n",
    "\n",
    "df_region_jun = df_region[df_region['Date Activity'].dt.month == 6]\n",
    "df_region_jul = df_region[df_region['Date Activity'].dt.month == 7]\n",
    "\n",
    "df_region_jun = df_region_jun.groupby(['RVP Region', 'Date Activity'])['Move-ins Booked'].sum() \\\n",
    "  .groupby(level=0).cumsum().reset_index()\n",
    "\n",
    "df_region_jul = df_region_jul.groupby(['RVP Region', 'Date Activity'])['Move-ins Booked'].sum() \\\n",
    "  .groupby(level=0).cumsum().reset_index()\n",
    "\n",
    "df_region_jun['booked_month'] = 'June'\n",
    "df_region_jul['booked_month'] = 'July'\n",
    "\n",
    "df_region_mm = pd.concat([df_region_jun, df_region_jul])\n",
    "\n",
    "df_region_mm['booked_day'] = df_region_mm['Date Activity'].dt.day\n",
    "\n",
    "df_region_mm.head()"
   ]
  },
  {
   "cell_type": "code",
   "execution_count": 71,
   "metadata": {},
   "outputs": [
    {
     "data": {
      "text/html": [
       "<div>\n",
       "<style scoped>\n",
       "    .dataframe tbody tr th:only-of-type {\n",
       "        vertical-align: middle;\n",
       "    }\n",
       "\n",
       "    .dataframe tbody tr th {\n",
       "        vertical-align: top;\n",
       "    }\n",
       "\n",
       "    .dataframe thead th {\n",
       "        text-align: right;\n",
       "    }\n",
       "</style>\n",
       "<table border=\"1\" class=\"dataframe\">\n",
       "  <thead>\n",
       "    <tr style=\"text-align: right;\">\n",
       "      <th></th>\n",
       "      <th>RVP Region</th>\n",
       "      <th>Date Activity</th>\n",
       "      <th>Move-ins Booked</th>\n",
       "      <th>booked_month</th>\n",
       "      <th>booked_day</th>\n",
       "    </tr>\n",
       "  </thead>\n",
       "  <tbody>\n",
       "    <tr>\n",
       "      <th>0</th>\n",
       "      <td>RVP1</td>\n",
       "      <td>2021-06-01</td>\n",
       "      <td>29</td>\n",
       "      <td>June</td>\n",
       "      <td>1</td>\n",
       "    </tr>\n",
       "    <tr>\n",
       "      <th>1</th>\n",
       "      <td>RVP1</td>\n",
       "      <td>2021-06-02</td>\n",
       "      <td>60</td>\n",
       "      <td>June</td>\n",
       "      <td>2</td>\n",
       "    </tr>\n",
       "    <tr>\n",
       "      <th>2</th>\n",
       "      <td>RVP1</td>\n",
       "      <td>2021-06-03</td>\n",
       "      <td>88</td>\n",
       "      <td>June</td>\n",
       "      <td>3</td>\n",
       "    </tr>\n",
       "    <tr>\n",
       "      <th>3</th>\n",
       "      <td>RVP1</td>\n",
       "      <td>2021-06-04</td>\n",
       "      <td>106</td>\n",
       "      <td>June</td>\n",
       "      <td>4</td>\n",
       "    </tr>\n",
       "    <tr>\n",
       "      <th>4</th>\n",
       "      <td>RVP1</td>\n",
       "      <td>2021-06-05</td>\n",
       "      <td>112</td>\n",
       "      <td>June</td>\n",
       "      <td>5</td>\n",
       "    </tr>\n",
       "    <tr>\n",
       "      <th>...</th>\n",
       "      <td>...</td>\n",
       "      <td>...</td>\n",
       "      <td>...</td>\n",
       "      <td>...</td>\n",
       "      <td>...</td>\n",
       "    </tr>\n",
       "    <tr>\n",
       "      <th>97</th>\n",
       "      <td>RVP6</td>\n",
       "      <td>2021-07-15</td>\n",
       "      <td>174</td>\n",
       "      <td>July</td>\n",
       "      <td>15</td>\n",
       "    </tr>\n",
       "    <tr>\n",
       "      <th>98</th>\n",
       "      <td>RVP6</td>\n",
       "      <td>2021-07-16</td>\n",
       "      <td>194</td>\n",
       "      <td>July</td>\n",
       "      <td>16</td>\n",
       "    </tr>\n",
       "    <tr>\n",
       "      <th>99</th>\n",
       "      <td>RVP6</td>\n",
       "      <td>2021-07-17</td>\n",
       "      <td>196</td>\n",
       "      <td>July</td>\n",
       "      <td>17</td>\n",
       "    </tr>\n",
       "    <tr>\n",
       "      <th>100</th>\n",
       "      <td>RVP6</td>\n",
       "      <td>2021-07-18</td>\n",
       "      <td>197</td>\n",
       "      <td>July</td>\n",
       "      <td>18</td>\n",
       "    </tr>\n",
       "    <tr>\n",
       "      <th>101</th>\n",
       "      <td>RVP6</td>\n",
       "      <td>2021-07-19</td>\n",
       "      <td>211</td>\n",
       "      <td>July</td>\n",
       "      <td>19</td>\n",
       "    </tr>\n",
       "  </tbody>\n",
       "</table>\n",
       "<p>272 rows × 5 columns</p>\n",
       "</div>"
      ],
      "text/plain": [
       "    RVP Region Date Activity  Move-ins Booked booked_month  booked_day\n",
       "0         RVP1    2021-06-01               29         June           1\n",
       "1         RVP1    2021-06-02               60         June           2\n",
       "2         RVP1    2021-06-03               88         June           3\n",
       "3         RVP1    2021-06-04              106         June           4\n",
       "4         RVP1    2021-06-05              112         June           5\n",
       "..         ...           ...              ...          ...         ...\n",
       "97        RVP6    2021-07-15              174         July          15\n",
       "98        RVP6    2021-07-16              194         July          16\n",
       "99        RVP6    2021-07-17              196         July          17\n",
       "100       RVP6    2021-07-18              197         July          18\n",
       "101       RVP6    2021-07-19              211         July          19\n",
       "\n",
       "[272 rows x 5 columns]"
      ]
     },
     "execution_count": 71,
     "metadata": {},
     "output_type": "execute_result"
    }
   ],
   "source": [
    "df_region_mm"
   ]
  },
  {
   "cell_type": "code",
   "execution_count": 73,
   "metadata": {},
   "outputs": [
    {
     "data": {
      "text/html": [
       "<div>\n",
       "<style scoped>\n",
       "    .dataframe tbody tr th:only-of-type {\n",
       "        vertical-align: middle;\n",
       "    }\n",
       "\n",
       "    .dataframe tbody tr th {\n",
       "        vertical-align: top;\n",
       "    }\n",
       "\n",
       "    .dataframe thead th {\n",
       "        text-align: right;\n",
       "    }\n",
       "</style>\n",
       "<table border=\"1\" class=\"dataframe\">\n",
       "  <thead>\n",
       "    <tr style=\"text-align: right;\">\n",
       "      <th></th>\n",
       "      <th>RVP Region</th>\n",
       "      <th>Date Activity</th>\n",
       "      <th>Move-ins Booked</th>\n",
       "      <th>booked_month</th>\n",
       "      <th>booked_day</th>\n",
       "    </tr>\n",
       "  </thead>\n",
       "  <tbody>\n",
       "    <tr>\n",
       "      <th>0</th>\n",
       "      <td>RVP1</td>\n",
       "      <td>2021-06-01</td>\n",
       "      <td>29</td>\n",
       "      <td>June</td>\n",
       "      <td>1</td>\n",
       "    </tr>\n",
       "    <tr>\n",
       "      <th>1</th>\n",
       "      <td>RVP1</td>\n",
       "      <td>2021-06-02</td>\n",
       "      <td>60</td>\n",
       "      <td>June</td>\n",
       "      <td>2</td>\n",
       "    </tr>\n",
       "    <tr>\n",
       "      <th>2</th>\n",
       "      <td>RVP1</td>\n",
       "      <td>2021-06-03</td>\n",
       "      <td>88</td>\n",
       "      <td>June</td>\n",
       "      <td>3</td>\n",
       "    </tr>\n",
       "    <tr>\n",
       "      <th>3</th>\n",
       "      <td>RVP1</td>\n",
       "      <td>2021-06-04</td>\n",
       "      <td>106</td>\n",
       "      <td>June</td>\n",
       "      <td>4</td>\n",
       "    </tr>\n",
       "    <tr>\n",
       "      <th>4</th>\n",
       "      <td>RVP1</td>\n",
       "      <td>2021-06-05</td>\n",
       "      <td>112</td>\n",
       "      <td>June</td>\n",
       "      <td>5</td>\n",
       "    </tr>\n",
       "    <tr>\n",
       "      <th>5</th>\n",
       "      <td>RVP1</td>\n",
       "      <td>2021-06-06</td>\n",
       "      <td>117</td>\n",
       "      <td>June</td>\n",
       "      <td>6</td>\n",
       "    </tr>\n",
       "    <tr>\n",
       "      <th>6</th>\n",
       "      <td>RVP1</td>\n",
       "      <td>2021-06-07</td>\n",
       "      <td>159</td>\n",
       "      <td>June</td>\n",
       "      <td>7</td>\n",
       "    </tr>\n",
       "    <tr>\n",
       "      <th>7</th>\n",
       "      <td>RVP1</td>\n",
       "      <td>2021-06-08</td>\n",
       "      <td>186</td>\n",
       "      <td>June</td>\n",
       "      <td>8</td>\n",
       "    </tr>\n",
       "    <tr>\n",
       "      <th>8</th>\n",
       "      <td>RVP1</td>\n",
       "      <td>2021-06-09</td>\n",
       "      <td>226</td>\n",
       "      <td>June</td>\n",
       "      <td>9</td>\n",
       "    </tr>\n",
       "    <tr>\n",
       "      <th>9</th>\n",
       "      <td>RVP1</td>\n",
       "      <td>2021-06-10</td>\n",
       "      <td>265</td>\n",
       "      <td>June</td>\n",
       "      <td>10</td>\n",
       "    </tr>\n",
       "    <tr>\n",
       "      <th>10</th>\n",
       "      <td>RVP1</td>\n",
       "      <td>2021-06-11</td>\n",
       "      <td>296</td>\n",
       "      <td>June</td>\n",
       "      <td>11</td>\n",
       "    </tr>\n",
       "    <tr>\n",
       "      <th>11</th>\n",
       "      <td>RVP1</td>\n",
       "      <td>2021-06-12</td>\n",
       "      <td>301</td>\n",
       "      <td>June</td>\n",
       "      <td>12</td>\n",
       "    </tr>\n",
       "    <tr>\n",
       "      <th>12</th>\n",
       "      <td>RVP1</td>\n",
       "      <td>2021-06-13</td>\n",
       "      <td>310</td>\n",
       "      <td>June</td>\n",
       "      <td>13</td>\n",
       "    </tr>\n",
       "    <tr>\n",
       "      <th>13</th>\n",
       "      <td>RVP1</td>\n",
       "      <td>2021-06-14</td>\n",
       "      <td>362</td>\n",
       "      <td>June</td>\n",
       "      <td>14</td>\n",
       "    </tr>\n",
       "    <tr>\n",
       "      <th>14</th>\n",
       "      <td>RVP1</td>\n",
       "      <td>2021-06-15</td>\n",
       "      <td>400</td>\n",
       "      <td>June</td>\n",
       "      <td>15</td>\n",
       "    </tr>\n",
       "    <tr>\n",
       "      <th>15</th>\n",
       "      <td>RVP1</td>\n",
       "      <td>2021-06-16</td>\n",
       "      <td>445</td>\n",
       "      <td>June</td>\n",
       "      <td>16</td>\n",
       "    </tr>\n",
       "    <tr>\n",
       "      <th>16</th>\n",
       "      <td>RVP1</td>\n",
       "      <td>2021-06-17</td>\n",
       "      <td>471</td>\n",
       "      <td>June</td>\n",
       "      <td>17</td>\n",
       "    </tr>\n",
       "    <tr>\n",
       "      <th>17</th>\n",
       "      <td>RVP1</td>\n",
       "      <td>2021-06-18</td>\n",
       "      <td>520</td>\n",
       "      <td>June</td>\n",
       "      <td>18</td>\n",
       "    </tr>\n",
       "    <tr>\n",
       "      <th>18</th>\n",
       "      <td>RVP1</td>\n",
       "      <td>2021-06-19</td>\n",
       "      <td>523</td>\n",
       "      <td>June</td>\n",
       "      <td>19</td>\n",
       "    </tr>\n",
       "    <tr>\n",
       "      <th>19</th>\n",
       "      <td>RVP1</td>\n",
       "      <td>2021-06-20</td>\n",
       "      <td>528</td>\n",
       "      <td>June</td>\n",
       "      <td>20</td>\n",
       "    </tr>\n",
       "    <tr>\n",
       "      <th>20</th>\n",
       "      <td>RVP1</td>\n",
       "      <td>2021-06-21</td>\n",
       "      <td>574</td>\n",
       "      <td>June</td>\n",
       "      <td>21</td>\n",
       "    </tr>\n",
       "    <tr>\n",
       "      <th>21</th>\n",
       "      <td>RVP1</td>\n",
       "      <td>2021-06-22</td>\n",
       "      <td>621</td>\n",
       "      <td>June</td>\n",
       "      <td>22</td>\n",
       "    </tr>\n",
       "    <tr>\n",
       "      <th>22</th>\n",
       "      <td>RVP1</td>\n",
       "      <td>2021-06-23</td>\n",
       "      <td>667</td>\n",
       "      <td>June</td>\n",
       "      <td>23</td>\n",
       "    </tr>\n",
       "    <tr>\n",
       "      <th>23</th>\n",
       "      <td>RVP1</td>\n",
       "      <td>2021-06-24</td>\n",
       "      <td>714</td>\n",
       "      <td>June</td>\n",
       "      <td>24</td>\n",
       "    </tr>\n",
       "    <tr>\n",
       "      <th>24</th>\n",
       "      <td>RVP1</td>\n",
       "      <td>2021-06-25</td>\n",
       "      <td>774</td>\n",
       "      <td>June</td>\n",
       "      <td>25</td>\n",
       "    </tr>\n",
       "    <tr>\n",
       "      <th>25</th>\n",
       "      <td>RVP1</td>\n",
       "      <td>2021-06-26</td>\n",
       "      <td>781</td>\n",
       "      <td>June</td>\n",
       "      <td>26</td>\n",
       "    </tr>\n",
       "    <tr>\n",
       "      <th>26</th>\n",
       "      <td>RVP1</td>\n",
       "      <td>2021-06-27</td>\n",
       "      <td>787</td>\n",
       "      <td>June</td>\n",
       "      <td>27</td>\n",
       "    </tr>\n",
       "    <tr>\n",
       "      <th>27</th>\n",
       "      <td>RVP1</td>\n",
       "      <td>2021-06-28</td>\n",
       "      <td>865</td>\n",
       "      <td>June</td>\n",
       "      <td>28</td>\n",
       "    </tr>\n",
       "    <tr>\n",
       "      <th>28</th>\n",
       "      <td>RVP1</td>\n",
       "      <td>2021-06-29</td>\n",
       "      <td>936</td>\n",
       "      <td>June</td>\n",
       "      <td>29</td>\n",
       "    </tr>\n",
       "    <tr>\n",
       "      <th>29</th>\n",
       "      <td>RVP1</td>\n",
       "      <td>2021-06-30</td>\n",
       "      <td>1233</td>\n",
       "      <td>June</td>\n",
       "      <td>30</td>\n",
       "    </tr>\n",
       "    <tr>\n",
       "      <th>0</th>\n",
       "      <td>RVP1</td>\n",
       "      <td>2021-07-01</td>\n",
       "      <td>42</td>\n",
       "      <td>July</td>\n",
       "      <td>1</td>\n",
       "    </tr>\n",
       "    <tr>\n",
       "      <th>1</th>\n",
       "      <td>RVP1</td>\n",
       "      <td>2021-07-02</td>\n",
       "      <td>67</td>\n",
       "      <td>July</td>\n",
       "      <td>2</td>\n",
       "    </tr>\n",
       "    <tr>\n",
       "      <th>2</th>\n",
       "      <td>RVP1</td>\n",
       "      <td>2021-07-03</td>\n",
       "      <td>69</td>\n",
       "      <td>July</td>\n",
       "      <td>3</td>\n",
       "    </tr>\n",
       "    <tr>\n",
       "      <th>3</th>\n",
       "      <td>RVP1</td>\n",
       "      <td>2021-07-04</td>\n",
       "      <td>77</td>\n",
       "      <td>July</td>\n",
       "      <td>4</td>\n",
       "    </tr>\n",
       "    <tr>\n",
       "      <th>4</th>\n",
       "      <td>RVP1</td>\n",
       "      <td>2021-07-05</td>\n",
       "      <td>82</td>\n",
       "      <td>July</td>\n",
       "      <td>5</td>\n",
       "    </tr>\n",
       "    <tr>\n",
       "      <th>5</th>\n",
       "      <td>RVP1</td>\n",
       "      <td>2021-07-06</td>\n",
       "      <td>104</td>\n",
       "      <td>July</td>\n",
       "      <td>6</td>\n",
       "    </tr>\n",
       "    <tr>\n",
       "      <th>6</th>\n",
       "      <td>RVP1</td>\n",
       "      <td>2021-07-07</td>\n",
       "      <td>132</td>\n",
       "      <td>July</td>\n",
       "      <td>7</td>\n",
       "    </tr>\n",
       "    <tr>\n",
       "      <th>7</th>\n",
       "      <td>RVP1</td>\n",
       "      <td>2021-07-08</td>\n",
       "      <td>161</td>\n",
       "      <td>July</td>\n",
       "      <td>8</td>\n",
       "    </tr>\n",
       "    <tr>\n",
       "      <th>8</th>\n",
       "      <td>RVP1</td>\n",
       "      <td>2021-07-09</td>\n",
       "      <td>191</td>\n",
       "      <td>July</td>\n",
       "      <td>9</td>\n",
       "    </tr>\n",
       "    <tr>\n",
       "      <th>9</th>\n",
       "      <td>RVP1</td>\n",
       "      <td>2021-07-10</td>\n",
       "      <td>200</td>\n",
       "      <td>July</td>\n",
       "      <td>10</td>\n",
       "    </tr>\n",
       "    <tr>\n",
       "      <th>10</th>\n",
       "      <td>RVP1</td>\n",
       "      <td>2021-07-11</td>\n",
       "      <td>203</td>\n",
       "      <td>July</td>\n",
       "      <td>11</td>\n",
       "    </tr>\n",
       "    <tr>\n",
       "      <th>11</th>\n",
       "      <td>RVP1</td>\n",
       "      <td>2021-07-12</td>\n",
       "      <td>236</td>\n",
       "      <td>July</td>\n",
       "      <td>12</td>\n",
       "    </tr>\n",
       "    <tr>\n",
       "      <th>12</th>\n",
       "      <td>RVP1</td>\n",
       "      <td>2021-07-13</td>\n",
       "      <td>297</td>\n",
       "      <td>July</td>\n",
       "      <td>13</td>\n",
       "    </tr>\n",
       "    <tr>\n",
       "      <th>13</th>\n",
       "      <td>RVP1</td>\n",
       "      <td>2021-07-14</td>\n",
       "      <td>342</td>\n",
       "      <td>July</td>\n",
       "      <td>14</td>\n",
       "    </tr>\n",
       "    <tr>\n",
       "      <th>14</th>\n",
       "      <td>RVP1</td>\n",
       "      <td>2021-07-15</td>\n",
       "      <td>394</td>\n",
       "      <td>July</td>\n",
       "      <td>15</td>\n",
       "    </tr>\n",
       "    <tr>\n",
       "      <th>15</th>\n",
       "      <td>RVP1</td>\n",
       "      <td>2021-07-16</td>\n",
       "      <td>439</td>\n",
       "      <td>July</td>\n",
       "      <td>16</td>\n",
       "    </tr>\n",
       "    <tr>\n",
       "      <th>16</th>\n",
       "      <td>RVP1</td>\n",
       "      <td>2021-07-17</td>\n",
       "      <td>441</td>\n",
       "      <td>July</td>\n",
       "      <td>17</td>\n",
       "    </tr>\n",
       "    <tr>\n",
       "      <th>17</th>\n",
       "      <td>RVP1</td>\n",
       "      <td>2021-07-18</td>\n",
       "      <td>449</td>\n",
       "      <td>July</td>\n",
       "      <td>18</td>\n",
       "    </tr>\n",
       "    <tr>\n",
       "      <th>18</th>\n",
       "      <td>RVP1</td>\n",
       "      <td>2021-07-19</td>\n",
       "      <td>486</td>\n",
       "      <td>July</td>\n",
       "      <td>19</td>\n",
       "    </tr>\n",
       "  </tbody>\n",
       "</table>\n",
       "</div>"
      ],
      "text/plain": [
       "   RVP Region Date Activity  Move-ins Booked booked_month  booked_day\n",
       "0        RVP1    2021-06-01               29         June           1\n",
       "1        RVP1    2021-06-02               60         June           2\n",
       "2        RVP1    2021-06-03               88         June           3\n",
       "3        RVP1    2021-06-04              106         June           4\n",
       "4        RVP1    2021-06-05              112         June           5\n",
       "5        RVP1    2021-06-06              117         June           6\n",
       "6        RVP1    2021-06-07              159         June           7\n",
       "7        RVP1    2021-06-08              186         June           8\n",
       "8        RVP1    2021-06-09              226         June           9\n",
       "9        RVP1    2021-06-10              265         June          10\n",
       "10       RVP1    2021-06-11              296         June          11\n",
       "11       RVP1    2021-06-12              301         June          12\n",
       "12       RVP1    2021-06-13              310         June          13\n",
       "13       RVP1    2021-06-14              362         June          14\n",
       "14       RVP1    2021-06-15              400         June          15\n",
       "15       RVP1    2021-06-16              445         June          16\n",
       "16       RVP1    2021-06-17              471         June          17\n",
       "17       RVP1    2021-06-18              520         June          18\n",
       "18       RVP1    2021-06-19              523         June          19\n",
       "19       RVP1    2021-06-20              528         June          20\n",
       "20       RVP1    2021-06-21              574         June          21\n",
       "21       RVP1    2021-06-22              621         June          22\n",
       "22       RVP1    2021-06-23              667         June          23\n",
       "23       RVP1    2021-06-24              714         June          24\n",
       "24       RVP1    2021-06-25              774         June          25\n",
       "25       RVP1    2021-06-26              781         June          26\n",
       "26       RVP1    2021-06-27              787         June          27\n",
       "27       RVP1    2021-06-28              865         June          28\n",
       "28       RVP1    2021-06-29              936         June          29\n",
       "29       RVP1    2021-06-30             1233         June          30\n",
       "0        RVP1    2021-07-01               42         July           1\n",
       "1        RVP1    2021-07-02               67         July           2\n",
       "2        RVP1    2021-07-03               69         July           3\n",
       "3        RVP1    2021-07-04               77         July           4\n",
       "4        RVP1    2021-07-05               82         July           5\n",
       "5        RVP1    2021-07-06              104         July           6\n",
       "6        RVP1    2021-07-07              132         July           7\n",
       "7        RVP1    2021-07-08              161         July           8\n",
       "8        RVP1    2021-07-09              191         July           9\n",
       "9        RVP1    2021-07-10              200         July          10\n",
       "10       RVP1    2021-07-11              203         July          11\n",
       "11       RVP1    2021-07-12              236         July          12\n",
       "12       RVP1    2021-07-13              297         July          13\n",
       "13       RVP1    2021-07-14              342         July          14\n",
       "14       RVP1    2021-07-15              394         July          15\n",
       "15       RVP1    2021-07-16              439         July          16\n",
       "16       RVP1    2021-07-17              441         July          17\n",
       "17       RVP1    2021-07-18              449         July          18\n",
       "18       RVP1    2021-07-19              486         July          19"
      ]
     },
     "execution_count": 73,
     "metadata": {},
     "output_type": "execute_result"
    }
   ],
   "source": [
    "df_region_mm[df_region_mm['RVP Region'] == 'RVP1']"
   ]
  },
  {
   "cell_type": "code",
   "execution_count": 74,
   "metadata": {},
   "outputs": [
    {
     "ename": "ValueError",
     "evalue": "cannot reindex from a duplicate axis",
     "output_type": "error",
     "traceback": [
      "\u001b[1;31m---------------------------------------------------------------------------\u001b[0m",
      "\u001b[1;31mValueError\u001b[0m                                Traceback (most recent call last)",
      "\u001b[1;32m<ipython-input-74-066d88394995>\u001b[0m in \u001b[0;36m<module>\u001b[1;34m\u001b[0m\n\u001b[0;32m      2\u001b[0m sns.lineplot(data=df_region_mm[df_region_mm['RVP Region'] == 'RVP1'],\n\u001b[0;32m      3\u001b[0m              \u001b[0mx\u001b[0m\u001b[1;33m=\u001b[0m\u001b[1;34m\"booked_day\"\u001b[0m\u001b[1;33m,\u001b[0m \u001b[0my\u001b[0m\u001b[1;33m=\u001b[0m\u001b[1;34m\"Move-ins Booked\"\u001b[0m\u001b[1;33m,\u001b[0m\u001b[1;33m\u001b[0m\u001b[1;33m\u001b[0m\u001b[0m\n\u001b[1;32m----> 4\u001b[1;33m              hue=\"booked_month\")\n\u001b[0m",
      "\u001b[1;32m~\\Anaconda3\\lib\\site-packages\\seaborn\\_decorators.py\u001b[0m in \u001b[0;36minner_f\u001b[1;34m(*args, **kwargs)\u001b[0m\n\u001b[0;32m     44\u001b[0m             )\n\u001b[0;32m     45\u001b[0m         \u001b[0mkwargs\u001b[0m\u001b[1;33m.\u001b[0m\u001b[0mupdate\u001b[0m\u001b[1;33m(\u001b[0m\u001b[1;33m{\u001b[0m\u001b[0mk\u001b[0m\u001b[1;33m:\u001b[0m \u001b[0marg\u001b[0m \u001b[1;32mfor\u001b[0m \u001b[0mk\u001b[0m\u001b[1;33m,\u001b[0m \u001b[0marg\u001b[0m \u001b[1;32min\u001b[0m \u001b[0mzip\u001b[0m\u001b[1;33m(\u001b[0m\u001b[0msig\u001b[0m\u001b[1;33m.\u001b[0m\u001b[0mparameters\u001b[0m\u001b[1;33m,\u001b[0m \u001b[0margs\u001b[0m\u001b[1;33m)\u001b[0m\u001b[1;33m}\u001b[0m\u001b[1;33m)\u001b[0m\u001b[1;33m\u001b[0m\u001b[1;33m\u001b[0m\u001b[0m\n\u001b[1;32m---> 46\u001b[1;33m         \u001b[1;32mreturn\u001b[0m \u001b[0mf\u001b[0m\u001b[1;33m(\u001b[0m\u001b[1;33m**\u001b[0m\u001b[0mkwargs\u001b[0m\u001b[1;33m)\u001b[0m\u001b[1;33m\u001b[0m\u001b[1;33m\u001b[0m\u001b[0m\n\u001b[0m\u001b[0;32m     47\u001b[0m     \u001b[1;32mreturn\u001b[0m \u001b[0minner_f\u001b[0m\u001b[1;33m\u001b[0m\u001b[1;33m\u001b[0m\u001b[0m\n\u001b[0;32m     48\u001b[0m \u001b[1;33m\u001b[0m\u001b[0m\n",
      "\u001b[1;32m~\\Anaconda3\\lib\\site-packages\\seaborn\\relational.py\u001b[0m in \u001b[0;36mlineplot\u001b[1;34m(x, y, hue, size, style, data, palette, hue_order, hue_norm, sizes, size_order, size_norm, dashes, markers, style_order, units, estimator, ci, n_boot, seed, sort, err_style, err_kws, legend, ax, **kwargs)\u001b[0m\n\u001b[0;32m    708\u001b[0m     \u001b[0mp\u001b[0m\u001b[1;33m.\u001b[0m\u001b[0m_attach\u001b[0m\u001b[1;33m(\u001b[0m\u001b[0max\u001b[0m\u001b[1;33m)\u001b[0m\u001b[1;33m\u001b[0m\u001b[1;33m\u001b[0m\u001b[0m\n\u001b[0;32m    709\u001b[0m \u001b[1;33m\u001b[0m\u001b[0m\n\u001b[1;32m--> 710\u001b[1;33m     \u001b[0mp\u001b[0m\u001b[1;33m.\u001b[0m\u001b[0mplot\u001b[0m\u001b[1;33m(\u001b[0m\u001b[0max\u001b[0m\u001b[1;33m,\u001b[0m \u001b[0mkwargs\u001b[0m\u001b[1;33m)\u001b[0m\u001b[1;33m\u001b[0m\u001b[1;33m\u001b[0m\u001b[0m\n\u001b[0m\u001b[0;32m    711\u001b[0m     \u001b[1;32mreturn\u001b[0m \u001b[0max\u001b[0m\u001b[1;33m\u001b[0m\u001b[1;33m\u001b[0m\u001b[0m\n\u001b[0;32m    712\u001b[0m \u001b[1;33m\u001b[0m\u001b[0m\n",
      "\u001b[1;32m~\\Anaconda3\\lib\\site-packages\\seaborn\\relational.py\u001b[0m in \u001b[0;36mplot\u001b[1;34m(self, ax, kws)\u001b[0m\n\u001b[0;32m    469\u001b[0m         \u001b[1;31m# Loop over the semantic subsets and add to the plot\u001b[0m\u001b[1;33m\u001b[0m\u001b[1;33m\u001b[0m\u001b[1;33m\u001b[0m\u001b[0m\n\u001b[0;32m    470\u001b[0m         \u001b[0mgrouping_vars\u001b[0m \u001b[1;33m=\u001b[0m \u001b[1;34m\"hue\"\u001b[0m\u001b[1;33m,\u001b[0m \u001b[1;34m\"size\"\u001b[0m\u001b[1;33m,\u001b[0m \u001b[1;34m\"style\"\u001b[0m\u001b[1;33m\u001b[0m\u001b[1;33m\u001b[0m\u001b[0m\n\u001b[1;32m--> 471\u001b[1;33m         \u001b[1;32mfor\u001b[0m \u001b[0msub_vars\u001b[0m\u001b[1;33m,\u001b[0m \u001b[0msub_data\u001b[0m \u001b[1;32min\u001b[0m \u001b[0mself\u001b[0m\u001b[1;33m.\u001b[0m\u001b[0miter_data\u001b[0m\u001b[1;33m(\u001b[0m\u001b[0mgrouping_vars\u001b[0m\u001b[1;33m,\u001b[0m \u001b[0mfrom_comp_data\u001b[0m\u001b[1;33m=\u001b[0m\u001b[1;32mTrue\u001b[0m\u001b[1;33m)\u001b[0m\u001b[1;33m:\u001b[0m\u001b[1;33m\u001b[0m\u001b[1;33m\u001b[0m\u001b[0m\n\u001b[0m\u001b[0;32m    472\u001b[0m \u001b[1;33m\u001b[0m\u001b[0m\n\u001b[0;32m    473\u001b[0m             \u001b[1;32mif\u001b[0m \u001b[0mself\u001b[0m\u001b[1;33m.\u001b[0m\u001b[0msort\u001b[0m\u001b[1;33m:\u001b[0m\u001b[1;33m\u001b[0m\u001b[1;33m\u001b[0m\u001b[0m\n",
      "\u001b[1;32m~\\Anaconda3\\lib\\site-packages\\seaborn\\_core.py\u001b[0m in \u001b[0;36miter_data\u001b[1;34m(self, grouping_vars, reverse, from_comp_data)\u001b[0m\n\u001b[0;32m    981\u001b[0m \u001b[1;33m\u001b[0m\u001b[0m\n\u001b[0;32m    982\u001b[0m         \u001b[1;32mif\u001b[0m \u001b[0mfrom_comp_data\u001b[0m\u001b[1;33m:\u001b[0m\u001b[1;33m\u001b[0m\u001b[1;33m\u001b[0m\u001b[0m\n\u001b[1;32m--> 983\u001b[1;33m             \u001b[0mdata\u001b[0m \u001b[1;33m=\u001b[0m \u001b[0mself\u001b[0m\u001b[1;33m.\u001b[0m\u001b[0mcomp_data\u001b[0m\u001b[1;33m\u001b[0m\u001b[1;33m\u001b[0m\u001b[0m\n\u001b[0m\u001b[0;32m    984\u001b[0m         \u001b[1;32melse\u001b[0m\u001b[1;33m:\u001b[0m\u001b[1;33m\u001b[0m\u001b[1;33m\u001b[0m\u001b[0m\n\u001b[0;32m    985\u001b[0m             \u001b[0mdata\u001b[0m \u001b[1;33m=\u001b[0m \u001b[0mself\u001b[0m\u001b[1;33m.\u001b[0m\u001b[0mplot_data\u001b[0m\u001b[1;33m\u001b[0m\u001b[1;33m\u001b[0m\u001b[0m\n",
      "\u001b[1;32m~\\Anaconda3\\lib\\site-packages\\seaborn\\_core.py\u001b[0m in \u001b[0;36mcomp_data\u001b[1;34m(self)\u001b[0m\n\u001b[0;32m   1055\u001b[0m                     \u001b[0morig\u001b[0m \u001b[1;33m=\u001b[0m \u001b[0mself\u001b[0m\u001b[1;33m.\u001b[0m\u001b[0mplot_data\u001b[0m\u001b[1;33m[\u001b[0m\u001b[0mvar\u001b[0m\u001b[1;33m]\u001b[0m\u001b[1;33m.\u001b[0m\u001b[0mdropna\u001b[0m\u001b[1;33m(\u001b[0m\u001b[1;33m)\u001b[0m\u001b[1;33m\u001b[0m\u001b[1;33m\u001b[0m\u001b[0m\n\u001b[0;32m   1056\u001b[0m                 \u001b[0mcomp_col\u001b[0m \u001b[1;33m=\u001b[0m \u001b[0mpd\u001b[0m\u001b[1;33m.\u001b[0m\u001b[0mSeries\u001b[0m\u001b[1;33m(\u001b[0m\u001b[0mindex\u001b[0m\u001b[1;33m=\u001b[0m\u001b[0morig\u001b[0m\u001b[1;33m.\u001b[0m\u001b[0mindex\u001b[0m\u001b[1;33m,\u001b[0m \u001b[0mdtype\u001b[0m\u001b[1;33m=\u001b[0m\u001b[0mfloat\u001b[0m\u001b[1;33m,\u001b[0m \u001b[0mname\u001b[0m\u001b[1;33m=\u001b[0m\u001b[0mvar\u001b[0m\u001b[1;33m)\u001b[0m\u001b[1;33m\u001b[0m\u001b[1;33m\u001b[0m\u001b[0m\n\u001b[1;32m-> 1057\u001b[1;33m                 \u001b[0mcomp_col\u001b[0m\u001b[1;33m.\u001b[0m\u001b[0mloc\u001b[0m\u001b[1;33m[\u001b[0m\u001b[0morig\u001b[0m\u001b[1;33m.\u001b[0m\u001b[0mindex\u001b[0m\u001b[1;33m]\u001b[0m \u001b[1;33m=\u001b[0m \u001b[0mpd\u001b[0m\u001b[1;33m.\u001b[0m\u001b[0mto_numeric\u001b[0m\u001b[1;33m(\u001b[0m\u001b[0maxis\u001b[0m\u001b[1;33m.\u001b[0m\u001b[0mconvert_units\u001b[0m\u001b[1;33m(\u001b[0m\u001b[0morig\u001b[0m\u001b[1;33m)\u001b[0m\u001b[1;33m)\u001b[0m\u001b[1;33m\u001b[0m\u001b[1;33m\u001b[0m\u001b[0m\n\u001b[0m\u001b[0;32m   1058\u001b[0m \u001b[1;33m\u001b[0m\u001b[0m\n\u001b[0;32m   1059\u001b[0m                 \u001b[1;32mif\u001b[0m \u001b[0maxis\u001b[0m\u001b[1;33m.\u001b[0m\u001b[0mget_scale\u001b[0m\u001b[1;33m(\u001b[0m\u001b[1;33m)\u001b[0m \u001b[1;33m==\u001b[0m \u001b[1;34m\"log\"\u001b[0m\u001b[1;33m:\u001b[0m\u001b[1;33m\u001b[0m\u001b[1;33m\u001b[0m\u001b[0m\n",
      "\u001b[1;32m~\\Anaconda3\\lib\\site-packages\\pandas\\core\\indexing.py\u001b[0m in \u001b[0;36m__setitem__\u001b[1;34m(self, key, value)\u001b[0m\n\u001b[0;32m    721\u001b[0m \u001b[1;33m\u001b[0m\u001b[0m\n\u001b[0;32m    722\u001b[0m         \u001b[0miloc\u001b[0m \u001b[1;33m=\u001b[0m \u001b[0mself\u001b[0m \u001b[1;32mif\u001b[0m \u001b[0mself\u001b[0m\u001b[1;33m.\u001b[0m\u001b[0mname\u001b[0m \u001b[1;33m==\u001b[0m \u001b[1;34m\"iloc\"\u001b[0m \u001b[1;32melse\u001b[0m \u001b[0mself\u001b[0m\u001b[1;33m.\u001b[0m\u001b[0mobj\u001b[0m\u001b[1;33m.\u001b[0m\u001b[0miloc\u001b[0m\u001b[1;33m\u001b[0m\u001b[1;33m\u001b[0m\u001b[0m\n\u001b[1;32m--> 723\u001b[1;33m         \u001b[0miloc\u001b[0m\u001b[1;33m.\u001b[0m\u001b[0m_setitem_with_indexer\u001b[0m\u001b[1;33m(\u001b[0m\u001b[0mindexer\u001b[0m\u001b[1;33m,\u001b[0m \u001b[0mvalue\u001b[0m\u001b[1;33m,\u001b[0m \u001b[0mself\u001b[0m\u001b[1;33m.\u001b[0m\u001b[0mname\u001b[0m\u001b[1;33m)\u001b[0m\u001b[1;33m\u001b[0m\u001b[1;33m\u001b[0m\u001b[0m\n\u001b[0m\u001b[0;32m    724\u001b[0m \u001b[1;33m\u001b[0m\u001b[0m\n\u001b[0;32m    725\u001b[0m     \u001b[1;32mdef\u001b[0m \u001b[0m_validate_key\u001b[0m\u001b[1;33m(\u001b[0m\u001b[0mself\u001b[0m\u001b[1;33m,\u001b[0m \u001b[0mkey\u001b[0m\u001b[1;33m,\u001b[0m \u001b[0maxis\u001b[0m\u001b[1;33m:\u001b[0m \u001b[0mint\u001b[0m\u001b[1;33m)\u001b[0m\u001b[1;33m:\u001b[0m\u001b[1;33m\u001b[0m\u001b[1;33m\u001b[0m\u001b[0m\n",
      "\u001b[1;32m~\\Anaconda3\\lib\\site-packages\\pandas\\core\\indexing.py\u001b[0m in \u001b[0;36m_setitem_with_indexer\u001b[1;34m(self, indexer, value, name)\u001b[0m\n\u001b[0;32m   1730\u001b[0m             \u001b[0mself\u001b[0m\u001b[1;33m.\u001b[0m\u001b[0m_setitem_with_indexer_split_path\u001b[0m\u001b[1;33m(\u001b[0m\u001b[0mindexer\u001b[0m\u001b[1;33m,\u001b[0m \u001b[0mvalue\u001b[0m\u001b[1;33m,\u001b[0m \u001b[0mname\u001b[0m\u001b[1;33m)\u001b[0m\u001b[1;33m\u001b[0m\u001b[1;33m\u001b[0m\u001b[0m\n\u001b[0;32m   1731\u001b[0m         \u001b[1;32melse\u001b[0m\u001b[1;33m:\u001b[0m\u001b[1;33m\u001b[0m\u001b[1;33m\u001b[0m\u001b[0m\n\u001b[1;32m-> 1732\u001b[1;33m             \u001b[0mself\u001b[0m\u001b[1;33m.\u001b[0m\u001b[0m_setitem_single_block\u001b[0m\u001b[1;33m(\u001b[0m\u001b[0mindexer\u001b[0m\u001b[1;33m,\u001b[0m \u001b[0mvalue\u001b[0m\u001b[1;33m,\u001b[0m \u001b[0mname\u001b[0m\u001b[1;33m)\u001b[0m\u001b[1;33m\u001b[0m\u001b[1;33m\u001b[0m\u001b[0m\n\u001b[0m\u001b[0;32m   1733\u001b[0m \u001b[1;33m\u001b[0m\u001b[0m\n\u001b[0;32m   1734\u001b[0m     \u001b[1;32mdef\u001b[0m \u001b[0m_setitem_with_indexer_split_path\u001b[0m\u001b[1;33m(\u001b[0m\u001b[0mself\u001b[0m\u001b[1;33m,\u001b[0m \u001b[0mindexer\u001b[0m\u001b[1;33m,\u001b[0m \u001b[0mvalue\u001b[0m\u001b[1;33m,\u001b[0m \u001b[0mname\u001b[0m\u001b[1;33m:\u001b[0m \u001b[0mstr\u001b[0m\u001b[1;33m)\u001b[0m\u001b[1;33m:\u001b[0m\u001b[1;33m\u001b[0m\u001b[1;33m\u001b[0m\u001b[0m\n",
      "\u001b[1;32m~\\Anaconda3\\lib\\site-packages\\pandas\\core\\indexing.py\u001b[0m in \u001b[0;36m_setitem_single_block\u001b[1;34m(self, indexer, value, name)\u001b[0m\n\u001b[0;32m   1957\u001b[0m             \u001b[1;31m# setting for extensionarrays that store dicts. Need to decide\u001b[0m\u001b[1;33m\u001b[0m\u001b[1;33m\u001b[0m\u001b[1;33m\u001b[0m\u001b[0m\n\u001b[0;32m   1958\u001b[0m             \u001b[1;31m# if it's worth supporting that.\u001b[0m\u001b[1;33m\u001b[0m\u001b[1;33m\u001b[0m\u001b[1;33m\u001b[0m\u001b[0m\n\u001b[1;32m-> 1959\u001b[1;33m             \u001b[0mvalue\u001b[0m \u001b[1;33m=\u001b[0m \u001b[0mself\u001b[0m\u001b[1;33m.\u001b[0m\u001b[0m_align_series\u001b[0m\u001b[1;33m(\u001b[0m\u001b[0mindexer\u001b[0m\u001b[1;33m,\u001b[0m \u001b[0mSeries\u001b[0m\u001b[1;33m(\u001b[0m\u001b[0mvalue\u001b[0m\u001b[1;33m)\u001b[0m\u001b[1;33m)\u001b[0m\u001b[1;33m\u001b[0m\u001b[1;33m\u001b[0m\u001b[0m\n\u001b[0m\u001b[0;32m   1960\u001b[0m \u001b[1;33m\u001b[0m\u001b[0m\n\u001b[0;32m   1961\u001b[0m         \u001b[1;32melif\u001b[0m \u001b[0misinstance\u001b[0m\u001b[1;33m(\u001b[0m\u001b[0mvalue\u001b[0m\u001b[1;33m,\u001b[0m \u001b[0mABCDataFrame\u001b[0m\u001b[1;33m)\u001b[0m \u001b[1;32mand\u001b[0m \u001b[0mname\u001b[0m \u001b[1;33m!=\u001b[0m \u001b[1;34m\"iloc\"\u001b[0m\u001b[1;33m:\u001b[0m\u001b[1;33m\u001b[0m\u001b[1;33m\u001b[0m\u001b[0m\n",
      "\u001b[1;32m~\\Anaconda3\\lib\\site-packages\\pandas\\core\\indexing.py\u001b[0m in \u001b[0;36m_align_series\u001b[1;34m(self, indexer, ser, multiindex_indexer)\u001b[0m\n\u001b[0;32m   2094\u001b[0m             \u001b[1;31m# series, so need to broadcast (see GH5206)\u001b[0m\u001b[1;33m\u001b[0m\u001b[1;33m\u001b[0m\u001b[1;33m\u001b[0m\u001b[0m\n\u001b[0;32m   2095\u001b[0m             \u001b[1;32mif\u001b[0m \u001b[0msum_aligners\u001b[0m \u001b[1;33m==\u001b[0m \u001b[0mself\u001b[0m\u001b[1;33m.\u001b[0m\u001b[0mndim\u001b[0m \u001b[1;32mand\u001b[0m \u001b[0mall\u001b[0m\u001b[1;33m(\u001b[0m\u001b[0mis_sequence\u001b[0m\u001b[1;33m(\u001b[0m\u001b[0m_\u001b[0m\u001b[1;33m)\u001b[0m \u001b[1;32mfor\u001b[0m \u001b[0m_\u001b[0m \u001b[1;32min\u001b[0m \u001b[0mindexer\u001b[0m\u001b[1;33m)\u001b[0m\u001b[1;33m:\u001b[0m\u001b[1;33m\u001b[0m\u001b[1;33m\u001b[0m\u001b[0m\n\u001b[1;32m-> 2096\u001b[1;33m                 \u001b[0mser\u001b[0m \u001b[1;33m=\u001b[0m \u001b[0mser\u001b[0m\u001b[1;33m.\u001b[0m\u001b[0mreindex\u001b[0m\u001b[1;33m(\u001b[0m\u001b[0mobj\u001b[0m\u001b[1;33m.\u001b[0m\u001b[0maxes\u001b[0m\u001b[1;33m[\u001b[0m\u001b[1;36m0\u001b[0m\u001b[1;33m]\u001b[0m\u001b[1;33m[\u001b[0m\u001b[0mindexer\u001b[0m\u001b[1;33m[\u001b[0m\u001b[1;36m0\u001b[0m\u001b[1;33m]\u001b[0m\u001b[1;33m]\u001b[0m\u001b[1;33m,\u001b[0m \u001b[0mcopy\u001b[0m\u001b[1;33m=\u001b[0m\u001b[1;32mTrue\u001b[0m\u001b[1;33m)\u001b[0m\u001b[1;33m.\u001b[0m\u001b[0m_values\u001b[0m\u001b[1;33m\u001b[0m\u001b[1;33m\u001b[0m\u001b[0m\n\u001b[0m\u001b[0;32m   2097\u001b[0m \u001b[1;33m\u001b[0m\u001b[0m\n\u001b[0;32m   2098\u001b[0m                 \u001b[1;31m# single indexer\u001b[0m\u001b[1;33m\u001b[0m\u001b[1;33m\u001b[0m\u001b[1;33m\u001b[0m\u001b[0m\n",
      "\u001b[1;32m~\\Anaconda3\\lib\\site-packages\\pandas\\core\\series.py\u001b[0m in \u001b[0;36mreindex\u001b[1;34m(self, index, **kwargs)\u001b[0m\n\u001b[0;32m   4578\u001b[0m     )\n\u001b[0;32m   4579\u001b[0m     \u001b[1;32mdef\u001b[0m \u001b[0mreindex\u001b[0m\u001b[1;33m(\u001b[0m\u001b[0mself\u001b[0m\u001b[1;33m,\u001b[0m \u001b[0mindex\u001b[0m\u001b[1;33m=\u001b[0m\u001b[1;32mNone\u001b[0m\u001b[1;33m,\u001b[0m \u001b[1;33m**\u001b[0m\u001b[0mkwargs\u001b[0m\u001b[1;33m)\u001b[0m\u001b[1;33m:\u001b[0m\u001b[1;33m\u001b[0m\u001b[1;33m\u001b[0m\u001b[0m\n\u001b[1;32m-> 4580\u001b[1;33m         \u001b[1;32mreturn\u001b[0m \u001b[0msuper\u001b[0m\u001b[1;33m(\u001b[0m\u001b[1;33m)\u001b[0m\u001b[1;33m.\u001b[0m\u001b[0mreindex\u001b[0m\u001b[1;33m(\u001b[0m\u001b[0mindex\u001b[0m\u001b[1;33m=\u001b[0m\u001b[0mindex\u001b[0m\u001b[1;33m,\u001b[0m \u001b[1;33m**\u001b[0m\u001b[0mkwargs\u001b[0m\u001b[1;33m)\u001b[0m\u001b[1;33m\u001b[0m\u001b[1;33m\u001b[0m\u001b[0m\n\u001b[0m\u001b[0;32m   4581\u001b[0m \u001b[1;33m\u001b[0m\u001b[0m\n\u001b[0;32m   4582\u001b[0m     \u001b[1;33m@\u001b[0m\u001b[0mdeprecate_nonkeyword_arguments\u001b[0m\u001b[1;33m(\u001b[0m\u001b[0mversion\u001b[0m\u001b[1;33m=\u001b[0m\u001b[1;32mNone\u001b[0m\u001b[1;33m,\u001b[0m \u001b[0mallowed_args\u001b[0m\u001b[1;33m=\u001b[0m\u001b[1;33m[\u001b[0m\u001b[1;34m\"self\"\u001b[0m\u001b[1;33m,\u001b[0m \u001b[1;34m\"labels\"\u001b[0m\u001b[1;33m]\u001b[0m\u001b[1;33m)\u001b[0m\u001b[1;33m\u001b[0m\u001b[1;33m\u001b[0m\u001b[0m\n",
      "\u001b[1;32m~\\Anaconda3\\lib\\site-packages\\pandas\\core\\generic.py\u001b[0m in \u001b[0;36mreindex\u001b[1;34m(self, *args, **kwargs)\u001b[0m\n\u001b[0;32m   4817\u001b[0m         \u001b[1;31m# perform the reindex on the axes\u001b[0m\u001b[1;33m\u001b[0m\u001b[1;33m\u001b[0m\u001b[1;33m\u001b[0m\u001b[0m\n\u001b[0;32m   4818\u001b[0m         return self._reindex_axes(\n\u001b[1;32m-> 4819\u001b[1;33m             \u001b[0maxes\u001b[0m\u001b[1;33m,\u001b[0m \u001b[0mlevel\u001b[0m\u001b[1;33m,\u001b[0m \u001b[0mlimit\u001b[0m\u001b[1;33m,\u001b[0m \u001b[0mtolerance\u001b[0m\u001b[1;33m,\u001b[0m \u001b[0mmethod\u001b[0m\u001b[1;33m,\u001b[0m \u001b[0mfill_value\u001b[0m\u001b[1;33m,\u001b[0m \u001b[0mcopy\u001b[0m\u001b[1;33m\u001b[0m\u001b[1;33m\u001b[0m\u001b[0m\n\u001b[0m\u001b[0;32m   4820\u001b[0m         ).__finalize__(self, method=\"reindex\")\n\u001b[0;32m   4821\u001b[0m \u001b[1;33m\u001b[0m\u001b[0m\n",
      "\u001b[1;32m~\\Anaconda3\\lib\\site-packages\\pandas\\core\\generic.py\u001b[0m in \u001b[0;36m_reindex_axes\u001b[1;34m(self, axes, level, limit, tolerance, method, fill_value, copy)\u001b[0m\n\u001b[0;32m   4841\u001b[0m                 \u001b[0mfill_value\u001b[0m\u001b[1;33m=\u001b[0m\u001b[0mfill_value\u001b[0m\u001b[1;33m,\u001b[0m\u001b[1;33m\u001b[0m\u001b[1;33m\u001b[0m\u001b[0m\n\u001b[0;32m   4842\u001b[0m                 \u001b[0mcopy\u001b[0m\u001b[1;33m=\u001b[0m\u001b[0mcopy\u001b[0m\u001b[1;33m,\u001b[0m\u001b[1;33m\u001b[0m\u001b[1;33m\u001b[0m\u001b[0m\n\u001b[1;32m-> 4843\u001b[1;33m                 \u001b[0mallow_dups\u001b[0m\u001b[1;33m=\u001b[0m\u001b[1;32mFalse\u001b[0m\u001b[1;33m,\u001b[0m\u001b[1;33m\u001b[0m\u001b[1;33m\u001b[0m\u001b[0m\n\u001b[0m\u001b[0;32m   4844\u001b[0m             )\n\u001b[0;32m   4845\u001b[0m \u001b[1;33m\u001b[0m\u001b[0m\n",
      "\u001b[1;32m~\\Anaconda3\\lib\\site-packages\\pandas\\core\\generic.py\u001b[0m in \u001b[0;36m_reindex_with_indexers\u001b[1;34m(self, reindexers, fill_value, copy, allow_dups)\u001b[0m\n\u001b[0;32m   4887\u001b[0m                 \u001b[0mfill_value\u001b[0m\u001b[1;33m=\u001b[0m\u001b[0mfill_value\u001b[0m\u001b[1;33m,\u001b[0m\u001b[1;33m\u001b[0m\u001b[1;33m\u001b[0m\u001b[0m\n\u001b[0;32m   4888\u001b[0m                 \u001b[0mallow_dups\u001b[0m\u001b[1;33m=\u001b[0m\u001b[0mallow_dups\u001b[0m\u001b[1;33m,\u001b[0m\u001b[1;33m\u001b[0m\u001b[1;33m\u001b[0m\u001b[0m\n\u001b[1;32m-> 4889\u001b[1;33m                 \u001b[0mcopy\u001b[0m\u001b[1;33m=\u001b[0m\u001b[0mcopy\u001b[0m\u001b[1;33m,\u001b[0m\u001b[1;33m\u001b[0m\u001b[1;33m\u001b[0m\u001b[0m\n\u001b[0m\u001b[0;32m   4890\u001b[0m             )\n\u001b[0;32m   4891\u001b[0m             \u001b[1;31m# If we've made a copy once, no need to make another one\u001b[0m\u001b[1;33m\u001b[0m\u001b[1;33m\u001b[0m\u001b[1;33m\u001b[0m\u001b[0m\n",
      "\u001b[1;32m~\\Anaconda3\\lib\\site-packages\\pandas\\core\\internals\\managers.py\u001b[0m in \u001b[0;36mreindex_indexer\u001b[1;34m(self, new_axis, indexer, axis, fill_value, allow_dups, copy, consolidate, only_slice)\u001b[0m\n\u001b[0;32m    668\u001b[0m         \u001b[1;31m# some axes don't allow reindexing with dups\u001b[0m\u001b[1;33m\u001b[0m\u001b[1;33m\u001b[0m\u001b[1;33m\u001b[0m\u001b[0m\n\u001b[0;32m    669\u001b[0m         \u001b[1;32mif\u001b[0m \u001b[1;32mnot\u001b[0m \u001b[0mallow_dups\u001b[0m\u001b[1;33m:\u001b[0m\u001b[1;33m\u001b[0m\u001b[1;33m\u001b[0m\u001b[0m\n\u001b[1;32m--> 670\u001b[1;33m             \u001b[0mself\u001b[0m\u001b[1;33m.\u001b[0m\u001b[0maxes\u001b[0m\u001b[1;33m[\u001b[0m\u001b[0maxis\u001b[0m\u001b[1;33m]\u001b[0m\u001b[1;33m.\u001b[0m\u001b[0m_validate_can_reindex\u001b[0m\u001b[1;33m(\u001b[0m\u001b[0mindexer\u001b[0m\u001b[1;33m)\u001b[0m\u001b[1;33m\u001b[0m\u001b[1;33m\u001b[0m\u001b[0m\n\u001b[0m\u001b[0;32m    671\u001b[0m \u001b[1;33m\u001b[0m\u001b[0m\n\u001b[0;32m    672\u001b[0m         \u001b[1;32mif\u001b[0m \u001b[0maxis\u001b[0m \u001b[1;33m>=\u001b[0m \u001b[0mself\u001b[0m\u001b[1;33m.\u001b[0m\u001b[0mndim\u001b[0m\u001b[1;33m:\u001b[0m\u001b[1;33m\u001b[0m\u001b[1;33m\u001b[0m\u001b[0m\n",
      "\u001b[1;32m~\\Anaconda3\\lib\\site-packages\\pandas\\core\\indexes\\base.py\u001b[0m in \u001b[0;36m_validate_can_reindex\u001b[1;34m(self, indexer)\u001b[0m\n\u001b[0;32m   3783\u001b[0m         \u001b[1;31m# trying to reindex on an axis with duplicates\u001b[0m\u001b[1;33m\u001b[0m\u001b[1;33m\u001b[0m\u001b[1;33m\u001b[0m\u001b[0m\n\u001b[0;32m   3784\u001b[0m         \u001b[1;32mif\u001b[0m \u001b[1;32mnot\u001b[0m \u001b[0mself\u001b[0m\u001b[1;33m.\u001b[0m\u001b[0m_index_as_unique\u001b[0m \u001b[1;32mand\u001b[0m \u001b[0mlen\u001b[0m\u001b[1;33m(\u001b[0m\u001b[0mindexer\u001b[0m\u001b[1;33m)\u001b[0m\u001b[1;33m:\u001b[0m\u001b[1;33m\u001b[0m\u001b[1;33m\u001b[0m\u001b[0m\n\u001b[1;32m-> 3785\u001b[1;33m             \u001b[1;32mraise\u001b[0m \u001b[0mValueError\u001b[0m\u001b[1;33m(\u001b[0m\u001b[1;34m\"cannot reindex from a duplicate axis\"\u001b[0m\u001b[1;33m)\u001b[0m\u001b[1;33m\u001b[0m\u001b[1;33m\u001b[0m\u001b[0m\n\u001b[0m\u001b[0;32m   3786\u001b[0m \u001b[1;33m\u001b[0m\u001b[0m\n\u001b[0;32m   3787\u001b[0m     def reindex(\n",
      "\u001b[1;31mValueError\u001b[0m: cannot reindex from a duplicate axis"
     ]
    },
    {
     "data": {
      "image/png": "[encoded data removed]",
      "text/plain": [
       "<Figure size 1080x576 with 1 Axes>"
      ]
     },
     "metadata": {
      "needs_background": "light"
     },
     "output_type": "display_data"
    }
   ],
   "source": [
    "## correct for this error\n",
    "plt.figure(figsize = (15,8))\n",
    "sns.lineplot(data=df_region_mm[df_region_mm['RVP Region'] == 'RVP1'],\n",
    "             x=\"booked_day\", y=\"Move-ins Booked\",\n",
    "             hue=\"booked_month\")"
   ]
  },
  {
   "cell_type": "code",
   "execution_count": null,
   "metadata": {},
   "outputs": [],
   "source": []
  }
 ],
 "metadata": {
  "kernelspec": {
   "display_name": "Python 3",
   "language": "python",
   "name": "python3"
  },
  "language_info": {
   "codemirror_mode": {
    "name": "ipython",
    "version": 3
   },
   "file_extension": ".py",
   "mimetype": "text/x-python",
   "name": "python",
   "nbconvert_exporter": "python",
   "pygments_lexer": "ipython3",
   "version": "3.7.3"
  }
 },
 "nbformat": 4,
 "nbformat_minor": 2
}
