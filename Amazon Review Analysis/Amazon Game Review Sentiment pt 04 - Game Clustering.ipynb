{
 "cells": [
  {
   "cell_type": "code",
   "execution_count": 1,
   "metadata": {},
   "outputs": [],
   "source": [
    "# In this notebook:\n",
    "\n",
    "# clean up the dataset for better clustering\n",
    "# guess and label game titles for visualization\n",
    "# utilize pivot tables for calculations\n",
    "# attempt K-means and Agglomerative clustering to group games\n",
    "\n",
    "# Results: K-Means clustering was pretty successful at grouping games by genre"
   ]
  },
  {
   "cell_type": "code",
   "execution_count": 2,
   "metadata": {},
   "outputs": [],
   "source": [
    "import numpy as np\n",
    "import pandas as pd\n",
    "import matplotlib.pyplot as plt"
   ]
  },
  {
   "cell_type": "code",
   "execution_count": 3,
   "metadata": {},
   "outputs": [],
   "source": [
    "import warnings\n",
    "warnings.filterwarnings('ignore')\n",
    "pd.set_option('display.max_colwidth', 100)"
   ]
  },
  {
   "cell_type": "code",
   "execution_count": 4,
   "metadata": {},
   "outputs": [
    {
     "name": "stdout",
     "output_type": "stream",
     "text": [
      "Dataset has 98144 samples\n"
     ]
    },
    {
     "data": {
      "text/html": [
       "<div>\n",
       "<style scoped>\n",
       "    .dataframe tbody tr th:only-of-type {\n",
       "        vertical-align: middle;\n",
       "    }\n",
       "\n",
       "    .dataframe tbody tr th {\n",
       "        vertical-align: top;\n",
       "    }\n",
       "\n",
       "    .dataframe thead th {\n",
       "        text-align: right;\n",
       "    }\n",
       "</style>\n",
       "<table border=\"1\" class=\"dataframe\">\n",
       "  <thead>\n",
       "    <tr style=\"text-align: right;\">\n",
       "      <th></th>\n",
       "      <th>asin</th>\n",
       "      <th>helppercent</th>\n",
       "      <th>overall</th>\n",
       "      <th>cleansum</th>\n",
       "      <th>cleantxt</th>\n",
       "      <th>cleanboth</th>\n",
       "    </tr>\n",
       "  </thead>\n",
       "  <tbody>\n",
       "    <tr>\n",
       "      <th>0</th>\n",
       "      <td>0700099867</td>\n",
       "      <td>0.666667</td>\n",
       "      <td>1</td>\n",
       "      <td>pay unlock content dont think</td>\n",
       "      <td>instal game wa struggle game window live championship race car unlock buy addon game pay nearly ...</td>\n",
       "      <td>pay unlock content dont think instal game wa struggle game window live championship race car unl...</td>\n",
       "    </tr>\n",
       "    <tr>\n",
       "      <th>1</th>\n",
       "      <td>0700099867</td>\n",
       "      <td>0.700000</td>\n",
       "      <td>3</td>\n",
       "      <td>awesome game crash frequently</td>\n",
       "      <td>get version instead p version turn mistake console version game look percent good pc version dea...</td>\n",
       "      <td>awesome game crash frequently get version instead p version turn mistake console version game lo...</td>\n",
       "    </tr>\n",
       "    <tr>\n",
       "      <th>2</th>\n",
       "      <td>0700099867</td>\n",
       "      <td>1.000000</td>\n",
       "      <td>4</td>\n",
       "      <td>dirt</td>\n",
       "      <td>dirt xbox wa okay game start play game laptop buy new game build collection game fun play much b...</td>\n",
       "      <td>dirt dirt xbox wa okay game start play game laptop buy new game build collection game fun play m...</td>\n",
       "    </tr>\n",
       "    <tr>\n",
       "      <th>3</th>\n",
       "      <td>0700099867</td>\n",
       "      <td>0.846154</td>\n",
       "      <td>5</td>\n",
       "      <td>step dirt terrific</td>\n",
       "      <td>love play dirt think graphic good purchase dirt addition otherand graphic absolutely gorgeous li...</td>\n",
       "      <td>step dirt terrific love play dirt think graphic good purchase dirt addition otherand graphic abs...</td>\n",
       "    </tr>\n",
       "    <tr>\n",
       "      <th>4</th>\n",
       "      <td>0700099867</td>\n",
       "      <td>1.000000</td>\n",
       "      <td>2</td>\n",
       "      <td>couldnt get one work</td>\n",
       "      <td>still havent figure one everything instruct game never instal strange since dont like rate somet...</td>\n",
       "      <td>couldnt get one work still havent figure one everything instruct game never instal strange since...</td>\n",
       "    </tr>\n",
       "  </tbody>\n",
       "</table>\n",
       "</div>"
      ],
      "text/plain": [
       "         asin  helppercent  overall                       cleansum  \\\n",
       "0  0700099867     0.666667        1  pay unlock content dont think   \n",
       "1  0700099867     0.700000        3  awesome game crash frequently   \n",
       "2  0700099867     1.000000        4                           dirt   \n",
       "3  0700099867     0.846154        5             step dirt terrific   \n",
       "4  0700099867     1.000000        2           couldnt get one work   \n",
       "\n",
       "                                                                                              cleantxt  \\\n",
       "0  instal game wa struggle game window live championship race car unlock buy addon game pay nearly ...   \n",
       "1  get version instead p version turn mistake console version game look percent good pc version dea...   \n",
       "2  dirt xbox wa okay game start play game laptop buy new game build collection game fun play much b...   \n",
       "3  love play dirt think graphic good purchase dirt addition otherand graphic absolutely gorgeous li...   \n",
       "4  still havent figure one everything instruct game never instal strange since dont like rate somet...   \n",
       "\n",
       "                                                                                             cleanboth  \n",
       "0  pay unlock content dont think instal game wa struggle game window live championship race car unl...  \n",
       "1  awesome game crash frequently get version instead p version turn mistake console version game lo...  \n",
       "2  dirt dirt xbox wa okay game start play game laptop buy new game build collection game fun play m...  \n",
       "3  step dirt terrific love play dirt think graphic good purchase dirt addition otherand graphic abs...  \n",
       "4  couldnt get one work still havent figure one everything instruct game never instal strange since...  "
      ]
     },
     "execution_count": 4,
     "metadata": {},
     "output_type": "execute_result"
    }
   ],
   "source": [
    "gorig = pd.read_csv('amazon_games_clean.csv',index_col=0)\n",
    "\n",
    "print(f'Dataset has {gorig.shape[0]} samples')\n",
    "\n",
    "gorig.head()"
   ]
  },
  {
   "cell_type": "code",
   "execution_count": 5,
   "metadata": {},
   "outputs": [
    {
     "name": "stdout",
     "output_type": "stream",
     "text": [
      "<class 'pandas.core.frame.DataFrame'>\n",
      "Int64Index: 98144 entries, 0 to 98143\n",
      "Data columns (total 6 columns):\n",
      "asin           98144 non-null object\n",
      "helppercent    98144 non-null float64\n",
      "overall        98144 non-null int64\n",
      "cleansum       98144 non-null object\n",
      "cleantxt       98144 non-null object\n",
      "cleanboth      98144 non-null object\n",
      "dtypes: float64(1), int64(1), object(4)\n",
      "memory usage: 5.2+ MB\n"
     ]
    }
   ],
   "source": [
    "gorig.fillna(value='filler', inplace=True)\n",
    "\n",
    "gorig.info()"
   ]
  },
  {
   "cell_type": "code",
   "execution_count": 6,
   "metadata": {},
   "outputs": [
    {
     "name": "stdout",
     "output_type": "stream",
     "text": [
      "Unique games with 50~65 reviews: 93\n"
     ]
    }
   ],
   "source": [
    "vc_asin = gorig['asin'].value_counts()\n",
    "vc_asin = vc_asin[(vc_asin >= 50) & (vc_asin <= 65)]\n",
    "\n",
    "print(f'Unique games with 50~65 reviews: {len(vc_asin)}')"
   ]
  },
  {
   "cell_type": "code",
   "execution_count": 7,
   "metadata": {},
   "outputs": [
    {
     "name": "stdout",
     "output_type": "stream",
     "text": [
      "Dataset size of 50~65 reviews games: 5205\n",
      "Dataset unique word size is: 24322\n"
     ]
    }
   ],
   "source": [
    "# this gives us a better population for clustering\n",
    "gedit = gorig[gorig['asin'].isin(list(vc_asin.index))]\n",
    "gedit.reset_index(drop=True, inplace=True)\n",
    "\n",
    "print(f'Dataset size of 50~65 reviews games: {gedit.shape[0]}')\n",
    "print(f\"Dataset unique word size is: {len(pd.Series(' '.join(gedit['cleanboth']).split()).value_counts())}\")"
   ]
  },
  {
   "cell_type": "markdown",
   "metadata": {},
   "source": [
    "## Remove frequent and rare words for better clustering"
   ]
  },
  {
   "cell_type": "code",
   "execution_count": 8,
   "metadata": {},
   "outputs": [
    {
     "data": {
      "text/plain": [
       "game         35060\n",
       "play         10191\n",
       "get           9275\n",
       "wa            8563\n",
       "like          8500\n",
       "one           7136\n",
       "time          6213\n",
       "make          5761\n",
       "ha            5026\n",
       "go            4868\n",
       "really        4674\n",
       "good          4196\n",
       "great         4126\n",
       "much          4049\n",
       "fun           3748\n",
       "use           3716\n",
       "new           3707\n",
       "story         3697\n",
       "even          3689\n",
       "dont          3620\n",
       "character     3534\n",
       "thing         3532\n",
       "also          3479\n",
       "take          3474\n",
       "first         3432\n",
       "would         3221\n",
       "well          3169\n",
       "say           3153\n",
       "look          3122\n",
       "find          3088\n",
       "dtype: int64"
      ]
     },
     "execution_count": 8,
     "metadata": {},
     "output_type": "execute_result"
    }
   ],
   "source": [
    "# non-distinguishing but frequent words like 'game' can affect clustering\n",
    "both_words = pd.Series(' '.join(gedit['cleanboth']).split()).value_counts()\n",
    "\n",
    "both_words[:30]"
   ]
  },
  {
   "cell_type": "code",
   "execution_count": 9,
   "metadata": {},
   "outputs": [
    {
     "name": "stdout",
     "output_type": "stream",
     "text": [
      "Freq word size: 30\n",
      "Rare word size: 15058\n"
     ]
    }
   ],
   "source": [
    "freq_words = both_words[(both_words >= 3000)]\n",
    "rare_words = both_words[(both_words <= 3)]\n",
    "\n",
    "print(f'Freq word size: {len(freq_words)}')\n",
    "print(f'Rare word size: {len(rare_words)}')"
   ]
  },
  {
   "cell_type": "code",
   "execution_count": 10,
   "metadata": {},
   "outputs": [],
   "source": [
    "# removing sentiment words by choice as they skew clusters\n",
    "sentiment_words = ['good','bad','great','terrible','love','hate','awesome','really','much']"
   ]
  },
  {
   "cell_type": "code",
   "execution_count": 11,
   "metadata": {},
   "outputs": [
    {
     "data": {
      "text/html": [
       "<div>\n",
       "<style scoped>\n",
       "    .dataframe tbody tr th:only-of-type {\n",
       "        vertical-align: middle;\n",
       "    }\n",
       "\n",
       "    .dataframe tbody tr th {\n",
       "        vertical-align: top;\n",
       "    }\n",
       "\n",
       "    .dataframe thead th {\n",
       "        text-align: right;\n",
       "    }\n",
       "</style>\n",
       "<table border=\"1\" class=\"dataframe\">\n",
       "  <thead>\n",
       "    <tr style=\"text-align: right;\">\n",
       "      <th></th>\n",
       "      <th>asin</th>\n",
       "      <th>helppercent</th>\n",
       "      <th>overall</th>\n",
       "      <th>cleansum</th>\n",
       "      <th>cleantxt</th>\n",
       "      <th>cleanboth</th>\n",
       "    </tr>\n",
       "  </thead>\n",
       "  <tbody>\n",
       "    <tr>\n",
       "      <th>0</th>\n",
       "      <td>B00000DMB3</td>\n",
       "      <td>1.000000</td>\n",
       "      <td>5</td>\n",
       "      <td>love game</td>\n",
       "      <td>love game love game love game get ocarina time year since ha come still rock even comparison wha...</td>\n",
       "      <td>ocarina year since come still rock comparison whats ive playstation couple year ocarina realize ...</td>\n",
       "    </tr>\n",
       "    <tr>\n",
       "      <th>1</th>\n",
       "      <td>B00000DMB3</td>\n",
       "      <td>1.000000</td>\n",
       "      <td>5</td>\n",
       "      <td>true classic</td>\n",
       "      <td>game blow away didnt expect ocarina meet standard play previous zelda game usually go stale pred...</td>\n",
       "      <td>true classic blow away didnt expect ocarina meet standard previous zelda usually stale predictab...</td>\n",
       "    </tr>\n",
       "    <tr>\n",
       "      <th>2</th>\n",
       "      <td>B00000DMB3</td>\n",
       "      <td>0.666667</td>\n",
       "      <td>5</td>\n",
       "      <td>timeless classic</td>\n",
       "      <td>im gamers call zelda veteran ive play almost zelda game manage beat one one love zelda game chal...</td>\n",
       "      <td>timeless classic im gamers call zelda veteran ive almost zelda manage beat zelda challenge diffe...</td>\n",
       "    </tr>\n",
       "    <tr>\n",
       "      <th>3</th>\n",
       "      <td>B00000DMB3</td>\n",
       "      <td>1.000000</td>\n",
       "      <td>5</td>\n",
       "      <td>one n game must</td>\n",
       "      <td>follow lineage zelda early day classic bite system onward snes day quota link pastquot great gam...</td>\n",
       "      <td>must follow zelda early day classic bite system onward snes day quota link pastquot every second...</td>\n",
       "    </tr>\n",
       "    <tr>\n",
       "      <th>4</th>\n",
       "      <td>B00000DMB3</td>\n",
       "      <td>0.833333</td>\n",
       "      <td>5</td>\n",
       "      <td>legendary</td>\n",
       "      <td>play game zelda game ever play wa link past couldnt understand well decide play hype wa sure gla...</td>\n",
       "      <td>legendary zelda ever link past couldnt understand decide hype sure glad best ever full adventure...</td>\n",
       "    </tr>\n",
       "  </tbody>\n",
       "</table>\n",
       "</div>"
      ],
      "text/plain": [
       "         asin  helppercent  overall          cleansum  \\\n",
       "0  B00000DMB3     1.000000        5         love game   \n",
       "1  B00000DMB3     1.000000        5      true classic   \n",
       "2  B00000DMB3     0.666667        5  timeless classic   \n",
       "3  B00000DMB3     1.000000        5   one n game must   \n",
       "4  B00000DMB3     0.833333        5         legendary   \n",
       "\n",
       "                                                                                              cleantxt  \\\n",
       "0  love game love game love game get ocarina time year since ha come still rock even comparison wha...   \n",
       "1  game blow away didnt expect ocarina meet standard play previous zelda game usually go stale pred...   \n",
       "2  im gamers call zelda veteran ive play almost zelda game manage beat one one love zelda game chal...   \n",
       "3  follow lineage zelda early day classic bite system onward snes day quota link pastquot great gam...   \n",
       "4  play game zelda game ever play wa link past couldnt understand well decide play hype wa sure gla...   \n",
       "\n",
       "                                                                                             cleanboth  \n",
       "0  ocarina year since come still rock comparison whats ive playstation couple year ocarina realize ...  \n",
       "1  true classic blow away didnt expect ocarina meet standard previous zelda usually stale predictab...  \n",
       "2  timeless classic im gamers call zelda veteran ive almost zelda manage beat zelda challenge diffe...  \n",
       "3  must follow zelda early day classic bite system onward snes day quota link pastquot every second...  \n",
       "4  legendary zelda ever link past couldnt understand decide hype sure glad best ever full adventure...  "
      ]
     },
     "execution_count": 11,
     "metadata": {},
     "output_type": "execute_result"
    }
   ],
   "source": [
    "gedit['cleanboth'] = gedit['cleanboth'].apply(lambda x: \" \".join(x for x in str(x).split() if x not in freq_words))\n",
    "gedit['cleanboth'] = gedit['cleanboth'].apply(lambda x: \" \".join(x for x in str(x).split() if x not in rare_words))\n",
    "gedit['cleanboth'] = gedit['cleanboth'].apply(lambda x: \" \".join(x for x in str(x).split() if x not in sentiment_words))\n",
    "gedit['cleanboth'] = gedit['cleanboth'].apply(lambda x: \" \".join(x for x in str(x).split() if len(x) > 1))\n",
    "\n",
    "gedit.head()"
   ]
  },
  {
   "cell_type": "code",
   "execution_count": 12,
   "metadata": {},
   "outputs": [
    {
     "name": "stdout",
     "output_type": "stream",
     "text": [
      "Remaining unique word count: 9212\n"
     ]
    }
   ],
   "source": [
    "print(f\"Remaining unique word count: {len(pd.Series(' '.join(gedit['cleanboth']).split()).value_counts())}\")"
   ]
  },
  {
   "cell_type": "markdown",
   "metadata": {},
   "source": [
    "## Game title identification"
   ]
  },
  {
   "cell_type": "code",
   "execution_count": 16,
   "metadata": {},
   "outputs": [],
   "source": [
    "# utilizing technique from pt 3 to label games"
   ]
  },
  {
   "cell_type": "code",
   "execution_count": null,
   "metadata": {},
   "outputs": [],
   "source": [
    "from sklearn.feature_extraction.text import TfidfVectorizer\n",
    "from collections import Counter"
   ]
  },
  {
   "cell_type": "code",
   "execution_count": 26,
   "metadata": {},
   "outputs": [
    {
     "data": {
      "text/plain": [
       "<5205x409145 sparse matrix of type '<class 'numpy.float64'>'\n",
       "\twith 588354 stored elements in Compressed Sparse Row format>"
      ]
     },
     "execution_count": 26,
     "metadata": {},
     "output_type": "execute_result"
    }
   ],
   "source": [
    "tflab = TfidfVectorizer(max_features=1000000, lowercase=True, analyzer='word',\n",
    "                        stop_words = 'english', ngram_range=(2,2))\n",
    "\n",
    "tflabvec = tflab.fit_transform(gedit['cleanboth'])\n",
    "\n",
    "tflabvec"
   ]
  },
  {
   "cell_type": "code",
   "execution_count": 17,
   "metadata": {},
   "outputs": [],
   "source": [
    "vocab_lookup = {v:k for k,v in tflab.vocabulary_.items()}"
   ]
  },
  {
   "cell_type": "code",
   "execution_count": 18,
   "metadata": {},
   "outputs": [],
   "source": [
    "# for guesses with weak confidence, label as bad identifier\n",
    "asin_label = {}\n",
    "\n",
    "for i in set(gedit['asin']):\n",
    "    asin_unique = gedit[gedit['asin'] == i].index\n",
    "    asin_tfidf = Counter([vocab_lookup[np.argmax(v)] for v in tflabvec[asin_unique]])\n",
    "    if asin_tfidf.most_common(1)[0][1] > 2:\n",
    "        asin_label[i] = asin_tfidf.most_common(1)[0][0]\n",
    "    else:\n",
    "        asin_label[i] = 'bad identifier'"
   ]
  },
  {
   "cell_type": "code",
   "execution_count": 19,
   "metadata": {},
   "outputs": [
    {
     "data": {
      "text/plain": [
       "dict_values(['god war', 'stop button', 'bad identifier', 'star war', 'bad identifier', 'bad identifier', 'bad identifier', 'modern warfare', 'heavy rain', 'bad identifier', 'world war', 'dragon dogma', 'dead redemption', 'star war', 'zelda ocarina', 'memory card', 'bad identifier', 'bad identifier', 'dead island', 'guild war', 'better xbox', 'sport champion', 'animal cross', 'social link', 'hard drive', 'lose odyssey', 'resident evil', 'twilight princess', 'dead space', 'bad identifier', 'assassin creed', 'skyward sword', 'diablo ii', 'bad identifier', 'lord shadow', 'gear war', 'dragon age', 'charge station', 'dual shock', 'nintendo gamecube', 'wii sport', 'medal honor', 'world war', 'dead rise', 'assassin creed', 'sleep dog', 'squad leader', 'dark soul', 'god war', 'black ops', 'deus ex', 'bad identifier', 'medal honor', 'bioshock infinite', 'kingdom amalur', 'dragon age', 'fallout vega', 'ratchet clank', 'sims sims', 'memory card', 'bad identifier', 'bad identifier', 'mario kart', 'super mario', 'mario kart', 'luigis mansion', 'expansion pack', 'dragon age', 'bad identifier', 'climb tower', 'medal honor', 'resident evil', 'mass effect', 'bad identifier', 'arkham asylum', 'bad identifier', 'super mario', 'silent hill', 'dead space', 'prime series', 'mario galaxy', 'bad identifier', 'super mario', 'assassin creed', 'bad identifier', 'bad identifier', 'legend zelda', 'black white', 'resident evil', 'bad identifier', 'half life', 'credit card', 'master chief'])"
      ]
     },
     "execution_count": 19,
     "metadata": {},
     "output_type": "execute_result"
    }
   ],
   "source": [
    "# visualize game labels\n",
    "asin_label.values()"
   ]
  },
  {
   "cell_type": "code",
   "execution_count": 21,
   "metadata": {},
   "outputs": [],
   "source": [
    "def dict_to_dataframe (x):\n",
    "    return asin_label[x]"
   ]
  },
  {
   "cell_type": "code",
   "execution_count": 22,
   "metadata": {},
   "outputs": [
    {
     "data": {
      "text/html": [
       "<div>\n",
       "<style scoped>\n",
       "    .dataframe tbody tr th:only-of-type {\n",
       "        vertical-align: middle;\n",
       "    }\n",
       "\n",
       "    .dataframe tbody tr th {\n",
       "        vertical-align: top;\n",
       "    }\n",
       "\n",
       "    .dataframe thead th {\n",
       "        text-align: right;\n",
       "    }\n",
       "</style>\n",
       "<table border=\"1\" class=\"dataframe\">\n",
       "  <thead>\n",
       "    <tr style=\"text-align: right;\">\n",
       "      <th></th>\n",
       "      <th>asin</th>\n",
       "      <th>helppercent</th>\n",
       "      <th>overall</th>\n",
       "      <th>cleansum</th>\n",
       "      <th>cleantxt</th>\n",
       "      <th>cleanboth</th>\n",
       "      <th>title</th>\n",
       "    </tr>\n",
       "  </thead>\n",
       "  <tbody>\n",
       "    <tr>\n",
       "      <th>0</th>\n",
       "      <td>B00000DMB3</td>\n",
       "      <td>1.0</td>\n",
       "      <td>5</td>\n",
       "      <td>love game</td>\n",
       "      <td>love game love game love game get ocarina time year since ha come still rock even comparison wha...</td>\n",
       "      <td>ocarina year since come still rock comparison whats ive playstation couple year ocarina realize ...</td>\n",
       "      <td>legend zelda</td>\n",
       "    </tr>\n",
       "    <tr>\n",
       "      <th>1</th>\n",
       "      <td>B00000DMB3</td>\n",
       "      <td>1.0</td>\n",
       "      <td>5</td>\n",
       "      <td>true classic</td>\n",
       "      <td>game blow away didnt expect ocarina meet standard play previous zelda game usually go stale pred...</td>\n",
       "      <td>true classic blow away didnt expect ocarina meet standard previous zelda usually stale predictab...</td>\n",
       "      <td>legend zelda</td>\n",
       "    </tr>\n",
       "  </tbody>\n",
       "</table>\n",
       "</div>"
      ],
      "text/plain": [
       "         asin  helppercent  overall      cleansum  \\\n",
       "0  B00000DMB3          1.0        5     love game   \n",
       "1  B00000DMB3          1.0        5  true classic   \n",
       "\n",
       "                                                                                              cleantxt  \\\n",
       "0  love game love game love game get ocarina time year since ha come still rock even comparison wha...   \n",
       "1  game blow away didnt expect ocarina meet standard play previous zelda game usually go stale pred...   \n",
       "\n",
       "                                                                                             cleanboth  \\\n",
       "0  ocarina year since come still rock comparison whats ive playstation couple year ocarina realize ...   \n",
       "1  true classic blow away didnt expect ocarina meet standard previous zelda usually stale predictab...   \n",
       "\n",
       "          title  \n",
       "0  legend zelda  \n",
       "1  legend zelda  "
      ]
     },
     "execution_count": 22,
     "metadata": {},
     "output_type": "execute_result"
    }
   ],
   "source": [
    "gedit['title'] = gedit['asin'].apply(dict_to_dataframe)\n",
    "\n",
    "gedit.head(2)"
   ]
  },
  {
   "cell_type": "code",
   "execution_count": 25,
   "metadata": {},
   "outputs": [
    {
     "data": {
      "text/plain": [
       "bad identifier    1034\n",
       "resident evil      179\n",
       "super mario        178\n",
       "dragon age         172\n",
       "assassin creed     163\n",
       "medal honor        159\n",
       "memory card        128\n",
       "world war          119\n",
       "dead space         112\n",
       "star war           112\n",
       "Name: title, dtype: int64"
      ]
     },
     "execution_count": 25,
     "metadata": {},
     "output_type": "execute_result"
    }
   ],
   "source": [
    "gedit['title'].value_counts()[:10]"
   ]
  },
  {
   "cell_type": "code",
   "execution_count": 29,
   "metadata": {},
   "outputs": [
    {
     "name": "stdout",
     "output_type": "stream",
     "text": [
      "Dataset size without bad identifiers: 4171\n"
     ]
    }
   ],
   "source": [
    "gedit = gedit[gedit['title'] != 'bad identifier']\n",
    "\n",
    "print(f'Dataset size without bad identifiers: {len(gedit)}')"
   ]
  },
  {
   "cell_type": "markdown",
   "metadata": {},
   "source": [
    "## Cluster Analysis"
   ]
  },
  {
   "cell_type": "code",
   "execution_count": 30,
   "metadata": {},
   "outputs": [
    {
     "data": {
      "text/plain": [
       "<4171x8959 sparse matrix of type '<class 'numpy.float64'>'\n",
       "\twith 355388 stored elements in Compressed Sparse Row format>"
      ]
     },
     "execution_count": 30,
     "metadata": {},
     "output_type": "execute_result"
    }
   ],
   "source": [
    "tf = TfidfVectorizer(max_features=1000000, lowercase=True, analyzer='word',\n",
    "                     stop_words = 'english', ngram_range=(1,1))\n",
    "\n",
    "tfvec = tf.fit_transform(gedit['cleanboth'])\n",
    "\n",
    "tfvec"
   ]
  },
  {
   "cell_type": "code",
   "execution_count": 31,
   "metadata": {},
   "outputs": [
    {
     "data": {
      "image/png": "[encoded data removed]",
      "text/plain": [
       "<Figure size 432x288 with 1 Axes>"
      ]
     },
     "metadata": {},
     "output_type": "display_data"
    }
   ],
   "source": [
    "# Kmeans & Elbow Method\n",
    "from sklearn.cluster import KMeans\n",
    "distortions = []\n",
    "for i in range(1, 21):\n",
    "    km = KMeans(n_clusters=i, init='k-means++',\n",
    "                n_init=10, max_iter=50, random_state=0)\n",
    "    km.fit(tfvec)\n",
    "    distortions.append(km.inertia_)\n",
    "plt.plot(range(1,21), distortions, marker='o')\n",
    "plt.xlabel('Number of clusters')\n",
    "plt.ylabel('Distortion')\n",
    "plt.show()\n",
    "# we see that ideal clustering isn't achieved within 15 clusters\n",
    "# not surprising due to sample size and TFIDF length"
   ]
  },
  {
   "cell_type": "code",
   "execution_count": 32,
   "metadata": {},
   "outputs": [],
   "source": [
    "# we can choose around 15 clusters\n",
    "km = KMeans(n_clusters=15, init='k-means++',\n",
    "            n_init=10, max_iter=300, random_state=0)\n",
    "km_pred = km.fit_predict(tfvec)"
   ]
  },
  {
   "cell_type": "code",
   "execution_count": 33,
   "metadata": {},
   "outputs": [],
   "source": [
    "# we choose same number of clusters for Agglo to compare\n",
    "from sklearn.cluster import AgglomerativeClustering\n",
    "ac = AgglomerativeClustering(n_clusters=15,\n",
    "                             affinity='euclidean',\n",
    "                             linkage='complete')\n",
    "ac_pred = ac.fit_predict(tfvec.toarray())"
   ]
  },
  {
   "cell_type": "code",
   "execution_count": 34,
   "metadata": {},
   "outputs": [
    {
     "data": {
      "text/html": [
       "<div>\n",
       "<style scoped>\n",
       "    .dataframe tbody tr th:only-of-type {\n",
       "        vertical-align: middle;\n",
       "    }\n",
       "\n",
       "    .dataframe tbody tr th {\n",
       "        vertical-align: top;\n",
       "    }\n",
       "\n",
       "    .dataframe thead th {\n",
       "        text-align: right;\n",
       "    }\n",
       "</style>\n",
       "<table border=\"1\" class=\"dataframe\">\n",
       "  <thead>\n",
       "    <tr style=\"text-align: right;\">\n",
       "      <th></th>\n",
       "      <th>asin</th>\n",
       "      <th>helppercent</th>\n",
       "      <th>overall</th>\n",
       "      <th>cleansum</th>\n",
       "      <th>cleantxt</th>\n",
       "      <th>cleanboth</th>\n",
       "      <th>title</th>\n",
       "      <th>km_pred</th>\n",
       "      <th>ac_pred</th>\n",
       "    </tr>\n",
       "  </thead>\n",
       "  <tbody>\n",
       "    <tr>\n",
       "      <th>0</th>\n",
       "      <td>B00000DMB3</td>\n",
       "      <td>1.0</td>\n",
       "      <td>5</td>\n",
       "      <td>love game</td>\n",
       "      <td>love game love game love game get ocarina time year since ha come still rock even comparison wha...</td>\n",
       "      <td>ocarina year since come still rock comparison whats ive playstation couple year ocarina realize ...</td>\n",
       "      <td>legend zelda</td>\n",
       "      <td>12</td>\n",
       "      <td>5</td>\n",
       "    </tr>\n",
       "    <tr>\n",
       "      <th>1</th>\n",
       "      <td>B00000DMB3</td>\n",
       "      <td>1.0</td>\n",
       "      <td>5</td>\n",
       "      <td>true classic</td>\n",
       "      <td>game blow away didnt expect ocarina meet standard play previous zelda game usually go stale pred...</td>\n",
       "      <td>true classic blow away didnt expect ocarina meet standard previous zelda usually stale predictab...</td>\n",
       "      <td>legend zelda</td>\n",
       "      <td>8</td>\n",
       "      <td>0</td>\n",
       "    </tr>\n",
       "  </tbody>\n",
       "</table>\n",
       "</div>"
      ],
      "text/plain": [
       "         asin  helppercent  overall      cleansum  \\\n",
       "0  B00000DMB3          1.0        5     love game   \n",
       "1  B00000DMB3          1.0        5  true classic   \n",
       "\n",
       "                                                                                              cleantxt  \\\n",
       "0  love game love game love game get ocarina time year since ha come still rock even comparison wha...   \n",
       "1  game blow away didnt expect ocarina meet standard play previous zelda game usually go stale pred...   \n",
       "\n",
       "                                                                                             cleanboth  \\\n",
       "0  ocarina year since come still rock comparison whats ive playstation couple year ocarina realize ...   \n",
       "1  true classic blow away didnt expect ocarina meet standard previous zelda usually stale predictab...   \n",
       "\n",
       "          title  km_pred  ac_pred  \n",
       "0  legend zelda       12        5  \n",
       "1  legend zelda        8        0  "
      ]
     },
     "execution_count": 34,
     "metadata": {},
     "output_type": "execute_result"
    }
   ],
   "source": [
    "gedit['km_pred'] = km_pred\n",
    "gedit['ac_pred'] = ac_pred\n",
    "\n",
    "gedit.head(2)"
   ]
  },
  {
   "cell_type": "markdown",
   "metadata": {},
   "source": [
    "## Visualize clusters"
   ]
  },
  {
   "cell_type": "code",
   "execution_count": 35,
   "metadata": {},
   "outputs": [
    {
     "name": "stdout",
     "output_type": "stream",
     "text": [
      "K-Means cluster 0  Size: 179  Keywords: war, god, gow, star, kratos\n",
      "hour endless fun | underestimate excellence | doe civilization dungeon siege doe diablo | fun | simple | game like interactive star war novel | another one | make like star war | well balance rpg gamers type | best star war game ever\n",
      "\n",
      "K-Means cluster 1  Size: 265  Keywords: zombie, resident, evil, horror, hill\n",
      "black amp white | want new game | extreme must buy | thing worse death | strike milestone game spoiler | finally next generation game | silent hill treat | best survival horror game back encore | silent hill | prepare lose one hell game\n",
      "\n",
      "K-Means cluster 2  Size: 55  Keywords: mansion, ghost, luigis, mario, luigi\n",
      "star average rat | spooky fun spooky really | beautiful game repetitive short | great graphicsbut may want rent first | ya gonna call | fun game love | mom love im experience game | good great | nice game | stumble finish line\n",
      "\n",
      "K-Means cluster 3  Size: 90  Keywords: fallout, diablo, vega, bug, quest\n",
      "good sequel classic | say game isnt great | blizzard doe | better original | simply best game ever make | wait long | worth wait | pretty dang nice grab comfy chair | best action rpg | okay horrible compare diablo\n",
      "\n",
      "K-Means cluster 4  Size: 56  Keywords: halo, odst, campaign, map, firefight\n",
      "buy game | campaign good multiplayer red head step child | sit campaign stay multiplayer | kinda wierd | prepare drop | great edition halo saga | great storytelling decent action lack length | different game ha dlc caliber maybe | halo odst | dont believe hype\n",
      "\n",
      "K-Means cluster 5  Size: 159  Keywords: batman, space, dead, bioshock, infinite\n",
      "dead space xbox review | true space horror | survival horror get life support | come clean pair drawer | chill thrill end space horror right | bring | horror title ha look | wa sound oh wa game screw | much much still worth time | one best video game ive play year\n",
      "\n",
      "K-Means cluster 6  Size: 243  Keywords: mario, super, kart, nintendo, wii\n",
      "blast wa hear throughout world | super mario review | mario forever | game | classic mario truly super | super mario | game ha nostalgia write | best mario | marios debut n star | marios best title\n",
      "\n",
      "K-Means cluster 7  Size: 94  Keywords: sims, sim, expansion, pack, family\n",
      "sims meet virtual pet | sims one best game ever | awesome game | greatly improve original | filler | best game ever | make original sims look like pong | good game | gonna best sim game ever | sims\n",
      "\n",
      "K-Means cluster 8  Size: 175  Keywords: zelda, link, ocarina, sword, wii\n",
      "true classic | timeless classic | one n game must | legendary | surpass | one best zelda game date | first rpg | dark time approach | one critically acclaim game ever | n classic\n",
      "\n",
      "K-Means cluster 9  Size: 346  Keywords: dragon, age, quest, rpg, combat\n",
      "fun addictive though | dark bloody addictive fun | face couldnt compare | rpg set standard others follow | pretty good great | excellent star war rpg | taste dark side | must sw game | musthave xbox rpg | standard game make\n",
      "\n",
      "K-Means cluster 10  Size: 198  Keywords: controller, wii, sport, motion, xbox\n",
      "double edge sword | legend sony | filler | probably best control market | comfortable survive | great | wow like glove | must | good controller amount money | great\n",
      "\n",
      "K-Means cluster 11  Size: 120  Keywords: card, memory, save, vita, sony\n",
      "great game great computer | best p memory card | work well | great piece hardware | memory card give need | great money spend | need cheaper | simple | must | test product\n",
      "\n",
      "K-Means cluster 12  Size: 1814  Keywords: buy, graphic, best, lot, gameplay\n",
      "love game | another review | great classic game | revolutionary loz game | excellent | spectacular game | awesome game | holy grail videogames | golden standard video game | best game ive ever play\n",
      "\n",
      "K-Means cluster 13  Size: 97  Keywords: remote, battery, charge, button, controller\n",
      "work great great support nyko | perfect accessory wii | couldnt happier | must | great charge station | design gravity | convenient | must wii | best upgrade wii | excellent product slight problem\n",
      "\n",
      "K-Means cluster 14  Size: 280  Keywords: cod, duty, multiplayer, campaign, online\n",
      "three year old still best | fantastic fps | best ww fps | mohaa beat | wow pure fun wwii atmosphere | edge seat action | four year later still love much | blow away | pure gold | pretty incredible\n",
      "\n"
     ]
    }
   ],
   "source": [
    "# visualize K-means cluster with first 10 reviews per cluster\n",
    "km_centroids = km.cluster_centers_.argsort()[:, ::-1]\n",
    "tf_lookup = {v:k for k,v in tf.vocabulary_.items()}\n",
    "\n",
    "for i in set(gedit['km_pred']):\n",
    "    tf_snapshot = []\n",
    "    tf_keys = []\n",
    "    s_count = 0\n",
    "    k_count = 0\n",
    "    while s_count < 10:\n",
    "        tf_snapshot.append(gedit[gedit['km_pred'] == i].iloc[s_count, 3])\n",
    "        s_count += 1\n",
    "    while k_count < 5:\n",
    "        tf_keys.append(tf_lookup[km_centroids[i, k_count]])\n",
    "        k_count += 1\n",
    "    print (f\"K-Means cluster {i}  Size: {len(gedit[gedit['km_pred'] == i])}  Keywords: {', '.join(tf_keys)}\")\n",
    "    print(' | '.join(tf_snapshot) + '\\n')"
   ]
  },
  {
   "cell_type": "code",
   "execution_count": 36,
   "metadata": {},
   "outputs": [
    {
     "name": "stdout",
     "output_type": "stream",
     "text": [
      "Agglo cluster 0  Size: 426\n",
      "true classic | another review | surpass | one best zelda game date | first rpg | dark time approach | one critically acclaim game ever | fly free bird | masterpiece | extraordinary game set pace many adventure game follow\n",
      "\n",
      "Agglo cluster 1  Size: 206\n",
      "great piece hardware | memory card give need | need cheaper | must | dont really know talk bad memory card | must one p | solid piece hardware must | good | great memory card highly overprice | youre gonna need sooner later\n",
      "\n",
      "Agglo cluster 2  Size: 531\n",
      "revolutionary loz game | fun addictive though | great | great incredibly addictive | amaze | ai good gameplay bad | good work like | work well | simple | work well\n",
      "\n",
      "Agglo cluster 3  Size: 90\n",
      "face fact | blast wa hear throughout world | cool | close impossible perfection | classic | somewhat pet | worth money | best stperson shooter game ive ever play | great game alittle annoy time | didnt get game year nothing\n",
      "\n",
      "Agglo cluster 4  Size: 550\n",
      "great classic game | spectacular game | may well finest video game ever release | one best video game time | good review | perfect | rich friend rich | entertainment best date | filler | mario say\n",
      "\n",
      "Agglo cluster 5  Size: 636\n",
      "love game | awesome game | one greatest game ever make | fun game still famous today | best game ever | super mario | perfect relieve stress | ship fine | lot bug | prototype future\n",
      "\n",
      "Agglo cluster 6  Size: 516\n",
      "timeless classic | legendary | n classic | favorite game time | favorite game time | n get game | game master | epic masterpiece | filler | best game beta ever release retail product\n",
      "\n",
      "Agglo cluster 7  Size: 41\n",
      "amaze gamejust one small thing | review single player game | begin end | awesome | absolutely amaze | best super hero game far | filler | true revolution | shallow disappoint boss step advertise game play | already cant wait next\n",
      "\n",
      "Agglo cluster 8  Size: 167\n",
      "super mario review | mario forever | game | super mario | best mario | marios debut n star | marios best title | super mario ha spectacular gameplay | could anybody hate | classic\n",
      "\n",
      "Agglo cluster 9  Size: 447\n",
      "great hacknslash rpg | one best pc game ever | finger addictive game | good idea poor execution | great game | best horror game ever | three year old still best | medal ha | ally assault get high recommendation | psx\n",
      "\n",
      "Agglo cluster 10  Size: 239\n",
      "good sequel classic | say game isnt great | star | blizzard doe | better original | simply best game ever make | wait long | worth wait | pretty dang nice grab comfy chair | best action rpg\n",
      "\n",
      "Agglo cluster 11  Size: 72\n",
      "golden standard video game | tell | wow | another review many | fast need | great short short easy | cool game short | far best system totaly beat xbox | good | love love love\n",
      "\n",
      "Agglo cluster 12  Size: 140\n",
      "one n game must | excellent | holy grail videogames | worth n purchase price | good back | classic mario truly super | game ha nostalgia write | rebirth legend | great game flaw | classic\n",
      "\n",
      "Agglo cluster 13  Size: 65\n",
      "people review game arent yet | good | classic game new spin | almost perfection | na | great game lot fun | good game | love shoot game | definitely star | hype stun visuals short game\n",
      "\n",
      "Agglo cluster 14  Size: 45\n",
      "one best n fun | great game | wonderful | best system | year later still go strong | fun fun fun | best game ever | relax diversion | best game | good game busy people\n",
      "\n"
     ]
    }
   ],
   "source": [
    "# visualize Agglo cluster with first 10 reviews per cluster\n",
    "# Agglo is hierarchical, therefore we do not have centoids / keywords\n",
    "for i in set(gedit['ac_pred']):\n",
    "    tf_snapshot = []\n",
    "    s_count = 0\n",
    "    while s_count < 10:\n",
    "        tf_snapshot.append(gedit[gedit['ac_pred'] == i].iloc[s_count, 3])\n",
    "        s_count += 1\n",
    "    print (f\"Agglo cluster {i}  Size: {len(gedit[gedit['ac_pred'] == i])}\")\n",
    "    print(' | '.join(tf_snapshot) + '\\n')"
   ]
  },
  {
   "cell_type": "markdown",
   "metadata": {},
   "source": [
    "## Group games"
   ]
  },
  {
   "cell_type": "code",
   "execution_count": 37,
   "metadata": {},
   "outputs": [],
   "source": [
    "# I calculate games with the highest percentage of their reviews in each cluster\n",
    "# then I see if the top x games in each cluster are similar"
   ]
  },
  {
   "cell_type": "code",
   "execution_count": 53,
   "metadata": {},
   "outputs": [],
   "source": [
    "from pandas import pivot_table"
   ]
  },
  {
   "cell_type": "code",
   "execution_count": 57,
   "metadata": {},
   "outputs": [
    {
     "data": {
      "text/html": [
       "<div>\n",
       "<style scoped>\n",
       "    .dataframe tbody tr th:only-of-type {\n",
       "        vertical-align: middle;\n",
       "    }\n",
       "\n",
       "    .dataframe tbody tr th {\n",
       "        vertical-align: top;\n",
       "    }\n",
       "\n",
       "    .dataframe thead th {\n",
       "        text-align: right;\n",
       "    }\n",
       "</style>\n",
       "<table border=\"1\" class=\"dataframe\">\n",
       "  <thead>\n",
       "    <tr style=\"text-align: right;\">\n",
       "      <th>km_pred</th>\n",
       "      <th>title</th>\n",
       "      <th>0</th>\n",
       "      <th>1</th>\n",
       "      <th>2</th>\n",
       "      <th>3</th>\n",
       "      <th>4</th>\n",
       "      <th>5</th>\n",
       "      <th>6</th>\n",
       "      <th>7</th>\n",
       "      <th>8</th>\n",
       "      <th>9</th>\n",
       "      <th>10</th>\n",
       "      <th>11</th>\n",
       "      <th>12</th>\n",
       "      <th>13</th>\n",
       "      <th>14</th>\n",
       "      <th>All</th>\n",
       "    </tr>\n",
       "  </thead>\n",
       "  <tbody>\n",
       "    <tr>\n",
       "      <th>0</th>\n",
       "      <td>animal cross</td>\n",
       "      <td>0.000000</td>\n",
       "      <td>0.0</td>\n",
       "      <td>0.0</td>\n",
       "      <td>0.0</td>\n",
       "      <td>0.0</td>\n",
       "      <td>0.000000</td>\n",
       "      <td>0.0</td>\n",
       "      <td>0.0</td>\n",
       "      <td>0.000000</td>\n",
       "      <td>0.0</td>\n",
       "      <td>0.00000</td>\n",
       "      <td>0.0000</td>\n",
       "      <td>1.000000</td>\n",
       "      <td>0.0</td>\n",
       "      <td>0.000000</td>\n",
       "      <td>1.0</td>\n",
       "    </tr>\n",
       "    <tr>\n",
       "      <th>1</th>\n",
       "      <td>arkham asylum</td>\n",
       "      <td>0.000000</td>\n",
       "      <td>0.0</td>\n",
       "      <td>0.0</td>\n",
       "      <td>0.0</td>\n",
       "      <td>0.0</td>\n",
       "      <td>0.813559</td>\n",
       "      <td>0.0</td>\n",
       "      <td>0.0</td>\n",
       "      <td>0.016949</td>\n",
       "      <td>0.0</td>\n",
       "      <td>0.00000</td>\n",
       "      <td>0.0000</td>\n",
       "      <td>0.169492</td>\n",
       "      <td>0.0</td>\n",
       "      <td>0.000000</td>\n",
       "      <td>1.0</td>\n",
       "    </tr>\n",
       "    <tr>\n",
       "      <th>2</th>\n",
       "      <td>assassin creed</td>\n",
       "      <td>0.000000</td>\n",
       "      <td>0.0</td>\n",
       "      <td>0.0</td>\n",
       "      <td>0.0</td>\n",
       "      <td>0.0</td>\n",
       "      <td>0.006135</td>\n",
       "      <td>0.0</td>\n",
       "      <td>0.0</td>\n",
       "      <td>0.006135</td>\n",
       "      <td>0.0</td>\n",
       "      <td>0.00000</td>\n",
       "      <td>0.0000</td>\n",
       "      <td>0.981595</td>\n",
       "      <td>0.0</td>\n",
       "      <td>0.006135</td>\n",
       "      <td>1.0</td>\n",
       "    </tr>\n",
       "    <tr>\n",
       "      <th>3</th>\n",
       "      <td>better xbox</td>\n",
       "      <td>0.015625</td>\n",
       "      <td>0.0</td>\n",
       "      <td>0.0</td>\n",
       "      <td>0.0</td>\n",
       "      <td>0.0</td>\n",
       "      <td>0.000000</td>\n",
       "      <td>0.0</td>\n",
       "      <td>0.0</td>\n",
       "      <td>0.000000</td>\n",
       "      <td>0.0</td>\n",
       "      <td>0.34375</td>\n",
       "      <td>0.0625</td>\n",
       "      <td>0.578125</td>\n",
       "      <td>0.0</td>\n",
       "      <td>0.000000</td>\n",
       "      <td>1.0</td>\n",
       "    </tr>\n",
       "    <tr>\n",
       "      <th>4</th>\n",
       "      <td>bioshock infinite</td>\n",
       "      <td>0.000000</td>\n",
       "      <td>0.0</td>\n",
       "      <td>0.0</td>\n",
       "      <td>0.0</td>\n",
       "      <td>0.0</td>\n",
       "      <td>0.614035</td>\n",
       "      <td>0.0</td>\n",
       "      <td>0.0</td>\n",
       "      <td>0.000000</td>\n",
       "      <td>0.0</td>\n",
       "      <td>0.00000</td>\n",
       "      <td>0.0000</td>\n",
       "      <td>0.385965</td>\n",
       "      <td>0.0</td>\n",
       "      <td>0.000000</td>\n",
       "      <td>1.0</td>\n",
       "    </tr>\n",
       "  </tbody>\n",
       "</table>\n",
       "</div>"
      ],
      "text/plain": [
       "km_pred              title         0    1    2    3    4         5    6    7  \\\n",
       "0             animal cross  0.000000  0.0  0.0  0.0  0.0  0.000000  0.0  0.0   \n",
       "1            arkham asylum  0.000000  0.0  0.0  0.0  0.0  0.813559  0.0  0.0   \n",
       "2           assassin creed  0.000000  0.0  0.0  0.0  0.0  0.006135  0.0  0.0   \n",
       "3              better xbox  0.015625  0.0  0.0  0.0  0.0  0.000000  0.0  0.0   \n",
       "4        bioshock infinite  0.000000  0.0  0.0  0.0  0.0  0.614035  0.0  0.0   \n",
       "\n",
       "km_pred         8    9       10      11        12   13        14  All  \n",
       "0        0.000000  0.0  0.00000  0.0000  1.000000  0.0  0.000000  1.0  \n",
       "1        0.016949  0.0  0.00000  0.0000  0.169492  0.0  0.000000  1.0  \n",
       "2        0.006135  0.0  0.00000  0.0000  0.981595  0.0  0.006135  1.0  \n",
       "3        0.000000  0.0  0.34375  0.0625  0.578125  0.0  0.000000  1.0  \n",
       "4        0.000000  0.0  0.00000  0.0000  0.385965  0.0  0.000000  1.0  "
      ]
     },
     "execution_count": 57,
     "metadata": {},
     "output_type": "execute_result"
    }
   ],
   "source": [
    "km_pv = pd.pivot_table(gedit,values='asin',index=['title'],columns=['km_pred'],aggfunc=len,margins=True,fill_value=0)\n",
    "km_pv = km_pv.div(km_pv.iloc[:,-1], axis=0 )\n",
    "km_pv.reset_index(inplace=True)\n",
    "km_pv = km_pv[km_pv['title'] != 'All']\n",
    "\n",
    "km_pv.head()"
   ]
  },
  {
   "cell_type": "code",
   "execution_count": 58,
   "metadata": {},
   "outputs": [
    {
     "name": "stdout",
     "output_type": "stream",
     "text": [
      "K-Means cluster 0  Keywords: war, god, gow, star, kratos\n",
      "god war | star war | lord shadow | gear war | guild war | black white | mass effect\n",
      "\n",
      "K-Means cluster 1  Keywords: zombie, resident, evil, horror, hill\n",
      "silent hill | resident evil | dead rise | dead island | dead space | nintendo gamecube | black ops\n",
      "\n",
      "K-Means cluster 2  Keywords: mansion, ghost, luigis, mario, luigi\n",
      "luigis mansion | nintendo gamecube | super mario | animal cross | arkham asylum | assassin creed | better xbox\n",
      "\n",
      "K-Means cluster 3  Keywords: fallout, diablo, vega, bug, quest\n",
      "fallout vega | diablo ii | dragon age | animal cross | arkham asylum | assassin creed | better xbox\n",
      "\n",
      "K-Means cluster 4  Keywords: halo, odst, campaign, map, firefight\n",
      "master chief | star war | medal honor | animal cross | arkham asylum | assassin creed | better xbox\n",
      "\n",
      "K-Means cluster 5  Keywords: batman, space, dead, bioshock, infinite\n",
      "arkham asylum | dead space | bioshock infinite | dead island | dead redemption | deus ex | zelda ocarina\n",
      "\n",
      "K-Means cluster 6  Keywords: mario, super, kart, nintendo, wii\n",
      "mario galaxy | super mario | mario kart | nintendo gamecube | luigis mansion | legend zelda | animal cross\n",
      "\n",
      "K-Means cluster 7  Keywords: sims, sim, expansion, pack, family\n",
      "expansion pack | sims sims | black white | animal cross | arkham asylum | assassin creed | better xbox\n",
      "\n",
      "K-Means cluster 8  Keywords: zelda, link, ocarina, sword, wii\n",
      "twilight princess | skyward sword | legend zelda | zelda ocarina | nintendo gamecube | arkham asylum | assassin creed\n",
      "\n",
      "K-Means cluster 9  Keywords: dragon, age, quest, rpg, combat\n",
      "dragon dogma | dragon age | kingdom amalur | mass effect | guild war | lose odyssey | star war\n",
      "\n",
      "K-Means cluster 10  Keywords: controller, wii, sport, motion, xbox\n",
      "dual shock | wii sport | sport champion | better xbox | nintendo gamecube | resident evil | hard drive\n",
      "\n",
      "K-Means cluster 11  Keywords: card, memory, save, vita, sony\n",
      "memory card | credit card | better xbox | nintendo gamecube | black white | hard drive | animal cross\n",
      "\n",
      "K-Means cluster 12  Keywords: buy, graphic, best, lot, gameplay\n",
      "animal cross | climb tower | half life | sleep dog | ratchet clank | heavy rain | prime series\n",
      "\n",
      "K-Means cluster 13  Keywords: remote, battery, charge, button, controller\n",
      "stop button | charge station | wii sport | skyward sword | animal cross | arkham asylum | assassin creed\n",
      "\n",
      "K-Means cluster 14  Keywords: cod, duty, multiplayer, campaign, online\n",
      "world war | modern warfare | black ops | medal honor | gear war | squad leader | mass effect\n",
      "\n"
     ]
    }
   ],
   "source": [
    "# we see good grouping of games by genre just through review clustering\n",
    "for i in range(15):\n",
    "    key_list = []\n",
    "    k_count = 0\n",
    "    while k_count < 5:\n",
    "        key_list.append(tf_lookup[km_centroids[i, k_count]])\n",
    "        k_count += 1\n",
    "    print(f\"K-Means cluster {str(i)}  Keywords: {', '.join(key_list)}\")\n",
    "    print(' | '.join(list(km_pv.nlargest(7, columns=[i]).iloc[:, 0])) + '\\n')"
   ]
  },
  {
   "cell_type": "code",
   "execution_count": 56,
   "metadata": {},
   "outputs": [
    {
     "data": {
      "text/html": [
       "<div>\n",
       "<style scoped>\n",
       "    .dataframe tbody tr th:only-of-type {\n",
       "        vertical-align: middle;\n",
       "    }\n",
       "\n",
       "    .dataframe tbody tr th {\n",
       "        vertical-align: top;\n",
       "    }\n",
       "\n",
       "    .dataframe thead th {\n",
       "        text-align: right;\n",
       "    }\n",
       "</style>\n",
       "<table border=\"1\" class=\"dataframe\">\n",
       "  <thead>\n",
       "    <tr style=\"text-align: right;\">\n",
       "      <th>ac_pred</th>\n",
       "      <th>title</th>\n",
       "      <th>0</th>\n",
       "      <th>1</th>\n",
       "      <th>2</th>\n",
       "      <th>3</th>\n",
       "      <th>4</th>\n",
       "      <th>5</th>\n",
       "      <th>6</th>\n",
       "      <th>7</th>\n",
       "      <th>8</th>\n",
       "      <th>9</th>\n",
       "      <th>10</th>\n",
       "      <th>11</th>\n",
       "      <th>12</th>\n",
       "      <th>13</th>\n",
       "      <th>14</th>\n",
       "      <th>All</th>\n",
       "    </tr>\n",
       "  </thead>\n",
       "  <tbody>\n",
       "    <tr>\n",
       "      <th>0</th>\n",
       "      <td>animal cross</td>\n",
       "      <td>0.622642</td>\n",
       "      <td>0.018868</td>\n",
       "      <td>0.018868</td>\n",
       "      <td>0.000000</td>\n",
       "      <td>0.037736</td>\n",
       "      <td>0.056604</td>\n",
       "      <td>0.113208</td>\n",
       "      <td>0.000000</td>\n",
       "      <td>0.0</td>\n",
       "      <td>0.037736</td>\n",
       "      <td>0.037736</td>\n",
       "      <td>0.000000</td>\n",
       "      <td>0.018868</td>\n",
       "      <td>0.00000</td>\n",
       "      <td>0.037736</td>\n",
       "      <td>1.0</td>\n",
       "    </tr>\n",
       "    <tr>\n",
       "      <th>1</th>\n",
       "      <td>arkham asylum</td>\n",
       "      <td>0.000000</td>\n",
       "      <td>0.000000</td>\n",
       "      <td>0.033898</td>\n",
       "      <td>0.016949</td>\n",
       "      <td>0.796610</td>\n",
       "      <td>0.033898</td>\n",
       "      <td>0.016949</td>\n",
       "      <td>0.016949</td>\n",
       "      <td>0.0</td>\n",
       "      <td>0.067797</td>\n",
       "      <td>0.000000</td>\n",
       "      <td>0.016949</td>\n",
       "      <td>0.000000</td>\n",
       "      <td>0.00000</td>\n",
       "      <td>0.000000</td>\n",
       "      <td>1.0</td>\n",
       "    </tr>\n",
       "    <tr>\n",
       "      <th>2</th>\n",
       "      <td>assassin creed</td>\n",
       "      <td>0.319018</td>\n",
       "      <td>0.006135</td>\n",
       "      <td>0.257669</td>\n",
       "      <td>0.030675</td>\n",
       "      <td>0.036810</td>\n",
       "      <td>0.134969</td>\n",
       "      <td>0.049080</td>\n",
       "      <td>0.012270</td>\n",
       "      <td>0.0</td>\n",
       "      <td>0.024540</td>\n",
       "      <td>0.012270</td>\n",
       "      <td>0.030675</td>\n",
       "      <td>0.055215</td>\n",
       "      <td>0.02454</td>\n",
       "      <td>0.006135</td>\n",
       "      <td>1.0</td>\n",
       "    </tr>\n",
       "    <tr>\n",
       "      <th>3</th>\n",
       "      <td>better xbox</td>\n",
       "      <td>0.000000</td>\n",
       "      <td>0.015625</td>\n",
       "      <td>0.203125</td>\n",
       "      <td>0.031250</td>\n",
       "      <td>0.109375</td>\n",
       "      <td>0.265625</td>\n",
       "      <td>0.000000</td>\n",
       "      <td>0.000000</td>\n",
       "      <td>0.0</td>\n",
       "      <td>0.203125</td>\n",
       "      <td>0.000000</td>\n",
       "      <td>0.015625</td>\n",
       "      <td>0.125000</td>\n",
       "      <td>0.00000</td>\n",
       "      <td>0.031250</td>\n",
       "      <td>1.0</td>\n",
       "    </tr>\n",
       "    <tr>\n",
       "      <th>4</th>\n",
       "      <td>bioshock infinite</td>\n",
       "      <td>0.000000</td>\n",
       "      <td>0.035088</td>\n",
       "      <td>0.017544</td>\n",
       "      <td>0.000000</td>\n",
       "      <td>0.017544</td>\n",
       "      <td>0.052632</td>\n",
       "      <td>0.508772</td>\n",
       "      <td>0.000000</td>\n",
       "      <td>0.0</td>\n",
       "      <td>0.035088</td>\n",
       "      <td>0.035088</td>\n",
       "      <td>0.298246</td>\n",
       "      <td>0.000000</td>\n",
       "      <td>0.00000</td>\n",
       "      <td>0.000000</td>\n",
       "      <td>1.0</td>\n",
       "    </tr>\n",
       "  </tbody>\n",
       "</table>\n",
       "</div>"
      ],
      "text/plain": [
       "ac_pred              title         0         1         2         3         4  \\\n",
       "0             animal cross  0.622642  0.018868  0.018868  0.000000  0.037736   \n",
       "1            arkham asylum  0.000000  0.000000  0.033898  0.016949  0.796610   \n",
       "2           assassin creed  0.319018  0.006135  0.257669  0.030675  0.036810   \n",
       "3              better xbox  0.000000  0.015625  0.203125  0.031250  0.109375   \n",
       "4        bioshock infinite  0.000000  0.035088  0.017544  0.000000  0.017544   \n",
       "\n",
       "ac_pred         5         6         7    8         9        10        11  \\\n",
       "0        0.056604  0.113208  0.000000  0.0  0.037736  0.037736  0.000000   \n",
       "1        0.033898  0.016949  0.016949  0.0  0.067797  0.000000  0.016949   \n",
       "2        0.134969  0.049080  0.012270  0.0  0.024540  0.012270  0.030675   \n",
       "3        0.265625  0.000000  0.000000  0.0  0.203125  0.000000  0.015625   \n",
       "4        0.052632  0.508772  0.000000  0.0  0.035088  0.035088  0.298246   \n",
       "\n",
       "ac_pred        12       13        14  All  \n",
       "0        0.018868  0.00000  0.037736  1.0  \n",
       "1        0.000000  0.00000  0.000000  1.0  \n",
       "2        0.055215  0.02454  0.006135  1.0  \n",
       "3        0.125000  0.00000  0.031250  1.0  \n",
       "4        0.000000  0.00000  0.000000  1.0  "
      ]
     },
     "execution_count": 56,
     "metadata": {},
     "output_type": "execute_result"
    }
   ],
   "source": [
    "ac_pv = pd.pivot_table(gedit,values='asin',index=['title'],columns=['ac_pred'],aggfunc=len,margins=True,fill_value=0)\n",
    "ac_pv = ac_pv.div(ac_pv.iloc[:,-1], axis=0 )\n",
    "ac_pv.reset_index(inplace=True)\n",
    "ac_pv = ac_pv[ac_pv['title'] != 'All']\n",
    "\n",
    "ac_pv.head()"
   ]
  },
  {
   "cell_type": "code",
   "execution_count": 42,
   "metadata": {},
   "outputs": [
    {
     "name": "stdout",
     "output_type": "stream",
     "text": [
      "Agglo cluster 0\n",
      "animal cross | skyward sword | twilight princess | zelda ocarina | legend zelda | social link | climb tower\n",
      "\n",
      "Agglo cluster 1\n",
      "master chief | memory card | mario kart | heavy rain | sleep dog | mass effect | dragon age\n",
      "\n",
      "Agglo cluster 2\n",
      "stop button | prime series | hard drive | dead rise | god war | dead space | mass effect\n",
      "\n",
      "Agglo cluster 3\n",
      "sport champion | dark soul | wii sport | dead space | squad leader | dead rise | prime series\n",
      "\n",
      "Agglo cluster 4\n",
      "charge station | arkham asylum | luigis mansion | lord shadow | credit card | heavy rain | social link\n",
      "\n",
      "Agglo cluster 5\n",
      "expansion pack | dual shock | sims sims | half life | modern warfare | sport champion | credit card\n",
      "\n",
      "Agglo cluster 6\n",
      "fallout vega | black white | gear war | bioshock infinite | black ops | squad leader | world war\n",
      "\n",
      "Agglo cluster 7\n",
      "deus ex | black white | dark soul | half life | mario galaxy | kingdom amalur | arkham asylum\n",
      "\n",
      "Agglo cluster 8\n",
      "mario galaxy | super mario | mario kart | All | luigis mansion | animal cross | arkham asylum\n",
      "\n",
      "Agglo cluster 9\n",
      "dead island | star war | guild war | dragon dogma | medal honor | resident evil | better xbox\n",
      "\n",
      "Agglo cluster 10\n",
      "silent hill | diablo ii | wii sport | sport champion | modern warfare | mario kart | zelda ocarina\n",
      "\n",
      "Agglo cluster 11\n",
      "bioshock infinite | credit card | dead redemption | prime series | climb tower | assassin creed | dark soul\n",
      "\n",
      "Agglo cluster 12\n",
      "nintendo gamecube | luigis mansion | twilight princess | better xbox | legend zelda | super mario | skyward sword\n",
      "\n",
      "Agglo cluster 13\n",
      "ratchet clank | sleep dog | mario kart | sims sims | dead redemption | super mario | world war\n",
      "\n",
      "Agglo cluster 14\n",
      "heavy rain | social link | zelda ocarina | stop button | animal cross | sims sims | fallout vega\n",
      "\n"
     ]
    }
   ],
   "source": [
    "# we see that hierarchical struggles to group games, at least by genre\n",
    "for i in range(15):\n",
    "    key_list = []\n",
    "    k_count = 0\n",
    "    print(f\"Agglo cluster {str(i)}\")\n",
    "    print(' | '.join(list(ac_pv.nlargest(7, columns=[i]).iloc[:, 0])) + '\\n')"
   ]
  },
  {
   "cell_type": "code",
   "execution_count": 43,
   "metadata": {},
   "outputs": [],
   "source": [
    "# this concludes pt 4"
   ]
  },
  {
   "cell_type": "code",
   "execution_count": null,
   "metadata": {},
   "outputs": [],
   "source": []
  }
 ],
 "metadata": {
  "kernelspec": {
   "display_name": "Python 3",
   "language": "python",
   "name": "python3"
  },
  "language_info": {
   "codemirror_mode": {
    "name": "ipython",
    "version": 3
   },
   "file_extension": ".py",
   "mimetype": "text/x-python",
   "name": "python",
   "nbconvert_exporter": "python",
   "pygments_lexer": "ipython3",
   "version": "3.6.4"
  }
 },
 "nbformat": 4,
 "nbformat_minor": 2
}
