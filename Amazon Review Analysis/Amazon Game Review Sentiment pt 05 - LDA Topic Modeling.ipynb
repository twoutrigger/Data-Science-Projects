{
 "cells": [
  {
   "cell_type": "code",
   "execution_count": 1,
   "metadata": {},
   "outputs": [],
   "source": [
    "# In this notebook:\n",
    "\n",
    "# attempt Topic Modeling via LDA\n",
    "# Topic Modeling automatically identifies topics in text objects\n",
    "# Topics == repeating pattern of co-occuring terms in a corpus\n",
    "\n",
    "# Future research:\n",
    "# Consider adding TFIDF technique to identify important words\n",
    "# Kullback Leibler Divergence Score said to help obtain optimal number of topics"
   ]
  },
  {
   "cell_type": "code",
   "execution_count": 2,
   "metadata": {},
   "outputs": [],
   "source": [
    "helpful_url = 'https://www.analyticsvidhya.com/blog/2016/08/beginners-guide-to-topic-modeling-in-python/'"
   ]
  },
  {
   "cell_type": "code",
   "execution_count": 3,
   "metadata": {},
   "outputs": [],
   "source": [
    "import numpy as np\n",
    "import pandas as pd\n",
    "from nltk.corpus import stopwords "
   ]
  },
  {
   "cell_type": "code",
   "execution_count": 4,
   "metadata": {},
   "outputs": [],
   "source": [
    "import warnings\n",
    "warnings.filterwarnings('ignore')\n",
    "pd.set_option('display.max_colwidth', 100)"
   ]
  },
  {
   "cell_type": "code",
   "execution_count": 5,
   "metadata": {},
   "outputs": [
    {
     "name": "stdout",
     "output_type": "stream",
     "text": [
      "Dataset has 98144 samples\n"
     ]
    },
    {
     "data": {
      "text/html": [
       "<div>\n",
       "<style scoped>\n",
       "    .dataframe tbody tr th:only-of-type {\n",
       "        vertical-align: middle;\n",
       "    }\n",
       "\n",
       "    .dataframe tbody tr th {\n",
       "        vertical-align: top;\n",
       "    }\n",
       "\n",
       "    .dataframe thead th {\n",
       "        text-align: right;\n",
       "    }\n",
       "</style>\n",
       "<table border=\"1\" class=\"dataframe\">\n",
       "  <thead>\n",
       "    <tr style=\"text-align: right;\">\n",
       "      <th></th>\n",
       "      <th>asin</th>\n",
       "      <th>helppercent</th>\n",
       "      <th>overall</th>\n",
       "      <th>cleansum</th>\n",
       "      <th>cleantxt</th>\n",
       "      <th>cleanboth</th>\n",
       "    </tr>\n",
       "  </thead>\n",
       "  <tbody>\n",
       "    <tr>\n",
       "      <th>0</th>\n",
       "      <td>0700099867</td>\n",
       "      <td>0.666667</td>\n",
       "      <td>1</td>\n",
       "      <td>pay unlock content dont think</td>\n",
       "      <td>instal game wa struggle game window live championship race car unlock buy addon game pay nearly ...</td>\n",
       "      <td>pay unlock content dont think instal game wa struggle game window live championship race car unl...</td>\n",
       "    </tr>\n",
       "    <tr>\n",
       "      <th>1</th>\n",
       "      <td>0700099867</td>\n",
       "      <td>0.700000</td>\n",
       "      <td>3</td>\n",
       "      <td>awesome game crash frequently</td>\n",
       "      <td>get version instead p version turn mistake console version game look percent good pc version dea...</td>\n",
       "      <td>awesome game crash frequently get version instead p version turn mistake console version game lo...</td>\n",
       "    </tr>\n",
       "    <tr>\n",
       "      <th>2</th>\n",
       "      <td>0700099867</td>\n",
       "      <td>1.000000</td>\n",
       "      <td>4</td>\n",
       "      <td>dirt</td>\n",
       "      <td>dirt xbox wa okay game start play game laptop buy new game build collection game fun play much b...</td>\n",
       "      <td>dirt dirt xbox wa okay game start play game laptop buy new game build collection game fun play m...</td>\n",
       "    </tr>\n",
       "    <tr>\n",
       "      <th>3</th>\n",
       "      <td>0700099867</td>\n",
       "      <td>0.846154</td>\n",
       "      <td>5</td>\n",
       "      <td>step dirt terrific</td>\n",
       "      <td>love play dirt think graphic good purchase dirt addition otherand graphic absolutely gorgeous li...</td>\n",
       "      <td>step dirt terrific love play dirt think graphic good purchase dirt addition otherand graphic abs...</td>\n",
       "    </tr>\n",
       "    <tr>\n",
       "      <th>4</th>\n",
       "      <td>0700099867</td>\n",
       "      <td>1.000000</td>\n",
       "      <td>2</td>\n",
       "      <td>couldnt get one work</td>\n",
       "      <td>still havent figure one everything instruct game never instal strange since dont like rate somet...</td>\n",
       "      <td>couldnt get one work still havent figure one everything instruct game never instal strange since...</td>\n",
       "    </tr>\n",
       "  </tbody>\n",
       "</table>\n",
       "</div>"
      ],
      "text/plain": [
       "         asin  helppercent  overall                       cleansum  \\\n",
       "0  0700099867     0.666667        1  pay unlock content dont think   \n",
       "1  0700099867     0.700000        3  awesome game crash frequently   \n",
       "2  0700099867     1.000000        4                           dirt   \n",
       "3  0700099867     0.846154        5             step dirt terrific   \n",
       "4  0700099867     1.000000        2           couldnt get one work   \n",
       "\n",
       "                                                                                              cleantxt  \\\n",
       "0  instal game wa struggle game window live championship race car unlock buy addon game pay nearly ...   \n",
       "1  get version instead p version turn mistake console version game look percent good pc version dea...   \n",
       "2  dirt xbox wa okay game start play game laptop buy new game build collection game fun play much b...   \n",
       "3  love play dirt think graphic good purchase dirt addition otherand graphic absolutely gorgeous li...   \n",
       "4  still havent figure one everything instruct game never instal strange since dont like rate somet...   \n",
       "\n",
       "                                                                                             cleanboth  \n",
       "0  pay unlock content dont think instal game wa struggle game window live championship race car unl...  \n",
       "1  awesome game crash frequently get version instead p version turn mistake console version game lo...  \n",
       "2  dirt dirt xbox wa okay game start play game laptop buy new game build collection game fun play m...  \n",
       "3  step dirt terrific love play dirt think graphic good purchase dirt addition otherand graphic abs...  \n",
       "4  couldnt get one work still havent figure one everything instruct game never instal strange since...  "
      ]
     },
     "execution_count": 5,
     "metadata": {},
     "output_type": "execute_result"
    }
   ],
   "source": [
    "gorig = pd.read_csv('amazon_games_clean.csv',index_col=0)\n",
    "\n",
    "print(f'Dataset has {gorig.shape[0]} samples')\n",
    "\n",
    "gorig.head()"
   ]
  },
  {
   "cell_type": "code",
   "execution_count": 6,
   "metadata": {},
   "outputs": [
    {
     "name": "stdout",
     "output_type": "stream",
     "text": [
      "<class 'pandas.core.frame.DataFrame'>\n",
      "Int64Index: 97048 entries, 0 to 98143\n",
      "Data columns (total 6 columns):\n",
      "asin           97048 non-null object\n",
      "helppercent    97048 non-null float64\n",
      "overall        97048 non-null int64\n",
      "cleansum       97048 non-null object\n",
      "cleantxt       97048 non-null object\n",
      "cleanboth      97048 non-null object\n",
      "dtypes: float64(1), int64(1), object(4)\n",
      "memory usage: 5.2+ MB\n"
     ]
    }
   ],
   "source": [
    "gorig.dropna(inplace=True)\n",
    "gorig.info()"
   ]
  },
  {
   "cell_type": "code",
   "execution_count": 7,
   "metadata": {},
   "outputs": [
    {
     "name": "stdout",
     "output_type": "stream",
     "text": [
      "Count of total unique games: 10430\n",
      "Count of unique games with 50~55 reviews: 44\n"
     ]
    }
   ],
   "source": [
    "vc_asin = gorig['asin'].value_counts()\n",
    "print(f'Count of total unique games: {len(vc_asin)}')\n",
    "vc_asin = vc_asin[(vc_asin >= 50) & (vc_asin <= 55)]\n",
    "print(f'Count of unique games with 50~55 reviews: {len(vc_asin)}')"
   ]
  },
  {
   "cell_type": "code",
   "execution_count": 8,
   "metadata": {},
   "outputs": [
    {
     "name": "stdout",
     "output_type": "stream",
     "text": [
      "Dataset size game with 50~55 reviews: 2273\n",
      "Dataset unique word size is: 16558\n"
     ]
    }
   ],
   "source": [
    "# USE THIS TO TOGGLE DATASET SIZE\n",
    "gedit = gorig[gorig['asin'].isin(list(vc_asin.index))]\n",
    "gedit.reset_index(drop=True, inplace=True)\n",
    "\n",
    "print(f'Dataset size game with 50~55 reviews: {gedit.shape[0]}')\n",
    "print(f\"Dataset unique word size is: {len(pd.Series(' '.join(gedit['cleanboth']).split()).value_counts())}\")"
   ]
  },
  {
   "cell_type": "markdown",
   "metadata": {},
   "source": [
    "## Remove frequent and rare words for better clustering"
   ]
  },
  {
   "cell_type": "code",
   "execution_count": 9,
   "metadata": {},
   "outputs": [
    {
     "data": {
      "text/plain": [
       "game      14508\n",
       "play       4331\n",
       "get        3925\n",
       "like       3643\n",
       "wa         3615\n",
       "one        3181\n",
       "time       2652\n",
       "make       2573\n",
       "ha         2143\n",
       "go         2053\n",
       "really     2009\n",
       "great      1826\n",
       "good       1812\n",
       "much       1735\n",
       "use        1670\n",
       "dtype: int64"
      ]
     },
     "execution_count": 9,
     "metadata": {},
     "output_type": "execute_result"
    }
   ],
   "source": [
    "# non-distinguishing but frequent words like 'game' can affect clustering\n",
    "both_words = pd.Series(' '.join(gedit['cleanboth']).split()).value_counts()\n",
    "\n",
    "both_words[:15]"
   ]
  },
  {
   "cell_type": "code",
   "execution_count": 10,
   "metadata": {},
   "outputs": [
    {
     "name": "stdout",
     "output_type": "stream",
     "text": [
      "Freq word size: 29\n",
      "Rare word size: 10519\n"
     ]
    }
   ],
   "source": [
    "freq_words = both_words[(both_words >= 1300)]\n",
    "rare_words = both_words[(both_words <= 3)]\n",
    "\n",
    "print(f'Freq word size: {len(freq_words)}')\n",
    "print(f'Rare word size: {len(rare_words)}')"
   ]
  },
  {
   "cell_type": "code",
   "execution_count": 21,
   "metadata": {},
   "outputs": [],
   "source": [
    "# removing sentiment words by choice as they skew clusters\n",
    "sentiment_words = ['good','bad','great','terrible','love','hate','awesome','really','much','best','worst']"
   ]
  },
  {
   "cell_type": "code",
   "execution_count": 22,
   "metadata": {},
   "outputs": [
    {
     "name": "stdout",
     "output_type": "stream",
     "text": [
      "Remaining word size: 5988\n"
     ]
    },
    {
     "data": {
      "text/html": [
       "<div>\n",
       "<style scoped>\n",
       "    .dataframe tbody tr th:only-of-type {\n",
       "        vertical-align: middle;\n",
       "    }\n",
       "\n",
       "    .dataframe tbody tr th {\n",
       "        vertical-align: top;\n",
       "    }\n",
       "\n",
       "    .dataframe thead th {\n",
       "        text-align: right;\n",
       "    }\n",
       "</style>\n",
       "<table border=\"1\" class=\"dataframe\">\n",
       "  <thead>\n",
       "    <tr style=\"text-align: right;\">\n",
       "      <th></th>\n",
       "      <th>asin</th>\n",
       "      <th>helppercent</th>\n",
       "      <th>overall</th>\n",
       "      <th>cleansum</th>\n",
       "      <th>cleantxt</th>\n",
       "      <th>cleanboth</th>\n",
       "    </tr>\n",
       "  </thead>\n",
       "  <tbody>\n",
       "    <tr>\n",
       "      <th>0</th>\n",
       "      <td>B00000DMB3</td>\n",
       "      <td>1.000000</td>\n",
       "      <td>5</td>\n",
       "      <td>love game</td>\n",
       "      <td>love game love game love game get ocarina time year since ha come still rock even comparison wha...</td>\n",
       "      <td>ocarina year since come still rock comparison whats ive playstation couple year ocarina realize ...</td>\n",
       "    </tr>\n",
       "    <tr>\n",
       "      <th>1</th>\n",
       "      <td>B00000DMB3</td>\n",
       "      <td>1.000000</td>\n",
       "      <td>5</td>\n",
       "      <td>true classic</td>\n",
       "      <td>game blow away didnt expect ocarina meet standard play previous zelda game usually go stale pred...</td>\n",
       "      <td>true classic blow away didnt expect ocarina meet standard previous zelda usually stale predictab...</td>\n",
       "    </tr>\n",
       "    <tr>\n",
       "      <th>2</th>\n",
       "      <td>B00000DMB3</td>\n",
       "      <td>0.666667</td>\n",
       "      <td>5</td>\n",
       "      <td>timeless classic</td>\n",
       "      <td>im gamers call zelda veteran ive play almost zelda game manage beat one one love zelda game chal...</td>\n",
       "      <td>timeless classic im gamers call zelda veteran ive almost zelda manage beat zelda challenge diffe...</td>\n",
       "    </tr>\n",
       "    <tr>\n",
       "      <th>3</th>\n",
       "      <td>B00000DMB3</td>\n",
       "      <td>1.000000</td>\n",
       "      <td>5</td>\n",
       "      <td>one n game must</td>\n",
       "      <td>follow lineage zelda early day classic bite system onward snes day quota link pastquot great gam...</td>\n",
       "      <td>must follow zelda early day classic bite system snes day quota link pastquot every second never ...</td>\n",
       "    </tr>\n",
       "    <tr>\n",
       "      <th>4</th>\n",
       "      <td>B00000DMB3</td>\n",
       "      <td>0.833333</td>\n",
       "      <td>5</td>\n",
       "      <td>legendary</td>\n",
       "      <td>play game zelda game ever play wa link past couldnt understand well decide play hype wa sure gla...</td>\n",
       "      <td>legendary zelda ever link past couldnt understand decide hype sure glad ever full adventure wond...</td>\n",
       "    </tr>\n",
       "  </tbody>\n",
       "</table>\n",
       "</div>"
      ],
      "text/plain": [
       "         asin  helppercent  overall          cleansum  \\\n",
       "0  B00000DMB3     1.000000        5         love game   \n",
       "1  B00000DMB3     1.000000        5      true classic   \n",
       "2  B00000DMB3     0.666667        5  timeless classic   \n",
       "3  B00000DMB3     1.000000        5   one n game must   \n",
       "4  B00000DMB3     0.833333        5         legendary   \n",
       "\n",
       "                                                                                              cleantxt  \\\n",
       "0  love game love game love game get ocarina time year since ha come still rock even comparison wha...   \n",
       "1  game blow away didnt expect ocarina meet standard play previous zelda game usually go stale pred...   \n",
       "2  im gamers call zelda veteran ive play almost zelda game manage beat one one love zelda game chal...   \n",
       "3  follow lineage zelda early day classic bite system onward snes day quota link pastquot great gam...   \n",
       "4  play game zelda game ever play wa link past couldnt understand well decide play hype wa sure gla...   \n",
       "\n",
       "                                                                                             cleanboth  \n",
       "0  ocarina year since come still rock comparison whats ive playstation couple year ocarina realize ...  \n",
       "1  true classic blow away didnt expect ocarina meet standard previous zelda usually stale predictab...  \n",
       "2  timeless classic im gamers call zelda veteran ive almost zelda manage beat zelda challenge diffe...  \n",
       "3  must follow zelda early day classic bite system snes day quota link pastquot every second never ...  \n",
       "4  legendary zelda ever link past couldnt understand decide hype sure glad ever full adventure wond...  "
      ]
     },
     "execution_count": 22,
     "metadata": {},
     "output_type": "execute_result"
    }
   ],
   "source": [
    "stop_words = set(stopwords.words('english'))\n",
    "\n",
    "gedit['cleanboth'] = gedit['cleanboth'].apply(lambda x: \" \".join(x for x in str(x).split() if x not in freq_words))\n",
    "gedit['cleanboth'] = gedit['cleanboth'].apply(lambda x: \" \".join(x for x in str(x).split() if x not in rare_words))\n",
    "gedit['cleanboth'] = gedit['cleanboth'].apply(lambda x: \" \".join(x for x in str(x).split() if x not in stop_words))\n",
    "gedit['cleanboth'] = gedit['cleanboth'].apply(lambda x: \" \".join(x for x in str(x).split() if x not in sentiment_words))\n",
    "gedit['cleanboth'] = gedit['cleanboth'].apply(lambda x: \" \".join(x for x in str(x).split() if len(x) > 1))\n",
    "\n",
    "print(f\"Remaining word size: {len(pd.Series(' '.join(gedit['cleanboth']).split()).value_counts())}\")\n",
    "\n",
    "gedit.head()"
   ]
  },
  {
   "cell_type": "markdown",
   "metadata": {},
   "source": [
    "## Topic Modeling"
   ]
  },
  {
   "cell_type": "code",
   "execution_count": 23,
   "metadata": {},
   "outputs": [],
   "source": [
    "import gensim\n",
    "from gensim import corpora"
   ]
  },
  {
   "cell_type": "code",
   "execution_count": 24,
   "metadata": {},
   "outputs": [
    {
     "data": {
      "text/plain": [
       "['ocarina',\n",
       " 'year',\n",
       " 'since',\n",
       " 'come',\n",
       " 'still',\n",
       " 'rock',\n",
       " 'comparison',\n",
       " 'whats',\n",
       " 'ive',\n",
       " 'playstation']"
      ]
     },
     "execution_count": 24,
     "metadata": {},
     "output_type": "execute_result"
    }
   ],
   "source": [
    "word_matrix = [cell.split() for cell in gedit['cleanboth']]\n",
    "\n",
    "word_matrix[0][:10]"
   ]
  },
  {
   "cell_type": "code",
   "execution_count": 25,
   "metadata": {},
   "outputs": [
    {
     "data": {
      "text/plain": [
       "[(0, 1),\n",
       " (1, 1),\n",
       " (2, 1),\n",
       " (3, 1),\n",
       " (4, 2),\n",
       " (5, 1),\n",
       " (6, 1),\n",
       " (7, 1),\n",
       " (8, 1),\n",
       " (9, 1)]"
      ]
     },
     "execution_count": 25,
     "metadata": {},
     "output_type": "execute_result"
    }
   ],
   "source": [
    "g_dict = corpora.Dictionary(word_matrix)\n",
    "term_matrix = [g_dict.doc2bow(row) for row in word_matrix]\n",
    "\n",
    "term_matrix[0][:10]"
   ]
  },
  {
   "cell_type": "code",
   "execution_count": 28,
   "metadata": {},
   "outputs": [],
   "source": [
    "g_lda = gensim.models.ldamodel.LdaModel\n",
    "g_model = g_lda(term_matrix, num_topics=10, id2word = g_dict, passes=50, random_state=None)"
   ]
  },
  {
   "cell_type": "code",
   "execution_count": 29,
   "metadata": {
    "scrolled": true
   },
   "outputs": [
    {
     "name": "stdout",
     "output_type": "stream",
     "text": [
      "[(0, '0.014*\"mario\" + 0.011*\"level\" + 0.009*\"enemy\" + 0.007*\"galaxy\"'), (1, '0.017*\"controller\" + 0.014*\"xbox\" + 0.008*\"battery\" + 0.008*\"silent\"'), (2, '0.013*\"multiplayer\" + 0.012*\"player\" + 0.012*\"map\" + 0.010*\"campaign\"'), (3, '0.027*\"headset\" + 0.020*\"sound\" + 0.013*\"headphone\" + 0.009*\"wireless\"'), (4, '0.023*\"war\" + 0.021*\"god\" + 0.009*\"kratos\" + 0.009*\"wii\"'), (5, '0.011*\"sims\" + 0.008*\"want\" + 0.007*\"system\" + 0.006*\"see\"'), (6, '0.020*\"ac\" + 0.018*\"ship\" + 0.015*\"assassin\" + 0.013*\"creed\"'), (7, '0.027*\"persona\" + 0.007*\"story\" + 0.007*\"social\" + 0.006*\"golden\"'), (8, '0.016*\"vita\" + 0.013*\"version\" + 0.012*\"amaze\" + 0.010*\"psp\"'), (9, '0.016*\"story\" + 0.010*\"end\" + 0.009*\"feel\" + 0.008*\"quest\"')]\n"
     ]
    }
   ],
   "source": [
    "# Topic Modeling output\n",
    "print(g_model.print_topics(num_topics=-1, num_words=4))"
   ]
  },
  {
   "cell_type": "code",
   "execution_count": 18,
   "metadata": {},
   "outputs": [],
   "source": [
    "# Future research\n",
    "\n",
    "# Explore additional LdaModel functions / outputs\n",
    "# Understand topic weights\n",
    "# Improve topic selection thru Kullback Leibler Divergence Score\n",
    "# Tie print_topics to raw review data"
   ]
  },
  {
   "cell_type": "code",
   "execution_count": 19,
   "metadata": {},
   "outputs": [],
   "source": [
    "# this concludes pt 5"
   ]
  },
  {
   "cell_type": "code",
   "execution_count": null,
   "metadata": {},
   "outputs": [],
   "source": []
  }
 ],
 "metadata": {
  "kernelspec": {
   "display_name": "Python 3",
   "language": "python",
   "name": "python3"
  },
  "language_info": {
   "codemirror_mode": {
    "name": "ipython",
    "version": 3
   },
   "file_extension": ".py",
   "mimetype": "text/x-python",
   "name": "python",
   "nbconvert_exporter": "python",
   "pygments_lexer": "ipython3",
   "version": "3.6.4"
  }
 },
 "nbformat": 4,
 "nbformat_minor": 2
}
