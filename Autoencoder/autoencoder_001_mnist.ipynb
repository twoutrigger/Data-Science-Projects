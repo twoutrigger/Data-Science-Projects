{
 "cells": [
  {
   "cell_type": "code",
   "execution_count": 3,
   "id": "fc00b83b",
   "metadata": {},
   "outputs": [],
   "source": [
    "## tutorial on autoencoders using MNIST\n",
    "## tutorial url:\n",
    "## https://www.analyticsvidhya.com/blog/2021/06/complete-guide-on-how-to-use-autoencoders-in-python/#:~:text=The%20Autoencoder%20is%20a%20particular,the%20input%20with%20minimum%20loss."
   ]
  },
  {
   "cell_type": "markdown",
   "id": "8063be50",
   "metadata": {},
   "source": [
    "An autoencoder is actually an Artificial Neural Network that is used to decompress and compress the input data provided in an unsupervised manner. Decompression and compression operations are lossy and data-specific.\n",
    "\n",
    "Lossy operations mean that the reconstructed image is often not an as sharp or high resolution in quality as the original one and the difference is greater for reconstructions with a greater loss and this is known as a lossy operation. The following image shows how the image is encoded and decoded with a certain loss factor.\n",
    "\n",
    "The Autoencoder is a particular type of feed-forward neural network and the input should be similar to the output. Hence we would need an encoding method, loss function, and a decoding method. The end goal is to perfectly replicate the input with minimum loss."
   ]
  },
  {
   "cell_type": "code",
   "execution_count": 15,
   "id": "9a13c6db",
   "metadata": {},
   "outputs": [],
   "source": [
    "from tensorflow.keras.layers import Dense,Conv2D,MaxPooling2D,UpSampling2D\n",
    "from tensorflow.keras import Input, Model, Sequential\n",
    "from tensorflow.keras.datasets import mnist\n",
    "import numpy as np\n",
    "import matplotlib.pyplot as plt"
   ]
  },
  {
   "cell_type": "markdown",
   "id": "1ec050ba",
   "metadata": {},
   "source": [
    "#### Simple Autoencoder"
   ]
  },
  {
   "cell_type": "code",
   "execution_count": 5,
   "id": "216087f1",
   "metadata": {},
   "outputs": [],
   "source": [
    "encoding_dim = 15 \n",
    "input_img = Input(shape=(784,))\n",
    "# encoded representation of input\n",
    "encoded = Dense(encoding_dim, activation='relu')(input_img)\n",
    "# decoded representation of code \n",
    "decoded = Dense(784, activation='sigmoid')(encoded)\n",
    "# Model which take input image and shows decoded images\n",
    "autoencoder = Model(input_img, decoded)"
   ]
  },
  {
   "cell_type": "code",
   "execution_count": 6,
   "id": "d3f5a1a8",
   "metadata": {},
   "outputs": [],
   "source": [
    "# This model shows encoded images\n",
    "encoder = Model(input_img, encoded)\n",
    "# Creating a decoder model\n",
    "encoded_input = Input(shape=(encoding_dim,))\n",
    "# last layer of the autoencoder model\n",
    "decoder_layer = autoencoder.layers[-1]\n",
    "# decoder model\n",
    "decoder = Model(encoded_input, decoder_layer(encoded_input))"
   ]
  },
  {
   "cell_type": "code",
   "execution_count": 7,
   "id": "a08976d6",
   "metadata": {},
   "outputs": [],
   "source": [
    "autoencoder.compile(optimizer='adam', loss='binary_crossentropy')"
   ]
  },
  {
   "cell_type": "code",
   "execution_count": 8,
   "id": "89f08f9c",
   "metadata": {},
   "outputs": [
    {
     "name": "stdout",
     "output_type": "stream",
     "text": [
      "(60000, 784)\n",
      "(10000, 784)\n"
     ]
    }
   ],
   "source": [
    "(x_train, y_train), (x_test, y_test) = mnist.load_data()\n",
    "x_train = x_train.astype('float32') / 255.\n",
    "x_test = x_test.astype('float32') / 255.\n",
    "x_train = x_train.reshape((len(x_train), np.prod(x_train.shape[1:])))\n",
    "x_test = x_test.reshape((len(x_test), np.prod(x_test.shape[1:])))\n",
    "print(x_train.shape)\n",
    "print(x_test.shape)"
   ]
  },
  {
   "cell_type": "code",
   "execution_count": 10,
   "id": "91bcb47a",
   "metadata": {},
   "outputs": [
    {
     "data": {
      "text/plain": [
       "<matplotlib.image.AxesImage at 0x23d28cada60>"
      ]
     },
     "execution_count": 10,
     "metadata": {},
     "output_type": "execute_result"
    },
    {
     "data": {
      "image/png": "[encoded data removed]",
      "text/plain": [
       "<Figure size 432x288 with 1 Axes>"
      ]
     },
     "metadata": {
      "needs_background": "light"
     },
     "output_type": "display_data"
    }
   ],
   "source": [
    "plt.imshow(x_train[1].reshape(28,28))"
   ]
  },
  {
   "cell_type": "code",
   "execution_count": 11,
   "id": "227a53e6",
   "metadata": {},
   "outputs": [
    {
     "name": "stdout",
     "output_type": "stream",
     "text": [
      "Epoch 1/15\n",
      "235/235 [==============================] - 6s 6ms/step - loss: 0.3146 - val_loss: 0.2273\n",
      "Epoch 2/15\n",
      "235/235 [==============================] - 1s 4ms/step - loss: 0.2040 - val_loss: 0.1849\n",
      "Epoch 3/15\n",
      "235/235 [==============================] - 1s 5ms/step - loss: 0.1748 - val_loss: 0.1643\n",
      "Epoch 4/15\n",
      "235/235 [==============================] - 1s 5ms/step - loss: 0.1599 - val_loss: 0.1536\n",
      "Epoch 5/15\n",
      "235/235 [==============================] - 1s 5ms/step - loss: 0.1516 - val_loss: 0.1476\n",
      "Epoch 6/15\n",
      "235/235 [==============================] - 1s 5ms/step - loss: 0.1471 - val_loss: 0.1441\n",
      "Epoch 7/15\n",
      "235/235 [==============================] - 1s 6ms/step - loss: 0.1444 - val_loss: 0.1420\n",
      "Epoch 8/15\n",
      "235/235 [==============================] - 1s 5ms/step - loss: 0.1425 - val_loss: 0.1402\n",
      "Epoch 9/15\n",
      "235/235 [==============================] - 1s 5ms/step - loss: 0.1408 - val_loss: 0.1386\n",
      "Epoch 10/15\n",
      "235/235 [==============================] - 1s 4ms/step - loss: 0.1393 - val_loss: 0.1372\n",
      "Epoch 11/15\n",
      "235/235 [==============================] - 1s 5ms/step - loss: 0.1381 - val_loss: 0.1361\n",
      "Epoch 12/15\n",
      "235/235 [==============================] - 1s 5ms/step - loss: 0.1370 - val_loss: 0.1352\n",
      "Epoch 13/15\n",
      "235/235 [==============================] - 1s 5ms/step - loss: 0.1361 - val_loss: 0.1343\n",
      "Epoch 14/15\n",
      "235/235 [==============================] - 1s 5ms/step - loss: 0.1354 - val_loss: 0.1337\n",
      "Epoch 15/15\n",
      "235/235 [==============================] - 1s 5ms/step - loss: 0.1349 - val_loss: 0.1331\n"
     ]
    },
    {
     "data": {
      "text/plain": [
       "<keras.callbacks.History at 0x23d28d3d760>"
      ]
     },
     "execution_count": 11,
     "metadata": {},
     "output_type": "execute_result"
    }
   ],
   "source": [
    "autoencoder.fit(x_train, x_train,\n",
    "                epochs=15,\n",
    "                batch_size=256,\n",
    "                validation_data=(x_test, x_test))"
   ]
  },
  {
   "cell_type": "code",
   "execution_count": 12,
   "id": "ca4441ec",
   "metadata": {},
   "outputs": [
    {
     "name": "stdout",
     "output_type": "stream",
     "text": [
      "313/313 [==============================] - 1s 1ms/step\n",
      "313/313 [==============================] - 0s 1ms/step\n"
     ]
    },
    {
     "data": {
      "image/png": "[encoded data removed]",
      "text/plain": [
       "<Figure size 1440x288 with 10 Axes>"
      ]
     },
     "metadata": {
      "needs_background": "light"
     },
     "output_type": "display_data"
    }
   ],
   "source": [
    "encoded_img = encoder.predict(x_test)\n",
    "decoded_img = decoder.predict(encoded_img)\n",
    "plt.figure(figsize=(20, 4))\n",
    "for i in range(5):\n",
    "    # Display original\n",
    "    ax = plt.subplot(2, 5, i + 1)\n",
    "    plt.imshow(x_test[i].reshape(28, 28))\n",
    "    plt.gray()\n",
    "    ax.get_xaxis().set_visible(False)\n",
    "    ax.get_yaxis().set_visible(False)\n",
    "    # Display reconstruction\n",
    "    ax = plt.subplot(2, 5, i + 1 + 5)\n",
    "    plt.imshow(decoded_img[i].reshape(28, 28))\n",
    "    plt.gray()\n",
    "    ax.get_xaxis().set_visible(False)\n",
    "    ax.get_yaxis().set_visible(False)\n",
    "plt.show()"
   ]
  },
  {
   "cell_type": "markdown",
   "id": "77eeb49d",
   "metadata": {},
   "source": [
    "#### Deep CNN Autoencoder"
   ]
  },
  {
   "cell_type": "code",
   "execution_count": 16,
   "id": "567290cd",
   "metadata": {},
   "outputs": [
    {
     "name": "stdout",
     "output_type": "stream",
     "text": [
      "Model: \"sequential\"\n",
      "_________________________________________________________________\n",
      " Layer (type)                Output Shape              Param #   \n",
      "=================================================================\n",
      " conv2d (Conv2D)             (None, 28, 28, 30)        300       \n",
      "                                                                 \n",
      " max_pooling2d (MaxPooling2D  (None, 14, 14, 30)       0         \n",
      " )                                                               \n",
      "                                                                 \n",
      " conv2d_1 (Conv2D)           (None, 14, 14, 15)        4065      \n",
      "                                                                 \n",
      " max_pooling2d_1 (MaxPooling  (None, 7, 7, 15)         0         \n",
      " 2D)                                                             \n",
      "                                                                 \n",
      " conv2d_2 (Conv2D)           (None, 7, 7, 15)          2040      \n",
      "                                                                 \n",
      " up_sampling2d (UpSampling2D  (None, 14, 14, 15)       0         \n",
      " )                                                               \n",
      "                                                                 \n",
      " conv2d_3 (Conv2D)           (None, 14, 14, 30)        4080      \n",
      "                                                                 \n",
      " up_sampling2d_1 (UpSampling  (None, 28, 28, 30)       0         \n",
      " 2D)                                                             \n",
      "                                                                 \n",
      " conv2d_4 (Conv2D)           (None, 28, 28, 1)         271       \n",
      "                                                                 \n",
      "=================================================================\n",
      "Total params: 10,756\n",
      "Trainable params: 10,756\n",
      "Non-trainable params: 0\n",
      "_________________________________________________________________\n"
     ]
    }
   ],
   "source": [
    "model = Sequential()\n",
    "# encoder network\n",
    "model.add(Conv2D(30, 3, activation= 'relu', padding='same', input_shape = (28,28,1)))\n",
    "model.add(MaxPooling2D(2, padding= 'same'))\n",
    "model.add(Conv2D(15, 3, activation= 'relu', padding='same'))\n",
    "model.add(MaxPooling2D(2, padding= 'same'))\n",
    "#decoder network\n",
    "model.add(Conv2D(15, 3, activation= 'relu', padding='same'))\n",
    "model.add(UpSampling2D(2))\n",
    "model.add(Conv2D(30, 3, activation= 'relu', padding='same'))\n",
    "model.add(UpSampling2D(2))\n",
    "model.add(Conv2D(1,3,activation='sigmoid', padding= 'same')) # output layer\n",
    "model.compile(optimizer= 'adam', loss = 'binary_crossentropy')\n",
    "model.summary()"
   ]
  },
  {
   "cell_type": "code",
   "execution_count": 17,
   "id": "2dec11cb",
   "metadata": {},
   "outputs": [
    {
     "name": "stdout",
     "output_type": "stream",
     "text": [
      "Epoch 1/15\n",
      "469/469 [==============================] - 63s 132ms/step - loss: 0.1291 - val_loss: 0.0788\n",
      "Epoch 2/15\n",
      "469/469 [==============================] - 60s 128ms/step - loss: 0.0769 - val_loss: 0.0742\n",
      "Epoch 3/15\n",
      "469/469 [==============================] - 59s 126ms/step - loss: 0.0738 - val_loss: 0.0721\n",
      "Epoch 4/15\n",
      "469/469 [==============================] - 60s 127ms/step - loss: 0.0722 - val_loss: 0.0709\n",
      "Epoch 5/15\n",
      "469/469 [==============================] - 59s 127ms/step - loss: 0.0712 - val_loss: 0.0701\n",
      "Epoch 6/15\n",
      "469/469 [==============================] - 60s 128ms/step - loss: 0.0704 - val_loss: 0.0695\n",
      "Epoch 7/15\n",
      "469/469 [==============================] - 59s 125ms/step - loss: 0.0698 - val_loss: 0.0691\n",
      "Epoch 8/15\n",
      "469/469 [==============================] - 58s 123ms/step - loss: 0.0693 - val_loss: 0.0685\n",
      "Epoch 9/15\n",
      "469/469 [==============================] - 60s 128ms/step - loss: 0.0689 - val_loss: 0.0682\n",
      "Epoch 10/15\n",
      "469/469 [==============================] - 60s 127ms/step - loss: 0.0686 - val_loss: 0.0679\n",
      "Epoch 11/15\n",
      "469/469 [==============================] - 60s 128ms/step - loss: 0.0683 - val_loss: 0.0678\n",
      "Epoch 12/15\n",
      "469/469 [==============================] - 61s 129ms/step - loss: 0.0681 - val_loss: 0.0675\n",
      "Epoch 13/15\n",
      "469/469 [==============================] - 60s 128ms/step - loss: 0.0678 - val_loss: 0.0673\n",
      "Epoch 14/15\n",
      "469/469 [==============================] - 60s 128ms/step - loss: 0.0677 - val_loss: 0.0671\n",
      "Epoch 15/15\n",
      "469/469 [==============================] - 60s 128ms/step - loss: 0.0675 - val_loss: 0.0669\n"
     ]
    },
    {
     "data": {
      "text/plain": [
       "<keras.callbacks.History at 0x23d2fce7520>"
      ]
     },
     "execution_count": 17,
     "metadata": {},
     "output_type": "execute_result"
    }
   ],
   "source": [
    "(x_train, _), (x_test, _) = mnist.load_data()\n",
    "x_train = x_train.astype('float32') / 255.\n",
    "x_test = x_test.astype('float32') / 255.\n",
    "x_train = np.reshape(x_train, (len(x_train), 28, 28, 1))\n",
    "x_test = np.reshape(x_test, (len(x_test), 28, 28, 1))\n",
    "model.fit(x_train, x_train,\n",
    "                epochs=15,\n",
    "                batch_size=128,\n",
    "                validation_data=(x_test, x_test))"
   ]
  },
  {
   "cell_type": "code",
   "execution_count": 18,
   "id": "8ebd229b",
   "metadata": {},
   "outputs": [
    {
     "name": "stdout",
     "output_type": "stream",
     "text": [
      "313/313 [==============================] - 3s 10ms/step\n"
     ]
    },
    {
     "data": {
      "image/png": "[encoded data removed]",
      "text/plain": [
       "<Figure size 1440x288 with 10 Axes>"
      ]
     },
     "metadata": {
      "needs_background": "light"
     },
     "output_type": "display_data"
    }
   ],
   "source": [
    "pred = model.predict(x_test)\n",
    "plt.figure(figsize=(20, 4))\n",
    "for i in range(5):\n",
    "    # Display original\n",
    "    ax = plt.subplot(2, 5, i + 1)\n",
    "    plt.imshow(x_test[i].reshape(28, 28))\n",
    "    plt.gray()\n",
    "    ax.get_xaxis().set_visible(False)\n",
    "    ax.get_yaxis().set_visible(False)\n",
    "    # Display reconstruction\n",
    "    ax = plt.subplot(2, 5, i + 1 + 5)\n",
    "    plt.imshow(pred[i].reshape(28, 28))\n",
    "    plt.gray()\n",
    "    ax.get_xaxis().set_visible(False)\n",
    "    ax.get_yaxis().set_visible(False)\n",
    "plt.show()"
   ]
  },
  {
   "cell_type": "markdown",
   "id": "b8bb3868",
   "metadata": {},
   "source": [
    "#### Denoising Autoencoder"
   ]
  },
  {
   "cell_type": "code",
   "execution_count": 20,
   "id": "64f9fda9",
   "metadata": {},
   "outputs": [
    {
     "data": {
      "image/png": "[encoded data removed]",
      "text/plain": [
       "<Figure size 1440x144 with 5 Axes>"
      ]
     },
     "metadata": {
      "needs_background": "light"
     },
     "output_type": "display_data"
    }
   ],
   "source": [
    "noise_factor = 0.7\n",
    "x_train_noisy = x_train + noise_factor * np.random.normal(loc=0.0, scale=1.0, size=x_train.shape) \n",
    "x_test_noisy = x_test + noise_factor * np.random.normal(loc=0.0, scale=1.0, size=x_test.shape) \n",
    "x_train_noisy = np.clip(x_train_noisy, 0., 1.)\n",
    "x_test_noisy = np.clip(x_test_noisy, 0., 1.)\n",
    "\n",
    "plt.figure(figsize=(20, 2))\n",
    "for i in range(1, 5 + 1):\n",
    "    ax = plt.subplot(1, 5, i)\n",
    "    plt.imshow(x_test_noisy[i].reshape(28, 28))\n",
    "    plt.gray()\n",
    "    ax.get_xaxis().set_visible(False)\n",
    "    ax.get_yaxis().set_visible(False)\n",
    "plt.show()"
   ]
  },
  {
   "cell_type": "code",
   "execution_count": 21,
   "id": "094af733",
   "metadata": {},
   "outputs": [
    {
     "name": "stdout",
     "output_type": "stream",
     "text": [
      "Epoch 1/15\n",
      "469/469 [==============================] - 78s 165ms/step - loss: 0.1973 - val_loss: 0.1469\n",
      "Epoch 2/15\n",
      "469/469 [==============================] - 73s 157ms/step - loss: 0.1421 - val_loss: 0.1365\n",
      "Epoch 3/15\n",
      "469/469 [==============================] - 72s 155ms/step - loss: 0.1355 - val_loss: 0.1320\n",
      "Epoch 4/15\n",
      "469/469 [==============================] - 72s 154ms/step - loss: 0.1323 - val_loss: 0.1300\n",
      "Epoch 5/15\n",
      "469/469 [==============================] - 79s 168ms/step - loss: 0.1301 - val_loss: 0.1278\n",
      "Epoch 6/15\n",
      "469/469 [==============================] - 81s 172ms/step - loss: 0.1285 - val_loss: 0.1269\n",
      "Epoch 7/15\n",
      "469/469 [==============================] - 76s 162ms/step - loss: 0.1271 - val_loss: 0.1259\n",
      "Epoch 8/15\n",
      "469/469 [==============================] - 74s 157ms/step - loss: 0.1261 - val_loss: 0.1245\n",
      "Epoch 9/15\n",
      "469/469 [==============================] - 74s 159ms/step - loss: 0.1252 - val_loss: 0.1235\n",
      "Epoch 10/15\n",
      "469/469 [==============================] - 79s 168ms/step - loss: 0.1244 - val_loss: 0.1236\n",
      "Epoch 11/15\n",
      "469/469 [==============================] - 79s 167ms/step - loss: 0.1237 - val_loss: 0.1223\n",
      "Epoch 12/15\n",
      "469/469 [==============================] - 80s 171ms/step - loss: 0.1232 - val_loss: 0.1220\n",
      "Epoch 13/15\n",
      "469/469 [==============================] - 80s 171ms/step - loss: 0.1227 - val_loss: 0.1218\n",
      "Epoch 14/15\n",
      "469/469 [==============================] - 79s 168ms/step - loss: 0.1223 - val_loss: 0.1210\n",
      "Epoch 15/15\n",
      "469/469 [==============================] - 78s 165ms/step - loss: 0.1219 - val_loss: 0.1211\n"
     ]
    },
    {
     "data": {
      "text/plain": [
       "<keras.callbacks.History at 0x23d2bf86f40>"
      ]
     },
     "execution_count": 21,
     "metadata": {},
     "output_type": "execute_result"
    }
   ],
   "source": [
    "model = Sequential()\n",
    "# encoder network\n",
    "model.add(Conv2D(35, 3, activation= 'relu', padding='same', input_shape = (28,28,1)))\n",
    "model.add(MaxPooling2D(2, padding= 'same'))\n",
    "model.add(Conv2D(25, 3, activation= 'relu', padding='same'))\n",
    "model.add(MaxPooling2D(2, padding= 'same'))\n",
    "#decoder network\n",
    "model.add(Conv2D(25, 3, activation= 'relu', padding='same'))\n",
    "model.add(UpSampling2D(2))\n",
    "model.add(Conv2D(35, 3, activation= 'relu', padding='same'))\n",
    "model.add(UpSampling2D(2))\n",
    "model.add(Conv2D(1,3,activation='sigmoid', padding= 'same')) # output layer\n",
    "model.compile(optimizer= 'adam', loss = 'binary_crossentropy')\n",
    "model.fit(x_train_noisy, x_train,\n",
    "                epochs=15,\n",
    "                batch_size=128,\n",
    "                validation_data=(x_test_noisy, x_test))"
   ]
  },
  {
   "cell_type": "code",
   "execution_count": 22,
   "id": "63766543",
   "metadata": {},
   "outputs": [
    {
     "name": "stdout",
     "output_type": "stream",
     "text": [
      "313/313 [==============================] - 4s 12ms/step\n"
     ]
    },
    {
     "data": {
      "image/png": "[encoded data removed]",
      "text/plain": [
       "<Figure size 1440x288 with 10 Axes>"
      ]
     },
     "metadata": {
      "needs_background": "light"
     },
     "output_type": "display_data"
    }
   ],
   "source": [
    "pred = model.predict(x_test_noisy)\n",
    "plt.figure(figsize=(20, 4))\n",
    "for i in range(5):\n",
    "    # Display original\n",
    "    ax = plt.subplot(2, 5, i + 1)\n",
    "    plt.imshow(x_test_noisy[i].reshape(28, 28))\n",
    "    plt.gray()\n",
    "    ax.get_xaxis().set_visible(False)\n",
    "    ax.get_yaxis().set_visible(False)\n",
    "    # Display reconstruction\n",
    "    ax = plt.subplot(2, 5, i + 1 + 5)\n",
    "    plt.imshow(pred[i].reshape(28, 28))\n",
    "    plt.gray()\n",
    "    ax.get_xaxis().set_visible(False)\n",
    "    ax.get_yaxis().set_visible(False)\n",
    "plt.show()"
   ]
  },
  {
   "cell_type": "markdown",
   "id": "7c54eb8b",
   "metadata": {},
   "source": [
    "There are multiple uses for autoencoders like dimensionality reduction image compression, recommendations system for movies and songs and more. The performance of the model can be increased by training it for more epochs or also by increasing the dimension of our network."
   ]
  },
  {
   "cell_type": "code",
   "execution_count": null,
   "id": "146755dd",
   "metadata": {},
   "outputs": [],
   "source": []
  }
 ],
 "metadata": {
  "kernelspec": {
   "display_name": "Python 3 (ipykernel)",
   "language": "python",
   "name": "python3"
  },
  "language_info": {
   "codemirror_mode": {
    "name": "ipython",
    "version": 3
   },
   "file_extension": ".py",
   "mimetype": "text/x-python",
   "name": "python",
   "nbconvert_exporter": "python",
   "pygments_lexer": "ipython3",
   "version": "3.8.13"
  }
 },
 "nbformat": 4,
 "nbformat_minor": 5
}
