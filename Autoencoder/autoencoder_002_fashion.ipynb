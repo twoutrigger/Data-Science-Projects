{
 "cells": [
  {
   "cell_type": "code",
   "execution_count": null,
   "id": "fc00b83b",
   "metadata": {},
   "outputs": [],
   "source": [
    "## self-attempt on autoencoders using the fashion dataset"
   ]
  },
  {
   "cell_type": "markdown",
   "id": "8063be50",
   "metadata": {},
   "source": [
    "An autoencoder is actually an Artificial Neural Network that is used to decompress and compress the input data provided in an unsupervised manner. Decompression and compression operations are lossy and data-specific.\n",
    "\n",
    "Lossy operations mean that the reconstructed image is often not an as sharp or high resolution in quality as the original one and the difference is greater for reconstructions with a greater loss and this is known as a lossy operation. The following image shows how the image is encoded and decoded with a certain loss factor.\n",
    "\n",
    "The Autoencoder is a particular type of feed-forward neural network and the input should be similar to the output. Hence we would need an encoding method, loss function, and a decoding method. The end goal is to perfectly replicate the input with minimum loss."
   ]
  },
  {
   "cell_type": "code",
   "execution_count": 2,
   "id": "9a13c6db",
   "metadata": {},
   "outputs": [],
   "source": [
    "from tensorflow.keras.layers import Dense,Conv2D,MaxPooling2D,UpSampling2D\n",
    "from tensorflow.keras import Input, Model, Sequential\n",
    "import numpy as np\n",
    "import pandas as pd\n",
    "import matplotlib.pyplot as plt"
   ]
  },
  {
   "cell_type": "code",
   "execution_count": 3,
   "id": "d40aaf11",
   "metadata": {},
   "outputs": [],
   "source": [
    "# from tensorflow.keras.datasets import mnist"
   ]
  },
  {
   "cell_type": "code",
   "execution_count": 4,
   "id": "094a22c4",
   "metadata": {},
   "outputs": [],
   "source": [
    "# (x_train, y_train), (x_test, y_test) = mnist.load_data()\n",
    "# x_train = x_train.astype('float32') / 255.\n",
    "# x_test = x_test.astype('float32') / 255.\n",
    "# x_train = x_train.reshape((len(x_train), np.prod(x_train.shape[1:])))\n",
    "# x_test = x_test.reshape((len(x_test), np.prod(x_test.shape[1:])))\n",
    "# print(x_train.shape)\n",
    "# print(x_test.shape)"
   ]
  },
  {
   "cell_type": "code",
   "execution_count": 5,
   "id": "c0b03fba",
   "metadata": {},
   "outputs": [],
   "source": [
    "# type(x_train)"
   ]
  },
  {
   "cell_type": "code",
   "execution_count": 6,
   "id": "c42d5659",
   "metadata": {},
   "outputs": [],
   "source": [
    "# x_train[0].shape"
   ]
  },
  {
   "cell_type": "code",
   "execution_count": 7,
   "id": "33867160",
   "metadata": {},
   "outputs": [],
   "source": [
    "# plt.imshow(x_train[1])"
   ]
  },
  {
   "cell_type": "markdown",
   "id": "c92cf160",
   "metadata": {},
   "source": [
    "#### Ingest Training Data"
   ]
  },
  {
   "cell_type": "code",
   "execution_count": 8,
   "id": "593f0d68",
   "metadata": {},
   "outputs": [
    {
     "data": {
      "text/html": [
       "<div>\n",
       "<style scoped>\n",
       "    .dataframe tbody tr th:only-of-type {\n",
       "        vertical-align: middle;\n",
       "    }\n",
       "\n",
       "    .dataframe tbody tr th {\n",
       "        vertical-align: top;\n",
       "    }\n",
       "\n",
       "    .dataframe thead th {\n",
       "        text-align: right;\n",
       "    }\n",
       "</style>\n",
       "<table border=\"1\" class=\"dataframe\">\n",
       "  <thead>\n",
       "    <tr style=\"text-align: right;\">\n",
       "      <th></th>\n",
       "      <th>label</th>\n",
       "      <th>pixel1</th>\n",
       "      <th>pixel2</th>\n",
       "      <th>pixel3</th>\n",
       "      <th>pixel4</th>\n",
       "    </tr>\n",
       "  </thead>\n",
       "  <tbody>\n",
       "    <tr>\n",
       "      <th>0</th>\n",
       "      <td>2</td>\n",
       "      <td>0</td>\n",
       "      <td>0</td>\n",
       "      <td>0</td>\n",
       "      <td>0</td>\n",
       "    </tr>\n",
       "    <tr>\n",
       "      <th>1</th>\n",
       "      <td>9</td>\n",
       "      <td>0</td>\n",
       "      <td>0</td>\n",
       "      <td>0</td>\n",
       "      <td>0</td>\n",
       "    </tr>\n",
       "    <tr>\n",
       "      <th>2</th>\n",
       "      <td>6</td>\n",
       "      <td>0</td>\n",
       "      <td>0</td>\n",
       "      <td>0</td>\n",
       "      <td>0</td>\n",
       "    </tr>\n",
       "    <tr>\n",
       "      <th>3</th>\n",
       "      <td>0</td>\n",
       "      <td>0</td>\n",
       "      <td>0</td>\n",
       "      <td>0</td>\n",
       "      <td>1</td>\n",
       "    </tr>\n",
       "    <tr>\n",
       "      <th>4</th>\n",
       "      <td>3</td>\n",
       "      <td>0</td>\n",
       "      <td>0</td>\n",
       "      <td>0</td>\n",
       "      <td>0</td>\n",
       "    </tr>\n",
       "  </tbody>\n",
       "</table>\n",
       "</div>"
      ],
      "text/plain": [
       "   label  pixel1  pixel2  pixel3  pixel4\n",
       "0      2       0       0       0       0\n",
       "1      9       0       0       0       0\n",
       "2      6       0       0       0       0\n",
       "3      0       0       0       0       1\n",
       "4      3       0       0       0       0"
      ]
     },
     "execution_count": 8,
     "metadata": {},
     "output_type": "execute_result"
    }
   ],
   "source": [
    "fashion_train = pd.read_csv('../../../Large_Datasets/fashion-mnist_train.csv')\n",
    "fashion_train.iloc[:5, :5]"
   ]
  },
  {
   "cell_type": "code",
   "execution_count": 9,
   "id": "aa0deee2",
   "metadata": {},
   "outputs": [
    {
     "name": "stdout",
     "output_type": "stream",
     "text": [
      "(60000, 784) (60000,)\n"
     ]
    }
   ],
   "source": [
    "x_train = fashion_train.iloc[:, 1:].to_numpy()\n",
    "y_train = fashion_train.iloc[:, 0]\n",
    "\n",
    "x_train = x_train.astype('float32') / 255.\n",
    "x_train = x_train.reshape((len(x_train), np.prod(x_train.shape[1:])))\n",
    "\n",
    "print(x_train.shape, y_train.shape)"
   ]
  },
  {
   "cell_type": "code",
   "execution_count": 10,
   "id": "3381924e",
   "metadata": {},
   "outputs": [
    {
     "data": {
      "text/plain": [
       "<matplotlib.image.AxesImage at 0x1702037bb20>"
      ]
     },
     "execution_count": 10,
     "metadata": {},
     "output_type": "execute_result"
    },
    {
     "data": {
      "image/png": "[encoded data removed]",
      "text/plain": [
       "<Figure size 432x288 with 1 Axes>"
      ]
     },
     "metadata": {
      "needs_background": "light"
     },
     "output_type": "display_data"
    }
   ],
   "source": [
    "plt.imshow(x_train[2].reshape(28, 28))"
   ]
  },
  {
   "cell_type": "markdown",
   "id": "f1de8621",
   "metadata": {},
   "source": [
    "#### Ingest Test Data"
   ]
  },
  {
   "cell_type": "code",
   "execution_count": 11,
   "id": "bb5c0765",
   "metadata": {},
   "outputs": [
    {
     "data": {
      "text/html": [
       "<div>\n",
       "<style scoped>\n",
       "    .dataframe tbody tr th:only-of-type {\n",
       "        vertical-align: middle;\n",
       "    }\n",
       "\n",
       "    .dataframe tbody tr th {\n",
       "        vertical-align: top;\n",
       "    }\n",
       "\n",
       "    .dataframe thead th {\n",
       "        text-align: right;\n",
       "    }\n",
       "</style>\n",
       "<table border=\"1\" class=\"dataframe\">\n",
       "  <thead>\n",
       "    <tr style=\"text-align: right;\">\n",
       "      <th></th>\n",
       "      <th>label</th>\n",
       "      <th>pixel1</th>\n",
       "      <th>pixel2</th>\n",
       "      <th>pixel3</th>\n",
       "      <th>pixel4</th>\n",
       "    </tr>\n",
       "  </thead>\n",
       "  <tbody>\n",
       "    <tr>\n",
       "      <th>0</th>\n",
       "      <td>0</td>\n",
       "      <td>0</td>\n",
       "      <td>0</td>\n",
       "      <td>0</td>\n",
       "      <td>0</td>\n",
       "    </tr>\n",
       "    <tr>\n",
       "      <th>1</th>\n",
       "      <td>1</td>\n",
       "      <td>0</td>\n",
       "      <td>0</td>\n",
       "      <td>0</td>\n",
       "      <td>0</td>\n",
       "    </tr>\n",
       "    <tr>\n",
       "      <th>2</th>\n",
       "      <td>2</td>\n",
       "      <td>0</td>\n",
       "      <td>0</td>\n",
       "      <td>0</td>\n",
       "      <td>0</td>\n",
       "    </tr>\n",
       "    <tr>\n",
       "      <th>3</th>\n",
       "      <td>2</td>\n",
       "      <td>0</td>\n",
       "      <td>0</td>\n",
       "      <td>0</td>\n",
       "      <td>0</td>\n",
       "    </tr>\n",
       "    <tr>\n",
       "      <th>4</th>\n",
       "      <td>3</td>\n",
       "      <td>0</td>\n",
       "      <td>0</td>\n",
       "      <td>0</td>\n",
       "      <td>0</td>\n",
       "    </tr>\n",
       "  </tbody>\n",
       "</table>\n",
       "</div>"
      ],
      "text/plain": [
       "   label  pixel1  pixel2  pixel3  pixel4\n",
       "0      0       0       0       0       0\n",
       "1      1       0       0       0       0\n",
       "2      2       0       0       0       0\n",
       "3      2       0       0       0       0\n",
       "4      3       0       0       0       0"
      ]
     },
     "execution_count": 11,
     "metadata": {},
     "output_type": "execute_result"
    }
   ],
   "source": [
    "fashion_test = pd.read_csv('../../../Large_Datasets/fashion-mnist_test.csv')\n",
    "fashion_test.iloc[:5, :5]"
   ]
  },
  {
   "cell_type": "code",
   "execution_count": 12,
   "id": "7fb87c7b",
   "metadata": {},
   "outputs": [
    {
     "name": "stdout",
     "output_type": "stream",
     "text": [
      "(10000, 784) (10000,)\n"
     ]
    }
   ],
   "source": [
    "x_test = fashion_test.iloc[:, 1:].to_numpy()\n",
    "y_test = fashion_test.iloc[:, 0]\n",
    "\n",
    "x_test = x_test.astype('float32') / 255.\n",
    "x_test = x_test.reshape((len(x_test), np.prod(x_test.shape[1:])))\n",
    "\n",
    "print(x_test.shape, y_test.shape)"
   ]
  },
  {
   "cell_type": "code",
   "execution_count": 13,
   "id": "a8bb81b4",
   "metadata": {},
   "outputs": [
    {
     "data": {
      "text/plain": [
       "<matplotlib.image.AxesImage at 0x17020c32040>"
      ]
     },
     "execution_count": 13,
     "metadata": {},
     "output_type": "execute_result"
    },
    {
     "data": {
      "image/png": "[encoded data removed]",
      "text/plain": [
       "<Figure size 432x288 with 1 Axes>"
      ]
     },
     "metadata": {
      "needs_background": "light"
     },
     "output_type": "display_data"
    }
   ],
   "source": [
    "plt.imshow(x_test[2].reshape(28, 28))"
   ]
  },
  {
   "cell_type": "markdown",
   "id": "1ec050ba",
   "metadata": {},
   "source": [
    "#### Simple Autoencoder"
   ]
  },
  {
   "cell_type": "code",
   "execution_count": 14,
   "id": "216087f1",
   "metadata": {},
   "outputs": [],
   "source": [
    "encoding_dim = 15 \n",
    "input_img = Input(shape=(784,))\n",
    "# encoded representation of input\n",
    "encoded = Dense(encoding_dim, activation='relu')(input_img)\n",
    "# decoded representation of code \n",
    "decoded = Dense(784, activation='sigmoid')(encoded)\n",
    "# Model which take input image and shows decoded images\n",
    "autoencoder = Model(input_img, decoded)"
   ]
  },
  {
   "cell_type": "code",
   "execution_count": 15,
   "id": "d3f5a1a8",
   "metadata": {},
   "outputs": [],
   "source": [
    "# This model shows encoded images\n",
    "encoder = Model(input_img, encoded)\n",
    "# Creating a decoder model\n",
    "encoded_input = Input(shape=(encoding_dim,))\n",
    "# last layer of the autoencoder model\n",
    "decoder_layer = autoencoder.layers[-1]\n",
    "# decoder model\n",
    "decoder = Model(encoded_input, decoder_layer(encoded_input))"
   ]
  },
  {
   "cell_type": "code",
   "execution_count": 16,
   "id": "a08976d6",
   "metadata": {},
   "outputs": [],
   "source": [
    "autoencoder.compile(optimizer='adam', loss='binary_crossentropy')"
   ]
  },
  {
   "cell_type": "code",
   "execution_count": 17,
   "id": "227a53e6",
   "metadata": {},
   "outputs": [
    {
     "name": "stdout",
     "output_type": "stream",
     "text": [
      "Epoch 1/15\n",
      "235/235 [==============================] - 2s 5ms/step - loss: 0.4377 - val_loss: 0.3608\n",
      "Epoch 2/15\n",
      "235/235 [==============================] - 1s 5ms/step - loss: 0.3453 - val_loss: 0.3317\n",
      "Epoch 3/15\n",
      "235/235 [==============================] - 1s 5ms/step - loss: 0.3257 - val_loss: 0.3202\n",
      "Epoch 4/15\n",
      "235/235 [==============================] - 1s 5ms/step - loss: 0.3167 - val_loss: 0.3126\n",
      "Epoch 5/15\n",
      "235/235 [==============================] - 1s 5ms/step - loss: 0.3109 - val_loss: 0.3079\n",
      "Epoch 6/15\n",
      "235/235 [==============================] - 1s 5ms/step - loss: 0.3071 - val_loss: 0.3049\n",
      "Epoch 7/15\n",
      "235/235 [==============================] - 1s 5ms/step - loss: 0.3047 - val_loss: 0.3029\n",
      "Epoch 8/15\n",
      "235/235 [==============================] - 1s 5ms/step - loss: 0.3032 - val_loss: 0.3017\n",
      "Epoch 9/15\n",
      "235/235 [==============================] - 1s 5ms/step - loss: 0.3023 - val_loss: 0.3009\n",
      "Epoch 10/15\n",
      "235/235 [==============================] - 1s 5ms/step - loss: 0.3016 - val_loss: 0.3003\n",
      "Epoch 11/15\n",
      "235/235 [==============================] - 1s 5ms/step - loss: 0.3012 - val_loss: 0.3000\n",
      "Epoch 12/15\n",
      "235/235 [==============================] - 1s 5ms/step - loss: 0.3008 - val_loss: 0.2996\n",
      "Epoch 13/15\n",
      "235/235 [==============================] - 1s 5ms/step - loss: 0.3005 - val_loss: 0.2994\n",
      "Epoch 14/15\n",
      "235/235 [==============================] - 1s 5ms/step - loss: 0.3003 - val_loss: 0.2992\n",
      "Epoch 15/15\n",
      "235/235 [==============================] - 1s 5ms/step - loss: 0.3001 - val_loss: 0.2990\n"
     ]
    },
    {
     "data": {
      "text/plain": [
       "<keras.callbacks.History at 0x1701fd5eb50>"
      ]
     },
     "execution_count": 17,
     "metadata": {},
     "output_type": "execute_result"
    }
   ],
   "source": [
    "autoencoder.fit(x_train, x_train,\n",
    "                epochs=15,\n",
    "                batch_size=256,\n",
    "                validation_data=(x_test, x_test))"
   ]
  },
  {
   "cell_type": "code",
   "execution_count": 20,
   "id": "dfac7be6",
   "metadata": {},
   "outputs": [
    {
     "name": "stdout",
     "output_type": "stream",
     "text": [
      "0\n",
      "1\n",
      "2\n",
      "3\n",
      "4\n"
     ]
    }
   ],
   "source": [
    "for i in range(5):\n",
    "    print(i)"
   ]
  },
  {
   "cell_type": "code",
   "execution_count": 21,
   "id": "6e915ac0",
   "metadata": {},
   "outputs": [
    {
     "name": "stdout",
     "output_type": "stream",
     "text": [
      "5\n",
      "6\n",
      "7\n",
      "8\n",
      "9\n"
     ]
    }
   ],
   "source": [
    "for i in range(5, 10):\n",
    "    print(i)"
   ]
  },
  {
   "cell_type": "code",
   "execution_count": 43,
   "id": "ca4441ec",
   "metadata": {},
   "outputs": [
    {
     "name": "stdout",
     "output_type": "stream",
     "text": [
      "313/313 [==============================] - 0s 918us/step\n",
      "313/313 [==============================] - 0s 1ms/step\n"
     ]
    },
    {
     "data": {
      "image/png": "[encoded data removed]",
      "text/plain": [
       "<Figure size 1440x288 with 10 Axes>"
      ]
     },
     "metadata": {
      "needs_background": "light"
     },
     "output_type": "display_data"
    }
   ],
   "source": [
    "## implement enumerate for more flexibility\n",
    "encoded_img = encoder.predict(x_test)\n",
    "decoded_img = decoder.predict(encoded_img)\n",
    "plt.figure(figsize=(20, 4))\n",
    "for i, v in enumerate(range(5, 10)):\n",
    "    # Display original\n",
    "    ax = plt.subplot(2, 5, i + 1)\n",
    "    plt.imshow(x_test[v].reshape(28, 28))\n",
    "    plt.gray()\n",
    "    ax.get_xaxis().set_visible(False)\n",
    "    ax.get_yaxis().set_visible(False)\n",
    "    # Display reconstruction\n",
    "    ax = plt.subplot(2, 5, i + 1 + 5)\n",
    "    plt.imshow(decoded_img[v].reshape(28, 28))\n",
    "    plt.gray()\n",
    "    ax.get_xaxis().set_visible(False)\n",
    "    ax.get_yaxis().set_visible(False)\n",
    "plt.show()"
   ]
  },
  {
   "cell_type": "markdown",
   "id": "77eeb49d",
   "metadata": {},
   "source": [
    "#### Deep CNN Autoencoder"
   ]
  },
  {
   "cell_type": "code",
   "execution_count": 30,
   "id": "567290cd",
   "metadata": {},
   "outputs": [
    {
     "name": "stdout",
     "output_type": "stream",
     "text": [
      "Model: \"sequential_1\"\n",
      "_________________________________________________________________\n",
      " Layer (type)                Output Shape              Param #   \n",
      "=================================================================\n",
      " conv2d_5 (Conv2D)           (None, 28, 28, 30)        300       \n",
      "                                                                 \n",
      " max_pooling2d_2 (MaxPooling  (None, 14, 14, 30)       0         \n",
      " 2D)                                                             \n",
      "                                                                 \n",
      " conv2d_6 (Conv2D)           (None, 14, 14, 15)        4065      \n",
      "                                                                 \n",
      " max_pooling2d_3 (MaxPooling  (None, 7, 7, 15)         0         \n",
      " 2D)                                                             \n",
      "                                                                 \n",
      " conv2d_7 (Conv2D)           (None, 7, 7, 15)          2040      \n",
      "                                                                 \n",
      " up_sampling2d_2 (UpSampling  (None, 14, 14, 15)       0         \n",
      " 2D)                                                             \n",
      "                                                                 \n",
      " conv2d_8 (Conv2D)           (None, 14, 14, 30)        4080      \n",
      "                                                                 \n",
      " up_sampling2d_3 (UpSampling  (None, 28, 28, 30)       0         \n",
      " 2D)                                                             \n",
      "                                                                 \n",
      " conv2d_9 (Conv2D)           (None, 28, 28, 1)         271       \n",
      "                                                                 \n",
      "=================================================================\n",
      "Total params: 10,756\n",
      "Trainable params: 10,756\n",
      "Non-trainable params: 0\n",
      "_________________________________________________________________\n"
     ]
    }
   ],
   "source": [
    "deep_model = Sequential()\n",
    "# encoder network\n",
    "deep_model.add(Conv2D(30, 3, activation= 'relu', padding='same', input_shape = (28,28,1)))\n",
    "deep_model.add(MaxPooling2D(2, padding= 'same'))\n",
    "deep_model.add(Conv2D(15, 3, activation= 'relu', padding='same'))\n",
    "deep_model.add(MaxPooling2D(2, padding= 'same'))\n",
    "#decoder network\n",
    "deep_model.add(Conv2D(15, 3, activation= 'relu', padding='same'))\n",
    "deep_model.add(UpSampling2D(2))\n",
    "deep_model.add(Conv2D(30, 3, activation= 'relu', padding='same'))\n",
    "deep_model.add(UpSampling2D(2))\n",
    "deep_model.add(Conv2D(1,3,activation='sigmoid', padding= 'same')) # output layer\n",
    "deep_model.compile(optimizer= 'adam', loss = 'binary_crossentropy')\n",
    "deep_model.summary()"
   ]
  },
  {
   "cell_type": "code",
   "execution_count": 31,
   "id": "dbae85eb",
   "metadata": {},
   "outputs": [],
   "source": [
    "## note that data format is different for deep cnn\n",
    "x_train_deep = np.reshape(x_train, (len(x_train), 28, 28, 1))\n",
    "x_test_deep = np.reshape(x_test, (len(x_test), 28, 28, 1))"
   ]
  },
  {
   "cell_type": "code",
   "execution_count": 32,
   "id": "2dec11cb",
   "metadata": {},
   "outputs": [
    {
     "name": "stdout",
     "output_type": "stream",
     "text": [
      "Epoch 1/15\n",
      "469/469 [==============================] - 55s 116ms/step - loss: 0.3152 - val_loss: 0.2810\n",
      "Epoch 2/15\n",
      "469/469 [==============================] - 60s 129ms/step - loss: 0.2786 - val_loss: 0.2741\n",
      "Epoch 3/15\n",
      "469/469 [==============================] - 63s 134ms/step - loss: 0.2738 - val_loss: 0.2706\n",
      "Epoch 4/15\n",
      "469/469 [==============================] - 61s 130ms/step - loss: 0.2709 - val_loss: 0.2683\n",
      "Epoch 5/15\n",
      "469/469 [==============================] - 60s 128ms/step - loss: 0.2689 - val_loss: 0.2664\n",
      "Epoch 6/15\n",
      "469/469 [==============================] - 61s 130ms/step - loss: 0.2672 - val_loss: 0.2649\n",
      "Epoch 7/15\n",
      "469/469 [==============================] - 66s 141ms/step - loss: 0.2658 - val_loss: 0.2637\n",
      "Epoch 8/15\n",
      "469/469 [==============================] - 55s 118ms/step - loss: 0.2645 - val_loss: 0.2634\n",
      "Epoch 9/15\n",
      "469/469 [==============================] - 58s 123ms/step - loss: 0.2634 - val_loss: 0.2614\n",
      "Epoch 10/15\n",
      "469/469 [==============================] - 65s 138ms/step - loss: 0.2625 - val_loss: 0.2606\n",
      "Epoch 11/15\n",
      "469/469 [==============================] - 54s 116ms/step - loss: 0.2617 - val_loss: 0.2597\n",
      "Epoch 12/15\n",
      "469/469 [==============================] - 55s 118ms/step - loss: 0.2608 - val_loss: 0.2589\n",
      "Epoch 13/15\n",
      "469/469 [==============================] - 54s 115ms/step - loss: 0.2601 - val_loss: 0.2584\n",
      "Epoch 14/15\n",
      "469/469 [==============================] - 57s 122ms/step - loss: 0.2595 - val_loss: 0.2578\n",
      "Epoch 15/15\n",
      "469/469 [==============================] - 56s 119ms/step - loss: 0.2591 - val_loss: 0.2581\n"
     ]
    },
    {
     "data": {
      "text/plain": [
       "<keras.callbacks.History at 0x17022ffa2b0>"
      ]
     },
     "execution_count": 32,
     "metadata": {},
     "output_type": "execute_result"
    }
   ],
   "source": [
    "deep_model.fit(x_train_deep, x_train_deep,\n",
    "                epochs=15,\n",
    "                batch_size=128,\n",
    "                validation_data=(x_test_deep, x_test_deep))"
   ]
  },
  {
   "cell_type": "code",
   "execution_count": 44,
   "id": "8ebd229b",
   "metadata": {},
   "outputs": [
    {
     "name": "stdout",
     "output_type": "stream",
     "text": [
      "313/313 [==============================] - 3s 9ms/step\n"
     ]
    },
    {
     "data": {
      "image/png": "[encoded data removed]",
      "text/plain": [
       "<Figure size 1440x288 with 10 Axes>"
      ]
     },
     "metadata": {
      "needs_background": "light"
     },
     "output_type": "display_data"
    }
   ],
   "source": [
    "## implement enumerate for more flexibility\n",
    "pred_deep = deep_model.predict(x_test_deep)\n",
    "plt.figure(figsize=(20, 4))\n",
    "for i, v in enumerate(range(5, 10)):\n",
    "    # Display original\n",
    "    ax = plt.subplot(2, 5, i + 1)\n",
    "    plt.imshow(x_test_deep[v].reshape(28, 28))\n",
    "    plt.gray()\n",
    "    ax.get_xaxis().set_visible(False)\n",
    "    ax.get_yaxis().set_visible(False)\n",
    "    # Display reconstruction\n",
    "    ax = plt.subplot(2, 5, i + 1 + 5)\n",
    "    plt.imshow(pred_deep[v].reshape(28, 28))\n",
    "    plt.gray()\n",
    "    ax.get_xaxis().set_visible(False)\n",
    "    ax.get_yaxis().set_visible(False)\n",
    "plt.show()"
   ]
  },
  {
   "cell_type": "code",
   "execution_count": null,
   "id": "7fe9785a",
   "metadata": {},
   "outputs": [],
   "source": [
    "## pred still takes the image as an input\n",
    "## noticeable quality improvement of deep cnn versus basic autoencoder"
   ]
  }
 ],
 "metadata": {
  "kernelspec": {
   "display_name": "Python 3 (ipykernel)",
   "language": "python",
   "name": "python3"
  },
  "language_info": {
   "codemirror_mode": {
    "name": "ipython",
    "version": 3
   },
   "file_extension": ".py",
   "mimetype": "text/x-python",
   "name": "python",
   "nbconvert_exporter": "python",
   "pygments_lexer": "ipython3",
   "version": "3.8.13"
  }
 },
 "nbformat": 4,
 "nbformat_minor": 5
}
