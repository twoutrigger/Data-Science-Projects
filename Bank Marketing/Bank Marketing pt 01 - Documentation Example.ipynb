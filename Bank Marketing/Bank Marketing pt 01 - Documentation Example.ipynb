{
 "cells": [
  {
   "cell_type": "markdown",
   "metadata": {},
   "source": [
    "### Introduction"
   ]
  },
  {
   "cell_type": "markdown",
   "metadata": {},
   "source": [
    "This dataset contains information regarding customers of a Portugese Bank. Features include personal information (job, marital status, etc.) as well as information regarding previous marketing campaigns.\n",
    "\n",
    "The goal of this notebook is to try to predict if a customer will subscribe to a term deposit; this is a binary classification problem.\n",
    "\n",
    "Raw data downloaded from: https://archive.ics.uci.edu/ml/datasets/Bank+Marketing\n",
    "\n",
    "This Notebook includes:\n",
    "\n",
    "1) Preprocessing such as removing outliers, creating dummy variables and feature selection.\n",
    "\n",
    "2) Machine Learning using Logistic Regression, Random Forest, SVC, Gradient Boosting and Neural Networks"
   ]
  },
  {
   "cell_type": "markdown",
   "metadata": {},
   "source": [
    "### Import libraries and data"
   ]
  },
  {
   "cell_type": "code",
   "execution_count": 1,
   "metadata": {},
   "outputs": [],
   "source": [
    "# basic imports\n",
    "import numpy as np\n",
    "import pandas as pd\n",
    "import seaborn as sns\n",
    "import matplotlib.pyplot as plt\n",
    "# additional features\n",
    "from sklearn import preprocessing\n",
    "from sklearn.metrics import roc_auc_score\n",
    "from sklearn.feature_selection import chi2\n",
    "from sklearn.metrics import accuracy_score\n",
    "from sklearn.metrics import confusion_matrix\n",
    "from sklearn.feature_selection import SelectKBest\n",
    "from sklearn.model_selection import cross_val_score\n",
    "from sklearn.model_selection import train_test_split\n",
    "# algorithms\n",
    "from sklearn.svm import SVC\n",
    "from sklearn.neural_network import MLPClassifier\n",
    "from sklearn.linear_model import LogisticRegression\n",
    "from sklearn.ensemble import RandomForestClassifier\n",
    "from sklearn.ensemble import GradientBoostingClassifier\n",
    "# silence warnings\n",
    "import warnings\n",
    "warnings.simplefilter(action='ignore', category=FutureWarning)"
   ]
  },
  {
   "cell_type": "code",
   "execution_count": 2,
   "metadata": {},
   "outputs": [
    {
     "name": "stdout",
     "output_type": "stream",
     "text": [
      "(45211, 17)\n"
     ]
    },
    {
     "data": {
      "text/html": [
       "<div>\n",
       "<style scoped>\n",
       "    .dataframe tbody tr th:only-of-type {\n",
       "        vertical-align: middle;\n",
       "    }\n",
       "\n",
       "    .dataframe tbody tr th {\n",
       "        vertical-align: top;\n",
       "    }\n",
       "\n",
       "    .dataframe thead th {\n",
       "        text-align: right;\n",
       "    }\n",
       "</style>\n",
       "<table border=\"1\" class=\"dataframe\">\n",
       "  <thead>\n",
       "    <tr style=\"text-align: right;\">\n",
       "      <th></th>\n",
       "      <th>age</th>\n",
       "      <th>job</th>\n",
       "      <th>marital</th>\n",
       "      <th>education</th>\n",
       "      <th>default</th>\n",
       "      <th>balance</th>\n",
       "      <th>housing</th>\n",
       "      <th>loan</th>\n",
       "      <th>contact</th>\n",
       "      <th>day</th>\n",
       "      <th>month</th>\n",
       "      <th>duration</th>\n",
       "      <th>campaign</th>\n",
       "      <th>pdays</th>\n",
       "      <th>previous</th>\n",
       "      <th>poutcome</th>\n",
       "      <th>y</th>\n",
       "    </tr>\n",
       "  </thead>\n",
       "  <tbody>\n",
       "    <tr>\n",
       "      <td>0</td>\n",
       "      <td>58</td>\n",
       "      <td>management</td>\n",
       "      <td>married</td>\n",
       "      <td>tertiary</td>\n",
       "      <td>no</td>\n",
       "      <td>2143</td>\n",
       "      <td>yes</td>\n",
       "      <td>no</td>\n",
       "      <td>unknown</td>\n",
       "      <td>5</td>\n",
       "      <td>may</td>\n",
       "      <td>261</td>\n",
       "      <td>1</td>\n",
       "      <td>-1</td>\n",
       "      <td>0</td>\n",
       "      <td>unknown</td>\n",
       "      <td>no</td>\n",
       "    </tr>\n",
       "    <tr>\n",
       "      <td>1</td>\n",
       "      <td>44</td>\n",
       "      <td>technician</td>\n",
       "      <td>single</td>\n",
       "      <td>secondary</td>\n",
       "      <td>no</td>\n",
       "      <td>29</td>\n",
       "      <td>yes</td>\n",
       "      <td>no</td>\n",
       "      <td>unknown</td>\n",
       "      <td>5</td>\n",
       "      <td>may</td>\n",
       "      <td>151</td>\n",
       "      <td>1</td>\n",
       "      <td>-1</td>\n",
       "      <td>0</td>\n",
       "      <td>unknown</td>\n",
       "      <td>no</td>\n",
       "    </tr>\n",
       "    <tr>\n",
       "      <td>2</td>\n",
       "      <td>33</td>\n",
       "      <td>entrepreneur</td>\n",
       "      <td>married</td>\n",
       "      <td>secondary</td>\n",
       "      <td>no</td>\n",
       "      <td>2</td>\n",
       "      <td>yes</td>\n",
       "      <td>yes</td>\n",
       "      <td>unknown</td>\n",
       "      <td>5</td>\n",
       "      <td>may</td>\n",
       "      <td>76</td>\n",
       "      <td>1</td>\n",
       "      <td>-1</td>\n",
       "      <td>0</td>\n",
       "      <td>unknown</td>\n",
       "      <td>no</td>\n",
       "    </tr>\n",
       "    <tr>\n",
       "      <td>3</td>\n",
       "      <td>47</td>\n",
       "      <td>blue-collar</td>\n",
       "      <td>married</td>\n",
       "      <td>unknown</td>\n",
       "      <td>no</td>\n",
       "      <td>1506</td>\n",
       "      <td>yes</td>\n",
       "      <td>no</td>\n",
       "      <td>unknown</td>\n",
       "      <td>5</td>\n",
       "      <td>may</td>\n",
       "      <td>92</td>\n",
       "      <td>1</td>\n",
       "      <td>-1</td>\n",
       "      <td>0</td>\n",
       "      <td>unknown</td>\n",
       "      <td>no</td>\n",
       "    </tr>\n",
       "    <tr>\n",
       "      <td>4</td>\n",
       "      <td>33</td>\n",
       "      <td>unknown</td>\n",
       "      <td>single</td>\n",
       "      <td>unknown</td>\n",
       "      <td>no</td>\n",
       "      <td>1</td>\n",
       "      <td>no</td>\n",
       "      <td>no</td>\n",
       "      <td>unknown</td>\n",
       "      <td>5</td>\n",
       "      <td>may</td>\n",
       "      <td>198</td>\n",
       "      <td>1</td>\n",
       "      <td>-1</td>\n",
       "      <td>0</td>\n",
       "      <td>unknown</td>\n",
       "      <td>no</td>\n",
       "    </tr>\n",
       "  </tbody>\n",
       "</table>\n",
       "</div>"
      ],
      "text/plain": [
       "   age           job  marital  education default  balance housing loan  \\\n",
       "0   58    management  married   tertiary      no     2143     yes   no   \n",
       "1   44    technician   single  secondary      no       29     yes   no   \n",
       "2   33  entrepreneur  married  secondary      no        2     yes  yes   \n",
       "3   47   blue-collar  married    unknown      no     1506     yes   no   \n",
       "4   33       unknown   single    unknown      no        1      no   no   \n",
       "\n",
       "   contact  day month  duration  campaign  pdays  previous poutcome   y  \n",
       "0  unknown    5   may       261         1     -1         0  unknown  no  \n",
       "1  unknown    5   may       151         1     -1         0  unknown  no  \n",
       "2  unknown    5   may        76         1     -1         0  unknown  no  \n",
       "3  unknown    5   may        92         1     -1         0  unknown  no  \n",
       "4  unknown    5   may       198         1     -1         0  unknown  no  "
      ]
     },
     "execution_count": 2,
     "metadata": {},
     "output_type": "execute_result"
    }
   ],
   "source": [
    "# import data\n",
    "morig = pd.read_csv('bank-full.csv', sep=';')\n",
    "\n",
    "print(morig.shape)\n",
    "\n",
    "morig.head()"
   ]
  },
  {
   "cell_type": "code",
   "execution_count": 3,
   "metadata": {},
   "outputs": [
    {
     "name": "stdout",
     "output_type": "stream",
     "text": [
      "<class 'pandas.core.frame.DataFrame'>\n",
      "RangeIndex: 45211 entries, 0 to 45210\n",
      "Data columns (total 17 columns):\n",
      "age          45211 non-null int64\n",
      "job          45211 non-null object\n",
      "marital      45211 non-null object\n",
      "education    45211 non-null object\n",
      "default      45211 non-null object\n",
      "balance      45211 non-null int64\n",
      "housing      45211 non-null object\n",
      "loan         45211 non-null object\n",
      "contact      45211 non-null object\n",
      "day          45211 non-null int64\n",
      "month        45211 non-null object\n",
      "duration     45211 non-null int64\n",
      "campaign     45211 non-null int64\n",
      "pdays        45211 non-null int64\n",
      "previous     45211 non-null int64\n",
      "poutcome     45211 non-null object\n",
      "y            45211 non-null object\n",
      "dtypes: int64(7), object(10)\n",
      "memory usage: 5.9+ MB\n"
     ]
    }
   ],
   "source": [
    "# no missing data in dataset\n",
    "morig.info()"
   ]
  },
  {
   "cell_type": "markdown",
   "metadata": {},
   "source": [
    "### Understanding categorical data"
   ]
  },
  {
   "cell_type": "code",
   "execution_count": 4,
   "metadata": {
    "scrolled": true
   },
   "outputs": [
    {
     "name": "stdout",
     "output_type": "stream",
     "text": [
      "no     39922\n",
      "yes     5289\n",
      "Name: y, dtype: int64\n",
      "\n",
      "\n",
      "Percentage of yes: 11.7%\n"
     ]
    },
    {
     "data": {
      "image/png": "[encoded data removed]",
      "text/plain": [
       "<Figure size 432x288 with 1 Axes>"
      ]
     },
     "metadata": {},
     "output_type": "display_data"
    }
   ],
   "source": [
    "# distribution of target; whether a client subscribed a term deposit\n",
    "# target is unbalanced\n",
    "print(morig.y.value_counts())\n",
    "print('\\n')\n",
    "print(f'Percentage of yes: {round((morig.y.value_counts()[1] / len(morig))*100, 2)}%')\n",
    "\n",
    "plt.pie(morig.y.value_counts(), labels=morig.y.value_counts().index)\n",
    "plt.show()"
   ]
  },
  {
   "cell_type": "code",
   "execution_count": 5,
   "metadata": {},
   "outputs": [
    {
     "name": "stdout",
     "output_type": "stream",
     "text": [
      "Number of unique values for job: 12\n"
     ]
    },
    {
     "data": {
      "text/plain": [
       "blue-collar      9732\n",
       "management       9458\n",
       "technician       7597\n",
       "admin.           5171\n",
       "services         4154\n",
       "retired          2264\n",
       "self-employed    1579\n",
       "entrepreneur     1487\n",
       "unemployed       1303\n",
       "housemaid        1240\n",
       "student           938\n",
       "unknown           288\n",
       "Name: job, dtype: int64"
      ]
     },
     "execution_count": 5,
     "metadata": {},
     "output_type": "execute_result"
    }
   ],
   "source": [
    "# job\n",
    "print(f'Number of unique values for job: {len(morig.job.unique())}')\n",
    "morig.job.value_counts()"
   ]
  },
  {
   "cell_type": "code",
   "execution_count": 6,
   "metadata": {},
   "outputs": [
    {
     "data": {
      "text/plain": [
       "married     27214\n",
       "single      12790\n",
       "divorced     5207\n",
       "Name: marital, dtype: int64"
      ]
     },
     "execution_count": 6,
     "metadata": {},
     "output_type": "execute_result"
    }
   ],
   "source": [
    "# marital\n",
    "morig.marital.value_counts()"
   ]
  },
  {
   "cell_type": "code",
   "execution_count": 7,
   "metadata": {},
   "outputs": [
    {
     "data": {
      "text/plain": [
       "secondary    23202\n",
       "tertiary     13301\n",
       "primary       6851\n",
       "unknown       1857\n",
       "Name: education, dtype: int64"
      ]
     },
     "execution_count": 7,
     "metadata": {},
     "output_type": "execute_result"
    }
   ],
   "source": [
    "# education\n",
    "# although it is not labled as NaN, category 'unknown' is technically missing data\n",
    "morig.education.value_counts()"
   ]
  },
  {
   "cell_type": "code",
   "execution_count": 8,
   "metadata": {},
   "outputs": [
    {
     "name": "stdout",
     "output_type": "stream",
     "text": [
      "Credit in default is 1.8 percent of observations\n"
     ]
    }
   ],
   "source": [
    "# credit default\n",
    "default_vc = morig.default.value_counts()\n",
    "print(f'Credit in default is {round((default_vc[1] / default_vc.sum())*100, 2)} percent of observations')"
   ]
  },
  {
   "cell_type": "code",
   "execution_count": 9,
   "metadata": {},
   "outputs": [
    {
     "data": {
      "text/plain": [
       "yes    25130\n",
       "no     20081\n",
       "Name: housing, dtype: int64"
      ]
     },
     "execution_count": 9,
     "metadata": {},
     "output_type": "execute_result"
    }
   ],
   "source": [
    "# has housing loan\n",
    "morig.housing.value_counts()"
   ]
  },
  {
   "cell_type": "code",
   "execution_count": 10,
   "metadata": {},
   "outputs": [
    {
     "data": {
      "text/plain": [
       "no     37967\n",
       "yes     7244\n",
       "Name: loan, dtype: int64"
      ]
     },
     "execution_count": 10,
     "metadata": {},
     "output_type": "execute_result"
    }
   ],
   "source": [
    "# has personal loan\n",
    "morig.loan.value_counts()"
   ]
  },
  {
   "cell_type": "markdown",
   "metadata": {},
   "source": [
    "### Visualising numeric data"
   ]
  },
  {
   "cell_type": "code",
   "execution_count": 11,
   "metadata": {},
   "outputs": [
    {
     "name": "stdout",
     "output_type": "stream",
     "text": [
      "The median age of observations is 39.0\n"
     ]
    },
    {
     "data": {
      "image/png": "[encoded data removed]",
      "text/plain": [
       "<Figure size 432x288 with 1 Axes>"
      ]
     },
     "metadata": {
      "needs_background": "light"
     },
     "output_type": "display_data"
    }
   ],
   "source": [
    "# age histogram and median age gives us an idea of age distribution\n",
    "# higher end of age isn't an outlier, but may skew our results\n",
    "print(f'The median age of observations is {morig.age.median()}')\n",
    "\n",
    "plt.hist(morig.age, bins=20)\n",
    "plt.show()"
   ]
  },
  {
   "cell_type": "code",
   "execution_count": 12,
   "metadata": {},
   "outputs": [
    {
     "name": "stdout",
     "output_type": "stream",
     "text": [
      "The median balance amount of observations is €448\n"
     ]
    },
    {
     "data": {
      "image/png": "[encoded data removed]",
      "text/plain": [
       "<Figure size 432x288 with 1 Axes>"
      ]
     },
     "metadata": {
      "needs_background": "light"
     },
     "output_type": "display_data"
    }
   ],
   "source": [
    "# severe outliers for average yearly balance\n",
    "print(f'The median balance amount of observations is €{int(morig.balance.median())}')\n",
    "\n",
    "plt.hist(morig.balance, bins=200)\n",
    "plt.show()"
   ]
  },
  {
   "cell_type": "code",
   "execution_count": 13,
   "metadata": {},
   "outputs": [
    {
     "name": "stdout",
     "output_type": "stream",
     "text": [
      "count    45211.000000\n",
      "mean         2.763841\n",
      "std          3.098021\n",
      "min          1.000000\n",
      "25%          1.000000\n",
      "50%          2.000000\n",
      "75%          3.000000\n",
      "max         63.000000\n",
      "Name: campaign, dtype: float64\n"
     ]
    },
    {
     "data": {
      "image/png": "[encoded data removed]",
      "text/plain": [
       "<Figure size 432x288 with 1 Axes>"
      ]
     },
     "metadata": {
      "needs_background": "light"
     },
     "output_type": "display_data"
    }
   ],
   "source": [
    "# campaign - number of contacts performed during this campaign and for this client\n",
    "# all observations contacted at least once (min == 1)\n",
    "print(morig.campaign.describe())\n",
    "plt.hist(morig.campaign, bins=60)\n",
    "plt.show()"
   ]
  },
  {
   "cell_type": "code",
   "execution_count": 14,
   "metadata": {},
   "outputs": [
    {
     "name": "stdout",
     "output_type": "stream",
     "text": [
      "No prior info for pdays: 36954\n",
      "No prior info for previous: 36954\n",
      "No prior info for poutcome: 36959\n"
     ]
    }
   ],
   "source": [
    "# these columns relate to previous campaigns\n",
    "print(f'No prior info for pdays: {len(morig[morig.pdays == -1])}')\n",
    "print(f'No prior info for previous: {len(morig[morig.previous == 0])}')\n",
    "print(f'No prior info for poutcome: {len(morig[morig.poutcome == \"unknown\"])}')"
   ]
  },
  {
   "cell_type": "markdown",
   "metadata": {},
   "source": [
    "### Preprocess data"
   ]
  },
  {
   "cell_type": "code",
   "execution_count": 15,
   "metadata": {},
   "outputs": [],
   "source": [
    "# make a copy of data to be edited\n",
    "medit = morig.copy()"
   ]
  },
  {
   "cell_type": "code",
   "execution_count": 16,
   "metadata": {},
   "outputs": [
    {
     "data": {
      "text/html": [
       "<div>\n",
       "<style scoped>\n",
       "    .dataframe tbody tr th:only-of-type {\n",
       "        vertical-align: middle;\n",
       "    }\n",
       "\n",
       "    .dataframe tbody tr th {\n",
       "        vertical-align: top;\n",
       "    }\n",
       "\n",
       "    .dataframe thead th {\n",
       "        text-align: right;\n",
       "    }\n",
       "</style>\n",
       "<table border=\"1\" class=\"dataframe\">\n",
       "  <thead>\n",
       "    <tr style=\"text-align: right;\">\n",
       "      <th></th>\n",
       "      <th>age</th>\n",
       "      <th>job</th>\n",
       "      <th>marital</th>\n",
       "      <th>education</th>\n",
       "      <th>default</th>\n",
       "      <th>balance</th>\n",
       "      <th>housing</th>\n",
       "      <th>loan</th>\n",
       "      <th>duration</th>\n",
       "      <th>campaign</th>\n",
       "      <th>y</th>\n",
       "    </tr>\n",
       "  </thead>\n",
       "  <tbody>\n",
       "    <tr>\n",
       "      <td>0</td>\n",
       "      <td>58</td>\n",
       "      <td>management</td>\n",
       "      <td>married</td>\n",
       "      <td>tertiary</td>\n",
       "      <td>no</td>\n",
       "      <td>2143</td>\n",
       "      <td>yes</td>\n",
       "      <td>no</td>\n",
       "      <td>261</td>\n",
       "      <td>1</td>\n",
       "      <td>no</td>\n",
       "    </tr>\n",
       "    <tr>\n",
       "      <td>1</td>\n",
       "      <td>44</td>\n",
       "      <td>technician</td>\n",
       "      <td>single</td>\n",
       "      <td>secondary</td>\n",
       "      <td>no</td>\n",
       "      <td>29</td>\n",
       "      <td>yes</td>\n",
       "      <td>no</td>\n",
       "      <td>151</td>\n",
       "      <td>1</td>\n",
       "      <td>no</td>\n",
       "    </tr>\n",
       "  </tbody>\n",
       "</table>\n",
       "</div>"
      ],
      "text/plain": [
       "   age         job  marital  education default  balance housing loan  \\\n",
       "0   58  management  married   tertiary      no     2143     yes   no   \n",
       "1   44  technician   single  secondary      no       29     yes   no   \n",
       "\n",
       "   duration  campaign   y  \n",
       "0       261         1  no  \n",
       "1       151         1  no  "
      ]
     },
     "execution_count": 16,
     "metadata": {},
     "output_type": "execute_result"
    }
   ],
   "source": [
    "# remove contact, day, month columns as they do not provide much predictive quality\n",
    "# remove previous campaign columns due to large percentage of missing data\n",
    "medit.drop(columns=['contact', 'day', 'month'], inplace=True)\n",
    "medit.drop(columns=['pdays', 'previous', 'poutcome'], inplace=True)\n",
    "\n",
    "medit.head(2)"
   ]
  },
  {
   "cell_type": "code",
   "execution_count": 17,
   "metadata": {},
   "outputs": [
    {
     "name": "stdout",
     "output_type": "stream",
     "text": [
      "Dataset shape after removing balance outliers: (45169, 11)\n"
     ]
    }
   ],
   "source": [
    "# remove balance outliers > €40K and < €-2K\n",
    "medit = medit[(medit.balance <= 40000) & (medit.balance >= -2000)]\n",
    "\n",
    "print(f'Dataset shape after removing balance outliers: {medit.shape}')"
   ]
  },
  {
   "cell_type": "code",
   "execution_count": 18,
   "metadata": {},
   "outputs": [
    {
     "data": {
      "text/plain": [
       "63     1\n",
       "58     1\n",
       "55     1\n",
       "51     1\n",
       "50     2\n",
       "46     1\n",
       "44     1\n",
       "43     3\n",
       "41     2\n",
       "39     1\n",
       "38     3\n",
       "37     2\n",
       "36     4\n",
       "35     4\n",
       "34     5\n",
       "33     6\n",
       "32     9\n",
       "31    11\n",
       "30     8\n",
       "29    16\n",
       "Name: campaign, dtype: int64"
      ]
     },
     "execution_count": 18,
     "metadata": {},
     "output_type": "execute_result"
    }
   ],
   "source": [
    "# visualise campaign outliers\n",
    "medit.campaign.value_counts().sort_index(ascending=False)[:20]"
   ]
  },
  {
   "cell_type": "code",
   "execution_count": 19,
   "metadata": {},
   "outputs": [
    {
     "name": "stdout",
     "output_type": "stream",
     "text": [
      "Dataset shape after removing campaign outliers: (45142, 11)\n"
     ]
    }
   ],
   "source": [
    "# remove campaign outliers >= 35\n",
    "medit = medit[medit.campaign < 35]\n",
    "\n",
    "print(f'Dataset shape after removing campaign outliers: {medit.shape}')"
   ]
  },
  {
   "cell_type": "code",
   "execution_count": 20,
   "metadata": {},
   "outputs": [
    {
     "name": "stdout",
     "output_type": "stream",
     "text": [
      "Dataset shape after removing job == unknown: (44855, 11)\n"
     ]
    }
   ],
   "source": [
    "# drop unknowns in job\n",
    "medit = medit[medit.job != 'unknown']\n",
    "\n",
    "print(f'Dataset shape after removing job == unknown: {medit.shape}')"
   ]
  },
  {
   "cell_type": "code",
   "execution_count": 21,
   "metadata": {},
   "outputs": [
    {
     "data": {
      "text/plain": [
       "secondary    24833\n",
       "tertiary     13233\n",
       "primary       6789\n",
       "Name: education, dtype: int64"
      ]
     },
     "execution_count": 21,
     "metadata": {},
     "output_type": "execute_result"
    }
   ],
   "source": [
    "# replace unknowns in education with most common education type\n",
    "medit.education.replace(to_replace='unknown', value=medit.education.mode().values[0], inplace=True)\n",
    "\n",
    "medit.education.value_counts()"
   ]
  },
  {
   "cell_type": "code",
   "execution_count": 22,
   "metadata": {},
   "outputs": [
    {
     "data": {
      "text/html": [
       "<div>\n",
       "<style scoped>\n",
       "    .dataframe tbody tr th:only-of-type {\n",
       "        vertical-align: middle;\n",
       "    }\n",
       "\n",
       "    .dataframe tbody tr th {\n",
       "        vertical-align: top;\n",
       "    }\n",
       "\n",
       "    .dataframe thead th {\n",
       "        text-align: right;\n",
       "    }\n",
       "</style>\n",
       "<table border=\"1\" class=\"dataframe\">\n",
       "  <thead>\n",
       "    <tr style=\"text-align: right;\">\n",
       "      <th></th>\n",
       "      <th>age</th>\n",
       "      <th>job</th>\n",
       "      <th>marital</th>\n",
       "      <th>education</th>\n",
       "      <th>default</th>\n",
       "      <th>balance</th>\n",
       "      <th>housing</th>\n",
       "      <th>loan</th>\n",
       "      <th>duration</th>\n",
       "      <th>campaign</th>\n",
       "      <th>y</th>\n",
       "    </tr>\n",
       "  </thead>\n",
       "  <tbody>\n",
       "    <tr>\n",
       "      <td>0</td>\n",
       "      <td>58</td>\n",
       "      <td>management</td>\n",
       "      <td>married</td>\n",
       "      <td>tertiary</td>\n",
       "      <td>0</td>\n",
       "      <td>2143</td>\n",
       "      <td>1</td>\n",
       "      <td>0</td>\n",
       "      <td>261</td>\n",
       "      <td>1</td>\n",
       "      <td>0</td>\n",
       "    </tr>\n",
       "    <tr>\n",
       "      <td>1</td>\n",
       "      <td>44</td>\n",
       "      <td>technician</td>\n",
       "      <td>single</td>\n",
       "      <td>secondary</td>\n",
       "      <td>0</td>\n",
       "      <td>29</td>\n",
       "      <td>1</td>\n",
       "      <td>0</td>\n",
       "      <td>151</td>\n",
       "      <td>1</td>\n",
       "      <td>0</td>\n",
       "    </tr>\n",
       "  </tbody>\n",
       "</table>\n",
       "</div>"
      ],
      "text/plain": [
       "   age         job  marital  education  default  balance  housing  loan  \\\n",
       "0   58  management  married   tertiary        0     2143        1     0   \n",
       "1   44  technician   single  secondary        0       29        1     0   \n",
       "\n",
       "   duration  campaign  y  \n",
       "0       261         1  0  \n",
       "1       151         1  0  "
      ]
     },
     "execution_count": 22,
     "metadata": {},
     "output_type": "execute_result"
    }
   ],
   "source": [
    "# use mapping to transform yes/no to binary\n",
    "mapping = {'no': 0, 'yes': 1}\n",
    "\n",
    "medit.replace({'no': 0, 'yes': 1}, inplace=True)\n",
    "\n",
    "medit.head(2)"
   ]
  },
  {
   "cell_type": "code",
   "execution_count": 23,
   "metadata": {},
   "outputs": [
    {
     "data": {
      "text/html": [
       "<div>\n",
       "<style scoped>\n",
       "    .dataframe tbody tr th:only-of-type {\n",
       "        vertical-align: middle;\n",
       "    }\n",
       "\n",
       "    .dataframe tbody tr th {\n",
       "        vertical-align: top;\n",
       "    }\n",
       "\n",
       "    .dataframe thead th {\n",
       "        text-align: right;\n",
       "    }\n",
       "</style>\n",
       "<table border=\"1\" class=\"dataframe\">\n",
       "  <thead>\n",
       "    <tr style=\"text-align: right;\">\n",
       "      <th></th>\n",
       "      <th>age</th>\n",
       "      <th>default</th>\n",
       "      <th>balance</th>\n",
       "      <th>housing</th>\n",
       "      <th>loan</th>\n",
       "      <th>duration</th>\n",
       "      <th>campaign</th>\n",
       "      <th>y</th>\n",
       "      <th>job_blue-collar</th>\n",
       "      <th>job_entrepreneur</th>\n",
       "      <th>...</th>\n",
       "      <th>job_retired</th>\n",
       "      <th>job_self-employed</th>\n",
       "      <th>job_services</th>\n",
       "      <th>job_student</th>\n",
       "      <th>job_technician</th>\n",
       "      <th>job_unemployed</th>\n",
       "      <th>marital_married</th>\n",
       "      <th>marital_single</th>\n",
       "      <th>education_secondary</th>\n",
       "      <th>education_tertiary</th>\n",
       "    </tr>\n",
       "  </thead>\n",
       "  <tbody>\n",
       "    <tr>\n",
       "      <td>0</td>\n",
       "      <td>58</td>\n",
       "      <td>0</td>\n",
       "      <td>2143</td>\n",
       "      <td>1</td>\n",
       "      <td>0</td>\n",
       "      <td>261</td>\n",
       "      <td>1</td>\n",
       "      <td>0</td>\n",
       "      <td>0</td>\n",
       "      <td>0</td>\n",
       "      <td>...</td>\n",
       "      <td>0</td>\n",
       "      <td>0</td>\n",
       "      <td>0</td>\n",
       "      <td>0</td>\n",
       "      <td>0</td>\n",
       "      <td>0</td>\n",
       "      <td>1</td>\n",
       "      <td>0</td>\n",
       "      <td>0</td>\n",
       "      <td>1</td>\n",
       "    </tr>\n",
       "    <tr>\n",
       "      <td>1</td>\n",
       "      <td>44</td>\n",
       "      <td>0</td>\n",
       "      <td>29</td>\n",
       "      <td>1</td>\n",
       "      <td>0</td>\n",
       "      <td>151</td>\n",
       "      <td>1</td>\n",
       "      <td>0</td>\n",
       "      <td>0</td>\n",
       "      <td>0</td>\n",
       "      <td>...</td>\n",
       "      <td>0</td>\n",
       "      <td>0</td>\n",
       "      <td>0</td>\n",
       "      <td>0</td>\n",
       "      <td>1</td>\n",
       "      <td>0</td>\n",
       "      <td>0</td>\n",
       "      <td>1</td>\n",
       "      <td>1</td>\n",
       "      <td>0</td>\n",
       "    </tr>\n",
       "  </tbody>\n",
       "</table>\n",
       "<p>2 rows × 22 columns</p>\n",
       "</div>"
      ],
      "text/plain": [
       "   age  default  balance  housing  loan  duration  campaign  y  \\\n",
       "0   58        0     2143        1     0       261         1  0   \n",
       "1   44        0       29        1     0       151         1  0   \n",
       "\n",
       "   job_blue-collar  job_entrepreneur  ...  job_retired  job_self-employed  \\\n",
       "0                0                 0  ...            0                  0   \n",
       "1                0                 0  ...            0                  0   \n",
       "\n",
       "   job_services  job_student  job_technician  job_unemployed  marital_married  \\\n",
       "0             0            0               0               0                1   \n",
       "1             0            0               1               0                0   \n",
       "\n",
       "   marital_single  education_secondary  education_tertiary  \n",
       "0               0                    0                   1  \n",
       "1               1                    1                   0  \n",
       "\n",
       "[2 rows x 22 columns]"
      ]
     },
     "execution_count": 23,
     "metadata": {},
     "output_type": "execute_result"
    }
   ],
   "source": [
    "# convert categoric data to dummy variables\n",
    "medit = pd.get_dummies(medit, columns=['job', 'marital', 'education'], drop_first=True)\n",
    "\n",
    "medit.head(2)"
   ]
  },
  {
   "cell_type": "code",
   "execution_count": 24,
   "metadata": {},
   "outputs": [],
   "source": [
    "# designate target and features\n",
    "mtarget = medit.y\n",
    "medit.drop(columns=['y'], inplace=True)"
   ]
  },
  {
   "cell_type": "code",
   "execution_count": 25,
   "metadata": {},
   "outputs": [
    {
     "name": "stderr",
     "output_type": "stream",
     "text": [
      "C:\\Users\\liamk\\Anaconda3\\lib\\site-packages\\sklearn\\preprocessing\\data.py:334: DataConversionWarning: Data with input dtype uint8, int64 were all converted to float64 by MinMaxScaler.\n",
      "  return self.partial_fit(X, y)\n"
     ]
    },
    {
     "data": {
      "text/html": [
       "<div>\n",
       "<style scoped>\n",
       "    .dataframe tbody tr th:only-of-type {\n",
       "        vertical-align: middle;\n",
       "    }\n",
       "\n",
       "    .dataframe tbody tr th {\n",
       "        vertical-align: top;\n",
       "    }\n",
       "\n",
       "    .dataframe thead th {\n",
       "        text-align: right;\n",
       "    }\n",
       "</style>\n",
       "<table border=\"1\" class=\"dataframe\">\n",
       "  <thead>\n",
       "    <tr style=\"text-align: right;\">\n",
       "      <th></th>\n",
       "      <th>0</th>\n",
       "      <th>1</th>\n",
       "      <th>2</th>\n",
       "      <th>3</th>\n",
       "      <th>4</th>\n",
       "      <th>5</th>\n",
       "      <th>6</th>\n",
       "      <th>7</th>\n",
       "      <th>8</th>\n",
       "      <th>9</th>\n",
       "      <th>...</th>\n",
       "      <th>11</th>\n",
       "      <th>12</th>\n",
       "      <th>13</th>\n",
       "      <th>14</th>\n",
       "      <th>15</th>\n",
       "      <th>16</th>\n",
       "      <th>17</th>\n",
       "      <th>18</th>\n",
       "      <th>19</th>\n",
       "      <th>20</th>\n",
       "    </tr>\n",
       "  </thead>\n",
       "  <tbody>\n",
       "    <tr>\n",
       "      <td>0</td>\n",
       "      <td>0.519481</td>\n",
       "      <td>0.0</td>\n",
       "      <td>0.099674</td>\n",
       "      <td>1.0</td>\n",
       "      <td>0.0</td>\n",
       "      <td>0.053070</td>\n",
       "      <td>0.0</td>\n",
       "      <td>0.0</td>\n",
       "      <td>0.0</td>\n",
       "      <td>0.0</td>\n",
       "      <td>...</td>\n",
       "      <td>0.0</td>\n",
       "      <td>0.0</td>\n",
       "      <td>0.0</td>\n",
       "      <td>0.0</td>\n",
       "      <td>0.0</td>\n",
       "      <td>0.0</td>\n",
       "      <td>1.0</td>\n",
       "      <td>0.0</td>\n",
       "      <td>0.0</td>\n",
       "      <td>1.0</td>\n",
       "    </tr>\n",
       "    <tr>\n",
       "      <td>1</td>\n",
       "      <td>0.337662</td>\n",
       "      <td>0.0</td>\n",
       "      <td>0.048568</td>\n",
       "      <td>1.0</td>\n",
       "      <td>0.0</td>\n",
       "      <td>0.030704</td>\n",
       "      <td>0.0</td>\n",
       "      <td>0.0</td>\n",
       "      <td>0.0</td>\n",
       "      <td>0.0</td>\n",
       "      <td>...</td>\n",
       "      <td>0.0</td>\n",
       "      <td>0.0</td>\n",
       "      <td>0.0</td>\n",
       "      <td>0.0</td>\n",
       "      <td>1.0</td>\n",
       "      <td>0.0</td>\n",
       "      <td>0.0</td>\n",
       "      <td>1.0</td>\n",
       "      <td>1.0</td>\n",
       "      <td>0.0</td>\n",
       "    </tr>\n",
       "  </tbody>\n",
       "</table>\n",
       "<p>2 rows × 21 columns</p>\n",
       "</div>"
      ],
      "text/plain": [
       "         0    1         2    3    4         5    6    7    8    9   ...   11  \\\n",
       "0  0.519481  0.0  0.099674  1.0  0.0  0.053070  0.0  0.0  0.0  0.0  ...  0.0   \n",
       "1  0.337662  0.0  0.048568  1.0  0.0  0.030704  0.0  0.0  0.0  0.0  ...  0.0   \n",
       "\n",
       "    12   13   14   15   16   17   18   19   20  \n",
       "0  0.0  0.0  0.0  0.0  0.0  1.0  0.0  0.0  1.0  \n",
       "1  0.0  0.0  0.0  1.0  0.0  0.0  1.0  1.0  0.0  \n",
       "\n",
       "[2 rows x 21 columns]"
      ]
     },
     "execution_count": 25,
     "metadata": {},
     "output_type": "execute_result"
    }
   ],
   "source": [
    "# minmax normalisation\n",
    "min_max_scaler = preprocessing.MinMaxScaler()\n",
    "scaled = min_max_scaler.fit_transform(medit)\n",
    "medit = pd.DataFrame(scaled)\n",
    "\n",
    "medit.head(2)"
   ]
  },
  {
   "cell_type": "code",
   "execution_count": 26,
   "metadata": {},
   "outputs": [
    {
     "data": {
      "text/plain": [
       "array([[0.        , 1.        , 0.        , 0.05307035, 0.        ,\n",
       "        0.        , 0.        , 1.        , 0.        , 0.        ,\n",
       "        0.        , 0.        , 1.        , 0.        , 0.        ,\n",
       "        1.        ],\n",
       "       [0.        , 1.        , 0.        , 0.03070354, 0.        ,\n",
       "        0.        , 0.        , 0.        , 0.        , 0.        ,\n",
       "        0.        , 0.        , 0.        , 1.        , 1.        ,\n",
       "        0.        ]])"
      ]
     },
     "execution_count": 26,
     "metadata": {},
     "output_type": "execute_result"
    }
   ],
   "source": [
    "# using chi square for feature selection\n",
    "mkbest = SelectKBest(chi2, k=16).fit_transform(medit, mtarget)\n",
    "\n",
    "mkbest[:2]"
   ]
  },
  {
   "cell_type": "markdown",
   "metadata": {},
   "source": [
    "### Train Test Split"
   ]
  },
  {
   "cell_type": "code",
   "execution_count": 27,
   "metadata": {},
   "outputs": [
    {
     "name": "stdout",
     "output_type": "stream",
     "text": [
      "(33641, 16) (11214, 16) (33641,) (11214,)\n"
     ]
    }
   ],
   "source": [
    "# split train and test data\n",
    "# test is 25% of data; random state is specified for consistent result during experimenting\n",
    "x_train, x_test, y_train, y_test = train_test_split(mkbest, mtarget, test_size=0.25, random_state=0)\n",
    "\n",
    "print(x_train.shape, x_test.shape, y_train.shape, y_test.shape)"
   ]
  },
  {
   "cell_type": "markdown",
   "metadata": {},
   "source": [
    "### Logistic Regression"
   ]
  },
  {
   "cell_type": "code",
   "execution_count": 28,
   "metadata": {},
   "outputs": [],
   "source": [
    "# class_weight specified due to imbalanced target\n",
    "# also experimented with manually assigning {class_label: weight}\n",
    "lr = LogisticRegression(fit_intercept=True, class_weight='balanced')"
   ]
  },
  {
   "cell_type": "code",
   "execution_count": 29,
   "metadata": {},
   "outputs": [
    {
     "name": "stdout",
     "output_type": "stream",
     "text": [
      "Logistic Regression Coefficients: [-5.07122934e-01 -1.02010999e+00 -7.85646889e-01  2.30388171e+01\n",
      " -5.25831146e+00 -4.35693194e-01 -5.00779737e-01  4.61665542e-03\n",
      "  7.05838867e-01 -2.22739143e-01  8.25626973e-01  1.14036207e-01\n",
      " -6.61127995e-02  2.65650270e-01  3.31826140e-01  6.24458662e-01]\n",
      "\n",
      "\n",
      "Logistic Regression Intercept:[-1.21644631]\n"
     ]
    }
   ],
   "source": [
    "lr.fit(x_train, y_train)\n",
    "print(f'Logistic Regression Coefficients: {lr.coef_[0]}')\n",
    "print('\\n')\n",
    "print(f'Logistic Regression Intercept:{lr.intercept_}')"
   ]
  },
  {
   "cell_type": "code",
   "execution_count": 30,
   "metadata": {},
   "outputs": [
    {
     "name": "stdout",
     "output_type": "stream",
     "text": [
      "Logreg training mean accuracy: 0.7924\n",
      "Logreg test mean accuracy: 0.7896\n"
     ]
    }
   ],
   "source": [
    "# Logistic Regression train and test performance\n",
    "# class_weight='balanced' yields lower train and test accuracy, but better sensitivity\n",
    "print(\"Logreg training mean accuracy: %.4f\" % lr.score(x_train, y_train))\n",
    "print(\"Logreg test mean accuracy: %.4f\" % lr.score(x_test, y_test))"
   ]
  },
  {
   "cell_type": "code",
   "execution_count": 31,
   "metadata": {},
   "outputs": [
    {
     "name": "stdout",
     "output_type": "stream",
     "text": [
      "Baseline score to beat: 0.883\n"
     ]
    }
   ],
   "source": [
    "# if I gussed 'no' for all predictions, I would still have an accuracy of 88%\n",
    "# therefore accuracy alone is not enough\n",
    "print(f'Baseline score to beat: {round(morig.y.value_counts()[0] / morig.y.value_counts().sum(), 4)}')"
   ]
  },
  {
   "cell_type": "code",
   "execution_count": 32,
   "metadata": {},
   "outputs": [
    {
     "data": {
      "text/plain": [
       "array([0, 0, 0, 0, 0], dtype=int64)"
      ]
     },
     "execution_count": 32,
     "metadata": {},
     "output_type": "execute_result"
    }
   ],
   "source": [
    "# create Logistci Regression predictions\n",
    "y_pred = lr.predict(x_test)\n",
    "\n",
    "y_pred[:5]"
   ]
  },
  {
   "cell_type": "code",
   "execution_count": 33,
   "metadata": {},
   "outputs": [
    {
     "name": "stdout",
     "output_type": "stream",
     "text": [
      "# of true cases in y_test: 1310\n"
     ]
    }
   ],
   "source": [
    "print(f'# of true cases in y_test: {len(y_test[y_test == 1])}')"
   ]
  },
  {
   "cell_type": "code",
   "execution_count": 34,
   "metadata": {},
   "outputs": [
    {
     "name": "stdout",
     "output_type": "stream",
     "text": [
      "[[7866 2038]\n",
      " [ 321  989]]\n"
     ]
    }
   ],
   "source": [
    "# Logistic Regression Confusion Matrix\n",
    "# Good identification of true cases with high True Positive number of 989\n",
    "print(confusion_matrix(y_test, y_pred))"
   ]
  },
  {
   "cell_type": "markdown",
   "metadata": {},
   "source": [
    "<b>Sensitivity:</b> The ability of a model to determine true cases correctly.\n",
    "\n",
    "Sensitivity  = TP / (TP + FN)"
   ]
  },
  {
   "cell_type": "code",
   "execution_count": 35,
   "metadata": {},
   "outputs": [
    {
     "name": "stdout",
     "output_type": "stream",
     "text": [
      "Logreg Sensitivity: 0.755\n"
     ]
    }
   ],
   "source": [
    "lr_cm = confusion_matrix(y_test, y_pred)\n",
    "\n",
    "print(f'Logreg Sensitivity: {round(lr_cm[1][1] / (lr_cm[1][1] + lr_cm[1][0]), 4)}')"
   ]
  },
  {
   "cell_type": "code",
   "execution_count": 36,
   "metadata": {},
   "outputs": [
    {
     "name": "stdout",
     "output_type": "stream",
     "text": [
      "Logreg ROC: 0.8488\n"
     ]
    }
   ],
   "source": [
    "# ROC Curve\n",
    "# another good indicator of performance for unbalanced targets\n",
    "lr_prob_y = lr.predict_proba(x_test)\n",
    "lr_prob_y = [p[1] for p in lr_prob_y]\n",
    "\n",
    "print(f'Logreg ROC: {round(roc_auc_score(y_test, lr_prob_y), 4)}')"
   ]
  },
  {
   "cell_type": "markdown",
   "metadata": {},
   "source": [
    "### Random Forest"
   ]
  },
  {
   "cell_type": "code",
   "execution_count": 37,
   "metadata": {},
   "outputs": [
    {
     "data": {
      "text/plain": [
       "RandomForestClassifier(bootstrap=True, class_weight=None, criterion='gini',\n",
       "            max_depth=None, max_features='auto', max_leaf_nodes=None,\n",
       "            min_impurity_decrease=0.0, min_impurity_split=None,\n",
       "            min_samples_leaf=1, min_samples_split=2,\n",
       "            min_weight_fraction_leaf=0.0, n_estimators=10, n_jobs=None,\n",
       "            oob_score=False, random_state=None, verbose=0,\n",
       "            warm_start=False)"
      ]
     },
     "execution_count": 37,
     "metadata": {},
     "output_type": "execute_result"
    }
   ],
   "source": [
    "rfc = RandomForestClassifier()\n",
    "rfc.fit(x_train, y_train)"
   ]
  },
  {
   "cell_type": "code",
   "execution_count": 38,
   "metadata": {},
   "outputs": [
    {
     "name": "stdout",
     "output_type": "stream",
     "text": [
      "Random Forest training mean accuracy: 0.9713\n",
      "Random Forest test mean accuracy: 0.8605\n"
     ]
    }
   ],
   "source": [
    "# Random forest is overfitting, causing drastic difference in performance between train and test set\n",
    "print(\"Random Forest training mean accuracy: %.4f\" % rfc.score(x_train, y_train))\n",
    "print(\"Random Forest test mean accuracy: %.4f\" % rfc.score(x_test, y_test))"
   ]
  },
  {
   "cell_type": "code",
   "execution_count": 39,
   "metadata": {},
   "outputs": [
    {
     "name": "stdout",
     "output_type": "stream",
     "text": [
      "[[9301  603]\n",
      " [ 961  349]]\n"
     ]
    }
   ],
   "source": [
    "# Random Forest Confusion Matrix\n",
    "# lower True Positive numbers\n",
    "rfc_y_pred = rfc.predict(x_test)\n",
    "\n",
    "print(confusion_matrix(y_test, rfc_y_pred))"
   ]
  },
  {
   "cell_type": "code",
   "execution_count": 40,
   "metadata": {},
   "outputs": [
    {
     "name": "stdout",
     "output_type": "stream",
     "text": [
      "Random Forest Sensitivity: 0.2664\n"
     ]
    }
   ],
   "source": [
    "# as a result Random Forest's sensitivity is very low\n",
    "rf_cm = confusion_matrix(y_test, rfc_y_pred)\n",
    "\n",
    "print(f'Random Forest Sensitivity: {round(rf_cm[1][1] / (rf_cm[1][1] + rf_cm[1][0]), 4)}')"
   ]
  },
  {
   "cell_type": "code",
   "execution_count": 41,
   "metadata": {},
   "outputs": [
    {
     "name": "stdout",
     "output_type": "stream",
     "text": [
      "Random Forest ROC: 0.7389\n"
     ]
    }
   ],
   "source": [
    "# Random Forest performs poorly according to ROC\n",
    "rfc_prob_y = rfc.predict_proba(x_test)\n",
    "rfc_prob_y = [p[1] for p in rfc_prob_y]\n",
    "print(f'Random Forest ROC: {round(roc_auc_score(y_test, rfc_prob_y), 4)}')"
   ]
  },
  {
   "cell_type": "markdown",
   "metadata": {},
   "source": [
    "### SVC"
   ]
  },
  {
   "cell_type": "markdown",
   "metadata": {},
   "source": [
    "<font color='red'>Notice: SVC requires longer runtime as it is creating hyperplane separator in data's high dimensional space.</font>"
   ]
  },
  {
   "cell_type": "code",
   "execution_count": 42,
   "metadata": {},
   "outputs": [
    {
     "data": {
      "text/plain": [
       "SVC(C=1.0, cache_size=200, class_weight='balanced', coef0=0.0,\n",
       "  decision_function_shape='ovr', degree=3, gamma='auto_deprecated',\n",
       "  kernel='linear', max_iter=-1, probability=True, random_state=None,\n",
       "  shrinking=True, tol=0.001, verbose=False)"
      ]
     },
     "execution_count": 42,
     "metadata": {},
     "output_type": "execute_result"
    }
   ],
   "source": [
    "svc = SVC(kernel='linear', class_weight='balanced', probability=True)\n",
    " \n",
    "svc.fit(x_train, y_train)"
   ]
  },
  {
   "cell_type": "code",
   "execution_count": 43,
   "metadata": {},
   "outputs": [
    {
     "name": "stdout",
     "output_type": "stream",
     "text": [
      "SVC training mean accuracy: 0.7855\n",
      "SVC test mean accuracy: 0.7821\n",
      "\n",
      "\n",
      "SVC Confusion Matrix\n",
      "[[7765 2139]\n",
      " [ 304 1006]]\n",
      "\n",
      "\n",
      "SVC Sensitivity: 0.7679\n",
      "\n",
      "\n",
      "SVC ROC: 0.8501\n"
     ]
    }
   ],
   "source": [
    "# SVC performs quite well \n",
    "# SVC has higher True Positive than weighted Logistic Regression but slightly lower Sensitivity\n",
    "print(\"SVC training mean accuracy: %.4f\" % svc.score(x_train, y_train))\n",
    "print(\"SVC test mean accuracy: %.4f\" % svc.score(x_test, y_test))\n",
    "print('\\n')\n",
    "print('SVC Confusion Matrix')\n",
    "svc_y_pred = svc.predict(x_test)\n",
    "print(confusion_matrix(y_test, svc_y_pred))\n",
    "print('\\n')\n",
    "svc_cm = confusion_matrix(y_test, svc_y_pred)\n",
    "print(f'SVC Sensitivity: {round(svc_cm[1][1] / (svc_cm[1][1] + svc_cm[1][0]), 4)}')\n",
    "print('\\n')\n",
    "svc_prob_y = svc.predict_proba(x_test)\n",
    "svc_prob_y = [p[1] for p in svc_prob_y]\n",
    "print(f'SVC ROC: {round(roc_auc_score(y_test, svc_prob_y), 4)}')"
   ]
  },
  {
   "cell_type": "markdown",
   "metadata": {},
   "source": [
    "### Gradient Boosting"
   ]
  },
  {
   "cell_type": "code",
   "execution_count": 44,
   "metadata": {},
   "outputs": [
    {
     "name": "stdout",
     "output_type": "stream",
     "text": [
      "Gradient Boosting training set score: 0.893404\n",
      "Gradient Boosting test set score: 0.891297\n"
     ]
    }
   ],
   "source": [
    "gbc = GradientBoostingClassifier()\n",
    "gbc.fit(x_train, y_train)\n",
    "\n",
    "print(\"Gradient Boosting training set score: %f\" % gbc.score(x_train, y_train))\n",
    "print(\"Gradient Boosting test set score: %f\" % gbc.score(x_test, y_test))"
   ]
  },
  {
   "cell_type": "code",
   "execution_count": 45,
   "metadata": {},
   "outputs": [
    {
     "name": "stdout",
     "output_type": "stream",
     "text": [
      "[[9670  234]\n",
      " [ 985  325]]\n"
     ]
    }
   ],
   "source": [
    "# Gradient Boosting Confusion Matrix\n",
    "# True Positive is lower than Logistic Regression and SVC\n",
    "gbc_y_pred = gbc.predict(x_test)\n",
    "\n",
    "print(confusion_matrix(y_test, gbc_y_pred))"
   ]
  },
  {
   "cell_type": "code",
   "execution_count": 46,
   "metadata": {},
   "outputs": [
    {
     "name": "stdout",
     "output_type": "stream",
     "text": [
      "Gradient Boosting ROC: 0.8592\n"
     ]
    }
   ],
   "source": [
    "gbc_prob_y = gbc.predict_proba(x_test)\n",
    "gbc_prob_y = [p[1] for p in gbc_prob_y]\n",
    "\n",
    "print(f'Gradient Boosting ROC: {round(roc_auc_score(y_test, gbc_prob_y), 4)}')"
   ]
  },
  {
   "cell_type": "markdown",
   "metadata": {},
   "source": [
    "### Nueral Network"
   ]
  },
  {
   "cell_type": "code",
   "execution_count": 47,
   "metadata": {},
   "outputs": [
    {
     "name": "stdout",
     "output_type": "stream",
     "text": [
      "Iteration 1, loss = 0.35159972\n",
      "Iteration 2, loss = 0.29736917\n",
      "Iteration 3, loss = 0.28016289\n",
      "Iteration 4, loss = 0.27514026\n",
      "Iteration 5, loss = 0.27259389\n",
      "Iteration 6, loss = 0.27169504\n",
      "Iteration 7, loss = 0.27079640\n",
      "Iteration 8, loss = 0.26837187\n",
      "Iteration 9, loss = 0.26826294\n",
      "Iteration 10, loss = 0.26801599\n",
      "Iteration 11, loss = 0.26680633\n",
      "Iteration 12, loss = 0.26688649\n",
      "Iteration 13, loss = 0.26815439\n",
      "Iteration 14, loss = 0.26632940\n",
      "Iteration 15, loss = 0.26727341\n",
      "Iteration 16, loss = 0.26624892\n",
      "Iteration 17, loss = 0.26581512\n",
      "Iteration 18, loss = 0.26535982\n",
      "Iteration 19, loss = 0.26540220\n",
      "Iteration 20, loss = 0.26472307\n",
      "Iteration 21, loss = 0.26511491\n",
      "Iteration 22, loss = 0.26432448\n",
      "Iteration 23, loss = 0.26438667\n",
      "Iteration 24, loss = 0.26480270\n",
      "Iteration 25, loss = 0.26399676\n",
      "Iteration 26, loss = 0.26343186\n",
      "Iteration 27, loss = 0.26364401\n",
      "Iteration 28, loss = 0.26345429\n",
      "Iteration 29, loss = 0.26318855\n",
      "Iteration 30, loss = 0.26341295\n"
     ]
    },
    {
     "name": "stderr",
     "output_type": "stream",
     "text": [
      "C:\\Users\\liamk\\Anaconda3\\lib\\site-packages\\sklearn\\neural_network\\multilayer_perceptron.py:562: ConvergenceWarning: Stochastic Optimizer: Maximum iterations (30) reached and the optimization hasn't converged yet.\n",
      "  % self.max_iter, ConvergenceWarning)\n"
     ]
    },
    {
     "data": {
      "text/plain": [
       "MLPClassifier(activation='tanh', alpha=0.0001, batch_size='auto', beta_1=0.9,\n",
       "       beta_2=0.999, early_stopping=False, epsilon=1e-08,\n",
       "       hidden_layer_sizes=(12, 8, 4), learning_rate='constant',\n",
       "       learning_rate_init=0.2, max_iter=30, momentum=0.9,\n",
       "       n_iter_no_change=10, nesterovs_momentum=True, power_t=0.5,\n",
       "       random_state=0, shuffle=True, solver='sgd', tol=0.0001,\n",
       "       validation_fraction=0.1, verbose=10, warm_start=False)"
      ]
     },
     "execution_count": 47,
     "metadata": {},
     "output_type": "execute_result"
    }
   ],
   "source": [
    "# multiple attempts with different hidden layer configurations\n",
    "# constantly unable to converge\n",
    "mlp = MLPClassifier(hidden_layer_sizes=(12, 8, 4), max_iter=30, alpha=1e-4, activation='tanh',\n",
    "                    solver='sgd', verbose=10, tol=1e-4, random_state=0,\n",
    "                    learning_rate_init=.2)\n",
    "\n",
    "mlp.fit(x_train, y_train)"
   ]
  },
  {
   "cell_type": "code",
   "execution_count": 48,
   "metadata": {},
   "outputs": [
    {
     "name": "stdout",
     "output_type": "stream",
     "text": [
      "Neural Network training mean accuracy: 0.8872\n",
      "Neural Network test mean accuracy: 0.8870\n"
     ]
    }
   ],
   "source": [
    "# NN Test and train performance\n",
    "print(\"Neural Network training mean accuracy: %.4f\" % mlp.score(x_train, y_train))\n",
    "print(\"Neural Network test mean accuracy: %.4f\" % mlp.score(x_test, y_test))"
   ]
  },
  {
   "cell_type": "code",
   "execution_count": 49,
   "metadata": {},
   "outputs": [
    {
     "name": "stdout",
     "output_type": "stream",
     "text": [
      "[[9501  403]\n",
      " [ 864  446]]\n"
     ]
    }
   ],
   "source": [
    "# NN Confusion Matrix\n",
    "# Better performance than Gradient Boosting and Random Forest, but worse than Logistic Regression and SVC\n",
    "mlp_y_pred = mlp.predict(x_test)\n",
    "\n",
    "print(confusion_matrix(y_test, mlp_y_pred))"
   ]
  },
  {
   "cell_type": "code",
   "execution_count": 50,
   "metadata": {},
   "outputs": [
    {
     "name": "stdout",
     "output_type": "stream",
     "text": [
      "Nueral Network ROC: 0.8487\n"
     ]
    }
   ],
   "source": [
    "mlp_prob_y = mlp.predict_proba(x_test)\n",
    "mlp_prob_y = [p[1] for p in mlp_prob_y]\n",
    "\n",
    "print(f'Nueral Network ROC: {round(roc_auc_score(y_test, mlp_prob_y), 4)}')"
   ]
  },
  {
   "cell_type": "markdown",
   "metadata": {},
   "source": [
    "### Cross Valiadtion"
   ]
  },
  {
   "cell_type": "code",
   "execution_count": 51,
   "metadata": {},
   "outputs": [
    {
     "name": "stdout",
     "output_type": "stream",
     "text": [
      "Logistic Regression Cross Val Individual Scores:\n",
      "[0.8478600089166295, 0.7840820421357708, 0.7076134210232973, 0.7585553450005573, 0.749386845039019]\n"
     ]
    }
   ],
   "source": [
    "lr_cross_val = cross_val_score(lr, mkbest, mtarget, cv=5)\n",
    "\n",
    "print('Logistic Regression Cross Val Individual Scores:')\n",
    "print(list(lr_cross_val))"
   ]
  },
  {
   "cell_type": "markdown",
   "metadata": {},
   "source": [
    "<font color='red'>Notice: SVC cross val is commented out due to long runtime.</font>\n",
    "<br>\n",
    "<font color='red'> SVC Cross val result is: [0.84741418, 0.77471854, 0.66202207, 0.75866682, 0.7567447 ]</font>"
   ]
  },
  {
   "cell_type": "code",
   "execution_count": 52,
   "metadata": {},
   "outputs": [],
   "source": [
    "# svc_cross_val = cross_val_score(svc, mkbest, mtarget, cv=5)\n",
    "\n",
    "# print('SVC Cross Val Individual Scores:')\n",
    "# print(list(svc_cross_val))"
   ]
  },
  {
   "cell_type": "markdown",
   "metadata": {},
   "source": [
    "Cross Validation for both Logistic Regression and SVC aren't very consistent which isn't ideal."
   ]
  },
  {
   "cell_type": "markdown",
   "metadata": {},
   "source": [
    "### Conclusion"
   ]
  },
  {
   "cell_type": "markdown",
   "metadata": {},
   "source": [
    "Binary Classification for this dataset is made more difficult due to class imbalance (roughly 12% true cases). Therefore mean accuracy alone is not reliable for judging algorithm performance. Confusion matrix and ROC score are used to supplement decision making.\n",
    "\n",
    "Predicting true positives was more accurate for Weighted Logistic Regression and SVC, although cross validation reveals some consistency issues. Nueral Network performance was ok, and Random Forest and Gradient Boosting performing poorly.\n",
    "\n",
    "Prediction on only observations with previous campaign data could have yielded better results, however that would ignore around 37K rows of missing data (80% of dataset), so it was decided to drop the previous campaign columns instead.\n",
    "\n",
    "Overall this coursework was challenging but taught many good lessons on how to deal with imbalanced classes. Thank you for reviewing this notebook!"
   ]
  },
  {
   "cell_type": "code",
   "execution_count": null,
   "metadata": {},
   "outputs": [],
   "source": []
  }
 ],
 "metadata": {
  "kernelspec": {
   "display_name": "Python 3",
   "language": "python",
   "name": "python3"
  },
  "language_info": {
   "codemirror_mode": {
    "name": "ipython",
    "version": 3
   },
   "file_extension": ".py",
   "mimetype": "text/x-python",
   "name": "python",
   "nbconvert_exporter": "python",
   "pygments_lexer": "ipython3",
   "version": "3.7.3"
  }
 },
 "nbformat": 4,
 "nbformat_minor": 2
}
