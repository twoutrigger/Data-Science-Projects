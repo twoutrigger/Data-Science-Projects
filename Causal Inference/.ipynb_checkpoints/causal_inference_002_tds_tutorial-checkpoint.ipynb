{
 "cells": [
  {
   "cell_type": "markdown",
   "id": "bd5476d7",
   "metadata": {},
   "source": [
    "## Purpose of script:\n",
    "#### Basic tutorial on using Structural Causal Models (SCMs) to infer causal relationships\n",
    "#### This script references code from:\n",
    "#### https://towardsdatascience.com/causal-inference-962ae97cefda"
   ]
  },
  {
   "cell_type": "code",
   "execution_count": 12,
   "id": "515c3ee4",
   "metadata": {},
   "outputs": [],
   "source": [
    "import pickle\n",
    "import matplotlib.pyplot as plt\n",
    "from IPython.display import Image, display\n",
    "import econml\n",
    "import dowhy\n",
    "from dowhy import CausalModel\n",
    "from sklearn.ensemble import RandomForestRegressor"
   ]
  },
  {
   "cell_type": "code",
   "execution_count": 3,
   "id": "1030ec26",
   "metadata": {},
   "outputs": [
    {
     "name": "stdout",
     "output_type": "stream",
     "text": [
      "(29170, 3)\n"
     ]
    },
    {
     "data": {
      "text/html": [
       "<div>\n",
       "<style scoped>\n",
       "    .dataframe tbody tr th:only-of-type {\n",
       "        vertical-align: middle;\n",
       "    }\n",
       "\n",
       "    .dataframe tbody tr th {\n",
       "        vertical-align: top;\n",
       "    }\n",
       "\n",
       "    .dataframe thead th {\n",
       "        text-align: right;\n",
       "    }\n",
       "</style>\n",
       "<table border=\"1\" class=\"dataframe\">\n",
       "  <thead>\n",
       "    <tr style=\"text-align: right;\">\n",
       "      <th></th>\n",
       "      <th>age</th>\n",
       "      <th>hasGraduateDegree</th>\n",
       "      <th>greaterThan50k</th>\n",
       "    </tr>\n",
       "  </thead>\n",
       "  <tbody>\n",
       "    <tr>\n",
       "      <th>0</th>\n",
       "      <td>39</td>\n",
       "      <td>False</td>\n",
       "      <td>False</td>\n",
       "    </tr>\n",
       "    <tr>\n",
       "      <th>1</th>\n",
       "      <td>50</td>\n",
       "      <td>False</td>\n",
       "      <td>False</td>\n",
       "    </tr>\n",
       "  </tbody>\n",
       "</table>\n",
       "</div>"
      ],
      "text/plain": [
       "   age  hasGraduateDegree  greaterThan50k\n",
       "0   39              False           False\n",
       "1   50              False           False"
      ]
     },
     "execution_count": 3,
     "metadata": {},
     "output_type": "execute_result"
    }
   ],
   "source": [
    "df = pickle.load( open( \"../Datasets/df_causal_inference.p\", \"rb\" ) )\n",
    "print(df.shape)\n",
    "df.head(2)"
   ]
  },
  {
   "cell_type": "code",
   "execution_count": 7,
   "id": "7acad859",
   "metadata": {},
   "outputs": [
    {
     "data": {
      "text/plain": [
       "count    29170.000000\n",
       "mean        38.655674\n",
       "std         13.722408\n",
       "min         17.000000\n",
       "25%         28.000000\n",
       "50%         37.000000\n",
       "75%         48.000000\n",
       "max         90.000000\n",
       "Name: age, dtype: float64"
      ]
     },
     "execution_count": 7,
     "metadata": {},
     "output_type": "execute_result"
    }
   ],
   "source": [
    "df.age.describe()"
   ]
  },
  {
   "cell_type": "code",
   "execution_count": 5,
   "id": "a6e9a7f5",
   "metadata": {},
   "outputs": [
    {
     "data": {
      "text/plain": [
       "False    27643\n",
       "True      1527\n",
       "Name: hasGraduateDegree, dtype: Int64"
      ]
     },
     "execution_count": 5,
     "metadata": {},
     "output_type": "execute_result"
    }
   ],
   "source": [
    "df.hasGraduateDegree.value_counts()"
   ]
  },
  {
   "cell_type": "code",
   "execution_count": 6,
   "id": "9e83c7c5",
   "metadata": {},
   "outputs": [
    {
     "data": {
      "text/plain": [
       "False    21999\n",
       "True      7171\n",
       "Name: greaterThan50k, dtype: Int64"
      ]
     },
     "execution_count": 6,
     "metadata": {},
     "output_type": "execute_result"
    }
   ],
   "source": [
    "df.greaterThan50k.value_counts()"
   ]
  },
  {
   "cell_type": "code",
   "execution_count": 8,
   "id": "99b88282",
   "metadata": {},
   "outputs": [],
   "source": [
    "model=CausalModel(\n",
    "        data = df,\n",
    "        treatment= \"hasGraduateDegree\",\n",
    "        outcome= \"greaterThan50k\",\n",
    "        common_causes=\"age\",\n",
    "        )"
   ]
  },
  {
   "cell_type": "code",
   "execution_count": 10,
   "id": "9e37180d",
   "metadata": {},
   "outputs": [
    {
     "data": {
      "image/png": "[encoded data removed]",
      "text/plain": [
       "<IPython.core.display.Image object>"
      ]
     },
     "metadata": {},
     "output_type": "display_data"
    },
    {
     "data": {
      "image/png": "[encoded data removed]",
      "text/plain": [
       "<Figure size 576x432 with 1 Axes>"
      ]
     },
     "metadata": {},
     "output_type": "display_data"
    }
   ],
   "source": [
    "model.view_model()\n",
    "display(Image(filename=\"causal_model.png\"))"
   ]
  },
  {
   "cell_type": "code",
   "execution_count": 11,
   "id": "f34d80c1",
   "metadata": {},
   "outputs": [
    {
     "name": "stdout",
     "output_type": "stream",
     "text": [
      "Estimand type: EstimandType.NONPARAMETRIC_ATE\n",
      "\n",
      "### Estimand : 1\n",
      "Estimand name: backdoor\n",
      "Estimand expression:\n",
      "         d                                 \n",
      "────────────────────(E[greaterThan50k|age])\n",
      "d[hasGraduateDegree]                       \n",
      "Estimand assumption 1, Unconfoundedness: If U→{hasGraduateDegree} and U→greaterThan50k then P(greaterThan50k|hasGraduateDegree,age,U) = P(greaterThan50k|hasGraduateDegree,age)\n",
      "\n",
      "### Estimand : 2\n",
      "Estimand name: iv\n",
      "No such variable(s) found!\n",
      "\n",
      "### Estimand : 3\n",
      "Estimand name: frontdoor\n",
      "No such variable(s) found!\n",
      "\n"
     ]
    }
   ],
   "source": [
    "identified_estimand= model.identify_effect(proceed_when_unidentifiable=True)\n",
    "print(identified_estimand)"
   ]
  },
  {
   "cell_type": "code",
   "execution_count": 13,
   "id": "c48c4c90",
   "metadata": {},
   "outputs": [
    {
     "name": "stderr",
     "output_type": "stream",
     "text": [
      "A column-vector y was passed when a 1d array was expected. Please change the shape of y to (n_samples, ), for example using ravel().\n"
     ]
    },
    {
     "name": "stdout",
     "output_type": "stream",
     "text": [
      "*** Causal Estimate ***\n",
      "\n",
      "## Identified estimand\n",
      "Estimand type: EstimandType.NONPARAMETRIC_ATE\n",
      "\n",
      "### Estimand : 1\n",
      "Estimand name: backdoor\n",
      "Estimand expression:\n",
      "         d                                 \n",
      "────────────────────(E[greaterThan50k|age])\n",
      "d[hasGraduateDegree]                       \n",
      "Estimand assumption 1, Unconfoundedness: If U→{hasGraduateDegree} and U→greaterThan50k then P(greaterThan50k|hasGraduateDegree,age,U) = P(greaterThan50k|hasGraduateDegree,age)\n",
      "\n",
      "## Realized estimand\n",
      "b: greaterThan50k~hasGraduateDegree+age\n",
      "Target units: ate\n",
      "\n",
      "## Estimate\n",
      "Mean value: 0.20255666286305837\n",
      "Effect estimates: [[ 0.30689318]\n",
      " [ 0.20860197]\n",
      " [ 0.36346222]\n",
      " ...\n",
      " [ 0.17354447]\n",
      " [-0.01455916]\n",
      " [ 0.20258306]]\n",
      "\n"
     ]
    }
   ],
   "source": [
    "identified_estimand_experiment = model.identify_effect(proceed_when_unidentifiable=True)\n",
    "\n",
    "metalearner_estimate = model.estimate_effect(identified_estimand_experiment,\n",
    "                                method_name=\"backdoor.econml.metalearners.TLearner\",\n",
    "                                confidence_intervals=False,\n",
    "                                method_params={\"init_params\":{\n",
    "                                                    'models': RandomForestRegressor()\n",
    "                                                    },\n",
    "                                               \"fit_params\":{}\n",
    "                                              })\n",
    "print(metalearner_estimate)"
   ]
  },
  {
   "cell_type": "code",
   "execution_count": 14,
   "id": "efa0e213",
   "metadata": {},
   "outputs": [
    {
     "data": {
      "text/plain": [
       "(array([  74.,  113.,  973., 5981., 2930., 5472., 8443., 2625., 2522.,\n",
       "          37.]),\n",
       " array([-0.2908824 , -0.20123409, -0.11158578, -0.02193747,  0.06771084,\n",
       "         0.15735915,  0.24700746,  0.33665576,  0.42630407,  0.51595238,\n",
       "         0.60560069]),\n",
       " <BarContainer object of 10 artists>)"
      ]
     },
     "execution_count": 14,
     "metadata": {},
     "output_type": "execute_result"
    },
    {
     "data": {
      "image/png": "[encoded data removed]",
      "text/plain": [
       "<Figure size 432x288 with 1 Axes>"
      ]
     },
     "metadata": {
      "needs_background": "light"
     },
     "output_type": "display_data"
    }
   ],
   "source": [
    "# print histogram of causal effects for each sample\n",
    "plt.hist(metalearner_estimate.cate_estimates)"
   ]
  },
  {
   "cell_type": "code",
   "execution_count": null,
   "id": "eb70dd79",
   "metadata": {},
   "outputs": [],
   "source": []
  }
 ],
 "metadata": {
  "kernelspec": {
   "display_name": "Python 3 (ipykernel)",
   "language": "python",
   "name": "python3"
  },
  "language_info": {
   "codemirror_mode": {
    "name": "ipython",
    "version": 3
   },
   "file_extension": ".py",
   "mimetype": "text/x-python",
   "name": "python",
   "nbconvert_exporter": "python",
   "pygments_lexer": "ipython3",
   "version": "3.8.13"
  }
 },
 "nbformat": 4,
 "nbformat_minor": 5
}
