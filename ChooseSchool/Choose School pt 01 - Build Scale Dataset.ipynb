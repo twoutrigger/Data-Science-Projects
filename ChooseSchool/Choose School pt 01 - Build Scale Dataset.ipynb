{
 "cells": [
  {
   "cell_type": "code",
   "execution_count": 1,
   "metadata": {},
   "outputs": [],
   "source": [
    "import pandas as pd\n",
    "import numpy as np\n",
    "import matplotlib.pyplot as plt"
   ]
  },
  {
   "cell_type": "code",
   "execution_count": null,
   "metadata": {},
   "outputs": [],
   "source": [
    "### Combine National Student Survey datasets"
   ]
  },
  {
   "cell_type": "code",
   "execution_count": 2,
   "metadata": {},
   "outputs": [
    {
     "name": "stdout",
     "output_type": "stream",
     "text": [
      "(451, 6)\n"
     ]
    },
    {
     "data": {
      "text/html": [
       "<div>\n",
       "<style scoped>\n",
       "    .dataframe tbody tr th:only-of-type {\n",
       "        vertical-align: middle;\n",
       "    }\n",
       "\n",
       "    .dataframe tbody tr th {\n",
       "        vertical-align: top;\n",
       "    }\n",
       "\n",
       "    .dataframe thead th {\n",
       "        text-align: right;\n",
       "    }\n",
       "</style>\n",
       "<table border=\"1\" class=\"dataframe\">\n",
       "  <thead>\n",
       "    <tr style=\"text-align: right;\">\n",
       "      <th></th>\n",
       "      <th>UKPRN</th>\n",
       "      <th>Provider</th>\n",
       "      <th>Agree (%).2</th>\n",
       "      <th>Benchmark (%).2</th>\n",
       "      <th>+/-.2</th>\n",
       "      <th>Country</th>\n",
       "    </tr>\n",
       "  </thead>\n",
       "  <tbody>\n",
       "    <tr>\n",
       "      <th>0</th>\n",
       "      <td>10007783</td>\n",
       "      <td>University of Aberdeen</td>\n",
       "      <td>86.39</td>\n",
       "      <td>84.91</td>\n",
       "      <td>NaN</td>\n",
       "      <td>Scotland</td>\n",
       "    </tr>\n",
       "    <tr>\n",
       "      <th>1</th>\n",
       "      <td>10007849</td>\n",
       "      <td>University of Abertay Dundee</td>\n",
       "      <td>87.44</td>\n",
       "      <td>83.89</td>\n",
       "      <td>NaN</td>\n",
       "      <td>Scotland</td>\n",
       "    </tr>\n",
       "    <tr>\n",
       "      <th>2</th>\n",
       "      <td>10007856</td>\n",
       "      <td>Aberystwyth University</td>\n",
       "      <td>91.15</td>\n",
       "      <td>84.91</td>\n",
       "      <td>+</td>\n",
       "      <td>Wales</td>\n",
       "    </tr>\n",
       "    <tr>\n",
       "      <th>3</th>\n",
       "      <td>10000055</td>\n",
       "      <td>Abingdon and Witney College</td>\n",
       "      <td>92.35</td>\n",
       "      <td>84.66</td>\n",
       "      <td>NaN</td>\n",
       "      <td>England</td>\n",
       "    </tr>\n",
       "    <tr>\n",
       "      <th>4</th>\n",
       "      <td>10046802</td>\n",
       "      <td>Academy of Music &amp; Sound (Exeter) Ltd</td>\n",
       "      <td>82.50</td>\n",
       "      <td>84.58</td>\n",
       "      <td>NaN</td>\n",
       "      <td>England</td>\n",
       "    </tr>\n",
       "  </tbody>\n",
       "</table>\n",
       "</div>"
      ],
      "text/plain": [
       "      UKPRN                               Provider  Agree (%).2  \\\n",
       "0  10007783                 University of Aberdeen        86.39   \n",
       "1  10007849           University of Abertay Dundee        87.44   \n",
       "2  10007856                 Aberystwyth University        91.15   \n",
       "3  10000055            Abingdon and Witney College        92.35   \n",
       "4  10046802  Academy of Music & Sound (Exeter) Ltd        82.50   \n",
       "\n",
       "   Benchmark (%).2 +/-.2   Country  \n",
       "0            84.91   NaN  Scotland  \n",
       "1            83.89   NaN  Scotland  \n",
       "2            84.91     +     Wales  \n",
       "3            84.66   NaN   England  \n",
       "4            84.58   NaN   England  "
      ]
     },
     "execution_count": 2,
     "metadata": {},
     "output_type": "execute_result"
    }
   ],
   "source": [
    "aorig = pd.read_excel('NSS Answers.xlsx', sheet_name='Scale 1', skiprows=4)\n",
    "borig = pd.read_excel('NSS Answers.xlsx', sheet_name='Scale 2', skiprows=4)\n",
    "corig = pd.read_excel('NSS Answers.xlsx', sheet_name='Scale 3', skiprows=4)\n",
    "dorig = pd.read_excel('NSS Answers.xlsx', sheet_name='Scale 4', skiprows=4)\n",
    "eorig = pd.read_excel('NSS Answers.xlsx', sheet_name='Scale 5', skiprows=4)\n",
    "forig = pd.read_excel('NSS Answers.xlsx', sheet_name='Scale 6', skiprows=4)\n",
    "gorig = pd.read_excel('NSS Answers.xlsx', sheet_name='Scale 7', skiprows=4)\n",
    "horig = pd.read_excel('NSS Answers.xlsx', sheet_name='Scale 8', skiprows=4)\n",
    "\n",
    "qlist = [aorig,borig,corig,dorig,eorig,forig,gorig,horig]\n",
    "\n",
    "for i in qlist:\n",
    "    i = i.drop(i.columns[2:8].tolist() + i.columns[11:14].tolist(), axis=1, inplace=True)\n",
    "\n",
    "print(aorig.shape)\n",
    "aorig.head()"
   ]
  },
  {
   "cell_type": "code",
   "execution_count": 3,
   "metadata": {},
   "outputs": [
    {
     "name": "stdout",
     "output_type": "stream",
     "text": [
      "        UKPRN            Provider  Agree (%).2  Benchmark (%).2 +/-.2  Country\n",
      "185  10003128  Holy Cross College          NaN              NaN   NaN  England\n",
      "        UKPRN            Provider  Agree (%).2  Benchmark (%).2 +/-.2  Country\n",
      "185  10003128  Holy Cross College          NaN              NaN   NaN  England\n",
      "        UKPRN            Provider  Agree (%).2  Benchmark (%).2 +/-.2  Country\n",
      "185  10003128  Holy Cross College          NaN              NaN   NaN  England\n",
      "        UKPRN            Provider  Agree (%).2  Benchmark (%).2 +/-.2  Country\n",
      "185  10003128  Holy Cross College          NaN              NaN   NaN  England\n",
      "        UKPRN            Provider  Agree (%).2  Benchmark (%).2 +/-.2  Country\n",
      "185  10003128  Holy Cross College          NaN              NaN   NaN  England\n",
      "        UKPRN            Provider  Agree (%).2  Benchmark (%).2 +/-.2  Country\n",
      "185  10003128  Holy Cross College          NaN              NaN   NaN  England\n",
      "        UKPRN            Provider  Agree (%).2  Benchmark (%).2 +/-.2  Country\n",
      "185  10003128  Holy Cross College          NaN              NaN   NaN  England\n",
      "        UKPRN            Provider  Agree (%).2  Benchmark (%).2 +/-.2  Country\n",
      "185  10003128  Holy Cross College          NaN              NaN   NaN  England\n"
     ]
    }
   ],
   "source": [
    "# all have Holy Cross College missing data\n",
    "for i in qlist:\n",
    "    print(i[i['Agree (%).2'].isnull()])"
   ]
  },
  {
   "cell_type": "code",
   "execution_count": 4,
   "metadata": {},
   "outputs": [
    {
     "name": "stdout",
     "output_type": "stream",
     "text": [
      "(450, 6)\n"
     ]
    }
   ],
   "source": [
    "for i in qlist:\n",
    "    i = i.drop([185], inplace=True)\n",
    "\n",
    "print(aorig.shape)"
   ]
  },
  {
   "cell_type": "code",
   "execution_count": 5,
   "metadata": {},
   "outputs": [
    {
     "data": {
      "text/plain": [
       "Index(['UKPRN', 'Provider', 'Agree (%).2', 'Benchmark (%).2', '+/-.2',\n",
       "       'Country'],\n",
       "      dtype='object')"
      ]
     },
     "execution_count": 5,
     "metadata": {},
     "output_type": "execute_result"
    }
   ],
   "source": [
    "aorig.columns"
   ]
  },
  {
   "cell_type": "code",
   "execution_count": 6,
   "metadata": {},
   "outputs": [
    {
     "name": "stdout",
     "output_type": "stream",
     "text": [
      "Index(['UKPRN', 'Provider', 's1 Agree', 's1 Bench', 's1 Sig', 'Country'], dtype='object')\n",
      "Index(['UKPRN', 'Provider', 's8 Agree', 's8 Bench', 's8 Sig', 'Country'], dtype='object')\n"
     ]
    }
   ],
   "source": [
    "for num, i in enumerate(qlist):\n",
    "    \n",
    "    i.rename(columns={'Agree (%).2':'s{} Agree'.format(num+1),\n",
    "                      'Benchmark (%).2':'s{} Bench'.format(num+1),\n",
    "                      '+/-.2':'s{} Sig'.format(num+1)}, inplace=True)\n",
    "    \n",
    "print(aorig.columns)\n",
    "print(horig.columns)"
   ]
  },
  {
   "cell_type": "code",
   "execution_count": 7,
   "metadata": {},
   "outputs": [
    {
     "data": {
      "text/html": [
       "<div>\n",
       "<style scoped>\n",
       "    .dataframe tbody tr th:only-of-type {\n",
       "        vertical-align: middle;\n",
       "    }\n",
       "\n",
       "    .dataframe tbody tr th {\n",
       "        vertical-align: top;\n",
       "    }\n",
       "\n",
       "    .dataframe thead th {\n",
       "        text-align: right;\n",
       "    }\n",
       "</style>\n",
       "<table border=\"1\" class=\"dataframe\">\n",
       "  <thead>\n",
       "    <tr style=\"text-align: right;\">\n",
       "      <th></th>\n",
       "      <th>UKPRN</th>\n",
       "      <th>Provider</th>\n",
       "      <th>s1 Agree</th>\n",
       "      <th>s1 Bench</th>\n",
       "      <th>s1 Sig</th>\n",
       "      <th>Country</th>\n",
       "    </tr>\n",
       "  </thead>\n",
       "  <tbody>\n",
       "    <tr>\n",
       "      <th>0</th>\n",
       "      <td>10007783</td>\n",
       "      <td>University of Aberdeen</td>\n",
       "      <td>86.39</td>\n",
       "      <td>84.91</td>\n",
       "      <td>NaN</td>\n",
       "      <td>Scotland</td>\n",
       "    </tr>\n",
       "    <tr>\n",
       "      <th>1</th>\n",
       "      <td>10007849</td>\n",
       "      <td>University of Abertay Dundee</td>\n",
       "      <td>87.44</td>\n",
       "      <td>83.89</td>\n",
       "      <td>NaN</td>\n",
       "      <td>Scotland</td>\n",
       "    </tr>\n",
       "  </tbody>\n",
       "</table>\n",
       "</div>"
      ],
      "text/plain": [
       "      UKPRN                      Provider  s1 Agree  s1 Bench s1 Sig   Country\n",
       "0  10007783        University of Aberdeen     86.39     84.91    NaN  Scotland\n",
       "1  10007849  University of Abertay Dundee     87.44     83.89    NaN  Scotland"
      ]
     },
     "execution_count": 7,
     "metadata": {},
     "output_type": "execute_result"
    }
   ],
   "source": [
    "aorig.head(2)"
   ]
  },
  {
   "cell_type": "code",
   "execution_count": 19,
   "metadata": {},
   "outputs": [
    {
     "name": "stdout",
     "output_type": "stream",
     "text": [
      "(450, 27)\n"
     ]
    },
    {
     "data": {
      "text/html": [
       "<div>\n",
       "<style scoped>\n",
       "    .dataframe tbody tr th:only-of-type {\n",
       "        vertical-align: middle;\n",
       "    }\n",
       "\n",
       "    .dataframe tbody tr th {\n",
       "        vertical-align: top;\n",
       "    }\n",
       "\n",
       "    .dataframe thead th {\n",
       "        text-align: right;\n",
       "    }\n",
       "</style>\n",
       "<table border=\"1\" class=\"dataframe\">\n",
       "  <thead>\n",
       "    <tr style=\"text-align: right;\">\n",
       "      <th></th>\n",
       "      <th>Country</th>\n",
       "      <th>UKPRN</th>\n",
       "      <th>Provider</th>\n",
       "      <th>s1 Agree</th>\n",
       "      <th>s1 Bench</th>\n",
       "      <th>s1 Sig</th>\n",
       "      <th>s2 Agree</th>\n",
       "      <th>s2 Bench</th>\n",
       "      <th>s2 Sig</th>\n",
       "      <th>s3 Agree</th>\n",
       "      <th>...</th>\n",
       "      <th>s5 Sig</th>\n",
       "      <th>s6 Agree</th>\n",
       "      <th>s6 Bench</th>\n",
       "      <th>s6 Sig</th>\n",
       "      <th>s7 Agree</th>\n",
       "      <th>s7 Bench</th>\n",
       "      <th>s7 Sig</th>\n",
       "      <th>s8 Agree</th>\n",
       "      <th>s8 Bench</th>\n",
       "      <th>s8 Sig</th>\n",
       "    </tr>\n",
       "  </thead>\n",
       "  <tbody>\n",
       "    <tr>\n",
       "      <th>0</th>\n",
       "      <td>Scotland</td>\n",
       "      <td>10007783</td>\n",
       "      <td>University of Aberdeen</td>\n",
       "      <td>86.39</td>\n",
       "      <td>84.91</td>\n",
       "      <td>NaN</td>\n",
       "      <td>82.26</td>\n",
       "      <td>82.32</td>\n",
       "      <td>NaN</td>\n",
       "      <td>71.43</td>\n",
       "      <td>...</td>\n",
       "      <td>+</td>\n",
       "      <td>90.09</td>\n",
       "      <td>87.05</td>\n",
       "      <td>+</td>\n",
       "      <td>80.39</td>\n",
       "      <td>75.95</td>\n",
       "      <td>+</td>\n",
       "      <td>75.13</td>\n",
       "      <td>74.36</td>\n",
       "      <td>NaN</td>\n",
       "    </tr>\n",
       "    <tr>\n",
       "      <th>1</th>\n",
       "      <td>Scotland</td>\n",
       "      <td>10007849</td>\n",
       "      <td>University of Abertay Dundee</td>\n",
       "      <td>87.44</td>\n",
       "      <td>83.89</td>\n",
       "      <td>NaN</td>\n",
       "      <td>85.50</td>\n",
       "      <td>82.29</td>\n",
       "      <td>NaN</td>\n",
       "      <td>79.41</td>\n",
       "      <td>...</td>\n",
       "      <td>NaN</td>\n",
       "      <td>87.63</td>\n",
       "      <td>85.48</td>\n",
       "      <td>NaN</td>\n",
       "      <td>78.81</td>\n",
       "      <td>76.62</td>\n",
       "      <td>NaN</td>\n",
       "      <td>78.35</td>\n",
       "      <td>74.33</td>\n",
       "      <td>NaN</td>\n",
       "    </tr>\n",
       "  </tbody>\n",
       "</table>\n",
       "<p>2 rows × 27 columns</p>\n",
       "</div>"
      ],
      "text/plain": [
       "    Country     UKPRN                      Provider  s1 Agree  s1 Bench  \\\n",
       "0  Scotland  10007783        University of Aberdeen     86.39     84.91   \n",
       "1  Scotland  10007849  University of Abertay Dundee     87.44     83.89   \n",
       "\n",
       "  s1 Sig  s2 Agree  s2 Bench s2 Sig  s3 Agree  ...  s5 Sig s6 Agree  s6 Bench  \\\n",
       "0    NaN     82.26     82.32    NaN     71.43  ...       +    90.09     87.05   \n",
       "1    NaN     85.50     82.29    NaN     79.41  ...     NaN    87.63     85.48   \n",
       "\n",
       "   s6 Sig s7 Agree  s7 Bench  s7 Sig s8 Agree  s8 Bench  s8 Sig  \n",
       "0       +    80.39     75.95       +    75.13     74.36     NaN  \n",
       "1     NaN    78.81     76.62     NaN    78.35     74.33     NaN  \n",
       "\n",
       "[2 rows x 27 columns]"
      ]
     },
     "execution_count": 19,
     "metadata": {},
     "output_type": "execute_result"
    }
   ],
   "source": [
    "cmerge = aorig.copy()\n",
    "cmerge = cmerge[['Country','UKPRN','Provider','s1 Agree','s1 Bench','s1 Sig']]\n",
    "\n",
    "for i in qlist[1:]:\n",
    "    cmerge = pd.merge(cmerge, i.iloc[:, 1:-1], on='Provider')\n",
    "           \n",
    "print(cmerge.shape)\n",
    "cmerge.head(2)"
   ]
  },
  {
   "cell_type": "code",
   "execution_count": 22,
   "metadata": {},
   "outputs": [],
   "source": [
    "# cmerge.to_csv('he_choose_scale.csv')"
   ]
  },
  {
   "cell_type": "markdown",
   "metadata": {},
   "source": [
    "## Misc"
   ]
  },
  {
   "cell_type": "code",
   "execution_count": 23,
   "metadata": {},
   "outputs": [
    {
     "data": {
      "text/plain": [
       "array(['Scotland', 'Wales', 'England', 'Northern Ireland'], dtype=object)"
      ]
     },
     "execution_count": 23,
     "metadata": {},
     "output_type": "execute_result"
    }
   ],
   "source": [
    "cmerge.Country.unique()"
   ]
  },
  {
   "cell_type": "code",
   "execution_count": 24,
   "metadata": {},
   "outputs": [
    {
     "data": {
      "text/plain": [
       "England             404\n",
       "Scotland             19\n",
       "Wales                18\n",
       "Northern Ireland      9\n",
       "Name: Country, dtype: int64"
      ]
     },
     "execution_count": 24,
     "metadata": {},
     "output_type": "execute_result"
    }
   ],
   "source": [
    "cmerge.Country.value_counts()"
   ]
  },
  {
   "cell_type": "code",
   "execution_count": 36,
   "metadata": {},
   "outputs": [],
   "source": [
    "scale_dict = {'The teaching on my course':'s1 Agree', 'Learning opportunities':'s2 Agree',\n",
    "                 'Assessment and feedback':'s3 Agree', 'Academic support':'s4 Agree',\n",
    "                 'Organisation and management':'s5 Agree', 'Learning resources':'s6 Agree',\n",
    "                 'Learning community':'s7 Agree', 'Student voice':'s8 Agree'}"
   ]
  },
  {
   "cell_type": "code",
   "execution_count": 37,
   "metadata": {},
   "outputs": [],
   "source": [
    "scale_dict = {'s1 Agree':'The teaching on my course', 's2 Agree':'Learning opportunities',\n",
    "                 's3 Agree':'Assessment and feedback', 's4 Agree':'Academic support',\n",
    "                 's5 Agree':'Organisation and management', 's6 Agree':'Learning resources',\n",
    "                 's7 Agree':'Learning community', 's8 Agree':'Student voice'}"
   ]
  },
  {
   "cell_type": "code",
   "execution_count": 38,
   "metadata": {},
   "outputs": [
    {
     "data": {
      "text/plain": [
       "['The teaching on my course',\n",
       " 'Learning opportunities',\n",
       " 'Assessment and feedback',\n",
       " 'Academic support',\n",
       " 'Organisation and management',\n",
       " 'Learning resources',\n",
       " 'Learning community',\n",
       " 'Student voice']"
      ]
     },
     "execution_count": 38,
     "metadata": {},
     "output_type": "execute_result"
    }
   ],
   "source": [
    "[v for v in scale_dict.values()]"
   ]
  },
  {
   "cell_type": "code",
   "execution_count": 39,
   "metadata": {},
   "outputs": [
    {
     "data": {
      "text/plain": [
       "['s1 Agree',\n",
       " 's2 Agree',\n",
       " 's3 Agree',\n",
       " 's4 Agree',\n",
       " 's5 Agree',\n",
       " 's6 Agree',\n",
       " 's7 Agree',\n",
       " 's8 Agree']"
      ]
     },
     "execution_count": 39,
     "metadata": {},
     "output_type": "execute_result"
    }
   ],
   "source": [
    "list(scale_dict.keys())"
   ]
  },
  {
   "cell_type": "code",
   "execution_count": null,
   "metadata": {},
   "outputs": [],
   "source": []
  }
 ],
 "metadata": {
  "kernelspec": {
   "display_name": "Python 3",
   "language": "python",
   "name": "python3"
  },
  "language_info": {
   "codemirror_mode": {
    "name": "ipython",
    "version": 3
   },
   "file_extension": ".py",
   "mimetype": "text/x-python",
   "name": "python",
   "nbconvert_exporter": "python",
   "pygments_lexer": "ipython3",
   "version": "3.7.3"
  }
 },
 "nbformat": 4,
 "nbformat_minor": 2
}
