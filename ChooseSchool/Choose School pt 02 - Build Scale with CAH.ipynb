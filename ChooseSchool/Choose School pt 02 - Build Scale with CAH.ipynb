{
 "cells": [
  {
   "cell_type": "code",
   "execution_count": 1,
   "metadata": {},
   "outputs": [],
   "source": [
    "import pandas as pd\n",
    "import numpy as np\n",
    "import matplotlib.pyplot as plt"
   ]
  },
  {
   "cell_type": "code",
   "execution_count": 1,
   "metadata": {},
   "outputs": [],
   "source": [
    "### Explore National Student Survey Scale data and reformat"
   ]
  },
  {
   "cell_type": "code",
   "execution_count": null,
   "metadata": {},
   "outputs": [],
   "source": [
    "data_url = 'https://www.officeforstudents.org.uk/advice-and-guidance/student-information-and-data/national-student-survey-nss/get-the-nss-data/'"
   ]
  },
  {
   "cell_type": "code",
   "execution_count": 2,
   "metadata": {},
   "outputs": [
    {
     "name": "stdout",
     "output_type": "stream",
     "text": [
      "(243080, 18)\n"
     ]
    },
    {
     "data": {
      "text/html": [
       "<div>\n",
       "<style scoped>\n",
       "    .dataframe tbody tr th:only-of-type {\n",
       "        vertical-align: middle;\n",
       "    }\n",
       "\n",
       "    .dataframe tbody tr th {\n",
       "        vertical-align: top;\n",
       "    }\n",
       "\n",
       "    .dataframe thead th {\n",
       "        text-align: right;\n",
       "    }\n",
       "</style>\n",
       "<table border=\"1\" class=\"dataframe\">\n",
       "  <thead>\n",
       "    <tr style=\"text-align: right;\">\n",
       "      <th></th>\n",
       "      <th>UKPRN</th>\n",
       "      <th>Provider</th>\n",
       "      <th>Subject Code</th>\n",
       "      <th>Subject</th>\n",
       "      <th>Level</th>\n",
       "      <th>Question Number</th>\n",
       "      <th>Answered 1</th>\n",
       "      <th>Answered 2</th>\n",
       "      <th>Answered 3</th>\n",
       "      <th>Answered 4</th>\n",
       "      <th>Answered 5</th>\n",
       "      <th>N/A</th>\n",
       "      <th>Confidence interval - min</th>\n",
       "      <th>Actual value</th>\n",
       "      <th>Confidence interval - max</th>\n",
       "      <th>Response</th>\n",
       "      <th>Sample Size</th>\n",
       "      <th>Two years aggregate data?</th>\n",
       "    </tr>\n",
       "  </thead>\n",
       "  <tbody>\n",
       "    <tr>\n",
       "      <th>0</th>\n",
       "      <td>10007783</td>\n",
       "      <td>University of Aberdeen</td>\n",
       "      <td>CAH01-01-02</td>\n",
       "      <td>Medicine (non-specific)</td>\n",
       "      <td>First degree</td>\n",
       "      <td>Q01</td>\n",
       "      <td>0.0</td>\n",
       "      <td>0.0202</td>\n",
       "      <td>0.0101</td>\n",
       "      <td>0.5253</td>\n",
       "      <td>0.4444</td>\n",
       "      <td>0</td>\n",
       "      <td>0.9061</td>\n",
       "      <td>0.9697</td>\n",
       "      <td>0.9907</td>\n",
       "      <td>99</td>\n",
       "      <td>173</td>\n",
       "      <td>NaN</td>\n",
       "    </tr>\n",
       "    <tr>\n",
       "      <th>1</th>\n",
       "      <td>10007783</td>\n",
       "      <td>University of Aberdeen</td>\n",
       "      <td>CAH01-01-02</td>\n",
       "      <td>Medicine (non-specific)</td>\n",
       "      <td>First degree</td>\n",
       "      <td>Q02</td>\n",
       "      <td>0.0</td>\n",
       "      <td>0.0000</td>\n",
       "      <td>0.0909</td>\n",
       "      <td>0.5152</td>\n",
       "      <td>0.3939</td>\n",
       "      <td>0</td>\n",
       "      <td>0.8265</td>\n",
       "      <td>0.9091</td>\n",
       "      <td>0.9545</td>\n",
       "      <td>99</td>\n",
       "      <td>173</td>\n",
       "      <td>NaN</td>\n",
       "    </tr>\n",
       "    <tr>\n",
       "      <th>2</th>\n",
       "      <td>10007783</td>\n",
       "      <td>University of Aberdeen</td>\n",
       "      <td>CAH01-01-02</td>\n",
       "      <td>Medicine (non-specific)</td>\n",
       "      <td>First degree</td>\n",
       "      <td>Q03</td>\n",
       "      <td>0.0</td>\n",
       "      <td>0.0202</td>\n",
       "      <td>0.0202</td>\n",
       "      <td>0.1818</td>\n",
       "      <td>0.7778</td>\n",
       "      <td>0</td>\n",
       "      <td>0.8919</td>\n",
       "      <td>0.9596</td>\n",
       "      <td>0.9856</td>\n",
       "      <td>99</td>\n",
       "      <td>173</td>\n",
       "      <td>NaN</td>\n",
       "    </tr>\n",
       "    <tr>\n",
       "      <th>3</th>\n",
       "      <td>10007783</td>\n",
       "      <td>University of Aberdeen</td>\n",
       "      <td>CAH01-01-02</td>\n",
       "      <td>Medicine (non-specific)</td>\n",
       "      <td>First degree</td>\n",
       "      <td>Q04</td>\n",
       "      <td>0.0</td>\n",
       "      <td>0.0303</td>\n",
       "      <td>0.0505</td>\n",
       "      <td>0.3636</td>\n",
       "      <td>0.5556</td>\n",
       "      <td>0</td>\n",
       "      <td>0.8390</td>\n",
       "      <td>0.9192</td>\n",
       "      <td>0.9613</td>\n",
       "      <td>99</td>\n",
       "      <td>173</td>\n",
       "      <td>NaN</td>\n",
       "    </tr>\n",
       "    <tr>\n",
       "      <th>4</th>\n",
       "      <td>10007783</td>\n",
       "      <td>University of Aberdeen</td>\n",
       "      <td>CAH01-01-02</td>\n",
       "      <td>Medicine (non-specific)</td>\n",
       "      <td>First degree</td>\n",
       "      <td>Scale01</td>\n",
       "      <td>0.0</td>\n",
       "      <td>0.0177</td>\n",
       "      <td>0.0429</td>\n",
       "      <td>0.3965</td>\n",
       "      <td>0.5429</td>\n",
       "      <td>0</td>\n",
       "      <td>0.8648</td>\n",
       "      <td>0.9394</td>\n",
       "      <td>0.9741</td>\n",
       "      <td>99</td>\n",
       "      <td>173</td>\n",
       "      <td>NaN</td>\n",
       "    </tr>\n",
       "  </tbody>\n",
       "</table>\n",
       "</div>"
      ],
      "text/plain": [
       "      UKPRN                Provider Subject Code                  Subject  \\\n",
       "0  10007783  University of Aberdeen  CAH01-01-02  Medicine (non-specific)   \n",
       "1  10007783  University of Aberdeen  CAH01-01-02  Medicine (non-specific)   \n",
       "2  10007783  University of Aberdeen  CAH01-01-02  Medicine (non-specific)   \n",
       "3  10007783  University of Aberdeen  CAH01-01-02  Medicine (non-specific)   \n",
       "4  10007783  University of Aberdeen  CAH01-01-02  Medicine (non-specific)   \n",
       "\n",
       "          Level Question Number  Answered 1  Answered 2  Answered 3  \\\n",
       "0  First degree             Q01         0.0      0.0202      0.0101   \n",
       "1  First degree             Q02         0.0      0.0000      0.0909   \n",
       "2  First degree             Q03         0.0      0.0202      0.0202   \n",
       "3  First degree             Q04         0.0      0.0303      0.0505   \n",
       "4  First degree         Scale01         0.0      0.0177      0.0429   \n",
       "\n",
       "   Answered 4  Answered 5  N/A  Confidence interval - min  Actual value  \\\n",
       "0      0.5253      0.4444    0                     0.9061        0.9697   \n",
       "1      0.5152      0.3939    0                     0.8265        0.9091   \n",
       "2      0.1818      0.7778    0                     0.8919        0.9596   \n",
       "3      0.3636      0.5556    0                     0.8390        0.9192   \n",
       "4      0.3965      0.5429    0                     0.8648        0.9394   \n",
       "\n",
       "   Confidence interval - max  Response  Sample Size Two years aggregate data?  \n",
       "0                     0.9907        99          173                       NaN  \n",
       "1                     0.9545        99          173                       NaN  \n",
       "2                     0.9856        99          173                       NaN  \n",
       "3                     0.9613        99          173                       NaN  \n",
       "4                     0.9741        99          173                       NaN  "
      ]
     },
     "execution_count": 2,
     "metadata": {},
     "output_type": "execute_result"
    }
   ],
   "source": [
    "aorig = pd.read_excel('NSS Answers Stats.xlsx', sheet_name='NSSFULLTIME3', skiprows=3)\n",
    "\n",
    "print(aorig.shape)\n",
    "aorig.head()"
   ]
  },
  {
   "cell_type": "code",
   "execution_count": 3,
   "metadata": {},
   "outputs": [
    {
     "name": "stdout",
     "output_type": "stream",
     "text": [
      "<class 'pandas.core.frame.DataFrame'>\n",
      "RangeIndex: 243080 entries, 0 to 243079\n",
      "Data columns (total 18 columns):\n",
      "UKPRN                        243080 non-null int64\n",
      "Provider                     243080 non-null object\n",
      "Subject Code                 243080 non-null object\n",
      "Subject                      243080 non-null object\n",
      "Level                        243080 non-null object\n",
      "Question Number              243080 non-null object\n",
      "Answered 1                   243080 non-null float64\n",
      "Answered 2                   243080 non-null float64\n",
      "Answered 3                   243080 non-null float64\n",
      "Answered 4                   243080 non-null float64\n",
      "Answered 5                   243080 non-null float64\n",
      "N/A                          243080 non-null int64\n",
      "Confidence interval - min    243080 non-null float64\n",
      "Actual value                 243080 non-null float64\n",
      "Confidence interval - max    243080 non-null float64\n",
      "Response                     243080 non-null int64\n",
      "Sample Size                  243080 non-null int64\n",
      "Two years aggregate data?    37560 non-null object\n",
      "dtypes: float64(8), int64(4), object(6)\n",
      "memory usage: 33.4+ MB\n"
     ]
    }
   ],
   "source": [
    "# no missing data\n",
    "aorig.info()"
   ]
  },
  {
   "cell_type": "markdown",
   "metadata": {},
   "source": [
    "## Explore Other Undergraduate"
   ]
  },
  {
   "cell_type": "code",
   "execution_count": 4,
   "metadata": {},
   "outputs": [
    {
     "name": "stdout",
     "output_type": "stream",
     "text": [
      "(38914, 18)\n",
      "(204166, 18)\n"
     ]
    }
   ],
   "source": [
    "aother = aorig[aorig.Level == 'Other undergraduate']\n",
    "areg = aorig[aorig.Level == 'First degree']\n",
    "\n",
    "print(aother.shape)\n",
    "print(areg.shape)"
   ]
  },
  {
   "cell_type": "code",
   "execution_count": 5,
   "metadata": {},
   "outputs": [
    {
     "name": "stdout",
     "output_type": "stream",
     "text": [
      "300\n",
      "298\n"
     ]
    }
   ],
   "source": [
    "print(len(aother.Provider.unique()))\n",
    "print(len(areg.Provider.unique()))"
   ]
  },
  {
   "cell_type": "code",
   "execution_count": 6,
   "metadata": {},
   "outputs": [
    {
     "name": "stdout",
     "output_type": "stream",
     "text": [
      "93\n",
      "150\n"
     ]
    }
   ],
   "source": [
    "print(len(aother.Subject.unique()))\n",
    "print(len(areg.Subject.unique()))"
   ]
  },
  {
   "cell_type": "code",
   "execution_count": 7,
   "metadata": {},
   "outputs": [
    {
     "data": {
      "text/plain": [
       "Education                                2940\n",
       "Sport and exercise sciences              2555\n",
       "Computer science                         2205\n",
       "Business studies                         1995\n",
       "Others in subjects allied to medicine    1890\n",
       "Tourism, transport and travel            1785\n",
       "Design studies                           1400\n",
       "Cinematics and photography               1365\n",
       "Management studies                       1294\n",
       "Health studies                           1274\n",
       "Name: Subject, dtype: int64"
      ]
     },
     "execution_count": 7,
     "metadata": {},
     "output_type": "execute_result"
    }
   ],
   "source": [
    "# Other undergraduate is likely more specialized / cert or diploma\n",
    "# should keep\n",
    "aother.Subject.value_counts()[:10]"
   ]
  },
  {
   "cell_type": "code",
   "execution_count": 8,
   "metadata": {},
   "outputs": [
    {
     "data": {
      "text/plain": [
       "Business studies             4375\n",
       "Psychology (non-specific)    4235\n",
       "Sociology                    4130\n",
       "Law                          4095\n",
       "Drama                        4060\n",
       "Design studies               3990\n",
       "Computer science             3850\n",
       "Accounting                   3780\n",
       "Music                        3605\n",
       "Management studies           3535\n",
       "Name: Subject, dtype: int64"
      ]
     },
     "execution_count": 8,
     "metadata": {},
     "output_type": "execute_result"
    }
   ],
   "source": [
    "areg.Subject.value_counts()[:10]"
   ]
  },
  {
   "cell_type": "markdown",
   "metadata": {},
   "source": [
    "## Build Dataset"
   ]
  },
  {
   "cell_type": "code",
   "execution_count": 45,
   "metadata": {},
   "outputs": [
    {
     "data": {
      "text/plain": [
       "151"
      ]
     },
     "execution_count": 45,
     "metadata": {},
     "output_type": "execute_result"
    }
   ],
   "source": [
    "len(aorig.Subject.unique())"
   ]
  },
  {
   "cell_type": "code",
   "execution_count": 46,
   "metadata": {},
   "outputs": [
    {
     "name": "stdout",
     "output_type": "stream",
     "text": [
      "(68614, 18)\n"
     ]
    },
    {
     "data": {
      "text/html": [
       "<div>\n",
       "<style scoped>\n",
       "    .dataframe tbody tr th:only-of-type {\n",
       "        vertical-align: middle;\n",
       "    }\n",
       "\n",
       "    .dataframe tbody tr th {\n",
       "        vertical-align: top;\n",
       "    }\n",
       "\n",
       "    .dataframe thead th {\n",
       "        text-align: right;\n",
       "    }\n",
       "</style>\n",
       "<table border=\"1\" class=\"dataframe\">\n",
       "  <thead>\n",
       "    <tr style=\"text-align: right;\">\n",
       "      <th></th>\n",
       "      <th>UKPRN</th>\n",
       "      <th>Provider</th>\n",
       "      <th>Subject Code</th>\n",
       "      <th>Subject</th>\n",
       "      <th>Level</th>\n",
       "      <th>Question Number</th>\n",
       "      <th>Answered 1</th>\n",
       "      <th>Answered 2</th>\n",
       "      <th>Answered 3</th>\n",
       "      <th>Answered 4</th>\n",
       "      <th>Answered 5</th>\n",
       "      <th>N/A</th>\n",
       "      <th>Confidence interval - min</th>\n",
       "      <th>Actual value</th>\n",
       "      <th>Confidence interval - max</th>\n",
       "      <th>Response</th>\n",
       "      <th>Sample Size</th>\n",
       "      <th>Two years aggregate data?</th>\n",
       "    </tr>\n",
       "  </thead>\n",
       "  <tbody>\n",
       "    <tr>\n",
       "      <th>4</th>\n",
       "      <td>10007783</td>\n",
       "      <td>University of Aberdeen</td>\n",
       "      <td>CAH01-01-02</td>\n",
       "      <td>Medicine (non-specific)</td>\n",
       "      <td>First degree</td>\n",
       "      <td>Scale01</td>\n",
       "      <td>0.0000</td>\n",
       "      <td>0.0177</td>\n",
       "      <td>0.0429</td>\n",
       "      <td>0.3965</td>\n",
       "      <td>0.5429</td>\n",
       "      <td>0</td>\n",
       "      <td>0.8648</td>\n",
       "      <td>0.9394</td>\n",
       "      <td>0.9741</td>\n",
       "      <td>99</td>\n",
       "      <td>173</td>\n",
       "      <td>NaN</td>\n",
       "    </tr>\n",
       "    <tr>\n",
       "      <th>8</th>\n",
       "      <td>10007783</td>\n",
       "      <td>University of Aberdeen</td>\n",
       "      <td>CAH01-01-02</td>\n",
       "      <td>Medicine (non-specific)</td>\n",
       "      <td>First degree</td>\n",
       "      <td>Scale02</td>\n",
       "      <td>0.0034</td>\n",
       "      <td>0.0303</td>\n",
       "      <td>0.0505</td>\n",
       "      <td>0.2997</td>\n",
       "      <td>0.6162</td>\n",
       "      <td>0</td>\n",
       "      <td>0.8348</td>\n",
       "      <td>0.9158</td>\n",
       "      <td>0.9590</td>\n",
       "      <td>99</td>\n",
       "      <td>173</td>\n",
       "      <td>NaN</td>\n",
       "    </tr>\n",
       "  </tbody>\n",
       "</table>\n",
       "</div>"
      ],
      "text/plain": [
       "      UKPRN                Provider Subject Code                  Subject  \\\n",
       "4  10007783  University of Aberdeen  CAH01-01-02  Medicine (non-specific)   \n",
       "8  10007783  University of Aberdeen  CAH01-01-02  Medicine (non-specific)   \n",
       "\n",
       "          Level Question Number  Answered 1  Answered 2  Answered 3  \\\n",
       "4  First degree         Scale01      0.0000      0.0177      0.0429   \n",
       "8  First degree         Scale02      0.0034      0.0303      0.0505   \n",
       "\n",
       "   Answered 4  Answered 5  N/A  Confidence interval - min  Actual value  \\\n",
       "4      0.3965      0.5429    0                     0.8648        0.9394   \n",
       "8      0.2997      0.6162    0                     0.8348        0.9158   \n",
       "\n",
       "   Confidence interval - max  Response  Sample Size Two years aggregate data?  \n",
       "4                     0.9741        99          173                       NaN  \n",
       "8                     0.9590        99          173                       NaN  "
      ]
     },
     "execution_count": 46,
     "metadata": {},
     "output_type": "execute_result"
    }
   ],
   "source": [
    "q_keep = ['Scale01','Scale02','Scale03','Scale04','Scale05','Scale06','Scale07','Scale08','Q26','Q27',]\n",
    "\n",
    "aedit = aorig[aorig['Question Number'].isin(q_keep)]\n",
    "\n",
    "print(aedit.shape)\n",
    "aedit.head(2)"
   ]
  },
  {
   "cell_type": "code",
   "execution_count": 47,
   "metadata": {},
   "outputs": [
    {
     "data": {
      "text/plain": [
       "Biosciences (non-specific)                40\n",
       "Physical sciences (non-specific)          40\n",
       "Hair and beauty sciences                  40\n",
       "Welsh studies                             40\n",
       "Forestry and arboriculture                40\n",
       "Others in engineering                     40\n",
       "Materials science                         40\n",
       "Operational research                      40\n",
       "Others in English studies                 40\n",
       "Others in computing                       40\n",
       "Naval architecture                        40\n",
       "Polymers and textiles                     30\n",
       "Minerals technology                       30\n",
       "Celtic studies (non-specific)             20\n",
       "Heritage studies                          20\n",
       "Community nursing                         20\n",
       "Others in Celtic studies                  20\n",
       "Business computing                        10\n",
       "Personal development                      10\n",
       "Business and management (non-specific)    10\n",
       "Name: Subject, dtype: int64"
      ]
     },
     "execution_count": 47,
     "metadata": {},
     "output_type": "execute_result"
    }
   ],
   "source": [
    "# may consider filtering out subjects < 100\n",
    "# 10 rows for questions  == per college; depending on Level\n",
    "aedit['Subject'].value_counts()[-20:]"
   ]
  },
  {
   "cell_type": "code",
   "execution_count": 48,
   "metadata": {},
   "outputs": [
    {
     "name": "stdout",
     "output_type": "stream",
     "text": [
      "37\n"
     ]
    },
    {
     "data": {
      "text/plain": [
       "['Veterinary medicine and dentistry',\n",
       " 'Humanities (non-specific)',\n",
       " 'African and modern Middle Eastern studies',\n",
       " 'Creative arts and design (non-specific)',\n",
       " 'Publishing',\n",
       " 'Combined, general or negotiated studies',\n",
       " 'Landscape design',\n",
       " 'Development studies',\n",
       " 'Maritime technology',\n",
       " 'Food sciences']"
      ]
     },
     "execution_count": 48,
     "metadata": {},
     "output_type": "execute_result"
    }
   ],
   "source": [
    "small_subject = aedit['Subject'].value_counts()\n",
    "small_subject = small_subject[small_subject < 100]\n",
    "\n",
    "print(len(small_subject))\n",
    "small_subject = small_subject.index.tolist()\n",
    "small_subject[:10]"
   ]
  },
  {
   "cell_type": "code",
   "execution_count": 49,
   "metadata": {},
   "outputs": [
    {
     "data": {
      "text/plain": [
       "114"
      ]
     },
     "execution_count": 49,
     "metadata": {},
     "output_type": "execute_result"
    }
   ],
   "source": [
    "# subjects with less than 100 rows removed\n",
    "# i.e. subjects taught at < 10 universities\n",
    "aedit = aedit[aedit.Subject.isin(small_subject) ==False]\n",
    "\n",
    "len(aedit.Subject.unique())"
   ]
  },
  {
   "cell_type": "code",
   "execution_count": 50,
   "metadata": {},
   "outputs": [
    {
     "data": {
      "text/plain": [
       "(66584, 18)"
      ]
     },
     "execution_count": 50,
     "metadata": {},
     "output_type": "execute_result"
    }
   ],
   "source": [
    "aedit = aedit[aedit.Response >= 10]\n",
    "\n",
    "aedit.shape"
   ]
  },
  {
   "cell_type": "code",
   "execution_count": 51,
   "metadata": {},
   "outputs": [
    {
     "data": {
      "text/html": [
       "<div>\n",
       "<style scoped>\n",
       "    .dataframe tbody tr th:only-of-type {\n",
       "        vertical-align: middle;\n",
       "    }\n",
       "\n",
       "    .dataframe tbody tr th {\n",
       "        vertical-align: top;\n",
       "    }\n",
       "\n",
       "    .dataframe thead th {\n",
       "        text-align: right;\n",
       "    }\n",
       "</style>\n",
       "<table border=\"1\" class=\"dataframe\">\n",
       "  <thead>\n",
       "    <tr style=\"text-align: right;\">\n",
       "      <th></th>\n",
       "      <th>UKPRN</th>\n",
       "      <th>Provider</th>\n",
       "      <th>Subject Code</th>\n",
       "      <th>Subject</th>\n",
       "      <th>Level</th>\n",
       "      <th>Question Number</th>\n",
       "      <th>Actual value</th>\n",
       "      <th>Response</th>\n",
       "    </tr>\n",
       "  </thead>\n",
       "  <tbody>\n",
       "    <tr>\n",
       "      <th>4</th>\n",
       "      <td>10007783</td>\n",
       "      <td>University of Aberdeen</td>\n",
       "      <td>CAH01-01-02</td>\n",
       "      <td>Medicine (non-specific)</td>\n",
       "      <td>First degree</td>\n",
       "      <td>Scale01</td>\n",
       "      <td>0.9394</td>\n",
       "      <td>99</td>\n",
       "    </tr>\n",
       "    <tr>\n",
       "      <th>8</th>\n",
       "      <td>10007783</td>\n",
       "      <td>University of Aberdeen</td>\n",
       "      <td>CAH01-01-02</td>\n",
       "      <td>Medicine (non-specific)</td>\n",
       "      <td>First degree</td>\n",
       "      <td>Scale02</td>\n",
       "      <td>0.9158</td>\n",
       "      <td>99</td>\n",
       "    </tr>\n",
       "  </tbody>\n",
       "</table>\n",
       "</div>"
      ],
      "text/plain": [
       "      UKPRN                Provider Subject Code                  Subject  \\\n",
       "4  10007783  University of Aberdeen  CAH01-01-02  Medicine (non-specific)   \n",
       "8  10007783  University of Aberdeen  CAH01-01-02  Medicine (non-specific)   \n",
       "\n",
       "          Level Question Number  Actual value  Response  \n",
       "4  First degree         Scale01        0.9394        99  \n",
       "8  First degree         Scale02        0.9158        99  "
      ]
     },
     "execution_count": 51,
     "metadata": {},
     "output_type": "execute_result"
    }
   ],
   "source": [
    "aedit = aedit[['UKPRN', 'Provider', 'Subject Code', 'Subject', 'Level',\n",
    "               'Question Number','Actual value', 'Response']]\n",
    "\n",
    "aedit.head(2)"
   ]
  },
  {
   "cell_type": "code",
   "execution_count": 52,
   "metadata": {},
   "outputs": [
    {
     "data": {
      "text/html": [
       "<div>\n",
       "<style scoped>\n",
       "    .dataframe tbody tr th:only-of-type {\n",
       "        vertical-align: middle;\n",
       "    }\n",
       "\n",
       "    .dataframe tbody tr th {\n",
       "        vertical-align: top;\n",
       "    }\n",
       "\n",
       "    .dataframe thead th {\n",
       "        text-align: right;\n",
       "    }\n",
       "</style>\n",
       "<table border=\"1\" class=\"dataframe\">\n",
       "  <thead>\n",
       "    <tr style=\"text-align: right;\">\n",
       "      <th></th>\n",
       "      <th>UKPRN</th>\n",
       "      <th>Actual value</th>\n",
       "      <th>Response</th>\n",
       "    </tr>\n",
       "  </thead>\n",
       "  <tbody>\n",
       "    <tr>\n",
       "      <th>count</th>\n",
       "      <td>6.658400e+04</td>\n",
       "      <td>66584.000000</td>\n",
       "      <td>66584.000000</td>\n",
       "    </tr>\n",
       "    <tr>\n",
       "      <th>mean</th>\n",
       "      <td>1.007478e+07</td>\n",
       "      <td>0.776012</td>\n",
       "      <td>52.889072</td>\n",
       "    </tr>\n",
       "    <tr>\n",
       "      <th>std</th>\n",
       "      <td>2.465184e+06</td>\n",
       "      <td>0.140677</td>\n",
       "      <td>61.915694</td>\n",
       "    </tr>\n",
       "    <tr>\n",
       "      <th>min</th>\n",
       "      <td>1.000006e+07</td>\n",
       "      <td>0.000000</td>\n",
       "      <td>10.000000</td>\n",
       "    </tr>\n",
       "    <tr>\n",
       "      <th>25%</th>\n",
       "      <td>1.000480e+07</td>\n",
       "      <td>0.702200</td>\n",
       "      <td>16.000000</td>\n",
       "    </tr>\n",
       "    <tr>\n",
       "      <th>50%</th>\n",
       "      <td>1.000716e+07</td>\n",
       "      <td>0.801100</td>\n",
       "      <td>30.000000</td>\n",
       "    </tr>\n",
       "    <tr>\n",
       "      <th>75%</th>\n",
       "      <td>1.000780e+07</td>\n",
       "      <td>0.876500</td>\n",
       "      <td>65.000000</td>\n",
       "    </tr>\n",
       "    <tr>\n",
       "      <th>max</th>\n",
       "      <td>1.000000e+08</td>\n",
       "      <td>1.000000</td>\n",
       "      <td>1514.000000</td>\n",
       "    </tr>\n",
       "  </tbody>\n",
       "</table>\n",
       "</div>"
      ],
      "text/plain": [
       "              UKPRN  Actual value      Response\n",
       "count  6.658400e+04  66584.000000  66584.000000\n",
       "mean   1.007478e+07      0.776012     52.889072\n",
       "std    2.465184e+06      0.140677     61.915694\n",
       "min    1.000006e+07      0.000000     10.000000\n",
       "25%    1.000480e+07      0.702200     16.000000\n",
       "50%    1.000716e+07      0.801100     30.000000\n",
       "75%    1.000780e+07      0.876500     65.000000\n",
       "max    1.000000e+08      1.000000   1514.000000"
      ]
     },
     "execution_count": 52,
     "metadata": {},
     "output_type": "execute_result"
    }
   ],
   "source": [
    "aedit.describe()"
   ]
  },
  {
   "cell_type": "code",
   "execution_count": 55,
   "metadata": {},
   "outputs": [
    {
     "name": "stdout",
     "output_type": "stream",
     "text": [
      "Schools remaining: 445\n",
      "Subjects remaining: 114\n",
      "First degree           55931\n",
      "Other undergraduate    10653\n",
      "Name: Level, dtype: int64\n"
     ]
    }
   ],
   "source": [
    "# remaining features\n",
    "print(f\"Schools remaining: {len(aedit.Provider.unique())}\")\n",
    "print(f\"Subjects remaining: {len(aedit.Subject.unique())}\")\n",
    "print(aedit.Level.value_counts())"
   ]
  },
  {
   "cell_type": "markdown",
   "metadata": {},
   "source": [
    "## Add country"
   ]
  },
  {
   "cell_type": "code",
   "execution_count": 57,
   "metadata": {},
   "outputs": [
    {
     "data": {
      "text/html": [
       "<div>\n",
       "<style scoped>\n",
       "    .dataframe tbody tr th:only-of-type {\n",
       "        vertical-align: middle;\n",
       "    }\n",
       "\n",
       "    .dataframe tbody tr th {\n",
       "        vertical-align: top;\n",
       "    }\n",
       "\n",
       "    .dataframe thead th {\n",
       "        text-align: right;\n",
       "    }\n",
       "</style>\n",
       "<table border=\"1\" class=\"dataframe\">\n",
       "  <thead>\n",
       "    <tr style=\"text-align: right;\">\n",
       "      <th></th>\n",
       "      <th>UKPRN</th>\n",
       "      <th>Provider</th>\n",
       "      <th>Agree (%)</th>\n",
       "      <th>Benchmark (%)</th>\n",
       "      <th>+/-</th>\n",
       "      <th>Agree (%).1</th>\n",
       "      <th>Benchmark (%).1</th>\n",
       "      <th>+/-.1</th>\n",
       "      <th>Agree (%).2</th>\n",
       "      <th>Benchmark (%).2</th>\n",
       "      <th>+/-.2</th>\n",
       "      <th>Agree (%).3</th>\n",
       "      <th>Benchmark (%).3</th>\n",
       "      <th>+/-.3</th>\n",
       "      <th>Country</th>\n",
       "    </tr>\n",
       "  </thead>\n",
       "  <tbody>\n",
       "    <tr>\n",
       "      <th>0</th>\n",
       "      <td>10007783</td>\n",
       "      <td>University of Aberdeen</td>\n",
       "      <td>85.40</td>\n",
       "      <td>85.00</td>\n",
       "      <td>NaN</td>\n",
       "      <td>85.40</td>\n",
       "      <td>85.00</td>\n",
       "      <td>NaN</td>\n",
       "      <td>86.39</td>\n",
       "      <td>84.91</td>\n",
       "      <td>NaN</td>\n",
       "      <td>86.39</td>\n",
       "      <td>84.91</td>\n",
       "      <td>NaN</td>\n",
       "      <td>Scotland</td>\n",
       "    </tr>\n",
       "    <tr>\n",
       "      <th>1</th>\n",
       "      <td>10007849</td>\n",
       "      <td>University of Abertay Dundee</td>\n",
       "      <td>81.64</td>\n",
       "      <td>84.14</td>\n",
       "      <td>NaN</td>\n",
       "      <td>81.64</td>\n",
       "      <td>84.14</td>\n",
       "      <td>NaN</td>\n",
       "      <td>87.44</td>\n",
       "      <td>83.89</td>\n",
       "      <td>NaN</td>\n",
       "      <td>87.44</td>\n",
       "      <td>83.89</td>\n",
       "      <td>NaN</td>\n",
       "      <td>Scotland</td>\n",
       "    </tr>\n",
       "  </tbody>\n",
       "</table>\n",
       "</div>"
      ],
      "text/plain": [
       "      UKPRN                      Provider  Agree (%)  Benchmark (%)  +/-  \\\n",
       "0  10007783        University of Aberdeen      85.40          85.00  NaN   \n",
       "1  10007849  University of Abertay Dundee      81.64          84.14  NaN   \n",
       "\n",
       "   Agree (%).1  Benchmark (%).1 +/-.1  Agree (%).2  Benchmark (%).2 +/-.2  \\\n",
       "0        85.40            85.00   NaN        86.39            84.91   NaN   \n",
       "1        81.64            84.14   NaN        87.44            83.89   NaN   \n",
       "\n",
       "   Agree (%).3  Benchmark (%).3 +/-.3   Country  \n",
       "0        86.39            84.91   NaN  Scotland  \n",
       "1        87.44            83.89   NaN  Scotland  "
      ]
     },
     "execution_count": 57,
     "metadata": {},
     "output_type": "execute_result"
    }
   ],
   "source": [
    "cn_df = pd.read_excel('NSS Answers.xlsx', sheet_name='Scale 1', skiprows=4)\n",
    "\n",
    "cn_df.head(2)"
   ]
  },
  {
   "cell_type": "code",
   "execution_count": 59,
   "metadata": {},
   "outputs": [
    {
     "name": "stdout",
     "output_type": "stream",
     "text": [
      "<class 'pandas.core.frame.DataFrame'>\n",
      "RangeIndex: 451 entries, 0 to 450\n",
      "Data columns (total 2 columns):\n",
      "UKPRN      451 non-null int64\n",
      "Country    451 non-null object\n",
      "dtypes: int64(1), object(1)\n",
      "memory usage: 7.1+ KB\n"
     ]
    }
   ],
   "source": [
    "cn_df = cn_df[['UKPRN', 'Country']]\n",
    "\n",
    "cn_df.info()"
   ]
  },
  {
   "cell_type": "code",
   "execution_count": 60,
   "metadata": {},
   "outputs": [
    {
     "name": "stdout",
     "output_type": "stream",
     "text": [
      "<class 'pandas.core.frame.DataFrame'>\n",
      "Int64Index: 66177 entries, 0 to 66176\n",
      "Data columns (total 9 columns):\n",
      "UKPRN              66177 non-null int64\n",
      "Provider           66177 non-null object\n",
      "Subject Code       66177 non-null object\n",
      "Subject            66177 non-null object\n",
      "Level              66177 non-null object\n",
      "Question Number    66177 non-null object\n",
      "Actual value       66177 non-null float64\n",
      "Response           66177 non-null int64\n",
      "Country            66177 non-null object\n",
      "dtypes: float64(1), int64(2), object(6)\n",
      "memory usage: 5.0+ MB\n",
      "None\n"
     ]
    },
    {
     "data": {
      "text/html": [
       "<div>\n",
       "<style scoped>\n",
       "    .dataframe tbody tr th:only-of-type {\n",
       "        vertical-align: middle;\n",
       "    }\n",
       "\n",
       "    .dataframe tbody tr th {\n",
       "        vertical-align: top;\n",
       "    }\n",
       "\n",
       "    .dataframe thead th {\n",
       "        text-align: right;\n",
       "    }\n",
       "</style>\n",
       "<table border=\"1\" class=\"dataframe\">\n",
       "  <thead>\n",
       "    <tr style=\"text-align: right;\">\n",
       "      <th></th>\n",
       "      <th>UKPRN</th>\n",
       "      <th>Provider</th>\n",
       "      <th>Subject Code</th>\n",
       "      <th>Subject</th>\n",
       "      <th>Level</th>\n",
       "      <th>Question Number</th>\n",
       "      <th>Actual value</th>\n",
       "      <th>Response</th>\n",
       "      <th>Country</th>\n",
       "    </tr>\n",
       "  </thead>\n",
       "  <tbody>\n",
       "    <tr>\n",
       "      <th>0</th>\n",
       "      <td>10007783</td>\n",
       "      <td>University of Aberdeen</td>\n",
       "      <td>CAH01-01-02</td>\n",
       "      <td>Medicine (non-specific)</td>\n",
       "      <td>First degree</td>\n",
       "      <td>Scale01</td>\n",
       "      <td>0.9394</td>\n",
       "      <td>99</td>\n",
       "      <td>Scotland</td>\n",
       "    </tr>\n",
       "    <tr>\n",
       "      <th>1</th>\n",
       "      <td>10007783</td>\n",
       "      <td>University of Aberdeen</td>\n",
       "      <td>CAH01-01-02</td>\n",
       "      <td>Medicine (non-specific)</td>\n",
       "      <td>First degree</td>\n",
       "      <td>Scale02</td>\n",
       "      <td>0.9158</td>\n",
       "      <td>99</td>\n",
       "      <td>Scotland</td>\n",
       "    </tr>\n",
       "  </tbody>\n",
       "</table>\n",
       "</div>"
      ],
      "text/plain": [
       "      UKPRN                Provider Subject Code                  Subject  \\\n",
       "0  10007783  University of Aberdeen  CAH01-01-02  Medicine (non-specific)   \n",
       "1  10007783  University of Aberdeen  CAH01-01-02  Medicine (non-specific)   \n",
       "\n",
       "          Level Question Number  Actual value  Response   Country  \n",
       "0  First degree         Scale01        0.9394        99  Scotland  \n",
       "1  First degree         Scale02        0.9158        99  Scotland  "
      ]
     },
     "execution_count": 60,
     "metadata": {},
     "output_type": "execute_result"
    }
   ],
   "source": [
    "aedit = pd.merge(aedit, cn_df, on='UKPRN')\n",
    "\n",
    "print(aedit.info())\n",
    "aedit.head(2)"
   ]
  },
  {
   "cell_type": "code",
   "execution_count": 61,
   "metadata": {},
   "outputs": [],
   "source": [
    "# aedit.to_csv('he_choose_detail.csv')"
   ]
  },
  {
   "cell_type": "code",
   "execution_count": 62,
   "metadata": {},
   "outputs": [
    {
     "data": {
      "text/plain": [
       "array(['First degree', 'Other undergraduate'], dtype=object)"
      ]
     },
     "execution_count": 62,
     "metadata": {},
     "output_type": "execute_result"
    }
   ],
   "source": [
    "aedit.Level.unique()"
   ]
  },
  {
   "cell_type": "code",
   "execution_count": 66,
   "metadata": {},
   "outputs": [
    {
     "data": {
      "text/html": [
       "<div>\n",
       "<style scoped>\n",
       "    .dataframe tbody tr th:only-of-type {\n",
       "        vertical-align: middle;\n",
       "    }\n",
       "\n",
       "    .dataframe tbody tr th {\n",
       "        vertical-align: top;\n",
       "    }\n",
       "\n",
       "    .dataframe thead th {\n",
       "        text-align: right;\n",
       "    }\n",
       "</style>\n",
       "<table border=\"1\" class=\"dataframe\">\n",
       "  <thead>\n",
       "    <tr style=\"text-align: right;\">\n",
       "      <th></th>\n",
       "      <th></th>\n",
       "      <th>Response</th>\n",
       "    </tr>\n",
       "    <tr>\n",
       "      <th>Country</th>\n",
       "      <th>Level</th>\n",
       "      <th></th>\n",
       "    </tr>\n",
       "  </thead>\n",
       "  <tbody>\n",
       "    <tr>\n",
       "      <th rowspan=\"2\" valign=\"top\">England</th>\n",
       "      <th>First degree</th>\n",
       "      <td>2749300</td>\n",
       "    </tr>\n",
       "    <tr>\n",
       "      <th>Other undergraduate</th>\n",
       "      <td>216982</td>\n",
       "    </tr>\n",
       "    <tr>\n",
       "      <th rowspan=\"2\" valign=\"top\">Northern Ireland</th>\n",
       "      <th>First degree</th>\n",
       "      <td>72761</td>\n",
       "    </tr>\n",
       "    <tr>\n",
       "      <th>Other undergraduate</th>\n",
       "      <td>8325</td>\n",
       "    </tr>\n",
       "    <tr>\n",
       "      <th rowspan=\"2\" valign=\"top\">Scotland</th>\n",
       "      <th>First degree</th>\n",
       "      <td>276436</td>\n",
       "    </tr>\n",
       "    <tr>\n",
       "      <th>Other undergraduate</th>\n",
       "      <td>2355</td>\n",
       "    </tr>\n",
       "    <tr>\n",
       "      <th rowspan=\"2\" valign=\"top\">Wales</th>\n",
       "      <th>First degree</th>\n",
       "      <td>165697</td>\n",
       "    </tr>\n",
       "    <tr>\n",
       "      <th>Other undergraduate</th>\n",
       "      <td>12636</td>\n",
       "    </tr>\n",
       "  </tbody>\n",
       "</table>\n",
       "</div>"
      ],
      "text/plain": [
       "                                      Response\n",
       "Country          Level                        \n",
       "England          First degree          2749300\n",
       "                 Other undergraduate    216982\n",
       "Northern Ireland First degree            72761\n",
       "                 Other undergraduate      8325\n",
       "Scotland         First degree           276436\n",
       "                 Other undergraduate      2355\n",
       "Wales            First degree           165697\n",
       "                 Other undergraduate     12636"
      ]
     },
     "execution_count": 66,
     "metadata": {},
     "output_type": "execute_result"
    }
   ],
   "source": [
    "piv_test = pd.pivot_table(aedit, values='Response', index=['Country', 'Level'], aggfunc=np.sum)\n",
    "\n",
    "piv_test"
   ]
  },
  {
   "cell_type": "code",
   "execution_count": 68,
   "metadata": {},
   "outputs": [
    {
     "data": {
      "text/plain": [
       "Scale04    6642\n",
       "Scale02    6642\n",
       "Scale06    6642\n",
       "Scale05    6642\n",
       "Scale03    6642\n",
       "Scale01    6642\n",
       "Scale07    6641\n",
       "Scale08    6637\n",
       "Q27        6629\n",
       "Q26        6418\n",
       "Name: Question Number, dtype: int64"
      ]
     },
     "execution_count": 68,
     "metadata": {},
     "output_type": "execute_result"
    }
   ],
   "source": [
    "aedit['Question Number'].value_counts()"
   ]
  },
  {
   "cell_type": "code",
   "execution_count": null,
   "metadata": {},
   "outputs": [],
   "source": []
  }
 ],
 "metadata": {
  "kernelspec": {
   "display_name": "Python 3",
   "language": "python",
   "name": "python3"
  },
  "language_info": {
   "codemirror_mode": {
    "name": "ipython",
    "version": 3
   },
   "file_extension": ".py",
   "mimetype": "text/x-python",
   "name": "python",
   "nbconvert_exporter": "python",
   "pygments_lexer": "ipython3",
   "version": "3.7.3"
  }
 },
 "nbformat": 4,
 "nbformat_minor": 2
}
