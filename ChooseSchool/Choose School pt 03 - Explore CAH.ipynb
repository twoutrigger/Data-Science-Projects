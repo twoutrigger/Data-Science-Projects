{
 "cells": [
  {
   "cell_type": "code",
   "execution_count": 1,
   "metadata": {},
   "outputs": [],
   "source": [
    "import pandas as pd\n",
    "import numpy as np\n",
    "import matplotlib.pyplot as plt"
   ]
  },
  {
   "cell_type": "code",
   "execution_count": null,
   "metadata": {},
   "outputs": [],
   "source": [
    "### Explore dataset"
   ]
  },
  {
   "cell_type": "code",
   "execution_count": 2,
   "metadata": {},
   "outputs": [
    {
     "name": "stdout",
     "output_type": "stream",
     "text": [
      "(66177, 9)\n"
     ]
    },
    {
     "data": {
      "text/html": [
       "<div>\n",
       "<style scoped>\n",
       "    .dataframe tbody tr th:only-of-type {\n",
       "        vertical-align: middle;\n",
       "    }\n",
       "\n",
       "    .dataframe tbody tr th {\n",
       "        vertical-align: top;\n",
       "    }\n",
       "\n",
       "    .dataframe thead th {\n",
       "        text-align: right;\n",
       "    }\n",
       "</style>\n",
       "<table border=\"1\" class=\"dataframe\">\n",
       "  <thead>\n",
       "    <tr style=\"text-align: right;\">\n",
       "      <th></th>\n",
       "      <th>UKPRN</th>\n",
       "      <th>Provider</th>\n",
       "      <th>Subject Code</th>\n",
       "      <th>Subject</th>\n",
       "      <th>Level</th>\n",
       "      <th>Question Number</th>\n",
       "      <th>Actual value</th>\n",
       "      <th>Response</th>\n",
       "      <th>Country</th>\n",
       "    </tr>\n",
       "  </thead>\n",
       "  <tbody>\n",
       "    <tr>\n",
       "      <th>0</th>\n",
       "      <td>10007783</td>\n",
       "      <td>University of Aberdeen</td>\n",
       "      <td>CAH01-01-02</td>\n",
       "      <td>Medicine (non-specific)</td>\n",
       "      <td>First degree</td>\n",
       "      <td>Scale01</td>\n",
       "      <td>0.9394</td>\n",
       "      <td>99</td>\n",
       "      <td>Scotland</td>\n",
       "    </tr>\n",
       "    <tr>\n",
       "      <th>1</th>\n",
       "      <td>10007783</td>\n",
       "      <td>University of Aberdeen</td>\n",
       "      <td>CAH01-01-02</td>\n",
       "      <td>Medicine (non-specific)</td>\n",
       "      <td>First degree</td>\n",
       "      <td>Scale02</td>\n",
       "      <td>0.9158</td>\n",
       "      <td>99</td>\n",
       "      <td>Scotland</td>\n",
       "    </tr>\n",
       "    <tr>\n",
       "      <th>2</th>\n",
       "      <td>10007783</td>\n",
       "      <td>University of Aberdeen</td>\n",
       "      <td>CAH01-01-02</td>\n",
       "      <td>Medicine (non-specific)</td>\n",
       "      <td>First degree</td>\n",
       "      <td>Scale03</td>\n",
       "      <td>0.6944</td>\n",
       "      <td>99</td>\n",
       "      <td>Scotland</td>\n",
       "    </tr>\n",
       "    <tr>\n",
       "      <th>3</th>\n",
       "      <td>10007783</td>\n",
       "      <td>University of Aberdeen</td>\n",
       "      <td>CAH01-01-02</td>\n",
       "      <td>Medicine (non-specific)</td>\n",
       "      <td>First degree</td>\n",
       "      <td>Scale04</td>\n",
       "      <td>0.8838</td>\n",
       "      <td>99</td>\n",
       "      <td>Scotland</td>\n",
       "    </tr>\n",
       "    <tr>\n",
       "      <th>4</th>\n",
       "      <td>10007783</td>\n",
       "      <td>University of Aberdeen</td>\n",
       "      <td>CAH01-01-02</td>\n",
       "      <td>Medicine (non-specific)</td>\n",
       "      <td>First degree</td>\n",
       "      <td>Scale05</td>\n",
       "      <td>0.8636</td>\n",
       "      <td>99</td>\n",
       "      <td>Scotland</td>\n",
       "    </tr>\n",
       "  </tbody>\n",
       "</table>\n",
       "</div>"
      ],
      "text/plain": [
       "      UKPRN                Provider Subject Code                  Subject  \\\n",
       "0  10007783  University of Aberdeen  CAH01-01-02  Medicine (non-specific)   \n",
       "1  10007783  University of Aberdeen  CAH01-01-02  Medicine (non-specific)   \n",
       "2  10007783  University of Aberdeen  CAH01-01-02  Medicine (non-specific)   \n",
       "3  10007783  University of Aberdeen  CAH01-01-02  Medicine (non-specific)   \n",
       "4  10007783  University of Aberdeen  CAH01-01-02  Medicine (non-specific)   \n",
       "\n",
       "          Level Question Number  Actual value  Response   Country  \n",
       "0  First degree         Scale01        0.9394        99  Scotland  \n",
       "1  First degree         Scale02        0.9158        99  Scotland  \n",
       "2  First degree         Scale03        0.6944        99  Scotland  \n",
       "3  First degree         Scale04        0.8838        99  Scotland  \n",
       "4  First degree         Scale05        0.8636        99  Scotland  "
      ]
     },
     "execution_count": 2,
     "metadata": {},
     "output_type": "execute_result"
    }
   ],
   "source": [
    "aorig = pd.read_csv('he_choose_detail.csv', header=0, index_col=0)\n",
    "\n",
    "print(aorig.shape)\n",
    "aorig.head()"
   ]
  },
  {
   "cell_type": "code",
   "execution_count": 4,
   "metadata": {},
   "outputs": [],
   "source": [
    "test1 = aorig[(aorig['Country'] == 'England') & (aorig['Level'] == 'Other undergraduate') & (aorig['Subject'] == 'Social policy')]"
   ]
  },
  {
   "cell_type": "code",
   "execution_count": 9,
   "metadata": {},
   "outputs": [
    {
     "data": {
      "text/html": [
       "<div>\n",
       "<style scoped>\n",
       "    .dataframe tbody tr th:only-of-type {\n",
       "        vertical-align: middle;\n",
       "    }\n",
       "\n",
       "    .dataframe tbody tr th {\n",
       "        vertical-align: top;\n",
       "    }\n",
       "\n",
       "    .dataframe thead th {\n",
       "        text-align: right;\n",
       "    }\n",
       "</style>\n",
       "<table border=\"1\" class=\"dataframe\">\n",
       "  <thead>\n",
       "    <tr style=\"text-align: right;\">\n",
       "      <th></th>\n",
       "      <th>UKPRN</th>\n",
       "      <th>Provider</th>\n",
       "      <th>Subject Code</th>\n",
       "      <th>Subject</th>\n",
       "      <th>Level</th>\n",
       "      <th>Question Number</th>\n",
       "      <th>Actual value</th>\n",
       "      <th>Response</th>\n",
       "      <th>Country</th>\n",
       "    </tr>\n",
       "  </thead>\n",
       "  <tbody>\n",
       "    <tr>\n",
       "      <th>1237</th>\n",
       "      <td>10004927</td>\n",
       "      <td>Activate Learning</td>\n",
       "      <td>CAH15-01-03</td>\n",
       "      <td>Social policy</td>\n",
       "      <td>Other undergraduate</td>\n",
       "      <td>Q27</td>\n",
       "      <td>0.2857</td>\n",
       "      <td>14</td>\n",
       "      <td>England</td>\n",
       "    </tr>\n",
       "    <tr>\n",
       "      <th>9844</th>\n",
       "      <td>10000975</td>\n",
       "      <td>Buckinghamshire New University</td>\n",
       "      <td>CAH15-01-03</td>\n",
       "      <td>Social policy</td>\n",
       "      <td>Other undergraduate</td>\n",
       "      <td>Q27</td>\n",
       "      <td>0.7059</td>\n",
       "      <td>17</td>\n",
       "      <td>England</td>\n",
       "    </tr>\n",
       "    <tr>\n",
       "      <th>13003</th>\n",
       "      <td>10001378</td>\n",
       "      <td>Chesterfield College</td>\n",
       "      <td>CAH15-01-03</td>\n",
       "      <td>Social policy</td>\n",
       "      <td>Other undergraduate</td>\n",
       "      <td>Q27</td>\n",
       "      <td>0.9091</td>\n",
       "      <td>11</td>\n",
       "      <td>England</td>\n",
       "    </tr>\n",
       "    <tr>\n",
       "      <th>32260</th>\n",
       "      <td>10003863</td>\n",
       "      <td>Leeds Trinity University</td>\n",
       "      <td>CAH15-01-03</td>\n",
       "      <td>Social policy</td>\n",
       "      <td>Other undergraduate</td>\n",
       "      <td>Q27</td>\n",
       "      <td>1.0000</td>\n",
       "      <td>10</td>\n",
       "      <td>England</td>\n",
       "    </tr>\n",
       "    <tr>\n",
       "      <th>49247</th>\n",
       "      <td>10005575</td>\n",
       "      <td>Runshaw College</td>\n",
       "      <td>CAH15-01-03</td>\n",
       "      <td>Social policy</td>\n",
       "      <td>Other undergraduate</td>\n",
       "      <td>Q27</td>\n",
       "      <td>0.9600</td>\n",
       "      <td>18</td>\n",
       "      <td>England</td>\n",
       "    </tr>\n",
       "  </tbody>\n",
       "</table>\n",
       "</div>"
      ],
      "text/plain": [
       "          UKPRN                        Provider Subject Code        Subject  \\\n",
       "1237   10004927               Activate Learning  CAH15-01-03  Social policy   \n",
       "9844   10000975  Buckinghamshire New University  CAH15-01-03  Social policy   \n",
       "13003  10001378            Chesterfield College  CAH15-01-03  Social policy   \n",
       "32260  10003863        Leeds Trinity University  CAH15-01-03  Social policy   \n",
       "49247  10005575                 Runshaw College  CAH15-01-03  Social policy   \n",
       "\n",
       "                     Level Question Number  Actual value  Response  Country  \n",
       "1237   Other undergraduate             Q27        0.2857        14  England  \n",
       "9844   Other undergraduate             Q27        0.7059        17  England  \n",
       "13003  Other undergraduate             Q27        0.9091        11  England  \n",
       "32260  Other undergraduate             Q27        1.0000        10  England  \n",
       "49247  Other undergraduate             Q27        0.9600        18  England  "
      ]
     },
     "execution_count": 9,
     "metadata": {},
     "output_type": "execute_result"
    }
   ],
   "source": [
    "test1[test1['Question Number'] == 'Q27']"
   ]
  },
  {
   "cell_type": "code",
   "execution_count": 10,
   "metadata": {},
   "outputs": [
    {
     "data": {
      "text/html": [
       "<div>\n",
       "<style scoped>\n",
       "    .dataframe tbody tr th:only-of-type {\n",
       "        vertical-align: middle;\n",
       "    }\n",
       "\n",
       "    .dataframe tbody tr th {\n",
       "        vertical-align: top;\n",
       "    }\n",
       "\n",
       "    .dataframe thead th {\n",
       "        text-align: right;\n",
       "    }\n",
       "</style>\n",
       "<table border=\"1\" class=\"dataframe\">\n",
       "  <thead>\n",
       "    <tr style=\"text-align: right;\">\n",
       "      <th></th>\n",
       "      <th>UKPRN</th>\n",
       "      <th>Provider</th>\n",
       "      <th>Subject Code</th>\n",
       "      <th>Subject</th>\n",
       "      <th>Level</th>\n",
       "      <th>Question Number</th>\n",
       "      <th>Actual value</th>\n",
       "      <th>Response</th>\n",
       "      <th>Country</th>\n",
       "    </tr>\n",
       "  </thead>\n",
       "  <tbody>\n",
       "    <tr>\n",
       "      <th>1236</th>\n",
       "      <td>10004927</td>\n",
       "      <td>Activate Learning</td>\n",
       "      <td>CAH15-01-03</td>\n",
       "      <td>Social policy</td>\n",
       "      <td>Other undergraduate</td>\n",
       "      <td>Q26</td>\n",
       "      <td>0.3636</td>\n",
       "      <td>11</td>\n",
       "      <td>England</td>\n",
       "    </tr>\n",
       "    <tr>\n",
       "      <th>9843</th>\n",
       "      <td>10000975</td>\n",
       "      <td>Buckinghamshire New University</td>\n",
       "      <td>CAH15-01-03</td>\n",
       "      <td>Social policy</td>\n",
       "      <td>Other undergraduate</td>\n",
       "      <td>Q26</td>\n",
       "      <td>0.6471</td>\n",
       "      <td>17</td>\n",
       "      <td>England</td>\n",
       "    </tr>\n",
       "    <tr>\n",
       "      <th>49246</th>\n",
       "      <td>10005575</td>\n",
       "      <td>Runshaw College</td>\n",
       "      <td>CAH15-01-03</td>\n",
       "      <td>Social policy</td>\n",
       "      <td>Other undergraduate</td>\n",
       "      <td>Q26</td>\n",
       "      <td>0.6250</td>\n",
       "      <td>17</td>\n",
       "      <td>England</td>\n",
       "    </tr>\n",
       "  </tbody>\n",
       "</table>\n",
       "</div>"
      ],
      "text/plain": [
       "          UKPRN                        Provider Subject Code        Subject  \\\n",
       "1236   10004927               Activate Learning  CAH15-01-03  Social policy   \n",
       "9843   10000975  Buckinghamshire New University  CAH15-01-03  Social policy   \n",
       "49246  10005575                 Runshaw College  CAH15-01-03  Social policy   \n",
       "\n",
       "                     Level Question Number  Actual value  Response  Country  \n",
       "1236   Other undergraduate             Q26        0.3636        11  England  \n",
       "9843   Other undergraduate             Q26        0.6471        17  England  \n",
       "49246  Other undergraduate             Q26        0.6250        17  England  "
      ]
     },
     "execution_count": 10,
     "metadata": {},
     "output_type": "execute_result"
    }
   ],
   "source": [
    "test1[test1['Question Number'] == 'Q26']"
   ]
  },
  {
   "cell_type": "code",
   "execution_count": 11,
   "metadata": {},
   "outputs": [
    {
     "data": {
      "text/plain": [
       "Scale01    5\n",
       "Q27        5\n",
       "Scale06    5\n",
       "Scale04    5\n",
       "Scale07    5\n",
       "Scale03    5\n",
       "Scale02    5\n",
       "Scale05    5\n",
       "Scale08    5\n",
       "Q26        3\n",
       "Name: Question Number, dtype: int64"
      ]
     },
     "execution_count": 11,
     "metadata": {},
     "output_type": "execute_result"
    }
   ],
   "source": [
    "test1['Question Number'].value_counts()"
   ]
  },
  {
   "cell_type": "code",
   "execution_count": 12,
   "metadata": {},
   "outputs": [
    {
     "name": "stdout",
     "output_type": "stream",
     "text": [
      "Scotland has 19 schools\n",
      "Wales has 17 schools\n",
      "England has 380 schools\n",
      "Northern Ireland has 9 schools\n"
     ]
    }
   ],
   "source": [
    "for i in aorig.Country.unique():\n",
    "    schoolnum = len(aorig[aorig.Country == i].Provider.unique())\n",
    "    print(f\"{i} has {schoolnum} schools\")"
   ]
  },
  {
   "cell_type": "code",
   "execution_count": 14,
   "metadata": {},
   "outputs": [
    {
     "name": "stdout",
     "output_type": "stream",
     "text": [
      "(1739, 9)\n"
     ]
    },
    {
     "data": {
      "text/html": [
       "<div>\n",
       "<style scoped>\n",
       "    .dataframe tbody tr th:only-of-type {\n",
       "        vertical-align: middle;\n",
       "    }\n",
       "\n",
       "    .dataframe tbody tr th {\n",
       "        vertical-align: top;\n",
       "    }\n",
       "\n",
       "    .dataframe thead th {\n",
       "        text-align: right;\n",
       "    }\n",
       "</style>\n",
       "<table border=\"1\" class=\"dataframe\">\n",
       "  <thead>\n",
       "    <tr style=\"text-align: right;\">\n",
       "      <th></th>\n",
       "      <th>UKPRN</th>\n",
       "      <th>Provider</th>\n",
       "      <th>Subject Code</th>\n",
       "      <th>Subject</th>\n",
       "      <th>Level</th>\n",
       "      <th>Question Number</th>\n",
       "      <th>Actual value</th>\n",
       "      <th>Response</th>\n",
       "      <th>Country</th>\n",
       "    </tr>\n",
       "  </thead>\n",
       "  <tbody>\n",
       "    <tr>\n",
       "      <th>40630</th>\n",
       "      <td>10020634</td>\n",
       "      <td>North West Regional College</td>\n",
       "      <td>CAH03-02-01</td>\n",
       "      <td>Sport and exercise sciences</td>\n",
       "      <td>Other undergraduate</td>\n",
       "      <td>Scale01</td>\n",
       "      <td>0.9423</td>\n",
       "      <td>13</td>\n",
       "      <td>Northern Ireland</td>\n",
       "    </tr>\n",
       "    <tr>\n",
       "      <th>40631</th>\n",
       "      <td>10020634</td>\n",
       "      <td>North West Regional College</td>\n",
       "      <td>CAH03-02-01</td>\n",
       "      <td>Sport and exercise sciences</td>\n",
       "      <td>Other undergraduate</td>\n",
       "      <td>Scale02</td>\n",
       "      <td>0.9744</td>\n",
       "      <td>13</td>\n",
       "      <td>Northern Ireland</td>\n",
       "    </tr>\n",
       "  </tbody>\n",
       "</table>\n",
       "</div>"
      ],
      "text/plain": [
       "          UKPRN                     Provider Subject Code  \\\n",
       "40630  10020634  North West Regional College  CAH03-02-01   \n",
       "40631  10020634  North West Regional College  CAH03-02-01   \n",
       "\n",
       "                           Subject                Level Question Number  \\\n",
       "40630  Sport and exercise sciences  Other undergraduate         Scale01   \n",
       "40631  Sport and exercise sciences  Other undergraduate         Scale02   \n",
       "\n",
       "       Actual value  Response           Country  \n",
       "40630        0.9423        13  Northern Ireland  \n",
       "40631        0.9744        13  Northern Ireland  "
      ]
     },
     "execution_count": 14,
     "metadata": {},
     "output_type": "execute_result"
    }
   ],
   "source": [
    "ni = aorig[aorig.Country == 'Northern Ireland']\n",
    "\n",
    "print(ni.shape)\n",
    "\n",
    "ni.head(2)"
   ]
  },
  {
   "cell_type": "code",
   "execution_count": 24,
   "metadata": {},
   "outputs": [
    {
     "data": {
      "text/html": [
       "<div>\n",
       "<style scoped>\n",
       "    .dataframe tbody tr th:only-of-type {\n",
       "        vertical-align: middle;\n",
       "    }\n",
       "\n",
       "    .dataframe tbody tr th {\n",
       "        vertical-align: top;\n",
       "    }\n",
       "\n",
       "    .dataframe thead th {\n",
       "        text-align: right;\n",
       "    }\n",
       "</style>\n",
       "<table border=\"1\" class=\"dataframe\">\n",
       "  <thead>\n",
       "    <tr style=\"text-align: right;\">\n",
       "      <th></th>\n",
       "      <th>UKPRN</th>\n",
       "      <th>Provider</th>\n",
       "      <th>Subject Code</th>\n",
       "      <th>Subject</th>\n",
       "      <th>Level</th>\n",
       "      <th>Question Number</th>\n",
       "      <th>Actual value</th>\n",
       "      <th>Response</th>\n",
       "      <th>Country</th>\n",
       "    </tr>\n",
       "  </thead>\n",
       "  <tbody>\n",
       "    <tr>\n",
       "      <th>40660</th>\n",
       "      <td>10020634</td>\n",
       "      <td>North West Regional College</td>\n",
       "      <td>CAH11-01-01</td>\n",
       "      <td>Computer science</td>\n",
       "      <td>Other undergraduate</td>\n",
       "      <td>Scale01</td>\n",
       "      <td>0.9423</td>\n",
       "      <td>13</td>\n",
       "      <td>Northern Ireland</td>\n",
       "    </tr>\n",
       "    <tr>\n",
       "      <th>40661</th>\n",
       "      <td>10020634</td>\n",
       "      <td>North West Regional College</td>\n",
       "      <td>CAH11-01-01</td>\n",
       "      <td>Computer science</td>\n",
       "      <td>Other undergraduate</td>\n",
       "      <td>Scale02</td>\n",
       "      <td>0.9487</td>\n",
       "      <td>13</td>\n",
       "      <td>Northern Ireland</td>\n",
       "    </tr>\n",
       "  </tbody>\n",
       "</table>\n",
       "</div>"
      ],
      "text/plain": [
       "          UKPRN                     Provider Subject Code           Subject  \\\n",
       "40660  10020634  North West Regional College  CAH11-01-01  Computer science   \n",
       "40661  10020634  North West Regional College  CAH11-01-01  Computer science   \n",
       "\n",
       "                     Level Question Number  Actual value  Response  \\\n",
       "40660  Other undergraduate         Scale01        0.9423        13   \n",
       "40661  Other undergraduate         Scale02        0.9487        13   \n",
       "\n",
       "                Country  \n",
       "40660  Northern Ireland  \n",
       "40661  Northern Ireland  "
      ]
     },
     "execution_count": 24,
     "metadata": {},
     "output_type": "execute_result"
    }
   ],
   "source": [
    "ni2 = ni[ni.Subject == 'Computer science']\n",
    "\n",
    "ni2.head(2)"
   ]
  },
  {
   "cell_type": "code",
   "execution_count": 25,
   "metadata": {},
   "outputs": [
    {
     "data": {
      "text/plain": [
       "Scale01    7\n",
       "Q27        7\n",
       "Scale06    7\n",
       "Scale04    7\n",
       "Scale07    7\n",
       "Scale03    7\n",
       "Scale02    7\n",
       "Scale05    7\n",
       "Q26        7\n",
       "Scale08    7\n",
       "Name: Question Number, dtype: int64"
      ]
     },
     "execution_count": 25,
     "metadata": {},
     "output_type": "execute_result"
    }
   ],
   "source": [
    "ni2['Question Number'].value_counts()"
   ]
  },
  {
   "cell_type": "code",
   "execution_count": 26,
   "metadata": {},
   "outputs": [
    {
     "data": {
      "text/plain": [
       "array(['North West Regional College', 'Northern Regional College',\n",
       "       \"Queen's University of Belfast\", 'South Eastern Regional College',\n",
       "       'South West College', 'Southern Regional College',\n",
       "       'University of Ulster'], dtype=object)"
      ]
     },
     "execution_count": 26,
     "metadata": {},
     "output_type": "execute_result"
    }
   ],
   "source": [
    "ni2.Provider.unique()"
   ]
  },
  {
   "cell_type": "code",
   "execution_count": 32,
   "metadata": {},
   "outputs": [
    {
     "data": {
      "text/plain": [
       "Scale01    7\n",
       "Q27        7\n",
       "Scale06    7\n",
       "Scale04    7\n",
       "Scale07    7\n",
       "Scale03    7\n",
       "Scale02    7\n",
       "Scale05    7\n",
       "Q26        7\n",
       "Scale08    7\n",
       "Name: Question Number, dtype: int64"
      ]
     },
     "execution_count": 32,
     "metadata": {},
     "output_type": "execute_result"
    }
   ],
   "source": [
    "ni2['Question Number'].value_counts()"
   ]
  },
  {
   "cell_type": "code",
   "execution_count": 29,
   "metadata": {},
   "outputs": [
    {
     "data": {
      "text/html": [
       "<div>\n",
       "<style scoped>\n",
       "    .dataframe tbody tr th:only-of-type {\n",
       "        vertical-align: middle;\n",
       "    }\n",
       "\n",
       "    .dataframe tbody tr th {\n",
       "        vertical-align: top;\n",
       "    }\n",
       "\n",
       "    .dataframe thead th {\n",
       "        text-align: right;\n",
       "    }\n",
       "</style>\n",
       "<table border=\"1\" class=\"dataframe\">\n",
       "  <thead>\n",
       "    <tr style=\"text-align: right;\">\n",
       "      <th></th>\n",
       "      <th></th>\n",
       "      <th></th>\n",
       "      <th>Response</th>\n",
       "    </tr>\n",
       "    <tr>\n",
       "      <th>Level</th>\n",
       "      <th>Provider</th>\n",
       "      <th>Question Number</th>\n",
       "      <th></th>\n",
       "    </tr>\n",
       "  </thead>\n",
       "  <tbody>\n",
       "    <tr>\n",
       "      <th rowspan=\"20\" valign=\"top\">First degree</th>\n",
       "      <th rowspan=\"10\" valign=\"top\">Queen's University of Belfast</th>\n",
       "      <th>Q26</th>\n",
       "      <td>126</td>\n",
       "    </tr>\n",
       "    <tr>\n",
       "      <th>Q27</th>\n",
       "      <td>131</td>\n",
       "    </tr>\n",
       "    <tr>\n",
       "      <th>Scale01</th>\n",
       "      <td>132</td>\n",
       "    </tr>\n",
       "    <tr>\n",
       "      <th>Scale02</th>\n",
       "      <td>132</td>\n",
       "    </tr>\n",
       "    <tr>\n",
       "      <th>Scale03</th>\n",
       "      <td>132</td>\n",
       "    </tr>\n",
       "    <tr>\n",
       "      <th>Scale04</th>\n",
       "      <td>132</td>\n",
       "    </tr>\n",
       "    <tr>\n",
       "      <th>Scale05</th>\n",
       "      <td>132</td>\n",
       "    </tr>\n",
       "    <tr>\n",
       "      <th>Scale06</th>\n",
       "      <td>132</td>\n",
       "    </tr>\n",
       "    <tr>\n",
       "      <th>Scale07</th>\n",
       "      <td>131</td>\n",
       "    </tr>\n",
       "    <tr>\n",
       "      <th>Scale08</th>\n",
       "      <td>132</td>\n",
       "    </tr>\n",
       "    <tr>\n",
       "      <th rowspan=\"10\" valign=\"top\">University of Ulster</th>\n",
       "      <th>Q26</th>\n",
       "      <td>261</td>\n",
       "    </tr>\n",
       "    <tr>\n",
       "      <th>Q27</th>\n",
       "      <td>272</td>\n",
       "    </tr>\n",
       "    <tr>\n",
       "      <th>Scale01</th>\n",
       "      <td>274</td>\n",
       "    </tr>\n",
       "    <tr>\n",
       "      <th>Scale02</th>\n",
       "      <td>274</td>\n",
       "    </tr>\n",
       "    <tr>\n",
       "      <th>Scale03</th>\n",
       "      <td>274</td>\n",
       "    </tr>\n",
       "    <tr>\n",
       "      <th>Scale04</th>\n",
       "      <td>273</td>\n",
       "    </tr>\n",
       "    <tr>\n",
       "      <th>Scale05</th>\n",
       "      <td>274</td>\n",
       "    </tr>\n",
       "    <tr>\n",
       "      <th>Scale06</th>\n",
       "      <td>274</td>\n",
       "    </tr>\n",
       "    <tr>\n",
       "      <th>Scale07</th>\n",
       "      <td>274</td>\n",
       "    </tr>\n",
       "    <tr>\n",
       "      <th>Scale08</th>\n",
       "      <td>273</td>\n",
       "    </tr>\n",
       "    <tr>\n",
       "      <th rowspan=\"41\" valign=\"top\">Other undergraduate</th>\n",
       "      <th rowspan=\"10\" valign=\"top\">North West Regional College</th>\n",
       "      <th>Q26</th>\n",
       "      <td>12</td>\n",
       "    </tr>\n",
       "    <tr>\n",
       "      <th>Q27</th>\n",
       "      <td>13</td>\n",
       "    </tr>\n",
       "    <tr>\n",
       "      <th>Scale01</th>\n",
       "      <td>13</td>\n",
       "    </tr>\n",
       "    <tr>\n",
       "      <th>Scale02</th>\n",
       "      <td>13</td>\n",
       "    </tr>\n",
       "    <tr>\n",
       "      <th>Scale03</th>\n",
       "      <td>13</td>\n",
       "    </tr>\n",
       "    <tr>\n",
       "      <th>Scale04</th>\n",
       "      <td>13</td>\n",
       "    </tr>\n",
       "    <tr>\n",
       "      <th>Scale05</th>\n",
       "      <td>13</td>\n",
       "    </tr>\n",
       "    <tr>\n",
       "      <th>Scale06</th>\n",
       "      <td>13</td>\n",
       "    </tr>\n",
       "    <tr>\n",
       "      <th>Scale07</th>\n",
       "      <td>13</td>\n",
       "    </tr>\n",
       "    <tr>\n",
       "      <th>Scale08</th>\n",
       "      <td>13</td>\n",
       "    </tr>\n",
       "    <tr>\n",
       "      <th>...</th>\n",
       "      <th>...</th>\n",
       "      <td>...</td>\n",
       "    </tr>\n",
       "    <tr>\n",
       "      <th rowspan=\"10\" valign=\"top\">South Eastern Regional College</th>\n",
       "      <th>Q26</th>\n",
       "      <td>29</td>\n",
       "    </tr>\n",
       "    <tr>\n",
       "      <th>Q27</th>\n",
       "      <td>33</td>\n",
       "    </tr>\n",
       "    <tr>\n",
       "      <th>Scale01</th>\n",
       "      <td>33</td>\n",
       "    </tr>\n",
       "    <tr>\n",
       "      <th>Scale02</th>\n",
       "      <td>33</td>\n",
       "    </tr>\n",
       "    <tr>\n",
       "      <th>Scale03</th>\n",
       "      <td>33</td>\n",
       "    </tr>\n",
       "    <tr>\n",
       "      <th>Scale04</th>\n",
       "      <td>33</td>\n",
       "    </tr>\n",
       "    <tr>\n",
       "      <th>Scale05</th>\n",
       "      <td>33</td>\n",
       "    </tr>\n",
       "    <tr>\n",
       "      <th>Scale06</th>\n",
       "      <td>33</td>\n",
       "    </tr>\n",
       "    <tr>\n",
       "      <th>Scale07</th>\n",
       "      <td>33</td>\n",
       "    </tr>\n",
       "    <tr>\n",
       "      <th>Scale08</th>\n",
       "      <td>33</td>\n",
       "    </tr>\n",
       "    <tr>\n",
       "      <th rowspan=\"10\" valign=\"top\">South West College</th>\n",
       "      <th>Q26</th>\n",
       "      <td>20</td>\n",
       "    </tr>\n",
       "    <tr>\n",
       "      <th>Q27</th>\n",
       "      <td>26</td>\n",
       "    </tr>\n",
       "    <tr>\n",
       "      <th>Scale01</th>\n",
       "      <td>27</td>\n",
       "    </tr>\n",
       "    <tr>\n",
       "      <th>Scale02</th>\n",
       "      <td>27</td>\n",
       "    </tr>\n",
       "    <tr>\n",
       "      <th>Scale03</th>\n",
       "      <td>27</td>\n",
       "    </tr>\n",
       "    <tr>\n",
       "      <th>Scale04</th>\n",
       "      <td>27</td>\n",
       "    </tr>\n",
       "    <tr>\n",
       "      <th>Scale05</th>\n",
       "      <td>27</td>\n",
       "    </tr>\n",
       "    <tr>\n",
       "      <th>Scale06</th>\n",
       "      <td>27</td>\n",
       "    </tr>\n",
       "    <tr>\n",
       "      <th>Scale07</th>\n",
       "      <td>27</td>\n",
       "    </tr>\n",
       "    <tr>\n",
       "      <th>Scale08</th>\n",
       "      <td>27</td>\n",
       "    </tr>\n",
       "    <tr>\n",
       "      <th rowspan=\"10\" valign=\"top\">Southern Regional College</th>\n",
       "      <th>Q26</th>\n",
       "      <td>45</td>\n",
       "    </tr>\n",
       "    <tr>\n",
       "      <th>Q27</th>\n",
       "      <td>46</td>\n",
       "    </tr>\n",
       "    <tr>\n",
       "      <th>Scale01</th>\n",
       "      <td>47</td>\n",
       "    </tr>\n",
       "    <tr>\n",
       "      <th>Scale02</th>\n",
       "      <td>47</td>\n",
       "    </tr>\n",
       "    <tr>\n",
       "      <th>Scale03</th>\n",
       "      <td>47</td>\n",
       "    </tr>\n",
       "    <tr>\n",
       "      <th>Scale04</th>\n",
       "      <td>47</td>\n",
       "    </tr>\n",
       "    <tr>\n",
       "      <th>Scale05</th>\n",
       "      <td>47</td>\n",
       "    </tr>\n",
       "    <tr>\n",
       "      <th>Scale06</th>\n",
       "      <td>47</td>\n",
       "    </tr>\n",
       "    <tr>\n",
       "      <th>Scale07</th>\n",
       "      <td>47</td>\n",
       "    </tr>\n",
       "    <tr>\n",
       "      <th>Scale08</th>\n",
       "      <td>47</td>\n",
       "    </tr>\n",
       "  </tbody>\n",
       "</table>\n",
       "<p>70 rows × 1 columns</p>\n",
       "</div>"
      ],
      "text/plain": [
       "                                                                    Response\n",
       "Level               Provider                       Question Number          \n",
       "First degree        Queen's University of Belfast  Q26                   126\n",
       "                                                   Q27                   131\n",
       "                                                   Scale01               132\n",
       "                                                   Scale02               132\n",
       "                                                   Scale03               132\n",
       "                                                   Scale04               132\n",
       "                                                   Scale05               132\n",
       "                                                   Scale06               132\n",
       "                                                   Scale07               131\n",
       "                                                   Scale08               132\n",
       "                    University of Ulster           Q26                   261\n",
       "                                                   Q27                   272\n",
       "                                                   Scale01               274\n",
       "                                                   Scale02               274\n",
       "                                                   Scale03               274\n",
       "                                                   Scale04               273\n",
       "                                                   Scale05               274\n",
       "                                                   Scale06               274\n",
       "                                                   Scale07               274\n",
       "                                                   Scale08               273\n",
       "Other undergraduate North West Regional College    Q26                    12\n",
       "                                                   Q27                    13\n",
       "                                                   Scale01                13\n",
       "                                                   Scale02                13\n",
       "                                                   Scale03                13\n",
       "                                                   Scale04                13\n",
       "                                                   Scale05                13\n",
       "                                                   Scale06                13\n",
       "                                                   Scale07                13\n",
       "                                                   Scale08                13\n",
       "...                                                                      ...\n",
       "                    South Eastern Regional College Q26                    29\n",
       "                                                   Q27                    33\n",
       "                                                   Scale01                33\n",
       "                                                   Scale02                33\n",
       "                                                   Scale03                33\n",
       "                                                   Scale04                33\n",
       "                                                   Scale05                33\n",
       "                                                   Scale06                33\n",
       "                                                   Scale07                33\n",
       "                                                   Scale08                33\n",
       "                    South West College             Q26                    20\n",
       "                                                   Q27                    26\n",
       "                                                   Scale01                27\n",
       "                                                   Scale02                27\n",
       "                                                   Scale03                27\n",
       "                                                   Scale04                27\n",
       "                                                   Scale05                27\n",
       "                                                   Scale06                27\n",
       "                                                   Scale07                27\n",
       "                                                   Scale08                27\n",
       "                    Southern Regional College      Q26                    45\n",
       "                                                   Q27                    46\n",
       "                                                   Scale01                47\n",
       "                                                   Scale02                47\n",
       "                                                   Scale03                47\n",
       "                                                   Scale04                47\n",
       "                                                   Scale05                47\n",
       "                                                   Scale06                47\n",
       "                                                   Scale07                47\n",
       "                                                   Scale08                47\n",
       "\n",
       "[70 rows x 1 columns]"
      ]
     },
     "execution_count": 29,
     "metadata": {},
     "output_type": "execute_result"
    }
   ],
   "source": [
    "ni2_test = pd.pivot_table(ni2, values='Response', index=['Level', 'Provider', 'Question Number'], aggfunc=np.sum)\n",
    "\n",
    "ni2_test"
   ]
  },
  {
   "cell_type": "code",
   "execution_count": 31,
   "metadata": {},
   "outputs": [
    {
     "data": {
      "text/html": [
       "<div>\n",
       "<style scoped>\n",
       "    .dataframe tbody tr th:only-of-type {\n",
       "        vertical-align: middle;\n",
       "    }\n",
       "\n",
       "    .dataframe tbody tr th {\n",
       "        vertical-align: top;\n",
       "    }\n",
       "\n",
       "    .dataframe thead th {\n",
       "        text-align: right;\n",
       "    }\n",
       "</style>\n",
       "<table border=\"1\" class=\"dataframe\">\n",
       "  <thead>\n",
       "    <tr style=\"text-align: right;\">\n",
       "      <th></th>\n",
       "      <th>UKPRN</th>\n",
       "      <th>Provider</th>\n",
       "      <th>Subject Code</th>\n",
       "      <th>Subject</th>\n",
       "      <th>Level</th>\n",
       "      <th>Question Number</th>\n",
       "      <th>Actual value</th>\n",
       "      <th>Response</th>\n",
       "      <th>Country</th>\n",
       "    </tr>\n",
       "  </thead>\n",
       "  <tbody>\n",
       "    <tr>\n",
       "      <th>46498</th>\n",
       "      <td>10005343</td>\n",
       "      <td>Queen's University of Belfast</td>\n",
       "      <td>CAH11-01-01</td>\n",
       "      <td>Computer science</td>\n",
       "      <td>First degree</td>\n",
       "      <td>Scale01</td>\n",
       "      <td>0.7471</td>\n",
       "      <td>132</td>\n",
       "      <td>Northern Ireland</td>\n",
       "    </tr>\n",
       "    <tr>\n",
       "      <th>46499</th>\n",
       "      <td>10005343</td>\n",
       "      <td>Queen's University of Belfast</td>\n",
       "      <td>CAH11-01-01</td>\n",
       "      <td>Computer science</td>\n",
       "      <td>First degree</td>\n",
       "      <td>Scale02</td>\n",
       "      <td>0.7364</td>\n",
       "      <td>132</td>\n",
       "      <td>Northern Ireland</td>\n",
       "    </tr>\n",
       "    <tr>\n",
       "      <th>46500</th>\n",
       "      <td>10005343</td>\n",
       "      <td>Queen's University of Belfast</td>\n",
       "      <td>CAH11-01-01</td>\n",
       "      <td>Computer science</td>\n",
       "      <td>First degree</td>\n",
       "      <td>Scale03</td>\n",
       "      <td>0.5171</td>\n",
       "      <td>132</td>\n",
       "      <td>Northern Ireland</td>\n",
       "    </tr>\n",
       "    <tr>\n",
       "      <th>46501</th>\n",
       "      <td>10005343</td>\n",
       "      <td>Queen's University of Belfast</td>\n",
       "      <td>CAH11-01-01</td>\n",
       "      <td>Computer science</td>\n",
       "      <td>First degree</td>\n",
       "      <td>Scale04</td>\n",
       "      <td>0.6895</td>\n",
       "      <td>132</td>\n",
       "      <td>Northern Ireland</td>\n",
       "    </tr>\n",
       "    <tr>\n",
       "      <th>46502</th>\n",
       "      <td>10005343</td>\n",
       "      <td>Queen's University of Belfast</td>\n",
       "      <td>CAH11-01-01</td>\n",
       "      <td>Computer science</td>\n",
       "      <td>First degree</td>\n",
       "      <td>Scale05</td>\n",
       "      <td>0.6464</td>\n",
       "      <td>132</td>\n",
       "      <td>Northern Ireland</td>\n",
       "    </tr>\n",
       "    <tr>\n",
       "      <th>46503</th>\n",
       "      <td>10005343</td>\n",
       "      <td>Queen's University of Belfast</td>\n",
       "      <td>CAH11-01-01</td>\n",
       "      <td>Computer science</td>\n",
       "      <td>First degree</td>\n",
       "      <td>Scale06</td>\n",
       "      <td>0.8707</td>\n",
       "      <td>132</td>\n",
       "      <td>Northern Ireland</td>\n",
       "    </tr>\n",
       "    <tr>\n",
       "      <th>46504</th>\n",
       "      <td>10005343</td>\n",
       "      <td>Queen's University of Belfast</td>\n",
       "      <td>CAH11-01-01</td>\n",
       "      <td>Computer science</td>\n",
       "      <td>First degree</td>\n",
       "      <td>Scale07</td>\n",
       "      <td>0.6992</td>\n",
       "      <td>131</td>\n",
       "      <td>Northern Ireland</td>\n",
       "    </tr>\n",
       "    <tr>\n",
       "      <th>46505</th>\n",
       "      <td>10005343</td>\n",
       "      <td>Queen's University of Belfast</td>\n",
       "      <td>CAH11-01-01</td>\n",
       "      <td>Computer science</td>\n",
       "      <td>First degree</td>\n",
       "      <td>Scale08</td>\n",
       "      <td>0.6553</td>\n",
       "      <td>132</td>\n",
       "      <td>Northern Ireland</td>\n",
       "    </tr>\n",
       "    <tr>\n",
       "      <th>46506</th>\n",
       "      <td>10005343</td>\n",
       "      <td>Queen's University of Belfast</td>\n",
       "      <td>CAH11-01-01</td>\n",
       "      <td>Computer science</td>\n",
       "      <td>First degree</td>\n",
       "      <td>Q26</td>\n",
       "      <td>0.4343</td>\n",
       "      <td>126</td>\n",
       "      <td>Northern Ireland</td>\n",
       "    </tr>\n",
       "    <tr>\n",
       "      <th>46507</th>\n",
       "      <td>10005343</td>\n",
       "      <td>Queen's University of Belfast</td>\n",
       "      <td>CAH11-01-01</td>\n",
       "      <td>Computer science</td>\n",
       "      <td>First degree</td>\n",
       "      <td>Q27</td>\n",
       "      <td>0.7241</td>\n",
       "      <td>131</td>\n",
       "      <td>Northern Ireland</td>\n",
       "    </tr>\n",
       "  </tbody>\n",
       "</table>\n",
       "</div>"
      ],
      "text/plain": [
       "          UKPRN                       Provider Subject Code           Subject  \\\n",
       "46498  10005343  Queen's University of Belfast  CAH11-01-01  Computer science   \n",
       "46499  10005343  Queen's University of Belfast  CAH11-01-01  Computer science   \n",
       "46500  10005343  Queen's University of Belfast  CAH11-01-01  Computer science   \n",
       "46501  10005343  Queen's University of Belfast  CAH11-01-01  Computer science   \n",
       "46502  10005343  Queen's University of Belfast  CAH11-01-01  Computer science   \n",
       "46503  10005343  Queen's University of Belfast  CAH11-01-01  Computer science   \n",
       "46504  10005343  Queen's University of Belfast  CAH11-01-01  Computer science   \n",
       "46505  10005343  Queen's University of Belfast  CAH11-01-01  Computer science   \n",
       "46506  10005343  Queen's University of Belfast  CAH11-01-01  Computer science   \n",
       "46507  10005343  Queen's University of Belfast  CAH11-01-01  Computer science   \n",
       "\n",
       "              Level Question Number  Actual value  Response           Country  \n",
       "46498  First degree         Scale01        0.7471       132  Northern Ireland  \n",
       "46499  First degree         Scale02        0.7364       132  Northern Ireland  \n",
       "46500  First degree         Scale03        0.5171       132  Northern Ireland  \n",
       "46501  First degree         Scale04        0.6895       132  Northern Ireland  \n",
       "46502  First degree         Scale05        0.6464       132  Northern Ireland  \n",
       "46503  First degree         Scale06        0.8707       132  Northern Ireland  \n",
       "46504  First degree         Scale07        0.6992       131  Northern Ireland  \n",
       "46505  First degree         Scale08        0.6553       132  Northern Ireland  \n",
       "46506  First degree             Q26        0.4343       126  Northern Ireland  \n",
       "46507  First degree             Q27        0.7241       131  Northern Ireland  "
      ]
     },
     "execution_count": 31,
     "metadata": {},
     "output_type": "execute_result"
    }
   ],
   "source": [
    "ni2[ni2.Provider == \"Queen's University of Belfast\"]"
   ]
  },
  {
   "cell_type": "code",
   "execution_count": 34,
   "metadata": {},
   "outputs": [
    {
     "data": {
      "text/plain": [
       "Business studies                         1790\n",
       "Computer science                         1718\n",
       "Education                                1699\n",
       "Sport and exercise sciences              1647\n",
       "Design studies                           1514\n",
       "Drama                                    1484\n",
       "Sociology                                1347\n",
       "Management studies                       1343\n",
       "Music                                    1327\n",
       "Others in subjects allied to medicine    1325\n",
       "Cinematics and photography               1313\n",
       "Psychology (non-specific)                1298\n",
       "Law                                      1243\n",
       "Tourism, transport and travel            1204\n",
       "Accounting                               1110\n",
       "Media studies                            1109\n",
       "Social work                              1064\n",
       "Politics                                 1049\n",
       "Marketing                                 999\n",
       "History                                   978\n",
       "Name: Subject, dtype: int64"
      ]
     },
     "execution_count": 34,
     "metadata": {},
     "output_type": "execute_result"
    }
   ],
   "source": [
    "aorig.Subject.value_counts()[:20]"
   ]
  },
  {
   "cell_type": "code",
   "execution_count": 35,
   "metadata": {},
   "outputs": [
    {
     "data": {
      "text/plain": [
       "3"
      ]
     },
     "execution_count": 35,
     "metadata": {},
     "output_type": "execute_result"
    }
   ],
   "source": [
    "test_set = ['one', 'two', 'three']\n",
    "\n",
    "len(set(test_set))"
   ]
  },
  {
   "cell_type": "code",
   "execution_count": 39,
   "metadata": {},
   "outputs": [
    {
     "data": {
      "text/plain": [
       "2"
      ]
     },
     "execution_count": 39,
     "metadata": {},
     "output_type": "execute_result"
    }
   ],
   "source": [
    "len(set(['one', 'two', 'two']))"
   ]
  },
  {
   "cell_type": "code",
   "execution_count": null,
   "metadata": {},
   "outputs": [],
   "source": []
  },
  {
   "cell_type": "code",
   "execution_count": null,
   "metadata": {},
   "outputs": [],
   "source": []
  },
  {
   "cell_type": "code",
   "execution_count": 3,
   "metadata": {},
   "outputs": [
    {
     "name": "stdout",
     "output_type": "stream",
     "text": [
      "<class 'pandas.core.frame.DataFrame'>\n",
      "RangeIndex: 243080 entries, 0 to 243079\n",
      "Data columns (total 18 columns):\n",
      "UKPRN                        243080 non-null int64\n",
      "Provider                     243080 non-null object\n",
      "Subject Code                 243080 non-null object\n",
      "Subject                      243080 non-null object\n",
      "Level                        243080 non-null object\n",
      "Question Number              243080 non-null object\n",
      "Answered 1                   243080 non-null float64\n",
      "Answered 2                   243080 non-null float64\n",
      "Answered 3                   243080 non-null float64\n",
      "Answered 4                   243080 non-null float64\n",
      "Answered 5                   243080 non-null float64\n",
      "N/A                          243080 non-null int64\n",
      "Confidence interval - min    243080 non-null float64\n",
      "Actual value                 243080 non-null float64\n",
      "Confidence interval - max    243080 non-null float64\n",
      "Response                     243080 non-null int64\n",
      "Sample Size                  243080 non-null int64\n",
      "Two years aggregate data?    37560 non-null object\n",
      "dtypes: float64(8), int64(4), object(6)\n",
      "memory usage: 33.4+ MB\n"
     ]
    }
   ],
   "source": [
    "# no missing data\n",
    "aorig.info()"
   ]
  },
  {
   "cell_type": "markdown",
   "metadata": {},
   "source": [
    "## Explore Other Undergraduate"
   ]
  },
  {
   "cell_type": "code",
   "execution_count": 4,
   "metadata": {},
   "outputs": [
    {
     "name": "stdout",
     "output_type": "stream",
     "text": [
      "(38914, 18)\n",
      "(204166, 18)\n"
     ]
    }
   ],
   "source": [
    "aother = aorig[aorig.Level == 'Other undergraduate']\n",
    "areg = aorig[aorig.Level == 'First degree']\n",
    "\n",
    "print(aother.shape)\n",
    "print(areg.shape)"
   ]
  },
  {
   "cell_type": "code",
   "execution_count": 5,
   "metadata": {},
   "outputs": [
    {
     "name": "stdout",
     "output_type": "stream",
     "text": [
      "300\n",
      "298\n"
     ]
    }
   ],
   "source": [
    "print(len(aother.Provider.unique()))\n",
    "print(len(areg.Provider.unique()))"
   ]
  },
  {
   "cell_type": "code",
   "execution_count": 6,
   "metadata": {},
   "outputs": [
    {
     "name": "stdout",
     "output_type": "stream",
     "text": [
      "93\n",
      "150\n"
     ]
    }
   ],
   "source": [
    "print(len(aother.Subject.unique()))\n",
    "print(len(areg.Subject.unique()))"
   ]
  },
  {
   "cell_type": "code",
   "execution_count": 7,
   "metadata": {},
   "outputs": [
    {
     "data": {
      "text/plain": [
       "Education                                2940\n",
       "Sport and exercise sciences              2555\n",
       "Computer science                         2205\n",
       "Business studies                         1995\n",
       "Others in subjects allied to medicine    1890\n",
       "Tourism, transport and travel            1785\n",
       "Design studies                           1400\n",
       "Cinematics and photography               1365\n",
       "Management studies                       1294\n",
       "Health studies                           1274\n",
       "Name: Subject, dtype: int64"
      ]
     },
     "execution_count": 7,
     "metadata": {},
     "output_type": "execute_result"
    }
   ],
   "source": [
    "# Other undergraduate is likely more specialized / cert or diploma\n",
    "# should keep\n",
    "aother.Subject.value_counts()[:10]"
   ]
  },
  {
   "cell_type": "code",
   "execution_count": 8,
   "metadata": {},
   "outputs": [
    {
     "data": {
      "text/plain": [
       "Business studies             4375\n",
       "Psychology (non-specific)    4235\n",
       "Sociology                    4130\n",
       "Law                          4095\n",
       "Drama                        4060\n",
       "Design studies               3990\n",
       "Computer science             3850\n",
       "Accounting                   3780\n",
       "Music                        3605\n",
       "Management studies           3535\n",
       "Name: Subject, dtype: int64"
      ]
     },
     "execution_count": 8,
     "metadata": {},
     "output_type": "execute_result"
    }
   ],
   "source": [
    "areg.Subject.value_counts()[:10]"
   ]
  },
  {
   "cell_type": "markdown",
   "metadata": {},
   "source": [
    "## Build Dataset"
   ]
  },
  {
   "cell_type": "code",
   "execution_count": 45,
   "metadata": {},
   "outputs": [
    {
     "data": {
      "text/plain": [
       "151"
      ]
     },
     "execution_count": 45,
     "metadata": {},
     "output_type": "execute_result"
    }
   ],
   "source": [
    "len(aorig.Subject.unique())"
   ]
  },
  {
   "cell_type": "code",
   "execution_count": 46,
   "metadata": {},
   "outputs": [
    {
     "name": "stdout",
     "output_type": "stream",
     "text": [
      "(68614, 18)\n"
     ]
    },
    {
     "data": {
      "text/html": [
       "<div>\n",
       "<style scoped>\n",
       "    .dataframe tbody tr th:only-of-type {\n",
       "        vertical-align: middle;\n",
       "    }\n",
       "\n",
       "    .dataframe tbody tr th {\n",
       "        vertical-align: top;\n",
       "    }\n",
       "\n",
       "    .dataframe thead th {\n",
       "        text-align: right;\n",
       "    }\n",
       "</style>\n",
       "<table border=\"1\" class=\"dataframe\">\n",
       "  <thead>\n",
       "    <tr style=\"text-align: right;\">\n",
       "      <th></th>\n",
       "      <th>UKPRN</th>\n",
       "      <th>Provider</th>\n",
       "      <th>Subject Code</th>\n",
       "      <th>Subject</th>\n",
       "      <th>Level</th>\n",
       "      <th>Question Number</th>\n",
       "      <th>Answered 1</th>\n",
       "      <th>Answered 2</th>\n",
       "      <th>Answered 3</th>\n",
       "      <th>Answered 4</th>\n",
       "      <th>Answered 5</th>\n",
       "      <th>N/A</th>\n",
       "      <th>Confidence interval - min</th>\n",
       "      <th>Actual value</th>\n",
       "      <th>Confidence interval - max</th>\n",
       "      <th>Response</th>\n",
       "      <th>Sample Size</th>\n",
       "      <th>Two years aggregate data?</th>\n",
       "    </tr>\n",
       "  </thead>\n",
       "  <tbody>\n",
       "    <tr>\n",
       "      <th>4</th>\n",
       "      <td>10007783</td>\n",
       "      <td>University of Aberdeen</td>\n",
       "      <td>CAH01-01-02</td>\n",
       "      <td>Medicine (non-specific)</td>\n",
       "      <td>First degree</td>\n",
       "      <td>Scale01</td>\n",
       "      <td>0.0000</td>\n",
       "      <td>0.0177</td>\n",
       "      <td>0.0429</td>\n",
       "      <td>0.3965</td>\n",
       "      <td>0.5429</td>\n",
       "      <td>0</td>\n",
       "      <td>0.8648</td>\n",
       "      <td>0.9394</td>\n",
       "      <td>0.9741</td>\n",
       "      <td>99</td>\n",
       "      <td>173</td>\n",
       "      <td>NaN</td>\n",
       "    </tr>\n",
       "    <tr>\n",
       "      <th>8</th>\n",
       "      <td>10007783</td>\n",
       "      <td>University of Aberdeen</td>\n",
       "      <td>CAH01-01-02</td>\n",
       "      <td>Medicine (non-specific)</td>\n",
       "      <td>First degree</td>\n",
       "      <td>Scale02</td>\n",
       "      <td>0.0034</td>\n",
       "      <td>0.0303</td>\n",
       "      <td>0.0505</td>\n",
       "      <td>0.2997</td>\n",
       "      <td>0.6162</td>\n",
       "      <td>0</td>\n",
       "      <td>0.8348</td>\n",
       "      <td>0.9158</td>\n",
       "      <td>0.9590</td>\n",
       "      <td>99</td>\n",
       "      <td>173</td>\n",
       "      <td>NaN</td>\n",
       "    </tr>\n",
       "  </tbody>\n",
       "</table>\n",
       "</div>"
      ],
      "text/plain": [
       "      UKPRN                Provider Subject Code                  Subject  \\\n",
       "4  10007783  University of Aberdeen  CAH01-01-02  Medicine (non-specific)   \n",
       "8  10007783  University of Aberdeen  CAH01-01-02  Medicine (non-specific)   \n",
       "\n",
       "          Level Question Number  Answered 1  Answered 2  Answered 3  \\\n",
       "4  First degree         Scale01      0.0000      0.0177      0.0429   \n",
       "8  First degree         Scale02      0.0034      0.0303      0.0505   \n",
       "\n",
       "   Answered 4  Answered 5  N/A  Confidence interval - min  Actual value  \\\n",
       "4      0.3965      0.5429    0                     0.8648        0.9394   \n",
       "8      0.2997      0.6162    0                     0.8348        0.9158   \n",
       "\n",
       "   Confidence interval - max  Response  Sample Size Two years aggregate data?  \n",
       "4                     0.9741        99          173                       NaN  \n",
       "8                     0.9590        99          173                       NaN  "
      ]
     },
     "execution_count": 46,
     "metadata": {},
     "output_type": "execute_result"
    }
   ],
   "source": [
    "q_keep = ['Scale01','Scale02','Scale03','Scale04','Scale05','Scale06','Scale07','Scale08','Q26','Q27',]\n",
    "\n",
    "aedit = aorig[aorig['Question Number'].isin(q_keep)]\n",
    "\n",
    "print(aedit.shape)\n",
    "aedit.head(2)"
   ]
  },
  {
   "cell_type": "code",
   "execution_count": 47,
   "metadata": {},
   "outputs": [
    {
     "data": {
      "text/plain": [
       "Biosciences (non-specific)                40\n",
       "Physical sciences (non-specific)          40\n",
       "Hair and beauty sciences                  40\n",
       "Welsh studies                             40\n",
       "Forestry and arboriculture                40\n",
       "Others in engineering                     40\n",
       "Materials science                         40\n",
       "Operational research                      40\n",
       "Others in English studies                 40\n",
       "Others in computing                       40\n",
       "Naval architecture                        40\n",
       "Polymers and textiles                     30\n",
       "Minerals technology                       30\n",
       "Celtic studies (non-specific)             20\n",
       "Heritage studies                          20\n",
       "Community nursing                         20\n",
       "Others in Celtic studies                  20\n",
       "Business computing                        10\n",
       "Personal development                      10\n",
       "Business and management (non-specific)    10\n",
       "Name: Subject, dtype: int64"
      ]
     },
     "execution_count": 47,
     "metadata": {},
     "output_type": "execute_result"
    }
   ],
   "source": [
    "# may consider filtering out subjects < 100\n",
    "# 10 rows for questions  == per college; depending on Level\n",
    "aedit['Subject'].value_counts()[-20:]"
   ]
  },
  {
   "cell_type": "code",
   "execution_count": 48,
   "metadata": {},
   "outputs": [
    {
     "name": "stdout",
     "output_type": "stream",
     "text": [
      "37\n"
     ]
    },
    {
     "data": {
      "text/plain": [
       "['Veterinary medicine and dentistry',\n",
       " 'Humanities (non-specific)',\n",
       " 'African and modern Middle Eastern studies',\n",
       " 'Creative arts and design (non-specific)',\n",
       " 'Publishing',\n",
       " 'Combined, general or negotiated studies',\n",
       " 'Landscape design',\n",
       " 'Development studies',\n",
       " 'Maritime technology',\n",
       " 'Food sciences']"
      ]
     },
     "execution_count": 48,
     "metadata": {},
     "output_type": "execute_result"
    }
   ],
   "source": [
    "small_subject = aedit['Subject'].value_counts()\n",
    "small_subject = small_subject[small_subject < 100]\n",
    "\n",
    "print(len(small_subject))\n",
    "small_subject = small_subject.index.tolist()\n",
    "small_subject[:10]"
   ]
  },
  {
   "cell_type": "code",
   "execution_count": 49,
   "metadata": {},
   "outputs": [
    {
     "data": {
      "text/plain": [
       "114"
      ]
     },
     "execution_count": 49,
     "metadata": {},
     "output_type": "execute_result"
    }
   ],
   "source": [
    "# subjects with less than 100 rows removed\n",
    "# i.e. subjects taught at < 10 universities\n",
    "aedit = aedit[aedit.Subject.isin(small_subject) ==False]\n",
    "\n",
    "len(aedit.Subject.unique())"
   ]
  },
  {
   "cell_type": "code",
   "execution_count": 50,
   "metadata": {},
   "outputs": [
    {
     "data": {
      "text/plain": [
       "(66584, 18)"
      ]
     },
     "execution_count": 50,
     "metadata": {},
     "output_type": "execute_result"
    }
   ],
   "source": [
    "aedit = aedit[aedit.Response >= 10]\n",
    "\n",
    "aedit.shape"
   ]
  },
  {
   "cell_type": "code",
   "execution_count": 51,
   "metadata": {},
   "outputs": [
    {
     "data": {
      "text/html": [
       "<div>\n",
       "<style scoped>\n",
       "    .dataframe tbody tr th:only-of-type {\n",
       "        vertical-align: middle;\n",
       "    }\n",
       "\n",
       "    .dataframe tbody tr th {\n",
       "        vertical-align: top;\n",
       "    }\n",
       "\n",
       "    .dataframe thead th {\n",
       "        text-align: right;\n",
       "    }\n",
       "</style>\n",
       "<table border=\"1\" class=\"dataframe\">\n",
       "  <thead>\n",
       "    <tr style=\"text-align: right;\">\n",
       "      <th></th>\n",
       "      <th>UKPRN</th>\n",
       "      <th>Provider</th>\n",
       "      <th>Subject Code</th>\n",
       "      <th>Subject</th>\n",
       "      <th>Level</th>\n",
       "      <th>Question Number</th>\n",
       "      <th>Actual value</th>\n",
       "      <th>Response</th>\n",
       "    </tr>\n",
       "  </thead>\n",
       "  <tbody>\n",
       "    <tr>\n",
       "      <th>4</th>\n",
       "      <td>10007783</td>\n",
       "      <td>University of Aberdeen</td>\n",
       "      <td>CAH01-01-02</td>\n",
       "      <td>Medicine (non-specific)</td>\n",
       "      <td>First degree</td>\n",
       "      <td>Scale01</td>\n",
       "      <td>0.9394</td>\n",
       "      <td>99</td>\n",
       "    </tr>\n",
       "    <tr>\n",
       "      <th>8</th>\n",
       "      <td>10007783</td>\n",
       "      <td>University of Aberdeen</td>\n",
       "      <td>CAH01-01-02</td>\n",
       "      <td>Medicine (non-specific)</td>\n",
       "      <td>First degree</td>\n",
       "      <td>Scale02</td>\n",
       "      <td>0.9158</td>\n",
       "      <td>99</td>\n",
       "    </tr>\n",
       "  </tbody>\n",
       "</table>\n",
       "</div>"
      ],
      "text/plain": [
       "      UKPRN                Provider Subject Code                  Subject  \\\n",
       "4  10007783  University of Aberdeen  CAH01-01-02  Medicine (non-specific)   \n",
       "8  10007783  University of Aberdeen  CAH01-01-02  Medicine (non-specific)   \n",
       "\n",
       "          Level Question Number  Actual value  Response  \n",
       "4  First degree         Scale01        0.9394        99  \n",
       "8  First degree         Scale02        0.9158        99  "
      ]
     },
     "execution_count": 51,
     "metadata": {},
     "output_type": "execute_result"
    }
   ],
   "source": [
    "aedit = aedit[['UKPRN', 'Provider', 'Subject Code', 'Subject', 'Level',\n",
    "               'Question Number','Actual value', 'Response']]\n",
    "\n",
    "aedit.head(2)"
   ]
  },
  {
   "cell_type": "code",
   "execution_count": 52,
   "metadata": {},
   "outputs": [
    {
     "data": {
      "text/html": [
       "<div>\n",
       "<style scoped>\n",
       "    .dataframe tbody tr th:only-of-type {\n",
       "        vertical-align: middle;\n",
       "    }\n",
       "\n",
       "    .dataframe tbody tr th {\n",
       "        vertical-align: top;\n",
       "    }\n",
       "\n",
       "    .dataframe thead th {\n",
       "        text-align: right;\n",
       "    }\n",
       "</style>\n",
       "<table border=\"1\" class=\"dataframe\">\n",
       "  <thead>\n",
       "    <tr style=\"text-align: right;\">\n",
       "      <th></th>\n",
       "      <th>UKPRN</th>\n",
       "      <th>Actual value</th>\n",
       "      <th>Response</th>\n",
       "    </tr>\n",
       "  </thead>\n",
       "  <tbody>\n",
       "    <tr>\n",
       "      <th>count</th>\n",
       "      <td>6.658400e+04</td>\n",
       "      <td>66584.000000</td>\n",
       "      <td>66584.000000</td>\n",
       "    </tr>\n",
       "    <tr>\n",
       "      <th>mean</th>\n",
       "      <td>1.007478e+07</td>\n",
       "      <td>0.776012</td>\n",
       "      <td>52.889072</td>\n",
       "    </tr>\n",
       "    <tr>\n",
       "      <th>std</th>\n",
       "      <td>2.465184e+06</td>\n",
       "      <td>0.140677</td>\n",
       "      <td>61.915694</td>\n",
       "    </tr>\n",
       "    <tr>\n",
       "      <th>min</th>\n",
       "      <td>1.000006e+07</td>\n",
       "      <td>0.000000</td>\n",
       "      <td>10.000000</td>\n",
       "    </tr>\n",
       "    <tr>\n",
       "      <th>25%</th>\n",
       "      <td>1.000480e+07</td>\n",
       "      <td>0.702200</td>\n",
       "      <td>16.000000</td>\n",
       "    </tr>\n",
       "    <tr>\n",
       "      <th>50%</th>\n",
       "      <td>1.000716e+07</td>\n",
       "      <td>0.801100</td>\n",
       "      <td>30.000000</td>\n",
       "    </tr>\n",
       "    <tr>\n",
       "      <th>75%</th>\n",
       "      <td>1.000780e+07</td>\n",
       "      <td>0.876500</td>\n",
       "      <td>65.000000</td>\n",
       "    </tr>\n",
       "    <tr>\n",
       "      <th>max</th>\n",
       "      <td>1.000000e+08</td>\n",
       "      <td>1.000000</td>\n",
       "      <td>1514.000000</td>\n",
       "    </tr>\n",
       "  </tbody>\n",
       "</table>\n",
       "</div>"
      ],
      "text/plain": [
       "              UKPRN  Actual value      Response\n",
       "count  6.658400e+04  66584.000000  66584.000000\n",
       "mean   1.007478e+07      0.776012     52.889072\n",
       "std    2.465184e+06      0.140677     61.915694\n",
       "min    1.000006e+07      0.000000     10.000000\n",
       "25%    1.000480e+07      0.702200     16.000000\n",
       "50%    1.000716e+07      0.801100     30.000000\n",
       "75%    1.000780e+07      0.876500     65.000000\n",
       "max    1.000000e+08      1.000000   1514.000000"
      ]
     },
     "execution_count": 52,
     "metadata": {},
     "output_type": "execute_result"
    }
   ],
   "source": [
    "aedit.describe()"
   ]
  },
  {
   "cell_type": "code",
   "execution_count": 55,
   "metadata": {},
   "outputs": [
    {
     "name": "stdout",
     "output_type": "stream",
     "text": [
      "Schools remaining: 445\n",
      "Subjects remaining: 114\n",
      "First degree           55931\n",
      "Other undergraduate    10653\n",
      "Name: Level, dtype: int64\n"
     ]
    }
   ],
   "source": [
    "# remaining features\n",
    "print(f\"Schools remaining: {len(aedit.Provider.unique())}\")\n",
    "print(f\"Subjects remaining: {len(aedit.Subject.unique())}\")\n",
    "print(aedit.Level.value_counts())"
   ]
  },
  {
   "cell_type": "markdown",
   "metadata": {},
   "source": [
    "## Add country"
   ]
  },
  {
   "cell_type": "code",
   "execution_count": 57,
   "metadata": {},
   "outputs": [
    {
     "data": {
      "text/html": [
       "<div>\n",
       "<style scoped>\n",
       "    .dataframe tbody tr th:only-of-type {\n",
       "        vertical-align: middle;\n",
       "    }\n",
       "\n",
       "    .dataframe tbody tr th {\n",
       "        vertical-align: top;\n",
       "    }\n",
       "\n",
       "    .dataframe thead th {\n",
       "        text-align: right;\n",
       "    }\n",
       "</style>\n",
       "<table border=\"1\" class=\"dataframe\">\n",
       "  <thead>\n",
       "    <tr style=\"text-align: right;\">\n",
       "      <th></th>\n",
       "      <th>UKPRN</th>\n",
       "      <th>Provider</th>\n",
       "      <th>Agree (%)</th>\n",
       "      <th>Benchmark (%)</th>\n",
       "      <th>+/-</th>\n",
       "      <th>Agree (%).1</th>\n",
       "      <th>Benchmark (%).1</th>\n",
       "      <th>+/-.1</th>\n",
       "      <th>Agree (%).2</th>\n",
       "      <th>Benchmark (%).2</th>\n",
       "      <th>+/-.2</th>\n",
       "      <th>Agree (%).3</th>\n",
       "      <th>Benchmark (%).3</th>\n",
       "      <th>+/-.3</th>\n",
       "      <th>Country</th>\n",
       "    </tr>\n",
       "  </thead>\n",
       "  <tbody>\n",
       "    <tr>\n",
       "      <th>0</th>\n",
       "      <td>10007783</td>\n",
       "      <td>University of Aberdeen</td>\n",
       "      <td>85.40</td>\n",
       "      <td>85.00</td>\n",
       "      <td>NaN</td>\n",
       "      <td>85.40</td>\n",
       "      <td>85.00</td>\n",
       "      <td>NaN</td>\n",
       "      <td>86.39</td>\n",
       "      <td>84.91</td>\n",
       "      <td>NaN</td>\n",
       "      <td>86.39</td>\n",
       "      <td>84.91</td>\n",
       "      <td>NaN</td>\n",
       "      <td>Scotland</td>\n",
       "    </tr>\n",
       "    <tr>\n",
       "      <th>1</th>\n",
       "      <td>10007849</td>\n",
       "      <td>University of Abertay Dundee</td>\n",
       "      <td>81.64</td>\n",
       "      <td>84.14</td>\n",
       "      <td>NaN</td>\n",
       "      <td>81.64</td>\n",
       "      <td>84.14</td>\n",
       "      <td>NaN</td>\n",
       "      <td>87.44</td>\n",
       "      <td>83.89</td>\n",
       "      <td>NaN</td>\n",
       "      <td>87.44</td>\n",
       "      <td>83.89</td>\n",
       "      <td>NaN</td>\n",
       "      <td>Scotland</td>\n",
       "    </tr>\n",
       "  </tbody>\n",
       "</table>\n",
       "</div>"
      ],
      "text/plain": [
       "      UKPRN                      Provider  Agree (%)  Benchmark (%)  +/-  \\\n",
       "0  10007783        University of Aberdeen      85.40          85.00  NaN   \n",
       "1  10007849  University of Abertay Dundee      81.64          84.14  NaN   \n",
       "\n",
       "   Agree (%).1  Benchmark (%).1 +/-.1  Agree (%).2  Benchmark (%).2 +/-.2  \\\n",
       "0        85.40            85.00   NaN        86.39            84.91   NaN   \n",
       "1        81.64            84.14   NaN        87.44            83.89   NaN   \n",
       "\n",
       "   Agree (%).3  Benchmark (%).3 +/-.3   Country  \n",
       "0        86.39            84.91   NaN  Scotland  \n",
       "1        87.44            83.89   NaN  Scotland  "
      ]
     },
     "execution_count": 57,
     "metadata": {},
     "output_type": "execute_result"
    }
   ],
   "source": [
    "cn_df = pd.read_excel('NSS Answers.xlsx', sheet_name='Scale 1', skiprows=4)\n",
    "\n",
    "cn_df.head(2)"
   ]
  },
  {
   "cell_type": "code",
   "execution_count": 59,
   "metadata": {},
   "outputs": [
    {
     "name": "stdout",
     "output_type": "stream",
     "text": [
      "<class 'pandas.core.frame.DataFrame'>\n",
      "RangeIndex: 451 entries, 0 to 450\n",
      "Data columns (total 2 columns):\n",
      "UKPRN      451 non-null int64\n",
      "Country    451 non-null object\n",
      "dtypes: int64(1), object(1)\n",
      "memory usage: 7.1+ KB\n"
     ]
    }
   ],
   "source": [
    "cn_df = cn_df[['UKPRN', 'Country']]\n",
    "\n",
    "cn_df.info()"
   ]
  },
  {
   "cell_type": "code",
   "execution_count": 60,
   "metadata": {},
   "outputs": [
    {
     "name": "stdout",
     "output_type": "stream",
     "text": [
      "<class 'pandas.core.frame.DataFrame'>\n",
      "Int64Index: 66177 entries, 0 to 66176\n",
      "Data columns (total 9 columns):\n",
      "UKPRN              66177 non-null int64\n",
      "Provider           66177 non-null object\n",
      "Subject Code       66177 non-null object\n",
      "Subject            66177 non-null object\n",
      "Level              66177 non-null object\n",
      "Question Number    66177 non-null object\n",
      "Actual value       66177 non-null float64\n",
      "Response           66177 non-null int64\n",
      "Country            66177 non-null object\n",
      "dtypes: float64(1), int64(2), object(6)\n",
      "memory usage: 5.0+ MB\n",
      "None\n"
     ]
    },
    {
     "data": {
      "text/html": [
       "<div>\n",
       "<style scoped>\n",
       "    .dataframe tbody tr th:only-of-type {\n",
       "        vertical-align: middle;\n",
       "    }\n",
       "\n",
       "    .dataframe tbody tr th {\n",
       "        vertical-align: top;\n",
       "    }\n",
       "\n",
       "    .dataframe thead th {\n",
       "        text-align: right;\n",
       "    }\n",
       "</style>\n",
       "<table border=\"1\" class=\"dataframe\">\n",
       "  <thead>\n",
       "    <tr style=\"text-align: right;\">\n",
       "      <th></th>\n",
       "      <th>UKPRN</th>\n",
       "      <th>Provider</th>\n",
       "      <th>Subject Code</th>\n",
       "      <th>Subject</th>\n",
       "      <th>Level</th>\n",
       "      <th>Question Number</th>\n",
       "      <th>Actual value</th>\n",
       "      <th>Response</th>\n",
       "      <th>Country</th>\n",
       "    </tr>\n",
       "  </thead>\n",
       "  <tbody>\n",
       "    <tr>\n",
       "      <th>0</th>\n",
       "      <td>10007783</td>\n",
       "      <td>University of Aberdeen</td>\n",
       "      <td>CAH01-01-02</td>\n",
       "      <td>Medicine (non-specific)</td>\n",
       "      <td>First degree</td>\n",
       "      <td>Scale01</td>\n",
       "      <td>0.9394</td>\n",
       "      <td>99</td>\n",
       "      <td>Scotland</td>\n",
       "    </tr>\n",
       "    <tr>\n",
       "      <th>1</th>\n",
       "      <td>10007783</td>\n",
       "      <td>University of Aberdeen</td>\n",
       "      <td>CAH01-01-02</td>\n",
       "      <td>Medicine (non-specific)</td>\n",
       "      <td>First degree</td>\n",
       "      <td>Scale02</td>\n",
       "      <td>0.9158</td>\n",
       "      <td>99</td>\n",
       "      <td>Scotland</td>\n",
       "    </tr>\n",
       "  </tbody>\n",
       "</table>\n",
       "</div>"
      ],
      "text/plain": [
       "      UKPRN                Provider Subject Code                  Subject  \\\n",
       "0  10007783  University of Aberdeen  CAH01-01-02  Medicine (non-specific)   \n",
       "1  10007783  University of Aberdeen  CAH01-01-02  Medicine (non-specific)   \n",
       "\n",
       "          Level Question Number  Actual value  Response   Country  \n",
       "0  First degree         Scale01        0.9394        99  Scotland  \n",
       "1  First degree         Scale02        0.9158        99  Scotland  "
      ]
     },
     "execution_count": 60,
     "metadata": {},
     "output_type": "execute_result"
    }
   ],
   "source": [
    "aedit = pd.merge(aedit, cn_df, on='UKPRN')\n",
    "\n",
    "print(aedit.info())\n",
    "aedit.head(2)"
   ]
  },
  {
   "cell_type": "code",
   "execution_count": 61,
   "metadata": {},
   "outputs": [],
   "source": [
    "# aedit.to_csv('he_choose_detail.csv')"
   ]
  },
  {
   "cell_type": "code",
   "execution_count": 62,
   "metadata": {},
   "outputs": [
    {
     "data": {
      "text/plain": [
       "array(['First degree', 'Other undergraduate'], dtype=object)"
      ]
     },
     "execution_count": 62,
     "metadata": {},
     "output_type": "execute_result"
    }
   ],
   "source": [
    "aedit.Level.unique()"
   ]
  },
  {
   "cell_type": "code",
   "execution_count": 66,
   "metadata": {},
   "outputs": [
    {
     "data": {
      "text/html": [
       "<div>\n",
       "<style scoped>\n",
       "    .dataframe tbody tr th:only-of-type {\n",
       "        vertical-align: middle;\n",
       "    }\n",
       "\n",
       "    .dataframe tbody tr th {\n",
       "        vertical-align: top;\n",
       "    }\n",
       "\n",
       "    .dataframe thead th {\n",
       "        text-align: right;\n",
       "    }\n",
       "</style>\n",
       "<table border=\"1\" class=\"dataframe\">\n",
       "  <thead>\n",
       "    <tr style=\"text-align: right;\">\n",
       "      <th></th>\n",
       "      <th></th>\n",
       "      <th>Response</th>\n",
       "    </tr>\n",
       "    <tr>\n",
       "      <th>Country</th>\n",
       "      <th>Level</th>\n",
       "      <th></th>\n",
       "    </tr>\n",
       "  </thead>\n",
       "  <tbody>\n",
       "    <tr>\n",
       "      <th rowspan=\"2\" valign=\"top\">England</th>\n",
       "      <th>First degree</th>\n",
       "      <td>2749300</td>\n",
       "    </tr>\n",
       "    <tr>\n",
       "      <th>Other undergraduate</th>\n",
       "      <td>216982</td>\n",
       "    </tr>\n",
       "    <tr>\n",
       "      <th rowspan=\"2\" valign=\"top\">Northern Ireland</th>\n",
       "      <th>First degree</th>\n",
       "      <td>72761</td>\n",
       "    </tr>\n",
       "    <tr>\n",
       "      <th>Other undergraduate</th>\n",
       "      <td>8325</td>\n",
       "    </tr>\n",
       "    <tr>\n",
       "      <th rowspan=\"2\" valign=\"top\">Scotland</th>\n",
       "      <th>First degree</th>\n",
       "      <td>276436</td>\n",
       "    </tr>\n",
       "    <tr>\n",
       "      <th>Other undergraduate</th>\n",
       "      <td>2355</td>\n",
       "    </tr>\n",
       "    <tr>\n",
       "      <th rowspan=\"2\" valign=\"top\">Wales</th>\n",
       "      <th>First degree</th>\n",
       "      <td>165697</td>\n",
       "    </tr>\n",
       "    <tr>\n",
       "      <th>Other undergraduate</th>\n",
       "      <td>12636</td>\n",
       "    </tr>\n",
       "  </tbody>\n",
       "</table>\n",
       "</div>"
      ],
      "text/plain": [
       "                                      Response\n",
       "Country          Level                        \n",
       "England          First degree          2749300\n",
       "                 Other undergraduate    216982\n",
       "Northern Ireland First degree            72761\n",
       "                 Other undergraduate      8325\n",
       "Scotland         First degree           276436\n",
       "                 Other undergraduate      2355\n",
       "Wales            First degree           165697\n",
       "                 Other undergraduate     12636"
      ]
     },
     "execution_count": 66,
     "metadata": {},
     "output_type": "execute_result"
    }
   ],
   "source": [
    "piv_test = pd.pivot_table(aedit, values='Response', index=['Country', 'Level'], aggfunc=np.sum)\n",
    "\n",
    "piv_test"
   ]
  },
  {
   "cell_type": "code",
   "execution_count": 68,
   "metadata": {},
   "outputs": [
    {
     "data": {
      "text/plain": [
       "Scale04    6642\n",
       "Scale02    6642\n",
       "Scale06    6642\n",
       "Scale05    6642\n",
       "Scale03    6642\n",
       "Scale01    6642\n",
       "Scale07    6641\n",
       "Scale08    6637\n",
       "Q27        6629\n",
       "Q26        6418\n",
       "Name: Question Number, dtype: int64"
      ]
     },
     "execution_count": 68,
     "metadata": {},
     "output_type": "execute_result"
    }
   ],
   "source": [
    "aedit['Question Number'].value_counts()"
   ]
  },
  {
   "cell_type": "code",
   "execution_count": null,
   "metadata": {},
   "outputs": [],
   "source": []
  }
 ],
 "metadata": {
  "kernelspec": {
   "display_name": "Python 3",
   "language": "python",
   "name": "python3"
  },
  "language_info": {
   "codemirror_mode": {
    "name": "ipython",
    "version": 3
   },
   "file_extension": ".py",
   "mimetype": "text/x-python",
   "name": "python",
   "nbconvert_exporter": "python",
   "pygments_lexer": "ipython3",
   "version": "3.7.3"
  }
 },
 "nbformat": 4,
 "nbformat_minor": 2
}
