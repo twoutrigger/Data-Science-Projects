{
 "cells": [
  {
   "cell_type": "code",
   "execution_count": 1,
   "metadata": {},
   "outputs": [],
   "source": [
    "import pandas as pd\n",
    "import numpy as np\n",
    "import matplotlib.pyplot as plt"
   ]
  },
  {
   "cell_type": "code",
   "execution_count": null,
   "metadata": {},
   "outputs": [],
   "source": [
    "### Merge Employment data to National Student Survey data"
   ]
  },
  {
   "cell_type": "code",
   "execution_count": 2,
   "metadata": {},
   "outputs": [
    {
     "name": "stdout",
     "output_type": "stream",
     "text": [
      "(66177, 9)\n"
     ]
    },
    {
     "data": {
      "text/html": [
       "<div>\n",
       "<style scoped>\n",
       "    .dataframe tbody tr th:only-of-type {\n",
       "        vertical-align: middle;\n",
       "    }\n",
       "\n",
       "    .dataframe tbody tr th {\n",
       "        vertical-align: top;\n",
       "    }\n",
       "\n",
       "    .dataframe thead th {\n",
       "        text-align: right;\n",
       "    }\n",
       "</style>\n",
       "<table border=\"1\" class=\"dataframe\">\n",
       "  <thead>\n",
       "    <tr style=\"text-align: right;\">\n",
       "      <th></th>\n",
       "      <th>UKPRN</th>\n",
       "      <th>Provider</th>\n",
       "      <th>Subject Code</th>\n",
       "      <th>Subject</th>\n",
       "      <th>Level</th>\n",
       "      <th>Question Number</th>\n",
       "      <th>Actual value</th>\n",
       "      <th>Response</th>\n",
       "      <th>Country</th>\n",
       "    </tr>\n",
       "  </thead>\n",
       "  <tbody>\n",
       "    <tr>\n",
       "      <th>0</th>\n",
       "      <td>10007783</td>\n",
       "      <td>University of Aberdeen</td>\n",
       "      <td>CAH01-01-02</td>\n",
       "      <td>Medicine (non-specific)</td>\n",
       "      <td>First degree</td>\n",
       "      <td>Scale01</td>\n",
       "      <td>0.9394</td>\n",
       "      <td>99</td>\n",
       "      <td>Scotland</td>\n",
       "    </tr>\n",
       "    <tr>\n",
       "      <th>1</th>\n",
       "      <td>10007783</td>\n",
       "      <td>University of Aberdeen</td>\n",
       "      <td>CAH01-01-02</td>\n",
       "      <td>Medicine (non-specific)</td>\n",
       "      <td>First degree</td>\n",
       "      <td>Scale02</td>\n",
       "      <td>0.9158</td>\n",
       "      <td>99</td>\n",
       "      <td>Scotland</td>\n",
       "    </tr>\n",
       "    <tr>\n",
       "      <th>2</th>\n",
       "      <td>10007783</td>\n",
       "      <td>University of Aberdeen</td>\n",
       "      <td>CAH01-01-02</td>\n",
       "      <td>Medicine (non-specific)</td>\n",
       "      <td>First degree</td>\n",
       "      <td>Scale03</td>\n",
       "      <td>0.6944</td>\n",
       "      <td>99</td>\n",
       "      <td>Scotland</td>\n",
       "    </tr>\n",
       "    <tr>\n",
       "      <th>3</th>\n",
       "      <td>10007783</td>\n",
       "      <td>University of Aberdeen</td>\n",
       "      <td>CAH01-01-02</td>\n",
       "      <td>Medicine (non-specific)</td>\n",
       "      <td>First degree</td>\n",
       "      <td>Scale04</td>\n",
       "      <td>0.8838</td>\n",
       "      <td>99</td>\n",
       "      <td>Scotland</td>\n",
       "    </tr>\n",
       "    <tr>\n",
       "      <th>4</th>\n",
       "      <td>10007783</td>\n",
       "      <td>University of Aberdeen</td>\n",
       "      <td>CAH01-01-02</td>\n",
       "      <td>Medicine (non-specific)</td>\n",
       "      <td>First degree</td>\n",
       "      <td>Scale05</td>\n",
       "      <td>0.8636</td>\n",
       "      <td>99</td>\n",
       "      <td>Scotland</td>\n",
       "    </tr>\n",
       "  </tbody>\n",
       "</table>\n",
       "</div>"
      ],
      "text/plain": [
       "      UKPRN                Provider Subject Code                  Subject  \\\n",
       "0  10007783  University of Aberdeen  CAH01-01-02  Medicine (non-specific)   \n",
       "1  10007783  University of Aberdeen  CAH01-01-02  Medicine (non-specific)   \n",
       "2  10007783  University of Aberdeen  CAH01-01-02  Medicine (non-specific)   \n",
       "3  10007783  University of Aberdeen  CAH01-01-02  Medicine (non-specific)   \n",
       "4  10007783  University of Aberdeen  CAH01-01-02  Medicine (non-specific)   \n",
       "\n",
       "          Level Question Number  Actual value  Response   Country  \n",
       "0  First degree         Scale01        0.9394        99  Scotland  \n",
       "1  First degree         Scale02        0.9158        99  Scotland  \n",
       "2  First degree         Scale03        0.6944        99  Scotland  \n",
       "3  First degree         Scale04        0.8838        99  Scotland  \n",
       "4  First degree         Scale05        0.8636        99  Scotland  "
      ]
     },
     "execution_count": 2,
     "metadata": {},
     "output_type": "execute_result"
    }
   ],
   "source": [
    "aorig = pd.read_csv('he_choose_detail.csv', header=0, index_col=0)\n",
    "\n",
    "print(aorig.shape)\n",
    "aorig.head()"
   ]
  },
  {
   "cell_type": "markdown",
   "metadata": {},
   "source": [
    "## Prep survey data"
   ]
  },
  {
   "cell_type": "code",
   "execution_count": 3,
   "metadata": {},
   "outputs": [
    {
     "name": "stdout",
     "output_type": "stream",
     "text": [
      "(55781, 7)\n"
     ]
    },
    {
     "data": {
      "text/html": [
       "<div>\n",
       "<style scoped>\n",
       "    .dataframe tbody tr th:only-of-type {\n",
       "        vertical-align: middle;\n",
       "    }\n",
       "\n",
       "    .dataframe tbody tr th {\n",
       "        vertical-align: top;\n",
       "    }\n",
       "\n",
       "    .dataframe thead th {\n",
       "        text-align: right;\n",
       "    }\n",
       "</style>\n",
       "<table border=\"1\" class=\"dataframe\">\n",
       "  <thead>\n",
       "    <tr style=\"text-align: right;\">\n",
       "      <th></th>\n",
       "      <th>UKPRN</th>\n",
       "      <th>Provider</th>\n",
       "      <th>Subject Code</th>\n",
       "      <th>Subject</th>\n",
       "      <th>Cat</th>\n",
       "      <th>Value</th>\n",
       "      <th>Country</th>\n",
       "    </tr>\n",
       "  </thead>\n",
       "  <tbody>\n",
       "    <tr>\n",
       "      <th>0</th>\n",
       "      <td>10007783</td>\n",
       "      <td>University of Aberdeen</td>\n",
       "      <td>CAH01-01-02</td>\n",
       "      <td>Medicine (non-specific)</td>\n",
       "      <td>Scale01</td>\n",
       "      <td>0.9394</td>\n",
       "      <td>Scotland</td>\n",
       "    </tr>\n",
       "    <tr>\n",
       "      <th>1</th>\n",
       "      <td>10007783</td>\n",
       "      <td>University of Aberdeen</td>\n",
       "      <td>CAH01-01-02</td>\n",
       "      <td>Medicine (non-specific)</td>\n",
       "      <td>Scale02</td>\n",
       "      <td>0.9158</td>\n",
       "      <td>Scotland</td>\n",
       "    </tr>\n",
       "  </tbody>\n",
       "</table>\n",
       "</div>"
      ],
      "text/plain": [
       "      UKPRN                Provider Subject Code                  Subject  \\\n",
       "0  10007783  University of Aberdeen  CAH01-01-02  Medicine (non-specific)   \n",
       "1  10007783  University of Aberdeen  CAH01-01-02  Medicine (non-specific)   \n",
       "\n",
       "       Cat   Value   Country  \n",
       "0  Scale01  0.9394  Scotland  \n",
       "1  Scale02  0.9158  Scotland  "
      ]
     },
     "execution_count": 3,
     "metadata": {},
     "output_type": "execute_result"
    }
   ],
   "source": [
    "aedit = aorig.copy()\n",
    "\n",
    "aedit = aedit[aedit.Level == \"First degree\"]\n",
    "aedit.drop(['Level', 'Response'], axis=1, inplace=True)\n",
    "aedit.rename(columns={'Question Number':'Cat', 'Actual value':'Value'}, inplace=True)\n",
    "\n",
    "print(aedit.shape)\n",
    "aedit.head(2)"
   ]
  },
  {
   "cell_type": "code",
   "execution_count": 4,
   "metadata": {},
   "outputs": [
    {
     "data": {
      "text/plain": [
       "array(['Scale01', 'Scale02', 'Scale03', 'Scale04', 'Scale05', 'Scale06',\n",
       "       'Scale07', 'Scale08', 'Q26', 'Q27'], dtype=object)"
      ]
     },
     "execution_count": 4,
     "metadata": {},
     "output_type": "execute_result"
    }
   ],
   "source": [
    "aedit.Cat.unique()"
   ]
  },
  {
   "cell_type": "code",
   "execution_count": 5,
   "metadata": {},
   "outputs": [
    {
     "name": "stdout",
     "output_type": "stream",
     "text": [
      "['Scale01' 'Scale02' 'Scale03' 'Scale04' 'Scale05' 'Scale06' 'Scale07'\n",
      " 'Scale08' 'ZQ26' '03Q27']\n"
     ]
    }
   ],
   "source": [
    "# Change Overall Sat and Unions for reorder\n",
    "aedit.replace('Q27', '03Q27', inplace=True)\n",
    "aedit.replace('Q26', 'ZQ26', inplace=True)\n",
    "\n",
    "print(aedit.Cat.unique())"
   ]
  },
  {
   "cell_type": "markdown",
   "metadata": {},
   "source": [
    "## Prep Salary data"
   ]
  },
  {
   "cell_type": "code",
   "execution_count": 6,
   "metadata": {},
   "outputs": [
    {
     "name": "stdout",
     "output_type": "stream",
     "text": [
      "(46627, 18)\n"
     ]
    },
    {
     "data": {
      "text/html": [
       "<div>\n",
       "<style scoped>\n",
       "    .dataframe tbody tr th:only-of-type {\n",
       "        vertical-align: middle;\n",
       "    }\n",
       "\n",
       "    .dataframe tbody tr th {\n",
       "        vertical-align: top;\n",
       "    }\n",
       "\n",
       "    .dataframe thead th {\n",
       "        text-align: right;\n",
       "    }\n",
       "</style>\n",
       "<table border=\"1\" class=\"dataframe\">\n",
       "  <thead>\n",
       "    <tr style=\"text-align: right;\">\n",
       "      <th></th>\n",
       "      <th>PUBUKPRN</th>\n",
       "      <th>UKPRN</th>\n",
       "      <th>KISCOURSEID</th>\n",
       "      <th>KISMODE</th>\n",
       "      <th>SALUNAVAILREASON</th>\n",
       "      <th>SALPOP</th>\n",
       "      <th>SALRESP_RATE</th>\n",
       "      <th>SALAGG</th>\n",
       "      <th>SALSBJ</th>\n",
       "      <th>LDLQ</th>\n",
       "      <th>LDMED</th>\n",
       "      <th>LDUQ</th>\n",
       "      <th>LQ</th>\n",
       "      <th>MED</th>\n",
       "      <th>UQ</th>\n",
       "      <th>INSTLQ</th>\n",
       "      <th>INSTMED</th>\n",
       "      <th>INSTUQ</th>\n",
       "    </tr>\n",
       "  </thead>\n",
       "  <tbody>\n",
       "    <tr>\n",
       "      <th>0</th>\n",
       "      <td>10000047</td>\n",
       "      <td>10001143</td>\n",
       "      <td>PSSFDOPTDIS</td>\n",
       "      <td>1</td>\n",
       "      <td>0</td>\n",
       "      <td>NaN</td>\n",
       "      <td>NaN</td>\n",
       "      <td>NaN</td>\n",
       "      <td>NaN</td>\n",
       "      <td>NaN</td>\n",
       "      <td>NaN</td>\n",
       "      <td>NaN</td>\n",
       "      <td>NaN</td>\n",
       "      <td>NaN</td>\n",
       "      <td>NaN</td>\n",
       "      <td>NaN</td>\n",
       "      <td>NaN</td>\n",
       "      <td>NaN</td>\n",
       "    </tr>\n",
       "    <tr>\n",
       "      <th>1</th>\n",
       "      <td>10000055</td>\n",
       "      <td>10000055</td>\n",
       "      <td>AB20</td>\n",
       "      <td>1</td>\n",
       "      <td>0</td>\n",
       "      <td>NaN</td>\n",
       "      <td>NaN</td>\n",
       "      <td>NaN</td>\n",
       "      <td>NaN</td>\n",
       "      <td>NaN</td>\n",
       "      <td>NaN</td>\n",
       "      <td>NaN</td>\n",
       "      <td>NaN</td>\n",
       "      <td>NaN</td>\n",
       "      <td>NaN</td>\n",
       "      <td>NaN</td>\n",
       "      <td>NaN</td>\n",
       "      <td>NaN</td>\n",
       "    </tr>\n",
       "  </tbody>\n",
       "</table>\n",
       "</div>"
      ],
      "text/plain": [
       "   PUBUKPRN     UKPRN  KISCOURSEID  KISMODE  SALUNAVAILREASON  SALPOP  \\\n",
       "0  10000047  10001143  PSSFDOPTDIS        1                 0     NaN   \n",
       "1  10000055  10000055         AB20        1                 0     NaN   \n",
       "\n",
       "   SALRESP_RATE  SALAGG SALSBJ  LDLQ  LDMED  LDUQ  LQ  MED  UQ  INSTLQ  \\\n",
       "0           NaN     NaN    NaN   NaN    NaN   NaN NaN  NaN NaN     NaN   \n",
       "1           NaN     NaN    NaN   NaN    NaN   NaN NaN  NaN NaN     NaN   \n",
       "\n",
       "   INSTMED  INSTUQ  \n",
       "0      NaN     NaN  \n",
       "1      NaN     NaN  "
      ]
     },
     "execution_count": 6,
     "metadata": {},
     "output_type": "execute_result"
    }
   ],
   "source": [
    "sorig = pd.read_csv('Unistats/SALARY.csv', header=0)\n",
    "\n",
    "print(sorig.shape)\n",
    "sorig.head(2)"
   ]
  },
  {
   "cell_type": "code",
   "execution_count": 7,
   "metadata": {},
   "outputs": [
    {
     "name": "stdout",
     "output_type": "stream",
     "text": [
      "(3960, 3)\n"
     ]
    },
    {
     "data": {
      "text/html": [
       "<div>\n",
       "<style scoped>\n",
       "    .dataframe tbody tr th:only-of-type {\n",
       "        vertical-align: middle;\n",
       "    }\n",
       "\n",
       "    .dataframe tbody tr th {\n",
       "        vertical-align: top;\n",
       "    }\n",
       "\n",
       "    .dataframe thead th {\n",
       "        text-align: right;\n",
       "    }\n",
       "</style>\n",
       "<table border=\"1\" class=\"dataframe\">\n",
       "  <thead>\n",
       "    <tr style=\"text-align: right;\">\n",
       "      <th></th>\n",
       "      <th>UKPRN</th>\n",
       "      <th>SALSBJ</th>\n",
       "      <th>INSTMED</th>\n",
       "    </tr>\n",
       "  </thead>\n",
       "  <tbody>\n",
       "    <tr>\n",
       "      <th>23</th>\n",
       "      <td>10000248</td>\n",
       "      <td>CAH21-01-06</td>\n",
       "      <td>26000.0</td>\n",
       "    </tr>\n",
       "    <tr>\n",
       "      <th>27</th>\n",
       "      <td>10000291</td>\n",
       "      <td>CAH21-01</td>\n",
       "      <td>17000.0</td>\n",
       "    </tr>\n",
       "    <tr>\n",
       "      <th>29</th>\n",
       "      <td>10000291</td>\n",
       "      <td>CAH21-01-03</td>\n",
       "      <td>17000.0</td>\n",
       "    </tr>\n",
       "    <tr>\n",
       "      <th>32</th>\n",
       "      <td>10000291</td>\n",
       "      <td>CAH11-01-06</td>\n",
       "      <td>20000.0</td>\n",
       "    </tr>\n",
       "    <tr>\n",
       "      <th>33</th>\n",
       "      <td>10000291</td>\n",
       "      <td>CAH21-01-08</td>\n",
       "      <td>19000.0</td>\n",
       "    </tr>\n",
       "  </tbody>\n",
       "</table>\n",
       "</div>"
      ],
      "text/plain": [
       "       UKPRN       SALSBJ  INSTMED\n",
       "23  10000248  CAH21-01-06  26000.0\n",
       "27  10000291     CAH21-01  17000.0\n",
       "29  10000291  CAH21-01-03  17000.0\n",
       "32  10000291  CAH11-01-06  20000.0\n",
       "33  10000291  CAH21-01-08  19000.0"
      ]
     },
     "execution_count": 7,
     "metadata": {},
     "output_type": "execute_result"
    }
   ],
   "source": [
    "# Very few uni-subject combos had 2 values... \n",
    "# We drop the 2nd as likely associated other undergrad\n",
    "sedit = sorig.copy()\n",
    "\n",
    "sedit = sedit[sedit.SALSBJ.isnull() == False]\n",
    "sedit = sedit[sedit.KISMODE == 1] # keep full-time\n",
    "sedit = sedit[['UKPRN', 'SALSBJ', 'INSTMED']]\n",
    "sedit.drop_duplicates(subset=['UKPRN', 'SALSBJ'], keep='first', inplace=True)\n",
    "\n",
    "print(sedit.shape)\n",
    "sedit.head(5)"
   ]
  },
  {
   "cell_type": "code",
   "execution_count": 8,
   "metadata": {},
   "outputs": [
    {
     "data": {
      "text/html": [
       "<div>\n",
       "<style scoped>\n",
       "    .dataframe tbody tr th:only-of-type {\n",
       "        vertical-align: middle;\n",
       "    }\n",
       "\n",
       "    .dataframe tbody tr th {\n",
       "        vertical-align: top;\n",
       "    }\n",
       "\n",
       "    .dataframe thead th {\n",
       "        text-align: right;\n",
       "    }\n",
       "</style>\n",
       "<table border=\"1\" class=\"dataframe\">\n",
       "  <thead>\n",
       "    <tr style=\"text-align: right;\">\n",
       "      <th></th>\n",
       "      <th>UKPRN</th>\n",
       "      <th>SALSBJ</th>\n",
       "      <th>INSTMED</th>\n",
       "      <th>SBJLEN</th>\n",
       "    </tr>\n",
       "  </thead>\n",
       "  <tbody>\n",
       "    <tr>\n",
       "      <th>23</th>\n",
       "      <td>10000248</td>\n",
       "      <td>CAH21-01-06</td>\n",
       "      <td>26000.0</td>\n",
       "      <td>11</td>\n",
       "    </tr>\n",
       "    <tr>\n",
       "      <th>27</th>\n",
       "      <td>10000291</td>\n",
       "      <td>CAH21-01</td>\n",
       "      <td>17000.0</td>\n",
       "      <td>8</td>\n",
       "    </tr>\n",
       "  </tbody>\n",
       "</table>\n",
       "</div>"
      ],
      "text/plain": [
       "       UKPRN       SALSBJ  INSTMED  SBJLEN\n",
       "23  10000248  CAH21-01-06  26000.0      11\n",
       "27  10000291     CAH21-01  17000.0       8"
      ]
     },
     "execution_count": 8,
     "metadata": {},
     "output_type": "execute_result"
    }
   ],
   "source": [
    "sedit['SBJLEN'] = sedit.SALSBJ.apply(len)\n",
    "\n",
    "sedit.head(2)"
   ]
  },
  {
   "cell_type": "code",
   "execution_count": 9,
   "metadata": {},
   "outputs": [
    {
     "data": {
      "text/html": [
       "<div>\n",
       "<style scoped>\n",
       "    .dataframe tbody tr th:only-of-type {\n",
       "        vertical-align: middle;\n",
       "    }\n",
       "\n",
       "    .dataframe tbody tr th {\n",
       "        vertical-align: top;\n",
       "    }\n",
       "\n",
       "    .dataframe thead th {\n",
       "        text-align: right;\n",
       "    }\n",
       "</style>\n",
       "<table border=\"1\" class=\"dataframe\">\n",
       "  <thead>\n",
       "    <tr style=\"text-align: right;\">\n",
       "      <th></th>\n",
       "      <th>UKPRN</th>\n",
       "      <th>Subject Code</th>\n",
       "      <th>Value</th>\n",
       "      <th>Cat</th>\n",
       "    </tr>\n",
       "  </thead>\n",
       "  <tbody>\n",
       "    <tr>\n",
       "      <th>23</th>\n",
       "      <td>10000248</td>\n",
       "      <td>CAH21-01-06</td>\n",
       "      <td>26000.0</td>\n",
       "      <td>01SalMedian</td>\n",
       "    </tr>\n",
       "    <tr>\n",
       "      <th>29</th>\n",
       "      <td>10000291</td>\n",
       "      <td>CAH21-01-03</td>\n",
       "      <td>17000.0</td>\n",
       "      <td>01SalMedian</td>\n",
       "    </tr>\n",
       "  </tbody>\n",
       "</table>\n",
       "</div>"
      ],
      "text/plain": [
       "       UKPRN Subject Code    Value          Cat\n",
       "23  10000248  CAH21-01-06  26000.0  01SalMedian\n",
       "29  10000291  CAH21-01-03  17000.0  01SalMedian"
      ]
     },
     "execution_count": 9,
     "metadata": {},
     "output_type": "execute_result"
    }
   ],
   "source": [
    "sedit = sedit[sedit.SBJLEN == 11]\n",
    "sedit.drop(['SBJLEN'], axis=1, inplace=True)\n",
    "sedit['Cat'] = '01SalMedian'\n",
    "sedit.rename(columns={'SALSBJ':'Subject Code','INSTMED':'Value'}, inplace=True)\n",
    "\n",
    "sedit.head(2)"
   ]
  },
  {
   "cell_type": "markdown",
   "metadata": {},
   "source": [
    "## Add Salary Uni name, Subject and Country"
   ]
  },
  {
   "cell_type": "code",
   "execution_count": 10,
   "metadata": {},
   "outputs": [
    {
     "name": "stdout",
     "output_type": "stream",
     "text": [
      "Schools in orig not in salary: 102\n",
      "Schools in salary not in orig: 20\n"
     ]
    }
   ],
   "source": [
    "print(f'Schools in orig not in salary: {len(set(aedit.UKPRN) - set(sedit.UKPRN))}')\n",
    "print(f'Schools in salary not in orig: {len(set(sedit.UKPRN) - set(aedit.UKPRN))}')"
   ]
  },
  {
   "cell_type": "code",
   "execution_count": 11,
   "metadata": {},
   "outputs": [
    {
     "name": "stdout",
     "output_type": "stream",
     "text": [
      "Schools in salary not in orig: 0\n"
     ]
    }
   ],
   "source": [
    "# remove uni from salary not in orig\n",
    "sedit = sedit[sedit.UKPRN.isin((set(sedit.UKPRN) - set(aedit.UKPRN))) == False]\n",
    "print(f'Schools in salary not in orig: {len(set(sedit.UKPRN) - set(aedit.UKPRN))}')"
   ]
  },
  {
   "cell_type": "code",
   "execution_count": 12,
   "metadata": {},
   "outputs": [
    {
     "name": "stdout",
     "output_type": "stream",
     "text": [
      "Subjects in orig not in salary: 1\n",
      "Subjects in salary not in orig: 19\n"
     ]
    }
   ],
   "source": [
    "print(f\"Subjects in orig not in salary: {len(set(aedit['Subject Code']) - set(sedit['Subject Code']))}\")\n",
    "print(f\"Subjects in salary not in orig: {len(set(sedit['Subject Code']) - set(aedit['Subject Code']))}\")"
   ]
  },
  {
   "cell_type": "code",
   "execution_count": 13,
   "metadata": {},
   "outputs": [
    {
     "name": "stdout",
     "output_type": "stream",
     "text": [
      "Subjects in salary not in orig: 0\n"
     ]
    }
   ],
   "source": [
    "# remove subjects from salary not in orig\n",
    "sedit = sedit[sedit['Subject Code'].isin((set(sedit['Subject Code']) - set(aedit['Subject Code']))) == False]\n",
    "print(f\"Subjects in salary not in orig: {len(set(sedit['Subject Code']) - set(aedit['Subject Code']))}\")"
   ]
  },
  {
   "cell_type": "code",
   "execution_count": 14,
   "metadata": {},
   "outputs": [
    {
     "data": {
      "text/html": [
       "<div>\n",
       "<style scoped>\n",
       "    .dataframe tbody tr th:only-of-type {\n",
       "        vertical-align: middle;\n",
       "    }\n",
       "\n",
       "    .dataframe tbody tr th {\n",
       "        vertical-align: top;\n",
       "    }\n",
       "\n",
       "    .dataframe thead th {\n",
       "        text-align: right;\n",
       "    }\n",
       "</style>\n",
       "<table border=\"1\" class=\"dataframe\">\n",
       "  <thead>\n",
       "    <tr style=\"text-align: right;\">\n",
       "      <th></th>\n",
       "      <th>UKPRN</th>\n",
       "      <th>Subject Code</th>\n",
       "      <th>Value</th>\n",
       "      <th>Cat</th>\n",
       "    </tr>\n",
       "  </thead>\n",
       "  <tbody>\n",
       "    <tr>\n",
       "      <th>23</th>\n",
       "      <td>10000248</td>\n",
       "      <td>CAH21-01-06</td>\n",
       "      <td>26000.0</td>\n",
       "      <td>01SalMedian</td>\n",
       "    </tr>\n",
       "    <tr>\n",
       "      <th>29</th>\n",
       "      <td>10000291</td>\n",
       "      <td>CAH21-01-03</td>\n",
       "      <td>17000.0</td>\n",
       "      <td>01SalMedian</td>\n",
       "    </tr>\n",
       "  </tbody>\n",
       "</table>\n",
       "</div>"
      ],
      "text/plain": [
       "       UKPRN Subject Code    Value          Cat\n",
       "23  10000248  CAH21-01-06  26000.0  01SalMedian\n",
       "29  10000291  CAH21-01-03  17000.0  01SalMedian"
      ]
     },
     "execution_count": 14,
     "metadata": {},
     "output_type": "execute_result"
    }
   ],
   "source": [
    "sedit.head(2)"
   ]
  },
  {
   "cell_type": "code",
   "execution_count": 15,
   "metadata": {},
   "outputs": [
    {
     "name": "stdout",
     "output_type": "stream",
     "text": [
      "<class 'pandas.core.frame.DataFrame'>\n",
      "Int64Index: 2625 entries, 0 to 2624\n",
      "Data columns (total 7 columns):\n",
      "UKPRN           2625 non-null int64\n",
      "Provider        2625 non-null object\n",
      "Subject Code    2625 non-null object\n",
      "Subject         2625 non-null object\n",
      "Cat             2625 non-null object\n",
      "Value           2625 non-null float64\n",
      "Country         2625 non-null object\n",
      "dtypes: float64(1), int64(1), object(5)\n",
      "memory usage: 164.1+ KB\n",
      "None\n"
     ]
    },
    {
     "data": {
      "text/html": [
       "<div>\n",
       "<style scoped>\n",
       "    .dataframe tbody tr th:only-of-type {\n",
       "        vertical-align: middle;\n",
       "    }\n",
       "\n",
       "    .dataframe tbody tr th {\n",
       "        vertical-align: top;\n",
       "    }\n",
       "\n",
       "    .dataframe thead th {\n",
       "        text-align: right;\n",
       "    }\n",
       "</style>\n",
       "<table border=\"1\" class=\"dataframe\">\n",
       "  <thead>\n",
       "    <tr style=\"text-align: right;\">\n",
       "      <th></th>\n",
       "      <th>UKPRN</th>\n",
       "      <th>Provider</th>\n",
       "      <th>Subject Code</th>\n",
       "      <th>Subject</th>\n",
       "      <th>Cat</th>\n",
       "      <th>Value</th>\n",
       "      <th>Country</th>\n",
       "    </tr>\n",
       "  </thead>\n",
       "  <tbody>\n",
       "    <tr>\n",
       "      <th>0</th>\n",
       "      <td>10000248</td>\n",
       "      <td>ALRA</td>\n",
       "      <td>CAH21-01-06</td>\n",
       "      <td>Drama</td>\n",
       "      <td>01SalMedian</td>\n",
       "      <td>26000.0</td>\n",
       "      <td>England</td>\n",
       "    </tr>\n",
       "    <tr>\n",
       "      <th>1</th>\n",
       "      <td>10000291</td>\n",
       "      <td>Anglia Ruskin University Higher Corporation</td>\n",
       "      <td>CAH21-01-06</td>\n",
       "      <td>Drama</td>\n",
       "      <td>01SalMedian</td>\n",
       "      <td>14000.0</td>\n",
       "      <td>England</td>\n",
       "    </tr>\n",
       "  </tbody>\n",
       "</table>\n",
       "</div>"
      ],
      "text/plain": [
       "      UKPRN                                     Provider Subject Code Subject  \\\n",
       "0  10000248                                         ALRA  CAH21-01-06   Drama   \n",
       "1  10000291  Anglia Ruskin University Higher Corporation  CAH21-01-06   Drama   \n",
       "\n",
       "           Cat    Value  Country  \n",
       "0  01SalMedian  26000.0  England  \n",
       "1  01SalMedian  14000.0  England  "
      ]
     },
     "execution_count": 15,
     "metadata": {},
     "output_type": "execute_result"
    }
   ],
   "source": [
    "anamecn = aedit.copy()\n",
    "asbj = aedit.copy()\n",
    "\n",
    "anamecn = anamecn[['UKPRN', 'Provider', 'Country']]\n",
    "asbj = asbj[['Subject Code', 'Subject']]\n",
    "\n",
    "anamecn.drop_duplicates(keep='first', inplace=True)\n",
    "asbj.drop_duplicates(keep='first', inplace=True)\n",
    "\n",
    "sedit = pd.merge(sedit, anamecn, on='UKPRN')\n",
    "sedit = pd.merge(sedit, asbj, on='Subject Code')\n",
    "sedit = sedit[list(aedit.columns)]\n",
    "\n",
    "print(sedit.info())\n",
    "sedit.head(2)"
   ]
  },
  {
   "cell_type": "markdown",
   "metadata": {},
   "source": [
    "## Prep Employment data"
   ]
  },
  {
   "cell_type": "code",
   "execution_count": 16,
   "metadata": {},
   "outputs": [
    {
     "name": "stdout",
     "output_type": "stream",
     "text": [
      "(47994, 15)\n"
     ]
    },
    {
     "data": {
      "text/html": [
       "<div>\n",
       "<style scoped>\n",
       "    .dataframe tbody tr th:only-of-type {\n",
       "        vertical-align: middle;\n",
       "    }\n",
       "\n",
       "    .dataframe tbody tr th {\n",
       "        vertical-align: top;\n",
       "    }\n",
       "\n",
       "    .dataframe thead th {\n",
       "        text-align: right;\n",
       "    }\n",
       "</style>\n",
       "<table border=\"1\" class=\"dataframe\">\n",
       "  <thead>\n",
       "    <tr style=\"text-align: right;\">\n",
       "      <th></th>\n",
       "      <th>PUBUKPRN</th>\n",
       "      <th>UKPRN</th>\n",
       "      <th>KISCOURSEID</th>\n",
       "      <th>KISMODE</th>\n",
       "      <th>EMPUNAVAILREASON</th>\n",
       "      <th>EMPPOP</th>\n",
       "      <th>EMPRESP_RATE</th>\n",
       "      <th>EMPAGG</th>\n",
       "      <th>EMPSBJ</th>\n",
       "      <th>WORKSTUDY</th>\n",
       "      <th>STUDY</th>\n",
       "      <th>ASSUNEMP</th>\n",
       "      <th>BOTH</th>\n",
       "      <th>NOAVAIL</th>\n",
       "      <th>WORK</th>\n",
       "    </tr>\n",
       "  </thead>\n",
       "  <tbody>\n",
       "    <tr>\n",
       "      <th>0</th>\n",
       "      <td>10000047</td>\n",
       "      <td>10001143</td>\n",
       "      <td>PSSFDOPTDIS</td>\n",
       "      <td>1</td>\n",
       "      <td>0</td>\n",
       "      <td>20.0</td>\n",
       "      <td>70.0</td>\n",
       "      <td>14.0</td>\n",
       "      <td>NaN</td>\n",
       "      <td>100.0</td>\n",
       "      <td>40.0</td>\n",
       "      <td>0.0</td>\n",
       "      <td>35.0</td>\n",
       "      <td>0.0</td>\n",
       "      <td>30.0</td>\n",
       "    </tr>\n",
       "    <tr>\n",
       "      <th>1</th>\n",
       "      <td>10000055</td>\n",
       "      <td>10000055</td>\n",
       "      <td>AB20</td>\n",
       "      <td>1</td>\n",
       "      <td>0</td>\n",
       "      <td>15.0</td>\n",
       "      <td>100.0</td>\n",
       "      <td>14.0</td>\n",
       "      <td>NaN</td>\n",
       "      <td>95.0</td>\n",
       "      <td>80.0</td>\n",
       "      <td>5.0</td>\n",
       "      <td>5.0</td>\n",
       "      <td>0.0</td>\n",
       "      <td>5.0</td>\n",
       "    </tr>\n",
       "  </tbody>\n",
       "</table>\n",
       "</div>"
      ],
      "text/plain": [
       "   PUBUKPRN     UKPRN  KISCOURSEID  KISMODE  EMPUNAVAILREASON  EMPPOP  \\\n",
       "0  10000047  10001143  PSSFDOPTDIS        1                 0    20.0   \n",
       "1  10000055  10000055         AB20        1                 0    15.0   \n",
       "\n",
       "   EMPRESP_RATE  EMPAGG EMPSBJ  WORKSTUDY  STUDY  ASSUNEMP  BOTH  NOAVAIL  \\\n",
       "0          70.0    14.0    NaN      100.0   40.0       0.0  35.0      0.0   \n",
       "1         100.0    14.0    NaN       95.0   80.0       5.0   5.0      0.0   \n",
       "\n",
       "   WORK  \n",
       "0  30.0  \n",
       "1   5.0  "
      ]
     },
     "execution_count": 16,
     "metadata": {},
     "output_type": "execute_result"
    }
   ],
   "source": [
    "eorig = pd.read_csv('Unistats/EMPLOYMENT.csv', header=0)\n",
    "\n",
    "print(eorig.shape)\n",
    "eorig.head(2)"
   ]
  },
  {
   "cell_type": "code",
   "execution_count": 17,
   "metadata": {},
   "outputs": [
    {
     "name": "stdout",
     "output_type": "stream",
     "text": [
      "(4892, 3)\n"
     ]
    },
    {
     "data": {
      "text/html": [
       "<div>\n",
       "<style scoped>\n",
       "    .dataframe tbody tr th:only-of-type {\n",
       "        vertical-align: middle;\n",
       "    }\n",
       "\n",
       "    .dataframe tbody tr th {\n",
       "        vertical-align: top;\n",
       "    }\n",
       "\n",
       "    .dataframe thead th {\n",
       "        text-align: right;\n",
       "    }\n",
       "</style>\n",
       "<table border=\"1\" class=\"dataframe\">\n",
       "  <thead>\n",
       "    <tr style=\"text-align: right;\">\n",
       "      <th></th>\n",
       "      <th>UKPRN</th>\n",
       "      <th>EMPSBJ</th>\n",
       "      <th>WORK</th>\n",
       "    </tr>\n",
       "  </thead>\n",
       "  <tbody>\n",
       "    <tr>\n",
       "      <th>2</th>\n",
       "      <td>10000055</td>\n",
       "      <td>CAH06-01-01</td>\n",
       "      <td>75.0</td>\n",
       "    </tr>\n",
       "    <tr>\n",
       "      <th>4</th>\n",
       "      <td>10000055</td>\n",
       "      <td>CAH10-01</td>\n",
       "      <td>30.0</td>\n",
       "    </tr>\n",
       "    <tr>\n",
       "      <th>5</th>\n",
       "      <td>10000055</td>\n",
       "      <td>CAH17-01</td>\n",
       "      <td>20.0</td>\n",
       "    </tr>\n",
       "    <tr>\n",
       "      <th>7</th>\n",
       "      <td>10000055</td>\n",
       "      <td>CAH06-01</td>\n",
       "      <td>15.0</td>\n",
       "    </tr>\n",
       "    <tr>\n",
       "      <th>12</th>\n",
       "      <td>10000163</td>\n",
       "      <td>CAH02-03</td>\n",
       "      <td>65.0</td>\n",
       "    </tr>\n",
       "  </tbody>\n",
       "</table>\n",
       "</div>"
      ],
      "text/plain": [
       "       UKPRN       EMPSBJ  WORK\n",
       "2   10000055  CAH06-01-01  75.0\n",
       "4   10000055     CAH10-01  30.0\n",
       "5   10000055     CAH17-01  20.0\n",
       "7   10000055     CAH06-01  15.0\n",
       "12  10000163     CAH02-03  65.0"
      ]
     },
     "execution_count": 17,
     "metadata": {},
     "output_type": "execute_result"
    }
   ],
   "source": [
    "eedit = eorig.copy()\n",
    "\n",
    "eedit = eedit[eedit.EMPSBJ.isnull() == False]\n",
    "eedit = eedit[eedit.KISMODE == 1] # keep full-time\n",
    "eedit = eedit[['UKPRN', 'EMPSBJ', 'WORK']]\n",
    "eedit.drop_duplicates(subset=['UKPRN', 'EMPSBJ'], keep='first', inplace=True)\n",
    "\n",
    "print(eedit.shape)\n",
    "eedit.head(5)"
   ]
  },
  {
   "cell_type": "code",
   "execution_count": 18,
   "metadata": {},
   "outputs": [
    {
     "data": {
      "text/html": [
       "<div>\n",
       "<style scoped>\n",
       "    .dataframe tbody tr th:only-of-type {\n",
       "        vertical-align: middle;\n",
       "    }\n",
       "\n",
       "    .dataframe tbody tr th {\n",
       "        vertical-align: top;\n",
       "    }\n",
       "\n",
       "    .dataframe thead th {\n",
       "        text-align: right;\n",
       "    }\n",
       "</style>\n",
       "<table border=\"1\" class=\"dataframe\">\n",
       "  <thead>\n",
       "    <tr style=\"text-align: right;\">\n",
       "      <th></th>\n",
       "      <th>UKPRN</th>\n",
       "      <th>EMPSBJ</th>\n",
       "      <th>WORK</th>\n",
       "      <th>SBJLEN</th>\n",
       "    </tr>\n",
       "  </thead>\n",
       "  <tbody>\n",
       "    <tr>\n",
       "      <th>2</th>\n",
       "      <td>10000055</td>\n",
       "      <td>CAH06-01-01</td>\n",
       "      <td>75.0</td>\n",
       "      <td>11</td>\n",
       "    </tr>\n",
       "    <tr>\n",
       "      <th>4</th>\n",
       "      <td>10000055</td>\n",
       "      <td>CAH10-01</td>\n",
       "      <td>30.0</td>\n",
       "      <td>8</td>\n",
       "    </tr>\n",
       "  </tbody>\n",
       "</table>\n",
       "</div>"
      ],
      "text/plain": [
       "      UKPRN       EMPSBJ  WORK  SBJLEN\n",
       "2  10000055  CAH06-01-01  75.0      11\n",
       "4  10000055     CAH10-01  30.0       8"
      ]
     },
     "execution_count": 18,
     "metadata": {},
     "output_type": "execute_result"
    }
   ],
   "source": [
    "eedit['SBJLEN'] = eedit.EMPSBJ.apply(len)\n",
    "\n",
    "eedit.head(2)"
   ]
  },
  {
   "cell_type": "code",
   "execution_count": 19,
   "metadata": {},
   "outputs": [
    {
     "data": {
      "text/html": [
       "<div>\n",
       "<style scoped>\n",
       "    .dataframe tbody tr th:only-of-type {\n",
       "        vertical-align: middle;\n",
       "    }\n",
       "\n",
       "    .dataframe tbody tr th {\n",
       "        vertical-align: top;\n",
       "    }\n",
       "\n",
       "    .dataframe thead th {\n",
       "        text-align: right;\n",
       "    }\n",
       "</style>\n",
       "<table border=\"1\" class=\"dataframe\">\n",
       "  <thead>\n",
       "    <tr style=\"text-align: right;\">\n",
       "      <th></th>\n",
       "      <th>UKPRN</th>\n",
       "      <th>Subject Code</th>\n",
       "      <th>Value</th>\n",
       "      <th>Cat</th>\n",
       "    </tr>\n",
       "  </thead>\n",
       "  <tbody>\n",
       "    <tr>\n",
       "      <th>2</th>\n",
       "      <td>10000055</td>\n",
       "      <td>CAH06-01-01</td>\n",
       "      <td>0.75</td>\n",
       "      <td>02Employment</td>\n",
       "    </tr>\n",
       "    <tr>\n",
       "      <th>23</th>\n",
       "      <td>10000248</td>\n",
       "      <td>CAH21-01-06</td>\n",
       "      <td>0.95</td>\n",
       "      <td>02Employment</td>\n",
       "    </tr>\n",
       "  </tbody>\n",
       "</table>\n",
       "</div>"
      ],
      "text/plain": [
       "       UKPRN Subject Code  Value           Cat\n",
       "2   10000055  CAH06-01-01   0.75  02Employment\n",
       "23  10000248  CAH21-01-06   0.95  02Employment"
      ]
     },
     "execution_count": 19,
     "metadata": {},
     "output_type": "execute_result"
    }
   ],
   "source": [
    "eedit = eedit[eedit.SBJLEN == 11]\n",
    "eedit.drop(['SBJLEN'], axis=1, inplace=True)\n",
    "eedit['Cat'] = '02Employment'\n",
    "eedit['WORK'] = eedit['WORK']/100\n",
    "eedit.rename(columns={'EMPSBJ':'Subject Code','WORK':'Value'}, inplace=True)\n",
    "\n",
    "eedit.head(2)"
   ]
  },
  {
   "cell_type": "markdown",
   "metadata": {},
   "source": [
    "## Add Employment Uni name, Subject and Country"
   ]
  },
  {
   "cell_type": "code",
   "execution_count": 20,
   "metadata": {},
   "outputs": [
    {
     "name": "stdout",
     "output_type": "stream",
     "text": [
      "Schools in orig not in employment: 70\n",
      "Schools in employment not in orig: 76\n"
     ]
    }
   ],
   "source": [
    "print(f'Schools in orig not in employment: {len(set(aedit.UKPRN) - set(eedit.UKPRN))}')\n",
    "print(f'Schools in employment not in orig: {len(set(eedit.UKPRN) - set(aedit.UKPRN))}')"
   ]
  },
  {
   "cell_type": "code",
   "execution_count": 21,
   "metadata": {},
   "outputs": [
    {
     "data": {
      "text/plain": [
       "array(['ACM Guildford Limited', 'AECC University College',\n",
       "       'All Nations Christian College Limited',\n",
       "       'Architectural Association (Incorporated)',\n",
       "       'Arden University Limited', 'Arts Educational Schools(The)',\n",
       "       'Assemblies of God Incorporated',\n",
       "       'Backstage Academy (training) Ltd', 'BCNO Limited', 'BIMM Limited'],\n",
       "      dtype=object)"
      ]
     },
     "execution_count": 21,
     "metadata": {},
     "output_type": "execute_result"
    }
   ],
   "source": [
    "# visualize uni in orig not in employment\n",
    "aedit[aedit.UKPRN.isin((set(aedit.UKPRN) - set(eedit.UKPRN)))].Provider.unique()[:10]"
   ]
  },
  {
   "cell_type": "code",
   "execution_count": 22,
   "metadata": {},
   "outputs": [
    {
     "name": "stdout",
     "output_type": "stream",
     "text": [
      "Schools in employment not in orig: 0\n"
     ]
    }
   ],
   "source": [
    "# remove uni from employment not in orig\n",
    "eedit = eedit[eedit.UKPRN.isin((set(eedit.UKPRN) - set(aedit.UKPRN))) == False]\n",
    "print(f'Schools in employment not in orig: {len(set(eedit.UKPRN) - set(aedit.UKPRN))}')"
   ]
  },
  {
   "cell_type": "code",
   "execution_count": 23,
   "metadata": {},
   "outputs": [
    {
     "name": "stdout",
     "output_type": "stream",
     "text": [
      "Subjects in orig not in Employment: 0\n",
      "Subjects in Employment not in orig: 29\n"
     ]
    }
   ],
   "source": [
    "print(f\"Subjects in orig not in Employment: {len(set(aedit['Subject Code']) - set(eedit['Subject Code']))}\")\n",
    "print(f\"Subjects in Employment not in orig: {len(set(eedit['Subject Code']) - set(aedit['Subject Code']))}\")"
   ]
  },
  {
   "cell_type": "code",
   "execution_count": 24,
   "metadata": {},
   "outputs": [
    {
     "name": "stdout",
     "output_type": "stream",
     "text": [
      "Subjects in Employment not in orig: 0\n"
     ]
    }
   ],
   "source": [
    "# remove subjects from Employment not in orig\n",
    "eedit = eedit[eedit['Subject Code'].isin((set(eedit['Subject Code']) - set(aedit['Subject Code']))) == False]\n",
    "print(f\"Subjects in Employment not in orig: {len(set(eedit['Subject Code']) - set(aedit['Subject Code']))}\")"
   ]
  },
  {
   "cell_type": "code",
   "execution_count": 25,
   "metadata": {},
   "outputs": [
    {
     "name": "stdout",
     "output_type": "stream",
     "text": [
      "<class 'pandas.core.frame.DataFrame'>\n",
      "Int64Index: 3454 entries, 0 to 3453\n",
      "Data columns (total 7 columns):\n",
      "UKPRN           3454 non-null int64\n",
      "Provider        3454 non-null object\n",
      "Subject Code    3454 non-null object\n",
      "Subject         3454 non-null object\n",
      "Cat             3454 non-null object\n",
      "Value           3454 non-null float64\n",
      "Country         3454 non-null object\n",
      "dtypes: float64(1), int64(1), object(5)\n",
      "memory usage: 215.9+ KB\n",
      "None\n"
     ]
    },
    {
     "data": {
      "text/html": [
       "<div>\n",
       "<style scoped>\n",
       "    .dataframe tbody tr th:only-of-type {\n",
       "        vertical-align: middle;\n",
       "    }\n",
       "\n",
       "    .dataframe tbody tr th {\n",
       "        vertical-align: top;\n",
       "    }\n",
       "\n",
       "    .dataframe thead th {\n",
       "        text-align: right;\n",
       "    }\n",
       "</style>\n",
       "<table border=\"1\" class=\"dataframe\">\n",
       "  <thead>\n",
       "    <tr style=\"text-align: right;\">\n",
       "      <th></th>\n",
       "      <th>UKPRN</th>\n",
       "      <th>Provider</th>\n",
       "      <th>Subject Code</th>\n",
       "      <th>Subject</th>\n",
       "      <th>Cat</th>\n",
       "      <th>Value</th>\n",
       "      <th>Country</th>\n",
       "    </tr>\n",
       "  </thead>\n",
       "  <tbody>\n",
       "    <tr>\n",
       "      <th>0</th>\n",
       "      <td>10000055</td>\n",
       "      <td>Abingdon and Witney College</td>\n",
       "      <td>CAH06-01-01</td>\n",
       "      <td>Animal science</td>\n",
       "      <td>02Employment</td>\n",
       "      <td>0.75</td>\n",
       "      <td>England</td>\n",
       "    </tr>\n",
       "    <tr>\n",
       "      <th>1</th>\n",
       "      <td>10000415</td>\n",
       "      <td>Askham Bryan College</td>\n",
       "      <td>CAH06-01-01</td>\n",
       "      <td>Animal science</td>\n",
       "      <td>02Employment</td>\n",
       "      <td>0.70</td>\n",
       "      <td>England</td>\n",
       "    </tr>\n",
       "  </tbody>\n",
       "</table>\n",
       "</div>"
      ],
      "text/plain": [
       "      UKPRN                     Provider Subject Code         Subject  \\\n",
       "0  10000055  Abingdon and Witney College  CAH06-01-01  Animal science   \n",
       "1  10000415         Askham Bryan College  CAH06-01-01  Animal science   \n",
       "\n",
       "            Cat  Value  Country  \n",
       "0  02Employment   0.75  England  \n",
       "1  02Employment   0.70  England  "
      ]
     },
     "execution_count": 25,
     "metadata": {},
     "output_type": "execute_result"
    }
   ],
   "source": [
    "eedit = pd.merge(eedit, anamecn, on='UKPRN')\n",
    "eedit = pd.merge(eedit, asbj, on='Subject Code')\n",
    "eedit = eedit[list(aedit.columns)]\n",
    "\n",
    "print(eedit.info())\n",
    "eedit.head(2)"
   ]
  },
  {
   "cell_type": "markdown",
   "metadata": {},
   "source": [
    "## Append Salary and Employment data"
   ]
  },
  {
   "cell_type": "code",
   "execution_count": 26,
   "metadata": {},
   "outputs": [
    {
     "name": "stdout",
     "output_type": "stream",
     "text": [
      "Orig data shape: (55781, 7)\n",
      "Salary data shape: (2625, 7)\n",
      "Employment data shape: (3454, 7)\n",
      "Anticipated new length: 61860\n"
     ]
    }
   ],
   "source": [
    "print(f'Orig data shape: {aedit.shape}')\n",
    "print(f'Salary data shape: {sedit.shape}')\n",
    "print(f'Employment data shape: {eedit.shape}')\n",
    "print(f'Anticipated new length: {aedit.shape[0] + sedit.shape[0] + eedit.shape[0]}')"
   ]
  },
  {
   "cell_type": "code",
   "execution_count": 32,
   "metadata": {},
   "outputs": [
    {
     "name": "stdout",
     "output_type": "stream",
     "text": [
      "(61860, 7)\n"
     ]
    },
    {
     "data": {
      "text/html": [
       "<div>\n",
       "<style scoped>\n",
       "    .dataframe tbody tr th:only-of-type {\n",
       "        vertical-align: middle;\n",
       "    }\n",
       "\n",
       "    .dataframe tbody tr th {\n",
       "        vertical-align: top;\n",
       "    }\n",
       "\n",
       "    .dataframe thead th {\n",
       "        text-align: right;\n",
       "    }\n",
       "</style>\n",
       "<table border=\"1\" class=\"dataframe\">\n",
       "  <thead>\n",
       "    <tr style=\"text-align: right;\">\n",
       "      <th></th>\n",
       "      <th>UKPRN</th>\n",
       "      <th>Provider</th>\n",
       "      <th>Subject Code</th>\n",
       "      <th>Subject</th>\n",
       "      <th>Cat</th>\n",
       "      <th>Value</th>\n",
       "      <th>Country</th>\n",
       "    </tr>\n",
       "  </thead>\n",
       "  <tbody>\n",
       "    <tr>\n",
       "      <th>0</th>\n",
       "      <td>10000055</td>\n",
       "      <td>Abingdon and Witney College</td>\n",
       "      <td>CAH06-01-01</td>\n",
       "      <td>Animal science</td>\n",
       "      <td>02Employment</td>\n",
       "      <td>0.7500</td>\n",
       "      <td>England</td>\n",
       "    </tr>\n",
       "    <tr>\n",
       "      <th>1</th>\n",
       "      <td>10000055</td>\n",
       "      <td>Abingdon and Witney College</td>\n",
       "      <td>CAH06-01-01</td>\n",
       "      <td>Animal science</td>\n",
       "      <td>03Q27</td>\n",
       "      <td>0.9167</td>\n",
       "      <td>England</td>\n",
       "    </tr>\n",
       "    <tr>\n",
       "      <th>2</th>\n",
       "      <td>10000055</td>\n",
       "      <td>Abingdon and Witney College</td>\n",
       "      <td>CAH06-01-01</td>\n",
       "      <td>Animal science</td>\n",
       "      <td>Scale01</td>\n",
       "      <td>0.8333</td>\n",
       "      <td>England</td>\n",
       "    </tr>\n",
       "    <tr>\n",
       "      <th>3</th>\n",
       "      <td>10000055</td>\n",
       "      <td>Abingdon and Witney College</td>\n",
       "      <td>CAH06-01-01</td>\n",
       "      <td>Animal science</td>\n",
       "      <td>Scale02</td>\n",
       "      <td>0.9444</td>\n",
       "      <td>England</td>\n",
       "    </tr>\n",
       "    <tr>\n",
       "      <th>4</th>\n",
       "      <td>10000055</td>\n",
       "      <td>Abingdon and Witney College</td>\n",
       "      <td>CAH06-01-01</td>\n",
       "      <td>Animal science</td>\n",
       "      <td>Scale03</td>\n",
       "      <td>0.9583</td>\n",
       "      <td>England</td>\n",
       "    </tr>\n",
       "  </tbody>\n",
       "</table>\n",
       "</div>"
      ],
      "text/plain": [
       "      UKPRN                     Provider Subject Code         Subject  \\\n",
       "0  10000055  Abingdon and Witney College  CAH06-01-01  Animal science   \n",
       "1  10000055  Abingdon and Witney College  CAH06-01-01  Animal science   \n",
       "2  10000055  Abingdon and Witney College  CAH06-01-01  Animal science   \n",
       "3  10000055  Abingdon and Witney College  CAH06-01-01  Animal science   \n",
       "4  10000055  Abingdon and Witney College  CAH06-01-01  Animal science   \n",
       "\n",
       "            Cat   Value  Country  \n",
       "0  02Employment  0.7500  England  \n",
       "1         03Q27  0.9167  England  \n",
       "2       Scale01  0.8333  England  \n",
       "3       Scale02  0.9444  England  \n",
       "4       Scale03  0.9583  England  "
      ]
     },
     "execution_count": 32,
     "metadata": {},
     "output_type": "execute_result"
    }
   ],
   "source": [
    "new_merge = aedit.append(sedit)\n",
    "new_merge = new_merge.append(eedit)\n",
    "new_merge.sort_values(by=['UKPRN', 'Subject Code', 'Cat', 'Country'], inplace=True)\n",
    "new_merge.reset_index(drop=True, inplace=True)\n",
    "\n",
    "print(new_merge.shape)\n",
    "new_merge.head()"
   ]
  },
  {
   "cell_type": "code",
   "execution_count": 35,
   "metadata": {},
   "outputs": [
    {
     "data": {
      "text/plain": [
       "Scale03         5590\n",
       "Scale01         5590\n",
       "Scale07         5590\n",
       "Scale05         5590\n",
       "Scale04         5590\n",
       "Scale02         5590\n",
       "Scale06         5590\n",
       "Scale08         5587\n",
       "03Q27           5580\n",
       "ZQ26            5484\n",
       "02Employment    3454\n",
       "01SalMedian     2625\n",
       "Name: Cat, dtype: int64"
      ]
     },
     "execution_count": 35,
     "metadata": {},
     "output_type": "execute_result"
    }
   ],
   "source": [
    "new_merge.Cat.value_counts()"
   ]
  },
  {
   "cell_type": "code",
   "execution_count": 36,
   "metadata": {},
   "outputs": [
    {
     "name": "stdout",
     "output_type": "stream",
     "text": [
      "<class 'pandas.core.frame.DataFrame'>\n",
      "RangeIndex: 61860 entries, 0 to 61859\n",
      "Data columns (total 7 columns):\n",
      "UKPRN           61860 non-null int64\n",
      "Provider        61860 non-null object\n",
      "Subject Code    61860 non-null object\n",
      "Subject         61860 non-null object\n",
      "Cat             61860 non-null object\n",
      "Value           61860 non-null float64\n",
      "Country         61860 non-null object\n",
      "dtypes: float64(1), int64(1), object(5)\n",
      "memory usage: 3.3+ MB\n"
     ]
    }
   ],
   "source": [
    "new_merge.info()"
   ]
  },
  {
   "cell_type": "code",
   "execution_count": 37,
   "metadata": {},
   "outputs": [],
   "source": [
    "# new_merge.to_csv('he_choose_salemp.csv')"
   ]
  },
  {
   "cell_type": "markdown",
   "metadata": {},
   "source": [
    "## Extra code"
   ]
  },
  {
   "cell_type": "code",
   "execution_count": null,
   "metadata": {},
   "outputs": [],
   "source": [
    "# # code that identified repeats in uni-subject combo\n",
    "# eedit['Counter'] = 1\n",
    "\n",
    "# e_piv = pd.pivot_table(eedit,  values='Counter', index=['UKPRN', 'Subject'], aggfunc=np.sum)\n",
    "\n",
    "# e_flat = pd.DataFrame(e_piv.to_records())\n",
    "\n",
    "# print(len(e_flat[e_flat.Counter == 2].Subject.unique()))\n",
    "# e_flat[e_flat.Counter == 2].Subject.unique()"
   ]
  },
  {
   "cell_type": "code",
   "execution_count": null,
   "metadata": {},
   "outputs": [],
   "source": [
    "test = new_merge.copy()\n",
    "test2 = new_merge.copy()"
   ]
  },
  {
   "cell_type": "code",
   "execution_count": null,
   "metadata": {},
   "outputs": [],
   "source": [
    "test = test[(test.Provider == 'The Trafford College Group') & (test.Subject == 'Education')]"
   ]
  },
  {
   "cell_type": "code",
   "execution_count": null,
   "metadata": {},
   "outputs": [],
   "source": [
    "test"
   ]
  },
  {
   "cell_type": "code",
   "execution_count": null,
   "metadata": {},
   "outputs": [],
   "source": [
    "one='01SalMedian'\n",
    "two='Scale01'\n",
    "three='Scale05'"
   ]
  },
  {
   "cell_type": "code",
   "execution_count": null,
   "metadata": {},
   "outputs": [],
   "source": [
    "test2 = test2[(test2.Country == 'England') & (test2.Subject == 'Law')]\n",
    "test2 = test2[(test2.Cat == one) | (test2.Cat == two) | (test2.Cat == three)]\n",
    "\n",
    "print(test2.shape)\n",
    "test2.head(5)"
   ]
  },
  {
   "cell_type": "code",
   "execution_count": null,
   "metadata": {},
   "outputs": [],
   "source": [
    "test2_vc = test2.Provider.value_counts()\n",
    "\n",
    "print(len(test2_vc[test2_vc == 3]))\n",
    "print(len(test2_vc[test2_vc == 2]))\n",
    "print(len(test2_vc[test2_vc == 1]))"
   ]
  },
  {
   "cell_type": "code",
   "execution_count": null,
   "metadata": {},
   "outputs": [],
   "source": [
    "test2_list = test2_vc[test2_vc == 3].index.tolist()\n",
    "\n",
    "test2_list[:10]"
   ]
  },
  {
   "cell_type": "code",
   "execution_count": null,
   "metadata": {},
   "outputs": [],
   "source": [
    "test2f = test2[test2.Provider.isin(test2_list)]\n",
    "\n",
    "test2f.shape"
   ]
  },
  {
   "cell_type": "code",
   "execution_count": null,
   "metadata": {},
   "outputs": [],
   "source": [
    "192/3"
   ]
  },
  {
   "cell_type": "code",
   "execution_count": null,
   "metadata": {},
   "outputs": [],
   "source": [
    "test2f[test2f.Provider == 'Anglia Ruskin University Higher Corporation']"
   ]
  },
  {
   "cell_type": "code",
   "execution_count": null,
   "metadata": {},
   "outputs": [],
   "source": [
    "test = new_merge.copy()\n",
    "test = test[(test.Country == 'England') & (test.Subject == 'Sociology')]\n",
    "# test = test[test.Provider == 'The University of Bath']\n",
    "\n",
    "test[test.Cat == one].Provider.values"
   ]
  },
  {
   "cell_type": "code",
   "execution_count": null,
   "metadata": {},
   "outputs": [],
   "source": []
  },
  {
   "cell_type": "code",
   "execution_count": null,
   "metadata": {},
   "outputs": [],
   "source": [
    "# # identified that repeats likely due to other undergrad\n",
    "# print(len(aorig[aorig.Level != 'First degree'].Subject.unique()))\n",
    "# aorig[aorig.Level != 'First degree'].Subject.unique()"
   ]
  },
  {
   "cell_type": "code",
   "execution_count": null,
   "metadata": {},
   "outputs": [],
   "source": []
  }
 ],
 "metadata": {
  "kernelspec": {
   "display_name": "Python 3",
   "language": "python",
   "name": "python3"
  },
  "language_info": {
   "codemirror_mode": {
    "name": "ipython",
    "version": 3
   },
   "file_extension": ".py",
   "mimetype": "text/x-python",
   "name": "python",
   "nbconvert_exporter": "python",
   "pygments_lexer": "ipython3",
   "version": "3.7.3"
  }
 },
 "nbformat": 4,
 "nbformat_minor": 2
}
