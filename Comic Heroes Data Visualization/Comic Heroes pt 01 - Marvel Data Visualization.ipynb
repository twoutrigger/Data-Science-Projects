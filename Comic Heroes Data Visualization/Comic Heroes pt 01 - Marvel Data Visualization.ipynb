{
 "cells": [
  {
   "cell_type": "code",
   "execution_count": 1,
   "metadata": {},
   "outputs": [],
   "source": [
    "# In this notebook:\n",
    "\n",
    "# I look at characteristic changes of comic heroes over time;\n",
    "# i.e. trends in gender, sexual orientation, death rate, etc.\n",
    "# I utilize time series, data visualization and pivot tables"
   ]
  },
  {
   "cell_type": "code",
   "execution_count": 2,
   "metadata": {},
   "outputs": [],
   "source": [
    "data_url = 'https://www.kaggle.com/fivethirtyeight/fivethirtyeight-comic-characters-dataset#dc-wikia-data.csv'"
   ]
  },
  {
   "cell_type": "code",
   "execution_count": 60,
   "metadata": {},
   "outputs": [],
   "source": [
    "import numpy as np\n",
    "import pandas as pd\n",
    "import matplotlib.pyplot as plt\n",
    "import seaborn as sns\n",
    "\n",
    "plt.style.use('fivethirtyeight')\n",
    "%matplotlib inline"
   ]
  },
  {
   "cell_type": "code",
   "execution_count": 4,
   "metadata": {},
   "outputs": [
    {
     "name": "stdout",
     "output_type": "stream",
     "text": [
      "Marvel dataset shape is: (16376, 13)\n"
     ]
    },
    {
     "data": {
      "text/html": [
       "<div>\n",
       "<style scoped>\n",
       "    .dataframe tbody tr th:only-of-type {\n",
       "        vertical-align: middle;\n",
       "    }\n",
       "\n",
       "    .dataframe tbody tr th {\n",
       "        vertical-align: top;\n",
       "    }\n",
       "\n",
       "    .dataframe thead th {\n",
       "        text-align: right;\n",
       "    }\n",
       "</style>\n",
       "<table border=\"1\" class=\"dataframe\">\n",
       "  <thead>\n",
       "    <tr style=\"text-align: right;\">\n",
       "      <th></th>\n",
       "      <th>page_id</th>\n",
       "      <th>name</th>\n",
       "      <th>urlslug</th>\n",
       "      <th>ID</th>\n",
       "      <th>ALIGN</th>\n",
       "      <th>EYE</th>\n",
       "      <th>HAIR</th>\n",
       "      <th>SEX</th>\n",
       "      <th>GSM</th>\n",
       "      <th>ALIVE</th>\n",
       "      <th>APPEARANCES</th>\n",
       "      <th>FIRST APPEARANCE</th>\n",
       "      <th>Year</th>\n",
       "    </tr>\n",
       "  </thead>\n",
       "  <tbody>\n",
       "    <tr>\n",
       "      <th>0</th>\n",
       "      <td>1678</td>\n",
       "      <td>Spider-Man (Peter Parker)</td>\n",
       "      <td>\\/Spider-Man_(Peter_Parker)</td>\n",
       "      <td>Secret Identity</td>\n",
       "      <td>Good Characters</td>\n",
       "      <td>Hazel Eyes</td>\n",
       "      <td>Brown Hair</td>\n",
       "      <td>Male Characters</td>\n",
       "      <td>NaN</td>\n",
       "      <td>Living Characters</td>\n",
       "      <td>4043.0</td>\n",
       "      <td>Aug-62</td>\n",
       "      <td>1962.0</td>\n",
       "    </tr>\n",
       "    <tr>\n",
       "      <th>1</th>\n",
       "      <td>7139</td>\n",
       "      <td>Captain America (Steven Rogers)</td>\n",
       "      <td>\\/Captain_America_(Steven_Rogers)</td>\n",
       "      <td>Public Identity</td>\n",
       "      <td>Good Characters</td>\n",
       "      <td>Blue Eyes</td>\n",
       "      <td>White Hair</td>\n",
       "      <td>Male Characters</td>\n",
       "      <td>NaN</td>\n",
       "      <td>Living Characters</td>\n",
       "      <td>3360.0</td>\n",
       "      <td>Mar-41</td>\n",
       "      <td>1941.0</td>\n",
       "    </tr>\n",
       "    <tr>\n",
       "      <th>2</th>\n",
       "      <td>64786</td>\n",
       "      <td>Wolverine (James \\\"Logan\\\" Howlett)</td>\n",
       "      <td>\\/Wolverine_(James_%22Logan%22_Howlett)</td>\n",
       "      <td>Public Identity</td>\n",
       "      <td>Neutral Characters</td>\n",
       "      <td>Blue Eyes</td>\n",
       "      <td>Black Hair</td>\n",
       "      <td>Male Characters</td>\n",
       "      <td>NaN</td>\n",
       "      <td>Living Characters</td>\n",
       "      <td>3061.0</td>\n",
       "      <td>Oct-74</td>\n",
       "      <td>1974.0</td>\n",
       "    </tr>\n",
       "  </tbody>\n",
       "</table>\n",
       "</div>"
      ],
      "text/plain": [
       "   page_id                                 name  \\\n",
       "0     1678            Spider-Man (Peter Parker)   \n",
       "1     7139      Captain America (Steven Rogers)   \n",
       "2    64786  Wolverine (James \\\"Logan\\\" Howlett)   \n",
       "\n",
       "                                   urlslug               ID  \\\n",
       "0              \\/Spider-Man_(Peter_Parker)  Secret Identity   \n",
       "1        \\/Captain_America_(Steven_Rogers)  Public Identity   \n",
       "2  \\/Wolverine_(James_%22Logan%22_Howlett)  Public Identity   \n",
       "\n",
       "                ALIGN         EYE        HAIR              SEX  GSM  \\\n",
       "0     Good Characters  Hazel Eyes  Brown Hair  Male Characters  NaN   \n",
       "1     Good Characters   Blue Eyes  White Hair  Male Characters  NaN   \n",
       "2  Neutral Characters   Blue Eyes  Black Hair  Male Characters  NaN   \n",
       "\n",
       "               ALIVE  APPEARANCES FIRST APPEARANCE    Year  \n",
       "0  Living Characters       4043.0           Aug-62  1962.0  \n",
       "1  Living Characters       3360.0           Mar-41  1941.0  \n",
       "2  Living Characters       3061.0           Oct-74  1974.0  "
      ]
     },
     "execution_count": 4,
     "metadata": {},
     "output_type": "execute_result"
    }
   ],
   "source": [
    "morig = pd.read_csv('marvel-wikia-data.csv',header=0,index_col=None)\n",
    "print(f'Marvel dataset shape is: {morig.shape}')\n",
    "\n",
    "morig.head(3)"
   ]
  },
  {
   "cell_type": "code",
   "execution_count": 5,
   "metadata": {},
   "outputs": [
    {
     "data": {
      "text/plain": [
       "page_id               int64\n",
       "name                 object\n",
       "urlslug              object\n",
       "ID                   object\n",
       "ALIGN                object\n",
       "EYE                  object\n",
       "HAIR                 object\n",
       "SEX                  object\n",
       "GSM                  object\n",
       "ALIVE                object\n",
       "APPEARANCES         float64\n",
       "FIRST APPEARANCE     object\n",
       "Year                float64\n",
       "dtype: object"
      ]
     },
     "execution_count": 5,
     "metadata": {},
     "output_type": "execute_result"
    }
   ],
   "source": [
    "# visualize column datatypes\n",
    "morig.dtypes"
   ]
  },
  {
   "cell_type": "code",
   "execution_count": 6,
   "metadata": {},
   "outputs": [
    {
     "data": {
      "text/plain": [
       "True"
      ]
     },
     "execution_count": 6,
     "metadata": {},
     "output_type": "execute_result"
    }
   ],
   "source": [
    "# verify page_id is unique\n",
    "morig['page_id'].is_unique"
   ]
  },
  {
   "cell_type": "code",
   "execution_count": 7,
   "metadata": {},
   "outputs": [
    {
     "name": "stdout",
     "output_type": "stream",
     "text": [
      "Column ID has 3770 rows with NaN\n"
     ]
    },
    {
     "data": {
      "text/html": [
       "<div>\n",
       "<style scoped>\n",
       "    .dataframe tbody tr th:only-of-type {\n",
       "        vertical-align: middle;\n",
       "    }\n",
       "\n",
       "    .dataframe tbody tr th {\n",
       "        vertical-align: top;\n",
       "    }\n",
       "\n",
       "    .dataframe thead th {\n",
       "        text-align: right;\n",
       "    }\n",
       "</style>\n",
       "<table border=\"1\" class=\"dataframe\">\n",
       "  <thead>\n",
       "    <tr style=\"text-align: right;\">\n",
       "      <th></th>\n",
       "      <th>page_id</th>\n",
       "      <th>name</th>\n",
       "      <th>urlslug</th>\n",
       "      <th>ID</th>\n",
       "      <th>ALIGN</th>\n",
       "      <th>EYE</th>\n",
       "      <th>HAIR</th>\n",
       "      <th>SEX</th>\n",
       "      <th>GSM</th>\n",
       "      <th>ALIVE</th>\n",
       "      <th>APPEARANCES</th>\n",
       "      <th>FIRST APPEARANCE</th>\n",
       "      <th>Year</th>\n",
       "    </tr>\n",
       "  </thead>\n",
       "  <tbody>\n",
       "    <tr>\n",
       "      <th>467</th>\n",
       "      <td>2028</td>\n",
       "      <td>Arthur Parks (Earth-616)</td>\n",
       "      <td>\\/Arthur_Parks_(Earth-616)</td>\n",
       "      <td>NaN</td>\n",
       "      <td>Bad Characters</td>\n",
       "      <td>Variable Eyes</td>\n",
       "      <td>Variable Hair</td>\n",
       "      <td>Male Characters</td>\n",
       "      <td>NaN</td>\n",
       "      <td>Living Characters</td>\n",
       "      <td>88.0</td>\n",
       "      <td>Nov-66</td>\n",
       "      <td>1966.0</td>\n",
       "    </tr>\n",
       "    <tr>\n",
       "      <th>536</th>\n",
       "      <td>65598</td>\n",
       "      <td>Kathryn Cushing (Earth-616)</td>\n",
       "      <td>\\/Kathryn_Cushing_(Earth-616)</td>\n",
       "      <td>NaN</td>\n",
       "      <td>NaN</td>\n",
       "      <td>Blue Eyes</td>\n",
       "      <td>Blond Hair</td>\n",
       "      <td>Female Characters</td>\n",
       "      <td>NaN</td>\n",
       "      <td>Living Characters</td>\n",
       "      <td>72.0</td>\n",
       "      <td>Nov-85</td>\n",
       "      <td>1985.0</td>\n",
       "    </tr>\n",
       "    <tr>\n",
       "      <th>573</th>\n",
       "      <td>2159</td>\n",
       "      <td>Calvin Rankin (Earth-616)</td>\n",
       "      <td>\\/Calvin_Rankin_(Earth-616)</td>\n",
       "      <td>NaN</td>\n",
       "      <td>Good Characters</td>\n",
       "      <td>Brown Eyes</td>\n",
       "      <td>Brown Hair</td>\n",
       "      <td>Male Characters</td>\n",
       "      <td>NaN</td>\n",
       "      <td>Living Characters</td>\n",
       "      <td>67.0</td>\n",
       "      <td>Apr-66</td>\n",
       "      <td>1966.0</td>\n",
       "    </tr>\n",
       "  </tbody>\n",
       "</table>\n",
       "</div>"
      ],
      "text/plain": [
       "     page_id                         name                        urlslug   ID  \\\n",
       "467     2028     Arthur Parks (Earth-616)     \\/Arthur_Parks_(Earth-616)  NaN   \n",
       "536    65598  Kathryn Cushing (Earth-616)  \\/Kathryn_Cushing_(Earth-616)  NaN   \n",
       "573     2159    Calvin Rankin (Earth-616)    \\/Calvin_Rankin_(Earth-616)  NaN   \n",
       "\n",
       "               ALIGN            EYE           HAIR                SEX  GSM  \\\n",
       "467   Bad Characters  Variable Eyes  Variable Hair    Male Characters  NaN   \n",
       "536              NaN      Blue Eyes     Blond Hair  Female Characters  NaN   \n",
       "573  Good Characters     Brown Eyes     Brown Hair    Male Characters  NaN   \n",
       "\n",
       "                 ALIVE  APPEARANCES FIRST APPEARANCE    Year  \n",
       "467  Living Characters         88.0           Nov-66  1966.0  \n",
       "536  Living Characters         72.0           Nov-85  1985.0  \n",
       "573  Living Characters         67.0           Apr-66  1966.0  "
      ]
     },
     "execution_count": 7,
     "metadata": {},
     "output_type": "execute_result"
    }
   ],
   "source": [
    "print(f\"Column ID has {len(morig[morig['ID'].isnull()])} rows with NaN\")\n",
    "morig[morig['ID'].isnull()][:3]"
   ]
  },
  {
   "cell_type": "code",
   "execution_count": 8,
   "metadata": {},
   "outputs": [
    {
     "data": {
      "text/html": [
       "<div>\n",
       "<style scoped>\n",
       "    .dataframe tbody tr th:only-of-type {\n",
       "        vertical-align: middle;\n",
       "    }\n",
       "\n",
       "    .dataframe tbody tr th {\n",
       "        vertical-align: top;\n",
       "    }\n",
       "\n",
       "    .dataframe thead th {\n",
       "        text-align: right;\n",
       "    }\n",
       "</style>\n",
       "<table border=\"1\" class=\"dataframe\">\n",
       "  <thead>\n",
       "    <tr style=\"text-align: right;\">\n",
       "      <th></th>\n",
       "      <th>page_id</th>\n",
       "      <th>name</th>\n",
       "      <th>urlslug</th>\n",
       "      <th>ID</th>\n",
       "      <th>ALIGN</th>\n",
       "      <th>EYE</th>\n",
       "      <th>HAIR</th>\n",
       "      <th>SEX</th>\n",
       "      <th>GSM</th>\n",
       "      <th>ALIVE</th>\n",
       "      <th>APPEARANCES</th>\n",
       "      <th>FIRST APPEARANCE</th>\n",
       "      <th>Year</th>\n",
       "    </tr>\n",
       "  </thead>\n",
       "  <tbody>\n",
       "    <tr>\n",
       "      <th>467</th>\n",
       "      <td>2028</td>\n",
       "      <td>Arthur Parks (Earth-616)</td>\n",
       "      <td>\\/Arthur_Parks_(Earth-616)</td>\n",
       "      <td>Other Identity</td>\n",
       "      <td>Bad Characters</td>\n",
       "      <td>Variable Eyes</td>\n",
       "      <td>Variable Hair</td>\n",
       "      <td>Male Characters</td>\n",
       "      <td>NaN</td>\n",
       "      <td>Living Characters</td>\n",
       "      <td>88.0</td>\n",
       "      <td>Nov-66</td>\n",
       "      <td>1966.0</td>\n",
       "    </tr>\n",
       "    <tr>\n",
       "      <th>536</th>\n",
       "      <td>65598</td>\n",
       "      <td>Kathryn Cushing (Earth-616)</td>\n",
       "      <td>\\/Kathryn_Cushing_(Earth-616)</td>\n",
       "      <td>Other Identity</td>\n",
       "      <td>NaN</td>\n",
       "      <td>Blue Eyes</td>\n",
       "      <td>Blond Hair</td>\n",
       "      <td>Female Characters</td>\n",
       "      <td>NaN</td>\n",
       "      <td>Living Characters</td>\n",
       "      <td>72.0</td>\n",
       "      <td>Nov-85</td>\n",
       "      <td>1985.0</td>\n",
       "    </tr>\n",
       "    <tr>\n",
       "      <th>573</th>\n",
       "      <td>2159</td>\n",
       "      <td>Calvin Rankin (Earth-616)</td>\n",
       "      <td>\\/Calvin_Rankin_(Earth-616)</td>\n",
       "      <td>Other Identity</td>\n",
       "      <td>Good Characters</td>\n",
       "      <td>Brown Eyes</td>\n",
       "      <td>Brown Hair</td>\n",
       "      <td>Male Characters</td>\n",
       "      <td>NaN</td>\n",
       "      <td>Living Characters</td>\n",
       "      <td>67.0</td>\n",
       "      <td>Apr-66</td>\n",
       "      <td>1966.0</td>\n",
       "    </tr>\n",
       "  </tbody>\n",
       "</table>\n",
       "</div>"
      ],
      "text/plain": [
       "     page_id                         name                        urlslug  \\\n",
       "467     2028     Arthur Parks (Earth-616)     \\/Arthur_Parks_(Earth-616)   \n",
       "536    65598  Kathryn Cushing (Earth-616)  \\/Kathryn_Cushing_(Earth-616)   \n",
       "573     2159    Calvin Rankin (Earth-616)    \\/Calvin_Rankin_(Earth-616)   \n",
       "\n",
       "                 ID            ALIGN            EYE           HAIR  \\\n",
       "467  Other Identity   Bad Characters  Variable Eyes  Variable Hair   \n",
       "536  Other Identity              NaN      Blue Eyes     Blond Hair   \n",
       "573  Other Identity  Good Characters     Brown Eyes     Brown Hair   \n",
       "\n",
       "                   SEX  GSM              ALIVE  APPEARANCES FIRST APPEARANCE  \\\n",
       "467    Male Characters  NaN  Living Characters         88.0           Nov-66   \n",
       "536  Female Characters  NaN  Living Characters         72.0           Nov-85   \n",
       "573    Male Characters  NaN  Living Characters         67.0           Apr-66   \n",
       "\n",
       "       Year  \n",
       "467  1966.0  \n",
       "536  1985.0  \n",
       "573  1966.0  "
      ]
     },
     "execution_count": 8,
     "metadata": {},
     "output_type": "execute_result"
    }
   ],
   "source": [
    "morig['ID'].fillna(value='Other Identity', inplace=True)\n",
    "\n",
    "morig[morig['ID'] == 'Other Identity'][:3]"
   ]
  },
  {
   "cell_type": "code",
   "execution_count": 9,
   "metadata": {},
   "outputs": [
    {
     "name": "stdout",
     "output_type": "stream",
     "text": [
      "68    Samuel Wilson (Earth-616)\n",
      "Name: name, dtype: object\n"
     ]
    },
    {
     "data": {
      "text/html": [
       "<div>\n",
       "<style scoped>\n",
       "    .dataframe tbody tr th:only-of-type {\n",
       "        vertical-align: middle;\n",
       "    }\n",
       "\n",
       "    .dataframe tbody tr th {\n",
       "        vertical-align: top;\n",
       "    }\n",
       "\n",
       "    .dataframe thead th {\n",
       "        text-align: right;\n",
       "    }\n",
       "</style>\n",
       "<table border=\"1\" class=\"dataframe\">\n",
       "  <thead>\n",
       "    <tr style=\"text-align: right;\">\n",
       "      <th></th>\n",
       "      <th>page_id</th>\n",
       "      <th>name</th>\n",
       "      <th>urlslug</th>\n",
       "      <th>ID</th>\n",
       "      <th>ALIGN</th>\n",
       "      <th>EYE</th>\n",
       "      <th>HAIR</th>\n",
       "      <th>SEX</th>\n",
       "      <th>GSM</th>\n",
       "      <th>ALIVE</th>\n",
       "      <th>APPEARANCES</th>\n",
       "      <th>FIRST APPEARANCE</th>\n",
       "      <th>Year</th>\n",
       "    </tr>\n",
       "  </thead>\n",
       "  <tbody>\n",
       "    <tr>\n",
       "      <th>1</th>\n",
       "      <td>7139</td>\n",
       "      <td>Captain America (Steven Rogers)</td>\n",
       "      <td>\\/Captain_America_(Steven_Rogers)</td>\n",
       "      <td>Public Identity</td>\n",
       "      <td>Good Characters</td>\n",
       "      <td>Blue Eyes</td>\n",
       "      <td>White Hair</td>\n",
       "      <td>Male Characters</td>\n",
       "      <td>NaN</td>\n",
       "      <td>Living Characters</td>\n",
       "      <td>3360.0</td>\n",
       "      <td>Mar-41</td>\n",
       "      <td>1941.0</td>\n",
       "    </tr>\n",
       "    <tr>\n",
       "      <th>10719</th>\n",
       "      <td>89822</td>\n",
       "      <td>Number 5 (Captain America Comics) (Earth-616)</td>\n",
       "      <td>\\/Number_5_(Captain_America_Comics)_(Earth-616)</td>\n",
       "      <td>Secret Identity</td>\n",
       "      <td>NaN</td>\n",
       "      <td>NaN</td>\n",
       "      <td>NaN</td>\n",
       "      <td>NaN</td>\n",
       "      <td>NaN</td>\n",
       "      <td>Living Characters</td>\n",
       "      <td>1.0</td>\n",
       "      <td>Mar-41</td>\n",
       "      <td>1941.0</td>\n",
       "    </tr>\n",
       "    <tr>\n",
       "      <th>11041</th>\n",
       "      <td>484940</td>\n",
       "      <td>Izan (Captain America Foe) (Earth-616)</td>\n",
       "      <td>\\/Izan_(Captain_America_Foe)_(Earth-616)</td>\n",
       "      <td>Secret Identity</td>\n",
       "      <td>Bad Characters</td>\n",
       "      <td>NaN</td>\n",
       "      <td>Bald</td>\n",
       "      <td>Male Characters</td>\n",
       "      <td>NaN</td>\n",
       "      <td>Deceased Characters</td>\n",
       "      <td>1.0</td>\n",
       "      <td>Feb-43</td>\n",
       "      <td>1943.0</td>\n",
       "    </tr>\n",
       "    <tr>\n",
       "      <th>11197</th>\n",
       "      <td>495227</td>\n",
       "      <td>Hercules (Captain America Past Life) (Earth-616)</td>\n",
       "      <td>\\/Hercules_(Captain_America_Past_Life)_(Earth-...</td>\n",
       "      <td>Secret Identity</td>\n",
       "      <td>Good Characters</td>\n",
       "      <td>Blue Eyes</td>\n",
       "      <td>Blond Hair</td>\n",
       "      <td>Male Characters</td>\n",
       "      <td>NaN</td>\n",
       "      <td>Living Characters</td>\n",
       "      <td>1.0</td>\n",
       "      <td>May-44</td>\n",
       "      <td>1944.0</td>\n",
       "    </tr>\n",
       "    <tr>\n",
       "      <th>11874</th>\n",
       "      <td>669440</td>\n",
       "      <td>Captain America (Impersonator, Sons of the Ser...</td>\n",
       "      <td>\\/Captain_America_(Impersonator,_Sons_of_the_S...</td>\n",
       "      <td>Secret Identity</td>\n",
       "      <td>Bad Characters</td>\n",
       "      <td>NaN</td>\n",
       "      <td>NaN</td>\n",
       "      <td>Male Characters</td>\n",
       "      <td>NaN</td>\n",
       "      <td>Living Characters</td>\n",
       "      <td>1.0</td>\n",
       "      <td>Oct-66</td>\n",
       "      <td>1966.0</td>\n",
       "    </tr>\n",
       "    <tr>\n",
       "      <th>13744</th>\n",
       "      <td>755271</td>\n",
       "      <td>Captain America (Taskmaster Robot) (Earth-616)</td>\n",
       "      <td>\\/Captain_America_(Taskmaster_Robot)_(Earth-616)</td>\n",
       "      <td>Secret Identity</td>\n",
       "      <td>Bad Characters</td>\n",
       "      <td>NaN</td>\n",
       "      <td>NaN</td>\n",
       "      <td>Male Characters</td>\n",
       "      <td>NaN</td>\n",
       "      <td>Living Characters</td>\n",
       "      <td>1.0</td>\n",
       "      <td>Oct-98</td>\n",
       "      <td>1998.0</td>\n",
       "    </tr>\n",
       "  </tbody>\n",
       "</table>\n",
       "</div>"
      ],
      "text/plain": [
       "       page_id                                               name  \\\n",
       "1         7139                    Captain America (Steven Rogers)   \n",
       "10719    89822      Number 5 (Captain America Comics) (Earth-616)   \n",
       "11041   484940             Izan (Captain America Foe) (Earth-616)   \n",
       "11197   495227   Hercules (Captain America Past Life) (Earth-616)   \n",
       "11874   669440  Captain America (Impersonator, Sons of the Ser...   \n",
       "13744   755271     Captain America (Taskmaster Robot) (Earth-616)   \n",
       "\n",
       "                                                 urlslug               ID  \\\n",
       "1                      \\/Captain_America_(Steven_Rogers)  Public Identity   \n",
       "10719    \\/Number_5_(Captain_America_Comics)_(Earth-616)  Secret Identity   \n",
       "11041           \\/Izan_(Captain_America_Foe)_(Earth-616)  Secret Identity   \n",
       "11197  \\/Hercules_(Captain_America_Past_Life)_(Earth-...  Secret Identity   \n",
       "11874  \\/Captain_America_(Impersonator,_Sons_of_the_S...  Secret Identity   \n",
       "13744   \\/Captain_America_(Taskmaster_Robot)_(Earth-616)  Secret Identity   \n",
       "\n",
       "                 ALIGN        EYE        HAIR              SEX  GSM  \\\n",
       "1      Good Characters  Blue Eyes  White Hair  Male Characters  NaN   \n",
       "10719              NaN        NaN         NaN              NaN  NaN   \n",
       "11041   Bad Characters        NaN        Bald  Male Characters  NaN   \n",
       "11197  Good Characters  Blue Eyes  Blond Hair  Male Characters  NaN   \n",
       "11874   Bad Characters        NaN         NaN  Male Characters  NaN   \n",
       "13744   Bad Characters        NaN         NaN  Male Characters  NaN   \n",
       "\n",
       "                     ALIVE  APPEARANCES FIRST APPEARANCE    Year  \n",
       "1        Living Characters       3360.0           Mar-41  1941.0  \n",
       "10719    Living Characters          1.0           Mar-41  1941.0  \n",
       "11041  Deceased Characters          1.0           Feb-43  1943.0  \n",
       "11197    Living Characters          1.0           May-44  1944.0  \n",
       "11874    Living Characters          1.0           Oct-66  1966.0  \n",
       "13744    Living Characters          1.0           Oct-98  1998.0  "
      ]
     },
     "execution_count": 9,
     "metadata": {},
     "output_type": "execute_result"
    }
   ],
   "source": [
    "# examining how stand-ins (i.e. Sam Wilson taking on the mantle of Cap) are handled\n",
    "print(morig[morig['name'].str.contains('Samuel Wilson')].iloc[:, 1])\n",
    "\n",
    "morig[morig['name'].str.contains('Captain America')]"
   ]
  },
  {
   "cell_type": "code",
   "execution_count": 10,
   "metadata": {},
   "outputs": [
    {
     "name": "stdout",
     "output_type": "stream",
     "text": [
      "Column Year has 815 rows with NaN\n"
     ]
    }
   ],
   "source": [
    "# this is likely incomplete data, as well-known character like Namor & Proxima Midnight are missing info\n",
    "print(f\"Column Year has {len(morig[morig['Year'].isnull()])} rows with NaN\")"
   ]
  },
  {
   "cell_type": "code",
   "execution_count": 11,
   "metadata": {
    "scrolled": true
   },
   "outputs": [
    {
     "name": "stdout",
     "output_type": "stream",
     "text": [
      "Dataset new shape is (15561, 13)\n"
     ]
    }
   ],
   "source": [
    "# though not ideal, will be dropping Year NaN to perform time series analysis\n",
    "morig.dropna(subset=['Year'], inplace=True)\n",
    "print(f'Dataset new shape is {morig.shape}')"
   ]
  },
  {
   "cell_type": "markdown",
   "metadata": {},
   "source": [
    "## Prepare datetime"
   ]
  },
  {
   "cell_type": "code",
   "execution_count": 12,
   "metadata": {},
   "outputs": [],
   "source": [
    "from datetime import datetime"
   ]
  },
  {
   "cell_type": "code",
   "execution_count": 13,
   "metadata": {},
   "outputs": [],
   "source": [
    "def conv_datetime(x):\n",
    "    return datetime.strptime(str(int(float(x))), '%Y')"
   ]
  },
  {
   "cell_type": "code",
   "execution_count": 14,
   "metadata": {},
   "outputs": [
    {
     "data": {
      "text/html": [
       "<div>\n",
       "<style scoped>\n",
       "    .dataframe tbody tr th:only-of-type {\n",
       "        vertical-align: middle;\n",
       "    }\n",
       "\n",
       "    .dataframe tbody tr th {\n",
       "        vertical-align: top;\n",
       "    }\n",
       "\n",
       "    .dataframe thead th {\n",
       "        text-align: right;\n",
       "    }\n",
       "</style>\n",
       "<table border=\"1\" class=\"dataframe\">\n",
       "  <thead>\n",
       "    <tr style=\"text-align: right;\">\n",
       "      <th></th>\n",
       "      <th>page_id</th>\n",
       "      <th>name</th>\n",
       "      <th>urlslug</th>\n",
       "      <th>ID</th>\n",
       "      <th>ALIGN</th>\n",
       "      <th>EYE</th>\n",
       "      <th>HAIR</th>\n",
       "      <th>SEX</th>\n",
       "      <th>GSM</th>\n",
       "      <th>ALIVE</th>\n",
       "      <th>APPEARANCES</th>\n",
       "      <th>FIRST APPEARANCE</th>\n",
       "      <th>Year</th>\n",
       "      <th>dt_year</th>\n",
       "    </tr>\n",
       "  </thead>\n",
       "  <tbody>\n",
       "    <tr>\n",
       "      <th>15281</th>\n",
       "      <td>645438</td>\n",
       "      <td>Mr. Harris' Secretary (Earth-616)</td>\n",
       "      <td>\\/Mr._Harris%27_Secretary_(Earth-616)</td>\n",
       "      <td>No Dual Identity</td>\n",
       "      <td>Neutral Characters</td>\n",
       "      <td>NaN</td>\n",
       "      <td>Blond Hair</td>\n",
       "      <td>Female Characters</td>\n",
       "      <td>NaN</td>\n",
       "      <td>Living Characters</td>\n",
       "      <td>NaN</td>\n",
       "      <td>Oct-39</td>\n",
       "      <td>1939.0</td>\n",
       "      <td>1939-01-01</td>\n",
       "    </tr>\n",
       "    <tr>\n",
       "      <th>60</th>\n",
       "      <td>1836</td>\n",
       "      <td>Human Torch (Android) (Earth-616)</td>\n",
       "      <td>\\/Human_Torch_(Android)_(Earth-616)</td>\n",
       "      <td>Public Identity</td>\n",
       "      <td>Good Characters</td>\n",
       "      <td>Blue Eyes</td>\n",
       "      <td>Blond Hair</td>\n",
       "      <td>Male Characters</td>\n",
       "      <td>NaN</td>\n",
       "      <td>Living Characters</td>\n",
       "      <td>548.0</td>\n",
       "      <td>Oct-39</td>\n",
       "      <td>1939.0</td>\n",
       "      <td>1939-01-01</td>\n",
       "    </tr>\n",
       "    <tr>\n",
       "      <th>15282</th>\n",
       "      <td>331151</td>\n",
       "      <td>N'Jaga (Earth-616)</td>\n",
       "      <td>\\/N%27Jaga_(Earth-616)</td>\n",
       "      <td>No Dual Identity</td>\n",
       "      <td>Bad Characters</td>\n",
       "      <td>NaN</td>\n",
       "      <td>NaN</td>\n",
       "      <td>Male Characters</td>\n",
       "      <td>NaN</td>\n",
       "      <td>Living Characters</td>\n",
       "      <td>NaN</td>\n",
       "      <td>Oct-39</td>\n",
       "      <td>1939.0</td>\n",
       "      <td>1939-01-01</td>\n",
       "    </tr>\n",
       "  </tbody>\n",
       "</table>\n",
       "</div>"
      ],
      "text/plain": [
       "       page_id                               name  \\\n",
       "15281   645438  Mr. Harris' Secretary (Earth-616)   \n",
       "60        1836  Human Torch (Android) (Earth-616)   \n",
       "15282   331151                 N'Jaga (Earth-616)   \n",
       "\n",
       "                                     urlslug                ID  \\\n",
       "15281  \\/Mr._Harris%27_Secretary_(Earth-616)  No Dual Identity   \n",
       "60       \\/Human_Torch_(Android)_(Earth-616)   Public Identity   \n",
       "15282                 \\/N%27Jaga_(Earth-616)  No Dual Identity   \n",
       "\n",
       "                    ALIGN        EYE        HAIR                SEX  GSM  \\\n",
       "15281  Neutral Characters        NaN  Blond Hair  Female Characters  NaN   \n",
       "60        Good Characters  Blue Eyes  Blond Hair    Male Characters  NaN   \n",
       "15282      Bad Characters        NaN         NaN    Male Characters  NaN   \n",
       "\n",
       "                   ALIVE  APPEARANCES FIRST APPEARANCE    Year    dt_year  \n",
       "15281  Living Characters          NaN           Oct-39  1939.0 1939-01-01  \n",
       "60     Living Characters        548.0           Oct-39  1939.0 1939-01-01  \n",
       "15282  Living Characters          NaN           Oct-39  1939.0 1939-01-01  "
      ]
     },
     "execution_count": 14,
     "metadata": {},
     "output_type": "execute_result"
    }
   ],
   "source": [
    "morig['dt_year'] = morig['Year'].apply(conv_datetime)\n",
    "\n",
    "morig.sort_values(['dt_year'], ascending=True, inplace=True)\n",
    "\n",
    "morig.head(3)"
   ]
  },
  {
   "cell_type": "code",
   "execution_count": 15,
   "metadata": {},
   "outputs": [
    {
     "data": {
      "text/plain": [
       "array(['Mar-13', 'Jan-13', 'Feb-13', 'Apr-13', 'May-13', 'Jun-13'],\n",
       "      dtype=object)"
      ]
     },
     "execution_count": 15,
     "metadata": {},
     "output_type": "execute_result"
    }
   ],
   "source": [
    "# we see that we only have partial data for last year\n",
    "morig[morig['dt_year'] == '2013-01-01']['FIRST APPEARANCE'].unique()"
   ]
  },
  {
   "cell_type": "code",
   "execution_count": 16,
   "metadata": {},
   "outputs": [
    {
     "data": {
      "text/html": [
       "<div>\n",
       "<style scoped>\n",
       "    .dataframe tbody tr th:only-of-type {\n",
       "        vertical-align: middle;\n",
       "    }\n",
       "\n",
       "    .dataframe tbody tr th {\n",
       "        vertical-align: top;\n",
       "    }\n",
       "\n",
       "    .dataframe thead th {\n",
       "        text-align: right;\n",
       "    }\n",
       "</style>\n",
       "<table border=\"1\" class=\"dataframe\">\n",
       "  <thead>\n",
       "    <tr style=\"text-align: right;\">\n",
       "      <th></th>\n",
       "      <th>page_id</th>\n",
       "      <th>name</th>\n",
       "      <th>urlslug</th>\n",
       "      <th>ID</th>\n",
       "      <th>ALIGN</th>\n",
       "      <th>EYE</th>\n",
       "      <th>HAIR</th>\n",
       "      <th>SEX</th>\n",
       "      <th>GSM</th>\n",
       "      <th>ALIVE</th>\n",
       "      <th>APPEARANCES</th>\n",
       "      <th>FIRST APPEARANCE</th>\n",
       "      <th>Year</th>\n",
       "      <th>dt_year</th>\n",
       "    </tr>\n",
       "  </thead>\n",
       "  <tbody>\n",
       "    <tr>\n",
       "      <th>6889</th>\n",
       "      <td>594460</td>\n",
       "      <td>Gullveig (Earth-616)</td>\n",
       "      <td>\\/Gullveig_(Earth-616)</td>\n",
       "      <td>Secret Identity</td>\n",
       "      <td>Good Characters</td>\n",
       "      <td>Blue Eyes</td>\n",
       "      <td>Blond Hair</td>\n",
       "      <td>Female Characters</td>\n",
       "      <td>NaN</td>\n",
       "      <td>Living Characters</td>\n",
       "      <td>4.0</td>\n",
       "      <td>Oct-12</td>\n",
       "      <td>2012.0</td>\n",
       "      <td>2012-01-01</td>\n",
       "    </tr>\n",
       "    <tr>\n",
       "      <th>6883</th>\n",
       "      <td>584647</td>\n",
       "      <td>Dragoon (Earth-616)</td>\n",
       "      <td>\\/Dragoon_(Earth-616)</td>\n",
       "      <td>Secret Identity</td>\n",
       "      <td>Good Characters</td>\n",
       "      <td>Red Eyes</td>\n",
       "      <td>NaN</td>\n",
       "      <td>Male Characters</td>\n",
       "      <td>NaN</td>\n",
       "      <td>Deceased Characters</td>\n",
       "      <td>4.0</td>\n",
       "      <td>Jul-12</td>\n",
       "      <td>2012.0</td>\n",
       "      <td>2012-01-01</td>\n",
       "    </tr>\n",
       "    <tr>\n",
       "      <th>6902</th>\n",
       "      <td>511164</td>\n",
       "      <td>Tolor (Earth-616)</td>\n",
       "      <td>\\/Tolor_(Earth-616)</td>\n",
       "      <td>Secret Identity</td>\n",
       "      <td>Good Characters</td>\n",
       "      <td>Blue Eyes</td>\n",
       "      <td>White Hair</td>\n",
       "      <td>Male Characters</td>\n",
       "      <td>NaN</td>\n",
       "      <td>Living Characters</td>\n",
       "      <td>4.0</td>\n",
       "      <td>Feb-12</td>\n",
       "      <td>2012.0</td>\n",
       "      <td>2012-01-01</td>\n",
       "    </tr>\n",
       "  </tbody>\n",
       "</table>\n",
       "</div>"
      ],
      "text/plain": [
       "      page_id                  name                 urlslug               ID  \\\n",
       "6889   594460  Gullveig (Earth-616)  \\/Gullveig_(Earth-616)  Secret Identity   \n",
       "6883   584647   Dragoon (Earth-616)   \\/Dragoon_(Earth-616)  Secret Identity   \n",
       "6902   511164     Tolor (Earth-616)     \\/Tolor_(Earth-616)  Secret Identity   \n",
       "\n",
       "                ALIGN        EYE        HAIR                SEX  GSM  \\\n",
       "6889  Good Characters  Blue Eyes  Blond Hair  Female Characters  NaN   \n",
       "6883  Good Characters   Red Eyes         NaN    Male Characters  NaN   \n",
       "6902  Good Characters  Blue Eyes  White Hair    Male Characters  NaN   \n",
       "\n",
       "                    ALIVE  APPEARANCES FIRST APPEARANCE    Year    dt_year  \n",
       "6889    Living Characters          4.0           Oct-12  2012.0 2012-01-01  \n",
       "6883  Deceased Characters          4.0           Jul-12  2012.0 2012-01-01  \n",
       "6902    Living Characters          4.0           Feb-12  2012.0 2012-01-01  "
      ]
     },
     "execution_count": 16,
     "metadata": {},
     "output_type": "execute_result"
    }
   ],
   "source": [
    "# remove 2013 due to incompleteness, i.e. misleading for trend\n",
    "morig = morig[morig['dt_year'] < '2013-01-01']\n",
    "\n",
    "morig.tail(3)"
   ]
  },
  {
   "cell_type": "markdown",
   "metadata": {},
   "source": [
    "## Data visualization with pivot"
   ]
  },
  {
   "cell_type": "code",
   "execution_count": 17,
   "metadata": {},
   "outputs": [],
   "source": [
    "from pandas import pivot_table"
   ]
  },
  {
   "cell_type": "code",
   "execution_count": 18,
   "metadata": {},
   "outputs": [
    {
     "name": "stdout",
     "output_type": "stream",
     "text": [
      "1939 group has 69 samples for verification\n"
     ]
    },
    {
     "data": {
      "text/html": [
       "<div>\n",
       "<style scoped>\n",
       "    .dataframe tbody tr th:only-of-type {\n",
       "        vertical-align: middle;\n",
       "    }\n",
       "\n",
       "    .dataframe tbody tr th {\n",
       "        vertical-align: top;\n",
       "    }\n",
       "\n",
       "    .dataframe thead th {\n",
       "        text-align: right;\n",
       "    }\n",
       "</style>\n",
       "<table border=\"1\" class=\"dataframe\">\n",
       "  <thead>\n",
       "    <tr style=\"text-align: right;\">\n",
       "      <th></th>\n",
       "      <th>name</th>\n",
       "    </tr>\n",
       "    <tr>\n",
       "      <th>dt_year</th>\n",
       "      <th></th>\n",
       "    </tr>\n",
       "  </thead>\n",
       "  <tbody>\n",
       "    <tr>\n",
       "      <th>1939-01-01</th>\n",
       "      <td>69</td>\n",
       "    </tr>\n",
       "    <tr>\n",
       "      <th>1940-01-01</th>\n",
       "      <td>221</td>\n",
       "    </tr>\n",
       "    <tr>\n",
       "      <th>1941-01-01</th>\n",
       "      <td>207</td>\n",
       "    </tr>\n",
       "  </tbody>\n",
       "</table>\n",
       "</div>"
      ],
      "text/plain": [
       "            name\n",
       "dt_year         \n",
       "1939-01-01    69\n",
       "1940-01-01   221\n",
       "1941-01-01   207"
      ]
     },
     "execution_count": 18,
     "metadata": {},
     "output_type": "execute_result"
    }
   ],
   "source": [
    "pv_all = pivot_table(morig,values='name',index=['dt_year'],aggfunc=len,fill_value=0)\n",
    "\n",
    "print(f\"1939 group has {len(morig[morig['dt_year'] == '1939-01-01'])} samples for verification\")\n",
    "\n",
    "pv_all.head(3)"
   ]
  },
  {
   "cell_type": "code",
   "execution_count": 19,
   "metadata": {},
   "outputs": [
    {
     "data": {
      "text/plain": [
       "<matplotlib.axes._subplots.AxesSubplot at 0x2692f917198>"
      ]
     },
     "execution_count": 19,
     "metadata": {},
     "output_type": "execute_result"
    },
    {
     "data": {
      "image/png": "[encoded data removed]",
      "text/plain": [
       "<Figure size 432x288 with 1 Axes>"
      ]
     },
     "metadata": {},
     "output_type": "display_data"
    }
   ],
   "source": [
    "# overall comic hero count by creation year\n",
    "pv_all.plot()"
   ]
  },
  {
   "cell_type": "code",
   "execution_count": 20,
   "metadata": {},
   "outputs": [
    {
     "data": {
      "text/html": [
       "<div>\n",
       "<style scoped>\n",
       "    .dataframe tbody tr th:only-of-type {\n",
       "        vertical-align: middle;\n",
       "    }\n",
       "\n",
       "    .dataframe tbody tr th {\n",
       "        vertical-align: top;\n",
       "    }\n",
       "\n",
       "    .dataframe thead th {\n",
       "        text-align: right;\n",
       "    }\n",
       "</style>\n",
       "<table border=\"1\" class=\"dataframe\">\n",
       "  <thead>\n",
       "    <tr style=\"text-align: right;\">\n",
       "      <th>SEX</th>\n",
       "      <th>Agender Characters</th>\n",
       "      <th>Female Characters</th>\n",
       "      <th>Genderfluid Characters</th>\n",
       "      <th>Male Characters</th>\n",
       "    </tr>\n",
       "    <tr>\n",
       "      <th>dt_year</th>\n",
       "      <th></th>\n",
       "      <th></th>\n",
       "      <th></th>\n",
       "      <th></th>\n",
       "    </tr>\n",
       "  </thead>\n",
       "  <tbody>\n",
       "    <tr>\n",
       "      <th>1939-01-01</th>\n",
       "      <td>0</td>\n",
       "      <td>10</td>\n",
       "      <td>0</td>\n",
       "      <td>56</td>\n",
       "    </tr>\n",
       "    <tr>\n",
       "      <th>1940-01-01</th>\n",
       "      <td>0</td>\n",
       "      <td>33</td>\n",
       "      <td>0</td>\n",
       "      <td>183</td>\n",
       "    </tr>\n",
       "    <tr>\n",
       "      <th>1941-01-01</th>\n",
       "      <td>0</td>\n",
       "      <td>15</td>\n",
       "      <td>0</td>\n",
       "      <td>180</td>\n",
       "    </tr>\n",
       "  </tbody>\n",
       "</table>\n",
       "</div>"
      ],
      "text/plain": [
       "SEX         Agender Characters  Female Characters  Genderfluid Characters  \\\n",
       "dt_year                                                                     \n",
       "1939-01-01                   0                 10                       0   \n",
       "1940-01-01                   0                 33                       0   \n",
       "1941-01-01                   0                 15                       0   \n",
       "\n",
       "SEX         Male Characters  \n",
       "dt_year                      \n",
       "1939-01-01               56  \n",
       "1940-01-01              183  \n",
       "1941-01-01              180  "
      ]
     },
     "execution_count": 20,
     "metadata": {},
     "output_type": "execute_result"
    }
   ],
   "source": [
    "pv_gender = pivot_table(morig,values='name',index=['dt_year'],columns=['SEX'],aggfunc=len,fill_value=0)\n",
    "\n",
    "pv_gender.head(3)"
   ]
  },
  {
   "cell_type": "code",
   "execution_count": 21,
   "metadata": {},
   "outputs": [
    {
     "data": {
      "text/plain": [
       "<matplotlib.axes._subplots.AxesSubplot at 0x269302dfc18>"
      ]
     },
     "execution_count": 21,
     "metadata": {},
     "output_type": "execute_result"
    },
    {
     "data": {
      "image/png": "[encoded data removed]",
      "text/plain": [
       "<Figure size 504x360 with 1 Axes>"
      ]
     },
     "metadata": {},
     "output_type": "display_data"
    }
   ],
   "source": [
    "# plotting gender breakdown\n",
    "pv_gender.plot(figsize=(7,5))"
   ]
  },
  {
   "cell_type": "code",
   "execution_count": 40,
   "metadata": {},
   "outputs": [
    {
     "data": {
      "text/plain": [
       "<matplotlib.axes._subplots.AxesSubplot at 0x269307cb9b0>"
      ]
     },
     "execution_count": 40,
     "metadata": {},
     "output_type": "execute_result"
    },
    {
     "data": {
      "image/png": "[encoded data removed]",
      "text/plain": [
       "<Figure size 432x288 with 1 Axes>"
      ]
     },
     "metadata": {},
     "output_type": "display_data"
    }
   ],
   "source": [
    "# Pie chart of sex; male vs female ratio \n",
    "morig['SEX'].value_counts()[:2].plot(kind='pie', autopct='%1.0f%%')"
   ]
  },
  {
   "cell_type": "code",
   "execution_count": 23,
   "metadata": {},
   "outputs": [
    {
     "data": {
      "text/plain": [
       "Homosexual Characters     58\n",
       "Bisexual Characters       18\n",
       "Transgender Characters     2\n",
       "Transvestites              1\n",
       "Pansexual Characters       1\n",
       "Genderfluid Characters     1\n",
       "Name: GSM, dtype: int64"
      ]
     },
     "execution_count": 23,
     "metadata": {},
     "output_type": "execute_result"
    }
   ],
   "source": [
    "# counts of GSM categories\n",
    "morig['GSM'].value_counts()"
   ]
  },
  {
   "cell_type": "code",
   "execution_count": 24,
   "metadata": {},
   "outputs": [
    {
     "data": {
      "text/html": [
       "<div>\n",
       "<style scoped>\n",
       "    .dataframe tbody tr th:only-of-type {\n",
       "        vertical-align: middle;\n",
       "    }\n",
       "\n",
       "    .dataframe tbody tr th {\n",
       "        vertical-align: top;\n",
       "    }\n",
       "\n",
       "    .dataframe thead th {\n",
       "        text-align: right;\n",
       "    }\n",
       "</style>\n",
       "<table border=\"1\" class=\"dataframe\">\n",
       "  <thead>\n",
       "    <tr style=\"text-align: right;\">\n",
       "      <th>GSM</th>\n",
       "      <th>Bisexual Characters</th>\n",
       "      <th>Homosexual Characters</th>\n",
       "    </tr>\n",
       "    <tr>\n",
       "      <th>dt_year</th>\n",
       "      <th></th>\n",
       "      <th></th>\n",
       "    </tr>\n",
       "  </thead>\n",
       "  <tbody>\n",
       "    <tr>\n",
       "      <th>1940-01-01</th>\n",
       "      <td>0</td>\n",
       "      <td>1</td>\n",
       "    </tr>\n",
       "    <tr>\n",
       "      <th>1943-01-01</th>\n",
       "      <td>0</td>\n",
       "      <td>1</td>\n",
       "    </tr>\n",
       "    <tr>\n",
       "      <th>1948-01-01</th>\n",
       "      <td>0</td>\n",
       "      <td>1</td>\n",
       "    </tr>\n",
       "  </tbody>\n",
       "</table>\n",
       "</div>"
      ],
      "text/plain": [
       "GSM         Bisexual Characters  Homosexual Characters\n",
       "dt_year                                               \n",
       "1940-01-01                    0                      1\n",
       "1943-01-01                    0                      1\n",
       "1948-01-01                    0                      1"
      ]
     },
     "execution_count": 24,
     "metadata": {},
     "output_type": "execute_result"
    }
   ],
   "source": [
    "# drop certain genders due to count too low to visualize\n",
    "pv_gsm = pivot_table(morig,values='name',index=['dt_year'],columns=['GSM'],aggfunc=len,fill_value=0)\n",
    "\n",
    "pv_gsm.drop(['Transgender Characters', 'Genderfluid Characters',\n",
    "             'Transvestites', 'Pansexual Characters'],\n",
    "             axis=1, inplace=True)\n",
    "\n",
    "pv_gsm.head(3)"
   ]
  },
  {
   "cell_type": "code",
   "execution_count": 25,
   "metadata": {},
   "outputs": [
    {
     "data": {
      "text/plain": [
       "array([<matplotlib.axes._subplots.AxesSubplot object at 0x00000269303E6A20>,\n",
       "       <matplotlib.axes._subplots.AxesSubplot object at 0x0000026930409EF0>],\n",
       "      dtype=object)"
      ]
     },
     "execution_count": 25,
     "metadata": {},
     "output_type": "execute_result"
    },
    {
     "data": {
      "image/png": "[encoded data removed]",
      "text/plain": [
       "<Figure size 504x360 with 2 Axes>"
      ]
     },
     "metadata": {},
     "output_type": "display_data"
    }
   ],
   "source": [
    "# we see an increase of homosexual and bisexual characters in the early 2000s\n",
    "pv_gsm.plot(figsize=(7,5),kind='line',subplots=True)"
   ]
  },
  {
   "cell_type": "code",
   "execution_count": 26,
   "metadata": {},
   "outputs": [
    {
     "data": {
      "text/html": [
       "<div>\n",
       "<style scoped>\n",
       "    .dataframe tbody tr th:only-of-type {\n",
       "        vertical-align: middle;\n",
       "    }\n",
       "\n",
       "    .dataframe tbody tr th {\n",
       "        vertical-align: top;\n",
       "    }\n",
       "\n",
       "    .dataframe thead th {\n",
       "        text-align: right;\n",
       "    }\n",
       "</style>\n",
       "<table border=\"1\" class=\"dataframe\">\n",
       "  <thead>\n",
       "    <tr style=\"text-align: right;\">\n",
       "      <th>ALIGN</th>\n",
       "      <th>Bad Characters</th>\n",
       "      <th>Good Characters</th>\n",
       "      <th>Neutral Characters</th>\n",
       "    </tr>\n",
       "    <tr>\n",
       "      <th>dt_year</th>\n",
       "      <th></th>\n",
       "      <th></th>\n",
       "      <th></th>\n",
       "    </tr>\n",
       "  </thead>\n",
       "  <tbody>\n",
       "    <tr>\n",
       "      <th>1939-01-01</th>\n",
       "      <td>31</td>\n",
       "      <td>21</td>\n",
       "      <td>17</td>\n",
       "    </tr>\n",
       "    <tr>\n",
       "      <th>1940-01-01</th>\n",
       "      <td>92</td>\n",
       "      <td>118</td>\n",
       "      <td>8</td>\n",
       "    </tr>\n",
       "    <tr>\n",
       "      <th>1941-01-01</th>\n",
       "      <td>119</td>\n",
       "      <td>62</td>\n",
       "      <td>7</td>\n",
       "    </tr>\n",
       "  </tbody>\n",
       "</table>\n",
       "</div>"
      ],
      "text/plain": [
       "ALIGN       Bad Characters  Good Characters  Neutral Characters\n",
       "dt_year                                                        \n",
       "1939-01-01              31               21                  17\n",
       "1940-01-01              92              118                   8\n",
       "1941-01-01             119               62                   7"
      ]
     },
     "execution_count": 26,
     "metadata": {},
     "output_type": "execute_result"
    }
   ],
   "source": [
    "pv_align = pivot_table(morig,values='name',index=['dt_year'],columns=['ALIGN'],aggfunc=len,fill_value=0)\n",
    "\n",
    "pv_align.head(3)"
   ]
  },
  {
   "cell_type": "code",
   "execution_count": 27,
   "metadata": {},
   "outputs": [
    {
     "data": {
      "text/plain": [
       "<matplotlib.axes._subplots.AxesSubplot at 0x269304d3550>"
      ]
     },
     "execution_count": 27,
     "metadata": {},
     "output_type": "execute_result"
    },
    {
     "data": {
      "image/png": "[encoded data removed]",
      "text/plain": [
       "<Figure size 504x360 with 1 Axes>"
      ]
     },
     "metadata": {},
     "output_type": "display_data"
    }
   ],
   "source": [
    "# we see an interesting spike in villians in the early 90s\n",
    "pv_align.plot(figsize=(7,5))"
   ]
  },
  {
   "cell_type": "code",
   "execution_count": 28,
   "metadata": {},
   "outputs": [
    {
     "data": {
      "text/html": [
       "<div>\n",
       "<style scoped>\n",
       "    .dataframe tbody tr th:only-of-type {\n",
       "        vertical-align: middle;\n",
       "    }\n",
       "\n",
       "    .dataframe tbody tr th {\n",
       "        vertical-align: top;\n",
       "    }\n",
       "\n",
       "    .dataframe thead th {\n",
       "        text-align: right;\n",
       "    }\n",
       "</style>\n",
       "<table border=\"1\" class=\"dataframe\">\n",
       "  <thead>\n",
       "    <tr style=\"text-align: right;\">\n",
       "      <th>ALIGN</th>\n",
       "      <th>Bad Characters</th>\n",
       "      <th>Good Characters</th>\n",
       "      <th>Neutral Characters</th>\n",
       "    </tr>\n",
       "    <tr>\n",
       "      <th>dt_year</th>\n",
       "      <th></th>\n",
       "      <th></th>\n",
       "      <th></th>\n",
       "    </tr>\n",
       "  </thead>\n",
       "  <tbody>\n",
       "    <tr>\n",
       "      <th>1993-01-01</th>\n",
       "      <td>256</td>\n",
       "      <td>111</td>\n",
       "      <td>89</td>\n",
       "    </tr>\n",
       "  </tbody>\n",
       "</table>\n",
       "</div>"
      ],
      "text/plain": [
       "ALIGN       Bad Characters  Good Characters  Neutral Characters\n",
       "dt_year                                                        \n",
       "1993-01-01             256              111                  89"
      ]
     },
     "execution_count": 28,
     "metadata": {},
     "output_type": "execute_result"
    }
   ],
   "source": [
    "# find year with most bad characters created\n",
    "pv_align[pv_align['Bad Characters'] == pv_align['Bad Characters'].max()]"
   ]
  },
  {
   "cell_type": "code",
   "execution_count": 29,
   "metadata": {},
   "outputs": [
    {
     "data": {
      "text/html": [
       "<div>\n",
       "<style scoped>\n",
       "    .dataframe tbody tr th:only-of-type {\n",
       "        vertical-align: middle;\n",
       "    }\n",
       "\n",
       "    .dataframe tbody tr th {\n",
       "        vertical-align: top;\n",
       "    }\n",
       "\n",
       "    .dataframe thead th {\n",
       "        text-align: right;\n",
       "    }\n",
       "</style>\n",
       "<table border=\"1\" class=\"dataframe\">\n",
       "  <thead>\n",
       "    <tr style=\"text-align: right;\">\n",
       "      <th></th>\n",
       "      <th>page_id</th>\n",
       "      <th>name</th>\n",
       "      <th>urlslug</th>\n",
       "      <th>ID</th>\n",
       "      <th>ALIGN</th>\n",
       "      <th>EYE</th>\n",
       "      <th>HAIR</th>\n",
       "      <th>SEX</th>\n",
       "      <th>GSM</th>\n",
       "      <th>ALIVE</th>\n",
       "      <th>APPEARANCES</th>\n",
       "      <th>FIRST APPEARANCE</th>\n",
       "      <th>Year</th>\n",
       "      <th>dt_year</th>\n",
       "    </tr>\n",
       "  </thead>\n",
       "  <tbody>\n",
       "    <tr>\n",
       "      <th>7643</th>\n",
       "      <td>254262</td>\n",
       "      <td>Jean DeZoan (Earth-616)</td>\n",
       "      <td>\\/Jean_DeZoan_(Earth-616)</td>\n",
       "      <td>Other Identity</td>\n",
       "      <td>Bad Characters</td>\n",
       "      <td>NaN</td>\n",
       "      <td>Brown Hair</td>\n",
       "      <td>Male Characters</td>\n",
       "      <td>NaN</td>\n",
       "      <td>Living Characters</td>\n",
       "      <td>3.0</td>\n",
       "      <td>Mar-93</td>\n",
       "      <td>1993.0</td>\n",
       "      <td>1993-01-01</td>\n",
       "    </tr>\n",
       "    <tr>\n",
       "      <th>7644</th>\n",
       "      <td>250549</td>\n",
       "      <td>Johann Bessler (Earth-616)</td>\n",
       "      <td>\\/Johann_Bessler_(Earth-616)</td>\n",
       "      <td>Secret Identity</td>\n",
       "      <td>Bad Characters</td>\n",
       "      <td>Red Eyes</td>\n",
       "      <td>NaN</td>\n",
       "      <td>Male Characters</td>\n",
       "      <td>NaN</td>\n",
       "      <td>Living Characters</td>\n",
       "      <td>3.0</td>\n",
       "      <td>May-93</td>\n",
       "      <td>1993.0</td>\n",
       "      <td>1993-01-01</td>\n",
       "    </tr>\n",
       "    <tr>\n",
       "      <th>7645</th>\n",
       "      <td>120836</td>\n",
       "      <td>Katherine Ainsley-Jones (Earth-616)</td>\n",
       "      <td>\\/Katherine_Ainsley-Jones_(Earth-616)</td>\n",
       "      <td>Other Identity</td>\n",
       "      <td>Bad Characters</td>\n",
       "      <td>NaN</td>\n",
       "      <td>Black Hair</td>\n",
       "      <td>Female Characters</td>\n",
       "      <td>NaN</td>\n",
       "      <td>Living Characters</td>\n",
       "      <td>3.0</td>\n",
       "      <td>Sep-93</td>\n",
       "      <td>1993.0</td>\n",
       "      <td>1993-01-01</td>\n",
       "    </tr>\n",
       "    <tr>\n",
       "      <th>7640</th>\n",
       "      <td>557920</td>\n",
       "      <td>Genkotsu (Earth-616)</td>\n",
       "      <td>\\/Genkotsu_(Earth-616)</td>\n",
       "      <td>Secret Identity</td>\n",
       "      <td>Bad Characters</td>\n",
       "      <td>NaN</td>\n",
       "      <td>NaN</td>\n",
       "      <td>Male Characters</td>\n",
       "      <td>NaN</td>\n",
       "      <td>Living Characters</td>\n",
       "      <td>3.0</td>\n",
       "      <td>Oct-93</td>\n",
       "      <td>1993.0</td>\n",
       "      <td>1993-01-01</td>\n",
       "    </tr>\n",
       "    <tr>\n",
       "      <th>2502</th>\n",
       "      <td>2505</td>\n",
       "      <td>Tyrant (Earth-616)</td>\n",
       "      <td>\\/Tyrant_(Earth-616)</td>\n",
       "      <td>Secret Identity</td>\n",
       "      <td>Bad Characters</td>\n",
       "      <td>Red Eyes</td>\n",
       "      <td>No Hair</td>\n",
       "      <td>Male Characters</td>\n",
       "      <td>NaN</td>\n",
       "      <td>Deceased Characters</td>\n",
       "      <td>14.0</td>\n",
       "      <td>Jun-93</td>\n",
       "      <td>1993.0</td>\n",
       "      <td>1993-01-01</td>\n",
       "    </tr>\n",
       "  </tbody>\n",
       "</table>\n",
       "</div>"
      ],
      "text/plain": [
       "      page_id                                 name  \\\n",
       "7643   254262              Jean DeZoan (Earth-616)   \n",
       "7644   250549           Johann Bessler (Earth-616)   \n",
       "7645   120836  Katherine Ainsley-Jones (Earth-616)   \n",
       "7640   557920                 Genkotsu (Earth-616)   \n",
       "2502     2505                   Tyrant (Earth-616)   \n",
       "\n",
       "                                    urlslug               ID           ALIGN  \\\n",
       "7643              \\/Jean_DeZoan_(Earth-616)   Other Identity  Bad Characters   \n",
       "7644           \\/Johann_Bessler_(Earth-616)  Secret Identity  Bad Characters   \n",
       "7645  \\/Katherine_Ainsley-Jones_(Earth-616)   Other Identity  Bad Characters   \n",
       "7640                 \\/Genkotsu_(Earth-616)  Secret Identity  Bad Characters   \n",
       "2502                   \\/Tyrant_(Earth-616)  Secret Identity  Bad Characters   \n",
       "\n",
       "           EYE        HAIR                SEX  GSM                ALIVE  \\\n",
       "7643       NaN  Brown Hair    Male Characters  NaN    Living Characters   \n",
       "7644  Red Eyes         NaN    Male Characters  NaN    Living Characters   \n",
       "7645       NaN  Black Hair  Female Characters  NaN    Living Characters   \n",
       "7640       NaN         NaN    Male Characters  NaN    Living Characters   \n",
       "2502  Red Eyes     No Hair    Male Characters  NaN  Deceased Characters   \n",
       "\n",
       "      APPEARANCES FIRST APPEARANCE    Year    dt_year  \n",
       "7643          3.0           Mar-93  1993.0 1993-01-01  \n",
       "7644          3.0           May-93  1993.0 1993-01-01  \n",
       "7645          3.0           Sep-93  1993.0 1993-01-01  \n",
       "7640          3.0           Oct-93  1993.0 1993-01-01  \n",
       "2502         14.0           Jun-93  1993.0 1993-01-01  "
      ]
     },
     "execution_count": 29,
     "metadata": {},
     "output_type": "execute_result"
    }
   ],
   "source": [
    "# quick look at villains from 1993\n",
    "morig[(morig['dt_year'] == '1993-01-01') & (morig['ALIGN'] == 'Bad Characters')][:5]"
   ]
  },
  {
   "cell_type": "code",
   "execution_count": 30,
   "metadata": {},
   "outputs": [
    {
     "data": {
      "text/plain": [
       "<matplotlib.axes._subplots.AxesSubplot at 0x26930564780>"
      ]
     },
     "execution_count": 30,
     "metadata": {},
     "output_type": "execute_result"
    },
    {
     "data": {
      "image/png": "[encoded data removed]",
      "text/plain": [
       "<Figure size 504x360 with 1 Axes>"
      ]
     },
     "metadata": {},
     "output_type": "display_data"
    }
   ],
   "source": [
    "# plotting living versus deceased characters\n",
    "# this doesn't tell us much; maybe percentage will be more informative\n",
    "pv_alive = pivot_table(morig,values='name',index=['dt_year'],columns=['ALIVE'],aggfunc=len,fill_value=0)\n",
    "\n",
    "pv_alive.plot(figsize=(7,5))"
   ]
  },
  {
   "cell_type": "code",
   "execution_count": 31,
   "metadata": {},
   "outputs": [
    {
     "data": {
      "text/html": [
       "<div>\n",
       "<style scoped>\n",
       "    .dataframe tbody tr th:only-of-type {\n",
       "        vertical-align: middle;\n",
       "    }\n",
       "\n",
       "    .dataframe tbody tr th {\n",
       "        vertical-align: top;\n",
       "    }\n",
       "\n",
       "    .dataframe thead th {\n",
       "        text-align: right;\n",
       "    }\n",
       "</style>\n",
       "<table border=\"1\" class=\"dataframe\">\n",
       "  <thead>\n",
       "    <tr style=\"text-align: right;\">\n",
       "      <th>ALIVE</th>\n",
       "      <th>Deceased Characters</th>\n",
       "    </tr>\n",
       "    <tr>\n",
       "      <th>dt_year</th>\n",
       "      <th></th>\n",
       "    </tr>\n",
       "  </thead>\n",
       "  <tbody>\n",
       "    <tr>\n",
       "      <th>1939-01-01 00:00:00</th>\n",
       "      <td>0.347826</td>\n",
       "    </tr>\n",
       "    <tr>\n",
       "      <th>1940-01-01 00:00:00</th>\n",
       "      <td>0.298643</td>\n",
       "    </tr>\n",
       "    <tr>\n",
       "      <th>1941-01-01 00:00:00</th>\n",
       "      <td>0.449275</td>\n",
       "    </tr>\n",
       "  </tbody>\n",
       "</table>\n",
       "</div>"
      ],
      "text/plain": [
       "ALIVE                Deceased Characters\n",
       "dt_year                                 \n",
       "1939-01-01 00:00:00             0.347826\n",
       "1940-01-01 00:00:00             0.298643\n",
       "1941-01-01 00:00:00             0.449275"
      ]
     },
     "execution_count": 31,
     "metadata": {},
     "output_type": "execute_result"
    }
   ],
   "source": [
    "pv_deceased = pivot_table(morig,values='name',index=['dt_year'],columns=['ALIVE'],aggfunc=len,margins=True,fill_value=0)\n",
    "pv_deceased = pv_deceased.div(pv_deceased.iloc[:,-1], axis=0)\n",
    "pv_deceased = pv_deceased.iloc[:-1,:1]\n",
    "\n",
    "pv_deceased.head(3)"
   ]
  },
  {
   "cell_type": "code",
   "execution_count": 57,
   "metadata": {
    "scrolled": true
   },
   "outputs": [
    {
     "data": {
      "text/plain": [
       "<matplotlib.lines.Line2D at 0x26932137e48>"
      ]
     },
     "execution_count": 57,
     "metadata": {},
     "output_type": "execute_result"
    },
    {
     "data": {
      "image/png": "[encoded data removed]",
      "text/plain": [
       "<Figure size 504x360 with 1 Axes>"
      ]
     },
     "metadata": {},
     "output_type": "display_data"
    }
   ],
   "source": [
    "# we see higher deceased ratio for around 1945 and around 2001\n",
    "# 25% line for reference\n",
    "pv_deceased.plot(figsize=(7,5))\n",
    "plt.axhline(0.25, color='r', linestyle='--', lw=2)"
   ]
  },
  {
   "cell_type": "code",
   "execution_count": 33,
   "metadata": {},
   "outputs": [
    {
     "data": {
      "text/html": [
       "<div>\n",
       "<style scoped>\n",
       "    .dataframe tbody tr th:only-of-type {\n",
       "        vertical-align: middle;\n",
       "    }\n",
       "\n",
       "    .dataframe tbody tr th {\n",
       "        vertical-align: top;\n",
       "    }\n",
       "\n",
       "    .dataframe thead th {\n",
       "        text-align: right;\n",
       "    }\n",
       "</style>\n",
       "<table border=\"1\" class=\"dataframe\">\n",
       "  <thead>\n",
       "    <tr style=\"text-align: right;\">\n",
       "      <th>ALIVE</th>\n",
       "      <th>Deceased Characters</th>\n",
       "    </tr>\n",
       "    <tr>\n",
       "      <th>dt_year</th>\n",
       "      <th></th>\n",
       "    </tr>\n",
       "  </thead>\n",
       "  <tbody>\n",
       "    <tr>\n",
       "      <th>1944-01-01 00:00:00</th>\n",
       "      <td>0.529851</td>\n",
       "    </tr>\n",
       "  </tbody>\n",
       "</table>\n",
       "</div>"
      ],
      "text/plain": [
       "ALIVE                Deceased Characters\n",
       "dt_year                                 \n",
       "1944-01-01 00:00:00             0.529851"
      ]
     },
     "execution_count": 33,
     "metadata": {},
     "output_type": "execute_result"
    }
   ],
   "source": [
    "pv_deceased[pv_deceased['Deceased Characters'] == pv_deceased['Deceased Characters'].max()]"
   ]
  },
  {
   "cell_type": "code",
   "execution_count": 34,
   "metadata": {},
   "outputs": [
    {
     "data": {
      "text/plain": [
       "Bad Characters    71\n",
       "Name: ALIGN, dtype: int64"
      ]
     },
     "execution_count": 34,
     "metadata": {},
     "output_type": "execute_result"
    }
   ],
   "source": [
    "# Interestingly all deceased characters created in 1944 are bad characters\n",
    "morig[(morig['dt_year'] == '1944-01-01') & (morig['ALIVE'] == 'Deceased Characters')]['ALIGN'].value_counts()"
   ]
  },
  {
   "cell_type": "code",
   "execution_count": 35,
   "metadata": {},
   "outputs": [
    {
     "data": {
      "text/plain": [
       "Living Characters    16\n",
       "Name: ALIVE, dtype: int64"
      ]
     },
     "execution_count": 35,
     "metadata": {},
     "output_type": "execute_result"
    }
   ],
   "source": [
    "# to double check the finding above\n",
    "morig[(morig['dt_year'] == '1944-01-01') & (morig['ALIGN'] == 'Good Characters')]['ALIVE'].value_counts()"
   ]
  },
  {
   "cell_type": "code",
   "execution_count": 36,
   "metadata": {},
   "outputs": [
    {
     "data": {
      "text/plain": [
       "Secret Identity                  5904\n",
       "Public Identity                  4329\n",
       "Other Identity                   3574\n",
       "No Dual Identity                 1572\n",
       "Known to Authorities Identity      15\n",
       "Name: ID, dtype: int64"
      ]
     },
     "execution_count": 36,
     "metadata": {},
     "output_type": "execute_result"
    }
   ],
   "source": [
    "morig['ID'].value_counts()"
   ]
  },
  {
   "cell_type": "code",
   "execution_count": 37,
   "metadata": {},
   "outputs": [
    {
     "data": {
      "text/html": [
       "<div>\n",
       "<style scoped>\n",
       "    .dataframe tbody tr th:only-of-type {\n",
       "        vertical-align: middle;\n",
       "    }\n",
       "\n",
       "    .dataframe tbody tr th {\n",
       "        vertical-align: top;\n",
       "    }\n",
       "\n",
       "    .dataframe thead th {\n",
       "        text-align: right;\n",
       "    }\n",
       "</style>\n",
       "<table border=\"1\" class=\"dataframe\">\n",
       "  <thead>\n",
       "    <tr style=\"text-align: right;\">\n",
       "      <th>ID</th>\n",
       "      <th>No Dual Identity</th>\n",
       "      <th>Other Identity</th>\n",
       "      <th>Public Identity</th>\n",
       "      <th>Secret Identity</th>\n",
       "    </tr>\n",
       "    <tr>\n",
       "      <th>dt_year</th>\n",
       "      <th></th>\n",
       "      <th></th>\n",
       "      <th></th>\n",
       "      <th></th>\n",
       "    </tr>\n",
       "  </thead>\n",
       "  <tbody>\n",
       "    <tr>\n",
       "      <th>1939-01-01 00:00:00</th>\n",
       "      <td>0.797101</td>\n",
       "      <td>0.115942</td>\n",
       "      <td>0.043478</td>\n",
       "      <td>0.043478</td>\n",
       "    </tr>\n",
       "    <tr>\n",
       "      <th>1940-01-01 00:00:00</th>\n",
       "      <td>0.162896</td>\n",
       "      <td>0.104072</td>\n",
       "      <td>0.466063</td>\n",
       "      <td>0.266968</td>\n",
       "    </tr>\n",
       "    <tr>\n",
       "      <th>1941-01-01 00:00:00</th>\n",
       "      <td>0.062802</td>\n",
       "      <td>0.144928</td>\n",
       "      <td>0.376812</td>\n",
       "      <td>0.415459</td>\n",
       "    </tr>\n",
       "  </tbody>\n",
       "</table>\n",
       "</div>"
      ],
      "text/plain": [
       "ID                   No Dual Identity  Other Identity  Public Identity  \\\n",
       "dt_year                                                                  \n",
       "1939-01-01 00:00:00          0.797101        0.115942         0.043478   \n",
       "1940-01-01 00:00:00          0.162896        0.104072         0.466063   \n",
       "1941-01-01 00:00:00          0.062802        0.144928         0.376812   \n",
       "\n",
       "ID                   Secret Identity  \n",
       "dt_year                               \n",
       "1939-01-01 00:00:00         0.043478  \n",
       "1940-01-01 00:00:00         0.266968  \n",
       "1941-01-01 00:00:00         0.415459  "
      ]
     },
     "execution_count": 37,
     "metadata": {},
     "output_type": "execute_result"
    }
   ],
   "source": [
    "pv_id = pivot_table(morig,values='name',index=['dt_year'],columns=['ID'],aggfunc=len,margins=True,fill_value=0)\n",
    "pv_id = pv_id.div(pv_id.iloc[:,-1], axis=0)\n",
    "pv_id.drop(['Known to Authorities Identity', 'All'], axis=1, inplace=True)\n",
    "pv_id = pv_id.iloc[:-1]\n",
    "\n",
    "pv_id.head(3)"
   ]
  },
  {
   "cell_type": "code",
   "execution_count": 38,
   "metadata": {},
   "outputs": [
    {
     "data": {
      "text/plain": [
       "<matplotlib.axes._subplots.AxesSubplot at 0x269305c9f98>"
      ]
     },
     "execution_count": 38,
     "metadata": {},
     "output_type": "execute_result"
    },
    {
     "data": {
      "image/png": "[encoded data removed]",
      "text/plain": [
       "<Figure size 864x432 with 1 Axes>"
      ]
     },
     "metadata": {},
     "output_type": "display_data"
    }
   ],
   "source": [
    "# looking at the breakdown of identity\n",
    "pv_id.plot(figsize=(12,6), kind='area')"
   ]
  },
  {
   "cell_type": "code",
   "execution_count": null,
   "metadata": {},
   "outputs": [],
   "source": [
    "# this concludes pt 01; in pt 02 I compare Marvel and DC characters"
   ]
  },
  {
   "cell_type": "code",
   "execution_count": null,
   "metadata": {},
   "outputs": [],
   "source": []
  }
 ],
 "metadata": {
  "kernelspec": {
   "display_name": "Python 3",
   "language": "python",
   "name": "python3"
  },
  "language_info": {
   "codemirror_mode": {
    "name": "ipython",
    "version": 3
   },
   "file_extension": ".py",
   "mimetype": "text/x-python",
   "name": "python",
   "nbconvert_exporter": "python",
   "pygments_lexer": "ipython3",
   "version": "3.6.4"
  }
 },
 "nbformat": 4,
 "nbformat_minor": 2
}
