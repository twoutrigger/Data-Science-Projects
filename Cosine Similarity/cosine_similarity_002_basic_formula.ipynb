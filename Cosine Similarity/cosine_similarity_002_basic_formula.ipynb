{
 "cells": [
  {
   "cell_type": "code",
   "execution_count": 1,
   "metadata": {},
   "outputs": [],
   "source": [
    "## basic tutorial on the formula for cosine similarity\n",
    "## tutorial url:\n",
    "## https://www.geeksforgeeks.org/how-to-calculate-cosine-similarity-in-python/"
   ]
  },
  {
   "cell_type": "code",
   "execution_count": 2,
   "metadata": {},
   "outputs": [],
   "source": [
    "import numpy as np\n",
    "from numpy.linalg import norm"
   ]
  },
  {
   "cell_type": "code",
   "execution_count": 11,
   "metadata": {},
   "outputs": [],
   "source": [
    "## Formula:\n",
    "## Similarity = (A.B) / (||A||.||B||) \n",
    "## where A and B are vectors.\n",
    "## A.B is dot product of A and B: It is computed as sum of element-wise product of A and B.\n",
    "## ||A|| is L2 norm of A: It is computed as square root of the sum of squares of elements\n",
    "## of the vector A.\n",
    "\n",
    "## Explaination:\n",
    "## The first element of the cosine similarity array is a similarity between the first rows of A and B.\n",
    "## Similarly second element is the cosine similarity between the second rows of A and B.\n",
    "## Similarly for the third element.\n",
    "\n",
    "## We calculate the Cosine Similarity between the two non-zero vectors.\n",
    "## A vector is a single dimesingle-dimensional signal NumPy array.\n",
    "## Cosine similarity is a measure of similarity, often used to measure document similarity \n",
    "## in text analysis."
   ]
  },
  {
   "cell_type": "code",
   "execution_count": 12,
   "metadata": {},
   "outputs": [
    {
     "name": "stdout",
     "output_type": "stream",
     "text": [
      "A:\n",
      " [[ 1  2  2]\n",
      " [ 3  2  2]\n",
      " [-2  1 -3]]\n",
      "B:\n",
      " [[ 4  2  4]\n",
      " [ 2 -2  5]\n",
      " [ 3  4 -4]]\n"
     ]
    }
   ],
   "source": [
    "# define two arrays\n",
    "A = np.array([[1,2,2],\n",
    "               [3,2,2],\n",
    "               [-2,1,-3]])\n",
    "B = np.array([[4,2,4],\n",
    "               [2,-2,5],\n",
    "               [3,4,-4]])\n",
    "\n",
    "print(\"A:\\n\", A)\n",
    "print(\"B:\\n\", B)"
   ]
  },
  {
   "cell_type": "code",
   "execution_count": 13,
   "metadata": {},
   "outputs": [
    {
     "name": "stdout",
     "output_type": "stream",
     "text": [
      "Cosine Similarity:\n",
      " [0.88888889 0.5066404  0.41739194]\n"
     ]
    }
   ],
   "source": [
    "# compute cosine similarity\n",
    "cosine = np.sum(A*B, axis=1)/(norm(A, axis=1)*norm(B, axis=1))\n",
    " \n",
    "print(\"Cosine Similarity:\\n\", cosine)"
   ]
  },
  {
   "cell_type": "code",
   "execution_count": 9,
   "metadata": {},
   "outputs": [
    {
     "data": {
      "text/plain": [
       "array([16, 12, 10])"
      ]
     },
     "execution_count": 9,
     "metadata": {},
     "output_type": "execute_result"
    }
   ],
   "source": [
    "## dot product portion\n",
    "## 4 + 4 + 8 = 16\n",
    "## 6 - 4 + 10 = 12\n",
    "## -6 + 4 + 12 = 10\n",
    "np.sum(A*B, axis=1)"
   ]
  },
  {
   "cell_type": "code",
   "execution_count": 27,
   "metadata": {},
   "outputs": [
    {
     "data": {
      "text/plain": [
       "array([3.        , 4.12310563, 3.74165739])"
      ]
     },
     "execution_count": 27,
     "metadata": {},
     "output_type": "execute_result"
    }
   ],
   "source": [
    "## l2 norm portion\n",
    "## tutorial: understanding np.linalg.norm()\n",
    "## https://sparrow.dev/numpy-norm/\n",
    "norm(A, axis=1)"
   ]
  },
  {
   "cell_type": "code",
   "execution_count": null,
   "metadata": {},
   "outputs": [],
   "source": []
  }
 ],
 "metadata": {
  "kernelspec": {
   "display_name": "Python 3",
   "language": "python",
   "name": "python3"
  },
  "language_info": {
   "codemirror_mode": {
    "name": "ipython",
    "version": 3
   },
   "file_extension": ".py",
   "mimetype": "text/x-python",
   "name": "python",
   "nbconvert_exporter": "python",
   "pygments_lexer": "ipython3",
   "version": "3.7.3"
  }
 },
 "nbformat": 4,
 "nbformat_minor": 2
}
