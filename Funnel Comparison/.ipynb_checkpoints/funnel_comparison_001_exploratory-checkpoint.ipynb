{
 "cells": [
  {
   "cell_type": "markdown",
   "id": "60a5c081",
   "metadata": {},
   "source": [
    "#### Purpose of script:\n",
    "#### Generate test data to test funnel comparison"
   ]
  },
  {
   "cell_type": "code",
   "execution_count": 1,
   "id": "6060851a",
   "metadata": {},
   "outputs": [],
   "source": [
    "import pandas as pd\n",
    "import numpy as np"
   ]
  },
  {
   "cell_type": "code",
   "execution_count": 2,
   "id": "1c524cdd",
   "metadata": {},
   "outputs": [],
   "source": [
    "## data structure\n",
    "## datetime agnostic; start time == 0 is when applicant enters funnel or when funnel is opened\n",
    "## timestamp column\n",
    "## funnel id column, to differentiate funnels\n",
    "## applicant id column\n",
    "## stage id column\n",
    "## stage ordering in funnel column, i.e. first stage == 0"
   ]
  },
  {
   "cell_type": "code",
   "execution_count": null,
   "id": "41305b12",
   "metadata": {},
   "outputs": [],
   "source": [
    "## create:\n",
    "## 2 funnels\n",
    "## 9 users total, 4 users each funnel\n",
    "## 10 stages total, 5 stages each funnel\n",
    "## 2 users have not existed the funnel"
   ]
  }
 ],
 "metadata": {
  "kernelspec": {
   "display_name": "Python 3 (ipykernel)",
   "language": "python",
   "name": "python3"
  },
  "language_info": {
   "codemirror_mode": {
    "name": "ipython",
    "version": 3
   },
   "file_extension": ".py",
   "mimetype": "text/x-python",
   "name": "python",
   "nbconvert_exporter": "python",
   "pygments_lexer": "ipython3",
   "version": "3.8.13"
  }
 },
 "nbformat": 4,
 "nbformat_minor": 5
}
