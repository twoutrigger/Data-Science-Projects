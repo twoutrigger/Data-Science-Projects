{
 "cells": [
  {
   "cell_type": "code",
   "execution_count": 1,
   "metadata": {},
   "outputs": [],
   "source": [
    "import numpy as np\n",
    "import pandas as pd\n",
    "import matplotlib.pyplot as plt\n",
    "import re\n",
    "import statistics"
   ]
  },
  {
   "cell_type": "code",
   "execution_count": 2,
   "metadata": {},
   "outputs": [],
   "source": [
    "pd.set_option('display.max_colwidth', -1)"
   ]
  },
  {
   "cell_type": "code",
   "execution_count": 3,
   "metadata": {},
   "outputs": [
    {
     "name": "stdout",
     "output_type": "stream",
     "text": [
      "(10555, 27)\n",
      "(10772, 27)\n"
     ]
    },
    {
     "data": {
      "text/html": [
       "<div>\n",
       "<style scoped>\n",
       "    .dataframe tbody tr th:only-of-type {\n",
       "        vertical-align: middle;\n",
       "    }\n",
       "\n",
       "    .dataframe tbody tr th {\n",
       "        vertical-align: top;\n",
       "    }\n",
       "\n",
       "    .dataframe thead th {\n",
       "        text-align: right;\n",
       "    }\n",
       "</style>\n",
       "<table border=\"1\" class=\"dataframe\">\n",
       "  <thead>\n",
       "    <tr style=\"text-align: right;\">\n",
       "      <th></th>\n",
       "      <th>EmployerName</th>\n",
       "      <th>Address</th>\n",
       "      <th>CompanyNumber</th>\n",
       "      <th>SicCodes</th>\n",
       "      <th>DiffMeanHourlyPercent</th>\n",
       "      <th>DiffMedianHourlyPercent</th>\n",
       "      <th>DiffMeanBonusPercent</th>\n",
       "      <th>DiffMedianBonusPercent</th>\n",
       "      <th>MaleBonusPercent</th>\n",
       "      <th>FemaleBonusPercent</th>\n",
       "      <th>...</th>\n",
       "      <th>FemaleTopQuartile</th>\n",
       "      <th>CompanyLinkToGPGInfo</th>\n",
       "      <th>ResponsiblePerson</th>\n",
       "      <th>EmployerSize</th>\n",
       "      <th>CurrentName</th>\n",
       "      <th>SubmittedAfterTheDeadline</th>\n",
       "      <th>DueDate</th>\n",
       "      <th>DateSubmitted</th>\n",
       "      <th>Post</th>\n",
       "      <th>Val</th>\n",
       "    </tr>\n",
       "  </thead>\n",
       "  <tbody>\n",
       "    <tr>\n",
       "      <th>0</th>\n",
       "      <td>BRYANSTON SCHOOL,INCORPORATED</td>\n",
       "      <td>Bryanston House,\\r\\r\\r\\nBlandford,\\r\\r\\r\\nDorset,\\r\\r\\r\\nUnited Kingdom,\\r\\r\\r\\nDT11 0PX</td>\n",
       "      <td>00226143</td>\n",
       "      <td>85310</td>\n",
       "      <td>18.0</td>\n",
       "      <td>28.2</td>\n",
       "      <td>0.0</td>\n",
       "      <td>0.0</td>\n",
       "      <td>0.0</td>\n",
       "      <td>0.0</td>\n",
       "      <td>...</td>\n",
       "      <td>48.5</td>\n",
       "      <td>https://www.bryanston.co.uk/employment</td>\n",
       "      <td>Nick McRobb (Bursar and Clerk to the Governors)</td>\n",
       "      <td>500 to 999</td>\n",
       "      <td>\"Bryanston School\",Incorporated</td>\n",
       "      <td>False</td>\n",
       "      <td>05/04/2018 00:00:00</td>\n",
       "      <td>27/03/2018 11:42:49</td>\n",
       "      <td>DT11 0PX</td>\n",
       "      <td>True</td>\n",
       "    </tr>\n",
       "    <tr>\n",
       "      <th>1</th>\n",
       "      <td>RED BAND CHEMICAL COMPANY, LIMITED</td>\n",
       "      <td>19 Smith's Place,\\r\\r\\r\\nLeith Walk,\\r\\r\\r\\nEdinburgh,\\r\\r\\r\\nEH6 8NU</td>\n",
       "      <td>SC016876</td>\n",
       "      <td>47730</td>\n",
       "      <td>2.3</td>\n",
       "      <td>-2.7</td>\n",
       "      <td>15.0</td>\n",
       "      <td>37.5</td>\n",
       "      <td>15.6</td>\n",
       "      <td>66.7</td>\n",
       "      <td>...</td>\n",
       "      <td>81.9</td>\n",
       "      <td>NaN</td>\n",
       "      <td>Philip Galt (Managing Director)</td>\n",
       "      <td>250 to 499</td>\n",
       "      <td>\"RED BAND\" CHEMICAL COMPANY, LIMITED</td>\n",
       "      <td>False</td>\n",
       "      <td>05/04/2018 00:00:00</td>\n",
       "      <td>28/03/2018 16:44:25</td>\n",
       "      <td>EH6 8NU</td>\n",
       "      <td>True</td>\n",
       "    </tr>\n",
       "  </tbody>\n",
       "</table>\n",
       "<p>2 rows × 27 columns</p>\n",
       "</div>"
      ],
      "text/plain": [
       "                         EmployerName  \\\n",
       "0  BRYANSTON SCHOOL,INCORPORATED        \n",
       "1  RED BAND CHEMICAL COMPANY, LIMITED   \n",
       "\n",
       "                                                                                    Address  \\\n",
       "0  Bryanston House,\\r\\r\\r\\nBlandford,\\r\\r\\r\\nDorset,\\r\\r\\r\\nUnited Kingdom,\\r\\r\\r\\nDT11 0PX   \n",
       "1  19 Smith's Place,\\r\\r\\r\\nLeith Walk,\\r\\r\\r\\nEdinburgh,\\r\\r\\r\\nEH6 8NU                      \n",
       "\n",
       "  CompanyNumber SicCodes  DiffMeanHourlyPercent  DiffMedianHourlyPercent  \\\n",
       "0  00226143      85310    18.0                   28.2                      \n",
       "1  SC016876      47730    2.3                   -2.7                       \n",
       "\n",
       "   DiffMeanBonusPercent  DiffMedianBonusPercent  MaleBonusPercent  \\\n",
       "0  0.0                   0.0                     0.0                \n",
       "1  15.0                  37.5                    15.6               \n",
       "\n",
       "   FemaleBonusPercent  ...   FemaleTopQuartile  \\\n",
       "0  0.0                 ...   48.5                \n",
       "1  66.7                ...   81.9                \n",
       "\n",
       "                     CompanyLinkToGPGInfo  \\\n",
       "0  https://www.bryanston.co.uk/employment   \n",
       "1  NaN                                      \n",
       "\n",
       "                                 ResponsiblePerson  EmployerSize  \\\n",
       "0  Nick McRobb (Bursar and Clerk to the Governors)  500 to 999     \n",
       "1  Philip Galt (Managing Director)                  250 to 499     \n",
       "\n",
       "                            CurrentName  SubmittedAfterTheDeadline  \\\n",
       "0  \"Bryanston School\",Incorporated       False                       \n",
       "1  \"RED BAND\" CHEMICAL COMPANY, LIMITED  False                       \n",
       "\n",
       "               DueDate        DateSubmitted      Post   Val  \n",
       "0  05/04/2018 00:00:00  27/03/2018 11:42:49  DT11 0PX  True  \n",
       "1  05/04/2018 00:00:00  28/03/2018 16:44:25  EH6 8NU   True  \n",
       "\n",
       "[2 rows x 27 columns]"
      ]
     },
     "execution_count": 3,
     "metadata": {},
     "output_type": "execute_result"
    }
   ],
   "source": [
    "aorig = pd.read_csv('2017clean2.csv', header=0, index_col=0)\n",
    "borig = pd.read_csv('2018clean2.csv', header=0, index_col=0)\n",
    "\n",
    "print(aorig.shape)\n",
    "print(borig.shape)\n",
    "aorig.head(2)"
   ]
  },
  {
   "cell_type": "code",
   "execution_count": 4,
   "metadata": {},
   "outputs": [],
   "source": [
    "def ret_2(x):\n",
    "    return str(x)[:2]"
   ]
  },
  {
   "cell_type": "code",
   "execution_count": 5,
   "metadata": {},
   "outputs": [
    {
     "data": {
      "text/html": [
       "<div>\n",
       "<style scoped>\n",
       "    .dataframe tbody tr th:only-of-type {\n",
       "        vertical-align: middle;\n",
       "    }\n",
       "\n",
       "    .dataframe tbody tr th {\n",
       "        vertical-align: top;\n",
       "    }\n",
       "\n",
       "    .dataframe thead th {\n",
       "        text-align: right;\n",
       "    }\n",
       "</style>\n",
       "<table border=\"1\" class=\"dataframe\">\n",
       "  <thead>\n",
       "    <tr style=\"text-align: right;\">\n",
       "      <th></th>\n",
       "      <th>EmployerName</th>\n",
       "      <th>Address</th>\n",
       "      <th>CompanyNumber</th>\n",
       "      <th>SicCodes</th>\n",
       "      <th>DiffMeanHourlyPercent</th>\n",
       "      <th>DiffMedianHourlyPercent</th>\n",
       "      <th>DiffMeanBonusPercent</th>\n",
       "      <th>DiffMedianBonusPercent</th>\n",
       "      <th>MaleBonusPercent</th>\n",
       "      <th>FemaleBonusPercent</th>\n",
       "      <th>...</th>\n",
       "      <th>CompanyLinkToGPGInfo</th>\n",
       "      <th>ResponsiblePerson</th>\n",
       "      <th>EmployerSize</th>\n",
       "      <th>CurrentName</th>\n",
       "      <th>SubmittedAfterTheDeadline</th>\n",
       "      <th>DueDate</th>\n",
       "      <th>DateSubmitted</th>\n",
       "      <th>Post</th>\n",
       "      <th>Val</th>\n",
       "      <th>CI</th>\n",
       "    </tr>\n",
       "  </thead>\n",
       "  <tbody>\n",
       "    <tr>\n",
       "      <th>0</th>\n",
       "      <td>BRYANSTON SCHOOL,INCORPORATED</td>\n",
       "      <td>Bryanston House,\\r\\r\\r\\nBlandford,\\r\\r\\r\\nDorset,\\r\\r\\r\\nUnited Kingdom,\\r\\r\\r\\nDT11 0PX</td>\n",
       "      <td>00226143</td>\n",
       "      <td>85310</td>\n",
       "      <td>18.0</td>\n",
       "      <td>28.2</td>\n",
       "      <td>0.0</td>\n",
       "      <td>0.0</td>\n",
       "      <td>0.0</td>\n",
       "      <td>0.0</td>\n",
       "      <td>...</td>\n",
       "      <td>https://www.bryanston.co.uk/employment</td>\n",
       "      <td>Nick McRobb (Bursar and Clerk to the Governors)</td>\n",
       "      <td>500 to 999</td>\n",
       "      <td>\"Bryanston School\",Incorporated</td>\n",
       "      <td>False</td>\n",
       "      <td>05/04/2018 00:00:00</td>\n",
       "      <td>27/03/2018 11:42:49</td>\n",
       "      <td>DT11 0PX</td>\n",
       "      <td>True</td>\n",
       "      <td>00</td>\n",
       "    </tr>\n",
       "    <tr>\n",
       "      <th>1</th>\n",
       "      <td>RED BAND CHEMICAL COMPANY, LIMITED</td>\n",
       "      <td>19 Smith's Place,\\r\\r\\r\\nLeith Walk,\\r\\r\\r\\nEdinburgh,\\r\\r\\r\\nEH6 8NU</td>\n",
       "      <td>SC016876</td>\n",
       "      <td>47730</td>\n",
       "      <td>2.3</td>\n",
       "      <td>-2.7</td>\n",
       "      <td>15.0</td>\n",
       "      <td>37.5</td>\n",
       "      <td>15.6</td>\n",
       "      <td>66.7</td>\n",
       "      <td>...</td>\n",
       "      <td>NaN</td>\n",
       "      <td>Philip Galt (Managing Director)</td>\n",
       "      <td>250 to 499</td>\n",
       "      <td>\"RED BAND\" CHEMICAL COMPANY, LIMITED</td>\n",
       "      <td>False</td>\n",
       "      <td>05/04/2018 00:00:00</td>\n",
       "      <td>28/03/2018 16:44:25</td>\n",
       "      <td>EH6 8NU</td>\n",
       "      <td>True</td>\n",
       "      <td>SC</td>\n",
       "    </tr>\n",
       "  </tbody>\n",
       "</table>\n",
       "<p>2 rows × 28 columns</p>\n",
       "</div>"
      ],
      "text/plain": [
       "                         EmployerName  \\\n",
       "0  BRYANSTON SCHOOL,INCORPORATED        \n",
       "1  RED BAND CHEMICAL COMPANY, LIMITED   \n",
       "\n",
       "                                                                                    Address  \\\n",
       "0  Bryanston House,\\r\\r\\r\\nBlandford,\\r\\r\\r\\nDorset,\\r\\r\\r\\nUnited Kingdom,\\r\\r\\r\\nDT11 0PX   \n",
       "1  19 Smith's Place,\\r\\r\\r\\nLeith Walk,\\r\\r\\r\\nEdinburgh,\\r\\r\\r\\nEH6 8NU                      \n",
       "\n",
       "  CompanyNumber SicCodes  DiffMeanHourlyPercent  DiffMedianHourlyPercent  \\\n",
       "0  00226143      85310    18.0                   28.2                      \n",
       "1  SC016876      47730    2.3                   -2.7                       \n",
       "\n",
       "   DiffMeanBonusPercent  DiffMedianBonusPercent  MaleBonusPercent  \\\n",
       "0  0.0                   0.0                     0.0                \n",
       "1  15.0                  37.5                    15.6               \n",
       "\n",
       "   FemaleBonusPercent ...                    CompanyLinkToGPGInfo  \\\n",
       "0  0.0                ...  https://www.bryanston.co.uk/employment   \n",
       "1  66.7               ...  NaN                                      \n",
       "\n",
       "                                 ResponsiblePerson  EmployerSize  \\\n",
       "0  Nick McRobb (Bursar and Clerk to the Governors)  500 to 999     \n",
       "1  Philip Galt (Managing Director)                  250 to 499     \n",
       "\n",
       "                            CurrentName  SubmittedAfterTheDeadline  \\\n",
       "0  \"Bryanston School\",Incorporated       False                       \n",
       "1  \"RED BAND\" CHEMICAL COMPANY, LIMITED  False                       \n",
       "\n",
       "               DueDate        DateSubmitted      Post   Val  CI  \n",
       "0  05/04/2018 00:00:00  27/03/2018 11:42:49  DT11 0PX  True  00  \n",
       "1  05/04/2018 00:00:00  28/03/2018 16:44:25  EH6 8NU   True  SC  \n",
       "\n",
       "[2 rows x 28 columns]"
      ]
     },
     "execution_count": 5,
     "metadata": {},
     "output_type": "execute_result"
    }
   ],
   "source": [
    "aorig['CI'] = aorig['CompanyNumber'].apply(ret_2)\n",
    "borig['CI'] = borig['CompanyNumber'].apply(ret_2)\n",
    "\n",
    "aorig.head(2)"
   ]
  },
  {
   "cell_type": "code",
   "execution_count": 6,
   "metadata": {},
   "outputs": [
    {
     "data": {
      "text/plain": [
       "IP    151\n",
       "OC    119\n",
       "RC    79 \n",
       "BR    54 \n",
       "FC    32 \n",
       "na    27 \n",
       "RS    14 \n",
       "SP    12 \n",
       "SO    9  \n",
       "04    8  \n",
       "Name: CI, dtype: int64"
      ]
     },
     "execution_count": 6,
     "metadata": {},
     "output_type": "execute_result"
    }
   ],
   "source": [
    "aorig[aorig['SicCodes'].isnull()]['CI'].value_counts()[:10]"
   ]
  },
  {
   "cell_type": "code",
   "execution_count": 7,
   "metadata": {},
   "outputs": [
    {
     "data": {
      "text/plain": [
       "00    1379\n",
       "na    1331\n",
       "02    1322\n",
       "03    1135\n",
       "01    1120\n",
       "04    744 \n",
       "07    641 \n",
       "05    537 \n",
       "SC    500 \n",
       "06    464 \n",
       "Name: CI, dtype: int64"
      ]
     },
     "execution_count": 7,
     "metadata": {},
     "output_type": "execute_result"
    }
   ],
   "source": [
    "aorig[aorig['SicCodes'].isnull() == False]['CI'].value_counts()[:10]"
   ]
  },
  {
   "cell_type": "code",
   "execution_count": 8,
   "metadata": {},
   "outputs": [],
   "source": [
    "def sc_len(x):\n",
    "    return len(str(x))"
   ]
  },
  {
   "cell_type": "code",
   "execution_count": 9,
   "metadata": {},
   "outputs": [
    {
     "data": {
      "text/plain": [
       "5     6325\n",
       "11    1103\n",
       "15    1030\n",
       "3     567 \n",
       "25    468 \n",
       "35    370 \n",
       "1     345 \n",
       "21    144 \n",
       "4     65  \n",
       "31    55  \n",
       "Name: SCLen, dtype: int64"
      ]
     },
     "execution_count": 9,
     "metadata": {},
     "output_type": "execute_result"
    }
   ],
   "source": [
    "# Note that len == 4 is likely needs additional zero\n",
    "aorig['SCLen'] = aorig['SicCodes'].apply(sc_len)\n",
    "borig['SCLen'] = borig['SicCodes'].apply(sc_len)\n",
    "\n",
    "aorig['SCLen'].value_counts()[:10]"
   ]
  },
  {
   "cell_type": "code",
   "execution_count": 10,
   "metadata": {},
   "outputs": [
    {
     "name": "stdout",
     "output_type": "stream",
     "text": [
      "1130\n",
      "9900\n"
     ]
    }
   ],
   "source": [
    "# examining len == 4\n",
    "int_list = []\n",
    "\n",
    "for i in aorig[aorig['SCLen'] == 4]['SicCodes'].tolist():\n",
    "    if int(i):\n",
    "        int_list.append(int(i))\n",
    "        \n",
    "print(min(int_list))\n",
    "print(max(int_list))        "
   ]
  },
  {
   "cell_type": "markdown",
   "metadata": {},
   "source": [
    "## Regex for Sic Codes"
   ]
  },
  {
   "cell_type": "code",
   "execution_count": 11,
   "metadata": {},
   "outputs": [],
   "source": [
    "def find_sic(x):\n",
    "    if x != None:\n",
    "        return re.findall(r'\\b[0-9]{4,5}(?![0-9])', str(x))\n",
    "\n",
    "def find_sic_len(x):\n",
    "    if x != None:\n",
    "        return len(re.findall(r'\\b[0-9]{4,5}(?![0-9])', str(x)))"
   ]
  },
  {
   "cell_type": "code",
   "execution_count": 12,
   "metadata": {},
   "outputs": [
    {
     "data": {
      "text/html": [
       "<div>\n",
       "<style scoped>\n",
       "    .dataframe tbody tr th:only-of-type {\n",
       "        vertical-align: middle;\n",
       "    }\n",
       "\n",
       "    .dataframe tbody tr th {\n",
       "        vertical-align: top;\n",
       "    }\n",
       "\n",
       "    .dataframe thead th {\n",
       "        text-align: right;\n",
       "    }\n",
       "</style>\n",
       "<table border=\"1\" class=\"dataframe\">\n",
       "  <thead>\n",
       "    <tr style=\"text-align: right;\">\n",
       "      <th></th>\n",
       "      <th>EmployerName</th>\n",
       "      <th>Address</th>\n",
       "      <th>CompanyNumber</th>\n",
       "      <th>SicCodes</th>\n",
       "      <th>DiffMeanHourlyPercent</th>\n",
       "      <th>DiffMedianHourlyPercent</th>\n",
       "      <th>DiffMeanBonusPercent</th>\n",
       "      <th>DiffMedianBonusPercent</th>\n",
       "      <th>MaleBonusPercent</th>\n",
       "      <th>FemaleBonusPercent</th>\n",
       "      <th>...</th>\n",
       "      <th>CurrentName</th>\n",
       "      <th>SubmittedAfterTheDeadline</th>\n",
       "      <th>DueDate</th>\n",
       "      <th>DateSubmitted</th>\n",
       "      <th>Post</th>\n",
       "      <th>Val</th>\n",
       "      <th>CI</th>\n",
       "      <th>SCLen</th>\n",
       "      <th>Sic</th>\n",
       "      <th>SicLen</th>\n",
       "    </tr>\n",
       "  </thead>\n",
       "  <tbody>\n",
       "    <tr>\n",
       "      <th>0</th>\n",
       "      <td>BRYANSTON SCHOOL,INCORPORATED</td>\n",
       "      <td>Bryanston House,\\r\\r\\r\\nBlandford,\\r\\r\\r\\nDorset,\\r\\r\\r\\nUnited Kingdom,\\r\\r\\r\\nDT11 0PX</td>\n",
       "      <td>00226143</td>\n",
       "      <td>85310</td>\n",
       "      <td>18.0</td>\n",
       "      <td>28.2</td>\n",
       "      <td>0.0</td>\n",
       "      <td>0.0</td>\n",
       "      <td>0.0</td>\n",
       "      <td>0.0</td>\n",
       "      <td>...</td>\n",
       "      <td>\"Bryanston School\",Incorporated</td>\n",
       "      <td>False</td>\n",
       "      <td>05/04/2018 00:00:00</td>\n",
       "      <td>27/03/2018 11:42:49</td>\n",
       "      <td>DT11 0PX</td>\n",
       "      <td>True</td>\n",
       "      <td>00</td>\n",
       "      <td>5</td>\n",
       "      <td>[85310]</td>\n",
       "      <td>1</td>\n",
       "    </tr>\n",
       "    <tr>\n",
       "      <th>1</th>\n",
       "      <td>RED BAND CHEMICAL COMPANY, LIMITED</td>\n",
       "      <td>19 Smith's Place,\\r\\r\\r\\nLeith Walk,\\r\\r\\r\\nEdinburgh,\\r\\r\\r\\nEH6 8NU</td>\n",
       "      <td>SC016876</td>\n",
       "      <td>47730</td>\n",
       "      <td>2.3</td>\n",
       "      <td>-2.7</td>\n",
       "      <td>15.0</td>\n",
       "      <td>37.5</td>\n",
       "      <td>15.6</td>\n",
       "      <td>66.7</td>\n",
       "      <td>...</td>\n",
       "      <td>\"RED BAND\" CHEMICAL COMPANY, LIMITED</td>\n",
       "      <td>False</td>\n",
       "      <td>05/04/2018 00:00:00</td>\n",
       "      <td>28/03/2018 16:44:25</td>\n",
       "      <td>EH6 8NU</td>\n",
       "      <td>True</td>\n",
       "      <td>SC</td>\n",
       "      <td>5</td>\n",
       "      <td>[47730]</td>\n",
       "      <td>1</td>\n",
       "    </tr>\n",
       "    <tr>\n",
       "      <th>2</th>\n",
       "      <td>118 LIMITED</td>\n",
       "      <td>Fusion Point,\\r\\r\\r\\nDumballs Road,\\r\\r\\r\\nCardiff,\\r\\r\\r\\nUnited Kingdom,\\r\\r\\r\\nCF10 5BF</td>\n",
       "      <td>03951948</td>\n",
       "      <td>61900</td>\n",
       "      <td>1.7</td>\n",
       "      <td>2.8</td>\n",
       "      <td>13.1</td>\n",
       "      <td>13.6</td>\n",
       "      <td>70.0</td>\n",
       "      <td>57.0</td>\n",
       "      <td>...</td>\n",
       "      <td>118 LIMITED</td>\n",
       "      <td>False</td>\n",
       "      <td>05/04/2018 00:00:00</td>\n",
       "      <td>27/03/2018 19:10:41</td>\n",
       "      <td>CF10 5BF</td>\n",
       "      <td>True</td>\n",
       "      <td>03</td>\n",
       "      <td>5</td>\n",
       "      <td>[61900]</td>\n",
       "      <td>1</td>\n",
       "    </tr>\n",
       "    <tr>\n",
       "      <th>3</th>\n",
       "      <td>123 EMPLOYEES LTD</td>\n",
       "      <td>34 Roundhay Road,\\r\\r\\r\\nLeeds,\\r\\r\\r\\nEngland,\\r\\r\\r\\nLS7 1AB</td>\n",
       "      <td>10530651</td>\n",
       "      <td>78300</td>\n",
       "      <td>41.0</td>\n",
       "      <td>36.0</td>\n",
       "      <td>-69.8</td>\n",
       "      <td>-157.2</td>\n",
       "      <td>50.0</td>\n",
       "      <td>73.5</td>\n",
       "      <td>...</td>\n",
       "      <td>123 EMPLOYEES LTD</td>\n",
       "      <td>True</td>\n",
       "      <td>05/04/2018 00:00:00</td>\n",
       "      <td>04/05/2018 11:24:06</td>\n",
       "      <td>LS7 1AB</td>\n",
       "      <td>True</td>\n",
       "      <td>10</td>\n",
       "      <td>5</td>\n",
       "      <td>[78300]</td>\n",
       "      <td>1</td>\n",
       "    </tr>\n",
       "    <tr>\n",
       "      <th>4</th>\n",
       "      <td>1610 LIMITED</td>\n",
       "      <td>Hestercombe House,\\r\\r\\r\\nCheddon Fitzpaine,\\r\\r\\r\\nTaunton,\\r\\r\\r\\nSomerset,\\r\\r\\r\\nUnited Kingdom,\\r\\r\\r\\nTA2 8LG</td>\n",
       "      <td>06727055</td>\n",
       "      <td>93110</td>\n",
       "      <td>-22.0</td>\n",
       "      <td>-34.0</td>\n",
       "      <td>-47.0</td>\n",
       "      <td>-67.0</td>\n",
       "      <td>25.0</td>\n",
       "      <td>75.0</td>\n",
       "      <td>...</td>\n",
       "      <td>1610 LIMITED</td>\n",
       "      <td>True</td>\n",
       "      <td>05/04/2018 00:00:00</td>\n",
       "      <td>12/04/2018 17:03:26</td>\n",
       "      <td>TA2 8LG</td>\n",
       "      <td>True</td>\n",
       "      <td>06</td>\n",
       "      <td>5</td>\n",
       "      <td>[93110]</td>\n",
       "      <td>1</td>\n",
       "    </tr>\n",
       "  </tbody>\n",
       "</table>\n",
       "<p>5 rows × 31 columns</p>\n",
       "</div>"
      ],
      "text/plain": [
       "                         EmployerName  \\\n",
       "0  BRYANSTON SCHOOL,INCORPORATED        \n",
       "1  RED BAND CHEMICAL COMPANY, LIMITED   \n",
       "2  118 LIMITED                          \n",
       "3  123 EMPLOYEES LTD                    \n",
       "4  1610 LIMITED                         \n",
       "\n",
       "                                                                                                               Address  \\\n",
       "0  Bryanston House,\\r\\r\\r\\nBlandford,\\r\\r\\r\\nDorset,\\r\\r\\r\\nUnited Kingdom,\\r\\r\\r\\nDT11 0PX                              \n",
       "1  19 Smith's Place,\\r\\r\\r\\nLeith Walk,\\r\\r\\r\\nEdinburgh,\\r\\r\\r\\nEH6 8NU                                                 \n",
       "2  Fusion Point,\\r\\r\\r\\nDumballs Road,\\r\\r\\r\\nCardiff,\\r\\r\\r\\nUnited Kingdom,\\r\\r\\r\\nCF10 5BF                            \n",
       "3  34 Roundhay Road,\\r\\r\\r\\nLeeds,\\r\\r\\r\\nEngland,\\r\\r\\r\\nLS7 1AB                                                        \n",
       "4  Hestercombe House,\\r\\r\\r\\nCheddon Fitzpaine,\\r\\r\\r\\nTaunton,\\r\\r\\r\\nSomerset,\\r\\r\\r\\nUnited Kingdom,\\r\\r\\r\\nTA2 8LG   \n",
       "\n",
       "  CompanyNumber SicCodes  DiffMeanHourlyPercent  DiffMedianHourlyPercent  \\\n",
       "0  00226143      85310    18.0                   28.2                      \n",
       "1  SC016876      47730    2.3                   -2.7                       \n",
       "2  03951948      61900    1.7                    2.8                       \n",
       "3  10530651      78300    41.0                   36.0                      \n",
       "4  06727055      93110   -22.0                  -34.0                      \n",
       "\n",
       "   DiffMeanBonusPercent  DiffMedianBonusPercent  MaleBonusPercent  \\\n",
       "0  0.0                   0.0                     0.0                \n",
       "1  15.0                  37.5                    15.6               \n",
       "2  13.1                  13.6                    70.0               \n",
       "3 -69.8                 -157.2                   50.0               \n",
       "4 -47.0                 -67.0                    25.0               \n",
       "\n",
       "   FemaleBonusPercent  ...                             CurrentName  \\\n",
       "0  0.0                 ...    \"Bryanston School\",Incorporated        \n",
       "1  66.7                ...    \"RED BAND\" CHEMICAL COMPANY, LIMITED   \n",
       "2  57.0                ...    118 LIMITED                            \n",
       "3  73.5                ...    123 EMPLOYEES LTD                      \n",
       "4  75.0                ...    1610 LIMITED                           \n",
       "\n",
       "   SubmittedAfterTheDeadline              DueDate        DateSubmitted  \\\n",
       "0  False                      05/04/2018 00:00:00  27/03/2018 11:42:49   \n",
       "1  False                      05/04/2018 00:00:00  28/03/2018 16:44:25   \n",
       "2  False                      05/04/2018 00:00:00  27/03/2018 19:10:41   \n",
       "3  True                       05/04/2018 00:00:00  04/05/2018 11:24:06   \n",
       "4  True                       05/04/2018 00:00:00  12/04/2018 17:03:26   \n",
       "\n",
       "       Post   Val  CI  SCLen      Sic SicLen  \n",
       "0  DT11 0PX  True  00  5      [85310]  1      \n",
       "1  EH6 8NU   True  SC  5      [47730]  1      \n",
       "2  CF10 5BF  True  03  5      [61900]  1      \n",
       "3  LS7 1AB   True  10  5      [78300]  1      \n",
       "4  TA2 8LG   True  06  5      [93110]  1      \n",
       "\n",
       "[5 rows x 31 columns]"
      ]
     },
     "execution_count": 12,
     "metadata": {},
     "output_type": "execute_result"
    }
   ],
   "source": [
    "aorig['Sic'] = aorig['SicCodes'].apply(find_sic)\n",
    "aorig['SicLen'] = aorig['SicCodes'].apply(find_sic_len)\n",
    "\n",
    "borig['Sic'] = borig['SicCodes'].apply(find_sic)\n",
    "borig['SicLen'] = borig['SicCodes'].apply(find_sic_len)\n",
    "\n",
    "aorig.head()"
   ]
  },
  {
   "cell_type": "code",
   "execution_count": 13,
   "metadata": {},
   "outputs": [
    {
     "data": {
      "text/plain": [
       "1    7493\n",
       "2    1196\n",
       "0    912 \n",
       "3    535 \n",
       "4    412 \n",
       "5    3   \n",
       "7    2   \n",
       "6    2   \n",
       "Name: SicLen, dtype: int64"
      ]
     },
     "execution_count": 13,
     "metadata": {},
     "output_type": "execute_result"
    }
   ],
   "source": [
    "aorig['SicLen'].value_counts()"
   ]
  },
  {
   "cell_type": "markdown",
   "metadata": {},
   "source": [
    "## Validation"
   ]
  },
  {
   "cell_type": "code",
   "execution_count": 14,
   "metadata": {},
   "outputs": [
    {
     "name": "stdout",
     "output_type": "stream",
     "text": [
      "(731, 5)\n"
     ]
    },
    {
     "data": {
      "text/html": [
       "<div>\n",
       "<style scoped>\n",
       "    .dataframe tbody tr th:only-of-type {\n",
       "        vertical-align: middle;\n",
       "    }\n",
       "\n",
       "    .dataframe tbody tr th {\n",
       "        vertical-align: top;\n",
       "    }\n",
       "\n",
       "    .dataframe thead th {\n",
       "        text-align: right;\n",
       "    }\n",
       "</style>\n",
       "<table border=\"1\" class=\"dataframe\">\n",
       "  <thead>\n",
       "    <tr style=\"text-align: right;\">\n",
       "      <th></th>\n",
       "      <th>sic_code</th>\n",
       "      <th>sic_description</th>\n",
       "      <th>section</th>\n",
       "      <th>section_description</th>\n",
       "      <th>sic_version</th>\n",
       "    </tr>\n",
       "  </thead>\n",
       "  <tbody>\n",
       "    <tr>\n",
       "      <th>0</th>\n",
       "      <td>1110</td>\n",
       "      <td>Growing of cereals (except rice), leguminous crops and oil seeds</td>\n",
       "      <td>A</td>\n",
       "      <td>Agriculture, Forestry and Fishing</td>\n",
       "      <td>SIC 2007</td>\n",
       "    </tr>\n",
       "    <tr>\n",
       "      <th>1</th>\n",
       "      <td>1120</td>\n",
       "      <td>Growing of rice</td>\n",
       "      <td>A</td>\n",
       "      <td>Agriculture, Forestry and Fishing</td>\n",
       "      <td>SIC 2007</td>\n",
       "    </tr>\n",
       "  </tbody>\n",
       "</table>\n",
       "</div>"
      ],
      "text/plain": [
       "   sic_code                                                   sic_description  \\\n",
       "0  1110      Growing of cereals (except rice), leguminous crops and oil seeds   \n",
       "1  1120      Growing of rice                                                    \n",
       "\n",
       "  section                section_description sic_version  \n",
       "0  A       Agriculture, Forestry and Fishing  SIC 2007    \n",
       "1  A       Agriculture, Forestry and Fishing  SIC 2007    "
      ]
     },
     "execution_count": 14,
     "metadata": {},
     "output_type": "execute_result"
    }
   ],
   "source": [
    "sics = pd.read_csv('siccodes.csv', header=0)\n",
    "\n",
    "print(sics.shape)\n",
    "sics.head(2)"
   ]
  },
  {
   "cell_type": "code",
   "execution_count": 15,
   "metadata": {},
   "outputs": [
    {
     "data": {
      "text/plain": [
       "Manufacturing                                               259\n",
       "Wholesale and retail trade; repair of motor vehicles and    103\n",
       "Administrative and support service activities               44 \n",
       "Agriculture, Forestry and Fishing                           40 \n",
       "Financial and insurance activities                          34 \n",
       "Transportation and storage                                  33 \n",
       "Professional, scientific and technical activities           33 \n",
       "Information and communication                               32 \n",
       "Construction                                                25 \n",
       "Other service activities                                    19 \n",
       "Arts, entertainment and recreation                          17 \n",
       "Mining and Quarrying                                        16 \n",
       "Human health and social work activities                     13 \n",
       "Accommodation and food service activities                   13 \n",
       "Education                                                   12 \n",
       "Water supply, sewerage, waste management and                9  \n",
       "Public administration and defence; compulsory social        9  \n",
       "Electricity, gas, steam and air conditioning supply         8  \n",
       "Real estate activities                                      6  \n",
       "Activities of households as employers; undifferentiated     4  \n",
       "Activities of extraterritorial organisations and            2  \n",
       "Name: section_description, dtype: int64"
      ]
     },
     "execution_count": 15,
     "metadata": {},
     "output_type": "execute_result"
    }
   ],
   "source": [
    "sics['section_description'].value_counts()"
   ]
  },
  {
   "cell_type": "code",
   "execution_count": 16,
   "metadata": {},
   "outputs": [
    {
     "data": {
      "text/html": [
       "<div>\n",
       "<style scoped>\n",
       "    .dataframe tbody tr th:only-of-type {\n",
       "        vertical-align: middle;\n",
       "    }\n",
       "\n",
       "    .dataframe tbody tr th {\n",
       "        vertical-align: top;\n",
       "    }\n",
       "\n",
       "    .dataframe thead th {\n",
       "        text-align: right;\n",
       "    }\n",
       "</style>\n",
       "<table border=\"1\" class=\"dataframe\">\n",
       "  <thead>\n",
       "    <tr style=\"text-align: right;\">\n",
       "      <th></th>\n",
       "      <th>sic_code</th>\n",
       "      <th>sic_description</th>\n",
       "      <th>section</th>\n",
       "      <th>section_description</th>\n",
       "      <th>sic_version</th>\n",
       "    </tr>\n",
       "  </thead>\n",
       "  <tbody>\n",
       "    <tr>\n",
       "      <th>0</th>\n",
       "      <td>1110</td>\n",
       "      <td>Growing of cereals (except rice), leguminous crops and oil seeds</td>\n",
       "      <td>A</td>\n",
       "      <td>Agriculture, Forestry and Fishing</td>\n",
       "      <td>SIC 2007</td>\n",
       "    </tr>\n",
       "    <tr>\n",
       "      <th>1</th>\n",
       "      <td>1120</td>\n",
       "      <td>Growing of rice</td>\n",
       "      <td>A</td>\n",
       "      <td>Agriculture, Forestry and Fishing</td>\n",
       "      <td>SIC 2007</td>\n",
       "    </tr>\n",
       "  </tbody>\n",
       "</table>\n",
       "</div>"
      ],
      "text/plain": [
       "   sic_code                                                   sic_description  \\\n",
       "0  1110      Growing of cereals (except rice), leguminous crops and oil seeds   \n",
       "1  1120      Growing of rice                                                    \n",
       "\n",
       "  section                section_description sic_version  \n",
       "0  A       Agriculture, Forestry and Fishing  SIC 2007    \n",
       "1  A       Agriculture, Forestry and Fishing  SIC 2007    "
      ]
     },
     "execution_count": 16,
     "metadata": {},
     "output_type": "execute_result"
    }
   ],
   "source": [
    "sics.head(2)"
   ]
  },
  {
   "cell_type": "code",
   "execution_count": 17,
   "metadata": {},
   "outputs": [
    {
     "name": "stdout",
     "output_type": "stream",
     "text": [
      "Sic dictionary length: 731\n"
     ]
    }
   ],
   "source": [
    "sic_dict = pd.Series(sics.section_description.values,index=sics.sic_code).to_dict()\n",
    "\n",
    "print(f'Sic dictionary length: {len(sic_dict)}')"
   ]
  },
  {
   "cell_type": "code",
   "execution_count": 18,
   "metadata": {},
   "outputs": [],
   "source": [
    "def find_sec(x):\n",
    "    sec_list = []\n",
    "    for i in x:\n",
    "        if int(i) in sic_dict.keys():\n",
    "            sec_list.append(sic_dict[int(i)])\n",
    "        else:\n",
    "            sec_list.append('NotFound')\n",
    "        \n",
    "    return sec_list"
   ]
  },
  {
   "cell_type": "code",
   "execution_count": 19,
   "metadata": {},
   "outputs": [
    {
     "data": {
      "text/html": [
       "<div>\n",
       "<style scoped>\n",
       "    .dataframe tbody tr th:only-of-type {\n",
       "        vertical-align: middle;\n",
       "    }\n",
       "\n",
       "    .dataframe tbody tr th {\n",
       "        vertical-align: top;\n",
       "    }\n",
       "\n",
       "    .dataframe thead th {\n",
       "        text-align: right;\n",
       "    }\n",
       "</style>\n",
       "<table border=\"1\" class=\"dataframe\">\n",
       "  <thead>\n",
       "    <tr style=\"text-align: right;\">\n",
       "      <th></th>\n",
       "      <th>EmployerName</th>\n",
       "      <th>Address</th>\n",
       "      <th>CompanyNumber</th>\n",
       "      <th>SicCodes</th>\n",
       "      <th>DiffMeanHourlyPercent</th>\n",
       "      <th>DiffMedianHourlyPercent</th>\n",
       "      <th>DiffMeanBonusPercent</th>\n",
       "      <th>DiffMedianBonusPercent</th>\n",
       "      <th>MaleBonusPercent</th>\n",
       "      <th>FemaleBonusPercent</th>\n",
       "      <th>...</th>\n",
       "      <th>SubmittedAfterTheDeadline</th>\n",
       "      <th>DueDate</th>\n",
       "      <th>DateSubmitted</th>\n",
       "      <th>Post</th>\n",
       "      <th>Val</th>\n",
       "      <th>CI</th>\n",
       "      <th>SCLen</th>\n",
       "      <th>Sic</th>\n",
       "      <th>SicLen</th>\n",
       "      <th>SecList</th>\n",
       "    </tr>\n",
       "  </thead>\n",
       "  <tbody>\n",
       "    <tr>\n",
       "      <th>0</th>\n",
       "      <td>BRYANSTON SCHOOL,INCORPORATED</td>\n",
       "      <td>Bryanston House,\\r\\r\\r\\nBlandford,\\r\\r\\r\\nDorset,\\r\\r\\r\\nUnited Kingdom,\\r\\r\\r\\nDT11 0PX</td>\n",
       "      <td>00226143</td>\n",
       "      <td>85310</td>\n",
       "      <td>18.0</td>\n",
       "      <td>28.2</td>\n",
       "      <td>0.0</td>\n",
       "      <td>0.0</td>\n",
       "      <td>0.0</td>\n",
       "      <td>0.0</td>\n",
       "      <td>...</td>\n",
       "      <td>False</td>\n",
       "      <td>05/04/2018 00:00:00</td>\n",
       "      <td>27/03/2018 11:42:49</td>\n",
       "      <td>DT11 0PX</td>\n",
       "      <td>True</td>\n",
       "      <td>00</td>\n",
       "      <td>5</td>\n",
       "      <td>[85310]</td>\n",
       "      <td>1</td>\n",
       "      <td>[Education]</td>\n",
       "    </tr>\n",
       "    <tr>\n",
       "      <th>1</th>\n",
       "      <td>RED BAND CHEMICAL COMPANY, LIMITED</td>\n",
       "      <td>19 Smith's Place,\\r\\r\\r\\nLeith Walk,\\r\\r\\r\\nEdinburgh,\\r\\r\\r\\nEH6 8NU</td>\n",
       "      <td>SC016876</td>\n",
       "      <td>47730</td>\n",
       "      <td>2.3</td>\n",
       "      <td>-2.7</td>\n",
       "      <td>15.0</td>\n",
       "      <td>37.5</td>\n",
       "      <td>15.6</td>\n",
       "      <td>66.7</td>\n",
       "      <td>...</td>\n",
       "      <td>False</td>\n",
       "      <td>05/04/2018 00:00:00</td>\n",
       "      <td>28/03/2018 16:44:25</td>\n",
       "      <td>EH6 8NU</td>\n",
       "      <td>True</td>\n",
       "      <td>SC</td>\n",
       "      <td>5</td>\n",
       "      <td>[47730]</td>\n",
       "      <td>1</td>\n",
       "      <td>[Wholesale and retail trade; repair of motor vehicles and]</td>\n",
       "    </tr>\n",
       "  </tbody>\n",
       "</table>\n",
       "<p>2 rows × 32 columns</p>\n",
       "</div>"
      ],
      "text/plain": [
       "                         EmployerName  \\\n",
       "0  BRYANSTON SCHOOL,INCORPORATED        \n",
       "1  RED BAND CHEMICAL COMPANY, LIMITED   \n",
       "\n",
       "                                                                                    Address  \\\n",
       "0  Bryanston House,\\r\\r\\r\\nBlandford,\\r\\r\\r\\nDorset,\\r\\r\\r\\nUnited Kingdom,\\r\\r\\r\\nDT11 0PX   \n",
       "1  19 Smith's Place,\\r\\r\\r\\nLeith Walk,\\r\\r\\r\\nEdinburgh,\\r\\r\\r\\nEH6 8NU                      \n",
       "\n",
       "  CompanyNumber SicCodes  DiffMeanHourlyPercent  DiffMedianHourlyPercent  \\\n",
       "0  00226143      85310    18.0                   28.2                      \n",
       "1  SC016876      47730    2.3                   -2.7                       \n",
       "\n",
       "   DiffMeanBonusPercent  DiffMedianBonusPercent  MaleBonusPercent  \\\n",
       "0  0.0                   0.0                     0.0                \n",
       "1  15.0                  37.5                    15.6               \n",
       "\n",
       "   FemaleBonusPercent  \\\n",
       "0  0.0                  \n",
       "1  66.7                 \n",
       "\n",
       "                              ...                              \\\n",
       "0                             ...                               \n",
       "1                             ...                               \n",
       "\n",
       "   SubmittedAfterTheDeadline              DueDate        DateSubmitted  \\\n",
       "0  False                      05/04/2018 00:00:00  27/03/2018 11:42:49   \n",
       "1  False                      05/04/2018 00:00:00  28/03/2018 16:44:25   \n",
       "\n",
       "       Post   Val  CI  SCLen      Sic SicLen  \\\n",
       "0  DT11 0PX  True  00  5      [85310]  1       \n",
       "1  EH6 8NU   True  SC  5      [47730]  1       \n",
       "\n",
       "                                                      SecList  \n",
       "0  [Education]                                                 \n",
       "1  [Wholesale and retail trade; repair of motor vehicles and]  \n",
       "\n",
       "[2 rows x 32 columns]"
      ]
     },
     "execution_count": 19,
     "metadata": {},
     "output_type": "execute_result"
    }
   ],
   "source": [
    "aorig['SecList'] = aorig['Sic'].apply(find_sec)\n",
    "borig['SecList'] = borig['Sic'].apply(find_sec)\n",
    "\n",
    "aorig.head(2)"
   ]
  },
  {
   "cell_type": "code",
   "execution_count": 20,
   "metadata": {},
   "outputs": [
    {
     "data": {
      "text/html": [
       "<div>\n",
       "<style scoped>\n",
       "    .dataframe tbody tr th:only-of-type {\n",
       "        vertical-align: middle;\n",
       "    }\n",
       "\n",
       "    .dataframe tbody tr th {\n",
       "        vertical-align: top;\n",
       "    }\n",
       "\n",
       "    .dataframe thead th {\n",
       "        text-align: right;\n",
       "    }\n",
       "</style>\n",
       "<table border=\"1\" class=\"dataframe\">\n",
       "  <thead>\n",
       "    <tr style=\"text-align: right;\">\n",
       "      <th></th>\n",
       "      <th>EmployerName</th>\n",
       "      <th>Address</th>\n",
       "      <th>CompanyNumber</th>\n",
       "      <th>SicCodes</th>\n",
       "      <th>DiffMeanHourlyPercent</th>\n",
       "      <th>DiffMedianHourlyPercent</th>\n",
       "      <th>DiffMeanBonusPercent</th>\n",
       "      <th>DiffMedianBonusPercent</th>\n",
       "      <th>MaleBonusPercent</th>\n",
       "      <th>FemaleBonusPercent</th>\n",
       "      <th>...</th>\n",
       "      <th>SubmittedAfterTheDeadline</th>\n",
       "      <th>DueDate</th>\n",
       "      <th>DateSubmitted</th>\n",
       "      <th>Post</th>\n",
       "      <th>Val</th>\n",
       "      <th>CI</th>\n",
       "      <th>SCLen</th>\n",
       "      <th>Sic</th>\n",
       "      <th>SicLen</th>\n",
       "      <th>SecList</th>\n",
       "    </tr>\n",
       "  </thead>\n",
       "  <tbody>\n",
       "  </tbody>\n",
       "</table>\n",
       "<p>0 rows × 32 columns</p>\n",
       "</div>"
      ],
      "text/plain": [
       "Empty DataFrame\n",
       "Columns: [EmployerName, Address, CompanyNumber, SicCodes, DiffMeanHourlyPercent, DiffMedianHourlyPercent, DiffMeanBonusPercent, DiffMedianBonusPercent, MaleBonusPercent, FemaleBonusPercent, MaleLowerQuartile, FemaleLowerQuartile, MaleLowerMiddleQuartile, FemaleLowerMiddleQuartile, MaleUpperMiddleQuartile, FemaleUpperMiddleQuartile, MaleTopQuartile, FemaleTopQuartile, CompanyLinkToGPGInfo, ResponsiblePerson, EmployerSize, CurrentName, SubmittedAfterTheDeadline, DueDate, DateSubmitted, Post, Val, CI, SCLen, Sic, SicLen, SecList]\n",
       "Index: []\n",
       "\n",
       "[0 rows x 32 columns]"
      ]
     },
     "execution_count": 20,
     "metadata": {},
     "output_type": "execute_result"
    }
   ],
   "source": [
    "# all sic codes have a associated section\n",
    "aorig[aorig['SecList'].apply(lambda x: 'NotFound' in x)]"
   ]
  },
  {
   "cell_type": "code",
   "execution_count": 21,
   "metadata": {},
   "outputs": [
    {
     "name": "stdout",
     "output_type": "stream",
     "text": [
      "# of 2017 rows missing section: 912\n",
      "# of 2018 rows missing section: 666\n"
     ]
    }
   ],
   "source": [
    "print(f\"# of 2017 rows missing section: {len(aorig[aorig['SecList'].str.len() == 0])}\")\n",
    "print(f\"# of 2018 rows missing section: {len(borig[borig['SecList'].str.len() == 0])}\")"
   ]
  },
  {
   "cell_type": "code",
   "execution_count": 22,
   "metadata": {},
   "outputs": [],
   "source": [
    "def ret_mode(x):\n",
    "    \n",
    "    if len(x) != 0:\n",
    "    \n",
    "        try:\n",
    "            return statistics.mode(x)\n",
    "\n",
    "        except statistics.StatisticsError:\n",
    "\n",
    "            return x[0]"
   ]
  },
  {
   "cell_type": "code",
   "execution_count": 23,
   "metadata": {},
   "outputs": [
    {
     "data": {
      "text/html": [
       "<div>\n",
       "<style scoped>\n",
       "    .dataframe tbody tr th:only-of-type {\n",
       "        vertical-align: middle;\n",
       "    }\n",
       "\n",
       "    .dataframe tbody tr th {\n",
       "        vertical-align: top;\n",
       "    }\n",
       "\n",
       "    .dataframe thead th {\n",
       "        text-align: right;\n",
       "    }\n",
       "</style>\n",
       "<table border=\"1\" class=\"dataframe\">\n",
       "  <thead>\n",
       "    <tr style=\"text-align: right;\">\n",
       "      <th></th>\n",
       "      <th>EmployerName</th>\n",
       "      <th>Address</th>\n",
       "      <th>CompanyNumber</th>\n",
       "      <th>SicCodes</th>\n",
       "      <th>DiffMeanHourlyPercent</th>\n",
       "      <th>DiffMedianHourlyPercent</th>\n",
       "      <th>DiffMeanBonusPercent</th>\n",
       "      <th>DiffMedianBonusPercent</th>\n",
       "      <th>MaleBonusPercent</th>\n",
       "      <th>FemaleBonusPercent</th>\n",
       "      <th>...</th>\n",
       "      <th>DateSubmitted</th>\n",
       "      <th>Post</th>\n",
       "      <th>Val</th>\n",
       "      <th>CI</th>\n",
       "      <th>SCLen</th>\n",
       "      <th>Sic</th>\n",
       "      <th>SicLen</th>\n",
       "      <th>SecList</th>\n",
       "      <th>MainSic</th>\n",
       "      <th>MainSection</th>\n",
       "    </tr>\n",
       "  </thead>\n",
       "  <tbody>\n",
       "    <tr>\n",
       "      <th>0</th>\n",
       "      <td>BRYANSTON SCHOOL,INCORPORATED</td>\n",
       "      <td>Bryanston House,\\r\\r\\r\\nBlandford,\\r\\r\\r\\nDorset,\\r\\r\\r\\nUnited Kingdom,\\r\\r\\r\\nDT11 0PX</td>\n",
       "      <td>00226143</td>\n",
       "      <td>85310</td>\n",
       "      <td>18.0</td>\n",
       "      <td>28.2</td>\n",
       "      <td>0.0</td>\n",
       "      <td>0.0</td>\n",
       "      <td>0.0</td>\n",
       "      <td>0.0</td>\n",
       "      <td>...</td>\n",
       "      <td>27/03/2018 11:42:49</td>\n",
       "      <td>DT11 0PX</td>\n",
       "      <td>True</td>\n",
       "      <td>00</td>\n",
       "      <td>5</td>\n",
       "      <td>[85310]</td>\n",
       "      <td>1</td>\n",
       "      <td>[Education]</td>\n",
       "      <td>85310</td>\n",
       "      <td>Education</td>\n",
       "    </tr>\n",
       "    <tr>\n",
       "      <th>1</th>\n",
       "      <td>RED BAND CHEMICAL COMPANY, LIMITED</td>\n",
       "      <td>19 Smith's Place,\\r\\r\\r\\nLeith Walk,\\r\\r\\r\\nEdinburgh,\\r\\r\\r\\nEH6 8NU</td>\n",
       "      <td>SC016876</td>\n",
       "      <td>47730</td>\n",
       "      <td>2.3</td>\n",
       "      <td>-2.7</td>\n",
       "      <td>15.0</td>\n",
       "      <td>37.5</td>\n",
       "      <td>15.6</td>\n",
       "      <td>66.7</td>\n",
       "      <td>...</td>\n",
       "      <td>28/03/2018 16:44:25</td>\n",
       "      <td>EH6 8NU</td>\n",
       "      <td>True</td>\n",
       "      <td>SC</td>\n",
       "      <td>5</td>\n",
       "      <td>[47730]</td>\n",
       "      <td>1</td>\n",
       "      <td>[Wholesale and retail trade; repair of motor vehicles and]</td>\n",
       "      <td>47730</td>\n",
       "      <td>Wholesale and retail trade; repair of motor vehicles and</td>\n",
       "    </tr>\n",
       "  </tbody>\n",
       "</table>\n",
       "<p>2 rows × 34 columns</p>\n",
       "</div>"
      ],
      "text/plain": [
       "                         EmployerName  \\\n",
       "0  BRYANSTON SCHOOL,INCORPORATED        \n",
       "1  RED BAND CHEMICAL COMPANY, LIMITED   \n",
       "\n",
       "                                                                                    Address  \\\n",
       "0  Bryanston House,\\r\\r\\r\\nBlandford,\\r\\r\\r\\nDorset,\\r\\r\\r\\nUnited Kingdom,\\r\\r\\r\\nDT11 0PX   \n",
       "1  19 Smith's Place,\\r\\r\\r\\nLeith Walk,\\r\\r\\r\\nEdinburgh,\\r\\r\\r\\nEH6 8NU                      \n",
       "\n",
       "  CompanyNumber SicCodes  DiffMeanHourlyPercent  DiffMedianHourlyPercent  \\\n",
       "0  00226143      85310    18.0                   28.2                      \n",
       "1  SC016876      47730    2.3                   -2.7                       \n",
       "\n",
       "   DiffMeanBonusPercent  DiffMedianBonusPercent  MaleBonusPercent  \\\n",
       "0  0.0                   0.0                     0.0                \n",
       "1  15.0                  37.5                    15.6               \n",
       "\n",
       "   FemaleBonusPercent  \\\n",
       "0  0.0                  \n",
       "1  66.7                 \n",
       "\n",
       "                             ...                             \\\n",
       "0                            ...                              \n",
       "1                            ...                              \n",
       "\n",
       "         DateSubmitted      Post   Val  CI  SCLen      Sic  SicLen  \\\n",
       "0  27/03/2018 11:42:49  DT11 0PX  True  00  5      [85310]  1        \n",
       "1  28/03/2018 16:44:25  EH6 8NU   True  SC  5      [47730]  1        \n",
       "\n",
       "                                                      SecList MainSic  \\\n",
       "0  [Education]                                                 85310    \n",
       "1  [Wholesale and retail trade; repair of motor vehicles and]  47730    \n",
       "\n",
       "                                                MainSection  \n",
       "0  Education                                                 \n",
       "1  Wholesale and retail trade; repair of motor vehicles and  \n",
       "\n",
       "[2 rows x 34 columns]"
      ]
     },
     "execution_count": 23,
     "metadata": {},
     "output_type": "execute_result"
    }
   ],
   "source": [
    "aorig['MainSic'] = aorig['Sic'].apply(ret_mode)\n",
    "borig['MainSic'] = borig['Sic'].apply(ret_mode)\n",
    "aorig['MainSection'] = aorig['SecList'].apply(ret_mode)\n",
    "borig['MainSection'] = borig['SecList'].apply(ret_mode)\n",
    "\n",
    "aorig.head(2)"
   ]
  },
  {
   "cell_type": "code",
   "execution_count": 24,
   "metadata": {},
   "outputs": [
    {
     "name": "stdout",
     "output_type": "stream",
     "text": [
      "# of 2017 companies missing section: 912\n",
      "# of 2018 companies missing section: 666\n"
     ]
    }
   ],
   "source": [
    "print(f\"# of 2017 companies missing section: {len(aorig[aorig['MainSection'].isnull()])}\")\n",
    "print(f\"# of 2018 companies missing section: {len(borig[borig['MainSection'].isnull()])}\")"
   ]
  },
  {
   "cell_type": "code",
   "execution_count": 25,
   "metadata": {},
   "outputs": [
    {
     "data": {
      "text/html": [
       "<div>\n",
       "<style scoped>\n",
       "    .dataframe tbody tr th:only-of-type {\n",
       "        vertical-align: middle;\n",
       "    }\n",
       "\n",
       "    .dataframe tbody tr th {\n",
       "        vertical-align: top;\n",
       "    }\n",
       "\n",
       "    .dataframe thead th {\n",
       "        text-align: right;\n",
       "    }\n",
       "</style>\n",
       "<table border=\"1\" class=\"dataframe\">\n",
       "  <thead>\n",
       "    <tr style=\"text-align: right;\">\n",
       "      <th></th>\n",
       "      <th>EmployerName</th>\n",
       "      <th>Address</th>\n",
       "      <th>CompanyNumber</th>\n",
       "      <th>SicCodes</th>\n",
       "      <th>DiffMeanHourlyPercent</th>\n",
       "      <th>DiffMedianHourlyPercent</th>\n",
       "      <th>DiffMeanBonusPercent</th>\n",
       "      <th>DiffMedianBonusPercent</th>\n",
       "      <th>MaleBonusPercent</th>\n",
       "      <th>FemaleBonusPercent</th>\n",
       "      <th>...</th>\n",
       "      <th>ResponsiblePerson</th>\n",
       "      <th>EmployerSize</th>\n",
       "      <th>CurrentName</th>\n",
       "      <th>SubmittedAfterTheDeadline</th>\n",
       "      <th>DueDate</th>\n",
       "      <th>DateSubmitted</th>\n",
       "      <th>Post</th>\n",
       "      <th>Val</th>\n",
       "      <th>MainSic</th>\n",
       "      <th>MainSection</th>\n",
       "    </tr>\n",
       "  </thead>\n",
       "  <tbody>\n",
       "    <tr>\n",
       "      <th>0</th>\n",
       "      <td>BRYANSTON SCHOOL,INCORPORATED</td>\n",
       "      <td>Bryanston House,\\r\\r\\r\\nBlandford,\\r\\r\\r\\nDorset,\\r\\r\\r\\nUnited Kingdom,\\r\\r\\r\\nDT11 0PX</td>\n",
       "      <td>00226143</td>\n",
       "      <td>85310</td>\n",
       "      <td>18.0</td>\n",
       "      <td>28.2</td>\n",
       "      <td>0.0</td>\n",
       "      <td>0.0</td>\n",
       "      <td>0.0</td>\n",
       "      <td>0.0</td>\n",
       "      <td>...</td>\n",
       "      <td>Nick McRobb (Bursar and Clerk to the Governors)</td>\n",
       "      <td>500 to 999</td>\n",
       "      <td>\"Bryanston School\",Incorporated</td>\n",
       "      <td>False</td>\n",
       "      <td>05/04/2018 00:00:00</td>\n",
       "      <td>27/03/2018 11:42:49</td>\n",
       "      <td>DT11 0PX</td>\n",
       "      <td>True</td>\n",
       "      <td>85310</td>\n",
       "      <td>Education</td>\n",
       "    </tr>\n",
       "    <tr>\n",
       "      <th>1</th>\n",
       "      <td>RED BAND CHEMICAL COMPANY, LIMITED</td>\n",
       "      <td>19 Smith's Place,\\r\\r\\r\\nLeith Walk,\\r\\r\\r\\nEdinburgh,\\r\\r\\r\\nEH6 8NU</td>\n",
       "      <td>SC016876</td>\n",
       "      <td>47730</td>\n",
       "      <td>2.3</td>\n",
       "      <td>-2.7</td>\n",
       "      <td>15.0</td>\n",
       "      <td>37.5</td>\n",
       "      <td>15.6</td>\n",
       "      <td>66.7</td>\n",
       "      <td>...</td>\n",
       "      <td>Philip Galt (Managing Director)</td>\n",
       "      <td>250 to 499</td>\n",
       "      <td>\"RED BAND\" CHEMICAL COMPANY, LIMITED</td>\n",
       "      <td>False</td>\n",
       "      <td>05/04/2018 00:00:00</td>\n",
       "      <td>28/03/2018 16:44:25</td>\n",
       "      <td>EH6 8NU</td>\n",
       "      <td>True</td>\n",
       "      <td>47730</td>\n",
       "      <td>Wholesale and retail trade; repair of motor vehicles and</td>\n",
       "    </tr>\n",
       "  </tbody>\n",
       "</table>\n",
       "<p>2 rows × 29 columns</p>\n",
       "</div>"
      ],
      "text/plain": [
       "                         EmployerName  \\\n",
       "0  BRYANSTON SCHOOL,INCORPORATED        \n",
       "1  RED BAND CHEMICAL COMPANY, LIMITED   \n",
       "\n",
       "                                                                                    Address  \\\n",
       "0  Bryanston House,\\r\\r\\r\\nBlandford,\\r\\r\\r\\nDorset,\\r\\r\\r\\nUnited Kingdom,\\r\\r\\r\\nDT11 0PX   \n",
       "1  19 Smith's Place,\\r\\r\\r\\nLeith Walk,\\r\\r\\r\\nEdinburgh,\\r\\r\\r\\nEH6 8NU                      \n",
       "\n",
       "  CompanyNumber SicCodes  DiffMeanHourlyPercent  DiffMedianHourlyPercent  \\\n",
       "0  00226143      85310    18.0                   28.2                      \n",
       "1  SC016876      47730    2.3                   -2.7                       \n",
       "\n",
       "   DiffMeanBonusPercent  DiffMedianBonusPercent  MaleBonusPercent  \\\n",
       "0  0.0                   0.0                     0.0                \n",
       "1  15.0                  37.5                    15.6               \n",
       "\n",
       "   FemaleBonusPercent  \\\n",
       "0  0.0                  \n",
       "1  66.7                 \n",
       "\n",
       "                             ...                             \\\n",
       "0                            ...                              \n",
       "1                            ...                              \n",
       "\n",
       "                                 ResponsiblePerson  EmployerSize  \\\n",
       "0  Nick McRobb (Bursar and Clerk to the Governors)  500 to 999     \n",
       "1  Philip Galt (Managing Director)                  250 to 499     \n",
       "\n",
       "                            CurrentName  SubmittedAfterTheDeadline  \\\n",
       "0  \"Bryanston School\",Incorporated       False                       \n",
       "1  \"RED BAND\" CHEMICAL COMPANY, LIMITED  False                       \n",
       "\n",
       "               DueDate        DateSubmitted      Post   Val MainSic  \\\n",
       "0  05/04/2018 00:00:00  27/03/2018 11:42:49  DT11 0PX  True  85310    \n",
       "1  05/04/2018 00:00:00  28/03/2018 16:44:25  EH6 8NU   True  47730    \n",
       "\n",
       "                                                MainSection  \n",
       "0  Education                                                 \n",
       "1  Wholesale and retail trade; repair of motor vehicles and  \n",
       "\n",
       "[2 rows x 29 columns]"
      ]
     },
     "execution_count": 25,
     "metadata": {},
     "output_type": "execute_result"
    }
   ],
   "source": [
    "aorig.drop(['CI', 'SCLen', 'Sic', 'SicLen', 'SecList'], axis=1, inplace=True)\n",
    "borig.drop(['CI', 'SCLen', 'Sic', 'SicLen', 'SecList'], axis=1, inplace=True)\n",
    "\n",
    "aorig.head(2)"
   ]
  },
  {
   "cell_type": "markdown",
   "metadata": {},
   "source": [
    "## Clean Bonus Outliers"
   ]
  },
  {
   "cell_type": "code",
   "execution_count": 26,
   "metadata": {},
   "outputs": [],
   "source": [
    "# UK Guidelines:\n",
    "\n",
    "# mean gender pay gap in hourly pay\n",
    "# median gender pay gap in hourly pay\n",
    "# mean bonus gender pay gap\n",
    "# median bonus gender pay gap\n",
    "# proportion of males and females receiving a bonus payment\n",
    "# proportion of males and females in each pay quartile"
   ]
  },
  {
   "cell_type": "code",
   "execution_count": 27,
   "metadata": {},
   "outputs": [],
   "source": [
    "# NOTE:\n",
    "\n",
    "# There is a lot of bad data for bonuses as +/- 100% is max but many companies exceed this"
   ]
  },
  {
   "cell_type": "code",
   "execution_count": 28,
   "metadata": {},
   "outputs": [
    {
     "data": {
      "text/html": [
       "<div>\n",
       "<style scoped>\n",
       "    .dataframe tbody tr th:only-of-type {\n",
       "        vertical-align: middle;\n",
       "    }\n",
       "\n",
       "    .dataframe tbody tr th {\n",
       "        vertical-align: top;\n",
       "    }\n",
       "\n",
       "    .dataframe thead th {\n",
       "        text-align: right;\n",
       "    }\n",
       "</style>\n",
       "<table border=\"1\" class=\"dataframe\">\n",
       "  <thead>\n",
       "    <tr style=\"text-align: right;\">\n",
       "      <th></th>\n",
       "      <th>DiffMeanBonusPercent</th>\n",
       "      <th>DiffMedianBonusPercent</th>\n",
       "      <th>MaleBonusPercent</th>\n",
       "      <th>FemaleBonusPercent</th>\n",
       "    </tr>\n",
       "  </thead>\n",
       "  <tbody>\n",
       "    <tr>\n",
       "      <th>count</th>\n",
       "      <td>9044.000000</td>\n",
       "      <td>9044.000000</td>\n",
       "      <td>10772.000000</td>\n",
       "      <td>10772.000000</td>\n",
       "    </tr>\n",
       "    <tr>\n",
       "      <th>mean</th>\n",
       "      <td>18.440038</td>\n",
       "      <td>-0.985781</td>\n",
       "      <td>35.774573</td>\n",
       "      <td>34.440596</td>\n",
       "    </tr>\n",
       "    <tr>\n",
       "      <th>std</th>\n",
       "      <td>219.276775</td>\n",
       "      <td>295.693848</td>\n",
       "      <td>36.676898</td>\n",
       "      <td>36.377350</td>\n",
       "    </tr>\n",
       "    <tr>\n",
       "      <th>min</th>\n",
       "      <td>-13934.000000</td>\n",
       "      <td>-14490.800000</td>\n",
       "      <td>0.000000</td>\n",
       "      <td>0.000000</td>\n",
       "    </tr>\n",
       "    <tr>\n",
       "      <th>25%</th>\n",
       "      <td>0.000000</td>\n",
       "      <td>0.000000</td>\n",
       "      <td>0.775000</td>\n",
       "      <td>0.300000</td>\n",
       "    </tr>\n",
       "    <tr>\n",
       "      <th>50%</th>\n",
       "      <td>32.100000</td>\n",
       "      <td>15.500000</td>\n",
       "      <td>19.300000</td>\n",
       "      <td>17.350000</td>\n",
       "    </tr>\n",
       "    <tr>\n",
       "      <th>75%</th>\n",
       "      <td>56.625000</td>\n",
       "      <td>43.000000</td>\n",
       "      <td>75.200000</td>\n",
       "      <td>72.000000</td>\n",
       "    </tr>\n",
       "    <tr>\n",
       "      <th>max</th>\n",
       "      <td>134.200000</td>\n",
       "      <td>4000.000000</td>\n",
       "      <td>100.000000</td>\n",
       "      <td>100.000000</td>\n",
       "    </tr>\n",
       "  </tbody>\n",
       "</table>\n",
       "</div>"
      ],
      "text/plain": [
       "       DiffMeanBonusPercent  DiffMedianBonusPercent  MaleBonusPercent  \\\n",
       "count  9044.000000           9044.000000             10772.000000       \n",
       "mean   18.440038            -0.985781                35.774573          \n",
       "std    219.276775            295.693848              36.676898          \n",
       "min   -13934.000000         -14490.800000            0.000000           \n",
       "25%    0.000000              0.000000                0.775000           \n",
       "50%    32.100000             15.500000               19.300000          \n",
       "75%    56.625000             43.000000               75.200000          \n",
       "max    134.200000            4000.000000             100.000000         \n",
       "\n",
       "       FemaleBonusPercent  \n",
       "count  10772.000000        \n",
       "mean   34.440596           \n",
       "std    36.377350           \n",
       "min    0.000000            \n",
       "25%    0.300000            \n",
       "50%    17.350000           \n",
       "75%    72.000000           \n",
       "max    100.000000          "
      ]
     },
     "execution_count": 28,
     "metadata": {},
     "output_type": "execute_result"
    }
   ],
   "source": [
    "borig.describe().iloc[:,2:6]"
   ]
  },
  {
   "cell_type": "code",
   "execution_count": 29,
   "metadata": {},
   "outputs": [
    {
     "data": {
      "text/plain": [
       "[<matplotlib.lines.Line2D at 0x1d8f0799f28>]"
      ]
     },
     "execution_count": 29,
     "metadata": {},
     "output_type": "execute_result"
    },
    {
     "data": {
      "image/png": "[encoded data removed]",
      "text/plain": [
       "<Figure size 432x288 with 1 Axes>"
      ]
     },
     "metadata": {},
     "output_type": "display_data"
    }
   ],
   "source": [
    "plt.plot(borig['DiffMeanBonusPercent'])"
   ]
  },
  {
   "cell_type": "code",
   "execution_count": 30,
   "metadata": {},
   "outputs": [
    {
     "data": {
      "text/plain": [
       "[<matplotlib.lines.Line2D at 0x1d8f07ebef0>]"
      ]
     },
     "execution_count": 30,
     "metadata": {},
     "output_type": "execute_result"
    },
    {
     "data": {
      "image/png": "[encoded data removed]",
      "text/plain": [
       "<Figure size 432x288 with 1 Axes>"
      ]
     },
     "metadata": {},
     "output_type": "display_data"
    }
   ],
   "source": [
    "plt.plot(borig['DiffMedianBonusPercent'])"
   ]
  },
  {
   "cell_type": "code",
   "execution_count": 31,
   "metadata": {},
   "outputs": [
    {
     "name": "stdout",
     "output_type": "stream",
     "text": [
      "2018 Mean Bonus highend: 183\n",
      "2018 Mean Bonus lowend: 13\n",
      "2017 Mean Bonus highend: 198\n",
      "2017 Mean Bonus lowend: 45\n",
      "\n",
      "\n",
      "2018 Median Bonus highend: 186\n",
      "2018 Median Bonus lowend: 49\n",
      "2017 Median Bonus highend: 213\n",
      "2017 Median Bonus lowend: 73\n"
     ]
    }
   ],
   "source": [
    "print(f\"2018 Mean Bonus highend: {len(borig[borig['DiffMeanBonusPercent'] == 100])}\")\n",
    "print(f\"2018 Mean Bonus lowend: {len(borig[borig['DiffMeanBonusPercent'] == -100])}\")\n",
    "print(f\"2017 Mean Bonus highend: {len(aorig[aorig['DiffMeanBonusPercent'] == 100])}\")\n",
    "print(f\"2017 Mean Bonus lowend: {len(aorig[aorig['DiffMeanBonusPercent'] == -100])}\")\n",
    "print('\\n')\n",
    "print(f\"2018 Median Bonus highend: {len(borig[borig['DiffMedianBonusPercent'] == 100])}\")\n",
    "print(f\"2018 Median Bonus lowend: {len(borig[borig['DiffMedianBonusPercent'] == -100])}\")\n",
    "print(f\"2017 Median Bonus highend: {len(aorig[aorig['DiffMedianBonusPercent'] == 100])}\")\n",
    "print(f\"2017 Median Bonus lowend: {len(aorig[aorig['DiffMedianBonusPercent'] == -100])}\")"
   ]
  },
  {
   "cell_type": "code",
   "execution_count": 32,
   "metadata": {},
   "outputs": [
    {
     "name": "stdout",
     "output_type": "stream",
     "text": [
      "2018 Mean Bonus outliers: 233\n",
      "2017 Mean Bonus outliers: 291\n",
      "\n",
      "\n",
      "2018 Median Bonus outliers: 383\n",
      "2017 Median Bonus outliers: 356\n"
     ]
    }
   ],
   "source": [
    "print(f\"2018 Mean Bonus outliers: {len(borig[abs(borig['DiffMeanBonusPercent']) > 100])}\")\n",
    "print(f\"2017 Mean Bonus outliers: {len(aorig[abs(aorig['DiffMeanBonusPercent']) > 100])}\")\n",
    "print('\\n')\n",
    "print(f\"2018 Median Bonus outliers: {len(borig[abs(borig['DiffMedianBonusPercent']) > 100])}\")\n",
    "print(f\"2017 Median Bonus outliers: {len(aorig[abs(aorig['DiffMedianBonusPercent']) > 100])}\")"
   ]
  },
  {
   "cell_type": "code",
   "execution_count": 33,
   "metadata": {
    "scrolled": true
   },
   "outputs": [
    {
     "name": "stdout",
     "output_type": "stream",
     "text": [
      "2018 Mean Bonus NaN: 1728\n",
      "2017 Mean Bonus NaN: 15\n",
      "\n",
      "\n",
      "2018 Median Bonus NaN: 1728\n",
      "2017 Median Bonus NaN: 15\n"
     ]
    }
   ],
   "source": [
    "print(f\"2018 Mean Bonus NaN: {len(borig[borig['DiffMeanBonusPercent'].isnull()])}\")\n",
    "print(f\"2017 Mean Bonus NaN: {len(aorig[aorig['DiffMeanBonusPercent'].isnull()])}\")\n",
    "print('\\n')\n",
    "print(f\"2018 Median Bonus NaN: {len(borig[borig['DiffMedianBonusPercent'].isnull()])}\")\n",
    "print(f\"2017 Median Bonus NaN: {len(aorig[aorig['DiffMedianBonusPercent'].isnull()])}\")"
   ]
  },
  {
   "cell_type": "code",
   "execution_count": 34,
   "metadata": {},
   "outputs": [],
   "source": [
    "borig.loc[abs(borig.DiffMeanBonusPercent) > 100, 'DiffMeanBonusPercent'] = np.nan\n",
    "aorig.loc[abs(aorig.DiffMeanBonusPercent) > 100, 'DiffMeanBonusPercent'] = np.nan\n",
    "\n",
    "borig.loc[abs(borig.DiffMedianBonusPercent) > 100, 'DiffMedianBonusPercent'] = np.nan\n",
    "aorig.loc[abs(aorig.DiffMedianBonusPercent) > 100, 'DiffMedianBonusPercent'] = np.nan"
   ]
  },
  {
   "cell_type": "code",
   "execution_count": 35,
   "metadata": {},
   "outputs": [
    {
     "name": "stdout",
     "output_type": "stream",
     "text": [
      "2018 Mean new NaN: 1961\n",
      "2017 Mean new NaN: 306\n",
      "\n",
      "\n",
      "2018 Median new NaN: 2111\n",
      "2017 Median new NaN: 371\n"
     ]
    }
   ],
   "source": [
    "print(f\"2018 Mean new NaN: {len(borig[borig['DiffMeanBonusPercent'].isnull()])}\")\n",
    "print(f\"2017 Mean new NaN: {len(aorig[aorig['DiffMeanBonusPercent'].isnull()])}\")\n",
    "print('\\n')\n",
    "print(f\"2018 Median new NaN: {len(borig[borig['DiffMedianBonusPercent'].isnull()])}\")\n",
    "print(f\"2017 Median new NaN: {len(aorig[aorig['DiffMedianBonusPercent'].isnull()])}\")"
   ]
  },
  {
   "cell_type": "code",
   "execution_count": 36,
   "metadata": {},
   "outputs": [
    {
     "data": {
      "image/png": "[encoded data removed]",
      "text/plain": [
       "<Figure size 432x288 with 1 Axes>"
      ]
     },
     "metadata": {},
     "output_type": "display_data"
    }
   ],
   "source": [
    "plt.hist(borig[borig['DiffMeanBonusPercent'].isnull() == False]['DiffMeanBonusPercent'], bins=100)\n",
    "\n",
    "plt.show()"
   ]
  },
  {
   "cell_type": "code",
   "execution_count": 37,
   "metadata": {},
   "outputs": [
    {
     "data": {
      "image/png": "[encoded data removed]",
      "text/plain": [
       "<Figure size 432x288 with 1 Axes>"
      ]
     },
     "metadata": {},
     "output_type": "display_data"
    }
   ],
   "source": [
    "plt.hist(borig[borig['DiffMedianBonusPercent'].isnull() == False]['DiffMedianBonusPercent'], bins=100)\n",
    "\n",
    "plt.show()"
   ]
  },
  {
   "cell_type": "code",
   "execution_count": 38,
   "metadata": {},
   "outputs": [
    {
     "data": {
      "image/png": "[encoded data removed]",
      "text/plain": [
       "<Figure size 432x288 with 1 Axes>"
      ]
     },
     "metadata": {},
     "output_type": "display_data"
    }
   ],
   "source": [
    "plt.hist(aorig[aorig['DiffMeanBonusPercent'].isnull() == False]['DiffMeanBonusPercent'], bins=100)\n",
    "\n",
    "plt.show()"
   ]
  },
  {
   "cell_type": "code",
   "execution_count": 39,
   "metadata": {},
   "outputs": [
    {
     "data": {
      "image/png": "[encoded data removed]",
      "text/plain": [
       "<Figure size 432x288 with 1 Axes>"
      ]
     },
     "metadata": {},
     "output_type": "display_data"
    }
   ],
   "source": [
    "plt.hist(aorig[aorig['DiffMedianBonusPercent'].isnull() == False]['DiffMedianBonusPercent'], bins=100)\n",
    "\n",
    "plt.show()"
   ]
  },
  {
   "cell_type": "code",
   "execution_count": 40,
   "metadata": {},
   "outputs": [
    {
     "data": {
      "text/html": [
       "<div>\n",
       "<style scoped>\n",
       "    .dataframe tbody tr th:only-of-type {\n",
       "        vertical-align: middle;\n",
       "    }\n",
       "\n",
       "    .dataframe tbody tr th {\n",
       "        vertical-align: top;\n",
       "    }\n",
       "\n",
       "    .dataframe thead th {\n",
       "        text-align: right;\n",
       "    }\n",
       "</style>\n",
       "<table border=\"1\" class=\"dataframe\">\n",
       "  <thead>\n",
       "    <tr style=\"text-align: right;\">\n",
       "      <th></th>\n",
       "      <th>DiffMeanBonusPercent</th>\n",
       "      <th>DiffMedianBonusPercent</th>\n",
       "      <th>MaleBonusPercent</th>\n",
       "      <th>FemaleBonusPercent</th>\n",
       "    </tr>\n",
       "  </thead>\n",
       "  <tbody>\n",
       "    <tr>\n",
       "      <th>count</th>\n",
       "      <td>8811.000000</td>\n",
       "      <td>8661.000000</td>\n",
       "      <td>10772.000000</td>\n",
       "      <td>10772.000000</td>\n",
       "    </tr>\n",
       "    <tr>\n",
       "      <th>mean</th>\n",
       "      <td>30.788004</td>\n",
       "      <td>21.482600</td>\n",
       "      <td>35.774573</td>\n",
       "      <td>34.440596</td>\n",
       "    </tr>\n",
       "    <tr>\n",
       "      <th>std</th>\n",
       "      <td>36.460871</td>\n",
       "      <td>35.403231</td>\n",
       "      <td>36.676898</td>\n",
       "      <td>36.377350</td>\n",
       "    </tr>\n",
       "    <tr>\n",
       "      <th>min</th>\n",
       "      <td>-100.000000</td>\n",
       "      <td>-100.000000</td>\n",
       "      <td>0.000000</td>\n",
       "      <td>0.000000</td>\n",
       "    </tr>\n",
       "    <tr>\n",
       "      <th>25%</th>\n",
       "      <td>2.500000</td>\n",
       "      <td>0.000000</td>\n",
       "      <td>0.775000</td>\n",
       "      <td>0.300000</td>\n",
       "    </tr>\n",
       "    <tr>\n",
       "      <th>50%</th>\n",
       "      <td>33.400000</td>\n",
       "      <td>17.700000</td>\n",
       "      <td>19.300000</td>\n",
       "      <td>17.350000</td>\n",
       "    </tr>\n",
       "    <tr>\n",
       "      <th>75%</th>\n",
       "      <td>57.150000</td>\n",
       "      <td>44.500000</td>\n",
       "      <td>75.200000</td>\n",
       "      <td>72.000000</td>\n",
       "    </tr>\n",
       "    <tr>\n",
       "      <th>max</th>\n",
       "      <td>100.000000</td>\n",
       "      <td>100.000000</td>\n",
       "      <td>100.000000</td>\n",
       "      <td>100.000000</td>\n",
       "    </tr>\n",
       "  </tbody>\n",
       "</table>\n",
       "</div>"
      ],
      "text/plain": [
       "       DiffMeanBonusPercent  DiffMedianBonusPercent  MaleBonusPercent  \\\n",
       "count  8811.000000           8661.000000             10772.000000       \n",
       "mean   30.788004             21.482600               35.774573          \n",
       "std    36.460871             35.403231               36.676898          \n",
       "min   -100.000000           -100.000000              0.000000           \n",
       "25%    2.500000              0.000000                0.775000           \n",
       "50%    33.400000             17.700000               19.300000          \n",
       "75%    57.150000             44.500000               75.200000          \n",
       "max    100.000000            100.000000              100.000000         \n",
       "\n",
       "       FemaleBonusPercent  \n",
       "count  10772.000000        \n",
       "mean   34.440596           \n",
       "std    36.377350           \n",
       "min    0.000000            \n",
       "25%    0.300000            \n",
       "50%    17.350000           \n",
       "75%    72.000000           \n",
       "max    100.000000          "
      ]
     },
     "execution_count": 40,
     "metadata": {},
     "output_type": "execute_result"
    }
   ],
   "source": [
    "borig.describe().iloc[:,2:6]"
   ]
  },
  {
   "cell_type": "code",
   "execution_count": 41,
   "metadata": {},
   "outputs": [
    {
     "data": {
      "text/html": [
       "<div>\n",
       "<style scoped>\n",
       "    .dataframe tbody tr th:only-of-type {\n",
       "        vertical-align: middle;\n",
       "    }\n",
       "\n",
       "    .dataframe tbody tr th {\n",
       "        vertical-align: top;\n",
       "    }\n",
       "\n",
       "    .dataframe thead th {\n",
       "        text-align: right;\n",
       "    }\n",
       "</style>\n",
       "<table border=\"1\" class=\"dataframe\">\n",
       "  <thead>\n",
       "    <tr style=\"text-align: right;\">\n",
       "      <th></th>\n",
       "      <th>DiffMeanBonusPercent</th>\n",
       "      <th>DiffMedianBonusPercent</th>\n",
       "      <th>MaleBonusPercent</th>\n",
       "      <th>FemaleBonusPercent</th>\n",
       "    </tr>\n",
       "  </thead>\n",
       "  <tbody>\n",
       "    <tr>\n",
       "      <th>count</th>\n",
       "      <td>10249.000000</td>\n",
       "      <td>10184.000000</td>\n",
       "      <td>10555.000000</td>\n",
       "      <td>10555.000000</td>\n",
       "    </tr>\n",
       "    <tr>\n",
       "      <th>mean</th>\n",
       "      <td>26.048824</td>\n",
       "      <td>17.822329</td>\n",
       "      <td>35.400957</td>\n",
       "      <td>33.939223</td>\n",
       "    </tr>\n",
       "    <tr>\n",
       "      <th>std</th>\n",
       "      <td>35.911920</td>\n",
       "      <td>34.487078</td>\n",
       "      <td>36.326217</td>\n",
       "      <td>36.015667</td>\n",
       "    </tr>\n",
       "    <tr>\n",
       "      <th>min</th>\n",
       "      <td>-100.000000</td>\n",
       "      <td>-100.000000</td>\n",
       "      <td>0.000000</td>\n",
       "      <td>0.000000</td>\n",
       "    </tr>\n",
       "    <tr>\n",
       "      <th>25%</th>\n",
       "      <td>0.000000</td>\n",
       "      <td>0.000000</td>\n",
       "      <td>0.800000</td>\n",
       "      <td>0.300000</td>\n",
       "    </tr>\n",
       "    <tr>\n",
       "      <th>50%</th>\n",
       "      <td>23.300000</td>\n",
       "      <td>7.400000</td>\n",
       "      <td>19.400000</td>\n",
       "      <td>17.200000</td>\n",
       "    </tr>\n",
       "    <tr>\n",
       "      <th>75%</th>\n",
       "      <td>53.300000</td>\n",
       "      <td>38.900000</td>\n",
       "      <td>73.200000</td>\n",
       "      <td>70.050000</td>\n",
       "    </tr>\n",
       "    <tr>\n",
       "      <th>max</th>\n",
       "      <td>100.000000</td>\n",
       "      <td>100.000000</td>\n",
       "      <td>100.000000</td>\n",
       "      <td>100.000000</td>\n",
       "    </tr>\n",
       "  </tbody>\n",
       "</table>\n",
       "</div>"
      ],
      "text/plain": [
       "       DiffMeanBonusPercent  DiffMedianBonusPercent  MaleBonusPercent  \\\n",
       "count  10249.000000          10184.000000            10555.000000       \n",
       "mean   26.048824             17.822329               35.400957          \n",
       "std    35.911920             34.487078               36.326217          \n",
       "min   -100.000000           -100.000000              0.000000           \n",
       "25%    0.000000              0.000000                0.800000           \n",
       "50%    23.300000             7.400000                19.400000          \n",
       "75%    53.300000             38.900000               73.200000          \n",
       "max    100.000000            100.000000              100.000000         \n",
       "\n",
       "       FemaleBonusPercent  \n",
       "count  10555.000000        \n",
       "mean   33.939223           \n",
       "std    36.015667           \n",
       "min    0.000000            \n",
       "25%    0.300000            \n",
       "50%    17.200000           \n",
       "75%    70.050000           \n",
       "max    100.000000          "
      ]
     },
     "execution_count": 41,
     "metadata": {},
     "output_type": "execute_result"
    }
   ],
   "source": [
    "aorig.describe().iloc[:,2:6]"
   ]
  },
  {
   "cell_type": "code",
   "execution_count": 42,
   "metadata": {},
   "outputs": [],
   "source": [
    "# aorig.to_csv('2017clean3.csv')\n",
    "# borig.to_csv('2018clean3.csv')"
   ]
  },
  {
   "cell_type": "code",
   "execution_count": 43,
   "metadata": {},
   "outputs": [],
   "source": [
    "# this concludes pt 03.4"
   ]
  },
  {
   "cell_type": "code",
   "execution_count": null,
   "metadata": {},
   "outputs": [],
   "source": []
  }
 ],
 "metadata": {
  "kernelspec": {
   "display_name": "Python 3",
   "language": "python",
   "name": "python3"
  },
  "language_info": {
   "codemirror_mode": {
    "name": "ipython",
    "version": 3
   },
   "file_extension": ".py",
   "mimetype": "text/x-python",
   "name": "python",
   "nbconvert_exporter": "python",
   "pygments_lexer": "ipython3",
   "version": "3.6.4"
  }
 },
 "nbformat": 4,
 "nbformat_minor": 2
}
