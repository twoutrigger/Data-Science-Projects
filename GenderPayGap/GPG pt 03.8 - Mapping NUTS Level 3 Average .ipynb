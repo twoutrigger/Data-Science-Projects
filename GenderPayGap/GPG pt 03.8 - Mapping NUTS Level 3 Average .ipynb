{
 "cells": [
  {
   "cell_type": "code",
   "execution_count": 1,
   "metadata": {},
   "outputs": [],
   "source": [
    "import numpy as np\n",
    "import pandas as pd\n",
    "from pandas import pivot_table\n",
    "import matplotlib.pyplot as plt\n",
    "import seaborn as sns\n",
    "import json\n",
    "from colour import Color"
   ]
  },
  {
   "cell_type": "code",
   "execution_count": 2,
   "metadata": {},
   "outputs": [
    {
     "name": "stdout",
     "output_type": "stream",
     "text": [
      "(10772, 29)\n"
     ]
    },
    {
     "data": {
      "text/html": [
       "<div>\n",
       "<style scoped>\n",
       "    .dataframe tbody tr th:only-of-type {\n",
       "        vertical-align: middle;\n",
       "    }\n",
       "\n",
       "    .dataframe tbody tr th {\n",
       "        vertical-align: top;\n",
       "    }\n",
       "\n",
       "    .dataframe thead th {\n",
       "        text-align: right;\n",
       "    }\n",
       "</style>\n",
       "<table border=\"1\" class=\"dataframe\">\n",
       "  <thead>\n",
       "    <tr style=\"text-align: right;\">\n",
       "      <th></th>\n",
       "      <th>EmployerName</th>\n",
       "      <th>Address</th>\n",
       "      <th>CompanyNumber</th>\n",
       "      <th>SicCodes</th>\n",
       "      <th>DiffMeanHourlyPercent</th>\n",
       "      <th>DiffMedianHourlyPercent</th>\n",
       "      <th>DiffMeanBonusPercent</th>\n",
       "      <th>DiffMedianBonusPercent</th>\n",
       "      <th>MaleBonusPercent</th>\n",
       "      <th>FemaleBonusPercent</th>\n",
       "      <th>...</th>\n",
       "      <th>ResponsiblePerson</th>\n",
       "      <th>EmployerSize</th>\n",
       "      <th>CurrentName</th>\n",
       "      <th>SubmittedAfterTheDeadline</th>\n",
       "      <th>DueDate</th>\n",
       "      <th>DateSubmitted</th>\n",
       "      <th>Post</th>\n",
       "      <th>Val</th>\n",
       "      <th>MainSic</th>\n",
       "      <th>MainSection</th>\n",
       "    </tr>\n",
       "  </thead>\n",
       "  <tbody>\n",
       "    <tr>\n",
       "      <th>0</th>\n",
       "      <td>BRYANSTON SCHOOL,INCORPORATED</td>\n",
       "      <td>Bryanston House,\\r\\r\\r\\r\\nBlandford,\\r\\r\\r\\r\\n...</td>\n",
       "      <td>00226143</td>\n",
       "      <td>85310</td>\n",
       "      <td>19.6</td>\n",
       "      <td>32.5</td>\n",
       "      <td>NaN</td>\n",
       "      <td>NaN</td>\n",
       "      <td>0.0</td>\n",
       "      <td>0.0</td>\n",
       "      <td>...</td>\n",
       "      <td>Michael McGovern (Chief Operating Officer)</td>\n",
       "      <td>500 to 999</td>\n",
       "      <td>\"Bryanston School\",Incorporated</td>\n",
       "      <td>False</td>\n",
       "      <td>05/04/2019 00:00:00</td>\n",
       "      <td>03/04/2019 13:43:34</td>\n",
       "      <td>DT11 0PX</td>\n",
       "      <td>True</td>\n",
       "      <td>85310</td>\n",
       "      <td>Education</td>\n",
       "    </tr>\n",
       "    <tr>\n",
       "      <th>1</th>\n",
       "      <td>RED BAND CHEMICAL COMPANY, LIMITED</td>\n",
       "      <td>19 Smith's Place,\\r\\r\\r\\r\\nLeith Walk,\\r\\r\\r\\r...</td>\n",
       "      <td>SC016876</td>\n",
       "      <td>47730</td>\n",
       "      <td>7.7</td>\n",
       "      <td>-4.2</td>\n",
       "      <td>23.7</td>\n",
       "      <td>-75.2</td>\n",
       "      <td>22.2</td>\n",
       "      <td>82.0</td>\n",
       "      <td>...</td>\n",
       "      <td>Philip Galt (Managing Director)</td>\n",
       "      <td>250 to 499</td>\n",
       "      <td>\"RED BAND\" CHEMICAL COMPANY, LIMITED</td>\n",
       "      <td>False</td>\n",
       "      <td>05/04/2019 00:00:00</td>\n",
       "      <td>01/04/2019 12:37:21</td>\n",
       "      <td>EH6 8NU</td>\n",
       "      <td>True</td>\n",
       "      <td>47730</td>\n",
       "      <td>Wholesale and retail trade; repair of motor ve...</td>\n",
       "    </tr>\n",
       "  </tbody>\n",
       "</table>\n",
       "<p>2 rows × 29 columns</p>\n",
       "</div>"
      ],
      "text/plain": [
       "                         EmployerName  \\\n",
       "0       BRYANSTON SCHOOL,INCORPORATED   \n",
       "1  RED BAND CHEMICAL COMPANY, LIMITED   \n",
       "\n",
       "                                             Address CompanyNumber SicCodes  \\\n",
       "0  Bryanston House,\\r\\r\\r\\r\\nBlandford,\\r\\r\\r\\r\\n...      00226143    85310   \n",
       "1  19 Smith's Place,\\r\\r\\r\\r\\nLeith Walk,\\r\\r\\r\\r...      SC016876    47730   \n",
       "\n",
       "   DiffMeanHourlyPercent  DiffMedianHourlyPercent  DiffMeanBonusPercent  \\\n",
       "0                   19.6                     32.5                   NaN   \n",
       "1                    7.7                     -4.2                  23.7   \n",
       "\n",
       "   DiffMedianBonusPercent  MaleBonusPercent  FemaleBonusPercent  ...  \\\n",
       "0                     NaN               0.0                 0.0  ...   \n",
       "1                   -75.2              22.2                82.0  ...   \n",
       "\n",
       "                            ResponsiblePerson  EmployerSize  \\\n",
       "0  Michael McGovern (Chief Operating Officer)    500 to 999   \n",
       "1             Philip Galt (Managing Director)    250 to 499   \n",
       "\n",
       "                            CurrentName  SubmittedAfterTheDeadline  \\\n",
       "0       \"Bryanston School\",Incorporated                      False   \n",
       "1  \"RED BAND\" CHEMICAL COMPANY, LIMITED                      False   \n",
       "\n",
       "               DueDate        DateSubmitted      Post   Val MainSic  \\\n",
       "0  05/04/2019 00:00:00  03/04/2019 13:43:34  DT11 0PX  True   85310   \n",
       "1  05/04/2019 00:00:00  01/04/2019 12:37:21   EH6 8NU  True   47730   \n",
       "\n",
       "                                         MainSection  \n",
       "0                                          Education  \n",
       "1  Wholesale and retail trade; repair of motor ve...  \n",
       "\n",
       "[2 rows x 29 columns]"
      ]
     },
     "execution_count": 2,
     "metadata": {},
     "output_type": "execute_result"
    }
   ],
   "source": [
    "borig = pd.read_csv('2018clean3.csv', header=0, index_col=0, dtype={'MainSic': object})\n",
    "\n",
    "print(borig.shape)\n",
    "borig.head(2)"
   ]
  },
  {
   "cell_type": "code",
   "execution_count": 3,
   "metadata": {},
   "outputs": [
    {
     "name": "stdout",
     "output_type": "stream",
     "text": [
      "(1759911, 2)\n"
     ]
    },
    {
     "data": {
      "text/html": [
       "<div>\n",
       "<style scoped>\n",
       "    .dataframe tbody tr th:only-of-type {\n",
       "        vertical-align: middle;\n",
       "    }\n",
       "\n",
       "    .dataframe tbody tr th {\n",
       "        vertical-align: top;\n",
       "    }\n",
       "\n",
       "    .dataframe thead th {\n",
       "        text-align: right;\n",
       "    }\n",
       "</style>\n",
       "<table border=\"1\" class=\"dataframe\">\n",
       "  <thead>\n",
       "    <tr style=\"text-align: right;\">\n",
       "      <th></th>\n",
       "      <th>NUTS3</th>\n",
       "      <th>CODE</th>\n",
       "    </tr>\n",
       "  </thead>\n",
       "  <tbody>\n",
       "    <tr>\n",
       "      <th>0</th>\n",
       "      <td>'UKM73'</td>\n",
       "      <td>'EH10 7DP'</td>\n",
       "    </tr>\n",
       "    <tr>\n",
       "      <th>1</th>\n",
       "      <td>'UKM73'</td>\n",
       "      <td>'EH10 7DX'</td>\n",
       "    </tr>\n",
       "    <tr>\n",
       "      <th>2</th>\n",
       "      <td>'UKM73'</td>\n",
       "      <td>'EH10 7DY'</td>\n",
       "    </tr>\n",
       "    <tr>\n",
       "      <th>3</th>\n",
       "      <td>'UKM73'</td>\n",
       "      <td>'EH10 7DZ'</td>\n",
       "    </tr>\n",
       "    <tr>\n",
       "      <th>4</th>\n",
       "      <td>'UKM73'</td>\n",
       "      <td>'EH10 7EA'</td>\n",
       "    </tr>\n",
       "  </tbody>\n",
       "</table>\n",
       "</div>"
      ],
      "text/plain": [
       "     NUTS3        CODE\n",
       "0  'UKM73'  'EH10 7DP'\n",
       "1  'UKM73'  'EH10 7DX'\n",
       "2  'UKM73'  'EH10 7DY'\n",
       "3  'UKM73'  'EH10 7DZ'\n",
       "4  'UKM73'  'EH10 7EA'"
      ]
     },
     "execution_count": 3,
     "metadata": {},
     "output_type": "execute_result"
    }
   ],
   "source": [
    "addnuts = pd.read_csv('pc2018_uk_NUTS-2016_v2.0.csv', sep=';')\n",
    "\n",
    "print(addnuts.shape)\n",
    "addnuts.head()"
   ]
  },
  {
   "cell_type": "code",
   "execution_count": 4,
   "metadata": {},
   "outputs": [],
   "source": [
    "def remove_quotes(x):\n",
    "    return str(x)[1:-1]"
   ]
  },
  {
   "cell_type": "code",
   "execution_count": 5,
   "metadata": {},
   "outputs": [
    {
     "data": {
      "text/html": [
       "<div>\n",
       "<style scoped>\n",
       "    .dataframe tbody tr th:only-of-type {\n",
       "        vertical-align: middle;\n",
       "    }\n",
       "\n",
       "    .dataframe tbody tr th {\n",
       "        vertical-align: top;\n",
       "    }\n",
       "\n",
       "    .dataframe thead th {\n",
       "        text-align: right;\n",
       "    }\n",
       "</style>\n",
       "<table border=\"1\" class=\"dataframe\">\n",
       "  <thead>\n",
       "    <tr style=\"text-align: right;\">\n",
       "      <th></th>\n",
       "      <th>NUTS3</th>\n",
       "      <th>CODE</th>\n",
       "    </tr>\n",
       "  </thead>\n",
       "  <tbody>\n",
       "    <tr>\n",
       "      <th>0</th>\n",
       "      <td>UKM73</td>\n",
       "      <td>EH10 7DP</td>\n",
       "    </tr>\n",
       "    <tr>\n",
       "      <th>1</th>\n",
       "      <td>UKM73</td>\n",
       "      <td>EH10 7DX</td>\n",
       "    </tr>\n",
       "  </tbody>\n",
       "</table>\n",
       "</div>"
      ],
      "text/plain": [
       "   NUTS3      CODE\n",
       "0  UKM73  EH10 7DP\n",
       "1  UKM73  EH10 7DX"
      ]
     },
     "execution_count": 5,
     "metadata": {},
     "output_type": "execute_result"
    }
   ],
   "source": [
    "addnuts['NUTS3'] = addnuts['NUTS3'].apply(remove_quotes)\n",
    "addnuts['CODE'] = addnuts['CODE'].apply(remove_quotes)\n",
    "\n",
    "addnuts.head(2)"
   ]
  },
  {
   "cell_type": "code",
   "execution_count": 6,
   "metadata": {},
   "outputs": [
    {
     "data": {
      "text/html": [
       "<div>\n",
       "<style scoped>\n",
       "    .dataframe tbody tr th:only-of-type {\n",
       "        vertical-align: middle;\n",
       "    }\n",
       "\n",
       "    .dataframe tbody tr th {\n",
       "        vertical-align: top;\n",
       "    }\n",
       "\n",
       "    .dataframe thead th {\n",
       "        text-align: right;\n",
       "    }\n",
       "</style>\n",
       "<table border=\"1\" class=\"dataframe\">\n",
       "  <thead>\n",
       "    <tr style=\"text-align: right;\">\n",
       "      <th></th>\n",
       "      <th>Post</th>\n",
       "      <th>Nuts3</th>\n",
       "    </tr>\n",
       "  </thead>\n",
       "  <tbody>\n",
       "    <tr>\n",
       "      <th>0</th>\n",
       "      <td>EH10 7DP</td>\n",
       "      <td>UKM73</td>\n",
       "    </tr>\n",
       "    <tr>\n",
       "      <th>1</th>\n",
       "      <td>EH10 7DX</td>\n",
       "      <td>UKM73</td>\n",
       "    </tr>\n",
       "  </tbody>\n",
       "</table>\n",
       "</div>"
      ],
      "text/plain": [
       "       Post  Nuts3\n",
       "0  EH10 7DP  UKM73\n",
       "1  EH10 7DX  UKM73"
      ]
     },
     "execution_count": 6,
     "metadata": {},
     "output_type": "execute_result"
    }
   ],
   "source": [
    "addnuts = addnuts[['CODE', 'NUTS3']]\n",
    "addnuts.rename(columns={\"CODE\": \"Post\", \"NUTS3\": \"Nuts3\"}, inplace=True)\n",
    "\n",
    "addnuts.head(2)"
   ]
  },
  {
   "cell_type": "code",
   "execution_count": 7,
   "metadata": {},
   "outputs": [
    {
     "data": {
      "text/plain": [
       "179"
      ]
     },
     "execution_count": 7,
     "metadata": {},
     "output_type": "execute_result"
    }
   ],
   "source": [
    "len(addnuts['Nuts3'].unique())"
   ]
  },
  {
   "cell_type": "code",
   "execution_count": 8,
   "metadata": {},
   "outputs": [
    {
     "data": {
      "text/html": [
       "<div>\n",
       "<style scoped>\n",
       "    .dataframe tbody tr th:only-of-type {\n",
       "        vertical-align: middle;\n",
       "    }\n",
       "\n",
       "    .dataframe tbody tr th {\n",
       "        vertical-align: top;\n",
       "    }\n",
       "\n",
       "    .dataframe thead th {\n",
       "        text-align: right;\n",
       "    }\n",
       "</style>\n",
       "<table border=\"1\" class=\"dataframe\">\n",
       "  <thead>\n",
       "    <tr style=\"text-align: right;\">\n",
       "      <th></th>\n",
       "      <th>EmployerName</th>\n",
       "      <th>Address</th>\n",
       "      <th>CompanyNumber</th>\n",
       "      <th>SicCodes</th>\n",
       "      <th>DiffMeanHourlyPercent</th>\n",
       "      <th>DiffMedianHourlyPercent</th>\n",
       "      <th>DiffMeanBonusPercent</th>\n",
       "      <th>DiffMedianBonusPercent</th>\n",
       "      <th>MaleBonusPercent</th>\n",
       "      <th>FemaleBonusPercent</th>\n",
       "      <th>...</th>\n",
       "      <th>EmployerSize</th>\n",
       "      <th>CurrentName</th>\n",
       "      <th>SubmittedAfterTheDeadline</th>\n",
       "      <th>DueDate</th>\n",
       "      <th>DateSubmitted</th>\n",
       "      <th>Post</th>\n",
       "      <th>Val</th>\n",
       "      <th>MainSic</th>\n",
       "      <th>MainSection</th>\n",
       "      <th>Nuts3</th>\n",
       "    </tr>\n",
       "  </thead>\n",
       "  <tbody>\n",
       "    <tr>\n",
       "      <th>5121</th>\n",
       "      <td>HELENA PARTNERSHIPS LIMITED</td>\n",
       "      <td>Helena Central,\\r\\r\\r\\r\\n4 Corporation Street,...</td>\n",
       "      <td>04141767</td>\n",
       "      <td>41100,\\r\\r\\r\\r\\n68201,\\r\\r\\r\\r\\n81300</td>\n",
       "      <td>1.4</td>\n",
       "      <td>0.4</td>\n",
       "      <td>-3.6</td>\n",
       "      <td>NaN</td>\n",
       "      <td>7.6</td>\n",
       "      <td>1.7</td>\n",
       "      <td>...</td>\n",
       "      <td>250 to 499</td>\n",
       "      <td>HELENA PARTNERSHIPS LIMITED</td>\n",
       "      <td>False</td>\n",
       "      <td>05/04/2019 00:00:00</td>\n",
       "      <td>15/01/2019 11:10:19</td>\n",
       "      <td>WA9 1LD</td>\n",
       "      <td>True</td>\n",
       "      <td>41100</td>\n",
       "      <td>Construction</td>\n",
       "      <td>UKD71</td>\n",
       "    </tr>\n",
       "    <tr>\n",
       "      <th>3403</th>\n",
       "      <td>DEPARTMENT FOR DIGITAL, CULTURE, MEDIA AND SPORT</td>\n",
       "      <td>100 Parliament Street,\\r\\r\\r\\r\\nLondon,\\r\\r\\r\\...</td>\n",
       "      <td>NaN</td>\n",
       "      <td>1,\\r\\r\\r\\r\\n84110</td>\n",
       "      <td>7.5</td>\n",
       "      <td>22.9</td>\n",
       "      <td>25.4</td>\n",
       "      <td>9.1</td>\n",
       "      <td>38.2</td>\n",
       "      <td>45.8</td>\n",
       "      <td>...</td>\n",
       "      <td>500 to 999</td>\n",
       "      <td>Department for Digital, Culture, Media and Sport</td>\n",
       "      <td>False</td>\n",
       "      <td>31/03/2019 00:00:00</td>\n",
       "      <td>19/12/2018 14:05:59</td>\n",
       "      <td>SW1A 2BQ</td>\n",
       "      <td>True</td>\n",
       "      <td>84110</td>\n",
       "      <td>Public administration and defence; compulsory ...</td>\n",
       "      <td>UKI32</td>\n",
       "    </tr>\n",
       "  </tbody>\n",
       "</table>\n",
       "<p>2 rows × 30 columns</p>\n",
       "</div>"
      ],
      "text/plain": [
       "                                          EmployerName  \\\n",
       "5121                       HELENA PARTNERSHIPS LIMITED   \n",
       "3403  DEPARTMENT FOR DIGITAL, CULTURE, MEDIA AND SPORT   \n",
       "\n",
       "                                                Address CompanyNumber  \\\n",
       "5121  Helena Central,\\r\\r\\r\\r\\n4 Corporation Street,...      04141767   \n",
       "3403  100 Parliament Street,\\r\\r\\r\\r\\nLondon,\\r\\r\\r\\...           NaN   \n",
       "\n",
       "                                   SicCodes  DiffMeanHourlyPercent  \\\n",
       "5121  41100,\\r\\r\\r\\r\\n68201,\\r\\r\\r\\r\\n81300                    1.4   \n",
       "3403                      1,\\r\\r\\r\\r\\n84110                    7.5   \n",
       "\n",
       "      DiffMedianHourlyPercent  DiffMeanBonusPercent  DiffMedianBonusPercent  \\\n",
       "5121                      0.4                  -3.6                     NaN   \n",
       "3403                     22.9                  25.4                     9.1   \n",
       "\n",
       "      MaleBonusPercent  FemaleBonusPercent  ...  EmployerSize  \\\n",
       "5121               7.6                 1.7  ...    250 to 499   \n",
       "3403              38.2                45.8  ...    500 to 999   \n",
       "\n",
       "                                           CurrentName  \\\n",
       "5121                       HELENA PARTNERSHIPS LIMITED   \n",
       "3403  Department for Digital, Culture, Media and Sport   \n",
       "\n",
       "      SubmittedAfterTheDeadline              DueDate        DateSubmitted  \\\n",
       "5121                      False  05/04/2019 00:00:00  15/01/2019 11:10:19   \n",
       "3403                      False  31/03/2019 00:00:00  19/12/2018 14:05:59   \n",
       "\n",
       "          Post   Val  MainSic  \\\n",
       "5121   WA9 1LD  True    41100   \n",
       "3403  SW1A 2BQ  True    84110   \n",
       "\n",
       "                                            MainSection  Nuts3  \n",
       "5121                                       Construction  UKD71  \n",
       "3403  Public administration and defence; compulsory ...  UKI32  \n",
       "\n",
       "[2 rows x 30 columns]"
      ]
     },
     "execution_count": 8,
     "metadata": {},
     "output_type": "execute_result"
    }
   ],
   "source": [
    "borig = pd.merge(borig, addnuts, on='Post')\n",
    "\n",
    "borig.sample(2)"
   ]
  },
  {
   "cell_type": "code",
   "execution_count": 9,
   "metadata": {},
   "outputs": [
    {
     "data": {
      "text/html": [
       "<div>\n",
       "<style scoped>\n",
       "    .dataframe tbody tr th:only-of-type {\n",
       "        vertical-align: middle;\n",
       "    }\n",
       "\n",
       "    .dataframe tbody tr th {\n",
       "        vertical-align: top;\n",
       "    }\n",
       "\n",
       "    .dataframe thead th {\n",
       "        text-align: right;\n",
       "    }\n",
       "</style>\n",
       "<table border=\"1\" class=\"dataframe\">\n",
       "  <thead>\n",
       "    <tr style=\"text-align: right;\">\n",
       "      <th></th>\n",
       "      <th>Nuts3</th>\n",
       "      <th>Diff_avg</th>\n",
       "    </tr>\n",
       "  </thead>\n",
       "  <tbody>\n",
       "    <tr>\n",
       "      <th>0</th>\n",
       "      <td>UKN14</td>\n",
       "      <td>25.55</td>\n",
       "    </tr>\n",
       "    <tr>\n",
       "      <th>1</th>\n",
       "      <td>UKM61</td>\n",
       "      <td>24.30</td>\n",
       "    </tr>\n",
       "    <tr>\n",
       "      <th>2</th>\n",
       "      <td>UKI62</td>\n",
       "      <td>22.57</td>\n",
       "    </tr>\n",
       "    <tr>\n",
       "      <th>3</th>\n",
       "      <td>UKH32</td>\n",
       "      <td>21.74</td>\n",
       "    </tr>\n",
       "    <tr>\n",
       "      <th>4</th>\n",
       "      <td>UKI42</td>\n",
       "      <td>20.71</td>\n",
       "    </tr>\n",
       "  </tbody>\n",
       "</table>\n",
       "</div>"
      ],
      "text/plain": [
       "   Nuts3  Diff_avg\n",
       "0  UKN14     25.55\n",
       "1  UKM61     24.30\n",
       "2  UKI62     22.57\n",
       "3  UKH32     21.74\n",
       "4  UKI42     20.71"
      ]
     },
     "execution_count": 9,
     "metadata": {},
     "output_type": "execute_result"
    }
   ],
   "source": [
    "n_piv = pivot_table(borig, values='DiffMeanHourlyPercent',\n",
    "                     index=['Nuts3'], aggfunc=np.mean)\n",
    "\n",
    "\n",
    "n_piv.rename(columns={'DiffMeanHourlyPercent':'Diff_avg'}, inplace=True)\n",
    "n_piv.sort_values(by=['Diff_avg'], ascending=False, inplace=True)\n",
    "n_piv['Diff_avg'] = round(n_piv['Diff_avg'], 2)\n",
    "n_piv.reset_index(inplace=True)\n",
    "\n",
    "n_piv.head(5)"
   ]
  },
  {
   "cell_type": "code",
   "execution_count": 10,
   "metadata": {},
   "outputs": [
    {
     "name": "stdout",
     "output_type": "stream",
     "text": [
      "(179, 9)\n"
     ]
    },
    {
     "data": {
      "text/html": [
       "<div>\n",
       "<style scoped>\n",
       "    .dataframe tbody tr th:only-of-type {\n",
       "        vertical-align: middle;\n",
       "    }\n",
       "\n",
       "    .dataframe tbody tr th {\n",
       "        vertical-align: top;\n",
       "    }\n",
       "\n",
       "    .dataframe thead th {\n",
       "        text-align: right;\n",
       "    }\n",
       "</style>\n",
       "<table border=\"1\" class=\"dataframe\">\n",
       "  <thead>\n",
       "    <tr style=\"text-align: right;\">\n",
       "      <th></th>\n",
       "      <th>objectid</th>\n",
       "      <th>nuts318cd</th>\n",
       "      <th>nuts318nm</th>\n",
       "      <th>bng_e</th>\n",
       "      <th>bng_n</th>\n",
       "      <th>long</th>\n",
       "      <th>lat</th>\n",
       "      <th>st_areashape</th>\n",
       "      <th>st_lengthshape</th>\n",
       "    </tr>\n",
       "  </thead>\n",
       "  <tbody>\n",
       "    <tr>\n",
       "      <th>0</th>\n",
       "      <td>1</td>\n",
       "      <td>UKC11</td>\n",
       "      <td>Hartlepool and Stockton-on-Tees</td>\n",
       "      <td>444952</td>\n",
       "      <td>522016</td>\n",
       "      <td>-1.30587</td>\n",
       "      <td>54.591351</td>\n",
       "      <td>3.014553e+08</td>\n",
       "      <td>108085.925509</td>\n",
       "    </tr>\n",
       "    <tr>\n",
       "      <th>1</th>\n",
       "      <td>2</td>\n",
       "      <td>UKC12</td>\n",
       "      <td>South Teesside</td>\n",
       "      <td>461718</td>\n",
       "      <td>519597</td>\n",
       "      <td>-1.04695</td>\n",
       "      <td>54.567848</td>\n",
       "      <td>3.027700e+08</td>\n",
       "      <td>86922.520900</td>\n",
       "    </tr>\n",
       "  </tbody>\n",
       "</table>\n",
       "</div>"
      ],
      "text/plain": [
       "   objectid nuts318cd                        nuts318nm   bng_e   bng_n  \\\n",
       "0         1     UKC11  Hartlepool and Stockton-on-Tees  444952  522016   \n",
       "1         2     UKC12                   South Teesside  461718  519597   \n",
       "\n",
       "      long        lat  st_areashape  st_lengthshape  \n",
       "0 -1.30587  54.591351  3.014553e+08   108085.925509  \n",
       "1 -1.04695  54.567848  3.027700e+08    86922.520900  "
      ]
     },
     "execution_count": 10,
     "metadata": {},
     "output_type": "execute_result"
    }
   ],
   "source": [
    "nuts_name = pd.read_csv('NUTS_Level_3_January_2018_Ultra_Generalised_Clipped_Boundaries_in_the_United_Kingdom.csv')\n",
    "print(nuts_name.shape)\n",
    "nuts_name.head(2)"
   ]
  },
  {
   "cell_type": "code",
   "execution_count": 11,
   "metadata": {},
   "outputs": [
    {
     "data": {
      "text/html": [
       "<div>\n",
       "<style scoped>\n",
       "    .dataframe tbody tr th:only-of-type {\n",
       "        vertical-align: middle;\n",
       "    }\n",
       "\n",
       "    .dataframe tbody tr th {\n",
       "        vertical-align: top;\n",
       "    }\n",
       "\n",
       "    .dataframe thead th {\n",
       "        text-align: right;\n",
       "    }\n",
       "</style>\n",
       "<table border=\"1\" class=\"dataframe\">\n",
       "  <thead>\n",
       "    <tr style=\"text-align: right;\">\n",
       "      <th></th>\n",
       "      <th>Nuts3</th>\n",
       "      <th>Name</th>\n",
       "      <th>lat</th>\n",
       "      <th>lon</th>\n",
       "    </tr>\n",
       "  </thead>\n",
       "  <tbody>\n",
       "    <tr>\n",
       "      <th>0</th>\n",
       "      <td>UKC11</td>\n",
       "      <td>Hartlepool and Stockton-on-Tees</td>\n",
       "      <td>54.591351</td>\n",
       "      <td>-1.30587</td>\n",
       "    </tr>\n",
       "    <tr>\n",
       "      <th>1</th>\n",
       "      <td>UKC12</td>\n",
       "      <td>South Teesside</td>\n",
       "      <td>54.567848</td>\n",
       "      <td>-1.04695</td>\n",
       "    </tr>\n",
       "    <tr>\n",
       "      <th>2</th>\n",
       "      <td>UKC13</td>\n",
       "      <td>Darlington</td>\n",
       "      <td>54.535351</td>\n",
       "      <td>-1.56835</td>\n",
       "    </tr>\n",
       "    <tr>\n",
       "      <th>3</th>\n",
       "      <td>UKC14</td>\n",
       "      <td>Durham CC</td>\n",
       "      <td>54.685131</td>\n",
       "      <td>-1.84050</td>\n",
       "    </tr>\n",
       "    <tr>\n",
       "      <th>4</th>\n",
       "      <td>UKC21</td>\n",
       "      <td>Northumberland</td>\n",
       "      <td>55.300369</td>\n",
       "      <td>-2.07521</td>\n",
       "    </tr>\n",
       "  </tbody>\n",
       "</table>\n",
       "</div>"
      ],
      "text/plain": [
       "   Nuts3                             Name        lat      lon\n",
       "0  UKC11  Hartlepool and Stockton-on-Tees  54.591351 -1.30587\n",
       "1  UKC12                   South Teesside  54.567848 -1.04695\n",
       "2  UKC13                       Darlington  54.535351 -1.56835\n",
       "3  UKC14                        Durham CC  54.685131 -1.84050\n",
       "4  UKC21                   Northumberland  55.300369 -2.07521"
      ]
     },
     "execution_count": 11,
     "metadata": {},
     "output_type": "execute_result"
    }
   ],
   "source": [
    "nuts_name = nuts_name[['nuts318cd','nuts318nm','lat','long']]\n",
    "nuts_name.rename(columns={'nuts318cd':'Nuts3','nuts318nm':'Name','long':'lon'}, inplace=True)\n",
    "\n",
    "nuts_name.head()"
   ]
  },
  {
   "cell_type": "code",
   "execution_count": 12,
   "metadata": {},
   "outputs": [
    {
     "data": {
      "text/html": [
       "<div>\n",
       "<style scoped>\n",
       "    .dataframe tbody tr th:only-of-type {\n",
       "        vertical-align: middle;\n",
       "    }\n",
       "\n",
       "    .dataframe tbody tr th {\n",
       "        vertical-align: top;\n",
       "    }\n",
       "\n",
       "    .dataframe thead th {\n",
       "        text-align: right;\n",
       "    }\n",
       "</style>\n",
       "<table border=\"1\" class=\"dataframe\">\n",
       "  <thead>\n",
       "    <tr style=\"text-align: right;\">\n",
       "      <th></th>\n",
       "      <th>Nuts3</th>\n",
       "      <th>Diff_avg</th>\n",
       "      <th>Name</th>\n",
       "      <th>lat</th>\n",
       "      <th>lon</th>\n",
       "    </tr>\n",
       "  </thead>\n",
       "  <tbody>\n",
       "    <tr>\n",
       "      <th>165</th>\n",
       "      <td>UKM81</td>\n",
       "      <td>6.37</td>\n",
       "      <td>East Dunbartonshire, West Dunbartonshire and H...</td>\n",
       "      <td>56.107639</td>\n",
       "      <td>-4.71665</td>\n",
       "    </tr>\n",
       "    <tr>\n",
       "      <th>166</th>\n",
       "      <td>UKI71</td>\n",
       "      <td>5.34</td>\n",
       "      <td>Barnet</td>\n",
       "      <td>51.611080</td>\n",
       "      <td>-0.21821</td>\n",
       "    </tr>\n",
       "    <tr>\n",
       "      <th>167</th>\n",
       "      <td>UKM94</td>\n",
       "      <td>4.96</td>\n",
       "      <td>South Ayrshire</td>\n",
       "      <td>55.230068</td>\n",
       "      <td>-4.72901</td>\n",
       "    </tr>\n",
       "    <tr>\n",
       "      <th>168</th>\n",
       "      <td>UKL14</td>\n",
       "      <td>3.03</td>\n",
       "      <td>South West Wales</td>\n",
       "      <td>52.085041</td>\n",
       "      <td>-4.18274</td>\n",
       "    </tr>\n",
       "    <tr>\n",
       "      <th>169</th>\n",
       "      <td>UKN11</td>\n",
       "      <td>1.13</td>\n",
       "      <td>Mid Ulster</td>\n",
       "      <td>54.552650</td>\n",
       "      <td>-6.88801</td>\n",
       "    </tr>\n",
       "    <tr>\n",
       "      <th>170</th>\n",
       "      <td>UKN07</td>\n",
       "      <td>-1.13</td>\n",
       "      <td>Armagh City, Banbridge and Craigavon</td>\n",
       "      <td>54.386600</td>\n",
       "      <td>-6.43360</td>\n",
       "    </tr>\n",
       "    <tr>\n",
       "      <th>171</th>\n",
       "      <td>UKN15</td>\n",
       "      <td>-5.60</td>\n",
       "      <td>Mid and East Antrim</td>\n",
       "      <td>54.864559</td>\n",
       "      <td>-6.14545</td>\n",
       "    </tr>\n",
       "  </tbody>\n",
       "</table>\n",
       "</div>"
      ],
      "text/plain": [
       "     Nuts3  Diff_avg                                               Name  \\\n",
       "165  UKM81      6.37  East Dunbartonshire, West Dunbartonshire and H...   \n",
       "166  UKI71      5.34                                             Barnet   \n",
       "167  UKM94      4.96                                     South Ayrshire   \n",
       "168  UKL14      3.03                                   South West Wales   \n",
       "169  UKN11      1.13                                         Mid Ulster   \n",
       "170  UKN07     -1.13               Armagh City, Banbridge and Craigavon   \n",
       "171  UKN15     -5.60                                Mid and East Antrim   \n",
       "\n",
       "           lat      lon  \n",
       "165  56.107639 -4.71665  \n",
       "166  51.611080 -0.21821  \n",
       "167  55.230068 -4.72901  \n",
       "168  52.085041 -4.18274  \n",
       "169  54.552650 -6.88801  \n",
       "170  54.386600 -6.43360  \n",
       "171  54.864559 -6.14545  "
      ]
     },
     "execution_count": 12,
     "metadata": {},
     "output_type": "execute_result"
    }
   ],
   "source": [
    "n_piv = pd.merge(n_piv, nuts_name, on='Nuts3')\n",
    "\n",
    "n_piv.tail(7)"
   ]
  },
  {
   "cell_type": "code",
   "execution_count": 13,
   "metadata": {},
   "outputs": [
    {
     "name": "stdout",
     "output_type": "stream",
     "text": [
      "n_piv length with Wales, Scotland and N Ireland: 172\n",
      "n_piv length without Wales, Scotland and N Ireland: 133\n"
     ]
    }
   ],
   "source": [
    "# exclude Wales, Scotland and N Ireland due to no geojson data\n",
    "print(f'n_piv length with Wales, Scotland and N Ireland: {len(n_piv)}')\n",
    "\n",
    "n_piv = n_piv[n_piv['Nuts3'].str.contains('UKL') == False]\n",
    "n_piv = n_piv[n_piv['Nuts3'].str.contains('UKM') == False]\n",
    "n_piv = n_piv[n_piv['Nuts3'].str.contains('UKN') == False]\n",
    "n_piv.reset_index(inplace=True)\n",
    "\n",
    "print(f'n_piv length without Wales, Scotland and N Ireland: {len(n_piv)}')"
   ]
  },
  {
   "cell_type": "code",
   "execution_count": 14,
   "metadata": {},
   "outputs": [
    {
     "data": {
      "text/html": [
       "<div>\n",
       "<style scoped>\n",
       "    .dataframe tbody tr th:only-of-type {\n",
       "        vertical-align: middle;\n",
       "    }\n",
       "\n",
       "    .dataframe tbody tr th {\n",
       "        vertical-align: top;\n",
       "    }\n",
       "\n",
       "    .dataframe thead th {\n",
       "        text-align: right;\n",
       "    }\n",
       "</style>\n",
       "<table border=\"1\" class=\"dataframe\">\n",
       "  <thead>\n",
       "    <tr style=\"text-align: right;\">\n",
       "      <th></th>\n",
       "      <th>index</th>\n",
       "      <th>Nuts3</th>\n",
       "      <th>Diff_avg</th>\n",
       "      <th>Name</th>\n",
       "      <th>lat</th>\n",
       "      <th>lon</th>\n",
       "    </tr>\n",
       "  </thead>\n",
       "  <tbody>\n",
       "    <tr>\n",
       "      <th>0</th>\n",
       "      <td>2</td>\n",
       "      <td>UKI62</td>\n",
       "      <td>22.57</td>\n",
       "      <td>Croydon</td>\n",
       "      <td>51.365978</td>\n",
       "      <td>-0.077610</td>\n",
       "    </tr>\n",
       "    <tr>\n",
       "      <th>1</th>\n",
       "      <td>3</td>\n",
       "      <td>UKH32</td>\n",
       "      <td>21.74</td>\n",
       "      <td>Thurrock</td>\n",
       "      <td>51.509941</td>\n",
       "      <td>0.334902</td>\n",
       "    </tr>\n",
       "  </tbody>\n",
       "</table>\n",
       "</div>"
      ],
      "text/plain": [
       "   index  Nuts3  Diff_avg      Name        lat       lon\n",
       "0      2  UKI62     22.57   Croydon  51.365978 -0.077610\n",
       "1      3  UKH32     21.74  Thurrock  51.509941  0.334902"
      ]
     },
     "execution_count": 14,
     "metadata": {},
     "output_type": "execute_result"
    }
   ],
   "source": [
    "n_piv.head(2)"
   ]
  },
  {
   "cell_type": "code",
   "execution_count": 15,
   "metadata": {},
   "outputs": [],
   "source": [
    "# n_piv.to_csv('2018nuts3avg.csv')"
   ]
  },
  {
   "cell_type": "markdown",
   "metadata": {},
   "source": [
    "## Company Min Max"
   ]
  },
  {
   "cell_type": "code",
   "execution_count": 16,
   "metadata": {},
   "outputs": [
    {
     "data": {
      "text/plain": [
       "(10590, 30)"
      ]
     },
     "execution_count": 16,
     "metadata": {},
     "output_type": "execute_result"
    }
   ],
   "source": [
    "bedit = borig.copy()\n",
    "\n",
    "bedit.shape"
   ]
  },
  {
   "cell_type": "code",
   "execution_count": 17,
   "metadata": {},
   "outputs": [
    {
     "data": {
      "text/plain": [
       "(9754, 30)"
      ]
     },
     "execution_count": 17,
     "metadata": {},
     "output_type": "execute_result"
    }
   ],
   "source": [
    "bedit = bedit[bedit['Nuts3'].str.contains('UKL') == False]\n",
    "bedit = bedit[bedit['Nuts3'].str.contains('UKM') == False]\n",
    "bedit = bedit[bedit['Nuts3'].str.contains('UKN') == False]\n",
    "\n",
    "bedit.shape"
   ]
  },
  {
   "cell_type": "code",
   "execution_count": 18,
   "metadata": {},
   "outputs": [
    {
     "data": {
      "text/html": [
       "<div>\n",
       "<style scoped>\n",
       "    .dataframe tbody tr th:only-of-type {\n",
       "        vertical-align: middle;\n",
       "    }\n",
       "\n",
       "    .dataframe tbody tr th {\n",
       "        vertical-align: top;\n",
       "    }\n",
       "\n",
       "    .dataframe thead th {\n",
       "        text-align: right;\n",
       "    }\n",
       "</style>\n",
       "<table border=\"1\" class=\"dataframe\">\n",
       "  <thead>\n",
       "    <tr style=\"text-align: right;\">\n",
       "      <th></th>\n",
       "      <th>Nuts3</th>\n",
       "      <th>EmployerName</th>\n",
       "      <th>Diff_avg</th>\n",
       "    </tr>\n",
       "  </thead>\n",
       "  <tbody>\n",
       "    <tr>\n",
       "      <th>0</th>\n",
       "      <td>UKK22</td>\n",
       "      <td>BRYANSTON SCHOOL,INCORPORATED</td>\n",
       "      <td>19.6</td>\n",
       "    </tr>\n",
       "    <tr>\n",
       "      <th>1</th>\n",
       "      <td>UKE42</td>\n",
       "      <td>123 EMPLOYEES LTD</td>\n",
       "      <td>30.0</td>\n",
       "    </tr>\n",
       "  </tbody>\n",
       "</table>\n",
       "</div>"
      ],
      "text/plain": [
       "   Nuts3                   EmployerName  Diff_avg\n",
       "0  UKK22  BRYANSTON SCHOOL,INCORPORATED      19.6\n",
       "1  UKE42              123 EMPLOYEES LTD      30.0"
      ]
     },
     "execution_count": 18,
     "metadata": {},
     "output_type": "execute_result"
    }
   ],
   "source": [
    "bedit = bedit[['Nuts3', 'EmployerName', 'DiffMeanHourlyPercent']]\n",
    "bedit.rename(columns={'DiffMeanHourlyPercent':'Diff_avg'}, inplace=True)\n",
    "bedit.reset_index(drop=True, inplace=True)\n",
    "\n",
    "bedit.head(2)"
   ]
  },
  {
   "cell_type": "code",
   "execution_count": 19,
   "metadata": {},
   "outputs": [
    {
     "name": "stdout",
     "output_type": "stream",
     "text": [
      "UKI31    735\n",
      "UKI32    567\n",
      "Name: Nuts3, dtype: int64\n",
      "UKK42    9\n",
      "UKJ34    7\n",
      "Name: Nuts3, dtype: int64\n"
     ]
    }
   ],
   "source": [
    "print(bedit.Nuts3.value_counts()[:2])\n",
    "print(bedit.Nuts3.value_counts()[-2:])"
   ]
  },
  {
   "cell_type": "code",
   "execution_count": 20,
   "metadata": {},
   "outputs": [
    {
     "data": {
      "text/html": [
       "<div>\n",
       "<style scoped>\n",
       "    .dataframe tbody tr th:only-of-type {\n",
       "        vertical-align: middle;\n",
       "    }\n",
       "\n",
       "    .dataframe tbody tr th {\n",
       "        vertical-align: top;\n",
       "    }\n",
       "\n",
       "    .dataframe thead th {\n",
       "        text-align: right;\n",
       "    }\n",
       "</style>\n",
       "<table border=\"1\" class=\"dataframe\">\n",
       "  <thead>\n",
       "    <tr style=\"text-align: right;\">\n",
       "      <th></th>\n",
       "      <th>Nuts3</th>\n",
       "      <th>EmployerName</th>\n",
       "      <th>Diff_avg</th>\n",
       "    </tr>\n",
       "  </thead>\n",
       "  <tbody>\n",
       "    <tr>\n",
       "      <th>0</th>\n",
       "      <td>UKK22</td>\n",
       "      <td>BRYANSTON SCHOOL,INCORPORATED</td>\n",
       "      <td>19.6</td>\n",
       "    </tr>\n",
       "    <tr>\n",
       "      <th>1</th>\n",
       "      <td>UKE42</td>\n",
       "      <td>123 EMPLOYEES LTD</td>\n",
       "      <td>30.0</td>\n",
       "    </tr>\n",
       "    <tr>\n",
       "      <th>2</th>\n",
       "      <td>UKJ25</td>\n",
       "      <td>1509 GROUP</td>\n",
       "      <td>13.4</td>\n",
       "    </tr>\n",
       "    <tr>\n",
       "      <th>3</th>\n",
       "      <td>UKK23</td>\n",
       "      <td>1610 LIMITED</td>\n",
       "      <td>-25.0</td>\n",
       "    </tr>\n",
       "    <tr>\n",
       "      <th>4</th>\n",
       "      <td>UKH12</td>\n",
       "      <td>1LIFE MANAGEMENT SOLUTIONS LIMITED</td>\n",
       "      <td>0.9</td>\n",
       "    </tr>\n",
       "  </tbody>\n",
       "</table>\n",
       "</div>"
      ],
      "text/plain": [
       "   Nuts3                        EmployerName  Diff_avg\n",
       "0  UKK22       BRYANSTON SCHOOL,INCORPORATED      19.6\n",
       "1  UKE42                   123 EMPLOYEES LTD      30.0\n",
       "2  UKJ25                          1509 GROUP      13.4\n",
       "3  UKK23                        1610 LIMITED     -25.0\n",
       "4  UKH12  1LIFE MANAGEMENT SOLUTIONS LIMITED       0.9"
      ]
     },
     "execution_count": 20,
     "metadata": {},
     "output_type": "execute_result"
    }
   ],
   "source": [
    "bedit.head()"
   ]
  },
  {
   "cell_type": "code",
   "execution_count": 21,
   "metadata": {},
   "outputs": [
    {
     "data": {
      "text/plain": [
       "133"
      ]
     },
     "execution_count": 21,
     "metadata": {},
     "output_type": "execute_result"
    }
   ],
   "source": [
    "len(bedit.Nuts3.unique())"
   ]
  },
  {
   "cell_type": "code",
   "execution_count": 22,
   "metadata": {},
   "outputs": [
    {
     "name": "stdout",
     "output_type": "stream",
     "text": [
      "(266, 3)\n"
     ]
    },
    {
     "data": {
      "text/html": [
       "<div>\n",
       "<style scoped>\n",
       "    .dataframe tbody tr th:only-of-type {\n",
       "        vertical-align: middle;\n",
       "    }\n",
       "\n",
       "    .dataframe tbody tr th {\n",
       "        vertical-align: top;\n",
       "    }\n",
       "\n",
       "    .dataframe thead th {\n",
       "        text-align: right;\n",
       "    }\n",
       "</style>\n",
       "<table border=\"1\" class=\"dataframe\">\n",
       "  <thead>\n",
       "    <tr style=\"text-align: right;\">\n",
       "      <th></th>\n",
       "      <th>Nuts3</th>\n",
       "      <th>EmployerName</th>\n",
       "      <th>Diff_avg</th>\n",
       "    </tr>\n",
       "  </thead>\n",
       "  <tbody>\n",
       "    <tr>\n",
       "      <th>0</th>\n",
       "      <td>UKK22</td>\n",
       "      <td>WIMBORNE ACADEMY TRUST</td>\n",
       "      <td>38.7</td>\n",
       "    </tr>\n",
       "    <tr>\n",
       "      <th>1</th>\n",
       "      <td>UKK22</td>\n",
       "      <td>CLIPPER CONTRACTING GROUP LTD</td>\n",
       "      <td>-8.6</td>\n",
       "    </tr>\n",
       "    <tr>\n",
       "      <th>2</th>\n",
       "      <td>UKE42</td>\n",
       "      <td>LEEDS UNITED FOOTBALL CLUB LIMITED</td>\n",
       "      <td>66.3</td>\n",
       "    </tr>\n",
       "    <tr>\n",
       "      <th>3</th>\n",
       "      <td>UKE42</td>\n",
       "      <td>NATIONWIDE WINDOW CLEANING LIMITED</td>\n",
       "      <td>-44.6</td>\n",
       "    </tr>\n",
       "    <tr>\n",
       "      <th>4</th>\n",
       "      <td>UKJ25</td>\n",
       "      <td>SHL GROUP LIMITED</td>\n",
       "      <td>51.6</td>\n",
       "    </tr>\n",
       "  </tbody>\n",
       "</table>\n",
       "</div>"
      ],
      "text/plain": [
       "   Nuts3                        EmployerName  Diff_avg\n",
       "0  UKK22              WIMBORNE ACADEMY TRUST      38.7\n",
       "1  UKK22       CLIPPER CONTRACTING GROUP LTD      -8.6\n",
       "2  UKE42  LEEDS UNITED FOOTBALL CLUB LIMITED      66.3\n",
       "3  UKE42  NATIONWIDE WINDOW CLEANING LIMITED     -44.6\n",
       "4  UKJ25                   SHL GROUP LIMITED      51.6"
      ]
     },
     "execution_count": 22,
     "metadata": {},
     "output_type": "execute_result"
    }
   ],
   "source": [
    "bmm = pd.DataFrame(columns=bedit.columns)\n",
    "\n",
    "for i in bedit.Nuts3.unique():\n",
    "    bsample = bedit[bedit.Nuts3 == i]\n",
    "    \n",
    "    bmm = bmm.append(bsample[bsample.Diff_avg == bsample.Diff_avg.max()].iloc[0,:], ignore_index=True)\n",
    "    bmm = bmm.append(bsample[bsample.Diff_avg == bsample.Diff_avg.min()].iloc[0,:], ignore_index=True)\n",
    "    \n",
    "bmm.reset_index(drop=True, inplace=True)\n",
    "\n",
    "print(bmm.shape)\n",
    "bmm.head()"
   ]
  },
  {
   "cell_type": "code",
   "execution_count": 23,
   "metadata": {},
   "outputs": [],
   "source": [
    "# bmm.to_csv('2018nuts3minmax.csv')"
   ]
  },
  {
   "cell_type": "code",
   "execution_count": null,
   "metadata": {},
   "outputs": [],
   "source": []
  }
 ],
 "metadata": {
  "kernelspec": {
   "display_name": "Python 3",
   "language": "python",
   "name": "python3"
  },
  "language_info": {
   "codemirror_mode": {
    "name": "ipython",
    "version": 3
   },
   "file_extension": ".py",
   "mimetype": "text/x-python",
   "name": "python",
   "nbconvert_exporter": "python",
   "pygments_lexer": "ipython3",
   "version": "3.7.3"
  }
 },
 "nbformat": 4,
 "nbformat_minor": 2
}
