{
 "cells": [
  {
   "cell_type": "code",
   "execution_count": 1,
   "metadata": {},
   "outputs": [],
   "source": [
    "import numpy as np\n",
    "import pandas as pd\n",
    "from pandas import pivot_table\n",
    "import matplotlib.pyplot as plt\n",
    "import json\n",
    "from colour import Color"
   ]
  },
  {
   "cell_type": "code",
   "execution_count": 2,
   "metadata": {},
   "outputs": [
    {
     "name": "stdout",
     "output_type": "stream",
     "text": [
      "(10772, 29)\n"
     ]
    },
    {
     "data": {
      "text/html": [
       "<div>\n",
       "<style scoped>\n",
       "    .dataframe tbody tr th:only-of-type {\n",
       "        vertical-align: middle;\n",
       "    }\n",
       "\n",
       "    .dataframe tbody tr th {\n",
       "        vertical-align: top;\n",
       "    }\n",
       "\n",
       "    .dataframe thead th {\n",
       "        text-align: right;\n",
       "    }\n",
       "</style>\n",
       "<table border=\"1\" class=\"dataframe\">\n",
       "  <thead>\n",
       "    <tr style=\"text-align: right;\">\n",
       "      <th></th>\n",
       "      <th>EmployerName</th>\n",
       "      <th>Address</th>\n",
       "      <th>CompanyNumber</th>\n",
       "      <th>SicCodes</th>\n",
       "      <th>DiffMeanHourlyPercent</th>\n",
       "      <th>DiffMedianHourlyPercent</th>\n",
       "      <th>DiffMeanBonusPercent</th>\n",
       "      <th>DiffMedianBonusPercent</th>\n",
       "      <th>MaleBonusPercent</th>\n",
       "      <th>FemaleBonusPercent</th>\n",
       "      <th>...</th>\n",
       "      <th>ResponsiblePerson</th>\n",
       "      <th>EmployerSize</th>\n",
       "      <th>CurrentName</th>\n",
       "      <th>SubmittedAfterTheDeadline</th>\n",
       "      <th>DueDate</th>\n",
       "      <th>DateSubmitted</th>\n",
       "      <th>Post</th>\n",
       "      <th>Val</th>\n",
       "      <th>MainSic</th>\n",
       "      <th>MainSection</th>\n",
       "    </tr>\n",
       "  </thead>\n",
       "  <tbody>\n",
       "    <tr>\n",
       "      <th>0</th>\n",
       "      <td>BRYANSTON SCHOOL,INCORPORATED</td>\n",
       "      <td>Bryanston House,\\r\\r\\r\\r\\nBlandford,\\r\\r\\r\\r\\n...</td>\n",
       "      <td>00226143</td>\n",
       "      <td>85310</td>\n",
       "      <td>19.6</td>\n",
       "      <td>32.5</td>\n",
       "      <td>NaN</td>\n",
       "      <td>NaN</td>\n",
       "      <td>0.0</td>\n",
       "      <td>0.0</td>\n",
       "      <td>...</td>\n",
       "      <td>Michael McGovern (Chief Operating Officer)</td>\n",
       "      <td>500 to 999</td>\n",
       "      <td>\"Bryanston School\",Incorporated</td>\n",
       "      <td>False</td>\n",
       "      <td>05/04/2019 00:00:00</td>\n",
       "      <td>03/04/2019 13:43:34</td>\n",
       "      <td>DT11 0PX</td>\n",
       "      <td>True</td>\n",
       "      <td>85310</td>\n",
       "      <td>Education</td>\n",
       "    </tr>\n",
       "    <tr>\n",
       "      <th>1</th>\n",
       "      <td>RED BAND CHEMICAL COMPANY, LIMITED</td>\n",
       "      <td>19 Smith's Place,\\r\\r\\r\\r\\nLeith Walk,\\r\\r\\r\\r...</td>\n",
       "      <td>SC016876</td>\n",
       "      <td>47730</td>\n",
       "      <td>7.7</td>\n",
       "      <td>-4.2</td>\n",
       "      <td>23.7</td>\n",
       "      <td>-75.2</td>\n",
       "      <td>22.2</td>\n",
       "      <td>82.0</td>\n",
       "      <td>...</td>\n",
       "      <td>Philip Galt (Managing Director)</td>\n",
       "      <td>250 to 499</td>\n",
       "      <td>\"RED BAND\" CHEMICAL COMPANY, LIMITED</td>\n",
       "      <td>False</td>\n",
       "      <td>05/04/2019 00:00:00</td>\n",
       "      <td>01/04/2019 12:37:21</td>\n",
       "      <td>EH6 8NU</td>\n",
       "      <td>True</td>\n",
       "      <td>47730</td>\n",
       "      <td>Wholesale and retail trade; repair of motor ve...</td>\n",
       "    </tr>\n",
       "  </tbody>\n",
       "</table>\n",
       "<p>2 rows × 29 columns</p>\n",
       "</div>"
      ],
      "text/plain": [
       "                         EmployerName  \\\n",
       "0       BRYANSTON SCHOOL,INCORPORATED   \n",
       "1  RED BAND CHEMICAL COMPANY, LIMITED   \n",
       "\n",
       "                                             Address CompanyNumber SicCodes  \\\n",
       "0  Bryanston House,\\r\\r\\r\\r\\nBlandford,\\r\\r\\r\\r\\n...      00226143    85310   \n",
       "1  19 Smith's Place,\\r\\r\\r\\r\\nLeith Walk,\\r\\r\\r\\r...      SC016876    47730   \n",
       "\n",
       "   DiffMeanHourlyPercent  DiffMedianHourlyPercent  DiffMeanBonusPercent  \\\n",
       "0                   19.6                     32.5                   NaN   \n",
       "1                    7.7                     -4.2                  23.7   \n",
       "\n",
       "   DiffMedianBonusPercent  MaleBonusPercent  FemaleBonusPercent  ...  \\\n",
       "0                     NaN               0.0                 0.0  ...   \n",
       "1                   -75.2              22.2                82.0  ...   \n",
       "\n",
       "                            ResponsiblePerson  EmployerSize  \\\n",
       "0  Michael McGovern (Chief Operating Officer)    500 to 999   \n",
       "1             Philip Galt (Managing Director)    250 to 499   \n",
       "\n",
       "                            CurrentName  SubmittedAfterTheDeadline  \\\n",
       "0       \"Bryanston School\",Incorporated                      False   \n",
       "1  \"RED BAND\" CHEMICAL COMPANY, LIMITED                      False   \n",
       "\n",
       "               DueDate        DateSubmitted      Post   Val MainSic  \\\n",
       "0  05/04/2019 00:00:00  03/04/2019 13:43:34  DT11 0PX  True   85310   \n",
       "1  05/04/2019 00:00:00  01/04/2019 12:37:21   EH6 8NU  True   47730   \n",
       "\n",
       "                                         MainSection  \n",
       "0                                          Education  \n",
       "1  Wholesale and retail trade; repair of motor ve...  \n",
       "\n",
       "[2 rows x 29 columns]"
      ]
     },
     "execution_count": 2,
     "metadata": {},
     "output_type": "execute_result"
    }
   ],
   "source": [
    "borig = pd.read_csv('2018clean3.csv', header=0, index_col=0, dtype={'MainSic': object})\n",
    "\n",
    "print(borig.shape)\n",
    "borig.head(2)"
   ]
  },
  {
   "cell_type": "code",
   "execution_count": 3,
   "metadata": {},
   "outputs": [
    {
     "name": "stdout",
     "output_type": "stream",
     "text": [
      "(1759911, 2)\n"
     ]
    },
    {
     "data": {
      "text/html": [
       "<div>\n",
       "<style scoped>\n",
       "    .dataframe tbody tr th:only-of-type {\n",
       "        vertical-align: middle;\n",
       "    }\n",
       "\n",
       "    .dataframe tbody tr th {\n",
       "        vertical-align: top;\n",
       "    }\n",
       "\n",
       "    .dataframe thead th {\n",
       "        text-align: right;\n",
       "    }\n",
       "</style>\n",
       "<table border=\"1\" class=\"dataframe\">\n",
       "  <thead>\n",
       "    <tr style=\"text-align: right;\">\n",
       "      <th></th>\n",
       "      <th>NUTS3</th>\n",
       "      <th>CODE</th>\n",
       "    </tr>\n",
       "  </thead>\n",
       "  <tbody>\n",
       "    <tr>\n",
       "      <th>0</th>\n",
       "      <td>'UKM73'</td>\n",
       "      <td>'EH10 7DP'</td>\n",
       "    </tr>\n",
       "    <tr>\n",
       "      <th>1</th>\n",
       "      <td>'UKM73'</td>\n",
       "      <td>'EH10 7DX'</td>\n",
       "    </tr>\n",
       "    <tr>\n",
       "      <th>2</th>\n",
       "      <td>'UKM73'</td>\n",
       "      <td>'EH10 7DY'</td>\n",
       "    </tr>\n",
       "    <tr>\n",
       "      <th>3</th>\n",
       "      <td>'UKM73'</td>\n",
       "      <td>'EH10 7DZ'</td>\n",
       "    </tr>\n",
       "    <tr>\n",
       "      <th>4</th>\n",
       "      <td>'UKM73'</td>\n",
       "      <td>'EH10 7EA'</td>\n",
       "    </tr>\n",
       "  </tbody>\n",
       "</table>\n",
       "</div>"
      ],
      "text/plain": [
       "     NUTS3        CODE\n",
       "0  'UKM73'  'EH10 7DP'\n",
       "1  'UKM73'  'EH10 7DX'\n",
       "2  'UKM73'  'EH10 7DY'\n",
       "3  'UKM73'  'EH10 7DZ'\n",
       "4  'UKM73'  'EH10 7EA'"
      ]
     },
     "execution_count": 3,
     "metadata": {},
     "output_type": "execute_result"
    }
   ],
   "source": [
    "addnuts = pd.read_csv('pc2018_uk_NUTS-2016_v2.0.csv', sep=';')\n",
    "\n",
    "print(addnuts.shape)\n",
    "addnuts.head()"
   ]
  },
  {
   "cell_type": "code",
   "execution_count": 4,
   "metadata": {},
   "outputs": [],
   "source": [
    "def remove_quotes(x):\n",
    "    return str(x)[1:-1]"
   ]
  },
  {
   "cell_type": "code",
   "execution_count": 5,
   "metadata": {},
   "outputs": [
    {
     "data": {
      "text/html": [
       "<div>\n",
       "<style scoped>\n",
       "    .dataframe tbody tr th:only-of-type {\n",
       "        vertical-align: middle;\n",
       "    }\n",
       "\n",
       "    .dataframe tbody tr th {\n",
       "        vertical-align: top;\n",
       "    }\n",
       "\n",
       "    .dataframe thead th {\n",
       "        text-align: right;\n",
       "    }\n",
       "</style>\n",
       "<table border=\"1\" class=\"dataframe\">\n",
       "  <thead>\n",
       "    <tr style=\"text-align: right;\">\n",
       "      <th></th>\n",
       "      <th>NUTS3</th>\n",
       "      <th>CODE</th>\n",
       "    </tr>\n",
       "  </thead>\n",
       "  <tbody>\n",
       "    <tr>\n",
       "      <th>0</th>\n",
       "      <td>UKM73</td>\n",
       "      <td>EH10 7DP</td>\n",
       "    </tr>\n",
       "    <tr>\n",
       "      <th>1</th>\n",
       "      <td>UKM73</td>\n",
       "      <td>EH10 7DX</td>\n",
       "    </tr>\n",
       "  </tbody>\n",
       "</table>\n",
       "</div>"
      ],
      "text/plain": [
       "   NUTS3      CODE\n",
       "0  UKM73  EH10 7DP\n",
       "1  UKM73  EH10 7DX"
      ]
     },
     "execution_count": 5,
     "metadata": {},
     "output_type": "execute_result"
    }
   ],
   "source": [
    "addnuts['NUTS3'] = addnuts['NUTS3'].apply(remove_quotes)\n",
    "addnuts['CODE'] = addnuts['CODE'].apply(remove_quotes)\n",
    "\n",
    "addnuts.head(2)"
   ]
  },
  {
   "cell_type": "code",
   "execution_count": 6,
   "metadata": {},
   "outputs": [
    {
     "data": {
      "text/html": [
       "<div>\n",
       "<style scoped>\n",
       "    .dataframe tbody tr th:only-of-type {\n",
       "        vertical-align: middle;\n",
       "    }\n",
       "\n",
       "    .dataframe tbody tr th {\n",
       "        vertical-align: top;\n",
       "    }\n",
       "\n",
       "    .dataframe thead th {\n",
       "        text-align: right;\n",
       "    }\n",
       "</style>\n",
       "<table border=\"1\" class=\"dataframe\">\n",
       "  <thead>\n",
       "    <tr style=\"text-align: right;\">\n",
       "      <th></th>\n",
       "      <th>Post</th>\n",
       "      <th>Nuts3</th>\n",
       "    </tr>\n",
       "  </thead>\n",
       "  <tbody>\n",
       "    <tr>\n",
       "      <th>0</th>\n",
       "      <td>EH10 7DP</td>\n",
       "      <td>UKM73</td>\n",
       "    </tr>\n",
       "    <tr>\n",
       "      <th>1</th>\n",
       "      <td>EH10 7DX</td>\n",
       "      <td>UKM73</td>\n",
       "    </tr>\n",
       "  </tbody>\n",
       "</table>\n",
       "</div>"
      ],
      "text/plain": [
       "       Post  Nuts3\n",
       "0  EH10 7DP  UKM73\n",
       "1  EH10 7DX  UKM73"
      ]
     },
     "execution_count": 6,
     "metadata": {},
     "output_type": "execute_result"
    }
   ],
   "source": [
    "addnuts = addnuts[['CODE', 'NUTS3']]\n",
    "addnuts.rename(columns={\"CODE\": \"Post\", \"NUTS3\": \"Nuts3\"}, inplace=True)\n",
    "\n",
    "addnuts.head(2)"
   ]
  },
  {
   "cell_type": "code",
   "execution_count": 7,
   "metadata": {},
   "outputs": [
    {
     "data": {
      "text/plain": [
       "179"
      ]
     },
     "execution_count": 7,
     "metadata": {},
     "output_type": "execute_result"
    }
   ],
   "source": [
    "len(addnuts['Nuts3'].unique())"
   ]
  },
  {
   "cell_type": "code",
   "execution_count": 8,
   "metadata": {},
   "outputs": [
    {
     "data": {
      "text/html": [
       "<div>\n",
       "<style scoped>\n",
       "    .dataframe tbody tr th:only-of-type {\n",
       "        vertical-align: middle;\n",
       "    }\n",
       "\n",
       "    .dataframe tbody tr th {\n",
       "        vertical-align: top;\n",
       "    }\n",
       "\n",
       "    .dataframe thead th {\n",
       "        text-align: right;\n",
       "    }\n",
       "</style>\n",
       "<table border=\"1\" class=\"dataframe\">\n",
       "  <thead>\n",
       "    <tr style=\"text-align: right;\">\n",
       "      <th></th>\n",
       "      <th>EmployerName</th>\n",
       "      <th>Address</th>\n",
       "      <th>CompanyNumber</th>\n",
       "      <th>SicCodes</th>\n",
       "      <th>DiffMeanHourlyPercent</th>\n",
       "      <th>DiffMedianHourlyPercent</th>\n",
       "      <th>DiffMeanBonusPercent</th>\n",
       "      <th>DiffMedianBonusPercent</th>\n",
       "      <th>MaleBonusPercent</th>\n",
       "      <th>FemaleBonusPercent</th>\n",
       "      <th>...</th>\n",
       "      <th>EmployerSize</th>\n",
       "      <th>CurrentName</th>\n",
       "      <th>SubmittedAfterTheDeadline</th>\n",
       "      <th>DueDate</th>\n",
       "      <th>DateSubmitted</th>\n",
       "      <th>Post</th>\n",
       "      <th>Val</th>\n",
       "      <th>MainSic</th>\n",
       "      <th>MainSection</th>\n",
       "      <th>Nuts3</th>\n",
       "    </tr>\n",
       "  </thead>\n",
       "  <tbody>\n",
       "    <tr>\n",
       "      <th>0</th>\n",
       "      <td>BRYANSTON SCHOOL,INCORPORATED</td>\n",
       "      <td>Bryanston House,\\r\\r\\r\\r\\nBlandford,\\r\\r\\r\\r\\n...</td>\n",
       "      <td>00226143</td>\n",
       "      <td>85310</td>\n",
       "      <td>19.6</td>\n",
       "      <td>32.5</td>\n",
       "      <td>NaN</td>\n",
       "      <td>NaN</td>\n",
       "      <td>0.0</td>\n",
       "      <td>0.0</td>\n",
       "      <td>...</td>\n",
       "      <td>500 to 999</td>\n",
       "      <td>\"Bryanston School\",Incorporated</td>\n",
       "      <td>False</td>\n",
       "      <td>05/04/2019 00:00:00</td>\n",
       "      <td>03/04/2019 13:43:34</td>\n",
       "      <td>DT11 0PX</td>\n",
       "      <td>True</td>\n",
       "      <td>85310</td>\n",
       "      <td>Education</td>\n",
       "      <td>UKK22</td>\n",
       "    </tr>\n",
       "    <tr>\n",
       "      <th>1</th>\n",
       "      <td>RED BAND CHEMICAL COMPANY, LIMITED</td>\n",
       "      <td>19 Smith's Place,\\r\\r\\r\\r\\nLeith Walk,\\r\\r\\r\\r...</td>\n",
       "      <td>SC016876</td>\n",
       "      <td>47730</td>\n",
       "      <td>7.7</td>\n",
       "      <td>-4.2</td>\n",
       "      <td>23.7</td>\n",
       "      <td>-75.2</td>\n",
       "      <td>22.2</td>\n",
       "      <td>82.0</td>\n",
       "      <td>...</td>\n",
       "      <td>250 to 499</td>\n",
       "      <td>\"RED BAND\" CHEMICAL COMPANY, LIMITED</td>\n",
       "      <td>False</td>\n",
       "      <td>05/04/2019 00:00:00</td>\n",
       "      <td>01/04/2019 12:37:21</td>\n",
       "      <td>EH6 8NU</td>\n",
       "      <td>True</td>\n",
       "      <td>47730</td>\n",
       "      <td>Wholesale and retail trade; repair of motor ve...</td>\n",
       "      <td>UKM75</td>\n",
       "    </tr>\n",
       "  </tbody>\n",
       "</table>\n",
       "<p>2 rows × 30 columns</p>\n",
       "</div>"
      ],
      "text/plain": [
       "                         EmployerName  \\\n",
       "0       BRYANSTON SCHOOL,INCORPORATED   \n",
       "1  RED BAND CHEMICAL COMPANY, LIMITED   \n",
       "\n",
       "                                             Address CompanyNumber SicCodes  \\\n",
       "0  Bryanston House,\\r\\r\\r\\r\\nBlandford,\\r\\r\\r\\r\\n...      00226143    85310   \n",
       "1  19 Smith's Place,\\r\\r\\r\\r\\nLeith Walk,\\r\\r\\r\\r...      SC016876    47730   \n",
       "\n",
       "   DiffMeanHourlyPercent  DiffMedianHourlyPercent  DiffMeanBonusPercent  \\\n",
       "0                   19.6                     32.5                   NaN   \n",
       "1                    7.7                     -4.2                  23.7   \n",
       "\n",
       "   DiffMedianBonusPercent  MaleBonusPercent  FemaleBonusPercent  ...  \\\n",
       "0                     NaN               0.0                 0.0  ...   \n",
       "1                   -75.2              22.2                82.0  ...   \n",
       "\n",
       "   EmployerSize                           CurrentName  \\\n",
       "0    500 to 999       \"Bryanston School\",Incorporated   \n",
       "1    250 to 499  \"RED BAND\" CHEMICAL COMPANY, LIMITED   \n",
       "\n",
       "   SubmittedAfterTheDeadline              DueDate        DateSubmitted  \\\n",
       "0                      False  05/04/2019 00:00:00  03/04/2019 13:43:34   \n",
       "1                      False  05/04/2019 00:00:00  01/04/2019 12:37:21   \n",
       "\n",
       "       Post   Val  MainSic                                        MainSection  \\\n",
       "0  DT11 0PX  True    85310                                          Education   \n",
       "1   EH6 8NU  True    47730  Wholesale and retail trade; repair of motor ve...   \n",
       "\n",
       "   Nuts3  \n",
       "0  UKK22  \n",
       "1  UKM75  \n",
       "\n",
       "[2 rows x 30 columns]"
      ]
     },
     "execution_count": 8,
     "metadata": {},
     "output_type": "execute_result"
    }
   ],
   "source": [
    "borig = pd.merge(borig, addnuts, on='Post')\n",
    "\n",
    "borig.head(2)"
   ]
  },
  {
   "cell_type": "code",
   "execution_count": 9,
   "metadata": {},
   "outputs": [
    {
     "name": "stdout",
     "output_type": "stream",
     "text": [
      "(172, 2)\n"
     ]
    },
    {
     "data": {
      "text/html": [
       "<div>\n",
       "<style scoped>\n",
       "    .dataframe tbody tr th:only-of-type {\n",
       "        vertical-align: middle;\n",
       "    }\n",
       "\n",
       "    .dataframe tbody tr th {\n",
       "        vertical-align: top;\n",
       "    }\n",
       "\n",
       "    .dataframe thead th {\n",
       "        text-align: right;\n",
       "    }\n",
       "</style>\n",
       "<table border=\"1\" class=\"dataframe\">\n",
       "  <thead>\n",
       "    <tr style=\"text-align: right;\">\n",
       "      <th></th>\n",
       "      <th>Nuts3</th>\n",
       "      <th>Diff_avg</th>\n",
       "    </tr>\n",
       "  </thead>\n",
       "  <tbody>\n",
       "    <tr>\n",
       "      <th>0</th>\n",
       "      <td>UKN14</td>\n",
       "      <td>25.55</td>\n",
       "    </tr>\n",
       "    <tr>\n",
       "      <th>1</th>\n",
       "      <td>UKM61</td>\n",
       "      <td>24.30</td>\n",
       "    </tr>\n",
       "  </tbody>\n",
       "</table>\n",
       "</div>"
      ],
      "text/plain": [
       "   Nuts3  Diff_avg\n",
       "0  UKN14     25.55\n",
       "1  UKM61     24.30"
      ]
     },
     "execution_count": 9,
     "metadata": {},
     "output_type": "execute_result"
    }
   ],
   "source": [
    "n_piv = pivot_table(borig, values='DiffMeanHourlyPercent',\n",
    "                     index=['Nuts3'], aggfunc=np.mean)\n",
    "\n",
    "\n",
    "n_piv.rename(columns={'DiffMeanHourlyPercent':'Diff_avg'}, inplace=True)\n",
    "n_piv.sort_values(by=['Diff_avg'], ascending=False, inplace=True)\n",
    "n_piv['Diff_avg'] = round(n_piv['Diff_avg'], 2)\n",
    "n_piv.reset_index(inplace=True)\n",
    "\n",
    "print(n_piv.shape)\n",
    "\n",
    "n_piv.head(2)"
   ]
  },
  {
   "cell_type": "code",
   "execution_count": 10,
   "metadata": {},
   "outputs": [
    {
     "name": "stdout",
     "output_type": "stream",
     "text": [
      "(179, 9)\n"
     ]
    },
    {
     "data": {
      "text/html": [
       "<div>\n",
       "<style scoped>\n",
       "    .dataframe tbody tr th:only-of-type {\n",
       "        vertical-align: middle;\n",
       "    }\n",
       "\n",
       "    .dataframe tbody tr th {\n",
       "        vertical-align: top;\n",
       "    }\n",
       "\n",
       "    .dataframe thead th {\n",
       "        text-align: right;\n",
       "    }\n",
       "</style>\n",
       "<table border=\"1\" class=\"dataframe\">\n",
       "  <thead>\n",
       "    <tr style=\"text-align: right;\">\n",
       "      <th></th>\n",
       "      <th>objectid</th>\n",
       "      <th>nuts318cd</th>\n",
       "      <th>nuts318nm</th>\n",
       "      <th>bng_e</th>\n",
       "      <th>bng_n</th>\n",
       "      <th>long</th>\n",
       "      <th>lat</th>\n",
       "      <th>st_areashape</th>\n",
       "      <th>st_lengthshape</th>\n",
       "    </tr>\n",
       "  </thead>\n",
       "  <tbody>\n",
       "    <tr>\n",
       "      <th>0</th>\n",
       "      <td>1</td>\n",
       "      <td>UKC11</td>\n",
       "      <td>Hartlepool and Stockton-on-Tees</td>\n",
       "      <td>444952</td>\n",
       "      <td>522016</td>\n",
       "      <td>-1.30587</td>\n",
       "      <td>54.591351</td>\n",
       "      <td>3.014553e+08</td>\n",
       "      <td>108085.925509</td>\n",
       "    </tr>\n",
       "    <tr>\n",
       "      <th>1</th>\n",
       "      <td>2</td>\n",
       "      <td>UKC12</td>\n",
       "      <td>South Teesside</td>\n",
       "      <td>461718</td>\n",
       "      <td>519597</td>\n",
       "      <td>-1.04695</td>\n",
       "      <td>54.567848</td>\n",
       "      <td>3.027700e+08</td>\n",
       "      <td>86922.520900</td>\n",
       "    </tr>\n",
       "  </tbody>\n",
       "</table>\n",
       "</div>"
      ],
      "text/plain": [
       "   objectid nuts318cd                        nuts318nm   bng_e   bng_n  \\\n",
       "0         1     UKC11  Hartlepool and Stockton-on-Tees  444952  522016   \n",
       "1         2     UKC12                   South Teesside  461718  519597   \n",
       "\n",
       "      long        lat  st_areashape  st_lengthshape  \n",
       "0 -1.30587  54.591351  3.014553e+08   108085.925509  \n",
       "1 -1.04695  54.567848  3.027700e+08    86922.520900  "
      ]
     },
     "execution_count": 10,
     "metadata": {},
     "output_type": "execute_result"
    }
   ],
   "source": [
    "nuts_name = pd.read_csv('NUTS_Level_3_January_2018_Ultra_Generalised_Clipped_Boundaries_in_the_United_Kingdom.csv')\n",
    "\n",
    "print(nuts_name.shape)\n",
    "nuts_name.head(2)"
   ]
  },
  {
   "cell_type": "code",
   "execution_count": 11,
   "metadata": {},
   "outputs": [
    {
     "data": {
      "text/html": [
       "<div>\n",
       "<style scoped>\n",
       "    .dataframe tbody tr th:only-of-type {\n",
       "        vertical-align: middle;\n",
       "    }\n",
       "\n",
       "    .dataframe tbody tr th {\n",
       "        vertical-align: top;\n",
       "    }\n",
       "\n",
       "    .dataframe thead th {\n",
       "        text-align: right;\n",
       "    }\n",
       "</style>\n",
       "<table border=\"1\" class=\"dataframe\">\n",
       "  <thead>\n",
       "    <tr style=\"text-align: right;\">\n",
       "      <th></th>\n",
       "      <th>Nuts3</th>\n",
       "      <th>Name</th>\n",
       "      <th>lat</th>\n",
       "      <th>lon</th>\n",
       "    </tr>\n",
       "  </thead>\n",
       "  <tbody>\n",
       "    <tr>\n",
       "      <th>0</th>\n",
       "      <td>UKC11</td>\n",
       "      <td>Hartlepool and Stockton-on-Tees</td>\n",
       "      <td>54.591351</td>\n",
       "      <td>-1.30587</td>\n",
       "    </tr>\n",
       "    <tr>\n",
       "      <th>1</th>\n",
       "      <td>UKC12</td>\n",
       "      <td>South Teesside</td>\n",
       "      <td>54.567848</td>\n",
       "      <td>-1.04695</td>\n",
       "    </tr>\n",
       "    <tr>\n",
       "      <th>2</th>\n",
       "      <td>UKC13</td>\n",
       "      <td>Darlington</td>\n",
       "      <td>54.535351</td>\n",
       "      <td>-1.56835</td>\n",
       "    </tr>\n",
       "    <tr>\n",
       "      <th>3</th>\n",
       "      <td>UKC14</td>\n",
       "      <td>Durham CC</td>\n",
       "      <td>54.685131</td>\n",
       "      <td>-1.84050</td>\n",
       "    </tr>\n",
       "    <tr>\n",
       "      <th>4</th>\n",
       "      <td>UKC21</td>\n",
       "      <td>Northumberland</td>\n",
       "      <td>55.300369</td>\n",
       "      <td>-2.07521</td>\n",
       "    </tr>\n",
       "  </tbody>\n",
       "</table>\n",
       "</div>"
      ],
      "text/plain": [
       "   Nuts3                             Name        lat      lon\n",
       "0  UKC11  Hartlepool and Stockton-on-Tees  54.591351 -1.30587\n",
       "1  UKC12                   South Teesside  54.567848 -1.04695\n",
       "2  UKC13                       Darlington  54.535351 -1.56835\n",
       "3  UKC14                        Durham CC  54.685131 -1.84050\n",
       "4  UKC21                   Northumberland  55.300369 -2.07521"
      ]
     },
     "execution_count": 11,
     "metadata": {},
     "output_type": "execute_result"
    }
   ],
   "source": [
    "nuts_name = nuts_name[['nuts318cd','nuts318nm','lat','long']]\n",
    "nuts_name.rename(columns={'nuts318cd':'Nuts3','nuts318nm':'Name','long':'lon'}, inplace=True)\n",
    "\n",
    "nuts_name.head()"
   ]
  },
  {
   "cell_type": "code",
   "execution_count": 12,
   "metadata": {},
   "outputs": [
    {
     "data": {
      "text/html": [
       "<div>\n",
       "<style scoped>\n",
       "    .dataframe tbody tr th:only-of-type {\n",
       "        vertical-align: middle;\n",
       "    }\n",
       "\n",
       "    .dataframe tbody tr th {\n",
       "        vertical-align: top;\n",
       "    }\n",
       "\n",
       "    .dataframe thead th {\n",
       "        text-align: right;\n",
       "    }\n",
       "</style>\n",
       "<table border=\"1\" class=\"dataframe\">\n",
       "  <thead>\n",
       "    <tr style=\"text-align: right;\">\n",
       "      <th></th>\n",
       "      <th>Nuts3</th>\n",
       "      <th>Diff_avg</th>\n",
       "    </tr>\n",
       "  </thead>\n",
       "  <tbody>\n",
       "    <tr>\n",
       "      <th>167</th>\n",
       "      <td>UKM94</td>\n",
       "      <td>4.96</td>\n",
       "    </tr>\n",
       "    <tr>\n",
       "      <th>168</th>\n",
       "      <td>UKL14</td>\n",
       "      <td>3.03</td>\n",
       "    </tr>\n",
       "    <tr>\n",
       "      <th>169</th>\n",
       "      <td>UKN11</td>\n",
       "      <td>1.13</td>\n",
       "    </tr>\n",
       "    <tr>\n",
       "      <th>170</th>\n",
       "      <td>UKN07</td>\n",
       "      <td>-1.13</td>\n",
       "    </tr>\n",
       "    <tr>\n",
       "      <th>171</th>\n",
       "      <td>UKN15</td>\n",
       "      <td>-5.60</td>\n",
       "    </tr>\n",
       "  </tbody>\n",
       "</table>\n",
       "</div>"
      ],
      "text/plain": [
       "     Nuts3  Diff_avg\n",
       "167  UKM94      4.96\n",
       "168  UKL14      3.03\n",
       "169  UKN11      1.13\n",
       "170  UKN07     -1.13\n",
       "171  UKN15     -5.60"
      ]
     },
     "execution_count": 12,
     "metadata": {},
     "output_type": "execute_result"
    }
   ],
   "source": [
    "n_piv.tail()"
   ]
  },
  {
   "cell_type": "code",
   "execution_count": 13,
   "metadata": {},
   "outputs": [
    {
     "data": {
      "text/plain": [
       "['UKM64', 'UKM65', 'UKM66', 'UKN08', 'UKN09', 'UKN10', 'UKN12']"
      ]
     },
     "execution_count": 13,
     "metadata": {},
     "output_type": "execute_result"
    }
   ],
   "source": [
    "diff_list = [item for item in nuts_name.Nuts3.tolist() if item not in n_piv.Nuts3.tolist()]\n",
    "\n",
    "diff_list"
   ]
  },
  {
   "cell_type": "code",
   "execution_count": 14,
   "metadata": {},
   "outputs": [
    {
     "data": {
      "text/html": [
       "<div>\n",
       "<style scoped>\n",
       "    .dataframe tbody tr th:only-of-type {\n",
       "        vertical-align: middle;\n",
       "    }\n",
       "\n",
       "    .dataframe tbody tr th {\n",
       "        vertical-align: top;\n",
       "    }\n",
       "\n",
       "    .dataframe thead th {\n",
       "        text-align: right;\n",
       "    }\n",
       "</style>\n",
       "<table border=\"1\" class=\"dataframe\">\n",
       "  <thead>\n",
       "    <tr style=\"text-align: right;\">\n",
       "      <th></th>\n",
       "      <th>Nuts3</th>\n",
       "      <th>Diff_avg</th>\n",
       "    </tr>\n",
       "  </thead>\n",
       "  <tbody>\n",
       "    <tr>\n",
       "      <th>169</th>\n",
       "      <td>UKN11</td>\n",
       "      <td>1.13</td>\n",
       "    </tr>\n",
       "    <tr>\n",
       "      <th>170</th>\n",
       "      <td>UKN07</td>\n",
       "      <td>-1.13</td>\n",
       "    </tr>\n",
       "    <tr>\n",
       "      <th>171</th>\n",
       "      <td>UKN15</td>\n",
       "      <td>-5.60</td>\n",
       "    </tr>\n",
       "    <tr>\n",
       "      <th>172</th>\n",
       "      <td>UKM64</td>\n",
       "      <td>0.00</td>\n",
       "    </tr>\n",
       "    <tr>\n",
       "      <th>173</th>\n",
       "      <td>UKM65</td>\n",
       "      <td>0.00</td>\n",
       "    </tr>\n",
       "    <tr>\n",
       "      <th>174</th>\n",
       "      <td>UKM66</td>\n",
       "      <td>0.00</td>\n",
       "    </tr>\n",
       "    <tr>\n",
       "      <th>175</th>\n",
       "      <td>UKN08</td>\n",
       "      <td>0.00</td>\n",
       "    </tr>\n",
       "    <tr>\n",
       "      <th>176</th>\n",
       "      <td>UKN09</td>\n",
       "      <td>0.00</td>\n",
       "    </tr>\n",
       "    <tr>\n",
       "      <th>177</th>\n",
       "      <td>UKN10</td>\n",
       "      <td>0.00</td>\n",
       "    </tr>\n",
       "    <tr>\n",
       "      <th>178</th>\n",
       "      <td>UKN12</td>\n",
       "      <td>0.00</td>\n",
       "    </tr>\n",
       "  </tbody>\n",
       "</table>\n",
       "</div>"
      ],
      "text/plain": [
       "     Nuts3  Diff_avg\n",
       "169  UKN11      1.13\n",
       "170  UKN07     -1.13\n",
       "171  UKN15     -5.60\n",
       "172  UKM64      0.00\n",
       "173  UKM65      0.00\n",
       "174  UKM66      0.00\n",
       "175  UKN08      0.00\n",
       "176  UKN09      0.00\n",
       "177  UKN10      0.00\n",
       "178  UKN12      0.00"
      ]
     },
     "execution_count": 14,
     "metadata": {},
     "output_type": "execute_result"
    }
   ],
   "source": [
    "all_piv = n_piv.copy()\n",
    "\n",
    "all_piv.loc[172] = ['UKM64', 0]\n",
    "all_piv.loc[173] = ['UKM65', 0]\n",
    "all_piv.loc[174] = ['UKM66', 0]\n",
    "all_piv.loc[175] = ['UKN08', 0]\n",
    "all_piv.loc[176] = ['UKN09', 0]\n",
    "all_piv.loc[177] = ['UKN10', 0]\n",
    "all_piv.loc[178] = ['UKN12', 0]\n",
    "\n",
    "all_piv.tail(10)"
   ]
  },
  {
   "cell_type": "code",
   "execution_count": 15,
   "metadata": {},
   "outputs": [
    {
     "data": {
      "text/html": [
       "<div>\n",
       "<style scoped>\n",
       "    .dataframe tbody tr th:only-of-type {\n",
       "        vertical-align: middle;\n",
       "    }\n",
       "\n",
       "    .dataframe tbody tr th {\n",
       "        vertical-align: top;\n",
       "    }\n",
       "\n",
       "    .dataframe thead th {\n",
       "        text-align: right;\n",
       "    }\n",
       "</style>\n",
       "<table border=\"1\" class=\"dataframe\">\n",
       "  <thead>\n",
       "    <tr style=\"text-align: right;\">\n",
       "      <th></th>\n",
       "      <th>Nuts3</th>\n",
       "      <th>Diff_avg</th>\n",
       "      <th>Name</th>\n",
       "      <th>lat</th>\n",
       "      <th>lon</th>\n",
       "    </tr>\n",
       "  </thead>\n",
       "  <tbody>\n",
       "    <tr>\n",
       "      <th>174</th>\n",
       "      <td>UKM66</td>\n",
       "      <td>0.0</td>\n",
       "      <td>Shetland Islands</td>\n",
       "      <td>60.504951</td>\n",
       "      <td>-1.37344</td>\n",
       "    </tr>\n",
       "    <tr>\n",
       "      <th>175</th>\n",
       "      <td>UKN08</td>\n",
       "      <td>0.0</td>\n",
       "      <td>Newry, Mourne and Down</td>\n",
       "      <td>54.149399</td>\n",
       "      <td>-6.08791</td>\n",
       "    </tr>\n",
       "    <tr>\n",
       "      <th>176</th>\n",
       "      <td>UKN09</td>\n",
       "      <td>0.0</td>\n",
       "      <td>Ards and North Down</td>\n",
       "      <td>54.563999</td>\n",
       "      <td>-5.64464</td>\n",
       "    </tr>\n",
       "    <tr>\n",
       "      <th>177</th>\n",
       "      <td>UKN10</td>\n",
       "      <td>0.0</td>\n",
       "      <td>Derry City and Strabane</td>\n",
       "      <td>54.808990</td>\n",
       "      <td>-7.41980</td>\n",
       "    </tr>\n",
       "    <tr>\n",
       "      <th>178</th>\n",
       "      <td>UKN12</td>\n",
       "      <td>0.0</td>\n",
       "      <td>Causeway Coast and Glens</td>\n",
       "      <td>55.039589</td>\n",
       "      <td>-6.59867</td>\n",
       "    </tr>\n",
       "  </tbody>\n",
       "</table>\n",
       "</div>"
      ],
      "text/plain": [
       "     Nuts3  Diff_avg                      Name        lat      lon\n",
       "174  UKM66       0.0          Shetland Islands  60.504951 -1.37344\n",
       "175  UKN08       0.0    Newry, Mourne and Down  54.149399 -6.08791\n",
       "176  UKN09       0.0       Ards and North Down  54.563999 -5.64464\n",
       "177  UKN10       0.0   Derry City and Strabane  54.808990 -7.41980\n",
       "178  UKN12       0.0  Causeway Coast and Glens  55.039589 -6.59867"
      ]
     },
     "execution_count": 15,
     "metadata": {},
     "output_type": "execute_result"
    }
   ],
   "source": [
    "all_piv = pd.merge(all_piv, nuts_name, on='Nuts3')\n",
    "\n",
    "all_piv.tail(5)"
   ]
  },
  {
   "cell_type": "code",
   "execution_count": 16,
   "metadata": {},
   "outputs": [
    {
     "data": {
      "text/plain": [
       "UKM93    9\n",
       "UKM81    9\n",
       "UKK42    9\n",
       "UKM78    9\n",
       "UKL24    8\n",
       "UKJ34    7\n",
       "UKL12    5\n",
       "UKN16    4\n",
       "UKN07    3\n",
       "UKM61    3\n",
       "UKN11    3\n",
       "UKN06    3\n",
       "UKM63    2\n",
       "UKN14    2\n",
       "UKN13    1\n",
       "UKL11    1\n",
       "UKN15    1\n",
       "Name: Nuts3, dtype: int64"
      ]
     },
     "execution_count": 16,
     "metadata": {},
     "output_type": "execute_result"
    }
   ],
   "source": [
    "borig.Nuts3.value_counts()[borig.Nuts3.value_counts().between(0,9)]"
   ]
  },
  {
   "cell_type": "code",
   "execution_count": 17,
   "metadata": {},
   "outputs": [],
   "source": [
    "small_sample_list = borig.Nuts3.value_counts()[borig.Nuts3.value_counts().between(0,9)].index.tolist()"
   ]
  },
  {
   "cell_type": "code",
   "execution_count": 18,
   "metadata": {},
   "outputs": [
    {
     "data": {
      "text/html": [
       "<div>\n",
       "<style scoped>\n",
       "    .dataframe tbody tr th:only-of-type {\n",
       "        vertical-align: middle;\n",
       "    }\n",
       "\n",
       "    .dataframe tbody tr th {\n",
       "        vertical-align: top;\n",
       "    }\n",
       "\n",
       "    .dataframe thead th {\n",
       "        text-align: right;\n",
       "    }\n",
       "</style>\n",
       "<table border=\"1\" class=\"dataframe\">\n",
       "  <thead>\n",
       "    <tr style=\"text-align: right;\">\n",
       "      <th></th>\n",
       "      <th>Nuts3</th>\n",
       "      <th>Diff_avg</th>\n",
       "      <th>Name</th>\n",
       "      <th>lat</th>\n",
       "      <th>lon</th>\n",
       "    </tr>\n",
       "  </thead>\n",
       "  <tbody>\n",
       "    <tr>\n",
       "      <th>177</th>\n",
       "      <td>UKN13</td>\n",
       "      <td>0.0</td>\n",
       "      <td>Antrim and Newtownabbey</td>\n",
       "      <td>54.693790</td>\n",
       "      <td>-6.17661</td>\n",
       "    </tr>\n",
       "    <tr>\n",
       "      <th>178</th>\n",
       "      <td>UKN12</td>\n",
       "      <td>0.0</td>\n",
       "      <td>Causeway Coast and Glens</td>\n",
       "      <td>55.039589</td>\n",
       "      <td>-6.59867</td>\n",
       "    </tr>\n",
       "  </tbody>\n",
       "</table>\n",
       "</div>"
      ],
      "text/plain": [
       "     Nuts3  Diff_avg                      Name        lat      lon\n",
       "177  UKN13       0.0   Antrim and Newtownabbey  54.693790 -6.17661\n",
       "178  UKN12       0.0  Causeway Coast and Glens  55.039589 -6.59867"
      ]
     },
     "execution_count": 18,
     "metadata": {},
     "output_type": "execute_result"
    }
   ],
   "source": [
    "for i in small_sample_list:\n",
    "    \n",
    "    all_piv.loc[all_piv.Nuts3 == i, 'Diff_avg'] = 0\n",
    "    \n",
    "all_piv.sort_values(by=['Diff_avg'], ascending=False, inplace=True)\n",
    "all_piv.reset_index(drop=True, inplace=True)\n",
    "\n",
    "all_piv.tail(2)"
   ]
  },
  {
   "cell_type": "code",
   "execution_count": 19,
   "metadata": {},
   "outputs": [],
   "source": [
    "def layer_text(x):\n",
    "    if x == 0:\n",
    "        return 'No Data'\n",
    "    else:\n",
    "        return '{}%'.format(int(round(x, 0)))"
   ]
  },
  {
   "cell_type": "code",
   "execution_count": 20,
   "metadata": {},
   "outputs": [
    {
     "data": {
      "text/html": [
       "<div>\n",
       "<style scoped>\n",
       "    .dataframe tbody tr th:only-of-type {\n",
       "        vertical-align: middle;\n",
       "    }\n",
       "\n",
       "    .dataframe tbody tr th {\n",
       "        vertical-align: top;\n",
       "    }\n",
       "\n",
       "    .dataframe thead th {\n",
       "        text-align: right;\n",
       "    }\n",
       "</style>\n",
       "<table border=\"1\" class=\"dataframe\">\n",
       "  <thead>\n",
       "    <tr style=\"text-align: right;\">\n",
       "      <th></th>\n",
       "      <th>Nuts3</th>\n",
       "      <th>Diff_avg</th>\n",
       "      <th>Name</th>\n",
       "      <th>lat</th>\n",
       "      <th>lon</th>\n",
       "      <th>Text</th>\n",
       "      <th>Rank</th>\n",
       "    </tr>\n",
       "  </thead>\n",
       "  <tbody>\n",
       "    <tr>\n",
       "      <th>177</th>\n",
       "      <td>UKN13</td>\n",
       "      <td>0.0</td>\n",
       "      <td>Antrim and Newtownabbey</td>\n",
       "      <td>54.693790</td>\n",
       "      <td>-6.17661</td>\n",
       "      <td>No Data</td>\n",
       "      <td>1</td>\n",
       "    </tr>\n",
       "    <tr>\n",
       "      <th>178</th>\n",
       "      <td>UKN12</td>\n",
       "      <td>0.0</td>\n",
       "      <td>Causeway Coast and Glens</td>\n",
       "      <td>55.039589</td>\n",
       "      <td>-6.59867</td>\n",
       "      <td>No Data</td>\n",
       "      <td>1</td>\n",
       "    </tr>\n",
       "  </tbody>\n",
       "</table>\n",
       "</div>"
      ],
      "text/plain": [
       "     Nuts3  Diff_avg                      Name        lat      lon     Text  \\\n",
       "177  UKN13       0.0   Antrim and Newtownabbey  54.693790 -6.17661  No Data   \n",
       "178  UKN12       0.0  Causeway Coast and Glens  55.039589 -6.59867  No Data   \n",
       "\n",
       "     Rank  \n",
       "177     1  \n",
       "178     1  "
      ]
     },
     "execution_count": 20,
     "metadata": {},
     "output_type": "execute_result"
    }
   ],
   "source": [
    "all_piv['Text'] = all_piv['Diff_avg'].apply(layer_text)\n",
    "all_piv['Rank'] = round(all_piv['Diff_avg'], 0).rank(method='dense').astype(int)\n",
    "\n",
    "all_piv.tail(2)"
   ]
  },
  {
   "cell_type": "code",
   "execution_count": 46,
   "metadata": {},
   "outputs": [],
   "source": [
    "# all_piv.to_csv('2018nuts3allukavg.csv')"
   ]
  },
  {
   "cell_type": "markdown",
   "metadata": {},
   "source": [
    "## Company Min Max"
   ]
  },
  {
   "cell_type": "code",
   "execution_count": 27,
   "metadata": {},
   "outputs": [
    {
     "data": {
      "text/plain": [
       "(10590, 30)"
      ]
     },
     "execution_count": 27,
     "metadata": {},
     "output_type": "execute_result"
    }
   ],
   "source": [
    "bedit = borig.copy()\n",
    "\n",
    "bedit.shape"
   ]
  },
  {
   "cell_type": "code",
   "execution_count": 28,
   "metadata": {},
   "outputs": [
    {
     "data": {
      "text/html": [
       "<div>\n",
       "<style scoped>\n",
       "    .dataframe tbody tr th:only-of-type {\n",
       "        vertical-align: middle;\n",
       "    }\n",
       "\n",
       "    .dataframe tbody tr th {\n",
       "        vertical-align: top;\n",
       "    }\n",
       "\n",
       "    .dataframe thead th {\n",
       "        text-align: right;\n",
       "    }\n",
       "</style>\n",
       "<table border=\"1\" class=\"dataframe\">\n",
       "  <thead>\n",
       "    <tr style=\"text-align: right;\">\n",
       "      <th></th>\n",
       "      <th>Nuts3</th>\n",
       "      <th>EmployerName</th>\n",
       "      <th>Diff_avg</th>\n",
       "    </tr>\n",
       "  </thead>\n",
       "  <tbody>\n",
       "    <tr>\n",
       "      <th>0</th>\n",
       "      <td>UKK22</td>\n",
       "      <td>BRYANSTON SCHOOL,INCORPORATED</td>\n",
       "      <td>19.6</td>\n",
       "    </tr>\n",
       "    <tr>\n",
       "      <th>1</th>\n",
       "      <td>UKM75</td>\n",
       "      <td>RED BAND CHEMICAL COMPANY, LIMITED</td>\n",
       "      <td>7.7</td>\n",
       "    </tr>\n",
       "  </tbody>\n",
       "</table>\n",
       "</div>"
      ],
      "text/plain": [
       "   Nuts3                        EmployerName  Diff_avg\n",
       "0  UKK22       BRYANSTON SCHOOL,INCORPORATED      19.6\n",
       "1  UKM75  RED BAND CHEMICAL COMPANY, LIMITED       7.7"
      ]
     },
     "execution_count": 28,
     "metadata": {},
     "output_type": "execute_result"
    }
   ],
   "source": [
    "bedit = bedit[['Nuts3', 'EmployerName', 'DiffMeanHourlyPercent']]\n",
    "bedit.rename(columns={'DiffMeanHourlyPercent':'Diff_avg'}, inplace=True)\n",
    "bedit.reset_index(drop=True, inplace=True)\n",
    "\n",
    "bedit.head(2)"
   ]
  },
  {
   "cell_type": "code",
   "execution_count": 30,
   "metadata": {},
   "outputs": [
    {
     "data": {
      "text/html": [
       "<div>\n",
       "<style scoped>\n",
       "    .dataframe tbody tr th:only-of-type {\n",
       "        vertical-align: middle;\n",
       "    }\n",
       "\n",
       "    .dataframe tbody tr th {\n",
       "        vertical-align: top;\n",
       "    }\n",
       "\n",
       "    .dataframe thead th {\n",
       "        text-align: right;\n",
       "    }\n",
       "</style>\n",
       "<table border=\"1\" class=\"dataframe\">\n",
       "  <thead>\n",
       "    <tr style=\"text-align: right;\">\n",
       "      <th></th>\n",
       "      <th>Nuts3</th>\n",
       "      <th>EmployerName</th>\n",
       "      <th>Diff_avg</th>\n",
       "    </tr>\n",
       "  </thead>\n",
       "  <tbody>\n",
       "    <tr>\n",
       "      <th>0</th>\n",
       "      <td>UKK22</td>\n",
       "      <td>BRYANSTON SCHOOL,INCORPORATED</td>\n",
       "      <td>19.6</td>\n",
       "    </tr>\n",
       "    <tr>\n",
       "      <th>1</th>\n",
       "      <td>UKM75</td>\n",
       "      <td>RED BAND CHEMICAL COMPANY, LIMITED</td>\n",
       "      <td>7.7</td>\n",
       "    </tr>\n",
       "    <tr>\n",
       "      <th>2</th>\n",
       "      <td>UKL22</td>\n",
       "      <td>118 LIMITED</td>\n",
       "      <td>7.7</td>\n",
       "    </tr>\n",
       "    <tr>\n",
       "      <th>3</th>\n",
       "      <td>UKE42</td>\n",
       "      <td>123 EMPLOYEES LTD</td>\n",
       "      <td>30.0</td>\n",
       "    </tr>\n",
       "    <tr>\n",
       "      <th>4</th>\n",
       "      <td>UKJ25</td>\n",
       "      <td>1509 GROUP</td>\n",
       "      <td>13.4</td>\n",
       "    </tr>\n",
       "  </tbody>\n",
       "</table>\n",
       "</div>"
      ],
      "text/plain": [
       "   Nuts3                        EmployerName  Diff_avg\n",
       "0  UKK22       BRYANSTON SCHOOL,INCORPORATED      19.6\n",
       "1  UKM75  RED BAND CHEMICAL COMPANY, LIMITED       7.7\n",
       "2  UKL22                         118 LIMITED       7.7\n",
       "3  UKE42                   123 EMPLOYEES LTD      30.0\n",
       "4  UKJ25                          1509 GROUP      13.4"
      ]
     },
     "execution_count": 30,
     "metadata": {},
     "output_type": "execute_result"
    }
   ],
   "source": [
    "bedit.head()"
   ]
  },
  {
   "cell_type": "code",
   "execution_count": 31,
   "metadata": {},
   "outputs": [
    {
     "data": {
      "text/plain": [
       "172"
      ]
     },
     "execution_count": 31,
     "metadata": {},
     "output_type": "execute_result"
    }
   ],
   "source": [
    "len(bedit.Nuts3.unique())"
   ]
  },
  {
   "cell_type": "code",
   "execution_count": 32,
   "metadata": {},
   "outputs": [
    {
     "name": "stdout",
     "output_type": "stream",
     "text": [
      "(310, 3)\n"
     ]
    },
    {
     "data": {
      "text/html": [
       "<div>\n",
       "<style scoped>\n",
       "    .dataframe tbody tr th:only-of-type {\n",
       "        vertical-align: middle;\n",
       "    }\n",
       "\n",
       "    .dataframe tbody tr th {\n",
       "        vertical-align: top;\n",
       "    }\n",
       "\n",
       "    .dataframe thead th {\n",
       "        text-align: right;\n",
       "    }\n",
       "</style>\n",
       "<table border=\"1\" class=\"dataframe\">\n",
       "  <thead>\n",
       "    <tr style=\"text-align: right;\">\n",
       "      <th></th>\n",
       "      <th>Nuts3</th>\n",
       "      <th>EmployerName</th>\n",
       "      <th>Diff_avg</th>\n",
       "    </tr>\n",
       "  </thead>\n",
       "  <tbody>\n",
       "    <tr>\n",
       "      <th>0</th>\n",
       "      <td>UKK22</td>\n",
       "      <td>WIMBORNE ACADEMY TRUST</td>\n",
       "      <td>38.7</td>\n",
       "    </tr>\n",
       "    <tr>\n",
       "      <th>1</th>\n",
       "      <td>UKK22</td>\n",
       "      <td>CLIPPER CONTRACTING GROUP LTD</td>\n",
       "      <td>-8.6</td>\n",
       "    </tr>\n",
       "    <tr>\n",
       "      <th>2</th>\n",
       "      <td>UKM75</td>\n",
       "      <td>SCOTTISH RUGBY UNION LIMITED</td>\n",
       "      <td>50.0</td>\n",
       "    </tr>\n",
       "    <tr>\n",
       "      <th>3</th>\n",
       "      <td>UKM75</td>\n",
       "      <td>THE SCOTTISH SALMON COMPANY LIMITED</td>\n",
       "      <td>-30.0</td>\n",
       "    </tr>\n",
       "    <tr>\n",
       "      <th>4</th>\n",
       "      <td>UKL22</td>\n",
       "      <td>CARDIFF CITY FOOTBALL CLUB LIMITED</td>\n",
       "      <td>76.8</td>\n",
       "    </tr>\n",
       "  </tbody>\n",
       "</table>\n",
       "</div>"
      ],
      "text/plain": [
       "   Nuts3                         EmployerName  Diff_avg\n",
       "0  UKK22               WIMBORNE ACADEMY TRUST      38.7\n",
       "1  UKK22        CLIPPER CONTRACTING GROUP LTD      -8.6\n",
       "2  UKM75         SCOTTISH RUGBY UNION LIMITED      50.0\n",
       "3  UKM75  THE SCOTTISH SALMON COMPANY LIMITED     -30.0\n",
       "4  UKL22   CARDIFF CITY FOOTBALL CLUB LIMITED      76.8"
      ]
     },
     "execution_count": 32,
     "metadata": {},
     "output_type": "execute_result"
    }
   ],
   "source": [
    "bmm = pd.DataFrame(columns=bedit.columns)\n",
    "\n",
    "for i in bedit.Nuts3.unique():\n",
    "    if i not in small_sample_list:\n",
    "        bsample = bedit[bedit.Nuts3 == i]\n",
    "\n",
    "        bmm = bmm.append(bsample[bsample.Diff_avg == bsample.Diff_avg.max()].iloc[0,:], ignore_index=True)\n",
    "        bmm = bmm.append(bsample[bsample.Diff_avg == bsample.Diff_avg.min()].iloc[0,:], ignore_index=True)\n",
    "    \n",
    "bmm.reset_index(drop=True, inplace=True)\n",
    "\n",
    "print(bmm.shape)\n",
    "bmm.head()"
   ]
  },
  {
   "cell_type": "code",
   "execution_count": 36,
   "metadata": {},
   "outputs": [
    {
     "data": {
      "text/html": [
       "<div>\n",
       "<style scoped>\n",
       "    .dataframe tbody tr th:only-of-type {\n",
       "        vertical-align: middle;\n",
       "    }\n",
       "\n",
       "    .dataframe tbody tr th {\n",
       "        vertical-align: top;\n",
       "    }\n",
       "\n",
       "    .dataframe thead th {\n",
       "        text-align: right;\n",
       "    }\n",
       "</style>\n",
       "<table border=\"1\" class=\"dataframe\">\n",
       "  <thead>\n",
       "    <tr style=\"text-align: right;\">\n",
       "      <th></th>\n",
       "      <th>Nuts3</th>\n",
       "      <th>EmployerName</th>\n",
       "      <th>Diff_avg</th>\n",
       "    </tr>\n",
       "  </thead>\n",
       "  <tbody>\n",
       "    <tr>\n",
       "      <th>308</th>\n",
       "      <td>UKM62</td>\n",
       "      <td>GLOBAL ENERGY (GROUP) LIMITED</td>\n",
       "      <td>39.0</td>\n",
       "    </tr>\n",
       "    <tr>\n",
       "      <th>309</th>\n",
       "      <td>UKM62</td>\n",
       "      <td>G &amp; A BARNIE GROUP LIMITED</td>\n",
       "      <td>-9.9</td>\n",
       "    </tr>\n",
       "  </tbody>\n",
       "</table>\n",
       "</div>"
      ],
      "text/plain": [
       "     Nuts3                   EmployerName  Diff_avg\n",
       "308  UKM62  GLOBAL ENERGY (GROUP) LIMITED      39.0\n",
       "309  UKM62     G & A BARNIE GROUP LIMITED      -9.9"
      ]
     },
     "execution_count": 36,
     "metadata": {},
     "output_type": "execute_result"
    }
   ],
   "source": [
    "bmm.tail(2)"
   ]
  },
  {
   "cell_type": "code",
   "execution_count": 38,
   "metadata": {},
   "outputs": [
    {
     "data": {
      "text/html": [
       "<div>\n",
       "<style scoped>\n",
       "    .dataframe tbody tr th:only-of-type {\n",
       "        vertical-align: middle;\n",
       "    }\n",
       "\n",
       "    .dataframe tbody tr th {\n",
       "        vertical-align: top;\n",
       "    }\n",
       "\n",
       "    .dataframe thead th {\n",
       "        text-align: right;\n",
       "    }\n",
       "</style>\n",
       "<table border=\"1\" class=\"dataframe\">\n",
       "  <thead>\n",
       "    <tr style=\"text-align: right;\">\n",
       "      <th></th>\n",
       "      <th>Nuts3</th>\n",
       "      <th>EmployerName</th>\n",
       "      <th>Diff_avg</th>\n",
       "    </tr>\n",
       "  </thead>\n",
       "  <tbody>\n",
       "    <tr>\n",
       "      <th>329</th>\n",
       "      <td>UKM66</td>\n",
       "      <td>N/A</td>\n",
       "      <td>N/A</td>\n",
       "    </tr>\n",
       "    <tr>\n",
       "      <th>330</th>\n",
       "      <td>UKN08</td>\n",
       "      <td>N/A</td>\n",
       "      <td>N/A</td>\n",
       "    </tr>\n",
       "    <tr>\n",
       "      <th>331</th>\n",
       "      <td>UKN09</td>\n",
       "      <td>N/A</td>\n",
       "      <td>N/A</td>\n",
       "    </tr>\n",
       "    <tr>\n",
       "      <th>332</th>\n",
       "      <td>UKN10</td>\n",
       "      <td>N/A</td>\n",
       "      <td>N/A</td>\n",
       "    </tr>\n",
       "    <tr>\n",
       "      <th>333</th>\n",
       "      <td>UKN12</td>\n",
       "      <td>N/A</td>\n",
       "      <td>N/A</td>\n",
       "    </tr>\n",
       "  </tbody>\n",
       "</table>\n",
       "</div>"
      ],
      "text/plain": [
       "     Nuts3 EmployerName Diff_avg\n",
       "329  UKM66          N/A      N/A\n",
       "330  UKN08          N/A      N/A\n",
       "331  UKN09          N/A      N/A\n",
       "332  UKN10          N/A      N/A\n",
       "333  UKN12          N/A      N/A"
      ]
     },
     "execution_count": 38,
     "metadata": {},
     "output_type": "execute_result"
    }
   ],
   "source": [
    "starter = 310\n",
    "for i in (small_sample_list + diff_list):\n",
    "    bmm.loc[starter] = [i, 'N/A', 'N/A']\n",
    "    starter +=1\n",
    "    \n",
    "bmm.tail()"
   ]
  },
  {
   "cell_type": "code",
   "execution_count": 39,
   "metadata": {},
   "outputs": [],
   "source": [
    "# bmm.to_csv('2018allukminmax.csv')"
   ]
  },
  {
   "cell_type": "code",
   "execution_count": 44,
   "metadata": {},
   "outputs": [],
   "source": [
    "missing_coat = all_piv[(all_piv['Nuts3'].str.contains('UKL')) | (all_piv['Nuts3'].str.contains('UKM')) | (all_piv['Nuts3'].str.contains('UKN'))].Nuts3.tolist()"
   ]
  },
  {
   "cell_type": "code",
   "execution_count": 45,
   "metadata": {},
   "outputs": [
    {
     "data": {
      "text/plain": [
       "['UKL2', 'UKM5', 'UKM8', 'UKN1', 'UKL1', 'UKM7', 'UKM6', 'UKN0', 'UKM9']"
      ]
     },
     "execution_count": 45,
     "metadata": {},
     "output_type": "execute_result"
    }
   ],
   "source": [
    "missing_coat =  list(set([item[:-1] for item in missing_coat]))\n",
    "\n",
    "missing_coat"
   ]
  },
  {
   "cell_type": "code",
   "execution_count": null,
   "metadata": {},
   "outputs": [],
   "source": []
  }
 ],
 "metadata": {
  "kernelspec": {
   "display_name": "Python 3",
   "language": "python",
   "name": "python3"
  },
  "language_info": {
   "codemirror_mode": {
    "name": "ipython",
    "version": 3
   },
   "file_extension": ".py",
   "mimetype": "text/x-python",
   "name": "python",
   "nbconvert_exporter": "python",
   "pygments_lexer": "ipython3",
   "version": "3.7.3"
  }
 },
 "nbformat": 4,
 "nbformat_minor": 2
}
