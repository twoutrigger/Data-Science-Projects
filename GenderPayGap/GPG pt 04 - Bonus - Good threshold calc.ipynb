{
 "cells": [
  {
   "cell_type": "code",
   "execution_count": 1,
   "metadata": {},
   "outputs": [],
   "source": [
    "import numpy as np\n",
    "import pandas as pd\n",
    "import matplotlib.pyplot as plt\n",
    "import seaborn as sns"
   ]
  },
  {
   "cell_type": "code",
   "execution_count": 2,
   "metadata": {},
   "outputs": [],
   "source": [
    "# UK Guidelines:\n",
    "\n",
    "# mean gender pay gap in hourly pay\n",
    "# median gender pay gap in hourly pay\n",
    "# mean bonus gender pay gap\n",
    "# median bonus gender pay gap\n",
    "# proportion of males and females receiving a bonus payment\n",
    "# proportion of males and females in each pay quartile"
   ]
  },
  {
   "cell_type": "code",
   "execution_count": null,
   "metadata": {},
   "outputs": [],
   "source": [
    "# NOTE:\n",
    "\n",
    "# There is a lot of bad data for bonuses as +/- 100% is max but many companies exceed this\n",
    "# Once bad data is removed, data looks pretty usable at around 8.5K data points"
   ]
  },
  {
   "cell_type": "code",
   "execution_count": 3,
   "metadata": {},
   "outputs": [
    {
     "name": "stdout",
     "output_type": "stream",
     "text": [
      "(10776, 25)\n"
     ]
    }
   ],
   "source": [
    "borig = pd.read_csv('UK Gender Pay Gap Data - 2018 to 2019.csv', header=0)\n",
    "\n",
    "print(borig.shape)"
   ]
  },
  {
   "cell_type": "code",
   "execution_count": 4,
   "metadata": {},
   "outputs": [
    {
     "data": {
      "text/html": [
       "<div>\n",
       "<style scoped>\n",
       "    .dataframe tbody tr th:only-of-type {\n",
       "        vertical-align: middle;\n",
       "    }\n",
       "\n",
       "    .dataframe tbody tr th {\n",
       "        vertical-align: top;\n",
       "    }\n",
       "\n",
       "    .dataframe thead th {\n",
       "        text-align: right;\n",
       "    }\n",
       "</style>\n",
       "<table border=\"1\" class=\"dataframe\">\n",
       "  <thead>\n",
       "    <tr style=\"text-align: right;\">\n",
       "      <th></th>\n",
       "      <th>EmployerName</th>\n",
       "      <th>Address</th>\n",
       "      <th>CompanyNumber</th>\n",
       "      <th>SicCodes</th>\n",
       "      <th>DiffMeanHourlyPercent</th>\n",
       "      <th>DiffMedianHourlyPercent</th>\n",
       "      <th>DiffMeanBonusPercent</th>\n",
       "      <th>DiffMedianBonusPercent</th>\n",
       "      <th>MaleBonusPercent</th>\n",
       "      <th>FemaleBonusPercent</th>\n",
       "      <th>...</th>\n",
       "      <th>FemaleUpperMiddleQuartile</th>\n",
       "      <th>MaleTopQuartile</th>\n",
       "      <th>FemaleTopQuartile</th>\n",
       "      <th>CompanyLinkToGPGInfo</th>\n",
       "      <th>ResponsiblePerson</th>\n",
       "      <th>EmployerSize</th>\n",
       "      <th>CurrentName</th>\n",
       "      <th>SubmittedAfterTheDeadline</th>\n",
       "      <th>DueDate</th>\n",
       "      <th>DateSubmitted</th>\n",
       "    </tr>\n",
       "  </thead>\n",
       "  <tbody>\n",
       "    <tr>\n",
       "      <th>0</th>\n",
       "      <td>\"Bryanston School\",Incorporated</td>\n",
       "      <td>Bryanston House,\\r\\nBlandford,\\r\\nDorset,\\r\\nU...</td>\n",
       "      <td>00226143</td>\n",
       "      <td>85310</td>\n",
       "      <td>19.6</td>\n",
       "      <td>32.5</td>\n",
       "      <td>NaN</td>\n",
       "      <td>NaN</td>\n",
       "      <td>0.0</td>\n",
       "      <td>0.0</td>\n",
       "      <td>...</td>\n",
       "      <td>55.1</td>\n",
       "      <td>53.3</td>\n",
       "      <td>46.7</td>\n",
       "      <td>https://www.bryanston.co.uk/employment</td>\n",
       "      <td>Michael McGovern (Chief Operating Officer)</td>\n",
       "      <td>500 to 999</td>\n",
       "      <td>\"Bryanston School\",Incorporated</td>\n",
       "      <td>False</td>\n",
       "      <td>05/04/2019 00:00:00</td>\n",
       "      <td>03/04/2019 13:43:34</td>\n",
       "    </tr>\n",
       "    <tr>\n",
       "      <th>1</th>\n",
       "      <td>\"RED BAND\" CHEMICAL COMPANY, LIMITED</td>\n",
       "      <td>19 Smith's Place,\\r\\nLeith Walk,\\r\\nEdinburgh,...</td>\n",
       "      <td>SC016876</td>\n",
       "      <td>47730</td>\n",
       "      <td>7.7</td>\n",
       "      <td>-4.2</td>\n",
       "      <td>23.7</td>\n",
       "      <td>-75.2</td>\n",
       "      <td>22.2</td>\n",
       "      <td>82.0</td>\n",
       "      <td>...</td>\n",
       "      <td>88.4</td>\n",
       "      <td>20.3</td>\n",
       "      <td>79.7</td>\n",
       "      <td>NaN</td>\n",
       "      <td>Philip Galt (Managing Director)</td>\n",
       "      <td>250 to 499</td>\n",
       "      <td>\"RED BAND\" CHEMICAL COMPANY, LIMITED</td>\n",
       "      <td>False</td>\n",
       "      <td>05/04/2019 00:00:00</td>\n",
       "      <td>01/04/2019 12:37:21</td>\n",
       "    </tr>\n",
       "  </tbody>\n",
       "</table>\n",
       "<p>2 rows × 25 columns</p>\n",
       "</div>"
      ],
      "text/plain": [
       "                           EmployerName  \\\n",
       "0       \"Bryanston School\",Incorporated   \n",
       "1  \"RED BAND\" CHEMICAL COMPANY, LIMITED   \n",
       "\n",
       "                                             Address CompanyNumber SicCodes  \\\n",
       "0  Bryanston House,\\r\\nBlandford,\\r\\nDorset,\\r\\nU...      00226143    85310   \n",
       "1  19 Smith's Place,\\r\\nLeith Walk,\\r\\nEdinburgh,...      SC016876    47730   \n",
       "\n",
       "   DiffMeanHourlyPercent  DiffMedianHourlyPercent  DiffMeanBonusPercent  \\\n",
       "0                   19.6                     32.5                   NaN   \n",
       "1                    7.7                     -4.2                  23.7   \n",
       "\n",
       "   DiffMedianBonusPercent  MaleBonusPercent  FemaleBonusPercent  \\\n",
       "0                     NaN               0.0                 0.0   \n",
       "1                   -75.2              22.2                82.0   \n",
       "\n",
       "          ...           FemaleUpperMiddleQuartile  MaleTopQuartile  \\\n",
       "0         ...                                55.1             53.3   \n",
       "1         ...                                88.4             20.3   \n",
       "\n",
       "   FemaleTopQuartile                    CompanyLinkToGPGInfo  \\\n",
       "0               46.7  https://www.bryanston.co.uk/employment   \n",
       "1               79.7                                     NaN   \n",
       "\n",
       "                            ResponsiblePerson  EmployerSize  \\\n",
       "0  Michael McGovern (Chief Operating Officer)    500 to 999   \n",
       "1             Philip Galt (Managing Director)    250 to 499   \n",
       "\n",
       "                            CurrentName  SubmittedAfterTheDeadline  \\\n",
       "0       \"Bryanston School\",Incorporated                      False   \n",
       "1  \"RED BAND\" CHEMICAL COMPANY, LIMITED                      False   \n",
       "\n",
       "               DueDate        DateSubmitted  \n",
       "0  05/04/2019 00:00:00  03/04/2019 13:43:34  \n",
       "1  05/04/2019 00:00:00  01/04/2019 12:37:21  \n",
       "\n",
       "[2 rows x 25 columns]"
      ]
     },
     "execution_count": 4,
     "metadata": {},
     "output_type": "execute_result"
    }
   ],
   "source": [
    "borig.head(2)"
   ]
  },
  {
   "cell_type": "code",
   "execution_count": 5,
   "metadata": {},
   "outputs": [
    {
     "data": {
      "text/html": [
       "<div>\n",
       "<style scoped>\n",
       "    .dataframe tbody tr th:only-of-type {\n",
       "        vertical-align: middle;\n",
       "    }\n",
       "\n",
       "    .dataframe tbody tr th {\n",
       "        vertical-align: top;\n",
       "    }\n",
       "\n",
       "    .dataframe thead th {\n",
       "        text-align: right;\n",
       "    }\n",
       "</style>\n",
       "<table border=\"1\" class=\"dataframe\">\n",
       "  <thead>\n",
       "    <tr style=\"text-align: right;\">\n",
       "      <th></th>\n",
       "      <th>DiffMeanBonusPercent</th>\n",
       "      <th>DiffMedianBonusPercent</th>\n",
       "      <th>MaleBonusPercent</th>\n",
       "      <th>FemaleBonusPercent</th>\n",
       "    </tr>\n",
       "  </thead>\n",
       "  <tbody>\n",
       "    <tr>\n",
       "      <th>count</th>\n",
       "      <td>9046.000000</td>\n",
       "      <td>9046.000000</td>\n",
       "      <td>10776.000000</td>\n",
       "      <td>10776.000000</td>\n",
       "    </tr>\n",
       "    <tr>\n",
       "      <th>mean</th>\n",
       "      <td>18.449116</td>\n",
       "      <td>-0.968715</td>\n",
       "      <td>35.776503</td>\n",
       "      <td>34.441342</td>\n",
       "    </tr>\n",
       "    <tr>\n",
       "      <th>std</th>\n",
       "      <td>219.254208</td>\n",
       "      <td>295.663593</td>\n",
       "      <td>36.679549</td>\n",
       "      <td>36.379271</td>\n",
       "    </tr>\n",
       "    <tr>\n",
       "      <th>min</th>\n",
       "      <td>-13934.000000</td>\n",
       "      <td>-14490.800000</td>\n",
       "      <td>0.000000</td>\n",
       "      <td>0.000000</td>\n",
       "    </tr>\n",
       "    <tr>\n",
       "      <th>25%</th>\n",
       "      <td>0.000000</td>\n",
       "      <td>0.000000</td>\n",
       "      <td>0.700000</td>\n",
       "      <td>0.300000</td>\n",
       "    </tr>\n",
       "    <tr>\n",
       "      <th>50%</th>\n",
       "      <td>32.100000</td>\n",
       "      <td>15.550000</td>\n",
       "      <td>19.300000</td>\n",
       "      <td>17.350000</td>\n",
       "    </tr>\n",
       "    <tr>\n",
       "      <th>75%</th>\n",
       "      <td>56.675000</td>\n",
       "      <td>43.075000</td>\n",
       "      <td>75.200000</td>\n",
       "      <td>72.000000</td>\n",
       "    </tr>\n",
       "    <tr>\n",
       "      <th>max</th>\n",
       "      <td>134.200000</td>\n",
       "      <td>4000.000000</td>\n",
       "      <td>100.000000</td>\n",
       "      <td>100.000000</td>\n",
       "    </tr>\n",
       "  </tbody>\n",
       "</table>\n",
       "</div>"
      ],
      "text/plain": [
       "       DiffMeanBonusPercent  DiffMedianBonusPercent  MaleBonusPercent  \\\n",
       "count           9046.000000             9046.000000      10776.000000   \n",
       "mean              18.449116               -0.968715         35.776503   \n",
       "std              219.254208              295.663593         36.679549   \n",
       "min           -13934.000000           -14490.800000          0.000000   \n",
       "25%                0.000000                0.000000          0.700000   \n",
       "50%               32.100000               15.550000         19.300000   \n",
       "75%               56.675000               43.075000         75.200000   \n",
       "max              134.200000             4000.000000        100.000000   \n",
       "\n",
       "       FemaleBonusPercent  \n",
       "count        10776.000000  \n",
       "mean            34.441342  \n",
       "std             36.379271  \n",
       "min              0.000000  \n",
       "25%              0.300000  \n",
       "50%             17.350000  \n",
       "75%             72.000000  \n",
       "max            100.000000  "
      ]
     },
     "execution_count": 5,
     "metadata": {},
     "output_type": "execute_result"
    }
   ],
   "source": [
    "# visualize bonus distribution\n",
    "borig.describe().iloc[:,2:6]"
   ]
  },
  {
   "cell_type": "code",
   "execution_count": 6,
   "metadata": {},
   "outputs": [
    {
     "data": {
      "text/html": [
       "<div>\n",
       "<style scoped>\n",
       "    .dataframe tbody tr th:only-of-type {\n",
       "        vertical-align: middle;\n",
       "    }\n",
       "\n",
       "    .dataframe tbody tr th {\n",
       "        vertical-align: top;\n",
       "    }\n",
       "\n",
       "    .dataframe thead th {\n",
       "        text-align: right;\n",
       "    }\n",
       "</style>\n",
       "<table border=\"1\" class=\"dataframe\">\n",
       "  <thead>\n",
       "    <tr style=\"text-align: right;\">\n",
       "      <th></th>\n",
       "      <th>MaleLowerQuartile</th>\n",
       "      <th>FemaleLowerQuartile</th>\n",
       "      <th>MaleLowerMiddleQuartile</th>\n",
       "      <th>FemaleLowerMiddleQuartile</th>\n",
       "      <th>MaleUpperMiddleQuartile</th>\n",
       "      <th>FemaleUpperMiddleQuartile</th>\n",
       "      <th>MaleTopQuartile</th>\n",
       "      <th>FemaleTopQuartile</th>\n",
       "      <th>CompanyLinkToGPGInfo</th>\n",
       "    </tr>\n",
       "  </thead>\n",
       "  <tbody>\n",
       "    <tr>\n",
       "      <th>0</th>\n",
       "      <td>32.4</td>\n",
       "      <td>67.6</td>\n",
       "      <td>38.2</td>\n",
       "      <td>61.8</td>\n",
       "      <td>44.9</td>\n",
       "      <td>55.1</td>\n",
       "      <td>53.3</td>\n",
       "      <td>46.7</td>\n",
       "      <td>https://www.bryanston.co.uk/employment</td>\n",
       "    </tr>\n",
       "    <tr>\n",
       "      <th>1</th>\n",
       "      <td>31.6</td>\n",
       "      <td>68.4</td>\n",
       "      <td>12.7</td>\n",
       "      <td>87.3</td>\n",
       "      <td>11.6</td>\n",
       "      <td>88.4</td>\n",
       "      <td>20.3</td>\n",
       "      <td>79.7</td>\n",
       "      <td>NaN</td>\n",
       "    </tr>\n",
       "    <tr>\n",
       "      <th>2</th>\n",
       "      <td>41.0</td>\n",
       "      <td>59.0</td>\n",
       "      <td>45.0</td>\n",
       "      <td>55.0</td>\n",
       "      <td>50.0</td>\n",
       "      <td>50.0</td>\n",
       "      <td>56.0</td>\n",
       "      <td>44.0</td>\n",
       "      <td>NaN</td>\n",
       "    </tr>\n",
       "    <tr>\n",
       "      <th>3</th>\n",
       "      <td>0.0</td>\n",
       "      <td>100.0</td>\n",
       "      <td>2.0</td>\n",
       "      <td>98.0</td>\n",
       "      <td>17.0</td>\n",
       "      <td>83.0</td>\n",
       "      <td>25.0</td>\n",
       "      <td>75.0</td>\n",
       "      <td>NaN</td>\n",
       "    </tr>\n",
       "    <tr>\n",
       "      <th>4</th>\n",
       "      <td>38.1</td>\n",
       "      <td>61.9</td>\n",
       "      <td>43.6</td>\n",
       "      <td>56.4</td>\n",
       "      <td>48.4</td>\n",
       "      <td>51.6</td>\n",
       "      <td>61.3</td>\n",
       "      <td>38.7</td>\n",
       "      <td>https://www.rgs-guildford.co.uk</td>\n",
       "    </tr>\n",
       "  </tbody>\n",
       "</table>\n",
       "</div>"
      ],
      "text/plain": [
       "   MaleLowerQuartile  FemaleLowerQuartile  MaleLowerMiddleQuartile  \\\n",
       "0               32.4                 67.6                     38.2   \n",
       "1               31.6                 68.4                     12.7   \n",
       "2               41.0                 59.0                     45.0   \n",
       "3                0.0                100.0                      2.0   \n",
       "4               38.1                 61.9                     43.6   \n",
       "\n",
       "   FemaleLowerMiddleQuartile  MaleUpperMiddleQuartile  \\\n",
       "0                       61.8                     44.9   \n",
       "1                       87.3                     11.6   \n",
       "2                       55.0                     50.0   \n",
       "3                       98.0                     17.0   \n",
       "4                       56.4                     48.4   \n",
       "\n",
       "   FemaleUpperMiddleQuartile  MaleTopQuartile  FemaleTopQuartile  \\\n",
       "0                       55.1             53.3               46.7   \n",
       "1                       88.4             20.3               79.7   \n",
       "2                       50.0             56.0               44.0   \n",
       "3                       83.0             25.0               75.0   \n",
       "4                       51.6             61.3               38.7   \n",
       "\n",
       "                     CompanyLinkToGPGInfo  \n",
       "0  https://www.bryanston.co.uk/employment  \n",
       "1                                     NaN  \n",
       "2                                     NaN  \n",
       "3                                     NaN  \n",
       "4         https://www.rgs-guildford.co.uk  "
      ]
     },
     "execution_count": 6,
     "metadata": {},
     "output_type": "execute_result"
    }
   ],
   "source": [
    "# quick look at quartiles\n",
    "# documentation specifies pay quartiles; likely excluding bonuses...\n",
    "borig.head().iloc[:, 10:19]"
   ]
  },
  {
   "cell_type": "code",
   "execution_count": 7,
   "metadata": {},
   "outputs": [
    {
     "data": {
      "text/html": [
       "<div>\n",
       "<style scoped>\n",
       "    .dataframe tbody tr th:only-of-type {\n",
       "        vertical-align: middle;\n",
       "    }\n",
       "\n",
       "    .dataframe tbody tr th {\n",
       "        vertical-align: top;\n",
       "    }\n",
       "\n",
       "    .dataframe thead th {\n",
       "        text-align: right;\n",
       "    }\n",
       "</style>\n",
       "<table border=\"1\" class=\"dataframe\">\n",
       "  <thead>\n",
       "    <tr style=\"text-align: right;\">\n",
       "      <th></th>\n",
       "      <th>MaleLowerQuartile</th>\n",
       "      <th>FemaleLowerQuartile</th>\n",
       "      <th>MaleLowerMiddleQuartile</th>\n",
       "      <th>FemaleLowerMiddleQuartile</th>\n",
       "      <th>MaleUpperMiddleQuartile</th>\n",
       "      <th>FemaleUpperMiddleQuartile</th>\n",
       "      <th>MaleTopQuartile</th>\n",
       "      <th>FemaleTopQuartile</th>\n",
       "    </tr>\n",
       "  </thead>\n",
       "  <tbody>\n",
       "    <tr>\n",
       "      <th>sum</th>\n",
       "      <td>497260.3</td>\n",
       "      <td>580339.7</td>\n",
       "      <td>540965.0</td>\n",
       "      <td>536635.0</td>\n",
       "      <td>586174.8</td>\n",
       "      <td>491425.2</td>\n",
       "      <td>649497.1</td>\n",
       "      <td>428102.9</td>\n",
       "    </tr>\n",
       "  </tbody>\n",
       "</table>\n",
       "</div>"
      ],
      "text/plain": [
       "     MaleLowerQuartile  FemaleLowerQuartile  MaleLowerMiddleQuartile  \\\n",
       "sum           497260.3             580339.7                 540965.0   \n",
       "\n",
       "     FemaleLowerMiddleQuartile  MaleUpperMiddleQuartile  \\\n",
       "sum                   536635.0                 586174.8   \n",
       "\n",
       "     FemaleUpperMiddleQuartile  MaleTopQuartile  FemaleTopQuartile  \n",
       "sum                   491425.2         649497.1           428102.9  "
      ]
     },
     "execution_count": 7,
     "metadata": {},
     "output_type": "execute_result"
    }
   ],
   "source": [
    "# we see that males occupy the upper middle and top quartiles relative to women\n",
    "borig.iloc[:, 10:19].agg(['sum'])"
   ]
  },
  {
   "cell_type": "code",
   "execution_count": 8,
   "metadata": {},
   "outputs": [
    {
     "data": {
      "text/html": [
       "<div>\n",
       "<style scoped>\n",
       "    .dataframe tbody tr th:only-of-type {\n",
       "        vertical-align: middle;\n",
       "    }\n",
       "\n",
       "    .dataframe tbody tr th {\n",
       "        vertical-align: top;\n",
       "    }\n",
       "\n",
       "    .dataframe thead th {\n",
       "        text-align: right;\n",
       "    }\n",
       "</style>\n",
       "<table border=\"1\" class=\"dataframe\">\n",
       "  <thead>\n",
       "    <tr style=\"text-align: right;\">\n",
       "      <th></th>\n",
       "      <th>EmployerName</th>\n",
       "      <th>DiffMeanBonusPercent</th>\n",
       "      <th>DiffMedianBonusPercent</th>\n",
       "      <th>MaleBonusPercent</th>\n",
       "      <th>FemaleBonusPercent</th>\n",
       "    </tr>\n",
       "  </thead>\n",
       "  <tbody>\n",
       "    <tr>\n",
       "      <th>0</th>\n",
       "      <td>\"Bryanston School\",Incorporated</td>\n",
       "      <td>NaN</td>\n",
       "      <td>NaN</td>\n",
       "      <td>0.0</td>\n",
       "      <td>0.0</td>\n",
       "    </tr>\n",
       "    <tr>\n",
       "      <th>1</th>\n",
       "      <td>\"RED BAND\" CHEMICAL COMPANY, LIMITED</td>\n",
       "      <td>23.7</td>\n",
       "      <td>-75.2</td>\n",
       "      <td>22.2</td>\n",
       "      <td>82.0</td>\n",
       "    </tr>\n",
       "  </tbody>\n",
       "</table>\n",
       "</div>"
      ],
      "text/plain": [
       "                           EmployerName  DiffMeanBonusPercent  \\\n",
       "0       \"Bryanston School\",Incorporated                   NaN   \n",
       "1  \"RED BAND\" CHEMICAL COMPANY, LIMITED                  23.7   \n",
       "\n",
       "   DiffMedianBonusPercent  MaleBonusPercent  FemaleBonusPercent  \n",
       "0                     NaN               0.0                 0.0  \n",
       "1                   -75.2              22.2                82.0  "
      ]
     },
     "execution_count": 8,
     "metadata": {},
     "output_type": "execute_result"
    }
   ],
   "source": [
    "bedit = borig.copy()\n",
    "bedit = bedit[['EmployerName', 'DiffMeanBonusPercent', 'DiffMedianBonusPercent', 'MaleBonusPercent', 'FemaleBonusPercent']]\n",
    "\n",
    "bedit.head(2)"
   ]
  },
  {
   "cell_type": "code",
   "execution_count": 9,
   "metadata": {},
   "outputs": [
    {
     "name": "stdout",
     "output_type": "stream",
     "text": [
      "(9046, 5)\n"
     ]
    }
   ],
   "source": [
    "bedit.dropna(axis=0, subset=['DiffMedianBonusPercent'], inplace=True)\n",
    "\n",
    "print(bedit.shape)"
   ]
  },
  {
   "cell_type": "code",
   "execution_count": 10,
   "metadata": {},
   "outputs": [
    {
     "name": "stdout",
     "output_type": "stream",
     "text": [
      "<class 'pandas.core.frame.DataFrame'>\n",
      "Int64Index: 9046 entries, 1 to 10775\n",
      "Data columns (total 5 columns):\n",
      "EmployerName              9046 non-null object\n",
      "DiffMeanBonusPercent      9043 non-null float64\n",
      "DiffMedianBonusPercent    9046 non-null float64\n",
      "MaleBonusPercent          9046 non-null float64\n",
      "FemaleBonusPercent        9046 non-null float64\n",
      "dtypes: float64(4), object(1)\n",
      "memory usage: 424.0+ KB\n"
     ]
    }
   ],
   "source": [
    "# some missing data for mean bonus\n",
    "bedit.info()"
   ]
  },
  {
   "cell_type": "code",
   "execution_count": 11,
   "metadata": {},
   "outputs": [
    {
     "name": "stdout",
     "output_type": "stream",
     "text": [
      "<class 'pandas.core.frame.DataFrame'>\n",
      "Int64Index: 9046 entries, 1 to 10775\n",
      "Data columns (total 5 columns):\n",
      "EmployerName              9046 non-null object\n",
      "DiffMeanBonusPercent      9046 non-null float64\n",
      "DiffMedianBonusPercent    9046 non-null float64\n",
      "MaleBonusPercent          9046 non-null float64\n",
      "FemaleBonusPercent        9046 non-null float64\n",
      "dtypes: float64(4), object(1)\n",
      "memory usage: 424.0+ KB\n"
     ]
    }
   ],
   "source": [
    "# missing mean bonus data filled with 0s\n",
    "bedit.fillna(0, inplace=True)\n",
    "\n",
    "bedit.info()"
   ]
  },
  {
   "cell_type": "code",
   "execution_count": 12,
   "metadata": {},
   "outputs": [
    {
     "data": {
      "text/html": [
       "<div>\n",
       "<style scoped>\n",
       "    .dataframe tbody tr th:only-of-type {\n",
       "        vertical-align: middle;\n",
       "    }\n",
       "\n",
       "    .dataframe tbody tr th {\n",
       "        vertical-align: top;\n",
       "    }\n",
       "\n",
       "    .dataframe thead th {\n",
       "        text-align: right;\n",
       "    }\n",
       "</style>\n",
       "<table border=\"1\" class=\"dataframe\">\n",
       "  <thead>\n",
       "    <tr style=\"text-align: right;\">\n",
       "      <th></th>\n",
       "      <th>DiffMeanBonusPercent</th>\n",
       "      <th>DiffMedianBonusPercent</th>\n",
       "      <th>MaleBonusPercent</th>\n",
       "      <th>FemaleBonusPercent</th>\n",
       "    </tr>\n",
       "  </thead>\n",
       "  <tbody>\n",
       "    <tr>\n",
       "      <th>min</th>\n",
       "      <td>-13934.0</td>\n",
       "      <td>-14490.8</td>\n",
       "      <td>0.0</td>\n",
       "      <td>0.0</td>\n",
       "    </tr>\n",
       "    <tr>\n",
       "      <th>max</th>\n",
       "      <td>134.2</td>\n",
       "      <td>4000.0</td>\n",
       "      <td>100.0</td>\n",
       "      <td>100.0</td>\n",
       "    </tr>\n",
       "    <tr>\n",
       "      <th>sum</th>\n",
       "      <td>166799.2</td>\n",
       "      <td>-8763.0</td>\n",
       "      <td>385076.4</td>\n",
       "      <td>370271.6</td>\n",
       "    </tr>\n",
       "  </tbody>\n",
       "</table>\n",
       "</div>"
      ],
      "text/plain": [
       "     DiffMeanBonusPercent  DiffMedianBonusPercent  MaleBonusPercent  \\\n",
       "min              -13934.0                -14490.8               0.0   \n",
       "max                 134.2                  4000.0             100.0   \n",
       "sum              166799.2                 -8763.0          385076.4   \n",
       "\n",
       "     FemaleBonusPercent  \n",
       "min                 0.0  \n",
       "max               100.0  \n",
       "sum            370271.6  "
      ]
     },
     "execution_count": 12,
     "metadata": {},
     "output_type": "execute_result"
    }
   ],
   "source": [
    "# we see huge outliers for diffs\n",
    "# male versus female % roughly the same\n",
    "bedit.iloc[:, 1:].agg(['min', 'max', 'sum'])"
   ]
  },
  {
   "cell_type": "code",
   "execution_count": 13,
   "metadata": {},
   "outputs": [
    {
     "data": {
      "image/png": "[encoded data removed]",
      "text/plain": [
       "<Figure size 432x288 with 1 Axes>"
      ]
     },
     "metadata": {},
     "output_type": "display_data"
    }
   ],
   "source": [
    "plt.plot(bedit['DiffMeanBonusPercent'])\n",
    "\n",
    "plt.show()"
   ]
  },
  {
   "cell_type": "code",
   "execution_count": 14,
   "metadata": {},
   "outputs": [
    {
     "data": {
      "image/png": "[encoded data removed]",
      "text/plain": [
       "<Figure size 432x288 with 1 Axes>"
      ]
     },
     "metadata": {},
     "output_type": "display_data"
    }
   ],
   "source": [
    "plt.plot(bedit['DiffMedianBonusPercent'])\n",
    "\n",
    "plt.show()"
   ]
  },
  {
   "cell_type": "code",
   "execution_count": 15,
   "metadata": {},
   "outputs": [
    {
     "data": {
      "text/html": [
       "<div>\n",
       "<style scoped>\n",
       "    .dataframe tbody tr th:only-of-type {\n",
       "        vertical-align: middle;\n",
       "    }\n",
       "\n",
       "    .dataframe tbody tr th {\n",
       "        vertical-align: top;\n",
       "    }\n",
       "\n",
       "    .dataframe thead th {\n",
       "        text-align: right;\n",
       "    }\n",
       "</style>\n",
       "<table border=\"1\" class=\"dataframe\">\n",
       "  <thead>\n",
       "    <tr style=\"text-align: right;\">\n",
       "      <th></th>\n",
       "      <th>DiffMeanBonusPercent</th>\n",
       "      <th>DiffMedianBonusPercent</th>\n",
       "      <th>MaleBonusPercent</th>\n",
       "      <th>FemaleBonusPercent</th>\n",
       "    </tr>\n",
       "  </thead>\n",
       "  <tbody>\n",
       "    <tr>\n",
       "      <th>count</th>\n",
       "      <td>9046.000000</td>\n",
       "      <td>9046.000000</td>\n",
       "      <td>9046.000000</td>\n",
       "      <td>9046.000000</td>\n",
       "    </tr>\n",
       "    <tr>\n",
       "      <th>mean</th>\n",
       "      <td>18.439001</td>\n",
       "      <td>-0.968715</td>\n",
       "      <td>42.568693</td>\n",
       "      <td>40.932080</td>\n",
       "    </tr>\n",
       "    <tr>\n",
       "      <th>std</th>\n",
       "      <td>219.254010</td>\n",
       "      <td>295.663593</td>\n",
       "      <td>36.215489</td>\n",
       "      <td>36.172801</td>\n",
       "    </tr>\n",
       "    <tr>\n",
       "      <th>min</th>\n",
       "      <td>-13934.000000</td>\n",
       "      <td>-14490.800000</td>\n",
       "      <td>0.000000</td>\n",
       "      <td>0.000000</td>\n",
       "    </tr>\n",
       "    <tr>\n",
       "      <th>25%</th>\n",
       "      <td>0.000000</td>\n",
       "      <td>0.000000</td>\n",
       "      <td>6.300000</td>\n",
       "      <td>4.700000</td>\n",
       "    </tr>\n",
       "    <tr>\n",
       "      <th>50%</th>\n",
       "      <td>32.100000</td>\n",
       "      <td>15.550000</td>\n",
       "      <td>35.000000</td>\n",
       "      <td>31.200000</td>\n",
       "    </tr>\n",
       "    <tr>\n",
       "      <th>75%</th>\n",
       "      <td>56.675000</td>\n",
       "      <td>43.075000</td>\n",
       "      <td>80.800000</td>\n",
       "      <td>79.075000</td>\n",
       "    </tr>\n",
       "    <tr>\n",
       "      <th>max</th>\n",
       "      <td>134.200000</td>\n",
       "      <td>4000.000000</td>\n",
       "      <td>100.000000</td>\n",
       "      <td>100.000000</td>\n",
       "    </tr>\n",
       "  </tbody>\n",
       "</table>\n",
       "</div>"
      ],
      "text/plain": [
       "       DiffMeanBonusPercent  DiffMedianBonusPercent  MaleBonusPercent  \\\n",
       "count           9046.000000             9046.000000       9046.000000   \n",
       "mean              18.439001               -0.968715         42.568693   \n",
       "std              219.254010              295.663593         36.215489   \n",
       "min           -13934.000000           -14490.800000          0.000000   \n",
       "25%                0.000000                0.000000          6.300000   \n",
       "50%               32.100000               15.550000         35.000000   \n",
       "75%               56.675000               43.075000         80.800000   \n",
       "max              134.200000             4000.000000        100.000000   \n",
       "\n",
       "       FemaleBonusPercent  \n",
       "count         9046.000000  \n",
       "mean            40.932080  \n",
       "std             36.172801  \n",
       "min              0.000000  \n",
       "25%              4.700000  \n",
       "50%             31.200000  \n",
       "75%             79.075000  \n",
       "max            100.000000  "
      ]
     },
     "execution_count": 15,
     "metadata": {},
     "output_type": "execute_result"
    }
   ],
   "source": [
    "bedit.describe()"
   ]
  },
  {
   "cell_type": "code",
   "execution_count": 16,
   "metadata": {},
   "outputs": [
    {
     "name": "stdout",
     "output_type": "stream",
     "text": [
      "Median Mean: -0.9687154543444564\n",
      "Median Std: 295.6635934571942\n",
      "Outlier thresholds are 590.358471460044 and -592.2959023687329\n"
     ]
    }
   ],
   "source": [
    "# remove outliers with 2x standard deviation from the mean\n",
    "h_thresh = bedit['DiffMedianBonusPercent'].mean() + (2 * bedit['DiffMedianBonusPercent'].std())\n",
    "l_thresh = bedit['DiffMedianBonusPercent'].mean() - (2 * bedit['DiffMedianBonusPercent'].std())\n",
    "print(f\"Median Mean: {bedit['DiffMedianBonusPercent'].mean()}\")\n",
    "print(f\"Median Std: {bedit['DiffMedianBonusPercent'].std()}\")\n",
    "print(f'Outlier thresholds are {h_thresh} and {l_thresh}')"
   ]
  },
  {
   "cell_type": "code",
   "execution_count": 17,
   "metadata": {},
   "outputs": [
    {
     "name": "stdout",
     "output_type": "stream",
     "text": [
      "Outliers removed: 62\n",
      "Data points remaining: 8984\n"
     ]
    }
   ],
   "source": [
    "boutliers = bedit[(bedit['DiffMedianBonusPercent'] > h_thresh) | (bedit['DiffMedianBonusPercent'] < l_thresh)]\n",
    "bmedian = bedit[(bedit['DiffMedianBonusPercent'] <= h_thresh) & (bedit['DiffMedianBonusPercent'] >= l_thresh)]\n",
    "\n",
    "print(f'Outliers removed: {len(boutliers)}')\n",
    "print(f'Data points remaining: {len(bmedian)}')"
   ]
  },
  {
   "cell_type": "code",
   "execution_count": 18,
   "metadata": {},
   "outputs": [
    {
     "data": {
      "image/png": "[encoded data removed]",
      "text/plain": [
       "<Figure size 432x288 with 1 Axes>"
      ]
     },
     "metadata": {},
     "output_type": "display_data"
    }
   ],
   "source": [
    "plt.hist(bmedian['DiffMedianBonusPercent'], bins=100)\n",
    "plt.show()"
   ]
  },
  {
   "cell_type": "code",
   "execution_count": 28,
   "metadata": {},
   "outputs": [
    {
     "name": "stdout",
     "output_type": "stream",
     "text": [
      "Data points remaining: 8427\n"
     ]
    },
    {
     "data": {
      "image/png": "[encoded data removed]",
      "text/plain": [
       "<Figure size 432x288 with 1 Axes>"
      ]
     },
     "metadata": {},
     "output_type": "display_data"
    }
   ],
   "source": [
    "bmediannew = bedit[(bedit['DiffMedianBonusPercent'] < 100) & (bedit['DiffMedianBonusPercent'] > -100)]\n",
    "print(f'Data points remaining: {len(bmediannew)}')\n",
    "plt.hist(bmediannew['DiffMedianBonusPercent'], bins=100)\n",
    "plt.show()"
   ]
  },
  {
   "cell_type": "code",
   "execution_count": 19,
   "metadata": {},
   "outputs": [
    {
     "data": {
      "text/html": [
       "<div>\n",
       "<style scoped>\n",
       "    .dataframe tbody tr th:only-of-type {\n",
       "        vertical-align: middle;\n",
       "    }\n",
       "\n",
       "    .dataframe tbody tr th {\n",
       "        vertical-align: top;\n",
       "    }\n",
       "\n",
       "    .dataframe thead th {\n",
       "        text-align: right;\n",
       "    }\n",
       "</style>\n",
       "<table border=\"1\" class=\"dataframe\">\n",
       "  <thead>\n",
       "    <tr style=\"text-align: right;\">\n",
       "      <th></th>\n",
       "      <th>DiffMeanBonusPercent</th>\n",
       "      <th>DiffMedianBonusPercent</th>\n",
       "      <th>MaleBonusPercent</th>\n",
       "      <th>FemaleBonusPercent</th>\n",
       "    </tr>\n",
       "  </thead>\n",
       "  <tbody>\n",
       "    <tr>\n",
       "      <th>min</th>\n",
       "      <td>-3282.4</td>\n",
       "      <td>-590.0</td>\n",
       "      <td>0.0</td>\n",
       "      <td>0.0</td>\n",
       "    </tr>\n",
       "    <tr>\n",
       "      <th>max</th>\n",
       "      <td>134.2</td>\n",
       "      <td>316.6</td>\n",
       "      <td>100.0</td>\n",
       "      <td>100.0</td>\n",
       "    </tr>\n",
       "    <tr>\n",
       "      <th>sum</th>\n",
       "      <td>214338.4</td>\n",
       "      <td>113845.2</td>\n",
       "      <td>383292.6</td>\n",
       "      <td>368750.2</td>\n",
       "    </tr>\n",
       "  </tbody>\n",
       "</table>\n",
       "</div>"
      ],
      "text/plain": [
       "     DiffMeanBonusPercent  DiffMedianBonusPercent  MaleBonusPercent  \\\n",
       "min               -3282.4                  -590.0               0.0   \n",
       "max                 134.2                   316.6             100.0   \n",
       "sum              214338.4                113845.2          383292.6   \n",
       "\n",
       "     FemaleBonusPercent  \n",
       "min                 0.0  \n",
       "max               100.0  \n",
       "sum            368750.2  "
      ]
     },
     "execution_count": 19,
     "metadata": {},
     "output_type": "execute_result"
    }
   ],
   "source": [
    "bmedian.iloc[:, 1:].agg(['min', 'max', 'sum'])"
   ]
  },
  {
   "cell_type": "code",
   "execution_count": 20,
   "metadata": {},
   "outputs": [
    {
     "data": {
      "text/html": [
       "<div>\n",
       "<style scoped>\n",
       "    .dataframe tbody tr th:only-of-type {\n",
       "        vertical-align: middle;\n",
       "    }\n",
       "\n",
       "    .dataframe tbody tr th {\n",
       "        vertical-align: top;\n",
       "    }\n",
       "\n",
       "    .dataframe thead th {\n",
       "        text-align: right;\n",
       "    }\n",
       "</style>\n",
       "<table border=\"1\" class=\"dataframe\">\n",
       "  <thead>\n",
       "    <tr style=\"text-align: right;\">\n",
       "      <th></th>\n",
       "      <th>EmployerName</th>\n",
       "      <th>DiffMeanBonusPercent</th>\n",
       "      <th>DiffMedianBonusPercent</th>\n",
       "      <th>MaleBonusPercent</th>\n",
       "      <th>FemaleBonusPercent</th>\n",
       "    </tr>\n",
       "  </thead>\n",
       "  <tbody>\n",
       "    <tr>\n",
       "      <th>7524</th>\n",
       "      <td>RED RECRUITMENT PARTNERSHIP LIMITED</td>\n",
       "      <td>134.2</td>\n",
       "      <td>316.6</td>\n",
       "      <td>20.0</td>\n",
       "      <td>21.0</td>\n",
       "    </tr>\n",
       "    <tr>\n",
       "      <th>89</th>\n",
       "      <td>ABERDEEN SPORTS VILLAGE LIMITED</td>\n",
       "      <td>100.0</td>\n",
       "      <td>100.0</td>\n",
       "      <td>2.1</td>\n",
       "      <td>0.0</td>\n",
       "    </tr>\n",
       "    <tr>\n",
       "      <th>97</th>\n",
       "      <td>Abingdon School</td>\n",
       "      <td>100.0</td>\n",
       "      <td>100.0</td>\n",
       "      <td>1.2</td>\n",
       "      <td>0.0</td>\n",
       "    </tr>\n",
       "    <tr>\n",
       "      <th>192</th>\n",
       "      <td>ADNAMS PLC</td>\n",
       "      <td>100.0</td>\n",
       "      <td>100.0</td>\n",
       "      <td>0.7</td>\n",
       "      <td>0.0</td>\n",
       "    </tr>\n",
       "    <tr>\n",
       "      <th>310</th>\n",
       "      <td>ALBION FOOTBALL CLUB(BURTON-ON-TRENT)LIMITED(THE)</td>\n",
       "      <td>100.0</td>\n",
       "      <td>100.0</td>\n",
       "      <td>11.0</td>\n",
       "      <td>0.0</td>\n",
       "    </tr>\n",
       "    <tr>\n",
       "      <th>338</th>\n",
       "      <td>ALL METAL SERVICES LIMITED</td>\n",
       "      <td>100.0</td>\n",
       "      <td>100.0</td>\n",
       "      <td>1.7</td>\n",
       "      <td>0.0</td>\n",
       "    </tr>\n",
       "    <tr>\n",
       "      <th>425</th>\n",
       "      <td>AMEC FOSTER WHEELER EARTH AND ENVIRONMENTAL (U...</td>\n",
       "      <td>100.0</td>\n",
       "      <td>100.0</td>\n",
       "      <td>36.4</td>\n",
       "      <td>0.0</td>\n",
       "    </tr>\n",
       "    <tr>\n",
       "      <th>451</th>\n",
       "      <td>AMULET (CHURCHILL SECURITY SOLUTIONS) LIMITED</td>\n",
       "      <td>100.0</td>\n",
       "      <td>100.0</td>\n",
       "      <td>3.0</td>\n",
       "      <td>0.0</td>\n",
       "    </tr>\n",
       "    <tr>\n",
       "      <th>511</th>\n",
       "      <td>APOGEE CORPORATION LIMITED</td>\n",
       "      <td>81.8</td>\n",
       "      <td>100.0</td>\n",
       "      <td>70.1</td>\n",
       "      <td>26.7</td>\n",
       "    </tr>\n",
       "    <tr>\n",
       "      <th>628</th>\n",
       "      <td>ASH &amp; LACY PERFORATING LIMITED</td>\n",
       "      <td>100.0</td>\n",
       "      <td>100.0</td>\n",
       "      <td>5.4</td>\n",
       "      <td>0.0</td>\n",
       "    </tr>\n",
       "  </tbody>\n",
       "</table>\n",
       "</div>"
      ],
      "text/plain": [
       "                                           EmployerName  DiffMeanBonusPercent  \\\n",
       "7524                RED RECRUITMENT PARTNERSHIP LIMITED                 134.2   \n",
       "89                      ABERDEEN SPORTS VILLAGE LIMITED                 100.0   \n",
       "97                                      Abingdon School                 100.0   \n",
       "192                                          ADNAMS PLC                 100.0   \n",
       "310   ALBION FOOTBALL CLUB(BURTON-ON-TRENT)LIMITED(THE)                 100.0   \n",
       "338                          ALL METAL SERVICES LIMITED                 100.0   \n",
       "425   AMEC FOSTER WHEELER EARTH AND ENVIRONMENTAL (U...                 100.0   \n",
       "451       AMULET (CHURCHILL SECURITY SOLUTIONS) LIMITED                 100.0   \n",
       "511                          APOGEE CORPORATION LIMITED                  81.8   \n",
       "628                      ASH & LACY PERFORATING LIMITED                 100.0   \n",
       "\n",
       "      DiffMedianBonusPercent  MaleBonusPercent  FemaleBonusPercent  \n",
       "7524                   316.6              20.0                21.0  \n",
       "89                     100.0               2.1                 0.0  \n",
       "97                     100.0               1.2                 0.0  \n",
       "192                    100.0               0.7                 0.0  \n",
       "310                    100.0              11.0                 0.0  \n",
       "338                    100.0               1.7                 0.0  \n",
       "425                    100.0              36.4                 0.0  \n",
       "451                    100.0               3.0                 0.0  \n",
       "511                    100.0              70.1                26.7  \n",
       "628                    100.0               5.4                 0.0  "
      ]
     },
     "execution_count": 20,
     "metadata": {},
     "output_type": "execute_result"
    }
   ],
   "source": [
    "# Median bonus honestly looks a bit funky; especially with male cap and female outliers\n",
    "bmedian.loc[bmedian['DiffMedianBonusPercent'].nlargest(10).index]"
   ]
  },
  {
   "cell_type": "code",
   "execution_count": 27,
   "metadata": {},
   "outputs": [
    {
     "name": "stdout",
     "output_type": "stream",
     "text": [
      "Mean data points remaining: 8616\n"
     ]
    },
    {
     "data": {
      "image/png": "[encoded data removed]",
      "text/plain": [
       "<Figure size 432x288 with 1 Axes>"
      ]
     },
     "metadata": {},
     "output_type": "display_data"
    }
   ],
   "source": [
    "bmean = bedit[(bedit['DiffMeanBonusPercent'] < 100) & (bedit['DiffMeanBonusPercent'] > -100)]\n",
    "\n",
    "print(f'Mean data points remaining: {len(bmean)}')\n",
    "\n",
    "plt.hist(bmean['DiffMeanBonusPercent'], bins=100)\n",
    "plt.show()"
   ]
  },
  {
   "cell_type": "code",
   "execution_count": 31,
   "metadata": {},
   "outputs": [
    {
     "name": "stdout",
     "output_type": "stream",
     "text": [
      "Portion that is zero: 0.10271587743732591\n"
     ]
    }
   ],
   "source": [
    "print(f\"Portion that is zero: {len(bmean[bmean['DiffMeanBonusPercent'] == 0]) / len(bmean)}\")"
   ]
  },
  {
   "cell_type": "code",
   "execution_count": null,
   "metadata": {},
   "outputs": [],
   "source": []
  }
 ],
 "metadata": {
  "kernelspec": {
   "display_name": "Python 3",
   "language": "python",
   "name": "python3"
  },
  "language_info": {
   "codemirror_mode": {
    "name": "ipython",
    "version": 3
   },
   "file_extension": ".py",
   "mimetype": "text/x-python",
   "name": "python",
   "nbconvert_exporter": "python",
   "pygments_lexer": "ipython3",
   "version": "3.6.4"
  }
 },
 "nbformat": 4,
 "nbformat_minor": 2
}
