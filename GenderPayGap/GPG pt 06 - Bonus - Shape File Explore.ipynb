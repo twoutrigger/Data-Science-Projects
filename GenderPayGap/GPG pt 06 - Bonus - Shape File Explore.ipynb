{
 "cells": [
  {
   "cell_type": "code",
   "execution_count": 1,
   "metadata": {},
   "outputs": [],
   "source": [
    "import numpy as np\n",
    "import pandas as pd\n",
    "from pandas import pivot_table\n",
    "import matplotlib.pyplot as plt\n",
    "import seaborn as sns\n",
    "import geopandas as gpd\n",
    "from shapely.geometry import Point\n",
    "import json\n",
    "\n",
    "%matplotlib inline"
   ]
  },
  {
   "cell_type": "code",
   "execution_count": 2,
   "metadata": {},
   "outputs": [
    {
     "name": "stdout",
     "output_type": "stream",
     "text": [
      "(10772, 29)\n"
     ]
    },
    {
     "data": {
      "text/html": [
       "<div>\n",
       "<style scoped>\n",
       "    .dataframe tbody tr th:only-of-type {\n",
       "        vertical-align: middle;\n",
       "    }\n",
       "\n",
       "    .dataframe tbody tr th {\n",
       "        vertical-align: top;\n",
       "    }\n",
       "\n",
       "    .dataframe thead th {\n",
       "        text-align: right;\n",
       "    }\n",
       "</style>\n",
       "<table border=\"1\" class=\"dataframe\">\n",
       "  <thead>\n",
       "    <tr style=\"text-align: right;\">\n",
       "      <th></th>\n",
       "      <th>EmployerName</th>\n",
       "      <th>Address</th>\n",
       "      <th>CompanyNumber</th>\n",
       "      <th>SicCodes</th>\n",
       "      <th>DiffMeanHourlyPercent</th>\n",
       "      <th>DiffMedianHourlyPercent</th>\n",
       "      <th>DiffMeanBonusPercent</th>\n",
       "      <th>DiffMedianBonusPercent</th>\n",
       "      <th>MaleBonusPercent</th>\n",
       "      <th>FemaleBonusPercent</th>\n",
       "      <th>...</th>\n",
       "      <th>ResponsiblePerson</th>\n",
       "      <th>EmployerSize</th>\n",
       "      <th>CurrentName</th>\n",
       "      <th>SubmittedAfterTheDeadline</th>\n",
       "      <th>DueDate</th>\n",
       "      <th>DateSubmitted</th>\n",
       "      <th>Post</th>\n",
       "      <th>Val</th>\n",
       "      <th>MainSic</th>\n",
       "      <th>MainSection</th>\n",
       "    </tr>\n",
       "  </thead>\n",
       "  <tbody>\n",
       "    <tr>\n",
       "      <th>0</th>\n",
       "      <td>BRYANSTON SCHOOL,INCORPORATED</td>\n",
       "      <td>Bryanston House,\\r\\r\\r\\r\\nBlandford,\\r\\r\\r\\r\\n...</td>\n",
       "      <td>00226143</td>\n",
       "      <td>85310</td>\n",
       "      <td>19.6</td>\n",
       "      <td>32.5</td>\n",
       "      <td>NaN</td>\n",
       "      <td>NaN</td>\n",
       "      <td>0.0</td>\n",
       "      <td>0.0</td>\n",
       "      <td>...</td>\n",
       "      <td>Michael McGovern (Chief Operating Officer)</td>\n",
       "      <td>500 to 999</td>\n",
       "      <td>\"Bryanston School\",Incorporated</td>\n",
       "      <td>False</td>\n",
       "      <td>05/04/2019 00:00:00</td>\n",
       "      <td>03/04/2019 13:43:34</td>\n",
       "      <td>DT11 0PX</td>\n",
       "      <td>True</td>\n",
       "      <td>85310</td>\n",
       "      <td>Education</td>\n",
       "    </tr>\n",
       "    <tr>\n",
       "      <th>1</th>\n",
       "      <td>RED BAND CHEMICAL COMPANY, LIMITED</td>\n",
       "      <td>19 Smith's Place,\\r\\r\\r\\r\\nLeith Walk,\\r\\r\\r\\r...</td>\n",
       "      <td>SC016876</td>\n",
       "      <td>47730</td>\n",
       "      <td>7.7</td>\n",
       "      <td>-4.2</td>\n",
       "      <td>23.7</td>\n",
       "      <td>-75.2</td>\n",
       "      <td>22.2</td>\n",
       "      <td>82.0</td>\n",
       "      <td>...</td>\n",
       "      <td>Philip Galt (Managing Director)</td>\n",
       "      <td>250 to 499</td>\n",
       "      <td>\"RED BAND\" CHEMICAL COMPANY, LIMITED</td>\n",
       "      <td>False</td>\n",
       "      <td>05/04/2019 00:00:00</td>\n",
       "      <td>01/04/2019 12:37:21</td>\n",
       "      <td>EH6 8NU</td>\n",
       "      <td>True</td>\n",
       "      <td>47730</td>\n",
       "      <td>Wholesale and retail trade; repair of motor ve...</td>\n",
       "    </tr>\n",
       "  </tbody>\n",
       "</table>\n",
       "<p>2 rows × 29 columns</p>\n",
       "</div>"
      ],
      "text/plain": [
       "                         EmployerName  \\\n",
       "0       BRYANSTON SCHOOL,INCORPORATED   \n",
       "1  RED BAND CHEMICAL COMPANY, LIMITED   \n",
       "\n",
       "                                             Address CompanyNumber SicCodes  \\\n",
       "0  Bryanston House,\\r\\r\\r\\r\\nBlandford,\\r\\r\\r\\r\\n...      00226143    85310   \n",
       "1  19 Smith's Place,\\r\\r\\r\\r\\nLeith Walk,\\r\\r\\r\\r...      SC016876    47730   \n",
       "\n",
       "   DiffMeanHourlyPercent  DiffMedianHourlyPercent  DiffMeanBonusPercent  \\\n",
       "0                   19.6                     32.5                   NaN   \n",
       "1                    7.7                     -4.2                  23.7   \n",
       "\n",
       "   DiffMedianBonusPercent  MaleBonusPercent  FemaleBonusPercent  \\\n",
       "0                     NaN               0.0                 0.0   \n",
       "1                   -75.2              22.2                82.0   \n",
       "\n",
       "                         ...                          \\\n",
       "0                        ...                           \n",
       "1                        ...                           \n",
       "\n",
       "                            ResponsiblePerson  EmployerSize  \\\n",
       "0  Michael McGovern (Chief Operating Officer)    500 to 999   \n",
       "1             Philip Galt (Managing Director)    250 to 499   \n",
       "\n",
       "                            CurrentName  SubmittedAfterTheDeadline  \\\n",
       "0       \"Bryanston School\",Incorporated                      False   \n",
       "1  \"RED BAND\" CHEMICAL COMPANY, LIMITED                      False   \n",
       "\n",
       "               DueDate        DateSubmitted      Post   Val MainSic  \\\n",
       "0  05/04/2019 00:00:00  03/04/2019 13:43:34  DT11 0PX  True   85310   \n",
       "1  05/04/2019 00:00:00  01/04/2019 12:37:21   EH6 8NU  True   47730   \n",
       "\n",
       "                                         MainSection  \n",
       "0                                          Education  \n",
       "1  Wholesale and retail trade; repair of motor ve...  \n",
       "\n",
       "[2 rows x 29 columns]"
      ]
     },
     "execution_count": 2,
     "metadata": {},
     "output_type": "execute_result"
    }
   ],
   "source": [
    "borig = pd.read_csv('2018clean3.csv', header=0, index_col=0, dtype={'MainSic': object})\n",
    "\n",
    "print(borig.shape)\n",
    "borig.head(2)"
   ]
  },
  {
   "cell_type": "code",
   "execution_count": 6,
   "metadata": {},
   "outputs": [
    {
     "name": "stdout",
     "output_type": "stream",
     "text": [
      "(41, 10)\n"
     ]
    },
    {
     "data": {
      "text/html": [
       "<div>\n",
       "<style scoped>\n",
       "    .dataframe tbody tr th:only-of-type {\n",
       "        vertical-align: middle;\n",
       "    }\n",
       "\n",
       "    .dataframe tbody tr th {\n",
       "        vertical-align: top;\n",
       "    }\n",
       "\n",
       "    .dataframe thead th {\n",
       "        text-align: right;\n",
       "    }\n",
       "</style>\n",
       "<table border=\"1\" class=\"dataframe\">\n",
       "  <thead>\n",
       "    <tr style=\"text-align: right;\">\n",
       "      <th></th>\n",
       "      <th>objectid</th>\n",
       "      <th>nuts218cd</th>\n",
       "      <th>nuts218nm</th>\n",
       "      <th>bng_e</th>\n",
       "      <th>bng_n</th>\n",
       "      <th>long</th>\n",
       "      <th>lat</th>\n",
       "      <th>st_areasha</th>\n",
       "      <th>st_lengths</th>\n",
       "      <th>geometry</th>\n",
       "    </tr>\n",
       "  </thead>\n",
       "  <tbody>\n",
       "    <tr>\n",
       "      <th>0</th>\n",
       "      <td>1</td>\n",
       "      <td>UKC1</td>\n",
       "      <td>Tees Valley and Durham</td>\n",
       "      <td>414643</td>\n",
       "      <td>532242</td>\n",
       "      <td>-1.77440</td>\n",
       "      <td>54.685020</td>\n",
       "      <td>3.026249e+09</td>\n",
       "      <td>487438.014517</td>\n",
       "      <td>(POLYGON ((-1.737033618785907 54.9184631898649...</td>\n",
       "    </tr>\n",
       "    <tr>\n",
       "      <th>1</th>\n",
       "      <td>2</td>\n",
       "      <td>UKC2</td>\n",
       "      <td>Northumberland and Tyne and Wear</td>\n",
       "      <td>398898</td>\n",
       "      <td>602530</td>\n",
       "      <td>-2.01892</td>\n",
       "      <td>55.316841</td>\n",
       "      <td>5.566181e+09</td>\n",
       "      <td>751311.485119</td>\n",
       "      <td>(POLYGON ((-2.024151451980134 55.7711741685706...</td>\n",
       "    </tr>\n",
       "    <tr>\n",
       "      <th>2</th>\n",
       "      <td>3</td>\n",
       "      <td>UKD1</td>\n",
       "      <td>Cumbria</td>\n",
       "      <td>341868</td>\n",
       "      <td>527389</td>\n",
       "      <td>-2.90218</td>\n",
       "      <td>54.638260</td>\n",
       "      <td>6.822195e+09</td>\n",
       "      <td>987066.701024</td>\n",
       "      <td>(POLYGON ((-2.675590620680368 55.1733220183547...</td>\n",
       "    </tr>\n",
       "    <tr>\n",
       "      <th>3</th>\n",
       "      <td>4</td>\n",
       "      <td>UKD3</td>\n",
       "      <td>Greater Manchester</td>\n",
       "      <td>377940</td>\n",
       "      <td>401102</td>\n",
       "      <td>-2.33407</td>\n",
       "      <td>53.506149</td>\n",
       "      <td>1.275981e+09</td>\n",
       "      <td>248705.119145</td>\n",
       "      <td>POLYGON ((-2.13224594777332 53.68404821070088,...</td>\n",
       "    </tr>\n",
       "    <tr>\n",
       "      <th>4</th>\n",
       "      <td>5</td>\n",
       "      <td>UKD4</td>\n",
       "      <td>Lancashire</td>\n",
       "      <td>363669</td>\n",
       "      <td>441026</td>\n",
       "      <td>-2.55392</td>\n",
       "      <td>53.864182</td>\n",
       "      <td>3.076413e+09</td>\n",
       "      <td>795004.920936</td>\n",
       "      <td>(POLYGON ((-2.459141139619598 54.2367471854683...</td>\n",
       "    </tr>\n",
       "  </tbody>\n",
       "</table>\n",
       "</div>"
      ],
      "text/plain": [
       "   objectid nuts218cd                         nuts218nm   bng_e   bng_n  \\\n",
       "0         1      UKC1            Tees Valley and Durham  414643  532242   \n",
       "1         2      UKC2  Northumberland and Tyne and Wear  398898  602530   \n",
       "2         3      UKD1                           Cumbria  341868  527389   \n",
       "3         4      UKD3                Greater Manchester  377940  401102   \n",
       "4         5      UKD4                        Lancashire  363669  441026   \n",
       "\n",
       "      long        lat    st_areasha     st_lengths  \\\n",
       "0 -1.77440  54.685020  3.026249e+09  487438.014517   \n",
       "1 -2.01892  55.316841  5.566181e+09  751311.485119   \n",
       "2 -2.90218  54.638260  6.822195e+09  987066.701024   \n",
       "3 -2.33407  53.506149  1.275981e+09  248705.119145   \n",
       "4 -2.55392  53.864182  3.076413e+09  795004.920936   \n",
       "\n",
       "                                            geometry  \n",
       "0  (POLYGON ((-1.737033618785907 54.9184631898649...  \n",
       "1  (POLYGON ((-2.024151451980134 55.7711741685706...  \n",
       "2  (POLYGON ((-2.675590620680368 55.1733220183547...  \n",
       "3  POLYGON ((-2.13224594777332 53.68404821070088,...  \n",
       "4  (POLYGON ((-2.459141139619598 54.2367471854683...  "
      ]
     },
     "execution_count": 6,
     "metadata": {},
     "output_type": "execute_result"
    }
   ],
   "source": [
    "county_shp = 'NUTS_Level_2_January_2018_Full_Clipped_Boundaries_in_the_United_Kingdom.shp'\n",
    "county_df = gpd.read_file(county_shp)\n",
    "\n",
    "print(county_df.shape)\n",
    "county_df.head()"
   ]
  },
  {
   "cell_type": "code",
   "execution_count": 7,
   "metadata": {},
   "outputs": [
    {
     "data": {
      "text/plain": [
       "<matplotlib.axes._subplots.AxesSubplot at 0x1d432931390>"
      ]
     },
     "execution_count": 7,
     "metadata": {},
     "output_type": "execute_result"
    },
    {
     "data": {
      "image/png": "[encoded data removed]",
      "text/plain": [
       "<Figure size 432x288 with 1 Axes>"
      ]
     },
     "metadata": {},
     "output_type": "display_data"
    }
   ],
   "source": [
    "county_df.plot()"
   ]
  },
  {
   "cell_type": "code",
   "execution_count": 8,
   "metadata": {},
   "outputs": [
    {
     "name": "stdout",
     "output_type": "stream",
     "text": [
      "['Tees Valley and Durham', 'Northumberland and Tyne and Wear', 'Cumbria', 'Greater Manchester', 'Lancashire', 'Cheshire', 'Merseyside', 'East Yorkshire and Northern Lincolnshire', 'North Yorkshire', 'South Yorkshire', 'West Yorkshire', 'Derbyshire and Nottinghamshire', 'Leicestershire, Rutland and Northamptonshire', 'Lincolnshire', 'Herefordshire, Worcestershire and Warwickshire', 'Shropshire and Staffordshire', 'West Midlands', 'East Anglia', 'Bedfordshire and Hertfordshire', 'Essex', 'Inner London - West', 'Inner London - East', 'Outer London - East and North East', 'Outer London - South', 'Outer London - West and North West', 'Berkshire, Buckinghamshire and Oxfordshire', 'Surrey, East and West Sussex', 'Hampshire and Isle of Wight', 'Kent', 'Gloucestershire, Wiltshire and Bath/Bristol area', 'Dorset and Somerset', 'Cornwall and Isles of Scilly', 'Devon', 'West Wales', 'East Wales', 'North Eastern Scotland', 'Highlands and Islands', 'Eastern Scotland', 'West Central Scotland', 'Southern Scotland', 'Northern Ireland']\n"
     ]
    }
   ],
   "source": [
    "print(county_df.nuts218nm.tolist())"
   ]
  },
  {
   "cell_type": "code",
   "execution_count": 9,
   "metadata": {},
   "outputs": [
    {
     "name": "stdout",
     "output_type": "stream",
     "text": [
      "['UKC1', 'UKC2', 'UKD1', 'UKD3', 'UKD4', 'UKD6', 'UKD7', 'UKE1', 'UKE2', 'UKE3', 'UKE4', 'UKF1', 'UKF2', 'UKF3', 'UKG1', 'UKG2', 'UKG3', 'UKH1', 'UKH2', 'UKH3', 'UKI3', 'UKI4', 'UKI5', 'UKI6', 'UKI7', 'UKJ1', 'UKJ2', 'UKJ3', 'UKJ4', 'UKK1', 'UKK2', 'UKK3', 'UKK4', 'UKL1', 'UKL2', 'UKM5', 'UKM6', 'UKM7', 'UKM8', 'UKM9', 'UKN0']\n"
     ]
    }
   ],
   "source": [
    "print(county_df.nuts218cd.tolist())"
   ]
  },
  {
   "cell_type": "markdown",
   "metadata": {},
   "source": [
    "## Postcode to NUTS2 append"
   ]
  },
  {
   "cell_type": "code",
   "execution_count": 10,
   "metadata": {},
   "outputs": [
    {
     "name": "stdout",
     "output_type": "stream",
     "text": [
      "(1759911, 2)\n"
     ]
    },
    {
     "data": {
      "text/html": [
       "<div>\n",
       "<style scoped>\n",
       "    .dataframe tbody tr th:only-of-type {\n",
       "        vertical-align: middle;\n",
       "    }\n",
       "\n",
       "    .dataframe tbody tr th {\n",
       "        vertical-align: top;\n",
       "    }\n",
       "\n",
       "    .dataframe thead th {\n",
       "        text-align: right;\n",
       "    }\n",
       "</style>\n",
       "<table border=\"1\" class=\"dataframe\">\n",
       "  <thead>\n",
       "    <tr style=\"text-align: right;\">\n",
       "      <th></th>\n",
       "      <th>NUTS3</th>\n",
       "      <th>CODE</th>\n",
       "    </tr>\n",
       "  </thead>\n",
       "  <tbody>\n",
       "    <tr>\n",
       "      <th>0</th>\n",
       "      <td>'UKM73'</td>\n",
       "      <td>'EH10 7DP'</td>\n",
       "    </tr>\n",
       "    <tr>\n",
       "      <th>1</th>\n",
       "      <td>'UKM73'</td>\n",
       "      <td>'EH10 7DX'</td>\n",
       "    </tr>\n",
       "    <tr>\n",
       "      <th>2</th>\n",
       "      <td>'UKM73'</td>\n",
       "      <td>'EH10 7DY'</td>\n",
       "    </tr>\n",
       "    <tr>\n",
       "      <th>3</th>\n",
       "      <td>'UKM73'</td>\n",
       "      <td>'EH10 7DZ'</td>\n",
       "    </tr>\n",
       "    <tr>\n",
       "      <th>4</th>\n",
       "      <td>'UKM73'</td>\n",
       "      <td>'EH10 7EA'</td>\n",
       "    </tr>\n",
       "  </tbody>\n",
       "</table>\n",
       "</div>"
      ],
      "text/plain": [
       "     NUTS3        CODE\n",
       "0  'UKM73'  'EH10 7DP'\n",
       "1  'UKM73'  'EH10 7DX'\n",
       "2  'UKM73'  'EH10 7DY'\n",
       "3  'UKM73'  'EH10 7DZ'\n",
       "4  'UKM73'  'EH10 7EA'"
      ]
     },
     "execution_count": 10,
     "metadata": {},
     "output_type": "execute_result"
    }
   ],
   "source": [
    "addnuts = pd.read_csv('pc2018_uk_NUTS-2016_v2.0.csv', sep=';')\n",
    "\n",
    "print(addnuts.shape)\n",
    "addnuts.head()"
   ]
  },
  {
   "cell_type": "code",
   "execution_count": 11,
   "metadata": {},
   "outputs": [],
   "source": [
    "def remove_quotes(x):\n",
    "    return str(x)[1:-1]"
   ]
  },
  {
   "cell_type": "code",
   "execution_count": 12,
   "metadata": {},
   "outputs": [
    {
     "data": {
      "text/html": [
       "<div>\n",
       "<style scoped>\n",
       "    .dataframe tbody tr th:only-of-type {\n",
       "        vertical-align: middle;\n",
       "    }\n",
       "\n",
       "    .dataframe tbody tr th {\n",
       "        vertical-align: top;\n",
       "    }\n",
       "\n",
       "    .dataframe thead th {\n",
       "        text-align: right;\n",
       "    }\n",
       "</style>\n",
       "<table border=\"1\" class=\"dataframe\">\n",
       "  <thead>\n",
       "    <tr style=\"text-align: right;\">\n",
       "      <th></th>\n",
       "      <th>NUTS3</th>\n",
       "      <th>CODE</th>\n",
       "    </tr>\n",
       "  </thead>\n",
       "  <tbody>\n",
       "    <tr>\n",
       "      <th>0</th>\n",
       "      <td>UKM73</td>\n",
       "      <td>EH10 7DP</td>\n",
       "    </tr>\n",
       "    <tr>\n",
       "      <th>1</th>\n",
       "      <td>UKM73</td>\n",
       "      <td>EH10 7DX</td>\n",
       "    </tr>\n",
       "    <tr>\n",
       "      <th>2</th>\n",
       "      <td>UKM73</td>\n",
       "      <td>EH10 7DY</td>\n",
       "    </tr>\n",
       "    <tr>\n",
       "      <th>3</th>\n",
       "      <td>UKM73</td>\n",
       "      <td>EH10 7DZ</td>\n",
       "    </tr>\n",
       "    <tr>\n",
       "      <th>4</th>\n",
       "      <td>UKM73</td>\n",
       "      <td>EH10 7EA</td>\n",
       "    </tr>\n",
       "  </tbody>\n",
       "</table>\n",
       "</div>"
      ],
      "text/plain": [
       "   NUTS3      CODE\n",
       "0  UKM73  EH10 7DP\n",
       "1  UKM73  EH10 7DX\n",
       "2  UKM73  EH10 7DY\n",
       "3  UKM73  EH10 7DZ\n",
       "4  UKM73  EH10 7EA"
      ]
     },
     "execution_count": 12,
     "metadata": {},
     "output_type": "execute_result"
    }
   ],
   "source": [
    "addnuts['NUTS3'] = addnuts['NUTS3'].apply(remove_quotes)\n",
    "addnuts['CODE'] = addnuts['CODE'].apply(remove_quotes)\n",
    "\n",
    "addnuts.head()"
   ]
  },
  {
   "cell_type": "code",
   "execution_count": 13,
   "metadata": {},
   "outputs": [],
   "source": [
    "def ret_nuts2(x):\n",
    "    return str(x)[:-1]"
   ]
  },
  {
   "cell_type": "code",
   "execution_count": 14,
   "metadata": {},
   "outputs": [
    {
     "data": {
      "text/html": [
       "<div>\n",
       "<style scoped>\n",
       "    .dataframe tbody tr th:only-of-type {\n",
       "        vertical-align: middle;\n",
       "    }\n",
       "\n",
       "    .dataframe tbody tr th {\n",
       "        vertical-align: top;\n",
       "    }\n",
       "\n",
       "    .dataframe thead th {\n",
       "        text-align: right;\n",
       "    }\n",
       "</style>\n",
       "<table border=\"1\" class=\"dataframe\">\n",
       "  <thead>\n",
       "    <tr style=\"text-align: right;\">\n",
       "      <th></th>\n",
       "      <th>NUTS3</th>\n",
       "      <th>CODE</th>\n",
       "      <th>NUTS2</th>\n",
       "    </tr>\n",
       "  </thead>\n",
       "  <tbody>\n",
       "    <tr>\n",
       "      <th>0</th>\n",
       "      <td>UKM73</td>\n",
       "      <td>EH10 7DP</td>\n",
       "      <td>UKM7</td>\n",
       "    </tr>\n",
       "    <tr>\n",
       "      <th>1</th>\n",
       "      <td>UKM73</td>\n",
       "      <td>EH10 7DX</td>\n",
       "      <td>UKM7</td>\n",
       "    </tr>\n",
       "    <tr>\n",
       "      <th>2</th>\n",
       "      <td>UKM73</td>\n",
       "      <td>EH10 7DY</td>\n",
       "      <td>UKM7</td>\n",
       "    </tr>\n",
       "    <tr>\n",
       "      <th>3</th>\n",
       "      <td>UKM73</td>\n",
       "      <td>EH10 7DZ</td>\n",
       "      <td>UKM7</td>\n",
       "    </tr>\n",
       "    <tr>\n",
       "      <th>4</th>\n",
       "      <td>UKM73</td>\n",
       "      <td>EH10 7EA</td>\n",
       "      <td>UKM7</td>\n",
       "    </tr>\n",
       "  </tbody>\n",
       "</table>\n",
       "</div>"
      ],
      "text/plain": [
       "   NUTS3      CODE NUTS2\n",
       "0  UKM73  EH10 7DP  UKM7\n",
       "1  UKM73  EH10 7DX  UKM7\n",
       "2  UKM73  EH10 7DY  UKM7\n",
       "3  UKM73  EH10 7DZ  UKM7\n",
       "4  UKM73  EH10 7EA  UKM7"
      ]
     },
     "execution_count": 14,
     "metadata": {},
     "output_type": "execute_result"
    }
   ],
   "source": [
    "addnuts['NUTS2'] = addnuts['NUTS3'].apply(ret_nuts2)\n",
    "\n",
    "addnuts.head()"
   ]
  },
  {
   "cell_type": "code",
   "execution_count": 15,
   "metadata": {},
   "outputs": [
    {
     "name": "stdout",
     "output_type": "stream",
     "text": [
      "42\n"
     ]
    },
    {
     "data": {
      "text/plain": [
       "array(['UKM7', 'UKL1', 'UKM9', 'UKD7', 'UKD1', 'UKD3', 'UKC2', 'UKH2',\n",
       "       'UKH3', 'UKJ2', 'UKK2', 'UKH1', 'UKI3', 'UKI4', 'UKJ3', 'UKI5',\n",
       "       'UKI6', 'UKI7', 'UKJ4', 'UKL2', 'UKC1', 'UKG3', 'UKJ1', 'UKM8',\n",
       "       'UKM6', 'UKK4', 'UKF2', 'UKE1', 'UKG1', 'UKE4', 'UKD4', 'UKK1',\n",
       "       'UKF1', 'UKD6', 'UKE2', 'UKF3', 'UKE3', 'UKM5', 'UKG2', 'UKK3',\n",
       "       'UKN0', 'UKN1'], dtype=object)"
      ]
     },
     "execution_count": 15,
     "metadata": {},
     "output_type": "execute_result"
    }
   ],
   "source": [
    "print(len(addnuts['NUTS2'].unique()))\n",
    "addnuts['NUTS2'].unique()"
   ]
  },
  {
   "cell_type": "code",
   "execution_count": 16,
   "metadata": {},
   "outputs": [
    {
     "data": {
      "text/html": [
       "<div>\n",
       "<style scoped>\n",
       "    .dataframe tbody tr th:only-of-type {\n",
       "        vertical-align: middle;\n",
       "    }\n",
       "\n",
       "    .dataframe tbody tr th {\n",
       "        vertical-align: top;\n",
       "    }\n",
       "\n",
       "    .dataframe thead th {\n",
       "        text-align: right;\n",
       "    }\n",
       "</style>\n",
       "<table border=\"1\" class=\"dataframe\">\n",
       "  <thead>\n",
       "    <tr style=\"text-align: right;\">\n",
       "      <th></th>\n",
       "      <th>Post</th>\n",
       "      <th>Nuts2</th>\n",
       "    </tr>\n",
       "  </thead>\n",
       "  <tbody>\n",
       "    <tr>\n",
       "      <th>0</th>\n",
       "      <td>EH10 7DP</td>\n",
       "      <td>UKM7</td>\n",
       "    </tr>\n",
       "    <tr>\n",
       "      <th>1</th>\n",
       "      <td>EH10 7DX</td>\n",
       "      <td>UKM7</td>\n",
       "    </tr>\n",
       "    <tr>\n",
       "      <th>2</th>\n",
       "      <td>EH10 7DY</td>\n",
       "      <td>UKM7</td>\n",
       "    </tr>\n",
       "    <tr>\n",
       "      <th>3</th>\n",
       "      <td>EH10 7DZ</td>\n",
       "      <td>UKM7</td>\n",
       "    </tr>\n",
       "    <tr>\n",
       "      <th>4</th>\n",
       "      <td>EH10 7EA</td>\n",
       "      <td>UKM7</td>\n",
       "    </tr>\n",
       "  </tbody>\n",
       "</table>\n",
       "</div>"
      ],
      "text/plain": [
       "       Post Nuts2\n",
       "0  EH10 7DP  UKM7\n",
       "1  EH10 7DX  UKM7\n",
       "2  EH10 7DY  UKM7\n",
       "3  EH10 7DZ  UKM7\n",
       "4  EH10 7EA  UKM7"
      ]
     },
     "execution_count": 16,
     "metadata": {},
     "output_type": "execute_result"
    }
   ],
   "source": [
    "addnuts = addnuts[['CODE', 'NUTS2']]\n",
    "addnuts.rename(columns={\"CODE\": \"Post\", \"NUTS2\": \"Nuts2\"}, inplace=True)\n",
    "\n",
    "addnuts.head()"
   ]
  },
  {
   "cell_type": "code",
   "execution_count": 17,
   "metadata": {},
   "outputs": [
    {
     "data": {
      "text/html": [
       "<div>\n",
       "<style scoped>\n",
       "    .dataframe tbody tr th:only-of-type {\n",
       "        vertical-align: middle;\n",
       "    }\n",
       "\n",
       "    .dataframe tbody tr th {\n",
       "        vertical-align: top;\n",
       "    }\n",
       "\n",
       "    .dataframe thead th {\n",
       "        text-align: right;\n",
       "    }\n",
       "</style>\n",
       "<table border=\"1\" class=\"dataframe\">\n",
       "  <thead>\n",
       "    <tr style=\"text-align: right;\">\n",
       "      <th></th>\n",
       "      <th>EmployerName</th>\n",
       "      <th>Address</th>\n",
       "      <th>CompanyNumber</th>\n",
       "      <th>SicCodes</th>\n",
       "      <th>DiffMeanHourlyPercent</th>\n",
       "      <th>DiffMedianHourlyPercent</th>\n",
       "      <th>DiffMeanBonusPercent</th>\n",
       "      <th>DiffMedianBonusPercent</th>\n",
       "      <th>MaleBonusPercent</th>\n",
       "      <th>FemaleBonusPercent</th>\n",
       "      <th>...</th>\n",
       "      <th>EmployerSize</th>\n",
       "      <th>CurrentName</th>\n",
       "      <th>SubmittedAfterTheDeadline</th>\n",
       "      <th>DueDate</th>\n",
       "      <th>DateSubmitted</th>\n",
       "      <th>Post</th>\n",
       "      <th>Val</th>\n",
       "      <th>MainSic</th>\n",
       "      <th>MainSection</th>\n",
       "      <th>Nuts2</th>\n",
       "    </tr>\n",
       "  </thead>\n",
       "  <tbody>\n",
       "    <tr>\n",
       "      <th>9623</th>\n",
       "      <td>THE ROYAL MASONIC BENEVOLENT INSTITUTION CARE ...</td>\n",
       "      <td>60 Great Queen Street,\\r\\r\\r\\r\\nLondon,\\r\\r\\r\\...</td>\n",
       "      <td>01293566</td>\n",
       "      <td>87100</td>\n",
       "      <td>15.0</td>\n",
       "      <td>5.1</td>\n",
       "      <td>0.0</td>\n",
       "      <td>0.0</td>\n",
       "      <td>0.0</td>\n",
       "      <td>0.5</td>\n",
       "      <td>...</td>\n",
       "      <td>1000 to 4999</td>\n",
       "      <td>THE ROYAL MASONIC BENEVOLENT INSTITUTION CARE ...</td>\n",
       "      <td>False</td>\n",
       "      <td>05/04/2019 00:00:00</td>\n",
       "      <td>01/02/2019 13:41:21</td>\n",
       "      <td>WC2B 5AZ</td>\n",
       "      <td>True</td>\n",
       "      <td>87100</td>\n",
       "      <td>Human health and social work activities</td>\n",
       "      <td>UKI3</td>\n",
       "    </tr>\n",
       "    <tr>\n",
       "      <th>6380</th>\n",
       "      <td>LONDON UNDERGROUND LIMITED</td>\n",
       "      <td>55 Broadway,\\r\\r\\r\\r\\nLondon,\\r\\r\\r\\r\\nUnited ...</td>\n",
       "      <td>01900907</td>\n",
       "      <td>49311</td>\n",
       "      <td>12.7</td>\n",
       "      <td>21.7</td>\n",
       "      <td>9.0</td>\n",
       "      <td>0.0</td>\n",
       "      <td>93.3</td>\n",
       "      <td>89.8</td>\n",
       "      <td>...</td>\n",
       "      <td>5000 to 19,999</td>\n",
       "      <td>LONDON UNDERGROUND LIMITED</td>\n",
       "      <td>False</td>\n",
       "      <td>05/04/2019 00:00:00</td>\n",
       "      <td>27/03/2019 09:55:43</td>\n",
       "      <td>SW1H 0BD</td>\n",
       "      <td>True</td>\n",
       "      <td>49311</td>\n",
       "      <td>Transportation and storage</td>\n",
       "      <td>UKI3</td>\n",
       "    </tr>\n",
       "  </tbody>\n",
       "</table>\n",
       "<p>2 rows × 30 columns</p>\n",
       "</div>"
      ],
      "text/plain": [
       "                                           EmployerName  \\\n",
       "9623  THE ROYAL MASONIC BENEVOLENT INSTITUTION CARE ...   \n",
       "6380                         LONDON UNDERGROUND LIMITED   \n",
       "\n",
       "                                                Address CompanyNumber  \\\n",
       "9623  60 Great Queen Street,\\r\\r\\r\\r\\nLondon,\\r\\r\\r\\...      01293566   \n",
       "6380  55 Broadway,\\r\\r\\r\\r\\nLondon,\\r\\r\\r\\r\\nUnited ...      01900907   \n",
       "\n",
       "     SicCodes  DiffMeanHourlyPercent  DiffMedianHourlyPercent  \\\n",
       "9623    87100                   15.0                      5.1   \n",
       "6380    49311                   12.7                     21.7   \n",
       "\n",
       "      DiffMeanBonusPercent  DiffMedianBonusPercent  MaleBonusPercent  \\\n",
       "9623                   0.0                     0.0               0.0   \n",
       "6380                   9.0                     0.0              93.3   \n",
       "\n",
       "      FemaleBonusPercent  ...     EmployerSize  \\\n",
       "9623                 0.5  ...     1000 to 4999   \n",
       "6380                89.8  ...   5000 to 19,999   \n",
       "\n",
       "                                            CurrentName  \\\n",
       "9623  THE ROYAL MASONIC BENEVOLENT INSTITUTION CARE ...   \n",
       "6380                         LONDON UNDERGROUND LIMITED   \n",
       "\n",
       "      SubmittedAfterTheDeadline              DueDate        DateSubmitted  \\\n",
       "9623                      False  05/04/2019 00:00:00  01/02/2019 13:41:21   \n",
       "6380                      False  05/04/2019 00:00:00  27/03/2019 09:55:43   \n",
       "\n",
       "          Post   Val  MainSic                              MainSection Nuts2  \n",
       "9623  WC2B 5AZ  True    87100  Human health and social work activities  UKI3  \n",
       "6380  SW1H 0BD  True    49311               Transportation and storage  UKI3  \n",
       "\n",
       "[2 rows x 30 columns]"
      ]
     },
     "execution_count": 17,
     "metadata": {},
     "output_type": "execute_result"
    }
   ],
   "source": [
    "borig = pd.merge(borig, addnuts, on='Post')\n",
    "\n",
    "borig.sample(2)"
   ]
  },
  {
   "cell_type": "code",
   "execution_count": 18,
   "metadata": {},
   "outputs": [
    {
     "data": {
      "text/html": [
       "<div>\n",
       "<style scoped>\n",
       "    .dataframe tbody tr th:only-of-type {\n",
       "        vertical-align: middle;\n",
       "    }\n",
       "\n",
       "    .dataframe tbody tr th {\n",
       "        vertical-align: top;\n",
       "    }\n",
       "\n",
       "    .dataframe thead th {\n",
       "        text-align: right;\n",
       "    }\n",
       "</style>\n",
       "<table border=\"1\" class=\"dataframe\">\n",
       "  <thead>\n",
       "    <tr style=\"text-align: right;\">\n",
       "      <th></th>\n",
       "      <th>Nuts2</th>\n",
       "      <th>Diff_avg</th>\n",
       "    </tr>\n",
       "  </thead>\n",
       "  <tbody>\n",
       "    <tr>\n",
       "      <th>0</th>\n",
       "      <td>UKM5</td>\n",
       "      <td>17.971233</td>\n",
       "    </tr>\n",
       "    <tr>\n",
       "      <th>1</th>\n",
       "      <td>UKI3</td>\n",
       "      <td>17.051724</td>\n",
       "    </tr>\n",
       "    <tr>\n",
       "      <th>2</th>\n",
       "      <td>UKI6</td>\n",
       "      <td>16.653788</td>\n",
       "    </tr>\n",
       "    <tr>\n",
       "      <th>3</th>\n",
       "      <td>UKH3</td>\n",
       "      <td>15.974299</td>\n",
       "    </tr>\n",
       "    <tr>\n",
       "      <th>4</th>\n",
       "      <td>UKI4</td>\n",
       "      <td>15.819089</td>\n",
       "    </tr>\n",
       "  </tbody>\n",
       "</table>\n",
       "</div>"
      ],
      "text/plain": [
       "  Nuts2   Diff_avg\n",
       "0  UKM5  17.971233\n",
       "1  UKI3  17.051724\n",
       "2  UKI6  16.653788\n",
       "3  UKH3  15.974299\n",
       "4  UKI4  15.819089"
      ]
     },
     "execution_count": 18,
     "metadata": {},
     "output_type": "execute_result"
    }
   ],
   "source": [
    "ldn_piv = pivot_table(borig, values='DiffMeanHourlyPercent',\n",
    "                     index=['Nuts2'], aggfunc=np.mean)\n",
    "\n",
    "\n",
    "ldn_piv.rename(columns={'DiffMeanHourlyPercent':'Diff_avg'}, inplace=True)\n",
    "ldn_piv.sort_values(by=['Diff_avg'], ascending=False, inplace=True)\n",
    "ldn_piv.reset_index(inplace=True)\n",
    "\n",
    "ldn_piv.head()"
   ]
  },
  {
   "cell_type": "code",
   "execution_count": 19,
   "metadata": {},
   "outputs": [
    {
     "data": {
      "text/html": [
       "<div>\n",
       "<style scoped>\n",
       "    .dataframe tbody tr th:only-of-type {\n",
       "        vertical-align: middle;\n",
       "    }\n",
       "\n",
       "    .dataframe tbody tr th {\n",
       "        vertical-align: top;\n",
       "    }\n",
       "\n",
       "    .dataframe thead th {\n",
       "        text-align: right;\n",
       "    }\n",
       "</style>\n",
       "<table border=\"1\" class=\"dataframe\">\n",
       "  <thead>\n",
       "    <tr style=\"text-align: right;\">\n",
       "      <th></th>\n",
       "      <th>Nuts2</th>\n",
       "      <th>Diff_avg</th>\n",
       "      <th>name</th>\n",
       "      <th>lat</th>\n",
       "      <th>lon</th>\n",
       "      <th>geometry</th>\n",
       "    </tr>\n",
       "  </thead>\n",
       "  <tbody>\n",
       "    <tr>\n",
       "      <th>0</th>\n",
       "      <td>UKM5</td>\n",
       "      <td>17.971233</td>\n",
       "      <td>North Eastern Scotland</td>\n",
       "      <td>57.223869</td>\n",
       "      <td>-2.64976</td>\n",
       "      <td>(POLYGON ((-2.792263088835554 57.7004555931742...</td>\n",
       "    </tr>\n",
       "    <tr>\n",
       "      <th>1</th>\n",
       "      <td>UKI3</td>\n",
       "      <td>17.051724</td>\n",
       "      <td>Inner London - West</td>\n",
       "      <td>51.518639</td>\n",
       "      <td>-0.16383</td>\n",
       "      <td>(POLYGON ((-0.1661887358376487 51.572791946112...</td>\n",
       "    </tr>\n",
       "  </tbody>\n",
       "</table>\n",
       "</div>"
      ],
      "text/plain": [
       "  Nuts2   Diff_avg                    name        lat      lon  \\\n",
       "0  UKM5  17.971233  North Eastern Scotland  57.223869 -2.64976   \n",
       "1  UKI3  17.051724     Inner London - West  51.518639 -0.16383   \n",
       "\n",
       "                                            geometry  \n",
       "0  (POLYGON ((-2.792263088835554 57.7004555931742...  \n",
       "1  (POLYGON ((-0.1661887358376487 51.572791946112...  "
      ]
     },
     "execution_count": 19,
     "metadata": {},
     "output_type": "execute_result"
    }
   ],
   "source": [
    "county_short = county_df.copy()\n",
    "county_short = county_short[['nuts218cd', 'nuts218nm', 'lat', 'long', 'geometry']]\n",
    "county_short.rename(columns={'nuts218cd':'Nuts2', 'nuts218nm': 'name', 'long': 'lon'}, inplace=True)\n",
    "ldn_piv = pd.merge(ldn_piv, county_short, on='Nuts2')\n",
    "\n",
    "ldn_piv.head(2)"
   ]
  },
  {
   "cell_type": "code",
   "execution_count": 20,
   "metadata": {},
   "outputs": [
    {
     "name": "stdout",
     "output_type": "stream",
     "text": [
      "<class 'pandas.core.frame.DataFrame'>\n"
     ]
    },
    {
     "data": {
      "text/html": [
       "<div>\n",
       "<style scoped>\n",
       "    .dataframe tbody tr th:only-of-type {\n",
       "        vertical-align: middle;\n",
       "    }\n",
       "\n",
       "    .dataframe tbody tr th {\n",
       "        vertical-align: top;\n",
       "    }\n",
       "\n",
       "    .dataframe thead th {\n",
       "        text-align: right;\n",
       "    }\n",
       "</style>\n",
       "<table border=\"1\" class=\"dataframe\">\n",
       "  <thead>\n",
       "    <tr style=\"text-align: right;\">\n",
       "      <th></th>\n",
       "      <th>geometry</th>\n",
       "    </tr>\n",
       "  </thead>\n",
       "  <tbody>\n",
       "    <tr>\n",
       "      <th>0</th>\n",
       "      <td>(POLYGON ((-2.792263088835554 57.7004555931742...</td>\n",
       "    </tr>\n",
       "    <tr>\n",
       "      <th>1</th>\n",
       "      <td>(POLYGON ((-0.1661887358376487 51.572791946112...</td>\n",
       "    </tr>\n",
       "  </tbody>\n",
       "</table>\n",
       "</div>"
      ],
      "text/plain": [
       "                                            geometry\n",
       "0  (POLYGON ((-2.792263088835554 57.7004555931742...\n",
       "1  (POLYGON ((-0.1661887358376487 51.572791946112..."
      ]
     },
     "execution_count": 20,
     "metadata": {},
     "output_type": "execute_result"
    }
   ],
   "source": [
    "ldn_piv = ldn_piv[['geometry']]\n",
    "\n",
    "print(type(ldn_piv))\n",
    "ldn_piv.head(2)"
   ]
  },
  {
   "cell_type": "code",
   "execution_count": 21,
   "metadata": {},
   "outputs": [
    {
     "name": "stdout",
     "output_type": "stream",
     "text": [
      "<class 'geopandas.geodataframe.GeoDataFrame'>\n"
     ]
    },
    {
     "data": {
      "text/html": [
       "<div>\n",
       "<style scoped>\n",
       "    .dataframe tbody tr th:only-of-type {\n",
       "        vertical-align: middle;\n",
       "    }\n",
       "\n",
       "    .dataframe tbody tr th {\n",
       "        vertical-align: top;\n",
       "    }\n",
       "\n",
       "    .dataframe thead th {\n",
       "        text-align: right;\n",
       "    }\n",
       "</style>\n",
       "<table border=\"1\" class=\"dataframe\">\n",
       "  <thead>\n",
       "    <tr style=\"text-align: right;\">\n",
       "      <th></th>\n",
       "      <th>geometry</th>\n",
       "    </tr>\n",
       "  </thead>\n",
       "  <tbody>\n",
       "    <tr>\n",
       "      <th>0</th>\n",
       "      <td>(POLYGON ((-2.792263088835554 57.7004555931742...</td>\n",
       "    </tr>\n",
       "    <tr>\n",
       "      <th>1</th>\n",
       "      <td>(POLYGON ((-0.1661887358376487 51.572791946112...</td>\n",
       "    </tr>\n",
       "  </tbody>\n",
       "</table>\n",
       "</div>"
      ],
      "text/plain": [
       "                                            geometry\n",
       "0  (POLYGON ((-2.792263088835554 57.7004555931742...\n",
       "1  (POLYGON ((-0.1661887358376487 51.572791946112..."
      ]
     },
     "execution_count": 21,
     "metadata": {},
     "output_type": "execute_result"
    }
   ],
   "source": [
    "ldn_geo = gpd.GeoDataFrame(ldn_piv)\n",
    "\n",
    "print(type(ldn_geo))\n",
    "ldn_geo.head(2)"
   ]
  },
  {
   "cell_type": "code",
   "execution_count": 22,
   "metadata": {},
   "outputs": [],
   "source": [
    "# f, ax = plt.subplots(1, figsize=(8, 8))\n",
    "# ax = ldn_geo.plot(column='Diff_avg', cmap='Reds', ax=ax)\n",
    "# plt.show()"
   ]
  },
  {
   "cell_type": "code",
   "execution_count": 23,
   "metadata": {},
   "outputs": [],
   "source": [
    "# ldn_geo.to_file(\"ldn_geojson_file\", driver = \"GeoJSON\")"
   ]
  },
  {
   "cell_type": "code",
   "execution_count": 24,
   "metadata": {
    "scrolled": true
   },
   "outputs": [
    {
     "name": "stdout",
     "output_type": "stream",
     "text": [
      "(192, 1)\n"
     ]
    },
    {
     "data": {
      "text/html": [
       "<div>\n",
       "<style scoped>\n",
       "    .dataframe tbody tr th:only-of-type {\n",
       "        vertical-align: middle;\n",
       "    }\n",
       "\n",
       "    .dataframe tbody tr th {\n",
       "        vertical-align: top;\n",
       "    }\n",
       "\n",
       "    .dataframe thead th {\n",
       "        text-align: right;\n",
       "    }\n",
       "</style>\n",
       "<table border=\"1\" class=\"dataframe\">\n",
       "  <thead>\n",
       "    <tr style=\"text-align: right;\">\n",
       "      <th></th>\n",
       "      <th>geometry</th>\n",
       "    </tr>\n",
       "  </thead>\n",
       "  <tbody>\n",
       "    <tr>\n",
       "      <th>0</th>\n",
       "      <td>POLYGON ((-3.679454493748835 57.09550845318427...</td>\n",
       "    </tr>\n",
       "    <tr>\n",
       "      <th>1</th>\n",
       "      <td>(POLYGON ((-6.456943677077106 58.1306964278733...</td>\n",
       "    </tr>\n",
       "    <tr>\n",
       "      <th>2</th>\n",
       "      <td>POLYGON ((-3.079321608505779 56.47496134984158...</td>\n",
       "    </tr>\n",
       "    <tr>\n",
       "      <th>3</th>\n",
       "      <td>(POLYGON ((-1.455113814048218 60.3183202321033...</td>\n",
       "    </tr>\n",
       "    <tr>\n",
       "      <th>4</th>\n",
       "      <td>(POLYGON ((-2.96638815745564 58.98152967735905...</td>\n",
       "    </tr>\n",
       "  </tbody>\n",
       "</table>\n",
       "</div>"
      ],
      "text/plain": [
       "                                            geometry\n",
       "0  POLYGON ((-3.679454493748835 57.09550845318427...\n",
       "1  (POLYGON ((-6.456943677077106 58.1306964278733...\n",
       "2  POLYGON ((-3.079321608505779 56.47496134984158...\n",
       "3  (POLYGON ((-1.455113814048218 60.3183202321033...\n",
       "4  (POLYGON ((-2.96638815745564 58.98152967735905..."
      ]
     },
     "execution_count": 24,
     "metadata": {},
     "output_type": "execute_result"
    }
   ],
   "source": [
    "map_shp = 'map.shp'\n",
    "map_df = gpd.read_file(map_shp)\n",
    "\n",
    "print(map_df.shape)\n",
    "map_df.head()"
   ]
  },
  {
   "cell_type": "code",
   "execution_count": 25,
   "metadata": {},
   "outputs": [],
   "source": [
    "# print(map_df.iloc[0,0])"
   ]
  },
  {
   "cell_type": "code",
   "execution_count": 26,
   "metadata": {},
   "outputs": [],
   "source": [
    "test_df = map_df[:10]"
   ]
  },
  {
   "cell_type": "code",
   "execution_count": 27,
   "metadata": {},
   "outputs": [],
   "source": [
    "# test_df.to_file(\"test_geojson_file\", driver = \"GeoJSON\")"
   ]
  },
  {
   "cell_type": "code",
   "execution_count": 28,
   "metadata": {},
   "outputs": [
    {
     "name": "stdout",
     "output_type": "stream",
     "text": [
      "(171, 1)\n"
     ]
    },
    {
     "data": {
      "text/html": [
       "<div>\n",
       "<style scoped>\n",
       "    .dataframe tbody tr th:only-of-type {\n",
       "        vertical-align: middle;\n",
       "    }\n",
       "\n",
       "    .dataframe tbody tr th {\n",
       "        vertical-align: top;\n",
       "    }\n",
       "\n",
       "    .dataframe thead th {\n",
       "        text-align: right;\n",
       "    }\n",
       "</style>\n",
       "<table border=\"1\" class=\"dataframe\">\n",
       "  <thead>\n",
       "    <tr style=\"text-align: right;\">\n",
       "      <th></th>\n",
       "      <th>geometry</th>\n",
       "    </tr>\n",
       "  </thead>\n",
       "  <tbody>\n",
       "    <tr>\n",
       "      <th>0</th>\n",
       "      <td>POLYGON ((-122.7510410003212 45.58899699982094...</td>\n",
       "    </tr>\n",
       "    <tr>\n",
       "      <th>1</th>\n",
       "      <td>POLYGON ((-122.743790999497 45.49230199978773,...</td>\n",
       "    </tr>\n",
       "    <tr>\n",
       "      <th>2</th>\n",
       "      <td>POLYGON ((-122.5737230009364 45.55444300002641...</td>\n",
       "    </tr>\n",
       "    <tr>\n",
       "      <th>3</th>\n",
       "      <td>POLYGON ((-122.4964559999942 45.52220100059802...</td>\n",
       "    </tr>\n",
       "    <tr>\n",
       "      <th>4</th>\n",
       "      <td>POLYGON ((-122.4647909997784 45.49286100012013...</td>\n",
       "    </tr>\n",
       "  </tbody>\n",
       "</table>\n",
       "</div>"
      ],
      "text/plain": [
       "                                            geometry\n",
       "0  POLYGON ((-122.7510410003212 45.58899699982094...\n",
       "1  POLYGON ((-122.743790999497 45.49230199978773,...\n",
       "2  POLYGON ((-122.5737230009364 45.55444300002641...\n",
       "3  POLYGON ((-122.4964559999942 45.52220100059802...\n",
       "4  POLYGON ((-122.4647909997784 45.49286100012013..."
      ]
     },
     "execution_count": 28,
     "metadata": {},
     "output_type": "execute_result"
    }
   ],
   "source": [
    "eng_shp = 'Limited_English_Proficiency.shp'\n",
    "eng_df = gpd.read_file(eng_shp)\n",
    "\n",
    "print(eng_df.shape)\n",
    "eng_df.head()"
   ]
  },
  {
   "cell_type": "code",
   "execution_count": 29,
   "metadata": {},
   "outputs": [],
   "source": [
    "with open(\"test_geojson_file\") as geofile:\n",
    "    geojson_layer = json.load(geofile)"
   ]
  },
  {
   "cell_type": "code",
   "execution_count": 30,
   "metadata": {},
   "outputs": [],
   "source": [
    "# for i in geojson_layer['features']:\n",
    "#     print(i)"
   ]
  },
  {
   "cell_type": "code",
   "execution_count": 31,
   "metadata": {},
   "outputs": [
    {
     "data": {
      "text/html": [
       "<div>\n",
       "<style scoped>\n",
       "    .dataframe tbody tr th:only-of-type {\n",
       "        vertical-align: middle;\n",
       "    }\n",
       "\n",
       "    .dataframe tbody tr th {\n",
       "        vertical-align: top;\n",
       "    }\n",
       "\n",
       "    .dataframe thead th {\n",
       "        text-align: right;\n",
       "    }\n",
       "</style>\n",
       "<table border=\"1\" class=\"dataframe\">\n",
       "  <thead>\n",
       "    <tr style=\"text-align: right;\">\n",
       "      <th></th>\n",
       "      <th>objectid</th>\n",
       "      <th>nuts118cd</th>\n",
       "      <th>nuts118nm</th>\n",
       "      <th>bng_e</th>\n",
       "      <th>bng_n</th>\n",
       "      <th>long</th>\n",
       "      <th>lat</th>\n",
       "      <th>st_areasha</th>\n",
       "      <th>st_lengths</th>\n",
       "      <th>geometry</th>\n",
       "    </tr>\n",
       "  </thead>\n",
       "  <tbody>\n",
       "    <tr>\n",
       "      <th>0</th>\n",
       "      <td>1</td>\n",
       "      <td>UKC</td>\n",
       "      <td>North East (England)</td>\n",
       "      <td>417313</td>\n",
       "      <td>600358</td>\n",
       "      <td>-1.728900</td>\n",
       "      <td>55.297031</td>\n",
       "      <td>8.592429e+09</td>\n",
       "      <td>1.008435e+06</td>\n",
       "      <td>(POLYGON ((-2.024151451980134 55.7711741685706...</td>\n",
       "    </tr>\n",
       "    <tr>\n",
       "      <th>1</th>\n",
       "      <td>2</td>\n",
       "      <td>UKD</td>\n",
       "      <td>North West (England)</td>\n",
       "      <td>350015</td>\n",
       "      <td>506280</td>\n",
       "      <td>-2.772370</td>\n",
       "      <td>54.449451</td>\n",
       "      <td>1.416409e+10</td>\n",
       "      <td>2.075324e+06</td>\n",
       "      <td>(POLYGON ((-2.675590620680368 55.1733220183547...</td>\n",
       "    </tr>\n",
       "    <tr>\n",
       "      <th>2</th>\n",
       "      <td>3</td>\n",
       "      <td>UKE</td>\n",
       "      <td>Yorkshire and The Humber</td>\n",
       "      <td>446903</td>\n",
       "      <td>448736</td>\n",
       "      <td>-1.287120</td>\n",
       "      <td>53.932640</td>\n",
       "      <td>1.540912e+10</td>\n",
       "      <td>1.385386e+06</td>\n",
       "      <td>(POLYGON ((-0.790730892883332 54.5589697923404...</td>\n",
       "    </tr>\n",
       "    <tr>\n",
       "      <th>3</th>\n",
       "      <td>4</td>\n",
       "      <td>UKF</td>\n",
       "      <td>East Midlands (England)</td>\n",
       "      <td>477660</td>\n",
       "      <td>322635</td>\n",
       "      <td>-0.849670</td>\n",
       "      <td>52.795719</td>\n",
       "      <td>1.564327e+10</td>\n",
       "      <td>1.332317e+06</td>\n",
       "      <td>(POLYGON ((-0.2997641897034416 53.614706699691...</td>\n",
       "    </tr>\n",
       "    <tr>\n",
       "      <th>4</th>\n",
       "      <td>5</td>\n",
       "      <td>UKG</td>\n",
       "      <td>West Midlands (England)</td>\n",
       "      <td>386294</td>\n",
       "      <td>295477</td>\n",
       "      <td>-2.203580</td>\n",
       "      <td>52.556969</td>\n",
       "      <td>1.300374e+10</td>\n",
       "      <td>9.539014e+05</td>\n",
       "      <td>POLYGON ((-1.958916299467313 53.21667771171843...</td>\n",
       "    </tr>\n",
       "    <tr>\n",
       "      <th>5</th>\n",
       "      <td>6</td>\n",
       "      <td>UKH</td>\n",
       "      <td>East of England</td>\n",
       "      <td>571074</td>\n",
       "      <td>263229</td>\n",
       "      <td>0.504146</td>\n",
       "      <td>52.240669</td>\n",
       "      <td>1.913556e+10</td>\n",
       "      <td>2.646573e+06</td>\n",
       "      <td>(POLYGON ((0.9906408894588158 52.9783850680571...</td>\n",
       "    </tr>\n",
       "    <tr>\n",
       "      <th>6</th>\n",
       "      <td>7</td>\n",
       "      <td>UKI</td>\n",
       "      <td>London</td>\n",
       "      <td>517516</td>\n",
       "      <td>178392</td>\n",
       "      <td>-0.308640</td>\n",
       "      <td>51.492271</td>\n",
       "      <td>1.573510e+09</td>\n",
       "      <td>4.202000e+05</td>\n",
       "      <td>(POLYGON ((-0.09686229700769114 51.69055427763...</td>\n",
       "    </tr>\n",
       "    <tr>\n",
       "      <th>7</th>\n",
       "      <td>8</td>\n",
       "      <td>UKJ</td>\n",
       "      <td>South East (England)</td>\n",
       "      <td>470062</td>\n",
       "      <td>172924</td>\n",
       "      <td>-0.993110</td>\n",
       "      <td>51.450970</td>\n",
       "      <td>1.908876e+10</td>\n",
       "      <td>2.443292e+06</td>\n",
       "      <td>(POLYGON ((-0.6821291665320552 52.195856590741...</td>\n",
       "    </tr>\n",
       "    <tr>\n",
       "      <th>8</th>\n",
       "      <td>9</td>\n",
       "      <td>UKK</td>\n",
       "      <td>South West (England)</td>\n",
       "      <td>285015</td>\n",
       "      <td>102567</td>\n",
       "      <td>-3.633430</td>\n",
       "      <td>50.811192</td>\n",
       "      <td>2.385137e+10</td>\n",
       "      <td>3.400380e+06</td>\n",
       "      <td>(POLYGON ((-1.762504169832054 52.1073426651031...</td>\n",
       "    </tr>\n",
       "    <tr>\n",
       "      <th>9</th>\n",
       "      <td>10</td>\n",
       "      <td>UKL</td>\n",
       "      <td>Wales</td>\n",
       "      <td>263406</td>\n",
       "      <td>242881</td>\n",
       "      <td>-3.994160</td>\n",
       "      <td>52.067410</td>\n",
       "      <td>2.078213e+10</td>\n",
       "      <td>3.082421e+06</td>\n",
       "      <td>(POLYGON ((-3.32217970820852 53.35686518738494...</td>\n",
       "    </tr>\n",
       "    <tr>\n",
       "      <th>10</th>\n",
       "      <td>11</td>\n",
       "      <td>UKM</td>\n",
       "      <td>Scotland</td>\n",
       "      <td>277746</td>\n",
       "      <td>700060</td>\n",
       "      <td>-3.970910</td>\n",
       "      <td>56.177429</td>\n",
       "      <td>7.880324e+10</td>\n",
       "      <td>1.886818e+07</td>\n",
       "      <td>(POLYGON ((-3.374901068691838 58.6715701614714...</td>\n",
       "    </tr>\n",
       "    <tr>\n",
       "      <th>11</th>\n",
       "      <td>12</td>\n",
       "      <td>UKN</td>\n",
       "      <td>Northern Ireland</td>\n",
       "      <td>86601</td>\n",
       "      <td>535325</td>\n",
       "      <td>-6.854810</td>\n",
       "      <td>54.614941</td>\n",
       "      <td>1.433343e+10</td>\n",
       "      <td>1.131177e+06</td>\n",
       "      <td>(POLYGON ((-6.48211455420881 55.25195185602634...</td>\n",
       "    </tr>\n",
       "  </tbody>\n",
       "</table>\n",
       "</div>"
      ],
      "text/plain": [
       "    objectid nuts118cd                 nuts118nm   bng_e   bng_n      long  \\\n",
       "0          1       UKC      North East (England)  417313  600358 -1.728900   \n",
       "1          2       UKD      North West (England)  350015  506280 -2.772370   \n",
       "2          3       UKE  Yorkshire and The Humber  446903  448736 -1.287120   \n",
       "3          4       UKF   East Midlands (England)  477660  322635 -0.849670   \n",
       "4          5       UKG   West Midlands (England)  386294  295477 -2.203580   \n",
       "5          6       UKH           East of England  571074  263229  0.504146   \n",
       "6          7       UKI                    London  517516  178392 -0.308640   \n",
       "7          8       UKJ      South East (England)  470062  172924 -0.993110   \n",
       "8          9       UKK      South West (England)  285015  102567 -3.633430   \n",
       "9         10       UKL                     Wales  263406  242881 -3.994160   \n",
       "10        11       UKM                  Scotland  277746  700060 -3.970910   \n",
       "11        12       UKN          Northern Ireland   86601  535325 -6.854810   \n",
       "\n",
       "          lat    st_areasha    st_lengths  \\\n",
       "0   55.297031  8.592429e+09  1.008435e+06   \n",
       "1   54.449451  1.416409e+10  2.075324e+06   \n",
       "2   53.932640  1.540912e+10  1.385386e+06   \n",
       "3   52.795719  1.564327e+10  1.332317e+06   \n",
       "4   52.556969  1.300374e+10  9.539014e+05   \n",
       "5   52.240669  1.913556e+10  2.646573e+06   \n",
       "6   51.492271  1.573510e+09  4.202000e+05   \n",
       "7   51.450970  1.908876e+10  2.443292e+06   \n",
       "8   50.811192  2.385137e+10  3.400380e+06   \n",
       "9   52.067410  2.078213e+10  3.082421e+06   \n",
       "10  56.177429  7.880324e+10  1.886818e+07   \n",
       "11  54.614941  1.433343e+10  1.131177e+06   \n",
       "\n",
       "                                             geometry  \n",
       "0   (POLYGON ((-2.024151451980134 55.7711741685706...  \n",
       "1   (POLYGON ((-2.675590620680368 55.1733220183547...  \n",
       "2   (POLYGON ((-0.790730892883332 54.5589697923404...  \n",
       "3   (POLYGON ((-0.2997641897034416 53.614706699691...  \n",
       "4   POLYGON ((-1.958916299467313 53.21667771171843...  \n",
       "5   (POLYGON ((0.9906408894588158 52.9783850680571...  \n",
       "6   (POLYGON ((-0.09686229700769114 51.69055427763...  \n",
       "7   (POLYGON ((-0.6821291665320552 52.195856590741...  \n",
       "8   (POLYGON ((-1.762504169832054 52.1073426651031...  \n",
       "9   (POLYGON ((-3.32217970820852 53.35686518738494...  \n",
       "10  (POLYGON ((-3.374901068691838 58.6715701614714...  \n",
       "11  (POLYGON ((-6.48211455420881 55.25195185602634...  "
      ]
     },
     "execution_count": 31,
     "metadata": {},
     "output_type": "execute_result"
    }
   ],
   "source": [
    "nuts_df # grab 1st"
   ]
  },
  {
   "cell_type": "code",
   "execution_count": 33,
   "metadata": {},
   "outputs": [],
   "source": [
    "with open(\"Counties_December_2017_Generalised_Clipped_Boundaries_in_England.geojson\") as geofile:\n",
    "    geojson_layer = json.load(geofile)"
   ]
  },
  {
   "cell_type": "code",
   "execution_count": 36,
   "metadata": {},
   "outputs": [
    {
     "name": "stdout",
     "output_type": "stream",
     "text": [
      "27\n"
     ]
    }
   ],
   "source": [
    "counter = 0\n",
    "\n",
    "for i in geojson_layer['features']:\n",
    "    counter += 1\n",
    "    \n",
    "print(counter)"
   ]
  },
  {
   "cell_type": "code",
   "execution_count": 38,
   "metadata": {},
   "outputs": [
    {
     "data": {
      "text/plain": [
       "27"
      ]
     },
     "execution_count": 38,
     "metadata": {},
     "output_type": "execute_result"
    }
   ],
   "source": [
    "len(geojson_layer['features'])"
   ]
  },
  {
   "cell_type": "code",
   "execution_count": null,
   "metadata": {},
   "outputs": [],
   "source": []
  }
 ],
 "metadata": {
  "kernelspec": {
   "display_name": "Python 3",
   "language": "python",
   "name": "python3"
  },
  "language_info": {
   "codemirror_mode": {
    "name": "ipython",
    "version": 3
   },
   "file_extension": ".py",
   "mimetype": "text/x-python",
   "name": "python",
   "nbconvert_exporter": "python",
   "pygments_lexer": "ipython3",
   "version": "3.6.4"
  }
 },
 "nbformat": 4,
 "nbformat_minor": 2
}
