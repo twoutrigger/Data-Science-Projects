{
 "cells": [
  {
   "cell_type": "code",
   "execution_count": 1,
   "metadata": {},
   "outputs": [],
   "source": [
    "import numpy as np\n",
    "import pandas as pd\n",
    "from pandas import pivot_table\n",
    "import matplotlib.pyplot as plt\n",
    "import seaborn as sns\n",
    "import geopandas as gpd\n",
    "import json\n",
    "\n",
    "%matplotlib inline"
   ]
  },
  {
   "cell_type": "code",
   "execution_count": 3,
   "metadata": {},
   "outputs": [
    {
     "name": "stderr",
     "output_type": "stream",
     "text": [
      "C:\\Users\\liamk\\Anaconda3\\lib\\site-packages\\IPython\\core\\interactiveshell.py:2785: DtypeWarning: Columns (7,17,18,21,22,24,25,29,32,39) have mixed types. Specify dtype option on import or set low_memory=False.\n",
      "  interactivity=interactivity, compiler=compiler, result=result)\n"
     ]
    },
    {
     "name": "stdout",
     "output_type": "stream",
     "text": [
      "(2615669, 44)\n"
     ]
    },
    {
     "data": {
      "text/html": [
       "<div>\n",
       "<style scoped>\n",
       "    .dataframe tbody tr th:only-of-type {\n",
       "        vertical-align: middle;\n",
       "    }\n",
       "\n",
       "    .dataframe tbody tr th {\n",
       "        vertical-align: top;\n",
       "    }\n",
       "\n",
       "    .dataframe thead th {\n",
       "        text-align: right;\n",
       "    }\n",
       "</style>\n",
       "<table border=\"1\" class=\"dataframe\">\n",
       "  <thead>\n",
       "    <tr style=\"text-align: right;\">\n",
       "      <th></th>\n",
       "      <th>Postcode</th>\n",
       "      <th>In Use?</th>\n",
       "      <th>Latitude</th>\n",
       "      <th>Longitude</th>\n",
       "      <th>Easting</th>\n",
       "      <th>Northing</th>\n",
       "      <th>Grid Ref</th>\n",
       "      <th>County</th>\n",
       "      <th>District</th>\n",
       "      <th>Ward</th>\n",
       "      <th>...</th>\n",
       "      <th>Constituency Code</th>\n",
       "      <th>Index of Multiple Deprivation</th>\n",
       "      <th>Quality</th>\n",
       "      <th>User Type</th>\n",
       "      <th>Last updated</th>\n",
       "      <th>Nearest station</th>\n",
       "      <th>Distance to station</th>\n",
       "      <th>Postcode area</th>\n",
       "      <th>Postcode district</th>\n",
       "      <th>Police force</th>\n",
       "    </tr>\n",
       "  </thead>\n",
       "  <tbody>\n",
       "    <tr>\n",
       "      <th>0</th>\n",
       "      <td>AB1 0AA</td>\n",
       "      <td>No</td>\n",
       "      <td>57.101474</td>\n",
       "      <td>-2.242851</td>\n",
       "      <td>385386.0</td>\n",
       "      <td>801193.0</td>\n",
       "      <td>NJ853011</td>\n",
       "      <td>NaN</td>\n",
       "      <td>Aberdeen City</td>\n",
       "      <td>Lower Deeside</td>\n",
       "      <td>...</td>\n",
       "      <td>S14000002</td>\n",
       "      <td>6808.0</td>\n",
       "      <td>1.0</td>\n",
       "      <td>0.0</td>\n",
       "      <td>2019-05-29</td>\n",
       "      <td>Portlethen</td>\n",
       "      <td>8.31408</td>\n",
       "      <td>AB</td>\n",
       "      <td>AB1</td>\n",
       "      <td>Scotland</td>\n",
       "    </tr>\n",
       "    <tr>\n",
       "      <th>1</th>\n",
       "      <td>AB1 0AB</td>\n",
       "      <td>No</td>\n",
       "      <td>57.102554</td>\n",
       "      <td>-2.246308</td>\n",
       "      <td>385177.0</td>\n",
       "      <td>801314.0</td>\n",
       "      <td>NJ851013</td>\n",
       "      <td>NaN</td>\n",
       "      <td>Aberdeen City</td>\n",
       "      <td>Lower Deeside</td>\n",
       "      <td>...</td>\n",
       "      <td>S14000002</td>\n",
       "      <td>6808.0</td>\n",
       "      <td>1.0</td>\n",
       "      <td>0.0</td>\n",
       "      <td>2019-05-29</td>\n",
       "      <td>Portlethen</td>\n",
       "      <td>8.55457</td>\n",
       "      <td>AB</td>\n",
       "      <td>AB1</td>\n",
       "      <td>Scotland</td>\n",
       "    </tr>\n",
       "    <tr>\n",
       "      <th>2</th>\n",
       "      <td>AB1 0AD</td>\n",
       "      <td>No</td>\n",
       "      <td>57.100556</td>\n",
       "      <td>-2.248342</td>\n",
       "      <td>385053.0</td>\n",
       "      <td>801092.0</td>\n",
       "      <td>NJ850010</td>\n",
       "      <td>NaN</td>\n",
       "      <td>Aberdeen City</td>\n",
       "      <td>Lower Deeside</td>\n",
       "      <td>...</td>\n",
       "      <td>S14000002</td>\n",
       "      <td>6808.0</td>\n",
       "      <td>1.0</td>\n",
       "      <td>0.0</td>\n",
       "      <td>2019-05-29</td>\n",
       "      <td>Portlethen</td>\n",
       "      <td>8.54352</td>\n",
       "      <td>AB</td>\n",
       "      <td>AB1</td>\n",
       "      <td>Scotland</td>\n",
       "    </tr>\n",
       "    <tr>\n",
       "      <th>3</th>\n",
       "      <td>AB1 0AE</td>\n",
       "      <td>No</td>\n",
       "      <td>57.084444</td>\n",
       "      <td>-2.255708</td>\n",
       "      <td>384600.0</td>\n",
       "      <td>799300.0</td>\n",
       "      <td>NO845992</td>\n",
       "      <td>NaN</td>\n",
       "      <td>Aberdeenshire</td>\n",
       "      <td>North Kincardine</td>\n",
       "      <td>...</td>\n",
       "      <td>S14000058</td>\n",
       "      <td>5503.0</td>\n",
       "      <td>8.0</td>\n",
       "      <td>0.0</td>\n",
       "      <td>2019-05-29</td>\n",
       "      <td>Portlethen</td>\n",
       "      <td>8.20809</td>\n",
       "      <td>AB</td>\n",
       "      <td>AB1</td>\n",
       "      <td>Scotland</td>\n",
       "    </tr>\n",
       "    <tr>\n",
       "      <th>4</th>\n",
       "      <td>AB1 0AF</td>\n",
       "      <td>No</td>\n",
       "      <td>57.096656</td>\n",
       "      <td>-2.258102</td>\n",
       "      <td>384460.0</td>\n",
       "      <td>800660.0</td>\n",
       "      <td>NJ844006</td>\n",
       "      <td>NaN</td>\n",
       "      <td>Aberdeen City</td>\n",
       "      <td>Lower Deeside</td>\n",
       "      <td>...</td>\n",
       "      <td>S14000002</td>\n",
       "      <td>6668.0</td>\n",
       "      <td>8.0</td>\n",
       "      <td>1.0</td>\n",
       "      <td>2019-05-29</td>\n",
       "      <td>Portlethen</td>\n",
       "      <td>8.85583</td>\n",
       "      <td>AB</td>\n",
       "      <td>AB1</td>\n",
       "      <td>Scotland</td>\n",
       "    </tr>\n",
       "  </tbody>\n",
       "</table>\n",
       "<p>5 rows × 44 columns</p>\n",
       "</div>"
      ],
      "text/plain": [
       "  Postcode In Use?   Latitude  Longitude   Easting  Northing  Grid Ref County  \\\n",
       "0  AB1 0AA      No  57.101474  -2.242851  385386.0  801193.0  NJ853011    NaN   \n",
       "1  AB1 0AB      No  57.102554  -2.246308  385177.0  801314.0  NJ851013    NaN   \n",
       "2  AB1 0AD      No  57.100556  -2.248342  385053.0  801092.0  NJ850010    NaN   \n",
       "3  AB1 0AE      No  57.084444  -2.255708  384600.0  799300.0  NO845992    NaN   \n",
       "4  AB1 0AF      No  57.096656  -2.258102  384460.0  800660.0  NJ844006    NaN   \n",
       "\n",
       "        District              Ward      ...      Constituency Code  \\\n",
       "0  Aberdeen City     Lower Deeside      ...              S14000002   \n",
       "1  Aberdeen City     Lower Deeside      ...              S14000002   \n",
       "2  Aberdeen City     Lower Deeside      ...              S14000002   \n",
       "3  Aberdeenshire  North Kincardine      ...              S14000058   \n",
       "4  Aberdeen City     Lower Deeside      ...              S14000002   \n",
       "\n",
       "  Index of Multiple Deprivation Quality User Type Last updated  \\\n",
       "0                        6808.0     1.0       0.0   2019-05-29   \n",
       "1                        6808.0     1.0       0.0   2019-05-29   \n",
       "2                        6808.0     1.0       0.0   2019-05-29   \n",
       "3                        5503.0     8.0       0.0   2019-05-29   \n",
       "4                        6668.0     8.0       1.0   2019-05-29   \n",
       "\n",
       "  Nearest station Distance to station Postcode area Postcode district  \\\n",
       "0      Portlethen             8.31408            AB               AB1   \n",
       "1      Portlethen             8.55457            AB               AB1   \n",
       "2      Portlethen             8.54352            AB               AB1   \n",
       "3      Portlethen             8.20809            AB               AB1   \n",
       "4      Portlethen             8.85583            AB               AB1   \n",
       "\n",
       "   Police force  \n",
       "0      Scotland  \n",
       "1      Scotland  \n",
       "2      Scotland  \n",
       "3      Scotland  \n",
       "4      Scotland  \n",
       "\n",
       "[5 rows x 44 columns]"
      ]
     },
     "execution_count": 3,
     "metadata": {},
     "output_type": "execute_result"
    }
   ],
   "source": [
    "post = pd.read_csv('postcodes.csv')\n",
    "\n",
    "print(post.shape)\n",
    "post.head()"
   ]
  },
  {
   "cell_type": "code",
   "execution_count": 7,
   "metadata": {},
   "outputs": [
    {
     "data": {
      "text/plain": [
       "Index(['Postcode', 'In Use?', 'Latitude', 'Longitude', 'Easting', 'Northing',\n",
       "       'Grid Ref', 'County', 'District', 'Ward', 'District Code', 'Ward Code',\n",
       "       'Country', 'County Code', 'Constituency', 'Introduced', 'Terminated',\n",
       "       'Parish', 'National Park', 'Population', 'Households', 'Built up area',\n",
       "       'Built up sub-division', 'Lower layer super output area', 'Rural/urban',\n",
       "       'Region', 'Altitude', 'London zone', 'LSOA Code', 'Local authority',\n",
       "       'MSOA Code', 'Middle layer super output area', 'Parish Code',\n",
       "       'Census output area', 'Constituency Code',\n",
       "       'Index of Multiple Deprivation', 'Quality', 'User Type', 'Last updated',\n",
       "       'Nearest station', 'Distance to station', 'Postcode area',\n",
       "       'Postcode district', 'Police force'],\n",
       "      dtype='object')"
      ]
     },
     "execution_count": 7,
     "metadata": {},
     "output_type": "execute_result"
    }
   ],
   "source": [
    "pedit = post.copy()\n",
    "\n",
    "pedit.columns"
   ]
  },
  {
   "cell_type": "code",
   "execution_count": 19,
   "metadata": {},
   "outputs": [
    {
     "name": "stdout",
     "output_type": "stream",
     "text": [
      "48\n"
     ]
    },
    {
     "data": {
      "text/plain": [
       "Greater London        313626\n",
       "Greater Manchester    112130\n",
       "West Yorkshire         87500\n",
       "Hampshire              85506\n",
       "West Midlands          84750\n",
       "Name: County, dtype: int64"
      ]
     },
     "execution_count": 19,
     "metadata": {},
     "output_type": "execute_result"
    }
   ],
   "source": [
    "# includes London; not geojson\n",
    "\n",
    "print(len(pedit['County'].value_counts()))\n",
    "pedit['County'].value_counts()[:5]"
   ]
  },
  {
   "cell_type": "code",
   "execution_count": 21,
   "metadata": {},
   "outputs": [
    {
     "name": "stdout",
     "output_type": "stream",
     "text": [
      "382\n"
     ]
    },
    {
     "data": {
      "text/plain": [
       "Birmingham     34039\n",
       "Westminster    31092\n",
       "Leeds          29683\n",
       "Manchester     26386\n",
       "Cornwall       26210\n",
       "Name: District, dtype: int64"
      ]
     },
     "execution_count": 21,
     "metadata": {},
     "output_type": "execute_result"
    }
   ],
   "source": [
    "print(len(pedit['District'].value_counts()))\n",
    "pedit['District'].value_counts()[:5]"
   ]
  },
  {
   "cell_type": "code",
   "execution_count": 17,
   "metadata": {},
   "outputs": [
    {
     "data": {
      "text/plain": [
       "32"
      ]
     },
     "execution_count": 17,
     "metadata": {},
     "output_type": "execute_result"
    }
   ],
   "source": [
    "# Districts include the 32 London boroughs\n",
    "len(pedit[pedit['County'] == 'Greater London']['District'].value_counts())"
   ]
  },
  {
   "cell_type": "code",
   "execution_count": 28,
   "metadata": {},
   "outputs": [
    {
     "data": {
      "text/plain": [
       "333574     N09000005\n",
       "2585094    E07000168\n",
       "1988778    W06000010\n",
       "725037     E09000030\n",
       "1272325          NaN\n",
       "Name: District Code, dtype: object"
      ]
     },
     "execution_count": 28,
     "metadata": {},
     "output_type": "execute_result"
    }
   ],
   "source": [
    "pedit['District Code'].sample(5)"
   ]
  },
  {
   "cell_type": "code",
   "execution_count": 32,
   "metadata": {},
   "outputs": [
    {
     "data": {
      "text/plain": [
       "3091"
      ]
     },
     "execution_count": 32,
     "metadata": {},
     "output_type": "execute_result"
    }
   ],
   "source": [
    "len(pedit['Postcode district'].unique())"
   ]
  },
  {
   "cell_type": "code",
   "execution_count": 33,
   "metadata": {},
   "outputs": [
    {
     "data": {
      "text/plain": [
       "South East                  402828\n",
       "London                      320426\n",
       "North West                  297128\n",
       "South West                  243760\n",
       "East of England             242526\n",
       "Yorkshire and The Humber    214320\n",
       "West Midlands               197177\n",
       "East Midlands               167796\n",
       "North East                   98962\n",
       "Name: Region, dtype: int64"
      ]
     },
     "execution_count": 33,
     "metadata": {},
     "output_type": "execute_result"
    }
   ],
   "source": [
    "pedit['Region'].value_counts()"
   ]
  },
  {
   "cell_type": "code",
   "execution_count": 35,
   "metadata": {},
   "outputs": [],
   "source": [
    "with open(\"Regions_December_2015_Ultra_Generalised_Clipped_Boundaries_in_England.geojson\") as geofile:\n",
    "    geojson_layer = json.load(geofile)"
   ]
  },
  {
   "cell_type": "code",
   "execution_count": 38,
   "metadata": {},
   "outputs": [
    {
     "data": {
      "text/html": [
       "<div>\n",
       "<style scoped>\n",
       "    .dataframe tbody tr th:only-of-type {\n",
       "        vertical-align: middle;\n",
       "    }\n",
       "\n",
       "    .dataframe tbody tr th {\n",
       "        vertical-align: top;\n",
       "    }\n",
       "\n",
       "    .dataframe thead th {\n",
       "        text-align: right;\n",
       "    }\n",
       "</style>\n",
       "<table border=\"1\" class=\"dataframe\">\n",
       "  <thead>\n",
       "    <tr style=\"text-align: right;\">\n",
       "      <th></th>\n",
       "      <th>objectid</th>\n",
       "      <th>nuts118cd</th>\n",
       "      <th>nuts118nm</th>\n",
       "      <th>bng_e</th>\n",
       "      <th>bng_n</th>\n",
       "      <th>long</th>\n",
       "      <th>lat</th>\n",
       "      <th>st_areashape</th>\n",
       "      <th>st_lengthshape</th>\n",
       "    </tr>\n",
       "  </thead>\n",
       "  <tbody>\n",
       "    <tr>\n",
       "      <th>0</th>\n",
       "      <td>1</td>\n",
       "      <td>UKC</td>\n",
       "      <td>North East (England)</td>\n",
       "      <td>417313</td>\n",
       "      <td>600358</td>\n",
       "      <td>-1.72890</td>\n",
       "      <td>55.297031</td>\n",
       "      <td>8.592429e+09</td>\n",
       "      <td>1.008435e+06</td>\n",
       "    </tr>\n",
       "    <tr>\n",
       "      <th>1</th>\n",
       "      <td>2</td>\n",
       "      <td>UKD</td>\n",
       "      <td>North West (England)</td>\n",
       "      <td>350015</td>\n",
       "      <td>506280</td>\n",
       "      <td>-2.77237</td>\n",
       "      <td>54.449451</td>\n",
       "      <td>1.416409e+10</td>\n",
       "      <td>2.075324e+06</td>\n",
       "    </tr>\n",
       "    <tr>\n",
       "      <th>2</th>\n",
       "      <td>3</td>\n",
       "      <td>UKE</td>\n",
       "      <td>Yorkshire and The Humber</td>\n",
       "      <td>446903</td>\n",
       "      <td>448736</td>\n",
       "      <td>-1.28712</td>\n",
       "      <td>53.932640</td>\n",
       "      <td>1.540912e+10</td>\n",
       "      <td>1.385386e+06</td>\n",
       "    </tr>\n",
       "    <tr>\n",
       "      <th>3</th>\n",
       "      <td>4</td>\n",
       "      <td>UKF</td>\n",
       "      <td>East Midlands (England)</td>\n",
       "      <td>477660</td>\n",
       "      <td>322635</td>\n",
       "      <td>-0.84967</td>\n",
       "      <td>52.795719</td>\n",
       "      <td>1.564327e+10</td>\n",
       "      <td>1.332317e+06</td>\n",
       "    </tr>\n",
       "    <tr>\n",
       "      <th>4</th>\n",
       "      <td>5</td>\n",
       "      <td>UKG</td>\n",
       "      <td>West Midlands (England)</td>\n",
       "      <td>386294</td>\n",
       "      <td>295477</td>\n",
       "      <td>-2.20358</td>\n",
       "      <td>52.556969</td>\n",
       "      <td>1.300374e+10</td>\n",
       "      <td>9.539014e+05</td>\n",
       "    </tr>\n",
       "  </tbody>\n",
       "</table>\n",
       "</div>"
      ],
      "text/plain": [
       "   objectid nuts118cd                 nuts118nm   bng_e   bng_n     long  \\\n",
       "0         1       UKC      North East (England)  417313  600358 -1.72890   \n",
       "1         2       UKD      North West (England)  350015  506280 -2.77237   \n",
       "2         3       UKE  Yorkshire and The Humber  446903  448736 -1.28712   \n",
       "3         4       UKF   East Midlands (England)  477660  322635 -0.84967   \n",
       "4         5       UKG   West Midlands (England)  386294  295477 -2.20358   \n",
       "\n",
       "         lat  st_areashape  st_lengthshape  \n",
       "0  55.297031  8.592429e+09    1.008435e+06  \n",
       "1  54.449451  1.416409e+10    2.075324e+06  \n",
       "2  53.932640  1.540912e+10    1.385386e+06  \n",
       "3  52.795719  1.564327e+10    1.332317e+06  \n",
       "4  52.556969  1.300374e+10    9.539014e+05  "
      ]
     },
     "execution_count": 38,
     "metadata": {},
     "output_type": "execute_result"
    }
   ],
   "source": [
    "nuts1 = pd.read_csv('NUTS_Level_1_January_2018_Full_Clipped_Boundaries_in_the_United_Kingdom.csv')\n",
    "\n",
    "nuts1.head()"
   ]
  },
  {
   "cell_type": "code",
   "execution_count": null,
   "metadata": {},
   "outputs": [],
   "source": []
  }
 ],
 "metadata": {
  "kernelspec": {
   "display_name": "Python 3",
   "language": "python",
   "name": "python3"
  },
  "language_info": {
   "codemirror_mode": {
    "name": "ipython",
    "version": 3
   },
   "file_extension": ".py",
   "mimetype": "text/x-python",
   "name": "python",
   "nbconvert_exporter": "python",
   "pygments_lexer": "ipython3",
   "version": "3.7.3"
  }
 },
 "nbformat": 4,
 "nbformat_minor": 2
}
