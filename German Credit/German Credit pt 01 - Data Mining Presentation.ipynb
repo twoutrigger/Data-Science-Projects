{
 "cells": [
  {
   "cell_type": "code",
   "execution_count": 1,
   "metadata": {},
   "outputs": [],
   "source": [
    "# In this notebook:\n",
    "\n",
    "# A brief recreation of the SAS data analysis process in Python\n",
    "# Data is from UCI German Credit data repository"
   ]
  },
  {
   "cell_type": "code",
   "execution_count": null,
   "metadata": {},
   "outputs": [],
   "source": [
    "data_url = 'https://archive.ics.uci.edu/ml/datasets/statlog+(german+credit+data)'"
   ]
  },
  {
   "cell_type": "code",
   "execution_count": 2,
   "metadata": {},
   "outputs": [],
   "source": [
    "import numpy as np\n",
    "import pandas as pd\n",
    "import seaborn as sns\n",
    "import matplotlib.pyplot as plt\n",
    "import warnings\n",
    "warnings.simplefilter('ignore')"
   ]
  },
  {
   "cell_type": "markdown",
   "metadata": {},
   "source": [
    "## Import Data"
   ]
  },
  {
   "cell_type": "code",
   "execution_count": 3,
   "metadata": {},
   "outputs": [
    {
     "name": "stdout",
     "output_type": "stream",
     "text": [
      "Dataset shape: (1000, 21)\n"
     ]
    },
    {
     "data": {
      "text/html": [
       "<div>\n",
       "<style scoped>\n",
       "    .dataframe tbody tr th:only-of-type {\n",
       "        vertical-align: middle;\n",
       "    }\n",
       "\n",
       "    .dataframe tbody tr th {\n",
       "        vertical-align: top;\n",
       "    }\n",
       "\n",
       "    .dataframe thead th {\n",
       "        text-align: right;\n",
       "    }\n",
       "</style>\n",
       "<table border=\"1\" class=\"dataframe\">\n",
       "  <thead>\n",
       "    <tr style=\"text-align: right;\">\n",
       "      <th></th>\n",
       "      <th>CHK</th>\n",
       "      <th>MONTH</th>\n",
       "      <th>CREDHIST</th>\n",
       "      <th>PURPOSE</th>\n",
       "      <th>CREDAMT</th>\n",
       "      <th>SAVING</th>\n",
       "      <th>EMP</th>\n",
       "      <th>INST</th>\n",
       "      <th>PERSONAL</th>\n",
       "      <th>OTHER</th>\n",
       "      <th>...</th>\n",
       "      <th>PROP</th>\n",
       "      <th>AGE</th>\n",
       "      <th>OTHERINST</th>\n",
       "      <th>HOUSING</th>\n",
       "      <th>CREDNUM</th>\n",
       "      <th>JOB</th>\n",
       "      <th>PPL</th>\n",
       "      <th>TEL</th>\n",
       "      <th>FOREIGN</th>\n",
       "      <th>TARGET</th>\n",
       "    </tr>\n",
       "  </thead>\n",
       "  <tbody>\n",
       "    <tr>\n",
       "      <th>0</th>\n",
       "      <td>A11</td>\n",
       "      <td>6</td>\n",
       "      <td>A34</td>\n",
       "      <td>A43</td>\n",
       "      <td>1169</td>\n",
       "      <td>A65</td>\n",
       "      <td>A75</td>\n",
       "      <td>4</td>\n",
       "      <td>A93</td>\n",
       "      <td>A101</td>\n",
       "      <td>...</td>\n",
       "      <td>A121</td>\n",
       "      <td>67</td>\n",
       "      <td>A143</td>\n",
       "      <td>A152</td>\n",
       "      <td>2</td>\n",
       "      <td>A173</td>\n",
       "      <td>1</td>\n",
       "      <td>A192</td>\n",
       "      <td>A201</td>\n",
       "      <td>0</td>\n",
       "    </tr>\n",
       "    <tr>\n",
       "      <th>1</th>\n",
       "      <td>A12</td>\n",
       "      <td>48</td>\n",
       "      <td>A32</td>\n",
       "      <td>A43</td>\n",
       "      <td>5951</td>\n",
       "      <td>A61</td>\n",
       "      <td>A73</td>\n",
       "      <td>2</td>\n",
       "      <td>A92</td>\n",
       "      <td>A101</td>\n",
       "      <td>...</td>\n",
       "      <td>A121</td>\n",
       "      <td>22</td>\n",
       "      <td>A143</td>\n",
       "      <td>A152</td>\n",
       "      <td>1</td>\n",
       "      <td>A173</td>\n",
       "      <td>1</td>\n",
       "      <td>A191</td>\n",
       "      <td>A201</td>\n",
       "      <td>1</td>\n",
       "    </tr>\n",
       "    <tr>\n",
       "      <th>2</th>\n",
       "      <td>A14</td>\n",
       "      <td>12</td>\n",
       "      <td>A34</td>\n",
       "      <td>A46</td>\n",
       "      <td>2096</td>\n",
       "      <td>A61</td>\n",
       "      <td>A74</td>\n",
       "      <td>2</td>\n",
       "      <td>A93</td>\n",
       "      <td>A101</td>\n",
       "      <td>...</td>\n",
       "      <td>A121</td>\n",
       "      <td>49</td>\n",
       "      <td>A143</td>\n",
       "      <td>A152</td>\n",
       "      <td>1</td>\n",
       "      <td>A172</td>\n",
       "      <td>2</td>\n",
       "      <td>A191</td>\n",
       "      <td>A201</td>\n",
       "      <td>0</td>\n",
       "    </tr>\n",
       "    <tr>\n",
       "      <th>3</th>\n",
       "      <td>A11</td>\n",
       "      <td>42</td>\n",
       "      <td>A32</td>\n",
       "      <td>A42</td>\n",
       "      <td>7882</td>\n",
       "      <td>A61</td>\n",
       "      <td>A74</td>\n",
       "      <td>2</td>\n",
       "      <td>A93</td>\n",
       "      <td>A103</td>\n",
       "      <td>...</td>\n",
       "      <td>A122</td>\n",
       "      <td>45</td>\n",
       "      <td>A143</td>\n",
       "      <td>A153</td>\n",
       "      <td>1</td>\n",
       "      <td>A173</td>\n",
       "      <td>2</td>\n",
       "      <td>A191</td>\n",
       "      <td>A201</td>\n",
       "      <td>0</td>\n",
       "    </tr>\n",
       "    <tr>\n",
       "      <th>4</th>\n",
       "      <td>A11</td>\n",
       "      <td>24</td>\n",
       "      <td>A33</td>\n",
       "      <td>A40</td>\n",
       "      <td>4870</td>\n",
       "      <td>A61</td>\n",
       "      <td>A73</td>\n",
       "      <td>3</td>\n",
       "      <td>A93</td>\n",
       "      <td>A101</td>\n",
       "      <td>...</td>\n",
       "      <td>A124</td>\n",
       "      <td>53</td>\n",
       "      <td>A143</td>\n",
       "      <td>A153</td>\n",
       "      <td>2</td>\n",
       "      <td>A173</td>\n",
       "      <td>2</td>\n",
       "      <td>A191</td>\n",
       "      <td>A201</td>\n",
       "      <td>1</td>\n",
       "    </tr>\n",
       "  </tbody>\n",
       "</table>\n",
       "<p>5 rows × 21 columns</p>\n",
       "</div>"
      ],
      "text/plain": [
       "   CHK  MONTH CREDHIST PURPOSE  CREDAMT SAVING  EMP  INST PERSONAL OTHER  \\\n",
       "0  A11      6      A34     A43     1169    A65  A75     4      A93  A101   \n",
       "1  A12     48      A32     A43     5951    A61  A73     2      A92  A101   \n",
       "2  A14     12      A34     A46     2096    A61  A74     2      A93  A101   \n",
       "3  A11     42      A32     A42     7882    A61  A74     2      A93  A103   \n",
       "4  A11     24      A33     A40     4870    A61  A73     3      A93  A101   \n",
       "\n",
       "   ...    PROP AGE  OTHERINST HOUSING CREDNUM   JOB PPL   TEL FOREIGN TARGET  \n",
       "0  ...    A121  67       A143    A152       2  A173   1  A192    A201      0  \n",
       "1  ...    A121  22       A143    A152       1  A173   1  A191    A201      1  \n",
       "2  ...    A121  49       A143    A152       1  A172   2  A191    A201      0  \n",
       "3  ...    A122  45       A143    A153       1  A173   2  A191    A201      0  \n",
       "4  ...    A124  53       A143    A153       2  A173   2  A191    A201      1  \n",
       "\n",
       "[5 rows x 21 columns]"
      ]
     },
     "execution_count": 3,
     "metadata": {},
     "output_type": "execute_result"
    }
   ],
   "source": [
    "gorig = pd.read_csv('gcred.txt', index_col=False)\n",
    "\n",
    "print (f'Dataset shape: {gorig.shape}')\n",
    "gorig.head()"
   ]
  },
  {
   "cell_type": "code",
   "execution_count": 4,
   "metadata": {},
   "outputs": [
    {
     "name": "stdout",
     "output_type": "stream",
     "text": [
      "0    700\n",
      "1    300\n",
      "Name: TARGET, dtype: int64\n"
     ]
    },
    {
     "data": {
      "text/plain": [
       "<matplotlib.axes._subplots.AxesSubplot at 0x2b60ec4c3c8>"
      ]
     },
     "execution_count": 4,
     "metadata": {},
     "output_type": "execute_result"
    },
    {
     "data": {
      "image/png": "[encoded data removed]",
      "text/plain": [
       "<Figure size 432x288 with 1 Axes>"
      ]
     },
     "metadata": {},
     "output_type": "display_data"
    }
   ],
   "source": [
    "print(gorig.TARGET.value_counts())\n",
    "gorig.TARGET.value_counts().plot('bar')"
   ]
  },
  {
   "cell_type": "code",
   "execution_count": 5,
   "metadata": {},
   "outputs": [
    {
     "data": {
      "text/html": [
       "<div>\n",
       "<style scoped>\n",
       "    .dataframe tbody tr th:only-of-type {\n",
       "        vertical-align: middle;\n",
       "    }\n",
       "\n",
       "    .dataframe tbody tr th {\n",
       "        vertical-align: top;\n",
       "    }\n",
       "\n",
       "    .dataframe thead th {\n",
       "        text-align: right;\n",
       "    }\n",
       "</style>\n",
       "<table border=\"1\" class=\"dataframe\">\n",
       "  <thead>\n",
       "    <tr style=\"text-align: right;\">\n",
       "      <th></th>\n",
       "      <th>MONTH</th>\n",
       "      <th>CREDAMT</th>\n",
       "      <th>INST</th>\n",
       "      <th>RES</th>\n",
       "      <th>AGE</th>\n",
       "      <th>CREDNUM</th>\n",
       "      <th>PPL</th>\n",
       "      <th>TARGET</th>\n",
       "    </tr>\n",
       "  </thead>\n",
       "  <tbody>\n",
       "    <tr>\n",
       "      <th>0</th>\n",
       "      <td>6</td>\n",
       "      <td>1169</td>\n",
       "      <td>4</td>\n",
       "      <td>4</td>\n",
       "      <td>67</td>\n",
       "      <td>2</td>\n",
       "      <td>1</td>\n",
       "      <td>0</td>\n",
       "    </tr>\n",
       "    <tr>\n",
       "      <th>1</th>\n",
       "      <td>48</td>\n",
       "      <td>5951</td>\n",
       "      <td>2</td>\n",
       "      <td>2</td>\n",
       "      <td>22</td>\n",
       "      <td>1</td>\n",
       "      <td>1</td>\n",
       "      <td>1</td>\n",
       "    </tr>\n",
       "  </tbody>\n",
       "</table>\n",
       "</div>"
      ],
      "text/plain": [
       "   MONTH  CREDAMT  INST  RES  AGE  CREDNUM  PPL  TARGET\n",
       "0      6     1169     4    4   67        2    1       0\n",
       "1     48     5951     2    2   22        1    1       1"
      ]
     },
     "execution_count": 5,
     "metadata": {},
     "output_type": "execute_result"
    }
   ],
   "source": [
    "gnum = gorig.select_dtypes(['int64'])\n",
    "\n",
    "gnum.head(2)"
   ]
  },
  {
   "cell_type": "code",
   "execution_count": 6,
   "metadata": {},
   "outputs": [
    {
     "data": {
      "text/html": [
       "<div>\n",
       "<style scoped>\n",
       "    .dataframe tbody tr th:only-of-type {\n",
       "        vertical-align: middle;\n",
       "    }\n",
       "\n",
       "    .dataframe tbody tr th {\n",
       "        vertical-align: top;\n",
       "    }\n",
       "\n",
       "    .dataframe thead th {\n",
       "        text-align: right;\n",
       "    }\n",
       "</style>\n",
       "<table border=\"1\" class=\"dataframe\">\n",
       "  <thead>\n",
       "    <tr style=\"text-align: right;\">\n",
       "      <th></th>\n",
       "      <th>MONTH</th>\n",
       "      <th>CREDAMT</th>\n",
       "      <th>AGE</th>\n",
       "      <th>TARGET</th>\n",
       "    </tr>\n",
       "  </thead>\n",
       "  <tbody>\n",
       "    <tr>\n",
       "      <th>0</th>\n",
       "      <td>6</td>\n",
       "      <td>1169</td>\n",
       "      <td>67</td>\n",
       "      <td>0</td>\n",
       "    </tr>\n",
       "    <tr>\n",
       "      <th>1</th>\n",
       "      <td>48</td>\n",
       "      <td>5951</td>\n",
       "      <td>22</td>\n",
       "      <td>1</td>\n",
       "    </tr>\n",
       "  </tbody>\n",
       "</table>\n",
       "</div>"
      ],
      "text/plain": [
       "   MONTH  CREDAMT  AGE  TARGET\n",
       "0      6     1169   67       0\n",
       "1     48     5951   22       1"
      ]
     },
     "execution_count": 6,
     "metadata": {},
     "output_type": "execute_result"
    }
   ],
   "source": [
    "gnum = gnum[['MONTH','CREDAMT','AGE','TARGET']]\n",
    "\n",
    "gnum.head(2)"
   ]
  },
  {
   "cell_type": "code",
   "execution_count": 7,
   "metadata": {},
   "outputs": [
    {
     "data": {
      "text/plain": [
       "<seaborn.axisgrid.PairGrid at 0x2b609d1a898>"
      ]
     },
     "execution_count": 7,
     "metadata": {},
     "output_type": "execute_result"
    },
    {
     "data": {
      "image/png": "[encoded data removed]",
      "text/plain": [
       "<Figure size 767.75x720 with 20 Axes>"
      ]
     },
     "metadata": {},
     "output_type": "display_data"
    }
   ],
   "source": [
    "sns.pairplot(gnum, hue='TARGET')"
   ]
  },
  {
   "cell_type": "markdown",
   "metadata": {},
   "source": [
    "## Remove outliers"
   ]
  },
  {
   "cell_type": "code",
   "execution_count": 8,
   "metadata": {},
   "outputs": [
    {
     "data": {
      "image/png": "[encoded data removed]",
      "text/plain": [
       "<Figure size 432x288 with 1 Axes>"
      ]
     },
     "metadata": {},
     "output_type": "display_data"
    }
   ],
   "source": [
    "plt.hist(gorig['MONTH'], bins=50)\n",
    "plt.show()\n",
    "# 1 outlier > 70"
   ]
  },
  {
   "cell_type": "code",
   "execution_count": 9,
   "metadata": {},
   "outputs": [
    {
     "data": {
      "text/plain": [
       "677    72\n",
       "Name: MONTH, dtype: int64"
      ]
     },
     "execution_count": 9,
     "metadata": {},
     "output_type": "execute_result"
    }
   ],
   "source": [
    "gorig[gorig.MONTH > 70]['MONTH']"
   ]
  },
  {
   "cell_type": "code",
   "execution_count": 10,
   "metadata": {},
   "outputs": [
    {
     "data": {
      "image/png": "[encoded data removed]",
      "text/plain": [
       "<Figure size 432x288 with 1 Axes>"
      ]
     },
     "metadata": {},
     "output_type": "display_data"
    }
   ],
   "source": [
    "plt.hist(gorig['CREDAMT'], bins=100)\n",
    "plt.show()\n",
    "# 1 outlier > 16000"
   ]
  },
  {
   "cell_type": "code",
   "execution_count": 11,
   "metadata": {},
   "outputs": [
    {
     "data": {
      "text/plain": [
       "915    18424\n",
       "Name: CREDAMT, dtype: int64"
      ]
     },
     "execution_count": 11,
     "metadata": {},
     "output_type": "execute_result"
    }
   ],
   "source": [
    "gorig[gorig.CREDAMT > 16000]['CREDAMT']"
   ]
  },
  {
   "cell_type": "code",
   "execution_count": 12,
   "metadata": {},
   "outputs": [
    {
     "data": {
      "text/plain": [
       "1    633\n",
       "2    333\n",
       "3     28\n",
       "4      6\n",
       "Name: CREDNUM, dtype: int64"
      ]
     },
     "execution_count": 12,
     "metadata": {},
     "output_type": "execute_result"
    }
   ],
   "source": [
    "gorig['CREDNUM'].value_counts()\n",
    "# CREDNUM 4 has very few items"
   ]
  },
  {
   "cell_type": "code",
   "execution_count": 13,
   "metadata": {},
   "outputs": [
    {
     "data": {
      "image/png": "[encoded data removed]",
      "text/plain": [
       "<Figure size 432x288 with 1 Axes>"
      ]
     },
     "metadata": {},
     "output_type": "display_data"
    }
   ],
   "source": [
    "plt.hist(gorig['AGE'], bins=50)\n",
    "plt.show()\n",
    "# no need to remove samples"
   ]
  },
  {
   "cell_type": "code",
   "execution_count": 14,
   "metadata": {},
   "outputs": [
    {
     "data": {
      "text/plain": [
       "4    476\n",
       "2    231\n",
       "3    157\n",
       "1    136\n",
       "Name: INST, dtype: int64"
      ]
     },
     "execution_count": 14,
     "metadata": {},
     "output_type": "execute_result"
    }
   ],
   "source": [
    "gorig['INST'].value_counts()\n",
    "# INST well distributed"
   ]
  },
  {
   "cell_type": "code",
   "execution_count": 15,
   "metadata": {},
   "outputs": [
    {
     "data": {
      "text/plain": [
       "4    413\n",
       "2    308\n",
       "3    149\n",
       "1    130\n",
       "Name: RES, dtype: int64"
      ]
     },
     "execution_count": 15,
     "metadata": {},
     "output_type": "execute_result"
    }
   ],
   "source": [
    "gorig['RES'].value_counts()\n",
    "# RES well distributed"
   ]
  },
  {
   "cell_type": "code",
   "execution_count": 16,
   "metadata": {},
   "outputs": [
    {
     "data": {
      "image/png": "[encoded data removed]",
      "text/plain": [
       "<Figure size 432x288 with 1 Axes>"
      ]
     },
     "metadata": {},
     "output_type": "display_data"
    }
   ],
   "source": [
    "plt.hist(gorig['AGE'], bins=50)\n",
    "plt.show()\n",
    "# no need to remove samples"
   ]
  },
  {
   "cell_type": "code",
   "execution_count": 17,
   "metadata": {},
   "outputs": [
    {
     "name": "stdout",
     "output_type": "stream",
     "text": [
      "Numerical data without outliers: (992, 8)\n"
     ]
    }
   ],
   "source": [
    "gnum = gorig.select_dtypes(['int64'])\n",
    "\n",
    "gnum = gnum[(gnum['MONTH'] < 70) & \n",
    "            (gnum['CREDAMT'] < 16000) &\n",
    "            (gnum['CREDNUM'] != 4)]\n",
    "\n",
    "print(f'Numerical data without outliers: {gnum.shape}')"
   ]
  },
  {
   "cell_type": "markdown",
   "metadata": {},
   "source": [
    "## Create dummy variables"
   ]
  },
  {
   "cell_type": "code",
   "execution_count": 18,
   "metadata": {},
   "outputs": [
    {
     "data": {
      "text/html": [
       "<div>\n",
       "<style scoped>\n",
       "    .dataframe tbody tr th:only-of-type {\n",
       "        vertical-align: middle;\n",
       "    }\n",
       "\n",
       "    .dataframe tbody tr th {\n",
       "        vertical-align: top;\n",
       "    }\n",
       "\n",
       "    .dataframe thead th {\n",
       "        text-align: right;\n",
       "    }\n",
       "</style>\n",
       "<table border=\"1\" class=\"dataframe\">\n",
       "  <thead>\n",
       "    <tr style=\"text-align: right;\">\n",
       "      <th></th>\n",
       "      <th>CHK</th>\n",
       "      <th>CREDHIST</th>\n",
       "      <th>PURPOSE</th>\n",
       "      <th>SAVING</th>\n",
       "      <th>EMP</th>\n",
       "      <th>PERSONAL</th>\n",
       "      <th>OTHER</th>\n",
       "      <th>PROP</th>\n",
       "      <th>OTHERINST</th>\n",
       "      <th>HOUSING</th>\n",
       "      <th>JOB</th>\n",
       "      <th>TEL</th>\n",
       "      <th>FOREIGN</th>\n",
       "    </tr>\n",
       "  </thead>\n",
       "  <tbody>\n",
       "    <tr>\n",
       "      <th>0</th>\n",
       "      <td>A11</td>\n",
       "      <td>A34</td>\n",
       "      <td>A43</td>\n",
       "      <td>A65</td>\n",
       "      <td>A75</td>\n",
       "      <td>A93</td>\n",
       "      <td>A101</td>\n",
       "      <td>A121</td>\n",
       "      <td>A143</td>\n",
       "      <td>A152</td>\n",
       "      <td>A173</td>\n",
       "      <td>A192</td>\n",
       "      <td>A201</td>\n",
       "    </tr>\n",
       "    <tr>\n",
       "      <th>1</th>\n",
       "      <td>A12</td>\n",
       "      <td>A32</td>\n",
       "      <td>A43</td>\n",
       "      <td>A61</td>\n",
       "      <td>A73</td>\n",
       "      <td>A92</td>\n",
       "      <td>A101</td>\n",
       "      <td>A121</td>\n",
       "      <td>A143</td>\n",
       "      <td>A152</td>\n",
       "      <td>A173</td>\n",
       "      <td>A191</td>\n",
       "      <td>A201</td>\n",
       "    </tr>\n",
       "  </tbody>\n",
       "</table>\n",
       "</div>"
      ],
      "text/plain": [
       "   CHK CREDHIST PURPOSE SAVING  EMP PERSONAL OTHER  PROP OTHERINST HOUSING  \\\n",
       "0  A11      A34     A43    A65  A75      A93  A101  A121      A143    A152   \n",
       "1  A12      A32     A43    A61  A73      A92  A101  A121      A143    A152   \n",
       "\n",
       "    JOB   TEL FOREIGN  \n",
       "0  A173  A192    A201  \n",
       "1  A173  A191    A201  "
      ]
     },
     "execution_count": 18,
     "metadata": {},
     "output_type": "execute_result"
    }
   ],
   "source": [
    "gcat = gorig.select_dtypes(['object'])\n",
    "\n",
    "gcat.head(2)"
   ]
  },
  {
   "cell_type": "code",
   "execution_count": 19,
   "metadata": {},
   "outputs": [
    {
     "name": "stdout",
     "output_type": "stream",
     "text": [
      "A14    394\n",
      "A11    274\n",
      "A12    269\n",
      "A13     63\n",
      "Name: CHK, dtype: int64\n",
      "A32    530\n",
      "A34    293\n",
      "A33     88\n",
      "A31     49\n",
      "A30     40\n",
      "Name: CREDHIST, dtype: int64\n",
      "A43     280\n",
      "A40     234\n",
      "A42     181\n",
      "A41     103\n",
      "A49      97\n",
      "A46      50\n",
      "A45      22\n",
      "A410     12\n",
      "A44      12\n",
      "A48       9\n",
      "Name: PURPOSE, dtype: int64\n",
      "A61    603\n",
      "A65    183\n",
      "A62    103\n",
      "A63     63\n",
      "A64     48\n",
      "Name: SAVING, dtype: int64\n",
      "A73    339\n",
      "A75    253\n",
      "A74    174\n",
      "A72    172\n",
      "A71     62\n",
      "Name: EMP, dtype: int64\n",
      "A93    548\n",
      "A92    310\n",
      "A94     92\n",
      "A91     50\n",
      "Name: PERSONAL, dtype: int64\n",
      "A101    907\n",
      "A103     52\n",
      "A102     41\n",
      "Name: OTHER, dtype: int64\n",
      "A123    332\n",
      "A121    282\n",
      "A122    232\n",
      "A124    154\n",
      "Name: PROP, dtype: int64\n",
      "A143    814\n",
      "A141    139\n",
      "A142     47\n",
      "Name: OTHERINST, dtype: int64\n",
      "A152    713\n",
      "A151    179\n",
      "A153    108\n",
      "Name: HOUSING, dtype: int64\n",
      "A173    630\n",
      "A172    200\n",
      "A174    148\n",
      "A171     22\n",
      "Name: JOB, dtype: int64\n",
      "A191    596\n",
      "A192    404\n",
      "Name: TEL, dtype: int64\n",
      "A201    963\n",
      "A202     37\n",
      "Name: FOREIGN, dtype: int64\n"
     ]
    }
   ],
   "source": [
    "for col in gcat.columns:\n",
    "        print (gcat[col].value_counts())\n",
    "# visualize outliers for categoric variables\n",
    "# no outliers to remove"
   ]
  },
  {
   "cell_type": "code",
   "execution_count": 20,
   "metadata": {},
   "outputs": [
    {
     "name": "stdout",
     "output_type": "stream",
     "text": [
      "Total number of dummy columns: 41\n"
     ]
    },
    {
     "data": {
      "text/html": [
       "<div>\n",
       "<style scoped>\n",
       "    .dataframe tbody tr th:only-of-type {\n",
       "        vertical-align: middle;\n",
       "    }\n",
       "\n",
       "    .dataframe tbody tr th {\n",
       "        vertical-align: top;\n",
       "    }\n",
       "\n",
       "    .dataframe thead th {\n",
       "        text-align: right;\n",
       "    }\n",
       "</style>\n",
       "<table border=\"1\" class=\"dataframe\">\n",
       "  <thead>\n",
       "    <tr style=\"text-align: right;\">\n",
       "      <th></th>\n",
       "      <th>CHK_A12</th>\n",
       "      <th>CHK_A13</th>\n",
       "      <th>CHK_A14</th>\n",
       "      <th>CREDHIST_A31</th>\n",
       "      <th>CREDHIST_A32</th>\n",
       "      <th>CREDHIST_A33</th>\n",
       "      <th>CREDHIST_A34</th>\n",
       "      <th>PURPOSE_A41</th>\n",
       "      <th>PURPOSE_A410</th>\n",
       "      <th>PURPOSE_A42</th>\n",
       "      <th>...</th>\n",
       "      <th>PROP_A124</th>\n",
       "      <th>OTHERINST_A142</th>\n",
       "      <th>OTHERINST_A143</th>\n",
       "      <th>HOUSING_A152</th>\n",
       "      <th>HOUSING_A153</th>\n",
       "      <th>JOB_A172</th>\n",
       "      <th>JOB_A173</th>\n",
       "      <th>JOB_A174</th>\n",
       "      <th>TEL_A192</th>\n",
       "      <th>FOREIGN_A202</th>\n",
       "    </tr>\n",
       "  </thead>\n",
       "  <tbody>\n",
       "    <tr>\n",
       "      <th>0</th>\n",
       "      <td>0</td>\n",
       "      <td>0</td>\n",
       "      <td>0</td>\n",
       "      <td>0</td>\n",
       "      <td>0</td>\n",
       "      <td>0</td>\n",
       "      <td>1</td>\n",
       "      <td>0</td>\n",
       "      <td>0</td>\n",
       "      <td>0</td>\n",
       "      <td>...</td>\n",
       "      <td>0</td>\n",
       "      <td>0</td>\n",
       "      <td>1</td>\n",
       "      <td>1</td>\n",
       "      <td>0</td>\n",
       "      <td>0</td>\n",
       "      <td>1</td>\n",
       "      <td>0</td>\n",
       "      <td>1</td>\n",
       "      <td>0</td>\n",
       "    </tr>\n",
       "    <tr>\n",
       "      <th>1</th>\n",
       "      <td>1</td>\n",
       "      <td>0</td>\n",
       "      <td>0</td>\n",
       "      <td>0</td>\n",
       "      <td>1</td>\n",
       "      <td>0</td>\n",
       "      <td>0</td>\n",
       "      <td>0</td>\n",
       "      <td>0</td>\n",
       "      <td>0</td>\n",
       "      <td>...</td>\n",
       "      <td>0</td>\n",
       "      <td>0</td>\n",
       "      <td>1</td>\n",
       "      <td>1</td>\n",
       "      <td>0</td>\n",
       "      <td>0</td>\n",
       "      <td>1</td>\n",
       "      <td>0</td>\n",
       "      <td>0</td>\n",
       "      <td>0</td>\n",
       "    </tr>\n",
       "  </tbody>\n",
       "</table>\n",
       "<p>2 rows × 41 columns</p>\n",
       "</div>"
      ],
      "text/plain": [
       "   CHK_A12  CHK_A13  CHK_A14  CREDHIST_A31  CREDHIST_A32  CREDHIST_A33  \\\n",
       "0        0        0        0             0             0             0   \n",
       "1        1        0        0             0             1             0   \n",
       "\n",
       "   CREDHIST_A34  PURPOSE_A41  PURPOSE_A410  PURPOSE_A42      ...       \\\n",
       "0             1            0             0            0      ...        \n",
       "1             0            0             0            0      ...        \n",
       "\n",
       "   PROP_A124  OTHERINST_A142  OTHERINST_A143  HOUSING_A152  HOUSING_A153  \\\n",
       "0          0               0               1             1             0   \n",
       "1          0               0               1             1             0   \n",
       "\n",
       "   JOB_A172  JOB_A173  JOB_A174  TEL_A192  FOREIGN_A202  \n",
       "0         0         1         0         1             0  \n",
       "1         0         1         0         0             0  \n",
       "\n",
       "[2 rows x 41 columns]"
      ]
     },
     "execution_count": 20,
     "metadata": {},
     "output_type": "execute_result"
    }
   ],
   "source": [
    "gcat = pd.get_dummies(gcat, drop_first=True)\n",
    "\n",
    "print (f'Total number of dummy columns: {gcat.shape[1]}')\n",
    "\n",
    "gcat.head(2)"
   ]
  },
  {
   "cell_type": "markdown",
   "metadata": {},
   "source": [
    "## Machine Learning"
   ]
  },
  {
   "cell_type": "code",
   "execution_count": 21,
   "metadata": {},
   "outputs": [],
   "source": [
    "from sklearn.model_selection import train_test_split\n",
    "from sklearn.linear_model import LogisticRegression\n",
    "from sklearn.metrics import accuracy_score\n",
    "from sklearn.metrics import confusion_matrix\n",
    "from sklearn.feature_selection import RFE\n",
    "from sklearn.metrics import classification_report"
   ]
  },
  {
   "cell_type": "code",
   "execution_count": 22,
   "metadata": {},
   "outputs": [
    {
     "data": {
      "text/html": [
       "<div>\n",
       "<style scoped>\n",
       "    .dataframe tbody tr th:only-of-type {\n",
       "        vertical-align: middle;\n",
       "    }\n",
       "\n",
       "    .dataframe tbody tr th {\n",
       "        vertical-align: top;\n",
       "    }\n",
       "\n",
       "    .dataframe thead th {\n",
       "        text-align: right;\n",
       "    }\n",
       "</style>\n",
       "<table border=\"1\" class=\"dataframe\">\n",
       "  <thead>\n",
       "    <tr style=\"text-align: right;\">\n",
       "      <th></th>\n",
       "      <th>MONTH</th>\n",
       "      <th>CREDAMT</th>\n",
       "      <th>INST</th>\n",
       "      <th>RES</th>\n",
       "      <th>AGE</th>\n",
       "      <th>CREDNUM</th>\n",
       "      <th>PPL</th>\n",
       "      <th>CHK_A12</th>\n",
       "      <th>CHK_A13</th>\n",
       "      <th>CHK_A14</th>\n",
       "      <th>...</th>\n",
       "      <th>PROP_A124</th>\n",
       "      <th>OTHERINST_A142</th>\n",
       "      <th>OTHERINST_A143</th>\n",
       "      <th>HOUSING_A152</th>\n",
       "      <th>HOUSING_A153</th>\n",
       "      <th>JOB_A172</th>\n",
       "      <th>JOB_A173</th>\n",
       "      <th>JOB_A174</th>\n",
       "      <th>TEL_A192</th>\n",
       "      <th>FOREIGN_A202</th>\n",
       "    </tr>\n",
       "  </thead>\n",
       "  <tbody>\n",
       "    <tr>\n",
       "      <th>0</th>\n",
       "      <td>6</td>\n",
       "      <td>1169</td>\n",
       "      <td>4</td>\n",
       "      <td>4</td>\n",
       "      <td>67</td>\n",
       "      <td>2</td>\n",
       "      <td>1</td>\n",
       "      <td>0</td>\n",
       "      <td>0</td>\n",
       "      <td>0</td>\n",
       "      <td>...</td>\n",
       "      <td>0</td>\n",
       "      <td>0</td>\n",
       "      <td>1</td>\n",
       "      <td>1</td>\n",
       "      <td>0</td>\n",
       "      <td>0</td>\n",
       "      <td>1</td>\n",
       "      <td>0</td>\n",
       "      <td>1</td>\n",
       "      <td>0</td>\n",
       "    </tr>\n",
       "    <tr>\n",
       "      <th>1</th>\n",
       "      <td>48</td>\n",
       "      <td>5951</td>\n",
       "      <td>2</td>\n",
       "      <td>2</td>\n",
       "      <td>22</td>\n",
       "      <td>1</td>\n",
       "      <td>1</td>\n",
       "      <td>1</td>\n",
       "      <td>0</td>\n",
       "      <td>0</td>\n",
       "      <td>...</td>\n",
       "      <td>0</td>\n",
       "      <td>0</td>\n",
       "      <td>1</td>\n",
       "      <td>1</td>\n",
       "      <td>0</td>\n",
       "      <td>0</td>\n",
       "      <td>1</td>\n",
       "      <td>0</td>\n",
       "      <td>0</td>\n",
       "      <td>0</td>\n",
       "    </tr>\n",
       "  </tbody>\n",
       "</table>\n",
       "<p>2 rows × 48 columns</p>\n",
       "</div>"
      ],
      "text/plain": [
       "   MONTH  CREDAMT  INST  RES  AGE  CREDNUM  PPL  CHK_A12  CHK_A13  CHK_A14  \\\n",
       "0      6     1169     4    4   67        2    1        0        0        0   \n",
       "1     48     5951     2    2   22        1    1        1        0        0   \n",
       "\n",
       "       ...       PROP_A124  OTHERINST_A142  OTHERINST_A143  HOUSING_A152  \\\n",
       "0      ...               0               0               1             1   \n",
       "1      ...               0               0               1             1   \n",
       "\n",
       "   HOUSING_A153  JOB_A172  JOB_A173  JOB_A174  TEL_A192  FOREIGN_A202  \n",
       "0             0         0         1         0         1             0  \n",
       "1             0         0         1         0         0             0  \n",
       "\n",
       "[2 rows x 48 columns]"
      ]
     },
     "execution_count": 22,
     "metadata": {},
     "output_type": "execute_result"
    }
   ],
   "source": [
    "gml = pd.concat([gnum.iloc[:,:-1], gcat, gnum.iloc[:,-1]], axis=1, join_axes=[gnum.index])\n",
    "\n",
    "target = gml.pop('TARGET')\n",
    "\n",
    "gml.head(2)"
   ]
  },
  {
   "cell_type": "code",
   "execution_count": 23,
   "metadata": {},
   "outputs": [
    {
     "name": "stdout",
     "output_type": "stream",
     "text": [
      "(793, 48) (199, 48) (793,) (199,)\n"
     ]
    }
   ],
   "source": [
    "x_train, x_test, y_train, y_test = train_test_split(gml, target, test_size=0.2)\n",
    "\n",
    "print(f'{x_train.shape} {x_test.shape} {y_train.shape} {y_test.shape}')"
   ]
  },
  {
   "cell_type": "code",
   "execution_count": 24,
   "metadata": {},
   "outputs": [],
   "source": [
    "logreg = LogisticRegression()\n",
    "\n",
    "logreg.fit(x_train, y_train)\n",
    "\n",
    "y_pred = logreg.predict(x_test)"
   ]
  },
  {
   "cell_type": "code",
   "execution_count": 25,
   "metadata": {},
   "outputs": [
    {
     "name": "stdout",
     "output_type": "stream",
     "text": [
      "Prediction accuracy: 77.89%\n"
     ]
    }
   ],
   "source": [
    "print(f'Prediction accuracy: {round(accuracy_score(y_test, y_pred)*100, 2)}%')"
   ]
  },
  {
   "cell_type": "markdown",
   "metadata": {},
   "source": [
    "## Additional ML"
   ]
  },
  {
   "cell_type": "code",
   "execution_count": 26,
   "metadata": {},
   "outputs": [
    {
     "name": "stdout",
     "output_type": "stream",
     "text": [
      "[[120  11]\n",
      " [ 33  35]]\n"
     ]
    }
   ],
   "source": [
    "cm = confusion_matrix(y_test, y_pred)\n",
    "\n",
    "print(cm)"
   ]
  },
  {
   "cell_type": "code",
   "execution_count": 27,
   "metadata": {},
   "outputs": [
    {
     "name": "stdout",
     "output_type": "stream",
     "text": [
      "[False False  True False False  True False  True  True  True False  True\n",
      "  True  True  True  True  True  True False False  True  True False False\n",
      " False  True  True  True False  True False False  True False  True  True\n",
      "  True  True  True False  True False  True False  True  True  True  True]\n",
      "[12 19  1 16 15  1  4  1  1  1  6  1  1  1  1  1  1  1  9  3  1  1 11  7\n",
      " 14  1  1  1  5  1  8 18  1 13  1  1  1  1  1 17  1  2  1 10  1  1  1  1]\n"
     ]
    }
   ],
   "source": [
    "logreg = LogisticRegression()\n",
    "rfe = RFE(logreg, 30)\n",
    "rfe = rfe.fit(x_train, y_train.values.ravel())\n",
    "print(rfe.support_)\n",
    "print(rfe.ranking_)"
   ]
  },
  {
   "cell_type": "code",
   "execution_count": 28,
   "metadata": {},
   "outputs": [
    {
     "name": "stdout",
     "output_type": "stream",
     "text": [
      "rfe_cols length: 30\n",
      "\n",
      "['INST', 'CREDNUM', 'CHK_A12', 'CHK_A13', 'CHK_A14', 'CREDHIST_A32', 'CREDHIST_A33', 'CREDHIST_A34', 'PURPOSE_A41', 'PURPOSE_A410', 'PURPOSE_A42', 'PURPOSE_A43', 'PURPOSE_A46', 'PURPOSE_A48', 'SAVING_A64', 'SAVING_A65', 'EMP_A72', 'EMP_A74', 'PERSONAL_A93', 'OTHER_A102', 'OTHER_A103', 'PROP_A122', 'PROP_A123', 'PROP_A124', 'OTHERINST_A143', 'HOUSING_A153', 'JOB_A173', 'JOB_A174', 'TEL_A192', 'FOREIGN_A202']\n"
     ]
    }
   ],
   "source": [
    "rfe_cols = []\n",
    "\n",
    "for i in zip(rfe.support_ , gml.columns):\n",
    "    if i[0] == True:\n",
    "        rfe_cols.append(i[1])\n",
    "        \n",
    "print (f'rfe_cols length: {len(rfe_cols)}\\n')\n",
    "print (rfe_cols)"
   ]
  },
  {
   "cell_type": "code",
   "execution_count": 29,
   "metadata": {},
   "outputs": [
    {
     "name": "stdout",
     "output_type": "stream",
     "text": [
      "(793, 30) (199, 30) (793,) (199,)\n"
     ]
    }
   ],
   "source": [
    "grfe = gml[rfe_cols]\n",
    "\n",
    "x_train, x_test, y_train, y_test = train_test_split(grfe, target, test_size=0.2)\n",
    "\n",
    "print(f'{x_train.shape} {x_test.shape} {y_train.shape} {y_test.shape}')"
   ]
  },
  {
   "cell_type": "code",
   "execution_count": 30,
   "metadata": {},
   "outputs": [
    {
     "name": "stdout",
     "output_type": "stream",
     "text": [
      "New prediction accuracy: 78.39%\n",
      "New confusion matrix:\n",
      "[[123  19]\n",
      " [ 24  33]]\n",
      "              precision    recall  f1-score   support\n",
      "\n",
      "           0       0.84      0.87      0.85       142\n",
      "           1       0.63      0.58      0.61        57\n",
      "\n",
      "   micro avg       0.78      0.78      0.78       199\n",
      "   macro avg       0.74      0.72      0.73       199\n",
      "weighted avg       0.78      0.78      0.78       199\n",
      "\n"
     ]
    }
   ],
   "source": [
    "logreg = LogisticRegression(C=2.0)\n",
    "logreg.fit(x_train, y_train)\n",
    "y_pred = logreg.predict(x_test)\n",
    "cm = confusion_matrix(y_test, y_pred)\n",
    "\n",
    "print(f'New prediction accuracy: {round(accuracy_score(y_test, y_pred)*100, 2)}%')\n",
    "print('New confusion matrix:')\n",
    "print(cm)\n",
    "print(classification_report(y_test, y_pred))"
   ]
  },
  {
   "cell_type": "code",
   "execution_count": 31,
   "metadata": {},
   "outputs": [],
   "source": [
    "# this concludes presentation section"
   ]
  },
  {
   "cell_type": "code",
   "execution_count": null,
   "metadata": {},
   "outputs": [],
   "source": []
  }
 ],
 "metadata": {
  "kernelspec": {
   "display_name": "Python 3",
   "language": "python",
   "name": "python3"
  },
  "language_info": {
   "codemirror_mode": {
    "name": "ipython",
    "version": 3
   },
   "file_extension": ".py",
   "mimetype": "text/x-python",
   "name": "python",
   "nbconvert_exporter": "python",
   "pygments_lexer": "ipython3",
   "version": "3.6.4"
  }
 },
 "nbformat": 4,
 "nbformat_minor": 2
}
