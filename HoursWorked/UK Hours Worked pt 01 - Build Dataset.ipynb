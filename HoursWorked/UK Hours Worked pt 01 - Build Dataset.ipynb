{
 "cells": [
  {
   "cell_type": "code",
   "execution_count": 114,
   "metadata": {},
   "outputs": [],
   "source": [
    "import numpy as np\n",
    "import pandas as pd\n",
    "import matplotlib.pyplot as plt\n",
    "from pandas import pivot_table\n",
    "import json"
   ]
  },
  {
   "cell_type": "code",
   "execution_count": null,
   "metadata": {},
   "outputs": [],
   "source": [
    "### Build dataset for UK Hours Worked application\n",
    "### application can be found at https://rangewell-hours.herokuapp.com/\n",
    "### raw data is from ONS"
   ]
  },
  {
   "cell_type": "code",
   "execution_count": 115,
   "metadata": {},
   "outputs": [],
   "source": [
    "pd.set_option('display.width', 1000)"
   ]
  },
  {
   "cell_type": "code",
   "execution_count": 116,
   "metadata": {},
   "outputs": [
    {
     "name": "stderr",
     "output_type": "stream",
     "text": [
      "C:\\Users\\liamk\\Anaconda3\\lib\\site-packages\\IPython\\core\\interactiveshell.py:3049: DtypeWarning: Columns (0) have mixed types. Specify dtype option on import or set low_memory=False.\n",
      "  interactivity=interactivity, compiler=compiler, result=result)\n"
     ]
    },
    {
     "name": "stdout",
     "output_type": "stream",
     "text": [
      "(836244, 15)\n"
     ]
    },
    {
     "data": {
      "text/html": [
       "<div>\n",
       "<style scoped>\n",
       "    .dataframe tbody tr th:only-of-type {\n",
       "        vertical-align: middle;\n",
       "    }\n",
       "\n",
       "    .dataframe tbody tr th {\n",
       "        vertical-align: top;\n",
       "    }\n",
       "\n",
       "    .dataframe thead th {\n",
       "        text-align: right;\n",
       "    }\n",
       "</style>\n",
       "<table border=\"1\" class=\"dataframe\">\n",
       "  <thead>\n",
       "    <tr style=\"text-align: right;\">\n",
       "      <th></th>\n",
       "      <th>V4_2</th>\n",
       "      <th>Data marking</th>\n",
       "      <th>Coefficient of variation</th>\n",
       "      <th>Time_codelist</th>\n",
       "      <th>Time</th>\n",
       "      <th>ashe-geography</th>\n",
       "      <th>Geography</th>\n",
       "      <th>Hours_codelist</th>\n",
       "      <th>Hours</th>\n",
       "      <th>Sex_codelist</th>\n",
       "      <th>Sex</th>\n",
       "      <th>WorkingPattern_codelist</th>\n",
       "      <th>WorkingPattern</th>\n",
       "      <th>Statistics_codelist</th>\n",
       "      <th>Statistics</th>\n",
       "    </tr>\n",
       "  </thead>\n",
       "  <tbody>\n",
       "    <tr>\n",
       "      <th>0</th>\n",
       "      <td>15.1</td>\n",
       "      <td>NaN</td>\n",
       "      <td>0.5</td>\n",
       "      <td>Year</td>\n",
       "      <td>2012</td>\n",
       "      <td>K02000001</td>\n",
       "      <td>United Kingdom</td>\n",
       "      <td>paid-hours-worked-total</td>\n",
       "      <td>Paid hours worked - Total</td>\n",
       "      <td>all</td>\n",
       "      <td>All</td>\n",
       "      <td>all</td>\n",
       "      <td>All</td>\n",
       "      <td>10th-percentile</td>\n",
       "      <td>10th percentile</td>\n",
       "    </tr>\n",
       "    <tr>\n",
       "      <th>1</th>\n",
       "      <td>15.1</td>\n",
       "      <td>NaN</td>\n",
       "      <td>0.6</td>\n",
       "      <td>Year</td>\n",
       "      <td>2012</td>\n",
       "      <td>K03000001</td>\n",
       "      <td>Great Britain</td>\n",
       "      <td>paid-hours-worked-total</td>\n",
       "      <td>Paid hours worked - Total</td>\n",
       "      <td>all</td>\n",
       "      <td>All</td>\n",
       "      <td>all</td>\n",
       "      <td>All</td>\n",
       "      <td>10th-percentile</td>\n",
       "      <td>10th percentile</td>\n",
       "    </tr>\n",
       "  </tbody>\n",
       "</table>\n",
       "</div>"
      ],
      "text/plain": [
       "   V4_2 Data marking Coefficient of variation Time_codelist  Time ashe-geography       Geography           Hours_codelist                      Hours Sex_codelist  Sex WorkingPattern_codelist WorkingPattern Statistics_codelist       Statistics\n",
       "0  15.1          NaN                      0.5          Year  2012      K02000001  United Kingdom  paid-hours-worked-total  Paid hours worked - Total          all  All                     all            All     10th-percentile  10th percentile\n",
       "1  15.1          NaN                      0.6          Year  2012      K03000001   Great Britain  paid-hours-worked-total  Paid hours worked - Total          all  All                     all            All     10th-percentile  10th percentile"
      ]
     },
     "execution_count": 116,
     "metadata": {},
     "output_type": "execute_result"
    }
   ],
   "source": [
    "horig = pd.read_csv(\"hours_full.csv\", header=0)\n",
    "\n",
    "print(horig.shape)\n",
    "horig.head(2)"
   ]
  },
  {
   "cell_type": "code",
   "execution_count": 117,
   "metadata": {},
   "outputs": [
    {
     "name": "stdout",
     "output_type": "stream",
     "text": [
      "Unique IDs: 431\n",
      "Index(['V4_2', 'Data marking', 'Coefficient of variation', 'Time_codelist', 'Time', 'ashe-geography', 'Geography', 'Hours_codelist', 'Hours', 'Sex_codelist', 'Sex', 'WorkingPattern_codelist', 'WorkingPattern', 'Statistics_codelist', 'Statistics'], dtype='object')\n"
     ]
    }
   ],
   "source": [
    "print(f\"Unique IDs: {len(horig['ashe-geography'].unique())}\")\n",
    "print(horig.columns)"
   ]
  },
  {
   "cell_type": "code",
   "execution_count": 118,
   "metadata": {},
   "outputs": [
    {
     "data": {
      "text/plain": [
       "array(['All', 'Full-Time', 'Part-Time'], dtype=object)"
      ]
     },
     "execution_count": 118,
     "metadata": {},
     "output_type": "execute_result"
    }
   ],
   "source": [
    "horig['WorkingPattern'].unique()"
   ]
  },
  {
   "cell_type": "code",
   "execution_count": 119,
   "metadata": {},
   "outputs": [
    {
     "name": "stdout",
     "output_type": "stream",
     "text": [
      "(30960, 8)\n"
     ]
    },
    {
     "data": {
      "text/html": [
       "<div>\n",
       "<style scoped>\n",
       "    .dataframe tbody tr th:only-of-type {\n",
       "        vertical-align: middle;\n",
       "    }\n",
       "\n",
       "    .dataframe tbody tr th {\n",
       "        vertical-align: top;\n",
       "    }\n",
       "\n",
       "    .dataframe thead th {\n",
       "        text-align: right;\n",
       "    }\n",
       "</style>\n",
       "<table border=\"1\" class=\"dataframe\">\n",
       "  <thead>\n",
       "    <tr style=\"text-align: right;\">\n",
       "      <th></th>\n",
       "      <th>ID</th>\n",
       "      <th>Geography</th>\n",
       "      <th>Year</th>\n",
       "      <th>Sex</th>\n",
       "      <th>Hours</th>\n",
       "      <th>WorkingPattern</th>\n",
       "      <th>Value</th>\n",
       "      <th>CV</th>\n",
       "    </tr>\n",
       "  </thead>\n",
       "  <tbody>\n",
       "    <tr>\n",
       "      <th>0</th>\n",
       "      <td>K02000001</td>\n",
       "      <td>United Kingdom</td>\n",
       "      <td>2012</td>\n",
       "      <td>All</td>\n",
       "      <td>Paid hours worked - Basic</td>\n",
       "      <td>Full-Time</td>\n",
       "      <td>37.9</td>\n",
       "      <td>0</td>\n",
       "    </tr>\n",
       "    <tr>\n",
       "      <th>1</th>\n",
       "      <td>K03000001</td>\n",
       "      <td>Great Britain</td>\n",
       "      <td>2012</td>\n",
       "      <td>All</td>\n",
       "      <td>Paid hours worked - Basic</td>\n",
       "      <td>Full-Time</td>\n",
       "      <td>37.9</td>\n",
       "      <td>0</td>\n",
       "    </tr>\n",
       "    <tr>\n",
       "      <th>2</th>\n",
       "      <td>K04000001</td>\n",
       "      <td>England and Wales</td>\n",
       "      <td>2012</td>\n",
       "      <td>All</td>\n",
       "      <td>Paid hours worked - Basic</td>\n",
       "      <td>Full-Time</td>\n",
       "      <td>37.9</td>\n",
       "      <td>0</td>\n",
       "    </tr>\n",
       "    <tr>\n",
       "      <th>3</th>\n",
       "      <td>E92000001</td>\n",
       "      <td>England</td>\n",
       "      <td>2012</td>\n",
       "      <td>All</td>\n",
       "      <td>Paid hours worked - Basic</td>\n",
       "      <td>Full-Time</td>\n",
       "      <td>37.9</td>\n",
       "      <td>0</td>\n",
       "    </tr>\n",
       "    <tr>\n",
       "      <th>4</th>\n",
       "      <td>E12000001</td>\n",
       "      <td>North East</td>\n",
       "      <td>2012</td>\n",
       "      <td>All</td>\n",
       "      <td>Paid hours worked - Basic</td>\n",
       "      <td>Full-Time</td>\n",
       "      <td>37.8</td>\n",
       "      <td>0.2</td>\n",
       "    </tr>\n",
       "  </tbody>\n",
       "</table>\n",
       "</div>"
      ],
      "text/plain": [
       "          ID          Geography  Year  Sex                      Hours WorkingPattern Value   CV\n",
       "0  K02000001     United Kingdom  2012  All  Paid hours worked - Basic      Full-Time  37.9    0\n",
       "1  K03000001      Great Britain  2012  All  Paid hours worked - Basic      Full-Time  37.9    0\n",
       "2  K04000001  England and Wales  2012  All  Paid hours worked - Basic      Full-Time  37.9    0\n",
       "3  E92000001            England  2012  All  Paid hours worked - Basic      Full-Time  37.9    0\n",
       "4  E12000001         North East  2012  All  Paid hours worked - Basic      Full-Time  37.8  0.2"
      ]
     },
     "execution_count": 119,
     "metadata": {},
     "output_type": "execute_result"
    }
   ],
   "source": [
    "hedit = horig.copy()\n",
    "\n",
    "hedit = hedit[hedit['Hours'] != 'Paid hours worked - Total']\n",
    "hedit = hedit[hedit['WorkingPattern'] != 'All']\n",
    "hedit = hedit[hedit['Statistics'] == 'Mean']\n",
    "\n",
    "hedit = hedit[['ashe-geography','Geography','Time','Sex','Hours','WorkingPattern','V4_2','Coefficient of variation']]\n",
    "hedit.rename(columns={\"ashe-geography\":\"ID\", \"Time\":\"Year\",\"V4_2\":\"Value\",\"Coefficient of variation\":\"CV\"}, inplace=True)\n",
    "hedit.reset_index(drop=True, inplace=True)\n",
    "\n",
    "print(hedit.shape)\n",
    "hedit.head()"
   ]
  },
  {
   "cell_type": "code",
   "execution_count": 120,
   "metadata": {},
   "outputs": [
    {
     "data": {
      "text/html": [
       "<div>\n",
       "<style scoped>\n",
       "    .dataframe tbody tr th:only-of-type {\n",
       "        vertical-align: middle;\n",
       "    }\n",
       "\n",
       "    .dataframe tbody tr th {\n",
       "        vertical-align: top;\n",
       "    }\n",
       "\n",
       "    .dataframe thead th {\n",
       "        text-align: right;\n",
       "    }\n",
       "</style>\n",
       "<table border=\"1\" class=\"dataframe\">\n",
       "  <thead>\n",
       "    <tr style=\"text-align: right;\">\n",
       "      <th></th>\n",
       "      <th>ID</th>\n",
       "      <th>Geography</th>\n",
       "      <th>Year</th>\n",
       "      <th>Sex</th>\n",
       "      <th>Hours</th>\n",
       "      <th>WorkingPattern</th>\n",
       "      <th>Value</th>\n",
       "      <th>CV</th>\n",
       "    </tr>\n",
       "  </thead>\n",
       "  <tbody>\n",
       "    <tr>\n",
       "      <th>0</th>\n",
       "      <td>K02000001</td>\n",
       "      <td>United Kingdom</td>\n",
       "      <td>2012</td>\n",
       "      <td>All</td>\n",
       "      <td>Basic</td>\n",
       "      <td>Full</td>\n",
       "      <td>37.9</td>\n",
       "      <td>0</td>\n",
       "    </tr>\n",
       "    <tr>\n",
       "      <th>1</th>\n",
       "      <td>K03000001</td>\n",
       "      <td>Great Britain</td>\n",
       "      <td>2012</td>\n",
       "      <td>All</td>\n",
       "      <td>Basic</td>\n",
       "      <td>Full</td>\n",
       "      <td>37.9</td>\n",
       "      <td>0</td>\n",
       "    </tr>\n",
       "  </tbody>\n",
       "</table>\n",
       "</div>"
      ],
      "text/plain": [
       "          ID       Geography  Year  Sex  Hours WorkingPattern Value CV\n",
       "0  K02000001  United Kingdom  2012  All  Basic           Full  37.9  0\n",
       "1  K03000001   Great Britain  2012  All  Basic           Full  37.9  0"
      ]
     },
     "execution_count": 120,
     "metadata": {},
     "output_type": "execute_result"
    }
   ],
   "source": [
    "hedit.loc[hedit.Hours == 'Paid hours worked - Basic', 'Hours'] = 'Basic'\n",
    "hedit.loc[hedit.Hours == 'Paid hours worked - Overtime', 'Hours'] = 'Overtime'\n",
    "hedit.loc[hedit.WorkingPattern == 'Full-Time', 'WorkingPattern'] = 'Full'\n",
    "hedit.loc[hedit.WorkingPattern == 'Part-Time', 'WorkingPattern'] = 'Part'\n",
    "\n",
    "hedit.head(2)"
   ]
  },
  {
   "cell_type": "code",
   "execution_count": 121,
   "metadata": {},
   "outputs": [],
   "source": [
    "# mismatch from geojson\n",
    "# also \"N09...\" N Ireland removed due to lack of data\n",
    "hedit.loc[hedit.Geography == 'Fife', 'ID'] = 'S12000047'\n",
    "hedit.loc[hedit.Geography == 'Perth and Kinross', 'ID'] = 'S12000048'"
   ]
  },
  {
   "cell_type": "markdown",
   "metadata": {},
   "source": [
    "## Append Lat Lon"
   ]
  },
  {
   "cell_type": "code",
   "execution_count": 122,
   "metadata": {},
   "outputs": [
    {
     "name": "stdout",
     "output_type": "stream",
     "text": [
      "(391, 10)\n"
     ]
    },
    {
     "data": {
      "text/html": [
       "<div>\n",
       "<style scoped>\n",
       "    .dataframe tbody tr th:only-of-type {\n",
       "        vertical-align: middle;\n",
       "    }\n",
       "\n",
       "    .dataframe tbody tr th {\n",
       "        vertical-align: top;\n",
       "    }\n",
       "\n",
       "    .dataframe thead th {\n",
       "        text-align: right;\n",
       "    }\n",
       "</style>\n",
       "<table border=\"1\" class=\"dataframe\">\n",
       "  <thead>\n",
       "    <tr style=\"text-align: right;\">\n",
       "      <th></th>\n",
       "      <th>objectid</th>\n",
       "      <th>lad18cd</th>\n",
       "      <th>lad18nm</th>\n",
       "      <th>lad18nmw</th>\n",
       "      <th>bng_e</th>\n",
       "      <th>bng_n</th>\n",
       "      <th>long</th>\n",
       "      <th>lat</th>\n",
       "      <th>st_lengthshape</th>\n",
       "      <th>st_areashape</th>\n",
       "    </tr>\n",
       "  </thead>\n",
       "  <tbody>\n",
       "    <tr>\n",
       "      <th>0</th>\n",
       "      <td>1</td>\n",
       "      <td>E06000001</td>\n",
       "      <td>Hartlepool</td>\n",
       "      <td></td>\n",
       "      <td>447157</td>\n",
       "      <td>531476</td>\n",
       "      <td>-1.27023</td>\n",
       "      <td>54.676201</td>\n",
       "      <td>50488.387081</td>\n",
       "      <td>9.651231e+07</td>\n",
       "    </tr>\n",
       "    <tr>\n",
       "      <th>1</th>\n",
       "      <td>2</td>\n",
       "      <td>E06000002</td>\n",
       "      <td>Middlesbrough</td>\n",
       "      <td></td>\n",
       "      <td>451141</td>\n",
       "      <td>516887</td>\n",
       "      <td>-1.21099</td>\n",
       "      <td>54.544701</td>\n",
       "      <td>35506.404054</td>\n",
       "      <td>5.522915e+07</td>\n",
       "    </tr>\n",
       "  </tbody>\n",
       "</table>\n",
       "</div>"
      ],
      "text/plain": [
       "   objectid    lad18cd        lad18nm lad18nmw   bng_e   bng_n     long        lat  st_lengthshape  st_areashape\n",
       "0         1  E06000001     Hartlepool           447157  531476 -1.27023  54.676201    50488.387081  9.651231e+07\n",
       "1         2  E06000002  Middlesbrough           451141  516887 -1.21099  54.544701    35506.404054  5.522915e+07"
      ]
     },
     "execution_count": 122,
     "metadata": {},
     "output_type": "execute_result"
    }
   ],
   "source": [
    "geo = pd.read_csv('Local_Authority_Districts_December_2018_Ultra_Generalised_Clipped_Boundaries_UK.csv')\n",
    "\n",
    "print(geo.shape)\n",
    "geo.head(2)"
   ]
  },
  {
   "cell_type": "code",
   "execution_count": 123,
   "metadata": {},
   "outputs": [
    {
     "data": {
      "text/html": [
       "<div>\n",
       "<style scoped>\n",
       "    .dataframe tbody tr th:only-of-type {\n",
       "        vertical-align: middle;\n",
       "    }\n",
       "\n",
       "    .dataframe tbody tr th {\n",
       "        vertical-align: top;\n",
       "    }\n",
       "\n",
       "    .dataframe thead th {\n",
       "        text-align: right;\n",
       "    }\n",
       "</style>\n",
       "<table border=\"1\" class=\"dataframe\">\n",
       "  <thead>\n",
       "    <tr style=\"text-align: right;\">\n",
       "      <th></th>\n",
       "      <th>ID</th>\n",
       "      <th>lat</th>\n",
       "      <th>lon</th>\n",
       "    </tr>\n",
       "  </thead>\n",
       "  <tbody>\n",
       "    <tr>\n",
       "      <th>0</th>\n",
       "      <td>E06000001</td>\n",
       "      <td>54.676201</td>\n",
       "      <td>-1.27023</td>\n",
       "    </tr>\n",
       "    <tr>\n",
       "      <th>1</th>\n",
       "      <td>E06000002</td>\n",
       "      <td>54.544701</td>\n",
       "      <td>-1.21099</td>\n",
       "    </tr>\n",
       "  </tbody>\n",
       "</table>\n",
       "</div>"
      ],
      "text/plain": [
       "          ID        lat      lon\n",
       "0  E06000001  54.676201 -1.27023\n",
       "1  E06000002  54.544701 -1.21099"
      ]
     },
     "execution_count": 123,
     "metadata": {},
     "output_type": "execute_result"
    }
   ],
   "source": [
    "geo = geo[['lad18cd', 'lat', 'long']]\n",
    "geo.rename(columns={\"lad18cd\":\"ID\", \"long\":\"lon\"}, inplace=True)\n",
    "\n",
    "geo.head(2)"
   ]
  },
  {
   "cell_type": "code",
   "execution_count": 124,
   "metadata": {},
   "outputs": [
    {
     "name": "stdout",
     "output_type": "stream",
     "text": [
      "(30960, 8)\n",
      "(27288, 10)\n",
      "380\n"
     ]
    },
    {
     "data": {
      "text/html": [
       "<div>\n",
       "<style scoped>\n",
       "    .dataframe tbody tr th:only-of-type {\n",
       "        vertical-align: middle;\n",
       "    }\n",
       "\n",
       "    .dataframe tbody tr th {\n",
       "        vertical-align: top;\n",
       "    }\n",
       "\n",
       "    .dataframe thead th {\n",
       "        text-align: right;\n",
       "    }\n",
       "</style>\n",
       "<table border=\"1\" class=\"dataframe\">\n",
       "  <thead>\n",
       "    <tr style=\"text-align: right;\">\n",
       "      <th></th>\n",
       "      <th>ID</th>\n",
       "      <th>Geography</th>\n",
       "      <th>Year</th>\n",
       "      <th>Sex</th>\n",
       "      <th>Hours</th>\n",
       "      <th>WorkingPattern</th>\n",
       "      <th>Value</th>\n",
       "      <th>CV</th>\n",
       "      <th>lat</th>\n",
       "      <th>lon</th>\n",
       "    </tr>\n",
       "  </thead>\n",
       "  <tbody>\n",
       "    <tr>\n",
       "      <th>0</th>\n",
       "      <td>E06000005</td>\n",
       "      <td>Darlington</td>\n",
       "      <td>2012</td>\n",
       "      <td>All</td>\n",
       "      <td>Basic</td>\n",
       "      <td>Full</td>\n",
       "      <td>38.2</td>\n",
       "      <td>0.9</td>\n",
       "      <td>54.535301</td>\n",
       "      <td>-1.56835</td>\n",
       "    </tr>\n",
       "    <tr>\n",
       "      <th>1</th>\n",
       "      <td>E06000005</td>\n",
       "      <td>Darlington</td>\n",
       "      <td>2012</td>\n",
       "      <td>All</td>\n",
       "      <td>Basic</td>\n",
       "      <td>Part</td>\n",
       "      <td>17.6</td>\n",
       "      <td>4.4</td>\n",
       "      <td>54.535301</td>\n",
       "      <td>-1.56835</td>\n",
       "    </tr>\n",
       "  </tbody>\n",
       "</table>\n",
       "</div>"
      ],
      "text/plain": [
       "          ID   Geography  Year  Sex  Hours WorkingPattern Value   CV        lat      lon\n",
       "0  E06000005  Darlington  2012  All  Basic           Full  38.2  0.9  54.535301 -1.56835\n",
       "1  E06000005  Darlington  2012  All  Basic           Part  17.6  4.4  54.535301 -1.56835"
      ]
     },
     "execution_count": 124,
     "metadata": {},
     "output_type": "execute_result"
    }
   ],
   "source": [
    "# rows removed are N Ireland + Country / Region rows\n",
    "hla = hedit.copy()\n",
    "\n",
    "print(hla.shape)\n",
    "\n",
    "hla = pd.merge(hla, geo, on='ID')\n",
    "\n",
    "print(hla.shape)\n",
    "print(len(hla.ID.unique()))\n",
    "hla.head(2)"
   ]
  },
  {
   "cell_type": "code",
   "execution_count": 129,
   "metadata": {},
   "outputs": [
    {
     "data": {
      "text/html": [
       "<div>\n",
       "<style scoped>\n",
       "    .dataframe tbody tr th:only-of-type {\n",
       "        vertical-align: middle;\n",
       "    }\n",
       "\n",
       "    .dataframe tbody tr th {\n",
       "        vertical-align: top;\n",
       "    }\n",
       "\n",
       "    .dataframe thead th {\n",
       "        text-align: right;\n",
       "    }\n",
       "</style>\n",
       "<table border=\"1\" class=\"dataframe\">\n",
       "  <thead>\n",
       "    <tr style=\"text-align: right;\">\n",
       "      <th></th>\n",
       "      <th>Year</th>\n",
       "      <th>lat</th>\n",
       "      <th>lon</th>\n",
       "    </tr>\n",
       "  </thead>\n",
       "  <tbody>\n",
       "    <tr>\n",
       "      <th>count</th>\n",
       "      <td>27288.000000</td>\n",
       "      <td>27288.000000</td>\n",
       "      <td>27288.000000</td>\n",
       "    </tr>\n",
       "    <tr>\n",
       "      <th>mean</th>\n",
       "      <td>2014.500733</td>\n",
       "      <td>52.621511</td>\n",
       "      <td>-1.482286</td>\n",
       "    </tr>\n",
       "    <tr>\n",
       "      <th>std</th>\n",
       "      <td>1.707813</td>\n",
       "      <td>1.617132</td>\n",
       "      <td>1.491451</td>\n",
       "    </tr>\n",
       "    <tr>\n",
       "      <th>min</th>\n",
       "      <td>2012.000000</td>\n",
       "      <td>49.923302</td>\n",
       "      <td>-6.657220</td>\n",
       "    </tr>\n",
       "    <tr>\n",
       "      <th>25%</th>\n",
       "      <td>2013.000000</td>\n",
       "      <td>51.464401</td>\n",
       "      <td>-2.561670</td>\n",
       "    </tr>\n",
       "    <tr>\n",
       "      <th>50%</th>\n",
       "      <td>2015.000000</td>\n",
       "      <td>52.237801</td>\n",
       "      <td>-1.373440</td>\n",
       "    </tr>\n",
       "    <tr>\n",
       "      <th>75%</th>\n",
       "      <td>2016.000000</td>\n",
       "      <td>53.416698</td>\n",
       "      <td>-0.275680</td>\n",
       "    </tr>\n",
       "    <tr>\n",
       "      <th>max</th>\n",
       "      <td>2017.000000</td>\n",
       "      <td>60.505001</td>\n",
       "      <td>1.649500</td>\n",
       "    </tr>\n",
       "  </tbody>\n",
       "</table>\n",
       "</div>"
      ],
      "text/plain": [
       "               Year           lat           lon\n",
       "count  27288.000000  27288.000000  27288.000000\n",
       "mean    2014.500733     52.621511     -1.482286\n",
       "std        1.707813      1.617132      1.491451\n",
       "min     2012.000000     49.923302     -6.657220\n",
       "25%     2013.000000     51.464401     -2.561670\n",
       "50%     2015.000000     52.237801     -1.373440\n",
       "75%     2016.000000     53.416698     -0.275680\n",
       "max     2017.000000     60.505001      1.649500"
      ]
     },
     "execution_count": 129,
     "metadata": {},
     "output_type": "execute_result"
    }
   ],
   "source": [
    "hla.describe()"
   ]
  },
  {
   "cell_type": "code",
   "execution_count": 128,
   "metadata": {},
   "outputs": [
    {
     "name": "stdout",
     "output_type": "stream",
     "text": [
      "(27288, 10)\n",
      "(4550, 10)\n"
     ]
    }
   ],
   "source": [
    "# print(hla.shape)\n",
    "# hla.to_csv('h_clean_all.csv')\n",
    "\n",
    "# h2017 = hla[hla.Year == 2017]\n",
    "# print(h2017.shape)\n",
    "\n",
    "# h2017.to_csv('h_clean_2017.csv')"
   ]
  },
  {
   "cell_type": "code",
   "execution_count": null,
   "metadata": {},
   "outputs": [],
   "source": []
  },
  {
   "cell_type": "code",
   "execution_count": null,
   "metadata": {},
   "outputs": [],
   "source": []
  },
  {
   "cell_type": "code",
   "execution_count": null,
   "metadata": {},
   "outputs": [],
   "source": []
  },
  {
   "cell_type": "code",
   "execution_count": null,
   "metadata": {},
   "outputs": [],
   "source": []
  },
  {
   "cell_type": "code",
   "execution_count": null,
   "metadata": {},
   "outputs": [],
   "source": []
  },
  {
   "cell_type": "code",
   "execution_count": 49,
   "metadata": {},
   "outputs": [
    {
     "name": "stdout",
     "output_type": "stream",
     "text": [
      "(5162, 8)\n"
     ]
    },
    {
     "data": {
      "text/html": [
       "<div>\n",
       "<style scoped>\n",
       "    .dataframe tbody tr th:only-of-type {\n",
       "        vertical-align: middle;\n",
       "    }\n",
       "\n",
       "    .dataframe tbody tr th {\n",
       "        vertical-align: top;\n",
       "    }\n",
       "\n",
       "    .dataframe thead th {\n",
       "        text-align: right;\n",
       "    }\n",
       "</style>\n",
       "<table border=\"1\" class=\"dataframe\">\n",
       "  <thead>\n",
       "    <tr style=\"text-align: right;\">\n",
       "      <th></th>\n",
       "      <th>ID</th>\n",
       "      <th>Geography</th>\n",
       "      <th>Year</th>\n",
       "      <th>Sex</th>\n",
       "      <th>Hours</th>\n",
       "      <th>WorkingPattern</th>\n",
       "      <th>Value</th>\n",
       "      <th>CV</th>\n",
       "    </tr>\n",
       "  </thead>\n",
       "  <tbody>\n",
       "    <tr>\n",
       "      <th>25798</th>\n",
       "      <td>W06000020</td>\n",
       "      <td>Torfaen</td>\n",
       "      <td>2017</td>\n",
       "      <td>All</td>\n",
       "      <td>Basic</td>\n",
       "      <td>Full</td>\n",
       "      <td>38.7</td>\n",
       "      <td>1.4</td>\n",
       "    </tr>\n",
       "    <tr>\n",
       "      <th>25799</th>\n",
       "      <td>W06000021</td>\n",
       "      <td>Monmouthshire</td>\n",
       "      <td>2017</td>\n",
       "      <td>All</td>\n",
       "      <td>Basic</td>\n",
       "      <td>Full</td>\n",
       "      <td>38.4</td>\n",
       "      <td>1</td>\n",
       "    </tr>\n",
       "  </tbody>\n",
       "</table>\n",
       "</div>"
      ],
      "text/plain": [
       "              ID      Geography  Year  Sex  Hours WorkingPattern  Value   CV\n",
       "25798  W06000020        Torfaen  2017  All  Basic           Full   38.7  1.4\n",
       "25799  W06000021  Monmouthshire  2017  All  Basic           Full   38.4    1"
      ]
     },
     "execution_count": 49,
     "metadata": {},
     "output_type": "execute_result"
    }
   ],
   "source": [
    "hnew = pd.read_csv(\"h_clean_2017.csv\", header=0, index_col=0)\n",
    "\n",
    "print(hnew.shape)\n",
    "hnew.head(2)"
   ]
  },
  {
   "cell_type": "code",
   "execution_count": 50,
   "metadata": {},
   "outputs": [
    {
     "name": "stdout",
     "output_type": "stream",
     "text": [
      "<class 'pandas.core.frame.DataFrame'>\n",
      "Int64Index: 5162 entries, 25798 to 30959\n",
      "Data columns (total 8 columns):\n",
      "ID                5162 non-null object\n",
      "Geography         5162 non-null object\n",
      "Year              5162 non-null int64\n",
      "Sex               5162 non-null object\n",
      "Hours             5162 non-null object\n",
      "WorkingPattern    5162 non-null object\n",
      "Value             3148 non-null float64\n",
      "CV                5162 non-null object\n",
      "dtypes: float64(1), int64(1), object(6)\n",
      "memory usage: 363.0+ KB\n"
     ]
    }
   ],
   "source": [
    "hnew.info()"
   ]
  },
  {
   "cell_type": "code",
   "execution_count": 53,
   "metadata": {},
   "outputs": [
    {
     "name": "stdout",
     "output_type": "stream",
     "text": [
      "Unique values: 39\n"
     ]
    },
    {
     "data": {
      "text/plain": [
       "count    431.000000\n",
       "mean      38.268445\n",
       "std        0.665933\n",
       "min       36.500000\n",
       "25%       37.800000\n",
       "50%       38.200000\n",
       "75%       38.600000\n",
       "max       41.600000\n",
       "Name: Value, dtype: float64"
      ]
     },
     "execution_count": 53,
     "metadata": {},
     "output_type": "execute_result"
    }
   ],
   "source": [
    "hbasicfull = hnew[(hnew.Sex == 'All') & (hnew.Hours == 'Basic') & (hnew.WorkingPattern == 'Full')]\n",
    "\n",
    "print(f\"Unique values: {len(hbasicfull.Value.unique())}\")\n",
    "hbasicfull.Value.describe()"
   ]
  },
  {
   "cell_type": "markdown",
   "metadata": {},
   "source": [
    "## Cross Verify with geojson"
   ]
  },
  {
   "cell_type": "code",
   "execution_count": 58,
   "metadata": {},
   "outputs": [
    {
     "name": "stdout",
     "output_type": "stream",
     "text": [
      "(391, 10)\n"
     ]
    },
    {
     "data": {
      "text/html": [
       "<div>\n",
       "<style scoped>\n",
       "    .dataframe tbody tr th:only-of-type {\n",
       "        vertical-align: middle;\n",
       "    }\n",
       "\n",
       "    .dataframe tbody tr th {\n",
       "        vertical-align: top;\n",
       "    }\n",
       "\n",
       "    .dataframe thead th {\n",
       "        text-align: right;\n",
       "    }\n",
       "</style>\n",
       "<table border=\"1\" class=\"dataframe\">\n",
       "  <thead>\n",
       "    <tr style=\"text-align: right;\">\n",
       "      <th></th>\n",
       "      <th>objectid</th>\n",
       "      <th>lad18cd</th>\n",
       "      <th>lad18nm</th>\n",
       "      <th>lad18nmw</th>\n",
       "      <th>bng_e</th>\n",
       "      <th>bng_n</th>\n",
       "      <th>long</th>\n",
       "      <th>lat</th>\n",
       "      <th>st_lengthshape</th>\n",
       "      <th>st_areashape</th>\n",
       "    </tr>\n",
       "  </thead>\n",
       "  <tbody>\n",
       "    <tr>\n",
       "      <th>0</th>\n",
       "      <td>1</td>\n",
       "      <td>E06000001</td>\n",
       "      <td>Hartlepool</td>\n",
       "      <td></td>\n",
       "      <td>447157</td>\n",
       "      <td>531476</td>\n",
       "      <td>-1.27023</td>\n",
       "      <td>54.676201</td>\n",
       "      <td>50488.387081</td>\n",
       "      <td>9.651231e+07</td>\n",
       "    </tr>\n",
       "    <tr>\n",
       "      <th>1</th>\n",
       "      <td>2</td>\n",
       "      <td>E06000002</td>\n",
       "      <td>Middlesbrough</td>\n",
       "      <td></td>\n",
       "      <td>451141</td>\n",
       "      <td>516887</td>\n",
       "      <td>-1.21099</td>\n",
       "      <td>54.544701</td>\n",
       "      <td>35506.404054</td>\n",
       "      <td>5.522915e+07</td>\n",
       "    </tr>\n",
       "  </tbody>\n",
       "</table>\n",
       "</div>"
      ],
      "text/plain": [
       "   objectid    lad18cd        lad18nm lad18nmw   bng_e   bng_n     long        lat  st_lengthshape  st_areashape\n",
       "0         1  E06000001     Hartlepool           447157  531476 -1.27023  54.676201    50488.387081  9.651231e+07\n",
       "1         2  E06000002  Middlesbrough           451141  516887 -1.21099  54.544701    35506.404054  5.522915e+07"
      ]
     },
     "execution_count": 58,
     "metadata": {},
     "output_type": "execute_result"
    }
   ],
   "source": [
    "la = pd.read_csv('Local_Authority_Districts_December_2018_Ultra_Generalised_Clipped_Boundaries_UK.csv')\n",
    "\n",
    "print(la.shape)\n",
    "la.head(2)"
   ]
  },
  {
   "cell_type": "code",
   "execution_count": 67,
   "metadata": {},
   "outputs": [
    {
     "name": "stdout",
     "output_type": "stream",
     "text": [
      "431\n",
      "391\n"
     ]
    }
   ],
   "source": [
    "new_id = hnew.ID.unique().tolist()\n",
    "geo_id = la.lad18cd.unique().tolist()\n",
    "print(len(new_id))\n",
    "print(len(geo_id))"
   ]
  },
  {
   "cell_type": "code",
   "execution_count": 70,
   "metadata": {},
   "outputs": [
    {
     "name": "stdout",
     "output_type": "stream",
     "text": [
      "13\n"
     ]
    },
    {
     "data": {
      "text/plain": [
       "['N09000001',\n",
       " 'N09000002',\n",
       " 'N09000003',\n",
       " 'N09000004',\n",
       " 'N09000005',\n",
       " 'N09000006',\n",
       " 'N09000007',\n",
       " 'N09000008',\n",
       " 'N09000009',\n",
       " 'N09000010',\n",
       " 'N09000011',\n",
       " 'S12000047',\n",
       " 'S12000048']"
      ]
     },
     "execution_count": 70,
     "metadata": {},
     "output_type": "execute_result"
    }
   ],
   "source": [
    "# these need to be added to Hours Worked df\n",
    "diff_1 = [item for item in geo_id if item not in new_id]\n",
    "\n",
    "print(len(diff_1))\n",
    "diff_1"
   ]
  },
  {
   "cell_type": "code",
   "execution_count": 102,
   "metadata": {},
   "outputs": [
    {
     "data": {
      "text/html": [
       "<div>\n",
       "<style scoped>\n",
       "    .dataframe tbody tr th:only-of-type {\n",
       "        vertical-align: middle;\n",
       "    }\n",
       "\n",
       "    .dataframe tbody tr th {\n",
       "        vertical-align: top;\n",
       "    }\n",
       "\n",
       "    .dataframe thead th {\n",
       "        text-align: right;\n",
       "    }\n",
       "</style>\n",
       "<table border=\"1\" class=\"dataframe\">\n",
       "  <thead>\n",
       "    <tr style=\"text-align: right;\">\n",
       "      <th></th>\n",
       "      <th>objectid</th>\n",
       "      <th>lad18cd</th>\n",
       "      <th>lad18nm</th>\n",
       "      <th>lad18nmw</th>\n",
       "      <th>bng_e</th>\n",
       "      <th>bng_n</th>\n",
       "      <th>long</th>\n",
       "      <th>lat</th>\n",
       "      <th>st_lengthshape</th>\n",
       "      <th>st_areashape</th>\n",
       "    </tr>\n",
       "  </thead>\n",
       "  <tbody>\n",
       "    <tr>\n",
       "      <th>367</th>\n",
       "      <td>368</td>\n",
       "      <td>S12000047</td>\n",
       "      <td>Fife</td>\n",
       "      <td></td>\n",
       "      <td>339197</td>\n",
       "      <td>704726</td>\n",
       "      <td>-2.98235</td>\n",
       "      <td>56.231201</td>\n",
       "      <td>250355.120713</td>\n",
       "      <td>1.326132e+09</td>\n",
       "    </tr>\n",
       "  </tbody>\n",
       "</table>\n",
       "</div>"
      ],
      "text/plain": [
       "     objectid    lad18cd lad18nm lad18nmw   bng_e   bng_n     long        lat  st_lengthshape  st_areashape\n",
       "367       368  S12000047    Fife           339197  704726 -2.98235  56.231201   250355.120713  1.326132e+09"
      ]
     },
     "execution_count": 102,
     "metadata": {},
     "output_type": "execute_result"
    }
   ],
   "source": [
    "la[la.lad18cd == 'S12000047']"
   ]
  },
  {
   "cell_type": "code",
   "execution_count": 75,
   "metadata": {},
   "outputs": [
    {
     "name": "stdout",
     "output_type": "stream",
     "text": [
      "53\n"
     ]
    },
    {
     "data": {
      "text/plain": [
       "['S92000003',\n",
       " 'K02000001',\n",
       " 'K03000001',\n",
       " 'K04000001',\n",
       " 'E92000001',\n",
       " 'E12000001',\n",
       " 'E11000007',\n",
       " 'E12000002',\n",
       " 'E10000006',\n",
       " 'E11000001']"
      ]
     },
     "execution_count": 75,
     "metadata": {},
     "output_type": "execute_result"
    }
   ],
   "source": [
    "# These are countries and regions; need separate geojson\n",
    "diff_2 = [item for item in new_id if item not in geo_id]\n",
    "\n",
    "print(len(diff_2))\n",
    "diff_2[:10]"
   ]
  },
  {
   "cell_type": "code",
   "execution_count": 90,
   "metadata": {},
   "outputs": [
    {
     "data": {
      "text/plain": [
       "'S12000015'"
      ]
     },
     "execution_count": 90,
     "metadata": {},
     "output_type": "execute_result"
    }
   ],
   "source": [
    "diff_2[-3]"
   ]
  },
  {
   "cell_type": "code",
   "execution_count": 96,
   "metadata": {},
   "outputs": [
    {
     "data": {
      "text/html": [
       "<div>\n",
       "<style scoped>\n",
       "    .dataframe tbody tr th:only-of-type {\n",
       "        vertical-align: middle;\n",
       "    }\n",
       "\n",
       "    .dataframe tbody tr th {\n",
       "        vertical-align: top;\n",
       "    }\n",
       "\n",
       "    .dataframe thead th {\n",
       "        text-align: right;\n",
       "    }\n",
       "</style>\n",
       "<table border=\"1\" class=\"dataframe\">\n",
       "  <thead>\n",
       "    <tr style=\"text-align: right;\">\n",
       "      <th></th>\n",
       "      <th>ID</th>\n",
       "      <th>Geography</th>\n",
       "      <th>Year</th>\n",
       "      <th>Sex</th>\n",
       "      <th>Hours</th>\n",
       "      <th>WorkingPattern</th>\n",
       "      <th>Value</th>\n",
       "      <th>CV</th>\n",
       "    </tr>\n",
       "  </thead>\n",
       "  <tbody>\n",
       "    <tr>\n",
       "      <th>26209</th>\n",
       "      <td>S12000015</td>\n",
       "      <td>Fife</td>\n",
       "      <td>2017</td>\n",
       "      <td>All</td>\n",
       "      <td>Basic</td>\n",
       "      <td>Full</td>\n",
       "      <td>37.5</td>\n",
       "      <td>0.5</td>\n",
       "    </tr>\n",
       "    <tr>\n",
       "      <th>26639</th>\n",
       "      <td>S12000015</td>\n",
       "      <td>Fife</td>\n",
       "      <td>2017</td>\n",
       "      <td>All</td>\n",
       "      <td>Basic</td>\n",
       "      <td>Part</td>\n",
       "      <td>18.4</td>\n",
       "      <td>2.7</td>\n",
       "    </tr>\n",
       "    <tr>\n",
       "      <th>27070</th>\n",
       "      <td>S12000015</td>\n",
       "      <td>Fife</td>\n",
       "      <td>2017</td>\n",
       "      <td>Male</td>\n",
       "      <td>Basic</td>\n",
       "      <td>Full</td>\n",
       "      <td>38.1</td>\n",
       "      <td>0.5</td>\n",
       "    </tr>\n",
       "    <tr>\n",
       "      <th>27499</th>\n",
       "      <td>S12000015</td>\n",
       "      <td>Fife</td>\n",
       "      <td>2017</td>\n",
       "      <td>Male</td>\n",
       "      <td>Basic</td>\n",
       "      <td>Part</td>\n",
       "      <td>18.6</td>\n",
       "      <td>7.1</td>\n",
       "    </tr>\n",
       "    <tr>\n",
       "      <th>27929</th>\n",
       "      <td>S12000015</td>\n",
       "      <td>Fife</td>\n",
       "      <td>2017</td>\n",
       "      <td>Female</td>\n",
       "      <td>Basic</td>\n",
       "      <td>Full</td>\n",
       "      <td>36.7</td>\n",
       "      <td>1</td>\n",
       "    </tr>\n",
       "    <tr>\n",
       "      <th>28359</th>\n",
       "      <td>S12000015</td>\n",
       "      <td>Fife</td>\n",
       "      <td>2017</td>\n",
       "      <td>Female</td>\n",
       "      <td>Basic</td>\n",
       "      <td>Part</td>\n",
       "      <td>18.4</td>\n",
       "      <td>2.8</td>\n",
       "    </tr>\n",
       "    <tr>\n",
       "      <th>28802</th>\n",
       "      <td>S12000015</td>\n",
       "      <td>Fife</td>\n",
       "      <td>2017</td>\n",
       "      <td>All</td>\n",
       "      <td>Overtime</td>\n",
       "      <td>Full</td>\n",
       "      <td>1.2</td>\n",
       "      <td>12</td>\n",
       "    </tr>\n",
       "    <tr>\n",
       "      <th>29220</th>\n",
       "      <td>S12000015</td>\n",
       "      <td>Fife</td>\n",
       "      <td>2017</td>\n",
       "      <td>All</td>\n",
       "      <td>Overtime</td>\n",
       "      <td>Part</td>\n",
       "      <td>NaN</td>\n",
       "      <td>25</td>\n",
       "    </tr>\n",
       "    <tr>\n",
       "      <th>29651</th>\n",
       "      <td>S12000015</td>\n",
       "      <td>Fife</td>\n",
       "      <td>2017</td>\n",
       "      <td>Male</td>\n",
       "      <td>Overtime</td>\n",
       "      <td>Full</td>\n",
       "      <td>1.5</td>\n",
       "      <td>14</td>\n",
       "    </tr>\n",
       "    <tr>\n",
       "      <th>30080</th>\n",
       "      <td>S12000015</td>\n",
       "      <td>Fife</td>\n",
       "      <td>2017</td>\n",
       "      <td>Male</td>\n",
       "      <td>Overtime</td>\n",
       "      <td>Part</td>\n",
       "      <td>NaN</td>\n",
       "      <td>41</td>\n",
       "    </tr>\n",
       "    <tr>\n",
       "      <th>30510</th>\n",
       "      <td>S12000015</td>\n",
       "      <td>Fife</td>\n",
       "      <td>2017</td>\n",
       "      <td>Female</td>\n",
       "      <td>Overtime</td>\n",
       "      <td>Full</td>\n",
       "      <td>NaN</td>\n",
       "      <td>23</td>\n",
       "    </tr>\n",
       "    <tr>\n",
       "      <th>30940</th>\n",
       "      <td>S12000015</td>\n",
       "      <td>Fife</td>\n",
       "      <td>2017</td>\n",
       "      <td>Female</td>\n",
       "      <td>Overtime</td>\n",
       "      <td>Part</td>\n",
       "      <td>NaN</td>\n",
       "      <td>31</td>\n",
       "    </tr>\n",
       "  </tbody>\n",
       "</table>\n",
       "</div>"
      ],
      "text/plain": [
       "              ID Geography  Year     Sex     Hours WorkingPattern  Value   CV\n",
       "26209  S12000015      Fife  2017     All     Basic           Full   37.5  0.5\n",
       "26639  S12000015      Fife  2017     All     Basic           Part   18.4  2.7\n",
       "27070  S12000015      Fife  2017    Male     Basic           Full   38.1  0.5\n",
       "27499  S12000015      Fife  2017    Male     Basic           Part   18.6  7.1\n",
       "27929  S12000015      Fife  2017  Female     Basic           Full   36.7    1\n",
       "28359  S12000015      Fife  2017  Female     Basic           Part   18.4  2.8\n",
       "28802  S12000015      Fife  2017     All  Overtime           Full    1.2   12\n",
       "29220  S12000015      Fife  2017     All  Overtime           Part    NaN   25\n",
       "29651  S12000015      Fife  2017    Male  Overtime           Full    1.5   14\n",
       "30080  S12000015      Fife  2017    Male  Overtime           Part    NaN   41\n",
       "30510  S12000015      Fife  2017  Female  Overtime           Full    NaN   23\n",
       "30940  S12000015      Fife  2017  Female  Overtime           Part    NaN   31"
      ]
     },
     "execution_count": 96,
     "metadata": {},
     "output_type": "execute_result"
    }
   ],
   "source": [
    "hnew[hnew.Geography == 'Fife']"
   ]
  },
  {
   "cell_type": "code",
   "execution_count": 36,
   "metadata": {},
   "outputs": [],
   "source": [
    "# pv = pivot_table(hedit, values='V4_2', index=['Time', 'Hours'], \n",
    "#                  columns=['Sex'], aggfunc=np.mean)\n",
    "# pv"
   ]
  },
  {
   "cell_type": "code",
   "execution_count": null,
   "metadata": {},
   "outputs": [],
   "source": []
  }
 ],
 "metadata": {
  "kernelspec": {
   "display_name": "Python 3",
   "language": "python",
   "name": "python3"
  },
  "language_info": {
   "codemirror_mode": {
    "name": "ipython",
    "version": 3
   },
   "file_extension": ".py",
   "mimetype": "text/x-python",
   "name": "python",
   "nbconvert_exporter": "python",
   "pygments_lexer": "ipython3",
   "version": "3.7.3"
  }
 },
 "nbformat": 4,
 "nbformat_minor": 2
}
