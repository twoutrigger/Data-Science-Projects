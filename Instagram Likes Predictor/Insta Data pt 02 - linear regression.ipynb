{
 "cells": [
  {
   "cell_type": "code",
   "execution_count": 1,
   "metadata": {},
   "outputs": [],
   "source": [
    "data_url = 'https://towardsdatascience.com/predict-the-number-of-likes-on-instagram-a7ec5c020203'"
   ]
  },
  {
   "cell_type": "code",
   "execution_count": 2,
   "metadata": {},
   "outputs": [],
   "source": [
    "# In this section:\n",
    "    \n",
    "# run linear regression for scalar data to predict likes\n",
    "# nlp analysis will be in part 03"
   ]
  },
  {
   "cell_type": "code",
   "execution_count": 3,
   "metadata": {},
   "outputs": [],
   "source": [
    "import numpy as np\n",
    "import pandas as pd\n",
    "from pandas import Series, DataFrame"
   ]
  },
  {
   "cell_type": "code",
   "execution_count": 4,
   "metadata": {},
   "outputs": [],
   "source": [
    "import matplotlib.pyplot as plt\n",
    "import seaborn as sns\n",
    "%matplotlib inline"
   ]
  },
  {
   "cell_type": "code",
   "execution_count": 34,
   "metadata": {},
   "outputs": [],
   "source": [
    "from sklearn.model_selection import train_test_split\n",
    "from sklearn.linear_model import LinearRegression"
   ]
  },
  {
   "cell_type": "code",
   "execution_count": 27,
   "metadata": {},
   "outputs": [
    {
     "name": "stdout",
     "output_type": "stream",
     "text": [
      "(29955, 14)\n"
     ]
    },
    {
     "data": {
      "text/html": [
       "<div>\n",
       "<style scoped>\n",
       "    .dataframe tbody tr th:only-of-type {\n",
       "        vertical-align: middle;\n",
       "    }\n",
       "\n",
       "    .dataframe tbody tr th {\n",
       "        vertical-align: top;\n",
       "    }\n",
       "\n",
       "    .dataframe thead th {\n",
       "        text-align: right;\n",
       "    }\n",
       "</style>\n",
       "<table border=\"1\" class=\"dataframe\">\n",
       "  <thead>\n",
       "    <tr style=\"text-align: right;\">\n",
       "      <th></th>\n",
       "      <th>USERNAME</th>\n",
       "      <th>FOLLOWERS</th>\n",
       "      <th>FOLLOWING</th>\n",
       "      <th>LIKES</th>\n",
       "      <th>COMMENTS</th>\n",
       "      <th>TEXT</th>\n",
       "      <th>NUMBER OF TAGS</th>\n",
       "      <th>LIST OF TAGS</th>\n",
       "      <th>DATE</th>\n",
       "      <th>PHOTOVIDEO</th>\n",
       "      <th>USERS IN PHOTO</th>\n",
       "      <th>LINK</th>\n",
       "      <th>LOCATION</th>\n",
       "      <th>WEEKDAYMS</th>\n",
       "    </tr>\n",
       "  </thead>\n",
       "  <tbody>\n",
       "    <tr>\n",
       "      <th>0</th>\n",
       "      <td>georgiou82</td>\n",
       "      <td>1134619</td>\n",
       "      <td>915</td>\n",
       "      <td>18560</td>\n",
       "      <td>95</td>\n",
       "      <td>Every day is a #newday and every experience is...</td>\n",
       "      <td>2</td>\n",
       "      <td>#newera#newday</td>\n",
       "      <td>2017-02-11 11:05:10</td>\n",
       "      <td>1</td>\n",
       "      <td>1</td>\n",
       "      <td>https://www.instagram.com/p/BQXZpSQjiPj</td>\n",
       "      <td>33.0,35.0</td>\n",
       "      <td>5</td>\n",
       "    </tr>\n",
       "    <tr>\n",
       "      <th>1</th>\n",
       "      <td>georgiou82</td>\n",
       "      <td>1134619</td>\n",
       "      <td>915</td>\n",
       "      <td>17710</td>\n",
       "      <td>86</td>\n",
       "      <td>#goodnight !!! The #weekend is ahead!!! Have a...</td>\n",
       "      <td>3</td>\n",
       "      <td>#goodnight#goodone#weekend</td>\n",
       "      <td>2017-02-11 00:33:10</td>\n",
       "      <td>1</td>\n",
       "      <td>1</td>\n",
       "      <td>https://www.instagram.com/p/BQWRUV6j8b-</td>\n",
       "      <td>33.3612275609,35.1713765464</td>\n",
       "      <td>5</td>\n",
       "    </tr>\n",
       "  </tbody>\n",
       "</table>\n",
       "</div>"
      ],
      "text/plain": [
       "     USERNAME  FOLLOWERS  FOLLOWING  LIKES  COMMENTS  \\\n",
       "0  georgiou82    1134619        915  18560        95   \n",
       "1  georgiou82    1134619        915  17710        86   \n",
       "\n",
       "                                                TEXT  NUMBER OF TAGS  \\\n",
       "0  Every day is a #newday and every experience is...               2   \n",
       "1  #goodnight !!! The #weekend is ahead!!! Have a...               3   \n",
       "\n",
       "                 LIST OF TAGS                 DATE  PHOTOVIDEO  \\\n",
       "0              #newera#newday  2017-02-11 11:05:10           1   \n",
       "1  #goodnight#goodone#weekend  2017-02-11 00:33:10           1   \n",
       "\n",
       "   USERS IN PHOTO                                     LINK  \\\n",
       "0               1  https://www.instagram.com/p/BQXZpSQjiPj   \n",
       "1               1  https://www.instagram.com/p/BQWRUV6j8b-   \n",
       "\n",
       "                      LOCATION  WEEKDAYMS  \n",
       "0                    33.0,35.0          5  \n",
       "1  33.3612275609,35.1713765464          5  "
      ]
     },
     "execution_count": 27,
     "metadata": {},
     "output_type": "execute_result"
    }
   ],
   "source": [
    "iorig = pd.read_csv('insta_edit.csv',index_col=0)\n",
    "\n",
    "print(iorig.shape)\n",
    "\n",
    "iorig.head(2)"
   ]
  },
  {
   "cell_type": "code",
   "execution_count": 40,
   "metadata": {},
   "outputs": [
    {
     "name": "stdout",
     "output_type": "stream",
     "text": [
      "(29955, 1)\n"
     ]
    },
    {
     "data": {
      "text/html": [
       "<div>\n",
       "<style scoped>\n",
       "    .dataframe tbody tr th:only-of-type {\n",
       "        vertical-align: middle;\n",
       "    }\n",
       "\n",
       "    .dataframe tbody tr th {\n",
       "        vertical-align: top;\n",
       "    }\n",
       "\n",
       "    .dataframe thead th {\n",
       "        text-align: right;\n",
       "    }\n",
       "</style>\n",
       "<table border=\"1\" class=\"dataframe\">\n",
       "  <thead>\n",
       "    <tr style=\"text-align: right;\">\n",
       "      <th></th>\n",
       "      <th>VIDEO</th>\n",
       "    </tr>\n",
       "  </thead>\n",
       "  <tbody>\n",
       "    <tr>\n",
       "      <th>0</th>\n",
       "      <td>0</td>\n",
       "    </tr>\n",
       "    <tr>\n",
       "      <th>1</th>\n",
       "      <td>0</td>\n",
       "    </tr>\n",
       "  </tbody>\n",
       "</table>\n",
       "</div>"
      ],
      "text/plain": [
       "   VIDEO\n",
       "0      0\n",
       "1      0"
      ]
     },
     "execution_count": 40,
     "metadata": {},
     "output_type": "execute_result"
    }
   ],
   "source": [
    "# create dummy variable for PHOTOVIDEO\n",
    "\n",
    "dumm_pv = pd.get_dummies(iorig['PHOTOVIDEO'],drop_first=True)\n",
    "\n",
    "dumm_pv = dumm_pv.rename(index=int, columns={2:\"VIDEO\"})\n",
    "\n",
    "print(dumm_pv.shape)\n",
    "\n",
    "dumm_pv.head(2)"
   ]
  },
  {
   "cell_type": "code",
   "execution_count": 41,
   "metadata": {},
   "outputs": [
    {
     "name": "stdout",
     "output_type": "stream",
     "text": [
      "(29955, 6)\n"
     ]
    },
    {
     "data": {
      "text/html": [
       "<div>\n",
       "<style scoped>\n",
       "    .dataframe tbody tr th:only-of-type {\n",
       "        vertical-align: middle;\n",
       "    }\n",
       "\n",
       "    .dataframe tbody tr th {\n",
       "        vertical-align: top;\n",
       "    }\n",
       "\n",
       "    .dataframe thead th {\n",
       "        text-align: right;\n",
       "    }\n",
       "</style>\n",
       "<table border=\"1\" class=\"dataframe\">\n",
       "  <thead>\n",
       "    <tr style=\"text-align: right;\">\n",
       "      <th></th>\n",
       "      <th>TUE</th>\n",
       "      <th>WED</th>\n",
       "      <th>THU</th>\n",
       "      <th>FRI</th>\n",
       "      <th>SAT</th>\n",
       "      <th>SUN</th>\n",
       "    </tr>\n",
       "  </thead>\n",
       "  <tbody>\n",
       "    <tr>\n",
       "      <th>0</th>\n",
       "      <td>0</td>\n",
       "      <td>0</td>\n",
       "      <td>0</td>\n",
       "      <td>0</td>\n",
       "      <td>1</td>\n",
       "      <td>0</td>\n",
       "    </tr>\n",
       "    <tr>\n",
       "      <th>1</th>\n",
       "      <td>0</td>\n",
       "      <td>0</td>\n",
       "      <td>0</td>\n",
       "      <td>0</td>\n",
       "      <td>1</td>\n",
       "      <td>0</td>\n",
       "    </tr>\n",
       "  </tbody>\n",
       "</table>\n",
       "</div>"
      ],
      "text/plain": [
       "   TUE  WED  THU  FRI  SAT  SUN\n",
       "0    0    0    0    0    1    0\n",
       "1    0    0    0    0    1    0"
      ]
     },
     "execution_count": 41,
     "metadata": {},
     "output_type": "execute_result"
    }
   ],
   "source": [
    "# create dummy variable for WEEKDAYMS\n",
    "\n",
    "dumm_wd = pd.get_dummies(iorig['WEEKDAYMS'],drop_first=True)\n",
    "\n",
    "dumm_wd = dumm_wd.rename(index=int, \n",
    "                         columns={1:\"TUE\",2:'WED',3:'THU',4:'FRI',5:'SAT',6:'SUN'})\n",
    "\n",
    "print(dumm_wd.shape)\n",
    "\n",
    "dumm_wd.head(2)"
   ]
  },
  {
   "cell_type": "code",
   "execution_count": 33,
   "metadata": {},
   "outputs": [
    {
     "name": "stdout",
     "output_type": "stream",
     "text": [
      "(29955, 11)\n"
     ]
    },
    {
     "data": {
      "text/html": [
       "<div>\n",
       "<style scoped>\n",
       "    .dataframe tbody tr th:only-of-type {\n",
       "        vertical-align: middle;\n",
       "    }\n",
       "\n",
       "    .dataframe tbody tr th {\n",
       "        vertical-align: top;\n",
       "    }\n",
       "\n",
       "    .dataframe thead th {\n",
       "        text-align: right;\n",
       "    }\n",
       "</style>\n",
       "<table border=\"1\" class=\"dataframe\">\n",
       "  <thead>\n",
       "    <tr style=\"text-align: right;\">\n",
       "      <th></th>\n",
       "      <th>FOLLOWERS</th>\n",
       "      <th>FOLLOWING</th>\n",
       "      <th>NUMBER OF TAGS</th>\n",
       "      <th>USERS IN PHOTO</th>\n",
       "      <th>VIDEO</th>\n",
       "      <th>TUE</th>\n",
       "      <th>WED</th>\n",
       "      <th>THU</th>\n",
       "      <th>FRI</th>\n",
       "      <th>SAT</th>\n",
       "      <th>SUN</th>\n",
       "    </tr>\n",
       "  </thead>\n",
       "  <tbody>\n",
       "    <tr>\n",
       "      <th>0</th>\n",
       "      <td>1134619</td>\n",
       "      <td>915</td>\n",
       "      <td>2</td>\n",
       "      <td>1</td>\n",
       "      <td>0</td>\n",
       "      <td>0</td>\n",
       "      <td>0</td>\n",
       "      <td>0</td>\n",
       "      <td>0</td>\n",
       "      <td>1</td>\n",
       "      <td>0</td>\n",
       "    </tr>\n",
       "    <tr>\n",
       "      <th>1</th>\n",
       "      <td>1134619</td>\n",
       "      <td>915</td>\n",
       "      <td>3</td>\n",
       "      <td>1</td>\n",
       "      <td>0</td>\n",
       "      <td>0</td>\n",
       "      <td>0</td>\n",
       "      <td>0</td>\n",
       "      <td>0</td>\n",
       "      <td>1</td>\n",
       "      <td>0</td>\n",
       "    </tr>\n",
       "  </tbody>\n",
       "</table>\n",
       "</div>"
      ],
      "text/plain": [
       "   FOLLOWERS  FOLLOWING  NUMBER OF TAGS  USERS IN PHOTO  VIDEO  TUE  WED  THU  \\\n",
       "0    1134619        915               2               1      0    0    0    0   \n",
       "1    1134619        915               3               1      0    0    0    0   \n",
       "\n",
       "   FRI  SAT  SUN  \n",
       "0    0    1    0  \n",
       "1    0    1    0  "
      ]
     },
     "execution_count": 33,
     "metadata": {},
     "output_type": "execute_result"
    }
   ],
   "source": [
    "# create dataset for linear regression\n",
    "\n",
    "iedit = pd.concat( [iorig['FOLLOWERS'],iorig['FOLLOWING'],iorig['NUMBER OF TAGS'],\n",
    "                    iorig['USERS IN PHOTO'],dumm_pv, dumm_wd], axis=1)\n",
    "\n",
    "print(iedit.shape)\n",
    "\n",
    "iedit.head(2)"
   ]
  },
  {
   "cell_type": "code",
   "execution_count": 39,
   "metadata": {},
   "outputs": [
    {
     "name": "stdout",
     "output_type": "stream",
     "text": [
      "(29955,)\n"
     ]
    },
    {
     "data": {
      "text/plain": [
       "0    18560\n",
       "1    17710\n",
       "2    11959\n",
       "3    13608\n",
       "4    15842\n",
       "Name: LIKES, dtype: int64"
      ]
     },
     "execution_count": 39,
     "metadata": {},
     "output_type": "execute_result"
    }
   ],
   "source": [
    "itar = iorig['LIKES']\n",
    "\n",
    "print(itar.shape)\n",
    "\n",
    "itar[:5]"
   ]
  },
  {
   "cell_type": "markdown",
   "metadata": {},
   "source": [
    "ML Linear Regression Portion"
   ]
  },
  {
   "cell_type": "code",
   "execution_count": 42,
   "metadata": {},
   "outputs": [
    {
     "name": "stdout",
     "output_type": "stream",
     "text": [
      "(22466, 11) (7489, 11) (22466,) (7489,)\n"
     ]
    }
   ],
   "source": [
    "# train test split\n",
    "\n",
    "x_train, x_test, y_train, y_test = train_test_split(iedit, itar)\n",
    "\n",
    "print(x_train.shape, x_test.shape, y_train.shape, y_test.shape)"
   ]
  },
  {
   "cell_type": "code",
   "execution_count": 37,
   "metadata": {},
   "outputs": [
    {
     "name": "stdout",
     "output_type": "stream",
     "text": [
      "<class 'sklearn.linear_model.base.LinearRegression'>\n"
     ]
    }
   ],
   "source": [
    "lreg = LinearRegression()\n",
    "\n",
    "print(type(lreg))"
   ]
  },
  {
   "cell_type": "code",
   "execution_count": 43,
   "metadata": {},
   "outputs": [
    {
     "data": {
      "text/plain": [
       "LinearRegression(copy_X=True, fit_intercept=True, n_jobs=1, normalize=False)"
      ]
     },
     "execution_count": 43,
     "metadata": {},
     "output_type": "execute_result"
    }
   ],
   "source": [
    "lreg.fit(x_train,y_train)"
   ]
  },
  {
   "cell_type": "code",
   "execution_count": 45,
   "metadata": {},
   "outputs": [
    {
     "name": "stdout",
     "output_type": "stream",
     "text": [
      "Fit a model x_train, and calculate the MSE with x_test and y_test: 11750708.04\n",
      "Fit a model x_train, and calculate the MSE with y_train: 11005243.92\n"
     ]
    }
   ],
   "source": [
    "pred_train = lreg.predict(x_train)\n",
    "pred_test = lreg.predict(x_test)\n",
    "\n",
    "print ('Fit a model x_train, and calculate the MSE with x_test and y_test: %.2f' \n",
    "      %np.mean((y_test - pred_test)**2))\n",
    "\n",
    "print ('Fit a model x_train, and calculate the MSE with y_train: %.2f' \n",
    "      %np.mean((y_train - pred_train)**2))"
   ]
  },
  {
   "cell_type": "code",
   "execution_count": 46,
   "metadata": {},
   "outputs": [
    {
     "data": {
      "text/plain": [
       "Text(0.5,1,'Residual Plots')"
      ]
     },
     "execution_count": 46,
     "metadata": {},
     "output_type": "execute_result"
    },
    {
     "data": {
      "image/png": "[encoded data removed]",
      "text/plain": [
       "<Figure size 432x288 with 1 Axes>"
      ]
     },
     "metadata": {},
     "output_type": "display_data"
    }
   ],
   "source": [
    "train = plt.scatter(pred_train,(pred_train - y_train),\n",
    "                   c='b',alpha=0.5)\n",
    "\n",
    "test = plt.scatter(pred_test,(pred_test - y_test),\n",
    "                  c='r',alpha=0.5)\n",
    "\n",
    "plt.legend((train,test),('Training','Test'),loc='best')\n",
    "\n",
    "plt.hlines(y=0,xmin=0,xmax=40)\n",
    "\n",
    "plt.title('Residual Plots')"
   ]
  },
  {
   "cell_type": "code",
   "execution_count": 47,
   "metadata": {},
   "outputs": [
    {
     "name": "stdout",
     "output_type": "stream",
     "text": [
      "Prediction accuracy is 37.17%\n"
     ]
    }
   ],
   "source": [
    "pred = lreg.score(x_test,y_test)\n",
    "\n",
    "print ('Prediction accuracy is %2.2f%%' %(pred*100))"
   ]
  },
  {
   "cell_type": "code",
   "execution_count": 48,
   "metadata": {},
   "outputs": [],
   "source": [
    "# Accuracy is low when only using followers, following,\n",
    "# num of tags, num of users, photo vs video, and weekday.\n",
    "# In part 03 we will attempt nlp to increase accuracy."
   ]
  },
  {
   "cell_type": "code",
   "execution_count": 49,
   "metadata": {},
   "outputs": [
    {
     "name": "stdout",
     "output_type": "stream",
     "text": [
      "File saved\n"
     ]
    }
   ],
   "source": [
    "# save non-nlp dataset to CSV\n",
    "\n",
    "try:\n",
    "    iedit.to_csv('insta_nonnlp.csv',mode='x')\n",
    "    print('File saved')\n",
    "    \n",
    "except:\n",
    "    print('File exists')"
   ]
  },
  {
   "cell_type": "code",
   "execution_count": null,
   "metadata": {},
   "outputs": [],
   "source": [
    "# continue to part 03"
   ]
  }
 ],
 "metadata": {
  "kernelspec": {
   "display_name": "Python 3",
   "language": "python",
   "name": "python3"
  },
  "language_info": {
   "codemirror_mode": {
    "name": "ipython",
    "version": 3
   },
   "file_extension": ".py",
   "mimetype": "text/x-python",
   "name": "python",
   "nbconvert_exporter": "python",
   "pygments_lexer": "ipython3",
   "version": "3.6.4"
  }
 },
 "nbformat": 4,
 "nbformat_minor": 2
}
