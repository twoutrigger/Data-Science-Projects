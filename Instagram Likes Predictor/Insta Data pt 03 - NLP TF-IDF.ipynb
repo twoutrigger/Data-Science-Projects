{
 "cells": [
  {
   "cell_type": "code",
   "execution_count": 1,
   "metadata": {},
   "outputs": [],
   "source": [
    "data_url = 'https://towardsdatascience.com/predict-the-number-of-likes-on-instagram-a7ec5c020203'"
   ]
  },
  {
   "cell_type": "code",
   "execution_count": 2,
   "metadata": {},
   "outputs": [],
   "source": [
    "# In this section:\n",
    "    \n",
    "# prepare NLP analysis\n",
    "# prepare TF-IDF for important words"
   ]
  },
  {
   "cell_type": "code",
   "execution_count": 3,
   "metadata": {},
   "outputs": [],
   "source": [
    "import numpy as np\n",
    "import pandas as pd\n",
    "from pandas import Series, DataFrame"
   ]
  },
  {
   "cell_type": "code",
   "execution_count": 4,
   "metadata": {},
   "outputs": [],
   "source": [
    "import matplotlib.pyplot as plt\n",
    "import seaborn as sns\n",
    "%matplotlib inline"
   ]
  },
  {
   "cell_type": "code",
   "execution_count": 5,
   "metadata": {},
   "outputs": [],
   "source": [
    "from sklearn.model_selection import train_test_split\n",
    "from sklearn.linear_model import LinearRegression"
   ]
  },
  {
   "cell_type": "code",
   "execution_count": 6,
   "metadata": {},
   "outputs": [],
   "source": [
    "from nltk.corpus import stopwords"
   ]
  },
  {
   "cell_type": "code",
   "execution_count": 7,
   "metadata": {},
   "outputs": [],
   "source": [
    "pd.set_option('display.max_colwidth', 150)\n",
    "\n",
    "# expand column width for NLP analysis"
   ]
  },
  {
   "cell_type": "code",
   "execution_count": 8,
   "metadata": {},
   "outputs": [
    {
     "name": "stdout",
     "output_type": "stream",
     "text": [
      "(29955, 14)\n"
     ]
    },
    {
     "data": {
      "text/html": [
       "<div>\n",
       "<style scoped>\n",
       "    .dataframe tbody tr th:only-of-type {\n",
       "        vertical-align: middle;\n",
       "    }\n",
       "\n",
       "    .dataframe tbody tr th {\n",
       "        vertical-align: top;\n",
       "    }\n",
       "\n",
       "    .dataframe thead th {\n",
       "        text-align: right;\n",
       "    }\n",
       "</style>\n",
       "<table border=\"1\" class=\"dataframe\">\n",
       "  <thead>\n",
       "    <tr style=\"text-align: right;\">\n",
       "      <th></th>\n",
       "      <th>USERNAME</th>\n",
       "      <th>FOLLOWERS</th>\n",
       "      <th>FOLLOWING</th>\n",
       "      <th>LIKES</th>\n",
       "      <th>COMMENTS</th>\n",
       "      <th>TEXT</th>\n",
       "      <th>NUMBER OF TAGS</th>\n",
       "      <th>LIST OF TAGS</th>\n",
       "      <th>DATE</th>\n",
       "      <th>PHOTOVIDEO</th>\n",
       "      <th>USERS IN PHOTO</th>\n",
       "      <th>LINK</th>\n",
       "      <th>LOCATION</th>\n",
       "      <th>WEEKDAYMS</th>\n",
       "    </tr>\n",
       "  </thead>\n",
       "  <tbody>\n",
       "    <tr>\n",
       "      <th>0</th>\n",
       "      <td>georgiou82</td>\n",
       "      <td>1134619</td>\n",
       "      <td>915</td>\n",
       "      <td>18560</td>\n",
       "      <td>95</td>\n",
       "      <td>Every day is a #newday and every experience is a #newera</td>\n",
       "      <td>2</td>\n",
       "      <td>#newera#newday</td>\n",
       "      <td>2017-02-11 11:05:10</td>\n",
       "      <td>1</td>\n",
       "      <td>1</td>\n",
       "      <td>https://www.instagram.com/p/BQXZpSQjiPj</td>\n",
       "      <td>33.0,35.0</td>\n",
       "      <td>5</td>\n",
       "    </tr>\n",
       "    <tr>\n",
       "      <th>1</th>\n",
       "      <td>georgiou82</td>\n",
       "      <td>1134619</td>\n",
       "      <td>915</td>\n",
       "      <td>17710</td>\n",
       "      <td>86</td>\n",
       "      <td>#goodnight !!! The #weekend is ahead!!! Have a #goodone guys!!!!</td>\n",
       "      <td>3</td>\n",
       "      <td>#goodnight#goodone#weekend</td>\n",
       "      <td>2017-02-11 00:33:10</td>\n",
       "      <td>1</td>\n",
       "      <td>1</td>\n",
       "      <td>https://www.instagram.com/p/BQWRUV6j8b-</td>\n",
       "      <td>33.3612275609,35.1713765464</td>\n",
       "      <td>5</td>\n",
       "    </tr>\n",
       "    <tr>\n",
       "      <th>2</th>\n",
       "      <td>georgiou82</td>\n",
       "      <td>1134619</td>\n",
       "      <td>915</td>\n",
       "      <td>11959</td>\n",
       "      <td>79</td>\n",
       "      <td>#tb #2007 #stous31dromous #megatv #greece #newyork #memories</td>\n",
       "      <td>7</td>\n",
       "      <td>#tb#memories#greece#stous31dromous#newyork#2007#megatv</td>\n",
       "      <td>2017-02-09 15:51:47</td>\n",
       "      <td>1</td>\n",
       "      <td>3</td>\n",
       "      <td>https://www.instagram.com/p/BQSw2wMj0Bw</td>\n",
       "      <td>-74.0064,40.7142</td>\n",
       "      <td>3</td>\n",
       "    </tr>\n",
       "    <tr>\n",
       "      <th>3</th>\n",
       "      <td>georgiou82</td>\n",
       "      <td>1134619</td>\n",
       "      <td>915</td>\n",
       "      <td>13608</td>\n",
       "      <td>37</td>\n",
       "      <td>Cold weather brings people together.... #filming #mprousko4 with director @stamosts and DOP @kinolis2.8</td>\n",
       "      <td>2</td>\n",
       "      <td>#mprousko4#filming</td>\n",
       "      <td>2017-02-08 18:21:57</td>\n",
       "      <td>1</td>\n",
       "      <td>3</td>\n",
       "      <td>https://www.instagram.com/p/BQQdPrLDeRz</td>\n",
       "      <td>NaN</td>\n",
       "      <td>2</td>\n",
       "    </tr>\n",
       "    <tr>\n",
       "      <th>4</th>\n",
       "      <td>georgiou82</td>\n",
       "      <td>1134619</td>\n",
       "      <td>915</td>\n",
       "      <td>15842</td>\n",
       "      <td>62</td>\n",
       "      <td>The youngest hearts might be the oldest souls.... #lifelessons #andreasgeorgiou✔️ #tb #peru</td>\n",
       "      <td>4</td>\n",
       "      <td>#peru#lifelessons#tb#andreasgeorgiou✔️</td>\n",
       "      <td>2017-02-08 13:03:14</td>\n",
       "      <td>1</td>\n",
       "      <td>0</td>\n",
       "      <td>https://www.instagram.com/p/BQP4xY7jAXb</td>\n",
       "      <td>-71.9781,-13.5183</td>\n",
       "      <td>2</td>\n",
       "    </tr>\n",
       "  </tbody>\n",
       "</table>\n",
       "</div>"
      ],
      "text/plain": [
       "     USERNAME  FOLLOWERS  FOLLOWING  LIKES  COMMENTS  \\\n",
       "0  georgiou82    1134619        915  18560        95   \n",
       "1  georgiou82    1134619        915  17710        86   \n",
       "2  georgiou82    1134619        915  11959        79   \n",
       "3  georgiou82    1134619        915  13608        37   \n",
       "4  georgiou82    1134619        915  15842        62   \n",
       "\n",
       "                                                                                                      TEXT  \\\n",
       "0                                                 Every day is a #newday and every experience is a #newera   \n",
       "1                                         #goodnight !!! The #weekend is ahead!!! Have a #goodone guys!!!!   \n",
       "2                                             #tb #2007 #stous31dromous #megatv #greece #newyork #memories   \n",
       "3  Cold weather brings people together.... #filming #mprousko4 with director @stamosts and DOP @kinolis2.8   \n",
       "4              The youngest hearts might be the oldest souls.... #lifelessons #andreasgeorgiou✔️ #tb #peru   \n",
       "\n",
       "   NUMBER OF TAGS                                            LIST OF TAGS  \\\n",
       "0               2                                          #newera#newday   \n",
       "1               3                              #goodnight#goodone#weekend   \n",
       "2               7  #tb#memories#greece#stous31dromous#newyork#2007#megatv   \n",
       "3               2                                      #mprousko4#filming   \n",
       "4               4                  #peru#lifelessons#tb#andreasgeorgiou✔️   \n",
       "\n",
       "                  DATE  PHOTOVIDEO  USERS IN PHOTO  \\\n",
       "0  2017-02-11 11:05:10           1               1   \n",
       "1  2017-02-11 00:33:10           1               1   \n",
       "2  2017-02-09 15:51:47           1               3   \n",
       "3  2017-02-08 18:21:57           1               3   \n",
       "4  2017-02-08 13:03:14           1               0   \n",
       "\n",
       "                                      LINK                     LOCATION  \\\n",
       "0  https://www.instagram.com/p/BQXZpSQjiPj                    33.0,35.0   \n",
       "1  https://www.instagram.com/p/BQWRUV6j8b-  33.3612275609,35.1713765464   \n",
       "2  https://www.instagram.com/p/BQSw2wMj0Bw             -74.0064,40.7142   \n",
       "3  https://www.instagram.com/p/BQQdPrLDeRz                          NaN   \n",
       "4  https://www.instagram.com/p/BQP4xY7jAXb            -71.9781,-13.5183   \n",
       "\n",
       "   WEEKDAYMS  \n",
       "0          5  \n",
       "1          5  \n",
       "2          3  \n",
       "3          2  \n",
       "4          2  "
      ]
     },
     "execution_count": 8,
     "metadata": {},
     "output_type": "execute_result"
    }
   ],
   "source": [
    "iorig = pd.read_csv('insta_edit.csv',index_col=0)\n",
    "\n",
    "print(iorig.shape)\n",
    "\n",
    "iorig.head()"
   ]
  },
  {
   "cell_type": "markdown",
   "metadata": {},
   "source": [
    "Pre-process text data"
   ]
  },
  {
   "cell_type": "code",
   "execution_count": 9,
   "metadata": {},
   "outputs": [
    {
     "name": "stdout",
     "output_type": "stream",
     "text": [
      "<class 'pandas.core.series.Series'>\n"
     ]
    },
    {
     "data": {
      "text/plain": [
       "0                                                   Every day is a #newday and every experience is a #newera\n",
       "1                                           #goodnight !!! The #weekend is ahead!!! Have a #goodone guys!!!!\n",
       "2                                               #tb #2007 #stous31dromous #megatv #greece #newyork #memories\n",
       "3    Cold weather brings people together.... #filming #mprousko4 with director @stamosts and DOP @kinolis2.8\n",
       "4                The youngest hearts might be the oldest souls.... #lifelessons #andreasgeorgiou✔️ #tb #peru\n",
       "Name: TEXT, dtype: object"
      ]
     },
     "execution_count": 9,
     "metadata": {},
     "output_type": "execute_result"
    }
   ],
   "source": [
    "# create text data series\n",
    "\n",
    "iedit = iorig['TEXT']\n",
    "\n",
    "print(type(iedit))\n",
    "\n",
    "iedit.head()"
   ]
  },
  {
   "cell_type": "code",
   "execution_count": 10,
   "metadata": {},
   "outputs": [],
   "source": [
    "# create copy of text for comparison\n",
    "\n",
    "icopy = iorig['TEXT']"
   ]
  },
  {
   "cell_type": "code",
   "execution_count": 11,
   "metadata": {},
   "outputs": [
    {
     "data": {
      "text/plain": [
       "0                                                   every day is a #newday and every experience is a #newera\n",
       "1                                           #goodnight !!! the #weekend is ahead!!! have a #goodone guys!!!!\n",
       "2                                               #tb #2007 #stous31dromous #megatv #greece #newyork #memories\n",
       "3    cold weather brings people together.... #filming #mprousko4 with director @stamosts and dop @kinolis2.8\n",
       "4                the youngest hearts might be the oldest souls.... #lifelessons #andreasgeorgiou✔️ #tb #peru\n",
       "Name: TEXT, dtype: object"
      ]
     },
     "execution_count": 11,
     "metadata": {},
     "output_type": "execute_result"
    }
   ],
   "source": [
    "# lowercase\n",
    "\n",
    "iedit = iedit.apply(lambda x:\n",
    "                    \" \".join(x.lower()\n",
    "                    for x in str(x).split()))\n",
    "iedit.head()"
   ]
  },
  {
   "cell_type": "code",
   "execution_count": 12,
   "metadata": {},
   "outputs": [
    {
     "data": {
      "text/plain": [
       "0                                                   every day is a  newday and every experience is a  newera\n",
       "1                                            goodnight     the  weekend is ahead    have a  goodone guys    \n",
       "2                                                tb  2007  stous31dromous  megatv  greece  newyork  memories\n",
       "3    cold weather brings people together      filming  mprousko4 with director  stamosts and dop  kinolis2 8\n",
       "4                the youngest hearts might be the oldest souls      lifelessons  andreasgeorgiou    tb  peru\n",
       "Name: TEXT, dtype: object"
      ]
     },
     "execution_count": 12,
     "metadata": {},
     "output_type": "execute_result"
    }
   ],
   "source": [
    "# remove special characters\n",
    "# will revisit hashtags; for now merging hashtag and reg word\n",
    "\n",
    "iedit = iedit.str.replace('[^\\w\\s]', ' ')\n",
    "\n",
    "iedit.head()"
   ]
  },
  {
   "cell_type": "code",
   "execution_count": 13,
   "metadata": {},
   "outputs": [
    {
     "data": {
      "text/plain": [
       "0                                                  every day newday every experience newera\n",
       "1                                                      goodnight weekend ahead goodone guys\n",
       "2                                     tb 2007 stous31dromous megatv greece newyork memories\n",
       "3    cold weather brings people together filming mprousko4 director stamosts dop kinolis2 8\n",
       "4                    youngest hearts might oldest souls lifelessons andreasgeorgiou tb peru\n",
       "Name: TEXT, dtype: object"
      ]
     },
     "execution_count": 13,
     "metadata": {},
     "output_type": "execute_result"
    }
   ],
   "source": [
    "# remove stopwords\n",
    "\n",
    "stop = stopwords.words('english')\n",
    "\n",
    "iedit = iedit.apply(lambda x:\n",
    "                    \" \".join(x for x in str(x).split()\n",
    "                    if x not in stop))\n",
    "iedit.head()"
   ]
  },
  {
   "cell_type": "code",
   "execution_count": 14,
   "metadata": {
    "scrolled": true
   },
   "outputs": [
    {
     "name": "stdout",
     "output_type": "stream",
     "text": [
      "Unique words: 75692\n"
     ]
    },
    {
     "data": {
      "text/plain": [
       "και       5086\n",
       "το        4428\n",
       "να        3554\n",
       "με        3036\n",
       "στο       2817\n",
       "για       2671\n",
       "την       2646\n",
       "greece    2517\n",
       "love      2358\n",
       "η         2207\n",
       "dtype: int64"
      ]
     },
     "execution_count": 14,
     "metadata": {},
     "output_type": "execute_result"
    }
   ],
   "source": [
    "# visualize frequent words\n",
    "\n",
    "print( 'Unique words: ' + str(pd.Series(' '.join(iedit).split()).value_counts().count()))\n",
    "\n",
    "freq_words = pd.Series(' '.join(iedit).split()).value_counts()[:10]\n",
    "\n",
    "freq_words\n",
    "\n",
    "# we see a huge number of Greek words; to remove"
   ]
  },
  {
   "cell_type": "code",
   "execution_count": 15,
   "metadata": {},
   "outputs": [
    {
     "data": {
      "text/plain": [
       "0                                                  every day newday every experience newera\n",
       "1                                                      goodnight weekend ahead goodone guys\n",
       "2                                     tb 2007 stous31dromous megatv greece newyork memories\n",
       "3    cold weather brings people together filming mprousko4 director stamosts dop kinolis2 8\n",
       "4                    youngest hearts might oldest souls lifelessons andreasgeorgiou tb peru\n",
       "Name: TEXT, dtype: object"
      ]
     },
     "execution_count": 15,
     "metadata": {},
     "output_type": "execute_result"
    }
   ],
   "source": [
    "# remove Greek stopwords\n",
    "\n",
    "gstop = stopwords.words('greek')\n",
    "\n",
    "iedit = iedit.apply(lambda x:\n",
    "                    \" \".join(x for x in str(x).split()\n",
    "                    if x not in gstop))\n",
    "iedit.head()"
   ]
  },
  {
   "cell_type": "code",
   "execution_count": 16,
   "metadata": {},
   "outputs": [
    {
     "data": {
      "text/plain": [
       "alexanderwangny    1\n",
       "ermis_soumas       1\n",
       "leontios           1\n",
       "филиппины          1\n",
       "διάπλατα           1\n",
       "μακροχρόνια        1\n",
       "happy2gether       1\n",
       "cobrarà            1\n",
       "zetapsisgrho       1\n",
       "σπιτοπαρεαμεθεα    1\n",
       "dtype: int64"
      ]
     },
     "execution_count": 16,
     "metadata": {},
     "output_type": "execute_result"
    }
   ],
   "source": [
    "infreq_words = pd.Series(' '.join(iedit).split()).value_counts()[-10:]\n",
    "\n",
    "infreq_words"
   ]
  },
  {
   "cell_type": "code",
   "execution_count": 17,
   "metadata": {},
   "outputs": [
    {
     "name": "stdout",
     "output_type": "stream",
     "text": [
      "Unique rare words: 54380\n"
     ]
    }
   ],
   "source": [
    "rare_words = pd.Series(' '.join(iedit).split()).value_counts()\n",
    "\n",
    "rare_words = rare_words[rare_words <= 2]\n",
    "\n",
    "print( 'Unique rare words: ' + str(rare_words.count()))"
   ]
  },
  {
   "cell_type": "code",
   "execution_count": 18,
   "metadata": {},
   "outputs": [
    {
     "data": {
      "text/plain": [
       "0                                                every day newday every experience\n",
       "1                                                     goodnight weekend ahead guys\n",
       "2                                                  tb 2007 greece newyork memories\n",
       "3    cold weather brings people together filming mprousko4 director dop kinolis2 8\n",
       "4                                       hearts might souls andreasgeorgiou tb peru\n",
       "Name: TEXT, dtype: object"
      ]
     },
     "execution_count": 18,
     "metadata": {},
     "output_type": "execute_result"
    }
   ],
   "source": [
    "# remove rare words (2 occurances or less)\n",
    "\n",
    "iedit = iedit.apply(lambda x:\n",
    "                    \" \".join(x for x in str(x).split()\n",
    "                    if x not in rare_words))\n",
    "iedit.head()"
   ]
  },
  {
   "cell_type": "code",
   "execution_count": 19,
   "metadata": {},
   "outputs": [
    {
     "name": "stdout",
     "output_type": "stream",
     "text": [
      "Remaining unique words: 21236\n"
     ]
    }
   ],
   "source": [
    "print( 'Remaining unique words: ' + str(pd.Series(' '.join(iedit).split()).value_counts().count()))"
   ]
  },
  {
   "cell_type": "code",
   "execution_count": 36,
   "metadata": {},
   "outputs": [],
   "source": [
    "int_words = pd.Series(' '.join(iedit).split()).value_counts()\n",
    "\n",
    "int_words = int_words[inte_words.str.contains]\n",
    "\n",
    "# print( 'Unique rare words: ' + str(rare_words.count()))"
   ]
  },
  {
   "cell_type": "code",
   "execution_count": 37,
   "metadata": {},
   "outputs": [
    {
     "data": {
      "text/plain": [
       "greece     2517\n",
       "love       2358\n",
       "της        1710\n",
       "μου        1621\n",
       "fashion    1429\n",
       "dtype: int64"
      ]
     },
     "execution_count": 37,
     "metadata": {},
     "output_type": "execute_result"
    }
   ],
   "source": [
    "int_words.head()"
   ]
  },
  {
   "cell_type": "code",
   "execution_count": 61,
   "metadata": {},
   "outputs": [
    {
     "name": "stdout",
     "output_type": "stream",
     "text": [
      "794\n",
      "['00', '2017', '1', '2', '4', 'like4like', '3', '5', '90', 'follow4follow']\n"
     ]
    }
   ],
   "source": [
    "# find all words that contain integers\n",
    "\n",
    "has_int = []\n",
    "\n",
    "for word,count in int_words.iteritems():\n",
    "    if any(char.isdigit() for char in word):\n",
    "        has_int.append(word)\n",
    "        \n",
    "print(len(has_int))\n",
    "print(has_int[:10])"
   ]
  },
  {
   "cell_type": "code",
   "execution_count": 62,
   "metadata": {},
   "outputs": [
    {
     "data": {
      "text/plain": [
       "0                           every day newday every experience\n",
       "1                                goodnight weekend ahead guys\n",
       "2                                  tb greece newyork memories\n",
       "3    cold weather brings people together filming director dop\n",
       "4                  hearts might souls andreasgeorgiou tb peru\n",
       "Name: TEXT, dtype: object"
      ]
     },
     "execution_count": 62,
     "metadata": {},
     "output_type": "execute_result"
    }
   ],
   "source": [
    "# remove words that contain integers\n",
    "\n",
    "iedit = iedit.apply(lambda x:\n",
    "                    \" \".join(x for x in str(x).split()\n",
    "                    if x not in has_int))\n",
    "iedit.head()"
   ]
  },
  {
   "cell_type": "code",
   "execution_count": 63,
   "metadata": {},
   "outputs": [
    {
     "name": "stdout",
     "output_type": "stream",
     "text": [
      "Remaining unique words: 20442\n"
     ]
    }
   ],
   "source": [
    "print( 'Remaining unique words: ' + str(pd.Series(' '.join(iedit).split()).value_counts().count()))"
   ]
  },
  {
   "cell_type": "code",
   "execution_count": 70,
   "metadata": {},
   "outputs": [
    {
     "data": {
      "text/html": [
       "<div>\n",
       "<style scoped>\n",
       "    .dataframe tbody tr th:only-of-type {\n",
       "        vertical-align: middle;\n",
       "    }\n",
       "\n",
       "    .dataframe tbody tr th {\n",
       "        vertical-align: top;\n",
       "    }\n",
       "\n",
       "    .dataframe thead th {\n",
       "        text-align: right;\n",
       "    }\n",
       "</style>\n",
       "<table border=\"1\" class=\"dataframe\">\n",
       "  <thead>\n",
       "    <tr style=\"text-align: right;\">\n",
       "      <th></th>\n",
       "      <th>USERNAME</th>\n",
       "      <th>FOLLOWERS</th>\n",
       "      <th>FOLLOWING</th>\n",
       "      <th>LIKES</th>\n",
       "      <th>COMMENTS</th>\n",
       "      <th>TEXT</th>\n",
       "      <th>NUMBER OF TAGS</th>\n",
       "      <th>LIST OF TAGS</th>\n",
       "      <th>DATE</th>\n",
       "      <th>PHOTOVIDEO</th>\n",
       "      <th>USERS IN PHOTO</th>\n",
       "      <th>LINK</th>\n",
       "      <th>LOCATION</th>\n",
       "      <th>WEEKDAYMS</th>\n",
       "      <th>NEWTEXT</th>\n",
       "    </tr>\n",
       "  </thead>\n",
       "  <tbody>\n",
       "    <tr>\n",
       "      <th>0</th>\n",
       "      <td>georgiou82</td>\n",
       "      <td>1134619</td>\n",
       "      <td>915</td>\n",
       "      <td>18560</td>\n",
       "      <td>95</td>\n",
       "      <td>Every day is a #newday and every experience is a #newera</td>\n",
       "      <td>2</td>\n",
       "      <td>#newera#newday</td>\n",
       "      <td>2017-02-11 11:05:10</td>\n",
       "      <td>1</td>\n",
       "      <td>1</td>\n",
       "      <td>https://www.instagram.com/p/BQXZpSQjiPj</td>\n",
       "      <td>33.0,35.0</td>\n",
       "      <td>5</td>\n",
       "      <td>every day newday every experience</td>\n",
       "    </tr>\n",
       "    <tr>\n",
       "      <th>1</th>\n",
       "      <td>georgiou82</td>\n",
       "      <td>1134619</td>\n",
       "      <td>915</td>\n",
       "      <td>17710</td>\n",
       "      <td>86</td>\n",
       "      <td>#goodnight !!! The #weekend is ahead!!! Have a #goodone guys!!!!</td>\n",
       "      <td>3</td>\n",
       "      <td>#goodnight#goodone#weekend</td>\n",
       "      <td>2017-02-11 00:33:10</td>\n",
       "      <td>1</td>\n",
       "      <td>1</td>\n",
       "      <td>https://www.instagram.com/p/BQWRUV6j8b-</td>\n",
       "      <td>33.3612275609,35.1713765464</td>\n",
       "      <td>5</td>\n",
       "      <td>goodnight weekend ahead guys</td>\n",
       "    </tr>\n",
       "    <tr>\n",
       "      <th>2</th>\n",
       "      <td>georgiou82</td>\n",
       "      <td>1134619</td>\n",
       "      <td>915</td>\n",
       "      <td>11959</td>\n",
       "      <td>79</td>\n",
       "      <td>#tb #2007 #stous31dromous #megatv #greece #newyork #memories</td>\n",
       "      <td>7</td>\n",
       "      <td>#tb#memories#greece#stous31dromous#newyork#2007#megatv</td>\n",
       "      <td>2017-02-09 15:51:47</td>\n",
       "      <td>1</td>\n",
       "      <td>3</td>\n",
       "      <td>https://www.instagram.com/p/BQSw2wMj0Bw</td>\n",
       "      <td>-74.0064,40.7142</td>\n",
       "      <td>3</td>\n",
       "      <td>tb greece newyork memories</td>\n",
       "    </tr>\n",
       "    <tr>\n",
       "      <th>3</th>\n",
       "      <td>georgiou82</td>\n",
       "      <td>1134619</td>\n",
       "      <td>915</td>\n",
       "      <td>13608</td>\n",
       "      <td>37</td>\n",
       "      <td>Cold weather brings people together.... #filming #mprousko4 with director @stamosts and DOP @kinolis2.8</td>\n",
       "      <td>2</td>\n",
       "      <td>#mprousko4#filming</td>\n",
       "      <td>2017-02-08 18:21:57</td>\n",
       "      <td>1</td>\n",
       "      <td>3</td>\n",
       "      <td>https://www.instagram.com/p/BQQdPrLDeRz</td>\n",
       "      <td>NaN</td>\n",
       "      <td>2</td>\n",
       "      <td>cold weather brings people together filming director dop</td>\n",
       "    </tr>\n",
       "    <tr>\n",
       "      <th>4</th>\n",
       "      <td>georgiou82</td>\n",
       "      <td>1134619</td>\n",
       "      <td>915</td>\n",
       "      <td>15842</td>\n",
       "      <td>62</td>\n",
       "      <td>The youngest hearts might be the oldest souls.... #lifelessons #andreasgeorgiou✔️ #tb #peru</td>\n",
       "      <td>4</td>\n",
       "      <td>#peru#lifelessons#tb#andreasgeorgiou✔️</td>\n",
       "      <td>2017-02-08 13:03:14</td>\n",
       "      <td>1</td>\n",
       "      <td>0</td>\n",
       "      <td>https://www.instagram.com/p/BQP4xY7jAXb</td>\n",
       "      <td>-71.9781,-13.5183</td>\n",
       "      <td>2</td>\n",
       "      <td>hearts might souls andreasgeorgiou tb peru</td>\n",
       "    </tr>\n",
       "  </tbody>\n",
       "</table>\n",
       "</div>"
      ],
      "text/plain": [
       "     USERNAME  FOLLOWERS  FOLLOWING  LIKES  COMMENTS  \\\n",
       "0  georgiou82    1134619        915  18560        95   \n",
       "1  georgiou82    1134619        915  17710        86   \n",
       "2  georgiou82    1134619        915  11959        79   \n",
       "3  georgiou82    1134619        915  13608        37   \n",
       "4  georgiou82    1134619        915  15842        62   \n",
       "\n",
       "                                                                                                      TEXT  \\\n",
       "0                                                 Every day is a #newday and every experience is a #newera   \n",
       "1                                         #goodnight !!! The #weekend is ahead!!! Have a #goodone guys!!!!   \n",
       "2                                             #tb #2007 #stous31dromous #megatv #greece #newyork #memories   \n",
       "3  Cold weather brings people together.... #filming #mprousko4 with director @stamosts and DOP @kinolis2.8   \n",
       "4              The youngest hearts might be the oldest souls.... #lifelessons #andreasgeorgiou✔️ #tb #peru   \n",
       "\n",
       "   NUMBER OF TAGS                                            LIST OF TAGS  \\\n",
       "0               2                                          #newera#newday   \n",
       "1               3                              #goodnight#goodone#weekend   \n",
       "2               7  #tb#memories#greece#stous31dromous#newyork#2007#megatv   \n",
       "3               2                                      #mprousko4#filming   \n",
       "4               4                  #peru#lifelessons#tb#andreasgeorgiou✔️   \n",
       "\n",
       "                  DATE  PHOTOVIDEO  USERS IN PHOTO  \\\n",
       "0  2017-02-11 11:05:10           1               1   \n",
       "1  2017-02-11 00:33:10           1               1   \n",
       "2  2017-02-09 15:51:47           1               3   \n",
       "3  2017-02-08 18:21:57           1               3   \n",
       "4  2017-02-08 13:03:14           1               0   \n",
       "\n",
       "                                      LINK                     LOCATION  \\\n",
       "0  https://www.instagram.com/p/BQXZpSQjiPj                    33.0,35.0   \n",
       "1  https://www.instagram.com/p/BQWRUV6j8b-  33.3612275609,35.1713765464   \n",
       "2  https://www.instagram.com/p/BQSw2wMj0Bw             -74.0064,40.7142   \n",
       "3  https://www.instagram.com/p/BQQdPrLDeRz                          NaN   \n",
       "4  https://www.instagram.com/p/BQP4xY7jAXb            -71.9781,-13.5183   \n",
       "\n",
       "   WEEKDAYMS                                                   NEWTEXT  \n",
       "0          5                         every day newday every experience  \n",
       "1          5                              goodnight weekend ahead guys  \n",
       "2          3                                tb greece newyork memories  \n",
       "3          2  cold weather brings people together filming director dop  \n",
       "4          2                hearts might souls andreasgeorgiou tb peru  "
      ]
     },
     "execution_count": 70,
     "metadata": {},
     "output_type": "execute_result"
    }
   ],
   "source": [
    "iorig['NEWTEXT'] = iedit\n",
    "\n",
    "iorig.head()"
   ]
  },
  {
   "cell_type": "markdown",
   "metadata": {},
   "source": [
    "TF-IDF"
   ]
  },
  {
   "cell_type": "code",
   "execution_count": 64,
   "metadata": {},
   "outputs": [
    {
     "data": {
      "text/html": [
       "<div>\n",
       "<style scoped>\n",
       "    .dataframe tbody tr th:only-of-type {\n",
       "        vertical-align: middle;\n",
       "    }\n",
       "\n",
       "    .dataframe tbody tr th {\n",
       "        vertical-align: top;\n",
       "    }\n",
       "\n",
       "    .dataframe thead th {\n",
       "        text-align: right;\n",
       "    }\n",
       "</style>\n",
       "<table border=\"1\" class=\"dataframe\">\n",
       "  <thead>\n",
       "    <tr style=\"text-align: right;\">\n",
       "      <th></th>\n",
       "      <th>words</th>\n",
       "      <th>tf</th>\n",
       "    </tr>\n",
       "  </thead>\n",
       "  <tbody>\n",
       "    <tr>\n",
       "      <th>0</th>\n",
       "      <td></td>\n",
       "      <td>2320.0</td>\n",
       "    </tr>\n",
       "    <tr>\n",
       "      <th>1</th>\n",
       "      <td>_</td>\n",
       "      <td>100.0</td>\n",
       "    </tr>\n",
       "    <tr>\n",
       "      <th>2</th>\n",
       "      <td>__</td>\n",
       "      <td>4.0</td>\n",
       "    </tr>\n",
       "    <tr>\n",
       "      <th>3</th>\n",
       "      <td>___</td>\n",
       "      <td>9.0</td>\n",
       "    </tr>\n",
       "    <tr>\n",
       "      <th>4</th>\n",
       "      <td>____</td>\n",
       "      <td>4.0</td>\n",
       "    </tr>\n",
       "    <tr>\n",
       "      <th>5</th>\n",
       "      <td>_____</td>\n",
       "      <td>5.0</td>\n",
       "    </tr>\n",
       "    <tr>\n",
       "      <th>6</th>\n",
       "      <td>_______</td>\n",
       "      <td>3.0</td>\n",
       "    </tr>\n",
       "    <tr>\n",
       "      <th>7</th>\n",
       "      <td>________</td>\n",
       "      <td>18.0</td>\n",
       "    </tr>\n",
       "    <tr>\n",
       "      <th>8</th>\n",
       "      <td>_________</td>\n",
       "      <td>6.0</td>\n",
       "    </tr>\n",
       "    <tr>\n",
       "      <th>9</th>\n",
       "      <td>__________</td>\n",
       "      <td>24.0</td>\n",
       "    </tr>\n",
       "  </tbody>\n",
       "</table>\n",
       "</div>"
      ],
      "text/plain": [
       "        words      tf\n",
       "0              2320.0\n",
       "1           _   100.0\n",
       "2          __     4.0\n",
       "3         ___     9.0\n",
       "4        ____     4.0\n",
       "5       _____     5.0\n",
       "6     _______     3.0\n",
       "7    ________    18.0\n",
       "8   _________     6.0\n",
       "9  __________    24.0"
      ]
     },
     "execution_count": 64,
     "metadata": {},
     "output_type": "execute_result"
    }
   ],
   "source": [
    "# Manual TF-IDF\n",
    "\n",
    "tf_tx = iedit.apply(lambda x: \n",
    "        pd.value_counts(x.split(\" \"))\n",
    "        ).sum(axis=0).reset_index()\n",
    "\n",
    "tf_tx.columns = ['words','tf']\n",
    "\n",
    "tf_tx.head(10)"
   ]
  },
  {
   "cell_type": "code",
   "execution_count": 71,
   "metadata": {},
   "outputs": [
    {
     "data": {
      "text/html": [
       "<div>\n",
       "<style scoped>\n",
       "    .dataframe tbody tr th:only-of-type {\n",
       "        vertical-align: middle;\n",
       "    }\n",
       "\n",
       "    .dataframe tbody tr th {\n",
       "        vertical-align: top;\n",
       "    }\n",
       "\n",
       "    .dataframe thead th {\n",
       "        text-align: right;\n",
       "    }\n",
       "</style>\n",
       "<table border=\"1\" class=\"dataframe\">\n",
       "  <thead>\n",
       "    <tr style=\"text-align: right;\">\n",
       "      <th></th>\n",
       "      <th>words</th>\n",
       "      <th>tf</th>\n",
       "      <th>idf</th>\n",
       "    </tr>\n",
       "  </thead>\n",
       "  <tbody>\n",
       "    <tr>\n",
       "      <th>0</th>\n",
       "      <td></td>\n",
       "      <td>2320.0</td>\n",
       "      <td>0.000000</td>\n",
       "    </tr>\n",
       "    <tr>\n",
       "      <th>1</th>\n",
       "      <td>_</td>\n",
       "      <td>100.0</td>\n",
       "      <td>1.808830</td>\n",
       "    </tr>\n",
       "    <tr>\n",
       "      <th>2</th>\n",
       "      <td>__</td>\n",
       "      <td>4.0</td>\n",
       "      <td>3.721280</td>\n",
       "    </tr>\n",
       "    <tr>\n",
       "      <th>3</th>\n",
       "      <td>___</td>\n",
       "      <td>9.0</td>\n",
       "      <td>3.927329</td>\n",
       "    </tr>\n",
       "    <tr>\n",
       "      <th>4</th>\n",
       "      <td>____</td>\n",
       "      <td>4.0</td>\n",
       "      <td>3.934132</td>\n",
       "    </tr>\n",
       "    <tr>\n",
       "      <th>5</th>\n",
       "      <td>_____</td>\n",
       "      <td>5.0</td>\n",
       "      <td>3.939264</td>\n",
       "    </tr>\n",
       "    <tr>\n",
       "      <th>6</th>\n",
       "      <td>_______</td>\n",
       "      <td>3.0</td>\n",
       "      <td>3.944423</td>\n",
       "    </tr>\n",
       "    <tr>\n",
       "      <th>7</th>\n",
       "      <td>________</td>\n",
       "      <td>18.0</td>\n",
       "      <td>3.947878</td>\n",
       "    </tr>\n",
       "    <tr>\n",
       "      <th>8</th>\n",
       "      <td>_________</td>\n",
       "      <td>6.0</td>\n",
       "      <td>3.960062</td>\n",
       "    </tr>\n",
       "    <tr>\n",
       "      <th>9</th>\n",
       "      <td>__________</td>\n",
       "      <td>24.0</td>\n",
       "      <td>3.968857</td>\n",
       "    </tr>\n",
       "  </tbody>\n",
       "</table>\n",
       "</div>"
      ],
      "text/plain": [
       "        words      tf       idf\n",
       "0              2320.0  0.000000\n",
       "1           _   100.0  1.808830\n",
       "2          __     4.0  3.721280\n",
       "3         ___     9.0  3.927329\n",
       "4        ____     4.0  3.934132\n",
       "5       _____     5.0  3.939264\n",
       "6     _______     3.0  3.944423\n",
       "7    ________    18.0  3.947878\n",
       "8   _________     6.0  3.960062\n",
       "9  __________    24.0  3.968857"
      ]
     },
     "execution_count": 71,
     "metadata": {},
     "output_type": "execute_result"
    }
   ],
   "source": [
    "for i,word in enumerate(tf_tx['words']):\n",
    "    tf_tx.loc[i, 'idf'] = np.log(iorig.shape[0]/\n",
    "                        (len(iorig[iorig['NEWTEXT'].str.contains(word)])))\n",
    "tf_tx.head(10)"
   ]
  },
  {
   "cell_type": "code",
   "execution_count": 72,
   "metadata": {},
   "outputs": [
    {
     "data": {
      "text/html": [
       "<div>\n",
       "<style scoped>\n",
       "    .dataframe tbody tr th:only-of-type {\n",
       "        vertical-align: middle;\n",
       "    }\n",
       "\n",
       "    .dataframe tbody tr th {\n",
       "        vertical-align: top;\n",
       "    }\n",
       "\n",
       "    .dataframe thead th {\n",
       "        text-align: right;\n",
       "    }\n",
       "</style>\n",
       "<table border=\"1\" class=\"dataframe\">\n",
       "  <thead>\n",
       "    <tr style=\"text-align: right;\">\n",
       "      <th></th>\n",
       "      <th>words</th>\n",
       "      <th>tf</th>\n",
       "      <th>idf</th>\n",
       "      <th>tfidf</th>\n",
       "    </tr>\n",
       "  </thead>\n",
       "  <tbody>\n",
       "    <tr>\n",
       "      <th>0</th>\n",
       "      <td></td>\n",
       "      <td>2320.0</td>\n",
       "      <td>0.000000</td>\n",
       "      <td>0.000000</td>\n",
       "    </tr>\n",
       "    <tr>\n",
       "      <th>1</th>\n",
       "      <td>_</td>\n",
       "      <td>100.0</td>\n",
       "      <td>1.808830</td>\n",
       "      <td>180.882973</td>\n",
       "    </tr>\n",
       "    <tr>\n",
       "      <th>2</th>\n",
       "      <td>__</td>\n",
       "      <td>4.0</td>\n",
       "      <td>3.721280</td>\n",
       "      <td>14.885120</td>\n",
       "    </tr>\n",
       "    <tr>\n",
       "      <th>3</th>\n",
       "      <td>___</td>\n",
       "      <td>9.0</td>\n",
       "      <td>3.927329</td>\n",
       "      <td>35.345961</td>\n",
       "    </tr>\n",
       "    <tr>\n",
       "      <th>4</th>\n",
       "      <td>____</td>\n",
       "      <td>4.0</td>\n",
       "      <td>3.934132</td>\n",
       "      <td>15.736527</td>\n",
       "    </tr>\n",
       "  </tbody>\n",
       "</table>\n",
       "</div>"
      ],
      "text/plain": [
       "  words      tf       idf       tfidf\n",
       "0        2320.0  0.000000    0.000000\n",
       "1     _   100.0  1.808830  180.882973\n",
       "2    __     4.0  3.721280   14.885120\n",
       "3   ___     9.0  3.927329   35.345961\n",
       "4  ____     4.0  3.934132   15.736527"
      ]
     },
     "execution_count": 72,
     "metadata": {},
     "output_type": "execute_result"
    }
   ],
   "source": [
    "tf_tx['tfidf'] = tf_tx['tf'] * tf_tx['idf']\n",
    "\n",
    "tf_tx.head()"
   ]
  },
  {
   "cell_type": "code",
   "execution_count": 73,
   "metadata": {},
   "outputs": [
    {
     "data": {
      "text/html": [
       "<div>\n",
       "<style scoped>\n",
       "    .dataframe tbody tr th:only-of-type {\n",
       "        vertical-align: middle;\n",
       "    }\n",
       "\n",
       "    .dataframe tbody tr th {\n",
       "        vertical-align: top;\n",
       "    }\n",
       "\n",
       "    .dataframe thead th {\n",
       "        text-align: right;\n",
       "    }\n",
       "</style>\n",
       "<table border=\"1\" class=\"dataframe\">\n",
       "  <thead>\n",
       "    <tr style=\"text-align: right;\">\n",
       "      <th></th>\n",
       "      <th>words</th>\n",
       "      <th>tf</th>\n",
       "      <th>idf</th>\n",
       "      <th>tfidf</th>\n",
       "    </tr>\n",
       "  </thead>\n",
       "  <tbody>\n",
       "    <tr>\n",
       "      <th>5051</th>\n",
       "      <td>greece</td>\n",
       "      <td>2517.0</td>\n",
       "      <td>2.265395</td>\n",
       "      <td>5701.999528</td>\n",
       "    </tr>\n",
       "    <tr>\n",
       "      <th>19242</th>\n",
       "      <td>της</td>\n",
       "      <td>1710.0</td>\n",
       "      <td>3.163044</td>\n",
       "      <td>5408.805846</td>\n",
       "    </tr>\n",
       "    <tr>\n",
       "      <th>17423</th>\n",
       "      <td>μου</td>\n",
       "      <td>1621.0</td>\n",
       "      <td>3.108520</td>\n",
       "      <td>5038.911396</td>\n",
       "    </tr>\n",
       "    <tr>\n",
       "      <th>17236</th>\n",
       "      <td>μας</td>\n",
       "      <td>1428.0</td>\n",
       "      <td>3.281025</td>\n",
       "      <td>4685.303308</td>\n",
       "    </tr>\n",
       "    <tr>\n",
       "      <th>528</th>\n",
       "      <td>anime</td>\n",
       "      <td>1201.0</td>\n",
       "      <td>3.842863</td>\n",
       "      <td>4615.278740</td>\n",
       "    </tr>\n",
       "    <tr>\n",
       "      <th>7344</th>\n",
       "      <td>love</td>\n",
       "      <td>2358.0</td>\n",
       "      <td>1.944109</td>\n",
       "      <td>4584.209182</td>\n",
       "    </tr>\n",
       "    <tr>\n",
       "      <th>1801</th>\n",
       "      <td>burakozcivit</td>\n",
       "      <td>1177.0</td>\n",
       "      <td>3.718525</td>\n",
       "      <td>4376.703992</td>\n",
       "    </tr>\n",
       "    <tr>\n",
       "      <th>14839</th>\n",
       "      <td>από</td>\n",
       "      <td>1219.0</td>\n",
       "      <td>3.222387</td>\n",
       "      <td>3928.090046</td>\n",
       "    </tr>\n",
       "    <tr>\n",
       "      <th>18695</th>\n",
       "      <td>σας</td>\n",
       "      <td>1118.0</td>\n",
       "      <td>3.502837</td>\n",
       "      <td>3916.171782</td>\n",
       "    </tr>\n",
       "    <tr>\n",
       "      <th>15695</th>\n",
       "      <td>είναι</td>\n",
       "      <td>1005.0</td>\n",
       "      <td>3.653299</td>\n",
       "      <td>3671.565509</td>\n",
       "    </tr>\n",
       "    <tr>\n",
       "      <th>4023</th>\n",
       "      <td>fashion</td>\n",
       "      <td>1429.0</td>\n",
       "      <td>2.540611</td>\n",
       "      <td>3630.533115</td>\n",
       "    </tr>\n",
       "    <tr>\n",
       "      <th>6586</th>\n",
       "      <td>karasevda</td>\n",
       "      <td>1047.0</td>\n",
       "      <td>3.422965</td>\n",
       "      <td>3583.844232</td>\n",
       "    </tr>\n",
       "    <tr>\n",
       "      <th>13863</th>\n",
       "      <td>www</td>\n",
       "      <td>1042.0</td>\n",
       "      <td>3.400697</td>\n",
       "      <td>3543.526020</td>\n",
       "    </tr>\n",
       "    <tr>\n",
       "      <th>1135</th>\n",
       "      <td>beautiful</td>\n",
       "      <td>998.0</td>\n",
       "      <td>3.308029</td>\n",
       "      <td>3301.413009</td>\n",
       "    </tr>\n",
       "    <tr>\n",
       "      <th>5360</th>\n",
       "      <td>happy</td>\n",
       "      <td>1124.0</td>\n",
       "      <td>2.917270</td>\n",
       "      <td>3279.011599</td>\n",
       "    </tr>\n",
       "    <tr>\n",
       "      <th>11997</th>\n",
       "      <td>summer</td>\n",
       "      <td>1001.0</td>\n",
       "      <td>3.211558</td>\n",
       "      <td>3214.769872</td>\n",
       "    </tr>\n",
       "    <tr>\n",
       "      <th>4386</th>\n",
       "      <td>follow</td>\n",
       "      <td>1123.0</td>\n",
       "      <td>2.826459</td>\n",
       "      <td>3174.113874</td>\n",
       "    </tr>\n",
       "    <tr>\n",
       "      <th>9741</th>\n",
       "      <td>photooftheday</td>\n",
       "      <td>888.0</td>\n",
       "      <td>3.516230</td>\n",
       "      <td>3122.412304</td>\n",
       "    </tr>\n",
       "    <tr>\n",
       "      <th>8703</th>\n",
       "      <td>new</td>\n",
       "      <td>1112.0</td>\n",
       "      <td>2.799761</td>\n",
       "      <td>3113.334740</td>\n",
       "    </tr>\n",
       "    <tr>\n",
       "      <th>5059</th>\n",
       "      <td>greek</td>\n",
       "      <td>1217.0</td>\n",
       "      <td>2.446881</td>\n",
       "      <td>2977.853872</td>\n",
       "    </tr>\n",
       "  </tbody>\n",
       "</table>\n",
       "</div>"
      ],
      "text/plain": [
       "               words      tf       idf        tfidf\n",
       "5051          greece  2517.0  2.265395  5701.999528\n",
       "19242            της  1710.0  3.163044  5408.805846\n",
       "17423            μου  1621.0  3.108520  5038.911396\n",
       "17236            μας  1428.0  3.281025  4685.303308\n",
       "528            anime  1201.0  3.842863  4615.278740\n",
       "7344            love  2358.0  1.944109  4584.209182\n",
       "1801    burakozcivit  1177.0  3.718525  4376.703992\n",
       "14839            από  1219.0  3.222387  3928.090046\n",
       "18695            σας  1118.0  3.502837  3916.171782\n",
       "15695          είναι  1005.0  3.653299  3671.565509\n",
       "4023         fashion  1429.0  2.540611  3630.533115\n",
       "6586       karasevda  1047.0  3.422965  3583.844232\n",
       "13863            www  1042.0  3.400697  3543.526020\n",
       "1135       beautiful   998.0  3.308029  3301.413009\n",
       "5360           happy  1124.0  2.917270  3279.011599\n",
       "11997         summer  1001.0  3.211558  3214.769872\n",
       "4386          follow  1123.0  2.826459  3174.113874\n",
       "9741   photooftheday   888.0  3.516230  3122.412304\n",
       "8703             new  1112.0  2.799761  3113.334740\n",
       "5059           greek  1217.0  2.446881  2977.853872"
      ]
     },
     "execution_count": 73,
     "metadata": {},
     "output_type": "execute_result"
    }
   ],
   "source": [
    "tf_sort = tf_tx.sort_values(by='tfidf',ascending=False)\n",
    "\n",
    "tf_sort.head(20)"
   ]
  },
  {
   "cell_type": "code",
   "execution_count": 74,
   "metadata": {},
   "outputs": [
    {
     "name": "stdout",
     "output_type": "stream",
     "text": [
      "File saved\n"
     ]
    }
   ],
   "source": [
    "# save TF-IDF data to CSV due to long process time\n",
    "\n",
    "try:\n",
    "    tf_tx.to_csv('insta_tfidf.csv',mode='x')\n",
    "    print('File saved')\n",
    "    \n",
    "except:\n",
    "    print('File exists')"
   ]
  },
  {
   "cell_type": "code",
   "execution_count": null,
   "metadata": {},
   "outputs": [],
   "source": [
    "# will attempt NLP ML in part 04"
   ]
  }
 ],
 "metadata": {
  "kernelspec": {
   "display_name": "Python 3",
   "language": "python",
   "name": "python3"
  },
  "language_info": {
   "codemirror_mode": {
    "name": "ipython",
    "version": 3
   },
   "file_extension": ".py",
   "mimetype": "text/x-python",
   "name": "python",
   "nbconvert_exporter": "python",
   "pygments_lexer": "ipython3",
   "version": "3.6.4"
  }
 },
 "nbformat": 4,
 "nbformat_minor": 2
}
