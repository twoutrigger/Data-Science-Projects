{
 "cells": [
  {
   "cell_type": "code",
   "execution_count": 1,
   "metadata": {},
   "outputs": [],
   "source": [
    "import numpy as np\n",
    "import pandas as pd\n",
    "import matplotlib.pyplot as plt\n",
    "import seaborn as sns\n",
    "from pandas import pivot_table\n",
    "import json"
   ]
  },
  {
   "cell_type": "code",
   "execution_count": null,
   "metadata": {},
   "outputs": [],
   "source": [
    "### Prepare dataset for UK International Students App\n",
    "### Apps found at:\n",
    "### https://rangewell.com/students-country\n",
    "### https://rangewell.com/students-university"
   ]
  },
  {
   "cell_type": "code",
   "execution_count": null,
   "metadata": {},
   "outputs": [],
   "source": [
    "data_url = 'https://www.hesa.ac.uk/data-and-analysis/students/where-from'"
   ]
  },
  {
   "cell_type": "code",
   "execution_count": 2,
   "metadata": {},
   "outputs": [],
   "source": [
    "oeu = pd.read_csv('he_map_eu.csv', skiprows=14, thousands=',')\n",
    "ooe = pd.read_csv('he_map_oe.csv', skiprows=14, thousands=',')\n",
    "oaf = pd.read_csv('he_map_af.csv', skiprows=14, thousands=',')\n",
    "oas = pd.read_csv('he_map_as.csv', skiprows=14, thousands=',')\n",
    "oau = pd.read_csv('he_map_au.csv', skiprows=14, thousands=',')\n",
    "ome = pd.read_csv('he_map_me.csv', skiprows=14, thousands=',')\n",
    "ona = pd.read_csv('he_map_na.csv', skiprows=14, thousands=',')\n",
    "osa = pd.read_csv('he_map_sa.csv', skiprows=14, thousands=',')"
   ]
  },
  {
   "cell_type": "code",
   "execution_count": 3,
   "metadata": {},
   "outputs": [
    {
     "name": "stdout",
     "output_type": "stream",
     "text": [
      "(166, 41)\n",
      "(166, 30)\n",
      "(166, 61)\n",
      "(166, 37)\n",
      "(166, 32)\n",
      "(166, 19)\n",
      "(166, 45)\n",
      "(166, 18)\n"
     ]
    }
   ],
   "source": [
    "aeu = oeu.copy()\n",
    "aoe = ooe.copy()\n",
    "aaf = oaf.copy()\n",
    "aas = oas.copy()\n",
    "aau = oau.copy()\n",
    "ame = ome.copy()\n",
    "ana = ona.copy()\n",
    "asa = osa.copy()\n",
    "\n",
    "aeu = aeu.apply(pd.to_numeric, errors='ignore')\n",
    "aoe = aoe.apply(pd.to_numeric, errors='ignore')\n",
    "aaf = aaf.apply(pd.to_numeric, errors='ignore')\n",
    "aas = aas.apply(pd.to_numeric, errors='ignore')\n",
    "aau = aau.apply(pd.to_numeric, errors='ignore')\n",
    "ame = ame.apply(pd.to_numeric, errors='ignore')\n",
    "ana = ana.apply(pd.to_numeric, errors='ignore')\n",
    "asa = asa.apply(pd.to_numeric, errors='ignore')\n",
    "\n",
    "cont_list=[aeu,aoe,aaf,aas,aau,ame,ana,asa]\n",
    "\n",
    "for i in cont_list:\n",
    "    print(i.shape)"
   ]
  },
  {
   "cell_type": "code",
   "execution_count": 4,
   "metadata": {},
   "outputs": [
    {
     "data": {
      "text/plain": [
       "166"
      ]
     },
     "execution_count": 4,
     "metadata": {},
     "output_type": "execute_result"
    }
   ],
   "source": [
    "# all Uni names are unique\n",
    "len(aas['HE Provider'].unique())"
   ]
  },
  {
   "cell_type": "code",
   "execution_count": 5,
   "metadata": {},
   "outputs": [
    {
     "name": "stdout",
     "output_type": "stream",
     "text": [
      "UKPRN\n",
      "UKPRN\n",
      "UKPRN\n",
      "UKPRN\n",
      "UKPRN\n",
      "UKPRN\n",
      "UKPRN\n",
      "UKPRN\n"
     ]
    }
   ],
   "source": [
    "# varify skip rows are consistent\n",
    "for i in cont_list:\n",
    "    print(i.columns[0])"
   ]
  },
  {
   "cell_type": "code",
   "execution_count": 6,
   "metadata": {},
   "outputs": [
    {
     "name": "stdout",
     "output_type": "stream",
     "text": [
      "(165, 41)\n",
      "(165, 30)\n",
      "(165, 61)\n",
      "(165, 37)\n",
      "(165, 32)\n",
      "(165, 19)\n",
      "(165, 45)\n",
      "(165, 18)\n"
     ]
    }
   ],
   "source": [
    "# drop row Total\n",
    "for i in cont_list:\n",
    "    i.drop([i.index[-1]], inplace=True)\n",
    "    print(i.shape)"
   ]
  },
  {
   "cell_type": "code",
   "execution_count": 7,
   "metadata": {},
   "outputs": [
    {
     "name": "stdout",
     "output_type": "stream",
     "text": [
      "(165, 37)\n",
      "(165, 26)\n",
      "(165, 57)\n",
      "(165, 33)\n",
      "(165, 28)\n",
      "(165, 15)\n",
      "(165, 41)\n",
      "(165, 14)\n"
     ]
    }
   ],
   "source": [
    "# drop first column and last 3 columns\n",
    "for i in cont_list:\n",
    "    i.drop([i.columns[0], i.columns[-3], i.columns[-2], i.columns[-1]], axis=1, inplace=True)\n",
    "    print(i.shape)"
   ]
  },
  {
   "cell_type": "code",
   "execution_count": 8,
   "metadata": {},
   "outputs": [
    {
     "data": {
      "text/html": [
       "<div>\n",
       "<style scoped>\n",
       "    .dataframe tbody tr th:only-of-type {\n",
       "        vertical-align: middle;\n",
       "    }\n",
       "\n",
       "    .dataframe tbody tr th {\n",
       "        vertical-align: top;\n",
       "    }\n",
       "\n",
       "    .dataframe thead th {\n",
       "        text-align: right;\n",
       "    }\n",
       "</style>\n",
       "<table border=\"1\" class=\"dataframe\">\n",
       "  <thead>\n",
       "    <tr style=\"text-align: right;\">\n",
       "      <th></th>\n",
       "      <th>HE Provider</th>\n",
       "      <th>Afghanistan</th>\n",
       "      <th>Bangladesh</th>\n",
       "      <th>Bhutan</th>\n",
       "      <th>Brunei</th>\n",
       "      <th>Burma [Myanmar]</th>\n",
       "      <th>Cambodia</th>\n",
       "      <th>China</th>\n",
       "      <th>East Timor [Timor Leste]</th>\n",
       "      <th>Hong Kong (Special Administrative Region of China) [Hong Kong]</th>\n",
       "      <th>...</th>\n",
       "      <th>Pakistan</th>\n",
       "      <th>Philippines</th>\n",
       "      <th>Singapore</th>\n",
       "      <th>Sri Lanka</th>\n",
       "      <th>Taiwan [Taiwan, Province of China]</th>\n",
       "      <th>Tajikistan</th>\n",
       "      <th>Thailand</th>\n",
       "      <th>Turkmenistan</th>\n",
       "      <th>Uzbekistan</th>\n",
       "      <th>Vietnam [Viet Nam]</th>\n",
       "    </tr>\n",
       "  </thead>\n",
       "  <tbody>\n",
       "    <tr>\n",
       "      <th>0</th>\n",
       "      <td>The University of Aberdeen</td>\n",
       "      <td>0</td>\n",
       "      <td>10</td>\n",
       "      <td>0</td>\n",
       "      <td>5</td>\n",
       "      <td>5</td>\n",
       "      <td>0</td>\n",
       "      <td>325</td>\n",
       "      <td>0</td>\n",
       "      <td>20</td>\n",
       "      <td>...</td>\n",
       "      <td>25</td>\n",
       "      <td>5</td>\n",
       "      <td>40</td>\n",
       "      <td>10</td>\n",
       "      <td>5</td>\n",
       "      <td>0</td>\n",
       "      <td>70</td>\n",
       "      <td>0</td>\n",
       "      <td>0</td>\n",
       "      <td>10</td>\n",
       "    </tr>\n",
       "    <tr>\n",
       "      <th>1</th>\n",
       "      <td>University of Abertay Dundee</td>\n",
       "      <td>0</td>\n",
       "      <td>0</td>\n",
       "      <td>0</td>\n",
       "      <td>0</td>\n",
       "      <td>0</td>\n",
       "      <td>0</td>\n",
       "      <td>10</td>\n",
       "      <td>0</td>\n",
       "      <td>0</td>\n",
       "      <td>...</td>\n",
       "      <td>5</td>\n",
       "      <td>0</td>\n",
       "      <td>5</td>\n",
       "      <td>0</td>\n",
       "      <td>0</td>\n",
       "      <td>0</td>\n",
       "      <td>0</td>\n",
       "      <td>0</td>\n",
       "      <td>0</td>\n",
       "      <td>0</td>\n",
       "    </tr>\n",
       "  </tbody>\n",
       "</table>\n",
       "<p>2 rows × 33 columns</p>\n",
       "</div>"
      ],
      "text/plain": [
       "                    HE Provider  Afghanistan  Bangladesh  Bhutan  Brunei  \\\n",
       "0    The University of Aberdeen            0          10       0       5   \n",
       "1  University of Abertay Dundee            0           0       0       0   \n",
       "\n",
       "   Burma [Myanmar]  Cambodia  China  East Timor [Timor Leste]  \\\n",
       "0                5         0    325                         0   \n",
       "1                0         0     10                         0   \n",
       "\n",
       "   Hong Kong (Special Administrative Region of China) [Hong Kong]  ...  \\\n",
       "0                                                 20               ...   \n",
       "1                                                  0               ...   \n",
       "\n",
       "   Pakistan  Philippines  Singapore  Sri Lanka  \\\n",
       "0        25            5         40         10   \n",
       "1         5            0          5          0   \n",
       "\n",
       "   Taiwan [Taiwan, Province of China]  Tajikistan  Thailand  Turkmenistan  \\\n",
       "0                                   5           0        70             0   \n",
       "1                                   0           0         0             0   \n",
       "\n",
       "   Uzbekistan  Vietnam [Viet Nam]  \n",
       "0           0                  10  \n",
       "1           0                   0  \n",
       "\n",
       "[2 rows x 33 columns]"
      ]
     },
     "execution_count": 8,
     "metadata": {},
     "output_type": "execute_result"
    }
   ],
   "source": [
    "aas.head(2)"
   ]
  },
  {
   "cell_type": "code",
   "execution_count": 9,
   "metadata": {},
   "outputs": [
    {
     "name": "stdout",
     "output_type": "stream",
     "text": [
      "244\n"
     ]
    }
   ],
   "source": [
    "col_count = 1\n",
    "\n",
    "for i in cont_list:\n",
    "    \n",
    "    col_count += (i.shape[1]-1)\n",
    "    \n",
    "print(col_count)"
   ]
  },
  {
   "cell_type": "code",
   "execution_count": 10,
   "metadata": {},
   "outputs": [
    {
     "name": "stdout",
     "output_type": "stream",
     "text": [
      "(165, 244)\n"
     ]
    },
    {
     "data": {
      "text/html": [
       "<div>\n",
       "<style scoped>\n",
       "    .dataframe tbody tr th:only-of-type {\n",
       "        vertical-align: middle;\n",
       "    }\n",
       "\n",
       "    .dataframe tbody tr th {\n",
       "        vertical-align: top;\n",
       "    }\n",
       "\n",
       "    .dataframe thead th {\n",
       "        text-align: right;\n",
       "    }\n",
       "</style>\n",
       "<table border=\"1\" class=\"dataframe\">\n",
       "  <thead>\n",
       "    <tr style=\"text-align: right;\">\n",
       "      <th></th>\n",
       "      <th>HE Provider</th>\n",
       "      <th>Austria</th>\n",
       "      <th>Belgium</th>\n",
       "      <th>Bulgaria</th>\n",
       "      <th>Canary Islands</th>\n",
       "      <th>Croatia</th>\n",
       "      <th>Cyprus (European Union)</th>\n",
       "      <th>Cyprus not otherwise specified</th>\n",
       "      <th>Czech Republic</th>\n",
       "      <th>Denmark</th>\n",
       "      <th>...</th>\n",
       "      <th>Chile</th>\n",
       "      <th>Colombia</th>\n",
       "      <th>Ecuador</th>\n",
       "      <th>Falkland Islands [Falkland Islands (Malvinas)]</th>\n",
       "      <th>Guyana</th>\n",
       "      <th>Paraguay</th>\n",
       "      <th>Peru</th>\n",
       "      <th>Suriname</th>\n",
       "      <th>Uruguay</th>\n",
       "      <th>Venezuela [Venezuela, Bolivarian Republic of]</th>\n",
       "    </tr>\n",
       "  </thead>\n",
       "  <tbody>\n",
       "    <tr>\n",
       "      <th>0</th>\n",
       "      <td>The University of Aberdeen</td>\n",
       "      <td>45</td>\n",
       "      <td>55</td>\n",
       "      <td>180</td>\n",
       "      <td>5</td>\n",
       "      <td>10</td>\n",
       "      <td>50</td>\n",
       "      <td>0</td>\n",
       "      <td>100</td>\n",
       "      <td>50</td>\n",
       "      <td>...</td>\n",
       "      <td>0</td>\n",
       "      <td>10</td>\n",
       "      <td>5</td>\n",
       "      <td>0</td>\n",
       "      <td>5</td>\n",
       "      <td>0</td>\n",
       "      <td>5</td>\n",
       "      <td>0</td>\n",
       "      <td>0</td>\n",
       "      <td>0</td>\n",
       "    </tr>\n",
       "    <tr>\n",
       "      <th>1</th>\n",
       "      <td>University of Abertay Dundee</td>\n",
       "      <td>5</td>\n",
       "      <td>5</td>\n",
       "      <td>30</td>\n",
       "      <td>0</td>\n",
       "      <td>0</td>\n",
       "      <td>10</td>\n",
       "      <td>0</td>\n",
       "      <td>15</td>\n",
       "      <td>5</td>\n",
       "      <td>...</td>\n",
       "      <td>0</td>\n",
       "      <td>0</td>\n",
       "      <td>0</td>\n",
       "      <td>0</td>\n",
       "      <td>0</td>\n",
       "      <td>0</td>\n",
       "      <td>0</td>\n",
       "      <td>0</td>\n",
       "      <td>0</td>\n",
       "      <td>0</td>\n",
       "    </tr>\n",
       "  </tbody>\n",
       "</table>\n",
       "<p>2 rows × 244 columns</p>\n",
       "</div>"
      ],
      "text/plain": [
       "                    HE Provider  Austria  Belgium  Bulgaria  Canary Islands  \\\n",
       "0    The University of Aberdeen       45       55       180               5   \n",
       "1  University of Abertay Dundee        5        5        30               0   \n",
       "\n",
       "   Croatia  Cyprus (European Union)  Cyprus not otherwise specified  \\\n",
       "0       10                       50                               0   \n",
       "1        0                       10                               0   \n",
       "\n",
       "   Czech Republic  Denmark  ...  Chile  Colombia  Ecuador  \\\n",
       "0             100       50  ...      0        10        5   \n",
       "1              15        5  ...      0         0        0   \n",
       "\n",
       "   Falkland Islands [Falkland Islands (Malvinas)]  Guyana  Paraguay  Peru  \\\n",
       "0                                               0       5         0     5   \n",
       "1                                               0       0         0     0   \n",
       "\n",
       "   Suriname  Uruguay  Venezuela [Venezuela, Bolivarian Republic of]  \n",
       "0         0        0                                              0  \n",
       "1         0        0                                              0  \n",
       "\n",
       "[2 rows x 244 columns]"
      ]
     },
     "execution_count": 10,
     "metadata": {},
     "output_type": "execute_result"
    }
   ],
   "source": [
    "amerge = aeu.copy()\n",
    "\n",
    "for i in cont_list[1:]:\n",
    "    amerge = pd.merge(amerge, i, on='HE Provider')\n",
    "           \n",
    "print(amerge.shape)\n",
    "amerge.head(2)"
   ]
  },
  {
   "cell_type": "markdown",
   "metadata": {},
   "source": [
    "## Cross Check with JSON"
   ]
  },
  {
   "cell_type": "code",
   "execution_count": 11,
   "metadata": {},
   "outputs": [],
   "source": [
    "with open(\"world_layers.json\") as geofile:\n",
    "    geojson_layer = json.load(geofile)"
   ]
  },
  {
   "cell_type": "code",
   "execution_count": 12,
   "metadata": {},
   "outputs": [
    {
     "name": "stdout",
     "output_type": "stream",
     "text": [
      "175\n",
      "['Bahamas', 'Cuba', 'Canada', 'Dominican Rep.', 'Greenland']\n"
     ]
    }
   ],
   "source": [
    "geo_list = []\n",
    "\n",
    "for i in geojson_layer['features']:\n",
    "    geo_list.append(i.get('properties').get('name'))\n",
    "    \n",
    "print(len(geo_list))\n",
    "print(geo_list[:5])"
   ]
  },
  {
   "cell_type": "code",
   "execution_count": 13,
   "metadata": {},
   "outputs": [
    {
     "name": "stdout",
     "output_type": "stream",
     "text": [
      "['Austria', 'Belgium', 'Bulgaria', 'Canary Islands', 'Croatia']\n"
     ]
    }
   ],
   "source": [
    "he_list = list(amerge.columns[1:])\n",
    "print(he_list[:5])"
   ]
  },
  {
   "cell_type": "code",
   "execution_count": 14,
   "metadata": {},
   "outputs": [
    {
     "name": "stdout",
     "output_type": "stream",
     "text": [
      "32\n"
     ]
    },
    {
     "data": {
      "text/plain": [
       "['Bahamas',\n",
       " 'Dominican Rep.',\n",
       " 'Bosnia and Herz.',\n",
       " 'Czech Rep.',\n",
       " 'United Kingdom',\n",
       " 'Moldova',\n",
       " 'Macedonia',\n",
       " 'Russia',\n",
       " 'Solomon Is.',\n",
       " 'Falkland Is.',\n",
       " 'Venezuela',\n",
       " 'Iran',\n",
       " 'Cyprus',\n",
       " 'N. Cyprus',\n",
       " 'Korea',\n",
       " 'Lao PDR',\n",
       " 'Myanmar',\n",
       " 'Palestine',\n",
       " 'Dem. Rep. Korea',\n",
       " 'Syria']"
      ]
     },
     "execution_count": 14,
     "metadata": {},
     "output_type": "execute_result"
    }
   ],
   "source": [
    "# Names in json not in HE\n",
    "print(len([item for item in geo_list if item not in he_list]))\n",
    "[item for item in geo_list if item not in he_list][:20]"
   ]
  },
  {
   "cell_type": "code",
   "execution_count": 15,
   "metadata": {},
   "outputs": [
    {
     "name": "stdout",
     "output_type": "stream",
     "text": [
      "100\n"
     ]
    },
    {
     "data": {
      "text/plain": [
       "['Canary Islands',\n",
       " 'Cyprus (European Union)',\n",
       " 'Cyprus not otherwise specified',\n",
       " 'Czech Republic',\n",
       " 'French Guiana',\n",
       " 'Gibraltar',\n",
       " 'Guadeloupe',\n",
       " 'Malta',\n",
       " 'Martinique',\n",
       " 'Mayotte',\n",
       " 'Réunion',\n",
       " 'Åland Islands',\n",
       " 'Andorra',\n",
       " 'Bosnia and Herzegovina',\n",
       " 'Cyprus (Non-European Union)',\n",
       " 'Faroe Islands',\n",
       " 'Liechtenstein',\n",
       " 'Macedonia [Macedonia, The Former Yugoslav Republic of]',\n",
       " 'Moldova [Moldova, Republic of]',\n",
       " 'Monaco']"
      ]
     },
     "execution_count": 15,
     "metadata": {},
     "output_type": "execute_result"
    }
   ],
   "source": [
    "# Names in HE not in json\n",
    "print(len([item for item in he_list if item not in geo_list]))\n",
    "[item for item in he_list if item not in geo_list][:20]"
   ]
  },
  {
   "cell_type": "markdown",
   "metadata": {},
   "source": [
    "## Clean HE Names"
   ]
  },
  {
   "cell_type": "code",
   "execution_count": 16,
   "metadata": {},
   "outputs": [],
   "source": [
    "anew = amerge.copy()"
   ]
  },
  {
   "cell_type": "code",
   "execution_count": 17,
   "metadata": {},
   "outputs": [
    {
     "name": "stdout",
     "output_type": "stream",
     "text": [
      "74\n"
     ]
    }
   ],
   "source": [
    "col_zero = anew.sum(axis = 0)\n",
    "col_zero = col_zero[col_zero == 0]\n",
    "\n",
    "print(len(col_zero))"
   ]
  },
  {
   "cell_type": "code",
   "execution_count": 18,
   "metadata": {},
   "outputs": [
    {
     "data": {
      "text/plain": [
       "French Guiana                                   0\n",
       "Guadeloupe                                      0\n",
       "Martinique                                      0\n",
       "Mayotte                                         0\n",
       "Åland Islands                                   0\n",
       "Andorra                                         0\n",
       "Liechtenstein                                   0\n",
       "San Marino                                      0\n",
       "Svalbard and Jan Mayen                          0\n",
       "Vatican City [Holy See (Vatican City State)]    0\n",
       "dtype: object"
      ]
     },
     "execution_count": 18,
     "metadata": {},
     "output_type": "execute_result"
    }
   ],
   "source": [
    "col_zero[:10]"
   ]
  },
  {
   "cell_type": "code",
   "execution_count": 19,
   "metadata": {},
   "outputs": [
    {
     "name": "stdout",
     "output_type": "stream",
     "text": [
      "(165, 170)\n"
     ]
    }
   ],
   "source": [
    "# drop all country columns with zeros\n",
    "anew.drop(list(col_zero.index), axis=1, inplace=True)\n",
    "print(anew.shape)"
   ]
  },
  {
   "cell_type": "code",
   "execution_count": 20,
   "metadata": {},
   "outputs": [
    {
     "data": {
      "text/plain": [
       "Index(['Cyprus not otherwise specified'], dtype='object')"
      ]
     },
     "execution_count": 20,
     "metadata": {},
     "output_type": "execute_result"
    }
   ],
   "source": [
    "anew.columns[anew.columns.str.contains('otherwise')]"
   ]
  },
  {
   "cell_type": "code",
   "execution_count": 21,
   "metadata": {},
   "outputs": [
    {
     "data": {
      "text/plain": [
       "Index(['Cyprus (European Union)', 'Cyprus not otherwise specified',\n",
       "       'Cyprus (Non-European Union)'],\n",
       "      dtype='object')"
      ]
     },
     "execution_count": 21,
     "metadata": {},
     "output_type": "execute_result"
    }
   ],
   "source": [
    "# will want to merge columns with Cyprus\n",
    "cyprus_col = list(anew.columns[anew.columns.str.contains('Cyprus')])\n",
    "anew.columns[anew.columns.str.contains('Cyprus')]"
   ]
  },
  {
   "cell_type": "code",
   "execution_count": 22,
   "metadata": {},
   "outputs": [
    {
     "data": {
      "text/plain": [
       "Cyprus (European Union)           8690\n",
       "Cyprus not otherwise specified     185\n",
       "Cyprus (Non-European Union)         55\n",
       "dtype: int64"
      ]
     },
     "execution_count": 22,
     "metadata": {},
     "output_type": "execute_result"
    }
   ],
   "source": [
    "anew[cyprus_col].sum()"
   ]
  },
  {
   "cell_type": "code",
   "execution_count": 23,
   "metadata": {},
   "outputs": [
    {
     "name": "stdout",
     "output_type": "stream",
     "text": [
      "(165, 168)\n",
      "8930\n"
     ]
    }
   ],
   "source": [
    "anew['Cyprus'] = anew['Cyprus (European Union)'] + \\\n",
    "                    anew['Cyprus not otherwise specified'] + \\\n",
    "                    anew['Cyprus (Non-European Union)']\n",
    "\n",
    "anew.drop(cyprus_col, axis=1, inplace=True)\n",
    "\n",
    "print(anew.shape)\n",
    "print(anew['Cyprus'].sum())"
   ]
  },
  {
   "cell_type": "code",
   "execution_count": 24,
   "metadata": {
    "scrolled": true
   },
   "outputs": [
    {
     "name": "stdout",
     "output_type": "stream",
     "text": [
      "Macedonia [Macedonia, The Former Yugoslav Republic of]\n",
      "Moldova [Moldova, Republic of]\n",
      "Russia [Russian Federation]\n",
      "Congo (Democratic Republic) [Congo (The Democratic Republic of the)]\n",
      "Gambia, The\n",
      "Ivory Coast [Côte D'ivoire]\n",
      "St Helena, Ascension and Tristan da Cunha\n",
      "Tanzania [Tanzania, United Republic of]\n",
      "Burma [Myanmar]\n",
      "Hong Kong (Special Administrative Region of China) [Hong Kong]\n",
      "Korea (South) [Korea, Republic of]\n",
      "Laos [Lao People's Democratic Republic]\n",
      "Macao (Special Administrative Region of China) [Macao]\n",
      "Taiwan [Taiwan, Province of China]\n",
      "Vietnam [Viet Nam]\n",
      "Iran [Iran, Islamic Republic of]\n",
      "Occupied Palestinian Territories [Palestine, State of]\n",
      "Syria [Syrian Arab Republic]\n",
      "Bahamas, The\n",
      "British Virgin Islands [Virgin Islands, British]\n",
      "Falkland Islands [Falkland Islands (Malvinas)]\n",
      "Venezuela [Venezuela, Bolivarian Republic of]\n"
     ]
    }
   ],
   "source": [
    "for i in list(anew.columns):\n",
    "    if i.replace(\" \", \"\").isalpha() == False:\n",
    "        print(i)"
   ]
  },
  {
   "cell_type": "code",
   "execution_count": 25,
   "metadata": {},
   "outputs": [
    {
     "name": "stdout",
     "output_type": "stream",
     "text": [
      "(165, 166)\n"
     ]
    }
   ],
   "source": [
    "anew.rename(columns={\n",
    "    'Macedonia [Macedonia, The Former Yugoslav Republic of]':'Macedonia',\n",
    "    'Moldova [Moldova, Republic of]': 'Moldova',\n",
    "    'Russia [Russian Federation]': 'Russia',\n",
    "    'Congo (Democratic Republic) [Congo (The Democratic Republic of the)]': 'Dem. Rep. Congo',\n",
    "    'Gambia, The': 'Gambia',\n",
    "    \"Ivory Coast [Côte D'ivoire]\": \"Côte d'Ivoire\",\n",
    "    'Tanzania [Tanzania, United Republic of]': 'Tanzania',\n",
    "    'Burma [Myanmar]': 'Myanmar',\n",
    "    'Korea (South) [Korea, Republic of]': 'Korea',\n",
    "    \"Laos [Lao People's Democratic Republic]\": \"Lao PDR\",\n",
    "    'Taiwan [Taiwan, Province of China]': 'Taiwan',\n",
    "    'Vietnam [Viet Nam]': 'Vietnam',\n",
    "    'Iran [Iran, Islamic Republic of]': 'Iran',\n",
    "    'Occupied Palestinian Territories [Palestine, State of]': 'Palestine',\n",
    "    'Syria [Syrian Arab Republic]': 'Syria',\n",
    "    'Bahamas, The': 'Bahamas',\n",
    "    'Falkland Islands [Falkland Islands (Malvinas)]': 'Falkland Is.',\n",
    "    'Venezuela [Venezuela, Bolivarian Republic of]': 'Venezuela'\n",
    "    }, inplace=True)\n",
    "\n",
    "anew.drop([\"St Helena, Ascension and Tristan da Cunha\"], axis=1, inplace=True)\n",
    "anew.drop([\"British Virgin Islands [Virgin Islands, British]\"], axis=1, inplace=True)\n",
    "\n",
    "print(anew.shape)"
   ]
  },
  {
   "cell_type": "code",
   "execution_count": 26,
   "metadata": {},
   "outputs": [
    {
     "name": "stdout",
     "output_type": "stream",
     "text": [
      "Dem. Rep. Congo\n",
      "Côte d'Ivoire\n",
      "Hong Kong (Special Administrative Region of China) [Hong Kong]\n",
      "Macao (Special Administrative Region of China) [Macao]\n",
      "Falkland Is.\n"
     ]
    }
   ],
   "source": [
    "for i in list(anew.columns):\n",
    "    if i.replace(\" \", \"\").isalpha() == False:\n",
    "        print(i)"
   ]
  },
  {
   "cell_type": "code",
   "execution_count": 27,
   "metadata": {},
   "outputs": [
    {
     "name": "stdout",
     "output_type": "stream",
     "text": [
      "101915\n",
      "15755\n",
      "650\n"
     ]
    }
   ],
   "source": [
    "print(anew['China'].sum())\n",
    "print(anew['Hong Kong (Special Administrative Region of China) [Hong Kong]'].sum())\n",
    "print(anew['Macao (Special Administrative Region of China) [Macao]'].sum())"
   ]
  },
  {
   "cell_type": "code",
   "execution_count": 28,
   "metadata": {},
   "outputs": [
    {
     "name": "stdout",
     "output_type": "stream",
     "text": [
      "(165, 164)\n",
      "118320\n"
     ]
    }
   ],
   "source": [
    "anew['China'] = anew['China'] + \\\n",
    "                    anew['Hong Kong (Special Administrative Region of China) [Hong Kong]'] + \\\n",
    "                    anew['Macao (Special Administrative Region of China) [Macao]']\n",
    "\n",
    "anew.drop(['Hong Kong (Special Administrative Region of China) [Hong Kong]',\n",
    "           'Macao (Special Administrative Region of China) [Macao]'], axis=1, inplace=True)\n",
    "\n",
    "print(anew.shape)\n",
    "print(anew['China'].sum())"
   ]
  },
  {
   "cell_type": "code",
   "execution_count": 29,
   "metadata": {},
   "outputs": [
    {
     "name": "stdout",
     "output_type": "stream",
     "text": [
      "36\n"
     ]
    },
    {
     "data": {
      "text/plain": [
       "['Cuba',\n",
       " 'Dominican Rep.',\n",
       " 'Greenland',\n",
       " 'Honduras',\n",
       " 'Haiti',\n",
       " 'Bosnia and Herz.',\n",
       " 'Czech Rep.',\n",
       " 'United Kingdom',\n",
       " 'Fiji',\n",
       " 'New Caledonia',\n",
       " 'Solomon Is.',\n",
       " 'Papua New Guinea',\n",
       " 'Vanuatu',\n",
       " 'Suriname',\n",
       " 'Bhutan',\n",
       " 'N. Cyprus',\n",
       " 'Dem. Rep. Korea',\n",
       " 'Tajikistan',\n",
       " 'Timor-Leste',\n",
       " 'Burundi',\n",
       " 'Burkina Faso',\n",
       " 'Central African Rep.',\n",
       " \"CÃ´te d'Ivoire\",\n",
       " 'Congo',\n",
       " 'Gabon',\n",
       " 'Guinea-Bissau',\n",
       " 'Guinea',\n",
       " 'Eq. Guinea',\n",
       " 'Lesotho',\n",
       " 'Mali',\n",
       " 'Niger',\n",
       " 'S. Sudan',\n",
       " 'W. Sahara',\n",
       " 'Somaliland',\n",
       " 'Chad',\n",
       " 'Togo']"
      ]
     },
     "execution_count": 29,
     "metadata": {},
     "output_type": "execute_result"
    }
   ],
   "source": [
    "# Names in json \n",
    "# Not in HE\n",
    "# These are OK with gray out\n",
    "print(len([item for item in geo_list if item not in list(anew.columns)]))\n",
    "[item for item in geo_list if item not in list(anew.columns)]"
   ]
  },
  {
   "cell_type": "code",
   "execution_count": 30,
   "metadata": {},
   "outputs": [
    {
     "name": "stdout",
     "output_type": "stream",
     "text": [
      "Dominican Rep.\n",
      "Bosnia and Herz.\n",
      "Czech Rep.\n",
      "Solomon Is.\n",
      "N. Cyprus\n",
      "Dem. Rep. Korea\n",
      "Timor-Leste\n",
      "Central African Rep.\n",
      "CÃ´te d'Ivoire\n",
      "Guinea-Bissau\n",
      "Eq. Guinea\n",
      "S. Sudan\n",
      "W. Sahara\n"
     ]
    }
   ],
   "source": [
    "# potential mismatch due to acronyms\n",
    "for i in [item for item in geo_list if item not in list(anew.columns)]:\n",
    "    if i.replace(\" \", \"\").isalpha() == False:\n",
    "        print(i)"
   ]
  },
  {
   "cell_type": "code",
   "execution_count": 31,
   "metadata": {},
   "outputs": [
    {
     "name": "stdout",
     "output_type": "stream",
     "text": [
      "25\n"
     ]
    },
    {
     "data": {
      "text/plain": [
       "['HE Provider',\n",
       " 'Canary Islands',\n",
       " 'Czech Republic',\n",
       " 'Gibraltar',\n",
       " 'Malta',\n",
       " 'Réunion',\n",
       " 'Bosnia and Herzegovina',\n",
       " 'Faroe Islands',\n",
       " 'Monaco',\n",
       " \"Côte d'Ivoire\",\n",
       " 'Mauritius',\n",
       " 'Seychelles',\n",
       " 'South Sudan',\n",
       " 'Maldives',\n",
       " 'Singapore',\n",
       " 'Christmas Island',\n",
       " 'Bahrain',\n",
       " 'Anguilla',\n",
       " 'Antigua and Barbuda',\n",
       " 'Barbados',\n",
       " 'Bermuda',\n",
       " 'Cayman Islands',\n",
       " 'Dominican Republic',\n",
       " 'St Lucia',\n",
       " 'Turks and Caicos Islands']"
      ]
     },
     "execution_count": 31,
     "metadata": {},
     "output_type": "execute_result"
    }
   ],
   "source": [
    "# Names in HE\n",
    "# Not in json\n",
    "print(len([item for item in list(anew.columns) if item not in geo_list]))\n",
    "[item for item in list(anew.columns) if item not in geo_list]"
   ]
  },
  {
   "cell_type": "code",
   "execution_count": 32,
   "metadata": {},
   "outputs": [],
   "source": [
    "anew.rename(columns={\n",
    "    'Czech Republic':'Czech Rep.',\n",
    "    'Bosnia and Herzegovina':'Bosnia and Herz.',\n",
    "    'South Sudan':'S. Sudan',\n",
    "    'Dominican Republic':'Dominican Rep.'\n",
    "    }, inplace=True)\n",
    "\n",
    "anew.drop(['Gibraltar'], axis=1, inplace=True)\n",
    "anew.drop(['Réunion'], axis=1, inplace=True)\n",
    "anew.drop(['Faroe Islands'], axis=1, inplace=True)\n",
    "anew.drop(['Christmas Island'], axis=1, inplace=True)\n",
    "anew.drop(['Anguilla'], axis=1, inplace=True)\n",
    "anew.drop(['Bermuda'], axis=1, inplace=True)\n",
    "anew.drop(['Cayman Islands'], axis=1, inplace=True)\n",
    "anew.drop(['Turks and Caicos Islands'], axis=1, inplace=True)\n",
    "\n",
    "anew['Spain'] = anew['Spain'] + anew['Canary Islands']\n",
    "\n",
    "anew.drop(['Canary Islands'], axis=1, inplace=True)"
   ]
  },
  {
   "cell_type": "code",
   "execution_count": 33,
   "metadata": {},
   "outputs": [
    {
     "name": "stdout",
     "output_type": "stream",
     "text": [
      "12\n"
     ]
    },
    {
     "data": {
      "text/plain": [
       "['HE Provider',\n",
       " 'Malta',\n",
       " 'Monaco',\n",
       " \"Côte d'Ivoire\",\n",
       " 'Mauritius',\n",
       " 'Seychelles',\n",
       " 'Maldives',\n",
       " 'Singapore',\n",
       " 'Bahrain',\n",
       " 'Antigua and Barbuda',\n",
       " 'Barbados',\n",
       " 'St Lucia']"
      ]
     },
     "execution_count": 33,
     "metadata": {},
     "output_type": "execute_result"
    }
   ],
   "source": [
    "print(len([item for item in list(anew.columns) if item not in geo_list]))\n",
    "[item for item in list(anew.columns) if item not in geo_list]"
   ]
  },
  {
   "cell_type": "code",
   "execution_count": 34,
   "metadata": {},
   "outputs": [
    {
     "name": "stdout",
     "output_type": "stream",
     "text": [
      "(165, 155)\n"
     ]
    },
    {
     "data": {
      "text/html": [
       "<div>\n",
       "<style scoped>\n",
       "    .dataframe tbody tr th:only-of-type {\n",
       "        vertical-align: middle;\n",
       "    }\n",
       "\n",
       "    .dataframe tbody tr th {\n",
       "        vertical-align: top;\n",
       "    }\n",
       "\n",
       "    .dataframe thead th {\n",
       "        text-align: right;\n",
       "    }\n",
       "</style>\n",
       "<table border=\"1\" class=\"dataframe\">\n",
       "  <thead>\n",
       "    <tr style=\"text-align: right;\">\n",
       "      <th></th>\n",
       "      <th>HE Provider</th>\n",
       "      <th>Austria</th>\n",
       "      <th>Belgium</th>\n",
       "      <th>Bulgaria</th>\n",
       "      <th>Croatia</th>\n",
       "      <th>Czech Rep.</th>\n",
       "      <th>Denmark</th>\n",
       "      <th>Estonia</th>\n",
       "      <th>Finland</th>\n",
       "      <th>France</th>\n",
       "      <th>...</th>\n",
       "      <th>Chile</th>\n",
       "      <th>Colombia</th>\n",
       "      <th>Ecuador</th>\n",
       "      <th>Falkland Is.</th>\n",
       "      <th>Guyana</th>\n",
       "      <th>Paraguay</th>\n",
       "      <th>Peru</th>\n",
       "      <th>Uruguay</th>\n",
       "      <th>Venezuela</th>\n",
       "      <th>Cyprus</th>\n",
       "    </tr>\n",
       "  </thead>\n",
       "  <tbody>\n",
       "    <tr>\n",
       "      <th>0</th>\n",
       "      <td>The University of Aberdeen</td>\n",
       "      <td>45</td>\n",
       "      <td>55</td>\n",
       "      <td>180</td>\n",
       "      <td>10</td>\n",
       "      <td>100</td>\n",
       "      <td>50</td>\n",
       "      <td>40</td>\n",
       "      <td>295</td>\n",
       "      <td>175</td>\n",
       "      <td>...</td>\n",
       "      <td>0</td>\n",
       "      <td>10</td>\n",
       "      <td>5</td>\n",
       "      <td>0</td>\n",
       "      <td>5</td>\n",
       "      <td>0</td>\n",
       "      <td>5</td>\n",
       "      <td>0</td>\n",
       "      <td>0</td>\n",
       "      <td>50</td>\n",
       "    </tr>\n",
       "    <tr>\n",
       "      <th>1</th>\n",
       "      <td>University of Abertay Dundee</td>\n",
       "      <td>5</td>\n",
       "      <td>5</td>\n",
       "      <td>30</td>\n",
       "      <td>0</td>\n",
       "      <td>15</td>\n",
       "      <td>5</td>\n",
       "      <td>5</td>\n",
       "      <td>25</td>\n",
       "      <td>115</td>\n",
       "      <td>...</td>\n",
       "      <td>0</td>\n",
       "      <td>0</td>\n",
       "      <td>0</td>\n",
       "      <td>0</td>\n",
       "      <td>0</td>\n",
       "      <td>0</td>\n",
       "      <td>0</td>\n",
       "      <td>0</td>\n",
       "      <td>0</td>\n",
       "      <td>10</td>\n",
       "    </tr>\n",
       "  </tbody>\n",
       "</table>\n",
       "<p>2 rows × 155 columns</p>\n",
       "</div>"
      ],
      "text/plain": [
       "                    HE Provider  Austria  Belgium  Bulgaria  Croatia  \\\n",
       "0    The University of Aberdeen       45       55       180       10   \n",
       "1  University of Abertay Dundee        5        5        30        0   \n",
       "\n",
       "   Czech Rep.  Denmark  Estonia  Finland  France  ...  Chile  Colombia  \\\n",
       "0         100       50       40      295     175  ...      0        10   \n",
       "1          15        5        5       25     115  ...      0         0   \n",
       "\n",
       "   Ecuador  Falkland Is.  Guyana  Paraguay  Peru  Uruguay  Venezuela  Cyprus  \n",
       "0        5             0       5         0     5        0          0      50  \n",
       "1        0             0       0         0     0        0          0      10  \n",
       "\n",
       "[2 rows x 155 columns]"
      ]
     },
     "execution_count": 34,
     "metadata": {},
     "output_type": "execute_result"
    }
   ],
   "source": [
    "print(anew.shape)\n",
    "anew.head(2)"
   ]
  },
  {
   "cell_type": "code",
   "execution_count": 35,
   "metadata": {},
   "outputs": [
    {
     "name": "stdout",
     "output_type": "stream",
     "text": [
      "(25410, 4)\n"
     ]
    },
    {
     "data": {
      "text/html": [
       "<div>\n",
       "<style scoped>\n",
       "    .dataframe tbody tr th:only-of-type {\n",
       "        vertical-align: middle;\n",
       "    }\n",
       "\n",
       "    .dataframe tbody tr th {\n",
       "        vertical-align: top;\n",
       "    }\n",
       "\n",
       "    .dataframe thead th {\n",
       "        text-align: right;\n",
       "    }\n",
       "</style>\n",
       "<table border=\"1\" class=\"dataframe\">\n",
       "  <thead>\n",
       "    <tr style=\"text-align: right;\">\n",
       "      <th></th>\n",
       "      <th>School</th>\n",
       "      <th>Country</th>\n",
       "      <th>Num</th>\n",
       "      <th>Rank</th>\n",
       "    </tr>\n",
       "  </thead>\n",
       "  <tbody>\n",
       "    <tr>\n",
       "      <th>0</th>\n",
       "      <td>The University of Aberdeen</td>\n",
       "      <td>Austria</td>\n",
       "      <td>45</td>\n",
       "      <td>22.0</td>\n",
       "    </tr>\n",
       "    <tr>\n",
       "      <th>1</th>\n",
       "      <td>University of Abertay Dundee</td>\n",
       "      <td>Austria</td>\n",
       "      <td>5</td>\n",
       "      <td>9.0</td>\n",
       "    </tr>\n",
       "    <tr>\n",
       "      <th>2</th>\n",
       "      <td>Aberystwyth University</td>\n",
       "      <td>Austria</td>\n",
       "      <td>0</td>\n",
       "      <td>15.0</td>\n",
       "    </tr>\n",
       "    <tr>\n",
       "      <th>3</th>\n",
       "      <td>AECC University College</td>\n",
       "      <td>Austria</td>\n",
       "      <td>0</td>\n",
       "      <td>6.0</td>\n",
       "    </tr>\n",
       "    <tr>\n",
       "      <th>4</th>\n",
       "      <td>Anglia Ruskin University</td>\n",
       "      <td>Austria</td>\n",
       "      <td>10</td>\n",
       "      <td>21.0</td>\n",
       "    </tr>\n",
       "  </tbody>\n",
       "</table>\n",
       "</div>"
      ],
      "text/plain": [
       "                         School  Country  Num  Rank\n",
       "0    The University of Aberdeen  Austria   45  22.0\n",
       "1  University of Abertay Dundee  Austria    5   9.0\n",
       "2        Aberystwyth University  Austria    0  15.0\n",
       "3       AECC University College  Austria    0   6.0\n",
       "4      Anglia Ruskin University  Austria   10  21.0"
      ]
     },
     "execution_count": 35,
     "metadata": {},
     "output_type": "execute_result"
    }
   ],
   "source": [
    "aoutput = anew.melt(id_vars=['HE Provider'],\n",
    "                  var_name='Country',\n",
    "                  value_name='Num')\n",
    "\n",
    "aoutput.rename(columns={'HE Provider':'School'}, inplace=True)\n",
    "\n",
    "aoutput['Rank'] = aoutput.groupby('School')['Num'].rank(ascending=False, method='dense')\n",
    "\n",
    "print(aoutput.shape)\n",
    "aoutput.head()"
   ]
  },
  {
   "cell_type": "code",
   "execution_count": 36,
   "metadata": {},
   "outputs": [
    {
     "name": "stdout",
     "output_type": "stream",
     "text": [
      "154\n"
     ]
    },
    {
     "data": {
      "text/html": [
       "<div>\n",
       "<style scoped>\n",
       "    .dataframe tbody tr th:only-of-type {\n",
       "        vertical-align: middle;\n",
       "    }\n",
       "\n",
       "    .dataframe tbody tr th {\n",
       "        vertical-align: top;\n",
       "    }\n",
       "\n",
       "    .dataframe thead th {\n",
       "        text-align: right;\n",
       "    }\n",
       "</style>\n",
       "<table border=\"1\" class=\"dataframe\">\n",
       "  <thead>\n",
       "    <tr style=\"text-align: right;\">\n",
       "      <th></th>\n",
       "      <th>School</th>\n",
       "      <th>Country</th>\n",
       "      <th>Num</th>\n",
       "      <th>Rank</th>\n",
       "    </tr>\n",
       "  </thead>\n",
       "  <tbody>\n",
       "    <tr>\n",
       "      <th>0</th>\n",
       "      <td>The University of Aberdeen</td>\n",
       "      <td>Austria</td>\n",
       "      <td>45</td>\n",
       "      <td>22.0</td>\n",
       "    </tr>\n",
       "    <tr>\n",
       "      <th>165</th>\n",
       "      <td>The University of Aberdeen</td>\n",
       "      <td>Belgium</td>\n",
       "      <td>55</td>\n",
       "      <td>20.0</td>\n",
       "    </tr>\n",
       "    <tr>\n",
       "      <th>330</th>\n",
       "      <td>The University of Aberdeen</td>\n",
       "      <td>Bulgaria</td>\n",
       "      <td>180</td>\n",
       "      <td>6.0</td>\n",
       "    </tr>\n",
       "    <tr>\n",
       "      <th>495</th>\n",
       "      <td>The University of Aberdeen</td>\n",
       "      <td>Croatia</td>\n",
       "      <td>10</td>\n",
       "      <td>29.0</td>\n",
       "    </tr>\n",
       "    <tr>\n",
       "      <th>660</th>\n",
       "      <td>The University of Aberdeen</td>\n",
       "      <td>Czech Rep.</td>\n",
       "      <td>100</td>\n",
       "      <td>12.0</td>\n",
       "    </tr>\n",
       "  </tbody>\n",
       "</table>\n",
       "</div>"
      ],
      "text/plain": [
       "                         School     Country  Num  Rank\n",
       "0    The University of Aberdeen     Austria   45  22.0\n",
       "165  The University of Aberdeen     Belgium   55  20.0\n",
       "330  The University of Aberdeen    Bulgaria  180   6.0\n",
       "495  The University of Aberdeen     Croatia   10  29.0\n",
       "660  The University of Aberdeen  Czech Rep.  100  12.0"
      ]
     },
     "execution_count": 36,
     "metadata": {},
     "output_type": "execute_result"
    }
   ],
   "source": [
    "print(len(aoutput[aoutput.School == \"The University of Aberdeen\"]))\n",
    "aoutput[aoutput.School == \"The University of Aberdeen\"].head()"
   ]
  },
  {
   "cell_type": "code",
   "execution_count": 37,
   "metadata": {},
   "outputs": [
    {
     "name": "stdout",
     "output_type": "stream",
     "text": [
      "1.0\n",
      "31.0\n"
     ]
    }
   ],
   "source": [
    "print(aoutput[aoutput.School == 'The University of Aberdeen']['Rank'].min())\n",
    "print(aoutput[aoutput.School == 'The University of Aberdeen']['Rank'].max())"
   ]
  },
  {
   "cell_type": "code",
   "execution_count": 38,
   "metadata": {},
   "outputs": [
    {
     "name": "stdout",
     "output_type": "stream",
     "text": [
      "                           School Country  Num  Rank\n",
      "14355  The University of Aberdeen   China  345   1.0\n",
      "                          School  Country  Num  Rank\n",
      "4290  The University of Aberdeen  Albania    0  31.0\n",
      "4455  The University of Aberdeen  Armenia    0  31.0\n",
      "4785  The University of Aberdeen  Belarus    0  31.0\n"
     ]
    }
   ],
   "source": [
    "print(aoutput[(aoutput.School == 'The University of Aberdeen') & (aoutput.Rank == aoutput.Rank.min())])\n",
    "print(aoutput[(aoutput.School == 'The University of Aberdeen') & (aoutput.Rank == 31.0)][:3])"
   ]
  },
  {
   "cell_type": "code",
   "execution_count": 39,
   "metadata": {},
   "outputs": [
    {
     "name": "stdout",
     "output_type": "stream",
     "text": [
      "154\n"
     ]
    },
    {
     "data": {
      "text/html": [
       "<div>\n",
       "<style scoped>\n",
       "    .dataframe tbody tr th:only-of-type {\n",
       "        vertical-align: middle;\n",
       "    }\n",
       "\n",
       "    .dataframe tbody tr th {\n",
       "        vertical-align: top;\n",
       "    }\n",
       "\n",
       "    .dataframe thead th {\n",
       "        text-align: right;\n",
       "    }\n",
       "</style>\n",
       "<table border=\"1\" class=\"dataframe\">\n",
       "  <thead>\n",
       "    <tr style=\"text-align: right;\">\n",
       "      <th></th>\n",
       "      <th>School</th>\n",
       "      <th>Country</th>\n",
       "      <th>Num</th>\n",
       "      <th>Rank</th>\n",
       "    </tr>\n",
       "  </thead>\n",
       "  <tbody>\n",
       "    <tr>\n",
       "      <th>161</th>\n",
       "      <td>University of Worcester</td>\n",
       "      <td>Austria</td>\n",
       "      <td>0</td>\n",
       "      <td>10.0</td>\n",
       "    </tr>\n",
       "    <tr>\n",
       "      <th>326</th>\n",
       "      <td>University of Worcester</td>\n",
       "      <td>Belgium</td>\n",
       "      <td>20</td>\n",
       "      <td>6.0</td>\n",
       "    </tr>\n",
       "    <tr>\n",
       "      <th>491</th>\n",
       "      <td>University of Worcester</td>\n",
       "      <td>Bulgaria</td>\n",
       "      <td>35</td>\n",
       "      <td>3.0</td>\n",
       "    </tr>\n",
       "    <tr>\n",
       "      <th>656</th>\n",
       "      <td>University of Worcester</td>\n",
       "      <td>Croatia</td>\n",
       "      <td>15</td>\n",
       "      <td>7.0</td>\n",
       "    </tr>\n",
       "    <tr>\n",
       "      <th>821</th>\n",
       "      <td>University of Worcester</td>\n",
       "      <td>Czech Rep.</td>\n",
       "      <td>85</td>\n",
       "      <td>1.0</td>\n",
       "    </tr>\n",
       "  </tbody>\n",
       "</table>\n",
       "</div>"
      ],
      "text/plain": [
       "                      School     Country  Num  Rank\n",
       "161  University of Worcester     Austria    0  10.0\n",
       "326  University of Worcester     Belgium   20   6.0\n",
       "491  University of Worcester    Bulgaria   35   3.0\n",
       "656  University of Worcester     Croatia   15   7.0\n",
       "821  University of Worcester  Czech Rep.   85   1.0"
      ]
     },
     "execution_count": 39,
     "metadata": {},
     "output_type": "execute_result"
    }
   ],
   "source": [
    "print(len(aoutput[aoutput.School == \"University of Worcester\"]))\n",
    "aoutput[aoutput.School == \"University of Worcester\"].head()"
   ]
  },
  {
   "cell_type": "code",
   "execution_count": 40,
   "metadata": {},
   "outputs": [
    {
     "name": "stdout",
     "output_type": "stream",
     "text": [
      "1.0\n",
      "10.0\n"
     ]
    }
   ],
   "source": [
    "print(aoutput[aoutput.School == 'University of Worcester']['Rank'].min())\n",
    "print(aoutput[aoutput.School == 'University of Worcester']['Rank'].max())"
   ]
  },
  {
   "cell_type": "code",
   "execution_count": 41,
   "metadata": {},
   "outputs": [
    {
     "name": "stdout",
     "output_type": "stream",
     "text": [
      "                      School     Country  Num  Rank\n",
      "821  University of Worcester  Czech Rep.   85   1.0\n",
      "                       School  Country  Num  Rank\n",
      "161   University of Worcester  Austria    0  10.0\n",
      "986   University of Worcester  Denmark    0  10.0\n",
      "1811  University of Worcester   Greece    0  10.0\n"
     ]
    }
   ],
   "source": [
    "print(aoutput[(aoutput.School == 'University of Worcester') & (aoutput.Rank == aoutput.Rank.min())])\n",
    "print(aoutput[(aoutput.School == 'University of Worcester') & (aoutput.Rank == 10.0)][:3])"
   ]
  },
  {
   "cell_type": "code",
   "execution_count": 42,
   "metadata": {},
   "outputs": [],
   "source": [
    "# aoutput.to_csv('he_map_output.csv')"
   ]
  },
  {
   "cell_type": "code",
   "execution_count": 43,
   "metadata": {},
   "outputs": [
    {
     "name": "stdout",
     "output_type": "stream",
     "text": [
      "(8999, 4)\n"
     ]
    },
    {
     "data": {
      "text/html": [
       "<div>\n",
       "<style scoped>\n",
       "    .dataframe tbody tr th:only-of-type {\n",
       "        vertical-align: middle;\n",
       "    }\n",
       "\n",
       "    .dataframe tbody tr th {\n",
       "        vertical-align: top;\n",
       "    }\n",
       "\n",
       "    .dataframe thead th {\n",
       "        text-align: right;\n",
       "    }\n",
       "</style>\n",
       "<table border=\"1\" class=\"dataframe\">\n",
       "  <thead>\n",
       "    <tr style=\"text-align: right;\">\n",
       "      <th></th>\n",
       "      <th>School</th>\n",
       "      <th>Country of Origin</th>\n",
       "      <th># of Students</th>\n",
       "      <th>Rank</th>\n",
       "    </tr>\n",
       "  </thead>\n",
       "  <tbody>\n",
       "    <tr>\n",
       "      <th>0</th>\n",
       "      <td>The University of Aberdeen</td>\n",
       "      <td>Austria</td>\n",
       "      <td>45</td>\n",
       "      <td>9.0</td>\n",
       "    </tr>\n",
       "    <tr>\n",
       "      <th>1</th>\n",
       "      <td>University of Abertay Dundee</td>\n",
       "      <td>Austria</td>\n",
       "      <td>5</td>\n",
       "      <td>1.0</td>\n",
       "    </tr>\n",
       "    <tr>\n",
       "      <th>4</th>\n",
       "      <td>Anglia Ruskin University</td>\n",
       "      <td>Austria</td>\n",
       "      <td>10</td>\n",
       "      <td>2.0</td>\n",
       "    </tr>\n",
       "    <tr>\n",
       "      <th>5</th>\n",
       "      <td>Aston University</td>\n",
       "      <td>Austria</td>\n",
       "      <td>10</td>\n",
       "      <td>2.0</td>\n",
       "    </tr>\n",
       "    <tr>\n",
       "      <th>6</th>\n",
       "      <td>Bangor University</td>\n",
       "      <td>Austria</td>\n",
       "      <td>5</td>\n",
       "      <td>1.0</td>\n",
       "    </tr>\n",
       "  </tbody>\n",
       "</table>\n",
       "</div>"
      ],
      "text/plain": [
       "                         School Country of Origin  # of Students  Rank\n",
       "0    The University of Aberdeen           Austria             45   9.0\n",
       "1  University of Abertay Dundee           Austria              5   1.0\n",
       "4      Anglia Ruskin University           Austria             10   2.0\n",
       "5              Aston University           Austria             10   2.0\n",
       "6             Bangor University           Austria              5   1.0"
      ]
     },
     "execution_count": 43,
     "metadata": {},
     "output_type": "execute_result"
    }
   ],
   "source": [
    "alean = anew.melt(id_vars=['HE Provider'],\n",
    "                  var_name='Country',\n",
    "                  value_name='Num')\n",
    "\n",
    "\n",
    "alean.rename(columns={'HE Provider':'School',\n",
    "                      'Country': 'Country of Origin',\n",
    "                      'Num': '# of Students'}, inplace=True)\n",
    "\n",
    "alean = alean[alean['# of Students'] != 0]\n",
    "\n",
    "alean['Rank'] = alean.groupby('School')['# of Students'].rank(ascending=True, method='dense')\n",
    "\n",
    "print(alean.shape)\n",
    "alean.head()"
   ]
  },
  {
   "cell_type": "code",
   "execution_count": 44,
   "metadata": {},
   "outputs": [
    {
     "data": {
      "text/html": [
       "<div>\n",
       "<style scoped>\n",
       "    .dataframe tbody tr th:only-of-type {\n",
       "        vertical-align: middle;\n",
       "    }\n",
       "\n",
       "    .dataframe tbody tr th {\n",
       "        vertical-align: top;\n",
       "    }\n",
       "\n",
       "    .dataframe thead th {\n",
       "        text-align: right;\n",
       "    }\n",
       "</style>\n",
       "<table border=\"1\" class=\"dataframe\">\n",
       "  <thead>\n",
       "    <tr style=\"text-align: right;\">\n",
       "      <th></th>\n",
       "      <th>School</th>\n",
       "      <th>Country of Origin</th>\n",
       "      <th># of Students</th>\n",
       "      <th>Rank</th>\n",
       "    </tr>\n",
       "  </thead>\n",
       "  <tbody>\n",
       "    <tr>\n",
       "      <th>6</th>\n",
       "      <td>Bangor University</td>\n",
       "      <td>Austria</td>\n",
       "      <td>5</td>\n",
       "      <td>1.0</td>\n",
       "    </tr>\n",
       "    <tr>\n",
       "      <th>171</th>\n",
       "      <td>Bangor University</td>\n",
       "      <td>Belgium</td>\n",
       "      <td>5</td>\n",
       "      <td>1.0</td>\n",
       "    </tr>\n",
       "    <tr>\n",
       "      <th>336</th>\n",
       "      <td>Bangor University</td>\n",
       "      <td>Bulgaria</td>\n",
       "      <td>15</td>\n",
       "      <td>3.0</td>\n",
       "    </tr>\n",
       "    <tr>\n",
       "      <th>501</th>\n",
       "      <td>Bangor University</td>\n",
       "      <td>Croatia</td>\n",
       "      <td>5</td>\n",
       "      <td>1.0</td>\n",
       "    </tr>\n",
       "    <tr>\n",
       "      <th>666</th>\n",
       "      <td>Bangor University</td>\n",
       "      <td>Czech Rep.</td>\n",
       "      <td>10</td>\n",
       "      <td>2.0</td>\n",
       "    </tr>\n",
       "  </tbody>\n",
       "</table>\n",
       "</div>"
      ],
      "text/plain": [
       "                School Country of Origin  # of Students  Rank\n",
       "6    Bangor University           Austria              5   1.0\n",
       "171  Bangor University           Belgium              5   1.0\n",
       "336  Bangor University          Bulgaria             15   3.0\n",
       "501  Bangor University           Croatia              5   1.0\n",
       "666  Bangor University        Czech Rep.             10   2.0"
      ]
     },
     "execution_count": 44,
     "metadata": {},
     "output_type": "execute_result"
    }
   ],
   "source": [
    "alean[alean.School == 'Bangor University'].head()"
   ]
  },
  {
   "cell_type": "code",
   "execution_count": 45,
   "metadata": {},
   "outputs": [
    {
     "name": "stdout",
     "output_type": "stream",
     "text": [
      "(261, 13)\n"
     ]
    },
    {
     "data": {
      "text/html": [
       "<div>\n",
       "<style scoped>\n",
       "    .dataframe tbody tr th:only-of-type {\n",
       "        vertical-align: middle;\n",
       "    }\n",
       "\n",
       "    .dataframe tbody tr th {\n",
       "        vertical-align: top;\n",
       "    }\n",
       "\n",
       "    .dataframe thead th {\n",
       "        text-align: right;\n",
       "    }\n",
       "</style>\n",
       "<table border=\"1\" class=\"dataframe\">\n",
       "  <thead>\n",
       "    <tr style=\"text-align: right;\">\n",
       "      <th></th>\n",
       "      <th>UKPRN</th>\n",
       "      <th>Provider</th>\n",
       "      <th>England</th>\n",
       "      <th>Wales</th>\n",
       "      <th>Scotland</th>\n",
       "      <th>Northern Ireland</th>\n",
       "      <th>Other UK</th>\n",
       "      <th>Total UK</th>\n",
       "      <th>Other European Union</th>\n",
       "      <th>Non-European Union</th>\n",
       "      <th>Total Non-UK</th>\n",
       "      <th>Not known</th>\n",
       "      <th>Total</th>\n",
       "    </tr>\n",
       "  </thead>\n",
       "  <tbody>\n",
       "    <tr>\n",
       "      <th>0</th>\n",
       "      <td>10008071.0</td>\n",
       "      <td>AA School of Architecture</td>\n",
       "      <td>90</td>\n",
       "      <td>0</td>\n",
       "      <td>0</td>\n",
       "      <td>0</td>\n",
       "      <td>0</td>\n",
       "      <td>90</td>\n",
       "      <td>125</td>\n",
       "      <td>470</td>\n",
       "      <td>595</td>\n",
       "      <td>0</td>\n",
       "      <td>685</td>\n",
       "    </tr>\n",
       "    <tr>\n",
       "      <th>1</th>\n",
       "      <td>10007783.0</td>\n",
       "      <td>The University of Aberdeen</td>\n",
       "      <td>1245</td>\n",
       "      <td>30</td>\n",
       "      <td>6310</td>\n",
       "      <td>165</td>\n",
       "      <td>10</td>\n",
       "      <td>7755</td>\n",
       "      <td>2820</td>\n",
       "      <td>1845</td>\n",
       "      <td>4670</td>\n",
       "      <td>0</td>\n",
       "      <td>12425</td>\n",
       "    </tr>\n",
       "  </tbody>\n",
       "</table>\n",
       "</div>"
      ],
      "text/plain": [
       "        UKPRN                    Provider  England  Wales  Scotland  \\\n",
       "0  10008071.0   AA School of Architecture       90      0         0   \n",
       "1  10007783.0  The University of Aberdeen     1245     30      6310   \n",
       "\n",
       "   Northern Ireland  Other UK  Total UK  Other European Union  \\\n",
       "0                 0         0        90                   125   \n",
       "1               165        10      7755                  2820   \n",
       "\n",
       "   Non-European Union  Total Non-UK  Not known  Total  \n",
       "0                 470           595          0    685  \n",
       "1                1845          4670          0  12425  "
      ]
     },
     "execution_count": 45,
     "metadata": {},
     "output_type": "execute_result"
    }
   ],
   "source": [
    "enrol = pd.read_csv('he_enrolment.csv', skiprows=14, thousands=',')\n",
    "\n",
    "print(enrol.shape)\n",
    "enrol.head(2)"
   ]
  },
  {
   "cell_type": "code",
   "execution_count": 46,
   "metadata": {},
   "outputs": [
    {
     "data": {
      "text/html": [
       "<div>\n",
       "<style scoped>\n",
       "    .dataframe tbody tr th:only-of-type {\n",
       "        vertical-align: middle;\n",
       "    }\n",
       "\n",
       "    .dataframe tbody tr th {\n",
       "        vertical-align: top;\n",
       "    }\n",
       "\n",
       "    .dataframe thead th {\n",
       "        text-align: right;\n",
       "    }\n",
       "</style>\n",
       "<table border=\"1\" class=\"dataframe\">\n",
       "  <thead>\n",
       "    <tr style=\"text-align: right;\">\n",
       "      <th></th>\n",
       "      <th>School</th>\n",
       "      <th>Student Total</th>\n",
       "    </tr>\n",
       "  </thead>\n",
       "  <tbody>\n",
       "    <tr>\n",
       "      <th>0</th>\n",
       "      <td>AA School of Architecture</td>\n",
       "      <td>685</td>\n",
       "    </tr>\n",
       "    <tr>\n",
       "      <th>1</th>\n",
       "      <td>The University of Aberdeen</td>\n",
       "      <td>12425</td>\n",
       "    </tr>\n",
       "  </tbody>\n",
       "</table>\n",
       "</div>"
      ],
      "text/plain": [
       "                       School  Student Total\n",
       "0   AA School of Architecture            685\n",
       "1  The University of Aberdeen          12425"
      ]
     },
     "execution_count": 46,
     "metadata": {},
     "output_type": "execute_result"
    }
   ],
   "source": [
    "enrol = enrol[['Provider', 'Total']]\n",
    "\n",
    "enrol.rename(columns={'Provider': 'School', 'Total': 'Student Total'}, inplace=True)\n",
    "\n",
    "enrol.head(2)"
   ]
  },
  {
   "cell_type": "code",
   "execution_count": 47,
   "metadata": {},
   "outputs": [
    {
     "name": "stdout",
     "output_type": "stream",
     "text": [
      "(8999, 4)\n",
      "(8999, 5)\n"
     ]
    },
    {
     "data": {
      "text/html": [
       "<div>\n",
       "<style scoped>\n",
       "    .dataframe tbody tr th:only-of-type {\n",
       "        vertical-align: middle;\n",
       "    }\n",
       "\n",
       "    .dataframe tbody tr th {\n",
       "        vertical-align: top;\n",
       "    }\n",
       "\n",
       "    .dataframe thead th {\n",
       "        text-align: right;\n",
       "    }\n",
       "</style>\n",
       "<table border=\"1\" class=\"dataframe\">\n",
       "  <thead>\n",
       "    <tr style=\"text-align: right;\">\n",
       "      <th></th>\n",
       "      <th>School</th>\n",
       "      <th>Country of Origin</th>\n",
       "      <th># of Students</th>\n",
       "      <th>Rank</th>\n",
       "      <th>Student Total</th>\n",
       "    </tr>\n",
       "  </thead>\n",
       "  <tbody>\n",
       "    <tr>\n",
       "      <th>0</th>\n",
       "      <td>The University of Aberdeen</td>\n",
       "      <td>Austria</td>\n",
       "      <td>45</td>\n",
       "      <td>9.0</td>\n",
       "      <td>12425</td>\n",
       "    </tr>\n",
       "    <tr>\n",
       "      <th>1</th>\n",
       "      <td>The University of Aberdeen</td>\n",
       "      <td>Belgium</td>\n",
       "      <td>55</td>\n",
       "      <td>11.0</td>\n",
       "      <td>12425</td>\n",
       "    </tr>\n",
       "  </tbody>\n",
       "</table>\n",
       "</div>"
      ],
      "text/plain": [
       "                       School Country of Origin  # of Students  Rank  \\\n",
       "0  The University of Aberdeen           Austria             45   9.0   \n",
       "1  The University of Aberdeen           Belgium             55  11.0   \n",
       "\n",
       "   Student Total  \n",
       "0          12425  \n",
       "1          12425  "
      ]
     },
     "execution_count": 47,
     "metadata": {},
     "output_type": "execute_result"
    }
   ],
   "source": [
    "print(alean.shape)\n",
    "\n",
    "alean = pd.merge(alean, enrol, on='School')\n",
    "print(alean.shape)\n",
    "alean.head(2)"
   ]
  },
  {
   "cell_type": "code",
   "execution_count": 48,
   "metadata": {},
   "outputs": [
    {
     "data": {
      "text/html": [
       "<div>\n",
       "<style scoped>\n",
       "    .dataframe tbody tr th:only-of-type {\n",
       "        vertical-align: middle;\n",
       "    }\n",
       "\n",
       "    .dataframe tbody tr th {\n",
       "        vertical-align: top;\n",
       "    }\n",
       "\n",
       "    .dataframe thead th {\n",
       "        text-align: right;\n",
       "    }\n",
       "</style>\n",
       "<table border=\"1\" class=\"dataframe\">\n",
       "  <thead>\n",
       "    <tr style=\"text-align: right;\">\n",
       "      <th></th>\n",
       "      <th>School</th>\n",
       "      <th>Country of Origin</th>\n",
       "      <th># of Students</th>\n",
       "      <th>Rank</th>\n",
       "      <th>Student Total</th>\n",
       "      <th>Perc</th>\n",
       "    </tr>\n",
       "  </thead>\n",
       "  <tbody>\n",
       "    <tr>\n",
       "      <th>0</th>\n",
       "      <td>The University of Aberdeen</td>\n",
       "      <td>Austria</td>\n",
       "      <td>45</td>\n",
       "      <td>9.0</td>\n",
       "      <td>12425</td>\n",
       "      <td>0.0036</td>\n",
       "    </tr>\n",
       "    <tr>\n",
       "      <th>1</th>\n",
       "      <td>The University of Aberdeen</td>\n",
       "      <td>Belgium</td>\n",
       "      <td>55</td>\n",
       "      <td>11.0</td>\n",
       "      <td>12425</td>\n",
       "      <td>0.0044</td>\n",
       "    </tr>\n",
       "  </tbody>\n",
       "</table>\n",
       "</div>"
      ],
      "text/plain": [
       "                       School Country of Origin  # of Students  Rank  \\\n",
       "0  The University of Aberdeen           Austria             45   9.0   \n",
       "1  The University of Aberdeen           Belgium             55  11.0   \n",
       "\n",
       "   Student Total    Perc  \n",
       "0          12425  0.0036  \n",
       "1          12425  0.0044  "
      ]
     },
     "execution_count": 48,
     "metadata": {},
     "output_type": "execute_result"
    }
   ],
   "source": [
    "alean['Perc'] = alean['# of Students'] / alean['Student Total']\n",
    "alean['Perc'] = round(alean['Perc'], 4)\n",
    "\n",
    "alean.head(2)"
   ]
  },
  {
   "cell_type": "code",
   "execution_count": 49,
   "metadata": {},
   "outputs": [
    {
     "data": {
      "text/html": [
       "<div>\n",
       "<style scoped>\n",
       "    .dataframe tbody tr th:only-of-type {\n",
       "        vertical-align: middle;\n",
       "    }\n",
       "\n",
       "    .dataframe tbody tr th {\n",
       "        vertical-align: top;\n",
       "    }\n",
       "\n",
       "    .dataframe thead th {\n",
       "        text-align: right;\n",
       "    }\n",
       "</style>\n",
       "<table border=\"1\" class=\"dataframe\">\n",
       "  <thead>\n",
       "    <tr style=\"text-align: right;\">\n",
       "      <th></th>\n",
       "      <th>School</th>\n",
       "      <th>Country of Origin</th>\n",
       "      <th># of Students</th>\n",
       "      <th>Rank</th>\n",
       "      <th>Student Total</th>\n",
       "      <th>Perc</th>\n",
       "    </tr>\n",
       "  </thead>\n",
       "  <tbody>\n",
       "    <tr>\n",
       "      <th>3783</th>\n",
       "      <td>The University of Liverpool</td>\n",
       "      <td>China</td>\n",
       "      <td>4940</td>\n",
       "      <td>20.0</td>\n",
       "      <td>25370</td>\n",
       "      <td>0.1947</td>\n",
       "    </tr>\n",
       "  </tbody>\n",
       "</table>\n",
       "</div>"
      ],
      "text/plain": [
       "                           School Country of Origin  # of Students  Rank  \\\n",
       "3783  The University of Liverpool             China           4940  20.0   \n",
       "\n",
       "      Student Total    Perc  \n",
       "3783          25370  0.1947  "
      ]
     },
     "execution_count": 49,
     "metadata": {},
     "output_type": "execute_result"
    }
   ],
   "source": [
    "alean[alean.Perc == alean.Perc.max()]"
   ]
  },
  {
   "cell_type": "code",
   "execution_count": 50,
   "metadata": {},
   "outputs": [],
   "source": [
    "def perc_text(x):\n",
    "    return \"{}%\".format(round(x*100, 2))"
   ]
  },
  {
   "cell_type": "code",
   "execution_count": 51,
   "metadata": {},
   "outputs": [
    {
     "name": "stdout",
     "output_type": "stream",
     "text": [
      "(8999, 6)\n"
     ]
    },
    {
     "data": {
      "text/html": [
       "<div>\n",
       "<style scoped>\n",
       "    .dataframe tbody tr th:only-of-type {\n",
       "        vertical-align: middle;\n",
       "    }\n",
       "\n",
       "    .dataframe tbody tr th {\n",
       "        vertical-align: top;\n",
       "    }\n",
       "\n",
       "    .dataframe thead th {\n",
       "        text-align: right;\n",
       "    }\n",
       "</style>\n",
       "<table border=\"1\" class=\"dataframe\">\n",
       "  <thead>\n",
       "    <tr style=\"text-align: right;\">\n",
       "      <th></th>\n",
       "      <th>School</th>\n",
       "      <th>Country of Origin</th>\n",
       "      <th># of Students</th>\n",
       "      <th>% of Student Body</th>\n",
       "      <th>Rank</th>\n",
       "      <th>Student Total</th>\n",
       "    </tr>\n",
       "  </thead>\n",
       "  <tbody>\n",
       "    <tr>\n",
       "      <th>0</th>\n",
       "      <td>The University of Aberdeen</td>\n",
       "      <td>Austria</td>\n",
       "      <td>45</td>\n",
       "      <td>0.36%</td>\n",
       "      <td>9.0</td>\n",
       "      <td>12425</td>\n",
       "    </tr>\n",
       "    <tr>\n",
       "      <th>1</th>\n",
       "      <td>The University of Aberdeen</td>\n",
       "      <td>Belgium</td>\n",
       "      <td>55</td>\n",
       "      <td>0.44%</td>\n",
       "      <td>11.0</td>\n",
       "      <td>12425</td>\n",
       "    </tr>\n",
       "    <tr>\n",
       "      <th>2</th>\n",
       "      <td>The University of Aberdeen</td>\n",
       "      <td>Bulgaria</td>\n",
       "      <td>180</td>\n",
       "      <td>1.45%</td>\n",
       "      <td>25.0</td>\n",
       "      <td>12425</td>\n",
       "    </tr>\n",
       "    <tr>\n",
       "      <th>3</th>\n",
       "      <td>The University of Aberdeen</td>\n",
       "      <td>Croatia</td>\n",
       "      <td>10</td>\n",
       "      <td>0.08%</td>\n",
       "      <td>2.0</td>\n",
       "      <td>12425</td>\n",
       "    </tr>\n",
       "    <tr>\n",
       "      <th>4</th>\n",
       "      <td>The University of Aberdeen</td>\n",
       "      <td>Czech Rep.</td>\n",
       "      <td>100</td>\n",
       "      <td>0.8%</td>\n",
       "      <td>19.0</td>\n",
       "      <td>12425</td>\n",
       "    </tr>\n",
       "  </tbody>\n",
       "</table>\n",
       "</div>"
      ],
      "text/plain": [
       "                       School Country of Origin  # of Students  \\\n",
       "0  The University of Aberdeen           Austria             45   \n",
       "1  The University of Aberdeen           Belgium             55   \n",
       "2  The University of Aberdeen          Bulgaria            180   \n",
       "3  The University of Aberdeen           Croatia             10   \n",
       "4  The University of Aberdeen        Czech Rep.            100   \n",
       "\n",
       "  % of Student Body  Rank  Student Total  \n",
       "0             0.36%   9.0          12425  \n",
       "1             0.44%  11.0          12425  \n",
       "2             1.45%  25.0          12425  \n",
       "3             0.08%   2.0          12425  \n",
       "4              0.8%  19.0          12425  "
      ]
     },
     "execution_count": 51,
     "metadata": {},
     "output_type": "execute_result"
    }
   ],
   "source": [
    "alean['% of Student Body'] = alean['Perc'].apply(perc_text)\n",
    "alean = alean[['School', 'Country of Origin', '# of Students', '% of Student Body', 'Rank', 'Student Total']]\n",
    "\n",
    "print(alean.shape)\n",
    "alean.head()"
   ]
  },
  {
   "cell_type": "code",
   "execution_count": 53,
   "metadata": {},
   "outputs": [],
   "source": [
    "# alean.to_csv('he_map_lean_final.csv')"
   ]
  },
  {
   "cell_type": "code",
   "execution_count": null,
   "metadata": {},
   "outputs": [],
   "source": []
  }
 ],
 "metadata": {
  "kernelspec": {
   "display_name": "Python 3",
   "language": "python",
   "name": "python3"
  },
  "language_info": {
   "codemirror_mode": {
    "name": "ipython",
    "version": 3
   },
   "file_extension": ".py",
   "mimetype": "text/x-python",
   "name": "python",
   "nbconvert_exporter": "python",
   "pygments_lexer": "ipython3",
   "version": "3.7.3"
  }
 },
 "nbformat": 4,
 "nbformat_minor": 2
}
