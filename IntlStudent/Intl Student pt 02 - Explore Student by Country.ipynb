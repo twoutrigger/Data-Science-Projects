{
 "cells": [
  {
   "cell_type": "code",
   "execution_count": 91,
   "metadata": {},
   "outputs": [],
   "source": [
    "import numpy as np\n",
    "import pandas as pd\n",
    "import matplotlib.pyplot as plt\n",
    "import seaborn as sns\n",
    "from pandas import pivot_table\n",
    "import json\n",
    "from statistics import median"
   ]
  },
  {
   "cell_type": "code",
   "execution_count": null,
   "metadata": {},
   "outputs": [],
   "source": [
    "### Build dataset for Student By Country visualisation"
   ]
  },
  {
   "cell_type": "code",
   "execution_count": 2,
   "metadata": {},
   "outputs": [],
   "source": [
    "oeu = pd.read_csv('he_map_eu.csv', skiprows=14, thousands=',')\n",
    "ooe = pd.read_csv('he_map_oe.csv', skiprows=14, thousands=',')\n",
    "oaf = pd.read_csv('he_map_af.csv', skiprows=14, thousands=',')\n",
    "oas = pd.read_csv('he_map_as.csv', skiprows=14, thousands=',')\n",
    "oau = pd.read_csv('he_map_au.csv', skiprows=14, thousands=',')\n",
    "ome = pd.read_csv('he_map_me.csv', skiprows=14, thousands=',')\n",
    "ona = pd.read_csv('he_map_na.csv', skiprows=14, thousands=',')\n",
    "osa = pd.read_csv('he_map_sa.csv', skiprows=14, thousands=',')"
   ]
  },
  {
   "cell_type": "code",
   "execution_count": 3,
   "metadata": {},
   "outputs": [
    {
     "name": "stdout",
     "output_type": "stream",
     "text": [
      "(166, 41)\n",
      "(166, 30)\n",
      "(166, 61)\n",
      "(166, 37)\n",
      "(166, 32)\n",
      "(166, 19)\n",
      "(166, 45)\n",
      "(166, 18)\n"
     ]
    }
   ],
   "source": [
    "aeu = oeu.copy()\n",
    "aoe = ooe.copy()\n",
    "aaf = oaf.copy()\n",
    "aas = oas.copy()\n",
    "aau = oau.copy()\n",
    "ame = ome.copy()\n",
    "ana = ona.copy()\n",
    "asa = osa.copy()\n",
    "\n",
    "aeu = aeu.apply(pd.to_numeric, errors='ignore')\n",
    "aoe = aoe.apply(pd.to_numeric, errors='ignore')\n",
    "aaf = aaf.apply(pd.to_numeric, errors='ignore')\n",
    "aas = aas.apply(pd.to_numeric, errors='ignore')\n",
    "aau = aau.apply(pd.to_numeric, errors='ignore')\n",
    "ame = ame.apply(pd.to_numeric, errors='ignore')\n",
    "ana = ana.apply(pd.to_numeric, errors='ignore')\n",
    "asa = asa.apply(pd.to_numeric, errors='ignore')\n",
    "\n",
    "cont_list=[aeu,aoe,aaf,aas,aau,ame,ana,asa]\n",
    "\n",
    "for i in cont_list:\n",
    "    print(i.shape)"
   ]
  },
  {
   "cell_type": "code",
   "execution_count": 4,
   "metadata": {},
   "outputs": [
    {
     "data": {
      "text/plain": [
       "166"
      ]
     },
     "execution_count": 4,
     "metadata": {},
     "output_type": "execute_result"
    }
   ],
   "source": [
    "# all Uni names are unique\n",
    "len(aas['HE Provider'].unique())"
   ]
  },
  {
   "cell_type": "code",
   "execution_count": 5,
   "metadata": {},
   "outputs": [
    {
     "name": "stdout",
     "output_type": "stream",
     "text": [
      "UKPRN\n",
      "UKPRN\n",
      "UKPRN\n",
      "UKPRN\n",
      "UKPRN\n",
      "UKPRN\n",
      "UKPRN\n",
      "UKPRN\n"
     ]
    }
   ],
   "source": [
    "# varify skip rows are consistent\n",
    "for i in cont_list:\n",
    "    print(i.columns[0])"
   ]
  },
  {
   "cell_type": "code",
   "execution_count": 6,
   "metadata": {},
   "outputs": [
    {
     "name": "stdout",
     "output_type": "stream",
     "text": [
      "(165, 41)\n",
      "(165, 30)\n",
      "(165, 61)\n",
      "(165, 37)\n",
      "(165, 32)\n",
      "(165, 19)\n",
      "(165, 45)\n",
      "(165, 18)\n"
     ]
    }
   ],
   "source": [
    "# drop row Total\n",
    "for i in cont_list:\n",
    "    i.drop([i.index[-1]], inplace=True)\n",
    "    print(i.shape)"
   ]
  },
  {
   "cell_type": "code",
   "execution_count": 7,
   "metadata": {},
   "outputs": [
    {
     "name": "stdout",
     "output_type": "stream",
     "text": [
      "(165, 37)\n",
      "(165, 26)\n",
      "(165, 57)\n",
      "(165, 33)\n",
      "(165, 28)\n",
      "(165, 15)\n",
      "(165, 41)\n",
      "(165, 14)\n"
     ]
    }
   ],
   "source": [
    "# drop first column and last 3 columns\n",
    "for i in cont_list:\n",
    "    i.drop([i.columns[0], i.columns[-3], i.columns[-2], i.columns[-1]], axis=1, inplace=True)\n",
    "    print(i.shape)"
   ]
  },
  {
   "cell_type": "code",
   "execution_count": 8,
   "metadata": {},
   "outputs": [
    {
     "data": {
      "text/html": [
       "<div>\n",
       "<style scoped>\n",
       "    .dataframe tbody tr th:only-of-type {\n",
       "        vertical-align: middle;\n",
       "    }\n",
       "\n",
       "    .dataframe tbody tr th {\n",
       "        vertical-align: top;\n",
       "    }\n",
       "\n",
       "    .dataframe thead th {\n",
       "        text-align: right;\n",
       "    }\n",
       "</style>\n",
       "<table border=\"1\" class=\"dataframe\">\n",
       "  <thead>\n",
       "    <tr style=\"text-align: right;\">\n",
       "      <th></th>\n",
       "      <th>HE Provider</th>\n",
       "      <th>Afghanistan</th>\n",
       "      <th>Bangladesh</th>\n",
       "      <th>Bhutan</th>\n",
       "      <th>Brunei</th>\n",
       "      <th>Burma [Myanmar]</th>\n",
       "      <th>Cambodia</th>\n",
       "      <th>China</th>\n",
       "      <th>East Timor [Timor Leste]</th>\n",
       "      <th>Hong Kong (Special Administrative Region of China) [Hong Kong]</th>\n",
       "      <th>...</th>\n",
       "      <th>Pakistan</th>\n",
       "      <th>Philippines</th>\n",
       "      <th>Singapore</th>\n",
       "      <th>Sri Lanka</th>\n",
       "      <th>Taiwan [Taiwan, Province of China]</th>\n",
       "      <th>Tajikistan</th>\n",
       "      <th>Thailand</th>\n",
       "      <th>Turkmenistan</th>\n",
       "      <th>Uzbekistan</th>\n",
       "      <th>Vietnam [Viet Nam]</th>\n",
       "    </tr>\n",
       "  </thead>\n",
       "  <tbody>\n",
       "    <tr>\n",
       "      <th>0</th>\n",
       "      <td>The University of Aberdeen</td>\n",
       "      <td>0</td>\n",
       "      <td>10</td>\n",
       "      <td>0</td>\n",
       "      <td>5</td>\n",
       "      <td>5</td>\n",
       "      <td>0</td>\n",
       "      <td>325</td>\n",
       "      <td>0</td>\n",
       "      <td>20</td>\n",
       "      <td>...</td>\n",
       "      <td>25</td>\n",
       "      <td>5</td>\n",
       "      <td>40</td>\n",
       "      <td>10</td>\n",
       "      <td>5</td>\n",
       "      <td>0</td>\n",
       "      <td>70</td>\n",
       "      <td>0</td>\n",
       "      <td>0</td>\n",
       "      <td>10</td>\n",
       "    </tr>\n",
       "    <tr>\n",
       "      <th>1</th>\n",
       "      <td>University of Abertay Dundee</td>\n",
       "      <td>0</td>\n",
       "      <td>0</td>\n",
       "      <td>0</td>\n",
       "      <td>0</td>\n",
       "      <td>0</td>\n",
       "      <td>0</td>\n",
       "      <td>10</td>\n",
       "      <td>0</td>\n",
       "      <td>0</td>\n",
       "      <td>...</td>\n",
       "      <td>5</td>\n",
       "      <td>0</td>\n",
       "      <td>5</td>\n",
       "      <td>0</td>\n",
       "      <td>0</td>\n",
       "      <td>0</td>\n",
       "      <td>0</td>\n",
       "      <td>0</td>\n",
       "      <td>0</td>\n",
       "      <td>0</td>\n",
       "    </tr>\n",
       "  </tbody>\n",
       "</table>\n",
       "<p>2 rows × 33 columns</p>\n",
       "</div>"
      ],
      "text/plain": [
       "                    HE Provider  Afghanistan  Bangladesh  Bhutan  Brunei  \\\n",
       "0    The University of Aberdeen            0          10       0       5   \n",
       "1  University of Abertay Dundee            0           0       0       0   \n",
       "\n",
       "   Burma [Myanmar]  Cambodia  China  East Timor [Timor Leste]  \\\n",
       "0                5         0    325                         0   \n",
       "1                0         0     10                         0   \n",
       "\n",
       "   Hong Kong (Special Administrative Region of China) [Hong Kong]  ...  \\\n",
       "0                                                 20               ...   \n",
       "1                                                  0               ...   \n",
       "\n",
       "   Pakistan  Philippines  Singapore  Sri Lanka  \\\n",
       "0        25            5         40         10   \n",
       "1         5            0          5          0   \n",
       "\n",
       "   Taiwan [Taiwan, Province of China]  Tajikistan  Thailand  Turkmenistan  \\\n",
       "0                                   5           0        70             0   \n",
       "1                                   0           0         0             0   \n",
       "\n",
       "   Uzbekistan  Vietnam [Viet Nam]  \n",
       "0           0                  10  \n",
       "1           0                   0  \n",
       "\n",
       "[2 rows x 33 columns]"
      ]
     },
     "execution_count": 8,
     "metadata": {},
     "output_type": "execute_result"
    }
   ],
   "source": [
    "aas.head(2)"
   ]
  },
  {
   "cell_type": "code",
   "execution_count": 9,
   "metadata": {},
   "outputs": [
    {
     "name": "stdout",
     "output_type": "stream",
     "text": [
      "244\n"
     ]
    }
   ],
   "source": [
    "col_count = 1\n",
    "\n",
    "for i in cont_list:\n",
    "    \n",
    "    col_count += (i.shape[1]-1)\n",
    "    \n",
    "print(col_count)"
   ]
  },
  {
   "cell_type": "code",
   "execution_count": 10,
   "metadata": {},
   "outputs": [
    {
     "name": "stdout",
     "output_type": "stream",
     "text": [
      "(165, 244)\n"
     ]
    },
    {
     "data": {
      "text/html": [
       "<div>\n",
       "<style scoped>\n",
       "    .dataframe tbody tr th:only-of-type {\n",
       "        vertical-align: middle;\n",
       "    }\n",
       "\n",
       "    .dataframe tbody tr th {\n",
       "        vertical-align: top;\n",
       "    }\n",
       "\n",
       "    .dataframe thead th {\n",
       "        text-align: right;\n",
       "    }\n",
       "</style>\n",
       "<table border=\"1\" class=\"dataframe\">\n",
       "  <thead>\n",
       "    <tr style=\"text-align: right;\">\n",
       "      <th></th>\n",
       "      <th>HE Provider</th>\n",
       "      <th>Austria</th>\n",
       "      <th>Belgium</th>\n",
       "      <th>Bulgaria</th>\n",
       "      <th>Canary Islands</th>\n",
       "      <th>Croatia</th>\n",
       "      <th>Cyprus (European Union)</th>\n",
       "      <th>Cyprus not otherwise specified</th>\n",
       "      <th>Czech Republic</th>\n",
       "      <th>Denmark</th>\n",
       "      <th>...</th>\n",
       "      <th>Chile</th>\n",
       "      <th>Colombia</th>\n",
       "      <th>Ecuador</th>\n",
       "      <th>Falkland Islands [Falkland Islands (Malvinas)]</th>\n",
       "      <th>Guyana</th>\n",
       "      <th>Paraguay</th>\n",
       "      <th>Peru</th>\n",
       "      <th>Suriname</th>\n",
       "      <th>Uruguay</th>\n",
       "      <th>Venezuela [Venezuela, Bolivarian Republic of]</th>\n",
       "    </tr>\n",
       "  </thead>\n",
       "  <tbody>\n",
       "    <tr>\n",
       "      <th>0</th>\n",
       "      <td>The University of Aberdeen</td>\n",
       "      <td>45</td>\n",
       "      <td>55</td>\n",
       "      <td>180</td>\n",
       "      <td>5</td>\n",
       "      <td>10</td>\n",
       "      <td>50</td>\n",
       "      <td>0</td>\n",
       "      <td>100</td>\n",
       "      <td>50</td>\n",
       "      <td>...</td>\n",
       "      <td>0</td>\n",
       "      <td>10</td>\n",
       "      <td>5</td>\n",
       "      <td>0</td>\n",
       "      <td>5</td>\n",
       "      <td>0</td>\n",
       "      <td>5</td>\n",
       "      <td>0</td>\n",
       "      <td>0</td>\n",
       "      <td>0</td>\n",
       "    </tr>\n",
       "    <tr>\n",
       "      <th>1</th>\n",
       "      <td>University of Abertay Dundee</td>\n",
       "      <td>5</td>\n",
       "      <td>5</td>\n",
       "      <td>30</td>\n",
       "      <td>0</td>\n",
       "      <td>0</td>\n",
       "      <td>10</td>\n",
       "      <td>0</td>\n",
       "      <td>15</td>\n",
       "      <td>5</td>\n",
       "      <td>...</td>\n",
       "      <td>0</td>\n",
       "      <td>0</td>\n",
       "      <td>0</td>\n",
       "      <td>0</td>\n",
       "      <td>0</td>\n",
       "      <td>0</td>\n",
       "      <td>0</td>\n",
       "      <td>0</td>\n",
       "      <td>0</td>\n",
       "      <td>0</td>\n",
       "    </tr>\n",
       "  </tbody>\n",
       "</table>\n",
       "<p>2 rows × 244 columns</p>\n",
       "</div>"
      ],
      "text/plain": [
       "                    HE Provider  Austria  Belgium  Bulgaria  Canary Islands  \\\n",
       "0    The University of Aberdeen       45       55       180               5   \n",
       "1  University of Abertay Dundee        5        5        30               0   \n",
       "\n",
       "   Croatia  Cyprus (European Union)  Cyprus not otherwise specified  \\\n",
       "0       10                       50                               0   \n",
       "1        0                       10                               0   \n",
       "\n",
       "   Czech Republic  Denmark  ...  Chile  Colombia  Ecuador  \\\n",
       "0             100       50  ...      0        10        5   \n",
       "1              15        5  ...      0         0        0   \n",
       "\n",
       "   Falkland Islands [Falkland Islands (Malvinas)]  Guyana  Paraguay  Peru  \\\n",
       "0                                               0       5         0     5   \n",
       "1                                               0       0         0     0   \n",
       "\n",
       "   Suriname  Uruguay  Venezuela [Venezuela, Bolivarian Republic of]  \n",
       "0         0        0                                              0  \n",
       "1         0        0                                              0  \n",
       "\n",
       "[2 rows x 244 columns]"
      ]
     },
     "execution_count": 10,
     "metadata": {},
     "output_type": "execute_result"
    }
   ],
   "source": [
    "amerge = aeu.copy()\n",
    "\n",
    "for i in cont_list[1:]:\n",
    "    amerge = pd.merge(amerge, i, on='HE Provider')\n",
    "           \n",
    "print(amerge.shape)\n",
    "amerge.head(2)"
   ]
  },
  {
   "cell_type": "markdown",
   "metadata": {},
   "source": [
    "## Cross Check with JSON"
   ]
  },
  {
   "cell_type": "code",
   "execution_count": 11,
   "metadata": {},
   "outputs": [],
   "source": [
    "with open(\"world_layers.json\") as geofile:\n",
    "    geojson_layer = json.load(geofile)"
   ]
  },
  {
   "cell_type": "code",
   "execution_count": 12,
   "metadata": {},
   "outputs": [
    {
     "name": "stdout",
     "output_type": "stream",
     "text": [
      "175\n",
      "['Bahamas', 'Cuba', 'Canada', 'Dominican Rep.', 'Greenland']\n"
     ]
    }
   ],
   "source": [
    "geo_list = []\n",
    "\n",
    "for i in geojson_layer['features']:\n",
    "    geo_list.append(i.get('properties').get('name'))\n",
    "    \n",
    "print(len(geo_list))\n",
    "print(geo_list[:5])"
   ]
  },
  {
   "cell_type": "code",
   "execution_count": 13,
   "metadata": {},
   "outputs": [
    {
     "name": "stdout",
     "output_type": "stream",
     "text": [
      "['Austria', 'Belgium', 'Bulgaria', 'Canary Islands', 'Croatia']\n"
     ]
    }
   ],
   "source": [
    "he_list = list(amerge.columns[1:])\n",
    "print(he_list[:5])"
   ]
  },
  {
   "cell_type": "code",
   "execution_count": 14,
   "metadata": {},
   "outputs": [
    {
     "name": "stdout",
     "output_type": "stream",
     "text": [
      "32\n"
     ]
    },
    {
     "data": {
      "text/plain": [
       "['Bahamas',\n",
       " 'Dominican Rep.',\n",
       " 'Bosnia and Herz.',\n",
       " 'Czech Rep.',\n",
       " 'United Kingdom',\n",
       " 'Moldova',\n",
       " 'Macedonia',\n",
       " 'Russia',\n",
       " 'Solomon Is.',\n",
       " 'Falkland Is.',\n",
       " 'Venezuela',\n",
       " 'Iran',\n",
       " 'Cyprus',\n",
       " 'N. Cyprus',\n",
       " 'Korea',\n",
       " 'Lao PDR',\n",
       " 'Myanmar',\n",
       " 'Palestine',\n",
       " 'Dem. Rep. Korea',\n",
       " 'Syria']"
      ]
     },
     "execution_count": 14,
     "metadata": {},
     "output_type": "execute_result"
    }
   ],
   "source": [
    "# Names in json not in HE\n",
    "print(len([item for item in geo_list if item not in he_list]))\n",
    "[item for item in geo_list if item not in he_list][:20]"
   ]
  },
  {
   "cell_type": "code",
   "execution_count": 15,
   "metadata": {},
   "outputs": [
    {
     "name": "stdout",
     "output_type": "stream",
     "text": [
      "100\n"
     ]
    },
    {
     "data": {
      "text/plain": [
       "['Canary Islands',\n",
       " 'Cyprus (European Union)',\n",
       " 'Cyprus not otherwise specified',\n",
       " 'Czech Republic',\n",
       " 'French Guiana',\n",
       " 'Gibraltar',\n",
       " 'Guadeloupe',\n",
       " 'Malta',\n",
       " 'Martinique',\n",
       " 'Mayotte',\n",
       " 'Réunion',\n",
       " 'Åland Islands',\n",
       " 'Andorra',\n",
       " 'Bosnia and Herzegovina',\n",
       " 'Cyprus (Non-European Union)',\n",
       " 'Faroe Islands',\n",
       " 'Liechtenstein',\n",
       " 'Macedonia [Macedonia, The Former Yugoslav Republic of]',\n",
       " 'Moldova [Moldova, Republic of]',\n",
       " 'Monaco']"
      ]
     },
     "execution_count": 15,
     "metadata": {},
     "output_type": "execute_result"
    }
   ],
   "source": [
    "# Names in HE not in json\n",
    "print(len([item for item in he_list if item not in geo_list]))\n",
    "[item for item in he_list if item not in geo_list][:20]"
   ]
  },
  {
   "cell_type": "markdown",
   "metadata": {},
   "source": [
    "## Clean HE Names"
   ]
  },
  {
   "cell_type": "code",
   "execution_count": 16,
   "metadata": {},
   "outputs": [],
   "source": [
    "anew = amerge.copy()"
   ]
  },
  {
   "cell_type": "code",
   "execution_count": 17,
   "metadata": {},
   "outputs": [
    {
     "name": "stdout",
     "output_type": "stream",
     "text": [
      "74\n"
     ]
    }
   ],
   "source": [
    "col_zero = anew.sum(axis = 0)\n",
    "col_zero = col_zero[col_zero == 0]\n",
    "\n",
    "print(len(col_zero))"
   ]
  },
  {
   "cell_type": "code",
   "execution_count": 18,
   "metadata": {},
   "outputs": [
    {
     "data": {
      "text/plain": [
       "French Guiana                                   0\n",
       "Guadeloupe                                      0\n",
       "Martinique                                      0\n",
       "Mayotte                                         0\n",
       "Åland Islands                                   0\n",
       "Andorra                                         0\n",
       "Liechtenstein                                   0\n",
       "San Marino                                      0\n",
       "Svalbard and Jan Mayen                          0\n",
       "Vatican City [Holy See (Vatican City State)]    0\n",
       "dtype: object"
      ]
     },
     "execution_count": 18,
     "metadata": {},
     "output_type": "execute_result"
    }
   ],
   "source": [
    "col_zero[:10]"
   ]
  },
  {
   "cell_type": "code",
   "execution_count": 19,
   "metadata": {},
   "outputs": [
    {
     "name": "stdout",
     "output_type": "stream",
     "text": [
      "(165, 170)\n"
     ]
    }
   ],
   "source": [
    "# drop all country columns with zeros\n",
    "anew.drop(list(col_zero.index), axis=1, inplace=True)\n",
    "print(anew.shape)"
   ]
  },
  {
   "cell_type": "code",
   "execution_count": 20,
   "metadata": {},
   "outputs": [
    {
     "data": {
      "text/plain": [
       "Index(['Cyprus not otherwise specified'], dtype='object')"
      ]
     },
     "execution_count": 20,
     "metadata": {},
     "output_type": "execute_result"
    }
   ],
   "source": [
    "anew.columns[anew.columns.str.contains('otherwise')]"
   ]
  },
  {
   "cell_type": "code",
   "execution_count": 21,
   "metadata": {},
   "outputs": [
    {
     "data": {
      "text/plain": [
       "Index(['Cyprus (European Union)', 'Cyprus not otherwise specified',\n",
       "       'Cyprus (Non-European Union)'],\n",
       "      dtype='object')"
      ]
     },
     "execution_count": 21,
     "metadata": {},
     "output_type": "execute_result"
    }
   ],
   "source": [
    "# will want to merge columns with Cyprus\n",
    "cyprus_col = list(anew.columns[anew.columns.str.contains('Cyprus')])\n",
    "anew.columns[anew.columns.str.contains('Cyprus')]"
   ]
  },
  {
   "cell_type": "code",
   "execution_count": 22,
   "metadata": {},
   "outputs": [
    {
     "data": {
      "text/plain": [
       "Cyprus (European Union)           8690\n",
       "Cyprus not otherwise specified     185\n",
       "Cyprus (Non-European Union)         55\n",
       "dtype: int64"
      ]
     },
     "execution_count": 22,
     "metadata": {},
     "output_type": "execute_result"
    }
   ],
   "source": [
    "anew[cyprus_col].sum()"
   ]
  },
  {
   "cell_type": "code",
   "execution_count": 23,
   "metadata": {},
   "outputs": [
    {
     "name": "stdout",
     "output_type": "stream",
     "text": [
      "(165, 168)\n",
      "8930\n"
     ]
    }
   ],
   "source": [
    "anew['Cyprus'] = anew['Cyprus (European Union)'] + \\\n",
    "                    anew['Cyprus not otherwise specified'] + \\\n",
    "                    anew['Cyprus (Non-European Union)']\n",
    "\n",
    "anew.drop(cyprus_col, axis=1, inplace=True)\n",
    "\n",
    "print(anew.shape)\n",
    "print(anew['Cyprus'].sum())"
   ]
  },
  {
   "cell_type": "code",
   "execution_count": 24,
   "metadata": {
    "scrolled": true
   },
   "outputs": [
    {
     "name": "stdout",
     "output_type": "stream",
     "text": [
      "Macedonia [Macedonia, The Former Yugoslav Republic of]\n",
      "Moldova [Moldova, Republic of]\n",
      "Russia [Russian Federation]\n",
      "Congo (Democratic Republic) [Congo (The Democratic Republic of the)]\n",
      "Gambia, The\n",
      "Ivory Coast [Côte D'ivoire]\n",
      "St Helena, Ascension and Tristan da Cunha\n",
      "Tanzania [Tanzania, United Republic of]\n",
      "Burma [Myanmar]\n",
      "Hong Kong (Special Administrative Region of China) [Hong Kong]\n",
      "Korea (South) [Korea, Republic of]\n",
      "Laos [Lao People's Democratic Republic]\n",
      "Macao (Special Administrative Region of China) [Macao]\n",
      "Taiwan [Taiwan, Province of China]\n",
      "Vietnam [Viet Nam]\n",
      "Iran [Iran, Islamic Republic of]\n",
      "Occupied Palestinian Territories [Palestine, State of]\n",
      "Syria [Syrian Arab Republic]\n",
      "Bahamas, The\n",
      "British Virgin Islands [Virgin Islands, British]\n",
      "Falkland Islands [Falkland Islands (Malvinas)]\n",
      "Venezuela [Venezuela, Bolivarian Republic of]\n"
     ]
    }
   ],
   "source": [
    "for i in list(anew.columns):\n",
    "    if i.replace(\" \", \"\").isalpha() == False:\n",
    "        print(i)"
   ]
  },
  {
   "cell_type": "code",
   "execution_count": 25,
   "metadata": {},
   "outputs": [
    {
     "name": "stdout",
     "output_type": "stream",
     "text": [
      "(165, 166)\n"
     ]
    }
   ],
   "source": [
    "anew.rename(columns={\n",
    "    'Macedonia [Macedonia, The Former Yugoslav Republic of]':'Macedonia',\n",
    "    'Moldova [Moldova, Republic of]': 'Moldova',\n",
    "    'Russia [Russian Federation]': 'Russia',\n",
    "    'Congo (Democratic Republic) [Congo (The Democratic Republic of the)]': 'Dem. Rep. Congo',\n",
    "    'Gambia, The': 'Gambia',\n",
    "    \"Ivory Coast [Côte D'ivoire]\": \"Côte d'Ivoire\",\n",
    "    'Tanzania [Tanzania, United Republic of]': 'Tanzania',\n",
    "    'Burma [Myanmar]': 'Myanmar',\n",
    "    'Korea (South) [Korea, Republic of]': 'Korea',\n",
    "    \"Laos [Lao People's Democratic Republic]\": \"Lao PDR\",\n",
    "    'Taiwan [Taiwan, Province of China]': 'Taiwan',\n",
    "    'Vietnam [Viet Nam]': 'Vietnam',\n",
    "    'Iran [Iran, Islamic Republic of]': 'Iran',\n",
    "    'Occupied Palestinian Territories [Palestine, State of]': 'Palestine',\n",
    "    'Syria [Syrian Arab Republic]': 'Syria',\n",
    "    'Bahamas, The': 'Bahamas',\n",
    "    'Falkland Islands [Falkland Islands (Malvinas)]': 'Falkland Is.',\n",
    "    'Venezuela [Venezuela, Bolivarian Republic of]': 'Venezuela'\n",
    "    }, inplace=True)\n",
    "\n",
    "anew.drop([\"St Helena, Ascension and Tristan da Cunha\"], axis=1, inplace=True)\n",
    "anew.drop([\"British Virgin Islands [Virgin Islands, British]\"], axis=1, inplace=True)\n",
    "\n",
    "print(anew.shape)"
   ]
  },
  {
   "cell_type": "code",
   "execution_count": 26,
   "metadata": {},
   "outputs": [
    {
     "name": "stdout",
     "output_type": "stream",
     "text": [
      "Dem. Rep. Congo\n",
      "Côte d'Ivoire\n",
      "Hong Kong (Special Administrative Region of China) [Hong Kong]\n",
      "Macao (Special Administrative Region of China) [Macao]\n",
      "Falkland Is.\n"
     ]
    }
   ],
   "source": [
    "for i in list(anew.columns):\n",
    "    if i.replace(\" \", \"\").isalpha() == False:\n",
    "        print(i)"
   ]
  },
  {
   "cell_type": "code",
   "execution_count": 27,
   "metadata": {},
   "outputs": [
    {
     "name": "stdout",
     "output_type": "stream",
     "text": [
      "101915\n",
      "15755\n",
      "650\n"
     ]
    }
   ],
   "source": [
    "print(anew['China'].sum())\n",
    "print(anew['Hong Kong (Special Administrative Region of China) [Hong Kong]'].sum())\n",
    "print(anew['Macao (Special Administrative Region of China) [Macao]'].sum())"
   ]
  },
  {
   "cell_type": "code",
   "execution_count": 28,
   "metadata": {},
   "outputs": [
    {
     "name": "stdout",
     "output_type": "stream",
     "text": [
      "(165, 164)\n",
      "118320\n"
     ]
    }
   ],
   "source": [
    "anew['China'] = anew['China'] + \\\n",
    "                    anew['Hong Kong (Special Administrative Region of China) [Hong Kong]'] + \\\n",
    "                    anew['Macao (Special Administrative Region of China) [Macao]']\n",
    "\n",
    "anew.drop(['Hong Kong (Special Administrative Region of China) [Hong Kong]',\n",
    "           'Macao (Special Administrative Region of China) [Macao]'], axis=1, inplace=True)\n",
    "\n",
    "print(anew.shape)\n",
    "print(anew['China'].sum())"
   ]
  },
  {
   "cell_type": "code",
   "execution_count": 29,
   "metadata": {},
   "outputs": [
    {
     "name": "stdout",
     "output_type": "stream",
     "text": [
      "36\n"
     ]
    },
    {
     "data": {
      "text/plain": [
       "['Cuba',\n",
       " 'Dominican Rep.',\n",
       " 'Greenland',\n",
       " 'Honduras',\n",
       " 'Haiti',\n",
       " 'Bosnia and Herz.',\n",
       " 'Czech Rep.',\n",
       " 'United Kingdom',\n",
       " 'Fiji',\n",
       " 'New Caledonia',\n",
       " 'Solomon Is.',\n",
       " 'Papua New Guinea',\n",
       " 'Vanuatu',\n",
       " 'Suriname',\n",
       " 'Bhutan',\n",
       " 'N. Cyprus',\n",
       " 'Dem. Rep. Korea',\n",
       " 'Tajikistan',\n",
       " 'Timor-Leste',\n",
       " 'Burundi',\n",
       " 'Burkina Faso',\n",
       " 'Central African Rep.',\n",
       " \"CÃ´te d'Ivoire\",\n",
       " 'Congo',\n",
       " 'Gabon',\n",
       " 'Guinea-Bissau',\n",
       " 'Guinea',\n",
       " 'Eq. Guinea',\n",
       " 'Lesotho',\n",
       " 'Mali',\n",
       " 'Niger',\n",
       " 'S. Sudan',\n",
       " 'W. Sahara',\n",
       " 'Somaliland',\n",
       " 'Chad',\n",
       " 'Togo']"
      ]
     },
     "execution_count": 29,
     "metadata": {},
     "output_type": "execute_result"
    }
   ],
   "source": [
    "# Names in json \n",
    "# Not in HE\n",
    "# These are OK with gray out\n",
    "print(len([item for item in geo_list if item not in list(anew.columns)]))\n",
    "[item for item in geo_list if item not in list(anew.columns)]"
   ]
  },
  {
   "cell_type": "code",
   "execution_count": 30,
   "metadata": {},
   "outputs": [
    {
     "name": "stdout",
     "output_type": "stream",
     "text": [
      "Dominican Rep.\n",
      "Bosnia and Herz.\n",
      "Czech Rep.\n",
      "Solomon Is.\n",
      "N. Cyprus\n",
      "Dem. Rep. Korea\n",
      "Timor-Leste\n",
      "Central African Rep.\n",
      "CÃ´te d'Ivoire\n",
      "Guinea-Bissau\n",
      "Eq. Guinea\n",
      "S. Sudan\n",
      "W. Sahara\n"
     ]
    }
   ],
   "source": [
    "# potential mismatch due to acronyms\n",
    "for i in [item for item in geo_list if item not in list(anew.columns)]:\n",
    "    if i.replace(\" \", \"\").isalpha() == False:\n",
    "        print(i)"
   ]
  },
  {
   "cell_type": "code",
   "execution_count": 31,
   "metadata": {},
   "outputs": [
    {
     "name": "stdout",
     "output_type": "stream",
     "text": [
      "25\n"
     ]
    },
    {
     "data": {
      "text/plain": [
       "['HE Provider',\n",
       " 'Canary Islands',\n",
       " 'Czech Republic',\n",
       " 'Gibraltar',\n",
       " 'Malta',\n",
       " 'Réunion',\n",
       " 'Bosnia and Herzegovina',\n",
       " 'Faroe Islands',\n",
       " 'Monaco',\n",
       " \"Côte d'Ivoire\",\n",
       " 'Mauritius',\n",
       " 'Seychelles',\n",
       " 'South Sudan',\n",
       " 'Maldives',\n",
       " 'Singapore',\n",
       " 'Christmas Island',\n",
       " 'Bahrain',\n",
       " 'Anguilla',\n",
       " 'Antigua and Barbuda',\n",
       " 'Barbados',\n",
       " 'Bermuda',\n",
       " 'Cayman Islands',\n",
       " 'Dominican Republic',\n",
       " 'St Lucia',\n",
       " 'Turks and Caicos Islands']"
      ]
     },
     "execution_count": 31,
     "metadata": {},
     "output_type": "execute_result"
    }
   ],
   "source": [
    "# Names in HE\n",
    "# Not in json\n",
    "print(len([item for item in list(anew.columns) if item not in geo_list]))\n",
    "[item for item in list(anew.columns) if item not in geo_list]"
   ]
  },
  {
   "cell_type": "code",
   "execution_count": 32,
   "metadata": {},
   "outputs": [],
   "source": [
    "anew.rename(columns={\n",
    "    'Czech Republic':'Czech Rep.',\n",
    "    'Bosnia and Herzegovina':'Bosnia and Herz.',\n",
    "    'South Sudan':'S. Sudan',\n",
    "    'Dominican Republic':'Dominican Rep.'\n",
    "    }, inplace=True)\n",
    "\n",
    "anew.drop(['Gibraltar'], axis=1, inplace=True)\n",
    "anew.drop(['Réunion'], axis=1, inplace=True)\n",
    "anew.drop(['Faroe Islands'], axis=1, inplace=True)\n",
    "anew.drop(['Christmas Island'], axis=1, inplace=True)\n",
    "anew.drop(['Anguilla'], axis=1, inplace=True)\n",
    "anew.drop(['Bermuda'], axis=1, inplace=True)\n",
    "anew.drop(['Cayman Islands'], axis=1, inplace=True)\n",
    "anew.drop(['Turks and Caicos Islands'], axis=1, inplace=True)\n",
    "\n",
    "anew['Spain'] = anew['Spain'] + anew['Canary Islands']\n",
    "\n",
    "anew.drop(['Canary Islands'], axis=1, inplace=True)"
   ]
  },
  {
   "cell_type": "code",
   "execution_count": 33,
   "metadata": {},
   "outputs": [
    {
     "name": "stdout",
     "output_type": "stream",
     "text": [
      "12\n"
     ]
    },
    {
     "data": {
      "text/plain": [
       "['HE Provider',\n",
       " 'Malta',\n",
       " 'Monaco',\n",
       " \"Côte d'Ivoire\",\n",
       " 'Mauritius',\n",
       " 'Seychelles',\n",
       " 'Maldives',\n",
       " 'Singapore',\n",
       " 'Bahrain',\n",
       " 'Antigua and Barbuda',\n",
       " 'Barbados',\n",
       " 'St Lucia']"
      ]
     },
     "execution_count": 33,
     "metadata": {},
     "output_type": "execute_result"
    }
   ],
   "source": [
    "print(len([item for item in list(anew.columns) if item not in geo_list]))\n",
    "[item for item in list(anew.columns) if item not in geo_list]"
   ]
  },
  {
   "cell_type": "code",
   "execution_count": 34,
   "metadata": {},
   "outputs": [
    {
     "name": "stdout",
     "output_type": "stream",
     "text": [
      "(165, 155)\n"
     ]
    },
    {
     "data": {
      "text/html": [
       "<div>\n",
       "<style scoped>\n",
       "    .dataframe tbody tr th:only-of-type {\n",
       "        vertical-align: middle;\n",
       "    }\n",
       "\n",
       "    .dataframe tbody tr th {\n",
       "        vertical-align: top;\n",
       "    }\n",
       "\n",
       "    .dataframe thead th {\n",
       "        text-align: right;\n",
       "    }\n",
       "</style>\n",
       "<table border=\"1\" class=\"dataframe\">\n",
       "  <thead>\n",
       "    <tr style=\"text-align: right;\">\n",
       "      <th></th>\n",
       "      <th>HE Provider</th>\n",
       "      <th>Austria</th>\n",
       "      <th>Belgium</th>\n",
       "      <th>Bulgaria</th>\n",
       "      <th>Croatia</th>\n",
       "      <th>Czech Rep.</th>\n",
       "      <th>Denmark</th>\n",
       "      <th>Estonia</th>\n",
       "      <th>Finland</th>\n",
       "      <th>France</th>\n",
       "      <th>...</th>\n",
       "      <th>Chile</th>\n",
       "      <th>Colombia</th>\n",
       "      <th>Ecuador</th>\n",
       "      <th>Falkland Is.</th>\n",
       "      <th>Guyana</th>\n",
       "      <th>Paraguay</th>\n",
       "      <th>Peru</th>\n",
       "      <th>Uruguay</th>\n",
       "      <th>Venezuela</th>\n",
       "      <th>Cyprus</th>\n",
       "    </tr>\n",
       "  </thead>\n",
       "  <tbody>\n",
       "    <tr>\n",
       "      <th>0</th>\n",
       "      <td>The University of Aberdeen</td>\n",
       "      <td>45</td>\n",
       "      <td>55</td>\n",
       "      <td>180</td>\n",
       "      <td>10</td>\n",
       "      <td>100</td>\n",
       "      <td>50</td>\n",
       "      <td>40</td>\n",
       "      <td>295</td>\n",
       "      <td>175</td>\n",
       "      <td>...</td>\n",
       "      <td>0</td>\n",
       "      <td>10</td>\n",
       "      <td>5</td>\n",
       "      <td>0</td>\n",
       "      <td>5</td>\n",
       "      <td>0</td>\n",
       "      <td>5</td>\n",
       "      <td>0</td>\n",
       "      <td>0</td>\n",
       "      <td>50</td>\n",
       "    </tr>\n",
       "    <tr>\n",
       "      <th>1</th>\n",
       "      <td>University of Abertay Dundee</td>\n",
       "      <td>5</td>\n",
       "      <td>5</td>\n",
       "      <td>30</td>\n",
       "      <td>0</td>\n",
       "      <td>15</td>\n",
       "      <td>5</td>\n",
       "      <td>5</td>\n",
       "      <td>25</td>\n",
       "      <td>115</td>\n",
       "      <td>...</td>\n",
       "      <td>0</td>\n",
       "      <td>0</td>\n",
       "      <td>0</td>\n",
       "      <td>0</td>\n",
       "      <td>0</td>\n",
       "      <td>0</td>\n",
       "      <td>0</td>\n",
       "      <td>0</td>\n",
       "      <td>0</td>\n",
       "      <td>10</td>\n",
       "    </tr>\n",
       "  </tbody>\n",
       "</table>\n",
       "<p>2 rows × 155 columns</p>\n",
       "</div>"
      ],
      "text/plain": [
       "                    HE Provider  Austria  Belgium  Bulgaria  Croatia  \\\n",
       "0    The University of Aberdeen       45       55       180       10   \n",
       "1  University of Abertay Dundee        5        5        30        0   \n",
       "\n",
       "   Czech Rep.  Denmark  Estonia  Finland  France  ...  Chile  Colombia  \\\n",
       "0         100       50       40      295     175  ...      0        10   \n",
       "1          15        5        5       25     115  ...      0         0   \n",
       "\n",
       "   Ecuador  Falkland Is.  Guyana  Paraguay  Peru  Uruguay  Venezuela  Cyprus  \n",
       "0        5             0       5         0     5        0          0      50  \n",
       "1        0             0       0         0     0        0          0      10  \n",
       "\n",
       "[2 rows x 155 columns]"
      ]
     },
     "execution_count": 34,
     "metadata": {},
     "output_type": "execute_result"
    }
   ],
   "source": [
    "print(anew.shape)\n",
    "anew.head(2)"
   ]
  },
  {
   "cell_type": "code",
   "execution_count": 35,
   "metadata": {
    "scrolled": true
   },
   "outputs": [
    {
     "name": "stdout",
     "output_type": "stream",
     "text": [
      "(25410, 4)\n"
     ]
    },
    {
     "data": {
      "text/html": [
       "<div>\n",
       "<style scoped>\n",
       "    .dataframe tbody tr th:only-of-type {\n",
       "        vertical-align: middle;\n",
       "    }\n",
       "\n",
       "    .dataframe tbody tr th {\n",
       "        vertical-align: top;\n",
       "    }\n",
       "\n",
       "    .dataframe thead th {\n",
       "        text-align: right;\n",
       "    }\n",
       "</style>\n",
       "<table border=\"1\" class=\"dataframe\">\n",
       "  <thead>\n",
       "    <tr style=\"text-align: right;\">\n",
       "      <th></th>\n",
       "      <th>School</th>\n",
       "      <th>Country</th>\n",
       "      <th>Num</th>\n",
       "      <th>Rank</th>\n",
       "    </tr>\n",
       "  </thead>\n",
       "  <tbody>\n",
       "    <tr>\n",
       "      <th>0</th>\n",
       "      <td>The University of Aberdeen</td>\n",
       "      <td>Austria</td>\n",
       "      <td>45</td>\n",
       "      <td>8.0</td>\n",
       "    </tr>\n",
       "    <tr>\n",
       "      <th>1</th>\n",
       "      <td>University of Abertay Dundee</td>\n",
       "      <td>Austria</td>\n",
       "      <td>5</td>\n",
       "      <td>2.0</td>\n",
       "    </tr>\n",
       "    <tr>\n",
       "      <th>2</th>\n",
       "      <td>Aberystwyth University</td>\n",
       "      <td>Austria</td>\n",
       "      <td>0</td>\n",
       "      <td>1.0</td>\n",
       "    </tr>\n",
       "    <tr>\n",
       "      <th>3</th>\n",
       "      <td>AECC University College</td>\n",
       "      <td>Austria</td>\n",
       "      <td>0</td>\n",
       "      <td>1.0</td>\n",
       "    </tr>\n",
       "    <tr>\n",
       "      <th>4</th>\n",
       "      <td>Anglia Ruskin University</td>\n",
       "      <td>Austria</td>\n",
       "      <td>10</td>\n",
       "      <td>3.0</td>\n",
       "    </tr>\n",
       "  </tbody>\n",
       "</table>\n",
       "</div>"
      ],
      "text/plain": [
       "                         School  Country  Num  Rank\n",
       "0    The University of Aberdeen  Austria   45   8.0\n",
       "1  University of Abertay Dundee  Austria    5   2.0\n",
       "2        Aberystwyth University  Austria    0   1.0\n",
       "3       AECC University College  Austria    0   1.0\n",
       "4      Anglia Ruskin University  Austria   10   3.0"
      ]
     },
     "execution_count": 35,
     "metadata": {},
     "output_type": "execute_result"
    }
   ],
   "source": [
    "aoutput = anew.melt(id_vars=['HE Provider'],\n",
    "                  var_name='Country',\n",
    "                  value_name='Num')\n",
    "\n",
    "aoutput.rename(columns={'HE Provider':'School'}, inplace=True)\n",
    "\n",
    "aoutput['Rank'] = aoutput.groupby('Country')['Num'].rank(ascending=True, method='dense')\n",
    "\n",
    "print(aoutput.shape)\n",
    "aoutput.head()"
   ]
  },
  {
   "cell_type": "code",
   "execution_count": 36,
   "metadata": {},
   "outputs": [
    {
     "data": {
      "text/html": [
       "<div>\n",
       "<style scoped>\n",
       "    .dataframe tbody tr th:only-of-type {\n",
       "        vertical-align: middle;\n",
       "    }\n",
       "\n",
       "    .dataframe tbody tr th {\n",
       "        vertical-align: top;\n",
       "    }\n",
       "\n",
       "    .dataframe thead th {\n",
       "        text-align: right;\n",
       "    }\n",
       "</style>\n",
       "<table border=\"1\" class=\"dataframe\">\n",
       "  <thead>\n",
       "    <tr style=\"text-align: right;\">\n",
       "      <th></th>\n",
       "      <th>School</th>\n",
       "      <th>Country</th>\n",
       "      <th>Num</th>\n",
       "      <th>Rank</th>\n",
       "    </tr>\n",
       "  </thead>\n",
       "  <tbody>\n",
       "    <tr>\n",
       "      <th>151</th>\n",
       "      <td>University College London</td>\n",
       "      <td>Austria</td>\n",
       "      <td>105</td>\n",
       "      <td>15.0</td>\n",
       "    </tr>\n",
       "    <tr>\n",
       "      <th>49</th>\n",
       "      <td>The University of Edinburgh</td>\n",
       "      <td>Austria</td>\n",
       "      <td>105</td>\n",
       "      <td>15.0</td>\n",
       "    </tr>\n",
       "    <tr>\n",
       "      <th>71</th>\n",
       "      <td>King's College London</td>\n",
       "      <td>Austria</td>\n",
       "      <td>90</td>\n",
       "      <td>14.0</td>\n",
       "    </tr>\n",
       "    <tr>\n",
       "      <th>90</th>\n",
       "      <td>London School of Economics and Political Science</td>\n",
       "      <td>Austria</td>\n",
       "      <td>75</td>\n",
       "      <td>13.0</td>\n",
       "    </tr>\n",
       "    <tr>\n",
       "      <th>154</th>\n",
       "      <td>The University of Warwick</td>\n",
       "      <td>Austria</td>\n",
       "      <td>70</td>\n",
       "      <td>12.0</td>\n",
       "    </tr>\n",
       "    <tr>\n",
       "      <th>105</th>\n",
       "      <td>The University of Oxford</td>\n",
       "      <td>Austria</td>\n",
       "      <td>65</td>\n",
       "      <td>11.0</td>\n",
       "    </tr>\n",
       "    <tr>\n",
       "      <th>26</th>\n",
       "      <td>The University of Cambridge</td>\n",
       "      <td>Austria</td>\n",
       "      <td>65</td>\n",
       "      <td>11.0</td>\n",
       "    </tr>\n",
       "    <tr>\n",
       "      <th>68</th>\n",
       "      <td>Imperial College of Science, Technology and Me...</td>\n",
       "      <td>Austria</td>\n",
       "      <td>60</td>\n",
       "      <td>10.0</td>\n",
       "    </tr>\n",
       "    <tr>\n",
       "      <th>110</th>\n",
       "      <td>Queen Mary University of London</td>\n",
       "      <td>Austria</td>\n",
       "      <td>50</td>\n",
       "      <td>9.0</td>\n",
       "    </tr>\n",
       "    <tr>\n",
       "      <th>0</th>\n",
       "      <td>The University of Aberdeen</td>\n",
       "      <td>Austria</td>\n",
       "      <td>45</td>\n",
       "      <td>8.0</td>\n",
       "    </tr>\n",
       "  </tbody>\n",
       "</table>\n",
       "</div>"
      ],
      "text/plain": [
       "                                                School  Country  Num  Rank\n",
       "151                          University College London  Austria  105  15.0\n",
       "49                         The University of Edinburgh  Austria  105  15.0\n",
       "71                               King's College London  Austria   90  14.0\n",
       "90    London School of Economics and Political Science  Austria   75  13.0\n",
       "154                          The University of Warwick  Austria   70  12.0\n",
       "105                           The University of Oxford  Austria   65  11.0\n",
       "26                         The University of Cambridge  Austria   65  11.0\n",
       "68   Imperial College of Science, Technology and Me...  Austria   60  10.0\n",
       "110                    Queen Mary University of London  Austria   50   9.0\n",
       "0                           The University of Aberdeen  Austria   45   8.0"
      ]
     },
     "execution_count": 36,
     "metadata": {},
     "output_type": "execute_result"
    }
   ],
   "source": [
    "# test sat\n",
    "arank = aoutput[aoutput.Country == 'Austria']\n",
    "arank = arank.sort_values(by=['Rank'], ascending=False)\n",
    "\n",
    "arank.head(10)"
   ]
  },
  {
   "cell_type": "code",
   "execution_count": 37,
   "metadata": {},
   "outputs": [
    {
     "data": {
      "text/html": [
       "<div>\n",
       "<style scoped>\n",
       "    .dataframe tbody tr th:only-of-type {\n",
       "        vertical-align: middle;\n",
       "    }\n",
       "\n",
       "    .dataframe tbody tr th {\n",
       "        vertical-align: top;\n",
       "    }\n",
       "\n",
       "    .dataframe thead th {\n",
       "        text-align: right;\n",
       "    }\n",
       "</style>\n",
       "<table border=\"1\" class=\"dataframe\">\n",
       "  <thead>\n",
       "    <tr style=\"text-align: right;\">\n",
       "      <th></th>\n",
       "      <th>School</th>\n",
       "      <th>Country</th>\n",
       "      <th>Num</th>\n",
       "      <th>Rank</th>\n",
       "    </tr>\n",
       "  </thead>\n",
       "  <tbody>\n",
       "    <tr>\n",
       "      <th>11092</th>\n",
       "      <td>Coventry University</td>\n",
       "      <td>Nigeria</td>\n",
       "      <td>505</td>\n",
       "      <td>43.0</td>\n",
       "    </tr>\n",
       "  </tbody>\n",
       "</table>\n",
       "</div>"
      ],
      "text/plain": [
       "                    School  Country  Num  Rank\n",
       "11092  Coventry University  Nigeria  505  43.0"
      ]
     },
     "execution_count": 37,
     "metadata": {},
     "output_type": "execute_result"
    }
   ],
   "source": [
    "arank = aoutput[aoutput.Country == 'Nigeria']\n",
    "arank[arank.Rank == arank.Rank.max()]"
   ]
  },
  {
   "cell_type": "code",
   "execution_count": 38,
   "metadata": {},
   "outputs": [
    {
     "data": {
      "text/html": [
       "<div>\n",
       "<style scoped>\n",
       "    .dataframe tbody tr th:only-of-type {\n",
       "        vertical-align: middle;\n",
       "    }\n",
       "\n",
       "    .dataframe tbody tr th {\n",
       "        vertical-align: top;\n",
       "    }\n",
       "\n",
       "    .dataframe thead th {\n",
       "        text-align: right;\n",
       "    }\n",
       "</style>\n",
       "<table border=\"1\" class=\"dataframe\">\n",
       "  <thead>\n",
       "    <tr style=\"text-align: right;\">\n",
       "      <th></th>\n",
       "      <th>School</th>\n",
       "      <th>Country</th>\n",
       "      <th>Num</th>\n",
       "      <th>Rank</th>\n",
       "    </tr>\n",
       "  </thead>\n",
       "  <tbody>\n",
       "    <tr>\n",
       "      <th>14438</th>\n",
       "      <td>The University of Liverpool</td>\n",
       "      <td>China</td>\n",
       "      <td>4940</td>\n",
       "      <td>100.0</td>\n",
       "    </tr>\n",
       "    <tr>\n",
       "      <th>14449</th>\n",
       "      <td>The University of Manchester</td>\n",
       "      <td>China</td>\n",
       "      <td>5280</td>\n",
       "      <td>101.0</td>\n",
       "    </tr>\n",
       "    <tr>\n",
       "      <th>14506</th>\n",
       "      <td>University College London</td>\n",
       "      <td>China</td>\n",
       "      <td>5640</td>\n",
       "      <td>102.0</td>\n",
       "    </tr>\n",
       "  </tbody>\n",
       "</table>\n",
       "</div>"
      ],
      "text/plain": [
       "                             School Country   Num   Rank\n",
       "14438   The University of Liverpool   China  4940  100.0\n",
       "14449  The University of Manchester   China  5280  101.0\n",
       "14506     University College London   China  5640  102.0"
      ]
     },
     "execution_count": 38,
     "metadata": {},
     "output_type": "execute_result"
    }
   ],
   "source": [
    "arank = aoutput[aoutput.Country == 'China']\n",
    "arank[arank.Rank >= 100]"
   ]
  },
  {
   "cell_type": "code",
   "execution_count": 39,
   "metadata": {},
   "outputs": [
    {
     "data": {
      "text/plain": [
       "(25410, 4)"
      ]
     },
     "execution_count": 39,
     "metadata": {},
     "output_type": "execute_result"
    }
   ],
   "source": [
    "aoutput.shape"
   ]
  },
  {
   "cell_type": "code",
   "execution_count": 40,
   "metadata": {},
   "outputs": [
    {
     "name": "stdout",
     "output_type": "stream",
     "text": [
      "(8999, 4)\n"
     ]
    },
    {
     "data": {
      "text/html": [
       "<div>\n",
       "<style scoped>\n",
       "    .dataframe tbody tr th:only-of-type {\n",
       "        vertical-align: middle;\n",
       "    }\n",
       "\n",
       "    .dataframe tbody tr th {\n",
       "        vertical-align: top;\n",
       "    }\n",
       "\n",
       "    .dataframe thead th {\n",
       "        text-align: right;\n",
       "    }\n",
       "</style>\n",
       "<table border=\"1\" class=\"dataframe\">\n",
       "  <thead>\n",
       "    <tr style=\"text-align: right;\">\n",
       "      <th></th>\n",
       "      <th>School</th>\n",
       "      <th>Country</th>\n",
       "      <th>Num</th>\n",
       "      <th>Rank</th>\n",
       "    </tr>\n",
       "  </thead>\n",
       "  <tbody>\n",
       "    <tr>\n",
       "      <th>0</th>\n",
       "      <td>The University of Aberdeen</td>\n",
       "      <td>Austria</td>\n",
       "      <td>45</td>\n",
       "      <td>8.0</td>\n",
       "    </tr>\n",
       "    <tr>\n",
       "      <th>1</th>\n",
       "      <td>University of Abertay Dundee</td>\n",
       "      <td>Austria</td>\n",
       "      <td>5</td>\n",
       "      <td>2.0</td>\n",
       "    </tr>\n",
       "    <tr>\n",
       "      <th>4</th>\n",
       "      <td>Anglia Ruskin University</td>\n",
       "      <td>Austria</td>\n",
       "      <td>10</td>\n",
       "      <td>3.0</td>\n",
       "    </tr>\n",
       "    <tr>\n",
       "      <th>5</th>\n",
       "      <td>Aston University</td>\n",
       "      <td>Austria</td>\n",
       "      <td>10</td>\n",
       "      <td>3.0</td>\n",
       "    </tr>\n",
       "    <tr>\n",
       "      <th>6</th>\n",
       "      <td>Bangor University</td>\n",
       "      <td>Austria</td>\n",
       "      <td>5</td>\n",
       "      <td>2.0</td>\n",
       "    </tr>\n",
       "  </tbody>\n",
       "</table>\n",
       "</div>"
      ],
      "text/plain": [
       "                         School  Country  Num  Rank\n",
       "0    The University of Aberdeen  Austria   45   8.0\n",
       "1  University of Abertay Dundee  Austria    5   2.0\n",
       "4      Anglia Ruskin University  Austria   10   3.0\n",
       "5              Aston University  Austria   10   3.0\n",
       "6             Bangor University  Austria    5   2.0"
      ]
     },
     "execution_count": 40,
     "metadata": {},
     "output_type": "execute_result"
    }
   ],
   "source": [
    "alean = aoutput.copy()\n",
    "\n",
    "alean = alean[alean['Num'] != 0]\n",
    "\n",
    "print(alean.shape)\n",
    "alean.head()"
   ]
  },
  {
   "cell_type": "code",
   "execution_count": 41,
   "metadata": {},
   "outputs": [
    {
     "name": "stdout",
     "output_type": "stream",
     "text": [
      "(261, 13)\n"
     ]
    },
    {
     "data": {
      "text/html": [
       "<div>\n",
       "<style scoped>\n",
       "    .dataframe tbody tr th:only-of-type {\n",
       "        vertical-align: middle;\n",
       "    }\n",
       "\n",
       "    .dataframe tbody tr th {\n",
       "        vertical-align: top;\n",
       "    }\n",
       "\n",
       "    .dataframe thead th {\n",
       "        text-align: right;\n",
       "    }\n",
       "</style>\n",
       "<table border=\"1\" class=\"dataframe\">\n",
       "  <thead>\n",
       "    <tr style=\"text-align: right;\">\n",
       "      <th></th>\n",
       "      <th>UKPRN</th>\n",
       "      <th>Provider</th>\n",
       "      <th>England</th>\n",
       "      <th>Wales</th>\n",
       "      <th>Scotland</th>\n",
       "      <th>Northern Ireland</th>\n",
       "      <th>Other UK</th>\n",
       "      <th>Total UK</th>\n",
       "      <th>Other European Union</th>\n",
       "      <th>Non-European Union</th>\n",
       "      <th>Total Non-UK</th>\n",
       "      <th>Not known</th>\n",
       "      <th>Total</th>\n",
       "    </tr>\n",
       "  </thead>\n",
       "  <tbody>\n",
       "    <tr>\n",
       "      <th>0</th>\n",
       "      <td>10008071.0</td>\n",
       "      <td>AA School of Architecture</td>\n",
       "      <td>90</td>\n",
       "      <td>0</td>\n",
       "      <td>0</td>\n",
       "      <td>0</td>\n",
       "      <td>0</td>\n",
       "      <td>90</td>\n",
       "      <td>125</td>\n",
       "      <td>470</td>\n",
       "      <td>595</td>\n",
       "      <td>0</td>\n",
       "      <td>685</td>\n",
       "    </tr>\n",
       "    <tr>\n",
       "      <th>1</th>\n",
       "      <td>10007783.0</td>\n",
       "      <td>The University of Aberdeen</td>\n",
       "      <td>1245</td>\n",
       "      <td>30</td>\n",
       "      <td>6310</td>\n",
       "      <td>165</td>\n",
       "      <td>10</td>\n",
       "      <td>7755</td>\n",
       "      <td>2820</td>\n",
       "      <td>1845</td>\n",
       "      <td>4670</td>\n",
       "      <td>0</td>\n",
       "      <td>12425</td>\n",
       "    </tr>\n",
       "  </tbody>\n",
       "</table>\n",
       "</div>"
      ],
      "text/plain": [
       "        UKPRN                    Provider  England  Wales  Scotland  \\\n",
       "0  10008071.0   AA School of Architecture       90      0         0   \n",
       "1  10007783.0  The University of Aberdeen     1245     30      6310   \n",
       "\n",
       "   Northern Ireland  Other UK  Total UK  Other European Union  \\\n",
       "0                 0         0        90                   125   \n",
       "1               165        10      7755                  2820   \n",
       "\n",
       "   Non-European Union  Total Non-UK  Not known  Total  \n",
       "0                 470           595          0    685  \n",
       "1                1845          4670          0  12425  "
      ]
     },
     "execution_count": 41,
     "metadata": {},
     "output_type": "execute_result"
    }
   ],
   "source": [
    "enrol = pd.read_csv('he_enrolment.csv', skiprows=14, thousands=',')\n",
    "\n",
    "print(enrol.shape)\n",
    "enrol.head(2)"
   ]
  },
  {
   "cell_type": "code",
   "execution_count": 42,
   "metadata": {},
   "outputs": [
    {
     "data": {
      "text/html": [
       "<div>\n",
       "<style scoped>\n",
       "    .dataframe tbody tr th:only-of-type {\n",
       "        vertical-align: middle;\n",
       "    }\n",
       "\n",
       "    .dataframe tbody tr th {\n",
       "        vertical-align: top;\n",
       "    }\n",
       "\n",
       "    .dataframe thead th {\n",
       "        text-align: right;\n",
       "    }\n",
       "</style>\n",
       "<table border=\"1\" class=\"dataframe\">\n",
       "  <thead>\n",
       "    <tr style=\"text-align: right;\">\n",
       "      <th></th>\n",
       "      <th>School</th>\n",
       "      <th>Student Total</th>\n",
       "    </tr>\n",
       "  </thead>\n",
       "  <tbody>\n",
       "    <tr>\n",
       "      <th>0</th>\n",
       "      <td>AA School of Architecture</td>\n",
       "      <td>685</td>\n",
       "    </tr>\n",
       "    <tr>\n",
       "      <th>1</th>\n",
       "      <td>The University of Aberdeen</td>\n",
       "      <td>12425</td>\n",
       "    </tr>\n",
       "  </tbody>\n",
       "</table>\n",
       "</div>"
      ],
      "text/plain": [
       "                       School  Student Total\n",
       "0   AA School of Architecture            685\n",
       "1  The University of Aberdeen          12425"
      ]
     },
     "execution_count": 42,
     "metadata": {},
     "output_type": "execute_result"
    }
   ],
   "source": [
    "enrol = enrol[['Provider', 'Total']]\n",
    "\n",
    "enrol.rename(columns={'Provider': 'School', 'Total': 'Student Total'}, inplace=True)\n",
    "\n",
    "enrol.head(2)"
   ]
  },
  {
   "cell_type": "code",
   "execution_count": 43,
   "metadata": {},
   "outputs": [
    {
     "name": "stdout",
     "output_type": "stream",
     "text": [
      "(8999, 4)\n",
      "(8999, 5)\n"
     ]
    },
    {
     "data": {
      "text/html": [
       "<div>\n",
       "<style scoped>\n",
       "    .dataframe tbody tr th:only-of-type {\n",
       "        vertical-align: middle;\n",
       "    }\n",
       "\n",
       "    .dataframe tbody tr th {\n",
       "        vertical-align: top;\n",
       "    }\n",
       "\n",
       "    .dataframe thead th {\n",
       "        text-align: right;\n",
       "    }\n",
       "</style>\n",
       "<table border=\"1\" class=\"dataframe\">\n",
       "  <thead>\n",
       "    <tr style=\"text-align: right;\">\n",
       "      <th></th>\n",
       "      <th>School</th>\n",
       "      <th>Country</th>\n",
       "      <th>Num</th>\n",
       "      <th>Rank</th>\n",
       "      <th>Student Total</th>\n",
       "    </tr>\n",
       "  </thead>\n",
       "  <tbody>\n",
       "    <tr>\n",
       "      <th>0</th>\n",
       "      <td>The University of Aberdeen</td>\n",
       "      <td>Austria</td>\n",
       "      <td>45</td>\n",
       "      <td>8.0</td>\n",
       "      <td>12425</td>\n",
       "    </tr>\n",
       "    <tr>\n",
       "      <th>1</th>\n",
       "      <td>The University of Aberdeen</td>\n",
       "      <td>Belgium</td>\n",
       "      <td>55</td>\n",
       "      <td>12.0</td>\n",
       "      <td>12425</td>\n",
       "    </tr>\n",
       "  </tbody>\n",
       "</table>\n",
       "</div>"
      ],
      "text/plain": [
       "                       School  Country  Num  Rank  Student Total\n",
       "0  The University of Aberdeen  Austria   45   8.0          12425\n",
       "1  The University of Aberdeen  Belgium   55  12.0          12425"
      ]
     },
     "execution_count": 43,
     "metadata": {},
     "output_type": "execute_result"
    }
   ],
   "source": [
    "print(alean.shape)\n",
    "\n",
    "alean = pd.merge(alean, enrol, on='School')\n",
    "print(alean.shape)\n",
    "alean.head(2)"
   ]
  },
  {
   "cell_type": "code",
   "execution_count": 44,
   "metadata": {},
   "outputs": [
    {
     "data": {
      "text/html": [
       "<div>\n",
       "<style scoped>\n",
       "    .dataframe tbody tr th:only-of-type {\n",
       "        vertical-align: middle;\n",
       "    }\n",
       "\n",
       "    .dataframe tbody tr th {\n",
       "        vertical-align: top;\n",
       "    }\n",
       "\n",
       "    .dataframe thead th {\n",
       "        text-align: right;\n",
       "    }\n",
       "</style>\n",
       "<table border=\"1\" class=\"dataframe\">\n",
       "  <thead>\n",
       "    <tr style=\"text-align: right;\">\n",
       "      <th></th>\n",
       "      <th>School</th>\n",
       "      <th>Country</th>\n",
       "      <th>Num</th>\n",
       "      <th>Rank</th>\n",
       "      <th>Student Total</th>\n",
       "      <th>Perc</th>\n",
       "    </tr>\n",
       "  </thead>\n",
       "  <tbody>\n",
       "    <tr>\n",
       "      <th>0</th>\n",
       "      <td>The University of Aberdeen</td>\n",
       "      <td>Austria</td>\n",
       "      <td>45</td>\n",
       "      <td>8.0</td>\n",
       "      <td>12425</td>\n",
       "      <td>0.0036</td>\n",
       "    </tr>\n",
       "    <tr>\n",
       "      <th>1</th>\n",
       "      <td>The University of Aberdeen</td>\n",
       "      <td>Belgium</td>\n",
       "      <td>55</td>\n",
       "      <td>12.0</td>\n",
       "      <td>12425</td>\n",
       "      <td>0.0044</td>\n",
       "    </tr>\n",
       "    <tr>\n",
       "      <th>2</th>\n",
       "      <td>The University of Aberdeen</td>\n",
       "      <td>Bulgaria</td>\n",
       "      <td>180</td>\n",
       "      <td>28.0</td>\n",
       "      <td>12425</td>\n",
       "      <td>0.0145</td>\n",
       "    </tr>\n",
       "    <tr>\n",
       "      <th>3</th>\n",
       "      <td>The University of Aberdeen</td>\n",
       "      <td>Croatia</td>\n",
       "      <td>10</td>\n",
       "      <td>3.0</td>\n",
       "      <td>12425</td>\n",
       "      <td>0.0008</td>\n",
       "    </tr>\n",
       "    <tr>\n",
       "      <th>4</th>\n",
       "      <td>The University of Aberdeen</td>\n",
       "      <td>Czech Rep.</td>\n",
       "      <td>100</td>\n",
       "      <td>15.0</td>\n",
       "      <td>12425</td>\n",
       "      <td>0.0080</td>\n",
       "    </tr>\n",
       "  </tbody>\n",
       "</table>\n",
       "</div>"
      ],
      "text/plain": [
       "                       School     Country  Num  Rank  Student Total    Perc\n",
       "0  The University of Aberdeen     Austria   45   8.0          12425  0.0036\n",
       "1  The University of Aberdeen     Belgium   55  12.0          12425  0.0044\n",
       "2  The University of Aberdeen    Bulgaria  180  28.0          12425  0.0145\n",
       "3  The University of Aberdeen     Croatia   10   3.0          12425  0.0008\n",
       "4  The University of Aberdeen  Czech Rep.  100  15.0          12425  0.0080"
      ]
     },
     "execution_count": 44,
     "metadata": {},
     "output_type": "execute_result"
    }
   ],
   "source": [
    "alean['Perc'] = alean['Num'] / alean['Student Total']\n",
    "alean['Perc'] = round(alean['Perc'], 4)\n",
    "\n",
    "alean.head()"
   ]
  },
  {
   "cell_type": "code",
   "execution_count": 45,
   "metadata": {},
   "outputs": [
    {
     "data": {
      "text/html": [
       "<div>\n",
       "<style scoped>\n",
       "    .dataframe tbody tr th:only-of-type {\n",
       "        vertical-align: middle;\n",
       "    }\n",
       "\n",
       "    .dataframe tbody tr th {\n",
       "        vertical-align: top;\n",
       "    }\n",
       "\n",
       "    .dataframe thead th {\n",
       "        text-align: right;\n",
       "    }\n",
       "</style>\n",
       "<table border=\"1\" class=\"dataframe\">\n",
       "  <thead>\n",
       "    <tr style=\"text-align: right;\">\n",
       "      <th></th>\n",
       "      <th>School</th>\n",
       "      <th>Country</th>\n",
       "      <th>Num</th>\n",
       "      <th>Rank</th>\n",
       "      <th>Student Total</th>\n",
       "      <th>Perc</th>\n",
       "    </tr>\n",
       "  </thead>\n",
       "  <tbody>\n",
       "    <tr>\n",
       "      <th>3783</th>\n",
       "      <td>The University of Liverpool</td>\n",
       "      <td>China</td>\n",
       "      <td>4940</td>\n",
       "      <td>100.0</td>\n",
       "      <td>25370</td>\n",
       "      <td>0.1947</td>\n",
       "    </tr>\n",
       "  </tbody>\n",
       "</table>\n",
       "</div>"
      ],
      "text/plain": [
       "                           School Country   Num   Rank  Student Total    Perc\n",
       "3783  The University of Liverpool   China  4940  100.0          25370  0.1947"
      ]
     },
     "execution_count": 45,
     "metadata": {},
     "output_type": "execute_result"
    }
   ],
   "source": [
    "alean[alean.Perc == alean.Perc.max()]"
   ]
  },
  {
   "cell_type": "code",
   "execution_count": 46,
   "metadata": {},
   "outputs": [],
   "source": [
    "def perc_text(x):\n",
    "    return \"{}%\".format(round(x*100, 2))"
   ]
  },
  {
   "cell_type": "code",
   "execution_count": 47,
   "metadata": {},
   "outputs": [
    {
     "name": "stdout",
     "output_type": "stream",
     "text": [
      "(8999, 8)\n"
     ]
    },
    {
     "data": {
      "text/html": [
       "<div>\n",
       "<style scoped>\n",
       "    .dataframe tbody tr th:only-of-type {\n",
       "        vertical-align: middle;\n",
       "    }\n",
       "\n",
       "    .dataframe tbody tr th {\n",
       "        vertical-align: top;\n",
       "    }\n",
       "\n",
       "    .dataframe thead th {\n",
       "        text-align: right;\n",
       "    }\n",
       "</style>\n",
       "<table border=\"1\" class=\"dataframe\">\n",
       "  <thead>\n",
       "    <tr style=\"text-align: right;\">\n",
       "      <th></th>\n",
       "      <th>School</th>\n",
       "      <th>Country</th>\n",
       "      <th>Num</th>\n",
       "      <th>Rank</th>\n",
       "      <th>Student Total</th>\n",
       "      <th>Perc</th>\n",
       "      <th>PercText</th>\n",
       "      <th>PercRank</th>\n",
       "    </tr>\n",
       "  </thead>\n",
       "  <tbody>\n",
       "    <tr>\n",
       "      <th>0</th>\n",
       "      <td>The University of Aberdeen</td>\n",
       "      <td>Austria</td>\n",
       "      <td>45</td>\n",
       "      <td>8.0</td>\n",
       "      <td>12425</td>\n",
       "      <td>0.0036</td>\n",
       "      <td>0.36%</td>\n",
       "      <td>28.0</td>\n",
       "    </tr>\n",
       "    <tr>\n",
       "      <th>1</th>\n",
       "      <td>The University of Aberdeen</td>\n",
       "      <td>Belgium</td>\n",
       "      <td>55</td>\n",
       "      <td>12.0</td>\n",
       "      <td>12425</td>\n",
       "      <td>0.0044</td>\n",
       "      <td>0.44%</td>\n",
       "      <td>33.0</td>\n",
       "    </tr>\n",
       "    <tr>\n",
       "      <th>2</th>\n",
       "      <td>The University of Aberdeen</td>\n",
       "      <td>Bulgaria</td>\n",
       "      <td>180</td>\n",
       "      <td>28.0</td>\n",
       "      <td>12425</td>\n",
       "      <td>0.0145</td>\n",
       "      <td>1.45%</td>\n",
       "      <td>62.0</td>\n",
       "    </tr>\n",
       "    <tr>\n",
       "      <th>3</th>\n",
       "      <td>The University of Aberdeen</td>\n",
       "      <td>Croatia</td>\n",
       "      <td>10</td>\n",
       "      <td>3.0</td>\n",
       "      <td>12425</td>\n",
       "      <td>0.0008</td>\n",
       "      <td>0.08%</td>\n",
       "      <td>7.0</td>\n",
       "    </tr>\n",
       "    <tr>\n",
       "      <th>4</th>\n",
       "      <td>The University of Aberdeen</td>\n",
       "      <td>Czech Rep.</td>\n",
       "      <td>100</td>\n",
       "      <td>15.0</td>\n",
       "      <td>12425</td>\n",
       "      <td>0.0080</td>\n",
       "      <td>0.8%</td>\n",
       "      <td>35.0</td>\n",
       "    </tr>\n",
       "  </tbody>\n",
       "</table>\n",
       "</div>"
      ],
      "text/plain": [
       "                       School     Country  Num  Rank  Student Total    Perc  \\\n",
       "0  The University of Aberdeen     Austria   45   8.0          12425  0.0036   \n",
       "1  The University of Aberdeen     Belgium   55  12.0          12425  0.0044   \n",
       "2  The University of Aberdeen    Bulgaria  180  28.0          12425  0.0145   \n",
       "3  The University of Aberdeen     Croatia   10   3.0          12425  0.0008   \n",
       "4  The University of Aberdeen  Czech Rep.  100  15.0          12425  0.0080   \n",
       "\n",
       "  PercText  PercRank  \n",
       "0    0.36%      28.0  \n",
       "1    0.44%      33.0  \n",
       "2    1.45%      62.0  \n",
       "3    0.08%       7.0  \n",
       "4     0.8%      35.0  "
      ]
     },
     "execution_count": 47,
     "metadata": {},
     "output_type": "execute_result"
    }
   ],
   "source": [
    "alean['PercText'] = alean['Perc'].apply(perc_text)\n",
    "alean['PercRank'] = alean.groupby('Country')['Perc'].rank(ascending=True, method='dense')\n",
    "\n",
    "print(alean.shape)\n",
    "alean.head()"
   ]
  },
  {
   "cell_type": "code",
   "execution_count": 48,
   "metadata": {},
   "outputs": [
    {
     "data": {
      "text/html": [
       "<div>\n",
       "<style scoped>\n",
       "    .dataframe tbody tr th:only-of-type {\n",
       "        vertical-align: middle;\n",
       "    }\n",
       "\n",
       "    .dataframe tbody tr th {\n",
       "        vertical-align: top;\n",
       "    }\n",
       "\n",
       "    .dataframe thead th {\n",
       "        text-align: right;\n",
       "    }\n",
       "</style>\n",
       "<table border=\"1\" class=\"dataframe\">\n",
       "  <thead>\n",
       "    <tr style=\"text-align: right;\">\n",
       "      <th></th>\n",
       "      <th>School</th>\n",
       "      <th>Country</th>\n",
       "      <th>Num</th>\n",
       "      <th>Rank</th>\n",
       "      <th>Student Total</th>\n",
       "      <th>Perc</th>\n",
       "      <th>PercText</th>\n",
       "      <th>PercRank</th>\n",
       "    </tr>\n",
       "  </thead>\n",
       "  <tbody>\n",
       "    <tr>\n",
       "      <th>2418</th>\n",
       "      <td>The National Film and Television School</td>\n",
       "      <td>Austria</td>\n",
       "      <td>5</td>\n",
       "      <td>2.0</td>\n",
       "      <td>305</td>\n",
       "      <td>0.0164</td>\n",
       "      <td>1.64%</td>\n",
       "      <td>36.0</td>\n",
       "    </tr>\n",
       "    <tr>\n",
       "      <th>4181</th>\n",
       "      <td>London School of Hygiene and Tropical Medicine</td>\n",
       "      <td>Austria</td>\n",
       "      <td>5</td>\n",
       "      <td>2.0</td>\n",
       "      <td>700</td>\n",
       "      <td>0.0071</td>\n",
       "      <td>0.71%</td>\n",
       "      <td>35.0</td>\n",
       "    </tr>\n",
       "    <tr>\n",
       "      <th>4081</th>\n",
       "      <td>London School of Economics and Political Science</td>\n",
       "      <td>Austria</td>\n",
       "      <td>75</td>\n",
       "      <td>13.0</td>\n",
       "      <td>11185</td>\n",
       "      <td>0.0067</td>\n",
       "      <td>0.67%</td>\n",
       "      <td>34.0</td>\n",
       "    </tr>\n",
       "    <tr>\n",
       "      <th>5520</th>\n",
       "      <td>Royal College of Music</td>\n",
       "      <td>Austria</td>\n",
       "      <td>5</td>\n",
       "      <td>2.0</td>\n",
       "      <td>805</td>\n",
       "      <td>0.0062</td>\n",
       "      <td>0.62%</td>\n",
       "      <td>33.0</td>\n",
       "    </tr>\n",
       "    <tr>\n",
       "      <th>2785</th>\n",
       "      <td>Guildhall School of Music and Drama</td>\n",
       "      <td>Austria</td>\n",
       "      <td>5</td>\n",
       "      <td>2.0</td>\n",
       "      <td>980</td>\n",
       "      <td>0.0051</td>\n",
       "      <td>0.51%</td>\n",
       "      <td>32.0</td>\n",
       "    </tr>\n",
       "  </tbody>\n",
       "</table>\n",
       "</div>"
      ],
      "text/plain": [
       "                                                School  Country  Num  Rank  \\\n",
       "2418           The National Film and Television School  Austria    5   2.0   \n",
       "4181    London School of Hygiene and Tropical Medicine  Austria    5   2.0   \n",
       "4081  London School of Economics and Political Science  Austria   75  13.0   \n",
       "5520                            Royal College of Music  Austria    5   2.0   \n",
       "2785               Guildhall School of Music and Drama  Austria    5   2.0   \n",
       "\n",
       "      Student Total    Perc PercText  PercRank  \n",
       "2418            305  0.0164    1.64%      36.0  \n",
       "4181            700  0.0071    0.71%      35.0  \n",
       "4081          11185  0.0067    0.67%      34.0  \n",
       "5520            805  0.0062    0.62%      33.0  \n",
       "2785            980  0.0051    0.51%      32.0  "
      ]
     },
     "execution_count": 48,
     "metadata": {},
     "output_type": "execute_result"
    }
   ],
   "source": [
    "# test sat\n",
    "arank = alean[alean.Country == 'Austria']\n",
    "arank = arank.sort_values(by=['PercRank'], ascending=False)\n",
    "\n",
    "arank.head()"
   ]
  },
  {
   "cell_type": "code",
   "execution_count": 49,
   "metadata": {},
   "outputs": [
    {
     "data": {
      "text/html": [
       "<div>\n",
       "<style scoped>\n",
       "    .dataframe tbody tr th:only-of-type {\n",
       "        vertical-align: middle;\n",
       "    }\n",
       "\n",
       "    .dataframe tbody tr th {\n",
       "        vertical-align: top;\n",
       "    }\n",
       "\n",
       "    .dataframe thead th {\n",
       "        text-align: right;\n",
       "    }\n",
       "</style>\n",
       "<table border=\"1\" class=\"dataframe\">\n",
       "  <thead>\n",
       "    <tr style=\"text-align: right;\">\n",
       "      <th></th>\n",
       "      <th>School</th>\n",
       "      <th>Country</th>\n",
       "      <th>Num</th>\n",
       "      <th>Rank</th>\n",
       "      <th>Student Total</th>\n",
       "      <th>Perc</th>\n",
       "      <th>PercText</th>\n",
       "      <th>PercRank</th>\n",
       "    </tr>\n",
       "  </thead>\n",
       "  <tbody>\n",
       "    <tr>\n",
       "      <th>3783</th>\n",
       "      <td>The University of Liverpool</td>\n",
       "      <td>China</td>\n",
       "      <td>4940</td>\n",
       "      <td>100.0</td>\n",
       "      <td>25370</td>\n",
       "      <td>0.1947</td>\n",
       "      <td>19.47%</td>\n",
       "      <td>138.0</td>\n",
       "    </tr>\n",
       "    <tr>\n",
       "      <th>3001</th>\n",
       "      <td>Imperial College of Science, Technology and Me...</td>\n",
       "      <td>China</td>\n",
       "      <td>2990</td>\n",
       "      <td>93.0</td>\n",
       "      <td>16925</td>\n",
       "      <td>0.1767</td>\n",
       "      <td>17.67%</td>\n",
       "      <td>137.0</td>\n",
       "    </tr>\n",
       "    <tr>\n",
       "      <th>5494</th>\n",
       "      <td>Royal College of Art</td>\n",
       "      <td>China</td>\n",
       "      <td>360</td>\n",
       "      <td>38.0</td>\n",
       "      <td>2040</td>\n",
       "      <td>0.1765</td>\n",
       "      <td>17.65%</td>\n",
       "      <td>136.0</td>\n",
       "    </tr>\n",
       "    <tr>\n",
       "      <th>3861</th>\n",
       "      <td>University of the Arts, London</td>\n",
       "      <td>China</td>\n",
       "      <td>3170</td>\n",
       "      <td>95.0</td>\n",
       "      <td>18190</td>\n",
       "      <td>0.1743</td>\n",
       "      <td>17.43%</td>\n",
       "      <td>135.0</td>\n",
       "    </tr>\n",
       "    <tr>\n",
       "      <th>6539</th>\n",
       "      <td>University College London</td>\n",
       "      <td>China</td>\n",
       "      <td>5640</td>\n",
       "      <td>102.0</td>\n",
       "      <td>32710</td>\n",
       "      <td>0.1724</td>\n",
       "      <td>17.24%</td>\n",
       "      <td>134.0</td>\n",
       "    </tr>\n",
       "  </tbody>\n",
       "</table>\n",
       "</div>"
      ],
      "text/plain": [
       "                                                 School Country   Num   Rank  \\\n",
       "3783                        The University of Liverpool   China  4940  100.0   \n",
       "3001  Imperial College of Science, Technology and Me...   China  2990   93.0   \n",
       "5494                               Royal College of Art   China   360   38.0   \n",
       "3861                     University of the Arts, London   China  3170   95.0   \n",
       "6539                          University College London   China  5640  102.0   \n",
       "\n",
       "      Student Total    Perc PercText  PercRank  \n",
       "3783          25370  0.1947   19.47%     138.0  \n",
       "3001          16925  0.1767   17.67%     137.0  \n",
       "5494           2040  0.1765   17.65%     136.0  \n",
       "3861          18190  0.1743   17.43%     135.0  \n",
       "6539          32710  0.1724   17.24%     134.0  "
      ]
     },
     "execution_count": 49,
     "metadata": {},
     "output_type": "execute_result"
    }
   ],
   "source": [
    "# test sat\n",
    "arank = alean[alean.Country == 'China']\n",
    "arank = arank.sort_values(by=['PercRank'], ascending=False)\n",
    "\n",
    "arank.head()"
   ]
  },
  {
   "cell_type": "code",
   "execution_count": 50,
   "metadata": {},
   "outputs": [],
   "source": [
    "# alean.to_csv('he_map_lean_country.csv')"
   ]
  },
  {
   "cell_type": "markdown",
   "metadata": {},
   "source": [
    "## Ranking Countries"
   ]
  },
  {
   "cell_type": "code",
   "execution_count": 58,
   "metadata": {},
   "outputs": [
    {
     "data": {
      "text/html": [
       "<div>\n",
       "<style scoped>\n",
       "    .dataframe tbody tr th:only-of-type {\n",
       "        vertical-align: middle;\n",
       "    }\n",
       "\n",
       "    .dataframe tbody tr th {\n",
       "        vertical-align: top;\n",
       "    }\n",
       "\n",
       "    .dataframe thead th {\n",
       "        text-align: right;\n",
       "    }\n",
       "</style>\n",
       "<table border=\"1\" class=\"dataframe\">\n",
       "  <thead>\n",
       "    <tr style=\"text-align: right;\">\n",
       "      <th></th>\n",
       "      <th>Num</th>\n",
       "      <th>Rank</th>\n",
       "    </tr>\n",
       "    <tr>\n",
       "      <th>Country</th>\n",
       "      <th></th>\n",
       "      <th></th>\n",
       "    </tr>\n",
       "  </thead>\n",
       "  <tbody>\n",
       "    <tr>\n",
       "      <th>China</th>\n",
       "      <td>118320</td>\n",
       "      <td>1.0</td>\n",
       "    </tr>\n",
       "    <tr>\n",
       "      <th>India</th>\n",
       "      <td>18275</td>\n",
       "      <td>2.0</td>\n",
       "    </tr>\n",
       "    <tr>\n",
       "      <th>United States</th>\n",
       "      <td>15945</td>\n",
       "      <td>3.0</td>\n",
       "    </tr>\n",
       "    <tr>\n",
       "      <th>Malaysia</th>\n",
       "      <td>14555</td>\n",
       "      <td>4.0</td>\n",
       "    </tr>\n",
       "    <tr>\n",
       "      <th>Italy</th>\n",
       "      <td>12735</td>\n",
       "      <td>5.0</td>\n",
       "    </tr>\n",
       "  </tbody>\n",
       "</table>\n",
       "</div>"
      ],
      "text/plain": [
       "                  Num  Rank\n",
       "Country                    \n",
       "China          118320   1.0\n",
       "India           18275   2.0\n",
       "United States   15945   3.0\n",
       "Malaysia        14555   4.0\n",
       "Italy           12735   5.0"
      ]
     },
     "execution_count": 58,
     "metadata": {},
     "output_type": "execute_result"
    }
   ],
   "source": [
    "a_piv = pivot_table(alean,  values='Num', index=['Country'], aggfunc=np.sum)\n",
    "\n",
    "a_piv['Rank'] = a_piv['Num'].rank(ascending=False, method='dense')\n",
    "a_piv.sort_values(by=['Rank'], ascending=True, inplace=True)\n",
    "\n",
    "a_piv.head()"
   ]
  },
  {
   "cell_type": "code",
   "execution_count": 61,
   "metadata": {},
   "outputs": [
    {
     "data": {
      "text/plain": [
       "1"
      ]
     },
     "execution_count": 61,
     "metadata": {},
     "output_type": "execute_result"
    }
   ],
   "source": [
    "int(a_piv.loc['China'].Rank.item())"
   ]
  },
  {
   "cell_type": "markdown",
   "metadata": {},
   "source": [
    "## Calibrating zoom"
   ]
  },
  {
   "cell_type": "code",
   "execution_count": 63,
   "metadata": {},
   "outputs": [],
   "source": [
    "def flatten(items, seqtypes=(list, tuple)):\n",
    "    new_items = items.copy()\n",
    "    int_items = []\n",
    "    for i, x in enumerate(new_items):\n",
    "        while i < len(new_items) and isinstance(new_items[i], seqtypes):\n",
    "            new_items[i:i+1] = new_items[i]\n",
    "    for i in new_items:\n",
    "        if isinstance(i, int):\n",
    "            int_items.append(i)\n",
    "    return new_items"
   ]
  },
  {
   "cell_type": "code",
   "execution_count": 65,
   "metadata": {},
   "outputs": [
    {
     "name": "stdout",
     "output_type": "stream",
     "text": [
      "Bahamas - 42\n",
      "Cuba - 84\n",
      "Canada - 1584\n",
      "Dominican Rep. - 52\n",
      "Greenland - 264\n",
      "Belize - 40\n",
      "Guatemala - 70\n",
      "Honduras - 114\n",
      "Haiti - 42\n",
      "Costa Rica - 72\n",
      "Jamaica - 22\n",
      "Mexico - 340\n",
      "Puerto Rico - 18\n",
      "Nicaragua - 104\n",
      "Panama - 104\n",
      "El Salvador - 40\n",
      "United States - 888\n",
      "Trinidad and Tobago - 16\n",
      "Albania - 44\n",
      "Austria - 74\n",
      "Bosnia and Herz. - 44\n",
      "Bulgaria - 56\n",
      "Belgium - 30\n",
      "Belarus - 88\n",
      "Czech Rep. - 70\n",
      "Germany - 116\n",
      "Switzerland - 48\n",
      "Spain - 102\n",
      "Denmark - 48\n",
      "Finland - 76\n",
      "Estonia - 34\n",
      "France - 148\n",
      "United Kingdom - 112\n",
      "Croatia - 84\n",
      "Iceland - 40\n",
      "Ireland - 26\n",
      "Greece - 108\n",
      "Italy - 174\n",
      "Kosovo - 42\n",
      "Lithuania - 38\n",
      "Hungary - 62\n",
      "Luxembourg - 14\n",
      "Moldova - 54\n",
      "Latvia - 44\n",
      "Macedonia - 34\n",
      "Netherlands - 28\n",
      "Norway - 176\n",
      "Portugal - 66\n",
      "Montenegro - 36\n",
      "Russia - 1196\n",
      "Poland - 90\n",
      "Slovakia - 66\n",
      "Sweden - 80\n",
      "Serbia - 92\n",
      "Romania - 88\n",
      "Slovenia - 36\n",
      "Ukraine - 196\n",
      "Australia - 482\n",
      "Fiji - 44\n",
      "New Caledonia - 26\n",
      "Solomon Is. - 74\n",
      "Papua New Guinea - 162\n",
      "New Zealand - 132\n",
      "Vanuatu - 24\n",
      "Brazil - 406\n",
      "Ecuador - 66\n",
      "Bolivia - 120\n",
      "Chile - 228\n",
      "Peru - 152\n",
      "Guyana - 80\n",
      "Falkland Is. - 20\n",
      "Paraguay - 66\n",
      "Suriname - 52\n",
      "Colombia - 200\n",
      "Afghanistan - 138\n",
      "Uruguay - 42\n",
      "Argentina - 242\n",
      "Armenia - 40\n",
      "Azerbaijan - 88\n",
      "United Arab Emirates - 44\n",
      "Brunei - 16\n",
      "Venezuela - 184\n",
      "Bangladesh - 72\n",
      "China - 480\n",
      "Bhutan - 26\n",
      "Indonesia - 500\n",
      "India - 272\n",
      "Iran - 150\n",
      "Cyprus - 30\n",
      "Iraq - 60\n",
      "Georgia - 48\n",
      "N. Cyprus - 32\n",
      "Israel - 46\n",
      "Jordan - 38\n",
      "Japan - 130\n",
      "Kazakhstan - 224\n",
      "Kyrgyzstan - 70\n",
      "Korea - 38\n",
      "Cambodia - 34\n",
      "Kuwait - 18\n",
      "Lao PDR - 74\n",
      "Sri Lanka - 20\n",
      "Mongolia - 150\n",
      "Myanmar - 140\n",
      "Lebanon - 22\n",
      "Nepal - 46\n",
      "Oman - 94\n",
      "Malaysia - 124\n",
      "Pakistan - 132\n",
      "Palestine - 18\n",
      "Dem. Rep. Korea - 86\n",
      "Philippines - 220\n",
      "Qatar - 18\n",
      "Saudi Arabia - 152\n",
      "Thailand - 128\n",
      "Tajikistan - 82\n",
      "Syria - 54\n",
      "Turkmenistan - 108\n",
      "Turkey - 134\n",
      "Timor-Leste - 22\n",
      "Yemen - 88\n",
      "Vietnam - 88\n",
      "Angola - 150\n",
      "Burundi - 26\n",
      "Uzbekistan - 108\n",
      "Benin - 50\n",
      "Taiwan - 18\n",
      "Burkina Faso - 78\n",
      "Botswana - 80\n",
      "Central African Rep. - 124\n",
      "Cameroon - 122\n",
      "CÃ´te d'Ivoire - 92\n",
      "Dem. Rep. Congo - 244\n",
      "Congo - 98\n",
      "Djibouti - 30\n",
      "Eritrea - 56\n",
      "Egypt - 84\n",
      "Algeria - 124\n",
      "Gabon - 62\n",
      "Guinea-Bissau - 38\n",
      "Ghana - 50\n",
      "Ethiopia - 118\n",
      "Guinea - 140\n",
      "Kenya - 74\n",
      "Gambia - 32\n",
      "Eq. Guinea - 14\n",
      "Libya - 112\n",
      "Lesotho - 24\n",
      "Liberia - 54\n",
      "Morocco - 128\n",
      "Mali - 152\n",
      "Mozambique - 154\n",
      "Madagascar - 98\n",
      "Niger - 116\n",
      "Namibia - 88\n",
      "Mauritania - 78\n",
      "Sudan - 158\n",
      "Malawi - 56\n",
      "Rwanda - 26\n",
      "S. Sudan - 126\n",
      "W. Sahara - 56\n",
      "Nigeria - 116\n",
      "Senegal - 88\n",
      "Sierra Leone - 44\n",
      "Somaliland - 48\n",
      "Somalia - 72\n",
      "Swaziland - 22\n",
      "Tanzania - 98\n",
      "Tunisia - 62\n",
      "Chad - 116\n",
      "Togo - 38\n",
      "Uganda - 54\n",
      "South Africa - 188\n",
      "Zimbabwe - 74\n",
      "Zambia - 122\n"
     ]
    }
   ],
   "source": [
    "for i in geojson_layer['features']:\n",
    "    print(\"{} - {}\".format(i.get('properties').get('name'), len(flatten(i.get('geometry').get('coordinates')))))"
   ]
  },
  {
   "cell_type": "markdown",
   "metadata": {},
   "source": [
    "## Calc best lat lon"
   ]
  },
  {
   "cell_type": "code",
   "execution_count": 92,
   "metadata": {},
   "outputs": [],
   "source": [
    "# select US\n",
    "cn = [i for i in geojson_layer['features'] if (i.get('properties').get('name') == 'United States')][0]"
   ]
  },
  {
   "cell_type": "code",
   "execution_count": 93,
   "metadata": {},
   "outputs": [
    {
     "data": {
      "text/plain": [
       "[-155.54211, 19.08348, -155.68817, 18.91619, -155.93665, 19.05939, -155.90806]"
      ]
     },
     "execution_count": 93,
     "metadata": {},
     "output_type": "execute_result"
    }
   ],
   "source": [
    "# Viz US flattened lon lat\n",
    "flatten(cn.get('geometry').get('coordinates'))[:7]"
   ]
  },
  {
   "cell_type": "code",
   "execution_count": 94,
   "metadata": {},
   "outputs": [
    {
     "data": {
      "text/plain": [
       "-123.88204999999999"
      ]
     },
     "execution_count": 94,
     "metadata": {},
     "output_type": "execute_result"
    }
   ],
   "source": [
    "# calculate US media lon\n",
    "median(flatten(cn.get('geometry').get('coordinates'))[0::2])"
   ]
  },
  {
   "cell_type": "code",
   "execution_count": 98,
   "metadata": {},
   "outputs": [
    {
     "data": {
      "text/plain": [
       "45.07286500000005"
      ]
     },
     "execution_count": 98,
     "metadata": {},
     "output_type": "execute_result"
    }
   ],
   "source": [
    "# calculate US median lat\n",
    "median(flatten(cn.get('geometry').get('coordinates'))[1::2])"
   ]
  },
  {
   "cell_type": "code",
   "execution_count": null,
   "metadata": {},
   "outputs": [],
   "source": []
  }
 ],
 "metadata": {
  "kernelspec": {
   "display_name": "Python 3",
   "language": "python",
   "name": "python3"
  },
  "language_info": {
   "codemirror_mode": {
    "name": "ipython",
    "version": 3
   },
   "file_extension": ".py",
   "mimetype": "text/x-python",
   "name": "python",
   "nbconvert_exporter": "python",
   "pygments_lexer": "ipython3",
   "version": "3.7.3"
  }
 },
 "nbformat": 4,
 "nbformat_minor": 2
}
