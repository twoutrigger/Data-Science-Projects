{
 "cells": [
  {
   "cell_type": "code",
   "execution_count": 1,
   "metadata": {},
   "outputs": [],
   "source": [
    "import numpy as np\n",
    "import pandas as pd\n",
    "import matplotlib.pyplot as plt\n",
    "import seaborn as sns\n",
    "from pandas import pivot_table\n",
    "import json\n",
    "from statistics import median"
   ]
  },
  {
   "cell_type": "code",
   "execution_count": 2,
   "metadata": {},
   "outputs": [],
   "source": [
    "oeu = pd.read_csv('he_map_eu.csv', skiprows=14, thousands=',')\n",
    "ooe = pd.read_csv('he_map_oe.csv', skiprows=14, thousands=',')\n",
    "oaf = pd.read_csv('he_map_af.csv', skiprows=14, thousands=',')\n",
    "oas = pd.read_csv('he_map_as.csv', skiprows=14, thousands=',')\n",
    "oau = pd.read_csv('he_map_au.csv', skiprows=14, thousands=',')\n",
    "ome = pd.read_csv('he_map_me.csv', skiprows=14, thousands=',')\n",
    "ona = pd.read_csv('he_map_na.csv', skiprows=14, thousands=',')\n",
    "osa = pd.read_csv('he_map_sa.csv', skiprows=14, thousands=',')"
   ]
  },
  {
   "cell_type": "code",
   "execution_count": 3,
   "metadata": {},
   "outputs": [
    {
     "name": "stdout",
     "output_type": "stream",
     "text": [
      "(166, 41)\n",
      "(166, 30)\n",
      "(166, 61)\n",
      "(166, 37)\n",
      "(166, 32)\n",
      "(166, 19)\n",
      "(166, 45)\n",
      "(166, 18)\n"
     ]
    }
   ],
   "source": [
    "aeu = oeu.copy()\n",
    "aoe = ooe.copy()\n",
    "aaf = oaf.copy()\n",
    "aas = oas.copy()\n",
    "aau = oau.copy()\n",
    "ame = ome.copy()\n",
    "ana = ona.copy()\n",
    "asa = osa.copy()\n",
    "\n",
    "aeu = aeu.apply(pd.to_numeric, errors='ignore')\n",
    "aoe = aoe.apply(pd.to_numeric, errors='ignore')\n",
    "aaf = aaf.apply(pd.to_numeric, errors='ignore')\n",
    "aas = aas.apply(pd.to_numeric, errors='ignore')\n",
    "aau = aau.apply(pd.to_numeric, errors='ignore')\n",
    "ame = ame.apply(pd.to_numeric, errors='ignore')\n",
    "ana = ana.apply(pd.to_numeric, errors='ignore')\n",
    "asa = asa.apply(pd.to_numeric, errors='ignore')\n",
    "\n",
    "cont_list=[aeu,aoe,aaf,aas,aau,ame,ana,asa]\n",
    "\n",
    "for i in cont_list:\n",
    "    print(i.shape)"
   ]
  },
  {
   "cell_type": "code",
   "execution_count": 4,
   "metadata": {},
   "outputs": [
    {
     "data": {
      "text/plain": [
       "166"
      ]
     },
     "execution_count": 4,
     "metadata": {},
     "output_type": "execute_result"
    }
   ],
   "source": [
    "# all Uni names are unique\n",
    "len(aas['HE Provider'].unique())"
   ]
  },
  {
   "cell_type": "code",
   "execution_count": 5,
   "metadata": {},
   "outputs": [
    {
     "name": "stdout",
     "output_type": "stream",
     "text": [
      "UKPRN\n",
      "UKPRN\n",
      "UKPRN\n",
      "UKPRN\n",
      "UKPRN\n",
      "UKPRN\n",
      "UKPRN\n",
      "UKPRN\n"
     ]
    }
   ],
   "source": [
    "# varify skip rows are consistent\n",
    "for i in cont_list:\n",
    "    print(i.columns[0])"
   ]
  },
  {
   "cell_type": "code",
   "execution_count": 6,
   "metadata": {},
   "outputs": [
    {
     "name": "stdout",
     "output_type": "stream",
     "text": [
      "(165, 41)\n",
      "(165, 30)\n",
      "(165, 61)\n",
      "(165, 37)\n",
      "(165, 32)\n",
      "(165, 19)\n",
      "(165, 45)\n",
      "(165, 18)\n"
     ]
    }
   ],
   "source": [
    "# drop row Total\n",
    "for i in cont_list:\n",
    "    i.drop([i.index[-1]], inplace=True)\n",
    "    print(i.shape)"
   ]
  },
  {
   "cell_type": "code",
   "execution_count": 7,
   "metadata": {},
   "outputs": [
    {
     "name": "stdout",
     "output_type": "stream",
     "text": [
      "(165, 37)\n",
      "(165, 26)\n",
      "(165, 57)\n",
      "(165, 33)\n",
      "(165, 28)\n",
      "(165, 15)\n",
      "(165, 41)\n",
      "(165, 14)\n"
     ]
    }
   ],
   "source": [
    "# drop first column and last 3 columns\n",
    "for i in cont_list:\n",
    "    i.drop([i.columns[0], i.columns[-3], i.columns[-2], i.columns[-1]], axis=1, inplace=True)\n",
    "    print(i.shape)"
   ]
  },
  {
   "cell_type": "code",
   "execution_count": 52,
   "metadata": {},
   "outputs": [],
   "source": [
    "# cont_list=[aeu,aoe,aaf,aas,aau,ame,ana,asa]\n",
    "\n",
    "Europe = list(aeu.columns)[1:] + list(aoe.columns)[1:]\n",
    "Africa = list(aaf.columns)[1:]\n",
    "Asia = list(aas.columns)[1:]\n",
    "Oceania = list(aau.columns)[1:]\n",
    "ME = list(ame.columns)[1:]\n",
    "NA = list(ana.columns)[1:]\n",
    "SA = list(asa.columns)[1:]"
   ]
  },
  {
   "cell_type": "markdown",
   "metadata": {},
   "source": [
    "## Clean HE Names"
   ]
  },
  {
   "cell_type": "code",
   "execution_count": 53,
   "metadata": {},
   "outputs": [],
   "source": [
    "Europe.remove('Cyprus (European Union)')\n",
    "Europe.remove('Cyprus (Non-European Union)')\n",
    "Europe.remove('Cyprus not otherwise specified')\n",
    "Europe.append('Cyprus')"
   ]
  },
  {
   "cell_type": "code",
   "execution_count": 54,
   "metadata": {},
   "outputs": [],
   "source": [
    "Europe[Europe.index('Macedonia [Macedonia, The Former Yugoslav Republic of]')] = 'Macedonia'\n",
    "Europe[Europe.index('Moldova [Moldova, Republic of]')] = 'Moldova'\n",
    "Europe[Europe.index('Russia [Russian Federation]')] = 'Russia'\n",
    "\n",
    "Africa[Africa.index('Congo (Democratic Republic) [Congo (The Democratic Republic of the)]')] = 'Dem. Rep. Congo'\n",
    "Africa[Africa.index('Gambia, The')] = 'Gambia'\n",
    "Africa[Africa.index(\"Ivory Coast [Côte D'ivoire]\")] = \"Côte d'Ivoire\"\n",
    "Africa[Africa.index('Tanzania [Tanzania, United Republic of]')] = 'Russia'\n",
    "\n",
    "Asia[Asia.index('Burma [Myanmar]')] = 'Myanmar'\n",
    "Asia[Asia.index('Korea (South) [Korea, Republic of]')] = 'Korea'\n",
    "Asia[Asia.index(\"Laos [Lao People's Democratic Republic]\")] = 'Lao PDR'\n",
    "Asia[Asia.index('Taiwan [Taiwan, Province of China]')] = 'Taiwan'\n",
    "Asia[Asia.index('Vietnam [Viet Nam]')] = 'Vietnam'\n",
    "\n",
    "ME[ME.index('Iran [Iran, Islamic Republic of]')] = 'Iran'\n",
    "ME[ME.index('Occupied Palestinian Territories [Palestine, State of]')] = 'Palestine'\n",
    "ME[ME.index('Syria [Syrian Arab Republic]')] = 'Syria'\n",
    "\n",
    "NA[NA.index('Bahamas, The')] = 'Bahamas'\n",
    "\n",
    "SA[SA.index('Falkland Islands [Falkland Islands (Malvinas)]')] = 'Falkland Is.'\n",
    "SA[SA.index('Venezuela [Venezuela, Bolivarian Republic of]')] = 'Venezuela'"
   ]
  },
  {
   "cell_type": "code",
   "execution_count": 55,
   "metadata": {},
   "outputs": [],
   "source": [
    "Asia.remove('Hong Kong (Special Administrative Region of China) [Hong Kong]')\n",
    "Asia.remove('Macao (Special Administrative Region of China) [Macao]')"
   ]
  },
  {
   "cell_type": "code",
   "execution_count": 56,
   "metadata": {},
   "outputs": [],
   "source": [
    "Europe[Europe.index('Czech Republic')] = 'Czech Rep.'\n",
    "Europe[Europe.index('Bosnia and Herzegovina')] = 'Bosnia and Herz.'\n",
    "Africa[Africa.index('South Sudan')] = 'S. Sudan'\n",
    "NA[NA.index('Dominican Republic')] = 'Dominican Rep.'"
   ]
  },
  {
   "cell_type": "code",
   "execution_count": 74,
   "metadata": {},
   "outputs": [
    {
     "name": "stdout",
     "output_type": "stream",
     "text": [
      "(239, 2)\n"
     ]
    },
    {
     "data": {
      "text/html": [
       "<div>\n",
       "<style scoped>\n",
       "    .dataframe tbody tr th:only-of-type {\n",
       "        vertical-align: middle;\n",
       "    }\n",
       "\n",
       "    .dataframe tbody tr th {\n",
       "        vertical-align: top;\n",
       "    }\n",
       "\n",
       "    .dataframe thead th {\n",
       "        text-align: right;\n",
       "    }\n",
       "</style>\n",
       "<table border=\"1\" class=\"dataframe\">\n",
       "  <thead>\n",
       "    <tr style=\"text-align: right;\">\n",
       "      <th></th>\n",
       "      <th>Country</th>\n",
       "      <th>Continent</th>\n",
       "    </tr>\n",
       "  </thead>\n",
       "  <tbody>\n",
       "    <tr>\n",
       "      <td>0</td>\n",
       "      <td>Austria</td>\n",
       "      <td>Europe</td>\n",
       "    </tr>\n",
       "    <tr>\n",
       "      <td>1</td>\n",
       "      <td>Belgium</td>\n",
       "      <td>Europe</td>\n",
       "    </tr>\n",
       "    <tr>\n",
       "      <td>2</td>\n",
       "      <td>Bulgaria</td>\n",
       "      <td>Europe</td>\n",
       "    </tr>\n",
       "    <tr>\n",
       "      <td>3</td>\n",
       "      <td>Canary Islands</td>\n",
       "      <td>Europe</td>\n",
       "    </tr>\n",
       "    <tr>\n",
       "      <td>4</td>\n",
       "      <td>Croatia</td>\n",
       "      <td>Europe</td>\n",
       "    </tr>\n",
       "  </tbody>\n",
       "</table>\n",
       "</div>"
      ],
      "text/plain": [
       "          Country Continent\n",
       "0         Austria    Europe\n",
       "1         Belgium    Europe\n",
       "2        Bulgaria    Europe\n",
       "3  Canary Islands    Europe\n",
       "4         Croatia    Europe"
      ]
     },
     "execution_count": 74,
     "metadata": {},
     "output_type": "execute_result"
    }
   ],
   "source": [
    "continents = [Europe, Africa, Asia, Oceania, ME, NA, SA]\n",
    "labels = ['Europe', 'Africa', 'Asia', 'Oceania', 'ME', 'NA', 'SA']\n",
    "\n",
    "df = pd.DataFrame(columns=['Country', 'Continent'], index=range(1000))\n",
    "row = 0\n",
    "for i, cont in enumerate(continents):\n",
    "    for cn in cont:\n",
    "        df.loc[row].Country = cn\n",
    "        df.loc[row].Continent = labels[i]\n",
    "        row += 1\n",
    "        \n",
    "df.dropna(inplace=True)\n",
    "\n",
    "print(df.shape)\n",
    "df.head()"
   ]
  },
  {
   "cell_type": "code",
   "execution_count": 75,
   "metadata": {},
   "outputs": [
    {
     "data": {
      "text/html": [
       "<div>\n",
       "<style scoped>\n",
       "    .dataframe tbody tr th:only-of-type {\n",
       "        vertical-align: middle;\n",
       "    }\n",
       "\n",
       "    .dataframe tbody tr th {\n",
       "        vertical-align: top;\n",
       "    }\n",
       "\n",
       "    .dataframe thead th {\n",
       "        text-align: right;\n",
       "    }\n",
       "</style>\n",
       "<table border=\"1\" class=\"dataframe\">\n",
       "  <thead>\n",
       "    <tr style=\"text-align: right;\">\n",
       "      <th></th>\n",
       "      <th>Country</th>\n",
       "      <th>Continent</th>\n",
       "    </tr>\n",
       "  </thead>\n",
       "  <tbody>\n",
       "    <tr>\n",
       "      <td>234</td>\n",
       "      <td>Paraguay</td>\n",
       "      <td>SA</td>\n",
       "    </tr>\n",
       "    <tr>\n",
       "      <td>235</td>\n",
       "      <td>Peru</td>\n",
       "      <td>SA</td>\n",
       "    </tr>\n",
       "    <tr>\n",
       "      <td>236</td>\n",
       "      <td>Suriname</td>\n",
       "      <td>SA</td>\n",
       "    </tr>\n",
       "    <tr>\n",
       "      <td>237</td>\n",
       "      <td>Uruguay</td>\n",
       "      <td>SA</td>\n",
       "    </tr>\n",
       "    <tr>\n",
       "      <td>238</td>\n",
       "      <td>Venezuela</td>\n",
       "      <td>SA</td>\n",
       "    </tr>\n",
       "  </tbody>\n",
       "</table>\n",
       "</div>"
      ],
      "text/plain": [
       "       Country Continent\n",
       "234   Paraguay        SA\n",
       "235       Peru        SA\n",
       "236   Suriname        SA\n",
       "237    Uruguay        SA\n",
       "238  Venezuela        SA"
      ]
     },
     "execution_count": 75,
     "metadata": {},
     "output_type": "execute_result"
    }
   ],
   "source": [
    "df.tail()"
   ]
  },
  {
   "cell_type": "code",
   "execution_count": 76,
   "metadata": {},
   "outputs": [],
   "source": [
    "# df.to_csv('HE_continents.csv')"
   ]
  },
  {
   "cell_type": "code",
   "execution_count": null,
   "metadata": {},
   "outputs": [],
   "source": []
  }
 ],
 "metadata": {
  "kernelspec": {
   "display_name": "Python 3",
   "language": "python",
   "name": "python3"
  },
  "language_info": {
   "codemirror_mode": {
    "name": "ipython",
    "version": 3
   },
   "file_extension": ".py",
   "mimetype": "text/x-python",
   "name": "python",
   "nbconvert_exporter": "python",
   "pygments_lexer": "ipython3",
   "version": "3.7.3"
  }
 },
 "nbformat": 4,
 "nbformat_minor": 2
}
