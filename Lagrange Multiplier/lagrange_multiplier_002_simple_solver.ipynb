{
 "cells": [
  {
   "cell_type": "code",
   "execution_count": 1,
   "metadata": {},
   "outputs": [],
   "source": [
    "## simple tutorial on constrained optimization\n",
    "## tutorial url:\n",
    "## https://people.duke.edu/~ccc14/sta-663-2018/notebooks/S09H_Constrained_Optimization.html"
   ]
  },
  {
   "cell_type": "code",
   "execution_count": 2,
   "metadata": {},
   "outputs": [],
   "source": [
    "import numpy as np\n",
    "from scipy.linalg import cholesky, solve_triangular, cho_solve, cho_factor\n",
    "from scipy.linalg import solve\n",
    "from scipy.optimize import minimize"
   ]
  },
  {
   "cell_type": "markdown",
   "metadata": {},
   "source": [
    "#### Example 1\n",
    "\n",
    "Good resource for vectorization of parameters (i.e. x, y, z, lambda, etc)"
   ]
  },
  {
   "cell_type": "markdown",
   "metadata": {},
   "source": [
    "y−λ−μ=0\n",
    "\n",
    "x+z−2λ=0\n",
    "\n",
    "y+3μ=0\n",
    "\n",
    "x+2y−6=0\n",
    "\n",
    "x−3z=0"
   ]
  },
  {
   "cell_type": "code",
   "execution_count": 3,
   "metadata": {},
   "outputs": [
    {
     "data": {
      "text/plain": [
       "array([ 3. ,  1.5,  1. ,  2. , -0.5])"
      ]
     },
     "execution_count": 3,
     "metadata": {},
     "output_type": "execute_result"
    }
   ],
   "source": [
    "A = np.array([\n",
    "    [0, 1, 0, -1, -1],\n",
    "    [1, 0, 1, -2, 0],\n",
    "    [0, 1, 0, 0, 3],\n",
    "    [1, 2, 0, 0, 0],\n",
    "    [1, 0,-3, 0, 0]])\n",
    "\n",
    "b = np.array([0,0,0,6,0])\n",
    "\n",
    "sol = solve(A, b)\n",
    "\n",
    "sol"
   ]
  },
  {
   "cell_type": "code",
   "execution_count": 4,
   "metadata": {},
   "outputs": [
    {
     "data": {
      "text/plain": [
       "6.0"
      ]
     },
     "execution_count": 4,
     "metadata": {},
     "output_type": "execute_result"
    }
   ],
   "source": [
    "def f(x, y, z):\n",
    "    return x*y + y*z\n",
    "\n",
    "\n",
    "f(*sol[:3])"
   ]
  },
  {
   "cell_type": "markdown",
   "metadata": {},
   "source": [
    "#### Example 2"
   ]
  },
  {
   "cell_type": "markdown",
   "metadata": {},
   "source": [
    "26x1+10x2+1+2λ+μ=0\n",
    "\n",
    "10x1+14x2+1−5λ+μ=0\n",
    "\n",
    "2x1−5x2−2=0\n",
    "\n",
    "x1+x2−1=0"
   ]
  },
  {
   "cell_type": "code",
   "execution_count": 6,
   "metadata": {},
   "outputs": [
    {
     "data": {
      "text/plain": [
       "array([[ 1.00000000e+00],\n",
       "       [-1.74944234e-16],\n",
       "       [-2.28571429e+00],\n",
       "       [-2.24285714e+01]])"
      ]
     },
     "execution_count": 6,
     "metadata": {},
     "output_type": "execute_result"
    }
   ],
   "source": [
    "A = np.array([\n",
    "    [26, 10, 2, 1],\n",
    "    [10, 14, -5, 1],\n",
    "    [2, -5, 0, 0],\n",
    "    [1, 1, 0, 0]\n",
    "])\n",
    "\n",
    "b = np.array([-1, -1, 2, 1]).reshape(-1,1)\n",
    "\n",
    "solve(A, b)"
   ]
  },
  {
   "cell_type": "code",
   "execution_count": null,
   "metadata": {},
   "outputs": [],
   "source": []
  },
  {
   "cell_type": "code",
   "execution_count": null,
   "metadata": {},
   "outputs": [],
   "source": []
  }
 ],
 "metadata": {
  "kernelspec": {
   "display_name": "Python 3",
   "language": "python",
   "name": "python3"
  },
  "language_info": {
   "codemirror_mode": {
    "name": "ipython",
    "version": 3
   },
   "file_extension": ".py",
   "mimetype": "text/x-python",
   "name": "python",
   "nbconvert_exporter": "python",
   "pygments_lexer": "ipython3",
   "version": "3.7.3"
  }
 },
 "nbformat": 4,
 "nbformat_minor": 2
}
