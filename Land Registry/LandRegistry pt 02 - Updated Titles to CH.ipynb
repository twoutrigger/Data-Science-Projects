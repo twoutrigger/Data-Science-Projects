{
 "cells": [
  {
   "cell_type": "code",
   "execution_count": 1,
   "metadata": {},
   "outputs": [],
   "source": [
    "import numpy as np\n",
    "import pandas as pd\n",
    "import matplotlib.pyplot as plt"
   ]
  },
  {
   "cell_type": "code",
   "execution_count": 2,
   "metadata": {},
   "outputs": [],
   "source": [
    "### Tie updated title info to CH"
   ]
  },
  {
   "cell_type": "code",
   "execution_count": 3,
   "metadata": {},
   "outputs": [
    {
     "name": "stdout",
     "output_type": "stream",
     "text": [
      "(63745, 15)\n"
     ]
    },
    {
     "data": {
      "text/html": [
       "<div>\n",
       "<style scoped>\n",
       "    .dataframe tbody tr th:only-of-type {\n",
       "        vertical-align: middle;\n",
       "    }\n",
       "\n",
       "    .dataframe tbody tr th {\n",
       "        vertical-align: top;\n",
       "    }\n",
       "\n",
       "    .dataframe thead th {\n",
       "        text-align: right;\n",
       "    }\n",
       "</style>\n",
       "<table border=\"1\" class=\"dataframe\">\n",
       "  <thead>\n",
       "    <tr style=\"text-align: right;\">\n",
       "      <th></th>\n",
       "      <th>Title Number</th>\n",
       "      <th>Tenure</th>\n",
       "      <th>Property Address</th>\n",
       "      <th>District</th>\n",
       "      <th>County</th>\n",
       "      <th>Region</th>\n",
       "      <th>Postcode</th>\n",
       "      <th>Multiple Address Indicator</th>\n",
       "      <th>Price Paid</th>\n",
       "      <th>Proprietor Name (1)</th>\n",
       "      <th>Company Registration No. (1)</th>\n",
       "      <th>Proprietorship Category (1)</th>\n",
       "      <th>Proprietor (1) Address (1)</th>\n",
       "      <th>Proprietor (1) Address (2)</th>\n",
       "      <th>Proprietor (1) Address (3)</th>\n",
       "    </tr>\n",
       "  </thead>\n",
       "  <tbody>\n",
       "    <tr>\n",
       "      <td>0</td>\n",
       "      <td>NT72787</td>\n",
       "      <td>Freehold</td>\n",
       "      <td>2 Horsham Drive, Top Valley (NG5 9AH)</td>\n",
       "      <td>CITY OF NOTTINGHAM</td>\n",
       "      <td>CITY OF NOTTINGHAM</td>\n",
       "      <td>EAST MIDLANDS</td>\n",
       "      <td>NG5 9AH</td>\n",
       "      <td>N</td>\n",
       "      <td>30000.0</td>\n",
       "      <td>PLACES FOR PEOPLE HOMES LIMITED</td>\n",
       "      <td>IP19447R</td>\n",
       "      <td>Industrial and Provident Society (Company)</td>\n",
       "      <td>80 Cheapside, London EC2V 6EE</td>\n",
       "      <td>4 The Pavilions, Ashton-on-Ribble, Preston PR2...</td>\n",
       "      <td>NaN</td>\n",
       "    </tr>\n",
       "    <tr>\n",
       "      <td>1</td>\n",
       "      <td>LT25408</td>\n",
       "      <td>Freehold</td>\n",
       "      <td>98-100 Melton Road, Leicester (LE4 5EB)</td>\n",
       "      <td>LEICESTER</td>\n",
       "      <td>LEICESTER</td>\n",
       "      <td>EAST MIDLANDS</td>\n",
       "      <td>LE4 5EB</td>\n",
       "      <td>N</td>\n",
       "      <td>NaN</td>\n",
       "      <td>JADEMARK LIMITED</td>\n",
       "      <td>2847145</td>\n",
       "      <td>Limited Company or Public Limited Company</td>\n",
       "      <td>98 - 100 Melton Road, Leicester</td>\n",
       "      <td>NaN</td>\n",
       "      <td>NaN</td>\n",
       "    </tr>\n",
       "  </tbody>\n",
       "</table>\n",
       "</div>"
      ],
      "text/plain": [
       "  Title Number    Tenure                         Property Address  \\\n",
       "0      NT72787  Freehold    2 Horsham Drive, Top Valley (NG5 9AH)   \n",
       "1      LT25408  Freehold  98-100 Melton Road, Leicester (LE4 5EB)   \n",
       "\n",
       "             District              County         Region Postcode  \\\n",
       "0  CITY OF NOTTINGHAM  CITY OF NOTTINGHAM  EAST MIDLANDS  NG5 9AH   \n",
       "1           LEICESTER           LEICESTER  EAST MIDLANDS  LE4 5EB   \n",
       "\n",
       "  Multiple Address Indicator  Price Paid              Proprietor Name (1)  \\\n",
       "0                          N     30000.0  PLACES FOR PEOPLE HOMES LIMITED   \n",
       "1                          N         NaN                 JADEMARK LIMITED   \n",
       "\n",
       "  Company Registration No. (1)                 Proprietorship Category (1)  \\\n",
       "0                     IP19447R  Industrial and Provident Society (Company)   \n",
       "1                      2847145   Limited Company or Public Limited Company   \n",
       "\n",
       "        Proprietor (1) Address (1)  \\\n",
       "0    80 Cheapside, London EC2V 6EE   \n",
       "1  98 - 100 Melton Road, Leicester   \n",
       "\n",
       "                          Proprietor (1) Address (2)  \\\n",
       "0  4 The Pavilions, Ashton-on-Ribble, Preston PR2...   \n",
       "1                                                NaN   \n",
       "\n",
       "  Proprietor (1) Address (3)  \n",
       "0                        NaN  \n",
       "1                        NaN  "
      ]
     },
     "execution_count": 3,
     "metadata": {},
     "output_type": "execute_result"
    }
   ],
   "source": [
    "use_cols = ['Title Number', 'Tenure', 'Property Address', 'District', 'County',\n",
    "            'Region', 'Postcode', 'Multiple Address Indicator', 'Price Paid',\n",
    "            'Proprietor Name (1)', 'Company Registration No. (1)',\n",
    "            'Proprietorship Category (1)', 'Proprietor (1) Address (1)',\n",
    "            'Proprietor (1) Address (2)', 'Proprietor (1) Address (3)']\n",
    "\n",
    "rorig = pd.read_csv('CCOD_COU_2019_11.csv', skipfooter=1, engine='python',\n",
    "                    usecols=use_cols,\n",
    "                    dtype={'Title Number': str,\n",
    "                           'Company Registration No. (1)': str})\n",
    "\n",
    "print(rorig.shape)\n",
    "rorig.head(2)"
   ]
  },
  {
   "cell_type": "code",
   "execution_count": 4,
   "metadata": {},
   "outputs": [
    {
     "name": "stdout",
     "output_type": "stream",
     "text": [
      "<class 'pandas.core.frame.DataFrame'>\n",
      "RangeIndex: 63745 entries, 0 to 63744\n",
      "Data columns (total 15 columns):\n",
      "Title Number                    63745 non-null object\n",
      "Tenure                          63745 non-null object\n",
      "Property Address                63716 non-null object\n",
      "District                        63745 non-null object\n",
      "County                          63745 non-null object\n",
      "Region                          63745 non-null object\n",
      "Postcode                        48816 non-null object\n",
      "Multiple Address Indicator      63745 non-null object\n",
      "Price Paid                      15991 non-null float64\n",
      "Proprietor Name (1)             63745 non-null object\n",
      "Company Registration No. (1)    59444 non-null object\n",
      "Proprietorship Category (1)     63745 non-null object\n",
      "Proprietor (1) Address (1)      63744 non-null object\n",
      "Proprietor (1) Address (2)      5400 non-null object\n",
      "Proprietor (1) Address (3)      369 non-null object\n",
      "dtypes: float64(1), object(14)\n",
      "memory usage: 7.3+ MB\n"
     ]
    }
   ],
   "source": [
    "rorig.info(null_counts=True)"
   ]
  },
  {
   "cell_type": "code",
   "execution_count": 5,
   "metadata": {},
   "outputs": [],
   "source": [
    "redit = rorig.copy()"
   ]
  },
  {
   "cell_type": "code",
   "execution_count": 6,
   "metadata": {},
   "outputs": [
    {
     "name": "stdout",
     "output_type": "stream",
     "text": [
      "Freehold     46165\n",
      "Leasehold    17580\n",
      "Name: Tenure, dtype: int64\n",
      "(42660, 15)\n"
     ]
    }
   ],
   "source": [
    "print(redit.Tenure.value_counts())\n",
    "\n",
    "redit = redit[redit.Tenure == 'Freehold']\n",
    "redit = redit[~redit['Property Address'].isnull()]\n",
    "redit = redit[~redit['Company Registration No. (1)'].isnull()]\n",
    "\n",
    "print(redit.shape)"
   ]
  },
  {
   "cell_type": "code",
   "execution_count": 7,
   "metadata": {},
   "outputs": [
    {
     "name": "stdout",
     "output_type": "stream",
     "text": [
      "<class 'pandas.core.frame.DataFrame'>\n",
      "Int64Index: 42660 entries, 0 to 63744\n",
      "Data columns (total 15 columns):\n",
      "Title Number                    42660 non-null object\n",
      "Tenure                          42660 non-null object\n",
      "Property Address                42660 non-null object\n",
      "District                        42660 non-null object\n",
      "County                          42660 non-null object\n",
      "Region                          42660 non-null object\n",
      "Postcode                        31564 non-null object\n",
      "Multiple Address Indicator      42660 non-null object\n",
      "Price Paid                      11173 non-null float64\n",
      "Proprietor Name (1)             42660 non-null object\n",
      "Company Registration No. (1)    42660 non-null object\n",
      "Proprietorship Category (1)     42660 non-null object\n",
      "Proprietor (1) Address (1)      42659 non-null object\n",
      "Proprietor (1) Address (2)      3782 non-null object\n",
      "Proprietor (1) Address (3)      254 non-null object\n",
      "dtypes: float64(1), object(14)\n",
      "memory usage: 5.2+ MB\n"
     ]
    }
   ],
   "source": [
    "redit.info()"
   ]
  },
  {
   "cell_type": "code",
   "execution_count": 8,
   "metadata": {},
   "outputs": [
    {
     "name": "stdout",
     "output_type": "stream",
     "text": [
      "(4400981, 10)\n"
     ]
    },
    {
     "data": {
      "text/html": [
       "<div>\n",
       "<style scoped>\n",
       "    .dataframe tbody tr th:only-of-type {\n",
       "        vertical-align: middle;\n",
       "    }\n",
       "\n",
       "    .dataframe tbody tr th {\n",
       "        vertical-align: top;\n",
       "    }\n",
       "\n",
       "    .dataframe thead th {\n",
       "        text-align: right;\n",
       "    }\n",
       "</style>\n",
       "<table border=\"1\" class=\"dataframe\">\n",
       "  <thead>\n",
       "    <tr style=\"text-align: right;\">\n",
       "      <th></th>\n",
       "      <th>CompanyName</th>\n",
       "      <th>CompanyNumber</th>\n",
       "      <th>Sics</th>\n",
       "      <th>RegAddress.AddressLine1</th>\n",
       "      <th>RegAddress.AddressLine2</th>\n",
       "      <th>RegAddress.PostTown</th>\n",
       "      <th>RegAddress.County</th>\n",
       "      <th>RegAddress.Country</th>\n",
       "      <th>RegAddress.PostCode</th>\n",
       "      <th>CompanyStatus</th>\n",
       "    </tr>\n",
       "  </thead>\n",
       "  <tbody>\n",
       "    <tr>\n",
       "      <td>0</td>\n",
       "      <td>! LTD</td>\n",
       "      <td>08209948</td>\n",
       "      <td>99999 - Dormant Company</td>\n",
       "      <td>METROHOUSE 57 PEPPER ROAD</td>\n",
       "      <td>HUNSLET</td>\n",
       "      <td>LEEDS</td>\n",
       "      <td>YORKSHIRE</td>\n",
       "      <td>NaN</td>\n",
       "      <td>LS10 2RU</td>\n",
       "      <td>Active</td>\n",
       "    </tr>\n",
       "    <tr>\n",
       "      <td>1</td>\n",
       "      <td>!? LTD</td>\n",
       "      <td>11399177</td>\n",
       "      <td>47710 - Retail sale of clothing in specialised...</td>\n",
       "      <td>THE STUDIO HATHERLOW HOUSE</td>\n",
       "      <td>HATHERLOW</td>\n",
       "      <td>ROMILEY</td>\n",
       "      <td>NaN</td>\n",
       "      <td>UNITED KINGDOM</td>\n",
       "      <td>SK6 3DY</td>\n",
       "      <td>Active</td>\n",
       "    </tr>\n",
       "  </tbody>\n",
       "</table>\n",
       "</div>"
      ],
      "text/plain": [
       "  CompanyName CompanyNumber  \\\n",
       "0       ! LTD      08209948   \n",
       "1      !? LTD      11399177   \n",
       "\n",
       "                                                Sics  \\\n",
       "0                            99999 - Dormant Company   \n",
       "1  47710 - Retail sale of clothing in specialised...   \n",
       "\n",
       "      RegAddress.AddressLine1 RegAddress.AddressLine2 RegAddress.PostTown  \\\n",
       "0   METROHOUSE 57 PEPPER ROAD                 HUNSLET               LEEDS   \n",
       "1  THE STUDIO HATHERLOW HOUSE               HATHERLOW             ROMILEY   \n",
       "\n",
       "  RegAddress.County RegAddress.Country RegAddress.PostCode CompanyStatus  \n",
       "0         YORKSHIRE                NaN            LS10 2RU        Active  \n",
       "1               NaN     UNITED KINGDOM             SK6 3DY        Active  "
      ]
     },
     "execution_count": 8,
     "metadata": {},
     "output_type": "execute_result"
    }
   ],
   "source": [
    "usecols = ['CompanyName', 'CompanyNumber', 'Sics', 'RegAddress.AddressLine1',\n",
    "           'RegAddress.AddressLine2', 'RegAddress.PostTown', 'RegAddress.County',\n",
    "           'RegAddress.Country', 'RegAddress.PostCode',\n",
    "           'CompanyStatus']\n",
    "\n",
    "corig = pd.read_csv('ch_companies_clean_1.csv', usecols=usecols, dtype=str, index_col=None)\n",
    "\n",
    "print(corig.shape)\n",
    "corig.head(2)"
   ]
  },
  {
   "cell_type": "code",
   "execution_count": 9,
   "metadata": {},
   "outputs": [],
   "source": [
    "cedit = corig.copy()"
   ]
  },
  {
   "cell_type": "code",
   "execution_count": 10,
   "metadata": {},
   "outputs": [
    {
     "name": "stdout",
     "output_type": "stream",
     "text": [
      "(4004643, 10)\n"
     ]
    }
   ],
   "source": [
    "cedit = cedit[cedit.CompanyStatus == 'Active']\n",
    "cedit = cedit[~cedit.Sics.str.contains('99999')]\n",
    "print(cedit.shape)"
   ]
  },
  {
   "cell_type": "markdown",
   "metadata": {},
   "source": [
    "## Merge Land Registry and CH"
   ]
  },
  {
   "cell_type": "code",
   "execution_count": 11,
   "metadata": {},
   "outputs": [
    {
     "name": "stdout",
     "output_type": "stream",
     "text": [
      "(25064, 25)\n"
     ]
    },
    {
     "data": {
      "text/html": [
       "<div>\n",
       "<style scoped>\n",
       "    .dataframe tbody tr th:only-of-type {\n",
       "        vertical-align: middle;\n",
       "    }\n",
       "\n",
       "    .dataframe tbody tr th {\n",
       "        vertical-align: top;\n",
       "    }\n",
       "\n",
       "    .dataframe thead th {\n",
       "        text-align: right;\n",
       "    }\n",
       "</style>\n",
       "<table border=\"1\" class=\"dataframe\">\n",
       "  <thead>\n",
       "    <tr style=\"text-align: right;\">\n",
       "      <th></th>\n",
       "      <th>Title Number</th>\n",
       "      <th>Tenure</th>\n",
       "      <th>Property Address</th>\n",
       "      <th>District</th>\n",
       "      <th>County</th>\n",
       "      <th>Region</th>\n",
       "      <th>Postcode</th>\n",
       "      <th>Multiple Address Indicator</th>\n",
       "      <th>Price Paid</th>\n",
       "      <th>Proprietor Name (1)</th>\n",
       "      <th>...</th>\n",
       "      <th>CompanyName</th>\n",
       "      <th>CompanyNumber</th>\n",
       "      <th>Sics</th>\n",
       "      <th>RegAddress.AddressLine1</th>\n",
       "      <th>RegAddress.AddressLine2</th>\n",
       "      <th>RegAddress.PostTown</th>\n",
       "      <th>RegAddress.County</th>\n",
       "      <th>RegAddress.Country</th>\n",
       "      <th>RegAddress.PostCode</th>\n",
       "      <th>CompanyStatus</th>\n",
       "    </tr>\n",
       "  </thead>\n",
       "  <tbody>\n",
       "    <tr>\n",
       "      <td>0</td>\n",
       "      <td>NT72787</td>\n",
       "      <td>Freehold</td>\n",
       "      <td>2 Horsham Drive, Top Valley (NG5 9AH)</td>\n",
       "      <td>CITY OF NOTTINGHAM</td>\n",
       "      <td>CITY OF NOTTINGHAM</td>\n",
       "      <td>EAST MIDLANDS</td>\n",
       "      <td>NG5 9AH</td>\n",
       "      <td>N</td>\n",
       "      <td>30000.0</td>\n",
       "      <td>PLACES FOR PEOPLE HOMES LIMITED</td>\n",
       "      <td>...</td>\n",
       "      <td>PLACES FOR PEOPLE HOMES LIMITED</td>\n",
       "      <td>IP19447R</td>\n",
       "      <td>None Supplied</td>\n",
       "      <td>NaN</td>\n",
       "      <td>NaN</td>\n",
       "      <td>NaN</td>\n",
       "      <td>NaN</td>\n",
       "      <td>NaN</td>\n",
       "      <td>NaN</td>\n",
       "      <td>Active</td>\n",
       "    </tr>\n",
       "    <tr>\n",
       "      <td>1</td>\n",
       "      <td>GM632450</td>\n",
       "      <td>Freehold</td>\n",
       "      <td>2, 2A, 2B and 2C Garside Hey Road, 2, 2A, 2B a...</td>\n",
       "      <td>BURY</td>\n",
       "      <td>GREATER MANCHESTER</td>\n",
       "      <td>NORTH WEST</td>\n",
       "      <td>NaN</td>\n",
       "      <td>N</td>\n",
       "      <td>NaN</td>\n",
       "      <td>PLACES FOR PEOPLE HOMES LIMITED</td>\n",
       "      <td>...</td>\n",
       "      <td>PLACES FOR PEOPLE HOMES LIMITED</td>\n",
       "      <td>IP19447R</td>\n",
       "      <td>None Supplied</td>\n",
       "      <td>NaN</td>\n",
       "      <td>NaN</td>\n",
       "      <td>NaN</td>\n",
       "      <td>NaN</td>\n",
       "      <td>NaN</td>\n",
       "      <td>NaN</td>\n",
       "      <td>Active</td>\n",
       "    </tr>\n",
       "  </tbody>\n",
       "</table>\n",
       "<p>2 rows × 25 columns</p>\n",
       "</div>"
      ],
      "text/plain": [
       "  Title Number    Tenure                                   Property Address  \\\n",
       "0      NT72787  Freehold              2 Horsham Drive, Top Valley (NG5 9AH)   \n",
       "1     GM632450  Freehold  2, 2A, 2B and 2C Garside Hey Road, 2, 2A, 2B a...   \n",
       "\n",
       "             District              County         Region Postcode  \\\n",
       "0  CITY OF NOTTINGHAM  CITY OF NOTTINGHAM  EAST MIDLANDS  NG5 9AH   \n",
       "1                BURY  GREATER MANCHESTER     NORTH WEST      NaN   \n",
       "\n",
       "  Multiple Address Indicator  Price Paid              Proprietor Name (1)  \\\n",
       "0                          N     30000.0  PLACES FOR PEOPLE HOMES LIMITED   \n",
       "1                          N         NaN  PLACES FOR PEOPLE HOMES LIMITED   \n",
       "\n",
       "   ...                      CompanyName CompanyNumber           Sics  \\\n",
       "0  ...  PLACES FOR PEOPLE HOMES LIMITED      IP19447R  None Supplied   \n",
       "1  ...  PLACES FOR PEOPLE HOMES LIMITED      IP19447R  None Supplied   \n",
       "\n",
       "  RegAddress.AddressLine1 RegAddress.AddressLine2 RegAddress.PostTown  \\\n",
       "0                     NaN                     NaN                 NaN   \n",
       "1                     NaN                     NaN                 NaN   \n",
       "\n",
       "  RegAddress.County RegAddress.Country RegAddress.PostCode CompanyStatus  \n",
       "0               NaN                NaN                 NaN        Active  \n",
       "1               NaN                NaN                 NaN        Active  \n",
       "\n",
       "[2 rows x 25 columns]"
      ]
     },
     "execution_count": 11,
     "metadata": {},
     "output_type": "execute_result"
    }
   ],
   "source": [
    "bedit = redit.merge(cedit, left_on='Company Registration No. (1)', right_on='CompanyNumber')\n",
    "\n",
    "print(bedit.shape)\n",
    "bedit.head(2)"
   ]
  },
  {
   "cell_type": "code",
   "execution_count": 12,
   "metadata": {},
   "outputs": [
    {
     "name": "stdout",
     "output_type": "stream",
     "text": [
      "Rows with Price Paid: 8621\n",
      "Unique companies: 5659\n"
     ]
    }
   ],
   "source": [
    "bedit = bedit[~bedit['Price Paid'].isnull()]\n",
    "\n",
    "print(f\"Rows with Price Paid: {len(bedit)}\")\n",
    "print(f\"Unique companies: {len(bedit['Proprietor Name (1)'].unique())}\")"
   ]
  },
  {
   "cell_type": "code",
   "execution_count": 15,
   "metadata": {},
   "outputs": [
    {
     "data": {
      "text/html": [
       "<div>\n",
       "<style scoped>\n",
       "    .dataframe tbody tr th:only-of-type {\n",
       "        vertical-align: middle;\n",
       "    }\n",
       "\n",
       "    .dataframe tbody tr th {\n",
       "        vertical-align: top;\n",
       "    }\n",
       "\n",
       "    .dataframe thead th {\n",
       "        text-align: right;\n",
       "    }\n",
       "</style>\n",
       "<table border=\"1\" class=\"dataframe\">\n",
       "  <thead>\n",
       "    <tr style=\"text-align: right;\">\n",
       "      <th></th>\n",
       "      <th>Property Address</th>\n",
       "      <th>District</th>\n",
       "      <th>Price Paid</th>\n",
       "      <th>CompanyName</th>\n",
       "      <th>Sics</th>\n",
       "    </tr>\n",
       "  </thead>\n",
       "  <tbody>\n",
       "    <tr>\n",
       "      <td>13701</td>\n",
       "      <td>Sentinel House, 50 to 60 Southampton Row, Holborn</td>\n",
       "      <td>CAMDEN</td>\n",
       "      <td>127099998.0</td>\n",
       "      <td>GRANGE HOLBORN LIMITED</td>\n",
       "      <td>64209 - Activities of other holding companies ...</td>\n",
       "    </tr>\n",
       "    <tr>\n",
       "      <td>13702</td>\n",
       "      <td>Grange Holborn Hotel, 50-60 Southampton Row, L...</td>\n",
       "      <td>CAMDEN</td>\n",
       "      <td>127099998.0</td>\n",
       "      <td>GRANGE HOLBORN LIMITED</td>\n",
       "      <td>64209 - Activities of other holding companies ...</td>\n",
       "    </tr>\n",
       "    <tr>\n",
       "      <td>13179</td>\n",
       "      <td>Land lying to the north of Norwich Street, London</td>\n",
       "      <td>CITY OF LONDON</td>\n",
       "      <td>93200000.0</td>\n",
       "      <td>90 FL LLP</td>\n",
       "      <td>None Supplied</td>\n",
       "    </tr>\n",
       "    <tr>\n",
       "      <td>13180</td>\n",
       "      <td>90 FETTER LANE, LONDON EC4A 1EN</td>\n",
       "      <td>CITY OF LONDON</td>\n",
       "      <td>93200000.0</td>\n",
       "      <td>90 FL LLP</td>\n",
       "      <td>None Supplied</td>\n",
       "    </tr>\n",
       "    <tr>\n",
       "      <td>11745</td>\n",
       "      <td>Wool House, 74 Back Church Lane, London</td>\n",
       "      <td>TOWER HAMLETS</td>\n",
       "      <td>85000000.0</td>\n",
       "      <td>HECTAGON ASSETS LIMITED</td>\n",
       "      <td>41100 - Development of building projects, 6810...</td>\n",
       "    </tr>\n",
       "    <tr>\n",
       "      <td>11746</td>\n",
       "      <td>Wool House, 74 Back Church Lane, London (E1 1LX)</td>\n",
       "      <td>TOWER HAMLETS</td>\n",
       "      <td>85000000.0</td>\n",
       "      <td>HECTAGON ASSETS LIMITED</td>\n",
       "      <td>41100 - Development of building projects, 6810...</td>\n",
       "    </tr>\n",
       "    <tr>\n",
       "      <td>17226</td>\n",
       "      <td>55 Newman Street, London (W1T 3EB)</td>\n",
       "      <td>CITY OF WESTMINSTER</td>\n",
       "      <td>78000000.0</td>\n",
       "      <td>LEEU LONDON LIMITED</td>\n",
       "      <td>55100 - Hotels and similar accommodation</td>\n",
       "    </tr>\n",
       "    <tr>\n",
       "      <td>17227</td>\n",
       "      <td>55 Newman Street, London (W1T 3EB)</td>\n",
       "      <td>CITY OF WESTMINSTER</td>\n",
       "      <td>78000000.0</td>\n",
       "      <td>LEEU LONDON LIMITED</td>\n",
       "      <td>55100 - Hotels and similar accommodation</td>\n",
       "    </tr>\n",
       "  </tbody>\n",
       "</table>\n",
       "</div>"
      ],
      "text/plain": [
       "                                        Property Address             District  \\\n",
       "13701  Sentinel House, 50 to 60 Southampton Row, Holborn               CAMDEN   \n",
       "13702  Grange Holborn Hotel, 50-60 Southampton Row, L...               CAMDEN   \n",
       "13179  Land lying to the north of Norwich Street, London       CITY OF LONDON   \n",
       "13180                    90 FETTER LANE, LONDON EC4A 1EN       CITY OF LONDON   \n",
       "11745            Wool House, 74 Back Church Lane, London        TOWER HAMLETS   \n",
       "11746   Wool House, 74 Back Church Lane, London (E1 1LX)        TOWER HAMLETS   \n",
       "17226                 55 Newman Street, London (W1T 3EB)  CITY OF WESTMINSTER   \n",
       "17227                 55 Newman Street, London (W1T 3EB)  CITY OF WESTMINSTER   \n",
       "\n",
       "        Price Paid              CompanyName  \\\n",
       "13701  127099998.0   GRANGE HOLBORN LIMITED   \n",
       "13702  127099998.0   GRANGE HOLBORN LIMITED   \n",
       "13179   93200000.0                90 FL LLP   \n",
       "13180   93200000.0                90 FL LLP   \n",
       "11745   85000000.0  HECTAGON ASSETS LIMITED   \n",
       "11746   85000000.0  HECTAGON ASSETS LIMITED   \n",
       "17226   78000000.0      LEEU LONDON LIMITED   \n",
       "17227   78000000.0      LEEU LONDON LIMITED   \n",
       "\n",
       "                                                    Sics  \n",
       "13701  64209 - Activities of other holding companies ...  \n",
       "13702  64209 - Activities of other holding companies ...  \n",
       "13179                                      None Supplied  \n",
       "13180                                      None Supplied  \n",
       "11745  41100 - Development of building projects, 6810...  \n",
       "11746  41100 - Development of building projects, 6810...  \n",
       "17226           55100 - Hotels and similar accommodation  \n",
       "17227           55100 - Hotels and similar accommodation  "
      ]
     },
     "execution_count": 15,
     "metadata": {},
     "output_type": "execute_result"
    }
   ],
   "source": [
    "# there are some duplicates\n",
    "bedit.nlargest(8, 'Price Paid')[['Property Address', 'District', 'Price Paid', 'CompanyName', 'Sics']]"
   ]
  },
  {
   "cell_type": "code",
   "execution_count": null,
   "metadata": {},
   "outputs": [],
   "source": []
  }
 ],
 "metadata": {
  "kernelspec": {
   "display_name": "Python 3",
   "language": "python",
   "name": "python3"
  },
  "language_info": {
   "codemirror_mode": {
    "name": "ipython",
    "version": 3
   },
   "file_extension": ".py",
   "mimetype": "text/x-python",
   "name": "python",
   "nbconvert_exporter": "python",
   "pygments_lexer": "ipython3",
   "version": "3.7.3"
  }
 },
 "nbformat": 4,
 "nbformat_minor": 2
}
