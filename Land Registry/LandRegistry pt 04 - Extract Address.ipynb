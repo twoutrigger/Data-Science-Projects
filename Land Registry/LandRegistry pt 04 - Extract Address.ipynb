{
 "cells": [
  {
   "cell_type": "code",
   "execution_count": 1,
   "metadata": {},
   "outputs": [],
   "source": [
    "import numpy as np\n",
    "import pandas as pd\n",
    "import matplotlib.pyplot as plt\n",
    "from commonregex import CommonRegex\n",
    "import requests\n",
    "import re"
   ]
  },
  {
   "cell_type": "code",
   "execution_count": 2,
   "metadata": {},
   "outputs": [],
   "source": [
    "### Tie new charges to land registry"
   ]
  },
  {
   "cell_type": "code",
   "execution_count": 3,
   "metadata": {},
   "outputs": [
    {
     "name": "stdout",
     "output_type": "stream",
     "text": [
      "(63745, 15)\n"
     ]
    },
    {
     "data": {
      "text/html": [
       "<div>\n",
       "<style scoped>\n",
       "    .dataframe tbody tr th:only-of-type {\n",
       "        vertical-align: middle;\n",
       "    }\n",
       "\n",
       "    .dataframe tbody tr th {\n",
       "        vertical-align: top;\n",
       "    }\n",
       "\n",
       "    .dataframe thead th {\n",
       "        text-align: right;\n",
       "    }\n",
       "</style>\n",
       "<table border=\"1\" class=\"dataframe\">\n",
       "  <thead>\n",
       "    <tr style=\"text-align: right;\">\n",
       "      <th></th>\n",
       "      <th>Title Number</th>\n",
       "      <th>Tenure</th>\n",
       "      <th>Property Address</th>\n",
       "      <th>District</th>\n",
       "      <th>County</th>\n",
       "      <th>Region</th>\n",
       "      <th>Postcode</th>\n",
       "      <th>Multiple Address Indicator</th>\n",
       "      <th>Price Paid</th>\n",
       "      <th>Proprietor Name (1)</th>\n",
       "      <th>Company Registration No. (1)</th>\n",
       "      <th>Proprietorship Category (1)</th>\n",
       "      <th>Proprietor (1) Address (1)</th>\n",
       "      <th>Proprietor (1) Address (2)</th>\n",
       "      <th>Proprietor (1) Address (3)</th>\n",
       "    </tr>\n",
       "  </thead>\n",
       "  <tbody>\n",
       "    <tr>\n",
       "      <td>0</td>\n",
       "      <td>NT72787</td>\n",
       "      <td>Freehold</td>\n",
       "      <td>2 Horsham Drive, Top Valley (NG5 9AH)</td>\n",
       "      <td>CITY OF NOTTINGHAM</td>\n",
       "      <td>CITY OF NOTTINGHAM</td>\n",
       "      <td>EAST MIDLANDS</td>\n",
       "      <td>NG5 9AH</td>\n",
       "      <td>N</td>\n",
       "      <td>30000.0</td>\n",
       "      <td>PLACES FOR PEOPLE HOMES LIMITED</td>\n",
       "      <td>IP19447R</td>\n",
       "      <td>Industrial and Provident Society (Company)</td>\n",
       "      <td>80 Cheapside, London EC2V 6EE</td>\n",
       "      <td>4 The Pavilions, Ashton-on-Ribble, Preston PR2...</td>\n",
       "      <td>NaN</td>\n",
       "    </tr>\n",
       "    <tr>\n",
       "      <td>1</td>\n",
       "      <td>LT25408</td>\n",
       "      <td>Freehold</td>\n",
       "      <td>98-100 Melton Road, Leicester (LE4 5EB)</td>\n",
       "      <td>LEICESTER</td>\n",
       "      <td>LEICESTER</td>\n",
       "      <td>EAST MIDLANDS</td>\n",
       "      <td>LE4 5EB</td>\n",
       "      <td>N</td>\n",
       "      <td>NaN</td>\n",
       "      <td>JADEMARK LIMITED</td>\n",
       "      <td>2847145</td>\n",
       "      <td>Limited Company or Public Limited Company</td>\n",
       "      <td>98 - 100 Melton Road, Leicester</td>\n",
       "      <td>NaN</td>\n",
       "      <td>NaN</td>\n",
       "    </tr>\n",
       "  </tbody>\n",
       "</table>\n",
       "</div>"
      ],
      "text/plain": [
       "  Title Number    Tenure                         Property Address  \\\n",
       "0      NT72787  Freehold    2 Horsham Drive, Top Valley (NG5 9AH)   \n",
       "1      LT25408  Freehold  98-100 Melton Road, Leicester (LE4 5EB)   \n",
       "\n",
       "             District              County         Region Postcode  \\\n",
       "0  CITY OF NOTTINGHAM  CITY OF NOTTINGHAM  EAST MIDLANDS  NG5 9AH   \n",
       "1           LEICESTER           LEICESTER  EAST MIDLANDS  LE4 5EB   \n",
       "\n",
       "  Multiple Address Indicator  Price Paid              Proprietor Name (1)  \\\n",
       "0                          N     30000.0  PLACES FOR PEOPLE HOMES LIMITED   \n",
       "1                          N         NaN                 JADEMARK LIMITED   \n",
       "\n",
       "  Company Registration No. (1)                 Proprietorship Category (1)  \\\n",
       "0                     IP19447R  Industrial and Provident Society (Company)   \n",
       "1                      2847145   Limited Company or Public Limited Company   \n",
       "\n",
       "        Proprietor (1) Address (1)  \\\n",
       "0    80 Cheapside, London EC2V 6EE   \n",
       "1  98 - 100 Melton Road, Leicester   \n",
       "\n",
       "                          Proprietor (1) Address (2)  \\\n",
       "0  4 The Pavilions, Ashton-on-Ribble, Preston PR2...   \n",
       "1                                                NaN   \n",
       "\n",
       "  Proprietor (1) Address (3)  \n",
       "0                        NaN  \n",
       "1                        NaN  "
      ]
     },
     "execution_count": 3,
     "metadata": {},
     "output_type": "execute_result"
    }
   ],
   "source": [
    "use_cols = ['Title Number', 'Tenure', 'Property Address', 'District', 'County',\n",
    "            'Region', 'Postcode', 'Multiple Address Indicator', 'Price Paid',\n",
    "            'Proprietor Name (1)', 'Company Registration No. (1)',\n",
    "            'Proprietorship Category (1)', 'Proprietor (1) Address (1)',\n",
    "            'Proprietor (1) Address (2)', 'Proprietor (1) Address (3)']\n",
    "\n",
    "rorig = pd.read_csv('CCOD_COU_2019_11.csv', skipfooter=1, engine='python',\n",
    "                    usecols=use_cols,\n",
    "                    dtype={'Title Number': str,\n",
    "                           'Company Registration No. (1)': str})\n",
    "\n",
    "print(rorig.shape)\n",
    "rorig.head(2)"
   ]
  },
  {
   "cell_type": "code",
   "execution_count": 4,
   "metadata": {},
   "outputs": [
    {
     "name": "stdout",
     "output_type": "stream",
     "text": [
      "(37480, 15)\n"
     ]
    },
    {
     "data": {
      "text/html": [
       "<div>\n",
       "<style scoped>\n",
       "    .dataframe tbody tr th:only-of-type {\n",
       "        vertical-align: middle;\n",
       "    }\n",
       "\n",
       "    .dataframe tbody tr th {\n",
       "        vertical-align: top;\n",
       "    }\n",
       "\n",
       "    .dataframe thead th {\n",
       "        text-align: right;\n",
       "    }\n",
       "</style>\n",
       "<table border=\"1\" class=\"dataframe\">\n",
       "  <thead>\n",
       "    <tr style=\"text-align: right;\">\n",
       "      <th></th>\n",
       "      <th>CompanyName</th>\n",
       "      <th>CompanyNumber</th>\n",
       "      <th>CompanyStatus</th>\n",
       "      <th>IncorporationDate</th>\n",
       "      <th>SICCode</th>\n",
       "      <th>status</th>\n",
       "      <th>persons_entitled</th>\n",
       "      <th>delivered_on</th>\n",
       "      <th>charge_number</th>\n",
       "      <th>classification.type</th>\n",
       "      <th>classification.description</th>\n",
       "      <th>particulars.type</th>\n",
       "      <th>particulars.description</th>\n",
       "      <th>RegAddress.District</th>\n",
       "      <th>RegAddress.PostCode</th>\n",
       "    </tr>\n",
       "  </thead>\n",
       "  <tbody>\n",
       "    <tr>\n",
       "      <td>0</td>\n",
       "      <td>CHG-MERIDIAN UK LIMITED</td>\n",
       "      <td>01276016</td>\n",
       "      <td>Active</td>\n",
       "      <td>1976-09-06T00:00:00.000Z</td>\n",
       "      <td>[{\"code\":\"64910\",\"description\":\"Financial leas...</td>\n",
       "      <td>outstanding</td>\n",
       "      <td>[{\"name\":\"Bal Global Finance (UK) Limited\"}]</td>\n",
       "      <td>2019-08-01T00:00:00.000Z</td>\n",
       "      <td>2529</td>\n",
       "      <td>charge-description</td>\n",
       "      <td>A registered charge</td>\n",
       "      <td>brief-description</td>\n",
       "      <td>A security charge dated 31/07/2019 between bal...</td>\n",
       "      <td>RUNNYMEDE</td>\n",
       "      <td>TW20 9AB</td>\n",
       "    </tr>\n",
       "    <tr>\n",
       "      <td>1</td>\n",
       "      <td>CHG-MERIDIAN UK LIMITED</td>\n",
       "      <td>01276016</td>\n",
       "      <td>Active</td>\n",
       "      <td>1976-09-06T00:00:00.000Z</td>\n",
       "      <td>[{\"code\":\"64910\",\"description\":\"Financial leas...</td>\n",
       "      <td>outstanding</td>\n",
       "      <td>[{\"name\":\"Bal Global Finance (UK) Limited\"}]</td>\n",
       "      <td>2019-08-01T00:00:00.000Z</td>\n",
       "      <td>2528</td>\n",
       "      <td>charge-description</td>\n",
       "      <td>A registered charge</td>\n",
       "      <td>brief-description</td>\n",
       "      <td>A security charge dated 31/07/2019 between bal...</td>\n",
       "      <td>RUNNYMEDE</td>\n",
       "      <td>TW20 9AB</td>\n",
       "    </tr>\n",
       "  </tbody>\n",
       "</table>\n",
       "</div>"
      ],
      "text/plain": [
       "               CompanyName CompanyNumber CompanyStatus  \\\n",
       "0  CHG-MERIDIAN UK LIMITED      01276016        Active   \n",
       "1  CHG-MERIDIAN UK LIMITED      01276016        Active   \n",
       "\n",
       "          IncorporationDate  \\\n",
       "0  1976-09-06T00:00:00.000Z   \n",
       "1  1976-09-06T00:00:00.000Z   \n",
       "\n",
       "                                             SICCode       status  \\\n",
       "0  [{\"code\":\"64910\",\"description\":\"Financial leas...  outstanding   \n",
       "1  [{\"code\":\"64910\",\"description\":\"Financial leas...  outstanding   \n",
       "\n",
       "                               persons_entitled              delivered_on  \\\n",
       "0  [{\"name\":\"Bal Global Finance (UK) Limited\"}]  2019-08-01T00:00:00.000Z   \n",
       "1  [{\"name\":\"Bal Global Finance (UK) Limited\"}]  2019-08-01T00:00:00.000Z   \n",
       "\n",
       "  charge_number classification.type classification.description  \\\n",
       "0          2529  charge-description        A registered charge   \n",
       "1          2528  charge-description        A registered charge   \n",
       "\n",
       "    particulars.type                            particulars.description  \\\n",
       "0  brief-description  A security charge dated 31/07/2019 between bal...   \n",
       "1  brief-description  A security charge dated 31/07/2019 between bal...   \n",
       "\n",
       "  RegAddress.District RegAddress.PostCode  \n",
       "0           RUNNYMEDE            TW20 9AB  \n",
       "1           RUNNYMEDE            TW20 9AB  "
      ]
     },
     "execution_count": 4,
     "metadata": {},
     "output_type": "execute_result"
    }
   ],
   "source": [
    "corig = pd.read_csv('charges_tempt.csv', dtype=str, header=0, index_col=None)\n",
    "\n",
    "print(corig.shape)\n",
    "corig.head(2)"
   ]
  },
  {
   "cell_type": "markdown",
   "metadata": {},
   "source": [
    "### Extract Data"
   ]
  },
  {
   "cell_type": "code",
   "execution_count": 5,
   "metadata": {},
   "outputs": [],
   "source": [
    "def hasNumbers(inputString):\n",
    "    return any(char.isdigit() for char in str(inputString))"
   ]
  },
  {
   "cell_type": "code",
   "execution_count": 6,
   "metadata": {},
   "outputs": [
    {
     "name": "stdout",
     "output_type": "stream",
     "text": [
      "(23197, 16)\n"
     ]
    },
    {
     "data": {
      "text/html": [
       "<div>\n",
       "<style scoped>\n",
       "    .dataframe tbody tr th:only-of-type {\n",
       "        vertical-align: middle;\n",
       "    }\n",
       "\n",
       "    .dataframe tbody tr th {\n",
       "        vertical-align: top;\n",
       "    }\n",
       "\n",
       "    .dataframe thead th {\n",
       "        text-align: right;\n",
       "    }\n",
       "</style>\n",
       "<table border=\"1\" class=\"dataframe\">\n",
       "  <thead>\n",
       "    <tr style=\"text-align: right;\">\n",
       "      <th></th>\n",
       "      <th>CompanyName</th>\n",
       "      <th>CompanyNumber</th>\n",
       "      <th>CompanyStatus</th>\n",
       "      <th>IncorporationDate</th>\n",
       "      <th>SICCode</th>\n",
       "      <th>status</th>\n",
       "      <th>persons_entitled</th>\n",
       "      <th>delivered_on</th>\n",
       "      <th>charge_number</th>\n",
       "      <th>classification.type</th>\n",
       "      <th>classification.description</th>\n",
       "      <th>particulars.type</th>\n",
       "      <th>particulars.description</th>\n",
       "      <th>RegAddress.District</th>\n",
       "      <th>RegAddress.PostCode</th>\n",
       "      <th>hasNum</th>\n",
       "    </tr>\n",
       "  </thead>\n",
       "  <tbody>\n",
       "    <tr>\n",
       "      <td>37478</td>\n",
       "      <td>LITTLE WELLIES LIMITED</td>\n",
       "      <td>09014548</td>\n",
       "      <td>Active</td>\n",
       "      <td>2014-04-28T00:00:00.000Z</td>\n",
       "      <td>[{\"code\":\"88910\",\"description\":\"Child day-care...</td>\n",
       "      <td>outstanding</td>\n",
       "      <td>[{\"name\":\"National Westminster Bank PLC\"}]</td>\n",
       "      <td>2019-12-02T00:00:00.000Z</td>\n",
       "      <td>4</td>\n",
       "      <td>charge-description</td>\n",
       "      <td>A registered charge</td>\n",
       "      <td>brief-description</td>\n",
       "      <td>110 apperley road, bradford BD10 9SR.</td>\n",
       "      <td>BRADFORD</td>\n",
       "      <td>BD2 1NH</td>\n",
       "      <td>True</td>\n",
       "    </tr>\n",
       "    <tr>\n",
       "      <td>37479</td>\n",
       "      <td>LITTONDALE LIMITED</td>\n",
       "      <td>11756098</td>\n",
       "      <td>Active</td>\n",
       "      <td>2019-01-08T00:00:00.000Z</td>\n",
       "      <td>[{\"code\":\"98000\",\"description\":\"Residents prop...</td>\n",
       "      <td>outstanding</td>\n",
       "      <td>[{\"name\":\"Gatehouse Bank PLC\"}]</td>\n",
       "      <td>2019-11-11T00:00:00.000Z</td>\n",
       "      <td>1</td>\n",
       "      <td>charge-description</td>\n",
       "      <td>A registered charge</td>\n",
       "      <td>brief-description</td>\n",
       "      <td>4,6 &amp; 8 church street, clowne, chesterfield, S...</td>\n",
       "      <td>OLDHAM</td>\n",
       "      <td>OL2 6NX</td>\n",
       "      <td>True</td>\n",
       "    </tr>\n",
       "  </tbody>\n",
       "</table>\n",
       "</div>"
      ],
      "text/plain": [
       "                  CompanyName CompanyNumber CompanyStatus  \\\n",
       "37478  LITTLE WELLIES LIMITED      09014548        Active   \n",
       "37479      LITTONDALE LIMITED      11756098        Active   \n",
       "\n",
       "              IncorporationDate  \\\n",
       "37478  2014-04-28T00:00:00.000Z   \n",
       "37479  2019-01-08T00:00:00.000Z   \n",
       "\n",
       "                                                 SICCode       status  \\\n",
       "37478  [{\"code\":\"88910\",\"description\":\"Child day-care...  outstanding   \n",
       "37479  [{\"code\":\"98000\",\"description\":\"Residents prop...  outstanding   \n",
       "\n",
       "                                 persons_entitled              delivered_on  \\\n",
       "37478  [{\"name\":\"National Westminster Bank PLC\"}]  2019-12-02T00:00:00.000Z   \n",
       "37479             [{\"name\":\"Gatehouse Bank PLC\"}]  2019-11-11T00:00:00.000Z   \n",
       "\n",
       "      charge_number classification.type classification.description  \\\n",
       "37478             4  charge-description        A registered charge   \n",
       "37479             1  charge-description        A registered charge   \n",
       "\n",
       "        particulars.type                            particulars.description  \\\n",
       "37478  brief-description              110 apperley road, bradford BD10 9SR.   \n",
       "37479  brief-description  4,6 & 8 church street, clowne, chesterfield, S...   \n",
       "\n",
       "      RegAddress.District RegAddress.PostCode  hasNum  \n",
       "37478            BRADFORD             BD2 1NH    True  \n",
       "37479              OLDHAM             OL2 6NX    True  "
      ]
     },
     "execution_count": 6,
     "metadata": {},
     "output_type": "execute_result"
    }
   ],
   "source": [
    "cedit = corig.copy()\n",
    "\n",
    "cedit.dropna(subset=['particulars.description'], inplace=True)\n",
    "cedit['hasNum'] = cedit['particulars.description'].apply(hasNumbers)\n",
    "cedit = cedit[cedit['hasNum'] == True]\n",
    "\n",
    "print(cedit.shape)\n",
    "cedit.tail(2)"
   ]
  },
  {
   "cell_type": "code",
   "execution_count": 103,
   "metadata": {},
   "outputs": [
    {
     "name": "stdout",
     "output_type": "stream",
     "text": [
      "Unit 28 harrogate business park wetherby road harrogate t/no NYK74577.\n",
      "\n",
      "162 monifieth avenue, glasgow, G52 3DJ registered under title number GLA162695.\n",
      "\n",
      "Spring bank tavern, 29 spring bank, hull, HU3 1AF. HS164980.\n",
      "\n",
      "Fixed charge over freehold property at land on the east side of white hart road london title number TGL76861, for more details please refer to the instrument.\n",
      "\n",
      "11-12 church street staveley chesterfield.\n",
      "\n"
     ]
    }
   ],
   "source": [
    "for i in cedit['particulars.description'].sample(5):\n",
    "    print(i+ '\\n')"
   ]
  },
  {
   "cell_type": "code",
   "execution_count": 8,
   "metadata": {},
   "outputs": [],
   "source": [
    "### create test descriptions\n",
    "desc1 = 'The freehold property known as 26B piper close mansfield woodhouse mansfield NG19 7GG registered at h m land registry with title number NT463229.'\n",
    "desc2 = '22 shedden park road, kelso ROX11811.'\n",
    "desc3 = '243 plaistow road, london E15 3EU. Title number: EGL211881'\n",
    "desc4 = 'The freehold land known as 128 cardiff road, reading, RG1 8PQ and 8 trafford road, reading, RG1 8JP registered at the land registry under title numbers BK124548 and BK98452.'"
   ]
  },
  {
   "cell_type": "code",
   "execution_count": 61,
   "metadata": {},
   "outputs": [],
   "source": [
    "def hasAddress(inputString):\n",
    "#     ret = re.findall('(\\d{1,10}( \\w+){1,10}( ( \\w+){1,10})?( \\w+){1,10}[,.](( \\w+){1,10}(,)? [A-Z]{2}( [0-9]{5})?)?)', str(inputString))\n",
    "    ret = re.match('(\\d[0-9]{1,3} .+, [a-zA-Z]+[^\\s])', str(inputString))\n",
    "#     ret = re.findall('([A-Za-z0-9]\\.\\-\\s\\,])', str(inputString))\n",
    "\n",
    "    if ret:\n",
    "        return ret\n",
    "    else:\n",
    "        pass"
   ]
  },
  {
   "cell_type": "code",
   "execution_count": 62,
   "metadata": {},
   "outputs": [
    {
     "name": "stdout",
     "output_type": "stream",
     "text": [
      "None\n",
      "<re.Match object; span=(0, 27), match='22 shedden park road, kelso'>\n",
      "<re.Match object; span=(0, 25), match='243 plaistow road, london'>\n",
      "None\n"
     ]
    }
   ],
   "source": [
    "### ok performance; needs improvement for termination\n",
    "### will likely need multiple regexs for various forms of input\n",
    "### desc1 is being missed because letter & number combination\n",
    "print(hasAddress(desc1))\n",
    "print(hasAddress(desc2))\n",
    "print(hasAddress(desc3))\n",
    "print(hasAddress(desc4))"
   ]
  },
  {
   "cell_type": "code",
   "execution_count": 11,
   "metadata": {},
   "outputs": [
    {
     "name": "stdout",
     "output_type": "stream",
     "text": [
      "[]\n",
      "['22 shedden park road,']\n",
      "['243 plaistow road,']\n",
      "['128 cardiff road,', '1 8PQ and 8 trafford road,']\n"
     ]
    }
   ],
   "source": [
    "### ok performance; unable to extract city + postcode, or n-grams greater than 3\n",
    "print(CommonRegex(desc1).street_addresses)\n",
    "print(CommonRegex(desc2).street_addresses)\n",
    "print(CommonRegex(desc3).street_addresses)\n",
    "print(CommonRegex(desc4).street_addresses)"
   ]
  },
  {
   "cell_type": "code",
   "execution_count": 12,
   "metadata": {},
   "outputs": [],
   "source": [
    "def hasPostcode(inputString):\n",
    "    ret = re.findall(r'\\b[A-Z]{1,2}[0-9][A-Z0-9]? [0-9][ABD-HJLNP-UW-Z]{2}\\b', str(inputString))\n",
    "    if len(ret) > 0:\n",
    "        return ret\n",
    "    else:\n",
    "        pass"
   ]
  },
  {
   "cell_type": "code",
   "execution_count": 13,
   "metadata": {},
   "outputs": [
    {
     "name": "stdout",
     "output_type": "stream",
     "text": [
      "['NG19 7GG']\n",
      "None\n",
      "['E15 3EU']\n",
      "['RG1 8PQ', 'RG1 8JP']\n"
     ]
    }
   ],
   "source": [
    "print(hasPostcode(desc1))\n",
    "print(hasPostcode(desc2))\n",
    "print(hasPostcode(desc3))\n",
    "print(hasPostcode(desc4))"
   ]
  },
  {
   "cell_type": "code",
   "execution_count": 14,
   "metadata": {},
   "outputs": [
    {
     "data": {
      "text/plain": [
       "13756                     [SO16 5HA]\n",
       "33715               [M1 7FG, M1 7FG]\n",
       "1214            [CW10 9EU, CW10 9EU]\n",
       "18115                      [SS0 9AJ]\n",
       "13085    [EX4 3EH, LS1 6LQ, WR1 2DQ]\n",
       "Name: hasPostcode, dtype: object"
      ]
     },
     "execution_count": 14,
     "metadata": {},
     "output_type": "execute_result"
    }
   ],
   "source": [
    "### hasPostcode as a somewhat indicator of the presence of an address\n",
    "cedit['hasPostcode'] = cedit['particulars.description'].apply(hasPostcode)\n",
    "\n",
    "cedit.loc[~cedit.hasPostcode.isnull()]['hasPostcode'].sample(5)"
   ]
  },
  {
   "cell_type": "code",
   "execution_count": 91,
   "metadata": {},
   "outputs": [],
   "source": [
    "def biggerAddress(x):\n",
    "    a_start = re.search('(\\d[0-9]{1,3} .+, [a-zA-Z]+[^\\s])', str(x))\n",
    "    if a_start:\n",
    "        a_start = a_start.span()[0]\n",
    "    a_end = re.search(r'\\b[A-Z]{1,2}[0-9][A-Z0-9]? [0-9][ABD-HJLNP-UW-Z]{2}\\b', str(x))\n",
    "    if a_end:\n",
    "        a_end = a_end.span()[1]\n",
    "    if a_start and a_end:\n",
    "        return x[a_start:a_end]"
   ]
  },
  {
   "cell_type": "code",
   "execution_count": 92,
   "metadata": {},
   "outputs": [
    {
     "data": {
      "text/plain": [
       "'128 cardiff road, reading, RG1 8PQ'"
      ]
     },
     "execution_count": 92,
     "metadata": {},
     "output_type": "execute_result"
    }
   ],
   "source": [
    "biggerAddress(desc1)\n",
    "biggerAddress(desc2)\n",
    "biggerAddress(desc3)\n",
    "biggerAddress(desc4)"
   ]
  },
  {
   "cell_type": "code",
   "execution_count": 93,
   "metadata": {},
   "outputs": [
    {
     "name": "stdout",
     "output_type": "stream",
     "text": [
      "The freehold property known as 26B piper close mansfield woodhouse mansfield NG19 7GG registered at h m land registry with title number NT463229.\n",
      "22 shedden park road, kelso ROX11811.\n",
      "243 plaistow road, london E15 3EU. Title number: EGL211881\n",
      "The freehold land known as 128 cardiff road, reading, RG1 8PQ and 8 trafford road, reading, RG1 8JP registered at the land registry under title numbers BK124548 and BK98452.\n"
     ]
    }
   ],
   "source": [
    "print(desc1)\n",
    "print(desc2)\n",
    "print(desc3)\n",
    "print(desc4)"
   ]
  },
  {
   "cell_type": "code",
   "execution_count": 54,
   "metadata": {},
   "outputs": [
    {
     "name": "stdout",
     "output_type": "stream",
     "text": [
      "None\n"
     ]
    }
   ],
   "source": [
    "test = re.match('(\\d[0-9]{1,3} .+, [a-zA-Z]+[^\\s])', desc4)\n",
    "\n",
    "print(test)"
   ]
  },
  {
   "cell_type": "code",
   "execution_count": 49,
   "metadata": {},
   "outputs": [
    {
     "data": {
      "text/plain": [
       "'The freehold land known as 128 cardiff road, reading, RG1 8PQ and 8 trafford road, reading, RG1 8JP registered at the land registry under title numbers BK124548 and BK98452.'"
      ]
     },
     "execution_count": 49,
     "metadata": {},
     "output_type": "execute_result"
    }
   ],
   "source": [
    "desc4"
   ]
  },
  {
   "cell_type": "code",
   "execution_count": 67,
   "metadata": {},
   "outputs": [
    {
     "data": {
      "text/plain": [
       "['128 cardiff road, reading, RG1 8PQ and 8 trafford road, reading, RG1']"
      ]
     },
     "execution_count": 67,
     "metadata": {},
     "output_type": "execute_result"
    }
   ],
   "source": [
    "ret = re.findall('(\\d[0-9]{1,3} .+, [a-zA-Z]+[^\\s])', desc4)\n",
    "ret"
   ]
  },
  {
   "cell_type": "code",
   "execution_count": 98,
   "metadata": {},
   "outputs": [
    {
     "name": "stdout",
     "output_type": "stream",
     "text": [
      "<re.Match object; span=(27, 95), match='128 cardiff road, reading, RG1 8PQ and 8 trafford>\n"
     ]
    }
   ],
   "source": [
    "ret = re.finditer('(\\d[0-9]{1,3} .+, [a-zA-Z]+[^\\s])', desc4)\n",
    "\n",
    "for i in ret:\n",
    "    print(i)"
   ]
  },
  {
   "cell_type": "code",
   "execution_count": 28,
   "metadata": {},
   "outputs": [
    {
     "data": {
      "text/plain": [
       "27"
      ]
     },
     "execution_count": 28,
     "metadata": {},
     "output_type": "execute_result"
    }
   ],
   "source": [
    "ret.span()[1]"
   ]
  },
  {
   "cell_type": "code",
   "execution_count": null,
   "metadata": {},
   "outputs": [],
   "source": []
  }
 ],
 "metadata": {
  "kernelspec": {
   "display_name": "Python 3",
   "language": "python",
   "name": "python3"
  },
  "language_info": {
   "codemirror_mode": {
    "name": "ipython",
    "version": 3
   },
   "file_extension": ".py",
   "mimetype": "text/x-python",
   "name": "python",
   "nbconvert_exporter": "python",
   "pygments_lexer": "ipython3",
   "version": "3.7.3"
  }
 },
 "nbformat": 4,
 "nbformat_minor": 2
}
