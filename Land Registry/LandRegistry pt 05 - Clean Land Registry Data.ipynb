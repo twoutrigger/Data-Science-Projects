{
 "cells": [
  {
   "cell_type": "code",
   "execution_count": 38,
   "metadata": {},
   "outputs": [],
   "source": [
    "import numpy as np\n",
    "import pandas as pd"
   ]
  },
  {
   "cell_type": "code",
   "execution_count": 2,
   "metadata": {},
   "outputs": [],
   "source": [
    "### Create clean land registry data; using full Jan 2020 data"
   ]
  },
  {
   "cell_type": "code",
   "execution_count": null,
   "metadata": {},
   "outputs": [],
   "source": [
    "### Data downloaded from https://lrdatapublication.kahootz.com/connect.ti/system/userhome"
   ]
  },
  {
   "cell_type": "code",
   "execution_count": 40,
   "metadata": {},
   "outputs": [
    {
     "name": "stdout",
     "output_type": "stream",
     "text": [
      "(3728845, 35)\n"
     ]
    },
    {
     "data": {
      "text/html": [
       "<div>\n",
       "<style scoped>\n",
       "    .dataframe tbody tr th:only-of-type {\n",
       "        vertical-align: middle;\n",
       "    }\n",
       "\n",
       "    .dataframe tbody tr th {\n",
       "        vertical-align: top;\n",
       "    }\n",
       "\n",
       "    .dataframe thead th {\n",
       "        text-align: right;\n",
       "    }\n",
       "</style>\n",
       "<table border=\"1\" class=\"dataframe\">\n",
       "  <thead>\n",
       "    <tr style=\"text-align: right;\">\n",
       "      <th></th>\n",
       "      <th>Title Number</th>\n",
       "      <th>Tenure</th>\n",
       "      <th>Property Address</th>\n",
       "      <th>District</th>\n",
       "      <th>County</th>\n",
       "      <th>Region</th>\n",
       "      <th>Postcode</th>\n",
       "      <th>Multiple Address Indicator</th>\n",
       "      <th>Price Paid</th>\n",
       "      <th>Proprietor Name (1)</th>\n",
       "      <th>...</th>\n",
       "      <th>Proprietor (3) Address (2)</th>\n",
       "      <th>Proprietor (3) Address (3)</th>\n",
       "      <th>Proprietor Name (4)</th>\n",
       "      <th>Company Registration No. (4)</th>\n",
       "      <th>Proprietorship Category (4)</th>\n",
       "      <th>Proprietor (4) Address (1)</th>\n",
       "      <th>Proprietor (4) Address (2)</th>\n",
       "      <th>Proprietor (4) Address (3)</th>\n",
       "      <th>Date Proprietor Added</th>\n",
       "      <th>Additional Proprietor Indicator</th>\n",
       "    </tr>\n",
       "  </thead>\n",
       "  <tbody>\n",
       "    <tr>\n",
       "      <td>0</td>\n",
       "      <td>ESX354885</td>\n",
       "      <td>Leasehold</td>\n",
       "      <td>Storage Spaces, Grand Ocean, Longridge Avenue,...</td>\n",
       "      <td>BRIGHTON AND HOVE</td>\n",
       "      <td>BRIGHTON AND HOVE</td>\n",
       "      <td>SOUTH EAST</td>\n",
       "      <td>NaN</td>\n",
       "      <td>N</td>\n",
       "      <td>NaN</td>\n",
       "      <td>EXPLORE LIVING PROPERTY MANAGEMENT LIMITED</td>\n",
       "      <td>...</td>\n",
       "      <td>NaN</td>\n",
       "      <td>NaN</td>\n",
       "      <td>NaN</td>\n",
       "      <td>NaN</td>\n",
       "      <td>NaN</td>\n",
       "      <td>NaN</td>\n",
       "      <td>NaN</td>\n",
       "      <td>NaN</td>\n",
       "      <td>26-11-2013</td>\n",
       "      <td>N</td>\n",
       "    </tr>\n",
       "    <tr>\n",
       "      <td>1</td>\n",
       "      <td>ESX354921</td>\n",
       "      <td>Freehold</td>\n",
       "      <td>The Church of St Mary Magdalen, Coldean Lane, ...</td>\n",
       "      <td>BRIGHTON AND HOVE</td>\n",
       "      <td>BRIGHTON AND HOVE</td>\n",
       "      <td>SOUTH EAST</td>\n",
       "      <td>BN1 9GR</td>\n",
       "      <td>N</td>\n",
       "      <td>NaN</td>\n",
       "      <td>CHICHESTER DIOCESAN FUND AND BOARD OF FINANCE ...</td>\n",
       "      <td>...</td>\n",
       "      <td>NaN</td>\n",
       "      <td>NaN</td>\n",
       "      <td>NaN</td>\n",
       "      <td>NaN</td>\n",
       "      <td>NaN</td>\n",
       "      <td>NaN</td>\n",
       "      <td>NaN</td>\n",
       "      <td>NaN</td>\n",
       "      <td>08-12-2010</td>\n",
       "      <td>N</td>\n",
       "    </tr>\n",
       "  </tbody>\n",
       "</table>\n",
       "<p>2 rows × 35 columns</p>\n",
       "</div>"
      ],
      "text/plain": [
       "  Title Number     Tenure                                   Property Address  \\\n",
       "0    ESX354885  Leasehold  Storage Spaces, Grand Ocean, Longridge Avenue,...   \n",
       "1    ESX354921   Freehold  The Church of St Mary Magdalen, Coldean Lane, ...   \n",
       "\n",
       "            District             County      Region Postcode  \\\n",
       "0  BRIGHTON AND HOVE  BRIGHTON AND HOVE  SOUTH EAST      NaN   \n",
       "1  BRIGHTON AND HOVE  BRIGHTON AND HOVE  SOUTH EAST  BN1 9GR   \n",
       "\n",
       "  Multiple Address Indicator  Price Paid  \\\n",
       "0                          N         NaN   \n",
       "1                          N         NaN   \n",
       "\n",
       "                                 Proprietor Name (1)  ...  \\\n",
       "0         EXPLORE LIVING PROPERTY MANAGEMENT LIMITED  ...   \n",
       "1  CHICHESTER DIOCESAN FUND AND BOARD OF FINANCE ...  ...   \n",
       "\n",
       "  Proprietor (3) Address (2) Proprietor (3) Address (3) Proprietor Name (4)  \\\n",
       "0                        NaN                        NaN                 NaN   \n",
       "1                        NaN                        NaN                 NaN   \n",
       "\n",
       "  Company Registration No. (4) Proprietorship Category (4)  \\\n",
       "0                          NaN                         NaN   \n",
       "1                          NaN                         NaN   \n",
       "\n",
       "  Proprietor (4) Address (1) Proprietor (4) Address (2)  \\\n",
       "0                        NaN                        NaN   \n",
       "1                        NaN                        NaN   \n",
       "\n",
       "  Proprietor (4) Address (3) Date Proprietor Added  \\\n",
       "0                        NaN            26-11-2013   \n",
       "1                        NaN            08-12-2010   \n",
       "\n",
       "  Additional Proprietor Indicator  \n",
       "0                               N  \n",
       "1                               N  \n",
       "\n",
       "[2 rows x 35 columns]"
      ]
     },
     "execution_count": 40,
     "metadata": {},
     "output_type": "execute_result"
    }
   ],
   "source": [
    "### last row is row count; removed with skipfooter\n",
    "rorig = pd.read_csv('CCOD_FULL_2020_01.csv', skipfooter=1, engine='python',\n",
    "                    dtype={'Title Number': str, 'Company Registration No. (1)': str})\n",
    "\n",
    "print(rorig.shape)\n",
    "rorig.head(2)"
   ]
  },
  {
   "cell_type": "code",
   "execution_count": 41,
   "metadata": {},
   "outputs": [
    {
     "name": "stdout",
     "output_type": "stream",
     "text": [
      "<class 'pandas.core.frame.DataFrame'>\n",
      "RangeIndex: 3728845 entries, 0 to 3728844\n",
      "Data columns (total 35 columns):\n",
      "Title Number                       3728845 non-null object\n",
      "Tenure                             3728845 non-null object\n",
      "Property Address                   3728500 non-null object\n",
      "District                           3728845 non-null object\n",
      "County                             3728845 non-null object\n",
      "Region                             3728845 non-null object\n",
      "Postcode                           2127818 non-null object\n",
      "Multiple Address Indicator         3728845 non-null object\n",
      "Price Paid                         557360 non-null float64\n",
      "Proprietor Name (1)                3728845 non-null object\n",
      "Company Registration No. (1)       2734924 non-null object\n",
      "Proprietorship Category (1)        3728845 non-null object\n",
      "Proprietor (1) Address (1)         3728821 non-null object\n",
      "Proprietor (1) Address (2)         356437 non-null object\n",
      "Proprietor (1) Address (3)         29926 non-null object\n",
      "Proprietor Name (2)                34601 non-null object\n",
      "Company Registration No. (2)       33094 non-null object\n",
      "Proprietorship Category (2)        34601 non-null object\n",
      "Proprietor (2) Address (1)         34601 non-null object\n",
      "Proprietor (2) Address (2)         4438 non-null object\n",
      "Proprietor (2) Address (3)         376 non-null object\n",
      "Proprietor Name (3)                843 non-null object\n",
      "Company Registration No. (3)       692 non-null object\n",
      "Proprietorship Category (3)        843 non-null object\n",
      "Proprietor (3) Address (1)         843 non-null object\n",
      "Proprietor (3) Address (2)         71 non-null object\n",
      "Proprietor (3) Address (3)         3 non-null object\n",
      "Proprietor Name (4)                222 non-null object\n",
      "Company Registration No. (4)       192 non-null object\n",
      "Proprietorship Category (4)        222 non-null object\n",
      "Proprietor (4) Address (1)         222 non-null object\n",
      "Proprietor (4) Address (2)         8 non-null object\n",
      "Proprietor (4) Address (3)         0 non-null float64\n",
      "Date Proprietor Added              3660013 non-null object\n",
      "Additional Proprietor Indicator    3728845 non-null object\n",
      "dtypes: float64(2), object(33)\n",
      "memory usage: 995.7+ MB\n"
     ]
    }
   ],
   "source": [
    "### Proprietor after 2 is significantly reduced; for now keep Proprietor #1 only\n",
    "rorig.info(null_counts=True)"
   ]
  },
  {
   "cell_type": "code",
   "execution_count": 47,
   "metadata": {},
   "outputs": [
    {
     "name": "stdout",
     "output_type": "stream",
     "text": [
      "<class 'pandas.core.frame.DataFrame'>\n",
      "Int64Index: 3728500 entries, 0 to 3728844\n",
      "Data columns (total 15 columns):\n",
      "TitleNumber               3728500 non-null object\n",
      "Tenure                    3728500 non-null object\n",
      "TitleAddress              3728500 non-null object\n",
      "TitleDistrict             3728500 non-null object\n",
      "TitleCounty               3728500 non-null object\n",
      "TitleRegion               3728500 non-null object\n",
      "TitlePostcode             2127818 non-null object\n",
      "MultipleAddresses         3728500 non-null object\n",
      "PricePaid                 557360 non-null float64\n",
      "ProprietorName            3728500 non-null object\n",
      "ProprietorNumber          2734816 non-null object\n",
      "ProprietorType            3728500 non-null object\n",
      "ProprietorAddressOne      3728476 non-null object\n",
      "ProprietorAddressTwo      356397 non-null object\n",
      "ProprietorAddressThree    29921 non-null object\n",
      "dtypes: float64(1), object(14)\n",
      "memory usage: 455.1+ MB\n"
     ]
    }
   ],
   "source": [
    "redit = rorig.copy()\n",
    "\n",
    "redit = redit[['Title Number', 'Tenure', 'Property Address', 'District', 'County',\n",
    "                'Region', 'Postcode', 'Multiple Address Indicator', 'Price Paid',\n",
    "                'Proprietor Name (1)', 'Company Registration No. (1)',\n",
    "                'Proprietorship Category (1)', 'Proprietor (1) Address (1)',\n",
    "                'Proprietor (1) Address (2)', 'Proprietor (1) Address (3)']]\n",
    "\n",
    "redit = redit.dropna(subset=['Property Address'])\n",
    "\n",
    "redit = redit.rename(columns={'Title Number': 'TitleNumber', 'Property Address': 'TitleAddress',\n",
    "                              'District': 'TitleDistrict', 'County': 'TitleCounty',\n",
    "                              'Region': 'TitleRegion', 'Postcode': 'TitlePostcode',\n",
    "                              'Multiple Address Indicator': 'MultipleAddresses', 'Price Paid': 'PricePaid',\n",
    "                              'Proprietor Name (1)': 'ProprietorName', \n",
    "                              'Company Registration No. (1)': 'ProprietorNumber',\n",
    "                              'Proprietorship Category (1)': 'ProprietorType',\n",
    "                              'Proprietor (1) Address (1)': 'ProprietorAddressOne',\n",
    "                              'Proprietor (1) Address (2)': 'ProprietorAddressTwo',\n",
    "                              'Proprietor (1) Address (3)': 'ProprietorAddressThree',\n",
    "                              })\n",
    "\n",
    "redit.info(null_counts=True)"
   ]
  },
  {
   "cell_type": "code",
   "execution_count": 51,
   "metadata": {},
   "outputs": [
    {
     "name": "stdout",
     "output_type": "stream",
     "text": [
      "Unit C, 14-22 Lands Lane, Leeds (LS1 6LB)\n",
      "75 Moring Road, London (SW17 8DN)\n",
      "Land at Allfoxton Road, Bristol\n",
      "garage 20 Stock Park, Okehampton (EX20 1GD)\n",
      "34 College Green, Droitwich WR9 8QP\n",
      "land at Gatwick Airport, Crawley\n",
      "Airspace above the roof of 178 Chatsworth Avenue, Fleetwood (FY7 8EJ)\n",
      "360 Dereham Road, Costessey\n",
      "41 and 42 Bradmore Green, Brookmans Park, Hatfield (AL9 7QR)\n",
      "Electricity Sub Station, Cedar Avenue, Worthing\n"
     ]
    }
   ],
   "source": [
    "for i in redit['TitleAddress'].sample(10):\n",
    "    print(i)"
   ]
  },
  {
   "cell_type": "code",
   "execution_count": 58,
   "metadata": {},
   "outputs": [
    {
     "data": {
      "text/plain": [
       "1"
      ]
     },
     "execution_count": 58,
     "metadata": {},
     "output_type": "execute_result"
    }
   ],
   "source": [
    "redit.TitleNumber.value_counts().max()"
   ]
  },
  {
   "cell_type": "code",
   "execution_count": 77,
   "metadata": {},
   "outputs": [
    {
     "data": {
      "text/plain": [
       "3146790    MAN104332\n",
       "364988       P105491\n",
       "1399231     GR342789\n",
       "1055039     DY254228\n",
       "3149788    SGL521213\n",
       "783552      CL255750\n",
       "2215854     NT540100\n",
       "3361633    SGL578354\n",
       "3399603    TGL374115\n",
       "74553       BK450433\n",
       "Name: TitleNumber, dtype: object"
      ]
     },
     "execution_count": 77,
     "metadata": {},
     "output_type": "execute_result"
    }
   ],
   "source": [
    "redit.TitleNumber.sample(10)"
   ]
  },
  {
   "cell_type": "code",
   "execution_count": 66,
   "metadata": {},
   "outputs": [
    {
     "data": {
      "text/html": [
       "<div>\n",
       "<style scoped>\n",
       "    .dataframe tbody tr th:only-of-type {\n",
       "        vertical-align: middle;\n",
       "    }\n",
       "\n",
       "    .dataframe tbody tr th {\n",
       "        vertical-align: top;\n",
       "    }\n",
       "\n",
       "    .dataframe thead th {\n",
       "        text-align: right;\n",
       "    }\n",
       "</style>\n",
       "<table border=\"1\" class=\"dataframe\">\n",
       "  <thead>\n",
       "    <tr style=\"text-align: right;\">\n",
       "      <th></th>\n",
       "      <th>TitleNumber</th>\n",
       "      <th>Tenure</th>\n",
       "      <th>TitleAddress</th>\n",
       "      <th>TitleDistrict</th>\n",
       "      <th>TitleCounty</th>\n",
       "      <th>TitleRegion</th>\n",
       "      <th>TitlePostcode</th>\n",
       "      <th>MultipleAddresses</th>\n",
       "      <th>PricePaid</th>\n",
       "      <th>ProprietorName</th>\n",
       "      <th>ProprietorNumber</th>\n",
       "      <th>ProprietorType</th>\n",
       "      <th>ProprietorAddressOne</th>\n",
       "      <th>ProprietorAddressTwo</th>\n",
       "      <th>ProprietorAddressThree</th>\n",
       "    </tr>\n",
       "  </thead>\n",
       "  <tbody>\n",
       "    <tr>\n",
       "      <td>3721314</td>\n",
       "      <td>SYK338206</td>\n",
       "      <td>Freehold</td>\n",
       "      <td>Unit, 5 Parkway Avenue, Sheffield (S9 4WA)</td>\n",
       "      <td>SHEFFIELD</td>\n",
       "      <td>SOUTH YORKSHIRE</td>\n",
       "      <td>YORKS AND HUMBER</td>\n",
       "      <td>S9 4WA</td>\n",
       "      <td>N</td>\n",
       "      <td>1045000.0</td>\n",
       "      <td>TOLLADINE ESTATES LIMITED</td>\n",
       "      <td>03106864</td>\n",
       "      <td>Limited Company or Public Limited Company</td>\n",
       "      <td>6 Manor Farm Offices, Corsley, Warminster BA12...</td>\n",
       "      <td>NaN</td>\n",
       "      <td>NaN</td>\n",
       "    </tr>\n",
       "  </tbody>\n",
       "</table>\n",
       "</div>"
      ],
      "text/plain": [
       "        TitleNumber    Tenure                                TitleAddress  \\\n",
       "3721314   SYK338206  Freehold  Unit, 5 Parkway Avenue, Sheffield (S9 4WA)   \n",
       "\n",
       "        TitleDistrict      TitleCounty       TitleRegion TitlePostcode  \\\n",
       "3721314     SHEFFIELD  SOUTH YORKSHIRE  YORKS AND HUMBER        S9 4WA   \n",
       "\n",
       "        MultipleAddresses  PricePaid             ProprietorName  \\\n",
       "3721314                 N  1045000.0  TOLLADINE ESTATES LIMITED   \n",
       "\n",
       "        ProprietorNumber                             ProprietorType  \\\n",
       "3721314         03106864  Limited Company or Public Limited Company   \n",
       "\n",
       "                                      ProprietorAddressOne  \\\n",
       "3721314  6 Manor Farm Offices, Corsley, Warminster BA12...   \n",
       "\n",
       "        ProprietorAddressTwo ProprietorAddressThree  \n",
       "3721314                  NaN                    NaN  "
      ]
     },
     "execution_count": 66,
     "metadata": {},
     "output_type": "execute_result"
    }
   ],
   "source": [
    "redit[redit.TitleNumber == 'SYK338206']"
   ]
  },
  {
   "cell_type": "code",
   "execution_count": 59,
   "metadata": {},
   "outputs": [
    {
     "data": {
      "text/html": [
       "<div>\n",
       "<style scoped>\n",
       "    .dataframe tbody tr th:only-of-type {\n",
       "        vertical-align: middle;\n",
       "    }\n",
       "\n",
       "    .dataframe tbody tr th {\n",
       "        vertical-align: top;\n",
       "    }\n",
       "\n",
       "    .dataframe thead th {\n",
       "        text-align: right;\n",
       "    }\n",
       "</style>\n",
       "<table border=\"1\" class=\"dataframe\">\n",
       "  <thead>\n",
       "    <tr style=\"text-align: right;\">\n",
       "      <th></th>\n",
       "      <th>TitleNumber</th>\n",
       "      <th>Tenure</th>\n",
       "      <th>TitleAddress</th>\n",
       "      <th>TitleDistrict</th>\n",
       "      <th>TitleCounty</th>\n",
       "      <th>TitleRegion</th>\n",
       "      <th>TitlePostcode</th>\n",
       "      <th>MultipleAddresses</th>\n",
       "      <th>PricePaid</th>\n",
       "      <th>ProprietorName</th>\n",
       "      <th>ProprietorNumber</th>\n",
       "      <th>ProprietorType</th>\n",
       "      <th>ProprietorAddressOne</th>\n",
       "      <th>ProprietorAddressTwo</th>\n",
       "      <th>ProprietorAddressThree</th>\n",
       "    </tr>\n",
       "  </thead>\n",
       "  <tbody>\n",
       "    <tr>\n",
       "      <td>0</td>\n",
       "      <td>ESX354885</td>\n",
       "      <td>Leasehold</td>\n",
       "      <td>Storage Spaces, Grand Ocean, Longridge Avenue,...</td>\n",
       "      <td>BRIGHTON AND HOVE</td>\n",
       "      <td>BRIGHTON AND HOVE</td>\n",
       "      <td>SOUTH EAST</td>\n",
       "      <td>NaN</td>\n",
       "      <td>N</td>\n",
       "      <td>NaN</td>\n",
       "      <td>EXPLORE LIVING PROPERTY MANAGEMENT LIMITED</td>\n",
       "      <td>05597437</td>\n",
       "      <td>Limited Company or Public Limited Company</td>\n",
       "      <td>Bridge Place, Anchor Boulevard, Crossways Busi...</td>\n",
       "      <td>NaN</td>\n",
       "      <td>NaN</td>\n",
       "    </tr>\n",
       "    <tr>\n",
       "      <td>1</td>\n",
       "      <td>ESX354921</td>\n",
       "      <td>Freehold</td>\n",
       "      <td>The Church of St Mary Magdalen, Coldean Lane, ...</td>\n",
       "      <td>BRIGHTON AND HOVE</td>\n",
       "      <td>BRIGHTON AND HOVE</td>\n",
       "      <td>SOUTH EAST</td>\n",
       "      <td>BN1 9GR</td>\n",
       "      <td>N</td>\n",
       "      <td>NaN</td>\n",
       "      <td>CHICHESTER DIOCESAN FUND AND BOARD OF FINANCE ...</td>\n",
       "      <td>NaN</td>\n",
       "      <td>Corporate Body</td>\n",
       "      <td>Diocesan Church House, 211 New Church Road, Ho...</td>\n",
       "      <td>Thomas Eggar, The Corn Exchange, Baffins Lane,...</td>\n",
       "      <td>NaN</td>\n",
       "    </tr>\n",
       "  </tbody>\n",
       "</table>\n",
       "</div>"
      ],
      "text/plain": [
       "  TitleNumber     Tenure                                       TitleAddress  \\\n",
       "0   ESX354885  Leasehold  Storage Spaces, Grand Ocean, Longridge Avenue,...   \n",
       "1   ESX354921   Freehold  The Church of St Mary Magdalen, Coldean Lane, ...   \n",
       "\n",
       "       TitleDistrict        TitleCounty TitleRegion TitlePostcode  \\\n",
       "0  BRIGHTON AND HOVE  BRIGHTON AND HOVE  SOUTH EAST           NaN   \n",
       "1  BRIGHTON AND HOVE  BRIGHTON AND HOVE  SOUTH EAST       BN1 9GR   \n",
       "\n",
       "  MultipleAddresses  PricePaid  \\\n",
       "0                 N        NaN   \n",
       "1                 N        NaN   \n",
       "\n",
       "                                      ProprietorName ProprietorNumber  \\\n",
       "0         EXPLORE LIVING PROPERTY MANAGEMENT LIMITED         05597437   \n",
       "1  CHICHESTER DIOCESAN FUND AND BOARD OF FINANCE ...              NaN   \n",
       "\n",
       "                              ProprietorType  \\\n",
       "0  Limited Company or Public Limited Company   \n",
       "1                             Corporate Body   \n",
       "\n",
       "                                ProprietorAddressOne  \\\n",
       "0  Bridge Place, Anchor Boulevard, Crossways Busi...   \n",
       "1  Diocesan Church House, 211 New Church Road, Ho...   \n",
       "\n",
       "                                ProprietorAddressTwo ProprietorAddressThree  \n",
       "0                                                NaN                    NaN  \n",
       "1  Thomas Eggar, The Corn Exchange, Baffins Lane,...                    NaN  "
      ]
     },
     "execution_count": 59,
     "metadata": {},
     "output_type": "execute_result"
    }
   ],
   "source": [
    "redit.head(2)"
   ]
  },
  {
   "cell_type": "code",
   "execution_count": 52,
   "metadata": {},
   "outputs": [],
   "source": [
    "# redit.to_csv('land-registry-full-01-2020-clean.csv', index=False)"
   ]
  },
  {
   "cell_type": "code",
   "execution_count": null,
   "metadata": {},
   "outputs": [],
   "source": []
  }
 ],
 "metadata": {
  "kernelspec": {
   "display_name": "Python 3",
   "language": "python",
   "name": "python3"
  },
  "language_info": {
   "codemirror_mode": {
    "name": "ipython",
    "version": 3
   },
   "file_extension": ".py",
   "mimetype": "text/x-python",
   "name": "python",
   "nbconvert_exporter": "python",
   "pygments_lexer": "ipython3",
   "version": "3.7.3"
  }
 },
 "nbformat": 4,
 "nbformat_minor": 2
}
