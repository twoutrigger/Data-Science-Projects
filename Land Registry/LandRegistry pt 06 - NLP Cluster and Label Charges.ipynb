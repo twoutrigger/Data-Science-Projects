{
 "cells": [
  {
   "cell_type": "code",
   "execution_count": 1,
   "metadata": {},
   "outputs": [],
   "source": [
    "import numpy as np\n",
    "import pandas as pd\n",
    "from textblob import Word\n",
    "from nltk.corpus import stopwords\n",
    "from collections import Counter\n",
    "import matplotlib.pyplot as plt\n",
    "from sklearn.feature_extraction.text import TfidfVectorizer\n",
    "from sklearn.cluster import KMeans"
   ]
  },
  {
   "cell_type": "code",
   "execution_count": 2,
   "metadata": {},
   "outputs": [],
   "source": [
    "import warnings\n",
    "warnings.filterwarnings('ignore')\n",
    "pd.set_option('display.max_colwidth', 100)"
   ]
  },
  {
   "cell_type": "code",
   "execution_count": 3,
   "metadata": {},
   "outputs": [],
   "source": [
    "### cluster charges to identify as property-related charge"
   ]
  },
  {
   "cell_type": "code",
   "execution_count": 4,
   "metadata": {},
   "outputs": [
    {
     "name": "stdout",
     "output_type": "stream",
     "text": [
      "(37480, 15)\n"
     ]
    },
    {
     "data": {
      "text/html": [
       "<div>\n",
       "<style scoped>\n",
       "    .dataframe tbody tr th:only-of-type {\n",
       "        vertical-align: middle;\n",
       "    }\n",
       "\n",
       "    .dataframe tbody tr th {\n",
       "        vertical-align: top;\n",
       "    }\n",
       "\n",
       "    .dataframe thead th {\n",
       "        text-align: right;\n",
       "    }\n",
       "</style>\n",
       "<table border=\"1\" class=\"dataframe\">\n",
       "  <thead>\n",
       "    <tr style=\"text-align: right;\">\n",
       "      <th></th>\n",
       "      <th>CompanyName</th>\n",
       "      <th>CompanyNumber</th>\n",
       "      <th>CompanyStatus</th>\n",
       "      <th>IncorporationDate</th>\n",
       "      <th>SICCode</th>\n",
       "      <th>status</th>\n",
       "      <th>persons_entitled</th>\n",
       "      <th>delivered_on</th>\n",
       "      <th>charge_number</th>\n",
       "      <th>classification.type</th>\n",
       "      <th>classification.description</th>\n",
       "      <th>particulars.type</th>\n",
       "      <th>particulars.description</th>\n",
       "      <th>RegAddress.District</th>\n",
       "      <th>RegAddress.PostCode</th>\n",
       "    </tr>\n",
       "  </thead>\n",
       "  <tbody>\n",
       "    <tr>\n",
       "      <td>0</td>\n",
       "      <td>CHG-MERIDIAN UK LIMITED</td>\n",
       "      <td>01276016</td>\n",
       "      <td>Active</td>\n",
       "      <td>1976-09-06T00:00:00.000Z</td>\n",
       "      <td>[{\"code\":\"64910\",\"description\":\"Financial leasing\"}]</td>\n",
       "      <td>outstanding</td>\n",
       "      <td>[{\"name\":\"Bal Global Finance (UK) Limited\"}]</td>\n",
       "      <td>2019-08-01T00:00:00.000Z</td>\n",
       "      <td>2529</td>\n",
       "      <td>charge-description</td>\n",
       "      <td>A registered charge</td>\n",
       "      <td>brief-description</td>\n",
       "      <td>A security charge dated 31/07/2019 between bal global finance (UK) limited (the “lender”) and ch...</td>\n",
       "      <td>RUNNYMEDE</td>\n",
       "      <td>TW20 9AB</td>\n",
       "    </tr>\n",
       "    <tr>\n",
       "      <td>1</td>\n",
       "      <td>CHG-MERIDIAN UK LIMITED</td>\n",
       "      <td>01276016</td>\n",
       "      <td>Active</td>\n",
       "      <td>1976-09-06T00:00:00.000Z</td>\n",
       "      <td>[{\"code\":\"64910\",\"description\":\"Financial leasing\"}]</td>\n",
       "      <td>outstanding</td>\n",
       "      <td>[{\"name\":\"Bal Global Finance (UK) Limited\"}]</td>\n",
       "      <td>2019-08-01T00:00:00.000Z</td>\n",
       "      <td>2528</td>\n",
       "      <td>charge-description</td>\n",
       "      <td>A registered charge</td>\n",
       "      <td>brief-description</td>\n",
       "      <td>A security charge dated 31/07/2019 between bal global finance (UK) limited (the “lender”) and ch...</td>\n",
       "      <td>RUNNYMEDE</td>\n",
       "      <td>TW20 9AB</td>\n",
       "    </tr>\n",
       "  </tbody>\n",
       "</table>\n",
       "</div>"
      ],
      "text/plain": [
       "               CompanyName CompanyNumber CompanyStatus  \\\n",
       "0  CHG-MERIDIAN UK LIMITED      01276016        Active   \n",
       "1  CHG-MERIDIAN UK LIMITED      01276016        Active   \n",
       "\n",
       "          IncorporationDate  \\\n",
       "0  1976-09-06T00:00:00.000Z   \n",
       "1  1976-09-06T00:00:00.000Z   \n",
       "\n",
       "                                                SICCode       status  \\\n",
       "0  [{\"code\":\"64910\",\"description\":\"Financial leasing\"}]  outstanding   \n",
       "1  [{\"code\":\"64910\",\"description\":\"Financial leasing\"}]  outstanding   \n",
       "\n",
       "                               persons_entitled              delivered_on  \\\n",
       "0  [{\"name\":\"Bal Global Finance (UK) Limited\"}]  2019-08-01T00:00:00.000Z   \n",
       "1  [{\"name\":\"Bal Global Finance (UK) Limited\"}]  2019-08-01T00:00:00.000Z   \n",
       "\n",
       "  charge_number classification.type classification.description  \\\n",
       "0          2529  charge-description        A registered charge   \n",
       "1          2528  charge-description        A registered charge   \n",
       "\n",
       "    particulars.type  \\\n",
       "0  brief-description   \n",
       "1  brief-description   \n",
       "\n",
       "                                                                               particulars.description  \\\n",
       "0  A security charge dated 31/07/2019 between bal global finance (UK) limited (the “lender”) and ch...   \n",
       "1  A security charge dated 31/07/2019 between bal global finance (UK) limited (the “lender”) and ch...   \n",
       "\n",
       "  RegAddress.District RegAddress.PostCode  \n",
       "0           RUNNYMEDE            TW20 9AB  \n",
       "1           RUNNYMEDE            TW20 9AB  "
      ]
     },
     "execution_count": 4,
     "metadata": {},
     "output_type": "execute_result"
    }
   ],
   "source": [
    "corig = pd.read_csv('charges_tempt.csv', dtype=str, header=0, index_col=None)\n",
    "\n",
    "print(corig.shape)\n",
    "corig.head(2)"
   ]
  },
  {
   "cell_type": "markdown",
   "metadata": {},
   "source": [
    "### Build editable copy"
   ]
  },
  {
   "cell_type": "code",
   "execution_count": 5,
   "metadata": {},
   "outputs": [
    {
     "data": {
      "text/html": [
       "<div>\n",
       "<style scoped>\n",
       "    .dataframe tbody tr th:only-of-type {\n",
       "        vertical-align: middle;\n",
       "    }\n",
       "\n",
       "    .dataframe tbody tr th {\n",
       "        vertical-align: top;\n",
       "    }\n",
       "\n",
       "    .dataframe thead th {\n",
       "        text-align: right;\n",
       "    }\n",
       "</style>\n",
       "<table border=\"1\" class=\"dataframe\">\n",
       "  <thead>\n",
       "    <tr style=\"text-align: right;\">\n",
       "      <th></th>\n",
       "      <th>CompanyName</th>\n",
       "      <th>CompanyNumber</th>\n",
       "      <th>SICCode</th>\n",
       "      <th>persons_entitled</th>\n",
       "      <th>desc</th>\n",
       "      <th>district</th>\n",
       "    </tr>\n",
       "  </thead>\n",
       "  <tbody>\n",
       "    <tr>\n",
       "      <td>0</td>\n",
       "      <td>CHG-MERIDIAN UK LIMITED</td>\n",
       "      <td>01276016</td>\n",
       "      <td>[{\"code\":\"64910\",\"description\":\"Financial leasing\"}]</td>\n",
       "      <td>[{\"name\":\"Bal Global Finance (UK) Limited\"}]</td>\n",
       "      <td>A security charge dated 31/07/2019 between bal global finance (UK) limited (the “lender”) and ch...</td>\n",
       "      <td>RUNNYMEDE</td>\n",
       "    </tr>\n",
       "    <tr>\n",
       "      <td>1</td>\n",
       "      <td>CHG-MERIDIAN UK LIMITED</td>\n",
       "      <td>01276016</td>\n",
       "      <td>[{\"code\":\"64910\",\"description\":\"Financial leasing\"}]</td>\n",
       "      <td>[{\"name\":\"Bal Global Finance (UK) Limited\"}]</td>\n",
       "      <td>A security charge dated 31/07/2019 between bal global finance (UK) limited (the “lender”) and ch...</td>\n",
       "      <td>RUNNYMEDE</td>\n",
       "    </tr>\n",
       "  </tbody>\n",
       "</table>\n",
       "</div>"
      ],
      "text/plain": [
       "               CompanyName CompanyNumber  \\\n",
       "0  CHG-MERIDIAN UK LIMITED      01276016   \n",
       "1  CHG-MERIDIAN UK LIMITED      01276016   \n",
       "\n",
       "                                                SICCode  \\\n",
       "0  [{\"code\":\"64910\",\"description\":\"Financial leasing\"}]   \n",
       "1  [{\"code\":\"64910\",\"description\":\"Financial leasing\"}]   \n",
       "\n",
       "                               persons_entitled  \\\n",
       "0  [{\"name\":\"Bal Global Finance (UK) Limited\"}]   \n",
       "1  [{\"name\":\"Bal Global Finance (UK) Limited\"}]   \n",
       "\n",
       "                                                                                                  desc  \\\n",
       "0  A security charge dated 31/07/2019 between bal global finance (UK) limited (the “lender”) and ch...   \n",
       "1  A security charge dated 31/07/2019 between bal global finance (UK) limited (the “lender”) and ch...   \n",
       "\n",
       "    district  \n",
       "0  RUNNYMEDE  \n",
       "1  RUNNYMEDE  "
      ]
     },
     "execution_count": 5,
     "metadata": {},
     "output_type": "execute_result"
    }
   ],
   "source": [
    "cedit = corig.copy()\n",
    "\n",
    "cedit = cedit[~cedit['RegAddress.District'].isna()]\n",
    "cedit = cedit[~cedit['particulars.description'].isna()]\n",
    "cedit = cedit[['CompanyName','CompanyNumber','SICCode','persons_entitled','particulars.description','RegAddress.District']]\n",
    "cedit.rename(columns={'particulars.description': 'desc', 'RegAddress.District': 'district'}, inplace=True)\n",
    "\n",
    "cedit.head(2)"
   ]
  },
  {
   "cell_type": "code",
   "execution_count": 6,
   "metadata": {},
   "outputs": [
    {
     "name": "stdout",
     "output_type": "stream",
     "text": [
      "Unique descriptions: 22301\n"
     ]
    }
   ],
   "source": [
    "print(f'Unique descriptions: {len(cedit.desc.unique())}')"
   ]
  },
  {
   "cell_type": "markdown",
   "metadata": {},
   "source": [
    "### Start NLP"
   ]
  },
  {
   "cell_type": "code",
   "execution_count": 7,
   "metadata": {},
   "outputs": [
    {
     "data": {
      "text/plain": [
       "0    a security charge dated 31/07/2019 between bal global finance (uk) limited (the “lender”) and ch...\n",
       "1    a security charge dated 31/07/2019 between bal global finance (uk) limited (the “lender”) and ch...\n",
       "Name: desc, dtype: object"
      ]
     },
     "execution_count": 7,
     "metadata": {},
     "output_type": "execute_result"
    }
   ],
   "source": [
    "cedit['desc'] = cedit['desc'].apply(lambda x: \" \".join(x.lower() for x in str(x).split()))\n",
    "\n",
    "cedit.iloc[:2].desc"
   ]
  },
  {
   "cell_type": "code",
   "execution_count": 8,
   "metadata": {},
   "outputs": [],
   "source": [
    "def remove_sym(x):\n",
    "    new_str = ''\n",
    "    for c in x:\n",
    "        if (c.isalnum() == False) & (c != ' '):\n",
    "            pass\n",
    "        else:\n",
    "            new_str += c\n",
    "    return new_str"
   ]
  },
  {
   "cell_type": "code",
   "execution_count": 9,
   "metadata": {},
   "outputs": [
    {
     "data": {
      "text/plain": [
       "0    a security charge dated 31072019 between bal global finance uk limited the lender and chgmeridia...\n",
       "1    a security charge dated 31072019 between bal global finance uk limited the lender and chgmeridia...\n",
       "Name: desc, dtype: object"
      ]
     },
     "execution_count": 9,
     "metadata": {},
     "output_type": "execute_result"
    }
   ],
   "source": [
    "cedit['desc'] = cedit['desc'].apply(remove_sym)\n",
    "\n",
    "cedit.iloc[:2].desc"
   ]
  },
  {
   "cell_type": "code",
   "execution_count": 10,
   "metadata": {},
   "outputs": [
    {
     "data": {
      "text/plain": [
       "0    security charge dated 31072019 bal global finance uk limited lender chgmeridian computer uk limi...\n",
       "1    security charge dated 31072019 bal global finance uk limited lender chgmeridian computer uk limi...\n",
       "Name: desc, dtype: object"
      ]
     },
     "execution_count": 10,
     "metadata": {},
     "output_type": "execute_result"
    }
   ],
   "source": [
    "stop = stopwords.words('english')\n",
    "\n",
    "cedit['desc'] = cedit['desc'].apply(lambda x: \" \".join(x for x in str(x).split() if x not in stop))\n",
    "\n",
    "cedit.iloc[:2].desc"
   ]
  },
  {
   "cell_type": "code",
   "execution_count": 11,
   "metadata": {},
   "outputs": [
    {
     "name": "stdout",
     "output_type": "stream",
     "text": [
      "desc unique words: 40415\n"
     ]
    }
   ],
   "source": [
    "desc_words = pd.Series(' '.join(cedit['desc']).split()).value_counts()\n",
    "\n",
    "print(f'desc unique words: {len(desc_words)}')"
   ]
  },
  {
   "cell_type": "code",
   "execution_count": 12,
   "metadata": {},
   "outputs": [
    {
     "name": "stdout",
     "output_type": "stream",
     "text": [
      "Rare desc word count: 32727\n"
     ]
    }
   ],
   "source": [
    "desc_rare = desc_words[(desc_words <= 4)]\n",
    "\n",
    "print(f'Rare desc word count: {len(desc_rare)}')"
   ]
  },
  {
   "cell_type": "code",
   "execution_count": 13,
   "metadata": {},
   "outputs": [
    {
     "data": {
      "text/plain": [
       "0    security charge dated 31072019 bal global finance uk limited lender chgmeridian computer uk limi...\n",
       "1    security charge dated 31072019 bal global finance uk limited lender chgmeridian computer uk limi...\n",
       "Name: desc, dtype: object"
      ]
     },
     "execution_count": 13,
     "metadata": {},
     "output_type": "execute_result"
    }
   ],
   "source": [
    "cedit['desc'] = cedit['desc'].apply(lambda x: \" \".join(x for x in str(x).split() if x not in desc_rare))\n",
    "\n",
    "cedit.iloc[:2].desc"
   ]
  },
  {
   "cell_type": "code",
   "execution_count": 14,
   "metadata": {},
   "outputs": [
    {
     "data": {
      "text/plain": [
       "0    security charge dated 31072019 bal global finance uk limited lender chgmeridian computer uk limi...\n",
       "1    security charge dated 31072019 bal global finance uk limited lender chgmeridian computer uk limi...\n",
       "Name: desc, dtype: object"
      ]
     },
     "execution_count": 14,
     "metadata": {},
     "output_type": "execute_result"
    }
   ],
   "source": [
    "# remove desc == '' and desc == 'na'\n",
    "cedit['desc'] = cedit['desc'].apply(lambda x: \" \".join(x for x in str(x).split() if len(x) > 1))\n",
    "cedit = cedit[cedit['desc'] != 'na']\n",
    "\n",
    "cedit.iloc[:2].desc"
   ]
  },
  {
   "cell_type": "code",
   "execution_count": 15,
   "metadata": {},
   "outputs": [
    {
     "name": "stdout",
     "output_type": "stream",
     "text": [
      "Number of rows: 27494\n",
      "Remaining total word count: 435368\n",
      "Remaining unique word count: 7662\n"
     ]
    }
   ],
   "source": [
    "print(f\"Number of rows: {len(cedit)}\")\n",
    "print(f\"Remaining total word count: {len(pd.Series(' '.join(cedit['desc']).split()))}\")\n",
    "print(f\"Remaining unique word count: {len(pd.Series(' '.join(cedit['desc']).split()).value_counts())}\")"
   ]
  },
  {
   "cell_type": "code",
   "execution_count": 16,
   "metadata": {},
   "outputs": [
    {
     "data": {
      "text/plain": [
       "<27494x7584 sparse matrix of type '<class 'numpy.float64'>'\n",
       "\twith 334633 stored elements in Compressed Sparse Row format>"
      ]
     },
     "execution_count": 16,
     "metadata": {},
     "output_type": "execute_result"
    }
   ],
   "source": [
    "tf = TfidfVectorizer(max_features=1000000, lowercase=True, analyzer='word',\n",
    "                        stop_words='english', ngram_range=(1,1))\n",
    "\n",
    "tfvec = tf.fit_transform(cedit['desc'])\n",
    "\n",
    "tfvec"
   ]
  },
  {
   "cell_type": "code",
   "execution_count": 17,
   "metadata": {},
   "outputs": [
    {
     "data": {
      "image/png": "[encoded data removed]",
      "text/plain": [
       "<Figure size 432x288 with 1 Axes>"
      ]
     },
     "metadata": {
      "needs_background": "light"
     },
     "output_type": "display_data"
    }
   ],
   "source": [
    "distortions = []\n",
    "our_range = range(2, 9)\n",
    "for i in our_range:\n",
    "    km = KMeans(n_clusters=i, init='k-means++',\n",
    "                n_init=10, max_iter=50, random_state=0)\n",
    "    km.fit(tfvec)\n",
    "    distortions.append(km.inertia_)\n",
    "plt.plot(our_range, distortions, marker='o')\n",
    "plt.xlabel('# of clusters')\n",
    "plt.ylabel('Distortion')\n",
    "plt.show()"
   ]
  },
  {
   "cell_type": "code",
   "execution_count": 109,
   "metadata": {},
   "outputs": [],
   "source": [
    "# 3 is best outcome after reviewing cluster results\n",
    "km = KMeans(n_clusters=3, init='k-means++',\n",
    "            n_init=10, max_iter=100, random_state=0)\n",
    "\n",
    "km_pred = km.fit_predict(tfvec)"
   ]
  },
  {
   "cell_type": "code",
   "execution_count": 110,
   "metadata": {},
   "outputs": [
    {
     "data": {
      "text/html": [
       "<div>\n",
       "<style scoped>\n",
       "    .dataframe tbody tr th:only-of-type {\n",
       "        vertical-align: middle;\n",
       "    }\n",
       "\n",
       "    .dataframe tbody tr th {\n",
       "        vertical-align: top;\n",
       "    }\n",
       "\n",
       "    .dataframe thead th {\n",
       "        text-align: right;\n",
       "    }\n",
       "</style>\n",
       "<table border=\"1\" class=\"dataframe\">\n",
       "  <thead>\n",
       "    <tr style=\"text-align: right;\">\n",
       "      <th></th>\n",
       "      <th>CompanyName</th>\n",
       "      <th>CompanyNumber</th>\n",
       "      <th>SICCode</th>\n",
       "      <th>persons_entitled</th>\n",
       "      <th>desc</th>\n",
       "      <th>district</th>\n",
       "      <th>km_pred</th>\n",
       "    </tr>\n",
       "  </thead>\n",
       "  <tbody>\n",
       "    <tr>\n",
       "      <td>0</td>\n",
       "      <td>CHG-MERIDIAN UK LIMITED</td>\n",
       "      <td>01276016</td>\n",
       "      <td>[{\"code\":\"64910\",\"description\":\"Financial leasing\"}]</td>\n",
       "      <td>[{\"name\":\"Bal Global Finance (UK) Limited\"}]</td>\n",
       "      <td>security charge dated 31072019 bal global finance uk limited lender chgmeridian computer uk limi...</td>\n",
       "      <td>RUNNYMEDE</td>\n",
       "      <td>0</td>\n",
       "    </tr>\n",
       "    <tr>\n",
       "      <td>1</td>\n",
       "      <td>CHG-MERIDIAN UK LIMITED</td>\n",
       "      <td>01276016</td>\n",
       "      <td>[{\"code\":\"64910\",\"description\":\"Financial leasing\"}]</td>\n",
       "      <td>[{\"name\":\"Bal Global Finance (UK) Limited\"}]</td>\n",
       "      <td>security charge dated 31072019 bal global finance uk limited lender chgmeridian computer uk limi...</td>\n",
       "      <td>RUNNYMEDE</td>\n",
       "      <td>0</td>\n",
       "    </tr>\n",
       "  </tbody>\n",
       "</table>\n",
       "</div>"
      ],
      "text/plain": [
       "               CompanyName CompanyNumber  \\\n",
       "0  CHG-MERIDIAN UK LIMITED      01276016   \n",
       "1  CHG-MERIDIAN UK LIMITED      01276016   \n",
       "\n",
       "                                                SICCode  \\\n",
       "0  [{\"code\":\"64910\",\"description\":\"Financial leasing\"}]   \n",
       "1  [{\"code\":\"64910\",\"description\":\"Financial leasing\"}]   \n",
       "\n",
       "                               persons_entitled  \\\n",
       "0  [{\"name\":\"Bal Global Finance (UK) Limited\"}]   \n",
       "1  [{\"name\":\"Bal Global Finance (UK) Limited\"}]   \n",
       "\n",
       "                                                                                                  desc  \\\n",
       "0  security charge dated 31072019 bal global finance uk limited lender chgmeridian computer uk limi...   \n",
       "1  security charge dated 31072019 bal global finance uk limited lender chgmeridian computer uk limi...   \n",
       "\n",
       "    district  km_pred  \n",
       "0  RUNNYMEDE        0  \n",
       "1  RUNNYMEDE        0  "
      ]
     },
     "execution_count": 110,
     "metadata": {},
     "output_type": "execute_result"
    }
   ],
   "source": [
    "cedit['km_pred'] = km_pred\n",
    "\n",
    "cedit.head(2)"
   ]
  },
  {
   "cell_type": "code",
   "execution_count": 111,
   "metadata": {},
   "outputs": [
    {
     "data": {
      "text/plain": [
       "0    23877\n",
       "1     3039\n",
       "2      578\n",
       "Name: km_pred, dtype: int64"
      ]
     },
     "execution_count": 111,
     "metadata": {},
     "output_type": "execute_result"
    }
   ],
   "source": [
    "# distribution of predictions\n",
    "cedit.km_pred.value_counts()"
   ]
  },
  {
   "cell_type": "code",
   "execution_count": 112,
   "metadata": {},
   "outputs": [
    {
     "data": {
      "text/plain": [
       "34445    leasehold properties michigan point tower 11 michigan avenue salford m50 2hj title number detail...\n",
       "24156                                                                                  pratt aircraft engine\n",
       "9496                                                                      business yard situated 16 road 9dw\n",
       "14735                                                                           16 lane leigh lancashire wn7\n",
       "20894    freehold property house paynes park hitchin 1eh registered land registry title absolute title nu...\n",
       "33659    way debenture property known land south east side 21 beulah crescent thornton heath cr7 8jl regi...\n",
       "19872                                                                                       14 road stafford\n",
       "24011                                                                                    road portsmouth 5an\n",
       "4016                                                                337 park rd edgbaston birmingham b16 0lb\n",
       "28703                                         1a road county armagh part lands comprised folio county armagh\n",
       "Name: desc, dtype: object"
      ]
     },
     "execution_count": 112,
     "metadata": {},
     "output_type": "execute_result"
    }
   ],
   "source": [
    "cedit[cedit.km_pred == 0].desc.sample(10)"
   ]
  },
  {
   "cell_type": "code",
   "execution_count": 113,
   "metadata": {},
   "outputs": [
    {
     "data": {
      "text/plain": [
       "22199    way fixed charge estates interests freehold leasehold property company present future together b...\n",
       "12853    freehold leasehold property future belonging company together buildings trade fixtures fixed pla...\n",
       "35026    freehold property known 13 road derby de22 3pl land buildings title including buildings fixtures...\n",
       "36238    registration logo fixed floating charge assets undertaking company present future including real...\n",
       "14654    way legal charge freehold leasehold property specified legal chargeii property including limited...\n",
       "4433     freehold leasehold property future belonging company together buildings trade fixtures fixed pla...\n",
       "10891    charges pension scheme way first legal mortgage real properties whether registered unregistered ...\n",
       "28688    present future freehold leasehold property including without limitation property specified sched...\n",
       "22044    fixed charge entire issued share capital funding company registered name chargor stocks shares s...\n",
       "5558     freehold properties known wakefield road ossett west yorkshire wf5 9ar land buildings titles inc...\n",
       "Name: desc, dtype: object"
      ]
     },
     "execution_count": 113,
     "metadata": {},
     "output_type": "execute_result"
    }
   ],
   "source": [
    "cedit[cedit.km_pred == 1].desc.sample(10)"
   ]
  },
  {
   "cell_type": "code",
   "execution_count": 114,
   "metadata": {},
   "outputs": [
    {
     "data": {
      "text/plain": [
       "4999                                   fixed floating charge assets\n",
       "9960     fixed floating charge assets including broadway dudley 4ar\n",
       "15719                                  fixed floating charge assets\n",
       "13076                                  fixed floating charge assets\n",
       "13956                                  fixed floating charge assets\n",
       "5377                                   fixed floating charge assets\n",
       "34064                                  fixed floating charge assets\n",
       "8945                                   fixed floating charge assets\n",
       "9579                                   fixed floating charge assets\n",
       "36738                                  fixed floating charge assets\n",
       "Name: desc, dtype: object"
      ]
     },
     "execution_count": 114,
     "metadata": {},
     "output_type": "execute_result"
    }
   ],
   "source": [
    "cedit[cedit.km_pred == 2].desc.sample(10)"
   ]
  },
  {
   "cell_type": "code",
   "execution_count": 116,
   "metadata": {},
   "outputs": [
    {
     "data": {
      "text/plain": [
       "1    1695\n",
       "0    1492\n",
       "2       1\n",
       "Name: km_pred, dtype: int64"
      ]
     },
     "execution_count": 116,
     "metadata": {},
     "output_type": "execute_result"
    }
   ],
   "source": [
    "# we see clean lack of cluster 2 for leasehold\n",
    "cedit[cedit.desc.str.contains('leasehold')].km_pred.value_counts()"
   ]
  },
  {
   "cell_type": "code",
   "execution_count": 117,
   "metadata": {},
   "outputs": [
    {
     "data": {
      "text/plain": [
       "0    4533\n",
       "1    1803\n",
       "2       1\n",
       "Name: km_pred, dtype: int64"
      ]
     },
     "execution_count": 117,
     "metadata": {},
     "output_type": "execute_result"
    }
   ],
   "source": [
    "# we see clean lack of cluster 2 for freehold\n",
    "cedit[cedit.desc.str.contains('freehold')].km_pred.value_counts()"
   ]
  },
  {
   "cell_type": "code",
   "execution_count": 139,
   "metadata": {},
   "outputs": [
    {
     "data": {
      "text/html": [
       "<div>\n",
       "<style scoped>\n",
       "    .dataframe tbody tr th:only-of-type {\n",
       "        vertical-align: middle;\n",
       "    }\n",
       "\n",
       "    .dataframe tbody tr th {\n",
       "        vertical-align: top;\n",
       "    }\n",
       "\n",
       "    .dataframe thead th {\n",
       "        text-align: right;\n",
       "    }\n",
       "</style>\n",
       "<table border=\"1\" class=\"dataframe\">\n",
       "  <thead>\n",
       "    <tr style=\"text-align: right;\">\n",
       "      <th></th>\n",
       "      <th>CompanyName</th>\n",
       "      <th>CompanyNumber</th>\n",
       "      <th>SICCode</th>\n",
       "      <th>persons_entitled</th>\n",
       "      <th>desc</th>\n",
       "      <th>district</th>\n",
       "      <th>km_pred</th>\n",
       "    </tr>\n",
       "  </thead>\n",
       "  <tbody>\n",
       "    <tr>\n",
       "      <td>12059</td>\n",
       "      <td>EXCLUSIVE VENUES LIMITED</td>\n",
       "      <td>10460833</td>\n",
       "      <td>[{\"code\":\"55900\",\"description\":\"Other accommodation\"}]</td>\n",
       "      <td>[{\"name\":\"Phd Finance \\u0026 Investments Limited\"}]</td>\n",
       "      <td>first charge freehold leasehold property first fixed charge assets company</td>\n",
       "      <td>ELMBRIDGE</td>\n",
       "      <td>2</td>\n",
       "    </tr>\n",
       "  </tbody>\n",
       "</table>\n",
       "</div>"
      ],
      "text/plain": [
       "                    CompanyName CompanyNumber  \\\n",
       "12059  EXCLUSIVE VENUES LIMITED      10460833   \n",
       "\n",
       "                                                      SICCode  \\\n",
       "12059  [{\"code\":\"55900\",\"description\":\"Other accommodation\"}]   \n",
       "\n",
       "                                          persons_entitled  \\\n",
       "12059  [{\"name\":\"Phd Finance \\u0026 Investments Limited\"}]   \n",
       "\n",
       "                                                                             desc  \\\n",
       "12059  first charge freehold leasehold property first fixed charge assets company   \n",
       "\n",
       "        district  km_pred  \n",
       "12059  ELMBRIDGE        2  "
      ]
     },
     "execution_count": 139,
     "metadata": {},
     "output_type": "execute_result"
    }
   ],
   "source": [
    "cedit[(cedit.desc.str.contains('freehold')) & (cedit.km_pred==2)]"
   ]
  },
  {
   "cell_type": "markdown",
   "metadata": {},
   "source": [
    "### Improve through manual labeling"
   ]
  },
  {
   "cell_type": "code",
   "execution_count": 151,
   "metadata": {},
   "outputs": [
    {
     "data": {
      "text/html": [
       "<div>\n",
       "<style scoped>\n",
       "    .dataframe tbody tr th:only-of-type {\n",
       "        vertical-align: middle;\n",
       "    }\n",
       "\n",
       "    .dataframe tbody tr th {\n",
       "        vertical-align: top;\n",
       "    }\n",
       "\n",
       "    .dataframe thead th {\n",
       "        text-align: right;\n",
       "    }\n",
       "</style>\n",
       "<table border=\"1\" class=\"dataframe\">\n",
       "  <thead>\n",
       "    <tr style=\"text-align: right;\">\n",
       "      <th></th>\n",
       "      <th>CompanyName</th>\n",
       "      <th>CompanyNumber</th>\n",
       "      <th>SICCode</th>\n",
       "      <th>persons_entitled</th>\n",
       "      <th>desc</th>\n",
       "      <th>district</th>\n",
       "      <th>km_pred</th>\n",
       "      <th>label</th>\n",
       "    </tr>\n",
       "  </thead>\n",
       "  <tbody>\n",
       "    <tr>\n",
       "      <td>0</td>\n",
       "      <td>CHG-MERIDIAN UK LIMITED</td>\n",
       "      <td>01276016</td>\n",
       "      <td>[{\"code\":\"64910\",\"description\":\"Financial leasing\"}]</td>\n",
       "      <td>[{\"name\":\"Bal Global Finance (UK) Limited\"}]</td>\n",
       "      <td>security charge dated 31072019 bal global finance uk limited lender chgmeridian computer uk limi...</td>\n",
       "      <td>RUNNYMEDE</td>\n",
       "      <td>0</td>\n",
       "      <td>NaN</td>\n",
       "    </tr>\n",
       "    <tr>\n",
       "      <td>1</td>\n",
       "      <td>CHG-MERIDIAN UK LIMITED</td>\n",
       "      <td>01276016</td>\n",
       "      <td>[{\"code\":\"64910\",\"description\":\"Financial leasing\"}]</td>\n",
       "      <td>[{\"name\":\"Bal Global Finance (UK) Limited\"}]</td>\n",
       "      <td>security charge dated 31072019 bal global finance uk limited lender chgmeridian computer uk limi...</td>\n",
       "      <td>RUNNYMEDE</td>\n",
       "      <td>0</td>\n",
       "      <td>NaN</td>\n",
       "    </tr>\n",
       "  </tbody>\n",
       "</table>\n",
       "</div>"
      ],
      "text/plain": [
       "               CompanyName CompanyNumber  \\\n",
       "0  CHG-MERIDIAN UK LIMITED      01276016   \n",
       "1  CHG-MERIDIAN UK LIMITED      01276016   \n",
       "\n",
       "                                                SICCode  \\\n",
       "0  [{\"code\":\"64910\",\"description\":\"Financial leasing\"}]   \n",
       "1  [{\"code\":\"64910\",\"description\":\"Financial leasing\"}]   \n",
       "\n",
       "                               persons_entitled  \\\n",
       "0  [{\"name\":\"Bal Global Finance (UK) Limited\"}]   \n",
       "1  [{\"name\":\"Bal Global Finance (UK) Limited\"}]   \n",
       "\n",
       "                                                                                                  desc  \\\n",
       "0  security charge dated 31072019 bal global finance uk limited lender chgmeridian computer uk limi...   \n",
       "1  security charge dated 31072019 bal global finance uk limited lender chgmeridian computer uk limi...   \n",
       "\n",
       "    district  km_pred  label  \n",
       "0  RUNNYMEDE        0    NaN  \n",
       "1  RUNNYMEDE        0    NaN  "
      ]
     },
     "execution_count": 151,
     "metadata": {},
     "output_type": "execute_result"
    }
   ],
   "source": [
    "clabel = cedit.copy()\n",
    "clabel['label'] = np.NaN\n",
    "\n",
    "clabel.head(2)"
   ]
  },
  {
   "cell_type": "code",
   "execution_count": 152,
   "metadata": {},
   "outputs": [],
   "source": [
    "label0 = {\n",
    "    'none': 0,\n",
    "    'applicable': 0,\n",
    "    'legal assignment contract monies': 0,\n",
    "    'please see instrument details': 0,\n",
    "    'security cash deposits': 0,\n",
    "    'general pledge': 0,\n",
    "    'specific land ship aircraft intellectual property charged full details charges please refer charging document directly': 0,\n",
    "    'assets company way first fixed floating charge note company precluded without consent writing advantedge commercial finance north limited creating charge upon book debts due ranking either priority pari passu charge': 0,\n",
    "    'contains fixed charge contains floating charge covers property undertaking companycontains negative pledge': 0,\n",
    "    'intellectual property listed exhibit document uploaded filing': 0,\n",
    "    'fixed charges land intellectual property owned company time':0,\n",
    "    'debenture': 0,\n",
    "}"
   ]
  },
  {
   "cell_type": "code",
   "execution_count": 143,
   "metadata": {},
   "outputs": [],
   "source": [
    "### for manual labeling\n",
    "# cedit[cedit.km_pred == 2].desc.value_counts()"
   ]
  },
  {
   "cell_type": "code",
   "execution_count": 154,
   "metadata": {},
   "outputs": [
    {
     "data": {
      "text/plain": [
       "0    23877\n",
       "1     3039\n",
       "2      578\n",
       "Name: km_pred, dtype: int64"
      ]
     },
     "execution_count": 154,
     "metadata": {},
     "output_type": "execute_result"
    }
   ],
   "source": [
    "clabel.km_pred.value_counts()"
   ]
  },
  {
   "cell_type": "code",
   "execution_count": 156,
   "metadata": {},
   "outputs": [
    {
     "data": {
      "text/plain": [
       "1    26916\n",
       "0      578\n",
       "Name: label, dtype: int64"
      ]
     },
     "execution_count": 156,
     "metadata": {},
     "output_type": "execute_result"
    }
   ],
   "source": [
    "# label cluster 2 as 0 aka not of interest\n",
    "# label clusters 0 and 1 as 1 aka of interest\n",
    "clabel['label'] = np.where(clabel.km_pred.isin([0, 1]), 1, 0)\n",
    "\n",
    "clabel['label'].value_counts()"
   ]
  },
  {
   "cell_type": "code",
   "execution_count": 166,
   "metadata": {},
   "outputs": [
    {
     "data": {
      "text/plain": [
       "1    25062\n",
       "0     2432\n",
       "Name: label, dtype: int64"
      ]
     },
     "execution_count": 166,
     "metadata": {},
     "output_type": "execute_result"
    }
   ],
   "source": [
    "# relabel items in label0 as 0 aka not of interest\n",
    "clabel['label'] = np.where(clabel.desc.isin(label0), 0, clabel.label)\n",
    "\n",
    "clabel['label'].value_counts()"
   ]
  },
  {
   "cell_type": "code",
   "execution_count": 168,
   "metadata": {},
   "outputs": [],
   "source": [
    "# clabel.to_csv('charges_labelled.csv')"
   ]
  },
  {
   "cell_type": "code",
   "execution_count": null,
   "metadata": {},
   "outputs": [],
   "source": []
  }
 ],
 "metadata": {
  "kernelspec": {
   "display_name": "Python 3",
   "language": "python",
   "name": "python3"
  },
  "language_info": {
   "codemirror_mode": {
    "name": "ipython",
    "version": 3
   },
   "file_extension": ".py",
   "mimetype": "text/x-python",
   "name": "python",
   "nbconvert_exporter": "python",
   "pygments_lexer": "ipython3",
   "version": "3.7.3"
  }
 },
 "nbformat": 4,
 "nbformat_minor": 2
}
