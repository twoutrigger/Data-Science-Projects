{
 "cells": [
  {
   "cell_type": "code",
   "execution_count": 1,
   "metadata": {},
   "outputs": [],
   "source": [
    "import numpy as np\n",
    "import pandas as pd\n",
    "from sklearn.feature_extraction.text import TfidfVectorizer\n",
    "from sklearn.model_selection import train_test_split\n",
    "from sklearn.linear_model import LogisticRegression\n",
    "from sklearn.naive_bayes import MultinomialNB\n",
    "from sklearn.metrics import accuracy_score\n",
    "from sklearn.metrics import confusion_matrix\n",
    "from nltk.corpus import stopwords\n",
    "import pickle"
   ]
  },
  {
   "cell_type": "code",
   "execution_count": 2,
   "metadata": {},
   "outputs": [],
   "source": [
    "import warnings\n",
    "warnings.filterwarnings('ignore')\n",
    "pd.set_option('display.max_colwidth', 100)"
   ]
  },
  {
   "cell_type": "code",
   "execution_count": 3,
   "metadata": {},
   "outputs": [],
   "source": [
    "### create classification algorithm for property-related charges"
   ]
  },
  {
   "cell_type": "code",
   "execution_count": 4,
   "metadata": {},
   "outputs": [
    {
     "name": "stdout",
     "output_type": "stream",
     "text": [
      "(27494, 8)\n"
     ]
    },
    {
     "data": {
      "text/html": [
       "<div>\n",
       "<style scoped>\n",
       "    .dataframe tbody tr th:only-of-type {\n",
       "        vertical-align: middle;\n",
       "    }\n",
       "\n",
       "    .dataframe tbody tr th {\n",
       "        vertical-align: top;\n",
       "    }\n",
       "\n",
       "    .dataframe thead th {\n",
       "        text-align: right;\n",
       "    }\n",
       "</style>\n",
       "<table border=\"1\" class=\"dataframe\">\n",
       "  <thead>\n",
       "    <tr style=\"text-align: right;\">\n",
       "      <th></th>\n",
       "      <th>CompanyName</th>\n",
       "      <th>CompanyNumber</th>\n",
       "      <th>SICCode</th>\n",
       "      <th>persons_entitled</th>\n",
       "      <th>desc</th>\n",
       "      <th>district</th>\n",
       "      <th>km_pred</th>\n",
       "      <th>label</th>\n",
       "    </tr>\n",
       "  </thead>\n",
       "  <tbody>\n",
       "    <tr>\n",
       "      <td>0</td>\n",
       "      <td>CHG-MERIDIAN UK LIMITED</td>\n",
       "      <td>01276016</td>\n",
       "      <td>[{\"code\":\"64910\",\"description\":\"Financial leasing\"}]</td>\n",
       "      <td>[{\"name\":\"Bal Global Finance (UK) Limited\"}]</td>\n",
       "      <td>security charge dated 31072019 bal global finance uk limited lender chgmeridian computer uk limi...</td>\n",
       "      <td>RUNNYMEDE</td>\n",
       "      <td>0</td>\n",
       "      <td>1</td>\n",
       "    </tr>\n",
       "    <tr>\n",
       "      <td>1</td>\n",
       "      <td>CHG-MERIDIAN UK LIMITED</td>\n",
       "      <td>01276016</td>\n",
       "      <td>[{\"code\":\"64910\",\"description\":\"Financial leasing\"}]</td>\n",
       "      <td>[{\"name\":\"Bal Global Finance (UK) Limited\"}]</td>\n",
       "      <td>security charge dated 31072019 bal global finance uk limited lender chgmeridian computer uk limi...</td>\n",
       "      <td>RUNNYMEDE</td>\n",
       "      <td>0</td>\n",
       "      <td>1</td>\n",
       "    </tr>\n",
       "  </tbody>\n",
       "</table>\n",
       "</div>"
      ],
      "text/plain": [
       "               CompanyName CompanyNumber  \\\n",
       "0  CHG-MERIDIAN UK LIMITED      01276016   \n",
       "1  CHG-MERIDIAN UK LIMITED      01276016   \n",
       "\n",
       "                                                SICCode  \\\n",
       "0  [{\"code\":\"64910\",\"description\":\"Financial leasing\"}]   \n",
       "1  [{\"code\":\"64910\",\"description\":\"Financial leasing\"}]   \n",
       "\n",
       "                               persons_entitled  \\\n",
       "0  [{\"name\":\"Bal Global Finance (UK) Limited\"}]   \n",
       "1  [{\"name\":\"Bal Global Finance (UK) Limited\"}]   \n",
       "\n",
       "                                                                                                  desc  \\\n",
       "0  security charge dated 31072019 bal global finance uk limited lender chgmeridian computer uk limi...   \n",
       "1  security charge dated 31072019 bal global finance uk limited lender chgmeridian computer uk limi...   \n",
       "\n",
       "    district  km_pred  label  \n",
       "0  RUNNYMEDE        0      1  \n",
       "1  RUNNYMEDE        0      1  "
      ]
     },
     "execution_count": 4,
     "metadata": {},
     "output_type": "execute_result"
    }
   ],
   "source": [
    "corig = pd.read_csv('charges_labelled.csv', dtype={'CompanyNumber': str}, header=0, index_col=0)\n",
    "\n",
    "print(corig.shape)\n",
    "corig.head(2)"
   ]
  },
  {
   "cell_type": "code",
   "execution_count": 5,
   "metadata": {},
   "outputs": [],
   "source": [
    "# remove some NaNs in desc\n",
    "corig = corig[~corig.desc.isna()]"
   ]
  },
  {
   "cell_type": "markdown",
   "metadata": {},
   "source": [
    "### Build features and target"
   ]
  },
  {
   "cell_type": "code",
   "execution_count": 6,
   "metadata": {},
   "outputs": [
    {
     "data": {
      "text/plain": [
       "<27488x7584 sparse matrix of type '<class 'numpy.float64'>'\n",
       "\twith 334633 stored elements in Compressed Sparse Row format>"
      ]
     },
     "execution_count": 6,
     "metadata": {},
     "output_type": "execute_result"
    }
   ],
   "source": [
    "tf = TfidfVectorizer(max_features=1000000, lowercase=True, analyzer='word',\n",
    "                        stop_words='english', ngram_range=(1,1))\n",
    "\n",
    "tfvec = tf.fit_transform(corig['desc'])\n",
    "\n",
    "tfvec"
   ]
  },
  {
   "cell_type": "code",
   "execution_count": 7,
   "metadata": {},
   "outputs": [
    {
     "name": "stdout",
     "output_type": "stream",
     "text": [
      "(21990, 7584) (5498, 7584) (21990,) (5498,)\n"
     ]
    }
   ],
   "source": [
    "(x_train, x_test, y_train, y_test) = train_test_split(tfvec, corig['label'], test_size=0.2)\n",
    "\n",
    "print(x_train.shape, x_test.shape, y_train.shape, y_test.shape)"
   ]
  },
  {
   "cell_type": "markdown",
   "metadata": {},
   "source": [
    "### Build Classifier"
   ]
  },
  {
   "cell_type": "code",
   "execution_count": 8,
   "metadata": {},
   "outputs": [
    {
     "name": "stdout",
     "output_type": "stream",
     "text": [
      "Logistic Regression Accuracy: C=0.01 0.9070571116769734\n",
      "Logistic Regression Accuracy: C=0.5 0.9588941433248453\n",
      "Logistic Regression Accuracy: C=1.0 0.9623499454347035\n",
      "Logistic Regression Accuracy: C=2.0 0.9618042924699891\n",
      "Logistic Regression Accuracy: C=4.0 0.9969079665332848\n",
      "Logistic Regression Accuracy: C=5.0 0.9972717351764278\n",
      "Logistic Regression Accuracy: C=7.5 0.9969079665332848\n",
      "Logistic Regression Accuracy: C=1 0.9623499454347035\n"
     ]
    }
   ],
   "source": [
    "# c == 4 yields best result\n",
    "for c in [0.01, 0.5, 1.0, 2.0, 4.0, 5.0, 7.5, 1]:\n",
    "    \n",
    "    lreg = LogisticRegression(C=c)\n",
    "    lreg.fit(x_train, y_train)\n",
    "    print (f'Logistic Regression Accuracy: C={c} {accuracy_score(y_test, lreg.predict(x_test))}')"
   ]
  },
  {
   "cell_type": "code",
   "execution_count": 9,
   "metadata": {},
   "outputs": [
    {
     "name": "stdout",
     "output_type": "stream",
     "text": [
      "Lreg Train Score: 0.998545\n",
      "Lreg Test Score: 0.996908\n",
      "[[ 510    1]\n",
      " [  16 4971]]\n"
     ]
    }
   ],
   "source": [
    "lreg = LogisticRegression(C=4.0)\n",
    "lreg.fit(x_train, y_train)\n",
    "\n",
    "print(\"Lreg Train Score: %f\" % lreg.score(x_train, y_train))\n",
    "print(\"Lreg Test Score: %f\" % lreg.score(x_test, y_test))\n",
    "\n",
    "y_pred=lreg.predict(x_test)\n",
    "print(confusion_matrix(y_test, y_pred))"
   ]
  },
  {
   "cell_type": "code",
   "execution_count": 10,
   "metadata": {},
   "outputs": [
    {
     "name": "stdout",
     "output_type": "stream",
     "text": [
      "NB Accuracy: 0.953073845034558\n",
      "NB Train Score: 0.957162\n",
      "NB Test Score: 0.953074\n",
      "[[ 260  251]\n",
      " [   7 4980]]\n"
     ]
    }
   ],
   "source": [
    "### Naive Bayes does perform poorly\n",
    "mnb = MultinomialNB()\n",
    "mnb = mnb.fit(x_train, y_train)\n",
    "\n",
    "print (f'NB Accuracy: {accuracy_score(y_test, mnb.predict(x_test))}')\n",
    "\n",
    "print(\"NB Train Score: %f\" % mnb.score(x_train, y_train))\n",
    "print(\"NB Test Score: %f\" % mnb.score(x_test, y_test))\n",
    "\n",
    "y_pred=mnb.predict(x_test)\n",
    "print(confusion_matrix(y_test, y_pred))"
   ]
  },
  {
   "cell_type": "markdown",
   "metadata": {},
   "source": [
    "### Test Classifer"
   ]
  },
  {
   "cell_type": "code",
   "execution_count": 11,
   "metadata": {},
   "outputs": [],
   "source": [
    "test_charges = [\n",
    "    '64 wilton road salisbury sp2 7es',\n",
    "    'general pledge',\n",
    "    'whole subjects known forming road uddingston glasgow 5na whole subjects registered land register',\n",
    "    'intellectual property number 12345',\n",
    "    'none',\n",
    "    'this is applicable',\n",
    "    'please see instructions on page 5',\n",
    "    'please see instructions on page five',\n",
    "    'freehold property on camberwell road in se13',\n",
    "]"
   ]
  },
  {
   "cell_type": "code",
   "execution_count": 12,
   "metadata": {},
   "outputs": [],
   "source": [
    "stop = stopwords.words('english')\n",
    "\n",
    "def clean_charge(x):\n",
    "    x = x.lower()\n",
    "    new_str = ''\n",
    "    for c in x:\n",
    "        if (c.isalpha() == True) or (c == ' '):\n",
    "            new_str += c\n",
    "    new_str = \" \".join(w for w in str(new_str).split() if w not in stop)\n",
    "                       \n",
    "    return new_str"
   ]
  },
  {
   "cell_type": "code",
   "execution_count": 13,
   "metadata": {},
   "outputs": [
    {
     "name": "stdout",
     "output_type": "stream",
     "text": [
      "['wilton road salisbury sp es', 'general pledge', 'whole subjects known forming road uddingston glasgow na whole subjects registered land register', 'intellectual property number', 'none', 'applicable', 'please see instructions page', 'please see instructions page five', 'freehold property camberwell road se']\n"
     ]
    }
   ],
   "source": [
    "test_clean = []\n",
    "\n",
    "for i in test_charges:\n",
    "    test_clean.append(clean_charge(i))\n",
    "    \n",
    "print(test_clean)"
   ]
  },
  {
   "cell_type": "code",
   "execution_count": 14,
   "metadata": {},
   "outputs": [
    {
     "data": {
      "text/plain": [
       "<9x7584 sparse matrix of type '<class 'numpy.float64'>'\n",
       "\twith 24 stored elements in Compressed Sparse Row format>"
      ]
     },
     "execution_count": 14,
     "metadata": {},
     "output_type": "execute_result"
    }
   ],
   "source": [
    "test_vec = tf.transform(test_clean)\n",
    "\n",
    "test_vec"
   ]
  },
  {
   "cell_type": "code",
   "execution_count": 15,
   "metadata": {},
   "outputs": [
    {
     "name": "stdout",
     "output_type": "stream",
     "text": [
      "Lreg Prediction: 1  64 wilton road salisbury sp2 7es\n",
      "Lreg Prediction: 0  general pledge\n",
      "Lreg Prediction: 1  whole subjects known forming road uddingston glasgow 5na whole subjects registered land register\n",
      "Lreg Prediction: 1  intellectual property number 12345\n",
      "Lreg Prediction: 0  none\n",
      "Lreg Prediction: 0  this is applicable\n",
      "Lreg Prediction: 0  please see instructions on page 5\n",
      "Lreg Prediction: 0  please see instructions on page five\n",
      "Lreg Prediction: 1  freehold property on camberwell road in se13\n"
     ]
    }
   ],
   "source": [
    "test_lreg = lreg.predict(test_vec)\n",
    "\n",
    "for phrase, pred in zip(test_charges, test_lreg):\n",
    "    print(f'Lreg Prediction: {pred}  {phrase}')"
   ]
  },
  {
   "cell_type": "code",
   "execution_count": 16,
   "metadata": {},
   "outputs": [],
   "source": [
    "### pickle algo\n",
    "# cc_out = open(\"classify_charges.pickle\",\"wb\")\n",
    "# pickle.dump(lreg, cc_out)\n",
    "# cc_out.close()"
   ]
  },
  {
   "cell_type": "code",
   "execution_count": null,
   "metadata": {},
   "outputs": [],
   "source": []
  }
 ],
 "metadata": {
  "kernelspec": {
   "display_name": "Python 3",
   "language": "python",
   "name": "python3"
  },
  "language_info": {
   "codemirror_mode": {
    "name": "ipython",
    "version": 3
   },
   "file_extension": ".py",
   "mimetype": "text/x-python",
   "name": "python",
   "nbconvert_exporter": "python",
   "pygments_lexer": "ipython3",
   "version": "3.7.3"
  }
 },
 "nbformat": 4,
 "nbformat_minor": 2
}
