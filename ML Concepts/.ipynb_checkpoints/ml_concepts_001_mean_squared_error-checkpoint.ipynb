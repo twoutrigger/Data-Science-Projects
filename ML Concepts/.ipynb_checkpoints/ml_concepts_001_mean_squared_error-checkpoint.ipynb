{
 "cells": [
  {
   "cell_type": "code",
   "execution_count": 3,
   "metadata": {},
   "outputs": [],
   "source": [
    "## mean square error is a common component of regression\n",
    "## tutorial url:\n",
    "## https://www.geeksforgeeks.org/python-mean-squared-error/"
   ]
  },
  {
   "cell_type": "code",
   "execution_count": 10,
   "metadata": {},
   "outputs": [],
   "source": [
    "from sklearn.metrics import mean_squared_error\n",
    "import numpy as np\n",
    "import matplotlib.pyplot as plt"
   ]
  },
  {
   "cell_type": "markdown",
   "metadata": {},
   "source": [
    "## Sklearn"
   ]
  },
  {
   "cell_type": "code",
   "execution_count": 5,
   "metadata": {},
   "outputs": [
    {
     "data": {
      "text/plain": [
       "0.21606"
      ]
     },
     "execution_count": 5,
     "metadata": {},
     "output_type": "execute_result"
    }
   ],
   "source": [
    "# Given values\n",
    "Y_true = [1,1,2,2,4]  # Y_true = Y (original values)\n",
    "  \n",
    "# calculated values\n",
    "Y_pred = [0.6,1.29,1.99,2.69,3.4]  # Y_pred = Y'\n",
    "  \n",
    "# Calculation of Mean Squared Error (MSE)\n",
    "mean_squared_error(Y_true,Y_pred)"
   ]
  },
  {
   "cell_type": "markdown",
   "metadata": {},
   "source": [
    "## Numpy"
   ]
  },
  {
   "cell_type": "code",
   "execution_count": 7,
   "metadata": {},
   "outputs": [],
   "source": [
    "# Given values\n",
    "Y_true = [1,1,2,2,4]  # Y_true = Y (original values)\n",
    "  \n",
    "# Calculated values\n",
    "Y_pred = [0.6,1.29,1.99,2.69,3.4]  # Y_pred = Y'\n",
    "  \n",
    "# Mean Squared Error\n",
    "MSE = np.square(np.subtract(Y_true,Y_pred)).mean()"
   ]
  },
  {
   "cell_type": "markdown",
   "metadata": {},
   "source": [
    "## Self attempt 2-dimensional"
   ]
  },
  {
   "cell_type": "code",
   "execution_count": 25,
   "metadata": {},
   "outputs": [
    {
     "data": {
      "text/plain": [
       "1.375"
      ]
     },
     "execution_count": 25,
     "metadata": {},
     "output_type": "execute_result"
    }
   ],
   "source": [
    "Y_true_2d = [[1, 1], [2, 5], [3, 5], [6, 6]]\n",
    "\n",
    "Y_pred_2d = [[1, 2], [2, 5], [3, 6], [6, 9]]\n",
    "\n",
    "mean_squared_error(Y_true_2d,Y_pred_2d)"
   ]
  },
  {
   "cell_type": "code",
   "execution_count": 26,
   "metadata": {},
   "outputs": [
    {
     "data": {
      "image/png": "[encoded data removed]",
      "text/plain": [
       "<Figure size 432x288 with 1 Axes>"
      ]
     },
     "metadata": {
      "needs_background": "light"
     },
     "output_type": "display_data"
    }
   ],
   "source": [
    "plt.scatter(x=[i[0] for i in Y_true_2d], y=[i[1] for i in Y_true_2d], c='blue', s=75)\n",
    "plt.scatter(x=[i[0] for i in Y_pred_2d], y=[i[1] for i in Y_pred_2d], c='red')\n",
    "plt.show()"
   ]
  },
  {
   "cell_type": "code",
   "execution_count": null,
   "metadata": {},
   "outputs": [],
   "source": []
  }
 ],
 "metadata": {
  "kernelspec": {
   "display_name": "Python 3",
   "language": "python",
   "name": "python3"
  },
  "language_info": {
   "codemirror_mode": {
    "name": "ipython",
    "version": 3
   },
   "file_extension": ".py",
   "mimetype": "text/x-python",
   "name": "python",
   "nbconvert_exporter": "python",
   "pygments_lexer": "ipython3",
   "version": "3.7.3"
  }
 },
 "nbformat": 4,
 "nbformat_minor": 2
}
