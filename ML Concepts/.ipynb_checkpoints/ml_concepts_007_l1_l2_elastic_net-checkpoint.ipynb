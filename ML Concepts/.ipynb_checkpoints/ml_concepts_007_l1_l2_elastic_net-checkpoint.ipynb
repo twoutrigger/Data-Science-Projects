{
 "cells": [
  {
   "cell_type": "code",
   "execution_count": 1,
   "metadata": {},
   "outputs": [],
   "source": [
    "## Basic tutorial on L1, L2 and Elastic Net Regularization\n",
    "## tutorial url:\n",
    "## https://www.geeksforgeeks.org/implementation-of-lasso-ridge-and-elastic-net/"
   ]
  },
  {
   "cell_type": "code",
   "execution_count": 36,
   "metadata": {},
   "outputs": [],
   "source": [
    "import pandas as pd\n",
    "import numpy as np\n",
    "import matplotlib.pyplot as plt\n",
    "from sklearn import datasets\n",
    "from sklearn.model_selection import train_test_split\n",
    "from sklearn.linear_model import LinearRegression, Ridge, Lasso, ElasticNet"
   ]
  },
  {
   "cell_type": "code",
   "execution_count": 37,
   "metadata": {},
   "outputs": [
    {
     "data": {
      "text/html": [
       "<div>\n",
       "<style scoped>\n",
       "    .dataframe tbody tr th:only-of-type {\n",
       "        vertical-align: middle;\n",
       "    }\n",
       "\n",
       "    .dataframe tbody tr th {\n",
       "        vertical-align: top;\n",
       "    }\n",
       "\n",
       "    .dataframe thead th {\n",
       "        text-align: right;\n",
       "    }\n",
       "</style>\n",
       "<table border=\"1\" class=\"dataframe\">\n",
       "  <thead>\n",
       "    <tr style=\"text-align: right;\">\n",
       "      <th></th>\n",
       "      <th>crim</th>\n",
       "      <th>zn</th>\n",
       "      <th>indus</th>\n",
       "      <th>chas</th>\n",
       "      <th>nox</th>\n",
       "      <th>rm</th>\n",
       "      <th>age</th>\n",
       "      <th>dis</th>\n",
       "      <th>rad</th>\n",
       "      <th>tax</th>\n",
       "      <th>ptratio</th>\n",
       "      <th>b</th>\n",
       "      <th>lstat</th>\n",
       "      <th>medv</th>\n",
       "    </tr>\n",
       "  </thead>\n",
       "  <tbody>\n",
       "    <tr>\n",
       "      <th>0</th>\n",
       "      <td>0.00632</td>\n",
       "      <td>18.0</td>\n",
       "      <td>2.31</td>\n",
       "      <td>0</td>\n",
       "      <td>0.538</td>\n",
       "      <td>6.575</td>\n",
       "      <td>65.2</td>\n",
       "      <td>4.0900</td>\n",
       "      <td>1</td>\n",
       "      <td>296</td>\n",
       "      <td>15.3</td>\n",
       "      <td>396.9</td>\n",
       "      <td>4.98</td>\n",
       "      <td>24.0</td>\n",
       "    </tr>\n",
       "    <tr>\n",
       "      <th>1</th>\n",
       "      <td>0.02731</td>\n",
       "      <td>0.0</td>\n",
       "      <td>7.07</td>\n",
       "      <td>0</td>\n",
       "      <td>0.469</td>\n",
       "      <td>6.421</td>\n",
       "      <td>78.9</td>\n",
       "      <td>4.9671</td>\n",
       "      <td>2</td>\n",
       "      <td>242</td>\n",
       "      <td>17.8</td>\n",
       "      <td>396.9</td>\n",
       "      <td>9.14</td>\n",
       "      <td>21.6</td>\n",
       "    </tr>\n",
       "  </tbody>\n",
       "</table>\n",
       "</div>"
      ],
      "text/plain": [
       "      crim    zn  indus  chas    nox     rm   age     dis  rad  tax  ptratio  \\\n",
       "0  0.00632  18.0   2.31     0  0.538  6.575  65.2  4.0900    1  296     15.3   \n",
       "1  0.02731   0.0   7.07     0  0.469  6.421  78.9  4.9671    2  242     17.8   \n",
       "\n",
       "       b  lstat  medv  \n",
       "0  396.9   4.98  24.0  \n",
       "1  396.9   9.14  21.6  "
      ]
     },
     "execution_count": 37,
     "metadata": {},
     "output_type": "execute_result"
    }
   ],
   "source": [
    "df = pd.read_csv('../Datasets/BostonHousing.csv')\n",
    "df.head(2)"
   ]
  },
  {
   "cell_type": "markdown",
   "metadata": {},
   "source": [
    "Attribute Information (in order):\n",
    "- CRIM     per capita crime rate by town\n",
    "- ZN       proportion of residential land zoned for lots over 25,000 sq.ft.\n",
    "- INDUS    proportion of non-retail business acres per town\n",
    "- CHAS     Charles River dummy variable (= 1 if tract bounds river; 0 otherwise)\n",
    "- NOX      nitric oxides concentration (parts per 10 million)\n",
    "- RM       average number of rooms per dwelling\n",
    "- AGE      proportion of owner-occupied units built prior to 1940\n",
    "- DIS      weighted distances to five Boston employment centres\n",
    "- RAD      index of accessibility to radial highways\n",
    "- TAX      full-value property-tax rate per usd 10000\n",
    "- PTRATIO  pupil-teacher ratio by town\n",
    "- B        1000(Bk - 0.63)^2 where Bk = proportion of black people by town\n",
    "- LSTAT    percent lower status of the population\n",
    "- MEDV     Median value of owner-occupied homes in usd 1000"
   ]
  },
  {
   "cell_type": "code",
   "execution_count": 38,
   "metadata": {},
   "outputs": [
    {
     "name": "stdout",
     "output_type": "stream",
     "text": [
      "(379, 13) (127, 13) (379,) (127,)\n"
     ]
    }
   ],
   "source": [
    "# ind variables\n",
    "X = df.iloc[:, :-1]\n",
    " \n",
    "# target variable\n",
    "Y = df.iloc[:, -1]\n",
    "\n",
    "x_train, x_test, y_train, y_test = train_test_split(X, Y, test_size = 0.25, random_state=3)\n",
    "print(x_train.shape, x_test.shape, y_train.shape, y_test.shape)"
   ]
  },
  {
   "cell_type": "markdown",
   "metadata": {},
   "source": [
    "#### Baseline Regression"
   ]
  },
  {
   "cell_type": "code",
   "execution_count": 39,
   "metadata": {},
   "outputs": [
    {
     "name": "stdout",
     "output_type": "stream",
     "text": [
      "Mean squared Error on test set :  18.896255908706987\n",
      "    Columns  Coefficient Estimate\n",
      "0      crim             -0.125926\n",
      "1        zn              0.050996\n",
      "2     indus             -0.032944\n",
      "3      chas              3.328124\n",
      "4       nox            -15.816582\n",
      "5        rm              3.352133\n",
      "6       age              0.006062\n",
      "7       dis             -1.305330\n",
      "8       rad              0.323109\n",
      "9       tax             -0.010567\n",
      "10  ptratio             -0.951037\n",
      "11        b              0.010689\n",
      "12    lstat             -0.520742\n"
     ]
    }
   ],
   "source": [
    "\n",
    "# Apply multiple Linear Regression Model\n",
    "lreg = LinearRegression()\n",
    "lreg.fit(x_train, y_train)\n",
    " \n",
    "# Generate Prediction on test set\n",
    "lreg_y_pred = lreg.predict(x_test)\n",
    " \n",
    "# calculating Mean Squared Error (mse)\n",
    "mean_squared_error = np.mean((lreg_y_pred - y_test)**2)\n",
    "print(\"Mean squared Error on test set : \", mean_squared_error)\n",
    " \n",
    "# Putting together the coefficient and their corresponding variable names\n",
    "lreg_coefficient = pd.DataFrame()\n",
    "lreg_coefficient[\"Columns\"] = x_train.columns\n",
    "lreg_coefficient['Coefficient Estimate'] = pd.Series(lreg.coef_)\n",
    "print(lreg_coefficient)"
   ]
  },
  {
   "cell_type": "code",
   "execution_count": 40,
   "metadata": {},
   "outputs": [
    {
     "data": {
      "image/png": "[encoded data removed]",
      "text/plain": [
       "<Figure size 1440x720 with 1 Axes>"
      ]
     },
     "metadata": {},
     "output_type": "display_data"
    }
   ],
   "source": [
    "# plotting the coefficient score\n",
    "fig, ax = plt.subplots(figsize =(20, 10))\n",
    " \n",
    "color =['tab:gray', 'tab:blue', 'tab:orange',\n",
    "'tab:green', 'tab:red', 'tab:purple', 'tab:brown',\n",
    "'tab:pink', 'tab:gray', 'tab:olive', 'tab:cyan',\n",
    "'tab:orange', 'tab:green', 'tab:blue', 'tab:olive']\n",
    " \n",
    "ax.bar(lreg_coefficient[\"Columns\"],\n",
    "lreg_coefficient['Coefficient Estimate'],\n",
    "color = color)\n",
    " \n",
    "ax.spines['bottom'].set_position('zero')\n",
    " \n",
    "plt.style.use('ggplot')\n",
    "plt.show()"
   ]
  },
  {
   "cell_type": "markdown",
   "metadata": {},
   "source": [
    "#### Ridge Regularization (L2)\n",
    "\n",
    "Ridge Regression added a term in ordinary least square error function that regularizes the value of coefficients of variables. This term is the sum of squares of coefficient multiplied by the parameter The motive of adding this term is to penalize the variable corresponding to that coefficient not very much correlated to the target variable. This term is called L2 regularization. "
   ]
  },
  {
   "cell_type": "code",
   "execution_count": 41,
   "metadata": {},
   "outputs": [
    {
     "name": "stdout",
     "output_type": "stream",
     "text": [
      "19.6589559404843\n",
      "    Columns  Coefficient Estimate\n",
      "0      crim             -0.122582\n",
      "1        zn              0.051665\n",
      "2     indus             -0.073945\n",
      "3      chas              3.018834\n",
      "4       nox             -5.766917\n",
      "5        rm              3.419373\n",
      "6       age             -0.003093\n",
      "7       dis             -1.154761\n",
      "8       rad              0.295322\n",
      "9       tax             -0.010962\n",
      "10  ptratio             -0.833166\n",
      "11        b              0.011133\n",
      "12    lstat             -0.539152\n"
     ]
    }
   ],
   "source": [
    "# Train the model\n",
    "ridgeR = Ridge(alpha = 2)\n",
    "ridgeR.fit(x_train, y_train)\n",
    "y_pred = ridgeR.predict(x_test)\n",
    " \n",
    "# calculate mean square error\n",
    "mean_squared_error_ridge = np.mean((y_pred - y_test)**2)\n",
    "print(mean_squared_error_ridge)\n",
    " \n",
    "# get ridge coefficient and print them\n",
    "ridge_coefficient = pd.DataFrame()\n",
    "ridge_coefficient[\"Columns\"]= x_train.columns\n",
    "ridge_coefficient['Coefficient Estimate'] = pd.Series(ridgeR.coef_)\n",
    "print(ridge_coefficient)"
   ]
  },
  {
   "cell_type": "code",
   "execution_count": 42,
   "metadata": {},
   "outputs": [
    {
     "data": {
      "image/png": "[encoded data removed]",
      "text/plain": [
       "<Figure size 1440x720 with 1 Axes>"
      ]
     },
     "metadata": {},
     "output_type": "display_data"
    }
   ],
   "source": [
    "# plotting the coefficient score\n",
    "fig, ax = plt.subplots(figsize =(20, 10))\n",
    " \n",
    "color =['tab:gray', 'tab:blue', 'tab:orange',\n",
    "'tab:green', 'tab:red', 'tab:purple', 'tab:brown',\n",
    "'tab:pink', 'tab:gray', 'tab:olive', 'tab:cyan',\n",
    "'tab:orange', 'tab:green', 'tab:blue', 'tab:olive']\n",
    " \n",
    "ax.bar(ridge_coefficient[\"Columns\"],\n",
    "ridge_coefficient['Coefficient Estimate'],\n",
    "color = color)\n",
    " \n",
    "ax.spines['bottom'].set_position('zero')\n",
    " \n",
    "plt.style.use('ggplot')\n",
    "plt.show()"
   ]
  },
  {
   "cell_type": "markdown",
   "metadata": {},
   "source": [
    "#### Lasso Regularization (L1)\n",
    "\n",
    "Lasso Regression is similar to Ridge regression except here we add Mean Absolute value of coefficients in place of mean square value. Unlike Ridge Regression, Lasso regression can completely eliminate the variable by reducing its coefficient value to 0. The new term we added to Ordinary Least Square(OLS) is called L1 Regularization."
   ]
  },
  {
   "cell_type": "code",
   "execution_count": 43,
   "metadata": {},
   "outputs": [
    {
     "name": "stdout",
     "output_type": "stream",
     "text": [
      "Mean squared error on test set 31.815143264853276\n",
      "    Columns  Coefficient Estimate\n",
      "0      crim             -0.037402\n",
      "1        zn              0.044851\n",
      "2     indus             -0.000000\n",
      "3      chas              0.000000\n",
      "4       nox             -0.000000\n",
      "5        rm              0.000000\n",
      "6       age              0.047447\n",
      "7       dis             -0.000000\n",
      "8       rad              0.182709\n",
      "9       tax             -0.010000\n",
      "10  ptratio             -0.536488\n",
      "11        b              0.007526\n",
      "12    lstat             -0.824705\n"
     ]
    }
   ],
   "source": [
    "# Train the model\n",
    "lasso = Lasso(alpha = 2)\n",
    "lasso.fit(x_train, y_train)\n",
    "y_pred1 = lasso.predict(x_test)\n",
    " \n",
    "# Calculate Mean Squared Error\n",
    "mean_squared_error = np.mean((y_pred1 - y_test)**2)\n",
    "print(\"Mean squared error on test set\", mean_squared_error)\n",
    "lasso_coeff = pd.DataFrame()\n",
    "lasso_coeff[\"Columns\"] = x_train.columns\n",
    "lasso_coeff['Coefficient Estimate'] = pd.Series(lasso.coef_)\n",
    " \n",
    "print(lasso_coeff)"
   ]
  },
  {
   "cell_type": "code",
   "execution_count": 44,
   "metadata": {},
   "outputs": [
    {
     "data": {
      "image/png": "[encoded data removed]",
      "text/plain": [
       "<Figure size 1440x720 with 1 Axes>"
      ]
     },
     "metadata": {},
     "output_type": "display_data"
    }
   ],
   "source": [
    "# plotting the coefficient score\n",
    "fig, ax = plt.subplots(figsize =(20, 10))\n",
    " \n",
    "color =['tab:gray', 'tab:blue', 'tab:orange',\n",
    "'tab:green', 'tab:red', 'tab:purple', 'tab:brown',\n",
    "'tab:pink', 'tab:gray', 'tab:olive', 'tab:cyan',\n",
    "'tab:orange', 'tab:green', 'tab:blue', 'tab:olive']\n",
    " \n",
    "ax.bar(lasso_coeff[\"Columns\"],\n",
    "lasso_coeff['Coefficient Estimate'],\n",
    "color = color)\n",
    " \n",
    "ax.spines['bottom'].set_position('zero')\n",
    " \n",
    "plt.style.use('ggplot')\n",
    "plt.show()"
   ]
  },
  {
   "cell_type": "markdown",
   "metadata": {},
   "source": [
    "#### Elastic Net (L1 + L2)\n",
    "\n",
    "In elastic Net Regularization we added the both terms of L1 and L2 to get the final loss function."
   ]
  },
  {
   "cell_type": "code",
   "execution_count": 47,
   "metadata": {},
   "outputs": [
    {
     "name": "stdout",
     "output_type": "stream",
     "text": [
      "Mean Squared Error on test set 29.213512719648993\n"
     ]
    },
    {
     "data": {
      "text/html": [
       "<div>\n",
       "<style scoped>\n",
       "    .dataframe tbody tr th:only-of-type {\n",
       "        vertical-align: middle;\n",
       "    }\n",
       "\n",
       "    .dataframe tbody tr th {\n",
       "        vertical-align: top;\n",
       "    }\n",
       "\n",
       "    .dataframe thead th {\n",
       "        text-align: right;\n",
       "    }\n",
       "</style>\n",
       "<table border=\"1\" class=\"dataframe\">\n",
       "  <thead>\n",
       "    <tr style=\"text-align: right;\">\n",
       "      <th></th>\n",
       "      <th>Columns</th>\n",
       "      <th>Coefficient Estimate</th>\n",
       "    </tr>\n",
       "  </thead>\n",
       "  <tbody>\n",
       "    <tr>\n",
       "      <th>0</th>\n",
       "      <td>crim</td>\n",
       "      <td>-0.072364</td>\n",
       "    </tr>\n",
       "    <tr>\n",
       "      <th>1</th>\n",
       "      <td>zn</td>\n",
       "      <td>0.058334</td>\n",
       "    </tr>\n",
       "    <tr>\n",
       "      <th>2</th>\n",
       "      <td>indus</td>\n",
       "      <td>-0.017082</td>\n",
       "    </tr>\n",
       "    <tr>\n",
       "      <th>3</th>\n",
       "      <td>chas</td>\n",
       "      <td>0.000000</td>\n",
       "    </tr>\n",
       "    <tr>\n",
       "      <th>4</th>\n",
       "      <td>nox</td>\n",
       "      <td>-0.000000</td>\n",
       "    </tr>\n",
       "    <tr>\n",
       "      <th>5</th>\n",
       "      <td>rm</td>\n",
       "      <td>0.174037</td>\n",
       "    </tr>\n",
       "    <tr>\n",
       "      <th>6</th>\n",
       "      <td>age</td>\n",
       "      <td>0.036622</td>\n",
       "    </tr>\n",
       "    <tr>\n",
       "      <th>7</th>\n",
       "      <td>dis</td>\n",
       "      <td>-0.376450</td>\n",
       "    </tr>\n",
       "    <tr>\n",
       "      <th>8</th>\n",
       "      <td>rad</td>\n",
       "      <td>0.259265</td>\n",
       "    </tr>\n",
       "    <tr>\n",
       "      <th>9</th>\n",
       "      <td>tax</td>\n",
       "      <td>-0.013084</td>\n",
       "    </tr>\n",
       "    <tr>\n",
       "      <th>10</th>\n",
       "      <td>ptratio</td>\n",
       "      <td>-0.592261</td>\n",
       "    </tr>\n",
       "    <tr>\n",
       "      <th>11</th>\n",
       "      <td>b</td>\n",
       "      <td>0.008310</td>\n",
       "    </tr>\n",
       "    <tr>\n",
       "      <th>12</th>\n",
       "      <td>lstat</td>\n",
       "      <td>-0.794113</td>\n",
       "    </tr>\n",
       "  </tbody>\n",
       "</table>\n",
       "</div>"
      ],
      "text/plain": [
       "    Columns  Coefficient Estimate\n",
       "0      crim             -0.072364\n",
       "1        zn              0.058334\n",
       "2     indus             -0.017082\n",
       "3      chas              0.000000\n",
       "4       nox             -0.000000\n",
       "5        rm              0.174037\n",
       "6       age              0.036622\n",
       "7       dis             -0.376450\n",
       "8       rad              0.259265\n",
       "9       tax             -0.013084\n",
       "10  ptratio             -0.592261\n",
       "11        b              0.008310\n",
       "12    lstat             -0.794113"
      ]
     },
     "execution_count": 47,
     "metadata": {},
     "output_type": "execute_result"
    }
   ],
   "source": [
    "# Train the model\n",
    "e_net = ElasticNet(alpha = 2)\n",
    "e_net.fit(x_train, y_train)\n",
    " \n",
    "# calculate the prediction and mean square error\n",
    "y_pred_elastic = e_net.predict(x_test)\n",
    "mean_squared_error = np.mean((y_pred_elastic - y_test)**2)\n",
    "print(\"Mean Squared Error on test set\", mean_squared_error)\n",
    " \n",
    "e_net_coeff = pd.DataFrame()\n",
    "e_net_coeff[\"Columns\"] = x_train.columns\n",
    "e_net_coeff['Coefficient Estimate'] = pd.Series(e_net.coef_)\n",
    "e_net_coeff"
   ]
  },
  {
   "cell_type": "code",
   "execution_count": 48,
   "metadata": {},
   "outputs": [
    {
     "data": {
      "image/png": "[encoded data removed]",
      "text/plain": [
       "<Figure size 1440x720 with 1 Axes>"
      ]
     },
     "metadata": {},
     "output_type": "display_data"
    }
   ],
   "source": [
    "# plotting the coefficient score\n",
    "fig, ax = plt.subplots(figsize =(20, 10))\n",
    " \n",
    "color =['tab:gray', 'tab:blue', 'tab:orange',\n",
    "'tab:green', 'tab:red', 'tab:purple', 'tab:brown',\n",
    "'tab:pink', 'tab:gray', 'tab:olive', 'tab:cyan',\n",
    "'tab:orange', 'tab:green', 'tab:blue', 'tab:olive']\n",
    " \n",
    "ax.bar(e_net_coeff[\"Columns\"],\n",
    "e_net_coeff['Coefficient Estimate'],\n",
    "color = color)\n",
    " \n",
    "ax.spines['bottom'].set_position('zero')\n",
    " \n",
    "plt.style.use('ggplot')\n",
    "plt.show()"
   ]
  },
  {
   "cell_type": "markdown",
   "metadata": {},
   "source": [
    "#### Conclusion\n",
    "\n",
    "Regularization is used to reduce the dependence on any particular independent variable by adding the penalty term to the Loss function. This term prevents the coefficients of the independent variables to take extreme values. \n",
    " \n",
    "Ridge Regression adds L2 regularization penalty term to loss function. This term reduces the coefficients but does not make them 0 and thus doesn’t eliminate any independent variable completely. It can be used to measure the impact of the different independent variables. \n",
    " \n",
    "Lasso Regression adds L1 regularization penalty term to loss function. This term reduces the coefficients as well as makes them 0 thus effectively eliminate the corresponding independent variable completely. It can be used for feature selection etc. \n",
    " \n",
    "Elastic Net is a combination of both of the above regularization. It contains both the L1 and L2 as its penalty term. It performs better than Ridge and Lasso Regression for most of the test cases. "
   ]
  },
  {
   "cell_type": "code",
   "execution_count": null,
   "metadata": {},
   "outputs": [],
   "source": []
  }
 ],
 "metadata": {
  "kernelspec": {
   "display_name": "Python 3",
   "language": "python",
   "name": "python3"
  },
  "language_info": {
   "codemirror_mode": {
    "name": "ipython",
    "version": 3
   },
   "file_extension": ".py",
   "mimetype": "text/x-python",
   "name": "python",
   "nbconvert_exporter": "python",
   "pygments_lexer": "ipython3",
   "version": "3.7.3"
  }
 },
 "nbformat": 4,
 "nbformat_minor": 2
}
