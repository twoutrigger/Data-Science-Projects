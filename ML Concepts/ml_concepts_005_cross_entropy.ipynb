{
 "cells": [
  {
   "cell_type": "code",
   "execution_count": 1,
   "metadata": {},
   "outputs": [],
   "source": [
    "## tutorial to better understand how cross entropy is used as a loss function in ML\n",
    "## tutorial url:\n",
    "## https://machinelearningmastery.com/cross-entropy-for-machine-learning/"
   ]
  },
  {
   "cell_type": "markdown",
   "metadata": {},
   "source": [
    "#### Cross Entropy\n",
    "\n",
    "Cross-entropy is commonly used in machine learning as a loss function.\n",
    "\n",
    "Cross-entropy is a measure from the field of information theory, building upon entropy and generally calculating the difference between two probability distributions. It is closely related to but is different from KL divergence that calculates the relative entropy between two probability distributions, whereas cross-entropy can be thought to calculate the total entropy between the distributions.\n",
    "\n",
    "Cross-entropy is also related to and often confused with logistic loss, called log loss. Although the two measures are derived from a different source, when used as loss functions for classification models, both measures calculate the same quantity and can be used interchangeably."
   ]
  },
  {
   "cell_type": "markdown",
   "metadata": {},
   "source": [
    "#### What is Cross Entropy?\n",
    "\n",
    "Cross-entropy is a measure of the difference between two probability distributions for a given random variable or set of events.\n",
    "\n",
    "Cross-entropy builds upon the idea of entropy from information theory and calculates the number of bits required to represent or transmit an average event from one distribution compared to another distribution.\n",
    "\n",
    "\"the cross entropy is the average number of bits needed to encode data coming from a source with distribution p when we use model q\"\n",
    "\n",
    "The intuition for this definition comes if we consider a target or underlying probability distribution P and an approximation of the target distribution Q, then the cross-entropy of Q from P is the number of additional bits to represent an event using Q instead of P.\n",
    "\n",
    "Cross entropy formula: H(P, Q) = – sum x in X P(x) * log(Q(x))"
   ]
  },
  {
   "cell_type": "markdown",
   "metadata": {},
   "source": [
    "#### Cross Entropy vs KL Divergence\n",
    "\n",
    "Specifically, the KL divergence measures a very similar quantity to cross-entropy. It measures the average number of extra bits required to represent a message with Q instead of P, not the total number of bits.\n",
    "\n",
    "Cross-Entropy: Average number of total bits to represent an event from Q instead of P.\n",
    "\n",
    "Relative Entropy (KL Divergence): Average number of extra bits to represent an event from Q instead of P."
   ]
  },
  {
   "cell_type": "markdown",
   "metadata": {},
   "source": [
    "## Calculating Cross Entropy"
   ]
  },
  {
   "cell_type": "code",
   "execution_count": 1,
   "metadata": {},
   "outputs": [],
   "source": [
    "## Two Discrete Probability Distributions\n",
    "\n",
    "# define distributions\n",
    "events = ['red', 'green', 'blue']\n",
    "p = [0.10, 0.40, 0.50]\n",
    "q = [0.80, 0.15, 0.05]"
   ]
  },
  {
   "cell_type": "code",
   "execution_count": 3,
   "metadata": {},
   "outputs": [
    {
     "name": "stdout",
     "output_type": "stream",
     "text": [
      "P=1.000 Q=1.000\n"
     ]
    },
    {
     "data": {
      "image/png": "[encoded data removed]",
      "text/plain": [
       "<Figure size 432x288 with 2 Axes>"
      ]
     },
     "metadata": {
      "needs_background": "light"
     },
     "output_type": "display_data"
    }
   ],
   "source": [
    "# plot of distributions\n",
    "from matplotlib import pyplot\n",
    "# define distributions\n",
    "events = ['red', 'green', 'blue']\n",
    "p = [0.10, 0.40, 0.50]\n",
    "q = [0.80, 0.15, 0.05]\n",
    "print('P=%.3f Q=%.3f' % (sum(p), sum(q)))\n",
    "# plot first distribution\n",
    "pyplot.subplot(2,1,1)\n",
    "pyplot.bar(events, p)\n",
    "# plot second distribution\n",
    "pyplot.subplot(2,1,2)\n",
    "pyplot.bar(events, q)\n",
    "# show the plot\n",
    "pyplot.show()"
   ]
  },
  {
   "cell_type": "markdown",
   "metadata": {},
   "source": [
    "#### Calculate Cross-Entropy Between Distributions"
   ]
  },
  {
   "cell_type": "code",
   "execution_count": 4,
   "metadata": {},
   "outputs": [
    {
     "name": "stdout",
     "output_type": "stream",
     "text": [
      "H(P, Q): 3.288 bits\n",
      "H(Q, P): 2.906 bits\n"
     ]
    }
   ],
   "source": [
    "from math import log2\n",
    "# calculate cross entropy\n",
    "def cross_entropy(p, q):\n",
    "    return -sum([p[i]*log2(q[i]) for i in range(len(p))])\n",
    "\n",
    "# calculate cross entropy H(P, Q)\n",
    "ce_pq = cross_entropy(p, q)\n",
    "print('H(P, Q): %.3f bits' % ce_pq)\n",
    "# calculate cross entropy H(Q, P)\n",
    "ce_qp = cross_entropy(q, p)\n",
    "print('H(Q, P): %.3f bits' % ce_qp)"
   ]
  },
  {
   "cell_type": "markdown",
   "metadata": {},
   "source": [
    "#### Calculate Cross-Entropy Between a Distribution and Itself\n",
    "\n",
    "If two probability distributions are the same, then the cross-entropy between them will be the entropy of the distribution."
   ]
  },
  {
   "cell_type": "code",
   "execution_count": 5,
   "metadata": {},
   "outputs": [
    {
     "name": "stdout",
     "output_type": "stream",
     "text": [
      "H(P, P): 1.361 bits\n",
      "H(Q, Q): 0.884 bits\n"
     ]
    }
   ],
   "source": [
    "# calculate cross entropy H(P, P)\n",
    "ce_pp = cross_entropy(p, p)\n",
    "print('H(P, P): %.3f bits' % ce_pp)\n",
    "# calculate cross entropy H(Q, Q)\n",
    "ce_qq = cross_entropy(q, q)\n",
    "print('H(Q, Q): %.3f bits' % ce_qq)"
   ]
  },
  {
   "cell_type": "code",
   "execution_count": 9,
   "metadata": {},
   "outputs": [
    {
     "name": "stdout",
     "output_type": "stream",
     "text": [
      "H(P, P) entropy: 1.361 bits\n",
      "H(Q, Q) entropy: 0.884 bits\n"
     ]
    }
   ],
   "source": [
    "## confirm the above statement\n",
    "from scipy.stats import entropy\n",
    "\n",
    "# calculate entropy\n",
    "e = entropy(p, base=2)\n",
    "# print the result\n",
    "print('H(P, P) entropy: %.3f bits' % e)\n",
    "# calculate entropy\n",
    "e = entropy(q, base=2)\n",
    "# print the result\n",
    "print('H(Q, Q) entropy: %.3f bits' % e)"
   ]
  },
  {
   "cell_type": "markdown",
   "metadata": {},
   "source": [
    "#### Calculate Cross-Entropy Using KL Divergence\n",
    "\n",
    "The cross-entropy calculated with KL divergence should be identical, and it may be interesting to calculate the KL divergence between the distributions as well to see the relative entropy or additional bits required instead of the total bits calculated by the cross-entropy."
   ]
  },
  {
   "cell_type": "code",
   "execution_count": 10,
   "metadata": {},
   "outputs": [
    {
     "name": "stdout",
     "output_type": "stream",
     "text": [
      "H(P): 1.361 bits\n",
      "KL(P || Q): 1.927 bits\n",
      "H(P, Q): 3.288 bits\n"
     ]
    }
   ],
   "source": [
    "# calculate the kl divergence KL(P || Q)\n",
    "def kl_divergence(p, q):\n",
    "    return sum(p[i] * log2(p[i]/q[i]) for i in range(len(p)))\n",
    " \n",
    "# calculate entropy H(P)\n",
    "def entropy(p):\n",
    "    return -sum([p[i] * log2(p[i]) for i in range(len(p))])\n",
    " \n",
    "# calculate cross entropy H(P, Q)\n",
    "def cross_entropy(p, q):\n",
    "    return entropy(p) + kl_divergence(p, q)\n",
    " \n",
    "# calculate H(P)\n",
    "en_p = entropy(p)\n",
    "print('H(P): %.3f bits' % en_p)\n",
    "# calculate kl divergence KL(P || Q)\n",
    "kl_pq = kl_divergence(p, q)\n",
    "print('KL(P || Q): %.3f bits' % kl_pq)\n",
    "# calculate cross entropy H(P, Q)\n",
    "ce_pq = cross_entropy(p, q)\n",
    "print('H(P, Q): %.3f bits' % ce_pq)"
   ]
  },
  {
   "cell_type": "markdown",
   "metadata": {},
   "source": [
    "#### Cross-Entropy as a Loss Function\n",
    "\n",
    "Cross-entropy is widely used as a loss function when optimizing classification models.\n",
    "\n",
    "Two examples that you may encounter include the logistic regression algorithm (a linear classification algorithm), and artificial neural networks that can be used for classification tasks.\n",
    "\n",
    "\"using the cross-entropy error function instead of the sum-of-squares for a classification problem leads to faster training as well as improved generalization.\"\n",
    "\n",
    "We can see that the idea of cross-entropy may be useful for optimizing a classification model.\n",
    "\n",
    "Each example has a known class label with a probability of 1.0, and a probability of 0.0 for all other labels. A model can estimate the probability of an example belonging to each class label. Cross-entropy can then be used to calculate the difference between the two probability distributions."
   ]
  },
  {
   "cell_type": "markdown",
   "metadata": {},
   "source": [
    "Our model seeks to approximate the target probability distribution Q.\n",
    "\n",
    "In the language of classification, these are the actual and the predicted probabilities, or y and yhat.\n",
    "\n",
    "Expected Probability (y): The known probability of each class label for an example in the dataset (P).\n",
    "Predicted Probability (yhat): The probability of each class label an example predicted by the model (Q).\n",
    "We can, therefore, estimate the cross-entropy for a single prediction using the cross-entropy calculation described above; for example.\n",
    "\n",
    "H(P, Q) = – sum x in X P(x) * log(Q(x))\n",
    "\n",
    "Where each x in X is a class label that could be assigned to the example, and P(x) will be 1 for the known label and 0 for all other labels.\n",
    "\n",
    "The cross-entropy for a single example in a binary classification task can be stated by unrolling the sum operation as follows:\n",
    "\n",
    "H(P, Q) = – (P(class0) * log(Q(class0)) + P(class1) * log(Q(class1)))"
   ]
  },
  {
   "cell_type": "markdown",
   "metadata": {},
   "source": [
    "Pretend with have a classification problem with 3 classes, and we have one example that belongs to each class. We can represent each example as a discrete probability distribution with a 1.0 probability for the class to which the example belongs and a 0.0 probability for all other classes.\n",
    "\n",
    "We can calculate the entropy of the probability distribution for each “variable” across the “events“."
   ]
  },
  {
   "cell_type": "code",
   "execution_count": 11,
   "metadata": {},
   "outputs": [
    {
     "name": "stdout",
     "output_type": "stream",
     "text": [
      "9.805612959471341e-14\n",
      "9.805612959471341e-14\n",
      "9.805612959471341e-14\n"
     ]
    }
   ],
   "source": [
    "from numpy import asarray\n",
    " \n",
    "# calculate entropy\n",
    "def entropy(p):\n",
    "\treturn -sum([p[i] * log2(p[i]) for i in range(len(p))])\n",
    " \n",
    "# class 1\n",
    "p = asarray([1,0,0]) + 1e-15\n",
    "print(entropy(p))\n",
    "# class 2\n",
    "p = asarray([0,1,0]) + 1e-15\n",
    "print(entropy(p))\n",
    "# class 3\n",
    "p = asarray([0,0,1]) + 1e-15\n",
    "print(entropy(p))"
   ]
  },
  {
   "cell_type": "markdown",
   "metadata": {},
   "source": [
    "We can see that in each case, the entropy is 0.0 (actually a number very close to zero).\n",
    "\n",
    "Note that we had to add a very small value to the 0.0 values to avoid the log() from blowing up, as we cannot calculate the log of 0.0."
   ]
  },
  {
   "cell_type": "markdown",
   "metadata": {},
   "source": [
    "This means that the cross entropy of two distributions (real and predicted) that have the same probability distribution for a class label, will also always be 0.0.\n",
    "\n",
    "Recall that when evaluating a model using cross-entropy on a training dataset that we average the cross-entropy across all examples in the dataset.\n",
    "\n",
    "Therefore, a cross-entropy of 0.0 when training a model indicates that the predicted class probabilities are identical to the probabilities in the training dataset, e.g. zero loss.\n",
    "\n",
    "We could just as easily minimize the KL divergence as a loss function instead of the cross-entropy.\n",
    "\n",
    "Recall that the KL divergence is the extra bits required to transmit one variable compared to another. It is the cross-entropy without the entropy of the class label, which we know would be zero anyway.\n",
    "\n",
    "As such, minimizing the KL divergence and the cross entropy for a classification task are identical.\n",
    "\n",
    "\"Minimizing this KL divergence corresponds exactly to minimizing the cross-entropy between the distributions.\""
   ]
  },
  {
   "cell_type": "markdown",
   "metadata": {},
   "source": [
    "#### Calculate Cross-Entropy Between Class Labels and Probabilities"
   ]
  },
  {
   "cell_type": "markdown",
   "metadata": {},
   "source": [
    "Consider a two-class classification task with the following 10 actual class labels (P) and predicted class labels (Q)."
   ]
  },
  {
   "cell_type": "code",
   "execution_count": 12,
   "metadata": {},
   "outputs": [],
   "source": [
    "# define classification data\n",
    "p = [1, 1, 1, 1, 1, 0, 0, 0, 0, 0]\n",
    "q = [0.8, 0.9, 0.9, 0.6, 0.8, 0.1, 0.4, 0.2, 0.1, 0.3]"
   ]
  },
  {
   "cell_type": "markdown",
   "metadata": {},
   "source": [
    "We can enumerate these probabilities and calculate the cross-entropy for each using the cross-entropy function developed in the previous section using log() (natural logarithm) instead of log2()."
   ]
  },
  {
   "cell_type": "code",
   "execution_count": 13,
   "metadata": {},
   "outputs": [],
   "source": [
    "# calculate cross entropy\n",
    "def cross_entropy(p, q):\n",
    "\treturn -sum([p[i]*log(q[i]) for i in range(len(p))])"
   ]
  },
  {
   "cell_type": "markdown",
   "metadata": {},
   "source": [
    "For each actual and predicted probability, we must convert the prediction into a distribution of probabilities across each event, in this case, the classes {0, 1} as 1 minus the probability for class 0 and probability for class 1.\n",
    "\n",
    "We can then calculate the cross-entropy and repeat the process for all examples.\n",
    "\n",
    "Finally, we can calculate the average cross-entropy across the dataset and report it as the cross-entropy loss for the model on the dataset."
   ]
  },
  {
   "cell_type": "code",
   "execution_count": 15,
   "metadata": {},
   "outputs": [
    {
     "name": "stdout",
     "output_type": "stream",
     "text": [
      ">[y=1.0, yhat=0.8] ce: 0.223 nats\n",
      ">[y=1.0, yhat=0.9] ce: 0.105 nats\n",
      ">[y=1.0, yhat=0.9] ce: 0.105 nats\n",
      ">[y=1.0, yhat=0.6] ce: 0.511 nats\n",
      ">[y=1.0, yhat=0.8] ce: 0.223 nats\n",
      ">[y=0.0, yhat=0.1] ce: 0.105 nats\n",
      ">[y=0.0, yhat=0.4] ce: 0.511 nats\n",
      ">[y=0.0, yhat=0.2] ce: 0.223 nats\n",
      ">[y=0.0, yhat=0.1] ce: 0.105 nats\n",
      ">[y=0.0, yhat=0.3] ce: 0.357 nats\n",
      "Average Cross Entropy: 0.247 nats\n"
     ]
    }
   ],
   "source": [
    "from math import log\n",
    "from numpy import mean\n",
    "\n",
    "# calculate cross entropy for each example\n",
    "results = list()\n",
    "for i in range(len(p)):\n",
    "\t# create the distribution for each event {0, 1}\n",
    "\texpected = [1.0 - p[i], p[i]]\n",
    "\tpredicted = [1.0 - q[i], q[i]]\n",
    "\t# calculate cross entropy for the two events\n",
    "\tce = cross_entropy(expected, predicted)\n",
    "\tprint('>[y=%.1f, yhat=%.1f] ce: %.3f nats' % (p[i], q[i], ce))\n",
    "\tresults.append(ce)\n",
    " \n",
    "# calculate the average cross entropy\n",
    "mean_ce = mean(results)\n",
    "print('Average Cross Entropy: %.3f nats' % mean_ce)"
   ]
  },
  {
   "cell_type": "markdown",
   "metadata": {},
   "source": [
    "This is how cross-entropy loss is calculated when optimizing a logistic regression model or a neural network model under a cross-entropy loss function."
   ]
  },
  {
   "cell_type": "markdown",
   "metadata": {},
   "source": [
    "#### Intuition for Cross-Entropy on Predicted Probabilities\n",
    "\n",
    "We can then calculate the cross entropy for different “predicted” probability distributions transitioning from a perfect match of the target distribution to the exact opposite probability distribution.\n",
    "\n",
    "We would expect that as the predicted probability distribution diverges further from the target distribution that the cross-entropy calculated will increase."
   ]
  },
  {
   "cell_type": "code",
   "execution_count": 22,
   "metadata": {},
   "outputs": [
    {
     "data": {
      "image/png": "[encoded data removed]",
      "text/plain": [
       "<Figure size 432x288 with 1 Axes>"
      ]
     },
     "metadata": {
      "needs_background": "light"
     },
     "output_type": "display_data"
    }
   ],
   "source": [
    "from matplotlib import pyplot\n",
    " \n",
    "# calculate cross-entropy\n",
    "def cross_entropy(p, q, ets=1e-15):\n",
    "\treturn -sum([p[i]*log(q[i]+ets) for i in range(len(p))])\n",
    " \n",
    "# define the target distribution for two events\n",
    "target = [0.0, 1.0]\n",
    "# define probabilities for the first event\n",
    "probs = [1.0, 0.9, 0.8, 0.7, 0.6, 0.5, 0.4, 0.3, 0.2, 0.1, 0.0]\n",
    "# create probability distributions for the two events\n",
    "dists = [[1.0 - p, p] for p in probs]\n",
    "# calculate cross-entropy for each distribution\n",
    "ents = [cross_entropy(target, d) for d in dists]\n",
    "# plot probability distribution vs cross-entropy\n",
    "pyplot.plot([1-p for p in probs], ents, marker='.')\n",
    "pyplot.title('Probability Distribution vs Cross-Entropy')\n",
    "pyplot.xticks([1-p for p in probs], ['[%.1f,%.1f]'%(d[0],d[1]) for d in dists], rotation=70)\n",
    "pyplot.subplots_adjust(bottom=0.2)\n",
    "pyplot.xlabel('Probability Distribution')\n",
    "pyplot.ylabel('Cross-Entropy (nats)')\n",
    "pyplot.show()"
   ]
  },
  {
   "cell_type": "markdown",
   "metadata": {},
   "source": [
    "We are not going to have a model that predicts the exact opposite probability distribution for all cases on a binary classification task.\n",
    "\n",
    "As such, we can remove this case and re-calculate the plot."
   ]
  },
  {
   "cell_type": "code",
   "execution_count": 23,
   "metadata": {},
   "outputs": [
    {
     "data": {
      "image/png": "[encoded data removed]",
      "text/plain": [
       "<Figure size 432x288 with 1 Axes>"
      ]
     },
     "metadata": {
      "needs_background": "light"
     },
     "output_type": "display_data"
    }
   ],
   "source": [
    "# define the target distribution for two events\n",
    "target = [0.0, 1.0]\n",
    "# define probabilities for the first event\n",
    "probs = [1.0, 0.9, 0.8, 0.7, 0.6, 0.5, 0.4, 0.3, 0.2, 0.1]\n",
    "# create probability distributions for the two events\n",
    "dists = [[1.0 - p, p] for p in probs]\n",
    "# calculate cross-entropy for each distribution\n",
    "ents = [cross_entropy(target, d) for d in dists]\n",
    "# plot probability distribution vs cross-entropy\n",
    "pyplot.plot([1-p for p in probs], ents, marker='.')\n",
    "pyplot.title('Probability Distribution vs Cross-Entropy')\n",
    "pyplot.xticks([1-p for p in probs], ['[%.1f,%.1f]'%(d[0],d[1]) for d in dists], rotation=70)\n",
    "pyplot.subplots_adjust(bottom=0.2)\n",
    "pyplot.xlabel('Probability Distribution')\n",
    "pyplot.ylabel('Cross-Entropy (nats)')\n",
    "pyplot.show()"
   ]
  },
  {
   "cell_type": "markdown",
   "metadata": {},
   "source": [
    "We can see a super-linear relationship where the more the predicted probability distribution diverges from the target, the larger the increase in cross-entropy."
   ]
  },
  {
   "cell_type": "markdown",
   "metadata": {},
   "source": [
    "#### What is a good cross-entropy score?\n",
    "\n",
    "If you are working in nats (and you usually are) and you are getting mean cross-entropy less than 0.2, you are off to a good start, and less than 0.1 or 0.05 is even better.\n",
    "\n",
    "On the other hand, if you are getting mean cross-entropy greater than 0.2 or 0.3 you can probably improve, and if you are getting a mean cross-entropy greater than 1.0, then something is going on and you’re making poor probability predictions on many examples in your dataset.\n",
    "\n",
    "We can summarise these intuitions for the mean cross-entropy as follows:\n",
    "\n",
    "Cross-Entropy = 0.00: Perfect probabilities.\n",
    "\n",
    "Cross-Entropy < 0.02: Great probabilities.\n",
    "\n",
    "Cross-Entropy < 0.05: On the right track.\n",
    "\n",
    "Cross-Entropy < 0.20: Fine.\n",
    "\n",
    "Cross-Entropy > 0.30: Not great.\n",
    "\n",
    "Cross-Entropy > 1.00: Terrible.\n",
    "\n",
    "Cross-Entropy > 2.00 Something is broken."
   ]
  },
  {
   "cell_type": "markdown",
   "metadata": {},
   "source": [
    "#### Log Loss and Cross Entropy Calculate the Same Thing\n",
    "\n",
    "For classification problems, “log loss“, “cross-entropy” and “negative log-likelihood” are used interchangeably.\n",
    "\n",
    "More generally, the terms “cross-entropy” and “negative log-likelihood” are used interchangeably in the context of loss functions for classification models.\n",
    "\n",
    "Calculating the average log loss on the same set of actual and predicted probabilities from the previous section should give the same result as calculating the average cross-entropy."
   ]
  },
  {
   "cell_type": "code",
   "execution_count": 24,
   "metadata": {},
   "outputs": [
    {
     "name": "stdout",
     "output_type": "stream",
     "text": [
      "Average Log Loss: 0.247\n"
     ]
    }
   ],
   "source": [
    "# calculate log loss for classification problem with scikit-learn\n",
    "from sklearn.metrics import log_loss\n",
    "from numpy import asarray\n",
    "# define classification data\n",
    "p = [1, 1, 1, 1, 1, 0, 0, 0, 0, 0]\n",
    "q = [0.8, 0.9, 0.9, 0.6, 0.8, 0.1, 0.4, 0.2, 0.1, 0.3]\n",
    "# define data as expected, e.g. probability for each event {0, 1}\n",
    "y_true = asarray([[1-v, v] for v in p])\n",
    "y_pred = asarray([[1-v, v] for v in q])\n",
    "# calculate the average log loss\n",
    "ll = log_loss(y_true, y_pred)\n",
    "print('Average Log Loss: %.3f' % ll)"
   ]
  },
  {
   "cell_type": "markdown",
   "metadata": {},
   "source": [
    "This does not mean that log loss calculates cross-entropy or cross-entropy calculates log loss.\n",
    "\n",
    "Instead, they are different quantities, arrived at from different fields of study, that under the conditions of calculating a loss function for a classification task, result in an equivalent calculation and result. Specifically, a cross-entropy loss function is equivalent to a maximum likelihood function under a Bernoulli or Multinoulli probability distribution."
   ]
  },
  {
   "cell_type": "code",
   "execution_count": null,
   "metadata": {},
   "outputs": [],
   "source": []
  }
 ],
 "metadata": {
  "kernelspec": {
   "display_name": "Python 3",
   "language": "python",
   "name": "python3"
  },
  "language_info": {
   "codemirror_mode": {
    "name": "ipython",
    "version": 3
   },
   "file_extension": ".py",
   "mimetype": "text/x-python",
   "name": "python",
   "nbconvert_exporter": "python",
   "pygments_lexer": "ipython3",
   "version": "3.7.3"
  }
 },
 "nbformat": 4,
 "nbformat_minor": 2
}
