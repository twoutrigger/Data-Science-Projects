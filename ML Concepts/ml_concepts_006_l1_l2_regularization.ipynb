{
 "cells": [
  {
   "cell_type": "code",
   "execution_count": 3,
   "metadata": {},
   "outputs": [],
   "source": [
    "## basic tutorial on L1 and L2 Regularization\n",
    "## tutorial url:\n",
    "## https://www.geeksforgeeks.org/ml-implementing-l1-and-l2-regularization-using-sklearn/"
   ]
  },
  {
   "cell_type": "code",
   "execution_count": 4,
   "metadata": {},
   "outputs": [],
   "source": [
    "import pandas as pd\n",
    "import numpy as np\n",
    "import matplotlib.pyplot as plt\n",
    "from sklearn.linear_model import LinearRegression, Ridge, Lasso\n",
    "from sklearn.model_selection import train_test_split, cross_val_score\n",
    "from statistics import mean"
   ]
  },
  {
   "cell_type": "code",
   "execution_count": 14,
   "metadata": {},
   "outputs": [
    {
     "data": {
      "text/html": [
       "<div>\n",
       "<style scoped>\n",
       "    .dataframe tbody tr th:only-of-type {\n",
       "        vertical-align: middle;\n",
       "    }\n",
       "\n",
       "    .dataframe tbody tr th {\n",
       "        vertical-align: top;\n",
       "    }\n",
       "\n",
       "    .dataframe thead th {\n",
       "        text-align: right;\n",
       "    }\n",
       "</style>\n",
       "<table border=\"1\" class=\"dataframe\">\n",
       "  <thead>\n",
       "    <tr style=\"text-align: right;\">\n",
       "      <th></th>\n",
       "      <th>price</th>\n",
       "      <th>bedrooms</th>\n",
       "      <th>bathrooms</th>\n",
       "      <th>sqft_living</th>\n",
       "      <th>sqft_lot</th>\n",
       "      <th>floors</th>\n",
       "      <th>waterfront</th>\n",
       "      <th>view</th>\n",
       "      <th>condition</th>\n",
       "      <th>grade</th>\n",
       "      <th>sqft_above</th>\n",
       "      <th>sqft_basement</th>\n",
       "      <th>yr_built</th>\n",
       "      <th>yr_renovated</th>\n",
       "      <th>lat</th>\n",
       "      <th>long</th>\n",
       "      <th>sqft_living15</th>\n",
       "      <th>sqft_lot15</th>\n",
       "    </tr>\n",
       "  </thead>\n",
       "  <tbody>\n",
       "    <tr>\n",
       "      <th>0</th>\n",
       "      <td>221900.0</td>\n",
       "      <td>3</td>\n",
       "      <td>1.00</td>\n",
       "      <td>1180</td>\n",
       "      <td>5650</td>\n",
       "      <td>1.0</td>\n",
       "      <td>0</td>\n",
       "      <td>0</td>\n",
       "      <td>3</td>\n",
       "      <td>7</td>\n",
       "      <td>1180.0</td>\n",
       "      <td>0</td>\n",
       "      <td>1955</td>\n",
       "      <td>0</td>\n",
       "      <td>47.5112</td>\n",
       "      <td>-122.257</td>\n",
       "      <td>1340</td>\n",
       "      <td>5650</td>\n",
       "    </tr>\n",
       "    <tr>\n",
       "      <th>1</th>\n",
       "      <td>538000.0</td>\n",
       "      <td>3</td>\n",
       "      <td>2.25</td>\n",
       "      <td>2570</td>\n",
       "      <td>7242</td>\n",
       "      <td>2.0</td>\n",
       "      <td>0</td>\n",
       "      <td>0</td>\n",
       "      <td>3</td>\n",
       "      <td>7</td>\n",
       "      <td>2170.0</td>\n",
       "      <td>400</td>\n",
       "      <td>1951</td>\n",
       "      <td>1991</td>\n",
       "      <td>47.7210</td>\n",
       "      <td>-122.319</td>\n",
       "      <td>1690</td>\n",
       "      <td>7639</td>\n",
       "    </tr>\n",
       "  </tbody>\n",
       "</table>\n",
       "</div>"
      ],
      "text/plain": [
       "      price  bedrooms  bathrooms  sqft_living  sqft_lot  floors  waterfront  \\\n",
       "0  221900.0         3       1.00         1180      5650     1.0           0   \n",
       "1  538000.0         3       2.25         2570      7242     2.0           0   \n",
       "\n",
       "   view  condition  grade  sqft_above  sqft_basement  yr_built  yr_renovated  \\\n",
       "0     0          3      7      1180.0              0      1955             0   \n",
       "1     0          3      7      2170.0            400      1951          1991   \n",
       "\n",
       "       lat     long  sqft_living15  sqft_lot15  \n",
       "0  47.5112 -122.257           1340        5650  \n",
       "1  47.7210 -122.319           1690        7639  "
      ]
     },
     "execution_count": 14,
     "metadata": {},
     "output_type": "execute_result"
    }
   ],
   "source": [
    "data = pd.read_csv('../Datasets/kc_house_data.csv')\n",
    " \n",
    "# Dropping the numerically non-sensical variables\n",
    "dropColumns = ['id', 'date', 'zipcode']\n",
    "data = data.drop(dropColumns, axis = 1)\n",
    "\n",
    "## Liam: drop rows with NAN due to regression error\n",
    "data.dropna(how='any', inplace=True)\n",
    " \n",
    "# Separating the dependent and independent variables\n",
    "y = data['price']\n",
    "X = data.drop('price', axis = 1)\n",
    " \n",
    "data.head(2)"
   ]
  },
  {
   "cell_type": "code",
   "execution_count": 21,
   "metadata": {},
   "outputs": [
    {
     "name": "stdout",
     "output_type": "stream",
     "text": [
      "(16208, 17) (5403, 17) (16208,) (5403,)\n"
     ]
    }
   ],
   "source": [
    "# Dividing the data into training and testing set\n",
    "X_train, X_test, y_train, y_test = train_test_split(X, y, test_size = 0.25, random_state=3)\n",
    "\n",
    "print(X_train.shape, X_test.shape, y_train.shape, y_test.shape)"
   ]
  },
  {
   "cell_type": "markdown",
   "metadata": {},
   "source": [
    "#### Baseline Regression"
   ]
  },
  {
   "cell_type": "code",
   "execution_count": 22,
   "metadata": {},
   "outputs": [
    {
     "name": "stdout",
     "output_type": "stream",
     "text": [
      "0.6883812736206611\n"
     ]
    }
   ],
   "source": [
    "# Building and fitting the Linear Regression model\n",
    "linearModel = LinearRegression()\n",
    "linearModel.fit(X_train, y_train)\n",
    " \n",
    "# Evaluating the Linear Regression model\n",
    "print(linearModel.score(X_test, y_test))"
   ]
  },
  {
   "cell_type": "markdown",
   "metadata": {},
   "source": [
    "#### L2 - Ridge Regression"
   ]
  },
  {
   "cell_type": "code",
   "execution_count": 25,
   "metadata": {},
   "outputs": [
    {
     "name": "stdout",
     "output_type": "stream",
     "text": [
      "0.25 : 69.0901583767101\n",
      "0.5 : 69.09033468066406\n",
      "0.75 : 69.09049125083847\n",
      "1.0 : 69.09062828999278\n",
      "1.25 : 69.09074599856244\n",
      "1.5 : 69.09084457469034\n",
      "1.75 : 69.09092421425655\n",
      "2.0 : 69.09098511090883\n"
     ]
    }
   ],
   "source": [
    "\n",
    "# List to maintain the different cross-validation scores\n",
    "cross_val_scores_ridge = []\n",
    " \n",
    "# List to maintain the different values of alpha\n",
    "alpha = []\n",
    " \n",
    "# Loop to compute the different values of cross-validation scores\n",
    "for i in range(1, 9):\n",
    "    ridgeModel = Ridge(alpha = i * 0.25)\n",
    "    ridgeModel.fit(X_train, y_train)\n",
    "    scores = cross_val_score(ridgeModel, X, y, cv = 10)\n",
    "    avg_cross_val_score = mean(scores)*100\n",
    "    cross_val_scores_ridge.append(avg_cross_val_score)\n",
    "    alpha.append(i * 0.25)\n",
    " \n",
    "# Loop to print the different values of cross-validation scores\n",
    "for i in range(0, len(alpha)):\n",
    "    print(str(alpha[i])+' : '+str(cross_val_scores_ridge[i]))"
   ]
  },
  {
   "cell_type": "code",
   "execution_count": 26,
   "metadata": {},
   "outputs": [
    {
     "name": "stdout",
     "output_type": "stream",
     "text": [
      "0.6883500110608307\n"
     ]
    }
   ],
   "source": [
    "# Building and fitting the Ridge Regression model\n",
    "ridgeModelChosen = Ridge(alpha = 2)\n",
    "ridgeModelChosen.fit(X_train, y_train)\n",
    " \n",
    "# Evaluating the Ridge Regression model\n",
    "print(ridgeModelChosen.score(X_test, y_test))"
   ]
  },
  {
   "cell_type": "code",
   "execution_count": 32,
   "metadata": {},
   "outputs": [
    {
     "name": "stdout",
     "output_type": "stream",
     "text": [
      "          Columns  Coefficient Estimate\n",
      "0        bedrooms         -36412.521548\n",
      "1       bathrooms          44864.208899\n",
      "2     sqft_living            111.201886\n",
      "3        sqft_lot              0.102812\n",
      "4          floors          -1742.047264\n",
      "5      waterfront         571426.408566\n",
      "6            view          49647.515271\n",
      "7       condition          31762.015081\n",
      "8           grade          99190.013815\n",
      "9      sqft_above             72.413377\n",
      "10  sqft_basement             38.788584\n",
      "11       yr_built          -2517.942037\n",
      "12   yr_renovated             24.638399\n",
      "13            lat         557598.912230\n",
      "14           long        -108817.697362\n",
      "15  sqft_living15             22.779026\n",
      "16     sqft_lot15             -0.422640\n"
     ]
    }
   ],
   "source": [
    "ridge_coef = pd.DataFrame()\n",
    "ridge_coef[\"Columns\"]= X_train.columns\n",
    "ridge_coef['Coefficient Estimate'] = pd.Series(ridgeModelChosen.coef_)\n",
    "print(ridge_coef)"
   ]
  },
  {
   "cell_type": "markdown",
   "metadata": {},
   "source": [
    "#### L1 - Lasso Regression"
   ]
  },
  {
   "cell_type": "code",
   "execution_count": 27,
   "metadata": {},
   "outputs": [
    {
     "name": "stdout",
     "output_type": "stream",
     "text": [
      "0.25 : 69.0899676246163\n",
      "0.5 : 69.08997309354582\n",
      "0.75 : 69.0899785338932\n",
      "1.0 : 69.08998394768226\n",
      "1.25 : 69.08998932707652\n",
      "1.5 : 69.08999467945569\n",
      "1.75 : 69.0900000188295\n",
      "2.0 : 69.09000531192424\n"
     ]
    }
   ],
   "source": [
    "# List to maintain the cross-validation scores\n",
    "cross_val_scores_lasso = []\n",
    " \n",
    "# List to maintain the different values of Lambda\n",
    "Lambda = []\n",
    " \n",
    "# Loop to compute the cross-validation scores\n",
    "for i in range(1, 9):\n",
    "    lassoModel = Lasso(alpha = i * 0.25, tol = 0.0925)\n",
    "    lassoModel.fit(X_train, y_train)\n",
    "    scores = cross_val_score(lassoModel, X, y, cv = 10)\n",
    "    avg_cross_val_score = mean(scores)*100\n",
    "    cross_val_scores_lasso.append(avg_cross_val_score)\n",
    "    Lambda.append(i * 0.25)\n",
    " \n",
    "# Loop to print the different values of cross-validation scores\n",
    "for i in range(0, len(alpha)):\n",
    "    print(str(alpha[i])+' : '+str(cross_val_scores_lasso[i]))"
   ]
  },
  {
   "cell_type": "code",
   "execution_count": 28,
   "metadata": {},
   "outputs": [
    {
     "name": "stdout",
     "output_type": "stream",
     "text": [
      "0.6883810155406243\n"
     ]
    }
   ],
   "source": [
    "# Building and fitting the Lasso Regression Model\n",
    "lassoModelChosen = Lasso(alpha = 2, tol = 0.0925)\n",
    "lassoModelChosen.fit(X_train, y_train)\n",
    " \n",
    "# Evaluating the Lasso Regression model\n",
    "print(lassoModelChosen.score(X_test, y_test))"
   ]
  },
  {
   "cell_type": "code",
   "execution_count": 33,
   "metadata": {},
   "outputs": [
    {
     "name": "stdout",
     "output_type": "stream",
     "text": [
      "          Columns  Coefficient Estimate\n",
      "0        bedrooms         -36337.339987\n",
      "1       bathrooms          44877.678782\n",
      "2     sqft_living            286.353339\n",
      "3        sqft_lot              0.104182\n",
      "4          floors          -1916.331156\n",
      "5      waterfront         582355.535937\n",
      "6            view          49194.401085\n",
      "7       condition          31834.744090\n",
      "8           grade          99093.860030\n",
      "9      sqft_above           -102.730098\n",
      "10  sqft_basement           -136.523114\n",
      "11       yr_built          -2511.459379\n",
      "12   yr_renovated             24.584910\n",
      "13            lat         561507.708739\n",
      "14           long        -109479.106722\n",
      "15  sqft_living15             22.823253\n",
      "16     sqft_lot15             -0.421660\n"
     ]
    }
   ],
   "source": [
    "lasso_coef = pd.DataFrame()\n",
    "lasso_coef[\"Columns\"]= X_train.columns\n",
    "lasso_coef['Coefficient Estimate'] = pd.Series(lassoModelChosen.coef_)\n",
    "print(lasso_coef)"
   ]
  },
  {
   "cell_type": "code",
   "execution_count": null,
   "metadata": {},
   "outputs": [],
   "source": []
  }
 ],
 "metadata": {
  "kernelspec": {
   "display_name": "Python 3",
   "language": "python",
   "name": "python3"
  },
  "language_info": {
   "codemirror_mode": {
    "name": "ipython",
    "version": 3
   },
   "file_extension": ".py",
   "mimetype": "text/x-python",
   "name": "python",
   "nbconvert_exporter": "python",
   "pygments_lexer": "ipython3",
   "version": "3.7.3"
  }
 },
 "nbformat": 4,
 "nbformat_minor": 2
}
