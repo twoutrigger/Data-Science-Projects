{
 "cells": [
  {
   "cell_type": "code",
   "execution_count": 1,
   "id": "54df859b",
   "metadata": {},
   "outputs": [],
   "source": [
    "## basic tutorial on ReLU (Rectified Linear Unit), commonly used in neural networks\n",
    "## tutorial url:\n",
    "## https://machinelearningmastery.com/rectified-linear-activation-function-for-deep-learning-neural-networks/"
   ]
  },
  {
   "cell_type": "markdown",
   "id": "b06c0c75",
   "metadata": {},
   "source": [
    "In a neural network, the activation function is responsible for transforming the summed weighted input from the node into the activation of the node or output for that input.\n",
    "\n",
    "The rectified linear activation function or ReLU for short is a piecewise linear function that will output the input directly if it is positive, otherwise, it will output zero. It has become the default activation function for many types of neural networks because a model that uses it is easier to train and often achieves better performance.\n",
    "\n",
    "The sigmoid and hyperbolic tangent activation functions cannot be used in networks with many layers due to the vanishing gradient problem.\n",
    "\n",
    "The rectified linear activation function overcomes the vanishing gradient problem, allowing models to learn faster and perform better."
   ]
  },
  {
   "cell_type": "markdown",
   "id": "cd25ed49",
   "metadata": {},
   "source": [
    "The rectified linear activation function is a simple calculation that returns the value provided as input directly, or the value 0.0 if the input is 0.0 or less.\n",
    "\n",
    "if input > 0: return input\n",
    "    \n",
    "else: return 0\n",
    "\n",
    "g(z) = max{0, z}\n",
    "\n",
    "Because the rectified function is linear for half of the input domain and nonlinear for the other half, it is referred to as a piecewise linear function or a hinge function."
   ]
  },
  {
   "cell_type": "code",
   "execution_count": 4,
   "id": "3333410c",
   "metadata": {},
   "outputs": [],
   "source": [
    "# rectified linear function\n",
    "def rectified(x):\n",
    "\treturn max(0.0, x)"
   ]
  },
  {
   "cell_type": "code",
   "execution_count": 5,
   "id": "4b805d61",
   "metadata": {},
   "outputs": [
    {
     "name": "stdout",
     "output_type": "stream",
     "text": [
      "rectified(1.0) is 1.0\n",
      "rectified(1000.0) is 1000.0\n",
      "rectified(0.0) is 0.0\n",
      "rectified(-1.0) is 0.0\n",
      "rectified(-1000.0) is 0.0\n"
     ]
    }
   ],
   "source": [
    "# demonstrate with a positive input\n",
    "x = 1.0\n",
    "print('rectified(%.1f) is %.1f' % (x, rectified(x)))\n",
    "x = 1000.0\n",
    "print('rectified(%.1f) is %.1f' % (x, rectified(x)))\n",
    "# demonstrate with a zero input\n",
    "x = 0.0\n",
    "print('rectified(%.1f) is %.1f' % (x, rectified(x)))\n",
    "# demonstrate with a negative input\n",
    "x = -1.0\n",
    "print('rectified(%.1f) is %.1f' % (x, rectified(x)))\n",
    "x = -1000.0\n",
    "print('rectified(%.1f) is %.1f' % (x, rectified(x)))"
   ]
  },
  {
   "cell_type": "code",
   "execution_count": 6,
   "id": "f762bd29",
   "metadata": {},
   "outputs": [
    {
     "data": {
      "image/png": "[encoded data removed]",
      "text/plain": [
       "<Figure size 432x288 with 1 Axes>"
      ]
     },
     "metadata": {
      "needs_background": "light"
     },
     "output_type": "display_data"
    }
   ],
   "source": [
    "from matplotlib import pyplot\n",
    "\n",
    "# define a series of inputs\n",
    "series_in = [x for x in range(-10, 11)]\n",
    "# calculate outputs for our inputs\n",
    "series_out = [rectified(x) for x in series_in]\n",
    "# line plot of raw inputs to rectified outputs\n",
    "pyplot.plot(series_in, series_out)\n",
    "pyplot.show()"
   ]
  },
  {
   "cell_type": "markdown",
   "id": "c3852069",
   "metadata": {},
   "source": [
    "The derivative of the rectified linear function is also easy to calculate. Recall that the derivative of the activation function is required when updating the weights of a node as part of the backpropagation of error.\n",
    "\n",
    "The derivative of the function is the slope. The slope for negative values is 0.0 and the slope for positive values is 1.0.\n",
    "\n",
    "Traditionally, the field of neural networks has avoided any activation function that was not completely differentiable, perhaps delaying the adoption of the rectified linear function and other piecewise-linear functions. Technically, we cannot calculate the derivative when the input is 0.0, therefore, we can assume it is zero. This is not a problem in practice."
   ]
  },
  {
   "cell_type": "markdown",
   "id": "7456aa11",
   "metadata": {},
   "source": [
    "An important benefit of the rectifier function is that it is capable of outputting a true zero value.\n",
    "\n",
    "This is unlike the tanh and sigmoid activation functions that learn to approximate a zero output, e.g. a value very close to zero, but not a true zero value.\n",
    "\n",
    "An area where efficient representations such as sparsity are studied and sought is in autoencoders, where a network learns a compact representation of an input (called the code layer), such as an image or series, before it is reconstructed from the compact representation."
   ]
  },
  {
   "cell_type": "markdown",
   "id": "4b62e032",
   "metadata": {},
   "source": [
    "#### Tips\n",
    "\n",
    "- Try a Smaller Bias Input Value\n",
    "\n",
    "\"… it can be a good practice to set all elements of [the bias] to a small, positive value, such as 0.1. This makes it very likely that the rectified linear units will be initially active for most inputs in the training set and allow the derivatives to pass through\"\n",
    "\n",
    "- Use He Weight Initialization\n",
    "\n",
    "\"specifically +/- sqrt(2/n) where n is the number of nodes in the prior layer known as the fan-in\"\n",
    "\n",
    "- Scale Input Data\n",
    "\n",
    "\"This may involve standardizing variables to have a zero mean and unit variance or normalizing each value to the scale 0-to-1. Without data scaling on many problems, the weights of the neural network can grow large, making the network unstable and increasing the generalization error.\"\n",
    "\n",
    "- Use Weight Penalty\n",
    "\n",
    "\"By design, the output from ReLU is unbounded in the positive domain. This means that in some cases, the output can continue to grow in size. As such, it may be a good idea to use a form of weight regularization, such as an L1 or L2 vector norm.\""
   ]
  },
  {
   "cell_type": "code",
   "execution_count": null,
   "id": "a3358f44",
   "metadata": {},
   "outputs": [],
   "source": []
  }
 ],
 "metadata": {
  "kernelspec": {
   "display_name": "Python 3 (ipykernel)",
   "language": "python",
   "name": "python3"
  },
  "language_info": {
   "codemirror_mode": {
    "name": "ipython",
    "version": 3
   },
   "file_extension": ".py",
   "mimetype": "text/x-python",
   "name": "python",
   "nbconvert_exporter": "python",
   "pygments_lexer": "ipython3",
   "version": "3.8.13"
  }
 },
 "nbformat": 4,
 "nbformat_minor": 5
}
