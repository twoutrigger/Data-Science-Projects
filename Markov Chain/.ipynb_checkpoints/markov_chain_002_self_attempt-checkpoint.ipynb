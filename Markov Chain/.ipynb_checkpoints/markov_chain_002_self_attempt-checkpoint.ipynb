{
 "cells": [
  {
   "cell_type": "code",
   "execution_count": 4,
   "metadata": {},
   "outputs": [],
   "source": [
    "## self attempt of Markov Chain using outfit changes\n",
    "## i.e. if I wear gray on Monday, what color outfit will I likely wear on Wednesday?"
   ]
  },
  {
   "cell_type": "code",
   "execution_count": 5,
   "metadata": {},
   "outputs": [],
   "source": [
    "import numpy as np\n",
    "import random as rm"
   ]
  },
  {
   "cell_type": "code",
   "execution_count": 6,
   "metadata": {},
   "outputs": [],
   "source": [
    "# the statespace for outfits\n",
    "states = [\"Blue\",\"Green\",\"Gray\"]\n",
    "\n",
    "# possible sequences of outfits\n",
    "transitionName = [[\"BB\",\"BG\",\"BY\"],[\"GB\",\"GG\",\"GY\"],[\"YB\",\"YG\",\"YY\"]]\n",
    "\n",
    "# probabilities matrix (transition matrix)\n",
    "transitionMatrix = [[0.2,0.2,0.6],[0.3,0.1,0.6],[0.2,0.3,0.5]]"
   ]
  },
  {
   "cell_type": "code",
   "execution_count": 12,
   "metadata": {},
   "outputs": [
    {
     "name": "stdout",
     "output_type": "stream",
     "text": [
      "Probabilities matrix passes\n"
     ]
    }
   ],
   "source": [
    "## rewrite check for probability matrix\n",
    "check = (sum(transitionMatrix[0])+sum(transitionMatrix[1])+sum(transitionMatrix[1])) \\\n",
    "        / len(transitionMatrix)\n",
    "\n",
    "if check == 1:\n",
    "    print(\"Probabilities matrix passes\")\n",
    "else:\n",
    "    print(\"Probabilities matrix FAILED\")"
   ]
  },
  {
   "cell_type": "code",
   "execution_count": 26,
   "metadata": {},
   "outputs": [],
   "source": [
    "## rewrite markov chain by swapping out statespace + transitions\n",
    "def activity_forecast(outfitToday = \"Blue\", days=2):\n",
    "\n",
    "    print(\"Start state: \" + outfitToday)\n",
    "    # Shall store the sequence of states taken. So, this only has the starting state for now.\n",
    "    outfitList = [outfitToday]\n",
    "    i = 0\n",
    "    # To calculate the probability of the outfitList\n",
    "    prob = 1\n",
    "    while i != days:\n",
    "        if outfitToday == \"Blue\":\n",
    "            change = np.random.choice(transitionName[0],replace=True,p=transitionMatrix[0])\n",
    "            if change == \"BB\":\n",
    "                prob = prob * 0.2\n",
    "                outfitList.append(\"Blue\")\n",
    "                pass\n",
    "            elif change == \"BG\":\n",
    "                prob = prob * 0.2\n",
    "                outfitToday = \"Green\"\n",
    "                outfitList.append(\"Green\")\n",
    "            else:\n",
    "                prob = prob * 0.6\n",
    "                outfitToday = \"Gray\"\n",
    "                outfitList.append(\"Gray\")\n",
    "        elif outfitToday == \"Green\":\n",
    "            change = np.random.choice(transitionName[1],replace=True,p=transitionMatrix[1])\n",
    "            if change == \"GG\":\n",
    "                prob = prob * 0.1\n",
    "                outfitList.append(\"Green\")\n",
    "                pass\n",
    "            elif change == \"GB\":\n",
    "                prob = prob * 0.3\n",
    "                outfitToday = \"Blue\"\n",
    "                outfitList.append(\"Blue\")\n",
    "            else:\n",
    "                prob = prob * 0.6\n",
    "                outfitToday = \"Gray\"\n",
    "                outfitList.append(\"Gray\")\n",
    "        elif outfitToday == \"Gray\":\n",
    "            change = np.random.choice(transitionName[2],replace=True,p=transitionMatrix[2])\n",
    "            if change == \"YY\":\n",
    "                prob = prob * 0.5\n",
    "                outfitList.append(\"Gray\")\n",
    "                pass\n",
    "            elif change == \"YB\":\n",
    "                prob = prob * 0.2\n",
    "                outfitToday = \"Blue\"\n",
    "                outfitList.append(\"Blue\")\n",
    "            else:\n",
    "                prob = prob * 0.3\n",
    "                outfitToday = \"Green\"\n",
    "                outfitList.append(\"Green\")\n",
    "        i += 1  \n",
    "    print(\"Possible states: \" + str(outfitList))\n",
    "    print(\"End state after \"+ str(days) + \" days: \" + outfitToday)\n",
    "    print(\"Probability of the possible sequence of states: \" + str(prob))"
   ]
  },
  {
   "cell_type": "code",
   "execution_count": 76,
   "metadata": {},
   "outputs": [
    {
     "name": "stdout",
     "output_type": "stream",
     "text": [
      "Start state: Blue\n",
      "Possible states: ['Blue', 'Gray']\n",
      "End state after 1 days: Gray\n",
      "Probability of the possible sequence of states: 0.6\n"
     ]
    }
   ],
   "source": [
    "# will just be the probability as specified in the probability matrix\n",
    "activity_forecast(outfitToday = \"Blue\", days=1)"
   ]
  },
  {
   "cell_type": "code",
   "execution_count": 78,
   "metadata": {},
   "outputs": [
    {
     "name": "stdout",
     "output_type": "stream",
     "text": [
      "Start state: Green\n",
      "Possible states: ['Green', 'Gray', 'Blue']\n",
      "End state after 2 days: Blue\n",
      "Probability of the possible sequence of states: 0.12\n"
     ]
    }
   ],
   "source": [
    "activity_forecast(outfitToday = \"Green\", days=2)"
   ]
  },
  {
   "cell_type": "code",
   "execution_count": 79,
   "metadata": {},
   "outputs": [
    {
     "name": "stdout",
     "output_type": "stream",
     "text": [
      "Start state: Green\n",
      "Possible states: ['Green', 'Green', 'Gray', 'Blue']\n",
      "End state after 3 days: Blue\n",
      "Probability of the possible sequence of states: 0.012\n"
     ]
    }
   ],
   "source": [
    "activity_forecast(outfitToday = \"Green\", days=3)"
   ]
  },
  {
   "cell_type": "code",
   "execution_count": null,
   "metadata": {},
   "outputs": [],
   "source": [
    "## Notes:\n",
    "## np.random.choice is the random variable that leads to different combos\n",
    "## p is the prior"
   ]
  },
  {
   "cell_type": "code",
   "execution_count": 80,
   "metadata": {},
   "outputs": [],
   "source": [
    "## Next steps:\n",
    "## All this manual coding of transition can likely be automated just using statespace and transition"
   ]
  },
  {
   "cell_type": "code",
   "execution_count": null,
   "metadata": {},
   "outputs": [],
   "source": []
  }
 ],
 "metadata": {
  "kernelspec": {
   "display_name": "Python 3",
   "language": "python",
   "name": "python3"
  },
  "language_info": {
   "codemirror_mode": {
    "name": "ipython",
    "version": 3
   },
   "file_extension": ".py",
   "mimetype": "text/x-python",
   "name": "python",
   "nbconvert_exporter": "python",
   "pygments_lexer": "ipython3",
   "version": "3.7.3"
  }
 },
 "nbformat": 4,
 "nbformat_minor": 2
}
