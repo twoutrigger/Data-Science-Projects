{
 "cells": [
  {
   "cell_type": "code",
   "execution_count": 1,
   "id": "b799e2fe",
   "metadata": {},
   "outputs": [],
   "source": [
    "## code snippet for enumerate"
   ]
  },
  {
   "cell_type": "code",
   "execution_count": 10,
   "id": "285cdb6e",
   "metadata": {},
   "outputs": [
    {
     "name": "stdout",
     "output_type": "stream",
     "text": [
      "At step 0, the value is 100 \n",
      "At step 1, the value is 101 \n",
      "At step 2, the value is 102 \n",
      "At step 3, the value is 103 \n",
      "At step 4, the value is 104 \n"
     ]
    }
   ],
   "source": [
    "import pandas as pd\n",
    "\n",
    "for i, v in enumerate(range(100, 105)):\n",
    "    print(f\"At step {i}, the value is {v}\")"
   ]
  },
  {
   "cell_type": "code",
   "execution_count": null,
   "id": "d9b332a7",
   "metadata": {},
   "outputs": [],
   "source": []
  }
 ],
 "metadata": {
  "kernelspec": {
   "display_name": "Python 3 (ipykernel)",
   "language": "python",
   "name": "python3"
  },
  "language_info": {
   "codemirror_mode": {
    "name": "ipython",
    "version": 3
   },
   "file_extension": ".py",
   "mimetype": "text/x-python",
   "name": "python",
   "nbconvert_exporter": "python",
   "pygments_lexer": "ipython3",
   "version": "3.8.13"
  }
 },
 "nbformat": 4,
 "nbformat_minor": 5
}
