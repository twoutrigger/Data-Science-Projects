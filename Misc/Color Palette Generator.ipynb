{
 "cells": [
  {
   "cell_type": "code",
   "execution_count": 1,
   "metadata": {},
   "outputs": [],
   "source": [
    "from colour import Color"
   ]
  },
  {
   "cell_type": "code",
   "execution_count": 3,
   "metadata": {},
   "outputs": [
    {
     "name": "stdout",
     "output_type": "stream",
     "text": [
      "[<Color #c8e6e0>, <Color #a7ddd6>, <Color #83d7d3>, <Color #5cd0d4>, <Color #32c3d4>, <Color #1ea0bd>, <Color #127a9f>, <Color #09577e>, <Color #03365a>, <Color #001a33>]\n"
     ]
    }
   ],
   "source": [
    "mincolor = Color(\"#c8e6e0\")\n",
    "maxcolor = Color(\"#001a33\")\n",
    "color_list = list(mincolor.range_to(maxcolor, 10))\n",
    "\n",
    "print(color_list)"
   ]
  },
  {
   "cell_type": "code",
   "execution_count": 4,
   "metadata": {},
   "outputs": [
    {
     "name": "stdout",
     "output_type": "stream",
     "text": [
      "[<Color #bdeaee>, <Color #bdf2d7>, <Color #c4f5be>, <Color #e7f9be>, <Color #fbeac0>, <Color #fec8c1>]\n"
     ]
    }
   ],
   "source": [
    "mincolor = Color(\"#bdeaee\")\n",
    "maxcolor = Color(\"#fec8c1\")\n",
    "print(color_list)"
   ]
  },
  {
   "cell_type": "code",
   "execution_count": 6,
   "metadata": {},
   "outputs": [
    {
     "name": "stdout",
     "output_type": "stream",
     "text": [
      "[<Color #fec8c1>, <Color #f49185>, <Color #e26051>, <Color #bc3e31>]\n"
     ]
    }
   ],
   "source": [
    "mincolor = Color(\"#fec8c1\")\n",
    "maxcolor = Color(\"#bc3e31\")\n",
    "color_list = list(mincolor.range_to(maxcolor, 4))\n",
    "\n",
    "print(color_list)"
   ]
  },
  {
   "cell_type": "code",
   "execution_count": 7,
   "metadata": {},
   "outputs": [
    {
     "name": "stdout",
     "output_type": "stream",
     "text": [
      "[<Color #bdeaee>, <Color #afeddc>, <Color #a0edbc>, <Color LightGreen>]\n"
     ]
    }
   ],
   "source": [
    "mincolor = Color(\"#bdeaee\")\n",
    "maxcolor = Color(\"#90EE90\")\n",
    "color_list = list(mincolor.range_to(maxcolor, 4))\n",
    "\n",
    "print(color_list)"
   ]
  },
  {
   "cell_type": "code",
   "execution_count": 9,
   "metadata": {},
   "outputs": [
    {
     "name": "stdout",
     "output_type": "stream",
     "text": [
      "[<Color #fbeac0>, <Color #fcdfc0>, <Color #fdd4c1>, <Color #fec8c1>]\n"
     ]
    }
   ],
   "source": [
    "mincolor = Color(\"#fbeac0\")\n",
    "maxcolor = Color(\"#fec8c1\")\n",
    "color_list = list(mincolor.range_to(maxcolor, 4))\n",
    "\n",
    "print(color_list)\n",
    "\n"
   ]
  },
  {
   "cell_type": "code",
   "execution_count": null,
   "metadata": {},
   "outputs": [],
   "source": []
  }
 ],
 "metadata": {
  "kernelspec": {
   "display_name": "Python 3",
   "language": "python",
   "name": "python3"
  },
  "language_info": {
   "codemirror_mode": {
    "name": "ipython",
    "version": 3
   },
   "file_extension": ".py",
   "mimetype": "text/x-python",
   "name": "python",
   "nbconvert_exporter": "python",
   "pygments_lexer": "ipython3",
   "version": "3.7.3"
  }
 },
 "nbformat": 4,
 "nbformat_minor": 2
}
