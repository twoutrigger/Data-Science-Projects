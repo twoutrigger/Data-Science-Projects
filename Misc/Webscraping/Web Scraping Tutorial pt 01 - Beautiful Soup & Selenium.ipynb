{
 "cells": [
  {
   "cell_type": "code",
   "execution_count": 34,
   "metadata": {},
   "outputs": [],
   "source": [
    "# This tutorial covers:\n",
    "#\n",
    "# web scraper\n",
    "# scrape HTML tags using class attribute\n",
    "# Finding nth child with Beautiful Soup (revisit this section)\n",
    "# Find tags using Regex\n",
    "# Using ChromeDriver with Selenium\n",
    "# Get iframe content using Selenium & Beautiful Soup\n",
    "# Handling Ajax calls\n",
    "# Handling & deleting cookies\n",
    "#\n",
    "# Running headless Chrome with Selenium"
   ]
  },
  {
   "cell_type": "code",
   "execution_count": 2,
   "metadata": {},
   "outputs": [],
   "source": [
    "tutorial_url = 'https://likegeeks.com/python-web-scraping/'"
   ]
  },
  {
   "cell_type": "code",
   "execution_count": 38,
   "metadata": {},
   "outputs": [],
   "source": [
    "headless_url = 'https://medium.com/@pyzzled/running-headless-chrome-with-selenium-in-python-3f42d1f5ff1d'"
   ]
  },
  {
   "cell_type": "code",
   "execution_count": 3,
   "metadata": {},
   "outputs": [],
   "source": [
    "from bs4 import BeautifulSoup\n",
    "from urllib.request import urlopen"
   ]
  },
  {
   "cell_type": "markdown",
   "metadata": {},
   "source": [
    "Web Scraper"
   ]
  },
  {
   "cell_type": "code",
   "execution_count": 4,
   "metadata": {},
   "outputs": [
    {
     "name": "stdout",
     "output_type": "stream",
     "text": [
      "<title>Welcome to Python.org</title>\n"
     ]
    }
   ],
   "source": [
    "html = urlopen('https://python.org/')\n",
    "\n",
    "res = BeautifulSoup(html.read(),'html5lib')\n",
    "\n",
    "if res.title is None:\n",
    "    print('Tag not found')\n",
    "else:\n",
    "    print(res.title)"
   ]
  },
  {
   "cell_type": "code",
   "execution_count": 5,
   "metadata": {},
   "outputs": [
    {
     "name": "stdout",
     "output_type": "stream",
     "text": [
      "<class 'http.client.HTTPResponse'>\n",
      "<class 'bs4.BeautifulSoup'>\n"
     ]
    }
   ],
   "source": [
    "print(type(html))\n",
    "print(type(res))"
   ]
  },
  {
   "cell_type": "code",
   "execution_count": 6,
   "metadata": {},
   "outputs": [
    {
     "name": "stdout",
     "output_type": "stream",
     "text": [
      "Server down or incorrect domain\n"
     ]
    }
   ],
   "source": [
    "# handling http exception, as urlopen may return an error\n",
    "\n",
    "from urllib.error import HTTPError\n",
    "from urllib.error import URLError\n",
    "\n",
    "try:\n",
    "    htmlzzz = urlopen('https://pythonzzz.org/')\n",
    "except HTTPError as e:\n",
    "    print(e)\n",
    "except URLError:\n",
    "    print('Server down or incorrect domain')\n",
    "else:\n",
    "    reszzz = BeautifulSoup(htmlzzz.read(),'html5lib')\n",
    "    print(reszzz.title)"
   ]
  },
  {
   "cell_type": "markdown",
   "metadata": {},
   "source": [
    "Scrape HTML tags using class attribute"
   ]
  },
  {
   "cell_type": "code",
   "execution_count": 7,
   "metadata": {},
   "outputs": [
    {
     "name": "stdout",
     "output_type": "stream",
     "text": [
      "Get Started\n",
      "Download\n",
      "Docs\n",
      "Jobs\n",
      "Latest News\n",
      "Upcoming Events\n",
      "Success Stories\n",
      "Use Python for…\n",
      "\n",
      "                        >>> Python Enhancement Proposals (PEPs): The future of Python is discussed here.\n",
      "                         RSS\n",
      "                    \n",
      "\n",
      "    >>> Python Software Foundation\n",
      "\n"
     ]
    }
   ],
   "source": [
    "html = urlopen('https://python.org/')\n",
    "res = BeautifulSoup(html.read(),'html5lib')\n",
    "\n",
    "tags = res.findAll('h2', {'class':'widget-title'})\n",
    "for tag in tags:\n",
    "    print(tag.getText())"
   ]
  },
  {
   "cell_type": "code",
   "execution_count": 8,
   "metadata": {},
   "outputs": [
    {
     "name": "stdout",
     "output_type": "stream",
     "text": [
      "<h2 class=\"widget-title\"><span aria-hidden=\"true\" class=\"icon-get-started\"></span>Get Started</h2>\n",
      "<h2 class=\"widget-title\"><span aria-hidden=\"true\" class=\"icon-download\"></span>Download</h2>\n",
      "<h2 class=\"widget-title\"><span aria-hidden=\"true\" class=\"icon-documentation\"></span>Docs</h2>\n",
      "<h2 class=\"widget-title\"><span aria-hidden=\"true\" class=\"icon-jobs\"></span>Jobs</h2>\n",
      "<h2 class=\"widget-title\"><span aria-hidden=\"true\" class=\"icon-news\"></span>Latest News</h2>\n",
      "<h2 class=\"widget-title\"><span aria-hidden=\"true\" class=\"icon-calendar\"></span>Upcoming Events</h2>\n",
      "<h2 class=\"widget-title\"><span aria-hidden=\"true\" class=\"icon-success-stories\"></span>Success Stories</h2>\n",
      "<h2 class=\"widget-title\"><span aria-hidden=\"true\" class=\"icon-python\"></span>Use Python for…</h2>\n",
      "<h2 class=\"widget-title\">\n",
      "                        <span class=\"prompt\">&gt;&gt;&gt;</span> <a href=\"/dev/peps/\">Python Enhancement Proposals<span class=\"say-no-more\"> (PEPs)</span></a>: The future of Python<span class=\"say-no-more\"> is discussed here.</span>\n",
      "                        <a aria-hidden=\"true\" class=\"rss-link\" href=\"/dev/peps/peps.rss\"><span class=\"icon-feed\"></span> RSS</a>\n",
      "                    </h2>\n",
      "<h2 class=\"widget-title\">\n",
      "    <span class=\"prompt\">&gt;&gt;&gt;</span> <a href=\"/psf/\">Python Software Foundation</a>\n",
      "</h2>\n"
     ]
    }
   ],
   "source": [
    "for tag in tags:\n",
    "    print(tag) # without getText this returns full tags"
   ]
  },
  {
   "cell_type": "code",
   "execution_count": 9,
   "metadata": {},
   "outputs": [],
   "source": [
    "tags = res.findAll('span','a','img')\n",
    "# this code gets all span, anchor & image tags from the scraped HTML"
   ]
  },
  {
   "cell_type": "code",
   "execution_count": 10,
   "metadata": {},
   "outputs": [],
   "source": [
    "tags = res.findAll(\"a\", {\"class\": [\"url\", \"readmorebtn\"]})\n",
    "# this code extracts all anchor tags that have 'readmorebtn' & 'url' class"
   ]
  },
  {
   "cell_type": "markdown",
   "metadata": {},
   "source": [
    "Finding nth child with Beautiful Soup"
   ]
  },
  {
   "cell_type": "code",
   "execution_count": 11,
   "metadata": {},
   "outputs": [
    {
     "name": "stdout",
     "output_type": "stream",
     "text": [
      "\n",
      "\n",
      "                \n",
      "                \n",
      "                    Skip to content\n",
      "                \n",
      "\n",
      "                \n",
      "                \n",
      "                    ▼ Close\n",
      "                \n",
      "\n",
      "                \n",
      "\n",
      "\n",
      "    \n",
      "    \n",
      "        Python\n",
      "    \n",
      "    \n",
      "    \n",
      "        PSF\n",
      "    \n",
      "    \n",
      "    \n",
      "        Docs\n",
      "    \n",
      "    \n",
      "    \n",
      "        PyPI\n",
      "    \n",
      "    \n",
      "    \n",
      "        Jobs\n",
      "    \n",
      "    \n",
      "    \n",
      "        Community\n",
      "    \n",
      "    \n",
      "\n",
      "\n",
      "\n",
      "                \n",
      "                    ▲ The Python Network\n",
      "                \n",
      "\n",
      "            \n"
     ]
    }
   ],
   "source": [
    "tags = res.find(\"nav\", {\"role\": \"navigation\"})\n",
    "\n",
    "print(tags.getText())"
   ]
  },
  {
   "cell_type": "code",
   "execution_count": 12,
   "metadata": {},
   "outputs": [
    {
     "name": "stdout",
     "output_type": "stream",
     "text": [
      "\n",
      "                    Skip to content\n",
      "                \n"
     ]
    }
   ],
   "source": [
    "test = res.find('div', {'class' : 'skip-link screen-reader-text'})\n",
    "print(test.getText())"
   ]
  },
  {
   "cell_type": "markdown",
   "metadata": {},
   "source": [
    "Find tags using Regex"
   ]
  },
  {
   "cell_type": "code",
   "execution_count": 13,
   "metadata": {},
   "outputs": [],
   "source": [
    "import re"
   ]
  },
  {
   "cell_type": "code",
   "execution_count": 14,
   "metadata": {},
   "outputs": [
    {
     "name": "stdout",
     "output_type": "stream",
     "text": [
      "[<img alt=\"python™\" class=\"python-logo\" src=\"/static/img/python-logo.png\"/>]\n"
     ]
    }
   ],
   "source": [
    "tags = res.findAll('img', {'src':re.compile(\"/*.png\")})\n",
    "\n",
    "print(tags) # revisit this"
   ]
  },
  {
   "cell_type": "code",
   "execution_count": 15,
   "metadata": {},
   "outputs": [
    {
     "data": {
      "text/plain": [
       "[<img alt=\"python™\" class=\"python-logo\" src=\"/static/img/python-logo.png\"/>]"
      ]
     },
     "execution_count": 15,
     "metadata": {},
     "output_type": "execute_result"
    }
   ],
   "source": [
    "tags = res.findAll('img')\n",
    "\n",
    "tags"
   ]
  },
  {
   "cell_type": "markdown",
   "metadata": {},
   "source": [
    "Using ChromeDriver with Selenium"
   ]
  },
  {
   "cell_type": "code",
   "execution_count": 16,
   "metadata": {},
   "outputs": [],
   "source": [
    "from selenium import webdriver"
   ]
  },
  {
   "cell_type": "code",
   "execution_count": 17,
   "metadata": {},
   "outputs": [
    {
     "name": "stdout",
     "output_type": "stream",
     "text": [
      "Python is a programming language that lets you work more quickly and integrate your systems more effectively.\n",
      "You can learn to use Python and see almost immediate gains in productivity and lower maintenance costs. Learn more about Python..\n",
      "Download for Windows\n",
      "Python 3.7.0\n",
      "Note that Python 3.5+ cannot be used on Windows XP or earlier.\n",
      "Not the OS you are looking for? Python can be used on many operating systems and environments. View the full list of downloads.\n",
      "Python’s standard documentation: download, browse or watch a tutorial.\n",
      "Get started below, or visit the Documentation page to browse by version.\n",
      "\n",
      "Python 3.x Docs Python 2.x Docs\n"
     ]
    }
   ],
   "source": [
    "browser = webdriver.Chrome()\n",
    "browser.get('https://www.python.org/')\n",
    "nav = browser.find_element_by_id(\"mainnav\")\n",
    " \n",
    "print(nav.text)"
   ]
  },
  {
   "cell_type": "code",
   "execution_count": 18,
   "metadata": {},
   "outputs": [
    {
     "name": "stderr",
     "output_type": "stream",
     "text": [
      "C:\\Users\\liamk\\Anaconda3\\lib\\site-packages\\selenium\\webdriver\\phantomjs\\webdriver.py:49: UserWarning: Selenium support for PhantomJS has been deprecated, please use headless versions of Chrome or Firefox instead\n",
      "  warnings.warn('Selenium support for PhantomJS has been deprecated, please use headless '\n"
     ]
    },
    {
     "name": "stdout",
     "output_type": "stream",
     "text": [
      "Python is a programming language that lets you work quickly and integrate systems more effectively. Learn More\n"
     ]
    }
   ],
   "source": [
    "browser = webdriver.PhantomJS()\n",
    "browser.get(\"https://www.python.org/\")\n",
    "print(browser.find_element_by_class_name(\"introduction\").text)\n",
    "browser.close()"
   ]
  },
  {
   "cell_type": "code",
   "execution_count": 19,
   "metadata": {},
   "outputs": [],
   "source": [
    "# Other ways to access elements:\n",
    "\n",
    "# browser.find_element_by_id(\"id\")\n",
    " \n",
    "# browser.find_element_by_css_selector(\"#id\")\n",
    " \n",
    "# browser.find_element_by_link_text(\"Click Here\")\n",
    " \n",
    "# browser.find_element_by_name(\"Home\")\n",
    "\n",
    "# browser.find_elements_by_id(\"id\")\n",
    " \n",
    "# browser.find_elements_by_css_selector(\"#id\")\n",
    " \n",
    "# browser.find_elements_by_link_text(\"Click Here\")\n",
    " \n",
    "# browser.find_elements_by_name(\"Home\")"
   ]
  },
  {
   "cell_type": "code",
   "execution_count": 20,
   "metadata": {},
   "outputs": [
    {
     "name": "stderr",
     "output_type": "stream",
     "text": [
      "C:\\Users\\liamk\\Anaconda3\\lib\\site-packages\\selenium\\webdriver\\phantomjs\\webdriver.py:49: UserWarning: Selenium support for PhantomJS has been deprecated, please use headless versions of Chrome or Firefox instead\n",
      "  warnings.warn('Selenium support for PhantomJS has been deprecated, please use headless '\n"
     ]
    },
    {
     "name": "stdout",
     "output_type": "stream",
     "text": [
      "<a href=\"#content\" title=\"Skip to content\">Skip to content</a>\n",
      "<a aria-hidden=\"true\" class=\"jump-link\" href=\"#python-network\" id=\"close-python-network\">\n",
      "                    <span aria-hidden=\"true\" class=\"icon-arrow-down\"><span>▼</span></span> Close\n",
      "                </a>\n",
      "<a class=\"current_item selectedcurrent_branch selected\" href=\"/\" title=\"The Python Programming Language\">Python</a>\n",
      "<a href=\"/psf-landing/\" title=\"The Python Software Foundation\">PSF</a>\n",
      "<a href=\"https://docs.python.org\" title=\"Python Documentation\">Docs</a>\n",
      "<a href=\"https://pypi.python.org/\" title=\"Python Package Index\">PyPI</a>\n",
      "<a href=\"/jobs/\" title=\"Python Job Board\">Jobs</a>\n",
      "<a href=\"/community/\" title=\"Python Community\">Community</a>\n",
      "<a aria-hidden=\"true\" class=\"jump-link\" href=\"#top\" id=\"python-network\">\n",
      "                    <span aria-hidden=\"true\" class=\"icon-arrow-up\"><span>▲</span></span> The Python Network\n",
      "                </a>\n",
      "<a href=\"/\"><img alt=\"python™\" class=\"python-logo\" src=\"/static/img/python-logo.png\"/></a>\n",
      "<a class=\"jump-to-menu\" href=\"#site-map\" id=\"site-map-link\"><span class=\"menu-icon\">≡</span> Menu</a>\n",
      "<a class=\"action-trigger\" href=\"#\"><strong><small>A</small> A</strong></a>\n",
      "<a class=\"text-shrink\" href=\"javascript:;\" title=\"Make Text Smaller\">Smaller</a>\n",
      "<a class=\"text-grow\" href=\"javascript:;\" title=\"Make Text Larger\">Larger</a>\n",
      "<a class=\"text-reset\" href=\"javascript:;\" title=\"Reset any font size changes I have made\">Reset</a>\n",
      "<a class=\"action-trigger\" href=\"#\">Socialize</a>\n",
      "<a href=\"http://plus.google.com/+Python\"><span aria-hidden=\"true\" class=\"icon-google-plus\"></span>Google+</a>\n",
      "<a href=\"http://www.facebook.com/pythonlang?fref=ts\"><span aria-hidden=\"true\" class=\"icon-facebook\"></span>Facebook</a>\n",
      "<a href=\"http://twitter.com/ThePSF\"><span aria-hidden=\"true\" class=\"icon-twitter\"></span>Twitter</a>\n",
      "<a href=\"/community/irc/\"><span aria-hidden=\"true\" class=\"icon-freenode\"></span>Chat on IRC</a>\n",
      "<a href=\"/accounts/login/\" title=\"Sign Up or Sign In to Python.org\">Sign In</a>\n",
      "<a href=\"/accounts/signup/\">Sign Up / Register</a>\n",
      "<a href=\"/accounts/login/\">Sign In</a>\n",
      "<a class=\"\" href=\"/about/\" title=\"\">About</a>\n",
      "<a href=\"/about/apps/\" title=\"\">Applications</a>\n",
      "<a href=\"/about/quotes/\" title=\"\">Quotes</a>\n",
      "<a href=\"/about/gettingstarted/\" title=\"\">Getting Started</a>\n",
      "<a href=\"/about/help/\" title=\"\">Help</a>\n",
      "<a href=\"http://brochure.getpython.info/\" title=\"\">Python Brochure</a>\n",
      "<a class=\"\" href=\"/downloads/\" title=\"\">Downloads</a>\n",
      "<a href=\"/downloads/\" title=\"\">All releases</a>\n",
      "<a href=\"/downloads/source/\" title=\"\">Source code</a>\n",
      "<a href=\"/downloads/windows/\" title=\"\">Windows</a>\n",
      "<a href=\"/downloads/mac-osx/\" title=\"\">Mac OS X</a>\n",
      "<a href=\"/download/other/\" title=\"\">Other Platforms</a>\n",
      "<a href=\"https://docs.python.org/3/license.html\" title=\"\">License</a>\n",
      "<a href=\"/download/alternatives\" title=\"\">Alternative Implementations</a>\n",
      "<a class=\"\" href=\"/doc/\" title=\"\">Documentation</a>\n",
      "<a href=\"/doc/\" title=\"\">Docs</a>\n",
      "<a href=\"/doc/av\" title=\"\">Audio/Visual Talks</a>\n",
      "<a href=\"https://wiki.python.org/moin/BeginnersGuide\" title=\"\">Beginner's Guide</a>\n",
      "<a href=\"https://devguide.python.org/\" title=\"\">Developer's Guide</a>\n",
      "<a href=\"https://docs.python.org/faq/\" title=\"\">FAQ</a>\n",
      "<a href=\"http://wiki.python.org/moin/Languages\" title=\"\">Non-English Docs</a>\n",
      "<a href=\"http://python.org/dev/peps/\" title=\"\">PEP Index</a>\n",
      "<a href=\"https://wiki.python.org/moin/PythonBooks\" title=\"\">Python Books</a>\n",
      "<a href=\"/doc/essays/\" title=\"\">Python Essays</a>\n",
      "<a class=\"\" href=\"/community/\" title=\"\">Community</a>\n",
      "<a href=\"/community/diversity/\" title=\"\">Diversity</a>\n",
      "<a href=\"/community/lists/\" title=\"\">Mailing Lists</a>\n",
      "<a href=\"/community/irc/\" title=\"\">IRC</a>\n",
      "<a href=\"/community/forums/\" title=\"\">Forums</a>\n",
      "<a href=\"/community/workshops/\" title=\"\">Python Conferences</a>\n",
      "<a href=\"/community/sigs/\" title=\"\">Special Interest Groups</a>\n",
      "<a href=\"https://wiki.python.org/moin/\" title=\"\">Python Wiki</a>\n",
      "<a href=\"/community/logos/\" title=\"\">Python Logo</a>\n",
      "<a href=\"/community/merchandise/\" title=\"\">Merchandise</a>\n",
      "<a href=\"/community/awards\" title=\"\">Community Awards</a>\n",
      "<a href=\"https://www.python.org/psf/codeofconduct/\" title=\"\">Code of Conduct</a>\n",
      "<a class=\"\" href=\"/about/success/\" title=\"success-stories\">Success Stories</a>\n",
      "<a href=\"/about/success/#arts\" title=\"\">Arts</a>\n",
      "<a href=\"/about/success/#business\" title=\"\">Business</a>\n",
      "<a href=\"/about/success/#education\" title=\"\">Education</a>\n",
      "<a href=\"/about/success/#engineering\" title=\"\">Engineering</a>\n",
      "<a href=\"/about/success/#government\" title=\"\">Government</a>\n",
      "<a href=\"/about/success/#scientific\" title=\"\">Scientific</a>\n",
      "<a href=\"/about/success/#software-development\" title=\"\">Software Development</a>\n",
      "<a class=\"\" href=\"/blogs/\" title=\"News from around the Python world\">News</a>\n",
      "<a href=\"/blogs/\" title=\"Python Insider Blog Posts\">Python News</a>\n",
      "<a href=\"http://planetpython.org/\" title=\"Planet Python\">Community News</a>\n",
      "<a href=\"http://pyfound.blogspot.com/\" title=\"PSF Blog\">PSF News</a>\n",
      "<a href=\"http://pycon.blogspot.com/\" title=\"PyCon Blog\">PyCon News</a>\n",
      "<a class=\"\" href=\"/events/\" title=\"\">Events</a>\n",
      "<a href=\"/events/python-events\" title=\"\">Python Events</a>\n",
      "<a href=\"/events/python-user-group/\" title=\"\">User Group Events</a>\n",
      "<a href=\"/events/python-events/past/\" title=\"\">Python Events Archive</a>\n",
      "<a href=\"/events/python-user-group/past/\" title=\"\">User Group Events Archive</a>\n",
      "<a href=\"https://wiki.python.org/moin/PythonEventsCalendar#Submitting_an_Event\" title=\"\">Submit an Event</a>\n",
      "<a class=\"button prompt\" data-shell-container=\"#dive-into-python\" href=\"/shell/\" id=\"start-shell\">&gt;_\n",
      "                        <span class=\"message\">Launch Interactive Shell</span>\n",
      "                    </a>\n",
      "<a href=\"//docs.python.org/3/tutorial/controlflow.html#defining-functions\">More about defining functions in Python 3</a>\n",
      "<a href=\"//docs.python.org/3/tutorial/introduction.html#lists\">More about lists in Python 3</a>\n",
      "<a href=\"http://docs.python.org/3/tutorial/introduction.html#using-python-as-a-calculator\">More about simple math functions in Python 3</a>\n",
      "<a href=\"//docs.python.org/3/tutorial/\">Whet your appetite</a>\n",
      "<a href=\"//docs.python.org/3/tutorial/controlflow.html\">More control flow tools in Python 3</a>\n",
      "<a class=\"flex-active\">1</a>\n",
      "<a>2</a>\n",
      "<a>3</a>\n",
      "<a>4</a>\n",
      "<a>5</a>\n",
      "<a class=\"readmore\" href=\"/doc/\">Learn More</a>\n",
      "<a href=\"/about/gettingstarted/\">Start with our Beginner’s Guide</a>\n",
      "<a href=\"/downloads/release/python-370/\">Python 3.7.0</a>\n",
      "<a href=\"https://docs.python.org\">docs.python.org</a>\n",
      "<a href=\"//jobs.python.org\">jobs.python.org</a>\n",
      "<a href=\"http://blog.python.org\" title=\"More News\">More</a>\n",
      "<a href=\"http://feedproxy.google.com/~r/PythonInsider/~3/RMqgTQsV720/python-3.html\">Python 3.7.0 is now available (and so is 3.6.6)! On behalf of ...</a>\n",
      "<a href=\"http://feedproxy.google.com/~r/PythonInsider/~3/PuHgTVhNAAE/python-370rc1-and-366rc1-now-available.html\">Python 3.7.0rc1 and 3.6.6rc1 are now available. 3.7.0rc1 is the final planned release preview of Python 3.7, ...</a>\n",
      "<a href=\"http://feedproxy.google.com/~r/PythonInsider/~3/rPQiRIs2Qhg/python-370b5-bonus-beta-is-now.html\">A 3.7 update: Python 3.7.0b5 is now the final beta preview of Python 3.7, the ...</a>\n",
      "<a href=\"http://feedproxy.google.com/~r/PythonInsider/~3/vo7OgsISIdQ/python-370b4-final-37-beta-now.html\">Python 3.7.0b4 is the final beta preview of Python 3.7, the next feature release of ...</a>\n",
      "<a href=\"http://feedproxy.google.com/~r/PythonInsider/~3/BMstxEjkOt0/python-2715-released.html\">The bugfix release Python 2.7.15 is now available for download.</a>\n",
      "<a href=\"/events/calendars/\" title=\"More Events\">More</a>\n",
      "<a href=\"/events/python-user-group/731/\">Django Girls Barranquilla</a>\n",
      "<a href=\"/events/python-user-group/735/\">Django Girls Kampala</a>\n",
      "<a href=\"/events/python-events/730/\">PyCon Russia</a>\n",
      "<a href=\"/events/python-events/636/\">EuroPython 2018</a>\n",
      "<a href=\"/events/python-user-group/738/\">Python Minna: Building for the Web with Python</a>\n",
      "<a href=\"/success-stories/\" title=\"More Success Stories\">More</a>\n",
      "<a href=\"/success-stories/industrial-light-magic-runs-python/\">ILM runs a batch processing environment capable of modeling, rendering and compositing tens of thousands of motion picture frames per day. Thousands of machines running Linux, IRIX, Compaq Tru64, OS X, Solaris, and Windows join together to provide a production pipeline used by ~800 users daily. Speed of development is key, and Python was a faster way to code (and re-code) the programs that control this production pipeline.</a>\n",
      "<a href=\"/success-stories/industrial-light-magic-runs-python/\">Industrial Light &amp; Magic Runs on Python</a>\n",
      "<a href=\"/about/apps\" title=\"More Applications\">More</a>\n",
      "<a class=\"tag\" href=\"http://www.djangoproject.com/\">Django</a>\n",
      "<a class=\"tag\" href=\"http://www.pylonsproject.org/\">Pyramid</a>\n",
      "<a class=\"tag\" href=\"http://bottlepy.org\">Bottle</a>\n",
      "<a class=\"tag\" href=\"http://tornadoweb.org\">Tornado</a>\n",
      "<a class=\"tag\" href=\"http://flask.pocoo.org/\">Flask</a>\n",
      "<a class=\"tag\" href=\"http://www.web2py.com/\">web2py</a>\n",
      "<a class=\"tag\" href=\"http://wiki.python.org/moin/TkInter\">tkInter</a>\n",
      "<a class=\"tag\" href=\"https://wiki.gnome.org/Projects/PyGObject\">PyGObject</a>\n",
      "<a class=\"tag\" href=\"http://www.riverbankcomputing.co.uk/software/pyqt/intro\">PyQt</a>\n",
      "<a class=\"tag\" href=\"https://wiki.qt.io/PySide\">PySide</a>\n",
      "<a class=\"tag\" href=\"https://kivy.org/\">Kivy</a>\n",
      "<a class=\"tag\" href=\"http://www.wxpython.org/\">wxPython</a>\n",
      "<a class=\"tag\" href=\"http://www.scipy.org\">SciPy</a>\n",
      "<a class=\"tag\" href=\"http://pandas.pydata.org/\">Pandas</a>\n",
      "<a class=\"tag\" href=\"http://ipython.org\">IPython</a>\n",
      "<a class=\"tag\" href=\"http://buildbot.net/\">Buildbot</a>\n",
      "<a class=\"tag\" href=\"http://trac.edgewall.org/\">Trac</a>\n",
      "<a class=\"tag\" href=\"http://roundup.sourceforge.net/\">Roundup</a>\n",
      "<a class=\"tag\" href=\"http://www.ansible.com\">Ansible</a>\n",
      "<a class=\"tag\" href=\"http://www.saltstack.com\">Salt</a>\n",
      "<a class=\"tag\" href=\"https://www.openstack.org\">OpenStack</a>\n",
      "<a href=\"/dev/peps/\">Python Enhancement Proposals<span class=\"say-no-more\"> (PEPs)</span></a>\n",
      "<a aria-hidden=\"true\" class=\"rss-link\" href=\"/dev/peps/peps.rss\"><span class=\"icon-feed\"></span> RSS</a>\n",
      "<a href=\"/psf/\">Python Software Foundation</a>\n",
      "<a class=\"readmore\" href=\"/psf/\">Learn more</a>\n",
      "<a class=\"button\" href=\"/users/membership/\">Become a Member</a>\n",
      "<a class=\"button\" href=\"/psf/donations/\">Donate to the PSF</a>\n",
      "<a class=\"jump-link\" href=\"#python-network\" id=\"back-to-top-1\"><span aria-hidden=\"true\" class=\"icon-arrow-up\"><span>▲</span></span> Back to Top</a>\n",
      "<a href=\"/about/\">About</a>\n",
      "<a href=\"/about/apps/\" title=\"\">Applications</a>\n",
      "<a href=\"/about/quotes/\" title=\"\">Quotes</a>\n",
      "<a href=\"/about/gettingstarted/\" title=\"\">Getting Started</a>\n",
      "<a href=\"/about/help/\" title=\"\">Help</a>\n",
      "<a href=\"http://brochure.getpython.info/\" title=\"\">Python Brochure</a>\n",
      "<a href=\"/downloads/\">Downloads</a>\n",
      "<a href=\"/downloads/\" title=\"\">All releases</a>\n",
      "<a href=\"/downloads/source/\" title=\"\">Source code</a>\n",
      "<a href=\"/downloads/windows/\" title=\"\">Windows</a>\n",
      "<a href=\"/downloads/mac-osx/\" title=\"\">Mac OS X</a>\n",
      "<a href=\"/download/other/\" title=\"\">Other Platforms</a>\n",
      "<a href=\"https://docs.python.org/3/license.html\" title=\"\">License</a>\n",
      "<a href=\"/download/alternatives\" title=\"\">Alternative Implementations</a>\n",
      "<a href=\"/doc/\">Documentation</a>\n",
      "<a href=\"/doc/\" title=\"\">Docs</a>\n",
      "<a href=\"/doc/av\" title=\"\">Audio/Visual Talks</a>\n",
      "<a href=\"https://wiki.python.org/moin/BeginnersGuide\" title=\"\">Beginner's Guide</a>\n",
      "<a href=\"https://devguide.python.org/\" title=\"\">Developer's Guide</a>\n",
      "<a href=\"https://docs.python.org/faq/\" title=\"\">FAQ</a>\n",
      "<a href=\"http://wiki.python.org/moin/Languages\" title=\"\">Non-English Docs</a>\n",
      "<a href=\"http://python.org/dev/peps/\" title=\"\">PEP Index</a>\n",
      "<a href=\"https://wiki.python.org/moin/PythonBooks\" title=\"\">Python Books</a>\n",
      "<a href=\"/doc/essays/\" title=\"\">Python Essays</a>\n",
      "<a href=\"/community/\">Community</a>\n",
      "<a href=\"/community/diversity/\" title=\"\">Diversity</a>\n",
      "<a href=\"/community/lists/\" title=\"\">Mailing Lists</a>\n",
      "<a href=\"/community/irc/\" title=\"\">IRC</a>\n",
      "<a href=\"/community/forums/\" title=\"\">Forums</a>\n",
      "<a href=\"/community/workshops/\" title=\"\">Python Conferences</a>\n",
      "<a href=\"/community/sigs/\" title=\"\">Special Interest Groups</a>\n",
      "<a href=\"https://wiki.python.org/moin/\" title=\"\">Python Wiki</a>\n",
      "<a href=\"/community/logos/\" title=\"\">Python Logo</a>\n",
      "<a href=\"/community/merchandise/\" title=\"\">Merchandise</a>\n",
      "<a href=\"/community/awards\" title=\"\">Community Awards</a>\n",
      "<a href=\"https://www.python.org/psf/codeofconduct/\" title=\"\">Code of Conduct</a>\n",
      "<a href=\"/about/success/\" title=\"success-stories\">Success Stories</a>\n",
      "<a href=\"/about/success/#arts\" title=\"\">Arts</a>\n",
      "<a href=\"/about/success/#business\" title=\"\">Business</a>\n",
      "<a href=\"/about/success/#education\" title=\"\">Education</a>\n",
      "<a href=\"/about/success/#engineering\" title=\"\">Engineering</a>\n",
      "<a href=\"/about/success/#government\" title=\"\">Government</a>\n",
      "<a href=\"/about/success/#scientific\" title=\"\">Scientific</a>\n",
      "<a href=\"/about/success/#software-development\" title=\"\">Software Development</a>\n",
      "<a href=\"/blogs/\" title=\"News from around the Python world\">News</a>\n",
      "<a href=\"/blogs/\" title=\"Python Insider Blog Posts\">Python News</a>\n",
      "<a href=\"http://planetpython.org/\" title=\"Planet Python\">Community News</a>\n",
      "<a href=\"http://pyfound.blogspot.com/\" title=\"PSF Blog\">PSF News</a>\n",
      "<a href=\"http://pycon.blogspot.com/\" title=\"PyCon Blog\">PyCon News</a>\n",
      "<a href=\"/events/\">Events</a>\n",
      "<a href=\"/events/python-events\" title=\"\">Python Events</a>\n",
      "<a href=\"/events/python-user-group/\" title=\"\">User Group Events</a>\n",
      "<a href=\"/events/python-events/past/\" title=\"\">Python Events Archive</a>\n",
      "<a href=\"/events/python-user-group/past/\" title=\"\">User Group Events Archive</a>\n",
      "<a href=\"https://wiki.python.org/moin/PythonEventsCalendar#Submitting_an_Event\" title=\"\">Submit an Event</a>\n",
      "<a href=\"/dev/\">Contributing</a>\n",
      "<a href=\"https://devguide.python.org/\" title=\"\">Developer's Guide</a>\n",
      "<a href=\"https://bugs.python.org/\" title=\"\">Issue Tracker</a>\n",
      "<a href=\"https://mail.python.org/mailman/listinfo/python-dev\" title=\"\">python-dev list</a>\n",
      "<a href=\"/dev/core-mentorship/\" title=\"\">Core Mentorship</a>\n",
      "<a class=\"jump-link\" href=\"#python-network\" id=\"back-to-top-2\"><span aria-hidden=\"true\" class=\"icon-arrow-up\"><span>▲</span></span> Back to Top</a>\n",
      "<a href=\"/about/help/\">Help &amp; <span class=\"say-no-more\">General</span> Contact</a>\n",
      "<a href=\"/community/diversity/\">Diversity <span class=\"say-no-more\">Initiatives</span></a>\n",
      "<a href=\"https://github.com/python/pythondotorg/issues\">Submit Website Bug</a>\n",
      "<a href=\"https://status.python.org/\">Status <span class=\"python-status-indicator-default\" id=\"python-status-indicator\"></span></a>\n",
      "<a href=\"/psf-landing/\">Python Software Foundation</a>\n",
      "<a href=\"/about/legal/\">Legal Statements</a>\n",
      "<a href=\"/privacy/\">Privacy Policy</a>\n",
      "<a href=\"/psf/sponsorship/sponsors/\">Powered by Rackspace</a>\n"
     ]
    }
   ],
   "source": [
    "browser = webdriver.PhantomJS()\n",
    "browser.get(\"https://www.python.org/\")\n",
    "page = BeautifulSoup(browser.page_source,\"html5lib\")\n",
    " \n",
    "links = page.findAll(\"a\")\n",
    " \n",
    "for link in links:\n",
    " \n",
    "    print(link)\n",
    " \n",
    "browser.close()"
   ]
  },
  {
   "cell_type": "markdown",
   "metadata": {},
   "source": [
    "Get iframe content using Selenium"
   ]
  },
  {
   "cell_type": "code",
   "execution_count": 21,
   "metadata": {},
   "outputs": [
    {
     "name": "stderr",
     "output_type": "stream",
     "text": [
      "C:\\Users\\liamk\\Anaconda3\\lib\\site-packages\\selenium\\webdriver\\phantomjs\\webdriver.py:49: UserWarning: Selenium support for PhantomJS has been deprecated, please use headless versions of Chrome or Firefox instead\n",
      "  warnings.warn('Selenium support for PhantomJS has been deprecated, please use headless '\n"
     ]
    },
    {
     "name": "stdout",
     "output_type": "stream",
     "text": [
      "<!DOCTYPE html><html lang=\"en\"><head>\n",
      "    <meta charset=\"utf-8\">\n",
      "    <meta http-equiv=\"x-ua-compatible\" content=\"ie=edge\">\n",
      "    <title>HTML Demo: &lt;iframe&gt;</title>\n",
      "    <meta name=\"viewport\" content=\"width=device-width, initial-scale=1\">\n",
      "    <link href=\"../../css/codemirror-tabbed-5-31-0.css\" rel=\"stylesheet\">\n",
      "    <link href=\"../../css/tabbed-editor.css\" rel=\"stylesheet\">\n",
      "    <script>\"use strict\";function postToKuma(e){window.parent.postMessage(e,\"https://developer.mozilla.org\")}postToKuma({markName:\"interactive-editor-loading\"}),document.addEventListener(\"readystatechange\",function(e){switch(e.target.readyState){case\"interactive\":postToKuma({markName:\"interactive-editor-interactive\",measureName:\"ie-time-to-interactive\",startMark:\"interactive-editor-loading\",endMark:\"interactive-editor-interactive\"});break;case\"complete\":postToKuma({markName:\"interactive-editor-complete\",measureName:\"ie-time-to-complete\",startMark:\"interactive-editor-loading\",endMark:\"interactive-editor-complete\"})}});</script>\n",
      "  </head>\n",
      "  <body>\n",
      "      <header class=\"output-header hidden\">\n",
      "        <h4>HTML Demo: &lt;iframe&gt;</h4>\n",
      "        <button id=\"reset\" class=\"reset\" type=\"button\">Reset</button>\n",
      "      </header>\n",
      "      <div id=\"editor-container\" class=\"editor-container tabbed-standard\">\n",
      "          <section id=\"tab-container\" class=\"tabs\">\n",
      "              <div id=\"tablist\" role=\"tablist\">\n",
      "                  <button role=\"tab\" aria-selected=\"true\" aria-controls=\"html-panel\" id=\"html\">\n",
      "                      HTML\n",
      "                  </button>\n",
      "                  <button role=\"tab\" aria-selected=\"false\" aria-controls=\"css-panel\" id=\"css\" tabindex=\"-1\">\n",
      "                      CSS\n",
      "                  </button>\n",
      "              </div>\n",
      "              <section id=\"html-panel\" tabindex=\"0\" role=\"tabpanel\" aria-labelledby=\"html\">\n",
      "<div id=\"html-editor\"><pre><code>&lt;iframe id=\"inlineFrameExample\"\n",
      "    title=\"Inline Frame Example\"\n",
      "    width=\"300\"\n",
      "    height=\"200\"\n",
      "    src=\"https://www.openstreetmap.org/export/embed.html?bbox=-0.004017949104309083%2C51.47612752641776%2C0.00030577182769775396%2C51.478569861898606&amp;layer=mapnik\"&gt;\n",
      "&lt;/iframe&gt;\n",
      "</code></pre></div>\n",
      "              </section>\n",
      "              <section id=\"css-panel\" tabindex=\"0\" role=\"tabpanel\" aria-labelledby=\"css\" class=\"hidden\">\n",
      "<div id=\"css-editor\"><pre><code>iframe {\n",
      "    border: 1px solid black;\n",
      "    width: 100%;\n",
      "}\n",
      "\n",
      ".output {\n",
      "    background: #eee;\n",
      "}\n",
      "</code></pre></div>\n",
      "              </section>\n",
      "          </section>\n",
      "          <h4 class=\"output-label\">Output</h4>\n",
      "          <div id=\"output\" class=\"shadow-container\">\n",
      "              <shadow-output></shadow-output>\n",
      "          </div>\n",
      "      </div>\n",
      "\n",
      "    \n",
      "\n",
      "    <script src=\"../../js/codemirror-tabbed-5-31-0.js\"></script>\n",
      "    <script src=\"../../js/tabbed-editor.js\"></script>\n",
      "  \n",
      "\n",
      "</body></html>\n",
      "https://interactive-examples.mdn.mozilla.net/pages/tabbed/iframe.html\n"
     ]
    }
   ],
   "source": [
    "browser = webdriver.PhantomJS()\n",
    "browser.get(\"https://developer.mozilla.org/en-US/docs/Web/HTML/Element/iframe\")\n",
    "iframe = browser.find_element_by_tag_name(\"iframe\")\n",
    "browser.switch_to.default_content()\n",
    "browser.switch_to.frame(iframe)\n",
    "iframe_source = browser.page_source\n",
    "print(iframe_source)\n",
    "print(browser.current_url)"
   ]
  },
  {
   "cell_type": "markdown",
   "metadata": {},
   "source": [
    "Get iframe content using Beautiful Soup"
   ]
  },
  {
   "cell_type": "code",
   "execution_count": 23,
   "metadata": {},
   "outputs": [
    {
     "name": "stdout",
     "output_type": "stream",
     "text": [
      "https://interactive-examples.mdn.mozilla.net/pages/tabbed/iframe.html\n"
     ]
    }
   ],
   "source": [
    "html = urlopen(\"https://developer.mozilla.org/en-US/docs/Web/HTML/Element/iframe\")\n",
    "res = BeautifulSoup(html.read(), 'html5lib')\n",
    "tag = res.find(\"iframe\")\n",
    "print(tag['src'])"
   ]
  },
  {
   "cell_type": "markdown",
   "metadata": {},
   "source": [
    "Handle Ajax Calls Using (Selenium+ PhantomJS)"
   ]
  },
  {
   "cell_type": "code",
   "execution_count": 24,
   "metadata": {},
   "outputs": [],
   "source": [
    "import time"
   ]
  },
  {
   "cell_type": "code",
   "execution_count": 30,
   "metadata": {},
   "outputs": [
    {
     "name": "stderr",
     "output_type": "stream",
     "text": [
      "C:\\Users\\liamk\\Anaconda3\\lib\\site-packages\\selenium\\webdriver\\phantomjs\\webdriver.py:49: UserWarning: Selenium support for PhantomJS has been deprecated, please use headless versions of Chrome or Firefox instead\n",
      "  warnings.warn('Selenium support for PhantomJS has been deprecated, please use headless '\n"
     ]
    }
   ],
   "source": [
    "browser = webdriver.PhantomJS()\n",
    "browser.get(\"https://www.w3schools.com/xml/ajax_intro.asp\")"
   ]
  },
  {
   "cell_type": "code",
   "execution_count": 31,
   "metadata": {},
   "outputs": [],
   "source": [
    "browser.find_element_by_tag_name(\"button\").click()\n",
    "time.sleep(2)\n",
    "browser.get_screenshot_as_file(\"image.png\")\n",
    "browser.close()"
   ]
  },
  {
   "cell_type": "code",
   "execution_count": 32,
   "metadata": {},
   "outputs": [],
   "source": [
    "from selenium.webdriver.common.by import By\n",
    "from selenium.webdriver.support.ui import WebDriverWait\n",
    "from selenium.webdriver.support import expected_conditions as EC"
   ]
  },
  {
   "cell_type": "code",
   "execution_count": 33,
   "metadata": {},
   "outputs": [
    {
     "name": "stderr",
     "output_type": "stream",
     "text": [
      "C:\\Users\\liamk\\Anaconda3\\lib\\site-packages\\selenium\\webdriver\\phantomjs\\webdriver.py:49: UserWarning: Selenium support for PhantomJS has been deprecated, please use headless versions of Chrome or Firefox instead\n",
      "  warnings.warn('Selenium support for PhantomJS has been deprecated, please use headless '\n"
     ]
    }
   ],
   "source": [
    "browser = webdriver.PhantomJS()\n",
    "browser.get(\"https://resttesttest.com/\")\n",
    "browser.find_element_by_id(\"submitajax\").click()\n",
    "\n",
    "try:\n",
    "    element = WebDriverWait(browser, 10).until(EC.text_to_be_present_in_element((By.ID, \"statuspre\"),\"HTTP 200 OK\"))\n",
    "finally:\n",
    "    browser.get_screenshot_as_file(\"image.png\")\n",
    "browser.close()"
   ]
  },
  {
   "cell_type": "markdown",
   "metadata": {},
   "source": [
    "Handling & deleting cookies"
   ]
  },
  {
   "cell_type": "code",
   "execution_count": 35,
   "metadata": {},
   "outputs": [
    {
     "name": "stderr",
     "output_type": "stream",
     "text": [
      "C:\\Users\\liamk\\Anaconda3\\lib\\site-packages\\selenium\\webdriver\\phantomjs\\webdriver.py:49: UserWarning: Selenium support for PhantomJS has been deprecated, please use headless versions of Chrome or Firefox instead\n",
      "  warnings.warn('Selenium support for PhantomJS has been deprecated, please use headless '\n"
     ]
    },
    {
     "name": "stdout",
     "output_type": "stream",
     "text": [
      "[{'domain': 'likegeeks.com', 'expires': 'Tue, 10 Jul 2018 10:47:28 GMT', 'expiry': 1531219648, 'httponly': False, 'name': 'pll_language', 'path': '/', 'secure': False, 'value': 'en'}, {'domain': '.likegeeks.com', 'expires': 'Wed, 10 Jul 2019 02:01:52 GMT', 'expiry': 1562724112, 'httponly': True, 'name': '__cfduid', 'path': '/', 'secure': True, 'value': 'dde31ac03ad6957197c0c3b5a5830aefd1531188112'}]\n"
     ]
    }
   ],
   "source": [
    "browser = webdriver.PhantomJS()\n",
    "browser.get(\"https://likegeeks.com/\")\n",
    "print(browser.get_cookies())"
   ]
  },
  {
   "cell_type": "code",
   "execution_count": 36,
   "metadata": {},
   "outputs": [
    {
     "name": "stderr",
     "output_type": "stream",
     "text": [
      "C:\\Users\\liamk\\Anaconda3\\lib\\site-packages\\selenium\\webdriver\\phantomjs\\webdriver.py:49: UserWarning: Selenium support for PhantomJS has been deprecated, please use headless versions of Chrome or Firefox instead\n",
      "  warnings.warn('Selenium support for PhantomJS has been deprecated, please use headless '\n"
     ]
    }
   ],
   "source": [
    "browser = webdriver.PhantomJS()\n",
    "browser.get(\"https://likegeeks.com/\")\n",
    "browser.delete_all_cookies()"
   ]
  },
  {
   "cell_type": "markdown",
   "metadata": {},
   "source": [
    "Running headless Chrome with Selenium "
   ]
  },
  {
   "cell_type": "code",
   "execution_count": 39,
   "metadata": {},
   "outputs": [],
   "source": [
    "from selenium.webdriver.chrome.options import Options\n",
    "import os"
   ]
  },
  {
   "cell_type": "code",
   "execution_count": 40,
   "metadata": {},
   "outputs": [],
   "source": [
    "chrome_options = Options()\n",
    "chrome_options.add_argument(\"--headless\")\n",
    "chrome_options.add_argument(\"--window-size=1920x1080\")"
   ]
  },
  {
   "cell_type": "code",
   "execution_count": 50,
   "metadata": {},
   "outputs": [
    {
     "data": {
      "text/plain": [
       "True"
      ]
     },
     "execution_count": 50,
     "metadata": {},
     "output_type": "execute_result"
    }
   ],
   "source": [
    "driver = webdriver.Chrome(chrome_options=chrome_options)\n",
    "driver.get(\"https://www.google.com\")\n",
    "lucky_button = driver.find_element_by_css_selector(\"[name=btnI]\")\n",
    "lucky_button.click()\n",
    "\n",
    "driver.get_screenshot_as_file(\"capture.png\")"
   ]
  },
  {
   "cell_type": "code",
   "execution_count": null,
   "metadata": {},
   "outputs": [],
   "source": []
  }
 ],
 "metadata": {
  "kernelspec": {
   "display_name": "Python 3",
   "language": "python",
   "name": "python3"
  },
  "language_info": {
   "codemirror_mode": {
    "name": "ipython",
    "version": 3
   },
   "file_extension": ".py",
   "mimetype": "text/x-python",
   "name": "python",
   "nbconvert_exporter": "python",
   "pygments_lexer": "ipython3",
   "version": "3.6.4"
  }
 },
 "nbformat": 4,
 "nbformat_minor": 2
}
