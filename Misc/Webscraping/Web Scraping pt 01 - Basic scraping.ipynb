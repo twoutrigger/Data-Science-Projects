{
 "cells": [
  {
   "cell_type": "code",
   "execution_count": 1,
   "metadata": {},
   "outputs": [],
   "source": [
    "# In this notebook:\n",
    "\n",
    "# scrape text and image from blog\n",
    "# scrape comment section"
   ]
  },
  {
   "cell_type": "code",
   "execution_count": 2,
   "metadata": {},
   "outputs": [],
   "source": [
    "from bs4 import BeautifulSoup\n",
    "from urllib.request import urlopen\n",
    "import re"
   ]
  },
  {
   "cell_type": "markdown",
   "metadata": {},
   "source": [
    "## General blog scraping"
   ]
  },
  {
   "cell_type": "code",
   "execution_count": 3,
   "metadata": {},
   "outputs": [],
   "source": [
    "blog_url = 'https://tim.blog/'\n",
    "html = urlopen(blog_url)\n",
    "res = BeautifulSoup(html.read(),'html5lib')\n",
    "# scrape Tim Ferriss' blog"
   ]
  },
  {
   "cell_type": "code",
   "execution_count": 4,
   "metadata": {},
   "outputs": [
    {
     "name": "stdout",
     "output_type": "stream",
     "text": [
      "The Blog of Author Tim Ferriss | Tim Ferriss's 4-Hour Workweek and Lifestyle Design Blog\n"
     ]
    }
   ],
   "source": [
    "if res.title == None:\n",
    "    print('No title found')\n",
    "else:\n",
    "    print(res.title.getText())"
   ]
  },
  {
   "cell_type": "code",
   "execution_count": 5,
   "metadata": {},
   "outputs": [
    {
     "name": "stdout",
     "output_type": "stream",
     "text": [
      "The 25 Most-Clicked Links from My Newsletter in 2018\n",
      "Greg McKeown — How to Master Essentialism (#355)\n",
      "Forget New Year’s Resolutions and Conduct a ‘Past Year Review’ Instead\n",
      "How to Generate 8-Figure Revenue at Age 21 (Or Any Age) — Real 4-Hour Workweek Case Studies (#354)\n",
      "Patrick Collison — CEO of Stripe (#353)\n",
      "Dr. Peter Attia vs. Tim Ferriss (#352)\n",
      "Real 4-Hour Workweek Case Studies — Allen Walton and SpyGuy, The Path to Seven Figures (#351)\n"
     ]
    }
   ],
   "source": [
    "tags = res.findAll('h1', {'class':'entry-title'})\n",
    "\n",
    "for tag in tags:\n",
    "    print(tag.getText())\n",
    "# we see that it stops at 351; 350 and on require loading... will have to improve on this"
   ]
  },
  {
   "cell_type": "code",
   "execution_count": 6,
   "metadata": {},
   "outputs": [
    {
     "name": "stdout",
     "output_type": "stream",
     "text": [
      "8 Comments\n",
      "42 Comments\n",
      "46 Comments\n",
      "38 Comments\n",
      "22 Comments\n",
      "48 Comments\n",
      "15 Comments\n"
     ]
    }
   ],
   "source": [
    "tags = res.findAll('span', {'class':'comments-link'})\n",
    "\n",
    "for tag in tags:\n",
    "    print(tag.getText())\n",
    "# we see that it stops at 351; 350 and on require loading... will have to see how to engage this"
   ]
  },
  {
   "cell_type": "code",
   "execution_count": 7,
   "metadata": {},
   "outputs": [
    {
     "name": "stdout",
     "output_type": "stream",
     "text": [
      "9837\n",
      "3196\n",
      "1877\n",
      "4202\n",
      "3484\n",
      "5676\n",
      "4426\n"
     ]
    }
   ],
   "source": [
    "tags = res.findAll('div', {'class':'entry-content'})\n",
    "\n",
    "for tag in tags:\n",
    "    print(len(tag.getText()))\n",
    "# article length"
   ]
  },
  {
   "cell_type": "code",
   "execution_count": 8,
   "metadata": {},
   "outputs": [
    {
     "name": "stdout",
     "output_type": "stream",
     "text": [
      "5-Bullet Friday\n",
      "https://go.tim.blog/5-bullet-friday-1/\n",
      "you can subscribe to 5-Bullet Friday here\n",
      "https://go.tim.blog/5-bullet-friday-1/\n",
      "a 40×30 print of this\n",
      "https://www.instagram.com/p/BeRfamHFkPa/?taken-by=timferriss\n",
      "On Needing to Find Something to Worry About\n",
      "https://www.theschooloflife.com/thebookoflife/on-needing-to-find-something-to-worry-about/\n",
      "Taming the Mammoth: Why You Should Stop Caring What Other People Think\n",
      "https://waitbutwhy.com/2014/06/taming-mammoth-let-peoples-opinions-run-life.html\n"
     ]
    }
   ],
   "source": [
    "tags = res.find('div', {'class':'entry-content'})\n",
    "tags = tags.findAll('a', {'href':re.compile(\"https*\")})[:5]\n",
    "\n",
    "for tag in tags:\n",
    "    print(tag.text)\n",
    "    print(tag.get('href'))\n",
    "# first 10 urls and their description"
   ]
  },
  {
   "cell_type": "markdown",
   "metadata": {},
   "source": [
    "## Comment scraping"
   ]
  },
  {
   "cell_type": "code",
   "execution_count": 9,
   "metadata": {},
   "outputs": [],
   "source": [
    "comment_url = 'https://tim.blog/2019/01/09/greg-mckeown-essentialism/#comments'\n",
    "html = urlopen(comment_url)\n",
    "res = BeautifulSoup(html.read(),'html5lib')"
   ]
  },
  {
   "cell_type": "code",
   "execution_count": 10,
   "metadata": {},
   "outputs": [
    {
     "name": "stdout",
     "output_type": "stream",
     "text": [
      "Ben\n",
      "\n",
      "\t\t\t\t\tThis is the most important book I’ve ever read, especially for one lesson:\n",
      "Everything is a tradeoff, and you’re lying to yourself if you think you can have it all. I told this lie to myself many times, and I catch myself still doing it. “Oh I’m gonna get in shape, have a great family, get promoted, start a business, learn piano, etc.”\n",
      "LikeLiked by 2 people\n",
      "\t\t\t\t\n",
      "brandonmoody\n",
      "\n",
      "\t\t\t\t\tThis light of this podcast interrupted my first personal deep dive session into spiral dynamics and systems thinking at an interesting time, at an interesting point in the video I was watching. I believe in these powerful moments, so I interrupted my video to listen to this and it was the answer I was looking to and affirmed the beauty and truth of people who are trying to live in the yellow level. I deeply believe now that yellow level thinking and being will change the world, change my world,and I will be transforming my dramatically increasing thinking about stoicism, spiral dynamics and essentialism into real action. Thanks again Tim. It’s not only incalculable what good you do, but what good you do when you do it. My feelings of courage, responsibility to myself and possibility have just gone through the roof, and it feels like a large weight has been lifted off my heart.\n",
      "LikeLiked by 2 people\n",
      "\t\t\t\t\n",
      "brandonmoody\n",
      "\n",
      "\t\t\t\t\tone of my favorite ideas that brought it together was “who we are is our ability to choose.” But really the idea that we can’t just take that away, that it’s what’s makes us who we are as humans. It’s always been a great thing to think about since Stephen Covey, the First habit, but to ad the “because” part to my choices at that level was huge for me.\n",
      "LikeLiked by 1 person\n",
      "\t\t\t\t\n"
     ]
    }
   ],
   "source": [
    "tags = res.findAll('article', {'class': 'comment-body'})[:3]\n",
    "\n",
    "for tag in tags:\n",
    "    author = tag.find('cite', {'class':'fn'})\n",
    "    comment = tag.find('div', {'class':'comment-content'})\n",
    "    print(author.getText())\n",
    "    print(comment.getText())\n",
    "# first 3 commenters names and comments"
   ]
  },
  {
   "cell_type": "markdown",
   "metadata": {},
   "source": [
    "## Image scraping"
   ]
  },
  {
   "cell_type": "code",
   "execution_count": 11,
   "metadata": {},
   "outputs": [],
   "source": [
    "import matplotlib.pyplot as plt\n",
    "from PIL import Image\n",
    "import cv2"
   ]
  },
  {
   "cell_type": "code",
   "execution_count": 12,
   "metadata": {},
   "outputs": [
    {
     "data": {
      "image/png": "[encoded data removed]",
      "text/plain": [
       "<PIL.PngImagePlugin.PngImageFile image mode=RGBA size=64x64 at 0x1FFE3C73320>"
      ]
     },
     "execution_count": 12,
     "metadata": {},
     "output_type": "execute_result"
    }
   ],
   "source": [
    "tag = res.find('article', {'class': 'comment-body'})\n",
    "tag = tag.find('img', {'src':re.compile(\"https://*\")})\n",
    "img_url = tag.attrs['src']\n",
    "img = Image.open(urlopen(img_url))\n",
    "\n",
    "img"
   ]
  },
  {
   "cell_type": "code",
   "execution_count": 13,
   "metadata": {},
   "outputs": [],
   "source": [
    "# this concludes pt 01"
   ]
  },
  {
   "cell_type": "code",
   "execution_count": null,
   "metadata": {},
   "outputs": [],
   "source": []
  }
 ],
 "metadata": {
  "kernelspec": {
   "display_name": "Python 3",
   "language": "python",
   "name": "python3"
  },
  "language_info": {
   "codemirror_mode": {
    "name": "ipython",
    "version": 3
   },
   "file_extension": ".py",
   "mimetype": "text/x-python",
   "name": "python",
   "nbconvert_exporter": "python",
   "pygments_lexer": "ipython3",
   "version": "3.7.3"
  }
 },
 "nbformat": 4,
 "nbformat_minor": 2
}
