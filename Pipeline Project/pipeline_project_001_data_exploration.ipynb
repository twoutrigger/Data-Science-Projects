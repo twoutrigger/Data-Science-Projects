{
 "cells": [
  {
   "cell_type": "code",
   "execution_count": null,
   "id": "6472f525",
   "metadata": {},
   "outputs": [],
   "source": [
    "## Purpose of script:\n",
    "#### Data exploration of City of Philadelphia's open data"
   ]
  },
  {
   "cell_type": "code",
   "execution_count": 8,
   "id": "a88706b0",
   "metadata": {},
   "outputs": [],
   "source": [
    "import numpy as np\n",
    "import pandas as pd\n",
    "import passyunk"
   ]
  },
  {
   "cell_type": "code",
   "execution_count": 2,
   "id": "b5471b4a",
   "metadata": {},
   "outputs": [
    {
     "name": "stderr",
     "output_type": "stream",
     "text": [
      "C:\\Users\\liamk\\AppData\\Local\\Temp\\ipykernel_28148\\3141306323.py:1: DtypeWarning: Columns (4,12,21,25,54,67,69,76) have mixed types. Specify dtype option on import or set low_memory=False.\n",
      "  prop_orig = pd.read_csv('../../../Large_Datasets/opa_properties_public.csv', header=0)\n"
     ]
    },
    {
     "name": "stdout",
     "output_type": "stream",
     "text": [
      "(582108, 80)\n"
     ]
    },
    {
     "data": {
      "text/html": [
       "<div>\n",
       "<style scoped>\n",
       "    .dataframe tbody tr th:only-of-type {\n",
       "        vertical-align: middle;\n",
       "    }\n",
       "\n",
       "    .dataframe tbody tr th {\n",
       "        vertical-align: top;\n",
       "    }\n",
       "\n",
       "    .dataframe thead th {\n",
       "        text-align: right;\n",
       "    }\n",
       "</style>\n",
       "<table border=\"1\" class=\"dataframe\">\n",
       "  <thead>\n",
       "    <tr style=\"text-align: right;\">\n",
       "      <th></th>\n",
       "      <th>objectid</th>\n",
       "      <th>assessment_date</th>\n",
       "      <th>basements</th>\n",
       "      <th>beginning_point</th>\n",
       "      <th>book_and_page</th>\n",
       "      <th>building_code</th>\n",
       "      <th>building_code_description</th>\n",
       "      <th>category_code</th>\n",
       "      <th>category_code_description</th>\n",
       "      <th>census_tract</th>\n",
       "      <th>...</th>\n",
       "      <th>view_type</th>\n",
       "      <th>year_built</th>\n",
       "      <th>year_built_estimate</th>\n",
       "      <th>zip_code</th>\n",
       "      <th>zoning</th>\n",
       "      <th>pin</th>\n",
       "      <th>building_code_new</th>\n",
       "      <th>building_code_description_new</th>\n",
       "      <th>lat</th>\n",
       "      <th>lng</th>\n",
       "    </tr>\n",
       "  </thead>\n",
       "  <tbody>\n",
       "    <tr>\n",
       "      <th>0</th>\n",
       "      <td>270025022</td>\n",
       "      <td>2022-04-27 11:50:34</td>\n",
       "      <td>NaN</td>\n",
       "      <td>124'9 1/2\" E GERMANTN</td>\n",
       "      <td>NaN</td>\n",
       "      <td>SC</td>\n",
       "      <td>VACANT LAND COMMER &lt; ACRE</td>\n",
       "      <td>6</td>\n",
       "      <td>VACANT LAND</td>\n",
       "      <td>175.0</td>\n",
       "      <td>...</td>\n",
       "      <td>I</td>\n",
       "      <td>NaN</td>\n",
       "      <td>NaN</td>\n",
       "      <td>19133.0</td>\n",
       "      <td>CMX2</td>\n",
       "      <td>1001489682</td>\n",
       "      <td>NaN</td>\n",
       "      <td>NaN</td>\n",
       "      <td>-75.146849</td>\n",
       "      <td>39.994767</td>\n",
       "    </tr>\n",
       "    <tr>\n",
       "      <th>1</th>\n",
       "      <td>270025023</td>\n",
       "      <td>2022-04-27 11:50:37</td>\n",
       "      <td>NaN</td>\n",
       "      <td>175' N CLIFFORD ST</td>\n",
       "      <td>NaN</td>\n",
       "      <td>SR</td>\n",
       "      <td>VACANT LAND RESIDE &lt; ACRE</td>\n",
       "      <td>6</td>\n",
       "      <td>VACANT LAND</td>\n",
       "      <td>149.0</td>\n",
       "      <td>...</td>\n",
       "      <td>I</td>\n",
       "      <td>NaN</td>\n",
       "      <td>NaN</td>\n",
       "      <td>19121.0</td>\n",
       "      <td>RSA5</td>\n",
       "      <td>1001648434</td>\n",
       "      <td>NaN</td>\n",
       "      <td>NaN</td>\n",
       "      <td>-75.184591</td>\n",
       "      <td>39.983481</td>\n",
       "    </tr>\n",
       "  </tbody>\n",
       "</table>\n",
       "<p>2 rows × 80 columns</p>\n",
       "</div>"
      ],
      "text/plain": [
       "    objectid      assessment_date basements        beginning_point  \\\n",
       "0  270025022  2022-04-27 11:50:34       NaN  124'9 1/2\" E GERMANTN   \n",
       "1  270025023  2022-04-27 11:50:37       NaN     175' N CLIFFORD ST   \n",
       "\n",
       "  book_and_page building_code  building_code_description  category_code  \\\n",
       "0           NaN         SC     VACANT LAND COMMER < ACRE              6   \n",
       "1           NaN         SR     VACANT LAND RESIDE < ACRE              6   \n",
       "\n",
       "  category_code_description  census_tract  ... view_type  year_built  \\\n",
       "0               VACANT LAND         175.0  ...         I         NaN   \n",
       "1               VACANT LAND         149.0  ...         I         NaN   \n",
       "\n",
       "  year_built_estimate  zip_code  zoning         pin  building_code_new  \\\n",
       "0                 NaN   19133.0    CMX2  1001489682                NaN   \n",
       "1                 NaN   19121.0    RSA5  1001648434                NaN   \n",
       "\n",
       "   building_code_description_new        lat        lng  \n",
       "0                            NaN -75.146849  39.994767  \n",
       "1                            NaN -75.184591  39.983481  \n",
       "\n",
       "[2 rows x 80 columns]"
      ]
     },
     "execution_count": 2,
     "metadata": {},
     "output_type": "execute_result"
    }
   ],
   "source": [
    "prop_orig = pd.read_csv('../../../Large_Datasets/opa_properties_public.csv', header=0)\n",
    "\n",
    "print(prop_orig.shape)\n",
    "prop_orig.head(2)"
   ]
  },
  {
   "cell_type": "code",
   "execution_count": 3,
   "id": "09727a1f",
   "metadata": {},
   "outputs": [
    {
     "name": "stderr",
     "output_type": "stream",
     "text": [
      "C:\\Users\\liamk\\AppData\\Local\\Temp\\ipykernel_28148\\3018192716.py:1: DtypeWarning: Columns (4,22,26,28,29,30,31,32,33,34,35,36,37) have mixed types. Specify dtype option on import or set low_memory=False.\n",
      "  parcel_orig = pd.read_csv('../../../Large_Datasets/DOR_Parcel.csv', header=0)\n"
     ]
    },
    {
     "name": "stdout",
     "output_type": "stream",
     "text": [
      "(606681, 40)\n"
     ]
    },
    {
     "data": {
      "text/html": [
       "<div>\n",
       "<style scoped>\n",
       "    .dataframe tbody tr th:only-of-type {\n",
       "        vertical-align: middle;\n",
       "    }\n",
       "\n",
       "    .dataframe tbody tr th {\n",
       "        vertical-align: top;\n",
       "    }\n",
       "\n",
       "    .dataframe thead th {\n",
       "        text-align: right;\n",
       "    }\n",
       "</style>\n",
       "<table border=\"1\" class=\"dataframe\">\n",
       "  <thead>\n",
       "    <tr style=\"text-align: right;\">\n",
       "      <th></th>\n",
       "      <th>OBJECTID</th>\n",
       "      <th>RECSUB</th>\n",
       "      <th>BASEREG</th>\n",
       "      <th>MAPREG</th>\n",
       "      <th>PARCEL</th>\n",
       "      <th>RECMAP</th>\n",
       "      <th>STCOD</th>\n",
       "      <th>HOUSE</th>\n",
       "      <th>SUF</th>\n",
       "      <th>UNIT</th>\n",
       "      <th>...</th>\n",
       "      <th>STEX_FRAC</th>\n",
       "      <th>STEX_SUF</th>\n",
       "      <th>SEPARATED_RIGHTS</th>\n",
       "      <th>MUNIMENT_TYPE</th>\n",
       "      <th>MUNIMENT_ID</th>\n",
       "      <th>DOR_REVIEW</th>\n",
       "      <th>OPA_REVIEW</th>\n",
       "      <th>PWD_REVIEW</th>\n",
       "      <th>Shape__Area</th>\n",
       "      <th>Shape__Length</th>\n",
       "    </tr>\n",
       "  </thead>\n",
       "  <tbody>\n",
       "    <tr>\n",
       "      <th>0</th>\n",
       "      <td>1</td>\n",
       "      <td></td>\n",
       "      <td>138N140298</td>\n",
       "      <td>138N140298</td>\n",
       "      <td>298</td>\n",
       "      <td>138N14</td>\n",
       "      <td>18960.0</td>\n",
       "      <td>3445.0</td>\n",
       "      <td>NaN</td>\n",
       "      <td>NaN</td>\n",
       "      <td>...</td>\n",
       "      <td>NaN</td>\n",
       "      <td>NaN</td>\n",
       "      <td>NaN</td>\n",
       "      <td>NaN</td>\n",
       "      <td>NaN</td>\n",
       "      <td>NaN</td>\n",
       "      <td>NaN</td>\n",
       "      <td>NaN</td>\n",
       "      <td>246.328125</td>\n",
       "      <td>95.574360</td>\n",
       "    </tr>\n",
       "    <tr>\n",
       "      <th>1</th>\n",
       "      <td>2</td>\n",
       "      <td></td>\n",
       "      <td>054N080218</td>\n",
       "      <td>054N080218</td>\n",
       "      <td>218</td>\n",
       "      <td>054N08</td>\n",
       "      <td>19000.0</td>\n",
       "      <td>286.0</td>\n",
       "      <td>NaN</td>\n",
       "      <td>NaN</td>\n",
       "      <td>...</td>\n",
       "      <td>NaN</td>\n",
       "      <td>NaN</td>\n",
       "      <td>NaN</td>\n",
       "      <td>NaN</td>\n",
       "      <td>NaN</td>\n",
       "      <td>NaN</td>\n",
       "      <td>NaN</td>\n",
       "      <td>NaN</td>\n",
       "      <td>310.527344</td>\n",
       "      <td>103.266384</td>\n",
       "    </tr>\n",
       "  </tbody>\n",
       "</table>\n",
       "<p>2 rows × 40 columns</p>\n",
       "</div>"
      ],
      "text/plain": [
       "   OBJECTID RECSUB     BASEREG      MAPREG PARCEL  RECMAP    STCOD   HOUSE  \\\n",
       "0         1         138N140298  138N140298    298  138N14  18960.0  3445.0   \n",
       "1         2         054N080218  054N080218    218  054N08  19000.0   286.0   \n",
       "\n",
       "   SUF UNIT  ...  STEX_FRAC STEX_SUF SEPARATED_RIGHTS MUNIMENT_TYPE  \\\n",
       "0  NaN  NaN  ...        NaN      NaN              NaN           NaN   \n",
       "1  NaN  NaN  ...        NaN      NaN              NaN           NaN   \n",
       "\n",
       "  MUNIMENT_ID  DOR_REVIEW  OPA_REVIEW PWD_REVIEW Shape__Area Shape__Length  \n",
       "0         NaN         NaN         NaN        NaN  246.328125     95.574360  \n",
       "1         NaN         NaN         NaN        NaN  310.527344    103.266384  \n",
       "\n",
       "[2 rows x 40 columns]"
      ]
     },
     "execution_count": 3,
     "metadata": {},
     "output_type": "execute_result"
    }
   ],
   "source": [
    "parcel_orig = pd.read_csv('../../../Large_Datasets/DOR_Parcel.csv', header=0)\n",
    "\n",
    "print(parcel_orig.shape)\n",
    "parcel_orig.head(2)"
   ]
  },
  {
   "cell_type": "code",
   "execution_count": 4,
   "id": "f36482de",
   "metadata": {},
   "outputs": [
    {
     "data": {
      "text/plain": [
       "1    570702\n",
       "2     30899\n",
       "3      4125\n",
       "9       945\n",
       "4         5\n",
       "5         5\n",
       "Name: STATUS, dtype: int64"
      ]
     },
     "execution_count": 4,
     "metadata": {},
     "output_type": "execute_result"
    }
   ],
   "source": [
    "## Only use active DOR parcels, which can be identified by having a status value of 1 or 3\n",
    "parcel_orig.STATUS.value_counts()"
   ]
  },
  {
   "cell_type": "code",
   "execution_count": 9,
   "id": "b806d938",
   "metadata": {},
   "outputs": [
    {
     "data": {
      "text/plain": [
       "True"
      ]
     },
     "execution_count": 9,
     "metadata": {},
     "output_type": "execute_result"
    }
   ],
   "source": [
    "'pin' in prop_orig.columns"
   ]
  },
  {
   "cell_type": "code",
   "execution_count": 10,
   "id": "06d32a5a",
   "metadata": {},
   "outputs": [
    {
     "data": {
      "text/plain": [
       "False"
      ]
     },
     "execution_count": 10,
     "metadata": {},
     "output_type": "execute_result"
    }
   ],
   "source": [
    "'pin' in parcel_orig.columns"
   ]
  },
  {
   "cell_type": "code",
   "execution_count": 13,
   "id": "5ea1c41b",
   "metadata": {},
   "outputs": [
    {
     "data": {
      "text/plain": [
       "True"
      ]
     },
     "execution_count": 13,
     "metadata": {},
     "output_type": "execute_result"
    }
   ],
   "source": [
    "'pin'.upper() in parcel_orig.columns"
   ]
  },
  {
   "cell_type": "code",
   "execution_count": 27,
   "id": "699265ed",
   "metadata": {},
   "outputs": [],
   "source": [
    "prop_df = prop_orig.copy()\n",
    "parcel_df = parcel_orig.copy()"
   ]
  },
  {
   "cell_type": "code",
   "execution_count": 28,
   "id": "c727bb28",
   "metadata": {},
   "outputs": [
    {
     "name": "stdout",
     "output_type": "stream",
     "text": [
      "582108\n",
      "582108\n"
     ]
    }
   ],
   "source": [
    "print(len(prop_df))\n",
    "print(prop_df.pin.nunique())"
   ]
  },
  {
   "cell_type": "code",
   "execution_count": 30,
   "id": "51553e19",
   "metadata": {},
   "outputs": [
    {
     "name": "stdout",
     "output_type": "stream",
     "text": [
      "606681\n",
      "574827\n"
     ]
    }
   ],
   "source": [
    "print(len(parcel_df))\n",
    "\n",
    "parcel_df = parcel_df[parcel_df.STATUS.isin([1, 3])]\n",
    "\n",
    "print(len(parcel_df))"
   ]
  },
  {
   "cell_type": "code",
   "execution_count": 31,
   "id": "e9fa5f39",
   "metadata": {},
   "outputs": [
    {
     "name": "stdout",
     "output_type": "stream",
     "text": [
      "574601\n"
     ]
    }
   ],
   "source": [
    "## some duplication of PIN for parcel dataset\n",
    "print(parcel_df.PIN.nunique())"
   ]
  },
  {
   "cell_type": "code",
   "execution_count": 32,
   "id": "c53b922d",
   "metadata": {},
   "outputs": [
    {
     "name": "stdout",
     "output_type": "stream",
     "text": [
      "90.30% of properties have an entry found in parcels\n"
     ]
    }
   ],
   "source": [
    "## Question 1\n",
    "q1 = len(set(prop_df.pin.unique()).intersection(set(parcel_df.PIN.unique()))) / \\\n",
    "    prop_df.pin.nunique()\n",
    "\n",
    "print(f'{q1:.2%} of properties have an entry found in parcels')"
   ]
  },
  {
   "cell_type": "code",
   "execution_count": null,
   "id": "47b88c23",
   "metadata": {},
   "outputs": [],
   "source": []
  }
 ],
 "metadata": {
  "kernelspec": {
   "display_name": "Python 3 (ipykernel)",
   "language": "python",
   "name": "python3"
  },
  "language_info": {
   "codemirror_mode": {
    "name": "ipython",
    "version": 3
   },
   "file_extension": ".py",
   "mimetype": "text/x-python",
   "name": "python",
   "nbconvert_exporter": "python",
   "pygments_lexer": "ipython3",
   "version": "3.8.13"
  }
 },
 "nbformat": 4,
 "nbformat_minor": 5
}
