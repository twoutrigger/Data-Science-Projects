{
 "cells": [
  {
   "cell_type": "markdown",
   "id": "ef0942e7",
   "metadata": {},
   "source": [
    "## Purpose of script:\n",
    "#### Understanding forecast growth and carrying capacity\n",
    "#### Code referenced from:\n",
    "#### https://facebook.github.io/prophet/docs/saturating_forecasts.html#forecasting-growth"
   ]
  },
  {
   "cell_type": "code",
   "execution_count": null,
   "id": "6592c80c",
   "metadata": {},
   "outputs": [],
   "source": []
  }
 ],
 "metadata": {
  "kernelspec": {
   "display_name": "Python 3 (ipykernel)",
   "language": "python",
   "name": "python3"
  },
  "language_info": {
   "codemirror_mode": {
    "name": "ipython",
    "version": 3
   },
   "file_extension": ".py",
   "mimetype": "text/x-python",
   "name": "python",
   "nbconvert_exporter": "python",
   "pygments_lexer": "ipython3",
   "version": "3.8.13"
  }
 },
 "nbformat": 4,
 "nbformat_minor": 5
}
