{
 "cells": [
  {
   "cell_type": "markdown",
   "id": "03dd1950",
   "metadata": {},
   "source": [
    "## Purpose of script:\n",
    "#### Reviewing Spark basics\n",
    "#### Referencing Jose Portilla's \"Spark and Python for Big Data with PySpark\" course"
   ]
  },
  {
   "cell_type": "code",
   "execution_count": 1,
   "id": "7437afe0",
   "metadata": {},
   "outputs": [],
   "source": [
    "from pyspark.sql import SparkSession"
   ]
  },
  {
   "cell_type": "code",
   "execution_count": 2,
   "id": "1b1cce57",
   "metadata": {},
   "outputs": [],
   "source": [
    "spark = SparkSession.builder.appName('Basics').getOrCreate()"
   ]
  },
  {
   "cell_type": "code",
   "execution_count": 3,
   "id": "77ff8e61",
   "metadata": {},
   "outputs": [
    {
     "name": "stdout",
     "output_type": "stream",
     "text": [
      "+----+-------+\n",
      "| age|   name|\n",
      "+----+-------+\n",
      "|null|Michael|\n",
      "|  30|   Andy|\n",
      "|  19| Justin|\n",
      "+----+-------+\n",
      "\n"
     ]
    }
   ],
   "source": [
    "df = spark.read.json('../Datasets/people.json')\n",
    "\n",
    "df.show()"
   ]
  },
  {
   "cell_type": "code",
   "execution_count": 4,
   "id": "c029e226",
   "metadata": {},
   "outputs": [
    {
     "name": "stdout",
     "output_type": "stream",
     "text": [
      "root\n",
      " |-- age: long (nullable = true)\n",
      " |-- name: string (nullable = true)\n",
      "\n"
     ]
    }
   ],
   "source": [
    "df.printSchema()"
   ]
  },
  {
   "cell_type": "code",
   "execution_count": 5,
   "id": "a3941f9c",
   "metadata": {},
   "outputs": [
    {
     "data": {
      "text/plain": [
       "['age', 'name']"
      ]
     },
     "execution_count": 5,
     "metadata": {},
     "output_type": "execute_result"
    }
   ],
   "source": [
    "df.columns"
   ]
  },
  {
   "cell_type": "code",
   "execution_count": 6,
   "id": "b60d8a33",
   "metadata": {},
   "outputs": [
    {
     "data": {
      "text/plain": [
       "DataFrame[summary: string, age: string, name: string]"
      ]
     },
     "execution_count": 6,
     "metadata": {},
     "output_type": "execute_result"
    }
   ],
   "source": [
    "df.describe()"
   ]
  },
  {
   "cell_type": "code",
   "execution_count": 7,
   "id": "db164cff",
   "metadata": {},
   "outputs": [
    {
     "name": "stdout",
     "output_type": "stream",
     "text": [
      "+-------+------------------+-------+\n",
      "|summary|               age|   name|\n",
      "+-------+------------------+-------+\n",
      "|  count|                 2|      3|\n",
      "|   mean|              24.5|   null|\n",
      "| stddev|7.7781745930520225|   null|\n",
      "|    min|                19|   Andy|\n",
      "|    max|                30|Michael|\n",
      "+-------+------------------+-------+\n",
      "\n"
     ]
    }
   ],
   "source": [
    "df.describe().show()"
   ]
  },
  {
   "cell_type": "markdown",
   "id": "7a8898f1",
   "metadata": {},
   "source": [
    "#### Casting data types in Spark"
   ]
  },
  {
   "cell_type": "code",
   "execution_count": 9,
   "id": "aefd2f4e",
   "metadata": {},
   "outputs": [],
   "source": [
    "from pyspark.sql.types import (StructField, StructType, \n",
    "                               StringType, IntegerType)"
   ]
  },
  {
   "cell_type": "code",
   "execution_count": 10,
   "id": "5ac3f8e6",
   "metadata": {},
   "outputs": [],
   "source": [
    "# True is for allowing for null values\n",
    "data_schema = [StructField('age', IntegerType(), True),\n",
    "               StructField('name', StringType(), True)]"
   ]
  },
  {
   "cell_type": "code",
   "execution_count": 11,
   "id": "10632b7a",
   "metadata": {},
   "outputs": [],
   "source": [
    "specified_struc = StructType(fields=data_schema)"
   ]
  },
  {
   "cell_type": "code",
   "execution_count": 12,
   "id": "a9bc684f",
   "metadata": {},
   "outputs": [],
   "source": [
    "df = spark.read.json('../Datasets/people.json', schema=specified_struc)"
   ]
  },
  {
   "cell_type": "code",
   "execution_count": 13,
   "id": "e2a6ac89",
   "metadata": {},
   "outputs": [
    {
     "name": "stdout",
     "output_type": "stream",
     "text": [
      "root\n",
      " |-- age: integer (nullable = true)\n",
      " |-- name: string (nullable = true)\n",
      "\n"
     ]
    }
   ],
   "source": [
    "# column types casted correctly\n",
    "df.printSchema()"
   ]
  },
  {
   "cell_type": "code",
   "execution_count": 14,
   "id": "b926bef7",
   "metadata": {},
   "outputs": [
    {
     "data": {
      "text/plain": [
       "pyspark.sql.column.Column"
      ]
     },
     "execution_count": 14,
     "metadata": {},
     "output_type": "execute_result"
    }
   ],
   "source": [
    "# this gets a column object\n",
    "type(df['age'])"
   ]
  },
  {
   "cell_type": "code",
   "execution_count": 15,
   "id": "2925e375",
   "metadata": {},
   "outputs": [
    {
     "name": "stdout",
     "output_type": "stream",
     "text": [
      "+----+\n",
      "| age|\n",
      "+----+\n",
      "|null|\n",
      "|  30|\n",
      "|  19|\n",
      "+----+\n",
      "\n"
     ]
    }
   ],
   "source": [
    "# this gets the column from the dataframe\n",
    "df.select('age').show()"
   ]
  },
  {
   "cell_type": "code",
   "execution_count": 16,
   "id": "4bffddd4",
   "metadata": {},
   "outputs": [
    {
     "data": {
      "text/plain": [
       "[Row(age=None, name='Michael'), Row(age=30, name='Andy')]"
      ]
     },
     "execution_count": 16,
     "metadata": {},
     "output_type": "execute_result"
    }
   ],
   "source": [
    "df.head(2)"
   ]
  },
  {
   "cell_type": "code",
   "execution_count": 17,
   "id": "dd42245a",
   "metadata": {},
   "outputs": [
    {
     "name": "stdout",
     "output_type": "stream",
     "text": [
      "+----+-------+\n",
      "| age|   name|\n",
      "+----+-------+\n",
      "|null|Michael|\n",
      "|  30|   Andy|\n",
      "|  19| Justin|\n",
      "+----+-------+\n",
      "\n"
     ]
    }
   ],
   "source": [
    "# getting multiple columns\n",
    "df.select(['age', 'name']).show()"
   ]
  },
  {
   "cell_type": "code",
   "execution_count": 18,
   "id": "55f49bb2",
   "metadata": {},
   "outputs": [
    {
     "name": "stdout",
     "output_type": "stream",
     "text": [
      "+----+-------+----------+\n",
      "| age|   name|double_age|\n",
      "+----+-------+----------+\n",
      "|null|Michael|      null|\n",
      "|  30|   Andy|        60|\n",
      "|  19| Justin|        38|\n",
      "+----+-------+----------+\n",
      "\n"
     ]
    }
   ],
   "source": [
    "# adding a calculated column\n",
    "# this does NOT affect the original dataframe\n",
    "df.withColumn('double_age', df['age']*2).show()"
   ]
  },
  {
   "cell_type": "code",
   "execution_count": 22,
   "id": "231db6fb",
   "metadata": {},
   "outputs": [
    {
     "name": "stdout",
     "output_type": "stream",
     "text": [
      "+-------+-------+\n",
      "|new_age|   name|\n",
      "+-------+-------+\n",
      "|   null|Michael|\n",
      "|     30|   Andy|\n",
      "|     19| Justin|\n",
      "+-------+-------+\n",
      "\n"
     ]
    }
   ],
   "source": [
    "# renames an existing column\n",
    "# this does NOT affect the original dataframe\n",
    "df.withColumnRenamed('age', 'new_age').show()"
   ]
  },
  {
   "cell_type": "code",
   "execution_count": 23,
   "id": "88e7dac3",
   "metadata": {},
   "outputs": [
    {
     "name": "stdout",
     "output_type": "stream",
     "text": [
      "+----+-------+\n",
      "| age|   name|\n",
      "+----+-------+\n",
      "|null|Michael|\n",
      "|  30|   Andy|\n",
      "|  19| Justin|\n",
      "+----+-------+\n",
      "\n"
     ]
    }
   ],
   "source": [
    "# no columns were affected via the above withCol statements\n",
    "df.show()"
   ]
  },
  {
   "cell_type": "markdown",
   "id": "3f5f61ec",
   "metadata": {},
   "source": [
    "#### SQL operations"
   ]
  },
  {
   "cell_type": "code",
   "execution_count": 24,
   "id": "c2493f91",
   "metadata": {},
   "outputs": [],
   "source": [
    "# take df and create a temporary view called people\n",
    "df.createOrReplaceTempView('people')"
   ]
  },
  {
   "cell_type": "code",
   "execution_count": 25,
   "id": "6f321ec9",
   "metadata": {},
   "outputs": [],
   "source": [
    "results = spark.sql('SELECT * FROM people WHERE age >= 30')"
   ]
  },
  {
   "cell_type": "code",
   "execution_count": 26,
   "id": "3bbea4ad",
   "metadata": {},
   "outputs": [
    {
     "name": "stdout",
     "output_type": "stream",
     "text": [
      "+---+----+\n",
      "|age|name|\n",
      "+---+----+\n",
      "| 30|Andy|\n",
      "+---+----+\n",
      "\n"
     ]
    }
   ],
   "source": [
    "results.show()"
   ]
  },
  {
   "cell_type": "markdown",
   "id": "7c9ed224",
   "metadata": {},
   "source": [
    "## Demo"
   ]
  },
  {
   "cell_type": "code",
   "execution_count": 30,
   "id": "b54bfc87",
   "metadata": {},
   "outputs": [],
   "source": [
    "test_data = [\n",
    "    {'name': 'Tasha', 'age': 20, 'profession': 'student'},\n",
    "    {'name': 'Jim', 'age': 45, 'profession': 'accountant'},\n",
    "    {'name': 'Tim', 'age': 18, 'profession': 'student'},\n",
    "    {'name': 'Jane', 'age': 26, 'profession': 'seo manager'},\n",
    "]"
   ]
  },
  {
   "cell_type": "code",
   "execution_count": 32,
   "id": "62aa7daa",
   "metadata": {},
   "outputs": [],
   "source": [
    "test_data = [\n",
    "    ('Tasha', 20, 'student'),\n",
    "    ('Jim', 45, 'accountant'),\n",
    "    ('Ted', 18, 'student'),\n",
    "    ('Jane', 26, 'seo manager')\n",
    "]"
   ]
  },
  {
   "cell_type": "code",
   "execution_count": 34,
   "id": "85511700",
   "metadata": {},
   "outputs": [],
   "source": [
    "test_col = ['name', 'age', 'profession']"
   ]
  },
  {
   "cell_type": "code",
   "execution_count": 36,
   "id": "e510eebb",
   "metadata": {},
   "outputs": [
    {
     "name": "stdout",
     "output_type": "stream",
     "text": [
      "root\n",
      " |-- name: string (nullable = true)\n",
      " |-- age: long (nullable = true)\n",
      " |-- profession: string (nullable = true)\n",
      "\n",
      "+-----+---+-----------+\n",
      "|name |age|profession |\n",
      "+-----+---+-----------+\n",
      "|Tasha|20 |student    |\n",
      "|Jim  |45 |accountant |\n",
      "|Ted  |18 |student    |\n",
      "|Jane |26 |seo manager|\n",
      "+-----+---+-----------+\n",
      "\n"
     ]
    }
   ],
   "source": [
    "df = spark.createDataFrame(data=test_data, schema=test_col)\n",
    "df.printSchema()\n",
    "df.show(truncate=False)"
   ]
  },
  {
   "cell_type": "code",
   "execution_count": 37,
   "id": "bd495ceb",
   "metadata": {},
   "outputs": [],
   "source": [
    "# create a temporary view from dataframe\n",
    "df.createOrReplaceTempView('people')"
   ]
  },
  {
   "cell_type": "code",
   "execution_count": 38,
   "id": "e460af0d",
   "metadata": {},
   "outputs": [
    {
     "name": "stdout",
     "output_type": "stream",
     "text": [
      "+----+---+-----------+\n",
      "|name|age| profession|\n",
      "+----+---+-----------+\n",
      "| Jim| 45| accountant|\n",
      "|Jane| 26|seo manager|\n",
      "+----+---+-----------+\n",
      "\n"
     ]
    }
   ],
   "source": [
    "results = spark.sql('SELECT * FROM people WHERE age >= 21')\n",
    "results.show()"
   ]
  },
  {
   "cell_type": "code",
   "execution_count": 39,
   "id": "14a2e2eb",
   "metadata": {},
   "outputs": [],
   "source": [
    "spark.stop()"
   ]
  },
  {
   "cell_type": "code",
   "execution_count": null,
   "id": "be7893db",
   "metadata": {},
   "outputs": [],
   "source": []
  }
 ],
 "metadata": {
  "kernelspec": {
   "display_name": "Python 3 (ipykernel)",
   "language": "python",
   "name": "python3"
  },
  "language_info": {
   "codemirror_mode": {
    "name": "ipython",
    "version": 3
   },
   "file_extension": ".py",
   "mimetype": "text/x-python",
   "name": "python",
   "nbconvert_exporter": "python",
   "pygments_lexer": "ipython3",
   "version": "3.8.13"
  }
 },
 "nbformat": 4,
 "nbformat_minor": 5
}
