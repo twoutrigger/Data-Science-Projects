{
 "cells": [
  {
   "cell_type": "markdown",
   "id": "267a33dd",
   "metadata": {},
   "source": [
    "## Purpose of script:\n",
    "#### Reviewing Spark's logistic regression implementation\n",
    "#### Referencing Jose Portilla's \"Spark and Python for Big Data with PySpark\" course"
   ]
  },
  {
   "cell_type": "code",
   "execution_count": 1,
   "id": "ded75442",
   "metadata": {},
   "outputs": [],
   "source": [
    "from pyspark.sql import SparkSession\n",
    "from pyspark.ml.classification import LogisticRegression"
   ]
  },
  {
   "cell_type": "code",
   "execution_count": 2,
   "id": "912ae311",
   "metadata": {},
   "outputs": [],
   "source": [
    "spark = SparkSession.builder.appName('log_reg').getOrCreate()"
   ]
  },
  {
   "cell_type": "code",
   "execution_count": 8,
   "id": "8a52a362",
   "metadata": {},
   "outputs": [],
   "source": [
    "df = spark.read.format('libsvm').load('../Datasets/sample_libsvm_data.txt')"
   ]
  },
  {
   "cell_type": "code",
   "execution_count": 11,
   "id": "f92b4a1f",
   "metadata": {},
   "outputs": [
    {
     "name": "stdout",
     "output_type": "stream",
     "text": [
      "68\n",
      "32\n"
     ]
    }
   ],
   "source": [
    "train_data, test_data = df.randomSplit([0.7, 0.3])\n",
    "\n",
    "print(train_data.count())\n",
    "print(test_data.count())"
   ]
  },
  {
   "cell_type": "code",
   "execution_count": 4,
   "id": "c9893870",
   "metadata": {},
   "outputs": [],
   "source": [
    "log_reg = LogisticRegression()"
   ]
  },
  {
   "cell_type": "code",
   "execution_count": 12,
   "id": "66b68e1c",
   "metadata": {},
   "outputs": [],
   "source": [
    "log_reg_model = log_reg.fit(train_data)"
   ]
  },
  {
   "cell_type": "code",
   "execution_count": 13,
   "id": "65405e65",
   "metadata": {},
   "outputs": [],
   "source": [
    "log_reg_summary = log_reg_model.summary"
   ]
  },
  {
   "cell_type": "code",
   "execution_count": 14,
   "id": "17989dbc",
   "metadata": {},
   "outputs": [
    {
     "name": "stdout",
     "output_type": "stream",
     "text": [
      "root\n",
      " |-- label: double (nullable = true)\n",
      " |-- features: vector (nullable = true)\n",
      " |-- rawPrediction: vector (nullable = true)\n",
      " |-- probability: vector (nullable = true)\n",
      " |-- prediction: double (nullable = false)\n",
      "\n"
     ]
    }
   ],
   "source": [
    "log_reg_summary.predictions.printSchema()"
   ]
  },
  {
   "cell_type": "code",
   "execution_count": 15,
   "id": "70cf7222",
   "metadata": {},
   "outputs": [],
   "source": [
    "pred_and_labels = log_reg_model.evaluate(test_data)"
   ]
  },
  {
   "cell_type": "code",
   "execution_count": 17,
   "id": "c2b7ae5c",
   "metadata": {},
   "outputs": [
    {
     "name": "stdout",
     "output_type": "stream",
     "text": [
      "+-----+--------------------+--------------------+--------------------+----------+\n",
      "|label|            features|       rawPrediction|         probability|prediction|\n",
      "+-----+--------------------+--------------------+--------------------+----------+\n",
      "|  0.0|(692,[121,122,123...|[23.6245110333501...|[0.99999999994504...|       0.0|\n",
      "|  0.0|(692,[123,124,125...|[28.0540784022597...|[0.99999999999934...|       0.0|\n",
      "|  0.0|(692,[126,127,128...|[25.9871574643765...|[0.99999999999482...|       0.0|\n",
      "|  0.0|(692,[152,153,154...|[9.00906597634986...|[0.99987771892441...|       0.0|\n",
      "|  0.0|(692,[152,153,154...|[11.5399036668907...|[0.99999026627015...|       0.0|\n",
      "+-----+--------------------+--------------------+--------------------+----------+\n",
      "only showing top 5 rows\n",
      "\n"
     ]
    }
   ],
   "source": [
    "pred_and_labels.predictions.show(5)"
   ]
  },
  {
   "cell_type": "code",
   "execution_count": 18,
   "id": "e6d676a6",
   "metadata": {},
   "outputs": [],
   "source": [
    "from pyspark.ml.evaluation import BinaryClassificationEvaluator"
   ]
  },
  {
   "cell_type": "code",
   "execution_count": 19,
   "id": "b40de5cd",
   "metadata": {},
   "outputs": [],
   "source": [
    "my_eval = BinaryClassificationEvaluator()"
   ]
  },
  {
   "cell_type": "code",
   "execution_count": 21,
   "id": "6014f556",
   "metadata": {},
   "outputs": [],
   "source": [
    "my_roc = my_eval.evaluate(pred_and_labels.predictions)"
   ]
  },
  {
   "cell_type": "code",
   "execution_count": 22,
   "id": "e1828d39",
   "metadata": {},
   "outputs": [
    {
     "data": {
      "text/plain": [
       "1.0"
      ]
     },
     "execution_count": 22,
     "metadata": {},
     "output_type": "execute_result"
    }
   ],
   "source": [
    "# 1.0 represents a perfect fit on the test data\n",
    "my_roc"
   ]
  },
  {
   "cell_type": "code",
   "execution_count": null,
   "id": "56b354d5",
   "metadata": {},
   "outputs": [],
   "source": []
  }
 ],
 "metadata": {
  "kernelspec": {
   "display_name": "Python 3 (ipykernel)",
   "language": "python",
   "name": "python3"
  },
  "language_info": {
   "codemirror_mode": {
    "name": "ipython",
    "version": 3
   },
   "file_extension": ".py",
   "mimetype": "text/x-python",
   "name": "python",
   "nbconvert_exporter": "python",
   "pygments_lexer": "ipython3",
   "version": "3.8.13"
  }
 },
 "nbformat": 4,
 "nbformat_minor": 5
}
