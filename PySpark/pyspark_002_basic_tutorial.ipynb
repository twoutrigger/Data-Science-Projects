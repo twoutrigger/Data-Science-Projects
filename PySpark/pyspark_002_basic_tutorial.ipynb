{
 "cells": [
  {
   "cell_type": "markdown",
   "id": "d210347c",
   "metadata": {},
   "source": [
    "## Purpose of script:\n",
    "#### Basic tutorial for PySpark; trying to resolve Py4JJavaError issue\n",
    "#### Code references tutorial here:\n",
    "#### https://www.guru99.com/pyspark-tutorial.html#4"
   ]
  },
  {
   "cell_type": "code",
   "execution_count": 12,
   "id": "20ec90d5",
   "metadata": {},
   "outputs": [],
   "source": [
    "import pyspark\n",
    "from pyspark import SparkContext\n",
    "sc =SparkContext()\n",
    "\n",
    "## SparkContext is the internal engine that allows the connections with the clusters.\n",
    "## If you want to run an operation, you need a SparkContext."
   ]
  },
  {
   "cell_type": "code",
   "execution_count": 13,
   "id": "6cdac1ef",
   "metadata": {},
   "outputs": [],
   "source": [
    "nums= sc.parallelize([1,2,3,4])\n",
    "\n",
    "## Now that the SparkContext is ready, you can create a collection of data called RDD\n",
    "## Computation in an RDD is automatically parallelized across the cluster."
   ]
  },
  {
   "cell_type": "code",
   "execution_count": 14,
   "id": "f7f10204",
   "metadata": {},
   "outputs": [
    {
     "data": {
      "text/plain": [
       "[1]"
      ]
     },
     "execution_count": 14,
     "metadata": {},
     "output_type": "execute_result"
    }
   ],
   "source": [
    "nums.take(1)\n",
    "\n",
    "## to access the first row"
   ]
  },
  {
   "cell_type": "code",
   "execution_count": 11,
   "id": "8c68f0ab",
   "metadata": {},
   "outputs": [],
   "source": [
    "sc.stop()"
   ]
  },
  {
   "cell_type": "code",
   "execution_count": null,
   "id": "1b6566a5",
   "metadata": {},
   "outputs": [],
   "source": [
    "## corrected Py4JJavaError, was a setup / configure issue\n",
    "## sc.stop() kills off running instances to prevent conflict"
   ]
  }
 ],
 "metadata": {
  "kernelspec": {
   "display_name": "Python 3 (ipykernel)",
   "language": "python",
   "name": "python3"
  },
  "language_info": {
   "codemirror_mode": {
    "name": "ipython",
    "version": 3
   },
   "file_extension": ".py",
   "mimetype": "text/x-python",
   "name": "python",
   "nbconvert_exporter": "python",
   "pygments_lexer": "ipython3",
   "version": "3.8.13"
  }
 },
 "nbformat": 4,
 "nbformat_minor": 5
}
