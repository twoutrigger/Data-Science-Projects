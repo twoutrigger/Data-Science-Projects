{
 "cells": [
  {
   "cell_type": "markdown",
   "id": "2f7f797a",
   "metadata": {},
   "source": [
    "## Purpose of script:\n",
    "#### Basic script for PySpark ML, using linear regression as an example\n",
    "#### References LinkedIn Learning course here:\n",
    "#### https://www.linkedin.com/learning/apache-spark-essential-training/welcome?u=0"
   ]
  },
  {
   "cell_type": "code",
   "execution_count": 1,
   "id": "d4bd01cd",
   "metadata": {},
   "outputs": [
    {
     "data": {
      "text/plain": [
       "'C:\\\\Users\\\\liamk\\\\Documents\\\\spark\\\\spark-3.3.1-bin-hadoop3'"
      ]
     },
     "execution_count": 1,
     "metadata": {},
     "output_type": "execute_result"
    }
   ],
   "source": [
    "import findspark\n",
    "findspark.init()\n",
    "findspark.find()"
   ]
  },
  {
   "cell_type": "code",
   "execution_count": 27,
   "id": "574e6713",
   "metadata": {},
   "outputs": [],
   "source": [
    "from pyspark.sql import SparkSession\n",
    "from pyspark.sql.functions import *\n",
    "from pyspark.ml.feature import VectorAssembler\n",
    "from pyspark.ml.regression import LinearRegression\n",
    "from pyspark.ml.evaluation import RegressionEvaluator"
   ]
  },
  {
   "cell_type": "code",
   "execution_count": 4,
   "id": "39421343",
   "metadata": {},
   "outputs": [],
   "source": [
    "spark = SparkSession.builder.appName('ml').getOrCreate()"
   ]
  },
  {
   "cell_type": "code",
   "execution_count": 5,
   "id": "d3ad3c00",
   "metadata": {},
   "outputs": [],
   "source": [
    "path = '../Datasets/cogsley_sales.csv'\n",
    "\n",
    "data = spark.read.format(\"csv\")\\\n",
    "    .option(\"header\", \"true\")\\\n",
    "    .option(\"inferSchema\", \"true\")\\\n",
    "    .load(path)"
   ]
  },
  {
   "cell_type": "code",
   "execution_count": 6,
   "id": "3598084c",
   "metadata": {},
   "outputs": [],
   "source": [
    "data.cache() # cache data for faster reuse\n",
    "data = data.dropna()"
   ]
  },
  {
   "cell_type": "code",
   "execution_count": 7,
   "id": "d50ebc82",
   "metadata": {},
   "outputs": [
    {
     "data": {
      "text/plain": [
       "Row(RowID=1, OrderID=3, OrderDate=datetime.datetime(2010, 10, 13, 0, 0), OrderMonthYear=datetime.datetime(2010, 10, 1, 0, 0), Quantity=6, Quote=1200, DiscountPct=0.04, Rate=200, SaleAmount=1152.0, CustomerName='Muhammed MacIntyre', CompanyName='CA Inc.', Sector='Technology', Industry='Computer Software: Prepackaged Software', City='Highland Park', ZipCode=60035, State='Illinois', Region='Central', ProjectCompleteDate=datetime.datetime(2010, 10, 20, 0, 0), DaystoComplete=7, ProductKey='Development - Big Data', ProductCategory='Development', ProductSubCategory='Big Data', Consultant='Ethan Bird', Manager='Josh Martinez', HourlyWage=60, RowCount=1, WageMargin=0.7)"
      ]
     },
     "execution_count": 7,
     "metadata": {},
     "output_type": "execute_result"
    }
   ],
   "source": [
    "data.head()"
   ]
  },
  {
   "cell_type": "code",
   "execution_count": 8,
   "id": "fe65b9dc",
   "metadata": {},
   "outputs": [
    {
     "name": "stdout",
     "output_type": "stream",
     "text": [
      "RowID , IntegerType()\n",
      "OrderID , IntegerType()\n",
      "OrderDate , TimestampType()\n",
      "OrderMonthYear , TimestampType()\n",
      "Quantity , IntegerType()\n",
      "Quote , IntegerType()\n",
      "DiscountPct , DoubleType()\n",
      "Rate , IntegerType()\n",
      "SaleAmount , DoubleType()\n",
      "CustomerName , StringType()\n",
      "CompanyName , StringType()\n",
      "Sector , StringType()\n",
      "Industry , StringType()\n",
      "City , StringType()\n",
      "ZipCode , IntegerType()\n",
      "State , StringType()\n",
      "Region , StringType()\n",
      "ProjectCompleteDate , TimestampType()\n",
      "DaystoComplete , IntegerType()\n",
      "ProductKey , StringType()\n",
      "ProductCategory , StringType()\n",
      "ProductSubCategory , StringType()\n",
      "Consultant , StringType()\n",
      "Manager , StringType()\n",
      "HourlyWage , IntegerType()\n",
      "RowCount , IntegerType()\n",
      "WageMargin , DoubleType()\n"
     ]
    }
   ],
   "source": [
    "for field in data.schema.fields:\n",
    "    print(field.name +\" , \"+str(field.dataType))"
   ]
  },
  {
   "cell_type": "code",
   "execution_count": 9,
   "id": "e14c21f0",
   "metadata": {},
   "outputs": [
    {
     "data": {
      "text/plain": [
       "Row(OrderMonthYear=20090101, SaleAmount=741024.2000000001)"
      ]
     },
     "execution_count": 9,
     "metadata": {},
     "output_type": "execute_result"
    }
   ],
   "source": [
    "summary = data.select(\"OrderMonthYear\", \"SaleAmount\").groupby(\"OrderMonthYear\").sum()\\\n",
    "    .orderBy(\"OrderMonthYear\").toDF(\"OrderMonthYear\", \"SaleAmount\")\n",
    "\n",
    "results = summary.rdd.map(lambda r: (int(str(r.OrderMonthYear).replace('-', '')[:8]), r.SaleAmount))\\\n",
    "    .toDF([\"OrderMonthYear\", \"SaleAmount\"])\n",
    "\n",
    "results.head()"
   ]
  },
  {
   "cell_type": "code",
   "execution_count": 10,
   "id": "082f3b61",
   "metadata": {},
   "outputs": [
    {
     "data": {
      "text/plain": [
       "Row(features=DenseVector([20090101.0]), label=741024.2000000001)"
      ]
     },
     "execution_count": 10,
     "metadata": {},
     "output_type": "execute_result"
    }
   ],
   "source": [
    "# dat = results.select(\"OrderMonthYear\", \"SaleAmount\")\\\n",
    "#     .rdd.map(lambda r: LabeledPoint(r[1], [r[0]]))\\\n",
    "#     .toDF()\n",
    "\n",
    "# dat.head()"
   ]
  },
  {
   "cell_type": "code",
   "execution_count": 22,
   "id": "001882d2",
   "metadata": {},
   "outputs": [
    {
     "name": "stdout",
     "output_type": "stream",
     "text": [
      "+-------------+-----------------+\n",
      "|     features|       SaleAmount|\n",
      "+-------------+-----------------+\n",
      "|[2.0090101E7]|741024.2000000001|\n",
      "|[2.0090201E7]|544241.1499999998|\n",
      "|[2.0090301E7]|        563502.15|\n",
      "+-------------+-----------------+\n",
      "only showing top 3 rows\n",
      "\n"
     ]
    }
   ],
   "source": [
    "va = VectorAssembler(inputCols = ['OrderMonthYear'], outputCol = 'features')\n",
    "dat = va.transform(results)\n",
    "dat = dat.select(['features', 'SaleAmount'])\n",
    "dat.show(3)"
   ]
  },
  {
   "cell_type": "markdown",
   "id": "39b54eea",
   "metadata": {},
   "source": [
    "## Fit linear models"
   ]
  },
  {
   "cell_type": "code",
   "execution_count": 26,
   "id": "283b56e5",
   "metadata": {},
   "outputs": [
    {
     "name": "stdout",
     "output_type": "stream",
     "text": [
      "+-------------+-----------------+-----------------+\n",
      "|     features|       SaleAmount|       prediction|\n",
      "+-------------+-----------------+-----------------+\n",
      "|[2.0090101E7]|741024.2000000001|607367.4185045543|\n",
      "|[2.0090201E7]|544241.1499999998|607347.2708239248|\n",
      "|[2.0090301E7]|        563502.15|607327.1231432953|\n",
      "|[2.0090401E7]|619011.4000000001|607306.9754626658|\n",
      "|[2.0090501E7]|641158.6999999998|607286.8277820363|\n",
      "|[2.0090601E7]|        558288.55|607266.6801014068|\n",
      "|[2.0090701E7]|673657.1000000002|607246.5324207773|\n",
      "|[2.0090801E7]|        662651.85|607226.3847401477|\n",
      "|[2.0090901E7]|650729.3500000001|607206.2370595182|\n",
      "|[2.0091001E7]|        571600.35|607186.0893788887|\n",
      "+-------------+-----------------+-----------------+\n",
      "only showing top 10 rows\n",
      "\n"
     ]
    }
   ],
   "source": [
    "## corrected issue of deprecated mllib.LabeledPoint by replacing with ml.feature.VectorAssembler\n",
    "## refereced this tutorial:\n",
    "## https://towardsdatascience.com/building-a-linear-regression-with-pyspark-and-mllib-d065c3ba246a\n",
    "\n",
    "lr = LinearRegression(featuresCol = 'features', labelCol='SaleAmount')\n",
    "\n",
    "modelA = lr.fit(dat, {lr.regParam:0.0})\n",
    "\n",
    "predA = modelA.transform(dat)\n",
    "\n",
    "predA.show(10)"
   ]
  },
  {
   "cell_type": "code",
   "execution_count": 35,
   "id": "cfd0f074",
   "metadata": {},
   "outputs": [
    {
     "name": "stdout",
     "output_type": "stream",
     "text": [
      "Coefficients: [-0.20147680629502693]\n",
      "Intercept: 4655056.806129081\n"
     ]
    }
   ],
   "source": [
    "print(\"Coefficients: \" + str(modelA.coefficients))\n",
    "print(\"Intercept: \" + str(modelA.intercept))"
   ]
  },
  {
   "cell_type": "code",
   "execution_count": 36,
   "id": "c5c26d7b",
   "metadata": {},
   "outputs": [
    {
     "name": "stdout",
     "output_type": "stream",
     "text": [
      "RMSE: 69171.467009\n",
      "r2: 0.001060\n"
     ]
    }
   ],
   "source": [
    "trainingSummary = modelA.summary\n",
    "print(\"RMSE: %f\" % trainingSummary.rootMeanSquaredError)\n",
    "print(\"r2: %f\" % trainingSummary.r2)"
   ]
  },
  {
   "cell_type": "code",
   "execution_count": 37,
   "id": "da3062c2",
   "metadata": {},
   "outputs": [],
   "source": [
    "spark.stop()"
   ]
  },
  {
   "cell_type": "code",
   "execution_count": null,
   "id": "333842d2",
   "metadata": {},
   "outputs": [],
   "source": []
  }
 ],
 "metadata": {
  "kernelspec": {
   "display_name": "Python 3 (ipykernel)",
   "language": "python",
   "name": "python3"
  },
  "language_info": {
   "codemirror_mode": {
    "name": "ipython",
    "version": 3
   },
   "file_extension": ".py",
   "mimetype": "text/x-python",
   "name": "python",
   "nbconvert_exporter": "python",
   "pygments_lexer": "ipython3",
   "version": "3.8.13"
  }
 },
 "nbformat": 4,
 "nbformat_minor": 5
}
