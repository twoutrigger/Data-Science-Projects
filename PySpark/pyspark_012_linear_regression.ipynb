{
 "cells": [
  {
   "cell_type": "markdown",
   "id": "d162c814",
   "metadata": {},
   "source": [
    "## Purpose of script:\n",
    "#### Reviewing Spark's linear regression implementation\n",
    "#### Referencing Jose Portilla's \"Spark and Python for Big Data with PySpark\" course"
   ]
  },
  {
   "cell_type": "code",
   "execution_count": 3,
   "id": "2597849f",
   "metadata": {},
   "outputs": [],
   "source": [
    "from pyspark.sql import SparkSession\n",
    "from pyspark.ml.regression import LinearRegression"
   ]
  },
  {
   "cell_type": "code",
   "execution_count": 2,
   "id": "21ae8a9d",
   "metadata": {},
   "outputs": [],
   "source": [
    "spark = SparkSession.builder.appName('lreg').getOrCreate()"
   ]
  },
  {
   "cell_type": "code",
   "execution_count": 4,
   "id": "0286c907",
   "metadata": {},
   "outputs": [],
   "source": [
    "training = spark.read.format('libsvm').load('../Datasets/sample_linear_regression_data.txt')"
   ]
  },
  {
   "cell_type": "code",
   "execution_count": 5,
   "id": "92a01cc0",
   "metadata": {},
   "outputs": [
    {
     "name": "stdout",
     "output_type": "stream",
     "text": [
      "+-------------------+--------------------+\n",
      "|              label|            features|\n",
      "+-------------------+--------------------+\n",
      "| -9.490009878824548|(10,[0,1,2,3,4,5,...|\n",
      "| 0.2577820163584905|(10,[0,1,2,3,4,5,...|\n",
      "| -4.438869807456516|(10,[0,1,2,3,4,5,...|\n",
      "|-19.782762789614537|(10,[0,1,2,3,4,5,...|\n",
      "| -7.966593841555266|(10,[0,1,2,3,4,5,...|\n",
      "+-------------------+--------------------+\n",
      "only showing top 5 rows\n",
      "\n"
     ]
    }
   ],
   "source": [
    "training.show(5)"
   ]
  },
  {
   "cell_type": "code",
   "execution_count": 6,
   "id": "f81e1752",
   "metadata": {},
   "outputs": [],
   "source": [
    "lr = LinearRegression(featuresCol='features', labelCol='label', predictionCol='prediction')"
   ]
  },
  {
   "cell_type": "code",
   "execution_count": 7,
   "id": "458764f1",
   "metadata": {},
   "outputs": [],
   "source": [
    "lr_model = lr.fit(training)"
   ]
  },
  {
   "cell_type": "code",
   "execution_count": 8,
   "id": "f00644ff",
   "metadata": {},
   "outputs": [
    {
     "data": {
      "text/plain": [
       "DenseVector([0.0073, 0.8314, -0.8095, 2.4412, 0.5192, 1.1535, -0.2989, -0.5129, -0.6197, 0.6956])"
      ]
     },
     "execution_count": 8,
     "metadata": {},
     "output_type": "execute_result"
    }
   ],
   "source": [
    "lr_model.coefficients"
   ]
  },
  {
   "cell_type": "code",
   "execution_count": 9,
   "id": "eafc1661",
   "metadata": {},
   "outputs": [
    {
     "data": {
      "text/plain": [
       "0.14228558260358093"
      ]
     },
     "execution_count": 9,
     "metadata": {},
     "output_type": "execute_result"
    }
   ],
   "source": [
    "lr_model.intercept"
   ]
  },
  {
   "cell_type": "code",
   "execution_count": 10,
   "id": "b0f2e4ff",
   "metadata": {},
   "outputs": [],
   "source": [
    "training_summary = lr_model.summary"
   ]
  },
  {
   "cell_type": "code",
   "execution_count": 11,
   "id": "0b8f3a3f",
   "metadata": {},
   "outputs": [
    {
     "data": {
      "text/plain": [
       "0.027839179518600154"
      ]
     },
     "execution_count": 11,
     "metadata": {},
     "output_type": "execute_result"
    }
   ],
   "source": [
    "# how much variance is explained by the model\n",
    "training_summary.r2"
   ]
  },
  {
   "cell_type": "code",
   "execution_count": 12,
   "id": "2070d357",
   "metadata": {},
   "outputs": [
    {
     "data": {
      "text/plain": [
       "10.16309157133015"
      ]
     },
     "execution_count": 12,
     "metadata": {},
     "output_type": "execute_result"
    }
   ],
   "source": [
    "training_summary.rootMeanSquaredError"
   ]
  },
  {
   "cell_type": "code",
   "execution_count": 13,
   "id": "aa2e5c23",
   "metadata": {},
   "outputs": [],
   "source": [
    "all_data = spark.read.format('libsvm').load('../Datasets/sample_linear_regression_data.txt')"
   ]
  },
  {
   "cell_type": "code",
   "execution_count": 14,
   "id": "71f06986",
   "metadata": {},
   "outputs": [],
   "source": [
    "# snippet on how to split out training and test data\n",
    "train_data, test_data = all_data.randomSplit([0.7, 0.3])"
   ]
  },
  {
   "cell_type": "code",
   "execution_count": 16,
   "id": "ae5b20d4",
   "metadata": {},
   "outputs": [
    {
     "name": "stdout",
     "output_type": "stream",
     "text": [
      "345\n",
      "156\n"
     ]
    }
   ],
   "source": [
    "print(train_data.count())\n",
    "print(test_data.count())"
   ]
  },
  {
   "cell_type": "code",
   "execution_count": 17,
   "id": "1ff05262",
   "metadata": {},
   "outputs": [],
   "source": [
    "new_model = lr.fit(train_data)"
   ]
  },
  {
   "cell_type": "code",
   "execution_count": 18,
   "id": "13958b69",
   "metadata": {},
   "outputs": [],
   "source": [
    "test_results = new_model.evaluate(test_data)"
   ]
  },
  {
   "cell_type": "code",
   "execution_count": 19,
   "id": "997d4534",
   "metadata": {},
   "outputs": [
    {
     "name": "stdout",
     "output_type": "stream",
     "text": [
      "+-------------------+\n",
      "|          residuals|\n",
      "+-------------------+\n",
      "| -23.48194204090165|\n",
      "|  -22.0979999971243|\n",
      "|-21.023511673168578|\n",
      "|-20.581047421948636|\n",
      "|-17.563934426889627|\n",
      "|-19.578677249083498|\n",
      "| -16.21730315959043|\n",
      "| -14.76516761889396|\n",
      "| -17.65678868655678|\n",
      "|-16.303795700921963|\n",
      "| -17.13834101002135|\n",
      "|-13.104866949731807|\n",
      "|-15.546188158317474|\n",
      "|-14.992287715084917|\n",
      "|-15.329050597653021|\n",
      "|-13.557114077607242|\n",
      "|-15.410180088330115|\n",
      "|-16.268334528999045|\n",
      "| -10.93899903147951|\n",
      "|-14.669307856421229|\n",
      "+-------------------+\n",
      "only showing top 20 rows\n",
      "\n"
     ]
    }
   ],
   "source": [
    "test_results.residuals.show()"
   ]
  },
  {
   "cell_type": "code",
   "execution_count": 20,
   "id": "19a902aa",
   "metadata": {},
   "outputs": [
    {
     "data": {
      "text/plain": [
       "10.049799045371858"
      ]
     },
     "execution_count": 20,
     "metadata": {},
     "output_type": "execute_result"
    }
   ],
   "source": [
    "test_results.rootMeanSquaredError"
   ]
  },
  {
   "cell_type": "code",
   "execution_count": 21,
   "id": "8f63e83c",
   "metadata": {},
   "outputs": [],
   "source": [
    "# code snippet for prediction\n",
    "unlabeled_data = test_data.select('features')"
   ]
  },
  {
   "cell_type": "code",
   "execution_count": 22,
   "id": "3207dd06",
   "metadata": {},
   "outputs": [
    {
     "name": "stdout",
     "output_type": "stream",
     "text": [
      "+--------------------+\n",
      "|            features|\n",
      "+--------------------+\n",
      "|(10,[0,1,2,3,4,5,...|\n",
      "|(10,[0,1,2,3,4,5,...|\n",
      "|(10,[0,1,2,3,4,5,...|\n",
      "|(10,[0,1,2,3,4,5,...|\n",
      "|(10,[0,1,2,3,4,5,...|\n",
      "+--------------------+\n",
      "only showing top 5 rows\n",
      "\n"
     ]
    }
   ],
   "source": [
    "unlabeled_data.show(5)"
   ]
  },
  {
   "cell_type": "code",
   "execution_count": 23,
   "id": "6e7648c3",
   "metadata": {},
   "outputs": [],
   "source": [
    "predictions = new_model.transform(unlabeled_data)"
   ]
  },
  {
   "cell_type": "code",
   "execution_count": 24,
   "id": "381dbb49",
   "metadata": {},
   "outputs": [
    {
     "name": "stdout",
     "output_type": "stream",
     "text": [
      "+--------------------+-------------------+\n",
      "|            features|         prediction|\n",
      "+--------------------+-------------------+\n",
      "|(10,[0,1,2,3,4,5,...| -3.254265141700075|\n",
      "|(10,[0,1,2,3,4,5,...|-1.4128840931986715|\n",
      "|(10,[0,1,2,3,4,5,...|-1.8139487437507649|\n",
      "|(10,[0,1,2,3,4,5,...| 1.1787113917340837|\n",
      "|(10,[0,1,2,3,4,5,...|-1.6043581960741338|\n",
      "+--------------------+-------------------+\n",
      "only showing top 5 rows\n",
      "\n"
     ]
    }
   ],
   "source": [
    "predictions.show(5)"
   ]
  },
  {
   "cell_type": "code",
   "execution_count": null,
   "id": "660e4c99",
   "metadata": {},
   "outputs": [],
   "source": []
  }
 ],
 "metadata": {
  "kernelspec": {
   "display_name": "Python 3 (ipykernel)",
   "language": "python",
   "name": "python3"
  },
  "language_info": {
   "codemirror_mode": {
    "name": "ipython",
    "version": 3
   },
   "file_extension": ".py",
   "mimetype": "text/x-python",
   "name": "python",
   "nbconvert_exporter": "python",
   "pygments_lexer": "ipython3",
   "version": "3.8.13"
  }
 },
 "nbformat": 4,
 "nbformat_minor": 5
}
