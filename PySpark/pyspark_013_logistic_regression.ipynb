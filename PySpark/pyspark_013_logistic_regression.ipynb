{
 "cells": [
  {
   "cell_type": "markdown",
   "id": "267a33dd",
   "metadata": {},
   "source": [
    "## Purpose of script:\n",
    "#### Reviewing Spark's logistic regression implementation\n",
    "#### Referencing Jose Portilla's \"Spark and Python for Big Data with PySpark\" course"
   ]
  },
  {
   "cell_type": "code",
   "execution_count": 1,
   "id": "ded75442",
   "metadata": {},
   "outputs": [],
   "source": [
    "from pyspark.sql import SparkSession\n",
    "from pyspark.ml.classification import LogisticRegression"
   ]
  },
  {
   "cell_type": "code",
   "execution_count": 2,
   "id": "912ae311",
   "metadata": {},
   "outputs": [],
   "source": [
    "spark = SparkSession.builder.appName('log_reg').getOrCreate()"
   ]
  },
  {
   "cell_type": "code",
   "execution_count": 8,
   "id": "8a52a362",
   "metadata": {},
   "outputs": [],
   "source": [
    "df = spark.read.format('libsvm').load('../Datasets/sample_libsvm_data.txt')"
   ]
  },
  {
   "cell_type": "code",
   "execution_count": 11,
   "id": "f92b4a1f",
   "metadata": {},
   "outputs": [
    {
     "name": "stdout",
     "output_type": "stream",
     "text": [
      "68\n",
      "32\n"
     ]
    }
   ],
   "source": [
    "train_data, test_data = df.randomSplit([0.7, 0.3])\n",
    "\n",
    "print(train_data.count())\n",
    "print(test_data.count())"
   ]
  },
  {
   "cell_type": "code",
   "execution_count": 4,
   "id": "c9893870",
   "metadata": {},
   "outputs": [],
   "source": [
    "log_reg = LogisticRegression()"
   ]
  },
  {
   "cell_type": "code",
   "execution_count": 12,
   "id": "66b68e1c",
   "metadata": {},
   "outputs": [],
   "source": [
    "log_reg_model = log_reg.fit(train_data)"
   ]
  },
  {
   "cell_type": "code",
   "execution_count": 13,
   "id": "65405e65",
   "metadata": {},
   "outputs": [],
   "source": [
    "log_reg_summary = log_reg_model.summary"
   ]
  },
  {
   "cell_type": "code",
   "execution_count": 14,
   "id": "17989dbc",
   "metadata": {},
   "outputs": [
    {
     "name": "stdout",
     "output_type": "stream",
     "text": [
      "root\n",
      " |-- label: double (nullable = true)\n",
      " |-- features: vector (nullable = true)\n",
      " |-- rawPrediction: vector (nullable = true)\n",
      " |-- probability: vector (nullable = true)\n",
      " |-- prediction: double (nullable = false)\n",
      "\n"
     ]
    }
   ],
   "source": [
    "log_reg_summary.predictions.printSchema()"
   ]
  },
  {
   "cell_type": "code",
   "execution_count": 15,
   "id": "70cf7222",
   "metadata": {},
   "outputs": [],
   "source": [
    "pred_and_labels = log_reg_model.evaluate(test_data)"
   ]
  },
  {
   "cell_type": "code",
   "execution_count": 17,
   "id": "c2b7ae5c",
   "metadata": {},
   "outputs": [
    {
     "name": "stdout",
     "output_type": "stream",
     "text": [
      "+-----+--------------------+--------------------+--------------------+----------+\n",
      "|label|            features|       rawPrediction|         probability|prediction|\n",
      "+-----+--------------------+--------------------+--------------------+----------+\n",
      "|  0.0|(692,[121,122,123...|[23.6245110333501...|[0.99999999994504...|       0.0|\n",
      "|  0.0|(692,[123,124,125...|[28.0540784022597...|[0.99999999999934...|       0.0|\n",
      "|  0.0|(692,[126,127,128...|[25.9871574643765...|[0.99999999999482...|       0.0|\n",
      "|  0.0|(692,[152,153,154...|[9.00906597634986...|[0.99987771892441...|       0.0|\n",
      "|  0.0|(692,[152,153,154...|[11.5399036668907...|[0.99999026627015...|       0.0|\n",
      "+-----+--------------------+--------------------+--------------------+----------+\n",
      "only showing top 5 rows\n",
      "\n"
     ]
    }
   ],
   "source": [
    "pred_and_labels.predictions.show(5)"
   ]
  },
  {
   "cell_type": "code",
   "execution_count": 18,
   "id": "e6d676a6",
   "metadata": {},
   "outputs": [],
   "source": [
    "from pyspark.ml.evaluation import BinaryClassificationEvaluator"
   ]
  },
  {
   "cell_type": "code",
   "execution_count": 19,
   "id": "b40de5cd",
   "metadata": {},
   "outputs": [],
   "source": [
    "my_eval = BinaryClassificationEvaluator()"
   ]
  },
  {
   "cell_type": "code",
   "execution_count": 21,
   "id": "6014f556",
   "metadata": {},
   "outputs": [],
   "source": [
    "my_roc = my_eval.evaluate(pred_and_labels.predictions)"
   ]
  },
  {
   "cell_type": "code",
   "execution_count": 22,
   "id": "e1828d39",
   "metadata": {},
   "outputs": [
    {
     "data": {
      "text/plain": [
       "1.0"
      ]
     },
     "execution_count": 22,
     "metadata": {},
     "output_type": "execute_result"
    }
   ],
   "source": [
    "# 1.0 represents a perfect fit on the test data\n",
    "my_roc"
   ]
  },
  {
   "cell_type": "markdown",
   "id": "0eb709d3",
   "metadata": {},
   "source": [
    "## 2nd Example - Titanic"
   ]
  },
  {
   "cell_type": "code",
   "execution_count": 24,
   "id": "d6c68927",
   "metadata": {},
   "outputs": [],
   "source": [
    "ship_data = spark.read.csv('../Datasets/titanic.csv', inferSchema=True, header=True)"
   ]
  },
  {
   "cell_type": "code",
   "execution_count": 25,
   "id": "b8d65816",
   "metadata": {},
   "outputs": [
    {
     "name": "stdout",
     "output_type": "stream",
     "text": [
      "root\n",
      " |-- PassengerId: integer (nullable = true)\n",
      " |-- Survived: integer (nullable = true)\n",
      " |-- Pclass: integer (nullable = true)\n",
      " |-- Name: string (nullable = true)\n",
      " |-- Sex: string (nullable = true)\n",
      " |-- Age: double (nullable = true)\n",
      " |-- SibSp: integer (nullable = true)\n",
      " |-- Parch: integer (nullable = true)\n",
      " |-- Ticket: string (nullable = true)\n",
      " |-- Fare: double (nullable = true)\n",
      " |-- Cabin: string (nullable = true)\n",
      " |-- Embarked: string (nullable = true)\n",
      "\n"
     ]
    }
   ],
   "source": [
    "ship_data.printSchema()"
   ]
  },
  {
   "cell_type": "code",
   "execution_count": 26,
   "id": "01b2e4ce",
   "metadata": {},
   "outputs": [
    {
     "data": {
      "text/plain": [
       "['PassengerId',\n",
       " 'Survived',\n",
       " 'Pclass',\n",
       " 'Name',\n",
       " 'Sex',\n",
       " 'Age',\n",
       " 'SibSp',\n",
       " 'Parch',\n",
       " 'Ticket',\n",
       " 'Fare',\n",
       " 'Cabin',\n",
       " 'Embarked']"
      ]
     },
     "execution_count": 26,
     "metadata": {},
     "output_type": "execute_result"
    }
   ],
   "source": [
    "ship_data.columns"
   ]
  },
  {
   "cell_type": "code",
   "execution_count": 27,
   "id": "86702a4e",
   "metadata": {},
   "outputs": [],
   "source": [
    "ship_col = ['Survived','Pclass','Sex','Age','SibSp','Parch','Fare','Embarked']\n",
    "\n",
    "ship_data = ship_data.select(ship_col)"
   ]
  },
  {
   "cell_type": "code",
   "execution_count": 30,
   "id": "8d11fd03",
   "metadata": {},
   "outputs": [],
   "source": [
    "# drop null values\n",
    "ship_data = ship_data.na.drop()"
   ]
  },
  {
   "cell_type": "code",
   "execution_count": 31,
   "id": "3b9d1c19",
   "metadata": {},
   "outputs": [],
   "source": [
    "from pyspark.ml.feature import (VectorAssembler, VectorIndexer,\n",
    "                                OneHotEncoder, StringIndexer)"
   ]
  },
  {
   "cell_type": "code",
   "execution_count": 32,
   "id": "d6d47bb5",
   "metadata": {},
   "outputs": [],
   "source": [
    "gender_indexer = StringIndexer(inputCol='Sex', outputCol='SexIndex')"
   ]
  },
  {
   "cell_type": "code",
   "execution_count": 33,
   "id": "45d5dbba",
   "metadata": {},
   "outputs": [],
   "source": [
    "gender_encoder = OneHotEncoder(inputCol='SexIndex', outputCol='SexVec')"
   ]
  },
  {
   "cell_type": "code",
   "execution_count": 34,
   "id": "b6775acd",
   "metadata": {},
   "outputs": [],
   "source": [
    "embark_indexer = StringIndexer(inputCol='Embarked', outputCol='EmbarkIndex')"
   ]
  },
  {
   "cell_type": "code",
   "execution_count": 35,
   "id": "c6de4a2c",
   "metadata": {},
   "outputs": [],
   "source": [
    "embark_encoder = OneHotEncoder(inputCol='EmbarkIndex', outputCol='EmbarkVec')"
   ]
  },
  {
   "cell_type": "code",
   "execution_count": 36,
   "id": "4e1aa834",
   "metadata": {},
   "outputs": [],
   "source": [
    "assembler = VectorAssembler(inputCols=['Pclass','SexVec','EmbarkVec','Age','SibSp','Parch','Fare'],\n",
    "                           outputCol='features')"
   ]
  },
  {
   "cell_type": "code",
   "execution_count": 37,
   "id": "79ba7f06",
   "metadata": {},
   "outputs": [],
   "source": [
    "from pyspark.ml import Pipeline"
   ]
  },
  {
   "cell_type": "code",
   "execution_count": 38,
   "id": "0e41487b",
   "metadata": {},
   "outputs": [],
   "source": [
    "log_reg = LogisticRegression(featuresCol='features', labelCol='Survived')"
   ]
  },
  {
   "cell_type": "code",
   "execution_count": 40,
   "id": "8210b443",
   "metadata": {},
   "outputs": [],
   "source": [
    "pipeline = Pipeline(stages=[gender_indexer, embark_indexer,\n",
    "                    gender_encoder, embark_encoder,\n",
    "                    assembler, log_reg])"
   ]
  },
  {
   "cell_type": "code",
   "execution_count": 44,
   "id": "7449826f",
   "metadata": {},
   "outputs": [],
   "source": [
    "train_data, test_data = ship_data.randomSplit([0.7, 0.3])"
   ]
  },
  {
   "cell_type": "code",
   "execution_count": 45,
   "id": "a15cb296",
   "metadata": {},
   "outputs": [],
   "source": [
    "ship_model = pipeline.fit(train_data)"
   ]
  },
  {
   "cell_type": "code",
   "execution_count": 46,
   "id": "bd7590e8",
   "metadata": {},
   "outputs": [],
   "source": [
    "results = ship_model.transform(test_data)"
   ]
  },
  {
   "cell_type": "code",
   "execution_count": 47,
   "id": "cf7e3233",
   "metadata": {},
   "outputs": [],
   "source": [
    "ship_eval = BinaryClassificationEvaluator(rawPredictionCol='prediction', labelCol='Survived')"
   ]
  },
  {
   "cell_type": "code",
   "execution_count": 48,
   "id": "9f917581",
   "metadata": {},
   "outputs": [],
   "source": [
    "auc = ship_eval.evaluate(results)"
   ]
  },
  {
   "cell_type": "code",
   "execution_count": 50,
   "id": "2ac7e2e5",
   "metadata": {},
   "outputs": [
    {
     "data": {
      "text/plain": [
       "0.8173076923076922"
      ]
     },
     "execution_count": 50,
     "metadata": {},
     "output_type": "execute_result"
    }
   ],
   "source": [
    "# auc represents Area Under the Curve\n",
    "auc"
   ]
  },
  {
   "cell_type": "code",
   "execution_count": null,
   "id": "0c16fcf2",
   "metadata": {},
   "outputs": [],
   "source": []
  }
 ],
 "metadata": {
  "kernelspec": {
   "display_name": "Python 3 (ipykernel)",
   "language": "python",
   "name": "python3"
  },
  "language_info": {
   "codemirror_mode": {
    "name": "ipython",
    "version": 3
   },
   "file_extension": ".py",
   "mimetype": "text/x-python",
   "name": "python",
   "nbconvert_exporter": "python",
   "pygments_lexer": "ipython3",
   "version": "3.8.13"
  }
 },
 "nbformat": 4,
 "nbformat_minor": 5
}
