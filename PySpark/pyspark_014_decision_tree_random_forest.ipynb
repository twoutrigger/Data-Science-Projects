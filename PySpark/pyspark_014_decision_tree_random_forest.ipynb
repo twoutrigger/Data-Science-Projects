{
 "cells": [
  {
   "cell_type": "markdown",
   "id": "4204bec2",
   "metadata": {},
   "source": [
    "## Purpose of script:\n",
    "#### Reviewing Spark's tree-based models implementation\n",
    "#### Referencing Jose Portilla's \"Spark and Python for Big Data with PySpark\" course¶"
   ]
  },
  {
   "cell_type": "code",
   "execution_count": 6,
   "id": "340a7cca",
   "metadata": {},
   "outputs": [],
   "source": [
    "from pyspark.sql import SparkSession\n",
    "from pyspark.ml import Pipeline\n",
    "# use .ml.regression for tree-based regression models\n",
    "from pyspark.ml.classification import (RandomForestClassifier,\n",
    "                                       DecisionTreeClassifier,\n",
    "                                       GBTClassifier)"
   ]
  },
  {
   "cell_type": "code",
   "execution_count": 2,
   "id": "cea867ee",
   "metadata": {},
   "outputs": [],
   "source": [
    "spark = SparkSession.builder.appName('tree_based_models').getOrCreate()"
   ]
  },
  {
   "cell_type": "code",
   "execution_count": 3,
   "id": "8e4849bb",
   "metadata": {},
   "outputs": [],
   "source": [
    "data = spark.read.format('libsvm').load('../Datasets/sample_libsvm_data.txt')"
   ]
  },
  {
   "cell_type": "code",
   "execution_count": 4,
   "id": "73eca938",
   "metadata": {},
   "outputs": [
    {
     "name": "stdout",
     "output_type": "stream",
     "text": [
      "+-----+--------------------+\n",
      "|label|            features|\n",
      "+-----+--------------------+\n",
      "|  0.0|(692,[127,128,129...|\n",
      "|  1.0|(692,[158,159,160...|\n",
      "|  1.0|(692,[124,125,126...|\n",
      "|  1.0|(692,[152,153,154...|\n",
      "|  1.0|(692,[151,152,153...|\n",
      "+-----+--------------------+\n",
      "only showing top 5 rows\n",
      "\n"
     ]
    }
   ],
   "source": [
    "data.show(5)"
   ]
  },
  {
   "cell_type": "code",
   "execution_count": 5,
   "id": "ea903051",
   "metadata": {},
   "outputs": [],
   "source": [
    "train_data, test_data = data.randomSplit([0.7, 0.3])"
   ]
  },
  {
   "cell_type": "code",
   "execution_count": 8,
   "id": "f396cf1a",
   "metadata": {},
   "outputs": [],
   "source": [
    "dtc = DecisionTreeClassifier()\n",
    "rfc = RandomForestClassifier(numTrees=100)\n",
    "gbt = GBTClassifier()"
   ]
  },
  {
   "cell_type": "code",
   "execution_count": 9,
   "id": "38eb8d0b",
   "metadata": {},
   "outputs": [],
   "source": [
    "dtc_model = dtc.fit(train_data)\n",
    "rfc_model = rfc.fit(train_data)\n",
    "gbt_model = gbt.fit(train_data)"
   ]
  },
  {
   "cell_type": "code",
   "execution_count": 11,
   "id": "ea90475c",
   "metadata": {},
   "outputs": [],
   "source": [
    "dtc_pred = dtc_model.transform(test_data)\n",
    "rfc_pred = rfc_model.transform(test_data)\n",
    "gbt_pred = gbt_model.transform(test_data)"
   ]
  },
  {
   "cell_type": "code",
   "execution_count": 13,
   "id": "4e825d89",
   "metadata": {},
   "outputs": [
    {
     "name": "stdout",
     "output_type": "stream",
     "text": [
      "+-----+--------------------+-------------+-----------+----------+\n",
      "|label|            features|rawPrediction|probability|prediction|\n",
      "+-----+--------------------+-------------+-----------+----------+\n",
      "|  0.0|(692,[95,96,97,12...|   [28.0,0.0]|  [1.0,0.0]|       0.0|\n",
      "+-----+--------------------+-------------+-----------+----------+\n",
      "only showing top 1 row\n",
      "\n"
     ]
    }
   ],
   "source": [
    "dtc_pred.show(1)"
   ]
  },
  {
   "cell_type": "code",
   "execution_count": 16,
   "id": "2be067c0",
   "metadata": {},
   "outputs": [],
   "source": [
    "# using Multiclass as it provide additional accuracy metrics compared to binary\n",
    "from pyspark.ml.evaluation import MulticlassClassificationEvaluator"
   ]
  },
  {
   "cell_type": "code",
   "execution_count": 17,
   "id": "47d6bd2e",
   "metadata": {},
   "outputs": [],
   "source": [
    "acc_eval = MulticlassClassificationEvaluator(metricName='accuracy')"
   ]
  },
  {
   "cell_type": "code",
   "execution_count": 19,
   "id": "d79ea072",
   "metadata": {},
   "outputs": [],
   "source": [
    "dtc_acc = acc_eval.evaluate(dtc_pred)\n",
    "rfc_acc = acc_eval.evaluate(rfc_pred)\n",
    "gbt_acc = acc_eval.evaluate(gbt_pred)"
   ]
  },
  {
   "cell_type": "code",
   "execution_count": 21,
   "id": "0054a9a2",
   "metadata": {},
   "outputs": [
    {
     "name": "stdout",
     "output_type": "stream",
     "text": [
      "Decision Tree Model Accuracy: 0.8461538461538461\n",
      "Random Forest Model Accuracy: 1.0\n",
      "Gradient Boost Model Accuracy: 0.8461538461538461\n"
     ]
    }
   ],
   "source": [
    "# this is test data, so accuracy is unusually high\n",
    "print(f'Decision Tree Model Accuracy: {dtc_acc}')\n",
    "print(f'Random Forest Model Accuracy: {rfc_acc}')\n",
    "print(f'Gradient Boost Model Accuracy: {gbt_acc}')"
   ]
  },
  {
   "cell_type": "code",
   "execution_count": null,
   "id": "e5d25924",
   "metadata": {},
   "outputs": [],
   "source": []
  }
 ],
 "metadata": {
  "kernelspec": {
   "display_name": "Python 3 (ipykernel)",
   "language": "python",
   "name": "python3"
  },
  "language_info": {
   "codemirror_mode": {
    "name": "ipython",
    "version": 3
   },
   "file_extension": ".py",
   "mimetype": "text/x-python",
   "name": "python",
   "nbconvert_exporter": "python",
   "pygments_lexer": "ipython3",
   "version": "3.8.13"
  }
 },
 "nbformat": 4,
 "nbformat_minor": 5
}
