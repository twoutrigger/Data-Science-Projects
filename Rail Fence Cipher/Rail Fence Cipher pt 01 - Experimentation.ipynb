{
 "cells": [
  {
   "cell_type": "code",
   "execution_count": 2,
   "metadata": {},
   "outputs": [],
   "source": [
    "# this project experiments with creating a rail fence cipher with Python"
   ]
  },
  {
   "cell_type": "code",
   "execution_count": 3,
   "metadata": {},
   "outputs": [],
   "source": [
    "wiki_url = 'https://en.wikipedia.org/wiki/Transposition_cipher'"
   ]
  },
  {
   "cell_type": "code",
   "execution_count": 4,
   "metadata": {},
   "outputs": [],
   "source": [
    "test_phrase = 'WE ARE DISCOVERED FLEE AT ONCE'"
   ]
  },
  {
   "cell_type": "code",
   "execution_count": 5,
   "metadata": {},
   "outputs": [],
   "source": [
    "def rail_fence_cipher(phrase, rails):\n",
    "    phrase = str(phrase).upper().replace(' ', '')\n",
    "    matrix = []\n",
    "    for i in range(rails):\n",
    "        matrix.append([])\n",
    "        \n",
    "    step = 1\n",
    "    start = 0\n",
    "    \n",
    "    # append(' ') adopted to visually show encryption in app\n",
    "    for letter in phrase:\n",
    "        for rail in range(rails):\n",
    "            if rail == start:\n",
    "                matrix[rail].append(letter)\n",
    "            else:\n",
    "                matrix[rail].append(' ')\n",
    "                \n",
    "        start += step\n",
    "        \n",
    "        if start == min(range(rails)):\n",
    "            step = 1\n",
    "        elif start == max(range(rails)):\n",
    "            step = -1\n",
    "    \n",
    "    for i in matrix:\n",
    "        print(i)\n",
    "    \n",
    "    cipher = ''.join(sum(matrix, [])).replace(' ', '')\n",
    "    \n",
    "    return cipher"
   ]
  },
  {
   "cell_type": "code",
   "execution_count": 6,
   "metadata": {},
   "outputs": [
    {
     "name": "stdout",
     "output_type": "stream",
     "text": [
      "['W', ' ', ' ', ' ', 'E', ' ', ' ', ' ', 'C', ' ', ' ', ' ', 'R', ' ', ' ', ' ', 'L', ' ', ' ', ' ', 'T', ' ', ' ', ' ', 'E']\n",
      "[' ', 'E', ' ', 'R', ' ', 'D', ' ', 'S', ' ', 'O', ' ', 'E', ' ', 'E', ' ', 'F', ' ', 'E', ' ', 'A', ' ', 'O', ' ', 'C', ' ']\n",
      "[' ', ' ', 'A', ' ', ' ', ' ', 'I', ' ', ' ', ' ', 'V', ' ', ' ', ' ', 'D', ' ', ' ', ' ', 'E', ' ', ' ', ' ', 'N', ' ', ' ']\n",
      "WECRLTEERDSOEEFEAOCAIVDEN\n"
     ]
    }
   ],
   "source": [
    "print(rail_fence_cipher(test_phrase, 3))"
   ]
  },
  {
   "cell_type": "code",
   "execution_count": 7,
   "metadata": {},
   "outputs": [
    {
     "name": "stdout",
     "output_type": "stream",
     "text": [
      "['W', ' ', ' ', ' ', ' ', ' ', 'I', ' ', ' ', ' ', ' ', ' ', 'R', ' ', ' ', ' ', ' ', ' ', 'E', ' ', ' ', ' ', ' ', ' ', 'E']\n",
      "[' ', 'E', ' ', ' ', ' ', 'D', ' ', 'S', ' ', ' ', ' ', 'E', ' ', 'E', ' ', ' ', ' ', 'E', ' ', 'A', ' ', ' ', ' ', 'C', ' ']\n",
      "[' ', ' ', 'A', ' ', 'E', ' ', ' ', ' ', 'C', ' ', 'V', ' ', ' ', ' ', 'D', ' ', 'L', ' ', ' ', ' ', 'T', ' ', 'N', ' ', ' ']\n",
      "[' ', ' ', ' ', 'R', ' ', ' ', ' ', ' ', ' ', 'O', ' ', ' ', ' ', ' ', ' ', 'F', ' ', ' ', ' ', ' ', ' ', 'O', ' ', ' ', ' ']\n",
      "WIREEEDSEEEACAECVDLTNROFO\n"
     ]
    }
   ],
   "source": [
    "print(rail_fence_cipher(test_phrase, 4))"
   ]
  },
  {
   "cell_type": "code",
   "execution_count": 33,
   "metadata": {},
   "outputs": [],
   "source": [
    "def rail_fence_decipher(phrase, rails):\n",
    "    phrase = str(phrase).upper().replace(' ', '')\n",
    "    \n",
    "    matrix = []\n",
    "    for i in range(rails):\n",
    "        matrix.append([])\n",
    "        \n",
    "    step = 1\n",
    "    start = 0\n",
    "    \n",
    "    for letter in phrase:\n",
    "        for rail in range(rails):\n",
    "            if rail == start:\n",
    "                matrix[rail].append('*')\n",
    "            else:\n",
    "                matrix[rail].append(' ')\n",
    "                \n",
    "        start += step\n",
    "        \n",
    "        if start == min(range(rails)):\n",
    "            step = 1\n",
    "        elif start == max(range(rails)):\n",
    "            step = -1\n",
    "     \n",
    "    phrase_i = 0\n",
    "    for rail_i, rail in enumerate(matrix):\n",
    "        for char_i, char in enumerate(rail):\n",
    "            if char == '*':\n",
    "                matrix[rail_i][char_i] = phrase[phrase_i]\n",
    "                phrase_i += 1\n",
    "                \n",
    "    decipher = ''\n",
    "    \n",
    "    for phrase_i in range(len(phrase)):\n",
    "        for rail in matrix:\n",
    "            if rail[phrase_i] != ' ':\n",
    "                decipher += rail[phrase_i]\n",
    "              \n",
    "    return decipher"
   ]
  },
  {
   "cell_type": "code",
   "execution_count": 37,
   "metadata": {},
   "outputs": [
    {
     "name": "stdout",
     "output_type": "stream",
     "text": [
      "['W', ' ', ' ', ' ', ' ', ' ', 'I', ' ', ' ', ' ', ' ', ' ', 'R', ' ', ' ', ' ', ' ', ' ', 'E', ' ', ' ', ' ', ' ', ' ', 'E']\n",
      "[' ', 'E', ' ', ' ', ' ', 'D', ' ', 'S', ' ', ' ', ' ', 'E', ' ', 'E', ' ', ' ', ' ', 'E', ' ', 'A', ' ', ' ', ' ', 'C', ' ']\n",
      "[' ', ' ', 'A', ' ', 'E', ' ', ' ', ' ', 'C', ' ', 'V', ' ', ' ', ' ', 'D', ' ', 'L', ' ', ' ', ' ', 'T', ' ', 'N', ' ', ' ']\n",
      "[' ', ' ', ' ', 'R', ' ', ' ', ' ', ' ', ' ', 'O', ' ', ' ', ' ', ' ', ' ', 'F', ' ', ' ', ' ', ' ', ' ', 'O', ' ', ' ', ' ']\n"
     ]
    },
    {
     "data": {
      "text/plain": [
       "'WEAREDISCOVEREDFLEEATONCE'"
      ]
     },
     "execution_count": 37,
     "metadata": {},
     "output_type": "execute_result"
    }
   ],
   "source": [
    "rail_fence_decipher(rail_fence_cipher(test_phrase, 4), 4)"
   ]
  },
  {
   "cell_type": "code",
   "execution_count": null,
   "metadata": {},
   "outputs": [],
   "source": []
  }
 ],
 "metadata": {
  "kernelspec": {
   "display_name": "Python 3",
   "language": "python",
   "name": "python3"
  },
  "language_info": {
   "codemirror_mode": {
    "name": "ipython",
    "version": 3
   },
   "file_extension": ".py",
   "mimetype": "text/x-python",
   "name": "python",
   "nbconvert_exporter": "python",
   "pygments_lexer": "ipython3",
   "version": "3.7.3"
  }
 },
 "nbformat": 4,
 "nbformat_minor": 2
}
