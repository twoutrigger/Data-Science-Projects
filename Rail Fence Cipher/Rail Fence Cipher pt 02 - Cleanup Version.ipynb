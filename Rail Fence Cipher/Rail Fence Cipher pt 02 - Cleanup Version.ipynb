{
 "cells": [
  {
   "cell_type": "code",
   "execution_count": 1,
   "metadata": {},
   "outputs": [],
   "source": [
    "# this project experiments with creating a rail fence cipher with Python\n",
    "# this version has improved documentation "
   ]
  },
  {
   "cell_type": "code",
   "execution_count": 2,
   "metadata": {},
   "outputs": [],
   "source": [
    "wiki_url = 'https://en.wikipedia.org/wiki/Transposition_cipher'"
   ]
  },
  {
   "cell_type": "code",
   "execution_count": 10,
   "metadata": {},
   "outputs": [],
   "source": [
    "quote = 'Keep Calm and keep coding'"
   ]
  },
  {
   "cell_type": "code",
   "execution_count": 20,
   "metadata": {},
   "outputs": [],
   "source": [
    "def rail_fence_cipher(phrase, rails):\n",
    "    \n",
    "    phrase = str(phrase).upper().replace(' ', '')\n",
    "    \n",
    "    # create list of lists to fill\n",
    "    matrix = []\n",
    "    for i in range(rails):\n",
    "        matrix.append([])\n",
    "        \n",
    "    step = 1\n",
    "    start = 0\n",
    "    \n",
    "    # append phrase letter in zigzag pattern\n",
    "    for letter in phrase:\n",
    "        for rail in range(rails):\n",
    "            if rail == start:\n",
    "                matrix[rail].append(letter)\n",
    "            else:\n",
    "                matrix[rail].append(' ')\n",
    "                \n",
    "        start += step\n",
    "        \n",
    "        # control zigzag direction\n",
    "        if start == min(range(rails)):\n",
    "            step = 1\n",
    "        elif start == max(range(rails)):\n",
    "            step = -1\n",
    "    \n",
    "    # print within function for visualisation only\n",
    "    for i in matrix:\n",
    "        print(i)\n",
    "        \n",
    "    cipher = ''.join(sum(matrix, [])).replace(' ', '')\n",
    "    \n",
    "    return cipher"
   ]
  },
  {
   "cell_type": "code",
   "execution_count": 63,
   "metadata": {},
   "outputs": [],
   "source": [
    "def rail_fence_decipher(phrase, rails):\n",
    "    \n",
    "    phrase = str(phrase).upper().replace(' ', '')\n",
    "    \n",
    "    # create list of lists to fill\n",
    "    matrix = []\n",
    "    for i in range(rails):\n",
    "        matrix.append([])\n",
    "        \n",
    "    step = 1\n",
    "    start = 0\n",
    "    \n",
    "    # create zigzag pattern to be filled\n",
    "    for letter in phrase:\n",
    "        for rail in range(rails):\n",
    "            if rail == start:\n",
    "                matrix[rail].append('*')\n",
    "            else:\n",
    "                matrix[rail].append(' ')\n",
    "                \n",
    "        start += step\n",
    "        \n",
    "        # control zigzag direction\n",
    "        if start == min(range(rails)):\n",
    "            step = 1\n",
    "        elif start == max(range(rails)):\n",
    "            step = -1\n",
    "    \n",
    "    # fill in ciphered letters\n",
    "    phrase_i = 0\n",
    "    for rail_i, rail in enumerate(matrix):\n",
    "        for char_i, char in enumerate(rail):\n",
    "            if char == '*':\n",
    "                matrix[rail_i][char_i] = phrase[phrase_i]\n",
    "                phrase_i += 1\n",
    "                \n",
    "    decipher = ''\n",
    "    \n",
    "    # reassemble deciphered letters\n",
    "    for phrase_i in range(len(phrase)):\n",
    "        for rail in matrix:\n",
    "            if rail[phrase_i] != ' ':\n",
    "                decipher += rail[phrase_i]\n",
    "                \n",
    "    return decipher"
   ]
  },
  {
   "cell_type": "code",
   "execution_count": 25,
   "metadata": {},
   "outputs": [
    {
     "name": "stdout",
     "output_type": "stream",
     "text": [
      "['K', ' ', ' ', ' ', 'C', ' ', ' ', ' ', 'A', ' ', ' ', ' ', 'E', ' ', ' ', ' ', 'O', ' ', ' ', ' ', 'G']\n",
      "[' ', 'E', ' ', 'P', ' ', 'A', ' ', 'M', ' ', 'N', ' ', 'K', ' ', 'E', ' ', 'C', ' ', 'D', ' ', 'N', ' ']\n",
      "[' ', ' ', 'E', ' ', ' ', ' ', 'L', ' ', ' ', ' ', 'D', ' ', ' ', ' ', 'P', ' ', ' ', ' ', 'I', ' ', ' ']\n",
      "KCAEOGEPAMNKECDNELDPI\n"
     ]
    }
   ],
   "source": [
    "print(rail_fence_cipher(quote, 3))"
   ]
  },
  {
   "cell_type": "code",
   "execution_count": 26,
   "metadata": {},
   "outputs": [
    {
     "name": "stdout",
     "output_type": "stream",
     "text": [
      "['K', ' ', ' ', ' ', ' ', ' ', 'L', ' ', ' ', ' ', ' ', ' ', 'E', ' ', ' ', ' ', ' ', ' ', 'I', ' ', ' ']\n",
      "[' ', 'E', ' ', ' ', ' ', 'A', ' ', 'M', ' ', ' ', ' ', 'K', ' ', 'E', ' ', ' ', ' ', 'D', ' ', 'N', ' ']\n",
      "[' ', ' ', 'E', ' ', 'C', ' ', ' ', ' ', 'A', ' ', 'D', ' ', ' ', ' ', 'P', ' ', 'O', ' ', ' ', ' ', 'G']\n",
      "[' ', ' ', ' ', 'P', ' ', ' ', ' ', ' ', ' ', 'N', ' ', ' ', ' ', ' ', ' ', 'C', ' ', ' ', ' ', ' ', ' ']\n",
      "KLEIEAMKEDNECADPOGPNC\n"
     ]
    }
   ],
   "source": [
    "print(rail_fence_cipher(quote, 4))"
   ]
  },
  {
   "cell_type": "code",
   "execution_count": 28,
   "metadata": {},
   "outputs": [
    {
     "name": "stdout",
     "output_type": "stream",
     "text": [
      "['K', ' ', ' ', ' ', ' ', ' ', 'L', ' ', ' ', ' ', ' ', ' ', 'E', ' ', ' ', ' ', ' ', ' ', 'I', ' ', ' ']\n",
      "[' ', 'E', ' ', ' ', ' ', 'A', ' ', 'M', ' ', ' ', ' ', 'K', ' ', 'E', ' ', ' ', ' ', 'D', ' ', 'N', ' ']\n",
      "[' ', ' ', 'E', ' ', 'C', ' ', ' ', ' ', 'A', ' ', 'D', ' ', ' ', ' ', 'P', ' ', 'O', ' ', ' ', ' ', 'G']\n",
      "[' ', ' ', ' ', 'P', ' ', ' ', ' ', ' ', ' ', 'N', ' ', ' ', ' ', ' ', ' ', 'C', ' ', ' ', ' ', ' ', ' ']\n",
      "KEEPCALMANDKEEPCODING\n"
     ]
    }
   ],
   "source": [
    "print(rail_fence_decipher(rail_fence_cipher(quote, 4), 4))"
   ]
  },
  {
   "cell_type": "markdown",
   "metadata": {},
   "source": [
    "### LinkedIn Shortened Versions"
   ]
  },
  {
   "cell_type": "markdown",
   "metadata": {},
   "source": [
    "#### Rail Fence Cipher Function"
   ]
  },
  {
   "cell_type": "code",
   "execution_count": 58,
   "metadata": {},
   "outputs": [],
   "source": [
    "def rail_fence_cipher(phrase, rails):\n",
    "    phrase = str(phrase).upper().replace(' ', '')\n",
    "    matrix = [[] for i in range(rails)]\n",
    "    step, start = 1, 0\n",
    "    \n",
    "    for letter in phrase:\n",
    "        for rail in range(rails):\n",
    "            if rail == start:\n",
    "                matrix[rail].append(letter)\n",
    "            else:\n",
    "                matrix[rail].append(' ') \n",
    "        start += step\n",
    "        if start == min(range(rails)):\n",
    "            step = 1\n",
    "        elif start == max(range(rails)):\n",
    "            step = -1\n",
    "            \n",
    "    for i in matrix:\n",
    "        print(i)\n",
    "    \n",
    "    return ''.join(sum(matrix, [])).replace(' ', '')"
   ]
  },
  {
   "cell_type": "markdown",
   "metadata": {},
   "source": [
    "#### Rail Fence Decipher Function"
   ]
  },
  {
   "cell_type": "code",
   "execution_count": 72,
   "metadata": {},
   "outputs": [],
   "source": [
    "def rail_fence_decipher(phrase, rails):\n",
    "    phrase = str(phrase).upper().replace(' ', '')\n",
    "    matrix = [[] for i in range(rails)]\n",
    "    step, start = 1, 0\n",
    "\n",
    "    for letter in phrase:\n",
    "        for rail in range(rails):\n",
    "            if rail == start:\n",
    "                matrix[rail].append('*')\n",
    "            else:\n",
    "                matrix[rail].append(' ')     \n",
    "        start += step\n",
    "        if start == min(range(rails)):\n",
    "            step = 1\n",
    "        elif start == max(range(rails)):\n",
    "            step = -1\n",
    "    \n",
    "    phrase_i = 0\n",
    "    for rail_i, rail in enumerate(matrix):\n",
    "        for char_i, char in enumerate(rail):\n",
    "            if char == '*':\n",
    "                matrix[rail_i][char_i] = phrase[phrase_i]\n",
    "                phrase_i += 1\n",
    "                \n",
    "    decipher = ''\n",
    "    for phrase_i in range(len(phrase)):\n",
    "        for rail in matrix:\n",
    "            if rail[phrase_i] != ' ':\n",
    "                decipher += rail[phrase_i]\n",
    "                \n",
    "    return decipher"
   ]
  },
  {
   "cell_type": "markdown",
   "metadata": {},
   "source": [
    "#### Original quote to cipher"
   ]
  },
  {
   "cell_type": "code",
   "execution_count": 59,
   "metadata": {},
   "outputs": [],
   "source": [
    "quote = 'Keep Calm and keep coding'"
   ]
  },
  {
   "cell_type": "markdown",
   "metadata": {},
   "source": [
    "#### Rail Fence Cipher with 3 rails"
   ]
  },
  {
   "cell_type": "code",
   "execution_count": 60,
   "metadata": {},
   "outputs": [
    {
     "name": "stdout",
     "output_type": "stream",
     "text": [
      "['K', ' ', ' ', ' ', 'C', ' ', ' ', ' ', 'A', ' ', ' ', ' ', 'E', ' ', ' ', ' ', 'O', ' ', ' ', ' ', 'G']\n",
      "[' ', 'E', ' ', 'P', ' ', 'A', ' ', 'M', ' ', 'N', ' ', 'K', ' ', 'E', ' ', 'C', ' ', 'D', ' ', 'N', ' ']\n",
      "[' ', ' ', 'E', ' ', ' ', ' ', 'L', ' ', ' ', ' ', 'D', ' ', ' ', ' ', 'P', ' ', ' ', ' ', 'I', ' ', ' ']\n",
      "KCAEOGEPAMNKECDNELDPI\n"
     ]
    }
   ],
   "source": [
    "print(rail_fence_cipher(quote, 3)) # cipher is left to right, top to bottom"
   ]
  },
  {
   "cell_type": "markdown",
   "metadata": {},
   "source": [
    "#### Rail Fence Cipher with 4 rails"
   ]
  },
  {
   "cell_type": "code",
   "execution_count": 61,
   "metadata": {},
   "outputs": [
    {
     "name": "stdout",
     "output_type": "stream",
     "text": [
      "['K', ' ', ' ', ' ', ' ', ' ', 'L', ' ', ' ', ' ', ' ', ' ', 'E', ' ', ' ', ' ', ' ', ' ', 'I', ' ', ' ']\n",
      "[' ', 'E', ' ', ' ', ' ', 'A', ' ', 'M', ' ', ' ', ' ', 'K', ' ', 'E', ' ', ' ', ' ', 'D', ' ', 'N', ' ']\n",
      "[' ', ' ', 'E', ' ', 'C', ' ', ' ', ' ', 'A', ' ', 'D', ' ', ' ', ' ', 'P', ' ', 'O', ' ', ' ', ' ', 'G']\n",
      "[' ', ' ', ' ', 'P', ' ', ' ', ' ', ' ', ' ', 'N', ' ', ' ', ' ', ' ', ' ', 'C', ' ', ' ', ' ', ' ', ' ']\n",
      "KLEIEAMKEDNECADPOGPNC\n"
     ]
    }
   ],
   "source": [
    "print(rail_fence_cipher(quote, 4)) # cipher is left to right, top to bottom"
   ]
  },
  {
   "cell_type": "markdown",
   "metadata": {},
   "source": [
    "#### Decipher 4-rail cipher"
   ]
  },
  {
   "cell_type": "code",
   "execution_count": 64,
   "metadata": {},
   "outputs": [
    {
     "name": "stdout",
     "output_type": "stream",
     "text": [
      "KEEPCALMANDKEEPCODING\n"
     ]
    }
   ],
   "source": [
    "print(rail_fence_decipher('KLEIEAMKEDNECADPOGPNC', 4)) # decrypted to the original quote :)"
   ]
  },
  {
   "cell_type": "code",
   "execution_count": null,
   "metadata": {},
   "outputs": [],
   "source": []
  }
 ],
 "metadata": {
  "kernelspec": {
   "display_name": "Python 3",
   "language": "python",
   "name": "python3"
  },
  "language_info": {
   "codemirror_mode": {
    "name": "ipython",
    "version": 3
   },
   "file_extension": ".py",
   "mimetype": "text/x-python",
   "name": "python",
   "nbconvert_exporter": "python",
   "pygments_lexer": "ipython3",
   "version": "3.7.3"
  }
 },
 "nbformat": 4,
 "nbformat_minor": 2
}
