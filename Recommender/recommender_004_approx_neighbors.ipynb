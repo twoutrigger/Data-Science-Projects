{
 "cells": [
  {
   "cell_type": "code",
   "execution_count": 1,
   "metadata": {},
   "outputs": [],
   "source": [
    "## quick tutorial on Approximate Nearest Neighbors\n",
    "## tutorial url:\n",
    "## https://towardsdatascience.com/comprehensive-guide-to-approximate-nearest-neighbors-algorithms-8b94f057d6b6#:~:text=Approximate%20Nearest%20Neighbor%20techniques%20speed,dimensionality%20reduction%20and%20vector%20rotation."
   ]
  },
  {
   "cell_type": "code",
   "execution_count": 2,
   "metadata": {},
   "outputs": [],
   "source": [
    "import pickle\n",
    "import faiss\n",
    "import annoy"
   ]
  },
  {
   "cell_type": "code",
   "execution_count": 3,
   "metadata": {},
   "outputs": [
    {
     "name": "stdout",
     "output_type": "stream",
     "text": [
      "1682\n",
      "['Toy Story (1995)' 'GoldenEye (1995)' 'Four Rooms (1995)'\n",
      " 'Get Shorty (1995)' 'Copycat (1995)']\n",
      "[-0.01780608 -0.14265831  0.10308606 -0.41564542  0.13982998]\n"
     ]
    }
   ],
   "source": [
    "def load_data():\n",
    "    with open('../Datasets/movies.pickle', 'rb') as f:\n",
    "        data = pickle.load(f)\n",
    "    return data\n",
    "\n",
    "data = load_data()\n",
    "\n",
    "print(len(data['name']))\n",
    "print(data['name'][:5])\n",
    "print(data['vector'][0][:5])"
   ]
  },
  {
   "cell_type": "code",
   "execution_count": 4,
   "metadata": {},
   "outputs": [],
   "source": [
    "class ExactIndex():\n",
    "    \n",
    "    def __init__(self, vectors, labels):\n",
    "        self.dimension = vectors.shape[1]\n",
    "        self.vectors = vectors.astype('float32')\n",
    "        self.labels = labels\n",
    "\n",
    "    def build(self):\n",
    "        self.index = faiss.IndexFlatL2(self.dimension,)\n",
    "        self.index.add(self.vectors)\n",
    "\n",
    "    def query(self, vectors, k=10):\n",
    "        distances, indices = self.index.search(vectors, k) \n",
    "        # I expect only query on one vector thus the slice\n",
    "        return [self.labels[i] for i in indices[0]]\n",
    "    \n",
    "index = ExactIndex(data[\"vector\"], data[\"name\"])\n",
    "index.build()"
   ]
  },
  {
   "cell_type": "code",
   "execution_count": 5,
   "metadata": {},
   "outputs": [
    {
     "data": {
      "text/plain": [
       "['Toy Story (1995)',\n",
       " 'Rock, The (1996)',\n",
       " 'Return of the Jedi (1983)',\n",
       " 'Willy Wonka and the Chocolate Factory (1971)',\n",
       " 'Phenomenon (1996)',\n",
       " 'Star Trek: First Contact (1996)',\n",
       " 'Star Wars (1977)',\n",
       " 'Hunchback of Notre Dame, The (1996)',\n",
       " 'Birdcage, The (1996)',\n",
       " 'Mars Attacks! (1996)']"
      ]
     },
     "execution_count": 5,
     "metadata": {},
     "output_type": "execute_result"
    }
   ],
   "source": [
    "index.query(data['vector'])"
   ]
  },
  {
   "cell_type": "code",
   "execution_count": 6,
   "metadata": {},
   "outputs": [],
   "source": [
    "class AnnoyIndex():\n",
    "    def __init__(self, vectors, labels):\n",
    "        self.dimension = vectors.shape[1]\n",
    "        self.vectors = vectors.astype('float32')\n",
    "        self.labels = labels    \n",
    "   \n",
    "    def build(self, number_of_trees=5):\n",
    "        self.index = annoy.AnnoyIndex(self.dimension, metric='angular')\n",
    "        for i, vec in enumerate(self.vectors):\n",
    "            self.index.add_item(i, vec.tolist())\n",
    "        self.index.build(number_of_trees)\n",
    "        \n",
    "    def query(self, vector, k=10):\n",
    "        indices = self.index.get_nns_by_vector(\n",
    "              vector.tolist(), \n",
    "              k)                                           \n",
    "        return [self.labels[i] for i in indices]\n",
    "    \n",
    "index = AnnoyIndex(data[\"vector\"], data[\"name\"])\n",
    "index.build()"
   ]
  },
  {
   "cell_type": "code",
   "execution_count": 7,
   "metadata": {},
   "outputs": [
    {
     "data": {
      "text/plain": [
       "['Toy Story (1995)',\n",
       " 'Return of the Jedi (1983)',\n",
       " 'Star Wars (1977)',\n",
       " 'Willy Wonka and the Chocolate Factory (1971)',\n",
       " 'Star Trek: First Contact (1996)',\n",
       " 'Fargo (1996)',\n",
       " 'Men in Black (1997)',\n",
       " 'Aladdin (1992)',\n",
       " 'Leaving Las Vegas (1995)',\n",
       " 'Beauty and the Beast (1991)']"
      ]
     },
     "execution_count": 7,
     "metadata": {},
     "output_type": "execute_result"
    }
   ],
   "source": [
    "index.query(data['vector'][0])"
   ]
  },
  {
   "cell_type": "code",
   "execution_count": 8,
   "metadata": {},
   "outputs": [
    {
     "data": {
      "text/plain": [
       "['Muppet Treasure Island (1996)',\n",
       " 'James and the Giant Peach (1996)',\n",
       " 'Fantasia (1940)',\n",
       " 'Father of the Bride Part II (1995)',\n",
       " '101 Dalmatians (1996)',\n",
       " 'Matilda (1996)',\n",
       " 'That Thing You Do! (1996)',\n",
       " 'Hunchback of Notre Dame, The (1996)',\n",
       " 'Mystery Science Theater 3000: The Movie (1996)',\n",
       " 'Cinderella (1950)']"
      ]
     },
     "execution_count": 8,
     "metadata": {},
     "output_type": "execute_result"
    }
   ],
   "source": [
    "index.query(data['vector'][20])"
   ]
  },
  {
   "cell_type": "code",
   "execution_count": null,
   "metadata": {},
   "outputs": [],
   "source": []
  }
 ],
 "metadata": {
  "kernelspec": {
   "display_name": "Python 3",
   "language": "python",
   "name": "python3"
  },
  "language_info": {
   "codemirror_mode": {
    "name": "ipython",
    "version": 3
   },
   "file_extension": ".py",
   "mimetype": "text/x-python",
   "name": "python",
   "nbconvert_exporter": "python",
   "pygments_lexer": "ipython3",
   "version": "3.7.3"
  }
 },
 "nbformat": 4,
 "nbformat_minor": 2
}
