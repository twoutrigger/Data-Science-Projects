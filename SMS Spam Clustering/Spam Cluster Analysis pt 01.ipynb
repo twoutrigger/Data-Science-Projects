{
 "cells": [
  {
   "cell_type": "code",
   "execution_count": 1,
   "metadata": {},
   "outputs": [],
   "source": [
    "# In this notebook:\n",
    "# I attempt to cluster spam into similar categories\n",
    "# I utilize K-Means, Agglomerative and DBSCAN clustering\n",
    "# I visualize the clustering results"
   ]
  },
  {
   "cell_type": "code",
   "execution_count": 2,
   "metadata": {},
   "outputs": [],
   "source": [
    "import numpy as np\n",
    "import pandas as pd"
   ]
  },
  {
   "cell_type": "code",
   "execution_count": 3,
   "metadata": {},
   "outputs": [],
   "source": [
    "import warnings\n",
    "warnings.filterwarnings('ignore')"
   ]
  },
  {
   "cell_type": "code",
   "execution_count": 4,
   "metadata": {},
   "outputs": [],
   "source": [
    "pd.set_option('display.max_colwidth', 100)"
   ]
  },
  {
   "cell_type": "code",
   "execution_count": 5,
   "metadata": {},
   "outputs": [
    {
     "name": "stdout",
     "output_type": "stream",
     "text": [
      "ham     4825\n",
      "spam     747\n",
      "Name: class, dtype: int64\n"
     ]
    },
    {
     "data": {
      "text/html": [
       "<div>\n",
       "<style scoped>\n",
       "    .dataframe tbody tr th:only-of-type {\n",
       "        vertical-align: middle;\n",
       "    }\n",
       "\n",
       "    .dataframe tbody tr th {\n",
       "        vertical-align: top;\n",
       "    }\n",
       "\n",
       "    .dataframe thead th {\n",
       "        text-align: right;\n",
       "    }\n",
       "</style>\n",
       "<table border=\"1\" class=\"dataframe\">\n",
       "  <thead>\n",
       "    <tr style=\"text-align: right;\">\n",
       "      <th></th>\n",
       "      <th>class</th>\n",
       "      <th>phrase</th>\n",
       "    </tr>\n",
       "  </thead>\n",
       "  <tbody>\n",
       "    <tr>\n",
       "      <th>0</th>\n",
       "      <td>ham</td>\n",
       "      <td>Go until jurong point, crazy.. Available only in bugis n great world la e buffet... Cine there g...</td>\n",
       "    </tr>\n",
       "    <tr>\n",
       "      <th>1</th>\n",
       "      <td>ham</td>\n",
       "      <td>Ok lar... Joking wif u oni...</td>\n",
       "    </tr>\n",
       "    <tr>\n",
       "      <th>2</th>\n",
       "      <td>spam</td>\n",
       "      <td>Free entry in 2 a wkly comp to win FA Cup final tkts 21st May 2005. Text FA to 87121 to receive ...</td>\n",
       "    </tr>\n",
       "    <tr>\n",
       "      <th>3</th>\n",
       "      <td>ham</td>\n",
       "      <td>U dun say so early hor... U c already then say...</td>\n",
       "    </tr>\n",
       "    <tr>\n",
       "      <th>4</th>\n",
       "      <td>ham</td>\n",
       "      <td>Nah I don't think he goes to usf, he lives around here though</td>\n",
       "    </tr>\n",
       "  </tbody>\n",
       "</table>\n",
       "</div>"
      ],
      "text/plain": [
       "  class  \\\n",
       "0   ham   \n",
       "1   ham   \n",
       "2  spam   \n",
       "3   ham   \n",
       "4   ham   \n",
       "\n",
       "                                                                                                phrase  \n",
       "0  Go until jurong point, crazy.. Available only in bugis n great world la e buffet... Cine there g...  \n",
       "1                                                                        Ok lar... Joking wif u oni...  \n",
       "2  Free entry in 2 a wkly comp to win FA Cup final tkts 21st May 2005. Text FA to 87121 to receive ...  \n",
       "3                                                    U dun say so early hor... U c already then say...  \n",
       "4                                        Nah I don't think he goes to usf, he lives around here though  "
      ]
     },
     "execution_count": 5,
     "metadata": {},
     "output_type": "execute_result"
    }
   ],
   "source": [
    "sorig = pd.read_csv('SMSSpamCollection',sep='\\t',header=None,names=['class','phrase'])\n",
    "\n",
    "print(sorig['class'].value_counts())\n",
    "\n",
    "sorig.head()"
   ]
  },
  {
   "cell_type": "code",
   "execution_count": 6,
   "metadata": {},
   "outputs": [
    {
     "data": {
      "text/plain": [
       "(747, 2)"
      ]
     },
     "execution_count": 6,
     "metadata": {},
     "output_type": "execute_result"
    }
   ],
   "source": [
    "sedit = sorig[sorig['class'] == 'spam']\n",
    "\n",
    "sedit.shape"
   ]
  },
  {
   "cell_type": "code",
   "execution_count": 7,
   "metadata": {},
   "outputs": [
    {
     "data": {
      "text/html": [
       "<div>\n",
       "<style scoped>\n",
       "    .dataframe tbody tr th:only-of-type {\n",
       "        vertical-align: middle;\n",
       "    }\n",
       "\n",
       "    .dataframe tbody tr th {\n",
       "        vertical-align: top;\n",
       "    }\n",
       "\n",
       "    .dataframe thead th {\n",
       "        text-align: right;\n",
       "    }\n",
       "</style>\n",
       "<table border=\"1\" class=\"dataframe\">\n",
       "  <thead>\n",
       "    <tr style=\"text-align: right;\">\n",
       "      <th></th>\n",
       "      <th>class</th>\n",
       "      <th>phrase</th>\n",
       "      <th>new_phrase</th>\n",
       "    </tr>\n",
       "  </thead>\n",
       "  <tbody>\n",
       "    <tr>\n",
       "      <th>2</th>\n",
       "      <td>spam</td>\n",
       "      <td>Free entry in 2 a wkly comp to win FA Cup final tkts 21st May 2005. Text FA to 87121 to receive ...</td>\n",
       "      <td>Free entry in 2 a wkly comp to win FA Cup final tkts 21st May 2005. Text FA to 87121 to receive ...</td>\n",
       "    </tr>\n",
       "    <tr>\n",
       "      <th>5</th>\n",
       "      <td>spam</td>\n",
       "      <td>FreeMsg Hey there darling it's been 3 week's now and no word back! I'd like some fun you up for ...</td>\n",
       "      <td>FreeMsg Hey there darling it's been 3 week's now and no word back! I'd like some fun you up for ...</td>\n",
       "    </tr>\n",
       "  </tbody>\n",
       "</table>\n",
       "</div>"
      ],
      "text/plain": [
       "  class  \\\n",
       "2  spam   \n",
       "5  spam   \n",
       "\n",
       "                                                                                                phrase  \\\n",
       "2  Free entry in 2 a wkly comp to win FA Cup final tkts 21st May 2005. Text FA to 87121 to receive ...   \n",
       "5  FreeMsg Hey there darling it's been 3 week's now and no word back! I'd like some fun you up for ...   \n",
       "\n",
       "                                                                                            new_phrase  \n",
       "2  Free entry in 2 a wkly comp to win FA Cup final tkts 21st May 2005. Text FA to 87121 to receive ...  \n",
       "5  FreeMsg Hey there darling it's been 3 week's now and no word back! I'd like some fun you up for ...  "
      ]
     },
     "execution_count": 7,
     "metadata": {},
     "output_type": "execute_result"
    }
   ],
   "source": [
    "sedit.loc[:,'new_phrase'] = sedit['phrase']\n",
    "\n",
    "sedit.head(2)"
   ]
  },
  {
   "cell_type": "markdown",
   "metadata": {},
   "source": [
    "## Clean data"
   ]
  },
  {
   "cell_type": "code",
   "execution_count": 8,
   "metadata": {},
   "outputs": [
    {
     "data": {
      "text/html": [
       "<div>\n",
       "<style scoped>\n",
       "    .dataframe tbody tr th:only-of-type {\n",
       "        vertical-align: middle;\n",
       "    }\n",
       "\n",
       "    .dataframe tbody tr th {\n",
       "        vertical-align: top;\n",
       "    }\n",
       "\n",
       "    .dataframe thead th {\n",
       "        text-align: right;\n",
       "    }\n",
       "</style>\n",
       "<table border=\"1\" class=\"dataframe\">\n",
       "  <thead>\n",
       "    <tr style=\"text-align: right;\">\n",
       "      <th></th>\n",
       "      <th>class</th>\n",
       "      <th>phrase</th>\n",
       "      <th>new_phrase</th>\n",
       "    </tr>\n",
       "  </thead>\n",
       "  <tbody>\n",
       "    <tr>\n",
       "      <th>2</th>\n",
       "      <td>spam</td>\n",
       "      <td>Free entry in 2 a wkly comp to win FA Cup final tkts 21st May 2005. Text FA to 87121 to receive ...</td>\n",
       "      <td>free entry in 2 a wkly comp to win fa cup final tkts 21st may 2005. text fa to 87121 to receive ...</td>\n",
       "    </tr>\n",
       "    <tr>\n",
       "      <th>5</th>\n",
       "      <td>spam</td>\n",
       "      <td>FreeMsg Hey there darling it's been 3 week's now and no word back! I'd like some fun you up for ...</td>\n",
       "      <td>freemsg hey there darling it's been 3 week's now and no word back! i'd like some fun you up for ...</td>\n",
       "    </tr>\n",
       "  </tbody>\n",
       "</table>\n",
       "</div>"
      ],
      "text/plain": [
       "  class  \\\n",
       "2  spam   \n",
       "5  spam   \n",
       "\n",
       "                                                                                                phrase  \\\n",
       "2  Free entry in 2 a wkly comp to win FA Cup final tkts 21st May 2005. Text FA to 87121 to receive ...   \n",
       "5  FreeMsg Hey there darling it's been 3 week's now and no word back! I'd like some fun you up for ...   \n",
       "\n",
       "                                                                                            new_phrase  \n",
       "2  free entry in 2 a wkly comp to win fa cup final tkts 21st may 2005. text fa to 87121 to receive ...  \n",
       "5  freemsg hey there darling it's been 3 week's now and no word back! i'd like some fun you up for ...  "
      ]
     },
     "execution_count": 8,
     "metadata": {},
     "output_type": "execute_result"
    }
   ],
   "source": [
    "sedit['new_phrase'] = sedit['new_phrase'].apply(lambda x:\n",
    "                                                \" \".join(x.lower()\n",
    "                                                for x in str(x).split()))\n",
    "sedit.head(2)"
   ]
  },
  {
   "cell_type": "code",
   "execution_count": 9,
   "metadata": {},
   "outputs": [],
   "source": [
    "def symbol_tally(x):\n",
    "    new_str = ''\n",
    "    for char in x:\n",
    "        if (char.isalnum() == False) & (char != ' '):\n",
    "            new_str += (char + ' ')\n",
    "    return new_str"
   ]
  },
  {
   "cell_type": "code",
   "execution_count": 10,
   "metadata": {},
   "outputs": [
    {
     "data": {
      "text/html": [
       "<div>\n",
       "<style scoped>\n",
       "    .dataframe tbody tr th:only-of-type {\n",
       "        vertical-align: middle;\n",
       "    }\n",
       "\n",
       "    .dataframe tbody tr th {\n",
       "        vertical-align: top;\n",
       "    }\n",
       "\n",
       "    .dataframe thead th {\n",
       "        text-align: right;\n",
       "    }\n",
       "</style>\n",
       "<table border=\"1\" class=\"dataframe\">\n",
       "  <thead>\n",
       "    <tr style=\"text-align: right;\">\n",
       "      <th></th>\n",
       "      <th>class</th>\n",
       "      <th>phrase</th>\n",
       "      <th>new_phrase</th>\n",
       "      <th>symbol_tally</th>\n",
       "    </tr>\n",
       "  </thead>\n",
       "  <tbody>\n",
       "    <tr>\n",
       "      <th>2</th>\n",
       "      <td>spam</td>\n",
       "      <td>Free entry in 2 a wkly comp to win FA Cup final tkts 21st May 2005. Text FA to 87121 to receive ...</td>\n",
       "      <td>free entry in 2 a wkly comp to win fa cup final tkts 21st may 2005. text fa to 87121 to receive ...</td>\n",
       "      <td>. ( ) &amp; ' '</td>\n",
       "    </tr>\n",
       "    <tr>\n",
       "      <th>5</th>\n",
       "      <td>spam</td>\n",
       "      <td>FreeMsg Hey there darling it's been 3 week's now and no word back! I'd like some fun you up for ...</td>\n",
       "      <td>freemsg hey there darling it's been 3 week's now and no word back! i'd like some fun you up for ...</td>\n",
       "      <td>' ' ! ' ? ! , £ .</td>\n",
       "    </tr>\n",
       "  </tbody>\n",
       "</table>\n",
       "</div>"
      ],
      "text/plain": [
       "  class  \\\n",
       "2  spam   \n",
       "5  spam   \n",
       "\n",
       "                                                                                                phrase  \\\n",
       "2  Free entry in 2 a wkly comp to win FA Cup final tkts 21st May 2005. Text FA to 87121 to receive ...   \n",
       "5  FreeMsg Hey there darling it's been 3 week's now and no word back! I'd like some fun you up for ...   \n",
       "\n",
       "                                                                                            new_phrase  \\\n",
       "2  free entry in 2 a wkly comp to win fa cup final tkts 21st may 2005. text fa to 87121 to receive ...   \n",
       "5  freemsg hey there darling it's been 3 week's now and no word back! i'd like some fun you up for ...   \n",
       "\n",
       "         symbol_tally  \n",
       "2        . ( ) & ' '   \n",
       "5  ' ' ! ' ? ! , £ .   "
      ]
     },
     "execution_count": 10,
     "metadata": {},
     "output_type": "execute_result"
    }
   ],
   "source": [
    "sedit['symbol_tally'] = sedit['new_phrase'].apply(symbol_tally)\n",
    "\n",
    "sedit.head(2)"
   ]
  },
  {
   "cell_type": "code",
   "execution_count": 11,
   "metadata": {},
   "outputs": [
    {
     "name": "stdout",
     "output_type": "stream",
     "text": [
      "Number of unique symbols: 30\n",
      "Sum of symbols: 4598\n"
     ]
    },
    {
     "data": {
      "text/plain": [
       ".    1566\n",
       "!     545\n",
       ",     412\n",
       "/     373\n",
       "£     324\n",
       "-     247\n",
       ":     179\n",
       "&     178\n",
       "?     175\n",
       "'     127\n",
       "*     115\n",
       "+      99\n",
       ")      66\n",
       "(      54\n",
       ">      30\n",
       "@      25\n",
       "=      25\n",
       "\"      21\n",
       "<       6\n",
       "#       6\n",
       "$       4\n",
       "]       3\n",
       "_       3\n",
       "[       3\n",
       "%       3\n",
       ";       2\n",
       "“       2\n",
       "¡       2\n",
       "       2\n",
       "’       1\n",
       "dtype: int64"
      ]
     },
     "execution_count": 11,
     "metadata": {},
     "output_type": "execute_result"
    }
   ],
   "source": [
    "symbol_count = pd.Series(' '.join(sedit['symbol_tally']).split()).value_counts()\n",
    "\n",
    "print(f'Number of unique symbols: {len(symbol_count)}')\n",
    "print(f'Sum of symbols: {symbol_count.sum()}')\n",
    "\n",
    "symbol_count"
   ]
  },
  {
   "cell_type": "code",
   "execution_count": 12,
   "metadata": {},
   "outputs": [
    {
     "data": {
      "text/plain": [
       "27"
      ]
     },
     "execution_count": 12,
     "metadata": {},
     "output_type": "execute_result"
    }
   ],
   "source": [
    "symbol_remove = symbol_count.drop(labels=['£','$','@'])\n",
    "\n",
    "len(symbol_remove)"
   ]
  },
  {
   "cell_type": "code",
   "execution_count": 13,
   "metadata": {},
   "outputs": [],
   "source": [
    "# separate symbols from words in order to keep for TFIDF\n",
    "def symbol_sep(x):\n",
    "    new_str = ''\n",
    "    for char in x:\n",
    "        if char in symbol_remove:\n",
    "            pass\n",
    "        elif char in ['£','$','@']:\n",
    "            new_str += (char + ' ')\n",
    "        else:\n",
    "            new_str += char\n",
    "                        \n",
    "    return new_str"
   ]
  },
  {
   "cell_type": "code",
   "execution_count": 14,
   "metadata": {},
   "outputs": [
    {
     "data": {
      "text/html": [
       "<div>\n",
       "<style scoped>\n",
       "    .dataframe tbody tr th:only-of-type {\n",
       "        vertical-align: middle;\n",
       "    }\n",
       "\n",
       "    .dataframe tbody tr th {\n",
       "        vertical-align: top;\n",
       "    }\n",
       "\n",
       "    .dataframe thead th {\n",
       "        text-align: right;\n",
       "    }\n",
       "</style>\n",
       "<table border=\"1\" class=\"dataframe\">\n",
       "  <thead>\n",
       "    <tr style=\"text-align: right;\">\n",
       "      <th></th>\n",
       "      <th>class</th>\n",
       "      <th>phrase</th>\n",
       "      <th>new_phrase</th>\n",
       "      <th>symbol_tally</th>\n",
       "    </tr>\n",
       "  </thead>\n",
       "  <tbody>\n",
       "    <tr>\n",
       "      <th>2</th>\n",
       "      <td>spam</td>\n",
       "      <td>Free entry in 2 a wkly comp to win FA Cup final tkts 21st May 2005. Text FA to 87121 to receive ...</td>\n",
       "      <td>free entry in 2 a wkly comp to win fa cup final tkts 21st may 2005 text fa to 87121 to receive e...</td>\n",
       "      <td>. ( ) &amp; ' '</td>\n",
       "    </tr>\n",
       "    <tr>\n",
       "      <th>5</th>\n",
       "      <td>spam</td>\n",
       "      <td>FreeMsg Hey there darling it's been 3 week's now and no word back! I'd like some fun you up for ...</td>\n",
       "      <td>freemsg hey there darling its been 3 weeks now and no word back id like some fun you up for it s...</td>\n",
       "      <td>' ' ! ' ? ! , £ .</td>\n",
       "    </tr>\n",
       "  </tbody>\n",
       "</table>\n",
       "</div>"
      ],
      "text/plain": [
       "  class  \\\n",
       "2  spam   \n",
       "5  spam   \n",
       "\n",
       "                                                                                                phrase  \\\n",
       "2  Free entry in 2 a wkly comp to win FA Cup final tkts 21st May 2005. Text FA to 87121 to receive ...   \n",
       "5  FreeMsg Hey there darling it's been 3 week's now and no word back! I'd like some fun you up for ...   \n",
       "\n",
       "                                                                                            new_phrase  \\\n",
       "2  free entry in 2 a wkly comp to win fa cup final tkts 21st may 2005 text fa to 87121 to receive e...   \n",
       "5  freemsg hey there darling its been 3 weeks now and no word back id like some fun you up for it s...   \n",
       "\n",
       "         symbol_tally  \n",
       "2        . ( ) & ' '   \n",
       "5  ' ' ! ' ? ! , £ .   "
      ]
     },
     "execution_count": 14,
     "metadata": {},
     "output_type": "execute_result"
    }
   ],
   "source": [
    "sedit['new_phrase'] = sedit['new_phrase'].apply(symbol_sep)\n",
    "\n",
    "sedit.head(2)"
   ]
  },
  {
   "cell_type": "code",
   "execution_count": 15,
   "metadata": {},
   "outputs": [
    {
     "data": {
      "text/html": [
       "<div>\n",
       "<style scoped>\n",
       "    .dataframe tbody tr th:only-of-type {\n",
       "        vertical-align: middle;\n",
       "    }\n",
       "\n",
       "    .dataframe tbody tr th {\n",
       "        vertical-align: top;\n",
       "    }\n",
       "\n",
       "    .dataframe thead th {\n",
       "        text-align: right;\n",
       "    }\n",
       "</style>\n",
       "<table border=\"1\" class=\"dataframe\">\n",
       "  <thead>\n",
       "    <tr style=\"text-align: right;\">\n",
       "      <th></th>\n",
       "      <th>class</th>\n",
       "      <th>phrase</th>\n",
       "      <th>new_phrase</th>\n",
       "    </tr>\n",
       "  </thead>\n",
       "  <tbody>\n",
       "    <tr>\n",
       "      <th>2</th>\n",
       "      <td>spam</td>\n",
       "      <td>Free entry in 2 a wkly comp to win FA Cup final tkts 21st May 2005. Text FA to 87121 to receive ...</td>\n",
       "      <td>free entry in 2 a wkly comp to win fa cup final tkts 21st may 2005 text fa to 87121 to receive e...</td>\n",
       "    </tr>\n",
       "    <tr>\n",
       "      <th>5</th>\n",
       "      <td>spam</td>\n",
       "      <td>FreeMsg Hey there darling it's been 3 week's now and no word back! I'd like some fun you up for ...</td>\n",
       "      <td>freemsg hey there darling its been 3 weeks now and no word back id like some fun you up for it s...</td>\n",
       "    </tr>\n",
       "  </tbody>\n",
       "</table>\n",
       "</div>"
      ],
      "text/plain": [
       "  class  \\\n",
       "2  spam   \n",
       "5  spam   \n",
       "\n",
       "                                                                                                phrase  \\\n",
       "2  Free entry in 2 a wkly comp to win FA Cup final tkts 21st May 2005. Text FA to 87121 to receive ...   \n",
       "5  FreeMsg Hey there darling it's been 3 week's now and no word back! I'd like some fun you up for ...   \n",
       "\n",
       "                                                                                            new_phrase  \n",
       "2  free entry in 2 a wkly comp to win fa cup final tkts 21st may 2005 text fa to 87121 to receive e...  \n",
       "5  freemsg hey there darling its been 3 weeks now and no word back id like some fun you up for it s...  "
      ]
     },
     "execution_count": 15,
     "metadata": {},
     "output_type": "execute_result"
    }
   ],
   "source": [
    "sedit.pop('symbol_tally')\n",
    "\n",
    "sedit.head(2)"
   ]
  },
  {
   "cell_type": "code",
   "execution_count": 16,
   "metadata": {},
   "outputs": [],
   "source": [
    "from nltk.corpus import stopwords"
   ]
  },
  {
   "cell_type": "code",
   "execution_count": 17,
   "metadata": {},
   "outputs": [
    {
     "data": {
      "text/html": [
       "<div>\n",
       "<style scoped>\n",
       "    .dataframe tbody tr th:only-of-type {\n",
       "        vertical-align: middle;\n",
       "    }\n",
       "\n",
       "    .dataframe tbody tr th {\n",
       "        vertical-align: top;\n",
       "    }\n",
       "\n",
       "    .dataframe thead th {\n",
       "        text-align: right;\n",
       "    }\n",
       "</style>\n",
       "<table border=\"1\" class=\"dataframe\">\n",
       "  <thead>\n",
       "    <tr style=\"text-align: right;\">\n",
       "      <th></th>\n",
       "      <th>class</th>\n",
       "      <th>phrase</th>\n",
       "      <th>new_phrase</th>\n",
       "    </tr>\n",
       "  </thead>\n",
       "  <tbody>\n",
       "    <tr>\n",
       "      <th>2</th>\n",
       "      <td>spam</td>\n",
       "      <td>Free entry in 2 a wkly comp to win FA Cup final tkts 21st May 2005. Text FA to 87121 to receive ...</td>\n",
       "      <td>free entry 2 wkly comp win fa cup final tkts 21st may 2005 text fa 87121 receive entry questions...</td>\n",
       "    </tr>\n",
       "    <tr>\n",
       "      <th>5</th>\n",
       "      <td>spam</td>\n",
       "      <td>FreeMsg Hey there darling it's been 3 week's now and no word back! I'd like some fun you up for ...</td>\n",
       "      <td>freemsg hey darling 3 weeks word back id like fun still tb ok xxx std chgs send £ 150 rcv</td>\n",
       "    </tr>\n",
       "    <tr>\n",
       "      <th>8</th>\n",
       "      <td>spam</td>\n",
       "      <td>WINNER!! As a valued network customer you have been selected to receivea £900 prize reward! To c...</td>\n",
       "      <td>winner valued network customer selected receivea £ 900 prize reward claim call 09061701461 claim...</td>\n",
       "    </tr>\n",
       "    <tr>\n",
       "      <th>9</th>\n",
       "      <td>spam</td>\n",
       "      <td>Had your mobile 11 months or more? U R entitled to Update to the latest colour mobiles with came...</td>\n",
       "      <td>mobile 11 months u r entitled update latest colour mobiles camera free call mobile update co fre...</td>\n",
       "    </tr>\n",
       "  </tbody>\n",
       "</table>\n",
       "</div>"
      ],
      "text/plain": [
       "  class  \\\n",
       "2  spam   \n",
       "5  spam   \n",
       "8  spam   \n",
       "9  spam   \n",
       "\n",
       "                                                                                                phrase  \\\n",
       "2  Free entry in 2 a wkly comp to win FA Cup final tkts 21st May 2005. Text FA to 87121 to receive ...   \n",
       "5  FreeMsg Hey there darling it's been 3 week's now and no word back! I'd like some fun you up for ...   \n",
       "8  WINNER!! As a valued network customer you have been selected to receivea £900 prize reward! To c...   \n",
       "9  Had your mobile 11 months or more? U R entitled to Update to the latest colour mobiles with came...   \n",
       "\n",
       "                                                                                            new_phrase  \n",
       "2  free entry 2 wkly comp win fa cup final tkts 21st may 2005 text fa 87121 receive entry questions...  \n",
       "5            freemsg hey darling 3 weeks word back id like fun still tb ok xxx std chgs send £ 150 rcv  \n",
       "8  winner valued network customer selected receivea £ 900 prize reward claim call 09061701461 claim...  \n",
       "9  mobile 11 months u r entitled update latest colour mobiles camera free call mobile update co fre...  "
      ]
     },
     "execution_count": 17,
     "metadata": {},
     "output_type": "execute_result"
    }
   ],
   "source": [
    "stop = stopwords.words('english')\n",
    "\n",
    "sedit['new_phrase'] = sedit['new_phrase'].apply(lambda x:\n",
    "                                                \" \".join(x for x in str(x).split()\n",
    "                                                if x not in stop))\n",
    "\n",
    "sedit.head(4)"
   ]
  },
  {
   "cell_type": "code",
   "execution_count": 18,
   "metadata": {},
   "outputs": [
    {
     "name": "stdout",
     "output_type": "stream",
     "text": [
      "Unique words: 2924\n"
     ]
    },
    {
     "data": {
      "text/plain": [
       "call      347\n",
       "£         292\n",
       "free      216\n",
       "2         173\n",
       "txt       150\n",
       "u         147\n",
       "ur        144\n",
       "mobile    123\n",
       "text      120\n",
       "4         119\n",
       "dtype: int64"
      ]
     },
     "execution_count": 18,
     "metadata": {},
     "output_type": "execute_result"
    }
   ],
   "source": [
    "word_count = pd.Series(' '.join(sedit['new_phrase']).split()).value_counts()\n",
    "\n",
    "print(f'Unique words: {len(word_count)}')\n",
    "\n",
    "word_count[:10]"
   ]
  },
  {
   "cell_type": "code",
   "execution_count": 19,
   "metadata": {},
   "outputs": [
    {
     "name": "stdout",
     "output_type": "stream",
     "text": [
      "Rare word count is: 2397\n"
     ]
    }
   ],
   "source": [
    "rare_words = word_count[(word_count <= 4)]\n",
    "\n",
    "print(f'Rare word count is: {len(rare_words)}')"
   ]
  },
  {
   "cell_type": "code",
   "execution_count": 20,
   "metadata": {},
   "outputs": [
    {
     "data": {
      "text/html": [
       "<div>\n",
       "<style scoped>\n",
       "    .dataframe tbody tr th:only-of-type {\n",
       "        vertical-align: middle;\n",
       "    }\n",
       "\n",
       "    .dataframe tbody tr th {\n",
       "        vertical-align: top;\n",
       "    }\n",
       "\n",
       "    .dataframe thead th {\n",
       "        text-align: right;\n",
       "    }\n",
       "</style>\n",
       "<table border=\"1\" class=\"dataframe\">\n",
       "  <thead>\n",
       "    <tr style=\"text-align: right;\">\n",
       "      <th></th>\n",
       "      <th>class</th>\n",
       "      <th>phrase</th>\n",
       "      <th>new_phrase</th>\n",
       "    </tr>\n",
       "  </thead>\n",
       "  <tbody>\n",
       "    <tr>\n",
       "      <th>2</th>\n",
       "      <td>spam</td>\n",
       "      <td>Free entry in 2 a wkly comp to win FA Cup final tkts 21st May 2005. Text FA to 87121 to receive ...</td>\n",
       "      <td>free entry 2 wkly comp win cup final may text receive entry txt apply</td>\n",
       "    </tr>\n",
       "    <tr>\n",
       "      <th>5</th>\n",
       "      <td>spam</td>\n",
       "      <td>FreeMsg Hey there darling it's been 3 week's now and no word back! I'd like some fun you up for ...</td>\n",
       "      <td>freemsg hey 3 weeks word back like fun still ok xxx std send £ 150</td>\n",
       "    </tr>\n",
       "    <tr>\n",
       "      <th>8</th>\n",
       "      <td>spam</td>\n",
       "      <td>WINNER!! As a valued network customer you have been selected to receivea £900 prize reward! To c...</td>\n",
       "      <td>winner valued network customer selected £ 900 prize reward claim call claim code valid 12 hours</td>\n",
       "    </tr>\n",
       "    <tr>\n",
       "      <th>9</th>\n",
       "      <td>spam</td>\n",
       "      <td>Had your mobile 11 months or more? U R entitled to Update to the latest colour mobiles with came...</td>\n",
       "      <td>mobile 11 u r entitled update latest colour mobiles camera free call mobile update co free</td>\n",
       "    </tr>\n",
       "  </tbody>\n",
       "</table>\n",
       "</div>"
      ],
      "text/plain": [
       "  class  \\\n",
       "2  spam   \n",
       "5  spam   \n",
       "8  spam   \n",
       "9  spam   \n",
       "\n",
       "                                                                                                phrase  \\\n",
       "2  Free entry in 2 a wkly comp to win FA Cup final tkts 21st May 2005. Text FA to 87121 to receive ...   \n",
       "5  FreeMsg Hey there darling it's been 3 week's now and no word back! I'd like some fun you up for ...   \n",
       "8  WINNER!! As a valued network customer you have been selected to receivea £900 prize reward! To c...   \n",
       "9  Had your mobile 11 months or more? U R entitled to Update to the latest colour mobiles with came...   \n",
       "\n",
       "                                                                                        new_phrase  \n",
       "2                            free entry 2 wkly comp win cup final may text receive entry txt apply  \n",
       "5                               freemsg hey 3 weeks word back like fun still ok xxx std send £ 150  \n",
       "8  winner valued network customer selected £ 900 prize reward claim call claim code valid 12 hours  \n",
       "9       mobile 11 u r entitled update latest colour mobiles camera free call mobile update co free  "
      ]
     },
     "execution_count": 20,
     "metadata": {},
     "output_type": "execute_result"
    }
   ],
   "source": [
    "sedit['new_phrase'] = sedit['new_phrase'].apply(lambda x:\n",
    "                                                \" \".join(x for x in str(x).split()\n",
    "                                                if x not in rare_words))\n",
    "\n",
    "sedit.head(4)"
   ]
  },
  {
   "cell_type": "markdown",
   "metadata": {},
   "source": [
    "### TFIDF"
   ]
  },
  {
   "cell_type": "code",
   "execution_count": 21,
   "metadata": {},
   "outputs": [],
   "source": [
    "from sklearn.feature_extraction.text import TfidfVectorizer"
   ]
  },
  {
   "cell_type": "code",
   "execution_count": 22,
   "metadata": {},
   "outputs": [
    {
     "data": {
      "text/plain": [
       "<747x470 sparse matrix of type '<class 'numpy.float64'>'\n",
       "\twith 6868 stored elements in Compressed Sparse Row format>"
      ]
     },
     "execution_count": 22,
     "metadata": {},
     "output_type": "execute_result"
    }
   ],
   "source": [
    "tf = TfidfVectorizer(max_features=1000, lowercase=True, analyzer='word',\n",
    "                        stop_words = 'english', ngram_range=(1,1))\n",
    "\n",
    "tfvec = tf.fit_transform(sedit['new_phrase'])\n",
    "\n",
    "tfvec"
   ]
  },
  {
   "cell_type": "code",
   "execution_count": 23,
   "metadata": {},
   "outputs": [
    {
     "data": {
      "text/plain": [
       "{'free': 186,\n",
       " 'entry': 172,\n",
       " 'wkly': 457,\n",
       " 'comp': 124,\n",
       " 'win': 454,\n",
       " 'cup': 141,\n",
       " 'final': 181,\n",
       " 'text': 398,\n",
       " 'receive': 337,\n",
       " 'txt': 415}"
      ]
     },
     "execution_count": 23,
     "metadata": {},
     "output_type": "execute_result"
    }
   ],
   "source": [
    "ten_vocab = {x: tf.vocabulary_[x] for x in list(tf.vocabulary_)[:10]}\n",
    "\n",
    "ten_vocab"
   ]
  },
  {
   "cell_type": "markdown",
   "metadata": {},
   "source": [
    "### Cluster analysis"
   ]
  },
  {
   "cell_type": "code",
   "execution_count": 24,
   "metadata": {},
   "outputs": [],
   "source": [
    "import matplotlib.pyplot as plt"
   ]
  },
  {
   "cell_type": "code",
   "execution_count": 25,
   "metadata": {},
   "outputs": [
    {
     "data": {
      "text/html": [
       "<div>\n",
       "<style scoped>\n",
       "    .dataframe tbody tr th:only-of-type {\n",
       "        vertical-align: middle;\n",
       "    }\n",
       "\n",
       "    .dataframe tbody tr th {\n",
       "        vertical-align: top;\n",
       "    }\n",
       "\n",
       "    .dataframe thead th {\n",
       "        text-align: right;\n",
       "    }\n",
       "</style>\n",
       "<table border=\"1\" class=\"dataframe\">\n",
       "  <thead>\n",
       "    <tr style=\"text-align: right;\">\n",
       "      <th></th>\n",
       "      <th>class</th>\n",
       "      <th>phrase</th>\n",
       "      <th>new_phrase</th>\n",
       "    </tr>\n",
       "  </thead>\n",
       "  <tbody>\n",
       "    <tr>\n",
       "      <th>0</th>\n",
       "      <td>spam</td>\n",
       "      <td>Free entry in 2 a wkly comp to win FA Cup final tkts 21st May 2005. Text FA to 87121 to receive ...</td>\n",
       "      <td>free entry 2 wkly comp win cup final may text receive entry txt apply</td>\n",
       "    </tr>\n",
       "    <tr>\n",
       "      <th>1</th>\n",
       "      <td>spam</td>\n",
       "      <td>FreeMsg Hey there darling it's been 3 week's now and no word back! I'd like some fun you up for ...</td>\n",
       "      <td>freemsg hey 3 weeks word back like fun still ok xxx std send £ 150</td>\n",
       "    </tr>\n",
       "    <tr>\n",
       "      <th>2</th>\n",
       "      <td>spam</td>\n",
       "      <td>WINNER!! As a valued network customer you have been selected to receivea £900 prize reward! To c...</td>\n",
       "      <td>winner valued network customer selected £ 900 prize reward claim call claim code valid 12 hours</td>\n",
       "    </tr>\n",
       "    <tr>\n",
       "      <th>3</th>\n",
       "      <td>spam</td>\n",
       "      <td>Had your mobile 11 months or more? U R entitled to Update to the latest colour mobiles with came...</td>\n",
       "      <td>mobile 11 u r entitled update latest colour mobiles camera free call mobile update co free</td>\n",
       "    </tr>\n",
       "    <tr>\n",
       "      <th>4</th>\n",
       "      <td>spam</td>\n",
       "      <td>SIX chances to win CASH! From 100 to 20,000 pounds txt&gt; CSH11 and send to 87575. Cost 150p/day, ...</td>\n",
       "      <td>win cash 100 pounds txt send cost 16 apply reply hl 4 info</td>\n",
       "    </tr>\n",
       "  </tbody>\n",
       "</table>\n",
       "</div>"
      ],
      "text/plain": [
       "  class  \\\n",
       "0  spam   \n",
       "1  spam   \n",
       "2  spam   \n",
       "3  spam   \n",
       "4  spam   \n",
       "\n",
       "                                                                                                phrase  \\\n",
       "0  Free entry in 2 a wkly comp to win FA Cup final tkts 21st May 2005. Text FA to 87121 to receive ...   \n",
       "1  FreeMsg Hey there darling it's been 3 week's now and no word back! I'd like some fun you up for ...   \n",
       "2  WINNER!! As a valued network customer you have been selected to receivea £900 prize reward! To c...   \n",
       "3  Had your mobile 11 months or more? U R entitled to Update to the latest colour mobiles with came...   \n",
       "4  SIX chances to win CASH! From 100 to 20,000 pounds txt> CSH11 and send to 87575. Cost 150p/day, ...   \n",
       "\n",
       "                                                                                        new_phrase  \n",
       "0                            free entry 2 wkly comp win cup final may text receive entry txt apply  \n",
       "1                               freemsg hey 3 weeks word back like fun still ok xxx std send £ 150  \n",
       "2  winner valued network customer selected £ 900 prize reward claim call claim code valid 12 hours  \n",
       "3       mobile 11 u r entitled update latest colour mobiles camera free call mobile update co free  \n",
       "4                                       win cash 100 pounds txt send cost 16 apply reply hl 4 info  "
      ]
     },
     "execution_count": 25,
     "metadata": {},
     "output_type": "execute_result"
    }
   ],
   "source": [
    "# reset index to match with predictions\n",
    "sedit.reset_index(drop=True, inplace=True)\n",
    "\n",
    "sedit.head()"
   ]
  },
  {
   "cell_type": "code",
   "execution_count": 26,
   "metadata": {},
   "outputs": [
    {
     "data": {
      "image/png": "[encoded data removed]",
      "text/plain": [
       "<Figure size 432x288 with 1 Axes>"
      ]
     },
     "metadata": {},
     "output_type": "display_data"
    }
   ],
   "source": [
    "# Kmeans & Elbow Method\n",
    "from sklearn.cluster import KMeans\n",
    "distortions = []\n",
    "for i in range(1, 21):\n",
    "    km = KMeans(n_clusters=i, init='k-means++',\n",
    "                n_init=10, max_iter=300, random_state=0)\n",
    "    km.fit(tfvec)\n",
    "    distortions.append(km.inertia_)\n",
    "plt.plot(range(1, 21), distortions, marker='o')\n",
    "plt.xlabel('Number of clusters')\n",
    "plt.ylabel('Distortion')\n",
    "plt.show()\n",
    "# we see via the elbow method that good clustering is not achieved"
   ]
  },
  {
   "cell_type": "code",
   "execution_count": 27,
   "metadata": {},
   "outputs": [],
   "source": [
    "# Kmeans prediction of 10 clusters\n",
    "# not great clustering, but we can visualize\n",
    "km = KMeans(n_clusters=10, init='k-means++',\n",
    "            n_init=10, max_iter=300, random_state=0)\n",
    "km_pred = km.fit_predict(tfvec)"
   ]
  },
  {
   "cell_type": "code",
   "execution_count": 28,
   "metadata": {},
   "outputs": [
    {
     "data": {
      "text/html": [
       "<div>\n",
       "<style scoped>\n",
       "    .dataframe tbody tr th:only-of-type {\n",
       "        vertical-align: middle;\n",
       "    }\n",
       "\n",
       "    .dataframe tbody tr th {\n",
       "        vertical-align: top;\n",
       "    }\n",
       "\n",
       "    .dataframe thead th {\n",
       "        text-align: right;\n",
       "    }\n",
       "</style>\n",
       "<table border=\"1\" class=\"dataframe\">\n",
       "  <thead>\n",
       "    <tr style=\"text-align: right;\">\n",
       "      <th></th>\n",
       "      <th>row label 1</th>\n",
       "      <th>row label 2</th>\n",
       "      <th>distance</th>\n",
       "      <th># of items in cluster</th>\n",
       "    </tr>\n",
       "  </thead>\n",
       "  <tbody>\n",
       "    <tr>\n",
       "      <th>cluster 1</th>\n",
       "      <td>0.0</td>\n",
       "      <td>177.0</td>\n",
       "      <td>0.0</td>\n",
       "      <td>2.0</td>\n",
       "    </tr>\n",
       "    <tr>\n",
       "      <th>cluster 2</th>\n",
       "      <td>32.0</td>\n",
       "      <td>105.0</td>\n",
       "      <td>0.0</td>\n",
       "      <td>2.0</td>\n",
       "    </tr>\n",
       "    <tr>\n",
       "      <th>cluster 3</th>\n",
       "      <td>404.0</td>\n",
       "      <td>748.0</td>\n",
       "      <td>0.0</td>\n",
       "      <td>3.0</td>\n",
       "    </tr>\n",
       "    <tr>\n",
       "      <th>cluster 4</th>\n",
       "      <td>495.0</td>\n",
       "      <td>749.0</td>\n",
       "      <td>0.0</td>\n",
       "      <td>4.0</td>\n",
       "    </tr>\n",
       "    <tr>\n",
       "      <th>cluster 5</th>\n",
       "      <td>529.0</td>\n",
       "      <td>750.0</td>\n",
       "      <td>0.0</td>\n",
       "      <td>5.0</td>\n",
       "    </tr>\n",
       "    <tr>\n",
       "      <th>cluster 6</th>\n",
       "      <td>2.0</td>\n",
       "      <td>581.0</td>\n",
       "      <td>0.0</td>\n",
       "      <td>2.0</td>\n",
       "    </tr>\n",
       "    <tr>\n",
       "      <th>cluster 7</th>\n",
       "      <td>3.0</td>\n",
       "      <td>562.0</td>\n",
       "      <td>0.0</td>\n",
       "      <td>2.0</td>\n",
       "    </tr>\n",
       "    <tr>\n",
       "      <th>cluster 8</th>\n",
       "      <td>4.0</td>\n",
       "      <td>434.0</td>\n",
       "      <td>0.0</td>\n",
       "      <td>2.0</td>\n",
       "    </tr>\n",
       "    <tr>\n",
       "      <th>cluster 9</th>\n",
       "      <td>5.0</td>\n",
       "      <td>713.0</td>\n",
       "      <td>0.0</td>\n",
       "      <td>2.0</td>\n",
       "    </tr>\n",
       "    <tr>\n",
       "      <th>cluster 10</th>\n",
       "      <td>308.0</td>\n",
       "      <td>311.0</td>\n",
       "      <td>0.0</td>\n",
       "      <td>2.0</td>\n",
       "    </tr>\n",
       "  </tbody>\n",
       "</table>\n",
       "</div>"
      ],
      "text/plain": [
       "            row label 1  row label 2  distance  # of items in cluster\n",
       "cluster 1           0.0        177.0       0.0                    2.0\n",
       "cluster 2          32.0        105.0       0.0                    2.0\n",
       "cluster 3         404.0        748.0       0.0                    3.0\n",
       "cluster 4         495.0        749.0       0.0                    4.0\n",
       "cluster 5         529.0        750.0       0.0                    5.0\n",
       "cluster 6           2.0        581.0       0.0                    2.0\n",
       "cluster 7           3.0        562.0       0.0                    2.0\n",
       "cluster 8           4.0        434.0       0.0                    2.0\n",
       "cluster 9           5.0        713.0       0.0                    2.0\n",
       "cluster 10        308.0        311.0       0.0                    2.0"
      ]
     },
     "execution_count": 28,
     "metadata": {},
     "output_type": "execute_result"
    }
   ],
   "source": [
    "# Dendrogram prep\n",
    "from scipy.cluster.hierarchy import linkage\n",
    "row_clusters = linkage(tfvec.toarray(), method='complete', metric='euclidean')\n",
    "pd.DataFrame(row_clusters, columns=['row label 1', 'row label 2',\n",
    "                                    'distance', '# of items in cluster'],\n",
    "                           index=['cluster %d' % (i+1) for i in range(\n",
    "                                  row_clusters.shape[0])])[:10]"
   ]
  },
  {
   "cell_type": "code",
   "execution_count": 29,
   "metadata": {},
   "outputs": [
    {
     "data": {
      "image/png": "[encoded data removed]",
      "text/plain": [
       "<Figure size 432x288 with 1 Axes>"
      ]
     },
     "metadata": {},
     "output_type": "display_data"
    }
   ],
   "source": [
    "# Dendrogram\n",
    "from scipy.cluster.hierarchy import dendrogram\n",
    "from scipy.cluster.hierarchy import set_link_color_palette\n",
    "set_link_color_palette(['black'])\n",
    "row_dendr = dendrogram(row_clusters, color_threshold=np.inf)\n",
    "\n",
    "plt.tight_layout()\n",
    "plt.ylabel('Euclidean distance')\n",
    "plt.show()\n",
    "# we see some root clustering, but again not great clustering"
   ]
  },
  {
   "cell_type": "code",
   "execution_count": 30,
   "metadata": {},
   "outputs": [],
   "source": [
    "# Agglomerative clustering; 10 clusters\n",
    "from sklearn.cluster import AgglomerativeClustering\n",
    "ac = AgglomerativeClustering(n_clusters=10,\n",
    "                             affinity='euclidean',\n",
    "                             linkage='complete')\n",
    "ac_pred = ac.fit_predict(tfvec.toarray())"
   ]
  },
  {
   "cell_type": "code",
   "execution_count": 31,
   "metadata": {},
   "outputs": [],
   "source": [
    "# DBSCAN\n",
    "from sklearn.cluster import DBSCAN\n",
    "db = DBSCAN(eps=0.5, min_samples=5, metric='euclidean')\n",
    "db_pred = db.fit_predict(tfvec.toarray())"
   ]
  },
  {
   "cell_type": "code",
   "execution_count": 32,
   "metadata": {},
   "outputs": [
    {
     "name": "stdout",
     "output_type": "stream",
     "text": [
      "[[ -1 641]\n",
      " [  0   5]\n",
      " [  1   6]\n",
      " [  2   5]\n",
      " [  3   8]\n",
      " [  4   6]\n",
      " [  5  12]\n",
      " [  6   5]\n",
      " [  7   7]\n",
      " [  8   7]\n",
      " [  9   9]\n",
      " [ 10   5]\n",
      " [ 11   5]\n",
      " [ 12   5]\n",
      " [ 13   5]\n",
      " [ 14   6]\n",
      " [ 15   5]\n",
      " [ 16   5]]\n"
     ]
    }
   ],
   "source": [
    "# to see the count per cluster\n",
    "unique, counts = np.unique(db_pred, return_counts=True)\n",
    "print (np.asarray((unique, counts)).T)"
   ]
  },
  {
   "cell_type": "markdown",
   "metadata": {},
   "source": [
    "### Prediction visualization"
   ]
  },
  {
   "cell_type": "code",
   "execution_count": 33,
   "metadata": {},
   "outputs": [
    {
     "data": {
      "text/html": [
       "<div>\n",
       "<style scoped>\n",
       "    .dataframe tbody tr th:only-of-type {\n",
       "        vertical-align: middle;\n",
       "    }\n",
       "\n",
       "    .dataframe tbody tr th {\n",
       "        vertical-align: top;\n",
       "    }\n",
       "\n",
       "    .dataframe thead th {\n",
       "        text-align: right;\n",
       "    }\n",
       "</style>\n",
       "<table border=\"1\" class=\"dataframe\">\n",
       "  <thead>\n",
       "    <tr style=\"text-align: right;\">\n",
       "      <th></th>\n",
       "      <th>class</th>\n",
       "      <th>phrase</th>\n",
       "      <th>new_phrase</th>\n",
       "      <th>km_pred</th>\n",
       "      <th>ac_pred</th>\n",
       "      <th>db_pred</th>\n",
       "    </tr>\n",
       "  </thead>\n",
       "  <tbody>\n",
       "    <tr>\n",
       "      <th>0</th>\n",
       "      <td>spam</td>\n",
       "      <td>Free entry in 2 a wkly comp to win FA Cup final tkts 21st May 2005. Text FA to 87121 to receive ...</td>\n",
       "      <td>free entry 2 wkly comp win cup final may text receive entry txt apply</td>\n",
       "      <td>4</td>\n",
       "      <td>0</td>\n",
       "      <td>-1</td>\n",
       "    </tr>\n",
       "    <tr>\n",
       "      <th>1</th>\n",
       "      <td>spam</td>\n",
       "      <td>FreeMsg Hey there darling it's been 3 week's now and no word back! I'd like some fun you up for ...</td>\n",
       "      <td>freemsg hey 3 weeks word back like fun still ok xxx std send £ 150</td>\n",
       "      <td>9</td>\n",
       "      <td>0</td>\n",
       "      <td>-1</td>\n",
       "    </tr>\n",
       "  </tbody>\n",
       "</table>\n",
       "</div>"
      ],
      "text/plain": [
       "  class  \\\n",
       "0  spam   \n",
       "1  spam   \n",
       "\n",
       "                                                                                                phrase  \\\n",
       "0  Free entry in 2 a wkly comp to win FA Cup final tkts 21st May 2005. Text FA to 87121 to receive ...   \n",
       "1  FreeMsg Hey there darling it's been 3 week's now and no word back! I'd like some fun you up for ...   \n",
       "\n",
       "                                                              new_phrase  \\\n",
       "0  free entry 2 wkly comp win cup final may text receive entry txt apply   \n",
       "1     freemsg hey 3 weeks word back like fun still ok xxx std send £ 150   \n",
       "\n",
       "   km_pred  ac_pred  db_pred  \n",
       "0        4        0       -1  \n",
       "1        9        0       -1  "
      ]
     },
     "execution_count": 33,
     "metadata": {},
     "output_type": "execute_result"
    }
   ],
   "source": [
    "# add predictions to visualize\n",
    "sedit['km_pred'] = km_pred\n",
    "sedit['ac_pred'] = ac_pred\n",
    "sedit['db_pred'] = db_pred\n",
    "\n",
    "sedit.head(2)"
   ]
  },
  {
   "cell_type": "code",
   "execution_count": 34,
   "metadata": {},
   "outputs": [
    {
     "name": "stdout",
     "output_type": "stream",
     "text": [
      "K-Means cluster 4 | Number of items: 51\n",
      "0     free entry 2 wkly comp win cup final may text receive entry txt apply\n",
      "4                win cash 100 pounds txt send cost 16 apply reply hl 4 info\n",
      "22        sunshine quiz wkly win top sony dvd player u know txt 82277 £ 150\n",
      "46                        ur win £ 200 week weekly quiz text play po box 16\n",
      "49            day special win £ 1000 quiz take partner send go 150pmsg rcvd\n",
      "Name: new_phrase, dtype: object\n",
      "\n",
      "K-Means cluster 9 | Number of items: 255\n",
      "1                             freemsg hey 3 weeks word back like fun still ok xxx std send £ 150\n",
      "3     mobile 11 u r entitled update latest colour mobiles camera free call mobile update co free\n",
      "6                                               use credit click wap link next txt message click\n",
      "8                          thanks ringtone uk mobile charged £ please replying yes reply charged\n",
      "14                                                                                           new\n",
      "Name: new_phrase, dtype: object\n",
      "\n",
      "K-Means cluster 7 | Number of items: 98\n",
      "2     winner valued network customer selected £ 900 prize reward claim call claim code valid 12 hours\n",
      "5                                                  urgent 1 week free £ prize txt word claim tc pobox\n",
      "12                                           valued customer following mob awarded £ bonus prize call\n",
      "13                                                   urgent ur awarded complimentary £ 1000 claim txt\n",
      "15               please call customer service representative 0800 guaranteed £ 1000 cash £ 5000 prize\n",
      "Name: new_phrase, dtype: object\n",
      "\n",
      "K-Means cluster 2 | Number of items: 57\n",
      "7              england v dont miss news txt ur national 87077 eg england 87077 16\n",
      "33                             500 new mobiles 2004 must go txt nokia collect £ 1\n",
      "34                            u meet ur partner ur 2 start 2 find free txt ur e g\n",
      "36    u secret admirer looking 2 make contact ufind rreveal thinks ur specialcall\n",
      "61                  send 2 ur 2 txt love eg love eve 87077 pobox36504w45wq 4 150p\n",
      "Name: new_phrase, dtype: object\n",
      "\n",
      "K-Means cluster 8 | Number of items: 47\n",
      "9     msg tried call reply sms free nokia mobile free camcorder please call 08000930705 delivery tomorrow\n",
      "38    tried contact reply offer video handset 750 anytime mins unlimited text camcorder reply call 080...\n",
      "53    xmas offer latest motorola sonyericsson nokia free bluetooth double mins 1000 txt orange call mo...\n",
      "56        double mins txts 4 free bluetooth orange sony nokia motorola phones call mobileupd8 08000839402\n",
      "57                half price orange line rental latest camera phones 4 free phone 11mths call free update\n",
      "Name: new_phrase, dtype: object\n",
      "\n",
      "K-Means cluster 3 | Number of items: 88\n",
      "10                                                  sms new play end reply end\n",
      "25            freemsg text im sexy live local luv u ltd per msg reply stop end\n",
      "28                pls stop inviting friend reply see stop send stop frnd 62468\n",
      "40    ur ringtone service free credits go choose content stop txt club stop po\n",
      "44                                                           sms date sms send\n",
      "Name: new_phrase, dtype: object\n",
      "\n",
      "K-Means cluster 1 | Number of items: 74\n",
      "11                     congrats 1 year special pass 2 call c v etc 4 free 150pm dont miss\n",
      "16                                               free ringtone waiting text get po box 16\n",
      "24                        msgs chat free services text go u get u must age yr network try\n",
      "35    text meet someone sexy today u find date even u join 4 10p reply name age eg 18 msg\n",
      "39              hey horny want chat see text hot text charged 150pm unsubscribe text stop\n",
      "Name: new_phrase, dtype: object\n",
      "\n",
      "K-Means cluster 0 | Number of items: 17\n",
      "19     private 2004 account statement shows unredeemed bonus points claim call identifier code expires\n",
      "78         private 2003 account statement shows 800 unredeemed sim points call identifier code expires\n",
      "86             private 2003 account statement shows 800 unredeemed points call identifier code expires\n",
      "93             private 2003 account statement shows 800 unredeemed points call identifier code expires\n",
      "133            private 2003 account statement shows 800 unredeemed points call identifier code expires\n",
      "Name: new_phrase, dtype: object\n",
      "\n",
      "K-Means cluster 5 | Number of items: 26\n",
      "21     todays voda numbers ending selected receive 350 award match please call 08712300220 quoting clai...\n",
      "76     todays offer claim ur £ 150 worth discount vouchers text yes 85023 savamob member offers mobile ...\n",
      "85                                      specially selected receive 2000 pound award call cost 16 tcs apply\n",
      "91     todays vodafone numbers ending selected receive £ 350 award number matches call receive £ 350 award\n",
      "117    last chance claim ur £ 150 worth discount vouchers today text shop 85023 savamob offers mobile c...\n",
      "Name: new_phrase, dtype: object\n",
      "\n",
      "K-Means cluster 6 | Number of items: 34\n",
      "37     congratulations ur awarded 500 cd vouchers guaranteed free entry 2 100 wkly draw txt music 87066...\n",
      "42                   hmv bonus special 500 pounds hmv vouchers answer 4 easy questions play send hmv 86688\n",
      "51     congratulations ur awarded 500 cd vouchers guaranteed free entry 2 100 wkly draw txt music 87066...\n",
      "52      ur cashbalance currently 500 pounds maximize ur cashin send cash 86688 150pmsg cc hgsuite3422lands\n",
      "111                                                          urgent ur £ 500 guaranteed award still call £\n",
      "Name: new_phrase, dtype: object\n",
      "\n"
     ]
    }
   ],
   "source": [
    "for i in sedit['km_pred'].unique():\n",
    "    print (f\"K-Means cluster {i} | Number of items: {len(sedit[sedit['km_pred'] == i])}\")\n",
    "    print(str(sedit.iloc[(sedit[sedit['km_pred'] == i][:5].index.values),2])+'\\n')"
   ]
  },
  {
   "cell_type": "code",
   "execution_count": 35,
   "metadata": {},
   "outputs": [
    {
     "name": "stdout",
     "output_type": "stream",
     "text": [
      "Agglomerative cluster 0 | Number of items: 197\n",
      "0                                  free entry 2 wkly comp win cup final may text receive entry txt apply\n",
      "1                                     freemsg hey 3 weeks word back like fun still ok xxx std send £ 150\n",
      "2        winner valued network customer selected £ 900 prize reward claim call claim code valid 12 hours\n",
      "3             mobile 11 u r entitled update latest colour mobiles camera free call mobile update co free\n",
      "9    msg tried call reply sms free nokia mobile free camcorder please call 08000930705 delivery tomorrow\n",
      "Name: new_phrase, dtype: object\n",
      "\n",
      "Agglomerative cluster 4 | Number of items: 59\n",
      "4             win cash 100 pounds txt send cost 16 apply reply hl 4 info\n",
      "7     england v dont miss news txt ur national 87077 eg england 87077 16\n",
      "22     sunshine quiz wkly win top sony dvd player u know txt 82277 £ 150\n",
      "48               call 1 per minute call line access number direct access\n",
      "49         day special win £ 1000 quiz take partner send go 150pmsg rcvd\n",
      "Name: new_phrase, dtype: object\n",
      "\n",
      "Agglomerative cluster 3 | Number of items: 60\n",
      "5                                                     urgent 1 week free £ prize txt word claim tc pobox\n",
      "12                                              valued customer following mob awarded £ bonus prize call\n",
      "13                                                      urgent ur awarded complimentary £ 1000 claim txt\n",
      "15                  please call customer service representative 0800 guaranteed £ 1000 cash £ 5000 prize\n",
      "17    trying contact last weekends draw shows £ 1000 prize guaranteed call claim code valid 12hrs 150ppm\n",
      "Name: new_phrase, dtype: object\n",
      "\n",
      "Agglomerative cluster 9 | Number of items: 137\n",
      "6                       use credit click wap link next txt message click\n",
      "10                                            sms new play end reply end\n",
      "11    congrats 1 year special pass 2 call c v etc 4 free 150pm dont miss\n",
      "16                              free ringtone waiting text get po box 16\n",
      "25      freemsg text im sexy live local luv u ltd per msg reply stop end\n",
      "Name: new_phrase, dtype: object\n",
      "\n",
      "Agglomerative cluster 2 | Number of items: 48\n",
      "8                       thanks ringtone uk mobile charged £ please replying yes reply charged\n",
      "55     thanks ringtone order charged 4 per week unsubscribe anytime calling customer services\n",
      "58                free ringtone text first poly text get tone help 16 1st free tones txt stop\n",
      "69        free message activate 500 free text messages replying message word free terms visit\n",
      "153                     free nokia free motorola free orange call mobileupd8 08000839402 call\n",
      "Name: new_phrase, dtype: object\n",
      "\n",
      "Agglomerative cluster 8 | Number of items: 64\n",
      "14                                                                                                    new\n",
      "18      winner u specially selected 2 receive £ 1000 4 holiday flights inc speak live operator 2 claim 18\n",
      "27    winner u specially selected 2 receive £ 1000 cash 4 holiday flights inc speak live operator 2 claim\n",
      "33                                                     500 new mobiles 2004 must go txt nokia collect £ 1\n",
      "59                                                                                100 dating service call\n",
      "Name: new_phrase, dtype: object\n",
      "\n",
      "Agglomerative cluster 1 | Number of items: 21\n",
      "19    private 2004 account statement shows unredeemed bonus points claim call identifier code expires\n",
      "78        private 2003 account statement shows 800 unredeemed sim points call identifier code expires\n",
      "86            private 2003 account statement shows 800 unredeemed points call identifier code expires\n",
      "88                                                                                             2 info\n",
      "93            private 2003 account statement shows 800 unredeemed points call identifier code expires\n",
      "Name: new_phrase, dtype: object\n",
      "\n",
      "Agglomerative cluster 5 | Number of items: 94\n",
      "20               urgent mobile awarded £ 2000 bonus caller prize final try contact u call landline 150ppm\n",
      "23    want 2 get want real dogging locations sent direct 2 ur mob join uks dogging network bt txting 150p\n",
      "38    tried contact reply offer video handset 750 anytime mins unlimited text camcorder reply call 080...\n",
      "40                               ur ringtone service free credits go choose content stop txt club stop po\n",
      "41                       ringtone club get uk singles mobile week choose top ringtone message free charge\n",
      "Name: new_phrase, dtype: object\n",
      "\n",
      "Agglomerative cluster 6 | Number of items: 54\n",
      "34                                                    u meet ur partner ur 2 start 2 find free txt ur e g\n",
      "36                            u secret admirer looking 2 make contact ufind rreveal thinks ur specialcall\n",
      "37    congratulations ur awarded 500 cd vouchers guaranteed free entry 2 100 wkly draw txt music 87066...\n",
      "51    congratulations ur awarded 500 cd vouchers guaranteed free entry 2 100 wkly draw txt music 87066...\n",
      "85                                     specially selected receive 2000 pound award call cost 16 tcs apply\n",
      "Name: new_phrase, dtype: object\n",
      "\n",
      "Agglomerative cluster 7 | Number of items: 13\n",
      "53     xmas offer latest motorola sonyericsson nokia free bluetooth double mins 1000 txt orange call mo...\n",
      "56         double mins txts 4 free bluetooth orange sony nokia motorola phones call mobileupd8 08000839402\n",
      "200    double mins double txt 12 price linerental latest orange bluetooth mobiles call mobileupd8 lates...\n",
      "326     double mins txts orange 12 price linerental motorola sonyericsson free call mobileupd8 08000839402\n",
      "371    great new offer double mins double txt best orange tariffs get latest camera phones 4 free call ...\n",
      "Name: new_phrase, dtype: object\n",
      "\n"
     ]
    }
   ],
   "source": [
    "for i in sedit['ac_pred'].unique():\n",
    "    print (f\"Agglomerative cluster {i} | Number of items: {len(sedit[sedit['ac_pred'] == i])}\")\n",
    "    print(str(sedit.iloc[(sedit[sedit['ac_pred'] == i][:5].index.values),2])+'\\n')"
   ]
  },
  {
   "cell_type": "code",
   "execution_count": 36,
   "metadata": {},
   "outputs": [
    {
     "name": "stdout",
     "output_type": "stream",
     "text": [
      "DBSCAN cluster -1 | Number of items: 641\n",
      "0                              free entry 2 wkly comp win cup final may text receive entry txt apply\n",
      "1                                 freemsg hey 3 weeks word back like fun still ok xxx std send £ 150\n",
      "2    winner valued network customer selected £ 900 prize reward claim call claim code valid 12 hours\n",
      "3         mobile 11 u r entitled update latest colour mobiles camera free call mobile update co free\n",
      "4                                         win cash 100 pounds txt send cost 16 apply reply hl 4 info\n",
      "Name: new_phrase, dtype: object\n",
      "\n",
      "DBSCAN cluster 0 | Number of items: 5\n",
      "21     todays voda numbers ending selected receive 350 award match please call 08712300220 quoting clai...\n",
      "255    todays voda numbers ending selected receive £ match please call 08712300220 quoting claim code s...\n",
      "441    todays voda numbers ending selected receive 350 award match please call 08712300220 quoting clai...\n",
      "625    todays voda numbers ending selected receive £ 350 reward match please call 08712300220 quoting c...\n",
      "672    £ 350 award todays voda numbers ending selected receive £ 350 award match please call 0871230022...\n",
      "Name: new_phrase, dtype: object\n",
      "\n",
      "DBSCAN cluster 1 | Number of items: 6\n",
      "28     pls stop inviting friend reply see stop send stop frnd 62468\n",
      "579             inviting friend reply see stop send stop frnd 62468\n",
      "654             inviting friend reply see stop send stop frnd 62468\n",
      "671             inviting friend reply see stop send stop frnd 62468\n",
      "680             inviting friend reply see stop send stop frnd 62468\n",
      "Name: new_phrase, dtype: object\n",
      "\n",
      "DBSCAN cluster 2 | Number of items: 5\n",
      "32     find\n",
      "105    call\n",
      "404        \n",
      "495        \n",
      "529        \n",
      "Name: new_phrase, dtype: object\n",
      "\n",
      "DBSCAN cluster 3 | Number of items: 8\n",
      "36     u secret admirer looking 2 make contact ufind rreveal thinks ur specialcall\n",
      "138    u secret admirer looking 2 make contact ufind rreveal thinks ur specialcall\n",
      "139    u secret admirer looking 2 make contact ufind rreveal thinks ur specialcall\n",
      "228    u secret admirer looking 2 make contact ufind rreveal thinks ur specialcall\n",
      "263    u secret admirer looking 2 make contact ufind rreveal thinks ur specialcall\n",
      "Name: new_phrase, dtype: object\n",
      "\n",
      "DBSCAN cluster 13 | Number of items: 5\n",
      "52      ur cashbalance currently 500 pounds maximize ur cashin send cash 86688 150pmsg cc hgsuite3422lands\n",
      "148     ur cashbalance currently 500 pounds maximize ur cashin send go 86688 150pmsg cc 08718720201 po box\n",
      "222    ur cashbalance currently 500 pounds maximize ur cashin send go 86688 150pmsg cc 08718720201 hgsu...\n",
      "397    ur cashbalance currently 500 pounds maximize ur cashin send cash 86688 150pmsg cc 08718720201 po...\n",
      "676    ur cashbalance currently 500 pounds maximize ur cashin send go 86688 cc 08718720201 hgsuite3422l...\n",
      "Name: new_phrase, dtype: object\n",
      "\n",
      "DBSCAN cluster 4 | Number of items: 6\n",
      "63              urgent mobile number awarded £ 2000 prize guaranteed call land line claim 3030 valid 12hrs\n",
      "165    win urgent mobile number awarded £ 2000 prize guaranteed call land line claim 3030 valid 12hrs 1...\n",
      "226      urgent mobile number awarded £ 2000 prize guaranteed call land line claim 3030 valid 12hrs 150ppm\n",
      "398             urgent mobile number awarded £ 2000 prize guaranteed call land line claim 3030 valid 12hrs\n",
      "640      urgent mobile number awarded £ 2000 prize guaranteed call land line claim 3030 valid 12hrs 150ppm\n",
      "Name: new_phrase, dtype: object\n",
      "\n",
      "DBSCAN cluster 5 | Number of items: 12\n",
      "78     private 2003 account statement shows 800 unredeemed sim points call identifier code expires\n",
      "86         private 2003 account statement shows 800 unredeemed points call identifier code expires\n",
      "93         private 2003 account statement shows 800 unredeemed points call identifier code expires\n",
      "133        private 2003 account statement shows 800 unredeemed points call identifier code expires\n",
      "224        private 2003 account statement shows 800 unredeemed points call identifier code expires\n",
      "Name: new_phrase, dtype: object\n",
      "\n",
      "DBSCAN cluster 6 | Number of items: 5\n",
      "99            call immediately urgent message waiting\n",
      "188    please call immediately urgent message waiting\n",
      "328    please call immediately urgent message waiting\n",
      "449    please call immediately urgent message waiting\n",
      "584    please call immediately urgent message waiting\n",
      "Name: new_phrase, dtype: object\n",
      "\n",
      "DBSCAN cluster 7 | Number of items: 7\n",
      "118    free 1st week no1 nokia tone 4 ur mobile every week txt nokia get txting tell ur mates wwwgetzed...\n",
      "154    free 1st week no1 nokia tone 4 ur mob every week txt nokia 8007 get txting tell ur mates wwwgetz...\n",
      "302    free 1st week no1 nokia tone 4 ur mob every week txt nokia 87077 get txting tell ur mates zed po...\n",
      "362    8007 free 1st week no1 nokia tone 4 ur mob every week txt nokia 8007 get txting tell ur mates ww...\n",
      "499    free 1st week no1 nokia tone 4 ur mob every week txt nokia 8007 get txting tell ur mates wwwgetz...\n",
      "Name: new_phrase, dtype: object\n",
      "\n",
      "DBSCAN cluster 8 | Number of items: 7\n",
      "129         urgent call landline complimentary 4 holiday 10000 cash await collection sae tcs po box 150 18\n",
      "146    urgent call landline complimentary 4 tenerife holiday £ 10000 cash await collection sae tcs box ...\n",
      "265    urgent please call landline complimentary 4 tenerife holiday £ 5000 cash await collection sae tc...\n",
      "343    urgent call landline 4 tenerife holiday £ 10000 cash await collection sae tcs po box 3 150ppm 18...\n",
      "565         urgent please call complimentary 4 holiday £ 10000 cash await collection sae tcs box 150ppm 18\n",
      "Name: new_phrase, dtype: object\n",
      "\n",
      "DBSCAN cluster 9 | Number of items: 9\n",
      "150                urgent trying contact u todays draw shows £ 800 prize guaranteed call land line claim\n",
      "162                urgent trying contact u todays draw shows £ 800 prize guaranteed call land line claim\n",
      "237    urgent trying contact u todays draw shows £ 800 prize guaranteed call land line claim valid 12hrs\n",
      "332     xmas prize trying contact u todays draw shows £ 2000 prize guaranteed call land line valid 12hrs\n",
      "366    urgent trying contact u todays draw shows £ 800 prize guaranteed call land line claim valid 12hrs\n",
      "Name: new_phrase, dtype: object\n",
      "\n",
      "DBSCAN cluster 10 | Number of items: 5\n",
      "151    congrats 2 mobile 3g videophones r call videochat wid mates play java games dload music noline r...\n",
      "350    congrats 2 mobile 3g videophones r call videochat wid ur mates play java games dload music nolin...\n",
      "588    congrats 2 mobile 3g videophones r call videochat wid ur mates play java games dload music nolin...\n",
      "609    congrats 2 mobile 3g videophones r call videochat wid ur mates play java games dload music nolin...\n",
      "698    congrats 2 mobile 3g videophones r call videochat wid ur mates play java games dload music nolin...\n",
      "Name: new_phrase, dtype: object\n",
      "\n",
      "DBSCAN cluster 16 | Number of items: 5\n",
      "167    message important information o2 user today lucky day 2 find log onto httpwwwurawinnercom fantas...\n",
      "202    urgent important information o2 user today lucky day 2 find log onto httpwwwurawinnercom fantast...\n",
      "578    important information 4 orange user today lucky log onto httpwwwurawinnercom fantastic surprise ...\n",
      "580    urgent important information user today lucky day 2 find log onto httpwwwurawinnercom fantastic ...\n",
      "590    important information 4 orange user today lucky log onto httpwwwurawinnercom fantastic surprise ...\n",
      "Name: new_phrase, dtype: object\n",
      "\n",
      "DBSCAN cluster 12 | Number of items: 5\n",
      "197                    hot live fantasies call 08707509020 20p per min ntt ltd po box 1327 croydon cr9 5wb\n",
      "216    hot live fantasies call 08707509020 20p per min ntt ltd po box 1327 croydon cr9 5wb 0870 nationa...\n",
      "408    hot live fantasies call 08707509020 20p per min ntt ltd po box 1327 croydon cr9 5wb 0870 nationa...\n",
      "427                    hot live fantasies call 08707509020 20p per min ntt ltd po box 1327 croydon cr9 5wb\n",
      "554        hot live fantasies call 20p per min ntt ltd po box 1327 croydon cr9 5wb 0870 national rate call\n",
      "Name: new_phrase, dtype: object\n",
      "\n",
      "DBSCAN cluster 11 | Number of items: 5\n",
      "211                      urgent mobile £ 2000 bonus caller prize 2nd attempt reach call asap\n",
      "285               urgent mobile £ 2000 bonus caller prize 2nd attempt reach call asap 150ppm\n",
      "305               urgent mobile £ 2000 bonus caller prize 2nd attempt reach call asap 150ppm\n",
      "325    urgent mobile number £ 2000 bonus caller prize 2nd attempt reach call asap box 150ppm\n",
      "359               urgent mobile £ 2000 bonus caller prize 2nd attempt reach call asap 150ppm\n",
      "Name: new_phrase, dtype: object\n"
     ]
    },
    {
     "name": "stdout",
     "output_type": "stream",
     "text": [
      "\n",
      "DBSCAN cluster 14 | Number of items: 6\n",
      "273    well 4 costa del sol holiday £ 5000 await collection call 09050090044 toclaim sae tcs pobox334 s...\n",
      "306    urgent 4 costa del sol holiday £ 5000 await collection call 09050090044 toclaim sae tc pobox334 ...\n",
      "560    urgent 4 costa del sol holiday £ 5000 await collection call 09050090044 toclaim sae tc pobox334 ...\n",
      "586    well 4 costa del sol holiday £ 5000 await collection call 09050090044 toclaim sae tcs pobox334 s...\n",
      "695    4 costa del sol holiday £ 5000 await collection call 09050090044 toclaim sae tc pobox334 stockpo...\n",
      "Name: new_phrase, dtype: object\n",
      "\n",
      "DBSCAN cluster 15 | Number of items: 5\n",
      "308    thanks ringtone order number mobile charged £ 450 tone arrive please call customer services\n",
      "311    thanks ringtone order number mobile charged £ 450 tone arrive please call customer services\n",
      "433      thanks ringtone order number mobile charged 450 tone arrive please call customer services\n",
      "493      thanks ringtone order number mobile charged 450 tone arrive please call customer services\n",
      "542      thanks ringtone order number mobile charged 450 tone arrive please call customer services\n",
      "Name: new_phrase, dtype: object\n",
      "\n"
     ]
    }
   ],
   "source": [
    "for i in sedit['db_pred'].unique():\n",
    "    print (f\"DBSCAN cluster {i} | Number of items: {len(sedit[sedit['db_pred'] == i])}\")\n",
    "    print(str(sedit.iloc[(sedit[sedit['db_pred'] == i][:5].index.values),2])+'\\n')"
   ]
  },
  {
   "cell_type": "markdown",
   "metadata": {},
   "source": [
    "### Findings"
   ]
  },
  {
   "cell_type": "code",
   "execution_count": 37,
   "metadata": {},
   "outputs": [],
   "source": [
    "# With DBSCAN, we see some pretty narrow clustering, meaning it can identify very similar items well,\n",
    "# but has a large unclustered population in cluster -1.\n",
    "# Modifying the eps and mini_sample parameters can increase the number of clusters\n",
    "\n",
    "# With K-means, we see pretty loose clustering, meaning the clusters are more general.\n",
    "# We see some decent word similarities, but the arbitrary 10 clusters is not ideal.\n",
    "\n",
    "# With Agglomerative, we see a combination of K-means and DBSCAN,\n",
    "# we see some good narrow clustering, and less effective loose clustering."
   ]
  },
  {
   "cell_type": "code",
   "execution_count": null,
   "metadata": {},
   "outputs": [],
   "source": [
    "# This concludes part 1.\n",
    "# In part 2 we can improve pre-processing to improve K-Means / Agglo results\n",
    "# In part 2 we can expand the number of clusters for DBSCAN\n",
    "# In part 2 we can improve visualization with cluster centers distance"
   ]
  }
 ],
 "metadata": {
  "kernelspec": {
   "display_name": "Python 3",
   "language": "python",
   "name": "python3"
  },
  "language_info": {
   "codemirror_mode": {
    "name": "ipython",
    "version": 3
   },
   "file_extension": ".py",
   "mimetype": "text/x-python",
   "name": "python",
   "nbconvert_exporter": "python",
   "pygments_lexer": "ipython3",
   "version": "3.6.4"
  }
 },
 "nbformat": 4,
 "nbformat_minor": 2
}
