{
 "cells": [
  {
   "cell_type": "code",
   "execution_count": 1,
   "metadata": {},
   "outputs": [],
   "source": [
    "# In this notebook:\n",
    "# I attempt to classify SMS messages as potential spam\n",
    "# I explore methods different for regular NLP for spam detection\n",
    "# I conduct TFIDF vectorization\n",
    "# I utilize hstack to combine sparse matrix with descriptive variables\n",
    "# I conduct ML via logistic regression / Naive Bayes"
   ]
  },
  {
   "cell_type": "code",
   "execution_count": 2,
   "metadata": {},
   "outputs": [],
   "source": [
    "import numpy as np\n",
    "import pandas as pd"
   ]
  },
  {
   "cell_type": "code",
   "execution_count": 3,
   "metadata": {},
   "outputs": [],
   "source": [
    "pd.set_option('display.max_colwidth', 100)"
   ]
  },
  {
   "cell_type": "code",
   "execution_count": 4,
   "metadata": {},
   "outputs": [
    {
     "name": "stdout",
     "output_type": "stream",
     "text": [
      "Dataset shape is: (5572, 2)\n"
     ]
    },
    {
     "data": {
      "text/html": [
       "<div>\n",
       "<style scoped>\n",
       "    .dataframe tbody tr th:only-of-type {\n",
       "        vertical-align: middle;\n",
       "    }\n",
       "\n",
       "    .dataframe tbody tr th {\n",
       "        vertical-align: top;\n",
       "    }\n",
       "\n",
       "    .dataframe thead th {\n",
       "        text-align: right;\n",
       "    }\n",
       "</style>\n",
       "<table border=\"1\" class=\"dataframe\">\n",
       "  <thead>\n",
       "    <tr style=\"text-align: right;\">\n",
       "      <th></th>\n",
       "      <th>class</th>\n",
       "      <th>phrase</th>\n",
       "    </tr>\n",
       "  </thead>\n",
       "  <tbody>\n",
       "    <tr>\n",
       "      <th>0</th>\n",
       "      <td>ham</td>\n",
       "      <td>Go until jurong point, crazy.. Available only in bugis n great world la e buffet... Cine there g...</td>\n",
       "    </tr>\n",
       "    <tr>\n",
       "      <th>1</th>\n",
       "      <td>ham</td>\n",
       "      <td>Ok lar... Joking wif u oni...</td>\n",
       "    </tr>\n",
       "    <tr>\n",
       "      <th>2</th>\n",
       "      <td>spam</td>\n",
       "      <td>Free entry in 2 a wkly comp to win FA Cup final tkts 21st May 2005. Text FA to 87121 to receive ...</td>\n",
       "    </tr>\n",
       "    <tr>\n",
       "      <th>3</th>\n",
       "      <td>ham</td>\n",
       "      <td>U dun say so early hor... U c already then say...</td>\n",
       "    </tr>\n",
       "    <tr>\n",
       "      <th>4</th>\n",
       "      <td>ham</td>\n",
       "      <td>Nah I don't think he goes to usf, he lives around here though</td>\n",
       "    </tr>\n",
       "  </tbody>\n",
       "</table>\n",
       "</div>"
      ],
      "text/plain": [
       "  class  \\\n",
       "0   ham   \n",
       "1   ham   \n",
       "2  spam   \n",
       "3   ham   \n",
       "4   ham   \n",
       "\n",
       "                                                                                                phrase  \n",
       "0  Go until jurong point, crazy.. Available only in bugis n great world la e buffet... Cine there g...  \n",
       "1                                                                        Ok lar... Joking wif u oni...  \n",
       "2  Free entry in 2 a wkly comp to win FA Cup final tkts 21st May 2005. Text FA to 87121 to receive ...  \n",
       "3                                                    U dun say so early hor... U c already then say...  \n",
       "4                                        Nah I don't think he goes to usf, he lives around here though  "
      ]
     },
     "execution_count": 4,
     "metadata": {},
     "output_type": "execute_result"
    }
   ],
   "source": [
    "sorig = pd.read_csv('SMSSpamCollection',sep='\\t',header=None,names=['class','phrase'])\n",
    "\n",
    "print(f'Dataset shape is: {sorig.shape}')\n",
    "\n",
    "sorig.head()"
   ]
  },
  {
   "cell_type": "code",
   "execution_count": 5,
   "metadata": {},
   "outputs": [
    {
     "name": "stdout",
     "output_type": "stream",
     "text": [
      "<class 'pandas.core.frame.DataFrame'>\n",
      "RangeIndex: 5572 entries, 0 to 5571\n",
      "Data columns (total 2 columns):\n",
      "class     5572 non-null object\n",
      "phrase    5572 non-null object\n",
      "dtypes: object(2)\n",
      "memory usage: 87.1+ KB\n"
     ]
    }
   ],
   "source": [
    "# no missing values\n",
    "sorig.info()"
   ]
  },
  {
   "cell_type": "code",
   "execution_count": 6,
   "metadata": {},
   "outputs": [
    {
     "data": {
      "text/plain": [
       "ham     4825\n",
       "spam     747\n",
       "Name: class, dtype: int64"
      ]
     },
     "execution_count": 6,
     "metadata": {},
     "output_type": "execute_result"
    }
   ],
   "source": [
    "# breakdown of ham to spam; spam == 13%\n",
    "sorig['class'].value_counts()"
   ]
  },
  {
   "cell_type": "code",
   "execution_count": 7,
   "metadata": {},
   "outputs": [
    {
     "data": {
      "text/html": [
       "<div>\n",
       "<style scoped>\n",
       "    .dataframe tbody tr th:only-of-type {\n",
       "        vertical-align: middle;\n",
       "    }\n",
       "\n",
       "    .dataframe tbody tr th {\n",
       "        vertical-align: top;\n",
       "    }\n",
       "\n",
       "    .dataframe thead th {\n",
       "        text-align: right;\n",
       "    }\n",
       "</style>\n",
       "<table border=\"1\" class=\"dataframe\">\n",
       "  <thead>\n",
       "    <tr style=\"text-align: right;\">\n",
       "      <th></th>\n",
       "      <th>class</th>\n",
       "      <th>phrase</th>\n",
       "    </tr>\n",
       "  </thead>\n",
       "  <tbody>\n",
       "    <tr>\n",
       "      <th>2</th>\n",
       "      <td>spam</td>\n",
       "      <td>Free entry in 2 a wkly comp to win FA Cup final tkts 21st May 2005. Text FA to 87121 to receive ...</td>\n",
       "    </tr>\n",
       "    <tr>\n",
       "      <th>5</th>\n",
       "      <td>spam</td>\n",
       "      <td>FreeMsg Hey there darling it's been 3 week's now and no word back! I'd like some fun you up for ...</td>\n",
       "    </tr>\n",
       "    <tr>\n",
       "      <th>8</th>\n",
       "      <td>spam</td>\n",
       "      <td>WINNER!! As a valued network customer you have been selected to receivea £900 prize reward! To c...</td>\n",
       "    </tr>\n",
       "    <tr>\n",
       "      <th>9</th>\n",
       "      <td>spam</td>\n",
       "      <td>Had your mobile 11 months or more? U R entitled to Update to the latest colour mobiles with came...</td>\n",
       "    </tr>\n",
       "    <tr>\n",
       "      <th>11</th>\n",
       "      <td>spam</td>\n",
       "      <td>SIX chances to win CASH! From 100 to 20,000 pounds txt&gt; CSH11 and send to 87575. Cost 150p/day, ...</td>\n",
       "    </tr>\n",
       "    <tr>\n",
       "      <th>12</th>\n",
       "      <td>spam</td>\n",
       "      <td>URGENT! You have won a 1 week FREE membership in our £100,000 Prize Jackpot! Txt the word: CLAIM...</td>\n",
       "    </tr>\n",
       "    <tr>\n",
       "      <th>15</th>\n",
       "      <td>spam</td>\n",
       "      <td>XXXMobileMovieClub: To use your credit, click the WAP link in the next txt message or click here...</td>\n",
       "    </tr>\n",
       "    <tr>\n",
       "      <th>19</th>\n",
       "      <td>spam</td>\n",
       "      <td>England v Macedonia - dont miss the goals/team news. Txt ur national team to 87077 eg ENGLAND to...</td>\n",
       "    </tr>\n",
       "    <tr>\n",
       "      <th>34</th>\n",
       "      <td>spam</td>\n",
       "      <td>Thanks for your subscription to Ringtone UK your mobile will be charged £5/month Please confirm ...</td>\n",
       "    </tr>\n",
       "    <tr>\n",
       "      <th>42</th>\n",
       "      <td>spam</td>\n",
       "      <td>07732584351 - Rodger Burns - MSG = We tried to call you re your reply to our sms for a free noki...</td>\n",
       "    </tr>\n",
       "    <tr>\n",
       "      <th>54</th>\n",
       "      <td>spam</td>\n",
       "      <td>SMS. ac Sptv: The New Jersey Devils and the Detroit Red Wings play Ice Hockey. Correct or Incorr...</td>\n",
       "    </tr>\n",
       "    <tr>\n",
       "      <th>56</th>\n",
       "      <td>spam</td>\n",
       "      <td>Congrats! 1 year special cinema pass for 2 is yours. call 09061209465 now! C Suprman V, Matrix3,...</td>\n",
       "    </tr>\n",
       "    <tr>\n",
       "      <th>65</th>\n",
       "      <td>spam</td>\n",
       "      <td>As a valued customer, I am pleased to advise you that following recent review of your Mob No. yo...</td>\n",
       "    </tr>\n",
       "    <tr>\n",
       "      <th>67</th>\n",
       "      <td>spam</td>\n",
       "      <td>Urgent UR awarded a complimentary trip to EuroDisinc Trav, Aco&amp;Entry41 Or £1000. To claim txt DI...</td>\n",
       "    </tr>\n",
       "    <tr>\n",
       "      <th>68</th>\n",
       "      <td>spam</td>\n",
       "      <td>Did you hear about the new \"Divorce Barbie\"? It comes with all of Ken's stuff!</td>\n",
       "    </tr>\n",
       "    <tr>\n",
       "      <th>93</th>\n",
       "      <td>spam</td>\n",
       "      <td>Please call our customer service representative on 0800 169 6031 between 10am-9pm as you have WO...</td>\n",
       "    </tr>\n",
       "    <tr>\n",
       "      <th>95</th>\n",
       "      <td>spam</td>\n",
       "      <td>Your free ringtone is waiting to be collected. Simply text the password \"MIX\" to 85069 to verify...</td>\n",
       "    </tr>\n",
       "    <tr>\n",
       "      <th>114</th>\n",
       "      <td>spam</td>\n",
       "      <td>GENT! We are trying to contact you. Last weekends draw shows that you won a £1000 prize GUARANTE...</td>\n",
       "    </tr>\n",
       "    <tr>\n",
       "      <th>117</th>\n",
       "      <td>spam</td>\n",
       "      <td>You are a winner U have been specially selected 2 receive £1000 or a 4* holiday (flights inc) sp...</td>\n",
       "    </tr>\n",
       "    <tr>\n",
       "      <th>120</th>\n",
       "      <td>spam</td>\n",
       "      <td>PRIVATE! Your 2004 Account Statement for 07742676969 shows 786 unredeemed Bonus Points. To claim...</td>\n",
       "    </tr>\n",
       "  </tbody>\n",
       "</table>\n",
       "</div>"
      ],
      "text/plain": [
       "    class  \\\n",
       "2    spam   \n",
       "5    spam   \n",
       "8    spam   \n",
       "9    spam   \n",
       "11   spam   \n",
       "12   spam   \n",
       "15   spam   \n",
       "19   spam   \n",
       "34   spam   \n",
       "42   spam   \n",
       "54   spam   \n",
       "56   spam   \n",
       "65   spam   \n",
       "67   spam   \n",
       "68   spam   \n",
       "93   spam   \n",
       "95   spam   \n",
       "114  spam   \n",
       "117  spam   \n",
       "120  spam   \n",
       "\n",
       "                                                                                                  phrase  \n",
       "2    Free entry in 2 a wkly comp to win FA Cup final tkts 21st May 2005. Text FA to 87121 to receive ...  \n",
       "5    FreeMsg Hey there darling it's been 3 week's now and no word back! I'd like some fun you up for ...  \n",
       "8    WINNER!! As a valued network customer you have been selected to receivea £900 prize reward! To c...  \n",
       "9    Had your mobile 11 months or more? U R entitled to Update to the latest colour mobiles with came...  \n",
       "11   SIX chances to win CASH! From 100 to 20,000 pounds txt> CSH11 and send to 87575. Cost 150p/day, ...  \n",
       "12   URGENT! You have won a 1 week FREE membership in our £100,000 Prize Jackpot! Txt the word: CLAIM...  \n",
       "15   XXXMobileMovieClub: To use your credit, click the WAP link in the next txt message or click here...  \n",
       "19   England v Macedonia - dont miss the goals/team news. Txt ur national team to 87077 eg ENGLAND to...  \n",
       "34   Thanks for your subscription to Ringtone UK your mobile will be charged £5/month Please confirm ...  \n",
       "42   07732584351 - Rodger Burns - MSG = We tried to call you re your reply to our sms for a free noki...  \n",
       "54   SMS. ac Sptv: The New Jersey Devils and the Detroit Red Wings play Ice Hockey. Correct or Incorr...  \n",
       "56   Congrats! 1 year special cinema pass for 2 is yours. call 09061209465 now! C Suprman V, Matrix3,...  \n",
       "65   As a valued customer, I am pleased to advise you that following recent review of your Mob No. yo...  \n",
       "67   Urgent UR awarded a complimentary trip to EuroDisinc Trav, Aco&Entry41 Or £1000. To claim txt DI...  \n",
       "68                        Did you hear about the new \"Divorce Barbie\"? It comes with all of Ken's stuff!  \n",
       "93   Please call our customer service representative on 0800 169 6031 between 10am-9pm as you have WO...  \n",
       "95   Your free ringtone is waiting to be collected. Simply text the password \"MIX\" to 85069 to verify...  \n",
       "114  GENT! We are trying to contact you. Last weekends draw shows that you won a £1000 prize GUARANTE...  \n",
       "117  You are a winner U have been specially selected 2 receive £1000 or a 4* holiday (flights inc) sp...  \n",
       "120  PRIVATE! Your 2004 Account Statement for 07742676969 shows 786 unredeemed Bonus Points. To claim...  "
      ]
     },
     "execution_count": 7,
     "metadata": {},
     "output_type": "execute_result"
    }
   ],
   "source": [
    "# a quick look at what is considered spam\n",
    "# high count of numbers\n",
    "# all caps words seem to be common\n",
    "sorig[sorig['class'] == 'spam'][:20]"
   ]
  },
  {
   "cell_type": "markdown",
   "metadata": {},
   "source": [
    "## Extract phrase detail"
   ]
  },
  {
   "cell_type": "code",
   "execution_count": 8,
   "metadata": {},
   "outputs": [],
   "source": [
    "def digit_count(x):\n",
    "    digits = 0\n",
    "    for char in x:\n",
    "        if char.isnumeric():\n",
    "            digits += 1\n",
    "    return digits"
   ]
  },
  {
   "cell_type": "code",
   "execution_count": 9,
   "metadata": {},
   "outputs": [
    {
     "data": {
      "text/html": [
       "<div>\n",
       "<style scoped>\n",
       "    .dataframe tbody tr th:only-of-type {\n",
       "        vertical-align: middle;\n",
       "    }\n",
       "\n",
       "    .dataframe tbody tr th {\n",
       "        vertical-align: top;\n",
       "    }\n",
       "\n",
       "    .dataframe thead th {\n",
       "        text-align: right;\n",
       "    }\n",
       "</style>\n",
       "<table border=\"1\" class=\"dataframe\">\n",
       "  <thead>\n",
       "    <tr style=\"text-align: right;\">\n",
       "      <th></th>\n",
       "      <th>class</th>\n",
       "      <th>phrase</th>\n",
       "      <th>c_digits</th>\n",
       "    </tr>\n",
       "  </thead>\n",
       "  <tbody>\n",
       "    <tr>\n",
       "      <th>0</th>\n",
       "      <td>ham</td>\n",
       "      <td>Go until jurong point, crazy.. Available only in bugis n great world la e buffet... Cine there g...</td>\n",
       "      <td>0</td>\n",
       "    </tr>\n",
       "    <tr>\n",
       "      <th>1</th>\n",
       "      <td>ham</td>\n",
       "      <td>Ok lar... Joking wif u oni...</td>\n",
       "      <td>0</td>\n",
       "    </tr>\n",
       "    <tr>\n",
       "      <th>2</th>\n",
       "      <td>spam</td>\n",
       "      <td>Free entry in 2 a wkly comp to win FA Cup final tkts 21st May 2005. Text FA to 87121 to receive ...</td>\n",
       "      <td>25</td>\n",
       "    </tr>\n",
       "    <tr>\n",
       "      <th>3</th>\n",
       "      <td>ham</td>\n",
       "      <td>U dun say so early hor... U c already then say...</td>\n",
       "      <td>0</td>\n",
       "    </tr>\n",
       "    <tr>\n",
       "      <th>4</th>\n",
       "      <td>ham</td>\n",
       "      <td>Nah I don't think he goes to usf, he lives around here though</td>\n",
       "      <td>0</td>\n",
       "    </tr>\n",
       "  </tbody>\n",
       "</table>\n",
       "</div>"
      ],
      "text/plain": [
       "  class  \\\n",
       "0   ham   \n",
       "1   ham   \n",
       "2  spam   \n",
       "3   ham   \n",
       "4   ham   \n",
       "\n",
       "                                                                                                phrase  \\\n",
       "0  Go until jurong point, crazy.. Available only in bugis n great world la e buffet... Cine there g...   \n",
       "1                                                                        Ok lar... Joking wif u oni...   \n",
       "2  Free entry in 2 a wkly comp to win FA Cup final tkts 21st May 2005. Text FA to 87121 to receive ...   \n",
       "3                                                    U dun say so early hor... U c already then say...   \n",
       "4                                        Nah I don't think he goes to usf, he lives around here though   \n",
       "\n",
       "   c_digits  \n",
       "0         0  \n",
       "1         0  \n",
       "2        25  \n",
       "3         0  \n",
       "4         0  "
      ]
     },
     "execution_count": 9,
     "metadata": {},
     "output_type": "execute_result"
    }
   ],
   "source": [
    "sorig['c_digits'] = sorig['phrase'].apply(digit_count)\n",
    "\n",
    "sorig.head()"
   ]
  },
  {
   "cell_type": "code",
   "execution_count": 10,
   "metadata": {},
   "outputs": [],
   "source": [
    "def symbol_count(x):\n",
    "    syms = 0\n",
    "    for char in x:\n",
    "        if (char.isalnum() == False) & (char != ' '):\n",
    "            syms += 1\n",
    "            \n",
    "    return syms"
   ]
  },
  {
   "cell_type": "code",
   "execution_count": 11,
   "metadata": {},
   "outputs": [
    {
     "data": {
      "text/html": [
       "<div>\n",
       "<style scoped>\n",
       "    .dataframe tbody tr th:only-of-type {\n",
       "        vertical-align: middle;\n",
       "    }\n",
       "\n",
       "    .dataframe tbody tr th {\n",
       "        vertical-align: top;\n",
       "    }\n",
       "\n",
       "    .dataframe thead th {\n",
       "        text-align: right;\n",
       "    }\n",
       "</style>\n",
       "<table border=\"1\" class=\"dataframe\">\n",
       "  <thead>\n",
       "    <tr style=\"text-align: right;\">\n",
       "      <th></th>\n",
       "      <th>class</th>\n",
       "      <th>phrase</th>\n",
       "      <th>c_digits</th>\n",
       "      <th>c_symbols</th>\n",
       "    </tr>\n",
       "  </thead>\n",
       "  <tbody>\n",
       "    <tr>\n",
       "      <th>0</th>\n",
       "      <td>ham</td>\n",
       "      <td>Go until jurong point, crazy.. Available only in bugis n great world la e buffet... Cine there g...</td>\n",
       "      <td>0</td>\n",
       "      <td>9</td>\n",
       "    </tr>\n",
       "    <tr>\n",
       "      <th>1</th>\n",
       "      <td>ham</td>\n",
       "      <td>Ok lar... Joking wif u oni...</td>\n",
       "      <td>0</td>\n",
       "      <td>6</td>\n",
       "    </tr>\n",
       "    <tr>\n",
       "      <th>2</th>\n",
       "      <td>spam</td>\n",
       "      <td>Free entry in 2 a wkly comp to win FA Cup final tkts 21st May 2005. Text FA to 87121 to receive ...</td>\n",
       "      <td>25</td>\n",
       "      <td>6</td>\n",
       "    </tr>\n",
       "    <tr>\n",
       "      <th>3</th>\n",
       "      <td>ham</td>\n",
       "      <td>U dun say so early hor... U c already then say...</td>\n",
       "      <td>0</td>\n",
       "      <td>6</td>\n",
       "    </tr>\n",
       "    <tr>\n",
       "      <th>4</th>\n",
       "      <td>ham</td>\n",
       "      <td>Nah I don't think he goes to usf, he lives around here though</td>\n",
       "      <td>0</td>\n",
       "      <td>2</td>\n",
       "    </tr>\n",
       "  </tbody>\n",
       "</table>\n",
       "</div>"
      ],
      "text/plain": [
       "  class  \\\n",
       "0   ham   \n",
       "1   ham   \n",
       "2  spam   \n",
       "3   ham   \n",
       "4   ham   \n",
       "\n",
       "                                                                                                phrase  \\\n",
       "0  Go until jurong point, crazy.. Available only in bugis n great world la e buffet... Cine there g...   \n",
       "1                                                                        Ok lar... Joking wif u oni...   \n",
       "2  Free entry in 2 a wkly comp to win FA Cup final tkts 21st May 2005. Text FA to 87121 to receive ...   \n",
       "3                                                    U dun say so early hor... U c already then say...   \n",
       "4                                        Nah I don't think he goes to usf, he lives around here though   \n",
       "\n",
       "   c_digits  c_symbols  \n",
       "0         0          9  \n",
       "1         0          6  \n",
       "2        25          6  \n",
       "3         0          6  \n",
       "4         0          2  "
      ]
     },
     "execution_count": 11,
     "metadata": {},
     "output_type": "execute_result"
    }
   ],
   "source": [
    "sorig['c_symbols'] = sorig['phrase'].apply(symbol_count)\n",
    "\n",
    "sorig.head()"
   ]
  },
  {
   "cell_type": "code",
   "execution_count": 12,
   "metadata": {},
   "outputs": [],
   "source": [
    "# counts strings in all caps longer than 3 characters\n",
    "\n",
    "def caps_count(x):\n",
    "    caps_temp = 0\n",
    "    caps_tot = 0\n",
    "    for char in x:\n",
    "        if char.isupper():\n",
    "            caps_temp += 1\n",
    "        else:\n",
    "            if caps_temp >= 3:\n",
    "                caps_tot += caps_temp\n",
    "                caps_temp = 0\n",
    "            else:\n",
    "                caps_temp = 0\n",
    "                \n",
    "    return caps_tot"
   ]
  },
  {
   "cell_type": "code",
   "execution_count": 13,
   "metadata": {},
   "outputs": [
    {
     "data": {
      "text/html": [
       "<div>\n",
       "<style scoped>\n",
       "    .dataframe tbody tr th:only-of-type {\n",
       "        vertical-align: middle;\n",
       "    }\n",
       "\n",
       "    .dataframe tbody tr th {\n",
       "        vertical-align: top;\n",
       "    }\n",
       "\n",
       "    .dataframe thead th {\n",
       "        text-align: right;\n",
       "    }\n",
       "</style>\n",
       "<table border=\"1\" class=\"dataframe\">\n",
       "  <thead>\n",
       "    <tr style=\"text-align: right;\">\n",
       "      <th></th>\n",
       "      <th>class</th>\n",
       "      <th>phrase</th>\n",
       "      <th>c_digits</th>\n",
       "      <th>c_symbols</th>\n",
       "      <th>c_caps</th>\n",
       "    </tr>\n",
       "  </thead>\n",
       "  <tbody>\n",
       "    <tr>\n",
       "      <th>0</th>\n",
       "      <td>ham</td>\n",
       "      <td>Go until jurong point, crazy.. Available only in bugis n great world la e buffet... Cine there g...</td>\n",
       "      <td>0</td>\n",
       "      <td>9</td>\n",
       "      <td>0</td>\n",
       "    </tr>\n",
       "    <tr>\n",
       "      <th>1</th>\n",
       "      <td>ham</td>\n",
       "      <td>Ok lar... Joking wif u oni...</td>\n",
       "      <td>0</td>\n",
       "      <td>6</td>\n",
       "      <td>0</td>\n",
       "    </tr>\n",
       "    <tr>\n",
       "      <th>2</th>\n",
       "      <td>spam</td>\n",
       "      <td>Free entry in 2 a wkly comp to win FA Cup final tkts 21st May 2005. Text FA to 87121 to receive ...</td>\n",
       "      <td>25</td>\n",
       "      <td>6</td>\n",
       "      <td>0</td>\n",
       "    </tr>\n",
       "    <tr>\n",
       "      <th>3</th>\n",
       "      <td>ham</td>\n",
       "      <td>U dun say so early hor... U c already then say...</td>\n",
       "      <td>0</td>\n",
       "      <td>6</td>\n",
       "      <td>0</td>\n",
       "    </tr>\n",
       "    <tr>\n",
       "      <th>4</th>\n",
       "      <td>ham</td>\n",
       "      <td>Nah I don't think he goes to usf, he lives around here though</td>\n",
       "      <td>0</td>\n",
       "      <td>2</td>\n",
       "      <td>0</td>\n",
       "    </tr>\n",
       "    <tr>\n",
       "      <th>5</th>\n",
       "      <td>spam</td>\n",
       "      <td>FreeMsg Hey there darling it's been 3 week's now and no word back! I'd like some fun you up for ...</td>\n",
       "      <td>4</td>\n",
       "      <td>9</td>\n",
       "      <td>0</td>\n",
       "    </tr>\n",
       "    <tr>\n",
       "      <th>6</th>\n",
       "      <td>ham</td>\n",
       "      <td>Even my brother is not like to speak with me. They treat me like aids patent.</td>\n",
       "      <td>0</td>\n",
       "      <td>2</td>\n",
       "      <td>0</td>\n",
       "    </tr>\n",
       "    <tr>\n",
       "      <th>7</th>\n",
       "      <td>ham</td>\n",
       "      <td>As per your request 'Melle Melle (Oru Minnaminunginte Nurungu Vettam)' has been set as your call...</td>\n",
       "      <td>1</td>\n",
       "      <td>6</td>\n",
       "      <td>0</td>\n",
       "    </tr>\n",
       "    <tr>\n",
       "      <th>8</th>\n",
       "      <td>spam</td>\n",
       "      <td>WINNER!! As a valued network customer you have been selected to receivea £900 prize reward! To c...</td>\n",
       "      <td>19</td>\n",
       "      <td>7</td>\n",
       "      <td>6</td>\n",
       "    </tr>\n",
       "    <tr>\n",
       "      <th>9</th>\n",
       "      <td>spam</td>\n",
       "      <td>Had your mobile 11 months or more? U R entitled to Update to the latest colour mobiles with came...</td>\n",
       "      <td>13</td>\n",
       "      <td>2</td>\n",
       "      <td>4</td>\n",
       "    </tr>\n",
       "  </tbody>\n",
       "</table>\n",
       "</div>"
      ],
      "text/plain": [
       "  class  \\\n",
       "0   ham   \n",
       "1   ham   \n",
       "2  spam   \n",
       "3   ham   \n",
       "4   ham   \n",
       "5  spam   \n",
       "6   ham   \n",
       "7   ham   \n",
       "8  spam   \n",
       "9  spam   \n",
       "\n",
       "                                                                                                phrase  \\\n",
       "0  Go until jurong point, crazy.. Available only in bugis n great world la e buffet... Cine there g...   \n",
       "1                                                                        Ok lar... Joking wif u oni...   \n",
       "2  Free entry in 2 a wkly comp to win FA Cup final tkts 21st May 2005. Text FA to 87121 to receive ...   \n",
       "3                                                    U dun say so early hor... U c already then say...   \n",
       "4                                        Nah I don't think he goes to usf, he lives around here though   \n",
       "5  FreeMsg Hey there darling it's been 3 week's now and no word back! I'd like some fun you up for ...   \n",
       "6                        Even my brother is not like to speak with me. They treat me like aids patent.   \n",
       "7  As per your request 'Melle Melle (Oru Minnaminunginte Nurungu Vettam)' has been set as your call...   \n",
       "8  WINNER!! As a valued network customer you have been selected to receivea £900 prize reward! To c...   \n",
       "9  Had your mobile 11 months or more? U R entitled to Update to the latest colour mobiles with came...   \n",
       "\n",
       "   c_digits  c_symbols  c_caps  \n",
       "0         0          9       0  \n",
       "1         0          6       0  \n",
       "2        25          6       0  \n",
       "3         0          6       0  \n",
       "4         0          2       0  \n",
       "5         4          9       0  \n",
       "6         0          2       0  \n",
       "7         1          6       0  \n",
       "8        19          7       6  \n",
       "9        13          2       4  "
      ]
     },
     "execution_count": 13,
     "metadata": {},
     "output_type": "execute_result"
    }
   ],
   "source": [
    "sorig['c_caps'] = sorig['phrase'].apply(caps_count)\n",
    "\n",
    "sorig.head(10)"
   ]
  },
  {
   "cell_type": "markdown",
   "metadata": {},
   "source": [
    "## Clean and preprocess phrase"
   ]
  },
  {
   "cell_type": "code",
   "execution_count": 14,
   "metadata": {},
   "outputs": [],
   "source": [
    "from nltk.corpus import stopwords"
   ]
  },
  {
   "cell_type": "code",
   "execution_count": 15,
   "metadata": {},
   "outputs": [
    {
     "data": {
      "text/plain": [
       "0            Go jurong point, crazy.. Available bugis n great world la e buffet... Cine got amore wat...\n",
       "1                                                                          Ok lar... Joking wif u oni...\n",
       "2    Free entry 2 wkly comp win FA Cup final tkts 21st May 2005. Text FA 87121 receive entry question...\n",
       "3                                                              U dun say early hor... U c already say...\n",
       "4                                                                Nah think goes usf, lives around though\n",
       "5        FreeMsg Hey darling 3 week's word back! I'd like fun still? Tb ok! XxX std chgs send, £1.50 rcv\n",
       "6                                                    Even brother like speak me. treat like aids patent.\n",
       "7    per request 'Melle Melle (Oru Minnaminunginte Nurungu Vettam)' set callertune Callers. Press *9 ...\n",
       "8    WINNER!! valued network customer selected receivea £900 prize reward! claim call 09061701461. Cl...\n",
       "9    mobile 11 months more? U R entitled Update latest colour mobiles camera Free! Call Mobile Update...\n",
       "Name: phrase, dtype: object"
      ]
     },
     "execution_count": 15,
     "metadata": {},
     "output_type": "execute_result"
    }
   ],
   "source": [
    "stop = stopwords.words('english')\n",
    "\n",
    "sorig['phrase'] = sorig['phrase'].apply(lambda x:\n",
    "                                        \" \".join(x for x in str(x).split()\n",
    "                                        if x.lower() not in stop))\n",
    "\n",
    "sorig['phrase'].head(10)"
   ]
  },
  {
   "cell_type": "code",
   "execution_count": 16,
   "metadata": {},
   "outputs": [],
   "source": [
    "# separate symbols from words in order to keep for TFIDF\n",
    "def symbol_sep(x):\n",
    "    new_str = ''\n",
    "    for char in x:\n",
    "        if (char.isalnum() == False) & (char != ' '):\n",
    "            new_str = new_str + ' ' + char + ' '\n",
    "        else:\n",
    "            new_str += char\n",
    "                        \n",
    "    return new_str"
   ]
  },
  {
   "cell_type": "code",
   "execution_count": 17,
   "metadata": {},
   "outputs": [
    {
     "data": {
      "text/html": [
       "<div>\n",
       "<style scoped>\n",
       "    .dataframe tbody tr th:only-of-type {\n",
       "        vertical-align: middle;\n",
       "    }\n",
       "\n",
       "    .dataframe tbody tr th {\n",
       "        vertical-align: top;\n",
       "    }\n",
       "\n",
       "    .dataframe thead th {\n",
       "        text-align: right;\n",
       "    }\n",
       "</style>\n",
       "<table border=\"1\" class=\"dataframe\">\n",
       "  <thead>\n",
       "    <tr style=\"text-align: right;\">\n",
       "      <th></th>\n",
       "      <th>class</th>\n",
       "      <th>phrase</th>\n",
       "      <th>c_digits</th>\n",
       "      <th>c_symbols</th>\n",
       "      <th>c_caps</th>\n",
       "    </tr>\n",
       "  </thead>\n",
       "  <tbody>\n",
       "    <tr>\n",
       "      <th>0</th>\n",
       "      <td>ham</td>\n",
       "      <td>Go jurong point ,  crazy .  .  Available bugis n great world la e buffet .  .  .  Cine got amore...</td>\n",
       "      <td>0</td>\n",
       "      <td>9</td>\n",
       "      <td>0</td>\n",
       "    </tr>\n",
       "    <tr>\n",
       "      <th>1</th>\n",
       "      <td>ham</td>\n",
       "      <td>Ok lar .  .  .  Joking wif u oni .  .  .</td>\n",
       "      <td>0</td>\n",
       "      <td>6</td>\n",
       "      <td>0</td>\n",
       "    </tr>\n",
       "    <tr>\n",
       "      <th>2</th>\n",
       "      <td>spam</td>\n",
       "      <td>Free entry 2 wkly comp win FA Cup final tkts 21st May 2005 .  Text FA 87121 receive entry questi...</td>\n",
       "      <td>25</td>\n",
       "      <td>6</td>\n",
       "      <td>0</td>\n",
       "    </tr>\n",
       "    <tr>\n",
       "      <th>3</th>\n",
       "      <td>ham</td>\n",
       "      <td>U dun say early hor .  .  .  U c already say .  .  .</td>\n",
       "      <td>0</td>\n",
       "      <td>6</td>\n",
       "      <td>0</td>\n",
       "    </tr>\n",
       "    <tr>\n",
       "      <th>4</th>\n",
       "      <td>ham</td>\n",
       "      <td>Nah think goes usf ,  lives around though</td>\n",
       "      <td>0</td>\n",
       "      <td>2</td>\n",
       "      <td>0</td>\n",
       "    </tr>\n",
       "    <tr>\n",
       "      <th>5</th>\n",
       "      <td>spam</td>\n",
       "      <td>FreeMsg Hey darling 3 week ' s word back !  I ' d like fun still ?  Tb ok !  XxX std chgs send ,...</td>\n",
       "      <td>4</td>\n",
       "      <td>9</td>\n",
       "      <td>0</td>\n",
       "    </tr>\n",
       "    <tr>\n",
       "      <th>6</th>\n",
       "      <td>ham</td>\n",
       "      <td>Even brother like speak me .  treat like aids patent .</td>\n",
       "      <td>0</td>\n",
       "      <td>2</td>\n",
       "      <td>0</td>\n",
       "    </tr>\n",
       "    <tr>\n",
       "      <th>7</th>\n",
       "      <td>ham</td>\n",
       "      <td>per request  ' Melle Melle  ( Oru Minnaminunginte Nurungu Vettam )  '  set callertune Callers . ...</td>\n",
       "      <td>1</td>\n",
       "      <td>6</td>\n",
       "      <td>0</td>\n",
       "    </tr>\n",
       "    <tr>\n",
       "      <th>8</th>\n",
       "      <td>spam</td>\n",
       "      <td>WINNER !  !  valued network customer selected receivea  £ 900 prize reward !  claim call 0906170...</td>\n",
       "      <td>19</td>\n",
       "      <td>7</td>\n",
       "      <td>6</td>\n",
       "    </tr>\n",
       "    <tr>\n",
       "      <th>9</th>\n",
       "      <td>spam</td>\n",
       "      <td>mobile 11 months more ?  U R entitled Update latest colour mobiles camera Free !  Call Mobile Up...</td>\n",
       "      <td>13</td>\n",
       "      <td>2</td>\n",
       "      <td>4</td>\n",
       "    </tr>\n",
       "  </tbody>\n",
       "</table>\n",
       "</div>"
      ],
      "text/plain": [
       "  class  \\\n",
       "0   ham   \n",
       "1   ham   \n",
       "2  spam   \n",
       "3   ham   \n",
       "4   ham   \n",
       "5  spam   \n",
       "6   ham   \n",
       "7   ham   \n",
       "8  spam   \n",
       "9  spam   \n",
       "\n",
       "                                                                                                phrase  \\\n",
       "0  Go jurong point ,  crazy .  .  Available bugis n great world la e buffet .  .  .  Cine got amore...   \n",
       "1                                                            Ok lar .  .  .  Joking wif u oni .  .  .    \n",
       "2  Free entry 2 wkly comp win FA Cup final tkts 21st May 2005 .  Text FA 87121 receive entry questi...   \n",
       "3                                                U dun say early hor .  .  .  U c already say .  .  .    \n",
       "4                                                            Nah think goes usf ,  lives around though   \n",
       "5  FreeMsg Hey darling 3 week ' s word back !  I ' d like fun still ?  Tb ok !  XxX std chgs send ,...   \n",
       "6                                              Even brother like speak me .  treat like aids patent .    \n",
       "7  per request  ' Melle Melle  ( Oru Minnaminunginte Nurungu Vettam )  '  set callertune Callers . ...   \n",
       "8  WINNER !  !  valued network customer selected receivea  £ 900 prize reward !  claim call 0906170...   \n",
       "9  mobile 11 months more ?  U R entitled Update latest colour mobiles camera Free !  Call Mobile Up...   \n",
       "\n",
       "   c_digits  c_symbols  c_caps  \n",
       "0         0          9       0  \n",
       "1         0          6       0  \n",
       "2        25          6       0  \n",
       "3         0          6       0  \n",
       "4         0          2       0  \n",
       "5         4          9       0  \n",
       "6         0          2       0  \n",
       "7         1          6       0  \n",
       "8        19          7       6  \n",
       "9        13          2       4  "
      ]
     },
     "execution_count": 17,
     "metadata": {},
     "output_type": "execute_result"
    }
   ],
   "source": [
    "sorig['phrase'] = sorig['phrase'].apply(symbol_sep)\n",
    "\n",
    "sorig.head(10)"
   ]
  },
  {
   "cell_type": "code",
   "execution_count": 18,
   "metadata": {},
   "outputs": [],
   "source": [
    "# keep all-caps words while lowercasing the rest\n",
    "def caps_sep(x):\n",
    "    new_str = ''\n",
    "    for word in str(x).split():\n",
    " \n",
    "        if (len(word) > 2) & (str(word).isupper()):\n",
    "            new_str = new_str + str(word) + ' '\n",
    "        else:\n",
    "            new_str = new_str + str(word).lower() + ' '\n",
    "                             \n",
    "    return new_str"
   ]
  },
  {
   "cell_type": "code",
   "execution_count": 19,
   "metadata": {},
   "outputs": [
    {
     "data": {
      "text/plain": [
       "0    go jurong point , crazy . . available bugis n great world la e buffet . . . cine got amore wat ....\n",
       "1                                                                   ok lar . . . joking wif u oni . . . \n",
       "2    free entry 2 wkly comp win fa cup final tkts 21st may 2005 . text fa 87121 receive entry questio...\n",
       "3                                                       u dun say early hor . . . u c already say . . . \n",
       "4                                                              nah think goes usf , lives around though \n",
       "5    freemsg hey darling 3 week ' s word back ! i ' d like fun still ? tb ok ! xxx std chgs send , £ ...\n",
       "6                                                 even brother like speak me . treat like aids patent . \n",
       "7    per request ' melle melle ( oru minnaminunginte nurungu vettam ) ' set callertune callers . pres...\n",
       "8    WINNER ! ! valued network customer selected receivea £ 900 prize reward ! claim call 09061701461...\n",
       "9    mobile 11 months more ? u r entitled update latest colour mobiles camera free ! call mobile upda...\n",
       "Name: phrase, dtype: object"
      ]
     },
     "execution_count": 19,
     "metadata": {},
     "output_type": "execute_result"
    }
   ],
   "source": [
    "sorig['phrase'] = sorig['phrase'].apply(caps_sep)\n",
    "\n",
    "sorig['phrase'].head(10)"
   ]
  },
  {
   "cell_type": "code",
   "execution_count": 20,
   "metadata": {},
   "outputs": [],
   "source": [
    "# remove single letters\n",
    "def remove_letters(x):\n",
    "    new_str = ''\n",
    "    for word in str(x).split():\n",
    " \n",
    "        if (len(word) == 1) & (str(word).isalpha()):\n",
    "            pass\n",
    "        else:\n",
    "            new_str = new_str + str(word) + ' '\n",
    "                             \n",
    "    return new_str"
   ]
  },
  {
   "cell_type": "code",
   "execution_count": 21,
   "metadata": {
    "scrolled": true
   },
   "outputs": [
    {
     "data": {
      "text/plain": [
       "0      go jurong point , crazy . . available bugis great world la buffet . . . cine got amore wat . . . \n",
       "1                                                                     ok lar . . . joking wif oni . . . \n",
       "2    free entry 2 wkly comp win fa cup final tkts 21st may 2005 . text fa 87121 receive entry questio...\n",
       "3                                                             dun say early hor . . . already say . . . \n",
       "4                                                              nah think goes usf , lives around though \n",
       "5    freemsg hey darling 3 week ' word back ! ' like fun still ? tb ok ! xxx std chgs send , £ 1 . 50...\n",
       "6                                                 even brother like speak me . treat like aids patent . \n",
       "7    per request ' melle melle ( oru minnaminunginte nurungu vettam ) ' set callertune callers . pres...\n",
       "8    WINNER ! ! valued network customer selected receivea £ 900 prize reward ! claim call 09061701461...\n",
       "9    mobile 11 months more ? entitled update latest colour mobiles camera free ! call mobile update c...\n",
       "Name: phrase, dtype: object"
      ]
     },
     "execution_count": 21,
     "metadata": {},
     "output_type": "execute_result"
    }
   ],
   "source": [
    "sorig['phrase'] = sorig['phrase'].apply(remove_letters)\n",
    "\n",
    "sorig['phrase'].head(10)"
   ]
  },
  {
   "cell_type": "code",
   "execution_count": 22,
   "metadata": {},
   "outputs": [
    {
     "name": "stdout",
     "output_type": "stream",
     "text": [
      "Number of unique words: 9441\n",
      "Sum of words: 77347\n"
     ]
    },
    {
     "data": {
      "text/plain": [
       ".       11214\n",
       ",        1980\n",
       "?        1550\n",
       "!        1397\n",
       "'        1391\n",
       "&         922\n",
       ";         768\n",
       ":         745\n",
       "-         585\n",
       "call      564\n",
       "2         533\n",
       ")         499\n",
       "/         419\n",
       "ur        391\n",
       "get       382\n",
       "£         329\n",
       "4         327\n",
       "gt        318\n",
       "lt        316\n",
       "*         311\n",
       "dtype: int64"
      ]
     },
     "execution_count": 22,
     "metadata": {},
     "output_type": "execute_result"
    }
   ],
   "source": [
    "word_count = pd.Series(' '.join(sorig['phrase']).split()).value_counts()\n",
    "\n",
    "print(f'Number of unique words: {len(word_count)}')\n",
    "print(f'Sum of words: {word_count.sum()}')\n",
    "\n",
    "word_count[:20]"
   ]
  },
  {
   "cell_type": "code",
   "execution_count": 23,
   "metadata": {},
   "outputs": [
    {
     "name": "stdout",
     "output_type": "stream",
     "text": [
      "Number of rare words: 6448\n",
      "Sum of rare words: 8032\n"
     ]
    },
    {
     "data": {
      "text/plain": [
       "08718730666       2\n",
       "simpler           2\n",
       "actor             2\n",
       "dippeditinadew    2\n",
       "vth               2\n",
       "muah              2\n",
       "hsbc              2\n",
       "wicklow           2\n",
       "sunlight          2\n",
       "teaching          2\n",
       "nokia6650         2\n",
       "07734396839       2\n",
       "BOUT              2\n",
       "kr                2\n",
       "EURO              2\n",
       "bone              2\n",
       "chances           2\n",
       "GREAT             2\n",
       "ryan              2\n",
       "08000776320       2\n",
       "dtype: int64"
      ]
     },
     "execution_count": 23,
     "metadata": {},
     "output_type": "execute_result"
    }
   ],
   "source": [
    "word_rare = word_count[(word_count == 1) | (word_count == 2)]\n",
    "\n",
    "print(f'Number of rare words: {len(word_rare)}')\n",
    "print(f'Sum of rare words: {word_rare.sum()}')\n",
    "\n",
    "word_rare[:20]"
   ]
  },
  {
   "cell_type": "code",
   "execution_count": 24,
   "metadata": {},
   "outputs": [
    {
     "data": {
      "text/plain": [
       "0                           go point , crazy . . available bugis great world la . . . cine got wat . . .\n",
       "1                                                                      ok lar . . . joking wif oni . . .\n",
       "2    free entry 2 wkly comp win fa cup final tkts 21st may 2005 . text fa 87121 receive entry questio...\n",
       "3                                                                  dun say early . . . already say . . .\n",
       "4                                                               nah think goes usf , lives around though\n",
       "5            freemsg hey darling 3 week ' word back ! ' like fun still ? tb ok ! xxx std send , £ 1 . 50\n",
       "6                                                              even brother like speak me . treat like .\n",
       "7    per request ' melle melle ( oru minnaminunginte nurungu vettam ) ' set callertune callers . pres...\n",
       "8    WINNER ! ! valued network customer selected £ 900 prize reward ! claim call . claim code . valid...\n",
       "9    mobile 11 months more ? entitled update latest colour mobiles camera free ! call mobile update c...\n",
       "Name: phrase, dtype: object"
      ]
     },
     "execution_count": 24,
     "metadata": {},
     "output_type": "execute_result"
    }
   ],
   "source": [
    "sorig['phrase'] = sorig['phrase'].apply(lambda x:\n",
    "                                      \" \".join(x for x in str(x).split()\n",
    "                                      if x not in word_rare))\n",
    "\n",
    "sorig['phrase'].head(10)"
   ]
  },
  {
   "cell_type": "markdown",
   "metadata": {},
   "source": [
    "## TFIDF"
   ]
  },
  {
   "cell_type": "code",
   "execution_count": 25,
   "metadata": {},
   "outputs": [],
   "source": [
    "from sklearn.feature_extraction.text import TfidfVectorizer"
   ]
  },
  {
   "cell_type": "code",
   "execution_count": 26,
   "metadata": {},
   "outputs": [
    {
     "data": {
      "text/plain": [
       "<5572x2744 sparse matrix of type '<class 'numpy.float64'>'\n",
       "\twith 35114 stored elements in Compressed Sparse Row format>"
      ]
     },
     "execution_count": 26,
     "metadata": {},
     "output_type": "execute_result"
    }
   ],
   "source": [
    "tf = TfidfVectorizer(max_features=3000, lowercase=None, analyzer='word',\n",
    "                        stop_words = 'english', ngram_range=(1,1))\n",
    "\n",
    "tfvec = tf.fit_transform(sorig['phrase'])\n",
    "\n",
    "tfvec"
   ]
  },
  {
   "cell_type": "code",
   "execution_count": 27,
   "metadata": {},
   "outputs": [
    {
     "data": {
      "text/plain": [
       "{'point': 1911,\n",
       " 'crazy': 861,\n",
       " 'available': 544,\n",
       " 'bugis': 675,\n",
       " 'great': 1233,\n",
       " 'world': 2694,\n",
       " 'la': 1470,\n",
       " 'cine': 777,\n",
       " 'got': 1224,\n",
       " 'wat': 2626,\n",
       " 'ok': 1796,\n",
       " 'lar': 1479,\n",
       " 'joking': 1431,\n",
       " 'wif': 2659,\n",
       " 'oni': 1804,\n",
       " 'free': 1151,\n",
       " 'entry': 1027,\n",
       " 'wkly': 2677,\n",
       " 'comp': 816,\n",
       " 'win': 2663}"
      ]
     },
     "execution_count": 27,
     "metadata": {},
     "output_type": "execute_result"
    }
   ],
   "source": [
    "first20vocab = {x: tf.vocabulary_[x] for x in list(tf.vocabulary_)[:20]}\n",
    "\n",
    "first20vocab"
   ]
  },
  {
   "cell_type": "code",
   "execution_count": 28,
   "metadata": {},
   "outputs": [
    {
     "data": {
      "text/plain": [
       "{'ALRITE': 8.016250875135436,\n",
       " 'ASAP': 7.546247245889701,\n",
       " 'AUCTION': 8.239394426449646,\n",
       " 'AWAITING': 8.239394426449646,\n",
       " 'BABE': 6.986631457954278,\n",
       " 'BABY': 8.239394426449646,\n",
       " 'BACK': 7.8339293183414815,\n",
       " 'BAK': 8.239394426449646,\n",
       " 'BIRTHDAY': 7.679778638514223,\n",
       " 'BIT': 8.016250875135436,\n",
       " 'BLOOD': 8.016250875135436,\n",
       " 'BMW': 8.239394426449646,\n",
       " 'BONUS': 8.239394426449646,\n",
       " 'BOX': 7.32310369457549,\n",
       " 'BOX95QU': 8.239394426449646,\n",
       " 'BOX97N7QP': 8.239394426449646,\n",
       " 'BSLVYL': 6.986631457954278,\n",
       " 'CALL': 6.224491405907381,\n",
       " 'CAMERA': 8.016250875135436,\n",
       " 'CARD': 8.239394426449646}"
      ]
     },
     "execution_count": 28,
     "metadata": {},
     "output_type": "execute_result"
    }
   ],
   "source": [
    "rand20idf = {x: dict(zip(tf.get_feature_names(), tf.idf_))[x] for x in \n",
    "              list(dict(zip(tf.get_feature_names(), tf.idf_)))[200:220]}\n",
    "\n",
    "rand20idf"
   ]
  },
  {
   "cell_type": "markdown",
   "metadata": {},
   "source": [
    "## Conduct ML"
   ]
  },
  {
   "cell_type": "code",
   "execution_count": 29,
   "metadata": {},
   "outputs": [],
   "source": [
    "from sklearn.model_selection import train_test_split\n",
    "from sklearn.linear_model import LogisticRegression\n",
    "from sklearn.naive_bayes import MultinomialNB\n",
    "from sklearn.metrics import accuracy_score\n",
    "from scipy.sparse import hstack\n",
    "from sklearn.metrics import classification_report"
   ]
  },
  {
   "cell_type": "code",
   "execution_count": 30,
   "metadata": {},
   "outputs": [
    {
     "data": {
      "text/plain": [
       "<5572x2747 sparse matrix of type '<class 'numpy.float64'>'\n",
       "\twith 42557 stored elements in COOrdinate format>"
      ]
     },
     "execution_count": 30,
     "metadata": {},
     "output_type": "execute_result"
    }
   ],
   "source": [
    "# add in the phrase detail columns for ML\n",
    "\n",
    "sml = tfvec.copy()\n",
    "\n",
    "sml = hstack((sml ,np.array(sorig['c_digits'])[:,None]))\n",
    "sml = hstack((sml ,np.array(sorig['c_symbols'])[:,None]))\n",
    "sml = hstack((sml ,np.array(sorig['c_caps'])[:,None]))\n",
    "\n",
    "sml"
   ]
  },
  {
   "cell_type": "code",
   "execution_count": 31,
   "metadata": {},
   "outputs": [
    {
     "name": "stdout",
     "output_type": "stream",
     "text": [
      "x_train: (4179, 2747)\n",
      "y_train: (4179,)\n",
      "x_test: (1393, 2747)\n",
      "y_test: (1393,)\n"
     ]
    }
   ],
   "source": [
    "(x_train, x_test, y_train, y_test) = train_test_split(sml, sorig['class'], test_size=0.25)\n",
    "\n",
    "print(f'x_train: {x_train.shape}\\ny_train: {y_train.shape}')\n",
    "print(f'x_test: {x_test.shape}\\ny_test: {y_test.shape}')"
   ]
  },
  {
   "cell_type": "code",
   "execution_count": 32,
   "metadata": {},
   "outputs": [
    {
     "name": "stdout",
     "output_type": "stream",
     "text": [
      "TFIDF with Logistic Regression Accuracy: C=0.01 0.9662598707824839\n",
      "TFIDF with Logistic Regression Accuracy: C=0.05 0.9662598707824839\n",
      "TFIDF with Logistic Regression Accuracy: C=0.25 0.968413496051687\n",
      "TFIDF with Logistic Regression Accuracy: C=0.5 0.9705671213208902\n",
      "TFIDF with Logistic Regression Accuracy: C=1 0.9755922469490309\n"
     ]
    }
   ],
   "source": [
    "for c in [0.01, 0.05, 0.25, 0.5, 1]:\n",
    "    \n",
    "    logreg = LogisticRegression(C=c)\n",
    "    logreg.fit(x_train, y_train)\n",
    "    print (f'TFIDF with Logistic Regression Accuracy: C={c} {accuracy_score(y_test, logreg.predict(x_test))}')"
   ]
  },
  {
   "cell_type": "code",
   "execution_count": 33,
   "metadata": {},
   "outputs": [
    {
     "name": "stdout",
     "output_type": "stream",
     "text": [
      "Logistic regression report:\n",
      "             precision    recall  f1-score   support\n",
      "\n",
      "        ham       0.97      1.00      0.99      1204\n",
      "       spam       0.98      0.84      0.90       189\n",
      "\n",
      "avg / total       0.98      0.98      0.97      1393\n",
      "\n"
     ]
    }
   ],
   "source": [
    "logreg = LogisticRegression(C=1)\n",
    "logregmodel = logreg.fit(x_train, y_train)\n",
    "\n",
    "print ('Logistic regression report:')\n",
    "print (classification_report(y_test, logregmodel.predict(x_test)))"
   ]
  },
  {
   "cell_type": "code",
   "execution_count": 34,
   "metadata": {},
   "outputs": [
    {
     "name": "stdout",
     "output_type": "stream",
     "text": [
      "TFIDF with Naive Bayes Accuracy: 0.955491744436468\n"
     ]
    }
   ],
   "source": [
    "mnb = MultinomialNB()\n",
    "mnbmodel = mnb.fit(x_train, y_train)\n",
    "\n",
    "print (f'TFIDF with Naive Bayes Accuracy: {accuracy_score(y_test, mnbmodel.predict(x_test))}')"
   ]
  },
  {
   "cell_type": "code",
   "execution_count": 35,
   "metadata": {},
   "outputs": [
    {
     "name": "stdout",
     "output_type": "stream",
     "text": [
      "Naive Bayes report:\n",
      "             precision    recall  f1-score   support\n",
      "\n",
      "        ham       0.98      0.97      0.97      1204\n",
      "       spam       0.82      0.87      0.84       189\n",
      "\n",
      "avg / total       0.96      0.96      0.96      1393\n",
      "\n"
     ]
    }
   ],
   "source": [
    "print ('Naive Bayes report:')\n",
    "print (classification_report(y_test, mnbmodel.predict(x_test)))"
   ]
  },
  {
   "cell_type": "code",
   "execution_count": 36,
   "metadata": {},
   "outputs": [],
   "source": [
    "# Looks like Logistic Regression C=1 is the best predicting model\n",
    "# Below are some predictions to see the model in action\n",
    "\n",
    "test_phrase = ['hey Dave, how are you and the fam?',\n",
    "               'tired of your phone bill? Send us a text at 4012221234',\n",
    "               'YO you up bro? Been textin you since 10, let me know wen u up!',\n",
    "               'ONCE IN A LIFE OPPORTUNITY!!! Contact us at team@makemoneyquick.com!!!',\n",
    "               'CONGRATULATIONS! You are the lucky winner of £100,000']\n",
    "\n",
    "test_transform = tf.transform(test_phrase)\n",
    "\n",
    "test_transform = hstack((test_transform ,np.array([0,10,2,1,6])[:,None])) #c_digits\n",
    "test_transform = hstack((test_transform ,np.array([1,1,2,7,2])[:,None])) #c_symbols\n",
    "test_transform = hstack((test_transform ,np.array([0,0,0,19,15])[:,None])) #c_caps"
   ]
  },
  {
   "cell_type": "code",
   "execution_count": 37,
   "metadata": {},
   "outputs": [
    {
     "name": "stdout",
     "output_type": "stream",
     "text": [
      "Prediction: Ham   Phrase: hey Dave, how are you and the fam?\n",
      "Prediction: Spam   Phrase: tired of your phone bill? Send us a text at 4012221234\n",
      "Prediction: Ham   Phrase: YO you up bro? Been textin you since 10, let me know wen u up!\n",
      "Prediction: Ham   Phrase: ONCE IN A LIFE OPPORTUNITY!!! Contact us at team@makemoneyquick.com!!!\n",
      "Prediction: Spam   Phrase: CONGRATULATIONS! You are the lucky winner of £100,000\n"
     ]
    }
   ],
   "source": [
    "test_pred = logregmodel.predict(test_transform)\n",
    "\n",
    "for name, pred in zip(test_phrase, test_pred):\n",
    "    print(f'Prediction: {pred.capitalize()}   Phrase: {name}')\n",
    "    \n",
    "# we see a misprediction with 4\n",
    "# May be due to the lack of data cleaning for test cases"
   ]
  },
  {
   "cell_type": "code",
   "execution_count": 38,
   "metadata": {},
   "outputs": [],
   "source": [
    "# Part 01 complete!"
   ]
  },
  {
   "cell_type": "code",
   "execution_count": null,
   "metadata": {},
   "outputs": [],
   "source": []
  }
 ],
 "metadata": {
  "kernelspec": {
   "display_name": "Python 3",
   "language": "python",
   "name": "python3"
  },
  "language_info": {
   "codemirror_mode": {
    "name": "ipython",
    "version": 3
   },
   "file_extension": ".py",
   "mimetype": "text/x-python",
   "name": "python",
   "nbconvert_exporter": "python",
   "pygments_lexer": "ipython3",
   "version": "3.6.4"
  }
 },
 "nbformat": 4,
 "nbformat_minor": 2
}
