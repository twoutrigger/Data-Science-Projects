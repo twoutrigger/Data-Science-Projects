{
 "cells": [
  {
   "cell_type": "code",
   "execution_count": 1,
   "metadata": {},
   "outputs": [],
   "source": [
    "# In this notebook:\n",
    "# I gather images of snakes and ladders from Google\n",
    "# I utilize machine learning to recognize the image"
   ]
  },
  {
   "cell_type": "code",
   "execution_count": 2,
   "metadata": {},
   "outputs": [],
   "source": [
    "from PIL import Image, ImageFilter\n",
    "import numpy as np\n",
    "import pandas as pd\n",
    "import matplotlib.pyplot as plt\n",
    "%matplotlib inline"
   ]
  },
  {
   "cell_type": "code",
   "execution_count": 3,
   "metadata": {},
   "outputs": [
    {
     "data": {
      "text/plain": [
       "<Figure size 432x288 with 0 Axes>"
      ]
     },
     "metadata": {},
     "output_type": "display_data"
    },
    {
     "data": {
      "image/png": "[encoded data removed]",
      "text/plain": [
       "<Figure size 288x288 with 1 Axes>"
      ]
     },
     "metadata": {},
     "output_type": "display_data"
    }
   ],
   "source": [
    "im = Image.open('s001.png')\n",
    "\n",
    "plt.gray()\n",
    "\n",
    "# im.show() # this opens image outside of notebook\n",
    "\n",
    "plt.matshow(im)\n",
    "plt.show()"
   ]
  },
  {
   "cell_type": "code",
   "execution_count": 4,
   "metadata": {},
   "outputs": [
    {
     "name": "stdout",
     "output_type": "stream",
     "text": [
      "<class 'PIL.PngImagePlugin.PngImageFile'>\n"
     ]
    },
    {
     "data": {
      "image/png": "[encoded data removed]",
      "text/plain": [
       "<PIL.PngImagePlugin.PngImageFile image mode=P size=225x225 at 0x244A14614E0>"
      ]
     },
     "execution_count": 4,
     "metadata": {},
     "output_type": "execute_result"
    }
   ],
   "source": [
    "print(type(im))\n",
    "\n",
    "im"
   ]
  },
  {
   "cell_type": "code",
   "execution_count": 5,
   "metadata": {},
   "outputs": [
    {
     "name": "stdout",
     "output_type": "stream",
     "text": [
      "<class 'numpy.ndarray'>\n"
     ]
    },
    {
     "data": {
      "text/plain": [
       "array([[0, 0, 0, ..., 0, 0, 0],\n",
       "       [0, 0, 0, ..., 0, 0, 0],\n",
       "       [0, 0, 0, ..., 0, 0, 0],\n",
       "       ...,\n",
       "       [0, 0, 0, ..., 0, 0, 0],\n",
       "       [0, 0, 0, ..., 0, 0, 0],\n",
       "       [0, 0, 0, ..., 0, 0, 0]], dtype=uint8)"
      ]
     },
     "execution_count": 5,
     "metadata": {},
     "output_type": "execute_result"
    }
   ],
   "source": [
    "imarr = np.asarray(im) # convert png to array\n",
    "\n",
    "print(type(imarr))\n",
    "\n",
    "imarr"
   ]
  },
  {
   "cell_type": "markdown",
   "metadata": {},
   "source": [
    "Consolidate Data"
   ]
  },
  {
   "cell_type": "code",
   "execution_count": 6,
   "metadata": {},
   "outputs": [],
   "source": [
    "import glob\n",
    "import imageio"
   ]
  },
  {
   "cell_type": "code",
   "execution_count": 7,
   "metadata": {},
   "outputs": [
    {
     "name": "stdout",
     "output_type": "stream",
     "text": [
      ".\\s000.png has dimensions of (225, 225)\n",
      ".\\s001.png has dimensions of (225, 225)\n",
      ".\\s002.png has dimensions of (225, 225)\n",
      ".\\s003.png has dimensions of (225, 225)\n",
      ".\\s004.png has dimensions of (225, 225)\n",
      ".\\s005.png has dimensions of (225, 225)\n",
      ".\\s006.png has dimensions of (225, 225)\n",
      ".\\s007.png has dimensions of (225, 225)\n",
      ".\\s008.png has dimensions of (225, 225)\n",
      ".\\s009.png has dimensions of (225, 225)\n",
      ".\\s010.png has dimensions of (225, 225)\n",
      ".\\s011.png has dimensions of (225, 225)\n",
      ".\\s012.png has dimensions of (225, 225)\n",
      ".\\s013.png has dimensions of (225, 225)\n",
      ".\\s014.png has dimensions of (225, 225)\n",
      ".\\s015.png has dimensions of (225, 225)\n",
      ".\\s016.png has dimensions of (225, 225)\n",
      ".\\s017.png has dimensions of (225, 225)\n",
      ".\\s018.png has dimensions of (225, 225)\n",
      ".\\s019.png has dimensions of (225, 225)\n",
      ".\\s020.png has dimensions of (225, 225)\n",
      ".\\s021.png has dimensions of (225, 225)\n",
      ".\\s022.png has dimensions of (225, 225)\n",
      ".\\s023.png has dimensions of (225, 225)\n",
      ".\\s024.png has dimensions of (225, 225)\n",
      ".\\s025.png has dimensions of (225, 225)\n",
      ".\\s026.png has dimensions of (225, 225)\n",
      ".\\s027.png has dimensions of (225, 225)\n",
      ".\\s028.png has dimensions of (225, 225)\n",
      ".\\s029.png has dimensions of (225, 225)\n"
     ]
    }
   ],
   "source": [
    "# testing dimensions of png\n",
    "# this revealed some images had (225, 225, 3) dimensions; replaced\n",
    "\n",
    "for img in glob.glob(\"./*.png\"):\n",
    "    pic = imageio.imread(img)\n",
    "    picarr = np.asarray(pic)\n",
    "    print (f'{img} has dimensions of {picarr.shape}')"
   ]
  },
  {
   "cell_type": "code",
   "execution_count": 8,
   "metadata": {},
   "outputs": [
    {
     "name": "stdout",
     "output_type": "stream",
     "text": [
      "(30, 50625)\n"
     ]
    }
   ],
   "source": [
    "# consolidate and convert pngs to 1 array\n",
    "\n",
    "pngarr = []\n",
    "for img in glob.glob(\"./*.png\"):\n",
    "    pngarr.append(imageio.imread(img))    \n",
    "\n",
    "pngarr = np.asarray(pngarr)\n",
    "\n",
    "pngarr = pngarr.reshape(len(pngarr),\n",
    "                        (pngarr.shape[1]*pngarr.shape[2]))\n",
    "\n",
    "print (pngarr.shape)"
   ]
  },
  {
   "cell_type": "code",
   "execution_count": 9,
   "metadata": {},
   "outputs": [
    {
     "name": "stdout",
     "output_type": "stream",
     "text": [
      "30\n"
     ]
    },
    {
     "data": {
      "text/plain": [
       "array([0, 0, 0, 0, 0, 0, 0, 0, 0, 0, 0, 0, 0, 0, 0, 1, 1, 1, 1, 1, 1, 1,\n",
       "       1, 1, 1, 1, 1, 1, 1, 1])"
      ]
     },
     "execution_count": 9,
     "metadata": {},
     "output_type": "execute_result"
    }
   ],
   "source": [
    "# create identification for pngs\n",
    "# 0 == snake 1 == ladder\n",
    "\n",
    "pngid = np.full((30), 0)\n",
    "\n",
    "pngid[15:] = 1\n",
    "\n",
    "print(len(pngid))\n",
    "\n",
    "pngid"
   ]
  },
  {
   "cell_type": "markdown",
   "metadata": {},
   "source": [
    "Create Train and Test Data"
   ]
  },
  {
   "cell_type": "code",
   "execution_count": 10,
   "metadata": {},
   "outputs": [],
   "source": [
    "import random"
   ]
  },
  {
   "cell_type": "code",
   "execution_count": 30,
   "metadata": {},
   "outputs": [
    {
     "name": "stdout",
     "output_type": "stream",
     "text": [
      "training size: 20\n",
      "testing size: 10\n"
     ]
    }
   ],
   "source": [
    "train_index = random.sample(range(len(pngarr)),\n",
    "                            int(len(pngarr)/1.5))\n",
    "test_index = [i for i in range(len(pngarr)) if i not in train_index]\n",
    "\n",
    "print(f'training size: {len(train_index)}')\n",
    "print(f'testing size: {len(test_index)}')"
   ]
  },
  {
   "cell_type": "code",
   "execution_count": 31,
   "metadata": {},
   "outputs": [],
   "source": [
    "train_png = [pngarr[i] for i in train_index]\n",
    "test_png = [pngarr[i] for i in test_index]"
   ]
  },
  {
   "cell_type": "code",
   "execution_count": 32,
   "metadata": {},
   "outputs": [],
   "source": [
    "train_id = [pngid[i] for i in train_index]\n",
    "test_id = [pngid[i] for i in test_index]"
   ]
  },
  {
   "cell_type": "markdown",
   "metadata": {},
   "source": [
    "Machine Learning"
   ]
  },
  {
   "cell_type": "code",
   "execution_count": 33,
   "metadata": {},
   "outputs": [],
   "source": [
    "from sklearn import ensemble"
   ]
  },
  {
   "cell_type": "code",
   "execution_count": 34,
   "metadata": {},
   "outputs": [
    {
     "name": "stdout",
     "output_type": "stream",
     "text": [
      "Prediction score is 0.6\n"
     ]
    }
   ],
   "source": [
    "classifier = ensemble.RandomForestClassifier()\n",
    "\n",
    "classifier.fit(train_png, train_id)\n",
    "\n",
    "score = classifier.score(test_png, test_id)\n",
    "\n",
    "print(f'Prediction score is {score}')"
   ]
  },
  {
   "cell_type": "code",
   "execution_count": 56,
   "metadata": {},
   "outputs": [
    {
     "data": {
      "image/png": "[encoded data removed]",
      "text/plain": [
       "<Figure size 288x288 with 1 Axes>"
      ]
     },
     "metadata": {},
     "output_type": "display_data"
    },
    {
     "name": "stdout",
     "output_type": "stream",
     "text": [
      "I think it is a ladder\n"
     ]
    }
   ],
   "source": [
    "# to visualize individual predictions\n",
    "\n",
    "i = 20\n",
    "\n",
    "pngview = np.reshape(pngarr, (30, 225,225))\n",
    "\n",
    "plt.matshow(pngview[i])\n",
    "plt.show()\n",
    "\n",
    "pred = classifier.predict(pngarr[i].reshape(1, -1))\n",
    "\n",
    "if pred == 0:\n",
    "    print ('I think it is a snake')\n",
    "else:\n",
    "    print('I think it is a ladder')"
   ]
  },
  {
   "cell_type": "code",
   "execution_count": 57,
   "metadata": {},
   "outputs": [
    {
     "data": {
      "image/png": "[encoded data removed]",
      "text/plain": [
       "<Figure size 288x288 with 1 Axes>"
      ]
     },
     "metadata": {},
     "output_type": "display_data"
    },
    {
     "name": "stdout",
     "output_type": "stream",
     "text": [
      "I think it is a snake\n"
     ]
    }
   ],
   "source": [
    "i = 2\n",
    "\n",
    "pngview = np.reshape(pngarr, (30, 225,225))\n",
    "\n",
    "plt.matshow(pngview[i])\n",
    "plt.show()\n",
    "\n",
    "pred = classifier.predict(pngarr[i].reshape(1, -1))\n",
    "\n",
    "if pred == 0:\n",
    "    print ('I think it is a snake')\n",
    "else:\n",
    "    print('I think it is a ladder')"
   ]
  },
  {
   "cell_type": "code",
   "execution_count": null,
   "metadata": {},
   "outputs": [],
   "source": [
    "# notebook complete"
   ]
  }
 ],
 "metadata": {
  "kernelspec": {
   "display_name": "Python 3",
   "language": "python",
   "name": "python3"
  },
  "language_info": {
   "codemirror_mode": {
    "name": "ipython",
    "version": 3
   },
   "file_extension": ".py",
   "mimetype": "text/x-python",
   "name": "python",
   "nbconvert_exporter": "python",
   "pygments_lexer": "ipython3",
   "version": "3.6.4"
  }
 },
 "nbformat": 4,
 "nbformat_minor": 2
}
