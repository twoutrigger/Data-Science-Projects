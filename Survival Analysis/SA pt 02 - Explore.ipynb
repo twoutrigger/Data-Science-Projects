{
 "cells": [
  {
   "cell_type": "code",
   "execution_count": 3,
   "metadata": {},
   "outputs": [],
   "source": [
    "import numpy as np\n",
    "import pandas as pd\n",
    "import matplotlib.pyplot as plt\n",
    "import requests\n",
    "from pprint import pprint\n",
    "from lifelines import KaplanMeierFitter\n",
    "from lifelines import CoxPHFitter"
   ]
  },
  {
   "cell_type": "code",
   "execution_count": 4,
   "metadata": {},
   "outputs": [],
   "source": [
    "### Build pharmacy dataset to run Survival Analysis on insolvency"
   ]
  },
  {
   "cell_type": "code",
   "execution_count": 21,
   "metadata": {},
   "outputs": [
    {
     "name": "stdout",
     "output_type": "stream",
     "text": [
      "(4400981, 11)\n"
     ]
    },
    {
     "data": {
      "text/html": [
       "<div>\n",
       "<style scoped>\n",
       "    .dataframe tbody tr th:only-of-type {\n",
       "        vertical-align: middle;\n",
       "    }\n",
       "\n",
       "    .dataframe tbody tr th {\n",
       "        vertical-align: top;\n",
       "    }\n",
       "\n",
       "    .dataframe thead th {\n",
       "        text-align: right;\n",
       "    }\n",
       "</style>\n",
       "<table border=\"1\" class=\"dataframe\">\n",
       "  <thead>\n",
       "    <tr style=\"text-align: right;\">\n",
       "      <th></th>\n",
       "      <th>CompanyName</th>\n",
       "      <th>CompanyNumber</th>\n",
       "      <th>Sics</th>\n",
       "      <th>RegAddress.Country</th>\n",
       "      <th>CompanyStatus</th>\n",
       "      <th>CountryOfOrigin</th>\n",
       "      <th>IncorporationDate</th>\n",
       "      <th>Mortgages.NumMortCharges</th>\n",
       "      <th>Mortgages.NumMortOutstanding</th>\n",
       "      <th>Mortgages.NumMortPartSatisfied</th>\n",
       "      <th>Mortgages.NumMortSatisfied</th>\n",
       "    </tr>\n",
       "  </thead>\n",
       "  <tbody>\n",
       "    <tr>\n",
       "      <td>0</td>\n",
       "      <td>! LTD</td>\n",
       "      <td>08209948</td>\n",
       "      <td>99999 - Dormant Company</td>\n",
       "      <td>NaN</td>\n",
       "      <td>Active</td>\n",
       "      <td>United Kingdom</td>\n",
       "      <td>11/09/2012</td>\n",
       "      <td>0</td>\n",
       "      <td>0</td>\n",
       "      <td>0</td>\n",
       "      <td>0</td>\n",
       "    </tr>\n",
       "    <tr>\n",
       "      <td>1</td>\n",
       "      <td>!? LTD</td>\n",
       "      <td>11399177</td>\n",
       "      <td>47710 - Retail sale of clothing in specialised...</td>\n",
       "      <td>UNITED KINGDOM</td>\n",
       "      <td>Active</td>\n",
       "      <td>United Kingdom</td>\n",
       "      <td>05/06/2018</td>\n",
       "      <td>0</td>\n",
       "      <td>0</td>\n",
       "      <td>0</td>\n",
       "      <td>0</td>\n",
       "    </tr>\n",
       "    <tr>\n",
       "      <td>2</td>\n",
       "      <td>!BIG IMPACT GRAPHICS LIMITED</td>\n",
       "      <td>11743365</td>\n",
       "      <td>18129 - Printing n.e.c., 59112 - Video product...</td>\n",
       "      <td>UNITED KINGDOM</td>\n",
       "      <td>Active</td>\n",
       "      <td>United Kingdom</td>\n",
       "      <td>28/12/2018</td>\n",
       "      <td>0</td>\n",
       "      <td>0</td>\n",
       "      <td>0</td>\n",
       "      <td>0</td>\n",
       "    </tr>\n",
       "    <tr>\n",
       "      <td>3</td>\n",
       "      <td>!NNOV8 LIMITED</td>\n",
       "      <td>11006939</td>\n",
       "      <td>62090 - Other information technology service a...</td>\n",
       "      <td>ENGLAND</td>\n",
       "      <td>Active</td>\n",
       "      <td>United Kingdom</td>\n",
       "      <td>11/10/2017</td>\n",
       "      <td>0</td>\n",
       "      <td>0</td>\n",
       "      <td>0</td>\n",
       "      <td>0</td>\n",
       "    </tr>\n",
       "    <tr>\n",
       "      <td>4</td>\n",
       "      <td>!NSPIRED INVESTMENTS LTD</td>\n",
       "      <td>SC606050</td>\n",
       "      <td>68209 - Other letting and operating of own or ...</td>\n",
       "      <td>SCOTLAND</td>\n",
       "      <td>Active</td>\n",
       "      <td>United Kingdom</td>\n",
       "      <td>22/08/2018</td>\n",
       "      <td>1</td>\n",
       "      <td>1</td>\n",
       "      <td>0</td>\n",
       "      <td>0</td>\n",
       "    </tr>\n",
       "  </tbody>\n",
       "</table>\n",
       "</div>"
      ],
      "text/plain": [
       "                    CompanyName CompanyNumber  \\\n",
       "0                         ! LTD      08209948   \n",
       "1                        !? LTD      11399177   \n",
       "2  !BIG IMPACT GRAPHICS LIMITED      11743365   \n",
       "3                !NNOV8 LIMITED      11006939   \n",
       "4      !NSPIRED INVESTMENTS LTD      SC606050   \n",
       "\n",
       "                                                Sics RegAddress.Country  \\\n",
       "0                            99999 - Dormant Company                NaN   \n",
       "1  47710 - Retail sale of clothing in specialised...     UNITED KINGDOM   \n",
       "2  18129 - Printing n.e.c., 59112 - Video product...     UNITED KINGDOM   \n",
       "3  62090 - Other information technology service a...            ENGLAND   \n",
       "4  68209 - Other letting and operating of own or ...           SCOTLAND   \n",
       "\n",
       "  CompanyStatus CountryOfOrigin IncorporationDate  Mortgages.NumMortCharges  \\\n",
       "0        Active  United Kingdom        11/09/2012                         0   \n",
       "1        Active  United Kingdom        05/06/2018                         0   \n",
       "2        Active  United Kingdom        28/12/2018                         0   \n",
       "3        Active  United Kingdom        11/10/2017                         0   \n",
       "4        Active  United Kingdom        22/08/2018                         1   \n",
       "\n",
       "   Mortgages.NumMortOutstanding  Mortgages.NumMortPartSatisfied  \\\n",
       "0                             0                               0   \n",
       "1                             0                               0   \n",
       "2                             0                               0   \n",
       "3                             0                               0   \n",
       "4                             1                               0   \n",
       "\n",
       "   Mortgages.NumMortSatisfied  \n",
       "0                           0  \n",
       "1                           0  \n",
       "2                           0  \n",
       "3                           0  \n",
       "4                           0  "
      ]
     },
     "execution_count": 21,
     "metadata": {},
     "output_type": "execute_result"
    }
   ],
   "source": [
    "usecols = ['CompanyName', 'CompanyNumber', 'Sics', 'RegAddress.Country',\n",
    "           'CompanyStatus', 'CountryOfOrigin', 'IncorporationDate',\n",
    "            'Mortgages.NumMortCharges', 'Mortgages.NumMortOutstanding',\n",
    "            'Mortgages.NumMortPartSatisfied', 'Mortgages.NumMortSatisfied']\n",
    "\n",
    "corig = pd.read_csv('ch_companies_clean_1.csv', usecols=usecols, header=0, index_col=None)\n",
    "\n",
    "print(corig.shape)\n",
    "\n",
    "corig.head()"
   ]
  },
  {
   "cell_type": "code",
   "execution_count": 25,
   "metadata": {},
   "outputs": [],
   "source": [
    "# 47730 for pharmacies\n",
    "cedit = corig.copy()"
   ]
  },
  {
   "cell_type": "code",
   "execution_count": 26,
   "metadata": {},
   "outputs": [
    {
     "name": "stdout",
     "output_type": "stream",
     "text": [
      "(4490, 11)\n"
     ]
    },
    {
     "data": {
      "text/html": [
       "<div>\n",
       "<style scoped>\n",
       "    .dataframe tbody tr th:only-of-type {\n",
       "        vertical-align: middle;\n",
       "    }\n",
       "\n",
       "    .dataframe tbody tr th {\n",
       "        vertical-align: top;\n",
       "    }\n",
       "\n",
       "    .dataframe thead th {\n",
       "        text-align: right;\n",
       "    }\n",
       "</style>\n",
       "<table border=\"1\" class=\"dataframe\">\n",
       "  <thead>\n",
       "    <tr style=\"text-align: right;\">\n",
       "      <th></th>\n",
       "      <th>CompanyName</th>\n",
       "      <th>CompanyNumber</th>\n",
       "      <th>Sics</th>\n",
       "      <th>RegAddress.Country</th>\n",
       "      <th>CompanyStatus</th>\n",
       "      <th>CountryOfOrigin</th>\n",
       "      <th>IncorporationDate</th>\n",
       "      <th>Mortgages.NumMortCharges</th>\n",
       "      <th>Mortgages.NumMortOutstanding</th>\n",
       "      <th>Mortgages.NumMortPartSatisfied</th>\n",
       "      <th>Mortgages.NumMortSatisfied</th>\n",
       "    </tr>\n",
       "  </thead>\n",
       "  <tbody>\n",
       "    <tr>\n",
       "      <td>150</td>\n",
       "      <td>\"RED BAND\" CHEMICAL COMPANY, LIMITED</td>\n",
       "      <td>SC016876</td>\n",
       "      <td>47730 - Dispensing chemist in specialised stores</td>\n",
       "      <td>NaN</td>\n",
       "      <td>Active</td>\n",
       "      <td>United Kingdom</td>\n",
       "      <td>25/06/1932</td>\n",
       "      <td>12</td>\n",
       "      <td>1</td>\n",
       "      <td>0</td>\n",
       "      <td>11</td>\n",
       "    </tr>\n",
       "    <tr>\n",
       "      <td>8761</td>\n",
       "      <td>123 LEEDS LIMITED</td>\n",
       "      <td>01873281</td>\n",
       "      <td>47730 - Dispensing chemist in specialised stores</td>\n",
       "      <td>NaN</td>\n",
       "      <td>Active</td>\n",
       "      <td>United Kingdom</td>\n",
       "      <td>19/12/1984</td>\n",
       "      <td>62</td>\n",
       "      <td>4</td>\n",
       "      <td>0</td>\n",
       "      <td>58</td>\n",
       "    </tr>\n",
       "  </tbody>\n",
       "</table>\n",
       "</div>"
      ],
      "text/plain": [
       "                               CompanyName CompanyNumber  \\\n",
       "150   \"RED BAND\" CHEMICAL COMPANY, LIMITED      SC016876   \n",
       "8761                     123 LEEDS LIMITED      01873281   \n",
       "\n",
       "                                                  Sics RegAddress.Country  \\\n",
       "150   47730 - Dispensing chemist in specialised stores                NaN   \n",
       "8761  47730 - Dispensing chemist in specialised stores                NaN   \n",
       "\n",
       "     CompanyStatus CountryOfOrigin IncorporationDate  \\\n",
       "150         Active  United Kingdom        25/06/1932   \n",
       "8761        Active  United Kingdom        19/12/1984   \n",
       "\n",
       "      Mortgages.NumMortCharges  Mortgages.NumMortOutstanding  \\\n",
       "150                         12                             1   \n",
       "8761                        62                             4   \n",
       "\n",
       "      Mortgages.NumMortPartSatisfied  Mortgages.NumMortSatisfied  \n",
       "150                                0                          11  \n",
       "8761                               0                          58  "
      ]
     },
     "execution_count": 26,
     "metadata": {},
     "output_type": "execute_result"
    }
   ],
   "source": [
    "cedit = cedit[cedit.Sics.str.contains('47730') == True]\n",
    "\n",
    "print(cedit.shape)\n",
    "\n",
    "cedit.head(2)"
   ]
  },
  {
   "cell_type": "code",
   "execution_count": 27,
   "metadata": {},
   "outputs": [
    {
     "data": {
      "text/plain": [
       "ENGLAND             1070\n",
       "UNITED KINGDOM       753\n",
       "SCOTLAND              82\n",
       "WALES                 37\n",
       "NORTHERN IRELAND      30\n",
       "Name: RegAddress.Country, dtype: int64"
      ]
     },
     "execution_count": 27,
     "metadata": {},
     "output_type": "execute_result"
    }
   ],
   "source": [
    "# decided to keep non-England pharmacies for now\n",
    "cedit['RegAddress.Country'].value_counts()"
   ]
  },
  {
   "cell_type": "code",
   "execution_count": 28,
   "metadata": {},
   "outputs": [
    {
     "data": {
      "text/plain": [
       "United Kingdom    4490\n",
       "Name: CountryOfOrigin, dtype: int64"
      ]
     },
     "execution_count": 28,
     "metadata": {},
     "output_type": "execute_result"
    }
   ],
   "source": [
    "# decided to keep non-England pharmacies for now\n",
    "cedit.CountryOfOrigin.value_counts()"
   ]
  },
  {
   "cell_type": "code",
   "execution_count": 36,
   "metadata": {},
   "outputs": [
    {
     "name": "stdout",
     "output_type": "stream",
     "text": [
      "Active                             4398\n",
      "Active - Proposal to Strike off      54\n",
      "Liquidation                          30\n",
      "In Administration                     6\n",
      "Voluntary Arrangement                 2\n",
      "Name: CompanyStatus, dtype: int64\n",
      "Non-active rate: 0.0205\n"
     ]
    }
   ],
   "source": [
    "# not representative due to lack of dissolved companies\n",
    "print(cedit.CompanyStatus.value_counts())\n",
    "print(f'Non-active rate: {round((4490 - 4398) / 4490, 4)}')"
   ]
  },
  {
   "cell_type": "code",
   "execution_count": 37,
   "metadata": {},
   "outputs": [
    {
     "data": {
      "text/plain": [
       "0    2364\n",
       "1     679\n",
       "2     650\n",
       "3     362\n",
       "4     165\n",
       "5      83\n",
       "6      55\n",
       "7      29\n",
       "8      21\n",
       "9      18\n",
       "Name: Mortgages.NumMortOutstanding, dtype: int64"
      ]
     },
     "execution_count": 37,
     "metadata": {},
     "output_type": "execute_result"
    }
   ],
   "source": [
    "# recharge project doable due to distribution\n",
    "cedit['Mortgages.NumMortOutstanding'].value_counts()[:10]"
   ]
  },
  {
   "cell_type": "code",
   "execution_count": 14,
   "metadata": {},
   "outputs": [
    {
     "name": "stderr",
     "output_type": "stream",
     "text": [
      "C:\\Users\\liamk\\Anaconda3\\lib\\site-packages\\IPython\\core\\interactiveshell.py:3058: DtypeWarning: Columns (41,42,43,44,45,46,47,48,49,50,51,52) have mixed types. Specify dtype option on import or set low_memory=False.\n",
      "  interactivity=interactivity, compiler=compiler, result=result)\n"
     ]
    },
    {
     "name": "stdout",
     "output_type": "stream",
     "text": [
      "(4433045, 55)\n"
     ]
    },
    {
     "data": {
      "text/html": [
       "<div>\n",
       "<style scoped>\n",
       "    .dataframe tbody tr th:only-of-type {\n",
       "        vertical-align: middle;\n",
       "    }\n",
       "\n",
       "    .dataframe tbody tr th {\n",
       "        vertical-align: top;\n",
       "    }\n",
       "\n",
       "    .dataframe thead th {\n",
       "        text-align: right;\n",
       "    }\n",
       "</style>\n",
       "<table border=\"1\" class=\"dataframe\">\n",
       "  <thead>\n",
       "    <tr style=\"text-align: right;\">\n",
       "      <th></th>\n",
       "      <th>CompanyName</th>\n",
       "      <th>CompanyNumber</th>\n",
       "      <th>RegAddress.CareOf</th>\n",
       "      <th>RegAddress.POBox</th>\n",
       "      <th>RegAddress.AddressLine1</th>\n",
       "      <th>RegAddress.AddressLine2</th>\n",
       "      <th>RegAddress.PostTown</th>\n",
       "      <th>RegAddress.County</th>\n",
       "      <th>RegAddress.Country</th>\n",
       "      <th>RegAddress.PostCode</th>\n",
       "      <th>...</th>\n",
       "      <th>PreviousName_7.CONDATE</th>\n",
       "      <th>PreviousName_7.CompanyName</th>\n",
       "      <th>PreviousName_8.CONDATE</th>\n",
       "      <th>PreviousName_8.CompanyName</th>\n",
       "      <th>PreviousName_9.CONDATE</th>\n",
       "      <th>PreviousName_9.CompanyName</th>\n",
       "      <th>PreviousName_10.CONDATE</th>\n",
       "      <th>PreviousName_10.CompanyName</th>\n",
       "      <th>ConfStmtNextDueDate</th>\n",
       "      <th>ConfStmtLastMadeUpDate</th>\n",
       "    </tr>\n",
       "  </thead>\n",
       "  <tbody>\n",
       "    <tr>\n",
       "      <td>0</td>\n",
       "      <td>! LTD</td>\n",
       "      <td>08209948</td>\n",
       "      <td>NaN</td>\n",
       "      <td>NaN</td>\n",
       "      <td>METROHOUSE 57 PEPPER ROAD</td>\n",
       "      <td>HUNSLET</td>\n",
       "      <td>LEEDS</td>\n",
       "      <td>YORKSHIRE</td>\n",
       "      <td>NaN</td>\n",
       "      <td>LS10 2RU</td>\n",
       "      <td>...</td>\n",
       "      <td>NaN</td>\n",
       "      <td>NaN</td>\n",
       "      <td>NaN</td>\n",
       "      <td>NaN</td>\n",
       "      <td>NaN</td>\n",
       "      <td>NaN</td>\n",
       "      <td>NaN</td>\n",
       "      <td>NaN</td>\n",
       "      <td>25/09/2020</td>\n",
       "      <td>11/09/2019</td>\n",
       "    </tr>\n",
       "    <tr>\n",
       "      <td>1</td>\n",
       "      <td>!? LTD</td>\n",
       "      <td>11399177</td>\n",
       "      <td>NaN</td>\n",
       "      <td>NaN</td>\n",
       "      <td>THE STUDIO HATHERLOW HOUSE</td>\n",
       "      <td>HATHERLOW</td>\n",
       "      <td>ROMILEY</td>\n",
       "      <td>NaN</td>\n",
       "      <td>UNITED KINGDOM</td>\n",
       "      <td>SK6 3DY</td>\n",
       "      <td>...</td>\n",
       "      <td>NaN</td>\n",
       "      <td>NaN</td>\n",
       "      <td>NaN</td>\n",
       "      <td>NaN</td>\n",
       "      <td>NaN</td>\n",
       "      <td>NaN</td>\n",
       "      <td>NaN</td>\n",
       "      <td>NaN</td>\n",
       "      <td>19/06/2020</td>\n",
       "      <td>05/06/2019</td>\n",
       "    </tr>\n",
       "    <tr>\n",
       "      <td>2</td>\n",
       "      <td>!BIG IMPACT GRAPHICS LIMITED</td>\n",
       "      <td>11743365</td>\n",
       "      <td>NaN</td>\n",
       "      <td>NaN</td>\n",
       "      <td>372 OLD STREET</td>\n",
       "      <td>335 ROSDEN HOUSE</td>\n",
       "      <td>LONDON</td>\n",
       "      <td>NaN</td>\n",
       "      <td>UNITED KINGDOM</td>\n",
       "      <td>EC1V 9LT</td>\n",
       "      <td>...</td>\n",
       "      <td>NaN</td>\n",
       "      <td>NaN</td>\n",
       "      <td>NaN</td>\n",
       "      <td>NaN</td>\n",
       "      <td>NaN</td>\n",
       "      <td>NaN</td>\n",
       "      <td>NaN</td>\n",
       "      <td>NaN</td>\n",
       "      <td>10/01/2020</td>\n",
       "      <td>NaN</td>\n",
       "    </tr>\n",
       "    <tr>\n",
       "      <td>3</td>\n",
       "      <td>!NKED LTD</td>\n",
       "      <td>12234705</td>\n",
       "      <td>NaN</td>\n",
       "      <td>NaN</td>\n",
       "      <td>29 CORRY DRIVE</td>\n",
       "      <td>NaN</td>\n",
       "      <td>LONDON</td>\n",
       "      <td>NaN</td>\n",
       "      <td>UNITED KINGDOM</td>\n",
       "      <td>SW9 8QS</td>\n",
       "      <td>...</td>\n",
       "      <td>NaN</td>\n",
       "      <td>NaN</td>\n",
       "      <td>NaN</td>\n",
       "      <td>NaN</td>\n",
       "      <td>NaN</td>\n",
       "      <td>NaN</td>\n",
       "      <td>NaN</td>\n",
       "      <td>NaN</td>\n",
       "      <td>13/10/2020</td>\n",
       "      <td>NaN</td>\n",
       "    </tr>\n",
       "    <tr>\n",
       "      <td>4</td>\n",
       "      <td>!NNOV8 LIMITED</td>\n",
       "      <td>11006939</td>\n",
       "      <td>NaN</td>\n",
       "      <td>NaN</td>\n",
       "      <td>OLD BARN FARM OLD BARN FARM</td>\n",
       "      <td>HARTFIELD ROAD</td>\n",
       "      <td>EDENBRIDGE</td>\n",
       "      <td>KENT</td>\n",
       "      <td>ENGLAND</td>\n",
       "      <td>TN8 5NF</td>\n",
       "      <td>...</td>\n",
       "      <td>NaN</td>\n",
       "      <td>NaN</td>\n",
       "      <td>NaN</td>\n",
       "      <td>NaN</td>\n",
       "      <td>NaN</td>\n",
       "      <td>NaN</td>\n",
       "      <td>NaN</td>\n",
       "      <td>NaN</td>\n",
       "      <td>24/10/2019</td>\n",
       "      <td>10/10/2018</td>\n",
       "    </tr>\n",
       "  </tbody>\n",
       "</table>\n",
       "<p>5 rows × 55 columns</p>\n",
       "</div>"
      ],
      "text/plain": [
       "                    CompanyName  CompanyNumber RegAddress.CareOf  \\\n",
       "0                         ! LTD       08209948               NaN   \n",
       "1                        !? LTD       11399177               NaN   \n",
       "2  !BIG IMPACT GRAPHICS LIMITED       11743365               NaN   \n",
       "3                     !NKED LTD       12234705               NaN   \n",
       "4                !NNOV8 LIMITED       11006939               NaN   \n",
       "\n",
       "  RegAddress.POBox      RegAddress.AddressLine1  RegAddress.AddressLine2  \\\n",
       "0              NaN    METROHOUSE 57 PEPPER ROAD                  HUNSLET   \n",
       "1              NaN   THE STUDIO HATHERLOW HOUSE                HATHERLOW   \n",
       "2              NaN               372 OLD STREET         335 ROSDEN HOUSE   \n",
       "3              NaN               29 CORRY DRIVE                      NaN   \n",
       "4              NaN  OLD BARN FARM OLD BARN FARM           HARTFIELD ROAD   \n",
       "\n",
       "  RegAddress.PostTown RegAddress.County RegAddress.Country  \\\n",
       "0               LEEDS         YORKSHIRE                NaN   \n",
       "1             ROMILEY               NaN     UNITED KINGDOM   \n",
       "2              LONDON               NaN     UNITED KINGDOM   \n",
       "3              LONDON               NaN     UNITED KINGDOM   \n",
       "4          EDENBRIDGE              KENT            ENGLAND   \n",
       "\n",
       "  RegAddress.PostCode  ... PreviousName_7.CONDATE  PreviousName_7.CompanyName  \\\n",
       "0            LS10 2RU  ...                    NaN                         NaN   \n",
       "1             SK6 3DY  ...                    NaN                         NaN   \n",
       "2            EC1V 9LT  ...                    NaN                         NaN   \n",
       "3             SW9 8QS  ...                    NaN                         NaN   \n",
       "4             TN8 5NF  ...                    NaN                         NaN   \n",
       "\n",
       "  PreviousName_8.CONDATE   PreviousName_8.CompanyName PreviousName_9.CONDATE  \\\n",
       "0                    NaN                          NaN                    NaN   \n",
       "1                    NaN                          NaN                    NaN   \n",
       "2                    NaN                          NaN                    NaN   \n",
       "3                    NaN                          NaN                    NaN   \n",
       "4                    NaN                          NaN                    NaN   \n",
       "\n",
       "    PreviousName_9.CompanyName  PreviousName_10.CONDATE  \\\n",
       "0                          NaN                      NaN   \n",
       "1                          NaN                      NaN   \n",
       "2                          NaN                      NaN   \n",
       "3                          NaN                      NaN   \n",
       "4                          NaN                      NaN   \n",
       "\n",
       "   PreviousName_10.CompanyName ConfStmtNextDueDate  ConfStmtLastMadeUpDate  \n",
       "0                          NaN          25/09/2020              11/09/2019  \n",
       "1                          NaN          19/06/2020              05/06/2019  \n",
       "2                          NaN          10/01/2020                     NaN  \n",
       "3                          NaN          13/10/2020                     NaN  \n",
       "4                          NaN          24/10/2019              10/10/2018  \n",
       "\n",
       "[5 rows x 55 columns]"
      ]
     },
     "execution_count": 14,
     "metadata": {},
     "output_type": "execute_result"
    }
   ],
   "source": [
    "test = pd.read_csv('BasicCompanyDataAsOneFile-2019-10-01.csv')\n",
    "\n",
    "print(test.shape)\n",
    "\n",
    "test.head()"
   ]
  },
  {
   "cell_type": "code",
   "execution_count": 15,
   "metadata": {},
   "outputs": [
    {
     "data": {
      "text/plain": [
       "Index(['CompanyName', ' CompanyNumber', 'RegAddress.CareOf',\n",
       "       'RegAddress.POBox', 'RegAddress.AddressLine1',\n",
       "       ' RegAddress.AddressLine2', 'RegAddress.PostTown', 'RegAddress.County',\n",
       "       'RegAddress.Country', 'RegAddress.PostCode', 'CompanyCategory',\n",
       "       'CompanyStatus', 'CountryOfOrigin', 'DissolutionDate',\n",
       "       'IncorporationDate', 'Accounts.AccountRefDay',\n",
       "       'Accounts.AccountRefMonth', 'Accounts.NextDueDate',\n",
       "       'Accounts.LastMadeUpDate', 'Accounts.AccountCategory',\n",
       "       'Returns.NextDueDate', 'Returns.LastMadeUpDate',\n",
       "       'Mortgages.NumMortCharges', 'Mortgages.NumMortOutstanding',\n",
       "       'Mortgages.NumMortPartSatisfied', 'Mortgages.NumMortSatisfied',\n",
       "       'SICCode.SicText_1', 'SICCode.SicText_2', 'SICCode.SicText_3',\n",
       "       'SICCode.SicText_4', 'LimitedPartnerships.NumGenPartners',\n",
       "       'LimitedPartnerships.NumLimPartners', 'URI', 'PreviousName_1.CONDATE',\n",
       "       ' PreviousName_1.CompanyName', ' PreviousName_2.CONDATE',\n",
       "       ' PreviousName_2.CompanyName', 'PreviousName_3.CONDATE',\n",
       "       ' PreviousName_3.CompanyName', 'PreviousName_4.CONDATE',\n",
       "       ' PreviousName_4.CompanyName', 'PreviousName_5.CONDATE',\n",
       "       ' PreviousName_5.CompanyName', 'PreviousName_6.CONDATE',\n",
       "       ' PreviousName_6.CompanyName', 'PreviousName_7.CONDATE',\n",
       "       ' PreviousName_7.CompanyName', 'PreviousName_8.CONDATE',\n",
       "       ' PreviousName_8.CompanyName', 'PreviousName_9.CONDATE',\n",
       "       ' PreviousName_9.CompanyName', 'PreviousName_10.CONDATE',\n",
       "       ' PreviousName_10.CompanyName', 'ConfStmtNextDueDate',\n",
       "       ' ConfStmtLastMadeUpDate'],\n",
       "      dtype='object')"
      ]
     },
     "execution_count": 15,
     "metadata": {},
     "output_type": "execute_result"
    }
   ],
   "source": [
    "test.columns"
   ]
  },
  {
   "cell_type": "code",
   "execution_count": 16,
   "metadata": {},
   "outputs": [
    {
     "data": {
      "text/plain": [
       "Active                                              4186478\n",
       "Active - Proposal to Strike off                      149291\n",
       "Liquidation                                           90428\n",
       "In Administration                                      3732\n",
       "Live but Receiver Manager on at least one charge       1264\n",
       "Voluntary Arrangement                                  1018\n",
       "In Administration/Administrative Receiver               317\n",
       "RECEIVERSHIP                                            199\n",
       "ADMINISTRATION ORDER                                    145\n",
       "ADMINISTRATIVE RECEIVER                                 123\n",
       "In Administration/Receiver Manager                       29\n",
       "RECEIVER MANAGER / ADMINISTRATIVE RECEIVER               17\n",
       "VOLUNTARY ARRANGEMENT / RECEIVER MANAGER                  3\n",
       "VOLUNTARY ARRANGEMENT / ADMINISTRATIVE RECEIVER           1\n",
       "Name: CompanyStatus, dtype: int64"
      ]
     },
     "execution_count": 16,
     "metadata": {},
     "output_type": "execute_result"
    }
   ],
   "source": [
    "test.CompanyStatus.value_counts()"
   ]
  },
  {
   "cell_type": "code",
   "execution_count": 20,
   "metadata": {},
   "outputs": [
    {
     "data": {
      "text/plain": [
       "'ZC000204'"
      ]
     },
     "execution_count": 20,
     "metadata": {},
     "output_type": "execute_result"
    }
   ],
   "source": [
    "test[' CompanyNumber'].max()"
   ]
  },
  {
   "cell_type": "code",
   "execution_count": 38,
   "metadata": {},
   "outputs": [
    {
     "name": "stdout",
     "output_type": "stream",
     "text": [
      "Index(['Unnamed: 0', 'CompanyName', 'CompanyNumber', 'Sics',\n",
      "       'RegAddress.AddressLine1', 'RegAddress.AddressLine2',\n",
      "       'RegAddress.PostTown', 'RegAddress.County', 'RegAddress.Country',\n",
      "       'RegAddress.PostCode', 'CompanyCategory', 'CompanyStatus',\n",
      "       'CountryOfOrigin', 'IncorporationDate', 'Accounts.AccountRefDay',\n",
      "       'Accounts.AccountRefMonth', 'Accounts.NextDueDate',\n",
      "       'Accounts.LastMadeUpDate', 'Accounts.AccountCategory',\n",
      "       'Returns.NextDueDate', 'Returns.LastMadeUpDate',\n",
      "       'Mortgages.NumMortCharges', 'Mortgages.NumMortOutstanding',\n",
      "       'Mortgages.NumMortPartSatisfied', 'Mortgages.NumMortSatisfied',\n",
      "       'LimitedPartnerships.NumGenPartners',\n",
      "       'LimitedPartnerships.NumLimPartners', 'URI', 'PreviousName_1.CONDATE',\n",
      "       'PreviousName_1.CompanyName', 'ConfStmtNextDueDate',\n",
      "       'ConfStmtLastMadeUpDate'],\n",
      "      dtype='object')\n"
     ]
    }
   ],
   "source": [
    "test2 = pd.read_csv('ch_companies_clean_1.csv', header=0)\n",
    "\n",
    "print(test2.columns)"
   ]
  },
  {
   "cell_type": "code",
   "execution_count": null,
   "metadata": {},
   "outputs": [],
   "source": []
  }
 ],
 "metadata": {
  "kernelspec": {
   "display_name": "Python 3",
   "language": "python",
   "name": "python3"
  },
  "language_info": {
   "codemirror_mode": {
    "name": "ipython",
    "version": 3
   },
   "file_extension": ".py",
   "mimetype": "text/x-python",
   "name": "python",
   "nbconvert_exporter": "python",
   "pygments_lexer": "ipython3",
   "version": "3.7.3"
  }
 },
 "nbformat": 4,
 "nbformat_minor": 2
}
