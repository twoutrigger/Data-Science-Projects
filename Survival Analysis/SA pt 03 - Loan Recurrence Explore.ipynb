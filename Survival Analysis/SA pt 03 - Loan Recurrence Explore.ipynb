{
 "cells": [
  {
   "cell_type": "code",
   "execution_count": 240,
   "metadata": {},
   "outputs": [],
   "source": [
    "import numpy as np\n",
    "import pandas as pd\n",
    "import matplotlib.pyplot as plt\n",
    "import requests\n",
    "from datetime import datetime\n",
    "from pprint import pprint\n",
    "from lifelines import KaplanMeierFitter\n",
    "from lifelines import CoxPHFitter"
   ]
  },
  {
   "cell_type": "code",
   "execution_count": 241,
   "metadata": {},
   "outputs": [],
   "source": [
    "### Apply Survival Analysis to loan recurrence on Companies House"
   ]
  },
  {
   "cell_type": "code",
   "execution_count": 254,
   "metadata": {},
   "outputs": [
    {
     "name": "stdout",
     "output_type": "stream",
     "text": [
      "(4400981, 7)\n"
     ]
    },
    {
     "data": {
      "text/html": [
       "<div>\n",
       "<style scoped>\n",
       "    .dataframe tbody tr th:only-of-type {\n",
       "        vertical-align: middle;\n",
       "    }\n",
       "\n",
       "    .dataframe tbody tr th {\n",
       "        vertical-align: top;\n",
       "    }\n",
       "\n",
       "    .dataframe thead th {\n",
       "        text-align: right;\n",
       "    }\n",
       "</style>\n",
       "<table border=\"1\" class=\"dataframe\">\n",
       "  <thead>\n",
       "    <tr style=\"text-align: right;\">\n",
       "      <th></th>\n",
       "      <th>CompanyName</th>\n",
       "      <th>CompanyNumber</th>\n",
       "      <th>Sics</th>\n",
       "      <th>RegAddress.PostCode</th>\n",
       "      <th>CompanyStatus</th>\n",
       "      <th>IncorporationDate</th>\n",
       "      <th>Mortgages.NumMortCharges</th>\n",
       "    </tr>\n",
       "  </thead>\n",
       "  <tbody>\n",
       "    <tr>\n",
       "      <td>0</td>\n",
       "      <td>! LTD</td>\n",
       "      <td>08209948</td>\n",
       "      <td>99999 - Dormant Company</td>\n",
       "      <td>LS10 2RU</td>\n",
       "      <td>Active</td>\n",
       "      <td>11/09/2012</td>\n",
       "      <td>0</td>\n",
       "    </tr>\n",
       "    <tr>\n",
       "      <td>1</td>\n",
       "      <td>!? LTD</td>\n",
       "      <td>11399177</td>\n",
       "      <td>47710 - Retail sale of clothing in specialised...</td>\n",
       "      <td>SK6 3DY</td>\n",
       "      <td>Active</td>\n",
       "      <td>05/06/2018</td>\n",
       "      <td>0</td>\n",
       "    </tr>\n",
       "  </tbody>\n",
       "</table>\n",
       "</div>"
      ],
      "text/plain": [
       "  CompanyName CompanyNumber  \\\n",
       "0       ! LTD      08209948   \n",
       "1      !? LTD      11399177   \n",
       "\n",
       "                                                Sics RegAddress.PostCode  \\\n",
       "0                            99999 - Dormant Company            LS10 2RU   \n",
       "1  47710 - Retail sale of clothing in specialised...             SK6 3DY   \n",
       "\n",
       "  CompanyStatus IncorporationDate  Mortgages.NumMortCharges  \n",
       "0        Active        11/09/2012                         0  \n",
       "1        Active        05/06/2018                         0  "
      ]
     },
     "execution_count": 254,
     "metadata": {},
     "output_type": "execute_result"
    }
   ],
   "source": [
    "usecols = ['CompanyName', 'CompanyNumber', 'Sics', 'CompanyStatus', 'RegAddress.PostCode', 'IncorporationDate',\n",
    "           'Mortgages.NumMortCharges']\n",
    "\n",
    "corig = pd.read_csv('ch_companies_clean_1.csv', index_col=None, \n",
    "                    usecols=usecols, dtype={'CompanyNumber': str})\n",
    "\n",
    "print(corig.shape)\n",
    "corig.head(2)"
   ]
  },
  {
   "cell_type": "code",
   "execution_count": 255,
   "metadata": {},
   "outputs": [
    {
     "name": "stdout",
     "output_type": "stream",
     "text": [
      "(2442388, 2)\n"
     ]
    },
    {
     "data": {
      "text/html": [
       "<div>\n",
       "<style scoped>\n",
       "    .dataframe tbody tr th:only-of-type {\n",
       "        vertical-align: middle;\n",
       "    }\n",
       "\n",
       "    .dataframe tbody tr th {\n",
       "        vertical-align: top;\n",
       "    }\n",
       "\n",
       "    .dataframe thead th {\n",
       "        text-align: right;\n",
       "    }\n",
       "</style>\n",
       "<table border=\"1\" class=\"dataframe\">\n",
       "  <thead>\n",
       "    <tr style=\"text-align: right;\">\n",
       "      <th></th>\n",
       "      <th>CompanyNumber</th>\n",
       "      <th>delivered_on</th>\n",
       "    </tr>\n",
       "  </thead>\n",
       "  <tbody>\n",
       "    <tr>\n",
       "      <td>0</td>\n",
       "      <td>00609565</td>\n",
       "      <td>1988-02-15T00:00:00.000Z</td>\n",
       "    </tr>\n",
       "    <tr>\n",
       "      <td>1</td>\n",
       "      <td>00609565</td>\n",
       "      <td>1988-01-15T00:00:00.000Z</td>\n",
       "    </tr>\n",
       "    <tr>\n",
       "      <td>2</td>\n",
       "      <td>00609565</td>\n",
       "      <td>1987-12-11T00:00:00.000Z</td>\n",
       "    </tr>\n",
       "    <tr>\n",
       "      <td>3</td>\n",
       "      <td>00609565</td>\n",
       "      <td>1987-11-20T00:00:00.000Z</td>\n",
       "    </tr>\n",
       "    <tr>\n",
       "      <td>4</td>\n",
       "      <td>00609565</td>\n",
       "      <td>1987-11-10T00:00:00.000Z</td>\n",
       "    </tr>\n",
       "  </tbody>\n",
       "</table>\n",
       "</div>"
      ],
      "text/plain": [
       "  CompanyNumber              delivered_on\n",
       "0      00609565  1988-02-15T00:00:00.000Z\n",
       "1      00609565  1988-01-15T00:00:00.000Z\n",
       "2      00609565  1987-12-11T00:00:00.000Z\n",
       "3      00609565  1987-11-20T00:00:00.000Z\n",
       "4      00609565  1987-11-10T00:00:00.000Z"
      ]
     },
     "execution_count": 255,
     "metadata": {},
     "output_type": "execute_result"
    }
   ],
   "source": [
    "usecols = ['CompanyNumber', 'delivered_on']\n",
    "\n",
    "horig = pd.read_csv('ch_charges_clean_1.csv', index_col=None, \n",
    "                    usecols=usecols, dtype={'CompanyNumber': str})\n",
    "\n",
    "print(horig.shape)\n",
    "horig.head()"
   ]
  },
  {
   "cell_type": "code",
   "execution_count": 305,
   "metadata": {},
   "outputs": [],
   "source": [
    "cedit = corig.copy()\n",
    "hedit = horig.copy()"
   ]
  },
  {
   "cell_type": "markdown",
   "metadata": {},
   "source": [
    "## Clean and Merge Data"
   ]
  },
  {
   "cell_type": "code",
   "execution_count": 396,
   "metadata": {},
   "outputs": [
    {
     "name": "stdout",
     "output_type": "stream",
     "text": [
      "(810, 8)\n"
     ]
    }
   ],
   "source": [
    "### Sics - chemists 47730 / Dentist 86230 / scaffold 43991 \n",
    "cedit = cedit[cedit.Sics.str.contains('Dispensing chemist|Dental practice') == True]\n",
    "cedit = cedit[cedit.CompanyStatus == 'Active']\n",
    "cedit['Outcode'] = cedit['RegAddress.PostCode'].astype(str).str[:2]\n",
    "cedit = cedit[(cedit.Outcode.isin(['SE', 'SW', 'NW', 'EC']))]\n",
    "\n",
    "print(cedit.shape)"
   ]
  },
  {
   "cell_type": "code",
   "execution_count": 397,
   "metadata": {
    "scrolled": true
   },
   "outputs": [
    {
     "name": "stdout",
     "output_type": "stream",
     "text": [
      "(1583, 9)\n"
     ]
    },
    {
     "data": {
      "text/html": [
       "<div>\n",
       "<style scoped>\n",
       "    .dataframe tbody tr th:only-of-type {\n",
       "        vertical-align: middle;\n",
       "    }\n",
       "\n",
       "    .dataframe tbody tr th {\n",
       "        vertical-align: top;\n",
       "    }\n",
       "\n",
       "    .dataframe thead th {\n",
       "        text-align: right;\n",
       "    }\n",
       "</style>\n",
       "<table border=\"1\" class=\"dataframe\">\n",
       "  <thead>\n",
       "    <tr style=\"text-align: right;\">\n",
       "      <th></th>\n",
       "      <th>CompanyNumber</th>\n",
       "      <th>delivered_on</th>\n",
       "      <th>CompanyName</th>\n",
       "      <th>Sics</th>\n",
       "      <th>RegAddress.PostCode</th>\n",
       "      <th>CompanyStatus</th>\n",
       "      <th>IncorporationDate</th>\n",
       "      <th>Mortgages.NumMortCharges</th>\n",
       "      <th>Outcode</th>\n",
       "    </tr>\n",
       "  </thead>\n",
       "  <tbody>\n",
       "    <tr>\n",
       "      <td>0</td>\n",
       "      <td>02164270</td>\n",
       "      <td>2018-12-18T00:00:00.000Z</td>\n",
       "      <td>BMI HEALTHCARE LIMITED</td>\n",
       "      <td>86101 - Hospital activities, 86220 - Specialis...</td>\n",
       "      <td>EC4M 6XH</td>\n",
       "      <td>Active</td>\n",
       "      <td>15/09/1987</td>\n",
       "      <td>53</td>\n",
       "      <td>EC</td>\n",
       "    </tr>\n",
       "    <tr>\n",
       "      <td>1</td>\n",
       "      <td>02164270</td>\n",
       "      <td>2018-12-18T00:00:00.000Z</td>\n",
       "      <td>BMI HEALTHCARE LIMITED</td>\n",
       "      <td>86101 - Hospital activities, 86220 - Specialis...</td>\n",
       "      <td>EC4M 6XH</td>\n",
       "      <td>Active</td>\n",
       "      <td>15/09/1987</td>\n",
       "      <td>53</td>\n",
       "      <td>EC</td>\n",
       "    </tr>\n",
       "  </tbody>\n",
       "</table>\n",
       "</div>"
      ],
      "text/plain": [
       "  CompanyNumber              delivered_on             CompanyName  \\\n",
       "0      02164270  2018-12-18T00:00:00.000Z  BMI HEALTHCARE LIMITED   \n",
       "1      02164270  2018-12-18T00:00:00.000Z  BMI HEALTHCARE LIMITED   \n",
       "\n",
       "                                                Sics RegAddress.PostCode  \\\n",
       "0  86101 - Hospital activities, 86220 - Specialis...            EC4M 6XH   \n",
       "1  86101 - Hospital activities, 86220 - Specialis...            EC4M 6XH   \n",
       "\n",
       "  CompanyStatus IncorporationDate  Mortgages.NumMortCharges Outcode  \n",
       "0        Active        15/09/1987                        53      EC  \n",
       "1        Active        15/09/1987                        53      EC  "
      ]
     },
     "execution_count": 397,
     "metadata": {},
     "output_type": "execute_result"
    }
   ],
   "source": [
    "medit = pd.merge(hedit, cedit, how='right', on='CompanyNumber')\n",
    "\n",
    "print(medit.shape)\n",
    "medit.head(2)"
   ]
  },
  {
   "cell_type": "code",
   "execution_count": 398,
   "metadata": {},
   "outputs": [
    {
     "data": {
      "text/html": [
       "<div>\n",
       "<style scoped>\n",
       "    .dataframe tbody tr th:only-of-type {\n",
       "        vertical-align: middle;\n",
       "    }\n",
       "\n",
       "    .dataframe tbody tr th {\n",
       "        vertical-align: top;\n",
       "    }\n",
       "\n",
       "    .dataframe thead th {\n",
       "        text-align: right;\n",
       "    }\n",
       "</style>\n",
       "<table border=\"1\" class=\"dataframe\">\n",
       "  <thead>\n",
       "    <tr style=\"text-align: right;\">\n",
       "      <th></th>\n",
       "      <th>CompanyNumber</th>\n",
       "      <th>delivered_on</th>\n",
       "      <th>CompanyName</th>\n",
       "      <th>Sics</th>\n",
       "      <th>RegAddress.PostCode</th>\n",
       "      <th>CompanyStatus</th>\n",
       "      <th>IncorporationDate</th>\n",
       "      <th>Mortgages.NumMortCharges</th>\n",
       "      <th>Outcode</th>\n",
       "    </tr>\n",
       "  </thead>\n",
       "  <tbody>\n",
       "    <tr>\n",
       "      <td>1581</td>\n",
       "      <td>11637434</td>\n",
       "      <td>NaN</td>\n",
       "      <td>ZERUSEN LTD</td>\n",
       "      <td>86230 - Dental practice activities</td>\n",
       "      <td>SE3 8LS</td>\n",
       "      <td>Active</td>\n",
       "      <td>23/10/2018</td>\n",
       "      <td>0</td>\n",
       "      <td>SE</td>\n",
       "    </tr>\n",
       "    <tr>\n",
       "      <td>1582</td>\n",
       "      <td>08558902</td>\n",
       "      <td>NaN</td>\n",
       "      <td>ZN &amp; SK CO. LTD</td>\n",
       "      <td>86230 - Dental practice activities</td>\n",
       "      <td>NW4 2QR</td>\n",
       "      <td>Active</td>\n",
       "      <td>06/06/2013</td>\n",
       "      <td>0</td>\n",
       "      <td>NW</td>\n",
       "    </tr>\n",
       "  </tbody>\n",
       "</table>\n",
       "</div>"
      ],
      "text/plain": [
       "     CompanyNumber delivered_on      CompanyName  \\\n",
       "1581      11637434          NaN      ZERUSEN LTD   \n",
       "1582      08558902          NaN  ZN & SK CO. LTD   \n",
       "\n",
       "                                    Sics RegAddress.PostCode CompanyStatus  \\\n",
       "1581  86230 - Dental practice activities             SE3 8LS        Active   \n",
       "1582  86230 - Dental practice activities             NW4 2QR        Active   \n",
       "\n",
       "     IncorporationDate  Mortgages.NumMortCharges Outcode  \n",
       "1581        23/10/2018                         0      SE  \n",
       "1582        06/06/2013                         0      NW  "
      ]
     },
     "execution_count": 398,
     "metadata": {},
     "output_type": "execute_result"
    }
   ],
   "source": [
    "### Our Falses; False if the event was lost (right-censored). \n",
    "medit.tail(2)"
   ]
  },
  {
   "cell_type": "code",
   "execution_count": 399,
   "metadata": {},
   "outputs": [],
   "source": [
    "def dentist_or_chemist(x):\n",
    "    if 'Dental practice activities' in x:\n",
    "        return 'Dentist'\n",
    "    else:\n",
    "        return 'Chemist'"
   ]
  },
  {
   "cell_type": "code",
   "execution_count": 400,
   "metadata": {},
   "outputs": [],
   "source": [
    "def event(x):\n",
    "    if x == 0:\n",
    "        return 0\n",
    "    else:\n",
    "        return 1"
   ]
  },
  {
   "cell_type": "code",
   "execution_count": 401,
   "metadata": {},
   "outputs": [
    {
     "name": "stdout",
     "output_type": "stream",
     "text": [
      "(1170, 12)\n"
     ]
    },
    {
     "data": {
      "text/html": [
       "<div>\n",
       "<style scoped>\n",
       "    .dataframe tbody tr th:only-of-type {\n",
       "        vertical-align: middle;\n",
       "    }\n",
       "\n",
       "    .dataframe tbody tr th {\n",
       "        vertical-align: top;\n",
       "    }\n",
       "\n",
       "    .dataframe thead th {\n",
       "        text-align: right;\n",
       "    }\n",
       "</style>\n",
       "<table border=\"1\" class=\"dataframe\">\n",
       "  <thead>\n",
       "    <tr style=\"text-align: right;\">\n",
       "      <th></th>\n",
       "      <th>CompanyNumber</th>\n",
       "      <th>delivered_on</th>\n",
       "      <th>CompanyName</th>\n",
       "      <th>Sics</th>\n",
       "      <th>RegAddress.PostCode</th>\n",
       "      <th>CompanyStatus</th>\n",
       "      <th>IncorporationDate</th>\n",
       "      <th>Mortgages.NumMortCharges</th>\n",
       "      <th>Outcode</th>\n",
       "      <th>Profession</th>\n",
       "      <th>Event</th>\n",
       "      <th>Tenure</th>\n",
       "    </tr>\n",
       "  </thead>\n",
       "  <tbody>\n",
       "    <tr>\n",
       "      <td>53</td>\n",
       "      <td>03199438</td>\n",
       "      <td>2008-06-19 00:00:00+00:00</td>\n",
       "      <td>INCABELL LIMITED</td>\n",
       "      <td>47730 - Dispensing chemist in specialised stor...</td>\n",
       "      <td>EC1V 7RP</td>\n",
       "      <td>Active</td>\n",
       "      <td>1996-05-16 00:00:00+00:00</td>\n",
       "      <td>19</td>\n",
       "      <td>EC</td>\n",
       "      <td>Chemist</td>\n",
       "      <td>1</td>\n",
       "      <td>4417</td>\n",
       "    </tr>\n",
       "    <tr>\n",
       "      <td>54</td>\n",
       "      <td>03199438</td>\n",
       "      <td>2008-06-19 00:00:00+00:00</td>\n",
       "      <td>INCABELL LIMITED</td>\n",
       "      <td>47730 - Dispensing chemist in specialised stor...</td>\n",
       "      <td>EC1V 7RP</td>\n",
       "      <td>Active</td>\n",
       "      <td>1996-05-16 00:00:00+00:00</td>\n",
       "      <td>19</td>\n",
       "      <td>EC</td>\n",
       "      <td>Chemist</td>\n",
       "      <td>1</td>\n",
       "      <td>4417</td>\n",
       "    </tr>\n",
       "    <tr>\n",
       "      <td>55</td>\n",
       "      <td>03199438</td>\n",
       "      <td>2008-06-19 00:00:00+00:00</td>\n",
       "      <td>INCABELL LIMITED</td>\n",
       "      <td>47730 - Dispensing chemist in specialised stor...</td>\n",
       "      <td>EC1V 7RP</td>\n",
       "      <td>Active</td>\n",
       "      <td>1996-05-16 00:00:00+00:00</td>\n",
       "      <td>19</td>\n",
       "      <td>EC</td>\n",
       "      <td>Chemist</td>\n",
       "      <td>1</td>\n",
       "      <td>4417</td>\n",
       "    </tr>\n",
       "    <tr>\n",
       "      <td>56</td>\n",
       "      <td>03199438</td>\n",
       "      <td>2008-06-19 00:00:00+00:00</td>\n",
       "      <td>INCABELL LIMITED</td>\n",
       "      <td>47730 - Dispensing chemist in specialised stor...</td>\n",
       "      <td>EC1V 7RP</td>\n",
       "      <td>Active</td>\n",
       "      <td>1996-05-16 00:00:00+00:00</td>\n",
       "      <td>19</td>\n",
       "      <td>EC</td>\n",
       "      <td>Chemist</td>\n",
       "      <td>1</td>\n",
       "      <td>4417</td>\n",
       "    </tr>\n",
       "    <tr>\n",
       "      <td>57</td>\n",
       "      <td>03199438</td>\n",
       "      <td>2008-06-19 00:00:00+00:00</td>\n",
       "      <td>INCABELL LIMITED</td>\n",
       "      <td>47730 - Dispensing chemist in specialised stor...</td>\n",
       "      <td>EC1V 7RP</td>\n",
       "      <td>Active</td>\n",
       "      <td>1996-05-16 00:00:00+00:00</td>\n",
       "      <td>19</td>\n",
       "      <td>EC</td>\n",
       "      <td>Chemist</td>\n",
       "      <td>1</td>\n",
       "      <td>4417</td>\n",
       "    </tr>\n",
       "  </tbody>\n",
       "</table>\n",
       "</div>"
      ],
      "text/plain": [
       "   CompanyNumber              delivered_on       CompanyName  \\\n",
       "53      03199438 2008-06-19 00:00:00+00:00  INCABELL LIMITED   \n",
       "54      03199438 2008-06-19 00:00:00+00:00  INCABELL LIMITED   \n",
       "55      03199438 2008-06-19 00:00:00+00:00  INCABELL LIMITED   \n",
       "56      03199438 2008-06-19 00:00:00+00:00  INCABELL LIMITED   \n",
       "57      03199438 2008-06-19 00:00:00+00:00  INCABELL LIMITED   \n",
       "\n",
       "                                                 Sics RegAddress.PostCode  \\\n",
       "53  47730 - Dispensing chemist in specialised stor...            EC1V 7RP   \n",
       "54  47730 - Dispensing chemist in specialised stor...            EC1V 7RP   \n",
       "55  47730 - Dispensing chemist in specialised stor...            EC1V 7RP   \n",
       "56  47730 - Dispensing chemist in specialised stor...            EC1V 7RP   \n",
       "57  47730 - Dispensing chemist in specialised stor...            EC1V 7RP   \n",
       "\n",
       "   CompanyStatus         IncorporationDate  Mortgages.NumMortCharges Outcode  \\\n",
       "53        Active 1996-05-16 00:00:00+00:00                        19      EC   \n",
       "54        Active 1996-05-16 00:00:00+00:00                        19      EC   \n",
       "55        Active 1996-05-16 00:00:00+00:00                        19      EC   \n",
       "56        Active 1996-05-16 00:00:00+00:00                        19      EC   \n",
       "57        Active 1996-05-16 00:00:00+00:00                        19      EC   \n",
       "\n",
       "   Profession  Event  Tenure  \n",
       "53    Chemist      1    4417  \n",
       "54    Chemist      1    4417  \n",
       "55    Chemist      1    4417  \n",
       "56    Chemist      1    4417  \n",
       "57    Chemist      1    4417  "
      ]
     },
     "execution_count": 401,
     "metadata": {},
     "output_type": "execute_result"
    }
   ],
   "source": [
    "medit['Profession'] = medit.Sics.apply(dentist_or_chemist)\n",
    "medit.delivered_on.fillna(value=datetime.now(), inplace=True)\n",
    "medit.delivered_on = pd.to_datetime(medit.delivered_on, utc=True)\n",
    "medit.IncorporationDate = pd.to_datetime(medit.IncorporationDate, utc=True)\n",
    "medit['Event'] = medit['Mortgages.NumMortCharges'].apply(event)\n",
    "medit = medit[medit.IncorporationDate > '1990-01-01']\n",
    "medit['Tenure'] = (medit.delivered_on - medit.IncorporationDate).dt.days\n",
    "medit = medit[medit.Tenure > 0]\n",
    "\n",
    "print(medit.shape)\n",
    "medit.head(5)"
   ]
  },
  {
   "cell_type": "code",
   "execution_count": 402,
   "metadata": {},
   "outputs": [
    {
     "data": {
      "text/plain": [
       "1    656\n",
       "0    514\n",
       "Name: Event, dtype: int64"
      ]
     },
     "execution_count": 402,
     "metadata": {},
     "output_type": "execute_result"
    }
   ],
   "source": [
    "medit.Event.value_counts()"
   ]
  },
  {
   "cell_type": "code",
   "execution_count": 404,
   "metadata": {},
   "outputs": [
    {
     "name": "stdout",
     "output_type": "stream",
     "text": [
      "748\n",
      "748\n"
     ]
    }
   ],
   "source": [
    "# Dedup; still need to remove dups within date range\n",
    "medit = medit.loc[medit.groupby('CompanyNumber')['Tenure'].idxmin()]\n",
    "\n",
    "print(len(medit))\n",
    "print(len(medit.CompanyNumber.unique()))"
   ]
  },
  {
   "cell_type": "code",
   "execution_count": 405,
   "metadata": {},
   "outputs": [
    {
     "data": {
      "text/html": [
       "<div>\n",
       "<style scoped>\n",
       "    .dataframe tbody tr th:only-of-type {\n",
       "        vertical-align: middle;\n",
       "    }\n",
       "\n",
       "    .dataframe tbody tr th {\n",
       "        vertical-align: top;\n",
       "    }\n",
       "\n",
       "    .dataframe thead th {\n",
       "        text-align: right;\n",
       "    }\n",
       "</style>\n",
       "<table border=\"1\" class=\"dataframe\">\n",
       "  <thead>\n",
       "    <tr style=\"text-align: right;\">\n",
       "      <th></th>\n",
       "      <th>CompanyName</th>\n",
       "      <th>CompanyNumber</th>\n",
       "      <th>Outcode</th>\n",
       "      <th>Profession</th>\n",
       "      <th>Tenure</th>\n",
       "      <th>Event</th>\n",
       "    </tr>\n",
       "  </thead>\n",
       "  <tbody>\n",
       "    <tr>\n",
       "      <td>1479</td>\n",
       "      <td>SEJADE LIMITED</td>\n",
       "      <td>02463620</td>\n",
       "      <td>SW</td>\n",
       "      <td>Chemist</td>\n",
       "      <td>10892</td>\n",
       "      <td>0</td>\n",
       "    </tr>\n",
       "    <tr>\n",
       "      <td>995</td>\n",
       "      <td>SAAJ LIMITED</td>\n",
       "      <td>02552593</td>\n",
       "      <td>SW</td>\n",
       "      <td>Chemist</td>\n",
       "      <td>3616</td>\n",
       "      <td>1</td>\n",
       "    </tr>\n",
       "    <tr>\n",
       "      <td>1042</td>\n",
       "      <td>HEMEEMA LIMITED</td>\n",
       "      <td>02583240</td>\n",
       "      <td>SW</td>\n",
       "      <td>Chemist</td>\n",
       "      <td>847</td>\n",
       "      <td>1</td>\n",
       "    </tr>\n",
       "    <tr>\n",
       "      <td>714</td>\n",
       "      <td>ASHZONE LIMITED</td>\n",
       "      <td>02588967</td>\n",
       "      <td>SW</td>\n",
       "      <td>Chemist</td>\n",
       "      <td>550</td>\n",
       "      <td>1</td>\n",
       "    </tr>\n",
       "    <tr>\n",
       "      <td>1437</td>\n",
       "      <td>PREMSON LIMITED</td>\n",
       "      <td>02597062</td>\n",
       "      <td>NW</td>\n",
       "      <td>Chemist</td>\n",
       "      <td>10518</td>\n",
       "      <td>0</td>\n",
       "    </tr>\n",
       "    <tr>\n",
       "      <td>206</td>\n",
       "      <td>KEYCIRCLE LIMITED</td>\n",
       "      <td>02626265</td>\n",
       "      <td>EC</td>\n",
       "      <td>Chemist</td>\n",
       "      <td>2674</td>\n",
       "      <td>1</td>\n",
       "    </tr>\n",
       "    <tr>\n",
       "      <td>766</td>\n",
       "      <td>CHARTCHEM LIMITED</td>\n",
       "      <td>02728581</td>\n",
       "      <td>SW</td>\n",
       "      <td>Chemist</td>\n",
       "      <td>1857</td>\n",
       "      <td>1</td>\n",
       "    </tr>\n",
       "    <tr>\n",
       "      <td>855</td>\n",
       "      <td>THE PEMBERDEEN LASER COSMETIC SURGERY CLINIC L...</td>\n",
       "      <td>02780573</td>\n",
       "      <td>SE</td>\n",
       "      <td>Dentist</td>\n",
       "      <td>8390</td>\n",
       "      <td>1</td>\n",
       "    </tr>\n",
       "    <tr>\n",
       "      <td>655</td>\n",
       "      <td>FLOWERTOUR LIMITED</td>\n",
       "      <td>02784736</td>\n",
       "      <td>SW</td>\n",
       "      <td>Chemist</td>\n",
       "      <td>405</td>\n",
       "      <td>1</td>\n",
       "    </tr>\n",
       "    <tr>\n",
       "      <td>926</td>\n",
       "      <td>RUISLIP CERAMICS LIMITED</td>\n",
       "      <td>02824093</td>\n",
       "      <td>EC</td>\n",
       "      <td>Dentist</td>\n",
       "      <td>1777</td>\n",
       "      <td>1</td>\n",
       "    </tr>\n",
       "  </tbody>\n",
       "</table>\n",
       "</div>"
      ],
      "text/plain": [
       "                                            CompanyName CompanyNumber Outcode  \\\n",
       "1479                                     SEJADE LIMITED      02463620      SW   \n",
       "995                                        SAAJ LIMITED      02552593      SW   \n",
       "1042                                    HEMEEMA LIMITED      02583240      SW   \n",
       "714                                     ASHZONE LIMITED      02588967      SW   \n",
       "1437                                    PREMSON LIMITED      02597062      NW   \n",
       "206                                   KEYCIRCLE LIMITED      02626265      EC   \n",
       "766                                   CHARTCHEM LIMITED      02728581      SW   \n",
       "855   THE PEMBERDEEN LASER COSMETIC SURGERY CLINIC L...      02780573      SE   \n",
       "655                                  FLOWERTOUR LIMITED      02784736      SW   \n",
       "926                            RUISLIP CERAMICS LIMITED      02824093      EC   \n",
       "\n",
       "     Profession  Tenure  Event  \n",
       "1479    Chemist   10892      0  \n",
       "995     Chemist    3616      1  \n",
       "1042    Chemist     847      1  \n",
       "714     Chemist     550      1  \n",
       "1437    Chemist   10518      0  \n",
       "206     Chemist    2674      1  \n",
       "766     Chemist    1857      1  \n",
       "855     Dentist    8390      1  \n",
       "655     Chemist     405      1  \n",
       "926     Dentist    1777      1  "
      ]
     },
     "execution_count": 405,
     "metadata": {},
     "output_type": "execute_result"
    }
   ],
   "source": [
    "sedit = medit.copy()\n",
    "sedit = sedit[['CompanyName', 'CompanyNumber', 'Outcode', 'Profession', 'Tenure', 'Event']]\n",
    "sedit.head(10)"
   ]
  },
  {
   "cell_type": "markdown",
   "metadata": {},
   "source": [
    "## Start SA "
   ]
  },
  {
   "cell_type": "code",
   "execution_count": 406,
   "metadata": {},
   "outputs": [],
   "source": [
    "kmf = KaplanMeierFitter()"
   ]
  },
  {
   "cell_type": "code",
   "execution_count": 407,
   "metadata": {},
   "outputs": [
    {
     "data": {
      "text/plain": [
       "<matplotlib.axes._subplots.AxesSubplot at 0x24929f94588>"
      ]
     },
     "execution_count": 407,
     "metadata": {},
     "output_type": "execute_result"
    },
    {
     "data": {
      "image/png": "[encoded data removed]",
      "text/plain": [
       "<Figure size 432x288 with 1 Axes>"
      ]
     },
     "metadata": {
      "needs_background": "light"
     },
     "output_type": "display_data"
    }
   ],
   "source": [
    "kmf.fit(sedit.Tenure, sedit.Event, label='Kaplan Meier Estimate')\n",
    "kmf.plot(ci_show=False)"
   ]
  },
  {
   "cell_type": "code",
   "execution_count": 408,
   "metadata": {},
   "outputs": [],
   "source": [
    "T = sedit.Tenure\n",
    "E = sedit.Event\n",
    "groups = sedit.Profession\n",
    "dentists = (groups == 'Dentist')\n",
    "chemists = (groups == 'Chemist')"
   ]
  },
  {
   "cell_type": "code",
   "execution_count": 409,
   "metadata": {},
   "outputs": [
    {
     "data": {
      "text/plain": [
       "<matplotlib.axes._subplots.AxesSubplot at 0x24839d6fb70>"
      ]
     },
     "execution_count": 409,
     "metadata": {},
     "output_type": "execute_result"
    },
    {
     "data": {
      "image/png": "[encoded data removed]",
      "text/plain": [
       "<Figure size 432x288 with 1 Axes>"
      ]
     },
     "metadata": {
      "needs_background": "light"
     },
     "output_type": "display_data"
    }
   ],
   "source": [
    "kmf1 = KaplanMeierFitter()\n",
    "\n",
    "## fit the model for 1st cohort\n",
    "kmf1.fit(T[dentists], E[dentists], label='Dentists')\n",
    "a1 = kmf1.plot(loc=slice(0, 730))\n",
    "\n",
    "## fit the model for 2nd cohort\n",
    "kmf1.fit(T[chemists], E[chemists], label='Chemists')\n",
    "kmf1.plot(ax=a1, loc=slice(0, 730))"
   ]
  },
  {
   "cell_type": "code",
   "execution_count": 410,
   "metadata": {},
   "outputs": [],
   "source": [
    "dedit = sedit.copy()\n",
    "dedit = dedit[dedit.Profession == 'Dentist']\n",
    "\n",
    "T2 = dedit.Tenure\n",
    "E2 = dedit.Event\n",
    "groups = sedit.Outcode\n",
    "se = (groups == 'SE')\n",
    "sw = (groups == 'SW')\n",
    "nw = (groups == 'NW')"
   ]
  },
  {
   "cell_type": "code",
   "execution_count": 416,
   "metadata": {},
   "outputs": [
    {
     "data": {
      "text/plain": [
       "<matplotlib.axes._subplots.AxesSubplot at 0x24839aec630>"
      ]
     },
     "execution_count": 416,
     "metadata": {},
     "output_type": "execute_result"
    },
    {
     "data": {
      "image/png": "[encoded data removed]",
      "text/plain": [
       "<Figure size 432x288 with 1 Axes>"
      ]
     },
     "metadata": {
      "needs_background": "light"
     },
     "output_type": "display_data"
    }
   ],
   "source": [
    "kmf2 = KaplanMeierFitter()\n",
    "\n",
    "kmf2.fit(T2[se], E2[se], label='SE')\n",
    "a2 = kmf2.plot(loc=slice(0, 730))\n",
    "\n",
    "\n",
    "kmf2.fit(T2[sw], E2[sw], label='SW')\n",
    "\n",
    "kmf2.plot(ax=a2, loc=slice(0, 730))"
   ]
  },
  {
   "cell_type": "markdown",
   "metadata": {},
   "source": [
    "## 2nd Occurance"
   ]
  },
  {
   "cell_type": "code",
   "execution_count": 412,
   "metadata": {},
   "outputs": [],
   "source": [
    "# medit = pd.merge(hedit, cedit, how='right', on='CompanyNumber')\n",
    "\n",
    "# medit['Outcode'] = medit['RegAddress.PostCode'].astype(str).str[:2]\n",
    "# medit = medit[(medit.Outcode == 'SE') | (medit.Outcode == 'SW') | (medit.Outcode == 'NW')]\n",
    "# medit['Profession'] = medit.Sics.apply(dentist_or_chemist)\n",
    "# medit.delivered_on.fillna(value=datetime.now(), inplace=True)\n",
    "# medit.delivered_on = pd.to_datetime(medit.delivered_on, utc=True)\n",
    "# medit.IncorporationDate = pd.to_datetime(medit.IncorporationDate, utc=True)\n",
    "# medit = medit[medit.IncorporationDate > '1990-01-01']\n",
    "# medit['Tenure'] = (medit.delivered_on - medit.IncorporationDate).dt.days\n",
    "# medit = medit[medit.Tenure > 0]\n",
    "# medit['Event'] = medit['Mortgages.NumMortCharges']\n",
    "# medit = medit[medit.Event > 0]\n",
    "\n",
    "# print(medit.shape)\n",
    "# medit.head(2)"
   ]
  },
  {
   "cell_type": "code",
   "execution_count": 413,
   "metadata": {},
   "outputs": [],
   "source": [
    "# medit = medit[['CompanyNumber', 'Outcode', 'Profession', 'delivered_on']]\n",
    "\n",
    "# dedup_col = ['CompanyNumber', 'Outcode', 'Profession']\n",
    "\n",
    "# def dedup_charge(x):\n",
    "\n",
    "#     return x[dedup_col].duplicated() & x.delivered_on.diff().dt.days.lt(10)"
   ]
  },
  {
   "cell_type": "code",
   "execution_count": 414,
   "metadata": {},
   "outputs": [],
   "source": [
    "# # medit.delivered_on = pd.to_datetime(medit.delivered_on)\n",
    "# medit.sort_values(by=dedup_col, inplace=True)\n",
    "# medit = medit[~medit.groupby(by=dedup_col).apply(dedup_charge).values]\n",
    "\n",
    "# print(medit.shape)\n",
    "# medit.head()"
   ]
  },
  {
   "cell_type": "code",
   "execution_count": null,
   "metadata": {},
   "outputs": [],
   "source": []
  }
 ],
 "metadata": {
  "kernelspec": {
   "display_name": "Python 3",
   "language": "python",
   "name": "python3"
  },
  "language_info": {
   "codemirror_mode": {
    "name": "ipython",
    "version": 3
   },
   "file_extension": ".py",
   "mimetype": "text/x-python",
   "name": "python",
   "nbconvert_exporter": "python",
   "pygments_lexer": "ipython3",
   "version": "3.7.3"
  }
 },
 "nbformat": 4,
 "nbformat_minor": 2
}
