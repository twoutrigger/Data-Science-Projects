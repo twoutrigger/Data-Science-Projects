{
 "cells": [
  {
   "cell_type": "code",
   "execution_count": 1,
   "metadata": {},
   "outputs": [],
   "source": [
    "import numpy as np\n",
    "import pandas as pd\n",
    "import matplotlib.pyplot as plt\n",
    "import requests\n",
    "from datetime import datetime\n",
    "from pprint import pprint\n",
    "from lifelines import KaplanMeierFitter\n",
    "from lifelines import CoxPHFitter"
   ]
  },
  {
   "cell_type": "code",
   "execution_count": 2,
   "metadata": {},
   "outputs": [],
   "source": [
    "### Produce loan recurrence clean data for web app"
   ]
  },
  {
   "cell_type": "code",
   "execution_count": 3,
   "metadata": {},
   "outputs": [
    {
     "name": "stdout",
     "output_type": "stream",
     "text": [
      "(4400981, 7)\n"
     ]
    },
    {
     "data": {
      "text/html": [
       "<div>\n",
       "<style scoped>\n",
       "    .dataframe tbody tr th:only-of-type {\n",
       "        vertical-align: middle;\n",
       "    }\n",
       "\n",
       "    .dataframe tbody tr th {\n",
       "        vertical-align: top;\n",
       "    }\n",
       "\n",
       "    .dataframe thead th {\n",
       "        text-align: right;\n",
       "    }\n",
       "</style>\n",
       "<table border=\"1\" class=\"dataframe\">\n",
       "  <thead>\n",
       "    <tr style=\"text-align: right;\">\n",
       "      <th></th>\n",
       "      <th>CompanyName</th>\n",
       "      <th>CompanyNumber</th>\n",
       "      <th>Sics</th>\n",
       "      <th>RegAddress.PostCode</th>\n",
       "      <th>CompanyStatus</th>\n",
       "      <th>IncorporationDate</th>\n",
       "      <th>Mortgages.NumMortCharges</th>\n",
       "    </tr>\n",
       "  </thead>\n",
       "  <tbody>\n",
       "    <tr>\n",
       "      <td>0</td>\n",
       "      <td>! LTD</td>\n",
       "      <td>08209948</td>\n",
       "      <td>99999 - Dormant Company</td>\n",
       "      <td>LS10 2RU</td>\n",
       "      <td>Active</td>\n",
       "      <td>11/09/2012</td>\n",
       "      <td>0</td>\n",
       "    </tr>\n",
       "    <tr>\n",
       "      <td>1</td>\n",
       "      <td>!? LTD</td>\n",
       "      <td>11399177</td>\n",
       "      <td>47710 - Retail sale of clothing in specialised...</td>\n",
       "      <td>SK6 3DY</td>\n",
       "      <td>Active</td>\n",
       "      <td>05/06/2018</td>\n",
       "      <td>0</td>\n",
       "    </tr>\n",
       "  </tbody>\n",
       "</table>\n",
       "</div>"
      ],
      "text/plain": [
       "  CompanyName CompanyNumber  \\\n",
       "0       ! LTD      08209948   \n",
       "1      !? LTD      11399177   \n",
       "\n",
       "                                                Sics RegAddress.PostCode  \\\n",
       "0                            99999 - Dormant Company            LS10 2RU   \n",
       "1  47710 - Retail sale of clothing in specialised...             SK6 3DY   \n",
       "\n",
       "  CompanyStatus IncorporationDate  Mortgages.NumMortCharges  \n",
       "0        Active        11/09/2012                         0  \n",
       "1        Active        05/06/2018                         0  "
      ]
     },
     "execution_count": 3,
     "metadata": {},
     "output_type": "execute_result"
    }
   ],
   "source": [
    "usecols = ['CompanyName', 'CompanyNumber', 'Sics', 'CompanyStatus', 'RegAddress.PostCode', 'IncorporationDate',\n",
    "           'Mortgages.NumMortCharges']\n",
    "\n",
    "corig = pd.read_csv('ch_companies_clean_1.csv', index_col=None, \n",
    "                    usecols=usecols, dtype={'CompanyNumber': str})\n",
    "\n",
    "print(corig.shape)\n",
    "corig.head(2)"
   ]
  },
  {
   "cell_type": "code",
   "execution_count": 4,
   "metadata": {},
   "outputs": [
    {
     "name": "stdout",
     "output_type": "stream",
     "text": [
      "(2442388, 3)\n"
     ]
    },
    {
     "data": {
      "text/html": [
       "<div>\n",
       "<style scoped>\n",
       "    .dataframe tbody tr th:only-of-type {\n",
       "        vertical-align: middle;\n",
       "    }\n",
       "\n",
       "    .dataframe tbody tr th {\n",
       "        vertical-align: top;\n",
       "    }\n",
       "\n",
       "    .dataframe thead th {\n",
       "        text-align: right;\n",
       "    }\n",
       "</style>\n",
       "<table border=\"1\" class=\"dataframe\">\n",
       "  <thead>\n",
       "    <tr style=\"text-align: right;\">\n",
       "      <th></th>\n",
       "      <th>CompanyNumber</th>\n",
       "      <th>charge_number</th>\n",
       "      <th>delivered_on</th>\n",
       "    </tr>\n",
       "  </thead>\n",
       "  <tbody>\n",
       "    <tr>\n",
       "      <td>0</td>\n",
       "      <td>00609565</td>\n",
       "      <td>116</td>\n",
       "      <td>1988-02-15T00:00:00.000Z</td>\n",
       "    </tr>\n",
       "    <tr>\n",
       "      <td>1</td>\n",
       "      <td>00609565</td>\n",
       "      <td>115</td>\n",
       "      <td>1988-01-15T00:00:00.000Z</td>\n",
       "    </tr>\n",
       "    <tr>\n",
       "      <td>2</td>\n",
       "      <td>00609565</td>\n",
       "      <td>114</td>\n",
       "      <td>1987-12-11T00:00:00.000Z</td>\n",
       "    </tr>\n",
       "    <tr>\n",
       "      <td>3</td>\n",
       "      <td>00609565</td>\n",
       "      <td>113</td>\n",
       "      <td>1987-11-20T00:00:00.000Z</td>\n",
       "    </tr>\n",
       "    <tr>\n",
       "      <td>4</td>\n",
       "      <td>00609565</td>\n",
       "      <td>112</td>\n",
       "      <td>1987-11-10T00:00:00.000Z</td>\n",
       "    </tr>\n",
       "  </tbody>\n",
       "</table>\n",
       "</div>"
      ],
      "text/plain": [
       "  CompanyNumber  charge_number              delivered_on\n",
       "0      00609565            116  1988-02-15T00:00:00.000Z\n",
       "1      00609565            115  1988-01-15T00:00:00.000Z\n",
       "2      00609565            114  1987-12-11T00:00:00.000Z\n",
       "3      00609565            113  1987-11-20T00:00:00.000Z\n",
       "4      00609565            112  1987-11-10T00:00:00.000Z"
      ]
     },
     "execution_count": 4,
     "metadata": {},
     "output_type": "execute_result"
    }
   ],
   "source": [
    "usecols = ['CompanyNumber', 'charge_number', 'delivered_on']\n",
    "\n",
    "horig = pd.read_csv('ch_charges_clean_1.csv', \n",
    "                    index_col=None, \n",
    "                    usecols=usecols, \n",
    "                    dtype={'CompanyNumber': str})\n",
    "\n",
    "print(horig.shape)\n",
    "horig.head()"
   ]
  },
  {
   "cell_type": "code",
   "execution_count": 5,
   "metadata": {},
   "outputs": [],
   "source": [
    "cedit = corig.copy()\n",
    "hedit = horig.copy()"
   ]
  },
  {
   "cell_type": "markdown",
   "metadata": {},
   "source": [
    "## Clean and Merge Data"
   ]
  },
  {
   "cell_type": "code",
   "execution_count": 6,
   "metadata": {},
   "outputs": [
    {
     "name": "stdout",
     "output_type": "stream",
     "text": [
      "(370818, 8)\n"
     ]
    }
   ],
   "source": [
    "### all Sics\n",
    "cedit = cedit[cedit.CompanyStatus == 'Active']\n",
    "cedit['Outcode'] = cedit['RegAddress.PostCode'].astype(str).str[:2]\n",
    "cedit = cedit[(cedit.Outcode.isin(['SE', 'SW', 'NW', 'EC']))]\n",
    "\n",
    "print(cedit.shape)"
   ]
  },
  {
   "cell_type": "code",
   "execution_count": 55,
   "metadata": {
    "scrolled": true
   },
   "outputs": [
    {
     "name": "stdout",
     "output_type": "stream",
     "text": [
      "(645332, 10)\n"
     ]
    },
    {
     "data": {
      "text/html": [
       "<div>\n",
       "<style scoped>\n",
       "    .dataframe tbody tr th:only-of-type {\n",
       "        vertical-align: middle;\n",
       "    }\n",
       "\n",
       "    .dataframe tbody tr th {\n",
       "        vertical-align: top;\n",
       "    }\n",
       "\n",
       "    .dataframe thead th {\n",
       "        text-align: right;\n",
       "    }\n",
       "</style>\n",
       "<table border=\"1\" class=\"dataframe\">\n",
       "  <thead>\n",
       "    <tr style=\"text-align: right;\">\n",
       "      <th></th>\n",
       "      <th>CompanyNumber</th>\n",
       "      <th>charge_number</th>\n",
       "      <th>delivered_on</th>\n",
       "      <th>CompanyName</th>\n",
       "      <th>Sics</th>\n",
       "      <th>RegAddress.PostCode</th>\n",
       "      <th>CompanyStatus</th>\n",
       "      <th>IncorporationDate</th>\n",
       "      <th>Mortgages.NumMortCharges</th>\n",
       "      <th>Outcode</th>\n",
       "    </tr>\n",
       "  </thead>\n",
       "  <tbody>\n",
       "    <tr>\n",
       "      <td>0</td>\n",
       "      <td>02059181</td>\n",
       "      <td>65.0</td>\n",
       "      <td>2006-12-22T00:00:00.000Z</td>\n",
       "      <td>PINTON ESTATES PLC</td>\n",
       "      <td>7011 - Development &amp; sell real estate</td>\n",
       "      <td>EC4A 3TR</td>\n",
       "      <td>Active</td>\n",
       "      <td>26/09/1986</td>\n",
       "      <td>65</td>\n",
       "      <td>EC</td>\n",
       "    </tr>\n",
       "    <tr>\n",
       "      <td>1</td>\n",
       "      <td>02059181</td>\n",
       "      <td>64.0</td>\n",
       "      <td>2004-09-21T00:00:00.000Z</td>\n",
       "      <td>PINTON ESTATES PLC</td>\n",
       "      <td>7011 - Development &amp; sell real estate</td>\n",
       "      <td>EC4A 3TR</td>\n",
       "      <td>Active</td>\n",
       "      <td>26/09/1986</td>\n",
       "      <td>65</td>\n",
       "      <td>EC</td>\n",
       "    </tr>\n",
       "  </tbody>\n",
       "</table>\n",
       "</div>"
      ],
      "text/plain": [
       "  CompanyNumber  charge_number              delivered_on         CompanyName  \\\n",
       "0      02059181           65.0  2006-12-22T00:00:00.000Z  PINTON ESTATES PLC   \n",
       "1      02059181           64.0  2004-09-21T00:00:00.000Z  PINTON ESTATES PLC   \n",
       "\n",
       "                                    Sics RegAddress.PostCode CompanyStatus  \\\n",
       "0  7011 - Development & sell real estate            EC4A 3TR        Active   \n",
       "1  7011 - Development & sell real estate            EC4A 3TR        Active   \n",
       "\n",
       "  IncorporationDate  Mortgages.NumMortCharges Outcode  \n",
       "0        26/09/1986                        65      EC  \n",
       "1        26/09/1986                        65      EC  "
      ]
     },
     "execution_count": 55,
     "metadata": {},
     "output_type": "execute_result"
    }
   ],
   "source": [
    "medit = pd.merge(hedit, cedit, how='right', on='CompanyNumber')\n",
    "\n",
    "print(medit.shape)\n",
    "medit.head(2)"
   ]
  },
  {
   "cell_type": "code",
   "execution_count": 56,
   "metadata": {},
   "outputs": [
    {
     "data": {
      "text/html": [
       "<div>\n",
       "<style scoped>\n",
       "    .dataframe tbody tr th:only-of-type {\n",
       "        vertical-align: middle;\n",
       "    }\n",
       "\n",
       "    .dataframe tbody tr th {\n",
       "        vertical-align: top;\n",
       "    }\n",
       "\n",
       "    .dataframe thead th {\n",
       "        text-align: right;\n",
       "    }\n",
       "</style>\n",
       "<table border=\"1\" class=\"dataframe\">\n",
       "  <thead>\n",
       "    <tr style=\"text-align: right;\">\n",
       "      <th></th>\n",
       "      <th>CompanyNumber</th>\n",
       "      <th>charge_number</th>\n",
       "      <th>delivered_on</th>\n",
       "      <th>CompanyName</th>\n",
       "      <th>Sics</th>\n",
       "      <th>RegAddress.PostCode</th>\n",
       "      <th>CompanyStatus</th>\n",
       "      <th>IncorporationDate</th>\n",
       "      <th>Mortgages.NumMortCharges</th>\n",
       "      <th>Outcode</th>\n",
       "    </tr>\n",
       "  </thead>\n",
       "  <tbody>\n",
       "    <tr>\n",
       "      <td>645330</td>\n",
       "      <td>12049944</td>\n",
       "      <td>NaN</td>\n",
       "      <td>NaN</td>\n",
       "      <td>ŜANĜO C.I.C.</td>\n",
       "      <td>46190 - Agents involved in the sale of a varie...</td>\n",
       "      <td>SE1 7FR</td>\n",
       "      <td>Active</td>\n",
       "      <td>13/06/2019</td>\n",
       "      <td>0</td>\n",
       "      <td>SE</td>\n",
       "    </tr>\n",
       "    <tr>\n",
       "      <td>645331</td>\n",
       "      <td>09511422</td>\n",
       "      <td>NaN</td>\n",
       "      <td>NaN</td>\n",
       "      <td>“SAIL IN GREECE ADVENTURES” LTD</td>\n",
       "      <td>79120 - Tour operator activities</td>\n",
       "      <td>EC1A 2BN</td>\n",
       "      <td>Active</td>\n",
       "      <td>26/03/2015</td>\n",
       "      <td>0</td>\n",
       "      <td>EC</td>\n",
       "    </tr>\n",
       "  </tbody>\n",
       "</table>\n",
       "</div>"
      ],
      "text/plain": [
       "       CompanyNumber  charge_number delivered_on  \\\n",
       "645330      12049944            NaN          NaN   \n",
       "645331      09511422            NaN          NaN   \n",
       "\n",
       "                            CompanyName  \\\n",
       "645330                     ŜANĜO C.I.C.   \n",
       "645331  “SAIL IN GREECE ADVENTURES” LTD   \n",
       "\n",
       "                                                     Sics RegAddress.PostCode  \\\n",
       "645330  46190 - Agents involved in the sale of a varie...             SE1 7FR   \n",
       "645331                   79120 - Tour operator activities            EC1A 2BN   \n",
       "\n",
       "       CompanyStatus IncorporationDate  Mortgages.NumMortCharges Outcode  \n",
       "645330        Active        13/06/2019                         0      SE  \n",
       "645331        Active        26/03/2015                         0      EC  "
      ]
     },
     "execution_count": 56,
     "metadata": {},
     "output_type": "execute_result"
    }
   ],
   "source": [
    "### Our Falses; False if the event was lost (right-censored). \n",
    "medit.tail(2)"
   ]
  },
  {
   "cell_type": "code",
   "execution_count": 57,
   "metadata": {},
   "outputs": [],
   "source": [
    "def first_sic(x):\n",
    "    return x.split(' ')[0]"
   ]
  },
  {
   "cell_type": "code",
   "execution_count": 58,
   "metadata": {},
   "outputs": [],
   "source": [
    "def event(x):\n",
    "    if x == 0:\n",
    "        return 0\n",
    "    else:\n",
    "        return 1"
   ]
  },
  {
   "cell_type": "code",
   "execution_count": 59,
   "metadata": {},
   "outputs": [
    {
     "name": "stdout",
     "output_type": "stream",
     "text": [
      "(522148, 13)\n"
     ]
    },
    {
     "data": {
      "text/html": [
       "<div>\n",
       "<style scoped>\n",
       "    .dataframe tbody tr th:only-of-type {\n",
       "        vertical-align: middle;\n",
       "    }\n",
       "\n",
       "    .dataframe tbody tr th {\n",
       "        vertical-align: top;\n",
       "    }\n",
       "\n",
       "    .dataframe thead th {\n",
       "        text-align: right;\n",
       "    }\n",
       "</style>\n",
       "<table border=\"1\" class=\"dataframe\">\n",
       "  <thead>\n",
       "    <tr style=\"text-align: right;\">\n",
       "      <th></th>\n",
       "      <th>CompanyNumber</th>\n",
       "      <th>charge_number</th>\n",
       "      <th>delivered_on</th>\n",
       "      <th>CompanyName</th>\n",
       "      <th>Sics</th>\n",
       "      <th>RegAddress.PostCode</th>\n",
       "      <th>CompanyStatus</th>\n",
       "      <th>IncorporationDate</th>\n",
       "      <th>Mortgages.NumMortCharges</th>\n",
       "      <th>Outcode</th>\n",
       "      <th>Sic</th>\n",
       "      <th>Event</th>\n",
       "      <th>Tenure</th>\n",
       "    </tr>\n",
       "  </thead>\n",
       "  <tbody>\n",
       "    <tr>\n",
       "      <td>65</td>\n",
       "      <td>03898937</td>\n",
       "      <td>4.0</td>\n",
       "      <td>2006-08-22 00:00:00+00:00</td>\n",
       "      <td>RIDGECROFT PROPERTIES LIMITED</td>\n",
       "      <td>7012 - Buying &amp; sell own real estate, 7020 - L...</td>\n",
       "      <td>EC4A 3TR</td>\n",
       "      <td>Active</td>\n",
       "      <td>1999-12-23 00:00:00+00:00</td>\n",
       "      <td>4</td>\n",
       "      <td>EC</td>\n",
       "      <td>7012</td>\n",
       "      <td>1</td>\n",
       "      <td>2434</td>\n",
       "    </tr>\n",
       "    <tr>\n",
       "      <td>66</td>\n",
       "      <td>03898937</td>\n",
       "      <td>3.0</td>\n",
       "      <td>2006-07-28 00:00:00+00:00</td>\n",
       "      <td>RIDGECROFT PROPERTIES LIMITED</td>\n",
       "      <td>7012 - Buying &amp; sell own real estate, 7020 - L...</td>\n",
       "      <td>EC4A 3TR</td>\n",
       "      <td>Active</td>\n",
       "      <td>1999-12-23 00:00:00+00:00</td>\n",
       "      <td>4</td>\n",
       "      <td>EC</td>\n",
       "      <td>7012</td>\n",
       "      <td>1</td>\n",
       "      <td>2409</td>\n",
       "    </tr>\n",
       "  </tbody>\n",
       "</table>\n",
       "</div>"
      ],
      "text/plain": [
       "   CompanyNumber  charge_number              delivered_on  \\\n",
       "65      03898937            4.0 2006-08-22 00:00:00+00:00   \n",
       "66      03898937            3.0 2006-07-28 00:00:00+00:00   \n",
       "\n",
       "                      CompanyName  \\\n",
       "65  RIDGECROFT PROPERTIES LIMITED   \n",
       "66  RIDGECROFT PROPERTIES LIMITED   \n",
       "\n",
       "                                                 Sics RegAddress.PostCode  \\\n",
       "65  7012 - Buying & sell own real estate, 7020 - L...            EC4A 3TR   \n",
       "66  7012 - Buying & sell own real estate, 7020 - L...            EC4A 3TR   \n",
       "\n",
       "   CompanyStatus         IncorporationDate  Mortgages.NumMortCharges Outcode  \\\n",
       "65        Active 1999-12-23 00:00:00+00:00                         4      EC   \n",
       "66        Active 1999-12-23 00:00:00+00:00                         4      EC   \n",
       "\n",
       "     Sic  Event  Tenure  \n",
       "65  7012      1    2434  \n",
       "66  7012      1    2409  "
      ]
     },
     "execution_count": 59,
     "metadata": {},
     "output_type": "execute_result"
    }
   ],
   "source": [
    "medit = medit[medit.Sics != 'None Supplied']\n",
    "medit['Sic'] = medit.Sics.apply(first_sic)\n",
    "medit.delivered_on.fillna(value=datetime.now(), inplace=True)\n",
    "medit.delivered_on = pd.to_datetime(medit.delivered_on, utc=True)\n",
    "medit.IncorporationDate = pd.to_datetime(medit.IncorporationDate, utc=True)\n",
    "medit['Event'] = medit['Mortgages.NumMortCharges'].apply(event)\n",
    "medit = medit[medit.IncorporationDate > '1990-01-01']\n",
    "medit['Tenure'] = (medit.delivered_on - medit.IncorporationDate).dt.days\n",
    "medit = medit[medit.Tenure > 0]\n",
    "\n",
    "print(medit.shape)\n",
    "medit.head(2)"
   ]
  },
  {
   "cell_type": "code",
   "execution_count": 60,
   "metadata": {},
   "outputs": [
    {
     "data": {
      "text/plain": [
       "0    299370\n",
       "1    222778\n",
       "Name: Event, dtype: int64"
      ]
     },
     "execution_count": 60,
     "metadata": {},
     "output_type": "execute_result"
    }
   ],
   "source": [
    "medit.Event.value_counts()"
   ]
  },
  {
   "cell_type": "code",
   "execution_count": 61,
   "metadata": {},
   "outputs": [
    {
     "name": "stdout",
     "output_type": "stream",
     "text": [
      "339504\n",
      "339504\n"
     ]
    }
   ],
   "source": [
    "# keeping only the first charge for each company\n",
    "medit = medit.loc[medit.groupby('CompanyNumber')['Tenure'].idxmin()]\n",
    "\n",
    "print(len(medit))\n",
    "print(len(medit.CompanyNumber.unique()))"
   ]
  },
  {
   "cell_type": "code",
   "execution_count": 65,
   "metadata": {},
   "outputs": [
    {
     "data": {
      "text/html": [
       "<div>\n",
       "<style scoped>\n",
       "    .dataframe tbody tr th:only-of-type {\n",
       "        vertical-align: middle;\n",
       "    }\n",
       "\n",
       "    .dataframe tbody tr th {\n",
       "        vertical-align: top;\n",
       "    }\n",
       "\n",
       "    .dataframe thead th {\n",
       "        text-align: right;\n",
       "    }\n",
       "</style>\n",
       "<table border=\"1\" class=\"dataframe\">\n",
       "  <thead>\n",
       "    <tr style=\"text-align: right;\">\n",
       "      <th></th>\n",
       "      <th>CompanyName</th>\n",
       "      <th>CompanyNumber</th>\n",
       "      <th>Outcode</th>\n",
       "      <th>Sic</th>\n",
       "      <th>Tenure</th>\n",
       "      <th>Event</th>\n",
       "    </tr>\n",
       "  </thead>\n",
       "  <tbody>\n",
       "    <tr>\n",
       "      <td>0</td>\n",
       "      <td>2 ERSKINE ROAD MANAGEMENT LIMITED</td>\n",
       "      <td>02456613</td>\n",
       "      <td>NW</td>\n",
       "      <td>98000</td>\n",
       "      <td>10902</td>\n",
       "      <td>0</td>\n",
       "    </tr>\n",
       "    <tr>\n",
       "      <td>1</td>\n",
       "      <td>CLIMBLODGE LIMITED</td>\n",
       "      <td>02456689</td>\n",
       "      <td>NW</td>\n",
       "      <td>41100</td>\n",
       "      <td>1345</td>\n",
       "      <td>1</td>\n",
       "    </tr>\n",
       "  </tbody>\n",
       "</table>\n",
       "</div>"
      ],
      "text/plain": [
       "                         CompanyName CompanyNumber Outcode    Sic  Tenure  \\\n",
       "0  2 ERSKINE ROAD MANAGEMENT LIMITED      02456613      NW  98000   10902   \n",
       "1                 CLIMBLODGE LIMITED      02456689      NW  41100    1345   \n",
       "\n",
       "   Event  \n",
       "0      0  \n",
       "1      1  "
      ]
     },
     "execution_count": 65,
     "metadata": {},
     "output_type": "execute_result"
    }
   ],
   "source": [
    "medit = medit[['CompanyName', 'CompanyNumber', 'Outcode', 'Sic', 'Tenure', 'Event']]\n",
    "medit.sort_values(by=['CompanyNumber', 'Sic'], ascending=True, inplace=True)\n",
    "medit.reset_index(drop=True, inplace=True)\n",
    "\n",
    "medit.head(2)"
   ]
  },
  {
   "cell_type": "code",
   "execution_count": 66,
   "metadata": {},
   "outputs": [],
   "source": [
    "# medit.to_csv('loan_1st_by_sic.csv')"
   ]
  },
  {
   "cell_type": "markdown",
   "metadata": {},
   "source": [
    "## Start SA "
   ]
  },
  {
   "cell_type": "code",
   "execution_count": 34,
   "metadata": {},
   "outputs": [],
   "source": [
    "kmf = KaplanMeierFitter()"
   ]
  },
  {
   "cell_type": "code",
   "execution_count": 35,
   "metadata": {},
   "outputs": [
    {
     "data": {
      "text/plain": [
       "<matplotlib.axes._subplots.AxesSubplot at 0x1ae034ae160>"
      ]
     },
     "execution_count": 35,
     "metadata": {},
     "output_type": "execute_result"
    },
    {
     "data": {
      "image/png": "[encoded data removed]",
      "text/plain": [
       "<Figure size 432x288 with 1 Axes>"
      ]
     },
     "metadata": {
      "needs_background": "light"
     },
     "output_type": "display_data"
    }
   ],
   "source": [
    "kmf.fit(medit.Tenure, medit.Event, label='Kaplan Meier Estimate')\n",
    "kmf.plot(ci_show=False)"
   ]
  },
  {
   "cell_type": "code",
   "execution_count": 39,
   "metadata": {},
   "outputs": [],
   "source": [
    "T = medit.Tenure\n",
    "E = medit.Event\n",
    "groups = medit.Sic\n",
    "chemists = (groups == '47730')\n",
    "dentists = (groups == '86230')"
   ]
  },
  {
   "cell_type": "code",
   "execution_count": 40,
   "metadata": {},
   "outputs": [
    {
     "data": {
      "text/plain": [
       "<matplotlib.axes._subplots.AxesSubplot at 0x1ae01d07160>"
      ]
     },
     "execution_count": 40,
     "metadata": {},
     "output_type": "execute_result"
    },
    {
     "data": {
      "image/png": "[encoded data removed]",
      "text/plain": [
       "<Figure size 432x288 with 1 Axes>"
      ]
     },
     "metadata": {
      "needs_background": "light"
     },
     "output_type": "display_data"
    }
   ],
   "source": [
    "kmf1 = KaplanMeierFitter()\n",
    "\n",
    "## fit the model for 1st cohort\n",
    "kmf1.fit(T[dentists], E[dentists], label='Dentists')\n",
    "a1 = kmf1.plot(loc=slice(0, 730))\n",
    "\n",
    "## fit the model for 2nd cohort\n",
    "kmf1.fit(T[chemists], E[chemists], label='Chemists')\n",
    "kmf1.plot(ax=a1, loc=slice(0, 730))"
   ]
  },
  {
   "cell_type": "code",
   "execution_count": 42,
   "metadata": {},
   "outputs": [],
   "source": [
    "dedit = medit.copy()\n",
    "dedit = dedit[dedit.Sic == '86230']\n",
    "\n",
    "T2 = dedit.Tenure\n",
    "E2 = dedit.Event\n",
    "groups = dedit.Outcode\n",
    "se = (groups == 'SE')\n",
    "sw = (groups == 'SW')\n",
    "nw = (groups == 'NW')"
   ]
  },
  {
   "cell_type": "code",
   "execution_count": 43,
   "metadata": {},
   "outputs": [
    {
     "data": {
      "text/plain": [
       "<matplotlib.axes._subplots.AxesSubplot at 0x1ae01ecdc18>"
      ]
     },
     "execution_count": 43,
     "metadata": {},
     "output_type": "execute_result"
    },
    {
     "data": {
      "image/png": "[encoded data removed]",
      "text/plain": [
       "<Figure size 432x288 with 1 Axes>"
      ]
     },
     "metadata": {
      "needs_background": "light"
     },
     "output_type": "display_data"
    }
   ],
   "source": [
    "kmf2 = KaplanMeierFitter()\n",
    "\n",
    "kmf2.fit(T2[se], E2[se], label='SE')\n",
    "a2 = kmf2.plot(loc=slice(0, 730))\n",
    "\n",
    "\n",
    "kmf2.fit(T2[sw], E2[sw], label='SW')\n",
    "\n",
    "kmf2.plot(ax=a2, loc=slice(0, 730))"
   ]
  },
  {
   "cell_type": "code",
   "execution_count": null,
   "metadata": {},
   "outputs": [],
   "source": []
  }
 ],
 "metadata": {
  "kernelspec": {
   "display_name": "Python 3",
   "language": "python",
   "name": "python3"
  },
  "language_info": {
   "codemirror_mode": {
    "name": "ipython",
    "version": 3
   },
   "file_extension": ".py",
   "mimetype": "text/x-python",
   "name": "python",
   "nbconvert_exporter": "python",
   "pygments_lexer": "ipython3",
   "version": "3.7.3"
  }
 },
 "nbformat": 4,
 "nbformat_minor": 2
}
