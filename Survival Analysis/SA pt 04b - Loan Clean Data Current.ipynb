{
 "cells": [
  {
   "cell_type": "code",
   "execution_count": 1,
   "metadata": {},
   "outputs": [],
   "source": [
    "import numpy as np\n",
    "import pandas as pd\n",
    "import matplotlib.pyplot as plt\n",
    "import requests\n",
    "from datetime import datetime\n",
    "from pprint import pprint\n",
    "from lifelines import KaplanMeierFitter\n",
    "from lifelines import CoxPHFitter"
   ]
  },
  {
   "cell_type": "code",
   "execution_count": 2,
   "metadata": {},
   "outputs": [],
   "source": [
    "### Produce loan recurrence clean data from current Mongo data for web app"
   ]
  },
  {
   "cell_type": "code",
   "execution_count": 3,
   "metadata": {},
   "outputs": [
    {
     "name": "stdout",
     "output_type": "stream",
     "text": [
      "(4618381, 8)\n"
     ]
    },
    {
     "data": {
      "text/html": [
       "<div>\n",
       "<style scoped>\n",
       "    .dataframe tbody tr th:only-of-type {\n",
       "        vertical-align: middle;\n",
       "    }\n",
       "\n",
       "    .dataframe tbody tr th {\n",
       "        vertical-align: top;\n",
       "    }\n",
       "\n",
       "    .dataframe thead th {\n",
       "        text-align: right;\n",
       "    }\n",
       "</style>\n",
       "<table border=\"1\" class=\"dataframe\">\n",
       "  <thead>\n",
       "    <tr style=\"text-align: right;\">\n",
       "      <th></th>\n",
       "      <th>CompanyName</th>\n",
       "      <th>CompanyNumber</th>\n",
       "      <th>SICCode</th>\n",
       "      <th>CompanyStatus</th>\n",
       "      <th>RegAddress.Country</th>\n",
       "      <th>RegAddress.Region</th>\n",
       "      <th>IncorporationDate</th>\n",
       "      <th>Mortgages.NumMortCharges</th>\n",
       "    </tr>\n",
       "  </thead>\n",
       "  <tbody>\n",
       "    <tr>\n",
       "      <td>0</td>\n",
       "      <td>! LTD</td>\n",
       "      <td>08209948</td>\n",
       "      <td>[{\"code\":\"99999\",\"description\":\"Dormant Compan...</td>\n",
       "      <td>Active</td>\n",
       "      <td>ENGLAND</td>\n",
       "      <td>YORKSHIRE AND THE HUMBER</td>\n",
       "      <td>2012-09-11T00:00:00.000Z</td>\n",
       "      <td>0.0</td>\n",
       "    </tr>\n",
       "    <tr>\n",
       "      <td>1</td>\n",
       "      <td>!? LTD</td>\n",
       "      <td>11399177</td>\n",
       "      <td>[{\"code\":\"47710\",\"description\":\"Retail sale of...</td>\n",
       "      <td>Active</td>\n",
       "      <td>ENGLAND</td>\n",
       "      <td>NORTH WEST</td>\n",
       "      <td>2018-06-05T00:00:00.000Z</td>\n",
       "      <td>0.0</td>\n",
       "    </tr>\n",
       "  </tbody>\n",
       "</table>\n",
       "</div>"
      ],
      "text/plain": [
       "  CompanyName CompanyNumber  \\\n",
       "0       ! LTD      08209948   \n",
       "1      !? LTD      11399177   \n",
       "\n",
       "                                             SICCode CompanyStatus  \\\n",
       "0  [{\"code\":\"99999\",\"description\":\"Dormant Compan...        Active   \n",
       "1  [{\"code\":\"47710\",\"description\":\"Retail sale of...        Active   \n",
       "\n",
       "  RegAddress.Country         RegAddress.Region         IncorporationDate  \\\n",
       "0            ENGLAND  YORKSHIRE AND THE HUMBER  2012-09-11T00:00:00.000Z   \n",
       "1            ENGLAND                NORTH WEST  2018-06-05T00:00:00.000Z   \n",
       "\n",
       "   Mortgages.NumMortCharges  \n",
       "0                       0.0  \n",
       "1                       0.0  "
      ]
     },
     "execution_count": 3,
     "metadata": {},
     "output_type": "execute_result"
    }
   ],
   "source": [
    "corig = pd.read_csv('companies_sa.csv', dtype={'CompanyNumber': str})\n",
    "\n",
    "corig = corig[['CompanyName', 'CompanyNumber', 'SICCode', 'CompanyStatus',\n",
    "               'RegAddress.Country', 'RegAddress.Region', 'IncorporationDate',\n",
    "               'Mortgages.NumMortCharges']]\n",
    "\n",
    "print(corig.shape)\n",
    "corig.head(2)"
   ]
  },
  {
   "cell_type": "code",
   "execution_count": 4,
   "metadata": {},
   "outputs": [
    {
     "name": "stdout",
     "output_type": "stream",
     "text": [
      "(2880040, 9)\n"
     ]
    },
    {
     "data": {
      "text/html": [
       "<div>\n",
       "<style scoped>\n",
       "    .dataframe tbody tr th:only-of-type {\n",
       "        vertical-align: middle;\n",
       "    }\n",
       "\n",
       "    .dataframe tbody tr th {\n",
       "        vertical-align: top;\n",
       "    }\n",
       "\n",
       "    .dataframe thead th {\n",
       "        text-align: right;\n",
       "    }\n",
       "</style>\n",
       "<table border=\"1\" class=\"dataframe\">\n",
       "  <thead>\n",
       "    <tr style=\"text-align: right;\">\n",
       "      <th></th>\n",
       "      <th>_id</th>\n",
       "      <th>CompanyNumber</th>\n",
       "      <th>charge_number</th>\n",
       "      <th>delivered_on</th>\n",
       "      <th>status</th>\n",
       "      <th>secured_details.description</th>\n",
       "      <th>secured_details.type</th>\n",
       "      <th>particulars.description</th>\n",
       "      <th>particulars.type</th>\n",
       "    </tr>\n",
       "  </thead>\n",
       "  <tbody>\n",
       "    <tr>\n",
       "      <td>0</td>\n",
       "      <td>ObjectId(5d4c1ff81051770017a198bb)</td>\n",
       "      <td>00609565</td>\n",
       "      <td>116</td>\n",
       "      <td>1988-02-15T00:00:00.000Z</td>\n",
       "      <td>outstanding</td>\n",
       "      <td>For further securing the moneys secured by the...</td>\n",
       "      <td>amount-secured</td>\n",
       "      <td>All the rights title and interest of the compa...</td>\n",
       "      <td>short-particulars</td>\n",
       "    </tr>\n",
       "    <tr>\n",
       "      <td>1</td>\n",
       "      <td>ObjectId(5d4c1ff81051770017a198bc)</td>\n",
       "      <td>00609565</td>\n",
       "      <td>115</td>\n",
       "      <td>1988-01-15T00:00:00.000Z</td>\n",
       "      <td>outstanding</td>\n",
       "      <td>For further securing the moneys secured by the...</td>\n",
       "      <td>amount-secured</td>\n",
       "      <td>All the rights title &amp; interest of the company...</td>\n",
       "      <td>short-particulars</td>\n",
       "    </tr>\n",
       "  </tbody>\n",
       "</table>\n",
       "</div>"
      ],
      "text/plain": [
       "                                  _id CompanyNumber  charge_number  \\\n",
       "0  ObjectId(5d4c1ff81051770017a198bb)      00609565            116   \n",
       "1  ObjectId(5d4c1ff81051770017a198bc)      00609565            115   \n",
       "\n",
       "               delivered_on       status  \\\n",
       "0  1988-02-15T00:00:00.000Z  outstanding   \n",
       "1  1988-01-15T00:00:00.000Z  outstanding   \n",
       "\n",
       "                         secured_details.description secured_details.type  \\\n",
       "0  For further securing the moneys secured by the...       amount-secured   \n",
       "1  For further securing the moneys secured by the...       amount-secured   \n",
       "\n",
       "                             particulars.description   particulars.type  \n",
       "0  All the rights title and interest of the compa...  short-particulars  \n",
       "1  All the rights title & interest of the company...  short-particulars  "
      ]
     },
     "execution_count": 4,
     "metadata": {},
     "output_type": "execute_result"
    }
   ],
   "source": [
    "horig = pd.read_csv('charges_sa.csv', dtype={'CompanyNumber': str})\n",
    "\n",
    "print(horig.shape)\n",
    "horig.head(2)"
   ]
  },
  {
   "cell_type": "code",
   "execution_count": 5,
   "metadata": {},
   "outputs": [
    {
     "data": {
      "text/html": [
       "<div>\n",
       "<style scoped>\n",
       "    .dataframe tbody tr th:only-of-type {\n",
       "        vertical-align: middle;\n",
       "    }\n",
       "\n",
       "    .dataframe tbody tr th {\n",
       "        vertical-align: top;\n",
       "    }\n",
       "\n",
       "    .dataframe thead th {\n",
       "        text-align: right;\n",
       "    }\n",
       "</style>\n",
       "<table border=\"1\" class=\"dataframe\">\n",
       "  <thead>\n",
       "    <tr style=\"text-align: right;\">\n",
       "      <th></th>\n",
       "      <th>CompanyNumber</th>\n",
       "      <th>charge_number</th>\n",
       "      <th>delivered_on</th>\n",
       "    </tr>\n",
       "  </thead>\n",
       "  <tbody>\n",
       "    <tr>\n",
       "      <td>0</td>\n",
       "      <td>00609565</td>\n",
       "      <td>116</td>\n",
       "      <td>1988-02-15T00:00:00.000Z</td>\n",
       "    </tr>\n",
       "    <tr>\n",
       "      <td>1</td>\n",
       "      <td>00609565</td>\n",
       "      <td>115</td>\n",
       "      <td>1988-01-15T00:00:00.000Z</td>\n",
       "    </tr>\n",
       "  </tbody>\n",
       "</table>\n",
       "</div>"
      ],
      "text/plain": [
       "  CompanyNumber  charge_number              delivered_on\n",
       "0      00609565            116  1988-02-15T00:00:00.000Z\n",
       "1      00609565            115  1988-01-15T00:00:00.000Z"
      ]
     },
     "execution_count": 5,
     "metadata": {},
     "output_type": "execute_result"
    }
   ],
   "source": [
    "horig = horig[['CompanyNumber', 'charge_number', 'delivered_on']]\n",
    "\n",
    "horig.head(2)"
   ]
  },
  {
   "cell_type": "code",
   "execution_count": 6,
   "metadata": {},
   "outputs": [],
   "source": [
    "cedit = corig.copy()\n",
    "hedit = horig.copy()"
   ]
  },
  {
   "cell_type": "markdown",
   "metadata": {},
   "source": [
    "## Clean and Merge Data"
   ]
  },
  {
   "cell_type": "code",
   "execution_count": 7,
   "metadata": {
    "scrolled": true
   },
   "outputs": [
    {
     "name": "stdout",
     "output_type": "stream",
     "text": [
      "(6858045, 10)\n",
      "4618381\n"
     ]
    },
    {
     "data": {
      "text/html": [
       "<div>\n",
       "<style scoped>\n",
       "    .dataframe tbody tr th:only-of-type {\n",
       "        vertical-align: middle;\n",
       "    }\n",
       "\n",
       "    .dataframe tbody tr th {\n",
       "        vertical-align: top;\n",
       "    }\n",
       "\n",
       "    .dataframe thead th {\n",
       "        text-align: right;\n",
       "    }\n",
       "</style>\n",
       "<table border=\"1\" class=\"dataframe\">\n",
       "  <thead>\n",
       "    <tr style=\"text-align: right;\">\n",
       "      <th></th>\n",
       "      <th>CompanyNumber</th>\n",
       "      <th>charge_number</th>\n",
       "      <th>delivered_on</th>\n",
       "      <th>CompanyName</th>\n",
       "      <th>SICCode</th>\n",
       "      <th>CompanyStatus</th>\n",
       "      <th>RegAddress.Country</th>\n",
       "      <th>RegAddress.Region</th>\n",
       "      <th>IncorporationDate</th>\n",
       "      <th>Mortgages.NumMortCharges</th>\n",
       "    </tr>\n",
       "  </thead>\n",
       "  <tbody>\n",
       "    <tr>\n",
       "      <td>0</td>\n",
       "      <td>00609565</td>\n",
       "      <td>116.0</td>\n",
       "      <td>1988-02-15T00:00:00.000Z</td>\n",
       "      <td>E.L. COOK ELECTRICAL LIMITED</td>\n",
       "      <td>[]</td>\n",
       "      <td>Administration</td>\n",
       "      <td>ENGLAND</td>\n",
       "      <td>EAST MIDLANDS</td>\n",
       "      <td>1958-08-13T00:00:00.000Z</td>\n",
       "      <td>116.0</td>\n",
       "    </tr>\n",
       "    <tr>\n",
       "      <td>1</td>\n",
       "      <td>00609565</td>\n",
       "      <td>115.0</td>\n",
       "      <td>1988-01-15T00:00:00.000Z</td>\n",
       "      <td>E.L. COOK ELECTRICAL LIMITED</td>\n",
       "      <td>[]</td>\n",
       "      <td>Administration</td>\n",
       "      <td>ENGLAND</td>\n",
       "      <td>EAST MIDLANDS</td>\n",
       "      <td>1958-08-13T00:00:00.000Z</td>\n",
       "      <td>116.0</td>\n",
       "    </tr>\n",
       "  </tbody>\n",
       "</table>\n",
       "</div>"
      ],
      "text/plain": [
       "  CompanyNumber  charge_number              delivered_on  \\\n",
       "0      00609565          116.0  1988-02-15T00:00:00.000Z   \n",
       "1      00609565          115.0  1988-01-15T00:00:00.000Z   \n",
       "\n",
       "                    CompanyName SICCode   CompanyStatus RegAddress.Country  \\\n",
       "0  E.L. COOK ELECTRICAL LIMITED      []  Administration            ENGLAND   \n",
       "1  E.L. COOK ELECTRICAL LIMITED      []  Administration            ENGLAND   \n",
       "\n",
       "  RegAddress.Region         IncorporationDate  Mortgages.NumMortCharges  \n",
       "0     EAST MIDLANDS  1958-08-13T00:00:00.000Z                     116.0  \n",
       "1     EAST MIDLANDS  1958-08-13T00:00:00.000Z                     116.0  "
      ]
     },
     "execution_count": 7,
     "metadata": {},
     "output_type": "execute_result"
    }
   ],
   "source": [
    "medit = pd.merge(hedit, cedit, how='right', on='CompanyNumber')\n",
    "\n",
    "print(medit.shape)\n",
    "print(len(medit.CompanyNumber.unique())) # ensure zero charges companies are kept\n",
    "medit.head(2)"
   ]
  },
  {
   "cell_type": "code",
   "execution_count": 8,
   "metadata": {},
   "outputs": [
    {
     "data": {
      "text/html": [
       "<div>\n",
       "<style scoped>\n",
       "    .dataframe tbody tr th:only-of-type {\n",
       "        vertical-align: middle;\n",
       "    }\n",
       "\n",
       "    .dataframe tbody tr th {\n",
       "        vertical-align: top;\n",
       "    }\n",
       "\n",
       "    .dataframe thead th {\n",
       "        text-align: right;\n",
       "    }\n",
       "</style>\n",
       "<table border=\"1\" class=\"dataframe\">\n",
       "  <thead>\n",
       "    <tr style=\"text-align: right;\">\n",
       "      <th></th>\n",
       "      <th>CompanyNumber</th>\n",
       "      <th>charge_number</th>\n",
       "      <th>delivered_on</th>\n",
       "      <th>CompanyName</th>\n",
       "      <th>SICCode</th>\n",
       "      <th>CompanyStatus</th>\n",
       "      <th>RegAddress.Country</th>\n",
       "      <th>RegAddress.Region</th>\n",
       "      <th>IncorporationDate</th>\n",
       "      <th>Mortgages.NumMortCharges</th>\n",
       "    </tr>\n",
       "  </thead>\n",
       "  <tbody>\n",
       "    <tr>\n",
       "      <td>6858043</td>\n",
       "      <td>12292984</td>\n",
       "      <td>NaN</td>\n",
       "      <td>NaN</td>\n",
       "      <td>RICHMOND COMPUTER REPAIR CENTRE LTD</td>\n",
       "      <td>[{\"code\":\"95110\",\"description\":\"Repair of comp...</td>\n",
       "      <td>Active</td>\n",
       "      <td>ENGLAND</td>\n",
       "      <td>LONDON</td>\n",
       "      <td>2019-11-01T00:00:00.000Z</td>\n",
       "      <td>NaN</td>\n",
       "    </tr>\n",
       "    <tr>\n",
       "      <td>6858044</td>\n",
       "      <td>12319696</td>\n",
       "      <td>NaN</td>\n",
       "      <td>NaN</td>\n",
       "      <td>CYBERKAI LTD</td>\n",
       "      <td>[{\"code\":\"63990\",\"description\":\"Other informat...</td>\n",
       "      <td>Active</td>\n",
       "      <td>ENGLAND</td>\n",
       "      <td>LONDON</td>\n",
       "      <td>2019-11-18T00:00:00.000Z</td>\n",
       "      <td>NaN</td>\n",
       "    </tr>\n",
       "  </tbody>\n",
       "</table>\n",
       "</div>"
      ],
      "text/plain": [
       "        CompanyNumber  charge_number delivered_on  \\\n",
       "6858043      12292984            NaN          NaN   \n",
       "6858044      12319696            NaN          NaN   \n",
       "\n",
       "                                 CompanyName  \\\n",
       "6858043  RICHMOND COMPUTER REPAIR CENTRE LTD   \n",
       "6858044                         CYBERKAI LTD   \n",
       "\n",
       "                                                   SICCode CompanyStatus  \\\n",
       "6858043  [{\"code\":\"95110\",\"description\":\"Repair of comp...        Active   \n",
       "6858044  [{\"code\":\"63990\",\"description\":\"Other informat...        Active   \n",
       "\n",
       "        RegAddress.Country RegAddress.Region         IncorporationDate  \\\n",
       "6858043            ENGLAND            LONDON  2019-11-01T00:00:00.000Z   \n",
       "6858044            ENGLAND            LONDON  2019-11-18T00:00:00.000Z   \n",
       "\n",
       "         Mortgages.NumMortCharges  \n",
       "6858043                       NaN  \n",
       "6858044                       NaN  "
      ]
     },
     "execution_count": 8,
     "metadata": {},
     "output_type": "execute_result"
    }
   ],
   "source": [
    "### Our censors (right-censored). \n",
    "medit.tail(2)"
   ]
  },
  {
   "cell_type": "code",
   "execution_count": 9,
   "metadata": {},
   "outputs": [],
   "source": [
    "def event(x):\n",
    "    if x >= 1:\n",
    "        return 1\n",
    "    else:\n",
    "        return 0"
   ]
  },
  {
   "cell_type": "code",
   "execution_count": 10,
   "metadata": {},
   "outputs": [],
   "source": [
    "def extract_sics(x):\n",
    "    sic_string = ''\n",
    "    for i in x.split('\"'):\n",
    "        if i.isdigit():\n",
    "            sic_string += (str(i) + ' ')\n",
    "    return sic_string.strip()"
   ]
  },
  {
   "cell_type": "code",
   "execution_count": 11,
   "metadata": {},
   "outputs": [
    {
     "data": {
      "text/plain": [
       "ENGLAND             6045852\n",
       "SCOTLAND             385907\n",
       "WALES                179255\n",
       "NORTHERN IRELAND     108465\n",
       "UNKNOWN               58687\n",
       "UNITED KINGDOM        10689\n",
       "CHANNEL ISLANDS         505\n",
       "ISLE OF MAN             381\n",
       "JERSEY                  293\n",
       "UNITED STATES           265\n",
       "Name: RegAddress.Country, dtype: int64"
      ]
     },
     "execution_count": 11,
     "metadata": {},
     "output_type": "execute_result"
    }
   ],
   "source": [
    "medit['RegAddress.Country'].value_counts()[:10]"
   ]
  },
  {
   "cell_type": "code",
   "execution_count": 12,
   "metadata": {},
   "outputs": [
    {
     "name": "stdout",
     "output_type": "stream",
     "text": [
      "(4700035, 13)\n"
     ]
    },
    {
     "data": {
      "text/html": [
       "<div>\n",
       "<style scoped>\n",
       "    .dataframe tbody tr th:only-of-type {\n",
       "        vertical-align: middle;\n",
       "    }\n",
       "\n",
       "    .dataframe tbody tr th {\n",
       "        vertical-align: top;\n",
       "    }\n",
       "\n",
       "    .dataframe thead th {\n",
       "        text-align: right;\n",
       "    }\n",
       "</style>\n",
       "<table border=\"1\" class=\"dataframe\">\n",
       "  <thead>\n",
       "    <tr style=\"text-align: right;\">\n",
       "      <th></th>\n",
       "      <th>CompanyNumber</th>\n",
       "      <th>charge_number</th>\n",
       "      <th>delivered_on</th>\n",
       "      <th>CompanyName</th>\n",
       "      <th>SICCode</th>\n",
       "      <th>CompanyStatus</th>\n",
       "      <th>RegAddress.Country</th>\n",
       "      <th>RegAddress.Region</th>\n",
       "      <th>IncorporationDate</th>\n",
       "      <th>Mortgages.NumMortCharges</th>\n",
       "      <th>Sics</th>\n",
       "      <th>Event</th>\n",
       "      <th>Tenure</th>\n",
       "    </tr>\n",
       "  </thead>\n",
       "  <tbody>\n",
       "    <tr>\n",
       "      <td>602</td>\n",
       "      <td>SC304636</td>\n",
       "      <td>1.0</td>\n",
       "      <td>2006-09-15 00:00:00+00:00</td>\n",
       "      <td>FLEMINGTON SECURITIES LIMITED</td>\n",
       "      <td>[{\"code\":\"82990\",\"description\":\"Other business...</td>\n",
       "      <td>Administration</td>\n",
       "      <td>SCOTLAND</td>\n",
       "      <td>NaN</td>\n",
       "      <td>2006-06-28 00:00:00+00:00</td>\n",
       "      <td>1.0</td>\n",
       "      <td>82990</td>\n",
       "      <td>1</td>\n",
       "      <td>79</td>\n",
       "    </tr>\n",
       "    <tr>\n",
       "      <td>636</td>\n",
       "      <td>04191312</td>\n",
       "      <td>148.0</td>\n",
       "      <td>2006-04-25 00:00:00+00:00</td>\n",
       "      <td>TOPLAND PORTFOLIO NO.1 LIMITED</td>\n",
       "      <td>[{\"code\":\"41100\",\"description\":\"Development of...</td>\n",
       "      <td>Liquidation</td>\n",
       "      <td>ENGLAND</td>\n",
       "      <td>LONDON</td>\n",
       "      <td>2001-03-30 00:00:00+00:00</td>\n",
       "      <td>133.0</td>\n",
       "      <td>41100</td>\n",
       "      <td>1</td>\n",
       "      <td>1852</td>\n",
       "    </tr>\n",
       "  </tbody>\n",
       "</table>\n",
       "</div>"
      ],
      "text/plain": [
       "    CompanyNumber  charge_number              delivered_on  \\\n",
       "602      SC304636            1.0 2006-09-15 00:00:00+00:00   \n",
       "636      04191312          148.0 2006-04-25 00:00:00+00:00   \n",
       "\n",
       "                        CompanyName  \\\n",
       "602   FLEMINGTON SECURITIES LIMITED   \n",
       "636  TOPLAND PORTFOLIO NO.1 LIMITED   \n",
       "\n",
       "                                               SICCode   CompanyStatus  \\\n",
       "602  [{\"code\":\"82990\",\"description\":\"Other business...  Administration   \n",
       "636  [{\"code\":\"41100\",\"description\":\"Development of...     Liquidation   \n",
       "\n",
       "    RegAddress.Country RegAddress.Region         IncorporationDate  \\\n",
       "602           SCOTLAND               NaN 2006-06-28 00:00:00+00:00   \n",
       "636            ENGLAND            LONDON 2001-03-30 00:00:00+00:00   \n",
       "\n",
       "     Mortgages.NumMortCharges   Sics  Event  Tenure  \n",
       "602                       1.0  82990      1      79  \n",
       "636                     133.0  41100      1    1852  "
      ]
     },
     "execution_count": 12,
     "metadata": {},
     "output_type": "execute_result"
    }
   ],
   "source": [
    "medit = medit[medit['RegAddress.Country'].isin(['ENGLAND', 'SCOTLAND', 'WALES', 'NORTHERN IRELAND '])]\n",
    "medit = medit[medit.SICCode.notnull()]\n",
    "medit['Sics'] = medit.SICCode.apply(extract_sics)\n",
    "medit = medit[medit.Sics.notnull()]\n",
    "medit = medit[medit.Sics != '']\n",
    "medit.delivered_on.fillna(value=datetime.now(), inplace=True)\n",
    "medit.delivered_on = pd.to_datetime(medit.delivered_on, utc=True)\n",
    "medit = medit[medit.IncorporationDate.notnull()]\n",
    "medit.IncorporationDate = pd.to_datetime(medit.IncorporationDate, utc=True, errors='coerce')\n",
    "medit = medit[medit.IncorporationDate > '2000-01-01']\n",
    "medit['Event'] = medit['Mortgages.NumMortCharges'].apply(event)\n",
    "medit['Tenure'] = (medit.delivered_on - medit.IncorporationDate).dt.days\n",
    "medit = medit[medit.Tenure > 0]\n",
    "\n",
    "print(medit.shape)\n",
    "medit.head(2)"
   ]
  },
  {
   "cell_type": "code",
   "execution_count": 13,
   "metadata": {},
   "outputs": [
    {
     "name": "stdout",
     "output_type": "stream",
     "text": [
      "<class 'pandas.core.frame.DataFrame'>\n",
      "Int64Index: 4700035 entries, 602 to 6858044\n",
      "Data columns (total 13 columns):\n",
      "CompanyNumber               4700035 non-null object\n",
      "charge_number               1156681 non-null float64\n",
      "delivered_on                4700035 non-null datetime64[ns, UTC]\n",
      "CompanyName                 4700035 non-null object\n",
      "SICCode                     4700035 non-null object\n",
      "CompanyStatus               4700035 non-null object\n",
      "RegAddress.Country          4700035 non-null object\n",
      "RegAddress.Region           4300568 non-null object\n",
      "IncorporationDate           4700035 non-null datetime64[ns, UTC]\n",
      "Mortgages.NumMortCharges    4480124 non-null float64\n",
      "Sics                        4700035 non-null object\n",
      "Event                       4700035 non-null int64\n",
      "Tenure                      4700035 non-null int64\n",
      "dtypes: datetime64[ns, UTC](2), float64(2), int64(2), object(7)\n",
      "memory usage: 502.0+ MB\n"
     ]
    }
   ],
   "source": [
    "medit.info(null_counts=True)"
   ]
  },
  {
   "cell_type": "code",
   "execution_count": 14,
   "metadata": {},
   "outputs": [
    {
     "data": {
      "text/plain": [
       "0    3543354\n",
       "1    1156681\n",
       "Name: Event, dtype: int64"
      ]
     },
     "execution_count": 14,
     "metadata": {},
     "output_type": "execute_result"
    }
   ],
   "source": [
    "# breakdown of event vs no event\n",
    "medit.Event.value_counts()"
   ]
  },
  {
   "cell_type": "code",
   "execution_count": 15,
   "metadata": {},
   "outputs": [
    {
     "name": "stdout",
     "output_type": "stream",
     "text": [
      "Rows in medit: 3934033\n",
      "Unique company numbers in medit: 3934033\n"
     ]
    }
   ],
   "source": [
    "medit = medit[['CompanyName', 'CompanyNumber', 'RegAddress.Country',\n",
    "               'RegAddress.Region', 'Sics', 'IncorporationDate', 'Tenure', 'Event']]\n",
    "\n",
    "# keeping only the first charge for each company\n",
    "medit.sort_values(by=['CompanyNumber', 'Tenure'], ascending=True, inplace=True)\n",
    "medit = medit.loc[medit.groupby('CompanyNumber')['Tenure'].idxmin()]\n",
    "\n",
    "# confirm only one row per company\n",
    "print(f'Rows in medit: {len(medit)}')\n",
    "print(f'Unique company numbers in medit: {len(medit.CompanyNumber.unique())}')"
   ]
  },
  {
   "cell_type": "code",
   "execution_count": 16,
   "metadata": {},
   "outputs": [
    {
     "data": {
      "text/html": [
       "<div>\n",
       "<style scoped>\n",
       "    .dataframe tbody tr th:only-of-type {\n",
       "        vertical-align: middle;\n",
       "    }\n",
       "\n",
       "    .dataframe tbody tr th {\n",
       "        vertical-align: top;\n",
       "    }\n",
       "\n",
       "    .dataframe thead th {\n",
       "        text-align: right;\n",
       "    }\n",
       "</style>\n",
       "<table border=\"1\" class=\"dataframe\">\n",
       "  <thead>\n",
       "    <tr style=\"text-align: right;\">\n",
       "      <th></th>\n",
       "      <th>CompanyName</th>\n",
       "      <th>CompanyNumber</th>\n",
       "      <th>RegAddress.Country</th>\n",
       "      <th>RegAddress.Region</th>\n",
       "      <th>Sics</th>\n",
       "      <th>IncorporationDate</th>\n",
       "      <th>Tenure</th>\n",
       "      <th>Event</th>\n",
       "    </tr>\n",
       "  </thead>\n",
       "  <tbody>\n",
       "    <tr>\n",
       "      <td>0</td>\n",
       "      <td>THE PERFORMING RIGHT SOCIETY FOUNDATION</td>\n",
       "      <td>03901665</td>\n",
       "      <td>ENGLAND</td>\n",
       "      <td>LONDON</td>\n",
       "      <td>90020</td>\n",
       "      <td>2000-01-04 00:00:00+00:00</td>\n",
       "      <td>7280</td>\n",
       "      <td>0</td>\n",
       "    </tr>\n",
       "    <tr>\n",
       "      <td>1</td>\n",
       "      <td>FOOD ETHICS COUNCIL</td>\n",
       "      <td>03901671</td>\n",
       "      <td>ENGLAND</td>\n",
       "      <td>LONDON</td>\n",
       "      <td>74990</td>\n",
       "      <td>2000-01-04 00:00:00+00:00</td>\n",
       "      <td>7280</td>\n",
       "      <td>0</td>\n",
       "    </tr>\n",
       "  </tbody>\n",
       "</table>\n",
       "</div>"
      ],
      "text/plain": [
       "                               CompanyName CompanyNumber RegAddress.Country  \\\n",
       "0  THE PERFORMING RIGHT SOCIETY FOUNDATION      03901665            ENGLAND   \n",
       "1                      FOOD ETHICS COUNCIL      03901671            ENGLAND   \n",
       "\n",
       "  RegAddress.Region   Sics         IncorporationDate  Tenure  Event  \n",
       "0            LONDON  90020 2000-01-04 00:00:00+00:00    7280      0  \n",
       "1            LONDON  74990 2000-01-04 00:00:00+00:00    7280      0  "
      ]
     },
     "execution_count": 16,
     "metadata": {},
     "output_type": "execute_result"
    }
   ],
   "source": [
    "medit.reset_index(drop=True, inplace=True)\n",
    "\n",
    "medit.head(2)"
   ]
  },
  {
   "cell_type": "code",
   "execution_count": 17,
   "metadata": {},
   "outputs": [
    {
     "name": "stdout",
     "output_type": "stream",
     "text": [
      "<class 'pandas.core.frame.DataFrame'>\n",
      "RangeIndex: 3934033 entries, 0 to 3934032\n",
      "Data columns (total 8 columns):\n",
      "CompanyName           3934033 non-null object\n",
      "CompanyNumber         3934033 non-null object\n",
      "RegAddress.Country    3934033 non-null object\n",
      "RegAddress.Region     3608895 non-null object\n",
      "Sics                  3934033 non-null object\n",
      "IncorporationDate     3934033 non-null datetime64[ns, UTC]\n",
      "Tenure                3934033 non-null int64\n",
      "Event                 3934033 non-null int64\n",
      "dtypes: datetime64[ns, UTC](1), int64(2), object(5)\n",
      "memory usage: 240.1+ MB\n"
     ]
    }
   ],
   "source": [
    "medit.info(null_counts=True)"
   ]
  },
  {
   "cell_type": "code",
   "execution_count": 18,
   "metadata": {},
   "outputs": [],
   "source": [
    "# medit.to_csv('loan_1st_by_sic_new.csv')"
   ]
  },
  {
   "cell_type": "code",
   "execution_count": 22,
   "metadata": {},
   "outputs": [],
   "source": [
    "medit = medit[['RegAddress.Country', 'RegAddress.Region', 'Sics', 'Tenure', 'Event']]"
   ]
  },
  {
   "cell_type": "code",
   "execution_count": 23,
   "metadata": {},
   "outputs": [],
   "source": [
    "# medit.to_csv('loan_1st_by_sic_min.csv')"
   ]
  },
  {
   "cell_type": "markdown",
   "metadata": {},
   "source": [
    "## Start SA "
   ]
  },
  {
   "cell_type": "code",
   "execution_count": 62,
   "metadata": {},
   "outputs": [],
   "source": [
    "kmf = KaplanMeierFitter()"
   ]
  },
  {
   "cell_type": "code",
   "execution_count": 63,
   "metadata": {},
   "outputs": [
    {
     "data": {
      "text/plain": [
       "<matplotlib.axes._subplots.AxesSubplot at 0x255ac37e4e0>"
      ]
     },
     "execution_count": 63,
     "metadata": {},
     "output_type": "execute_result"
    },
    {
     "data": {
      "image/png": "[encoded data removed]",
      "text/plain": [
       "<Figure size 432x288 with 1 Axes>"
      ]
     },
     "metadata": {
      "needs_background": "light"
     },
     "output_type": "display_data"
    }
   ],
   "source": [
    "kmf.fit(medit.Tenure, medit.Event, label='Kaplan Meier Estimate')\n",
    "kmf.plot(ci_show=False)"
   ]
  },
  {
   "cell_type": "code",
   "execution_count": 64,
   "metadata": {},
   "outputs": [],
   "source": [
    "T = medit.Tenure\n",
    "E = medit.Event\n",
    "groups = medit.Sics\n",
    "type(groups)\n",
    "chemists = (groups.str.contains('47730'))\n",
    "dentists = (groups.str.contains('86230'))"
   ]
  },
  {
   "cell_type": "code",
   "execution_count": 65,
   "metadata": {},
   "outputs": [
    {
     "data": {
      "text/html": [
       "<div>\n",
       "<style scoped>\n",
       "    .dataframe tbody tr th:only-of-type {\n",
       "        vertical-align: middle;\n",
       "    }\n",
       "\n",
       "    .dataframe tbody tr th {\n",
       "        vertical-align: top;\n",
       "    }\n",
       "\n",
       "    .dataframe thead th {\n",
       "        text-align: right;\n",
       "    }\n",
       "</style>\n",
       "<table border=\"1\" class=\"dataframe\">\n",
       "  <thead>\n",
       "    <tr style=\"text-align: right;\">\n",
       "      <th></th>\n",
       "      <th>RegAddress.Country</th>\n",
       "      <th>RegAddress.Region</th>\n",
       "      <th>Sics</th>\n",
       "      <th>IncorporationDate</th>\n",
       "      <th>Tenure</th>\n",
       "      <th>Event</th>\n",
       "    </tr>\n",
       "  </thead>\n",
       "  <tbody>\n",
       "    <tr>\n",
       "      <td>5071</td>\n",
       "      <td>ENGLAND</td>\n",
       "      <td>SOUTH EAST</td>\n",
       "      <td>86230</td>\n",
       "      <td>1980-12-12 00:00:00+00:00</td>\n",
       "      <td>2891</td>\n",
       "      <td>1</td>\n",
       "    </tr>\n",
       "    <tr>\n",
       "      <td>5599</td>\n",
       "      <td>ENGLAND</td>\n",
       "      <td>SOUTH EAST</td>\n",
       "      <td>85590 86230</td>\n",
       "      <td>1981-01-27 00:00:00+00:00</td>\n",
       "      <td>14195</td>\n",
       "      <td>0</td>\n",
       "    </tr>\n",
       "  </tbody>\n",
       "</table>\n",
       "</div>"
      ],
      "text/plain": [
       "     RegAddress.Country RegAddress.Region         Sics  \\\n",
       "5071            ENGLAND        SOUTH EAST        86230   \n",
       "5599            ENGLAND        SOUTH EAST  85590 86230   \n",
       "\n",
       "             IncorporationDate  Tenure  Event  \n",
       "5071 1980-12-12 00:00:00+00:00    2891      1  \n",
       "5599 1981-01-27 00:00:00+00:00   14195      0  "
      ]
     },
     "execution_count": 65,
     "metadata": {},
     "output_type": "execute_result"
    }
   ],
   "source": [
    "medit.loc[dentists[dentists == True].index].head(2)"
   ]
  },
  {
   "cell_type": "code",
   "execution_count": 66,
   "metadata": {},
   "outputs": [
    {
     "data": {
      "text/plain": [
       "<matplotlib.axes._subplots.AxesSubplot at 0x255ac31c940>"
      ]
     },
     "execution_count": 66,
     "metadata": {},
     "output_type": "execute_result"
    },
    {
     "data": {
      "image/png": "[encoded data removed]",
      "text/plain": [
       "<Figure size 432x288 with 1 Axes>"
      ]
     },
     "metadata": {
      "needs_background": "light"
     },
     "output_type": "display_data"
    }
   ],
   "source": [
    "kmf1 = KaplanMeierFitter()\n",
    "\n",
    "## fit the model for 1st cohort\n",
    "kmf1.fit(T[dentists], E[dentists], label='Dentists')\n",
    "a1 = kmf1.plot(loc=slice(0, 730))\n",
    "\n",
    "## fit the model for 2nd cohort\n",
    "kmf1.fit(T[chemists], E[chemists], label='Chemists')\n",
    "kmf1.plot(ax=a1, loc=slice(0, 730))"
   ]
  },
  {
   "cell_type": "code",
   "execution_count": 68,
   "metadata": {},
   "outputs": [],
   "source": [
    "dedit = medit.copy()\n",
    "dedit = dedit[dedit.Sics.str.contains('86230')]\n",
    "\n",
    "T2 = dedit.Tenure\n",
    "E2 = dedit.Event\n",
    "groups = dedit['RegAddress.Region']\n",
    "ldn = (groups == 'LONDON')\n",
    "se = (groups == 'SOUTH EAST')"
   ]
  },
  {
   "cell_type": "code",
   "execution_count": 69,
   "metadata": {},
   "outputs": [
    {
     "data": {
      "text/plain": [
       "<matplotlib.axes._subplots.AxesSubplot at 0x255abc56470>"
      ]
     },
     "execution_count": 69,
     "metadata": {},
     "output_type": "execute_result"
    },
    {
     "data": {
      "image/png": "[encoded data removed]",
      "text/plain": [
       "<Figure size 432x288 with 1 Axes>"
      ]
     },
     "metadata": {
      "needs_background": "light"
     },
     "output_type": "display_data"
    }
   ],
   "source": [
    "kmf2 = KaplanMeierFitter()\n",
    "\n",
    "kmf2.fit(T2[ldn], E2[ldn], label='London')\n",
    "a2 = kmf2.plot(loc=slice(0, 730))\n",
    "\n",
    "\n",
    "kmf2.fit(T2[se], E2[se], label='SE')\n",
    "\n",
    "kmf2.plot(ax=a2, loc=slice(0, 730))"
   ]
  },
  {
   "cell_type": "code",
   "execution_count": null,
   "metadata": {},
   "outputs": [],
   "source": []
  }
 ],
 "metadata": {
  "kernelspec": {
   "display_name": "Python 3",
   "language": "python",
   "name": "python3"
  },
  "language_info": {
   "codemirror_mode": {
    "name": "ipython",
    "version": 3
   },
   "file_extension": ".py",
   "mimetype": "text/x-python",
   "name": "python",
   "nbconvert_exporter": "python",
   "pygments_lexer": "ipython3",
   "version": "3.7.3"
  }
 },
 "nbformat": 4,
 "nbformat_minor": 2
}
