{
 "cells": [
  {
   "cell_type": "code",
   "execution_count": 91,
   "metadata": {},
   "outputs": [],
   "source": [
    "import numpy as np\n",
    "import pandas as pd\n",
    "import matplotlib.pyplot as plt\n",
    "import seaborn as sns\n",
    "import requests\n",
    "from datetime import datetime\n",
    "from pprint import pprint\n",
    "from lifelines import KaplanMeierFitter\n",
    "from lifelines import CoxPHFitter"
   ]
  },
  {
   "cell_type": "code",
   "execution_count": 2,
   "metadata": {},
   "outputs": [],
   "source": [
    "### Rank sectors by their 1st loan propensity"
   ]
  },
  {
   "cell_type": "code",
   "execution_count": 3,
   "metadata": {},
   "outputs": [
    {
     "name": "stderr",
     "output_type": "stream",
     "text": [
      "C:\\Users\\liamk\\Anaconda3\\lib\\site-packages\\numpy\\lib\\arraysetops.py:569: FutureWarning: elementwise comparison failed; returning scalar instead, but in the future will perform elementwise comparison\n",
      "  mask |= (ar1 == a)\n"
     ]
    },
    {
     "name": "stdout",
     "output_type": "stream",
     "text": [
      "(4319749, 7)\n"
     ]
    },
    {
     "data": {
      "text/html": [
       "<div>\n",
       "<style scoped>\n",
       "    .dataframe tbody tr th:only-of-type {\n",
       "        vertical-align: middle;\n",
       "    }\n",
       "\n",
       "    .dataframe tbody tr th {\n",
       "        vertical-align: top;\n",
       "    }\n",
       "\n",
       "    .dataframe thead th {\n",
       "        text-align: right;\n",
       "    }\n",
       "</style>\n",
       "<table border=\"1\" class=\"dataframe\">\n",
       "  <thead>\n",
       "    <tr style=\"text-align: right;\">\n",
       "      <th></th>\n",
       "      <th>CompanyName</th>\n",
       "      <th>CompanyNumber</th>\n",
       "      <th>RegAddress.Country</th>\n",
       "      <th>RegAddress.Region</th>\n",
       "      <th>Sics</th>\n",
       "      <th>Tenure</th>\n",
       "      <th>Event</th>\n",
       "    </tr>\n",
       "  </thead>\n",
       "  <tbody>\n",
       "    <tr>\n",
       "      <td>0</td>\n",
       "      <td>ODHAMS PRESS LIMITED</td>\n",
       "      <td>01470445</td>\n",
       "      <td>ENGLAND</td>\n",
       "      <td>LONDON</td>\n",
       "      <td>99999</td>\n",
       "      <td>13979</td>\n",
       "      <td>1</td>\n",
       "    </tr>\n",
       "    <tr>\n",
       "      <td>1</td>\n",
       "      <td>M SEALS UK LIMITED</td>\n",
       "      <td>01470514</td>\n",
       "      <td>ENGLAND</td>\n",
       "      <td>LONDON</td>\n",
       "      <td>46900</td>\n",
       "      <td>3491</td>\n",
       "      <td>1</td>\n",
       "    </tr>\n",
       "  </tbody>\n",
       "</table>\n",
       "</div>"
      ],
      "text/plain": [
       "            CompanyName CompanyNumber RegAddress.Country RegAddress.Region  \\\n",
       "0  ODHAMS PRESS LIMITED      01470445            ENGLAND            LONDON   \n",
       "1    M SEALS UK LIMITED      01470514            ENGLAND            LONDON   \n",
       "\n",
       "    Sics  Tenure  Event  \n",
       "0  99999   13979      1  \n",
       "1  46900    3491      1  "
      ]
     },
     "execution_count": 3,
     "metadata": {},
     "output_type": "execute_result"
    }
   ],
   "source": [
    "sorig = pd.read_csv('loan_1st_by_sic_new.csv', dtype={'CompanyNumber': str, 'Sics': str}, index_col=0)\n",
    "\n",
    "print(sorig.shape)\n",
    "sorig.head(2)"
   ]
  },
  {
   "cell_type": "code",
   "execution_count": 15,
   "metadata": {},
   "outputs": [
    {
     "name": "stdout",
     "output_type": "stream",
     "text": [
      "(731, 2)\n"
     ]
    },
    {
     "data": {
      "text/html": [
       "<div>\n",
       "<style scoped>\n",
       "    .dataframe tbody tr th:only-of-type {\n",
       "        vertical-align: middle;\n",
       "    }\n",
       "\n",
       "    .dataframe tbody tr th {\n",
       "        vertical-align: top;\n",
       "    }\n",
       "\n",
       "    .dataframe thead th {\n",
       "        text-align: right;\n",
       "    }\n",
       "</style>\n",
       "<table border=\"1\" class=\"dataframe\">\n",
       "  <thead>\n",
       "    <tr style=\"text-align: right;\">\n",
       "      <th></th>\n",
       "      <th>SIC Code</th>\n",
       "      <th>Description</th>\n",
       "    </tr>\n",
       "  </thead>\n",
       "  <tbody>\n",
       "    <tr>\n",
       "      <td>0</td>\n",
       "      <td>01110</td>\n",
       "      <td>Growing of cereals (except rice), leguminous c...</td>\n",
       "    </tr>\n",
       "    <tr>\n",
       "      <td>1</td>\n",
       "      <td>01120</td>\n",
       "      <td>Growing of rice</td>\n",
       "    </tr>\n",
       "  </tbody>\n",
       "</table>\n",
       "</div>"
      ],
      "text/plain": [
       "  SIC Code                                        Description\n",
       "0    01110  Growing of cereals (except rice), leguminous c...\n",
       "1    01120                                    Growing of rice"
      ]
     },
     "execution_count": 15,
     "metadata": {},
     "output_type": "execute_result"
    }
   ],
   "source": [
    "dfsic = pd.read_csv('SIC07.csv', header=0, dtype=str)\n",
    "\n",
    "print(dfsic.shape)\n",
    "dfsic.head(2)"
   ]
  },
  {
   "cell_type": "code",
   "execution_count": 5,
   "metadata": {},
   "outputs": [
    {
     "data": {
      "text/plain": [
       "(1183685, 7)"
      ]
     },
     "execution_count": 5,
     "metadata": {},
     "output_type": "execute_result"
    }
   ],
   "source": [
    "# London data to start\n",
    "ledit = sorig.copy()\n",
    "\n",
    "ledit = ledit[ledit['RegAddress.Region'] == 'LONDON']\n",
    "\n",
    "ledit.shape"
   ]
  },
  {
   "cell_type": "markdown",
   "metadata": {},
   "source": [
    "## SA Test"
   ]
  },
  {
   "cell_type": "code",
   "execution_count": 6,
   "metadata": {},
   "outputs": [],
   "source": [
    "kmf = KaplanMeierFitter()"
   ]
  },
  {
   "cell_type": "code",
   "execution_count": 8,
   "metadata": {},
   "outputs": [
    {
     "name": "stdout",
     "output_type": "stream",
     "text": [
      "inf\n"
     ]
    },
    {
     "data": {
      "text/plain": [
       "<matplotlib.axes._subplots.AxesSubplot at 0x27313ad89b0>"
      ]
     },
     "execution_count": 8,
     "metadata": {},
     "output_type": "execute_result"
    },
    {
     "data": {
      "image/png": "[encoded data removed]",
      "text/plain": [
       "<Figure size 432x288 with 1 Axes>"
      ]
     },
     "metadata": {
      "needs_background": "light"
     },
     "output_type": "display_data"
    }
   ],
   "source": [
    "kmf.fit(ledit.Tenure, ledit.Event, label='Kaplan Meier Estimate')\n",
    "print(kmf.median_survival_time_)\n",
    "kmf.plot(ci_show=False)"
   ]
  },
  {
   "cell_type": "code",
   "execution_count": 10,
   "metadata": {},
   "outputs": [],
   "source": [
    "T = ledit.Tenure\n",
    "E = ledit.Event\n",
    "groups = ledit.Sics\n",
    "type(groups)\n",
    "chemists = (groups.str.contains('47730'))\n",
    "dentists = (groups.str.contains('86230'))"
   ]
  },
  {
   "cell_type": "code",
   "execution_count": 12,
   "metadata": {},
   "outputs": [
    {
     "name": "stdout",
     "output_type": "stream",
     "text": [
      "Dentist median SA: 8390.0\n",
      "Chemist median SA: 2480.0\n"
     ]
    },
    {
     "data": {
      "text/plain": [
       "<matplotlib.axes._subplots.AxesSubplot at 0x2731330efd0>"
      ]
     },
     "execution_count": 12,
     "metadata": {},
     "output_type": "execute_result"
    },
    {
     "data": {
      "image/png": "[encoded data removed]",
      "text/plain": [
       "<Figure size 432x288 with 1 Axes>"
      ]
     },
     "metadata": {
      "needs_background": "light"
     },
     "output_type": "display_data"
    }
   ],
   "source": [
    "kmf1 = KaplanMeierFitter()\n",
    "\n",
    "## fit the model for 1st cohort\n",
    "kmf1.fit(T[dentists], E[dentists], label='Dentists')\n",
    "print(f'Dentist median SA: {kmf1.median_survival_time_}')\n",
    "a1 = kmf1.plot(loc=slice(0, 730))\n",
    "\n",
    "## fit the model for 2nd cohort\n",
    "kmf1.fit(T[chemists], E[chemists], label='Chemists')\n",
    "print(f'Chemist median SA: {kmf1.median_survival_time_}')\n",
    "kmf1.plot(ax=a1, loc=slice(0, 730))"
   ]
  },
  {
   "cell_type": "markdown",
   "metadata": {},
   "source": [
    "## Iterated Thru Sectors"
   ]
  },
  {
   "cell_type": "code",
   "execution_count": 77,
   "metadata": {},
   "outputs": [
    {
     "name": "stdout",
     "output_type": "stream",
     "text": [
      "(731, 4)\n"
     ]
    },
    {
     "data": {
      "text/html": [
       "<div>\n",
       "<style scoped>\n",
       "    .dataframe tbody tr th:only-of-type {\n",
       "        vertical-align: middle;\n",
       "    }\n",
       "\n",
       "    .dataframe tbody tr th {\n",
       "        vertical-align: top;\n",
       "    }\n",
       "\n",
       "    .dataframe thead th {\n",
       "        text-align: right;\n",
       "    }\n",
       "</style>\n",
       "<table border=\"1\" class=\"dataframe\">\n",
       "  <thead>\n",
       "    <tr style=\"text-align: right;\">\n",
       "      <th></th>\n",
       "      <th>Code</th>\n",
       "      <th>Desc</th>\n",
       "      <th>MedDays</th>\n",
       "      <th>Num</th>\n",
       "    </tr>\n",
       "  </thead>\n",
       "  <tbody>\n",
       "    <tr>\n",
       "      <td>0</td>\n",
       "      <td>01110</td>\n",
       "      <td>Growing of cereals (except rice), leguminous c...</td>\n",
       "      <td>inf</td>\n",
       "      <td>151</td>\n",
       "    </tr>\n",
       "    <tr>\n",
       "      <td>1</td>\n",
       "      <td>01120</td>\n",
       "      <td>Growing of rice</td>\n",
       "      <td>inf</td>\n",
       "      <td>33</td>\n",
       "    </tr>\n",
       "  </tbody>\n",
       "</table>\n",
       "</div>"
      ],
      "text/plain": [
       "    Code                                               Desc MedDays  Num\n",
       "0  01110  Growing of cereals (except rice), leguminous c...     inf  151\n",
       "1  01120                                    Growing of rice     inf   33"
      ]
     },
     "execution_count": 77,
     "metadata": {},
     "output_type": "execute_result"
    }
   ],
   "source": [
    "T = ledit.Tenure\n",
    "E = ledit.Event\n",
    "groups = ledit.Sics\n",
    "\n",
    "dfrank = pd.DataFrame(columns=['Code', 'Desc', 'MedDays', 'Num'], index=range(len(dfsic)))\n",
    "\n",
    "for index, row in dfsic.iterrows():\n",
    "    group = (groups.str.contains(row.loc['SIC Code']))\n",
    "    kmf = KaplanMeierFitter()\n",
    "    kmf.fit(T[group], E[group])\n",
    "    \n",
    "    dfrank.loc[index].Code = row.loc['SIC Code']\n",
    "    dfrank.loc[index].Desc = row.loc['Description']\n",
    "    dfrank.loc[index].MedDays = kmf.median_survival_time_\n",
    "    dfrank.loc[index].Num = group.sum()\n",
    "\n",
    "print(dfrank.shape)\n",
    "dfrank.head(2)"
   ]
  },
  {
   "cell_type": "code",
   "execution_count": 79,
   "metadata": {},
   "outputs": [
    {
     "name": "stdout",
     "output_type": "stream",
     "text": [
      "(155, 5)\n"
     ]
    },
    {
     "data": {
      "text/html": [
       "<div>\n",
       "<style scoped>\n",
       "    .dataframe tbody tr th:only-of-type {\n",
       "        vertical-align: middle;\n",
       "    }\n",
       "\n",
       "    .dataframe tbody tr th {\n",
       "        vertical-align: top;\n",
       "    }\n",
       "\n",
       "    .dataframe thead th {\n",
       "        text-align: right;\n",
       "    }\n",
       "</style>\n",
       "<table border=\"1\" class=\"dataframe\">\n",
       "  <thead>\n",
       "    <tr style=\"text-align: right;\">\n",
       "      <th></th>\n",
       "      <th>Code</th>\n",
       "      <th>Desc</th>\n",
       "      <th>MedDays</th>\n",
       "      <th>MedYears</th>\n",
       "      <th>Num</th>\n",
       "    </tr>\n",
       "  </thead>\n",
       "  <tbody>\n",
       "    <tr>\n",
       "      <td>51</td>\n",
       "      <td>08920</td>\n",
       "      <td>Extraction of peat</td>\n",
       "      <td>83</td>\n",
       "      <td>0.23</td>\n",
       "      <td>2</td>\n",
       "    </tr>\n",
       "    <tr>\n",
       "      <td>562</td>\n",
       "      <td>65201</td>\n",
       "      <td>Life reinsurance</td>\n",
       "      <td>119</td>\n",
       "      <td>0.33</td>\n",
       "      <td>676</td>\n",
       "    </tr>\n",
       "    <tr>\n",
       "      <td>563</td>\n",
       "      <td>65202</td>\n",
       "      <td>Non-life reinsurance</td>\n",
       "      <td>121</td>\n",
       "      <td>0.33</td>\n",
       "      <td>1454</td>\n",
       "    </tr>\n",
       "    <tr>\n",
       "      <td>271</td>\n",
       "      <td>28922</td>\n",
       "      <td>Manufacture of earthmoving equipment</td>\n",
       "      <td>135</td>\n",
       "      <td>0.37</td>\n",
       "      <td>4</td>\n",
       "    </tr>\n",
       "    <tr>\n",
       "      <td>560</td>\n",
       "      <td>65110</td>\n",
       "      <td>Life insurance</td>\n",
       "      <td>142</td>\n",
       "      <td>0.39</td>\n",
       "      <td>1039</td>\n",
       "    </tr>\n",
       "  </tbody>\n",
       "</table>\n",
       "</div>"
      ],
      "text/plain": [
       "      Code                                  Desc  MedDays  MedYears   Num\n",
       "51   08920                    Extraction of peat       83      0.23     2\n",
       "562  65201                      Life reinsurance      119      0.33   676\n",
       "563  65202                  Non-life reinsurance      121      0.33  1454\n",
       "271  28922  Manufacture of earthmoving equipment      135      0.37     4\n",
       "560  65110                        Life insurance      142      0.39  1039"
      ]
     },
     "execution_count": 79,
     "metadata": {},
     "output_type": "execute_result"
    }
   ],
   "source": [
    "dfyes = dfrank.copy()\n",
    "\n",
    "dfyes.MedDays.replace(np.inf, np.nan, inplace=True)\n",
    "dfyes.dropna(inplace=True)\n",
    "\n",
    "dfyes = dfyes.astype({'MedDays': 'int32'})\n",
    "dfyes['MedYears'] = round(dfyes.MedDays/ 365, 2)\n",
    "\n",
    "dfyes = dfyes[['Code', 'Desc', 'MedDays', 'MedYears', 'Num']]\n",
    "\n",
    "dfyes.sort_values(by='MedDays', inplace=True)\n",
    "\n",
    "print(dfyes.shape)\n",
    "dfyes.head(5)"
   ]
  },
  {
   "cell_type": "code",
   "execution_count": 80,
   "metadata": {},
   "outputs": [],
   "source": [
    "# dfyes.to_csv('London_Sic_Median_SA.csv')"
   ]
  },
  {
   "cell_type": "markdown",
   "metadata": {},
   "source": [
    "## Further Test"
   ]
  },
  {
   "cell_type": "code",
   "execution_count": 83,
   "metadata": {},
   "outputs": [
    {
     "data": {
      "text/plain": [
       "ENGLAND             3904235\n",
       "SCOTLAND             223433\n",
       "WALES                121546\n",
       "NORTHERN IRELAND      62490\n",
       "UNITED KINGDOM         7853\n",
       "Name: RegAddress.Country, dtype: int64"
      ]
     },
     "execution_count": 83,
     "metadata": {},
     "output_type": "execute_result"
    }
   ],
   "source": [
    "sorig['RegAddress.Country'].value_counts()[:5]"
   ]
  },
  {
   "cell_type": "code",
   "execution_count": 84,
   "metadata": {},
   "outputs": [
    {
     "data": {
      "text/plain": [
       "LONDON                      1183685\n",
       "SOUTH EAST                   628748\n",
       "NORTH WEST                   435997\n",
       "EAST OF ENGLAND              406509\n",
       "WEST MIDLANDS                338416\n",
       "SOUTH WEST                   304835\n",
       "YORKSHIRE AND THE HUMBER     260369\n",
       "EAST MIDLANDS                244561\n",
       "NORTH EAST                    95505\n",
       "Name: RegAddress.Region, dtype: int64"
      ]
     },
     "execution_count": 84,
     "metadata": {},
     "output_type": "execute_result"
    }
   ],
   "source": [
    "sorig['RegAddress.Region'].value_counts()"
   ]
  },
  {
   "cell_type": "code",
   "execution_count": 103,
   "metadata": {},
   "outputs": [
    {
     "name": "stdout",
     "output_type": "stream",
     "text": [
      "(4240, 7)\n"
     ]
    },
    {
     "data": {
      "text/plain": [
       "<matplotlib.axes._subplots.AxesSubplot at 0x273a0946b70>"
      ]
     },
     "execution_count": 103,
     "metadata": {},
     "output_type": "execute_result"
    },
    {
     "data": {
      "image/png": "[encoded data removed]",
      "text/plain": [
       "<Figure size 432x288 with 1 Axes>"
      ]
     },
     "metadata": {
      "needs_background": "light"
     },
     "output_type": "display_data"
    }
   ],
   "source": [
    "chem1 = sorig[sorig.Sics.str.contains('47730')]\n",
    "print(chem1.shape)\n",
    "sns.distplot(chem1.Tenure/ 365, bins=100)"
   ]
  },
  {
   "cell_type": "code",
   "execution_count": 104,
   "metadata": {},
   "outputs": [
    {
     "name": "stdout",
     "output_type": "stream",
     "text": [
      "(4207, 7)\n"
     ]
    },
    {
     "data": {
      "text/plain": [
       "<matplotlib.axes._subplots.AxesSubplot at 0x273a0af2630>"
      ]
     },
     "execution_count": 104,
     "metadata": {},
     "output_type": "execute_result"
    },
    {
     "data": {
      "image/png": "[encoded data removed]",
      "text/plain": [
       "<Figure size 432x288 with 1 Axes>"
      ]
     },
     "metadata": {
      "needs_background": "light"
     },
     "output_type": "display_data"
    }
   ],
   "source": [
    "chem2 = sorig[sorig.Sics.str.contains('47730')]\n",
    "chem2 = chem2[~chem2.Sics.str.contains('68100|68201|68202|68209|68310|68320|41100|41201|41202')]\n",
    "print(chem2.shape)\n",
    "sns.distplot(chem2.Tenure/ 365, bins=200)"
   ]
  },
  {
   "cell_type": "code",
   "execution_count": 106,
   "metadata": {},
   "outputs": [
    {
     "name": "stdout",
     "output_type": "stream",
     "text": [
      "(31702, 7)\n"
     ]
    },
    {
     "data": {
      "text/plain": [
       "<matplotlib.axes._subplots.AxesSubplot at 0x273a102bac8>"
      ]
     },
     "execution_count": 106,
     "metadata": {},
     "output_type": "execute_result"
    },
    {
     "data": {
      "image/png": "[encoded data removed]",
      "text/plain": [
       "<Figure size 432x288 with 1 Axes>"
      ]
     },
     "metadata": {
      "needs_background": "light"
     },
     "output_type": "display_data"
    }
   ],
   "source": [
    "bar1 = sorig[sorig.Sics.str.contains('56302')]\n",
    "print(bar1.shape)\n",
    "sns.distplot(bar1.Tenure/ 365, bins=100)"
   ]
  },
  {
   "cell_type": "code",
   "execution_count": 107,
   "metadata": {},
   "outputs": [
    {
     "name": "stdout",
     "output_type": "stream",
     "text": [
      "(31472, 7)\n"
     ]
    },
    {
     "data": {
      "text/plain": [
       "<matplotlib.axes._subplots.AxesSubplot at 0x273a0ec1b38>"
      ]
     },
     "execution_count": 107,
     "metadata": {},
     "output_type": "execute_result"
    },
    {
     "data": {
      "image/png": "[encoded data removed]",
      "text/plain": [
       "<Figure size 432x288 with 1 Axes>"
      ]
     },
     "metadata": {
      "needs_background": "light"
     },
     "output_type": "display_data"
    }
   ],
   "source": [
    "bar2 = sorig[sorig.Sics.str.contains('56302')]\n",
    "bar2 = bar2[~bar2.Sics.str.contains('68100|68201|68202|68209|68310|68320|41100|41201|41202')]\n",
    "print(bar2.shape)\n",
    "sns.distplot(bar2.Tenure/ 365, bins=100)"
   ]
  }
 ],
 "metadata": {
  "kernelspec": {
   "display_name": "Python 3",
   "language": "python",
   "name": "python3"
  },
  "language_info": {
   "codemirror_mode": {
    "name": "ipython",
    "version": 3
   },
   "file_extension": ".py",
   "mimetype": "text/x-python",
   "name": "python",
   "nbconvert_exporter": "python",
   "pygments_lexer": "ipython3",
   "version": "3.7.3"
  }
 },
 "nbformat": 4,
 "nbformat_minor": 2
}
