{
 "cells": [
  {
   "cell_type": "markdown",
   "id": "93f1e803",
   "metadata": {},
   "source": [
    "## Purpose of script:\n",
    "\n",
    "#### Try out synthetic data generation, useful for testing code and models\n",
    "#### Tutorial url: https://github.com/joke2k/faker"
   ]
  },
  {
   "cell_type": "code",
   "execution_count": 16,
   "id": "a8132015",
   "metadata": {},
   "outputs": [],
   "source": [
    "from faker import Faker\n",
    "from faker.providers import DynamicProvider\n",
    "import pandas as pd"
   ]
  },
  {
   "cell_type": "code",
   "execution_count": 2,
   "id": "112cc6fc",
   "metadata": {},
   "outputs": [],
   "source": [
    "fake = Faker()"
   ]
  },
  {
   "cell_type": "code",
   "execution_count": 3,
   "id": "b0bcafb8",
   "metadata": {},
   "outputs": [
    {
     "data": {
      "text/plain": [
       "'Gregory Thompson'"
      ]
     },
     "execution_count": 3,
     "metadata": {},
     "output_type": "execute_result"
    }
   ],
   "source": [
    "fake.name()"
   ]
  },
  {
   "cell_type": "code",
   "execution_count": 4,
   "id": "d1fbb4ec",
   "metadata": {},
   "outputs": [
    {
     "data": {
      "text/plain": [
       "'38144 Ramirez Stream\\nHayesport, NM 96137'"
      ]
     },
     "execution_count": 4,
     "metadata": {},
     "output_type": "execute_result"
    }
   ],
   "source": [
    "fake.address()"
   ]
  },
  {
   "cell_type": "code",
   "execution_count": 5,
   "id": "4e0dcdc7",
   "metadata": {},
   "outputs": [
    {
     "data": {
      "text/plain": [
       "'Than beautiful star born rate stand. Six floor may television score true. Shoulder himself part smal'"
      ]
     },
     "execution_count": 5,
     "metadata": {},
     "output_type": "execute_result"
    }
   ],
   "source": [
    "fake.text()[:100]"
   ]
  },
  {
   "cell_type": "code",
   "execution_count": 6,
   "id": "bf951892",
   "metadata": {},
   "outputs": [
    {
     "name": "stdout",
     "output_type": "stream",
     "text": [
      "Irma Innocenti-Giannetti\n",
      "吉田 桃子\n",
      "加藤 桃子\n",
      "佐藤 涼平\n",
      "Guido Cassarà\n",
      "Alina Verdi\n",
      "松本 香織\n",
      "Dustin Pham\n",
      "Richard Tucker\n",
      "Elijah Blake\n"
     ]
    }
   ],
   "source": [
    "fake = Faker(['it_IT', 'en_US', 'ja_JP'])\n",
    "for _ in range(10):\n",
    "    print(fake.name())"
   ]
  },
  {
   "cell_type": "code",
   "execution_count": 8,
   "id": "3887fb00",
   "metadata": {},
   "outputs": [
    {
     "name": "stdout",
     "output_type": "stream",
     "text": [
      "Bruderstraße 701\n",
      "06061 Pegnitz\n",
      "\n",
      "Ditschlerinallee 11\n",
      "08757 Mettmann\n",
      "\n",
      "Christophallee 2/5\n",
      "82155 Ueckermünde\n",
      "\n",
      "Imke-Weitzel-Gasse 309\n",
      "23967 Hammelburg\n",
      "\n",
      "Kreuselweg 2/1\n",
      "87199 Starnberg\n",
      "\n"
     ]
    }
   ],
   "source": [
    "fake = Faker(['de_DE'])\n",
    "for _ in range(5):\n",
    "    print(fake.address() + '\\n')"
   ]
  },
  {
   "cell_type": "code",
   "execution_count": 15,
   "id": "8d61dadb",
   "metadata": {},
   "outputs": [
    {
     "data": {
      "text/html": [
       "<div>\n",
       "<style scoped>\n",
       "    .dataframe tbody tr th:only-of-type {\n",
       "        vertical-align: middle;\n",
       "    }\n",
       "\n",
       "    .dataframe tbody tr th {\n",
       "        vertical-align: top;\n",
       "    }\n",
       "\n",
       "    .dataframe thead th {\n",
       "        text-align: right;\n",
       "    }\n",
       "</style>\n",
       "<table border=\"1\" class=\"dataframe\">\n",
       "  <thead>\n",
       "    <tr style=\"text-align: right;\">\n",
       "      <th></th>\n",
       "      <th>Name</th>\n",
       "      <th>SSN</th>\n",
       "      <th>Birthdate</th>\n",
       "    </tr>\n",
       "  </thead>\n",
       "  <tbody>\n",
       "    <tr>\n",
       "      <th>0</th>\n",
       "      <td>Mary Garcia</td>\n",
       "      <td>623-02-3921</td>\n",
       "      <td>1984-06-19</td>\n",
       "    </tr>\n",
       "    <tr>\n",
       "      <th>1</th>\n",
       "      <td>Julian Black</td>\n",
       "      <td>668-19-7925</td>\n",
       "      <td>2005-02-07</td>\n",
       "    </tr>\n",
       "    <tr>\n",
       "      <th>2</th>\n",
       "      <td>Rebecca Haley</td>\n",
       "      <td>111-33-8906</td>\n",
       "      <td>2002-06-19</td>\n",
       "    </tr>\n",
       "    <tr>\n",
       "      <th>3</th>\n",
       "      <td>David May</td>\n",
       "      <td>013-26-8271</td>\n",
       "      <td>2009-02-03</td>\n",
       "    </tr>\n",
       "    <tr>\n",
       "      <th>4</th>\n",
       "      <td>Kristen Ryan</td>\n",
       "      <td>564-97-3137</td>\n",
       "      <td>1971-08-29</td>\n",
       "    </tr>\n",
       "  </tbody>\n",
       "</table>\n",
       "</div>"
      ],
      "text/plain": [
       "            Name          SSN   Birthdate\n",
       "0    Mary Garcia  623-02-3921  1984-06-19\n",
       "1   Julian Black  668-19-7925  2005-02-07\n",
       "2  Rebecca Haley  111-33-8906  2002-06-19\n",
       "3      David May  013-26-8271  2009-02-03\n",
       "4   Kristen Ryan  564-97-3137  1971-08-29"
      ]
     },
     "execution_count": 15,
     "metadata": {},
     "output_type": "execute_result"
    }
   ],
   "source": [
    "df = pd.DataFrame()\n",
    "fake = Faker(['en_US'])\n",
    "\n",
    "f_name = []\n",
    "f_ssn = []\n",
    "f_birth = []\n",
    "\n",
    "for _ in range(5):\n",
    "    f_name.append(fake.name())\n",
    "    f_ssn.append(fake.ssn())\n",
    "    f_birth.append(fake.date())\n",
    "    \n",
    "df['Name'] = f_name\n",
    "df['SSN'] = f_ssn\n",
    "df['Birthdate'] = f_birth\n",
    "\n",
    "df"
   ]
  },
  {
   "cell_type": "code",
   "execution_count": 17,
   "id": "f63a330b",
   "metadata": {},
   "outputs": [
    {
     "data": {
      "text/plain": [
       "'doctor'"
      ]
     },
     "execution_count": 17,
     "metadata": {},
     "output_type": "execute_result"
    }
   ],
   "source": [
    "# create your own provider\n",
    "medical_professions_provider = DynamicProvider(\n",
    "     provider_name=\"medical_profession\",\n",
    "     elements=[\"dr.\", \"doctor\", \"nurse\", \"surgeon\", \"clerk\"],\n",
    ")\n",
    "\n",
    "fake = Faker()\n",
    "\n",
    "fake.add_provider(medical_professions_provider)\n",
    "\n",
    "fake.medical_profession()"
   ]
  },
  {
   "cell_type": "code",
   "execution_count": null,
   "id": "00304836",
   "metadata": {},
   "outputs": [],
   "source": []
  }
 ],
 "metadata": {
  "kernelspec": {
   "display_name": "Python 3 (ipykernel)",
   "language": "python",
   "name": "python3"
  },
  "language_info": {
   "codemirror_mode": {
    "name": "ipython",
    "version": 3
   },
   "file_extension": ".py",
   "mimetype": "text/x-python",
   "name": "python",
   "nbconvert_exporter": "python",
   "pygments_lexer": "ipython3",
   "version": "3.8.13"
  }
 },
 "nbformat": 4,
 "nbformat_minor": 5
}
