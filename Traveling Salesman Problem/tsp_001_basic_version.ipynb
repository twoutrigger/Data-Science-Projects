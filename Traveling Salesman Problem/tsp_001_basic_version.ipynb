{
 "cells": [
  {
   "cell_type": "markdown",
   "id": "311fb87e",
   "metadata": {},
   "source": [
    "## Description\n",
    "\n",
    "#### Basic implementation of the traveling salesman problem\n",
    "#### Code from url: https://pypi.org/project/python-tsp/"
   ]
  },
  {
   "cell_type": "code",
   "execution_count": 8,
   "id": "1c83317b",
   "metadata": {},
   "outputs": [],
   "source": [
    "import numpy as np\n",
    "from python_tsp.exact import solve_tsp_dynamic_programming\n",
    "from python_tsp.heuristics import solve_tsp_simulated_annealing\n",
    "from python_tsp.distances import great_circle_distance_matrix"
   ]
  },
  {
   "cell_type": "code",
   "execution_count": 4,
   "id": "fdca32e9",
   "metadata": {},
   "outputs": [
    {
     "name": "stdout",
     "output_type": "stream",
     "text": [
      "[0, 1, 3, 2]\n",
      "17\n"
     ]
    }
   ],
   "source": [
    "distance_matrix = np.array([\n",
    "    [0,  5, 4, 10],\n",
    "    [5,  0, 8,  5],\n",
    "    [4,  8, 0,  3],\n",
    "    [10, 5, 3,  0]\n",
    "])\n",
    "permutation, distance = solve_tsp_dynamic_programming(distance_matrix)\n",
    "\n",
    "print(permutation)\n",
    "print(distance)"
   ]
  },
  {
   "cell_type": "markdown",
   "id": "ddd58623",
   "metadata": {},
   "source": [
    "#### Explanation:\n",
    "\n",
    "#### The solution will be [0, 1, 3, 2], with total distance 17. Notice it is always a closed path, so after node 2 we go back to 0."
   ]
  },
  {
   "cell_type": "code",
   "execution_count": 7,
   "id": "d99b1ed1",
   "metadata": {},
   "outputs": [
    {
     "name": "stdout",
     "output_type": "stream",
     "text": [
      "[0, 2, 3, 1]\n",
      "17\n"
     ]
    }
   ],
   "source": [
    "permutation, distance = solve_tsp_simulated_annealing(distance_matrix)\n",
    "\n",
    "print(permutation)\n",
    "print(distance)"
   ]
  },
  {
   "cell_type": "markdown",
   "id": "c7363661",
   "metadata": {},
   "source": [
    "#### Explanation:\n",
    "#### Keep in mind that, being a metaheuristic, the solution may vary from execution to execution, and there is no guarantee of optimality. However, it may be a way faster alternative in larger instances."
   ]
  },
  {
   "cell_type": "code",
   "execution_count": 9,
   "id": "012cf344",
   "metadata": {},
   "outputs": [
    {
     "name": "stdout",
     "output_type": "stream",
     "text": [
      "[0, 2, 3, 1]\n",
      "225002.12086296373\n"
     ]
    }
   ],
   "source": [
    "sources = np.array([\n",
    "    [ 40.73024833, -73.79440675],\n",
    "    [ 41.47362495, -73.92783272],\n",
    "    [ 41.26591   , -73.21026228],\n",
    "    [ 41.3249908 , -73.507788  ]\n",
    "])\n",
    "distance_matrix = great_circle_distance_matrix(sources)\n",
    "\n",
    "permutation, distance = solve_tsp_dynamic_programming(distance_matrix)\n",
    "\n",
    "print(permutation)\n",
    "print(distance)"
   ]
  },
  {
   "cell_type": "markdown",
   "id": "aae45e1b",
   "metadata": {},
   "source": [
    "#### Explanation:\n",
    "\n",
    "#### The previous examples assumed you already had a distance matrix. If that is not the case, the distances module has prepared some functions to compute an Euclidean distance matrix or a Great Circle Distance.\n",
    "\n",
    "#### For example, if you have an array where each row has the latitude and longitude of a point.\n",
    "\n",
    "#### Wiki link to great-circle distance here: https://en.wikipedia.org/wiki/Great-circle_distance"
   ]
  },
  {
   "cell_type": "code",
   "execution_count": null,
   "id": "f86baefe",
   "metadata": {},
   "outputs": [],
   "source": []
  }
 ],
 "metadata": {
  "kernelspec": {
   "display_name": "Python 3 (ipykernel)",
   "language": "python",
   "name": "python3"
  },
  "language_info": {
   "codemirror_mode": {
    "name": "ipython",
    "version": 3
   },
   "file_extension": ".py",
   "mimetype": "text/x-python",
   "name": "python",
   "nbconvert_exporter": "python",
   "pygments_lexer": "ipython3",
   "version": "3.8.13"
  }
 },
 "nbformat": 4,
 "nbformat_minor": 5
}
