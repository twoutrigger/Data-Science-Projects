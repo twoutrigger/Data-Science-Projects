{
 "cells": [
  {
   "cell_type": "code",
   "execution_count": 13,
   "id": "5428db21",
   "metadata": {},
   "outputs": [],
   "source": [
    "import os\n",
    "from twilio.rest import Client"
   ]
  },
  {
   "cell_type": "markdown",
   "id": "e08d6eb2",
   "metadata": {},
   "source": [
    "## Purpose of script:\n",
    "\n",
    "#### Boilerplate code for sending SMS via the Twilio API"
   ]
  },
  {
   "cell_type": "code",
   "execution_count": null,
   "id": "3bf4a99a",
   "metadata": {},
   "outputs": [],
   "source": [
    "# tutorial references:\n",
    "# https://www.geeksforgeeks.org/python-send-sms-using-twilio/"
   ]
  },
  {
   "cell_type": "code",
   "execution_count": 11,
   "id": "540fd7ac",
   "metadata": {},
   "outputs": [],
   "source": [
    "# Need to set environment variables to run code:\n",
    "# TWILIO_NUMBER\n",
    "# AUTH_TOKEN\n",
    "# TWILIO_NUMBER\n",
    "# TO_NUMBER"
   ]
  },
  {
   "cell_type": "code",
   "execution_count": 30,
   "id": "b7c779c6",
   "metadata": {},
   "outputs": [
    {
     "name": "stdout",
     "output_type": "stream",
     "text": [
      "ACCOUNT_SID is set\n",
      "AUTH_TOKEN is set\n",
      "TWILIO_NUMBER is set\n",
      "TO_NUMBER is set\n"
     ]
    }
   ],
   "source": [
    "ACCOUNT_SID = os.getenv('ACCOUNT_SID')\n",
    "AUTH_TOKEN = os.getenv('AUTH_TOKEN')\n",
    "TWILIO_NUMBER = os.getenv('TWILIO_NUMBER')\n",
    "TO_NUMBER = os.getenv('TO_NUMBER')\n",
    "\n",
    "if \"ACCOUNT_SID\" in os.environ:\n",
    "    print('ACCOUNT_SID is set')\n",
    "if \"AUTH_TOKEN\" in os.environ:\n",
    "    print('AUTH_TOKEN is set')\n",
    "if \"TWILIO_NUMBER\" in os.environ:\n",
    "    print('TWILIO_NUMBER is set')\n",
    "if \"TO_NUMBER\" in os.environ:\n",
    "    print('TO_NUMBER is set')"
   ]
  },
  {
   "cell_type": "code",
   "execution_count": 31,
   "id": "86ad0961",
   "metadata": {},
   "outputs": [],
   "source": [
    "client = Client(ACCOUNT_SID, AUTH_TOKEN)"
   ]
  },
  {
   "cell_type": "code",
   "execution_count": 36,
   "id": "71f74452",
   "metadata": {},
   "outputs": [
    {
     "name": "stdout",
     "output_type": "stream",
     "text": [
      "SM3b2b240d6a5f41bf7378a287235cbfb6\n"
     ]
    }
   ],
   "source": [
    "message = client.messages.create(\n",
    "    from_=TWILIO_NUMBER,\n",
    "    to =TO_NUMBER,\n",
    "    body ='This is a test sms send via the Twilio API')\n",
    "\n",
    "print(message.sid)"
   ]
  },
  {
   "cell_type": "code",
   "execution_count": null,
   "id": "6264875b",
   "metadata": {},
   "outputs": [],
   "source": []
  }
 ],
 "metadata": {
  "kernelspec": {
   "display_name": "Python 3 (ipykernel)",
   "language": "python",
   "name": "python3"
  },
  "language_info": {
   "codemirror_mode": {
    "name": "ipython",
    "version": 3
   },
   "file_extension": ".py",
   "mimetype": "text/x-python",
   "name": "python",
   "nbconvert_exporter": "python",
   "pygments_lexer": "ipython3",
   "version": "3.8.13"
  }
 },
 "nbformat": 4,
 "nbformat_minor": 5
}
