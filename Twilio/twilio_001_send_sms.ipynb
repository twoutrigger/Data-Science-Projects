{
 "cells": [
  {
   "cell_type": "code",
   "execution_count": 13,
   "id": "9044f377",
   "metadata": {},
   "outputs": [],
   "source": [
    "import os\n",
    "from twilio.rest import Client"
   ]
  },
  {
   "cell_type": "markdown",
   "id": "43d566b9",
   "metadata": {},
   "source": [
    "## Purpose of script:\n",
    "\n",
    "#### Boilerplate code for sending SMS via the Twilio API"
   ]
  },
  {
   "cell_type": "code",
   "execution_count": 38,
   "id": "956381c1",
   "metadata": {},
   "outputs": [],
   "source": [
    "# tutorial references:\n",
    "# https://www.geeksforgeeks.org/python-send-sms-using-twilio/"
   ]
  },
  {
   "cell_type": "code",
   "execution_count": 39,
   "id": "b8c195f7",
   "metadata": {},
   "outputs": [],
   "source": [
    "# Need to set environment variables to run code:\n",
    "# TWILIO_NUMBER\n",
    "# AUTH_TOKEN\n",
    "# TWILIO_NUMBER\n",
    "# TO_NUMBER"
   ]
  },
  {
   "cell_type": "code",
   "execution_count": 40,
   "id": "bc8ac19e",
   "metadata": {},
   "outputs": [],
   "source": [
    "# Setting environment variables\n",
    "# os.environ['ACCOUNT_SID'] = ''\n",
    "# os.environ['AUTH_TOKEN'] = ''\n",
    "# os.environ['TWILIO_NUMBER'] = ''\n",
    "# os.environ['TO_NUMBER'] = ''"
   ]
  },
  {
   "cell_type": "code",
   "execution_count": 41,
   "id": "59d2e4dc",
   "metadata": {},
   "outputs": [
    {
     "name": "stdout",
     "output_type": "stream",
     "text": [
      "ACCOUNT_SID is set\n",
      "AUTH_TOKEN is set\n",
      "TWILIO_NUMBER is set\n",
      "TO_NUMBER is set\n"
     ]
    }
   ],
   "source": [
    "ACCOUNT_SID = os.getenv('ACCOUNT_SID')\n",
    "AUTH_TOKEN = os.getenv('AUTH_TOKEN')\n",
    "TWILIO_NUMBER = os.getenv('TWILIO_NUMBER')\n",
    "TO_NUMBER = os.getenv('TO_NUMBER')\n",
    "\n",
    "if \"ACCOUNT_SID\" in os.environ:\n",
    "    print('ACCOUNT_SID is set')\n",
    "if \"AUTH_TOKEN\" in os.environ:\n",
    "    print('AUTH_TOKEN is set')\n",
    "if \"TWILIO_NUMBER\" in os.environ:\n",
    "    print('TWILIO_NUMBER is set')\n",
    "if \"TO_NUMBER\" in os.environ:\n",
    "    print('TO_NUMBER is set')"
   ]
  },
  {
   "cell_type": "code",
   "execution_count": 42,
   "id": "e5177af2",
   "metadata": {},
   "outputs": [],
   "source": [
    "client = Client(ACCOUNT_SID, AUTH_TOKEN)"
   ]
  },
  {
   "cell_type": "code",
   "execution_count": 43,
   "id": "e30aa599",
   "metadata": {},
   "outputs": [
    {
     "name": "stdout",
     "output_type": "stream",
     "text": [
      "SM497a4a4c1c99296083a9a77a00b43b87\n"
     ]
    }
   ],
   "source": [
    "message = client.messages.create(\n",
    "    from_=TWILIO_NUMBER,\n",
    "    to =TO_NUMBER,\n",
    "    body ='This is a test sms sent via the Twilio API')\n",
    "\n",
    "print(message.sid)"
   ]
  },
  {
   "cell_type": "code",
   "execution_count": null,
   "id": "1f90d60b",
   "metadata": {},
   "outputs": [],
   "source": []
  }
 ],
 "metadata": {
  "kernelspec": {
   "display_name": "Python 3 (ipykernel)",
   "language": "python",
   "name": "python3"
  },
  "language_info": {
   "codemirror_mode": {
    "name": "ipython",
    "version": 3
   },
   "file_extension": ".py",
   "mimetype": "text/x-python",
   "name": "python",
   "nbconvert_exporter": "python",
   "pygments_lexer": "ipython3",
   "version": "3.8.13"
  }
 },
 "nbformat": 4,
 "nbformat_minor": 5
}
